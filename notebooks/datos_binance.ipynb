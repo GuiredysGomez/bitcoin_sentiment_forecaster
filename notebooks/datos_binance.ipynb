{
 "cells": [
  {
   "cell_type": "code",
   "execution_count": 1,
   "id": "f0b86026",
   "metadata": {},
   "outputs": [],
   "source": [
    "import pandas as pd\n",
    "import matplotlib.pyplot as plt"
   ]
  },
  {
   "cell_type": "markdown",
   "id": "4bd6e3a7",
   "metadata": {},
   "source": [
    "Lectura de archivos"
   ]
  },
  {
   "cell_type": "code",
   "execution_count": 2,
   "id": "8767d926",
   "metadata": {},
   "outputs": [],
   "source": [
    "tweets_df = pd.read_csv(\"../data/tweets_with_sentiment_cryptobert.csv\")\n",
    "tweets_df['Created At'] = pd.to_datetime(tweets_df['Created At'], errors='coerce')\n",
    "tweets_df['fecha'] = tweets_df['Created At'].dt.date\n",
    "\n",
    "price_df = pd.read_csv(\"../data/datos_mercado_binance.csv\")\n",
    "price_df['fecha'] = pd.to_datetime(price_df['fecha'], errors='coerce')"
   ]
  },
  {
   "cell_type": "code",
   "execution_count": 3,
   "id": "9bbbcb1f",
   "metadata": {},
   "outputs": [],
   "source": [
    "# We count by kind of feeling\n",
    "conteo_sentimientos = tweets_df.groupby(['fecha', 'Sentiment']).size().unstack(fill_value=0)\n",
    "\n",
    "# We recalculate totals and average\n",
    "conteo_sentimientos['numero_noticias'] = conteo_sentimientos.sum(axis=1)\n",
    "conteo_sentimientos['promedio_sentimiento'] = tweets_df.groupby('fecha')['Sentiment'].mean()"
   ]
  },
  {
   "cell_type": "markdown",
   "id": "d95c21c3",
   "metadata": {},
   "source": [
    "Transforma las columnas date en formato datetime.date"
   ]
  },
  {
   "cell_type": "code",
   "execution_count": 4,
   "id": "9d6007b5",
   "metadata": {},
   "outputs": [],
   "source": [
    "price_df['fecha'] = pd.to_datetime(price_df['fecha']).dt.date \n",
    "conteo_sentimientos = conteo_sentimientos.reset_index()  # si 'fecha' está en el índice\n",
    "conteo_sentimientos['fecha'] = pd.to_datetime(conteo_sentimientos['fecha']).dt.date"
   ]
  },
  {
   "cell_type": "markdown",
   "id": "bc86daf6",
   "metadata": {},
   "source": [
    "Realiza la fusión de los dos DataFrames (price_df y conteo_sentimientos) usando la columna fecha como clave\n",
    "\n"
   ]
  },
  {
   "cell_type": "code",
   "execution_count": 5,
   "id": "2df2ff20",
   "metadata": {},
   "outputs": [],
   "source": [
    "# We join by date\n",
    "df_final = price_df.merge(conteo_sentimientos, on='fecha', how='left')"
   ]
  },
  {
   "cell_type": "markdown",
   "id": "6c10434b",
   "metadata": {},
   "source": [
    "CALCULO MEDIA MOVIL CON DERIVADA Y TENDENCIA"
   ]
  },
  {
   "cell_type": "code",
   "execution_count": 6,
   "id": "4b9ec4fd",
   "metadata": {},
   "outputs": [],
   "source": [
    "\n",
    "# We added trend column\n",
    "window = 10\n",
    "df_final['media_movil_10d'] = df_final['precio_apertura'].rolling(window).mean()\n",
    "df_final['derivada_mm10'] = df_final['media_movil_10d'].diff()\n",
    "def clasificar_derivada(valor):\n",
    "    if pd.isna(valor):\n",
    "        return 0  \n",
    "    elif valor > 0:\n",
    "        return 1\n",
    "    elif valor < 0:\n",
    "        return -1\n",
    "    else:\n",
    "        return 0\n",
    "df_final['tendencia_categorizada'] = df_final['derivada_mm10'].apply(clasificar_derivada)\n"
   ]
  },
  {
   "cell_type": "markdown",
   "id": "e05dca54",
   "metadata": {},
   "source": [
    "📈 Indicador RSI (Relative Strength Index)\n",
    "\n",
    "📊 RSI toma valores entre 0 y 100:\n",
    "\n",
    "- (<30) podría indicar sobreventa.\n",
    "- (>70) podría indicar sobrecompra."
   ]
  },
  {
   "cell_type": "code",
   "execution_count": 13,
   "id": "dcbd7927",
   "metadata": {},
   "outputs": [],
   "source": [
    "def calcular_rsi(series, window=10):\n",
    "    delta = series.diff()\n",
    "    ganancias = delta.clip(lower=0)\n",
    "    perdidas = -delta.clip(upper=0)\n",
    "\n",
    "    media_ganancia = ganancias.rolling(window).mean()\n",
    "    media_perdida = perdidas.rolling(window).mean()\n",
    "\n",
    "    rs = media_ganancia / media_perdida\n",
    "    rsi = 100 - (100 / (1 + rs))\n",
    "    return rsi\n",
    "\n",
    "df_final['RSI_10'] = calcular_rsi(df_final['precio_apertura'])"
   ]
  },
  {
   "cell_type": "markdown",
   "id": "ebcb300f",
   "metadata": {},
   "source": [
    "🔁 Indicador MACD (Moving Average Convergence Divergence)\n"
   ]
  },
  {
   "cell_type": "code",
   "execution_count": 14,
   "id": "2751f8dd",
   "metadata": {},
   "outputs": [],
   "source": [
    "# EMA rápida y lenta\n",
    "ema_12 = df_final['precio_apertura'].ewm(span=12, adjust=False).mean()\n",
    "ema_26 = df_final['precio_apertura'].ewm(span=26, adjust=False).mean()\n",
    "\n",
    "# Línea MACD y señal\n",
    "df_final['MACD'] = ema_12 - ema_26\n",
    "df_final['MACD_signal'] = df_final['MACD'].ewm(span=9, adjust=False).mean()"
   ]
  },
  {
   "cell_type": "code",
   "execution_count": null,
   "id": "9ed3e13a",
   "metadata": {},
   "outputs": [],
   "source": [
    "# Selecting final columns\n",
    "df_csv = df_final[['fecha', 'precio_apertura','media_movil_10d', 'RSI_10', 'MACD_signal', 'tendencia_categorizada', 'numero_noticias', -1, 0, 1, 'promedio_sentimiento']]\n",
    "\n",
    "# We rename columns\n",
    "df_csv.columns = ['DATE', 'OPEN','MA','RSI','MACD', 'TREND', 'NEWS ISSUE', 'NEGATIVE', 'NEUTRAL', 'POSITIVE', 'AVERAGE NEWS']\n",
    "\n",
    "# We save CSV\n",
    "df_csv.to_csv('../data/analisis_completo.csv', index=False)"
   ]
  }
 ],
 "metadata": {
  "kernelspec": {
   "display_name": "Python 3 (ipykernel)",
   "language": "python",
   "name": "python3"
  },
  "language_info": {
   "codemirror_mode": {
    "name": "ipython",
    "version": 3
   },
   "file_extension": ".py",
   "mimetype": "text/x-python",
   "name": "python",
   "nbconvert_exporter": "python",
   "pygments_lexer": "ipython3",
   "version": "3.13.3"
  }
 },
 "nbformat": 4,
 "nbformat_minor": 5
}
