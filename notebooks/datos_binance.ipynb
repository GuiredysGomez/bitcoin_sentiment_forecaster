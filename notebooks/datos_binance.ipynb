{
 "cells": [
  {
   "cell_type": "code",
   "execution_count": 45,
   "id": "f0b86026",
   "metadata": {},
   "outputs": [],
   "source": [
    "import pandas as pd\n",
    "import matplotlib.pyplot as plt"
   ]
  },
  {
   "cell_type": "markdown",
   "id": "4bd6e3a7",
   "metadata": {},
   "source": [
    "Lectura de archivos"
   ]
  },
  {
   "cell_type": "code",
   "execution_count": 46,
   "id": "8767d926",
   "metadata": {},
   "outputs": [],
   "source": [
    "tweets_df = pd.read_csv(\"../data/tweets_with_sentiment_cryptobert.csv\")\n",
    "tweets_df['Created At'] = pd.to_datetime(tweets_df['Created At'], errors='coerce')\n",
    "tweets_df['fecha'] = tweets_df['Created At'].dt.date\n",
    "\n",
    "price_df = pd.read_csv(\"../data/datos_mercado_binance.csv\")\n",
    "price_df['fecha'] = pd.to_datetime(price_df['fecha'], errors='coerce')"
   ]
  },
  {
   "cell_type": "code",
   "execution_count": 47,
   "id": "9bbbcb1f",
   "metadata": {},
   "outputs": [],
   "source": [
    "# We count by kind of feeling\n",
    "conteo_sentimientos = tweets_df.groupby(['fecha', 'Sentiment']).size().unstack(fill_value=0)\n",
    "\n",
    "# We recalculate totals and average\n",
    "conteo_sentimientos['numero_noticias'] = conteo_sentimientos.sum(axis=1)\n",
    "conteo_sentimientos['promedio_sentimiento'] = tweets_df.groupby('fecha')['Sentiment'].mean()"
   ]
  },
  {
   "cell_type": "code",
   "execution_count": 48,
   "id": "4b9ec4fd",
   "metadata": {},
   "outputs": [],
   "source": [
    "# Ensure that both 'date' columns are of type datetime.date\n",
    "price_df['fecha'] = pd.to_datetime(price_df['fecha']).dt.date\n",
    "conteo_sentimientos = conteo_sentimientos.reset_index()  # si 'fecha' está en el índice\n",
    "conteo_sentimientos['fecha'] = pd.to_datetime(conteo_sentimientos['fecha']).dt.date\n",
    "\n",
    "# We join by date\n",
    "df_final = price_df.merge(conteo_sentimientos, on='fecha', how='left')\n",
    "\n",
    "# We added trend column\n",
    "window = 10\n",
    "df_final['media_movil_10d'] = df_final['precio_apertura'].rolling(window).mean()\n",
    "df_final['derivada_mm10'] = df_final['media_movil_10d'].diff()\n",
    "def clasificar_derivada(valor):\n",
    "    if pd.isna(valor):\n",
    "        return 0  \n",
    "    elif valor > 0:\n",
    "        return 1\n",
    "    elif valor < 0:\n",
    "        return -1\n",
    "    else:\n",
    "        return 0\n",
    "df_final['tendencia_categorizada'] = df_final['derivada_mm10'].apply(clasificar_derivada)\n"
   ]
  },
  {
   "cell_type": "code",
   "execution_count": 49,
   "id": "9ed3e13a",
   "metadata": {},
   "outputs": [],
   "source": [
    "# Selecting final columns\n",
    "df_csv = df_final[['fecha', 'precio_apertura', 'tendencia_categorizada', 'numero_noticias', -1, 0, 1, 'promedio_sentimiento']]\n",
    "\n",
    "# We rename columns\n",
    "df_csv.columns = ['DATE', 'OPEN', 'TREND', 'NEWS ISSUE', 'NEGATIVE', 'NEUTRAL', 'POSITIVE', 'AVERAGE NEWS']\n",
    "\n",
    "# We save CSV\n",
    "df_csv.to_csv('../data/analisis_completo.csv', index=False)"
   ]
  }
 ],
 "metadata": {
  "kernelspec": {
   "display_name": "venv (3.13.3)",
   "language": "python",
   "name": "python3"
  },
  "language_info": {
   "codemirror_mode": {
    "name": "ipython",
    "version": 3
   },
   "file_extension": ".py",
   "mimetype": "text/x-python",
   "name": "python",
   "nbconvert_exporter": "python",
   "pygments_lexer": "ipython3",
   "version": "3.13.3"
  }
 },
 "nbformat": 4,
 "nbformat_minor": 5
}
