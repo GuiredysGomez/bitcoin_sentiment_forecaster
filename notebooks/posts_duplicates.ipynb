{
 "cells": [
  {
   "cell_type": "code",
   "execution_count": 21,
   "id": "8b2446a1",
   "metadata": {},
   "outputs": [],
   "source": [
    "import pandas as pd"
   ]
  },
  {
   "cell_type": "markdown",
   "id": "983a978f",
   "metadata": {},
   "source": [
    "Este notebook está diseñado para **limpiar, depurar y preparar el archivo de posts crudos** (`raw_posts.csv`) antes de su análisis.  \n",
    "El flujo de trabajo es el siguiente:\n",
    "\n",
    "1. **Carga el archivo CSV** de posts crudos desde la carpeta `pre_cleaning`.\n",
    "2. **Limpia los nombres de las columnas** para evitar errores por espacios.\n",
    "3. **Convierte la columna de fechas** (`Created At`) al formato de fecha y hora.\n",
    "4. **Elimina la primera columna** que corresponde a un indice de la recolecta de posts\n",
    "5. **Cuenta y muestra la cantidad de filas duplicadas** antes de la limpieza.\n",
    "6. **Elimina los duplicados** del DataFrame.\n",
    "7. **Elimina los registros de años no deseados**\n",
    "8. **Ordena los posts por fecha ascendente** para mantener el orden cronológico.\n",
    "9. **Verifica y muestra que ya no quedan duplicados**.\n",
    "10. **Guarda el DataFrame limpio y ordenado** sobrescribiendo el archivo original.\n",
    "\n",
    "Este proceso asegura que el dataset de posts esté **libre de duplicados, filtrado por años relevantes y correctamente ordenado**, listo para etapas posteriores de análisis o procesamiento."
   ]
  },
  {
   "cell_type": "code",
   "execution_count": null,
   "id": "d38dbfbc",
   "metadata": {},
   "outputs": [
    {
     "name": "stderr",
     "output_type": "stream",
     "text": [
      "/tmp/ipykernel_9028/90862946.py:3: UserWarning: Could not infer format, so each element will be parsed individually, falling back to `dateutil`. To ensure parsing is consistent and as-expected, please specify a format.\n",
      "  df['Created At'] = pd.to_datetime(df['Created At'], errors='coerce')\n"
     ]
    }
   ],
   "source": [
    "# Cargar el archivo CSV\n",
    "df = pd.read_csv(\"../data/pre_cleaning/raw_posts.csv\")\n",
    "df['Created At'] = pd.to_datetime(df['Created At'], errors='coerce')"
   ]
  },
  {
   "cell_type": "markdown",
   "id": "0aac10f8",
   "metadata": {},
   "source": [
    "Eliminar columna 0 (tweet counts)"
   ]
  },
  {
   "cell_type": "code",
   "execution_count": 25,
   "id": "3cab4be2",
   "metadata": {},
   "outputs": [],
   "source": [
    "df = df.drop(df.columns[0], axis=1)"
   ]
  },
  {
   "cell_type": "code",
   "execution_count": null,
   "id": "f2415a15",
   "metadata": {},
   "outputs": [],
   "source": [
    "# Limpiar nombres de columnas\n",
    "df.columns = df.columns.str.strip()"
   ]
  },
  {
   "cell_type": "code",
   "execution_count": 23,
   "id": "65f3e10d",
   "metadata": {},
   "outputs": [
    {
     "name": "stdout",
     "output_type": "stream",
     "text": [
      "Duplicados antes: 0\n"
     ]
    }
   ],
   "source": [
    "# Mostrar cuántos duplicados hay\n",
    "print(\"Duplicados antes:\", df.duplicated().sum())\n"
   ]
  },
  {
   "cell_type": "code",
   "execution_count": 24,
   "id": "593fec3f",
   "metadata": {},
   "outputs": [
    {
     "name": "stdout",
     "output_type": "stream",
     "text": [
      "Duplicados después: 0\n"
     ]
    }
   ],
   "source": [
    "# Eliminar duplicados\n",
    "df_sin_duplicados = df.drop_duplicates()\n",
    "\n",
    "# Ordenar por la columna 'Username'\n",
    "df_ordenado = df_sin_duplicados.sort_values(by=\"Username\", ascending=True)\n",
    "\n",
    "# Verificar si quedan duplicados\n",
    "print(\"Duplicados después:\", df_ordenado.duplicated().sum())\n"
   ]
  },
  {
   "cell_type": "code",
   "execution_count": 26,
   "id": "553d1570",
   "metadata": {},
   "outputs": [
    {
     "data": {
      "text/html": [
       "<div>\n",
       "<style scoped>\n",
       "    .dataframe tbody tr th:only-of-type {\n",
       "        vertical-align: middle;\n",
       "    }\n",
       "\n",
       "    .dataframe tbody tr th {\n",
       "        vertical-align: top;\n",
       "    }\n",
       "\n",
       "    .dataframe thead th {\n",
       "        text-align: right;\n",
       "    }\n",
       "</style>\n",
       "<table border=\"1\" class=\"dataframe\">\n",
       "  <thead>\n",
       "    <tr style=\"text-align: right;\">\n",
       "      <th></th>\n",
       "      <th>Username</th>\n",
       "      <th>Text</th>\n",
       "      <th>Created At</th>\n",
       "      <th>Retweets</th>\n",
       "      <th>Likes</th>\n",
       "    </tr>\n",
       "  </thead>\n",
       "  <tbody>\n",
       "    <tr>\n",
       "      <th>0</th>\n",
       "      <td>Anthony Pompliano 🌪</td>\n",
       "      <td>[NEW POST] We Should Not Normalize Economic Wa...</td>\n",
       "      <td>2022-03-01 14:15:41+00:00</td>\n",
       "      <td>62</td>\n",
       "      <td>510</td>\n",
       "    </tr>\n",
       "    <tr>\n",
       "      <th>1</th>\n",
       "      <td>Anthony Pompliano 🌪</td>\n",
       "      <td>New episode with Head of Facebook Financial @d...</td>\n",
       "      <td>2021-09-01 11:40:00+00:00</td>\n",
       "      <td>16</td>\n",
       "      <td>95</td>\n",
       "    </tr>\n",
       "    <tr>\n",
       "      <th>2</th>\n",
       "      <td>Anthony Pompliano 🌪</td>\n",
       "      <td>Good morning! Let’s get after it relentlessly ...</td>\n",
       "      <td>2021-09-01 11:14:58+00:00</td>\n",
       "      <td>30</td>\n",
       "      <td>643</td>\n",
       "    </tr>\n",
       "    <tr>\n",
       "      <th>3</th>\n",
       "      <td>Anthony Pompliano 🌪</td>\n",
       "      <td>Another day in the stock market....another S&amp;a...</td>\n",
       "      <td>2021-09-01 17:47:44+00:00</td>\n",
       "      <td>124</td>\n",
       "      <td>1966</td>\n",
       "    </tr>\n",
       "    <tr>\n",
       "      <th>4</th>\n",
       "      <td>Anthony Pompliano 🌪</td>\n",
       "      <td>Today is a packed episode of The Best Business...</td>\n",
       "      <td>2021-09-01 15:00:11+00:00</td>\n",
       "      <td>17</td>\n",
       "      <td>150</td>\n",
       "    </tr>\n",
       "    <tr>\n",
       "      <th>...</th>\n",
       "      <td>...</td>\n",
       "      <td>...</td>\n",
       "      <td>...</td>\n",
       "      <td>...</td>\n",
       "      <td>...</td>\n",
       "    </tr>\n",
       "    <tr>\n",
       "      <th>448</th>\n",
       "      <td>nic carter</td>\n",
       "      <td>@K__Zalew let me understand this cause, ya kno...</td>\n",
       "      <td>2021-03-01 17:27:11+00:00</td>\n",
       "      <td>14</td>\n",
       "      <td>339</td>\n",
       "    </tr>\n",
       "    <tr>\n",
       "      <th>449</th>\n",
       "      <td>nic carter</td>\n",
       "      <td>Very positive to see fossil fuel BTC mining sq...</td>\n",
       "      <td>2021-03-01 13:31:14+00:00</td>\n",
       "      <td>4</td>\n",
       "      <td>79</td>\n",
       "    </tr>\n",
       "    <tr>\n",
       "      <th>450</th>\n",
       "      <td>nic carter</td>\n",
       "      <td>@jnordvig @CNBCJou Bitcoin supply schedule unc...</td>\n",
       "      <td>2021-03-01 13:29:31+00:00</td>\n",
       "      <td>1</td>\n",
       "      <td>81</td>\n",
       "    </tr>\n",
       "    <tr>\n",
       "      <th>451</th>\n",
       "      <td>nic carter</td>\n",
       "      <td>So many initiatives and new sources of data co...</td>\n",
       "      <td>2021-07-01 13:49:33+00:00</td>\n",
       "      <td>15</td>\n",
       "      <td>554</td>\n",
       "    </tr>\n",
       "    <tr>\n",
       "      <th>452</th>\n",
       "      <td>nic carter</td>\n",
       "      <td>@TheStalwart Bitcoin's competitors were e-gold...</td>\n",
       "      <td>2021-03-01 22:04:34+00:00</td>\n",
       "      <td>2</td>\n",
       "      <td>47</td>\n",
       "    </tr>\n",
       "  </tbody>\n",
       "</table>\n",
       "<p>453 rows × 5 columns</p>\n",
       "</div>"
      ],
      "text/plain": [
       "                Username                                               Text  \\\n",
       "0    Anthony Pompliano 🌪  [NEW POST] We Should Not Normalize Economic Wa...   \n",
       "1    Anthony Pompliano 🌪  New episode with Head of Facebook Financial @d...   \n",
       "2    Anthony Pompliano 🌪  Good morning! Let’s get after it relentlessly ...   \n",
       "3    Anthony Pompliano 🌪  Another day in the stock market....another S&a...   \n",
       "4    Anthony Pompliano 🌪  Today is a packed episode of The Best Business...   \n",
       "..                   ...                                                ...   \n",
       "448           nic carter  @K__Zalew let me understand this cause, ya kno...   \n",
       "449           nic carter  Very positive to see fossil fuel BTC mining sq...   \n",
       "450           nic carter  @jnordvig @CNBCJou Bitcoin supply schedule unc...   \n",
       "451           nic carter  So many initiatives and new sources of data co...   \n",
       "452           nic carter  @TheStalwart Bitcoin's competitors were e-gold...   \n",
       "\n",
       "                   Created At  Retweets  Likes  \n",
       "0   2022-03-01 14:15:41+00:00        62    510  \n",
       "1   2021-09-01 11:40:00+00:00        16     95  \n",
       "2   2021-09-01 11:14:58+00:00        30    643  \n",
       "3   2021-09-01 17:47:44+00:00       124   1966  \n",
       "4   2021-09-01 15:00:11+00:00        17    150  \n",
       "..                        ...       ...    ...  \n",
       "448 2021-03-01 17:27:11+00:00        14    339  \n",
       "449 2021-03-01 13:31:14+00:00         4     79  \n",
       "450 2021-03-01 13:29:31+00:00         1     81  \n",
       "451 2021-07-01 13:49:33+00:00        15    554  \n",
       "452 2021-03-01 22:04:34+00:00         2     47  \n",
       "\n",
       "[453 rows x 5 columns]"
      ]
     },
     "execution_count": 26,
     "metadata": {},
     "output_type": "execute_result"
    }
   ],
   "source": [
    "df"
   ]
  },
  {
   "cell_type": "markdown",
   "id": "413c2301",
   "metadata": {},
   "source": [
    "Eliminar fechas de años determinados"
   ]
  },
  {
   "cell_type": "code",
   "execution_count": 27,
   "id": "f4c3e0aa",
   "metadata": {},
   "outputs": [],
   "source": [
    "df = df[~df['Created At'].dt.year.isin([2023])]"
   ]
  },
  {
   "cell_type": "code",
   "execution_count": 28,
   "id": "7382fd37",
   "metadata": {},
   "outputs": [
    {
     "name": "stdout",
     "output_type": "stream",
     "text": [
      "Created At\n",
      "2020    107\n",
      "2021    209\n",
      "2022    137\n",
      "Name: count, dtype: int64\n"
     ]
    }
   ],
   "source": [
    "print(df['Created At'].dt.year.value_counts().sort_index())"
   ]
  },
  {
   "cell_type": "code",
   "execution_count": 29,
   "id": "1acde930",
   "metadata": {},
   "outputs": [],
   "source": [
    "# Organizar por fecha ascendente\n",
    "df = df.sort_values(by='Created At', ascending=True)"
   ]
  },
  {
   "cell_type": "code",
   "execution_count": null,
   "id": "8b4a2bd3",
   "metadata": {},
   "outputs": [],
   "source": [
    "# Guardar el DataFrame limpio y ordenado\n",
    "df_ordenado.to_csv(\"../data/pre_cleaning/raw_posts.csv\", index=False)"
   ]
  }
 ],
 "metadata": {
  "kernelspec": {
   "display_name": "tf_venv2 (3.10.12)",
   "language": "python",
   "name": "python3"
  },
  "language_info": {
   "codemirror_mode": {
    "name": "ipython",
    "version": 3
   },
   "file_extension": ".py",
   "mimetype": "text/x-python",
   "name": "python",
   "nbconvert_exporter": "python",
   "pygments_lexer": "ipython3",
   "version": "3.10.12"
  }
 },
 "nbformat": 4,
 "nbformat_minor": 5
}
