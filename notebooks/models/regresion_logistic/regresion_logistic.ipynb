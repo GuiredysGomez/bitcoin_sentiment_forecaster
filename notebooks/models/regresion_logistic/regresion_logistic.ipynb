{
 "cells": [
  {
   "cell_type": "code",
   "execution_count": 9,
   "id": "8e70cc92",
   "metadata": {},
   "outputs": [],
   "source": [
    "import pandas as pd\n",
    "import random\n",
    "import numpy as np\n",
    "from sklearn.linear_model import LogisticRegression\n",
    "from sklearn.metrics import classification_report, balanced_accuracy_score\n",
    "from sklearn.preprocessing import StandardScaler\n",
    "from sklearn.pipeline import Pipeline\n",
    "import optuna   \n",
    "import json\n",
    "import os\n",
    "import joblib\n",
    "import time"
   ]
  },
  {
   "cell_type": "code",
   "execution_count": 10,
   "id": "661a9192",
   "metadata": {},
   "outputs": [],
   "source": [
    "SEED = 1234\n",
    " # Se puede cambiar a \"precision\" o \"recall\" o \"f1-score\"\n",
    "SCORE = \"f1-score\"\n",
    "model_name = 'Regresion Logistic'"
   ]
  },
  {
   "cell_type": "code",
   "execution_count": 11,
   "id": "beb2404b",
   "metadata": {},
   "outputs": [],
   "source": [
    "def set_seeds(seed):\n",
    "    random.seed(seed)\n",
    "    np.random.seed(seed)"
   ]
  },
  {
   "cell_type": "markdown",
   "id": "928d70ad",
   "metadata": {},
   "source": [
    "Score Trend Changes Score"
   ]
  },
  {
   "cell_type": "code",
   "execution_count": 12,
   "id": "881b233e",
   "metadata": {},
   "outputs": [],
   "source": [
    "def get_trend_changes_report_dict(y_test: np.array, y_pred: np.array) -> float:\n",
    "    \"\"\"\n",
    "    Calculate the trend changes score based on the test and predicted values.\n",
    "    \n",
    "    Args:\n",
    "        y_test (np.array): True labels.\n",
    "        y_pred (np.array): Predicted labels.\n",
    "        \n",
    "    Returns:\n",
    "        float: The trend changes score.\n",
    "    \"\"\"\n",
    "    y_df = pd.DataFrame([y_test, y_pred]).T\n",
    "    y_df.columns = [\"y_test\", \"y_pred\"]\n",
    "    y_df[\"y_test_shifted\"] = y_df[\"y_test\"].shift(-1)\n",
    "    y_df[\"is_changed_trend_test\"] = y_df[\"y_test\"] != y_df[\"y_test_shifted\"]\n",
    "    y_df[\"y_predict_shifted\"] = y_df[\"y_pred\"].shift(-1)\n",
    "    y_df[\"is_changed_trend_predict\"] = y_df[\"y_pred\"] != y_df[\"y_predict_shifted\"]\n",
    "    return classification_report(\n",
    "        y_df[\"is_changed_trend_test\"][:-1], \n",
    "        y_df[\"is_changed_trend_predict\"][:-1], \n",
    "        digits=4,\n",
    "        output_dict=True,\n",
    "        zero_division=0\n",
    "    )\n",
    "\n",
    "\n",
    "def trend_changes_score(y_test: np.array, y_pred: np.array) -> float:\n",
    "    \"\"\"\n",
    "    Calculate the trend changes score based on the test and predicted values.\n",
    "    \n",
    "    Args:\n",
    "        y_test (np.array): True labels.\n",
    "        y_pred (np.array): Predicted labels.\n",
    "        \n",
    "    Returns:\n",
    "        float: The trend changes score.\n",
    "    \"\"\"\n",
    "    y_df = pd.DataFrame([y_test, y_pred]).T\n",
    "    y_df.columns = [\"y_test\", \"y_pred\"]\n",
    "    y_df[\"y_test_shifted\"] = y_df[\"y_test\"].shift(-1)\n",
    "    y_df[\"is_changed_trend_test\"] = y_df[\"y_test\"] != y_df[\"y_test_shifted\"]\n",
    "    y_df[\"y_predict_shifted\"] = y_df[\"y_pred\"].shift(-1)\n",
    "    y_df[\"is_changed_trend_predict\"] = y_df[\"y_pred\"] != y_df[\"y_predict_shifted\"]\n",
    "    return classification_report(y_df[\"is_changed_trend_test\"][:-1], y_df[\"is_changed_trend_predict\"][:-1], digits=4)\n",
    "\n",
    "def trend_changes_true(y_test: np.array, y_pred: np.array) -> float:\n",
    "    \"\"\"\n",
    "    Calculate the trend changes score based on the test and predicted values.\n",
    "    \n",
    "    Args:\n",
    "        y_test (np.array): True labels.\n",
    "        y_pred (np.array): Predicted labels.\n",
    "        \n",
    "    Returns:\n",
    "        float: The trend changes score.\n",
    "    \"\"\"\n",
    "    y_df = pd.DataFrame([y_test, y_pred]).T\n",
    "    y_df.columns = [\"y_test\", \"y_pred\"]\n",
    "    y_df[\"y_test_shifted\"] = y_df[\"y_test\"].shift(-1)\n",
    "    y_df[\"is_changed_trend_test\"] = y_df[\"y_test\"] != y_df[\"y_test_shifted\"]\n",
    "    y_df[\"y_predict_shifted\"] = y_df[\"y_pred\"].shift(-1)\n",
    "    y_df[\"is_changed_trend_predict\"] = y_df[\"y_pred\"] != y_df[\"y_predict_shifted\"]\n",
    "    report = classification_report(\n",
    "        y_df[\"is_changed_trend_test\"][:-1],\n",
    "        y_df[\"is_changed_trend_predict\"][:-1],\n",
    "        output_dict=True,\n",
    "        zero_division=0\n",
    "    )\n",
    "    return report[\"True\"][SCORE]"
   ]
  },
  {
   "cell_type": "markdown",
   "id": "f8864b37",
   "metadata": {},
   "source": [
    "Carga de datos"
   ]
  },
  {
   "cell_type": "code",
   "execution_count": 13,
   "id": "10aab5db",
   "metadata": {},
   "outputs": [],
   "source": [
    "# Cargar datos\n",
    "train = pd.read_csv(\"../../../data/post_cleaning/training_set.csv\", parse_dates=[\"date\"])\n",
    "val = pd.read_csv(\"../../../data/post_cleaning/validation_set.csv\", parse_dates=[\"date\"])\n",
    "X_train = train.drop(columns=[\"date\", \"target_trend\"]).values\n",
    "y_train = train[\"target_trend\"].values\n",
    "X_val = val.drop(columns=[\"date\", \"target_trend\"]).values\n",
    "y_val = val[\"target_trend\"].values"
   ]
  },
  {
   "cell_type": "code",
   "execution_count": null,
   "id": "6d625f51",
   "metadata": {},
   "outputs": [],
   "source": [
    "# Mapear clases (-1,0,1) -> (0,1,2) \n",
    "cls_map = {-1:0, 0:1, 1:2}\n",
    "inv_map = {v:k for k,v in cls_map.items()}\n",
    "y_train_m = np.vectorize(cls_map.get)(y_train)\n",
    "y_val_m   = np.vectorize(cls_map.get)(y_val)"
   ]
  },
  {
   "cell_type": "markdown",
   "id": "bfade2a3",
   "metadata": {},
   "source": [
    "Integracion de metrica trend_changes_score en la funcion objetivo Optuna"
   ]
  },
  {
   "cell_type": "code",
   "execution_count": 15,
   "id": "edca5563",
   "metadata": {},
   "outputs": [],
   "source": [
    "def objective(trial):\n",
    "    set_seeds(SEED)  # Fijar semilla antes de cada trial\n",
    "    penalty = trial.suggest_categorical(\"penalty\", [\"l1\", \"l2\", \"elasticnet\"])\n",
    "    C = trial.suggest_float(\"C\", 1e-3, 50, log=True)\n",
    "    l1_ratio = None\n",
    "    if penalty == \"elasticnet\":\n",
    "        l1_ratio = trial.suggest_float(\"l1_ratio\", 0.1, 0.9)\n",
    "\n",
    "    model = Pipeline([\n",
    "        (\"scaler\", StandardScaler()),\n",
    "        (\"clf\", LogisticRegression(\n",
    "            multi_class=\"multinomial\",\n",
    "            solver=\"saga\",\n",
    "            penalty=penalty,\n",
    "            C=C,\n",
    "            l1_ratio=l1_ratio,\n",
    "            max_iter=800,\n",
    "            random_state=SEED\n",
    "        ))\n",
    "    ])\n",
    "\n",
    "    model.fit(X_train, y_train_m)\n",
    "    y_val_pred_m = model.predict(X_val)\n",
    "    score = trend_changes_true(y_val_m, y_val_pred_m)  \n",
    "    return score"
   ]
  },
  {
   "cell_type": "markdown",
   "id": "13c11435",
   "metadata": {},
   "source": [
    "Ejecucion de estudio con Optuna"
   ]
  },
  {
   "cell_type": "code",
   "execution_count": 16,
   "id": "d8c2de68",
   "metadata": {},
   "outputs": [
    {
     "name": "stderr",
     "output_type": "stream",
     "text": [
      "[I 2025-09-16 23:44:23,881] A new study created in memory with name: no-name-7f52de60-e55d-4238-9cfd-a719c14e37d4\n",
      "/home/toyotx22/bitcoin_sentiment_forecaster/tf_venv2/lib/python3.10/site-packages/sklearn/linear_model/_sag.py:350: ConvergenceWarning: The max_iter was reached which means the coef_ did not converge\n",
      "  warnings.warn(\n",
      "[I 2025-09-16 23:44:25,382] Trial 0 finished with value: 0.5138888888888888 and parameters: {'penalty': 'l2', 'C': 4.9020352232191025}. Best is trial 0 with value: 0.5138888888888888.\n",
      "/home/toyotx22/bitcoin_sentiment_forecaster/tf_venv2/lib/python3.10/site-packages/sklearn/linear_model/_sag.py:350: ConvergenceWarning: The max_iter was reached which means the coef_ did not converge\n",
      "  warnings.warn(\n",
      "[I 2025-09-16 23:44:27,389] Trial 1 finished with value: 0.5277777777777778 and parameters: {'penalty': 'l1', 'C': 5.8610214330700705}. Best is trial 1 with value: 0.5277777777777778.\n",
      "[I 2025-09-16 23:44:28,973] Trial 2 finished with value: 0.42276422764227645 and parameters: {'penalty': 'l1', 'C': 0.22602738844381381}. Best is trial 1 with value: 0.5277777777777778.\n",
      "[I 2025-09-16 23:44:29,433] Trial 3 finished with value: 0.4186046511627907 and parameters: {'penalty': 'l2', 'C': 0.43355484601640604}. Best is trial 1 with value: 0.5277777777777778.\n",
      "/home/toyotx22/bitcoin_sentiment_forecaster/tf_venv2/lib/python3.10/site-packages/sklearn/linear_model/_sag.py:350: ConvergenceWarning: The max_iter was reached which means the coef_ did not converge\n",
      "  warnings.warn(\n",
      "[I 2025-09-16 23:44:31,494] Trial 4 finished with value: 0.5174825174825175 and parameters: {'penalty': 'elasticnet', 'C': 14.044441691902366, 'l1_ratio': 0.3919087871210979}. Best is trial 1 with value: 0.5277777777777778.\n",
      "/home/toyotx22/bitcoin_sentiment_forecaster/tf_venv2/lib/python3.10/site-packages/sklearn/linear_model/_sag.py:350: ConvergenceWarning: The max_iter was reached which means the coef_ did not converge\n",
      "  warnings.warn(\n",
      "[I 2025-09-16 23:44:33,551] Trial 5 finished with value: 0.5314685314685315 and parameters: {'penalty': 'l1', 'C': 24.254780519039887}. Best is trial 5 with value: 0.5314685314685315.\n",
      "[I 2025-09-16 23:44:33,681] Trial 6 finished with value: 0.4369747899159664 and parameters: {'penalty': 'elasticnet', 'C': 0.030817927870550953, 'l1_ratio': 0.5544789221008554}. Best is trial 5 with value: 0.5314685314685315.\n",
      "[I 2025-09-16 23:44:34,355] Trial 7 finished with value: 0.42962962962962964 and parameters: {'penalty': 'l1', 'C': 0.004737573884223105}. Best is trial 5 with value: 0.5314685314685315.\n",
      "/home/toyotx22/bitcoin_sentiment_forecaster/tf_venv2/lib/python3.10/site-packages/sklearn/linear_model/_sag.py:350: ConvergenceWarning: The max_iter was reached which means the coef_ did not converge\n",
      "  warnings.warn(\n",
      "[I 2025-09-16 23:44:35,864] Trial 8 finished with value: 0.5174825174825175 and parameters: {'penalty': 'l2', 'C': 22.178146342804567}. Best is trial 5 with value: 0.5314685314685315.\n",
      "[I 2025-09-16 23:44:35,910] Trial 9 finished with value: 0.3486238532110092 and parameters: {'penalty': 'l2', 'C': 0.007344453390163737}. Best is trial 5 with value: 0.5314685314685315.\n",
      "/home/toyotx22/bitcoin_sentiment_forecaster/tf_venv2/lib/python3.10/site-packages/sklearn/linear_model/_sag.py:350: ConvergenceWarning: The max_iter was reached which means the coef_ did not converge\n",
      "  warnings.warn(\n",
      "[I 2025-09-16 23:44:37,795] Trial 10 finished with value: 0.46616541353383456 and parameters: {'penalty': 'l1', 'C': 1.1031216176856609}. Best is trial 5 with value: 0.5314685314685315.\n",
      "/home/toyotx22/bitcoin_sentiment_forecaster/tf_venv2/lib/python3.10/site-packages/sklearn/linear_model/_sag.py:350: ConvergenceWarning: The max_iter was reached which means the coef_ did not converge\n",
      "  warnings.warn(\n",
      "[I 2025-09-16 23:44:39,850] Trial 11 finished with value: 0.5314685314685315 and parameters: {'penalty': 'l1', 'C': 41.053942649745956}. Best is trial 5 with value: 0.5314685314685315.\n",
      "/home/toyotx22/bitcoin_sentiment_forecaster/tf_venv2/lib/python3.10/site-packages/sklearn/linear_model/_sag.py:350: ConvergenceWarning: The max_iter was reached which means the coef_ did not converge\n",
      "  warnings.warn(\n",
      "[I 2025-09-16 23:44:41,869] Trial 12 finished with value: 0.5314685314685315 and parameters: {'penalty': 'l1', 'C': 42.00751000235676}. Best is trial 5 with value: 0.5314685314685315.\n",
      "/home/toyotx22/bitcoin_sentiment_forecaster/tf_venv2/lib/python3.10/site-packages/sklearn/linear_model/_sag.py:350: ConvergenceWarning: The max_iter was reached which means the coef_ did not converge\n",
      "  warnings.warn(\n",
      "[I 2025-09-16 23:44:43,812] Trial 13 finished with value: 0.5138888888888888 and parameters: {'penalty': 'l1', 'C': 3.0385328349383314}. Best is trial 5 with value: 0.5314685314685315.\n",
      "/home/toyotx22/bitcoin_sentiment_forecaster/tf_venv2/lib/python3.10/site-packages/sklearn/linear_model/_sag.py:350: ConvergenceWarning: The max_iter was reached which means the coef_ did not converge\n",
      "  warnings.warn(\n",
      "[I 2025-09-16 23:44:45,828] Trial 14 finished with value: 0.5314685314685315 and parameters: {'penalty': 'l1', 'C': 44.670989604777965}. Best is trial 5 with value: 0.5314685314685315.\n",
      "/home/toyotx22/bitcoin_sentiment_forecaster/tf_venv2/lib/python3.10/site-packages/sklearn/linear_model/_sag.py:350: ConvergenceWarning: The max_iter was reached which means the coef_ did not converge\n",
      "  warnings.warn(\n",
      "[I 2025-09-16 23:44:47,709] Trial 15 finished with value: 0.448 and parameters: {'penalty': 'l1', 'C': 0.7595514505956209}. Best is trial 5 with value: 0.5314685314685315.\n",
      "[I 2025-09-16 23:44:48,154] Trial 16 finished with value: 0.4262295081967213 and parameters: {'penalty': 'elasticnet', 'C': 0.06981385151648897, 'l1_ratio': 0.8749589562365976}. Best is trial 5 with value: 0.5314685314685315.\n",
      "/home/toyotx22/bitcoin_sentiment_forecaster/tf_venv2/lib/python3.10/site-packages/sklearn/linear_model/_sag.py:350: ConvergenceWarning: The max_iter was reached which means the coef_ did not converge\n",
      "  warnings.warn(\n",
      "[I 2025-09-16 23:44:50,061] Trial 17 finished with value: 0.5034965034965035 and parameters: {'penalty': 'l1', 'C': 1.850047005173178}. Best is trial 5 with value: 0.5314685314685315.\n",
      "[I 2025-09-16 23:44:50,091] Trial 18 finished with value: 0.0 and parameters: {'penalty': 'l1', 'C': 0.0010694582197164142}. Best is trial 5 with value: 0.5314685314685315.\n",
      "/home/toyotx22/bitcoin_sentiment_forecaster/tf_venv2/lib/python3.10/site-packages/sklearn/linear_model/_sag.py:350: ConvergenceWarning: The max_iter was reached which means the coef_ did not converge\n",
      "  warnings.warn(\n",
      "[I 2025-09-16 23:44:52,145] Trial 19 finished with value: 0.5277777777777778 and parameters: {'penalty': 'elasticnet', 'C': 10.845164529137818, 'l1_ratio': 0.1516442503350685}. Best is trial 5 with value: 0.5314685314685315.\n",
      "[I 2025-09-16 23:44:53,589] Trial 20 finished with value: 0.42276422764227645 and parameters: {'penalty': 'l1', 'C': 0.08810812196526549}. Best is trial 5 with value: 0.5314685314685315.\n",
      "/home/toyotx22/bitcoin_sentiment_forecaster/tf_venv2/lib/python3.10/site-packages/sklearn/linear_model/_sag.py:350: ConvergenceWarning: The max_iter was reached which means the coef_ did not converge\n",
      "  warnings.warn(\n",
      "[I 2025-09-16 23:44:55,603] Trial 21 finished with value: 0.5314685314685315 and parameters: {'penalty': 'l1', 'C': 49.41252022338651}. Best is trial 5 with value: 0.5314685314685315.\n",
      "/home/toyotx22/bitcoin_sentiment_forecaster/tf_venv2/lib/python3.10/site-packages/sklearn/linear_model/_sag.py:350: ConvergenceWarning: The max_iter was reached which means the coef_ did not converge\n",
      "  warnings.warn(\n",
      "[I 2025-09-16 23:44:57,654] Trial 22 finished with value: 0.5174825174825175 and parameters: {'penalty': 'l1', 'C': 16.64501982752838}. Best is trial 5 with value: 0.5314685314685315.\n",
      "/home/toyotx22/bitcoin_sentiment_forecaster/tf_venv2/lib/python3.10/site-packages/sklearn/linear_model/_sag.py:350: ConvergenceWarning: The max_iter was reached which means the coef_ did not converge\n",
      "  warnings.warn(\n",
      "[I 2025-09-16 23:44:59,666] Trial 23 finished with value: 0.5314685314685315 and parameters: {'penalty': 'l1', 'C': 46.59060113817158}. Best is trial 5 with value: 0.5314685314685315.\n",
      "/home/toyotx22/bitcoin_sentiment_forecaster/tf_venv2/lib/python3.10/site-packages/sklearn/linear_model/_sag.py:350: ConvergenceWarning: The max_iter was reached which means the coef_ did not converge\n",
      "  warnings.warn(\n",
      "[I 2025-09-16 23:45:01,703] Trial 24 finished with value: 0.5174825174825175 and parameters: {'penalty': 'l1', 'C': 9.854790343978642}. Best is trial 5 with value: 0.5314685314685315.\n",
      "/home/toyotx22/bitcoin_sentiment_forecaster/tf_venv2/lib/python3.10/site-packages/sklearn/linear_model/_sag.py:350: ConvergenceWarning: The max_iter was reached which means the coef_ did not converge\n",
      "  warnings.warn(\n",
      "[I 2025-09-16 23:45:03,756] Trial 25 finished with value: 0.5314685314685315 and parameters: {'penalty': 'l1', 'C': 22.24785490314875}. Best is trial 5 with value: 0.5314685314685315.\n",
      "/home/toyotx22/bitcoin_sentiment_forecaster/tf_venv2/lib/python3.10/site-packages/sklearn/linear_model/_sag.py:350: ConvergenceWarning: The max_iter was reached which means the coef_ did not converge\n",
      "  warnings.warn(\n",
      "[I 2025-09-16 23:45:05,699] Trial 26 finished with value: 0.5138888888888888 and parameters: {'penalty': 'l1', 'C': 3.343993538099565}. Best is trial 5 with value: 0.5314685314685315.\n",
      "/home/toyotx22/bitcoin_sentiment_forecaster/tf_venv2/lib/python3.10/site-packages/sklearn/linear_model/_sag.py:350: ConvergenceWarning: The max_iter was reached which means the coef_ did not converge\n",
      "  warnings.warn(\n",
      "[I 2025-09-16 23:45:07,713] Trial 27 finished with value: 0.5277777777777778 and parameters: {'penalty': 'elasticnet', 'C': 6.237603426426863, 'l1_ratio': 0.8791312961982782}. Best is trial 5 with value: 0.5314685314685315.\n",
      "/home/toyotx22/bitcoin_sentiment_forecaster/tf_venv2/lib/python3.10/site-packages/sklearn/linear_model/_sag.py:350: ConvergenceWarning: The max_iter was reached which means the coef_ did not converge\n",
      "  warnings.warn(\n",
      "[I 2025-09-16 23:45:09,247] Trial 28 finished with value: 0.5174825174825175 and parameters: {'penalty': 'l2', 'C': 26.048759053690304}. Best is trial 5 with value: 0.5314685314685315.\n",
      "/home/toyotx22/bitcoin_sentiment_forecaster/tf_venv2/lib/python3.10/site-packages/sklearn/linear_model/_sag.py:350: ConvergenceWarning: The max_iter was reached which means the coef_ did not converge\n",
      "  warnings.warn(\n",
      "[I 2025-09-16 23:45:11,150] Trial 29 finished with value: 0.5034965034965035 and parameters: {'penalty': 'l1', 'C': 1.8054740822458624}. Best is trial 5 with value: 0.5314685314685315.\n",
      "/home/toyotx22/bitcoin_sentiment_forecaster/tf_venv2/lib/python3.10/site-packages/sklearn/linear_model/_sag.py:350: ConvergenceWarning: The max_iter was reached which means the coef_ did not converge\n",
      "  warnings.warn(\n",
      "[I 2025-09-16 23:45:12,641] Trial 30 finished with value: 0.5138888888888888 and parameters: {'penalty': 'l2', 'C': 7.953783246123426}. Best is trial 5 with value: 0.5314685314685315.\n",
      "/home/toyotx22/bitcoin_sentiment_forecaster/tf_venv2/lib/python3.10/site-packages/sklearn/linear_model/_sag.py:350: ConvergenceWarning: The max_iter was reached which means the coef_ did not converge\n",
      "  warnings.warn(\n",
      "[I 2025-09-16 23:45:14,667] Trial 31 finished with value: 0.5314685314685315 and parameters: {'penalty': 'l1', 'C': 39.636036341869136}. Best is trial 5 with value: 0.5314685314685315.\n",
      "/home/toyotx22/bitcoin_sentiment_forecaster/tf_venv2/lib/python3.10/site-packages/sklearn/linear_model/_sag.py:350: ConvergenceWarning: The max_iter was reached which means the coef_ did not converge\n",
      "  warnings.warn(\n",
      "[I 2025-09-16 23:45:16,696] Trial 32 finished with value: 0.5314685314685315 and parameters: {'penalty': 'l1', 'C': 38.07718648745765}. Best is trial 5 with value: 0.5314685314685315.\n",
      "/home/toyotx22/bitcoin_sentiment_forecaster/tf_venv2/lib/python3.10/site-packages/sklearn/linear_model/_sag.py:350: ConvergenceWarning: The max_iter was reached which means the coef_ did not converge\n",
      "  warnings.warn(\n",
      "[I 2025-09-16 23:45:18,663] Trial 33 finished with value: 0.5277777777777778 and parameters: {'penalty': 'l1', 'C': 4.280282202460818}. Best is trial 5 with value: 0.5314685314685315.\n",
      "/home/toyotx22/bitcoin_sentiment_forecaster/tf_venv2/lib/python3.10/site-packages/sklearn/linear_model/_sag.py:350: ConvergenceWarning: The max_iter was reached which means the coef_ did not converge\n",
      "  warnings.warn(\n",
      "[I 2025-09-16 23:45:20,719] Trial 34 finished with value: 0.5174825174825175 and parameters: {'penalty': 'l1', 'C': 16.97216297275373}. Best is trial 5 with value: 0.5314685314685315.\n",
      "/home/toyotx22/bitcoin_sentiment_forecaster/tf_venv2/lib/python3.10/site-packages/sklearn/linear_model/_sag.py:350: ConvergenceWarning: The max_iter was reached which means the coef_ did not converge\n",
      "  warnings.warn(\n",
      "[I 2025-09-16 23:45:22,767] Trial 35 finished with value: 0.5277777777777778 and parameters: {'penalty': 'l1', 'C': 7.346398388303181}. Best is trial 5 with value: 0.5314685314685315.\n",
      "/home/toyotx22/bitcoin_sentiment_forecaster/tf_venv2/lib/python3.10/site-packages/sklearn/linear_model/_sag.py:350: ConvergenceWarning: The max_iter was reached which means the coef_ did not converge\n",
      "  warnings.warn(\n",
      "[I 2025-09-16 23:45:24,814] Trial 36 finished with value: 0.5314685314685315 and parameters: {'penalty': 'l1', 'C': 29.060027385522183}. Best is trial 5 with value: 0.5314685314685315.\n",
      "[I 2025-09-16 23:45:26,137] Trial 37 finished with value: 0.4444444444444444 and parameters: {'penalty': 'l1', 'C': 0.31741759028638594}. Best is trial 5 with value: 0.5314685314685315.\n",
      "/home/toyotx22/bitcoin_sentiment_forecaster/tf_venv2/lib/python3.10/site-packages/sklearn/linear_model/_sag.py:350: ConvergenceWarning: The max_iter was reached which means the coef_ did not converge\n",
      "  warnings.warn(\n",
      "[I 2025-09-16 23:45:28,161] Trial 38 finished with value: 0.5277777777777778 and parameters: {'penalty': 'elasticnet', 'C': 12.938636521619069, 'l1_ratio': 0.10851537988346277}. Best is trial 5 with value: 0.5314685314685315.\n",
      "/home/toyotx22/bitcoin_sentiment_forecaster/tf_venv2/lib/python3.10/site-packages/sklearn/linear_model/_sag.py:350: ConvergenceWarning: The max_iter was reached which means the coef_ did not converge\n",
      "  warnings.warn(\n",
      "[I 2025-09-16 23:45:29,655] Trial 39 finished with value: 0.5174825174825175 and parameters: {'penalty': 'l2', 'C': 24.897986966232885}. Best is trial 5 with value: 0.5314685314685315.\n",
      "/home/toyotx22/bitcoin_sentiment_forecaster/tf_venv2/lib/python3.10/site-packages/sklearn/linear_model/_sag.py:350: ConvergenceWarning: The max_iter was reached which means the coef_ did not converge\n",
      "  warnings.warn(\n",
      "[I 2025-09-16 23:45:31,717] Trial 40 finished with value: 0.5174825174825175 and parameters: {'penalty': 'l1', 'C': 14.18955276896867}. Best is trial 5 with value: 0.5314685314685315.\n",
      "/home/toyotx22/bitcoin_sentiment_forecaster/tf_venv2/lib/python3.10/site-packages/sklearn/linear_model/_sag.py:350: ConvergenceWarning: The max_iter was reached which means the coef_ did not converge\n",
      "  warnings.warn(\n",
      "[I 2025-09-16 23:45:33,741] Trial 41 finished with value: 0.5314685314685315 and parameters: {'penalty': 'l1', 'C': 48.399901959231286}. Best is trial 5 with value: 0.5314685314685315.\n",
      "/home/toyotx22/bitcoin_sentiment_forecaster/tf_venv2/lib/python3.10/site-packages/sklearn/linear_model/_sag.py:350: ConvergenceWarning: The max_iter was reached which means the coef_ did not converge\n",
      "  warnings.warn(\n",
      "[I 2025-09-16 23:45:35,755] Trial 42 finished with value: 0.5314685314685315 and parameters: {'penalty': 'l1', 'C': 47.65848421281433}. Best is trial 5 with value: 0.5314685314685315.\n",
      "/home/toyotx22/bitcoin_sentiment_forecaster/tf_venv2/lib/python3.10/site-packages/sklearn/linear_model/_sag.py:350: ConvergenceWarning: The max_iter was reached which means the coef_ did not converge\n",
      "  warnings.warn(\n",
      "[I 2025-09-16 23:45:37,800] Trial 43 finished with value: 0.5314685314685315 and parameters: {'penalty': 'l1', 'C': 23.440611523393905}. Best is trial 5 with value: 0.5314685314685315.\n",
      "/home/toyotx22/bitcoin_sentiment_forecaster/tf_venv2/lib/python3.10/site-packages/sklearn/linear_model/_sag.py:350: ConvergenceWarning: The max_iter was reached which means the coef_ did not converge\n",
      "  warnings.warn(\n",
      "[I 2025-09-16 23:45:39,838] Trial 44 finished with value: 0.5277777777777778 and parameters: {'penalty': 'l1', 'C': 5.007849028345885}. Best is trial 5 with value: 0.5314685314685315.\n",
      "/home/toyotx22/bitcoin_sentiment_forecaster/tf_venv2/lib/python3.10/site-packages/sklearn/linear_model/_sag.py:350: ConvergenceWarning: The max_iter was reached which means the coef_ did not converge\n",
      "  warnings.warn(\n",
      "[I 2025-09-16 23:45:41,849] Trial 45 finished with value: 0.5314685314685315 and parameters: {'penalty': 'l1', 'C': 49.687813236325205}. Best is trial 5 with value: 0.5314685314685315.\n",
      "/home/toyotx22/bitcoin_sentiment_forecaster/tf_venv2/lib/python3.10/site-packages/sklearn/linear_model/_sag.py:350: ConvergenceWarning: The max_iter was reached which means the coef_ did not converge\n",
      "  warnings.warn(\n",
      "[I 2025-09-16 23:45:43,898] Trial 46 finished with value: 0.5174825174825175 and parameters: {'penalty': 'l1', 'C': 17.16905742318984}. Best is trial 5 with value: 0.5314685314685315.\n",
      "[I 2025-09-16 23:45:43,956] Trial 47 finished with value: 0.39655172413793105 and parameters: {'penalty': 'l2', 'C': 0.01764018990386385}. Best is trial 5 with value: 0.5314685314685315.\n",
      "/home/toyotx22/bitcoin_sentiment_forecaster/tf_venv2/lib/python3.10/site-packages/sklearn/linear_model/_sag.py:350: ConvergenceWarning: The max_iter was reached which means the coef_ did not converge\n",
      "  warnings.warn(\n",
      "[I 2025-09-16 23:45:45,972] Trial 48 finished with value: 0.5314685314685315 and parameters: {'penalty': 'elasticnet', 'C': 30.18039499263114, 'l1_ratio': 0.5988309960713898}. Best is trial 5 with value: 0.5314685314685315.\n",
      "/home/toyotx22/bitcoin_sentiment_forecaster/tf_venv2/lib/python3.10/site-packages/sklearn/linear_model/_sag.py:350: ConvergenceWarning: The max_iter was reached which means the coef_ did not converge\n",
      "  warnings.warn(\n",
      "[I 2025-09-16 23:45:47,874] Trial 49 finished with value: 0.5034965034965035 and parameters: {'penalty': 'l1', 'C': 1.8675369220582936}. Best is trial 5 with value: 0.5314685314685315.\n",
      "/home/toyotx22/bitcoin_sentiment_forecaster/tf_venv2/lib/python3.10/site-packages/sklearn/linear_model/_sag.py:350: ConvergenceWarning: The max_iter was reached which means the coef_ did not converge\n",
      "  warnings.warn(\n",
      "[I 2025-09-16 23:45:49,911] Trial 50 finished with value: 0.5174825174825175 and parameters: {'penalty': 'l1', 'C': 10.584293986746971}. Best is trial 5 with value: 0.5314685314685315.\n",
      "/home/toyotx22/bitcoin_sentiment_forecaster/tf_venv2/lib/python3.10/site-packages/sklearn/linear_model/_sag.py:350: ConvergenceWarning: The max_iter was reached which means the coef_ did not converge\n",
      "  warnings.warn(\n",
      "[I 2025-09-16 23:45:51,947] Trial 51 finished with value: 0.5314685314685315 and parameters: {'penalty': 'l1', 'C': 33.49118974827135}. Best is trial 5 with value: 0.5314685314685315.\n",
      "/home/toyotx22/bitcoin_sentiment_forecaster/tf_venv2/lib/python3.10/site-packages/sklearn/linear_model/_sag.py:350: ConvergenceWarning: The max_iter was reached which means the coef_ did not converge\n",
      "  warnings.warn(\n",
      "[I 2025-09-16 23:45:53,997] Trial 52 finished with value: 0.5174825174825175 and parameters: {'penalty': 'l1', 'C': 19.199805323380975}. Best is trial 5 with value: 0.5314685314685315.\n",
      "/home/toyotx22/bitcoin_sentiment_forecaster/tf_venv2/lib/python3.10/site-packages/sklearn/linear_model/_sag.py:350: ConvergenceWarning: The max_iter was reached which means the coef_ did not converge\n",
      "  warnings.warn(\n",
      "[I 2025-09-16 23:45:56,031] Trial 53 finished with value: 0.5314685314685315 and parameters: {'penalty': 'l1', 'C': 34.08001129999276}. Best is trial 5 with value: 0.5314685314685315.\n",
      "/home/toyotx22/bitcoin_sentiment_forecaster/tf_venv2/lib/python3.10/site-packages/sklearn/linear_model/_sag.py:350: ConvergenceWarning: The max_iter was reached which means the coef_ did not converge\n",
      "  warnings.warn(\n",
      "[I 2025-09-16 23:45:58,038] Trial 54 finished with value: 0.5314685314685315 and parameters: {'penalty': 'l1', 'C': 47.54414901114028}. Best is trial 5 with value: 0.5314685314685315.\n",
      "/home/toyotx22/bitcoin_sentiment_forecaster/tf_venv2/lib/python3.10/site-packages/sklearn/linear_model/_sag.py:350: ConvergenceWarning: The max_iter was reached which means the coef_ did not converge\n",
      "  warnings.warn(\n",
      "[I 2025-09-16 23:46:00,074] Trial 55 finished with value: 0.5174825174825175 and parameters: {'penalty': 'l1', 'C': 10.778641419442648}. Best is trial 5 with value: 0.5314685314685315.\n",
      "[I 2025-09-16 23:46:01,782] Trial 56 finished with value: 0.4297520661157025 and parameters: {'penalty': 'l1', 'C': 0.15080182361602418}. Best is trial 5 with value: 0.5314685314685315.\n",
      "/home/toyotx22/bitcoin_sentiment_forecaster/tf_venv2/lib/python3.10/site-packages/sklearn/linear_model/_sag.py:350: ConvergenceWarning: The max_iter was reached which means the coef_ did not converge\n",
      "  warnings.warn(\n",
      "[I 2025-09-16 23:46:03,654] Trial 57 finished with value: 0.448 and parameters: {'penalty': 'l1', 'C': 0.7201832414463697}. Best is trial 5 with value: 0.5314685314685315.\n",
      "[I 2025-09-16 23:46:03,711] Trial 58 finished with value: 0.2830188679245283 and parameters: {'penalty': 'elasticnet', 'C': 0.002141777186950668, 'l1_ratio': 0.35266943015099217}. Best is trial 5 with value: 0.5314685314685315.\n",
      "/home/toyotx22/bitcoin_sentiment_forecaster/tf_venv2/lib/python3.10/site-packages/sklearn/linear_model/_sag.py:350: ConvergenceWarning: The max_iter was reached which means the coef_ did not converge\n",
      "  warnings.warn(\n",
      "[I 2025-09-16 23:46:05,212] Trial 59 finished with value: 0.5174825174825175 and parameters: {'penalty': 'l2', 'C': 19.2850240664731}. Best is trial 5 with value: 0.5314685314685315.\n",
      "/home/toyotx22/bitcoin_sentiment_forecaster/tf_venv2/lib/python3.10/site-packages/sklearn/linear_model/_sag.py:350: ConvergenceWarning: The max_iter was reached which means the coef_ did not converge\n",
      "  warnings.warn(\n",
      "[I 2025-09-16 23:46:07,252] Trial 60 finished with value: 0.5174825174825175 and parameters: {'penalty': 'l1', 'C': 7.87016539979053}. Best is trial 5 with value: 0.5314685314685315.\n",
      "/home/toyotx22/bitcoin_sentiment_forecaster/tf_venv2/lib/python3.10/site-packages/sklearn/linear_model/_sag.py:350: ConvergenceWarning: The max_iter was reached which means the coef_ did not converge\n",
      "  warnings.warn(\n",
      "[I 2025-09-16 23:46:09,301] Trial 61 finished with value: 0.5314685314685315 and parameters: {'penalty': 'l1', 'C': 24.63989817541768}. Best is trial 5 with value: 0.5314685314685315.\n",
      "/home/toyotx22/bitcoin_sentiment_forecaster/tf_venv2/lib/python3.10/site-packages/sklearn/linear_model/_sag.py:350: ConvergenceWarning: The max_iter was reached which means the coef_ did not converge\n",
      "  warnings.warn(\n",
      "[I 2025-09-16 23:46:11,334] Trial 62 finished with value: 0.5314685314685315 and parameters: {'penalty': 'l1', 'C': 33.49135522981243}. Best is trial 5 with value: 0.5314685314685315.\n",
      "/home/toyotx22/bitcoin_sentiment_forecaster/tf_venv2/lib/python3.10/site-packages/sklearn/linear_model/_sag.py:350: ConvergenceWarning: The max_iter was reached which means the coef_ did not converge\n",
      "  warnings.warn(\n",
      "[I 2025-09-16 23:46:13,387] Trial 63 finished with value: 0.5174825174825175 and parameters: {'penalty': 'l1', 'C': 15.435735861031954}. Best is trial 5 with value: 0.5314685314685315.\n",
      "/home/toyotx22/bitcoin_sentiment_forecaster/tf_venv2/lib/python3.10/site-packages/sklearn/linear_model/_sag.py:350: ConvergenceWarning: The max_iter was reached which means the coef_ did not converge\n",
      "  warnings.warn(\n",
      "[I 2025-09-16 23:46:15,438] Trial 64 finished with value: 0.5314685314685315 and parameters: {'penalty': 'l1', 'C': 22.14153633121804}. Best is trial 5 with value: 0.5314685314685315.\n",
      "/home/toyotx22/bitcoin_sentiment_forecaster/tf_venv2/lib/python3.10/site-packages/sklearn/linear_model/_sag.py:350: ConvergenceWarning: The max_iter was reached which means the coef_ did not converge\n",
      "  warnings.warn(\n",
      "[I 2025-09-16 23:46:17,475] Trial 65 finished with value: 0.5314685314685315 and parameters: {'penalty': 'l1', 'C': 32.88092269806141}. Best is trial 5 with value: 0.5314685314685315.\n",
      "/home/toyotx22/bitcoin_sentiment_forecaster/tf_venv2/lib/python3.10/site-packages/sklearn/linear_model/_sag.py:350: ConvergenceWarning: The max_iter was reached which means the coef_ did not converge\n",
      "  warnings.warn(\n",
      "[I 2025-09-16 23:46:19,522] Trial 66 finished with value: 0.5174825174825175 and parameters: {'penalty': 'l1', 'C': 12.46986034807828}. Best is trial 5 with value: 0.5314685314685315.\n",
      "/home/toyotx22/bitcoin_sentiment_forecaster/tf_venv2/lib/python3.10/site-packages/sklearn/linear_model/_sag.py:350: ConvergenceWarning: The max_iter was reached which means the coef_ did not converge\n",
      "  warnings.warn(\n",
      "[I 2025-09-16 23:46:21,467] Trial 67 finished with value: 0.5138888888888888 and parameters: {'penalty': 'l1', 'C': 3.4034347755535976}. Best is trial 5 with value: 0.5314685314685315.\n",
      "/home/toyotx22/bitcoin_sentiment_forecaster/tf_venv2/lib/python3.10/site-packages/sklearn/linear_model/_sag.py:350: ConvergenceWarning: The max_iter was reached which means the coef_ did not converge\n",
      "  warnings.warn(\n",
      "[I 2025-09-16 23:46:23,509] Trial 68 finished with value: 0.5277777777777778 and parameters: {'penalty': 'elasticnet', 'C': 6.20142447413853, 'l1_ratio': 0.6869288627465775}. Best is trial 5 with value: 0.5314685314685315.\n",
      "/home/toyotx22/bitcoin_sentiment_forecaster/tf_venv2/lib/python3.10/site-packages/sklearn/linear_model/_sag.py:350: ConvergenceWarning: The max_iter was reached which means the coef_ did not converge\n",
      "  warnings.warn(\n",
      "[I 2025-09-16 23:46:25,559] Trial 69 finished with value: 0.5314685314685315 and parameters: {'penalty': 'l1', 'C': 24.25924649523605}. Best is trial 5 with value: 0.5314685314685315.\n",
      "[I 2025-09-16 23:46:26,092] Trial 70 finished with value: 0.42276422764227645 and parameters: {'penalty': 'l1', 'C': 0.030966977736181473}. Best is trial 5 with value: 0.5314685314685315.\n",
      "/home/toyotx22/bitcoin_sentiment_forecaster/tf_venv2/lib/python3.10/site-packages/sklearn/linear_model/_sag.py:350: ConvergenceWarning: The max_iter was reached which means the coef_ did not converge\n",
      "  warnings.warn(\n",
      "[I 2025-09-16 23:46:28,100] Trial 71 finished with value: 0.5314685314685315 and parameters: {'penalty': 'l1', 'C': 49.593681181647945}. Best is trial 5 with value: 0.5314685314685315.\n",
      "/home/toyotx22/bitcoin_sentiment_forecaster/tf_venv2/lib/python3.10/site-packages/sklearn/linear_model/_sag.py:350: ConvergenceWarning: The max_iter was reached which means the coef_ did not converge\n",
      "  warnings.warn(\n",
      "[I 2025-09-16 23:46:30,127] Trial 72 finished with value: 0.5314685314685315 and parameters: {'penalty': 'l1', 'C': 37.273284831943506}. Best is trial 5 with value: 0.5314685314685315.\n",
      "/home/toyotx22/bitcoin_sentiment_forecaster/tf_venv2/lib/python3.10/site-packages/sklearn/linear_model/_sag.py:350: ConvergenceWarning: The max_iter was reached which means the coef_ did not converge\n",
      "  warnings.warn(\n",
      "[I 2025-09-16 23:46:32,216] Trial 73 finished with value: 0.5314685314685315 and parameters: {'penalty': 'l1', 'C': 38.61578682950797}. Best is trial 5 with value: 0.5314685314685315.\n",
      "/home/toyotx22/bitcoin_sentiment_forecaster/tf_venv2/lib/python3.10/site-packages/sklearn/linear_model/_sag.py:350: ConvergenceWarning: The max_iter was reached which means the coef_ did not converge\n",
      "  warnings.warn(\n",
      "[I 2025-09-16 23:46:34,269] Trial 74 finished with value: 0.5174825174825175 and parameters: {'penalty': 'l1', 'C': 16.05419829630751}. Best is trial 5 with value: 0.5314685314685315.\n",
      "/home/toyotx22/bitcoin_sentiment_forecaster/tf_venv2/lib/python3.10/site-packages/sklearn/linear_model/_sag.py:350: ConvergenceWarning: The max_iter was reached which means the coef_ did not converge\n",
      "  warnings.warn(\n",
      "[I 2025-09-16 23:46:35,760] Trial 75 finished with value: 0.5277777777777778 and parameters: {'penalty': 'l2', 'C': 9.513074263363189}. Best is trial 5 with value: 0.5314685314685315.\n",
      "/home/toyotx22/bitcoin_sentiment_forecaster/tf_venv2/lib/python3.10/site-packages/sklearn/linear_model/_sag.py:350: ConvergenceWarning: The max_iter was reached which means the coef_ did not converge\n",
      "  warnings.warn(\n",
      "[I 2025-09-16 23:46:37,807] Trial 76 finished with value: 0.5314685314685315 and parameters: {'penalty': 'l1', 'C': 26.894646738555714}. Best is trial 5 with value: 0.5314685314685315.\n",
      "/home/toyotx22/bitcoin_sentiment_forecaster/tf_venv2/lib/python3.10/site-packages/sklearn/linear_model/_sag.py:350: ConvergenceWarning: The max_iter was reached which means the coef_ did not converge\n",
      "  warnings.warn(\n",
      "[I 2025-09-16 23:46:39,859] Trial 77 finished with value: 0.5314685314685315 and parameters: {'penalty': 'l1', 'C': 19.585399117867077}. Best is trial 5 with value: 0.5314685314685315.\n",
      "/home/toyotx22/bitcoin_sentiment_forecaster/tf_venv2/lib/python3.10/site-packages/sklearn/linear_model/_sag.py:350: ConvergenceWarning: The max_iter was reached which means the coef_ did not converge\n",
      "  warnings.warn(\n",
      "[I 2025-09-16 23:46:41,884] Trial 78 finished with value: 0.5314685314685315 and parameters: {'penalty': 'l1', 'C': 38.763419449633766}. Best is trial 5 with value: 0.5314685314685315.\n",
      "/home/toyotx22/bitcoin_sentiment_forecaster/tf_venv2/lib/python3.10/site-packages/sklearn/linear_model/_sag.py:350: ConvergenceWarning: The max_iter was reached which means the coef_ did not converge\n",
      "  warnings.warn(\n",
      "[I 2025-09-16 23:46:43,894] Trial 79 finished with value: 0.5314685314685315 and parameters: {'penalty': 'l1', 'C': 49.8476162692102}. Best is trial 5 with value: 0.5314685314685315.\n",
      "/home/toyotx22/bitcoin_sentiment_forecaster/tf_venv2/lib/python3.10/site-packages/sklearn/linear_model/_sag.py:350: ConvergenceWarning: The max_iter was reached which means the coef_ did not converge\n",
      "  warnings.warn(\n",
      "[I 2025-09-16 23:46:45,948] Trial 80 finished with value: 0.5174825174825175 and parameters: {'penalty': 'l1', 'C': 13.933795710341087}. Best is trial 5 with value: 0.5314685314685315.\n",
      "/home/toyotx22/bitcoin_sentiment_forecaster/tf_venv2/lib/python3.10/site-packages/sklearn/linear_model/_sag.py:350: ConvergenceWarning: The max_iter was reached which means the coef_ did not converge\n",
      "  warnings.warn(\n",
      "[I 2025-09-16 23:46:47,993] Trial 81 finished with value: 0.5314685314685315 and parameters: {'penalty': 'l1', 'C': 28.393246211021307}. Best is trial 5 with value: 0.5314685314685315.\n",
      "/home/toyotx22/bitcoin_sentiment_forecaster/tf_venv2/lib/python3.10/site-packages/sklearn/linear_model/_sag.py:350: ConvergenceWarning: The max_iter was reached which means the coef_ did not converge\n",
      "  warnings.warn(\n",
      "[I 2025-09-16 23:46:50,018] Trial 82 finished with value: 0.5314685314685315 and parameters: {'penalty': 'l1', 'C': 39.63880286944592}. Best is trial 5 with value: 0.5314685314685315.\n",
      "/home/toyotx22/bitcoin_sentiment_forecaster/tf_venv2/lib/python3.10/site-packages/sklearn/linear_model/_sag.py:350: ConvergenceWarning: The max_iter was reached which means the coef_ did not converge\n",
      "  warnings.warn(\n",
      "[I 2025-09-16 23:46:52,071] Trial 83 finished with value: 0.5314685314685315 and parameters: {'penalty': 'l1', 'C': 22.325907033177707}. Best is trial 5 with value: 0.5314685314685315.\n",
      "/home/toyotx22/bitcoin_sentiment_forecaster/tf_venv2/lib/python3.10/site-packages/sklearn/linear_model/_sag.py:350: ConvergenceWarning: The max_iter was reached which means the coef_ did not converge\n",
      "  warnings.warn(\n",
      "[I 2025-09-16 23:46:54,114] Trial 84 finished with value: 0.5314685314685315 and parameters: {'penalty': 'l1', 'C': 31.35757557369631}. Best is trial 5 with value: 0.5314685314685315.\n",
      "/home/toyotx22/bitcoin_sentiment_forecaster/tf_venv2/lib/python3.10/site-packages/sklearn/linear_model/_sag.py:350: ConvergenceWarning: The max_iter was reached which means the coef_ did not converge\n",
      "  warnings.warn(\n",
      "[I 2025-09-16 23:46:56,132] Trial 85 finished with value: 0.5314685314685315 and parameters: {'penalty': 'l1', 'C': 41.77794799443516}. Best is trial 5 with value: 0.5314685314685315.\n",
      "/home/toyotx22/bitcoin_sentiment_forecaster/tf_venv2/lib/python3.10/site-packages/sklearn/linear_model/_sag.py:350: ConvergenceWarning: The max_iter was reached which means the coef_ did not converge\n",
      "  warnings.warn(\n",
      "[I 2025-09-16 23:46:58,155] Trial 86 finished with value: 0.5174825174825175 and parameters: {'penalty': 'elasticnet', 'C': 17.891067664133967, 'l1_ratio': 0.2760887205633803}. Best is trial 5 with value: 0.5314685314685315.\n",
      "/home/toyotx22/bitcoin_sentiment_forecaster/tf_venv2/lib/python3.10/site-packages/sklearn/linear_model/_sag.py:350: ConvergenceWarning: The max_iter was reached which means the coef_ did not converge\n",
      "  warnings.warn(\n",
      "[I 2025-09-16 23:46:59,734] Trial 87 finished with value: 0.5174825174825175 and parameters: {'penalty': 'l2', 'C': 28.249072908986026}. Best is trial 5 with value: 0.5314685314685315.\n",
      "/home/toyotx22/bitcoin_sentiment_forecaster/tf_venv2/lib/python3.10/site-packages/sklearn/linear_model/_sag.py:350: ConvergenceWarning: The max_iter was reached which means the coef_ did not converge\n",
      "  warnings.warn(\n",
      "[I 2025-09-16 23:47:01,789] Trial 88 finished with value: 0.5314685314685315 and parameters: {'penalty': 'l1', 'C': 21.10328858255116}. Best is trial 5 with value: 0.5314685314685315.\n",
      "/home/toyotx22/bitcoin_sentiment_forecaster/tf_venv2/lib/python3.10/site-packages/sklearn/linear_model/_sag.py:350: ConvergenceWarning: The max_iter was reached which means the coef_ did not converge\n",
      "  warnings.warn(\n",
      "[I 2025-09-16 23:47:03,817] Trial 89 finished with value: 0.5174825174825175 and parameters: {'penalty': 'l1', 'C': 9.041479065710563}. Best is trial 5 with value: 0.5314685314685315.\n",
      "/home/toyotx22/bitcoin_sentiment_forecaster/tf_venv2/lib/python3.10/site-packages/sklearn/linear_model/_sag.py:350: ConvergenceWarning: The max_iter was reached which means the coef_ did not converge\n",
      "  warnings.warn(\n",
      "[I 2025-09-16 23:47:05,862] Trial 90 finished with value: 0.5174825174825175 and parameters: {'penalty': 'l1', 'C': 11.601617480883325}. Best is trial 5 with value: 0.5314685314685315.\n",
      "/home/toyotx22/bitcoin_sentiment_forecaster/tf_venv2/lib/python3.10/site-packages/sklearn/linear_model/_sag.py:350: ConvergenceWarning: The max_iter was reached which means the coef_ did not converge\n",
      "  warnings.warn(\n",
      "[I 2025-09-16 23:47:07,907] Trial 91 finished with value: 0.5314685314685315 and parameters: {'penalty': 'l1', 'C': 30.32355233775764}. Best is trial 5 with value: 0.5314685314685315.\n",
      "/home/toyotx22/bitcoin_sentiment_forecaster/tf_venv2/lib/python3.10/site-packages/sklearn/linear_model/_sag.py:350: ConvergenceWarning: The max_iter was reached which means the coef_ did not converge\n",
      "  warnings.warn(\n",
      "[I 2025-09-16 23:47:09,941] Trial 92 finished with value: 0.5314685314685315 and parameters: {'penalty': 'l1', 'C': 37.28481404005713}. Best is trial 5 with value: 0.5314685314685315.\n",
      "/home/toyotx22/bitcoin_sentiment_forecaster/tf_venv2/lib/python3.10/site-packages/sklearn/linear_model/_sag.py:350: ConvergenceWarning: The max_iter was reached which means the coef_ did not converge\n",
      "  warnings.warn(\n",
      "[I 2025-09-16 23:47:11,994] Trial 93 finished with value: 0.5174825174825175 and parameters: {'penalty': 'l1', 'C': 14.931779397265931}. Best is trial 5 with value: 0.5314685314685315.\n",
      "/home/toyotx22/bitcoin_sentiment_forecaster/tf_venv2/lib/python3.10/site-packages/sklearn/linear_model/_sag.py:350: ConvergenceWarning: The max_iter was reached which means the coef_ did not converge\n",
      "  warnings.warn(\n",
      "[I 2025-09-16 23:47:14,023] Trial 94 finished with value: 0.5314685314685315 and parameters: {'penalty': 'l1', 'C': 49.166818954133376}. Best is trial 5 with value: 0.5314685314685315.\n",
      "/home/toyotx22/bitcoin_sentiment_forecaster/tf_venv2/lib/python3.10/site-packages/sklearn/linear_model/_sag.py:350: ConvergenceWarning: The max_iter was reached which means the coef_ did not converge\n",
      "  warnings.warn(\n",
      "[I 2025-09-16 23:47:16,081] Trial 95 finished with value: 0.5314685314685315 and parameters: {'penalty': 'l1', 'C': 26.088799875507874}. Best is trial 5 with value: 0.5314685314685315.\n",
      "/home/toyotx22/bitcoin_sentiment_forecaster/tf_venv2/lib/python3.10/site-packages/sklearn/linear_model/_sag.py:350: ConvergenceWarning: The max_iter was reached which means the coef_ did not converge\n",
      "  warnings.warn(\n",
      "[I 2025-09-16 23:47:18,108] Trial 96 finished with value: 0.5314685314685315 and parameters: {'penalty': 'l1', 'C': 38.050392313683936}. Best is trial 5 with value: 0.5314685314685315.\n",
      "/home/toyotx22/bitcoin_sentiment_forecaster/tf_venv2/lib/python3.10/site-packages/sklearn/linear_model/_sag.py:350: ConvergenceWarning: The max_iter was reached which means the coef_ did not converge\n",
      "  warnings.warn(\n",
      "[I 2025-09-16 23:47:20,163] Trial 97 finished with value: 0.5314685314685315 and parameters: {'penalty': 'l1', 'C': 19.752777545690204}. Best is trial 5 with value: 0.5314685314685315.\n",
      "/home/toyotx22/bitcoin_sentiment_forecaster/tf_venv2/lib/python3.10/site-packages/sklearn/linear_model/_sag.py:350: ConvergenceWarning: The max_iter was reached which means the coef_ did not converge\n",
      "  warnings.warn(\n",
      "[I 2025-09-16 23:47:22,332] Trial 98 finished with value: 0.5314685314685315 and parameters: {'penalty': 'l1', 'C': 29.789368820797574}. Best is trial 5 with value: 0.5314685314685315.\n",
      "/home/toyotx22/bitcoin_sentiment_forecaster/tf_venv2/lib/python3.10/site-packages/sklearn/linear_model/_sag.py:350: ConvergenceWarning: The max_iter was reached which means the coef_ did not converge\n",
      "  warnings.warn(\n",
      "[I 2025-09-16 23:47:24,441] Trial 99 finished with value: 0.5174825174825175 and parameters: {'penalty': 'elasticnet', 'C': 13.106546186456782, 'l1_ratio': 0.7366863198681206}. Best is trial 5 with value: 0.5314685314685315.\n",
      "/home/toyotx22/bitcoin_sentiment_forecaster/tf_venv2/lib/python3.10/site-packages/sklearn/linear_model/_sag.py:350: ConvergenceWarning: The max_iter was reached which means the coef_ did not converge\n",
      "  warnings.warn(\n",
      "[I 2025-09-16 23:47:26,400] Trial 100 finished with value: 0.5277777777777778 and parameters: {'penalty': 'l1', 'C': 4.369432467031713}. Best is trial 5 with value: 0.5314685314685315.\n",
      "/home/toyotx22/bitcoin_sentiment_forecaster/tf_venv2/lib/python3.10/site-packages/sklearn/linear_model/_sag.py:350: ConvergenceWarning: The max_iter was reached which means the coef_ did not converge\n",
      "  warnings.warn(\n",
      "[I 2025-09-16 23:47:28,431] Trial 101 finished with value: 0.5314685314685315 and parameters: {'penalty': 'l1', 'C': 39.501993049811034}. Best is trial 5 with value: 0.5314685314685315.\n",
      "/home/toyotx22/bitcoin_sentiment_forecaster/tf_venv2/lib/python3.10/site-packages/sklearn/linear_model/_sag.py:350: ConvergenceWarning: The max_iter was reached which means the coef_ did not converge\n",
      "  warnings.warn(\n",
      "[I 2025-09-16 23:47:30,439] Trial 102 finished with value: 0.5314685314685315 and parameters: {'penalty': 'l1', 'C': 48.49071237819316}. Best is trial 5 with value: 0.5314685314685315.\n",
      "/home/toyotx22/bitcoin_sentiment_forecaster/tf_venv2/lib/python3.10/site-packages/sklearn/linear_model/_sag.py:350: ConvergenceWarning: The max_iter was reached which means the coef_ did not converge\n",
      "  warnings.warn(\n",
      "[I 2025-09-16 23:47:32,493] Trial 103 finished with value: 0.5314685314685315 and parameters: {'penalty': 'l1', 'C': 23.538230893428107}. Best is trial 5 with value: 0.5314685314685315.\n",
      "/home/toyotx22/bitcoin_sentiment_forecaster/tf_venv2/lib/python3.10/site-packages/sklearn/linear_model/_sag.py:350: ConvergenceWarning: The max_iter was reached which means the coef_ did not converge\n",
      "  warnings.warn(\n",
      "[I 2025-09-16 23:47:34,528] Trial 104 finished with value: 0.5314685314685315 and parameters: {'penalty': 'l1', 'C': 31.45532963881857}. Best is trial 5 with value: 0.5314685314685315.\n",
      "/home/toyotx22/bitcoin_sentiment_forecaster/tf_venv2/lib/python3.10/site-packages/sklearn/linear_model/_sag.py:350: ConvergenceWarning: The max_iter was reached which means the coef_ did not converge\n",
      "  warnings.warn(\n",
      "[I 2025-09-16 23:47:36,543] Trial 105 finished with value: 0.5314685314685315 and parameters: {'penalty': 'l1', 'C': 42.92934285850461}. Best is trial 5 with value: 0.5314685314685315.\n",
      "/home/toyotx22/bitcoin_sentiment_forecaster/tf_venv2/lib/python3.10/site-packages/sklearn/linear_model/_sag.py:350: ConvergenceWarning: The max_iter was reached which means the coef_ did not converge\n",
      "  warnings.warn(\n",
      "[I 2025-09-16 23:47:38,138] Trial 106 finished with value: 0.5174825174825175 and parameters: {'penalty': 'l2', 'C': 17.1270908176517}. Best is trial 5 with value: 0.5314685314685315.\n",
      "/home/toyotx22/bitcoin_sentiment_forecaster/tf_venv2/lib/python3.10/site-packages/sklearn/linear_model/_sag.py:350: ConvergenceWarning: The max_iter was reached which means the coef_ did not converge\n",
      "  warnings.warn(\n",
      "[I 2025-09-16 23:47:40,192] Trial 107 finished with value: 0.5314685314685315 and parameters: {'penalty': 'l1', 'C': 23.843914601480837}. Best is trial 5 with value: 0.5314685314685315.\n",
      "/home/toyotx22/bitcoin_sentiment_forecaster/tf_venv2/lib/python3.10/site-packages/sklearn/linear_model/_sag.py:350: ConvergenceWarning: The max_iter was reached which means the coef_ did not converge\n",
      "  warnings.warn(\n",
      "[I 2025-09-16 23:47:42,234] Trial 108 finished with value: 0.5314685314685315 and parameters: {'penalty': 'l1', 'C': 34.09101624210972}. Best is trial 5 with value: 0.5314685314685315.\n",
      "/home/toyotx22/bitcoin_sentiment_forecaster/tf_venv2/lib/python3.10/site-packages/sklearn/linear_model/_sag.py:350: ConvergenceWarning: The max_iter was reached which means the coef_ did not converge\n",
      "  warnings.warn(\n",
      "[I 2025-09-16 23:47:44,088] Trial 109 finished with value: 0.43902439024390244 and parameters: {'penalty': 'l1', 'C': 0.18460296374075125}. Best is trial 5 with value: 0.5314685314685315.\n",
      "/home/toyotx22/bitcoin_sentiment_forecaster/tf_venv2/lib/python3.10/site-packages/sklearn/linear_model/_sag.py:350: ConvergenceWarning: The max_iter was reached which means the coef_ did not converge\n",
      "  warnings.warn(\n",
      "[I 2025-09-16 23:47:45,963] Trial 110 finished with value: 0.448 and parameters: {'penalty': 'l1', 'C': 0.764552176028154}. Best is trial 5 with value: 0.5314685314685315.\n",
      "/home/toyotx22/bitcoin_sentiment_forecaster/tf_venv2/lib/python3.10/site-packages/sklearn/linear_model/_sag.py:350: ConvergenceWarning: The max_iter was reached which means the coef_ did not converge\n",
      "  warnings.warn(\n",
      "[I 2025-09-16 23:47:47,971] Trial 111 finished with value: 0.5314685314685315 and parameters: {'penalty': 'l1', 'C': 49.38499771940337}. Best is trial 5 with value: 0.5314685314685315.\n",
      "/home/toyotx22/bitcoin_sentiment_forecaster/tf_venv2/lib/python3.10/site-packages/sklearn/linear_model/_sag.py:350: ConvergenceWarning: The max_iter was reached which means the coef_ did not converge\n",
      "  warnings.warn(\n",
      "[I 2025-09-16 23:47:50,011] Trial 112 finished with value: 0.5314685314685315 and parameters: {'penalty': 'l1', 'C': 40.0700729894134}. Best is trial 5 with value: 0.5314685314685315.\n",
      "/home/toyotx22/bitcoin_sentiment_forecaster/tf_venv2/lib/python3.10/site-packages/sklearn/linear_model/_sag.py:350: ConvergenceWarning: The max_iter was reached which means the coef_ did not converge\n",
      "  warnings.warn(\n",
      "[I 2025-09-16 23:47:52,116] Trial 113 finished with value: 0.5314685314685315 and parameters: {'penalty': 'l1', 'C': 25.449630325340607}. Best is trial 5 with value: 0.5314685314685315.\n",
      "/home/toyotx22/bitcoin_sentiment_forecaster/tf_venv2/lib/python3.10/site-packages/sklearn/linear_model/_sag.py:350: ConvergenceWarning: The max_iter was reached which means the coef_ did not converge\n",
      "  warnings.warn(\n",
      "[I 2025-09-16 23:47:54,157] Trial 114 finished with value: 0.5314685314685315 and parameters: {'penalty': 'l1', 'C': 30.237811103752666}. Best is trial 5 with value: 0.5314685314685315.\n",
      "/home/toyotx22/bitcoin_sentiment_forecaster/tf_venv2/lib/python3.10/site-packages/sklearn/linear_model/_sag.py:350: ConvergenceWarning: The max_iter was reached which means the coef_ did not converge\n",
      "  warnings.warn(\n",
      "[I 2025-09-16 23:47:56,208] Trial 115 finished with value: 0.5314685314685315 and parameters: {'penalty': 'l1', 'C': 21.22074653521993}. Best is trial 5 with value: 0.5314685314685315.\n",
      "/home/toyotx22/bitcoin_sentiment_forecaster/tf_venv2/lib/python3.10/site-packages/sklearn/linear_model/_sag.py:350: ConvergenceWarning: The max_iter was reached which means the coef_ did not converge\n",
      "  warnings.warn(\n",
      "[I 2025-09-16 23:47:58,282] Trial 116 finished with value: 0.5314685314685315 and parameters: {'penalty': 'l1', 'C': 40.83994658758971}. Best is trial 5 with value: 0.5314685314685315.\n",
      "[I 2025-09-16 23:47:58,352] Trial 117 finished with value: 0.47297297297297297 and parameters: {'penalty': 'l1', 'C': 0.003979822548022904}. Best is trial 5 with value: 0.5314685314685315.\n",
      "/home/toyotx22/bitcoin_sentiment_forecaster/tf_venv2/lib/python3.10/site-packages/sklearn/linear_model/_sag.py:350: ConvergenceWarning: The max_iter was reached which means the coef_ did not converge\n",
      "  warnings.warn(\n",
      "[I 2025-09-16 23:48:00,387] Trial 118 finished with value: 0.5314685314685315 and parameters: {'penalty': 'l1', 'C': 33.768027241603214}. Best is trial 5 with value: 0.5314685314685315.\n",
      "/home/toyotx22/bitcoin_sentiment_forecaster/tf_venv2/lib/python3.10/site-packages/sklearn/linear_model/_sag.py:350: ConvergenceWarning: The max_iter was reached which means the coef_ did not converge\n",
      "  warnings.warn(\n",
      "[I 2025-09-16 23:48:02,427] Trial 119 finished with value: 0.5174825174825175 and parameters: {'penalty': 'elasticnet', 'C': 17.053935971422863, 'l1_ratio': 0.4549459388495758}. Best is trial 5 with value: 0.5314685314685315.\n",
      "/home/toyotx22/bitcoin_sentiment_forecaster/tf_venv2/lib/python3.10/site-packages/sklearn/linear_model/_sag.py:350: ConvergenceWarning: The max_iter was reached which means the coef_ did not converge\n",
      "  warnings.warn(\n",
      "[I 2025-09-16 23:48:04,667] Trial 120 finished with value: 0.5314685314685315 and parameters: {'penalty': 'l1', 'C': 28.366276910376826}. Best is trial 5 with value: 0.5314685314685315.\n",
      "/home/toyotx22/bitcoin_sentiment_forecaster/tf_venv2/lib/python3.10/site-packages/sklearn/linear_model/_sag.py:350: ConvergenceWarning: The max_iter was reached which means the coef_ did not converge\n",
      "  warnings.warn(\n",
      "[I 2025-09-16 23:48:06,775] Trial 121 finished with value: 0.5314685314685315 and parameters: {'penalty': 'l1', 'C': 21.345913586675774}. Best is trial 5 with value: 0.5314685314685315.\n",
      "/home/toyotx22/bitcoin_sentiment_forecaster/tf_venv2/lib/python3.10/site-packages/sklearn/linear_model/_sag.py:350: ConvergenceWarning: The max_iter was reached which means the coef_ did not converge\n",
      "  warnings.warn(\n",
      "[I 2025-09-16 23:48:08,858] Trial 122 finished with value: 0.5314685314685315 and parameters: {'penalty': 'l1', 'C': 48.46134016341731}. Best is trial 5 with value: 0.5314685314685315.\n",
      "[I 2025-09-16 23:48:10,306] Trial 123 finished with value: 0.42276422764227645 and parameters: {'penalty': 'l1', 'C': 0.06087875954162472}. Best is trial 5 with value: 0.5314685314685315.\n",
      "/home/toyotx22/bitcoin_sentiment_forecaster/tf_venv2/lib/python3.10/site-packages/sklearn/linear_model/_sag.py:350: ConvergenceWarning: The max_iter was reached which means the coef_ did not converge\n",
      "  warnings.warn(\n",
      "[I 2025-09-16 23:48:12,389] Trial 124 finished with value: 0.5314685314685315 and parameters: {'penalty': 'l1', 'C': 36.866467017221396}. Best is trial 5 with value: 0.5314685314685315.\n",
      "/home/toyotx22/bitcoin_sentiment_forecaster/tf_venv2/lib/python3.10/site-packages/sklearn/linear_model/_sag.py:350: ConvergenceWarning: The max_iter was reached which means the coef_ did not converge\n",
      "  warnings.warn(\n",
      "[I 2025-09-16 23:48:14,499] Trial 125 finished with value: 0.5174825174825175 and parameters: {'penalty': 'l1', 'C': 14.953104623183396}. Best is trial 5 with value: 0.5314685314685315.\n",
      "/home/toyotx22/bitcoin_sentiment_forecaster/tf_venv2/lib/python3.10/site-packages/sklearn/linear_model/_sag.py:350: ConvergenceWarning: The max_iter was reached which means the coef_ did not converge\n",
      "  warnings.warn(\n",
      "[I 2025-09-16 23:48:15,992] Trial 126 finished with value: 0.5174825174825175 and parameters: {'penalty': 'l2', 'C': 26.597763946892485}. Best is trial 5 with value: 0.5314685314685315.\n",
      "/home/toyotx22/bitcoin_sentiment_forecaster/tf_venv2/lib/python3.10/site-packages/sklearn/linear_model/_sag.py:350: ConvergenceWarning: The max_iter was reached which means the coef_ did not converge\n",
      "  warnings.warn(\n",
      "[I 2025-09-16 23:48:18,013] Trial 127 finished with value: 0.5314685314685315 and parameters: {'penalty': 'l1', 'C': 40.221386730855215}. Best is trial 5 with value: 0.5314685314685315.\n",
      "/home/toyotx22/bitcoin_sentiment_forecaster/tf_venv2/lib/python3.10/site-packages/sklearn/linear_model/_sag.py:350: ConvergenceWarning: The max_iter was reached which means the coef_ did not converge\n",
      "  warnings.warn(\n",
      "[I 2025-09-16 23:48:20,113] Trial 128 finished with value: 0.5314685314685315 and parameters: {'penalty': 'l1', 'C': 31.877402085486093}. Best is trial 5 with value: 0.5314685314685315.\n",
      "/home/toyotx22/bitcoin_sentiment_forecaster/tf_venv2/lib/python3.10/site-packages/sklearn/linear_model/_sag.py:350: ConvergenceWarning: The max_iter was reached which means the coef_ did not converge\n",
      "  warnings.warn(\n",
      "[I 2025-09-16 23:48:22,175] Trial 129 finished with value: 0.5314685314685315 and parameters: {'penalty': 'l1', 'C': 20.781277826533778}. Best is trial 5 with value: 0.5314685314685315.\n",
      "/home/toyotx22/bitcoin_sentiment_forecaster/tf_venv2/lib/python3.10/site-packages/sklearn/linear_model/_sag.py:350: ConvergenceWarning: The max_iter was reached which means the coef_ did not converge\n",
      "  warnings.warn(\n",
      "[I 2025-09-16 23:48:24,255] Trial 130 finished with value: 0.5174825174825175 and parameters: {'penalty': 'l1', 'C': 10.12889984816665}. Best is trial 5 with value: 0.5314685314685315.\n",
      "/home/toyotx22/bitcoin_sentiment_forecaster/tf_venv2/lib/python3.10/site-packages/sklearn/linear_model/_sag.py:350: ConvergenceWarning: The max_iter was reached which means the coef_ did not converge\n",
      "  warnings.warn(\n",
      "[I 2025-09-16 23:48:26,261] Trial 131 finished with value: 0.5314685314685315 and parameters: {'penalty': 'l1', 'C': 49.93311235918242}. Best is trial 5 with value: 0.5314685314685315.\n",
      "/home/toyotx22/bitcoin_sentiment_forecaster/tf_venv2/lib/python3.10/site-packages/sklearn/linear_model/_sag.py:350: ConvergenceWarning: The max_iter was reached which means the coef_ did not converge\n",
      "  warnings.warn(\n",
      "[I 2025-09-16 23:48:28,356] Trial 132 finished with value: 0.5314685314685315 and parameters: {'penalty': 'l1', 'C': 34.96414990900442}. Best is trial 5 with value: 0.5314685314685315.\n",
      "/home/toyotx22/bitcoin_sentiment_forecaster/tf_venv2/lib/python3.10/site-packages/sklearn/linear_model/_sag.py:350: ConvergenceWarning: The max_iter was reached which means the coef_ did not converge\n",
      "  warnings.warn(\n",
      "[I 2025-09-16 23:48:30,434] Trial 133 finished with value: 0.5314685314685315 and parameters: {'penalty': 'l1', 'C': 42.48486459798076}. Best is trial 5 with value: 0.5314685314685315.\n",
      "/home/toyotx22/bitcoin_sentiment_forecaster/tf_venv2/lib/python3.10/site-packages/sklearn/linear_model/_sag.py:350: ConvergenceWarning: The max_iter was reached which means the coef_ did not converge\n",
      "  warnings.warn(\n",
      "[I 2025-09-16 23:48:32,525] Trial 134 finished with value: 0.5314685314685315 and parameters: {'penalty': 'l1', 'C': 25.332115751153545}. Best is trial 5 with value: 0.5314685314685315.\n",
      "/home/toyotx22/bitcoin_sentiment_forecaster/tf_venv2/lib/python3.10/site-packages/sklearn/linear_model/_sag.py:350: ConvergenceWarning: The max_iter was reached which means the coef_ did not converge\n",
      "  warnings.warn(\n",
      "[I 2025-09-16 23:48:34,582] Trial 135 finished with value: 0.5314685314685315 and parameters: {'penalty': 'l1', 'C': 31.313096040415736}. Best is trial 5 with value: 0.5314685314685315.\n",
      "/home/toyotx22/bitcoin_sentiment_forecaster/tf_venv2/lib/python3.10/site-packages/sklearn/linear_model/_sag.py:350: ConvergenceWarning: The max_iter was reached which means the coef_ did not converge\n",
      "  warnings.warn(\n",
      "[I 2025-09-16 23:48:36,641] Trial 136 finished with value: 0.5314685314685315 and parameters: {'penalty': 'l1', 'C': 49.50369375335105}. Best is trial 5 with value: 0.5314685314685315.\n",
      "/home/toyotx22/bitcoin_sentiment_forecaster/tf_venv2/lib/python3.10/site-packages/sklearn/linear_model/_sag.py:350: ConvergenceWarning: The max_iter was reached which means the coef_ did not converge\n",
      "  warnings.warn(\n",
      "[I 2025-09-16 23:48:38,624] Trial 137 finished with value: 0.43548387096774194 and parameters: {'penalty': 'l1', 'C': 0.011859794102549361}. Best is trial 5 with value: 0.5314685314685315.\n",
      "/home/toyotx22/bitcoin_sentiment_forecaster/tf_venv2/lib/python3.10/site-packages/sklearn/linear_model/_sag.py:350: ConvergenceWarning: The max_iter was reached which means the coef_ did not converge\n",
      "  warnings.warn(\n",
      "[I 2025-09-16 23:48:40,735] Trial 138 finished with value: 0.5174825174825175 and parameters: {'penalty': 'l1', 'C': 18.65977374618111}. Best is trial 5 with value: 0.5314685314685315.\n",
      "/home/toyotx22/bitcoin_sentiment_forecaster/tf_venv2/lib/python3.10/site-packages/sklearn/linear_model/_sag.py:350: ConvergenceWarning: The max_iter was reached which means the coef_ did not converge\n",
      "  warnings.warn(\n",
      "[I 2025-09-16 23:48:42,794] Trial 139 finished with value: 0.5174825174825175 and parameters: {'penalty': 'elasticnet', 'C': 26.37091848432353, 'l1_ratio': 0.23452334172258144}. Best is trial 5 with value: 0.5314685314685315.\n",
      "/home/toyotx22/bitcoin_sentiment_forecaster/tf_venv2/lib/python3.10/site-packages/sklearn/linear_model/_sag.py:350: ConvergenceWarning: The max_iter was reached which means the coef_ did not converge\n",
      "  warnings.warn(\n",
      "[I 2025-09-16 23:48:44,900] Trial 140 finished with value: 0.5314685314685315 and parameters: {'penalty': 'l1', 'C': 38.10715639731911}. Best is trial 5 with value: 0.5314685314685315.\n",
      "/home/toyotx22/bitcoin_sentiment_forecaster/tf_venv2/lib/python3.10/site-packages/sklearn/linear_model/_sag.py:350: ConvergenceWarning: The max_iter was reached which means the coef_ did not converge\n",
      "  warnings.warn(\n",
      "[I 2025-09-16 23:48:46,953] Trial 141 finished with value: 0.5314685314685315 and parameters: {'penalty': 'elasticnet', 'C': 33.34825260109343, 'l1_ratio': 0.5979702854008725}. Best is trial 5 with value: 0.5314685314685315.\n",
      "/home/toyotx22/bitcoin_sentiment_forecaster/tf_venv2/lib/python3.10/site-packages/sklearn/linear_model/_sag.py:350: ConvergenceWarning: The max_iter was reached which means the coef_ did not converge\n",
      "  warnings.warn(\n",
      "[I 2025-09-16 23:48:48,953] Trial 142 finished with value: 0.5314685314685315 and parameters: {'penalty': 'elasticnet', 'C': 49.1330683460702, 'l1_ratio': 0.7198370748773508}. Best is trial 5 with value: 0.5314685314685315.\n",
      "/home/toyotx22/bitcoin_sentiment_forecaster/tf_venv2/lib/python3.10/site-packages/sklearn/linear_model/_sag.py:350: ConvergenceWarning: The max_iter was reached which means the coef_ did not converge\n",
      "  warnings.warn(\n",
      "[I 2025-09-16 23:48:51,035] Trial 143 finished with value: 0.5174825174825175 and parameters: {'penalty': 'elasticnet', 'C': 22.663453356962528, 'l1_ratio': 0.60536594277839}. Best is trial 5 with value: 0.5314685314685315.\n",
      "/home/toyotx22/bitcoin_sentiment_forecaster/tf_venv2/lib/python3.10/site-packages/sklearn/linear_model/_sag.py:350: ConvergenceWarning: The max_iter was reached which means the coef_ did not converge\n",
      "  warnings.warn(\n",
      "[I 2025-09-16 23:48:53,047] Trial 144 finished with value: 0.5314685314685315 and parameters: {'penalty': 'elasticnet', 'C': 27.948860610389822, 'l1_ratio': 0.4822506879166649}. Best is trial 5 with value: 0.5314685314685315.\n",
      "/home/toyotx22/bitcoin_sentiment_forecaster/tf_venv2/lib/python3.10/site-packages/sklearn/linear_model/_sag.py:350: ConvergenceWarning: The max_iter was reached which means the coef_ did not converge\n",
      "  warnings.warn(\n",
      "[I 2025-09-16 23:48:55,069] Trial 145 finished with value: 0.5314685314685315 and parameters: {'penalty': 'l1', 'C': 40.640911716238755}. Best is trial 5 with value: 0.5314685314685315.\n",
      "/home/toyotx22/bitcoin_sentiment_forecaster/tf_venv2/lib/python3.10/site-packages/sklearn/linear_model/_sag.py:350: ConvergenceWarning: The max_iter was reached which means the coef_ did not converge\n",
      "  warnings.warn(\n",
      "[I 2025-09-16 23:48:57,164] Trial 146 finished with value: 0.5174825174825175 and parameters: {'penalty': 'l1', 'C': 12.768231686365214}. Best is trial 5 with value: 0.5314685314685315.\n",
      "[I 2025-09-16 23:48:58,592] Trial 147 finished with value: 0.48951048951048953 and parameters: {'penalty': 'l2', 'C': 2.1294041732570324}. Best is trial 5 with value: 0.5314685314685315.\n",
      "/home/toyotx22/bitcoin_sentiment_forecaster/tf_venv2/lib/python3.10/site-packages/sklearn/linear_model/_sag.py:350: ConvergenceWarning: The max_iter was reached which means the coef_ did not converge\n",
      "  warnings.warn(\n",
      "[I 2025-09-16 23:49:00,641] Trial 148 finished with value: 0.5174825174825175 and parameters: {'penalty': 'l1', 'C': 17.62836139775505}. Best is trial 5 with value: 0.5314685314685315.\n",
      "/home/toyotx22/bitcoin_sentiment_forecaster/tf_venv2/lib/python3.10/site-packages/sklearn/linear_model/_sag.py:350: ConvergenceWarning: The max_iter was reached which means the coef_ did not converge\n",
      "  warnings.warn(\n",
      "[I 2025-09-16 23:49:02,717] Trial 149 finished with value: 0.5314685314685315 and parameters: {'penalty': 'elasticnet', 'C': 32.89033400280748, 'l1_ratio': 0.8265685089547119}. Best is trial 5 with value: 0.5314685314685315.\n",
      "/home/toyotx22/bitcoin_sentiment_forecaster/tf_venv2/lib/python3.10/site-packages/sklearn/linear_model/_sag.py:350: ConvergenceWarning: The max_iter was reached which means the coef_ did not converge\n",
      "  warnings.warn(\n",
      "[I 2025-09-16 23:49:04,733] Trial 150 finished with value: 0.5314685314685315 and parameters: {'penalty': 'l1', 'C': 41.77036367125989}. Best is trial 5 with value: 0.5314685314685315.\n",
      "/home/toyotx22/bitcoin_sentiment_forecaster/tf_venv2/lib/python3.10/site-packages/sklearn/linear_model/_sag.py:350: ConvergenceWarning: The max_iter was reached which means the coef_ did not converge\n",
      "  warnings.warn(\n",
      "[I 2025-09-16 23:49:06,776] Trial 151 finished with value: 0.5314685314685315 and parameters: {'penalty': 'l1', 'C': 28.213954607152417}. Best is trial 5 with value: 0.5314685314685315.\n",
      "/home/toyotx22/bitcoin_sentiment_forecaster/tf_venv2/lib/python3.10/site-packages/sklearn/linear_model/_sag.py:350: ConvergenceWarning: The max_iter was reached which means the coef_ did not converge\n",
      "  warnings.warn(\n",
      "[I 2025-09-16 23:49:08,805] Trial 152 finished with value: 0.5314685314685315 and parameters: {'penalty': 'l1', 'C': 35.15706191777205}. Best is trial 5 with value: 0.5314685314685315.\n",
      "/home/toyotx22/bitcoin_sentiment_forecaster/tf_venv2/lib/python3.10/site-packages/sklearn/linear_model/_sag.py:350: ConvergenceWarning: The max_iter was reached which means the coef_ did not converge\n",
      "  warnings.warn(\n",
      "[I 2025-09-16 23:49:10,868] Trial 153 finished with value: 0.5314685314685315 and parameters: {'penalty': 'l1', 'C': 49.54584816290643}. Best is trial 5 with value: 0.5314685314685315.\n",
      "/home/toyotx22/bitcoin_sentiment_forecaster/tf_venv2/lib/python3.10/site-packages/sklearn/linear_model/_sag.py:350: ConvergenceWarning: The max_iter was reached which means the coef_ did not converge\n",
      "  warnings.warn(\n",
      "[I 2025-09-16 23:49:12,919] Trial 154 finished with value: 0.5314685314685315 and parameters: {'penalty': 'l1', 'C': 22.559621951274654}. Best is trial 5 with value: 0.5314685314685315.\n",
      "/home/toyotx22/bitcoin_sentiment_forecaster/tf_venv2/lib/python3.10/site-packages/sklearn/linear_model/_sag.py:350: ConvergenceWarning: The max_iter was reached which means the coef_ did not converge\n",
      "  warnings.warn(\n",
      "[I 2025-09-16 23:49:14,948] Trial 155 finished with value: 0.5314685314685315 and parameters: {'penalty': 'l1', 'C': 34.45335736081271}. Best is trial 5 with value: 0.5314685314685315.\n",
      "[I 2025-09-16 23:49:16,120] Trial 156 finished with value: 0.42276422764227645 and parameters: {'penalty': 'l1', 'C': 0.4038475717841254}. Best is trial 5 with value: 0.5314685314685315.\n",
      "/home/toyotx22/bitcoin_sentiment_forecaster/tf_venv2/lib/python3.10/site-packages/sklearn/linear_model/_sag.py:350: ConvergenceWarning: The max_iter was reached which means the coef_ did not converge\n",
      "  warnings.warn(\n",
      "[I 2025-09-16 23:49:18,222] Trial 157 finished with value: 0.5314685314685315 and parameters: {'penalty': 'l1', 'C': 26.089116274351657}. Best is trial 5 with value: 0.5314685314685315.\n",
      "/home/toyotx22/bitcoin_sentiment_forecaster/tf_venv2/lib/python3.10/site-packages/sklearn/linear_model/_sag.py:350: ConvergenceWarning: The max_iter was reached which means the coef_ did not converge\n",
      "  warnings.warn(\n",
      "[I 2025-09-16 23:49:20,299] Trial 158 finished with value: 0.5314685314685315 and parameters: {'penalty': 'l1', 'C': 39.679149474882365}. Best is trial 5 with value: 0.5314685314685315.\n",
      "/home/toyotx22/bitcoin_sentiment_forecaster/tf_venv2/lib/python3.10/site-packages/sklearn/linear_model/_sag.py:350: ConvergenceWarning: The max_iter was reached which means the coef_ did not converge\n",
      "  warnings.warn(\n",
      "[I 2025-09-16 23:49:22,404] Trial 159 finished with value: 0.5174825174825175 and parameters: {'penalty': 'l1', 'C': 15.405627532024258}. Best is trial 5 with value: 0.5314685314685315.\n",
      "/home/toyotx22/bitcoin_sentiment_forecaster/tf_venv2/lib/python3.10/site-packages/sklearn/linear_model/_sag.py:350: ConvergenceWarning: The max_iter was reached which means the coef_ did not converge\n",
      "  warnings.warn(\n",
      "[I 2025-09-16 23:49:24,475] Trial 160 finished with value: 0.5174825174825175 and parameters: {'penalty': 'l1', 'C': 18.79959342720899}. Best is trial 5 with value: 0.5314685314685315.\n",
      "/home/toyotx22/bitcoin_sentiment_forecaster/tf_venv2/lib/python3.10/site-packages/sklearn/linear_model/_sag.py:350: ConvergenceWarning: The max_iter was reached which means the coef_ did not converge\n",
      "  warnings.warn(\n",
      "[I 2025-09-16 23:49:26,568] Trial 161 finished with value: 0.5314685314685315 and parameters: {'penalty': 'l1', 'C': 30.657790397527048}. Best is trial 5 with value: 0.5314685314685315.\n",
      "/home/toyotx22/bitcoin_sentiment_forecaster/tf_venv2/lib/python3.10/site-packages/sklearn/linear_model/_sag.py:350: ConvergenceWarning: The max_iter was reached which means the coef_ did not converge\n",
      "  warnings.warn(\n",
      "[I 2025-09-16 23:49:28,643] Trial 162 finished with value: 0.5314685314685315 and parameters: {'penalty': 'l1', 'C': 41.3163040231992}. Best is trial 5 with value: 0.5314685314685315.\n",
      "/home/toyotx22/bitcoin_sentiment_forecaster/tf_venv2/lib/python3.10/site-packages/sklearn/linear_model/_sag.py:350: ConvergenceWarning: The max_iter was reached which means the coef_ did not converge\n",
      "  warnings.warn(\n",
      "[I 2025-09-16 23:49:30,646] Trial 163 finished with value: 0.5314685314685315 and parameters: {'penalty': 'l1', 'C': 49.884500584841476}. Best is trial 5 with value: 0.5314685314685315.\n",
      "/home/toyotx22/bitcoin_sentiment_forecaster/tf_venv2/lib/python3.10/site-packages/sklearn/linear_model/_sag.py:350: ConvergenceWarning: The max_iter was reached which means the coef_ did not converge\n",
      "  warnings.warn(\n",
      "[I 2025-09-16 23:49:32,707] Trial 164 finished with value: 0.5314685314685315 and parameters: {'penalty': 'l1', 'C': 23.64786013172112}. Best is trial 5 with value: 0.5314685314685315.\n",
      "/home/toyotx22/bitcoin_sentiment_forecaster/tf_venv2/lib/python3.10/site-packages/sklearn/linear_model/_sag.py:350: ConvergenceWarning: The max_iter was reached which means the coef_ did not converge\n",
      "  warnings.warn(\n",
      "[I 2025-09-16 23:49:34,749] Trial 165 finished with value: 0.5314685314685315 and parameters: {'penalty': 'l1', 'C': 33.71887575447042}. Best is trial 5 with value: 0.5314685314685315.\n",
      "/home/toyotx22/bitcoin_sentiment_forecaster/tf_venv2/lib/python3.10/site-packages/sklearn/linear_model/_sag.py:350: ConvergenceWarning: The max_iter was reached which means the coef_ did not converge\n",
      "  warnings.warn(\n",
      "[I 2025-09-16 23:49:36,790] Trial 166 finished with value: 0.5314685314685315 and parameters: {'penalty': 'l1', 'C': 29.13741600735523}. Best is trial 5 with value: 0.5314685314685315.\n",
      "/home/toyotx22/bitcoin_sentiment_forecaster/tf_venv2/lib/python3.10/site-packages/sklearn/linear_model/_sag.py:350: ConvergenceWarning: The max_iter was reached which means the coef_ did not converge\n",
      "  warnings.warn(\n",
      "[I 2025-09-16 23:49:38,860] Trial 167 finished with value: 0.5314685314685315 and parameters: {'penalty': 'l1', 'C': 40.27895446204971}. Best is trial 5 with value: 0.5314685314685315.\n",
      "/home/toyotx22/bitcoin_sentiment_forecaster/tf_venv2/lib/python3.10/site-packages/sklearn/linear_model/_sag.py:350: ConvergenceWarning: The max_iter was reached which means the coef_ did not converge\n",
      "  warnings.warn(\n",
      "[I 2025-09-16 23:49:40,964] Trial 168 finished with value: 0.5314685314685315 and parameters: {'penalty': 'l1', 'C': 21.478661828767333}. Best is trial 5 with value: 0.5314685314685315.\n",
      "/home/toyotx22/bitcoin_sentiment_forecaster/tf_venv2/lib/python3.10/site-packages/sklearn/linear_model/_sag.py:350: ConvergenceWarning: The max_iter was reached which means the coef_ did not converge\n",
      "  warnings.warn(\n",
      "[I 2025-09-16 23:49:42,994] Trial 169 finished with value: 0.5314685314685315 and parameters: {'penalty': 'l1', 'C': 34.238310342614064}. Best is trial 5 with value: 0.5314685314685315.\n",
      "/home/toyotx22/bitcoin_sentiment_forecaster/tf_venv2/lib/python3.10/site-packages/sklearn/linear_model/_sag.py:350: ConvergenceWarning: The max_iter was reached which means the coef_ did not converge\n",
      "  warnings.warn(\n",
      "[I 2025-09-16 23:49:45,012] Trial 170 finished with value: 0.5314685314685315 and parameters: {'penalty': 'l1', 'C': 41.89987360273947}. Best is trial 5 with value: 0.5314685314685315.\n",
      "/home/toyotx22/bitcoin_sentiment_forecaster/tf_venv2/lib/python3.10/site-packages/sklearn/linear_model/_sag.py:350: ConvergenceWarning: The max_iter was reached which means the coef_ did not converge\n",
      "  warnings.warn(\n",
      "[I 2025-09-16 23:49:47,020] Trial 171 finished with value: 0.5314685314685315 and parameters: {'penalty': 'l1', 'C': 48.09165106827138}. Best is trial 5 with value: 0.5314685314685315.\n",
      "/home/toyotx22/bitcoin_sentiment_forecaster/tf_venv2/lib/python3.10/site-packages/sklearn/linear_model/_sag.py:350: ConvergenceWarning: The max_iter was reached which means the coef_ did not converge\n",
      "  warnings.warn(\n",
      "[I 2025-09-16 23:49:49,025] Trial 172 finished with value: 0.5314685314685315 and parameters: {'penalty': 'l1', 'C': 49.924490958842}. Best is trial 5 with value: 0.5314685314685315.\n",
      "/home/toyotx22/bitcoin_sentiment_forecaster/tf_venv2/lib/python3.10/site-packages/sklearn/linear_model/_sag.py:350: ConvergenceWarning: The max_iter was reached which means the coef_ did not converge\n",
      "  warnings.warn(\n",
      "[I 2025-09-16 23:49:51,067] Trial 173 finished with value: 0.5314685314685315 and parameters: {'penalty': 'l1', 'C': 29.66255922002102}. Best is trial 5 with value: 0.5314685314685315.\n",
      "/home/toyotx22/bitcoin_sentiment_forecaster/tf_venv2/lib/python3.10/site-packages/sklearn/linear_model/_sag.py:350: ConvergenceWarning: The max_iter was reached which means the coef_ did not converge\n",
      "  warnings.warn(\n",
      "[I 2025-09-16 23:49:53,093] Trial 174 finished with value: 0.5314685314685315 and parameters: {'penalty': 'l1', 'C': 37.09788015989904}. Best is trial 5 with value: 0.5314685314685315.\n",
      "/home/toyotx22/bitcoin_sentiment_forecaster/tf_venv2/lib/python3.10/site-packages/sklearn/linear_model/_sag.py:350: ConvergenceWarning: The max_iter was reached which means the coef_ did not converge\n",
      "  warnings.warn(\n",
      "[I 2025-09-16 23:49:55,126] Trial 175 finished with value: 0.5174825174825175 and parameters: {'penalty': 'elasticnet', 'C': 24.613377157832765, 'l1_ratio': 0.6650026603486352}. Best is trial 5 with value: 0.5314685314685315.\n",
      "/home/toyotx22/bitcoin_sentiment_forecaster/tf_venv2/lib/python3.10/site-packages/sklearn/linear_model/_sag.py:350: ConvergenceWarning: The max_iter was reached which means the coef_ did not converge\n",
      "  warnings.warn(\n",
      "[I 2025-09-16 23:49:56,615] Trial 176 finished with value: 0.5174825174825175 and parameters: {'penalty': 'l2', 'C': 32.073628715909216}. Best is trial 5 with value: 0.5314685314685315.\n",
      "/home/toyotx22/bitcoin_sentiment_forecaster/tf_venv2/lib/python3.10/site-packages/sklearn/linear_model/_sag.py:350: ConvergenceWarning: The max_iter was reached which means the coef_ did not converge\n",
      "  warnings.warn(\n",
      "[I 2025-09-16 23:49:58,688] Trial 177 finished with value: 0.5314685314685315 and parameters: {'penalty': 'l1', 'C': 40.43301297341788}. Best is trial 5 with value: 0.5314685314685315.\n",
      "/home/toyotx22/bitcoin_sentiment_forecaster/tf_venv2/lib/python3.10/site-packages/sklearn/linear_model/_sag.py:350: ConvergenceWarning: The max_iter was reached which means the coef_ did not converge\n",
      "  warnings.warn(\n",
      "[I 2025-09-16 23:50:00,755] Trial 178 finished with value: 0.5314685314685315 and parameters: {'penalty': 'l1', 'C': 26.024028384433365}. Best is trial 5 with value: 0.5314685314685315.\n",
      "/home/toyotx22/bitcoin_sentiment_forecaster/tf_venv2/lib/python3.10/site-packages/sklearn/linear_model/_sag.py:350: ConvergenceWarning: The max_iter was reached which means the coef_ did not converge\n",
      "  warnings.warn(\n",
      "[I 2025-09-16 23:50:02,762] Trial 179 finished with value: 0.5314685314685315 and parameters: {'penalty': 'l1', 'C': 49.80185251677967}. Best is trial 5 with value: 0.5314685314685315.\n",
      "/home/toyotx22/bitcoin_sentiment_forecaster/tf_venv2/lib/python3.10/site-packages/sklearn/linear_model/_sag.py:350: ConvergenceWarning: The max_iter was reached which means the coef_ did not converge\n",
      "  warnings.warn(\n",
      "[I 2025-09-16 23:50:04,815] Trial 180 finished with value: 0.5314685314685315 and parameters: {'penalty': 'l1', 'C': 20.099457183963057}. Best is trial 5 with value: 0.5314685314685315.\n",
      "/home/toyotx22/bitcoin_sentiment_forecaster/tf_venv2/lib/python3.10/site-packages/sklearn/linear_model/_sag.py:350: ConvergenceWarning: The max_iter was reached which means the coef_ did not converge\n",
      "  warnings.warn(\n",
      "[I 2025-09-16 23:50:06,899] Trial 181 finished with value: 0.5314685314685315 and parameters: {'penalty': 'l1', 'C': 35.23910322330755}. Best is trial 5 with value: 0.5314685314685315.\n",
      "/home/toyotx22/bitcoin_sentiment_forecaster/tf_venv2/lib/python3.10/site-packages/sklearn/linear_model/_sag.py:350: ConvergenceWarning: The max_iter was reached which means the coef_ did not converge\n",
      "  warnings.warn(\n",
      "[I 2025-09-16 23:50:08,945] Trial 182 finished with value: 0.5314685314685315 and parameters: {'penalty': 'l1', 'C': 27.897274057419875}. Best is trial 5 with value: 0.5314685314685315.\n",
      "/home/toyotx22/bitcoin_sentiment_forecaster/tf_venv2/lib/python3.10/site-packages/sklearn/linear_model/_sag.py:350: ConvergenceWarning: The max_iter was reached which means the coef_ did not converge\n",
      "  warnings.warn(\n",
      "[I 2025-09-16 23:50:11,017] Trial 183 finished with value: 0.5314685314685315 and parameters: {'penalty': 'l1', 'C': 39.747938409711395}. Best is trial 5 with value: 0.5314685314685315.\n",
      "/home/toyotx22/bitcoin_sentiment_forecaster/tf_venv2/lib/python3.10/site-packages/sklearn/linear_model/_sag.py:350: ConvergenceWarning: The max_iter was reached which means the coef_ did not converge\n",
      "  warnings.warn(\n",
      "[I 2025-09-16 23:50:13,119] Trial 184 finished with value: 0.5314685314685315 and parameters: {'penalty': 'l1', 'C': 24.825482900256926}. Best is trial 5 with value: 0.5314685314685315.\n",
      "/home/toyotx22/bitcoin_sentiment_forecaster/tf_venv2/lib/python3.10/site-packages/sklearn/linear_model/_sag.py:350: ConvergenceWarning: The max_iter was reached which means the coef_ did not converge\n",
      "  warnings.warn(\n",
      "[I 2025-09-16 23:50:15,155] Trial 185 finished with value: 0.5314685314685315 and parameters: {'penalty': 'l1', 'C': 33.47226199595109}. Best is trial 5 with value: 0.5314685314685315.\n",
      "/home/toyotx22/bitcoin_sentiment_forecaster/tf_venv2/lib/python3.10/site-packages/sklearn/linear_model/_sag.py:350: ConvergenceWarning: The max_iter was reached which means the coef_ did not converge\n",
      "  warnings.warn(\n",
      "[I 2025-09-16 23:50:17,262] Trial 186 finished with value: 0.5174825174825175 and parameters: {'penalty': 'l1', 'C': 15.78022291109809}. Best is trial 5 with value: 0.5314685314685315.\n",
      "/home/toyotx22/bitcoin_sentiment_forecaster/tf_venv2/lib/python3.10/site-packages/sklearn/linear_model/_sag.py:350: ConvergenceWarning: The max_iter was reached which means the coef_ did not converge\n",
      "  warnings.warn(\n",
      "[I 2025-09-16 23:50:19,332] Trial 187 finished with value: 0.5314685314685315 and parameters: {'penalty': 'l1', 'C': 41.675389228526946}. Best is trial 5 with value: 0.5314685314685315.\n",
      "/home/toyotx22/bitcoin_sentiment_forecaster/tf_venv2/lib/python3.10/site-packages/sklearn/linear_model/_sag.py:350: ConvergenceWarning: The max_iter was reached which means the coef_ did not converge\n",
      "  warnings.warn(\n",
      "[I 2025-09-16 23:50:21,411] Trial 188 finished with value: 0.5174825174825175 and parameters: {'penalty': 'elasticnet', 'C': 20.71293497440423, 'l1_ratio': 0.4054206560877252}. Best is trial 5 with value: 0.5314685314685315.\n",
      "/home/toyotx22/bitcoin_sentiment_forecaster/tf_venv2/lib/python3.10/site-packages/sklearn/linear_model/_sag.py:350: ConvergenceWarning: The max_iter was reached which means the coef_ did not converge\n",
      "  warnings.warn(\n",
      "[I 2025-09-16 23:50:23,490] Trial 189 finished with value: 0.5314685314685315 and parameters: {'penalty': 'l1', 'C': 28.528599162391988}. Best is trial 5 with value: 0.5314685314685315.\n",
      "/home/toyotx22/bitcoin_sentiment_forecaster/tf_venv2/lib/python3.10/site-packages/sklearn/linear_model/_sag.py:350: ConvergenceWarning: The max_iter was reached which means the coef_ did not converge\n",
      "  warnings.warn(\n",
      "[I 2025-09-16 23:50:25,562] Trial 190 finished with value: 0.5314685314685315 and parameters: {'penalty': 'l1', 'C': 41.30221207992998}. Best is trial 5 with value: 0.5314685314685315.\n",
      "/home/toyotx22/bitcoin_sentiment_forecaster/tf_venv2/lib/python3.10/site-packages/sklearn/linear_model/_sag.py:350: ConvergenceWarning: The max_iter was reached which means the coef_ did not converge\n",
      "  warnings.warn(\n",
      "[I 2025-09-16 23:50:27,627] Trial 191 finished with value: 0.5314685314685315 and parameters: {'penalty': 'l1', 'C': 33.46277439650057}. Best is trial 5 with value: 0.5314685314685315.\n",
      "/home/toyotx22/bitcoin_sentiment_forecaster/tf_venv2/lib/python3.10/site-packages/sklearn/linear_model/_sag.py:350: ConvergenceWarning: The max_iter was reached which means the coef_ did not converge\n",
      "  warnings.warn(\n",
      "[I 2025-09-16 23:50:29,663] Trial 192 finished with value: 0.5314685314685315 and parameters: {'penalty': 'l1', 'C': 31.721626752483317}. Best is trial 5 with value: 0.5314685314685315.\n",
      "/home/toyotx22/bitcoin_sentiment_forecaster/tf_venv2/lib/python3.10/site-packages/sklearn/linear_model/_sag.py:350: ConvergenceWarning: The max_iter was reached which means the coef_ did not converge\n",
      "  warnings.warn(\n",
      "[I 2025-09-16 23:50:31,690] Trial 193 finished with value: 0.5314685314685315 and parameters: {'penalty': 'l1', 'C': 49.06038730453417}. Best is trial 5 with value: 0.5314685314685315.\n",
      "/home/toyotx22/bitcoin_sentiment_forecaster/tf_venv2/lib/python3.10/site-packages/sklearn/linear_model/_sag.py:350: ConvergenceWarning: The max_iter was reached which means the coef_ did not converge\n",
      "  warnings.warn(\n",
      "[I 2025-09-16 23:50:33,742] Trial 194 finished with value: 0.5314685314685315 and parameters: {'penalty': 'l1', 'C': 22.93272995141905}. Best is trial 5 with value: 0.5314685314685315.\n",
      "/home/toyotx22/bitcoin_sentiment_forecaster/tf_venv2/lib/python3.10/site-packages/sklearn/linear_model/_sag.py:350: ConvergenceWarning: The max_iter was reached which means the coef_ did not converge\n",
      "  warnings.warn(\n",
      "[I 2025-09-16 23:50:35,748] Trial 195 finished with value: 0.5314685314685315 and parameters: {'penalty': 'l1', 'C': 49.907565554049754}. Best is trial 5 with value: 0.5314685314685315.\n",
      "/home/toyotx22/bitcoin_sentiment_forecaster/tf_venv2/lib/python3.10/site-packages/sklearn/linear_model/_sag.py:350: ConvergenceWarning: The max_iter was reached which means the coef_ did not converge\n",
      "  warnings.warn(\n",
      "[I 2025-09-16 23:50:37,785] Trial 196 finished with value: 0.5314685314685315 and parameters: {'penalty': 'l1', 'C': 34.958804502615564}. Best is trial 5 with value: 0.5314685314685315.\n",
      "[I 2025-09-16 23:50:39,305] Trial 197 finished with value: 0.448 and parameters: {'penalty': 'l1', 'C': 0.10468449437908263}. Best is trial 5 with value: 0.5314685314685315.\n",
      "/home/toyotx22/bitcoin_sentiment_forecaster/tf_venv2/lib/python3.10/site-packages/sklearn/linear_model/_sag.py:350: ConvergenceWarning: The max_iter was reached which means the coef_ did not converge\n",
      "  warnings.warn(\n",
      "[I 2025-09-16 23:50:41,353] Trial 198 finished with value: 0.5314685314685315 and parameters: {'penalty': 'l1', 'C': 26.820260912482084}. Best is trial 5 with value: 0.5314685314685315.\n",
      "/home/toyotx22/bitcoin_sentiment_forecaster/tf_venv2/lib/python3.10/site-packages/sklearn/linear_model/_sag.py:350: ConvergenceWarning: The max_iter was reached which means the coef_ did not converge\n",
      "  warnings.warn(\n",
      "[I 2025-09-16 23:50:43,240] Trial 199 finished with value: 0.45925925925925926 and parameters: {'penalty': 'l1', 'C': 1.1851304689633957}. Best is trial 5 with value: 0.5314685314685315.\n",
      "/home/toyotx22/bitcoin_sentiment_forecaster/tf_venv2/lib/python3.10/site-packages/sklearn/linear_model/_sag.py:350: ConvergenceWarning: The max_iter was reached which means the coef_ did not converge\n",
      "  warnings.warn(\n",
      "[I 2025-09-16 23:50:45,350] Trial 200 finished with value: 0.5174825174825175 and parameters: {'penalty': 'l1', 'C': 18.297905208328913}. Best is trial 5 with value: 0.5314685314685315.\n",
      "/home/toyotx22/bitcoin_sentiment_forecaster/tf_venv2/lib/python3.10/site-packages/sklearn/linear_model/_sag.py:350: ConvergenceWarning: The max_iter was reached which means the coef_ did not converge\n",
      "  warnings.warn(\n",
      "[I 2025-09-16 23:50:47,381] Trial 201 finished with value: 0.5314685314685315 and parameters: {'penalty': 'l1', 'C': 39.81695841679975}. Best is trial 5 with value: 0.5314685314685315.\n",
      "/home/toyotx22/bitcoin_sentiment_forecaster/tf_venv2/lib/python3.10/site-packages/sklearn/linear_model/_sag.py:350: ConvergenceWarning: The max_iter was reached which means the coef_ did not converge\n",
      "  warnings.warn(\n",
      "[I 2025-09-16 23:50:49,434] Trial 202 finished with value: 0.5314685314685315 and parameters: {'penalty': 'l1', 'C': 23.748575460333573}. Best is trial 5 with value: 0.5314685314685315.\n",
      "/home/toyotx22/bitcoin_sentiment_forecaster/tf_venv2/lib/python3.10/site-packages/sklearn/linear_model/_sag.py:350: ConvergenceWarning: The max_iter was reached which means the coef_ did not converge\n",
      "  warnings.warn(\n",
      "[I 2025-09-16 23:50:51,477] Trial 203 finished with value: 0.5314685314685315 and parameters: {'penalty': 'l1', 'C': 31.536399048762142}. Best is trial 5 with value: 0.5314685314685315.\n",
      "/home/toyotx22/bitcoin_sentiment_forecaster/tf_venv2/lib/python3.10/site-packages/sklearn/linear_model/_sag.py:350: ConvergenceWarning: The max_iter was reached which means the coef_ did not converge\n",
      "  warnings.warn(\n",
      "[I 2025-09-16 23:50:53,497] Trial 204 finished with value: 0.5314685314685315 and parameters: {'penalty': 'l1', 'C': 39.4177502836499}. Best is trial 5 with value: 0.5314685314685315.\n",
      "/home/toyotx22/bitcoin_sentiment_forecaster/tf_venv2/lib/python3.10/site-packages/sklearn/linear_model/_sag.py:350: ConvergenceWarning: The max_iter was reached which means the coef_ did not converge\n",
      "  warnings.warn(\n",
      "[I 2025-09-16 23:50:55,536] Trial 205 finished with value: 0.5314685314685315 and parameters: {'penalty': 'l1', 'C': 28.04161915586315}. Best is trial 5 with value: 0.5314685314685315.\n",
      "/home/toyotx22/bitcoin_sentiment_forecaster/tf_venv2/lib/python3.10/site-packages/sklearn/linear_model/_sag.py:350: ConvergenceWarning: The max_iter was reached which means the coef_ did not converge\n",
      "  warnings.warn(\n",
      "[I 2025-09-16 23:50:57,024] Trial 206 finished with value: 0.5314685314685315 and parameters: {'penalty': 'l2', 'C': 49.78348532632243}. Best is trial 5 with value: 0.5314685314685315.\n",
      "/home/toyotx22/bitcoin_sentiment_forecaster/tf_venv2/lib/python3.10/site-packages/sklearn/linear_model/_sag.py:350: ConvergenceWarning: The max_iter was reached which means the coef_ did not converge\n",
      "  warnings.warn(\n",
      "[I 2025-09-16 23:50:59,066] Trial 207 finished with value: 0.5174825174825175 and parameters: {'penalty': 'l1', 'C': 12.27366515137495}. Best is trial 5 with value: 0.5314685314685315.\n",
      "/home/toyotx22/bitcoin_sentiment_forecaster/tf_venv2/lib/python3.10/site-packages/sklearn/linear_model/_sag.py:350: ConvergenceWarning: The max_iter was reached which means the coef_ did not converge\n",
      "  warnings.warn(\n",
      "[I 2025-09-16 23:51:01,110] Trial 208 finished with value: 0.5174825174825175 and parameters: {'penalty': 'elasticnet', 'C': 21.944143998526673, 'l1_ratio': 0.7701373113221681}. Best is trial 5 with value: 0.5314685314685315.\n",
      "/home/toyotx22/bitcoin_sentiment_forecaster/tf_venv2/lib/python3.10/site-packages/sklearn/linear_model/_sag.py:350: ConvergenceWarning: The max_iter was reached which means the coef_ did not converge\n",
      "  warnings.warn(\n",
      "[I 2025-09-16 23:51:03,140] Trial 209 finished with value: 0.5314685314685315 and parameters: {'penalty': 'l1', 'C': 34.88625061813551}. Best is trial 5 with value: 0.5314685314685315.\n",
      "/home/toyotx22/bitcoin_sentiment_forecaster/tf_venv2/lib/python3.10/site-packages/sklearn/linear_model/_sag.py:350: ConvergenceWarning: The max_iter was reached which means the coef_ did not converge\n",
      "  warnings.warn(\n",
      "[I 2025-09-16 23:51:05,157] Trial 210 finished with value: 0.5314685314685315 and parameters: {'penalty': 'l1', 'C': 40.935825990191475}. Best is trial 5 with value: 0.5314685314685315.\n",
      "/home/toyotx22/bitcoin_sentiment_forecaster/tf_venv2/lib/python3.10/site-packages/sklearn/linear_model/_sag.py:350: ConvergenceWarning: The max_iter was reached which means the coef_ did not converge\n",
      "  warnings.warn(\n",
      "[I 2025-09-16 23:51:07,188] Trial 211 finished with value: 0.5314685314685315 and parameters: {'penalty': 'l1', 'C': 32.21830331958846}. Best is trial 5 with value: 0.5314685314685315.\n",
      "/home/toyotx22/bitcoin_sentiment_forecaster/tf_venv2/lib/python3.10/site-packages/sklearn/linear_model/_sag.py:350: ConvergenceWarning: The max_iter was reached which means the coef_ did not converge\n",
      "  warnings.warn(\n",
      "[I 2025-09-16 23:51:09,230] Trial 212 finished with value: 0.5314685314685315 and parameters: {'penalty': 'l1', 'C': 27.112652717916646}. Best is trial 5 with value: 0.5314685314685315.\n",
      "/home/toyotx22/bitcoin_sentiment_forecaster/tf_venv2/lib/python3.10/site-packages/sklearn/linear_model/_sag.py:350: ConvergenceWarning: The max_iter was reached which means the coef_ did not converge\n",
      "  warnings.warn(\n",
      "[I 2025-09-16 23:51:11,248] Trial 213 finished with value: 0.5314685314685315 and parameters: {'penalty': 'l1', 'C': 40.97497509598397}. Best is trial 5 with value: 0.5314685314685315.\n",
      "/home/toyotx22/bitcoin_sentiment_forecaster/tf_venv2/lib/python3.10/site-packages/sklearn/linear_model/_sag.py:350: ConvergenceWarning: The max_iter was reached which means the coef_ did not converge\n",
      "  warnings.warn(\n",
      "[I 2025-09-16 23:51:13,302] Trial 214 finished with value: 0.5174825174825175 and parameters: {'penalty': 'l1', 'C': 17.797565162999103}. Best is trial 5 with value: 0.5314685314685315.\n",
      "/home/toyotx22/bitcoin_sentiment_forecaster/tf_venv2/lib/python3.10/site-packages/sklearn/linear_model/_sag.py:350: ConvergenceWarning: The max_iter was reached which means the coef_ did not converge\n",
      "  warnings.warn(\n",
      "[I 2025-09-16 23:51:15,348] Trial 215 finished with value: 0.5314685314685315 and parameters: {'penalty': 'l1', 'C': 34.213541598144836}. Best is trial 5 with value: 0.5314685314685315.\n",
      "/home/toyotx22/bitcoin_sentiment_forecaster/tf_venv2/lib/python3.10/site-packages/sklearn/linear_model/_sag.py:350: ConvergenceWarning: The max_iter was reached which means the coef_ did not converge\n",
      "  warnings.warn(\n",
      "[I 2025-09-16 23:51:17,396] Trial 216 finished with value: 0.5314685314685315 and parameters: {'penalty': 'l1', 'C': 23.045835468572225}. Best is trial 5 with value: 0.5314685314685315.\n",
      "/home/toyotx22/bitcoin_sentiment_forecaster/tf_venv2/lib/python3.10/site-packages/sklearn/linear_model/_sag.py:350: ConvergenceWarning: The max_iter was reached which means the coef_ did not converge\n",
      "  warnings.warn(\n",
      "[I 2025-09-16 23:51:19,411] Trial 217 finished with value: 0.5314685314685315 and parameters: {'penalty': 'l1', 'C': 41.85341334101896}. Best is trial 5 with value: 0.5314685314685315.\n",
      "/home/toyotx22/bitcoin_sentiment_forecaster/tf_venv2/lib/python3.10/site-packages/sklearn/linear_model/_sag.py:350: ConvergenceWarning: The max_iter was reached which means the coef_ did not converge\n",
      "  warnings.warn(\n",
      "[I 2025-09-16 23:51:21,414] Trial 218 finished with value: 0.5314685314685315 and parameters: {'penalty': 'l1', 'C': 49.98687220022139}. Best is trial 5 with value: 0.5314685314685315.\n",
      "/home/toyotx22/bitcoin_sentiment_forecaster/tf_venv2/lib/python3.10/site-packages/sklearn/linear_model/_sag.py:350: ConvergenceWarning: The max_iter was reached which means the coef_ did not converge\n",
      "  warnings.warn(\n",
      "[I 2025-09-16 23:51:23,472] Trial 219 finished with value: 0.5314685314685315 and parameters: {'penalty': 'l1', 'C': 28.69254051690742}. Best is trial 5 with value: 0.5314685314685315.\n",
      "[I 2025-09-16 23:51:23,974] Trial 220 finished with value: 0.42276422764227645 and parameters: {'penalty': 'l1', 'C': 0.031365832212513}. Best is trial 5 with value: 0.5314685314685315.\n",
      "/home/toyotx22/bitcoin_sentiment_forecaster/tf_venv2/lib/python3.10/site-packages/sklearn/linear_model/_sag.py:350: ConvergenceWarning: The max_iter was reached which means the coef_ did not converge\n",
      "  warnings.warn(\n",
      "[I 2025-09-16 23:51:26,001] Trial 221 finished with value: 0.5314685314685315 and parameters: {'penalty': 'l1', 'C': 34.79112450390854}. Best is trial 5 with value: 0.5314685314685315.\n",
      "/home/toyotx22/bitcoin_sentiment_forecaster/tf_venv2/lib/python3.10/site-packages/sklearn/linear_model/_sag.py:350: ConvergenceWarning: The max_iter was reached which means the coef_ did not converge\n",
      "  warnings.warn(\n",
      "[I 2025-09-16 23:51:28,046] Trial 222 finished with value: 0.5314685314685315 and parameters: {'penalty': 'l1', 'C': 24.853205891065205}. Best is trial 5 with value: 0.5314685314685315.\n",
      "/home/toyotx22/bitcoin_sentiment_forecaster/tf_venv2/lib/python3.10/site-packages/sklearn/linear_model/_sag.py:350: ConvergenceWarning: The max_iter was reached which means the coef_ did not converge\n",
      "  warnings.warn(\n",
      "[I 2025-09-16 23:51:30,177] Trial 223 finished with value: 0.5314685314685315 and parameters: {'penalty': 'l1', 'C': 29.588384483826875}. Best is trial 5 with value: 0.5314685314685315.\n",
      "/home/toyotx22/bitcoin_sentiment_forecaster/tf_venv2/lib/python3.10/site-packages/sklearn/linear_model/_sag.py:350: ConvergenceWarning: The max_iter was reached which means the coef_ did not converge\n",
      "  warnings.warn(\n",
      "[I 2025-09-16 23:51:32,224] Trial 224 finished with value: 0.5314685314685315 and parameters: {'penalty': 'l1', 'C': 19.651023795656567}. Best is trial 5 with value: 0.5314685314685315.\n",
      "/home/toyotx22/bitcoin_sentiment_forecaster/tf_venv2/lib/python3.10/site-packages/sklearn/linear_model/_sag.py:350: ConvergenceWarning: The max_iter was reached which means the coef_ did not converge\n",
      "  warnings.warn(\n",
      "[I 2025-09-16 23:51:34,240] Trial 225 finished with value: 0.5314685314685315 and parameters: {'penalty': 'l1', 'C': 40.74547124907383}. Best is trial 5 with value: 0.5314685314685315.\n",
      "/home/toyotx22/bitcoin_sentiment_forecaster/tf_venv2/lib/python3.10/site-packages/sklearn/linear_model/_sag.py:350: ConvergenceWarning: The max_iter was reached which means the coef_ did not converge\n",
      "  warnings.warn(\n",
      "[I 2025-09-16 23:51:36,266] Trial 226 finished with value: 0.5314685314685315 and parameters: {'penalty': 'l1', 'C': 35.22265901746401}. Best is trial 5 with value: 0.5314685314685315.\n",
      "/home/toyotx22/bitcoin_sentiment_forecaster/tf_venv2/lib/python3.10/site-packages/sklearn/linear_model/_sag.py:350: ConvergenceWarning: The max_iter was reached which means the coef_ did not converge\n",
      "  warnings.warn(\n",
      "[I 2025-09-16 23:51:38,285] Trial 227 finished with value: 0.5174825174825175 and parameters: {'penalty': 'elasticnet', 'C': 25.406172164492826, 'l1_ratio': 0.5538950190778557}. Best is trial 5 with value: 0.5314685314685315.\n",
      "/home/toyotx22/bitcoin_sentiment_forecaster/tf_venv2/lib/python3.10/site-packages/sklearn/linear_model/_sag.py:350: ConvergenceWarning: The max_iter was reached which means the coef_ did not converge\n",
      "  warnings.warn(\n",
      "[I 2025-09-16 23:51:40,333] Trial 228 finished with value: 0.5174825174825175 and parameters: {'penalty': 'l1', 'C': 15.106245972665699}. Best is trial 5 with value: 0.5314685314685315.\n",
      "/home/toyotx22/bitcoin_sentiment_forecaster/tf_venv2/lib/python3.10/site-packages/sklearn/linear_model/_sag.py:350: ConvergenceWarning: The max_iter was reached which means the coef_ did not converge\n",
      "  warnings.warn(\n",
      "[I 2025-09-16 23:51:42,347] Trial 229 finished with value: 0.5314685314685315 and parameters: {'penalty': 'l1', 'C': 43.21732717440356}. Best is trial 5 with value: 0.5314685314685315.\n",
      "/home/toyotx22/bitcoin_sentiment_forecaster/tf_venv2/lib/python3.10/site-packages/sklearn/linear_model/_sag.py:350: ConvergenceWarning: The max_iter was reached which means the coef_ did not converge\n",
      "  warnings.warn(\n",
      "[I 2025-09-16 23:51:44,385] Trial 230 finished with value: 0.5314685314685315 and parameters: {'penalty': 'l1', 'C': 31.007288733714653}. Best is trial 5 with value: 0.5314685314685315.\n",
      "/home/toyotx22/bitcoin_sentiment_forecaster/tf_venv2/lib/python3.10/site-packages/sklearn/linear_model/_sag.py:350: ConvergenceWarning: The max_iter was reached which means the coef_ did not converge\n",
      "  warnings.warn(\n",
      "[I 2025-09-16 23:51:46,390] Trial 231 finished with value: 0.5314685314685315 and parameters: {'penalty': 'l1', 'C': 49.840070242846075}. Best is trial 5 with value: 0.5314685314685315.\n",
      "/home/toyotx22/bitcoin_sentiment_forecaster/tf_venv2/lib/python3.10/site-packages/sklearn/linear_model/_sag.py:350: ConvergenceWarning: The max_iter was reached which means the coef_ did not converge\n",
      "  warnings.warn(\n",
      "[I 2025-09-16 23:51:48,418] Trial 232 finished with value: 0.5314685314685315 and parameters: {'penalty': 'l1', 'C': 36.3346007751889}. Best is trial 5 with value: 0.5314685314685315.\n",
      "/home/toyotx22/bitcoin_sentiment_forecaster/tf_venv2/lib/python3.10/site-packages/sklearn/linear_model/_sag.py:350: ConvergenceWarning: The max_iter was reached which means the coef_ did not converge\n",
      "  warnings.warn(\n",
      "[I 2025-09-16 23:51:50,441] Trial 233 finished with value: 0.5314685314685315 and parameters: {'penalty': 'l1', 'C': 49.54426224965064}. Best is trial 5 with value: 0.5314685314685315.\n",
      "/home/toyotx22/bitcoin_sentiment_forecaster/tf_venv2/lib/python3.10/site-packages/sklearn/linear_model/_sag.py:350: ConvergenceWarning: The max_iter was reached which means the coef_ did not converge\n",
      "  warnings.warn(\n",
      "[I 2025-09-16 23:51:52,461] Trial 234 finished with value: 0.5314685314685315 and parameters: {'penalty': 'l1', 'C': 39.861673111476264}. Best is trial 5 with value: 0.5314685314685315.\n",
      "/home/toyotx22/bitcoin_sentiment_forecaster/tf_venv2/lib/python3.10/site-packages/sklearn/linear_model/_sag.py:350: ConvergenceWarning: The max_iter was reached which means the coef_ did not converge\n",
      "  warnings.warn(\n",
      "[I 2025-09-16 23:51:54,498] Trial 235 finished with value: 0.5314685314685315 and parameters: {'penalty': 'l1', 'C': 30.803469455483867}. Best is trial 5 with value: 0.5314685314685315.\n",
      "/home/toyotx22/bitcoin_sentiment_forecaster/tf_venv2/lib/python3.10/site-packages/sklearn/linear_model/_sag.py:350: ConvergenceWarning: The max_iter was reached which means the coef_ did not converge\n",
      "  warnings.warn(\n",
      "[I 2025-09-16 23:51:56,550] Trial 236 finished with value: 0.5314685314685315 and parameters: {'penalty': 'l1', 'C': 21.83386898770732}. Best is trial 5 with value: 0.5314685314685315.\n",
      "/home/toyotx22/bitcoin_sentiment_forecaster/tf_venv2/lib/python3.10/site-packages/sklearn/linear_model/_sag.py:350: ConvergenceWarning: The max_iter was reached which means the coef_ did not converge\n",
      "  warnings.warn(\n",
      "[I 2025-09-16 23:51:58,567] Trial 237 finished with value: 0.5314685314685315 and parameters: {'penalty': 'l1', 'C': 40.99815131630212}. Best is trial 5 with value: 0.5314685314685315.\n",
      "/home/toyotx22/bitcoin_sentiment_forecaster/tf_venv2/lib/python3.10/site-packages/sklearn/linear_model/_sag.py:350: ConvergenceWarning: The max_iter was reached which means the coef_ did not converge\n",
      "  warnings.warn(\n",
      "[I 2025-09-16 23:52:00,608] Trial 238 finished with value: 0.5314685314685315 and parameters: {'penalty': 'l1', 'C': 28.62316165113991}. Best is trial 5 with value: 0.5314685314685315.\n",
      "/home/toyotx22/bitcoin_sentiment_forecaster/tf_venv2/lib/python3.10/site-packages/sklearn/linear_model/_sag.py:350: ConvergenceWarning: The max_iter was reached which means the coef_ did not converge\n",
      "  warnings.warn(\n",
      "[I 2025-09-16 23:52:02,099] Trial 239 finished with value: 0.5314685314685315 and parameters: {'penalty': 'l2', 'C': 35.847956848285136}. Best is trial 5 with value: 0.5314685314685315.\n",
      "/home/toyotx22/bitcoin_sentiment_forecaster/tf_venv2/lib/python3.10/site-packages/sklearn/linear_model/_sag.py:350: ConvergenceWarning: The max_iter was reached which means the coef_ did not converge\n",
      "  warnings.warn(\n",
      "[I 2025-09-16 23:52:04,106] Trial 240 finished with value: 0.5314685314685315 and parameters: {'penalty': 'l1', 'C': 49.338811761484784}. Best is trial 5 with value: 0.5314685314685315.\n",
      "/home/toyotx22/bitcoin_sentiment_forecaster/tf_venv2/lib/python3.10/site-packages/sklearn/linear_model/_sag.py:350: ConvergenceWarning: The max_iter was reached which means the coef_ did not converge\n",
      "  warnings.warn(\n",
      "[I 2025-09-16 23:52:06,134] Trial 241 finished with value: 0.5314685314685315 and parameters: {'penalty': 'l1', 'C': 36.65923125588216}. Best is trial 5 with value: 0.5314685314685315.\n",
      "/home/toyotx22/bitcoin_sentiment_forecaster/tf_venv2/lib/python3.10/site-packages/sklearn/linear_model/_sag.py:350: ConvergenceWarning: The max_iter was reached which means the coef_ did not converge\n",
      "  warnings.warn(\n",
      "[I 2025-09-16 23:52:08,153] Trial 242 finished with value: 0.5314685314685315 and parameters: {'penalty': 'l1', 'C': 41.0700729675996}. Best is trial 5 with value: 0.5314685314685315.\n",
      "/home/toyotx22/bitcoin_sentiment_forecaster/tf_venv2/lib/python3.10/site-packages/sklearn/linear_model/_sag.py:350: ConvergenceWarning: The max_iter was reached which means the coef_ did not converge\n",
      "  warnings.warn(\n",
      "[I 2025-09-16 23:52:10,208] Trial 243 finished with value: 0.5314685314685315 and parameters: {'penalty': 'l1', 'C': 25.58933756837464}. Best is trial 5 with value: 0.5314685314685315.\n",
      "[I 2025-09-16 23:52:10,239] Trial 244 finished with value: 0.0 and parameters: {'penalty': 'l1', 'C': 0.001365680506504745}. Best is trial 5 with value: 0.5314685314685315.\n",
      "/home/toyotx22/bitcoin_sentiment_forecaster/tf_venv2/lib/python3.10/site-packages/sklearn/linear_model/_sag.py:350: ConvergenceWarning: The max_iter was reached which means the coef_ did not converge\n",
      "  warnings.warn(\n",
      "[I 2025-09-16 23:52:12,277] Trial 245 finished with value: 0.5314685314685315 and parameters: {'penalty': 'l1', 'C': 31.609580235692743}. Best is trial 5 with value: 0.5314685314685315.\n",
      "/home/toyotx22/bitcoin_sentiment_forecaster/tf_venv2/lib/python3.10/site-packages/sklearn/linear_model/_sag.py:350: ConvergenceWarning: The max_iter was reached which means the coef_ did not converge\n",
      "  warnings.warn(\n",
      "[I 2025-09-16 23:52:14,292] Trial 246 finished with value: 0.5314685314685315 and parameters: {'penalty': 'l1', 'C': 43.33629326630788}. Best is trial 5 with value: 0.5314685314685315.\n",
      "/home/toyotx22/bitcoin_sentiment_forecaster/tf_venv2/lib/python3.10/site-packages/sklearn/linear_model/_sag.py:350: ConvergenceWarning: The max_iter was reached which means the coef_ did not converge\n",
      "  warnings.warn(\n",
      "[I 2025-09-16 23:52:16,324] Trial 247 finished with value: 0.5314685314685315 and parameters: {'penalty': 'l1', 'C': 34.706857474660005}. Best is trial 5 with value: 0.5314685314685315.\n",
      "/home/toyotx22/bitcoin_sentiment_forecaster/tf_venv2/lib/python3.10/site-packages/sklearn/linear_model/_sag.py:350: ConvergenceWarning: The max_iter was reached which means the coef_ did not converge\n",
      "  warnings.warn(\n",
      "[I 2025-09-16 23:52:18,340] Trial 248 finished with value: 0.5174825174825175 and parameters: {'penalty': 'elasticnet', 'C': 20.232807253196558, 'l1_ratio': 0.2951114924136068}. Best is trial 5 with value: 0.5314685314685315.\n",
      "/home/toyotx22/bitcoin_sentiment_forecaster/tf_venv2/lib/python3.10/site-packages/sklearn/linear_model/_sag.py:350: ConvergenceWarning: The max_iter was reached which means the coef_ did not converge\n",
      "  warnings.warn(\n",
      "[I 2025-09-16 23:52:20,388] Trial 249 finished with value: 0.5314685314685315 and parameters: {'penalty': 'l1', 'C': 26.92468610492677}. Best is trial 5 with value: 0.5314685314685315.\n"
     ]
    },
    {
     "name": "stdout",
     "output_type": "stream",
     "text": [
      "Optuna duró 476.51s en 250 trials\n"
     ]
    }
   ],
   "source": [
    "# Crear estudio y medir tiempo de Optuna\n",
    "t0 = time.perf_counter()\n",
    "\n",
    "study = optuna.create_study(\n",
    "    direction=\"maximize\",\n",
    "    sampler=optuna.samplers.TPESampler(seed=SEED)\n",
    ")\n",
    "study.optimize(objective, n_trials=250)\n",
    "\n",
    "opt_duration_sec = time.perf_counter() - t0\n",
    "n_trials_run = len(study.trials)\n",
    "print(f\"Optuna duró {opt_duration_sec:.2f}s en {n_trials_run} trials\")"
   ]
  },
  {
   "cell_type": "code",
   "execution_count": 17,
   "id": "5aa087a0",
   "metadata": {},
   "outputs": [
    {
     "data": {
      "application/vnd.plotly.v1+json": {
       "config": {
        "plotlyServerURL": "https://plot.ly"
       },
       "data": [
        {
         "mode": "markers",
         "name": "Objective Value",
         "type": "scatter",
         "x": [
          0,
          1,
          2,
          3,
          4,
          5,
          6,
          7,
          8,
          9,
          10,
          11,
          12,
          13,
          14,
          15,
          16,
          17,
          18,
          19,
          20,
          21,
          22,
          23,
          24,
          25,
          26,
          27,
          28,
          29,
          30,
          31,
          32,
          33,
          34,
          35,
          36,
          37,
          38,
          39,
          40,
          41,
          42,
          43,
          44,
          45,
          46,
          47,
          48,
          49,
          50,
          51,
          52,
          53,
          54,
          55,
          56,
          57,
          58,
          59,
          60,
          61,
          62,
          63,
          64,
          65,
          66,
          67,
          68,
          69,
          70,
          71,
          72,
          73,
          74,
          75,
          76,
          77,
          78,
          79,
          80,
          81,
          82,
          83,
          84,
          85,
          86,
          87,
          88,
          89,
          90,
          91,
          92,
          93,
          94,
          95,
          96,
          97,
          98,
          99,
          100,
          101,
          102,
          103,
          104,
          105,
          106,
          107,
          108,
          109,
          110,
          111,
          112,
          113,
          114,
          115,
          116,
          117,
          118,
          119,
          120,
          121,
          122,
          123,
          124,
          125,
          126,
          127,
          128,
          129,
          130,
          131,
          132,
          133,
          134,
          135,
          136,
          137,
          138,
          139,
          140,
          141,
          142,
          143,
          144,
          145,
          146,
          147,
          148,
          149,
          150,
          151,
          152,
          153,
          154,
          155,
          156,
          157,
          158,
          159,
          160,
          161,
          162,
          163,
          164,
          165,
          166,
          167,
          168,
          169,
          170,
          171,
          172,
          173,
          174,
          175,
          176,
          177,
          178,
          179,
          180,
          181,
          182,
          183,
          184,
          185,
          186,
          187,
          188,
          189,
          190,
          191,
          192,
          193,
          194,
          195,
          196,
          197,
          198,
          199,
          200,
          201,
          202,
          203,
          204,
          205,
          206,
          207,
          208,
          209,
          210,
          211,
          212,
          213,
          214,
          215,
          216,
          217,
          218,
          219,
          220,
          221,
          222,
          223,
          224,
          225,
          226,
          227,
          228,
          229,
          230,
          231,
          232,
          233,
          234,
          235,
          236,
          237,
          238,
          239,
          240,
          241,
          242,
          243,
          244,
          245,
          246,
          247,
          248,
          249
         ],
         "y": [
          0.5138888888888888,
          0.5277777777777778,
          0.42276422764227645,
          0.4186046511627907,
          0.5174825174825175,
          0.5314685314685315,
          0.4369747899159664,
          0.42962962962962964,
          0.5174825174825175,
          0.3486238532110092,
          0.46616541353383456,
          0.5314685314685315,
          0.5314685314685315,
          0.5138888888888888,
          0.5314685314685315,
          0.448,
          0.4262295081967213,
          0.5034965034965035,
          0,
          0.5277777777777778,
          0.42276422764227645,
          0.5314685314685315,
          0.5174825174825175,
          0.5314685314685315,
          0.5174825174825175,
          0.5314685314685315,
          0.5138888888888888,
          0.5277777777777778,
          0.5174825174825175,
          0.5034965034965035,
          0.5138888888888888,
          0.5314685314685315,
          0.5314685314685315,
          0.5277777777777778,
          0.5174825174825175,
          0.5277777777777778,
          0.5314685314685315,
          0.4444444444444444,
          0.5277777777777778,
          0.5174825174825175,
          0.5174825174825175,
          0.5314685314685315,
          0.5314685314685315,
          0.5314685314685315,
          0.5277777777777778,
          0.5314685314685315,
          0.5174825174825175,
          0.39655172413793105,
          0.5314685314685315,
          0.5034965034965035,
          0.5174825174825175,
          0.5314685314685315,
          0.5174825174825175,
          0.5314685314685315,
          0.5314685314685315,
          0.5174825174825175,
          0.4297520661157025,
          0.448,
          0.2830188679245283,
          0.5174825174825175,
          0.5174825174825175,
          0.5314685314685315,
          0.5314685314685315,
          0.5174825174825175,
          0.5314685314685315,
          0.5314685314685315,
          0.5174825174825175,
          0.5138888888888888,
          0.5277777777777778,
          0.5314685314685315,
          0.42276422764227645,
          0.5314685314685315,
          0.5314685314685315,
          0.5314685314685315,
          0.5174825174825175,
          0.5277777777777778,
          0.5314685314685315,
          0.5314685314685315,
          0.5314685314685315,
          0.5314685314685315,
          0.5174825174825175,
          0.5314685314685315,
          0.5314685314685315,
          0.5314685314685315,
          0.5314685314685315,
          0.5314685314685315,
          0.5174825174825175,
          0.5174825174825175,
          0.5314685314685315,
          0.5174825174825175,
          0.5174825174825175,
          0.5314685314685315,
          0.5314685314685315,
          0.5174825174825175,
          0.5314685314685315,
          0.5314685314685315,
          0.5314685314685315,
          0.5314685314685315,
          0.5314685314685315,
          0.5174825174825175,
          0.5277777777777778,
          0.5314685314685315,
          0.5314685314685315,
          0.5314685314685315,
          0.5314685314685315,
          0.5314685314685315,
          0.5174825174825175,
          0.5314685314685315,
          0.5314685314685315,
          0.43902439024390244,
          0.448,
          0.5314685314685315,
          0.5314685314685315,
          0.5314685314685315,
          0.5314685314685315,
          0.5314685314685315,
          0.5314685314685315,
          0.47297297297297297,
          0.5314685314685315,
          0.5174825174825175,
          0.5314685314685315,
          0.5314685314685315,
          0.5314685314685315,
          0.42276422764227645,
          0.5314685314685315,
          0.5174825174825175,
          0.5174825174825175,
          0.5314685314685315,
          0.5314685314685315,
          0.5314685314685315,
          0.5174825174825175,
          0.5314685314685315,
          0.5314685314685315,
          0.5314685314685315,
          0.5314685314685315,
          0.5314685314685315,
          0.5314685314685315,
          0.43548387096774194,
          0.5174825174825175,
          0.5174825174825175,
          0.5314685314685315,
          0.5314685314685315,
          0.5314685314685315,
          0.5174825174825175,
          0.5314685314685315,
          0.5314685314685315,
          0.5174825174825175,
          0.48951048951048953,
          0.5174825174825175,
          0.5314685314685315,
          0.5314685314685315,
          0.5314685314685315,
          0.5314685314685315,
          0.5314685314685315,
          0.5314685314685315,
          0.5314685314685315,
          0.42276422764227645,
          0.5314685314685315,
          0.5314685314685315,
          0.5174825174825175,
          0.5174825174825175,
          0.5314685314685315,
          0.5314685314685315,
          0.5314685314685315,
          0.5314685314685315,
          0.5314685314685315,
          0.5314685314685315,
          0.5314685314685315,
          0.5314685314685315,
          0.5314685314685315,
          0.5314685314685315,
          0.5314685314685315,
          0.5314685314685315,
          0.5314685314685315,
          0.5314685314685315,
          0.5174825174825175,
          0.5174825174825175,
          0.5314685314685315,
          0.5314685314685315,
          0.5314685314685315,
          0.5314685314685315,
          0.5314685314685315,
          0.5314685314685315,
          0.5314685314685315,
          0.5314685314685315,
          0.5314685314685315,
          0.5174825174825175,
          0.5314685314685315,
          0.5174825174825175,
          0.5314685314685315,
          0.5314685314685315,
          0.5314685314685315,
          0.5314685314685315,
          0.5314685314685315,
          0.5314685314685315,
          0.5314685314685315,
          0.5314685314685315,
          0.448,
          0.5314685314685315,
          0.45925925925925926,
          0.5174825174825175,
          0.5314685314685315,
          0.5314685314685315,
          0.5314685314685315,
          0.5314685314685315,
          0.5314685314685315,
          0.5314685314685315,
          0.5174825174825175,
          0.5174825174825175,
          0.5314685314685315,
          0.5314685314685315,
          0.5314685314685315,
          0.5314685314685315,
          0.5314685314685315,
          0.5174825174825175,
          0.5314685314685315,
          0.5314685314685315,
          0.5314685314685315,
          0.5314685314685315,
          0.5314685314685315,
          0.42276422764227645,
          0.5314685314685315,
          0.5314685314685315,
          0.5314685314685315,
          0.5314685314685315,
          0.5314685314685315,
          0.5314685314685315,
          0.5174825174825175,
          0.5174825174825175,
          0.5314685314685315,
          0.5314685314685315,
          0.5314685314685315,
          0.5314685314685315,
          0.5314685314685315,
          0.5314685314685315,
          0.5314685314685315,
          0.5314685314685315,
          0.5314685314685315,
          0.5314685314685315,
          0.5314685314685315,
          0.5314685314685315,
          0.5314685314685315,
          0.5314685314685315,
          0.5314685314685315,
          0,
          0.5314685314685315,
          0.5314685314685315,
          0.5314685314685315,
          0.5174825174825175,
          0.5314685314685315
         ]
        },
        {
         "mode": "lines",
         "name": "Best Value",
         "type": "scatter",
         "x": [
          0,
          1,
          2,
          3,
          4,
          5,
          6,
          7,
          8,
          9,
          10,
          11,
          12,
          13,
          14,
          15,
          16,
          17,
          18,
          19,
          20,
          21,
          22,
          23,
          24,
          25,
          26,
          27,
          28,
          29,
          30,
          31,
          32,
          33,
          34,
          35,
          36,
          37,
          38,
          39,
          40,
          41,
          42,
          43,
          44,
          45,
          46,
          47,
          48,
          49,
          50,
          51,
          52,
          53,
          54,
          55,
          56,
          57,
          58,
          59,
          60,
          61,
          62,
          63,
          64,
          65,
          66,
          67,
          68,
          69,
          70,
          71,
          72,
          73,
          74,
          75,
          76,
          77,
          78,
          79,
          80,
          81,
          82,
          83,
          84,
          85,
          86,
          87,
          88,
          89,
          90,
          91,
          92,
          93,
          94,
          95,
          96,
          97,
          98,
          99,
          100,
          101,
          102,
          103,
          104,
          105,
          106,
          107,
          108,
          109,
          110,
          111,
          112,
          113,
          114,
          115,
          116,
          117,
          118,
          119,
          120,
          121,
          122,
          123,
          124,
          125,
          126,
          127,
          128,
          129,
          130,
          131,
          132,
          133,
          134,
          135,
          136,
          137,
          138,
          139,
          140,
          141,
          142,
          143,
          144,
          145,
          146,
          147,
          148,
          149,
          150,
          151,
          152,
          153,
          154,
          155,
          156,
          157,
          158,
          159,
          160,
          161,
          162,
          163,
          164,
          165,
          166,
          167,
          168,
          169,
          170,
          171,
          172,
          173,
          174,
          175,
          176,
          177,
          178,
          179,
          180,
          181,
          182,
          183,
          184,
          185,
          186,
          187,
          188,
          189,
          190,
          191,
          192,
          193,
          194,
          195,
          196,
          197,
          198,
          199,
          200,
          201,
          202,
          203,
          204,
          205,
          206,
          207,
          208,
          209,
          210,
          211,
          212,
          213,
          214,
          215,
          216,
          217,
          218,
          219,
          220,
          221,
          222,
          223,
          224,
          225,
          226,
          227,
          228,
          229,
          230,
          231,
          232,
          233,
          234,
          235,
          236,
          237,
          238,
          239,
          240,
          241,
          242,
          243,
          244,
          245,
          246,
          247,
          248,
          249
         ],
         "y": [
          0.5138888888888888,
          0.5277777777777778,
          0.5277777777777778,
          0.5277777777777778,
          0.5277777777777778,
          0.5314685314685315,
          0.5314685314685315,
          0.5314685314685315,
          0.5314685314685315,
          0.5314685314685315,
          0.5314685314685315,
          0.5314685314685315,
          0.5314685314685315,
          0.5314685314685315,
          0.5314685314685315,
          0.5314685314685315,
          0.5314685314685315,
          0.5314685314685315,
          0.5314685314685315,
          0.5314685314685315,
          0.5314685314685315,
          0.5314685314685315,
          0.5314685314685315,
          0.5314685314685315,
          0.5314685314685315,
          0.5314685314685315,
          0.5314685314685315,
          0.5314685314685315,
          0.5314685314685315,
          0.5314685314685315,
          0.5314685314685315,
          0.5314685314685315,
          0.5314685314685315,
          0.5314685314685315,
          0.5314685314685315,
          0.5314685314685315,
          0.5314685314685315,
          0.5314685314685315,
          0.5314685314685315,
          0.5314685314685315,
          0.5314685314685315,
          0.5314685314685315,
          0.5314685314685315,
          0.5314685314685315,
          0.5314685314685315,
          0.5314685314685315,
          0.5314685314685315,
          0.5314685314685315,
          0.5314685314685315,
          0.5314685314685315,
          0.5314685314685315,
          0.5314685314685315,
          0.5314685314685315,
          0.5314685314685315,
          0.5314685314685315,
          0.5314685314685315,
          0.5314685314685315,
          0.5314685314685315,
          0.5314685314685315,
          0.5314685314685315,
          0.5314685314685315,
          0.5314685314685315,
          0.5314685314685315,
          0.5314685314685315,
          0.5314685314685315,
          0.5314685314685315,
          0.5314685314685315,
          0.5314685314685315,
          0.5314685314685315,
          0.5314685314685315,
          0.5314685314685315,
          0.5314685314685315,
          0.5314685314685315,
          0.5314685314685315,
          0.5314685314685315,
          0.5314685314685315,
          0.5314685314685315,
          0.5314685314685315,
          0.5314685314685315,
          0.5314685314685315,
          0.5314685314685315,
          0.5314685314685315,
          0.5314685314685315,
          0.5314685314685315,
          0.5314685314685315,
          0.5314685314685315,
          0.5314685314685315,
          0.5314685314685315,
          0.5314685314685315,
          0.5314685314685315,
          0.5314685314685315,
          0.5314685314685315,
          0.5314685314685315,
          0.5314685314685315,
          0.5314685314685315,
          0.5314685314685315,
          0.5314685314685315,
          0.5314685314685315,
          0.5314685314685315,
          0.5314685314685315,
          0.5314685314685315,
          0.5314685314685315,
          0.5314685314685315,
          0.5314685314685315,
          0.5314685314685315,
          0.5314685314685315,
          0.5314685314685315,
          0.5314685314685315,
          0.5314685314685315,
          0.5314685314685315,
          0.5314685314685315,
          0.5314685314685315,
          0.5314685314685315,
          0.5314685314685315,
          0.5314685314685315,
          0.5314685314685315,
          0.5314685314685315,
          0.5314685314685315,
          0.5314685314685315,
          0.5314685314685315,
          0.5314685314685315,
          0.5314685314685315,
          0.5314685314685315,
          0.5314685314685315,
          0.5314685314685315,
          0.5314685314685315,
          0.5314685314685315,
          0.5314685314685315,
          0.5314685314685315,
          0.5314685314685315,
          0.5314685314685315,
          0.5314685314685315,
          0.5314685314685315,
          0.5314685314685315,
          0.5314685314685315,
          0.5314685314685315,
          0.5314685314685315,
          0.5314685314685315,
          0.5314685314685315,
          0.5314685314685315,
          0.5314685314685315,
          0.5314685314685315,
          0.5314685314685315,
          0.5314685314685315,
          0.5314685314685315,
          0.5314685314685315,
          0.5314685314685315,
          0.5314685314685315,
          0.5314685314685315,
          0.5314685314685315,
          0.5314685314685315,
          0.5314685314685315,
          0.5314685314685315,
          0.5314685314685315,
          0.5314685314685315,
          0.5314685314685315,
          0.5314685314685315,
          0.5314685314685315,
          0.5314685314685315,
          0.5314685314685315,
          0.5314685314685315,
          0.5314685314685315,
          0.5314685314685315,
          0.5314685314685315,
          0.5314685314685315,
          0.5314685314685315,
          0.5314685314685315,
          0.5314685314685315,
          0.5314685314685315,
          0.5314685314685315,
          0.5314685314685315,
          0.5314685314685315,
          0.5314685314685315,
          0.5314685314685315,
          0.5314685314685315,
          0.5314685314685315,
          0.5314685314685315,
          0.5314685314685315,
          0.5314685314685315,
          0.5314685314685315,
          0.5314685314685315,
          0.5314685314685315,
          0.5314685314685315,
          0.5314685314685315,
          0.5314685314685315,
          0.5314685314685315,
          0.5314685314685315,
          0.5314685314685315,
          0.5314685314685315,
          0.5314685314685315,
          0.5314685314685315,
          0.5314685314685315,
          0.5314685314685315,
          0.5314685314685315,
          0.5314685314685315,
          0.5314685314685315,
          0.5314685314685315,
          0.5314685314685315,
          0.5314685314685315,
          0.5314685314685315,
          0.5314685314685315,
          0.5314685314685315,
          0.5314685314685315,
          0.5314685314685315,
          0.5314685314685315,
          0.5314685314685315,
          0.5314685314685315,
          0.5314685314685315,
          0.5314685314685315,
          0.5314685314685315,
          0.5314685314685315,
          0.5314685314685315,
          0.5314685314685315,
          0.5314685314685315,
          0.5314685314685315,
          0.5314685314685315,
          0.5314685314685315,
          0.5314685314685315,
          0.5314685314685315,
          0.5314685314685315,
          0.5314685314685315,
          0.5314685314685315,
          0.5314685314685315,
          0.5314685314685315,
          0.5314685314685315,
          0.5314685314685315,
          0.5314685314685315,
          0.5314685314685315,
          0.5314685314685315,
          0.5314685314685315,
          0.5314685314685315,
          0.5314685314685315,
          0.5314685314685315,
          0.5314685314685315,
          0.5314685314685315,
          0.5314685314685315,
          0.5314685314685315,
          0.5314685314685315,
          0.5314685314685315,
          0.5314685314685315,
          0.5314685314685315,
          0.5314685314685315,
          0.5314685314685315,
          0.5314685314685315,
          0.5314685314685315,
          0.5314685314685315,
          0.5314685314685315,
          0.5314685314685315,
          0.5314685314685315,
          0.5314685314685315
         ]
        },
        {
         "marker": {
          "color": "#cccccc"
         },
         "mode": "markers",
         "name": "Infeasible Trial",
         "showlegend": false,
         "type": "scatter",
         "x": [],
         "y": []
        }
       ],
       "layout": {
        "template": {
         "data": {
          "bar": [
           {
            "error_x": {
             "color": "#2a3f5f"
            },
            "error_y": {
             "color": "#2a3f5f"
            },
            "marker": {
             "line": {
              "color": "#E5ECF6",
              "width": 0.5
             },
             "pattern": {
              "fillmode": "overlay",
              "size": 10,
              "solidity": 0.2
             }
            },
            "type": "bar"
           }
          ],
          "barpolar": [
           {
            "marker": {
             "line": {
              "color": "#E5ECF6",
              "width": 0.5
             },
             "pattern": {
              "fillmode": "overlay",
              "size": 10,
              "solidity": 0.2
             }
            },
            "type": "barpolar"
           }
          ],
          "carpet": [
           {
            "aaxis": {
             "endlinecolor": "#2a3f5f",
             "gridcolor": "white",
             "linecolor": "white",
             "minorgridcolor": "white",
             "startlinecolor": "#2a3f5f"
            },
            "baxis": {
             "endlinecolor": "#2a3f5f",
             "gridcolor": "white",
             "linecolor": "white",
             "minorgridcolor": "white",
             "startlinecolor": "#2a3f5f"
            },
            "type": "carpet"
           }
          ],
          "choropleth": [
           {
            "colorbar": {
             "outlinewidth": 0,
             "ticks": ""
            },
            "type": "choropleth"
           }
          ],
          "contour": [
           {
            "colorbar": {
             "outlinewidth": 0,
             "ticks": ""
            },
            "colorscale": [
             [
              0,
              "#0d0887"
             ],
             [
              0.1111111111111111,
              "#46039f"
             ],
             [
              0.2222222222222222,
              "#7201a8"
             ],
             [
              0.3333333333333333,
              "#9c179e"
             ],
             [
              0.4444444444444444,
              "#bd3786"
             ],
             [
              0.5555555555555556,
              "#d8576b"
             ],
             [
              0.6666666666666666,
              "#ed7953"
             ],
             [
              0.7777777777777778,
              "#fb9f3a"
             ],
             [
              0.8888888888888888,
              "#fdca26"
             ],
             [
              1,
              "#f0f921"
             ]
            ],
            "type": "contour"
           }
          ],
          "contourcarpet": [
           {
            "colorbar": {
             "outlinewidth": 0,
             "ticks": ""
            },
            "type": "contourcarpet"
           }
          ],
          "heatmap": [
           {
            "colorbar": {
             "outlinewidth": 0,
             "ticks": ""
            },
            "colorscale": [
             [
              0,
              "#0d0887"
             ],
             [
              0.1111111111111111,
              "#46039f"
             ],
             [
              0.2222222222222222,
              "#7201a8"
             ],
             [
              0.3333333333333333,
              "#9c179e"
             ],
             [
              0.4444444444444444,
              "#bd3786"
             ],
             [
              0.5555555555555556,
              "#d8576b"
             ],
             [
              0.6666666666666666,
              "#ed7953"
             ],
             [
              0.7777777777777778,
              "#fb9f3a"
             ],
             [
              0.8888888888888888,
              "#fdca26"
             ],
             [
              1,
              "#f0f921"
             ]
            ],
            "type": "heatmap"
           }
          ],
          "histogram": [
           {
            "marker": {
             "pattern": {
              "fillmode": "overlay",
              "size": 10,
              "solidity": 0.2
             }
            },
            "type": "histogram"
           }
          ],
          "histogram2d": [
           {
            "colorbar": {
             "outlinewidth": 0,
             "ticks": ""
            },
            "colorscale": [
             [
              0,
              "#0d0887"
             ],
             [
              0.1111111111111111,
              "#46039f"
             ],
             [
              0.2222222222222222,
              "#7201a8"
             ],
             [
              0.3333333333333333,
              "#9c179e"
             ],
             [
              0.4444444444444444,
              "#bd3786"
             ],
             [
              0.5555555555555556,
              "#d8576b"
             ],
             [
              0.6666666666666666,
              "#ed7953"
             ],
             [
              0.7777777777777778,
              "#fb9f3a"
             ],
             [
              0.8888888888888888,
              "#fdca26"
             ],
             [
              1,
              "#f0f921"
             ]
            ],
            "type": "histogram2d"
           }
          ],
          "histogram2dcontour": [
           {
            "colorbar": {
             "outlinewidth": 0,
             "ticks": ""
            },
            "colorscale": [
             [
              0,
              "#0d0887"
             ],
             [
              0.1111111111111111,
              "#46039f"
             ],
             [
              0.2222222222222222,
              "#7201a8"
             ],
             [
              0.3333333333333333,
              "#9c179e"
             ],
             [
              0.4444444444444444,
              "#bd3786"
             ],
             [
              0.5555555555555556,
              "#d8576b"
             ],
             [
              0.6666666666666666,
              "#ed7953"
             ],
             [
              0.7777777777777778,
              "#fb9f3a"
             ],
             [
              0.8888888888888888,
              "#fdca26"
             ],
             [
              1,
              "#f0f921"
             ]
            ],
            "type": "histogram2dcontour"
           }
          ],
          "mesh3d": [
           {
            "colorbar": {
             "outlinewidth": 0,
             "ticks": ""
            },
            "type": "mesh3d"
           }
          ],
          "parcoords": [
           {
            "line": {
             "colorbar": {
              "outlinewidth": 0,
              "ticks": ""
             }
            },
            "type": "parcoords"
           }
          ],
          "pie": [
           {
            "automargin": true,
            "type": "pie"
           }
          ],
          "scatter": [
           {
            "fillpattern": {
             "fillmode": "overlay",
             "size": 10,
             "solidity": 0.2
            },
            "type": "scatter"
           }
          ],
          "scatter3d": [
           {
            "line": {
             "colorbar": {
              "outlinewidth": 0,
              "ticks": ""
             }
            },
            "marker": {
             "colorbar": {
              "outlinewidth": 0,
              "ticks": ""
             }
            },
            "type": "scatter3d"
           }
          ],
          "scattercarpet": [
           {
            "marker": {
             "colorbar": {
              "outlinewidth": 0,
              "ticks": ""
             }
            },
            "type": "scattercarpet"
           }
          ],
          "scattergeo": [
           {
            "marker": {
             "colorbar": {
              "outlinewidth": 0,
              "ticks": ""
             }
            },
            "type": "scattergeo"
           }
          ],
          "scattergl": [
           {
            "marker": {
             "colorbar": {
              "outlinewidth": 0,
              "ticks": ""
             }
            },
            "type": "scattergl"
           }
          ],
          "scattermap": [
           {
            "marker": {
             "colorbar": {
              "outlinewidth": 0,
              "ticks": ""
             }
            },
            "type": "scattermap"
           }
          ],
          "scattermapbox": [
           {
            "marker": {
             "colorbar": {
              "outlinewidth": 0,
              "ticks": ""
             }
            },
            "type": "scattermapbox"
           }
          ],
          "scatterpolar": [
           {
            "marker": {
             "colorbar": {
              "outlinewidth": 0,
              "ticks": ""
             }
            },
            "type": "scatterpolar"
           }
          ],
          "scatterpolargl": [
           {
            "marker": {
             "colorbar": {
              "outlinewidth": 0,
              "ticks": ""
             }
            },
            "type": "scatterpolargl"
           }
          ],
          "scatterternary": [
           {
            "marker": {
             "colorbar": {
              "outlinewidth": 0,
              "ticks": ""
             }
            },
            "type": "scatterternary"
           }
          ],
          "surface": [
           {
            "colorbar": {
             "outlinewidth": 0,
             "ticks": ""
            },
            "colorscale": [
             [
              0,
              "#0d0887"
             ],
             [
              0.1111111111111111,
              "#46039f"
             ],
             [
              0.2222222222222222,
              "#7201a8"
             ],
             [
              0.3333333333333333,
              "#9c179e"
             ],
             [
              0.4444444444444444,
              "#bd3786"
             ],
             [
              0.5555555555555556,
              "#d8576b"
             ],
             [
              0.6666666666666666,
              "#ed7953"
             ],
             [
              0.7777777777777778,
              "#fb9f3a"
             ],
             [
              0.8888888888888888,
              "#fdca26"
             ],
             [
              1,
              "#f0f921"
             ]
            ],
            "type": "surface"
           }
          ],
          "table": [
           {
            "cells": {
             "fill": {
              "color": "#EBF0F8"
             },
             "line": {
              "color": "white"
             }
            },
            "header": {
             "fill": {
              "color": "#C8D4E3"
             },
             "line": {
              "color": "white"
             }
            },
            "type": "table"
           }
          ]
         },
         "layout": {
          "annotationdefaults": {
           "arrowcolor": "#2a3f5f",
           "arrowhead": 0,
           "arrowwidth": 1
          },
          "autotypenumbers": "strict",
          "coloraxis": {
           "colorbar": {
            "outlinewidth": 0,
            "ticks": ""
           }
          },
          "colorscale": {
           "diverging": [
            [
             0,
             "#8e0152"
            ],
            [
             0.1,
             "#c51b7d"
            ],
            [
             0.2,
             "#de77ae"
            ],
            [
             0.3,
             "#f1b6da"
            ],
            [
             0.4,
             "#fde0ef"
            ],
            [
             0.5,
             "#f7f7f7"
            ],
            [
             0.6,
             "#e6f5d0"
            ],
            [
             0.7,
             "#b8e186"
            ],
            [
             0.8,
             "#7fbc41"
            ],
            [
             0.9,
             "#4d9221"
            ],
            [
             1,
             "#276419"
            ]
           ],
           "sequential": [
            [
             0,
             "#0d0887"
            ],
            [
             0.1111111111111111,
             "#46039f"
            ],
            [
             0.2222222222222222,
             "#7201a8"
            ],
            [
             0.3333333333333333,
             "#9c179e"
            ],
            [
             0.4444444444444444,
             "#bd3786"
            ],
            [
             0.5555555555555556,
             "#d8576b"
            ],
            [
             0.6666666666666666,
             "#ed7953"
            ],
            [
             0.7777777777777778,
             "#fb9f3a"
            ],
            [
             0.8888888888888888,
             "#fdca26"
            ],
            [
             1,
             "#f0f921"
            ]
           ],
           "sequentialminus": [
            [
             0,
             "#0d0887"
            ],
            [
             0.1111111111111111,
             "#46039f"
            ],
            [
             0.2222222222222222,
             "#7201a8"
            ],
            [
             0.3333333333333333,
             "#9c179e"
            ],
            [
             0.4444444444444444,
             "#bd3786"
            ],
            [
             0.5555555555555556,
             "#d8576b"
            ],
            [
             0.6666666666666666,
             "#ed7953"
            ],
            [
             0.7777777777777778,
             "#fb9f3a"
            ],
            [
             0.8888888888888888,
             "#fdca26"
            ],
            [
             1,
             "#f0f921"
            ]
           ]
          },
          "colorway": [
           "#636efa",
           "#EF553B",
           "#00cc96",
           "#ab63fa",
           "#FFA15A",
           "#19d3f3",
           "#FF6692",
           "#B6E880",
           "#FF97FF",
           "#FECB52"
          ],
          "font": {
           "color": "#2a3f5f"
          },
          "geo": {
           "bgcolor": "white",
           "lakecolor": "white",
           "landcolor": "#E5ECF6",
           "showlakes": true,
           "showland": true,
           "subunitcolor": "white"
          },
          "hoverlabel": {
           "align": "left"
          },
          "hovermode": "closest",
          "mapbox": {
           "style": "light"
          },
          "paper_bgcolor": "white",
          "plot_bgcolor": "#E5ECF6",
          "polar": {
           "angularaxis": {
            "gridcolor": "white",
            "linecolor": "white",
            "ticks": ""
           },
           "bgcolor": "#E5ECF6",
           "radialaxis": {
            "gridcolor": "white",
            "linecolor": "white",
            "ticks": ""
           }
          },
          "scene": {
           "xaxis": {
            "backgroundcolor": "#E5ECF6",
            "gridcolor": "white",
            "gridwidth": 2,
            "linecolor": "white",
            "showbackground": true,
            "ticks": "",
            "zerolinecolor": "white"
           },
           "yaxis": {
            "backgroundcolor": "#E5ECF6",
            "gridcolor": "white",
            "gridwidth": 2,
            "linecolor": "white",
            "showbackground": true,
            "ticks": "",
            "zerolinecolor": "white"
           },
           "zaxis": {
            "backgroundcolor": "#E5ECF6",
            "gridcolor": "white",
            "gridwidth": 2,
            "linecolor": "white",
            "showbackground": true,
            "ticks": "",
            "zerolinecolor": "white"
           }
          },
          "shapedefaults": {
           "line": {
            "color": "#2a3f5f"
           }
          },
          "ternary": {
           "aaxis": {
            "gridcolor": "white",
            "linecolor": "white",
            "ticks": ""
           },
           "baxis": {
            "gridcolor": "white",
            "linecolor": "white",
            "ticks": ""
           },
           "bgcolor": "#E5ECF6",
           "caxis": {
            "gridcolor": "white",
            "linecolor": "white",
            "ticks": ""
           }
          },
          "title": {
           "x": 0.05
          },
          "xaxis": {
           "automargin": true,
           "gridcolor": "white",
           "linecolor": "white",
           "ticks": "",
           "title": {
            "standoff": 15
           },
           "zerolinecolor": "white",
           "zerolinewidth": 2
          },
          "yaxis": {
           "automargin": true,
           "gridcolor": "white",
           "linecolor": "white",
           "ticks": "",
           "title": {
            "standoff": 15
           },
           "zerolinecolor": "white",
           "zerolinewidth": 2
          }
         }
        },
        "title": {
         "text": "Optimization History Plot"
        },
        "xaxis": {
         "title": {
          "text": "Trial"
         }
        },
        "yaxis": {
         "title": {
          "text": "Objective Value"
         }
        }
       }
      }
     },
     "metadata": {},
     "output_type": "display_data"
    }
   ],
   "source": [
    "# Visualizar el historial de optimización\n",
    "plot_optimization_history(study)"
   ]
  },
  {
   "cell_type": "code",
   "execution_count": 18,
   "id": "41699610",
   "metadata": {},
   "outputs": [
    {
     "name": "stdout",
     "output_type": "stream",
     "text": [
      "Mejores hiperparámetros encontrados:\n",
      "{'penalty': 'l1', 'C': 24.254780519039887}\n",
      "Mejor score de f1-score: 0.5315\n"
     ]
    }
   ],
   "source": [
    "print(\"Mejores hiperparámetros encontrados:\")\n",
    "print(study.best_params)\n",
    "print(f\"Mejor score de {SCORE}: {study.best_value:.4f}\")\n",
    "best_params = study.best_params"
   ]
  },
  {
   "cell_type": "markdown",
   "id": "a49238aa",
   "metadata": {},
   "source": [
    "GUARDAR EN JSON"
   ]
  },
  {
   "cell_type": "code",
   "execution_count": 19,
   "id": "cfd22b63",
   "metadata": {},
   "outputs": [],
   "source": [
    "# Guardar los mejores hiperparámetros y su valor\n",
    "history = []\n",
    "if os.path.exists(\"best_hyperparams.json\"):\n",
    "    try:\n",
    "        with open(\"best_hyperparams.json\", \"r\") as f:\n",
    "            history = json.load(f)\n",
    "    except (json.JSONDecodeError, ValueError):\n",
    "        history = []\n",
    "\n",
    "# Guardar ambos en un solo diccionario\n",
    "history.append({\n",
    "    \"params\": study.best_params,\n",
    "    \"value\": study.best_value\n",
    "})\n",
    "\n",
    "with open(\"best_hyperparams.json\", \"w\") as f:\n",
    "    json.dump(history, f, indent=2)"
   ]
  },
  {
   "cell_type": "markdown",
   "id": "c749d589",
   "metadata": {},
   "source": [
    "CARGAR HIPERPARAMETROS DESDE JSON"
   ]
  },
  {
   "cell_type": "code",
   "execution_count": 20,
   "id": "490cfa40",
   "metadata": {},
   "outputs": [
    {
     "name": "stdout",
     "output_type": "stream",
     "text": [
      "Hiperparámetros #1: {'penalty': 'l1', 'C': 24.254780519039887}, Valor: 0.5314685314685315\n"
     ]
    }
   ],
   "source": [
    "# Cargar historial de hiperparámetros y valores\n",
    "with open(\"best_hyperparams.json\", \"r\") as f:\n",
    "    history = json.load(f)\n",
    "\n",
    "# Escoger el último (más reciente)\n",
    "best_params = history[-1][\"params\"]\n",
    "best_value = history[-1][\"value\"]\n",
    "\n",
    "# Para ver todos:\n",
    "for i, entry in enumerate(history):\n",
    "    print(f\"Hiperparámetros #{i+1}: {entry['params']}, Valor: {entry['value']}\")\n",
    "\n",
    "# Para escoger uno específico (por índice):\n",
    "# best_params = history[indice_que_quieras][\"params\"]\n",
    "# best_value = history[indice_que_quieras][\"value\"]"
   ]
  },
  {
   "cell_type": "code",
   "execution_count": 21,
   "id": "3e7dc6b2",
   "metadata": {},
   "outputs": [
    {
     "name": "stderr",
     "output_type": "stream",
     "text": [
      "/home/toyotx22/bitcoin_sentiment_forecaster/tf_venv2/lib/python3.10/site-packages/sklearn/linear_model/_sag.py:350: ConvergenceWarning:\n",
      "\n",
      "The max_iter was reached which means the coef_ did not converge\n",
      "\n"
     ]
    },
    {
     "data": {
      "text/plain": [
       "['Regresion_Logistic.joblib']"
      ]
     },
     "execution_count": 21,
     "metadata": {},
     "output_type": "execute_result"
    }
   ],
   "source": [
    "# Entrenar modelo final con los mejores hiperparámetros\n",
    "set_seeds(SEED)\n",
    "best_params = study.best_params\n",
    "final_l1_ratio = best_params[\"l1_ratio\"] if best_params[\"penalty\"] == \"elasticnet\" else None\n",
    "final_model = Pipeline([\n",
    "    (\"scaler\", StandardScaler()),\n",
    "    (\"clf\", LogisticRegression(\n",
    "        multi_class=\"multinomial\",\n",
    "        solver=\"saga\",\n",
    "        penalty=best_params[\"penalty\"],\n",
    "        C=best_params[\"C\"],\n",
    "        l1_ratio=final_l1_ratio,\n",
    "        max_iter=800,\n",
    "        random_state=SEED\n",
    "    ))\n",
    "])\n",
    "\n",
    "final_model.fit(X_train, y_train_m)\n",
    "joblib.dump(final_model, \"Regresion_Logistic.joblib\")\n"
   ]
  },
  {
   "cell_type": "code",
   "execution_count": 22,
   "id": "cd02aea2",
   "metadata": {},
   "outputs": [
    {
     "name": "stdout",
     "output_type": "stream",
     "text": [
      "Trend Change F1 Score:\n",
      "               precision    recall  f1-score   support\n",
      "\n",
      "       False     0.8393    0.8584    0.8488       219\n",
      "        True     0.5507    0.5135    0.5315        74\n",
      "\n",
      "    accuracy                         0.7713       293\n",
      "   macro avg     0.6950    0.6860    0.6901       293\n",
      "weighted avg     0.7664    0.7713    0.7686       293\n",
      "\n"
     ]
    }
   ],
   "source": [
    "# Predicciones con el modelo final\n",
    "y_val_pred = final_model.predict(X_val)\n",
    "print(\"Trend Change F1 Score:\\n\", trend_changes_score(y_val_m, y_val_pred))"
   ]
  },
  {
   "cell_type": "code",
   "execution_count": 23,
   "id": "20220f70",
   "metadata": {},
   "outputs": [
    {
     "name": "stdout",
     "output_type": "stream",
     "text": [
      "LightGBM Report:\n",
      "               precision    recall  f1-score   support\n",
      "\n",
      "           0     0.7714    0.8804    0.8223        92\n",
      "           1     0.3333    0.2449    0.2824        49\n",
      "           2     0.8431    0.8431    0.8431       153\n",
      "\n",
      "    accuracy                         0.7551       294\n",
      "   macro avg     0.6493    0.6562    0.6493       294\n",
      "weighted avg     0.7357    0.7551    0.7432       294\n",
      "\n",
      "Balanced accuracy: 0.6561566655647767\n"
     ]
    }
   ],
   "source": [
    "# Reporte completo: precisión, recall y F1 por clase\n",
    "report = classification_report(y_val_m, y_val_pred, digits=4)\n",
    "print(\"LightGBM Report:\\n\", report)\n",
    "print(\"Balanced accuracy:\", balanced_accuracy_score(y_val_m, y_val_pred))"
   ]
  },
  {
   "cell_type": "code",
   "execution_count": null,
   "id": "0bc91753",
   "metadata": {},
   "outputs": [],
   "source": [
    "# --- Exportar y Comparar Métricas de Modelos (Validación) ---\n",
    "\n",
    "# 1. Definir el nombre del modelo actual y el archivo de salida\n",
    "output_file = '../../../score_models/model_comparison_metrics.csv'\n",
    "\n",
    "# 2. Calcular el reporte de clasificación estándar\n",
    "# Usamos y_val_m y y_val_pred que están en la misma escala (0,1,2)\n",
    "report_dict = classification_report(y_val_m, y_val_pred, output_dict=True, zero_division=0)\n",
    "precision = report_dict['macro avg']['precision']\n",
    "recall = report_dict['macro avg']['recall']\n",
    "f1_score = report_dict['macro avg']['f1-score']\n",
    "\n",
    "\n",
    "# 3. Calcular el reporte de cambio de tendencia\n",
    "report = get_trend_changes_report_dict(y_val_m, y_val_pred)\n",
    "trend_change_precision = report['True']['precision']\n",
    "trend_change_recall = report['True']['recall']\n",
    "trend_change_f1_score = report['True']['f1-score']\n",
    "\n",
    "# 4. Organizar las nuevas métricas\n",
    "new_metrics = {\n",
    "    'precision': precision,\n",
    "    'recall': recall,\n",
    "    'f1_score': f1_score,\n",
    "    'trend_change_precision': trend_change_precision,\n",
    "    'trend_change_recall': trend_change_recall,\n",
    "    'trend_change_f1_score': trend_change_f1_score,\n",
    "    \"optuna_duration_sec\": opt_duration_sec,\n",
    "    \"n_trials\": n_trials_run\n",
    "}\n",
    "\n",
    "# 5. Cargar, actualizar y guardar el DataFrame de comparación\n",
    "try:\n",
    "    # Intentar cargar el archivo existente\n",
    "    comparison_df = pd.read_csv(output_file, index_col='model')\n",
    "    # Si existe, actualizar o añadir la fila para el modelo actual\n",
    "    comparison_df.loc[model_name] = new_metrics\n",
    "except FileNotFoundError:\n",
    "    # Si no existe, crear un DataFrame nuevo directamente con los datos actuales\n",
    "    comparison_df = pd.DataFrame([new_metrics], index=[model_name])\n",
    "\n",
    "# Guardar el DataFrame actualizado en el CSV\n",
    "comparison_df.to_csv(output_file, index_label='model')"
   ]
  }
 ],
 "metadata": {
  "kernelspec": {
   "display_name": "tf_venv2 (3.10.12)",
   "language": "python",
   "name": "python3"
  },
  "language_info": {
   "codemirror_mode": {
    "name": "ipython",
    "version": 3
   },
   "file_extension": ".py",
   "mimetype": "text/x-python",
   "name": "python",
   "nbconvert_exporter": "python",
   "pygments_lexer": "ipython3",
   "version": "3.10.12"
  }
 },
 "nbformat": 4,
 "nbformat_minor": 5
}
