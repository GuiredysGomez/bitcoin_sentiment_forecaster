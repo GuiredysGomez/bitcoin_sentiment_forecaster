{
 "cells": [
  {
   "cell_type": "code",
   "execution_count": 1,
   "id": "8e70cc92",
   "metadata": {},
   "outputs": [
    {
     "name": "stderr",
     "output_type": "stream",
     "text": [
      "/home/toyotx22/bitcoin_sentiment_forecaster/tf_venv2/lib/python3.10/site-packages/tqdm/auto.py:21: TqdmWarning: IProgress not found. Please update jupyter and ipywidgets. See https://ipywidgets.readthedocs.io/en/stable/user_install.html\n",
      "  from .autonotebook import tqdm as notebook_tqdm\n"
     ]
    }
   ],
   "source": [
    "import pandas as pd\n",
    "import random\n",
    "import numpy as np\n",
    "from sklearn.linear_model import LogisticRegression\n",
    "from sklearn.metrics import classification_report, balanced_accuracy_score\n",
    "from sklearn.preprocessing import StandardScaler\n",
    "from sklearn.pipeline import Pipeline\n",
    "import optuna   \n",
    "import json\n",
    "import os\n",
    "from optuna.visualization import plot_optimization_history"
   ]
  },
  {
   "cell_type": "code",
   "execution_count": 2,
   "id": "661a9192",
   "metadata": {},
   "outputs": [],
   "source": [
    "SEED = 1234\n",
    " # Se puede cambiar a \"precision\" o \"recall\" o \"f1-score\"\n",
    "SCORE = \"f1-score\""
   ]
  },
  {
   "cell_type": "code",
   "execution_count": 3,
   "id": "beb2404b",
   "metadata": {},
   "outputs": [],
   "source": [
    "def set_seeds(seed):\n",
    "    random.seed(seed)\n",
    "    np.random.seed(seed)"
   ]
  },
  {
   "cell_type": "markdown",
   "id": "928d70ad",
   "metadata": {},
   "source": [
    "Score Trend Changes Score"
   ]
  },
  {
   "cell_type": "code",
   "execution_count": 4,
   "id": "881b233e",
   "metadata": {},
   "outputs": [],
   "source": [
    "def get_trend_changes_report_dict(y_test: np.array, y_pred: np.array) -> float:\n",
    "    \"\"\"\n",
    "    Calculate the trend changes score based on the test and predicted values.\n",
    "    \n",
    "    Args:\n",
    "        y_test (np.array): True labels.\n",
    "        y_pred (np.array): Predicted labels.\n",
    "        \n",
    "    Returns:\n",
    "        float: The trend changes score.\n",
    "    \"\"\"\n",
    "    y_df = pd.DataFrame([y_test, y_pred]).T\n",
    "    y_df.columns = [\"y_test\", \"y_pred\"]\n",
    "    y_df[\"y_test_shifted\"] = y_df[\"y_test\"].shift(-1)\n",
    "    y_df[\"is_changed_trend_test\"] = y_df[\"y_test\"] != y_df[\"y_test_shifted\"]\n",
    "    y_df[\"y_predict_shifted\"] = y_df[\"y_pred\"].shift(-1)\n",
    "    y_df[\"is_changed_trend_predict\"] = y_df[\"y_pred\"] != y_df[\"y_predict_shifted\"]\n",
    "    return classification_report(\n",
    "        y_df[\"is_changed_trend_test\"][:-1], \n",
    "        y_df[\"is_changed_trend_predict\"][:-1], \n",
    "        digits=4,\n",
    "        output_dict=True,\n",
    "        zero_division=0\n",
    "    )\n",
    "\n",
    "\n",
    "def trend_changes_score(y_test: np.array, y_pred: np.array) -> float:\n",
    "    \"\"\"\n",
    "    Calculate the trend changes score based on the test and predicted values.\n",
    "    \n",
    "    Args:\n",
    "        y_test (np.array): True labels.\n",
    "        y_pred (np.array): Predicted labels.\n",
    "        \n",
    "    Returns:\n",
    "        float: The trend changes score.\n",
    "    \"\"\"\n",
    "    y_df = pd.DataFrame([y_test, y_pred]).T\n",
    "    y_df.columns = [\"y_test\", \"y_pred\"]\n",
    "    y_df[\"y_test_shifted\"] = y_df[\"y_test\"].shift(-1)\n",
    "    y_df[\"is_changed_trend_test\"] = y_df[\"y_test\"] != y_df[\"y_test_shifted\"]\n",
    "    y_df[\"y_predict_shifted\"] = y_df[\"y_pred\"].shift(-1)\n",
    "    y_df[\"is_changed_trend_predict\"] = y_df[\"y_pred\"] != y_df[\"y_predict_shifted\"]\n",
    "    return classification_report(y_df[\"is_changed_trend_test\"][:-1], y_df[\"is_changed_trend_predict\"][:-1], digits=4)\n",
    "\n",
    "def trend_changes_true(y_test: np.array, y_pred: np.array) -> float:\n",
    "    \"\"\"\n",
    "    Calculate the trend changes score based on the test and predicted values.\n",
    "    \n",
    "    Args:\n",
    "        y_test (np.array): True labels.\n",
    "        y_pred (np.array): Predicted labels.\n",
    "        \n",
    "    Returns:\n",
    "        float: The trend changes score.\n",
    "    \"\"\"\n",
    "    y_df = pd.DataFrame([y_test, y_pred]).T\n",
    "    y_df.columns = [\"y_test\", \"y_pred\"]\n",
    "    y_df[\"y_test_shifted\"] = y_df[\"y_test\"].shift(-1)\n",
    "    y_df[\"is_changed_trend_test\"] = y_df[\"y_test\"] != y_df[\"y_test_shifted\"]\n",
    "    y_df[\"y_predict_shifted\"] = y_df[\"y_pred\"].shift(-1)\n",
    "    y_df[\"is_changed_trend_predict\"] = y_df[\"y_pred\"] != y_df[\"y_predict_shifted\"]\n",
    "    report = classification_report(\n",
    "        y_df[\"is_changed_trend_test\"][:-1],\n",
    "        y_df[\"is_changed_trend_predict\"][:-1],\n",
    "        output_dict=True,\n",
    "        zero_division=0\n",
    "    )\n",
    "    return report[\"True\"][SCORE]"
   ]
  },
  {
   "cell_type": "markdown",
   "id": "f8864b37",
   "metadata": {},
   "source": [
    "Carga de datos"
   ]
  },
  {
   "cell_type": "code",
   "execution_count": 5,
   "id": "10aab5db",
   "metadata": {},
   "outputs": [],
   "source": [
    "# Cargar datos\n",
    "train = pd.read_csv(\"../../../data/post_cleaning/training_set.csv\", parse_dates=[\"date\"])\n",
    "val = pd.read_csv(\"../../../data/post_cleaning/validation_set.csv\", parse_dates=[\"date\"])\n",
    "test_set = pd.read_csv(\"../../../data/post_cleaning/test_set.csv\", parse_dates=['date'])\n",
    "X_train = train.drop(columns=[\"date\", \"target_trend\"]).values\n",
    "y_train = train[\"target_trend\"].values\n",
    "X_val = val.drop(columns=[\"date\", \"target_trend\"]).values\n",
    "y_val = val[\"target_trend\"].values\n",
    "X_test = test_set.drop(columns=['target_trend','date']).values\n",
    "y_test = test_set['target_trend'].values"
   ]
  },
  {
   "cell_type": "markdown",
   "id": "c87f49c3",
   "metadata": {},
   "source": [
    "IMPORTANTE: Hay que sumar a la columna de prediccion porque -1 no funciona en funcion de LOSS"
   ]
  },
  {
   "cell_type": "code",
   "execution_count": 6,
   "id": "6d625f51",
   "metadata": {},
   "outputs": [],
   "source": [
    "y_train += 1\n",
    "y_val += 1"
   ]
  },
  {
   "cell_type": "markdown",
   "id": "bfade2a3",
   "metadata": {},
   "source": [
    "Integracion de metrica trend_changes_score en la funcion objetivo Optuna"
   ]
  },
  {
   "cell_type": "code",
   "execution_count": 7,
   "id": "edca5563",
   "metadata": {},
   "outputs": [],
   "source": [
    "def objective(trial):\n",
    "    set_seeds(SEED)  # Fijar semilla antes de cada trial\n",
    "    penalty = trial.suggest_categorical(\"penalty\", [\"l1\", \"l2\", \"elasticnet\"])\n",
    "    C = trial.suggest_float(\"C\", 1e-3, 50, log=True)\n",
    "    l1_ratio = None\n",
    "    if penalty == \"elasticnet\":\n",
    "        l1_ratio = trial.suggest_float(\"l1_ratio\", 0.1, 0.9)\n",
    "\n",
    "    model = Pipeline([\n",
    "        (\"scaler\", StandardScaler()),\n",
    "        (\"clf\", LogisticRegression(\n",
    "            multi_class=\"multinomial\",\n",
    "            solver=\"saga\",\n",
    "            penalty=penalty,\n",
    "            C=C,\n",
    "            l1_ratio=l1_ratio,\n",
    "            max_iter=800,\n",
    "            random_state=SEED\n",
    "        ))\n",
    "    ])\n",
    "\n",
    "    model.fit(X_train, y_train)\n",
    "    y_val_pred = model.predict(X_val)\n",
    "    score = trend_changes_true(y_val, y_val_pred)  \n",
    "    return score"
   ]
  },
  {
   "cell_type": "markdown",
   "id": "13c11435",
   "metadata": {},
   "source": [
    "Ejecucion de estudio con Optuna"
   ]
  },
  {
   "cell_type": "code",
   "execution_count": 8,
   "id": "d8c2de68",
   "metadata": {},
   "outputs": [
    {
     "name": "stderr",
     "output_type": "stream",
     "text": [
      "[I 2025-08-24 15:43:28,830] A new study created in memory with name: no-name-7eaa8c53-21b2-4d41-a62b-c17258b59178\n"
     ]
    },
    {
     "name": "stderr",
     "output_type": "stream",
     "text": [
      "/home/toyotx22/bitcoin_sentiment_forecaster/tf_venv2/lib/python3.10/site-packages/sklearn/linear_model/_sag.py:350: ConvergenceWarning: The max_iter was reached which means the coef_ did not converge\n",
      "  warnings.warn(\n",
      "[I 2025-08-24 15:43:30,315] Trial 0 finished with value: 0.36619718309859156 and parameters: {'penalty': 'l2', 'C': 4.9020352232191025}. Best is trial 0 with value: 0.36619718309859156.\n",
      "/home/toyotx22/bitcoin_sentiment_forecaster/tf_venv2/lib/python3.10/site-packages/sklearn/linear_model/_sag.py:350: ConvergenceWarning: The max_iter was reached which means the coef_ did not converge\n",
      "  warnings.warn(\n",
      "[I 2025-08-24 15:43:32,149] Trial 1 finished with value: 0.3611111111111111 and parameters: {'penalty': 'l1', 'C': 5.8610214330700705}. Best is trial 0 with value: 0.36619718309859156.\n",
      "[I 2025-08-24 15:43:32,567] Trial 2 finished with value: 0.29850746268656714 and parameters: {'penalty': 'l1', 'C': 0.22602738844381381}. Best is trial 0 with value: 0.36619718309859156.\n",
      "[I 2025-08-24 15:43:32,893] Trial 3 finished with value: 0.3582089552238806 and parameters: {'penalty': 'l2', 'C': 0.43355484601640604}. Best is trial 0 with value: 0.36619718309859156.\n",
      "/home/toyotx22/bitcoin_sentiment_forecaster/tf_venv2/lib/python3.10/site-packages/sklearn/linear_model/_sag.py:350: ConvergenceWarning: The max_iter was reached which means the coef_ did not converge\n",
      "  warnings.warn(\n",
      "[I 2025-08-24 15:43:34,826] Trial 4 finished with value: 0.3611111111111111 and parameters: {'penalty': 'elasticnet', 'C': 14.044441691902366, 'l1_ratio': 0.3919087871210979}. Best is trial 0 with value: 0.36619718309859156.\n",
      "/home/toyotx22/bitcoin_sentiment_forecaster/tf_venv2/lib/python3.10/site-packages/sklearn/linear_model/_sag.py:350: ConvergenceWarning: The max_iter was reached which means the coef_ did not converge\n",
      "  warnings.warn(\n",
      "[I 2025-08-24 15:43:36,767] Trial 5 finished with value: 0.3561643835616438 and parameters: {'penalty': 'l1', 'C': 24.254780519039887}. Best is trial 0 with value: 0.36619718309859156.\n",
      "[I 2025-08-24 15:43:36,875] Trial 6 finished with value: 0.3548387096774194 and parameters: {'penalty': 'elasticnet', 'C': 0.030817927870550953, 'l1_ratio': 0.5544789221008554}. Best is trial 0 with value: 0.36619718309859156.\n",
      "[I 2025-08-24 15:43:37,369] Trial 7 finished with value: 0.23529411764705882 and parameters: {'penalty': 'l1', 'C': 0.004737573884223105}. Best is trial 0 with value: 0.36619718309859156.\n",
      "/home/toyotx22/bitcoin_sentiment_forecaster/tf_venv2/lib/python3.10/site-packages/sklearn/linear_model/_sag.py:350: ConvergenceWarning: The max_iter was reached which means the coef_ did not converge\n",
      "  warnings.warn(\n",
      "[I 2025-08-24 15:43:38,773] Trial 8 finished with value: 0.3835616438356164 and parameters: {'penalty': 'l2', 'C': 22.178146342804567}. Best is trial 8 with value: 0.3835616438356164.\n",
      "[I 2025-08-24 15:43:38,832] Trial 9 finished with value: 0.24561403508771928 and parameters: {'penalty': 'l2', 'C': 0.007344453390163737}. Best is trial 8 with value: 0.3835616438356164.\n",
      "[I 2025-08-24 15:43:39,542] Trial 10 finished with value: 0.37142857142857144 and parameters: {'penalty': 'l2', 'C': 1.1231067421330139}. Best is trial 8 with value: 0.3835616438356164.\n",
      "[I 2025-08-24 15:43:40,647] Trial 11 finished with value: 0.37142857142857144 and parameters: {'penalty': 'l2', 'C': 1.8339561401974636}. Best is trial 8 with value: 0.3835616438356164.\n",
      "[I 2025-08-24 15:43:41,401] Trial 12 finished with value: 0.37142857142857144 and parameters: {'penalty': 'l2', 'C': 1.228455646731662}. Best is trial 8 with value: 0.3835616438356164.\n",
      "[I 2025-08-24 15:43:41,484] Trial 13 finished with value: 0.32786885245901637 and parameters: {'penalty': 'l2', 'C': 0.053710538303415045}. Best is trial 8 with value: 0.3835616438356164.\n",
      "/home/toyotx22/bitcoin_sentiment_forecaster/tf_venv2/lib/python3.10/site-packages/sklearn/linear_model/_sag.py:350: ConvergenceWarning: The max_iter was reached which means the coef_ did not converge\n",
      "  warnings.warn(\n",
      "[I 2025-08-24 15:43:42,859] Trial 14 finished with value: 0.3561643835616438 and parameters: {'penalty': 'l2', 'C': 39.02315994145194}. Best is trial 8 with value: 0.3835616438356164.\n",
      "[I 2025-08-24 15:43:43,814] Trial 15 finished with value: 0.37142857142857144 and parameters: {'penalty': 'l2', 'C': 1.5978190198595157}. Best is trial 8 with value: 0.3835616438356164.\n",
      "/home/toyotx22/bitcoin_sentiment_forecaster/tf_venv2/lib/python3.10/site-packages/sklearn/linear_model/_sag.py:350: ConvergenceWarning: The max_iter was reached which means the coef_ did not converge\n",
      "  warnings.warn(\n",
      "[I 2025-08-24 15:43:45,680] Trial 16 finished with value: 0.3611111111111111 and parameters: {'penalty': 'elasticnet', 'C': 8.36455332612726, 'l1_ratio': 0.8749589562365976}. Best is trial 8 with value: 0.3835616438356164.\n",
      "[I 2025-08-24 15:43:45,765] Trial 17 finished with value: 0.32786885245901637 and parameters: {'penalty': 'l2', 'C': 0.05814406177952389}. Best is trial 8 with value: 0.3835616438356164.\n",
      "[I 2025-08-24 15:43:45,818] Trial 18 finished with value: 0.19607843137254902 and parameters: {'penalty': 'l2', 'C': 0.0010694582197164142}. Best is trial 8 with value: 0.3835616438356164.\n",
      "/home/toyotx22/bitcoin_sentiment_forecaster/tf_venv2/lib/python3.10/site-packages/sklearn/linear_model/_sag.py:350: ConvergenceWarning: The max_iter was reached which means the coef_ did not converge\n",
      "  warnings.warn(\n",
      "[I 2025-08-24 15:43:47,720] Trial 19 finished with value: 0.3561643835616438 and parameters: {'penalty': 'elasticnet', 'C': 49.03023205153288, 'l1_ratio': 0.1516442503350685}. Best is trial 8 with value: 0.3835616438356164.\n",
      "[I 2025-08-24 15:43:48,186] Trial 20 finished with value: 0.3582089552238806 and parameters: {'penalty': 'l2', 'C': 0.6379941533858293}. Best is trial 8 with value: 0.3835616438356164.\n",
      "[I 2025-08-24 15:43:49,289] Trial 21 finished with value: 0.3611111111111111 and parameters: {'penalty': 'l2', 'C': 1.9856578800223363}. Best is trial 8 with value: 0.3835616438356164.\n",
      "/home/toyotx22/bitcoin_sentiment_forecaster/tf_venv2/lib/python3.10/site-packages/sklearn/linear_model/_sag.py:350: ConvergenceWarning: The max_iter was reached which means the coef_ did not converge\n",
      "  warnings.warn(\n",
      "[I 2025-08-24 15:43:50,716] Trial 22 finished with value: 0.3611111111111111 and parameters: {'penalty': 'l2', 'C': 3.0314721644739415}. Best is trial 8 with value: 0.3835616438356164.\n",
      "[I 2025-08-24 15:43:51,170] Trial 23 finished with value: 0.3582089552238806 and parameters: {'penalty': 'l2', 'C': 0.6746568260876293}. Best is trial 8 with value: 0.3835616438356164.\n",
      "[I 2025-08-24 15:43:51,366] Trial 24 finished with value: 0.3125 and parameters: {'penalty': 'l2', 'C': 0.2419070860114025}. Best is trial 8 with value: 0.3835616438356164.\n",
      "/home/toyotx22/bitcoin_sentiment_forecaster/tf_venv2/lib/python3.10/site-packages/sklearn/linear_model/_sag.py:350: ConvergenceWarning: The max_iter was reached which means the coef_ did not converge\n",
      "  warnings.warn(\n",
      "[I 2025-08-24 15:43:52,802] Trial 25 finished with value: 0.36619718309859156 and parameters: {'penalty': 'l2', 'C': 9.449623852843933}. Best is trial 8 with value: 0.3835616438356164.\n",
      "/home/toyotx22/bitcoin_sentiment_forecaster/tf_venv2/lib/python3.10/site-packages/sklearn/linear_model/_sag.py:350: ConvergenceWarning: The max_iter was reached which means the coef_ did not converge\n",
      "  warnings.warn(\n",
      "[I 2025-08-24 15:43:54,159] Trial 26 finished with value: 0.36619718309859156 and parameters: {'penalty': 'l2', 'C': 19.342846805886783}. Best is trial 8 with value: 0.3835616438356164.\n",
      "/home/toyotx22/bitcoin_sentiment_forecaster/tf_venv2/lib/python3.10/site-packages/sklearn/linear_model/_sag.py:350: ConvergenceWarning: The max_iter was reached which means the coef_ did not converge\n",
      "  warnings.warn(\n",
      "[I 2025-08-24 15:43:55,557] Trial 27 finished with value: 0.3611111111111111 and parameters: {'penalty': 'l2', 'C': 3.5888214461116332}. Best is trial 8 with value: 0.3835616438356164.\n",
      "[I 2025-08-24 15:43:55,954] Trial 28 finished with value: 0.31746031746031744 and parameters: {'penalty': 'elasticnet', 'C': 0.11730458374408365, 'l1_ratio': 0.8746072661434346}. Best is trial 8 with value: 0.3835616438356164.\n",
      "[I 2025-08-24 15:43:57,205] Trial 29 finished with value: 0.37142857142857144 and parameters: {'penalty': 'l1', 'C': 1.0633901944696136}. Best is trial 8 with value: 0.3835616438356164.\n",
      "/home/toyotx22/bitcoin_sentiment_forecaster/tf_venv2/lib/python3.10/site-packages/sklearn/linear_model/_sag.py:350: ConvergenceWarning: The max_iter was reached which means the coef_ did not converge\n",
      "  warnings.warn(\n",
      "[I 2025-08-24 15:43:56,106] Trial 30 finished with value: 0.36619718309859156 and parameters: {'penalty': 'l2', 'C': 5.341599533137437}. Best is trial 8 with value: 0.3835616438356164.\n",
      "[I 2025-08-24 15:43:57,036] Trial 31 finished with value: 0.37142857142857144 and parameters: {'penalty': 'l2', 'C': 1.6745888936776527}. Best is trial 8 with value: 0.3835616438356164.\n",
      "[I 2025-08-24 15:43:57,620] Trial 32 finished with value: 0.34782608695652173 and parameters: {'penalty': 'l2', 'C': 0.9062123316778208}. Best is trial 8 with value: 0.3835616438356164.\n",
      "[I 2025-08-24 15:43:57,924] Trial 33 finished with value: 0.3125 and parameters: {'penalty': 'l2', 'C': 0.3485325508095621}. Best is trial 8 with value: 0.3835616438356164.\n",
      "/home/toyotx22/bitcoin_sentiment_forecaster/tf_venv2/lib/python3.10/site-packages/sklearn/linear_model/_sag.py:350: ConvergenceWarning: The max_iter was reached which means the coef_ did not converge\n",
      "  warnings.warn(\n",
      "[I 2025-08-24 15:43:59,465] Trial 34 finished with value: 0.3611111111111111 and parameters: {'penalty': 'l2', 'C': 3.2759865047740546}. Best is trial 8 with value: 0.3835616438356164.\n",
      "[I 2025-08-24 15:44:00,306] Trial 35 finished with value: 0.3076923076923077 and parameters: {'penalty': 'l1', 'C': 0.1364003616061446}. Best is trial 8 with value: 0.3835616438356164.\n",
      "/home/toyotx22/bitcoin_sentiment_forecaster/tf_venv2/lib/python3.10/site-packages/sklearn/linear_model/_sag.py:350: ConvergenceWarning: The max_iter was reached which means the coef_ did not converge\n",
      "  warnings.warn(\n",
      "[I 2025-08-24 15:44:01,700] Trial 36 finished with value: 0.36619718309859156 and parameters: {'penalty': 'l2', 'C': 8.548374040282676}. Best is trial 8 with value: 0.3835616438356164.\n",
      "[I 2025-08-24 15:44:02,299] Trial 37 finished with value: 0.3283582089552239 and parameters: {'penalty': 'l1', 'C': 0.5341779649104005}. Best is trial 8 with value: 0.3835616438356164.\n",
      "/home/toyotx22/bitcoin_sentiment_forecaster/tf_venv2/lib/python3.10/site-packages/sklearn/linear_model/_sag.py:350: ConvergenceWarning: The max_iter was reached which means the coef_ did not converge\n",
      "  warnings.warn(\n",
      "[I 2025-08-24 15:44:03,668] Trial 38 finished with value: 0.3611111111111111 and parameters: {'penalty': 'l2', 'C': 15.36160006097926}. Best is trial 8 with value: 0.3835616438356164.\n",
      "[I 2025-08-24 15:44:04,784] Trial 39 finished with value: 0.37142857142857144 and parameters: {'penalty': 'elasticnet', 'C': 1.2103747630648953, 'l1_ratio': 0.13926149293431045}. Best is trial 8 with value: 0.3835616438356164.\n",
      "[I 2025-08-24 15:44:06,045] Trial 40 finished with value: 0.3611111111111111 and parameters: {'penalty': 'l2', 'C': 2.397034391292457}. Best is trial 8 with value: 0.3835616438356164.\n",
      "/home/toyotx22/bitcoin_sentiment_forecaster/tf_venv2/lib/python3.10/site-packages/sklearn/linear_model/_sag.py:350: ConvergenceWarning: The max_iter was reached which means the coef_ did not converge\n",
      "  warnings.warn(\n",
      "[I 2025-08-24 15:44:07,456] Trial 41 finished with value: 0.36619718309859156 and parameters: {'penalty': 'l2', 'C': 5.467739606489551}. Best is trial 8 with value: 0.3835616438356164.\n",
      "[I 2025-08-24 15:44:08,281] Trial 42 finished with value: 0.37142857142857144 and parameters: {'penalty': 'l2', 'C': 1.4336769941426049}. Best is trial 8 with value: 0.3835616438356164.\n",
      "[I 2025-08-24 15:44:08,574] Trial 43 finished with value: 0.3125 and parameters: {'penalty': 'l2', 'C': 0.36524556361039223}. Best is trial 8 with value: 0.3835616438356164.\n",
      "/home/toyotx22/bitcoin_sentiment_forecaster/tf_venv2/lib/python3.10/site-packages/sklearn/linear_model/_sag.py:350: ConvergenceWarning: The max_iter was reached which means the coef_ did not converge\n",
      "  warnings.warn(\n",
      "[I 2025-08-24 15:44:10,026] Trial 44 finished with value: 0.3561643835616438 and parameters: {'penalty': 'l2', 'C': 30.242525520320672}. Best is trial 8 with value: 0.3835616438356164.\n",
      "[I 2025-08-24 15:44:10,608] Trial 45 finished with value: 0.34782608695652173 and parameters: {'penalty': 'l2', 'C': 0.8752807224827964}. Best is trial 8 with value: 0.3835616438356164.\n",
      "/home/toyotx22/bitcoin_sentiment_forecaster/tf_venv2/lib/python3.10/site-packages/sklearn/linear_model/_sag.py:350: ConvergenceWarning: The max_iter was reached which means the coef_ did not converge\n",
      "  warnings.warn(\n",
      "[I 2025-08-24 15:44:12,413] Trial 46 finished with value: 0.3611111111111111 and parameters: {'penalty': 'l1', 'C': 11.458587309893462}. Best is trial 8 with value: 0.3835616438356164.\n",
      "[I 2025-08-24 15:44:12,645] Trial 47 finished with value: 0.31746031746031744 and parameters: {'penalty': 'elasticnet', 'C': 0.12585555179503238, 'l1_ratio': 0.5882214951104654}. Best is trial 8 with value: 0.3835616438356164.\n",
      "[I 2025-08-24 15:44:12,697] Trial 48 finished with value: 0.21818181818181817 and parameters: {'penalty': 'l2', 'C': 0.01350260107732313}. Best is trial 8 with value: 0.3835616438356164.\n",
      "/home/toyotx22/bitcoin_sentiment_forecaster/tf_venv2/lib/python3.10/site-packages/sklearn/linear_model/_sag.py:350: ConvergenceWarning: The max_iter was reached which means the coef_ did not converge\n",
      "  warnings.warn(\n",
      "[I 2025-08-24 15:44:14,092] Trial 49 finished with value: 0.3611111111111111 and parameters: {'penalty': 'l2', 'C': 4.3791702616655055}. Best is trial 8 with value: 0.3835616438356164.\n",
      "[I 2025-08-24 15:44:15,183] Trial 50 finished with value: 0.37142857142857144 and parameters: {'penalty': 'l2', 'C': 1.9446280018845867}. Best is trial 8 with value: 0.3835616438356164.\n",
      "[I 2025-08-24 15:44:16,683] Trial 51 finished with value: 0.37142857142857144 and parameters: {'penalty': 'l1', 'C': 1.2445919618560797}. Best is trial 8 with value: 0.3835616438356164.\n",
      "[I 2025-08-24 15:44:17,079] Trial 52 finished with value: 0.29850746268656714 and parameters: {'penalty': 'l1', 'C': 0.2327532225700905}. Best is trial 8 with value: 0.3835616438356164.\n",
      "[I 2025-08-24 15:44:18,117] Trial 53 finished with value: 0.34782608695652173 and parameters: {'penalty': 'l1', 'C': 0.9118601627544536}. Best is trial 8 with value: 0.3835616438356164.\n",
      "[I 2025-08-24 15:44:18,730] Trial 54 finished with value: 0.3283582089552239 and parameters: {'penalty': 'l1', 'C': 0.5240356145558668}. Best is trial 8 with value: 0.3835616438356164.\n",
      "/home/toyotx22/bitcoin_sentiment_forecaster/tf_venv2/lib/python3.10/site-packages/sklearn/linear_model/_sag.py:350: ConvergenceWarning: The max_iter was reached which means the coef_ did not converge\n",
      "  warnings.warn(\n",
      "[I 2025-08-24 15:44:20,494] Trial 55 finished with value: 0.3611111111111111 and parameters: {'penalty': 'l1', 'C': 2.5888342669227096}. Best is trial 8 with value: 0.3835616438356164.\n",
      "/home/toyotx22/bitcoin_sentiment_forecaster/tf_venv2/lib/python3.10/site-packages/sklearn/linear_model/_sag.py:350: ConvergenceWarning: The max_iter was reached which means the coef_ did not converge\n",
      "  warnings.warn(\n",
      "[I 2025-08-24 15:44:21,908] Trial 56 finished with value: 0.36619718309859156 and parameters: {'penalty': 'l2', 'C': 7.0010945692712765}. Best is trial 8 with value: 0.3835616438356164.\n",
      "[I 2025-08-24 15:44:22,137] Trial 57 finished with value: 0.3125 and parameters: {'penalty': 'l2', 'C': 0.3007294003074175}. Best is trial 8 with value: 0.3835616438356164.\n",
      "[I 2025-08-24 15:44:22,884] Trial 58 finished with value: 0.34782608695652173 and parameters: {'penalty': 'elasticnet', 'C': 0.783421586964826, 'l1_ratio': 0.35266943015099217}. Best is trial 8 with value: 0.3835616438356164.\n",
      "/home/toyotx22/bitcoin_sentiment_forecaster/tf_venv2/lib/python3.10/site-packages/sklearn/linear_model/_sag.py:350: ConvergenceWarning: The max_iter was reached which means the coef_ did not converge\n",
      "  warnings.warn(\n",
      "[I 2025-08-24 15:44:24,626] Trial 59 finished with value: 0.37142857142857144 and parameters: {'penalty': 'l1', 'C': 1.445801798081405}. Best is trial 8 with value: 0.3835616438356164.\n",
      "[I 2025-08-24 15:44:24,724] Trial 60 finished with value: 0.36065573770491804 and parameters: {'penalty': 'l2', 'C': 0.06847446599162625}. Best is trial 8 with value: 0.3835616438356164.\n",
      "[I 2025-08-24 15:44:25,702] Trial 61 finished with value: 0.37142857142857144 and parameters: {'penalty': 'l2', 'C': 1.652815626184793}. Best is trial 8 with value: 0.3835616438356164.\n",
      "/home/toyotx22/bitcoin_sentiment_forecaster/tf_venv2/lib/python3.10/site-packages/sklearn/linear_model/_sag.py:350: ConvergenceWarning: The max_iter was reached which means the coef_ did not converge\n",
      "  warnings.warn(\n",
      "[I 2025-08-24 15:44:27,104] Trial 62 finished with value: 0.3611111111111111 and parameters: {'penalty': 'l2', 'C': 4.473406879083585}. Best is trial 8 with value: 0.3835616438356164.\n",
      "/home/toyotx22/bitcoin_sentiment_forecaster/tf_venv2/lib/python3.10/site-packages/sklearn/linear_model/_sag.py:350: ConvergenceWarning: The max_iter was reached which means the coef_ did not converge\n",
      "  warnings.warn(\n",
      "[I 2025-08-24 15:44:26,009] Trial 63 finished with value: 0.3611111111111111 and parameters: {'penalty': 'l2', 'C': 2.7464336662650393}. Best is trial 8 with value: 0.3835616438356164.\n",
      "[I 2025-08-24 15:44:26,335] Trial 64 finished with value: 0.3582089552238806 and parameters: {'penalty': 'l2', 'C': 0.4348698154357338}. Best is trial 8 with value: 0.3835616438356164.\n",
      "[I 2025-08-24 15:44:26,385] Trial 65 finished with value: 0.1568627450980392 and parameters: {'penalty': 'l2', 'C': 0.001620894090672238}. Best is trial 8 with value: 0.3835616438356164.\n",
      "[I 2025-08-24 15:44:27,054] Trial 66 finished with value: 0.37142857142857144 and parameters: {'penalty': 'l2', 'C': 1.0950879724768616}. Best is trial 8 with value: 0.3835616438356164.\n",
      "[I 2025-08-24 15:44:27,224] Trial 67 finished with value: 0.34375 and parameters: {'penalty': 'l2', 'C': 0.181920910553601}. Best is trial 8 with value: 0.3835616438356164.\n",
      "[I 2025-08-24 15:44:28,371] Trial 68 finished with value: 0.3611111111111111 and parameters: {'penalty': 'l2', 'C': 2.1161217938210735}. Best is trial 8 with value: 0.3835616438356164.\n",
      "[I 2025-08-24 15:44:28,907] Trial 69 finished with value: 0.34782608695652173 and parameters: {'penalty': 'elasticnet', 'C': 0.6059988790882623, 'l1_ratio': 0.6956429093108063}. Best is trial 8 with value: 0.3835616438356164.\n",
      "/home/toyotx22/bitcoin_sentiment_forecaster/tf_venv2/lib/python3.10/site-packages/sklearn/linear_model/_sag.py:350: ConvergenceWarning: The max_iter was reached which means the coef_ did not converge\n",
      "  warnings.warn(\n",
      "[I 2025-08-24 15:44:30,287] Trial 70 finished with value: 0.3611111111111111 and parameters: {'penalty': 'l2', 'C': 3.9571028994405535}. Best is trial 8 with value: 0.3835616438356164.\n",
      "[I 2025-08-24 15:44:31,526] Trial 71 finished with value: 0.37142857142857144 and parameters: {'penalty': 'elasticnet', 'C': 1.4159728383191066, 'l1_ratio': 0.12688711452011173}. Best is trial 8 with value: 0.3835616438356164.\n",
      "[I 2025-08-24 15:44:32,568] Trial 72 finished with value: 0.34782608695652173 and parameters: {'penalty': 'elasticnet', 'C': 0.9672512386410647, 'l1_ratio': 0.2866138884607433}. Best is trial 8 with value: 0.3835616438356164.\n",
      "/home/toyotx22/bitcoin_sentiment_forecaster/tf_venv2/lib/python3.10/site-packages/sklearn/linear_model/_sag.py:350: ConvergenceWarning: The max_iter was reached which means the coef_ did not converge\n",
      "  warnings.warn(\n",
      "[I 2025-08-24 15:44:34,627] Trial 73 finished with value: 0.36619718309859156 and parameters: {'penalty': 'elasticnet', 'C': 18.360090132542457, 'l1_ratio': 0.24501354867912084}. Best is trial 8 with value: 0.3835616438356164.\n",
      "/home/toyotx22/bitcoin_sentiment_forecaster/tf_venv2/lib/python3.10/site-packages/sklearn/linear_model/_sag.py:350: ConvergenceWarning: The max_iter was reached which means the coef_ did not converge\n",
      "  warnings.warn(\n",
      "[I 2025-08-24 15:44:36,468] Trial 74 finished with value: 0.37142857142857144 and parameters: {'penalty': 'elasticnet', 'C': 1.8611787646871492, 'l1_ratio': 0.44680122588633114}. Best is trial 8 with value: 0.3835616438356164.\n",
      "/home/toyotx22/bitcoin_sentiment_forecaster/tf_venv2/lib/python3.10/site-packages/sklearn/linear_model/_sag.py:350: ConvergenceWarning: The max_iter was reached which means the coef_ did not converge\n",
      "  warnings.warn(\n",
      "[I 2025-08-24 15:44:38,314] Trial 75 finished with value: 0.3611111111111111 and parameters: {'penalty': 'elasticnet', 'C': 3.195183135609489, 'l1_ratio': 0.7030755855889093}. Best is trial 8 with value: 0.3835616438356164.\n",
      "[I 2025-08-24 15:44:38,818] Trial 76 finished with value: 0.3582089552238806 and parameters: {'penalty': 'l2', 'C': 0.7401136294541326}. Best is trial 8 with value: 0.3835616438356164.\n",
      "/home/toyotx22/bitcoin_sentiment_forecaster/tf_venv2/lib/python3.10/site-packages/sklearn/linear_model/_sag.py:350: ConvergenceWarning: The max_iter was reached which means the coef_ did not converge\n",
      "  warnings.warn(\n",
      "[I 2025-08-24 15:44:40,241] Trial 77 finished with value: 0.3611111111111111 and parameters: {'penalty': 'l2', 'C': 11.618471006045946}. Best is trial 8 with value: 0.3835616438356164.\n",
      "/home/toyotx22/bitcoin_sentiment_forecaster/tf_venv2/lib/python3.10/site-packages/sklearn/linear_model/_sag.py:350: ConvergenceWarning: The max_iter was reached which means the coef_ did not converge\n",
      "  warnings.warn(\n",
      "[I 2025-08-24 15:44:42,090] Trial 78 finished with value: 0.3611111111111111 and parameters: {'penalty': 'l1', 'C': 7.072305909131071}. Best is trial 8 with value: 0.3835616438356164.\n",
      "[I 2025-08-24 15:44:42,444] Trial 79 finished with value: 0.3582089552238806 and parameters: {'penalty': 'l2', 'C': 0.5163375914186831}. Best is trial 8 with value: 0.3835616438356164.\n",
      "/home/toyotx22/bitcoin_sentiment_forecaster/tf_venv2/lib/python3.10/site-packages/sklearn/linear_model/_sag.py:350: ConvergenceWarning: The max_iter was reached which means the coef_ did not converge\n",
      "  warnings.warn(\n",
      "[I 2025-08-24 15:44:43,832] Trial 80 finished with value: 0.3561643835616438 and parameters: {'penalty': 'l2', 'C': 31.212697012280742}. Best is trial 8 with value: 0.3835616438356164.\n",
      "[I 2025-08-24 15:44:44,596] Trial 81 finished with value: 0.37142857142857144 and parameters: {'penalty': 'l2', 'C': 1.3149844917861049}. Best is trial 8 with value: 0.3835616438356164.\n",
      "[I 2025-08-24 15:44:45,268] Trial 82 finished with value: 0.37142857142857144 and parameters: {'penalty': 'l2', 'C': 1.146271261819756}. Best is trial 8 with value: 0.3835616438356164.\n",
      "[I 2025-08-24 15:44:46,440] Trial 83 finished with value: 0.3611111111111111 and parameters: {'penalty': 'l2', 'C': 2.1845593847643636}. Best is trial 8 with value: 0.3835616438356164.\n",
      "[I 2025-08-24 15:44:47,313] Trial 84 finished with value: 0.37142857142857144 and parameters: {'penalty': 'l2', 'C': 1.5233789563369222}. Best is trial 8 with value: 0.3835616438356164.\n",
      "[I 2025-08-24 15:44:47,589] Trial 85 finished with value: 0.3125 and parameters: {'penalty': 'l2', 'C': 0.3586227194090252}. Best is trial 8 with value: 0.3835616438356164.\n",
      "[I 2025-08-24 15:44:48,260] Trial 86 finished with value: 0.34782608695652173 and parameters: {'penalty': 'l1', 'C': 0.7408134370477525}. Best is trial 8 with value: 0.3835616438356164.\n",
      "/home/toyotx22/bitcoin_sentiment_forecaster/tf_venv2/lib/python3.10/site-packages/sklearn/linear_model/_sag.py:350: ConvergenceWarning: The max_iter was reached which means the coef_ did not converge\n",
      "  warnings.warn(\n",
      "[I 2025-08-24 15:44:49,681] Trial 87 finished with value: 0.3611111111111111 and parameters: {'penalty': 'l2', 'C': 3.069723881123662}. Best is trial 8 with value: 0.3835616438356164.\n",
      "/home/toyotx22/bitcoin_sentiment_forecaster/tf_venv2/lib/python3.10/site-packages/sklearn/linear_model/_sag.py:350: ConvergenceWarning: The max_iter was reached which means the coef_ did not converge\n",
      "  warnings.warn(\n",
      "[I 2025-08-24 15:44:51,631] Trial 88 finished with value: 0.36619718309859156 and parameters: {'penalty': 'elasticnet', 'C': 5.673495488044201, 'l1_ratio': 0.24365749714073787}. Best is trial 8 with value: 0.3835616438356164.\n",
      "[I 2025-08-24 15:44:52,348] Trial 89 finished with value: 0.37142857142857144 and parameters: {'penalty': 'l2', 'C': 1.1142971424300137}. Best is trial 8 with value: 0.3835616438356164.\n",
      "[I 2025-08-24 15:44:52,785] Trial 90 finished with value: 0.2898550724637681 and parameters: {'penalty': 'l1', 'C': 0.2838961442943937}. Best is trial 8 with value: 0.3835616438356164.\n",
      "[I 2025-08-24 15:44:54,028] Trial 91 finished with value: 0.3611111111111111 and parameters: {'penalty': 'l2', 'C': 2.3016905897823507}. Best is trial 8 with value: 0.3835616438356164.\n",
      "[I 2025-08-24 15:44:55,006] Trial 92 finished with value: 0.37142857142857144 and parameters: {'penalty': 'l2', 'C': 1.7065913566031627}. Best is trial 8 with value: 0.3835616438356164.\n",
      "[I 2025-08-24 15:44:56,005] Trial 93 finished with value: 0.37142857142857144 and parameters: {'penalty': 'l2', 'C': 1.7769641413732784}. Best is trial 8 with value: 0.3835616438356164.\n",
      "[I 2025-08-24 15:44:56,061] Trial 94 finished with value: 0.20689655172413793 and parameters: {'penalty': 'l2', 'C': 0.020619954078066247}. Best is trial 8 with value: 0.3835616438356164.\n",
      "[I 2025-08-24 15:44:56,405] Trial 95 finished with value: 0.3582089552238806 and parameters: {'penalty': 'l2', 'C': 0.46225445810814747}. Best is trial 8 with value: 0.3835616438356164.\n",
      "[I 2025-08-24 15:44:56,842] Trial 96 finished with value: 0.3582089552238806 and parameters: {'penalty': 'l2', 'C': 0.6372440590694058}. Best is trial 8 with value: 0.3835616438356164.\n",
      "[I 2025-08-24 15:44:57,410] Trial 97 finished with value: 0.34782608695652173 and parameters: {'penalty': 'l2', 'C': 0.878121388441714}. Best is trial 8 with value: 0.3835616438356164.\n",
      "/home/toyotx22/bitcoin_sentiment_forecaster/tf_venv2/lib/python3.10/site-packages/sklearn/linear_model/_sag.py:350: ConvergenceWarning: The max_iter was reached which means the coef_ did not converge\n",
      "  warnings.warn(\n",
      "[I 2025-08-24 15:44:56,401] Trial 98 finished with value: 0.3611111111111111 and parameters: {'penalty': 'l2', 'C': 3.5365792046460793}. Best is trial 8 with value: 0.3835616438356164.\n",
      "/home/toyotx22/bitcoin_sentiment_forecaster/tf_venv2/lib/python3.10/site-packages/sklearn/linear_model/_sag.py:350: ConvergenceWarning: The max_iter was reached which means the coef_ did not converge\n",
      "  warnings.warn(\n",
      "[I 2025-08-24 15:44:58,230] Trial 99 finished with value: 0.3611111111111111 and parameters: {'penalty': 'l1', 'C': 2.479789647415342}. Best is trial 8 with value: 0.3835616438356164.\n"
     ]
    }
   ],
   "source": [
    "study = optuna.create_study(\n",
    "    direction=\"maximize\",\n",
    "    sampler=optuna.samplers.TPESampler(seed=SEED)\n",
    ")\n",
    "study.optimize(objective, n_trials=100)"
   ]
  },
  {
   "cell_type": "code",
   "execution_count": 9,
   "id": "5aa087a0",
   "metadata": {},
   "outputs": [
    {
     "data": {
      "application/vnd.plotly.v1+json": {
       "config": {
        "plotlyServerURL": "https://plot.ly"
       },
       "data": [
        {
         "mode": "markers",
         "name": "Objective Value",
         "type": "scatter",
         "x": [
          0,
          1,
          2,
          3,
          4,
          5,
          6,
          7,
          8,
          9,
          10,
          11,
          12,
          13,
          14,
          15,
          16,
          17,
          18,
          19,
          20,
          21,
          22,
          23,
          24,
          25,
          26,
          27,
          28,
          29,
          30,
          31,
          32,
          33,
          34,
          35,
          36,
          37,
          38,
          39,
          40,
          41,
          42,
          43,
          44,
          45,
          46,
          47,
          48,
          49,
          50,
          51,
          52,
          53,
          54,
          55,
          56,
          57,
          58,
          59,
          60,
          61,
          62,
          63,
          64,
          65,
          66,
          67,
          68,
          69,
          70,
          71,
          72,
          73,
          74,
          75,
          76,
          77,
          78,
          79,
          80,
          81,
          82,
          83,
          84,
          85,
          86,
          87,
          88,
          89,
          90,
          91,
          92,
          93,
          94,
          95,
          96,
          97,
          98,
          99
         ],
         "y": [
          0.36619718309859156,
          0.3611111111111111,
          0.29850746268656714,
          0.3582089552238806,
          0.3611111111111111,
          0.3561643835616438,
          0.3548387096774194,
          0.23529411764705882,
          0.3835616438356164,
          0.24561403508771928,
          0.37142857142857144,
          0.37142857142857144,
          0.37142857142857144,
          0.32786885245901637,
          0.3561643835616438,
          0.37142857142857144,
          0.3611111111111111,
          0.32786885245901637,
          0.19607843137254902,
          0.3561643835616438,
          0.3582089552238806,
          0.3611111111111111,
          0.3611111111111111,
          0.3582089552238806,
          0.3125,
          0.36619718309859156,
          0.36619718309859156,
          0.3611111111111111,
          0.31746031746031744,
          0.37142857142857144,
          0.36619718309859156,
          0.37142857142857144,
          0.34782608695652173,
          0.3125,
          0.3611111111111111,
          0.3076923076923077,
          0.36619718309859156,
          0.3283582089552239,
          0.3611111111111111,
          0.37142857142857144,
          0.3611111111111111,
          0.36619718309859156,
          0.37142857142857144,
          0.3125,
          0.3561643835616438,
          0.34782608695652173,
          0.3611111111111111,
          0.31746031746031744,
          0.21818181818181817,
          0.3611111111111111,
          0.37142857142857144,
          0.37142857142857144,
          0.29850746268656714,
          0.34782608695652173,
          0.3283582089552239,
          0.3611111111111111,
          0.36619718309859156,
          0.3125,
          0.34782608695652173,
          0.37142857142857144,
          0.36065573770491804,
          0.37142857142857144,
          0.3611111111111111,
          0.3611111111111111,
          0.3582089552238806,
          0.1568627450980392,
          0.37142857142857144,
          0.34375,
          0.3611111111111111,
          0.34782608695652173,
          0.3611111111111111,
          0.37142857142857144,
          0.34782608695652173,
          0.36619718309859156,
          0.37142857142857144,
          0.3611111111111111,
          0.3582089552238806,
          0.3611111111111111,
          0.3611111111111111,
          0.3582089552238806,
          0.3561643835616438,
          0.37142857142857144,
          0.37142857142857144,
          0.3611111111111111,
          0.37142857142857144,
          0.3125,
          0.34782608695652173,
          0.3611111111111111,
          0.36619718309859156,
          0.37142857142857144,
          0.2898550724637681,
          0.3611111111111111,
          0.37142857142857144,
          0.37142857142857144,
          0.20689655172413793,
          0.3582089552238806,
          0.3582089552238806,
          0.34782608695652173,
          0.3611111111111111,
          0.3611111111111111
         ]
        },
        {
         "mode": "lines",
         "name": "Best Value",
         "type": "scatter",
         "x": [
          0,
          1,
          2,
          3,
          4,
          5,
          6,
          7,
          8,
          9,
          10,
          11,
          12,
          13,
          14,
          15,
          16,
          17,
          18,
          19,
          20,
          21,
          22,
          23,
          24,
          25,
          26,
          27,
          28,
          29,
          30,
          31,
          32,
          33,
          34,
          35,
          36,
          37,
          38,
          39,
          40,
          41,
          42,
          43,
          44,
          45,
          46,
          47,
          48,
          49,
          50,
          51,
          52,
          53,
          54,
          55,
          56,
          57,
          58,
          59,
          60,
          61,
          62,
          63,
          64,
          65,
          66,
          67,
          68,
          69,
          70,
          71,
          72,
          73,
          74,
          75,
          76,
          77,
          78,
          79,
          80,
          81,
          82,
          83,
          84,
          85,
          86,
          87,
          88,
          89,
          90,
          91,
          92,
          93,
          94,
          95,
          96,
          97,
          98,
          99
         ],
         "y": [
          0.36619718309859156,
          0.36619718309859156,
          0.36619718309859156,
          0.36619718309859156,
          0.36619718309859156,
          0.36619718309859156,
          0.36619718309859156,
          0.36619718309859156,
          0.3835616438356164,
          0.3835616438356164,
          0.3835616438356164,
          0.3835616438356164,
          0.3835616438356164,
          0.3835616438356164,
          0.3835616438356164,
          0.3835616438356164,
          0.3835616438356164,
          0.3835616438356164,
          0.3835616438356164,
          0.3835616438356164,
          0.3835616438356164,
          0.3835616438356164,
          0.3835616438356164,
          0.3835616438356164,
          0.3835616438356164,
          0.3835616438356164,
          0.3835616438356164,
          0.3835616438356164,
          0.3835616438356164,
          0.3835616438356164,
          0.3835616438356164,
          0.3835616438356164,
          0.3835616438356164,
          0.3835616438356164,
          0.3835616438356164,
          0.3835616438356164,
          0.3835616438356164,
          0.3835616438356164,
          0.3835616438356164,
          0.3835616438356164,
          0.3835616438356164,
          0.3835616438356164,
          0.3835616438356164,
          0.3835616438356164,
          0.3835616438356164,
          0.3835616438356164,
          0.3835616438356164,
          0.3835616438356164,
          0.3835616438356164,
          0.3835616438356164,
          0.3835616438356164,
          0.3835616438356164,
          0.3835616438356164,
          0.3835616438356164,
          0.3835616438356164,
          0.3835616438356164,
          0.3835616438356164,
          0.3835616438356164,
          0.3835616438356164,
          0.3835616438356164,
          0.3835616438356164,
          0.3835616438356164,
          0.3835616438356164,
          0.3835616438356164,
          0.3835616438356164,
          0.3835616438356164,
          0.3835616438356164,
          0.3835616438356164,
          0.3835616438356164,
          0.3835616438356164,
          0.3835616438356164,
          0.3835616438356164,
          0.3835616438356164,
          0.3835616438356164,
          0.3835616438356164,
          0.3835616438356164,
          0.3835616438356164,
          0.3835616438356164,
          0.3835616438356164,
          0.3835616438356164,
          0.3835616438356164,
          0.3835616438356164,
          0.3835616438356164,
          0.3835616438356164,
          0.3835616438356164,
          0.3835616438356164,
          0.3835616438356164,
          0.3835616438356164,
          0.3835616438356164,
          0.3835616438356164,
          0.3835616438356164,
          0.3835616438356164,
          0.3835616438356164,
          0.3835616438356164,
          0.3835616438356164,
          0.3835616438356164,
          0.3835616438356164,
          0.3835616438356164,
          0.3835616438356164,
          0.3835616438356164
         ]
        },
        {
         "marker": {
          "color": "#cccccc"
         },
         "mode": "markers",
         "name": "Infeasible Trial",
         "showlegend": false,
         "type": "scatter",
         "x": [],
         "y": []
        }
       ],
       "layout": {
        "template": {
         "data": {
          "bar": [
           {
            "error_x": {
             "color": "#2a3f5f"
            },
            "error_y": {
             "color": "#2a3f5f"
            },
            "marker": {
             "line": {
              "color": "#E5ECF6",
              "width": 0.5
             },
             "pattern": {
              "fillmode": "overlay",
              "size": 10,
              "solidity": 0.2
             }
            },
            "type": "bar"
           }
          ],
          "barpolar": [
           {
            "marker": {
             "line": {
              "color": "#E5ECF6",
              "width": 0.5
             },
             "pattern": {
              "fillmode": "overlay",
              "size": 10,
              "solidity": 0.2
             }
            },
            "type": "barpolar"
           }
          ],
          "carpet": [
           {
            "aaxis": {
             "endlinecolor": "#2a3f5f",
             "gridcolor": "white",
             "linecolor": "white",
             "minorgridcolor": "white",
             "startlinecolor": "#2a3f5f"
            },
            "baxis": {
             "endlinecolor": "#2a3f5f",
             "gridcolor": "white",
             "linecolor": "white",
             "minorgridcolor": "white",
             "startlinecolor": "#2a3f5f"
            },
            "type": "carpet"
           }
          ],
          "choropleth": [
           {
            "colorbar": {
             "outlinewidth": 0,
             "ticks": ""
            },
            "type": "choropleth"
           }
          ],
          "contour": [
           {
            "colorbar": {
             "outlinewidth": 0,
             "ticks": ""
            },
            "colorscale": [
             [
              0,
              "#0d0887"
             ],
             [
              0.1111111111111111,
              "#46039f"
             ],
             [
              0.2222222222222222,
              "#7201a8"
             ],
             [
              0.3333333333333333,
              "#9c179e"
             ],
             [
              0.4444444444444444,
              "#bd3786"
             ],
             [
              0.5555555555555556,
              "#d8576b"
             ],
             [
              0.6666666666666666,
              "#ed7953"
             ],
             [
              0.7777777777777778,
              "#fb9f3a"
             ],
             [
              0.8888888888888888,
              "#fdca26"
             ],
             [
              1,
              "#f0f921"
             ]
            ],
            "type": "contour"
           }
          ],
          "contourcarpet": [
           {
            "colorbar": {
             "outlinewidth": 0,
             "ticks": ""
            },
            "type": "contourcarpet"
           }
          ],
          "heatmap": [
           {
            "colorbar": {
             "outlinewidth": 0,
             "ticks": ""
            },
            "colorscale": [
             [
              0,
              "#0d0887"
             ],
             [
              0.1111111111111111,
              "#46039f"
             ],
             [
              0.2222222222222222,
              "#7201a8"
             ],
             [
              0.3333333333333333,
              "#9c179e"
             ],
             [
              0.4444444444444444,
              "#bd3786"
             ],
             [
              0.5555555555555556,
              "#d8576b"
             ],
             [
              0.6666666666666666,
              "#ed7953"
             ],
             [
              0.7777777777777778,
              "#fb9f3a"
             ],
             [
              0.8888888888888888,
              "#fdca26"
             ],
             [
              1,
              "#f0f921"
             ]
            ],
            "type": "heatmap"
           }
          ],
          "histogram": [
           {
            "marker": {
             "pattern": {
              "fillmode": "overlay",
              "size": 10,
              "solidity": 0.2
             }
            },
            "type": "histogram"
           }
          ],
          "histogram2d": [
           {
            "colorbar": {
             "outlinewidth": 0,
             "ticks": ""
            },
            "colorscale": [
             [
              0,
              "#0d0887"
             ],
             [
              0.1111111111111111,
              "#46039f"
             ],
             [
              0.2222222222222222,
              "#7201a8"
             ],
             [
              0.3333333333333333,
              "#9c179e"
             ],
             [
              0.4444444444444444,
              "#bd3786"
             ],
             [
              0.5555555555555556,
              "#d8576b"
             ],
             [
              0.6666666666666666,
              "#ed7953"
             ],
             [
              0.7777777777777778,
              "#fb9f3a"
             ],
             [
              0.8888888888888888,
              "#fdca26"
             ],
             [
              1,
              "#f0f921"
             ]
            ],
            "type": "histogram2d"
           }
          ],
          "histogram2dcontour": [
           {
            "colorbar": {
             "outlinewidth": 0,
             "ticks": ""
            },
            "colorscale": [
             [
              0,
              "#0d0887"
             ],
             [
              0.1111111111111111,
              "#46039f"
             ],
             [
              0.2222222222222222,
              "#7201a8"
             ],
             [
              0.3333333333333333,
              "#9c179e"
             ],
             [
              0.4444444444444444,
              "#bd3786"
             ],
             [
              0.5555555555555556,
              "#d8576b"
             ],
             [
              0.6666666666666666,
              "#ed7953"
             ],
             [
              0.7777777777777778,
              "#fb9f3a"
             ],
             [
              0.8888888888888888,
              "#fdca26"
             ],
             [
              1,
              "#f0f921"
             ]
            ],
            "type": "histogram2dcontour"
           }
          ],
          "mesh3d": [
           {
            "colorbar": {
             "outlinewidth": 0,
             "ticks": ""
            },
            "type": "mesh3d"
           }
          ],
          "parcoords": [
           {
            "line": {
             "colorbar": {
              "outlinewidth": 0,
              "ticks": ""
             }
            },
            "type": "parcoords"
           }
          ],
          "pie": [
           {
            "automargin": true,
            "type": "pie"
           }
          ],
          "scatter": [
           {
            "fillpattern": {
             "fillmode": "overlay",
             "size": 10,
             "solidity": 0.2
            },
            "type": "scatter"
           }
          ],
          "scatter3d": [
           {
            "line": {
             "colorbar": {
              "outlinewidth": 0,
              "ticks": ""
             }
            },
            "marker": {
             "colorbar": {
              "outlinewidth": 0,
              "ticks": ""
             }
            },
            "type": "scatter3d"
           }
          ],
          "scattercarpet": [
           {
            "marker": {
             "colorbar": {
              "outlinewidth": 0,
              "ticks": ""
             }
            },
            "type": "scattercarpet"
           }
          ],
          "scattergeo": [
           {
            "marker": {
             "colorbar": {
              "outlinewidth": 0,
              "ticks": ""
             }
            },
            "type": "scattergeo"
           }
          ],
          "scattergl": [
           {
            "marker": {
             "colorbar": {
              "outlinewidth": 0,
              "ticks": ""
             }
            },
            "type": "scattergl"
           }
          ],
          "scattermap": [
           {
            "marker": {
             "colorbar": {
              "outlinewidth": 0,
              "ticks": ""
             }
            },
            "type": "scattermap"
           }
          ],
          "scattermapbox": [
           {
            "marker": {
             "colorbar": {
              "outlinewidth": 0,
              "ticks": ""
             }
            },
            "type": "scattermapbox"
           }
          ],
          "scatterpolar": [
           {
            "marker": {
             "colorbar": {
              "outlinewidth": 0,
              "ticks": ""
             }
            },
            "type": "scatterpolar"
           }
          ],
          "scatterpolargl": [
           {
            "marker": {
             "colorbar": {
              "outlinewidth": 0,
              "ticks": ""
             }
            },
            "type": "scatterpolargl"
           }
          ],
          "scatterternary": [
           {
            "marker": {
             "colorbar": {
              "outlinewidth": 0,
              "ticks": ""
             }
            },
            "type": "scatterternary"
           }
          ],
          "surface": [
           {
            "colorbar": {
             "outlinewidth": 0,
             "ticks": ""
            },
            "colorscale": [
             [
              0,
              "#0d0887"
             ],
             [
              0.1111111111111111,
              "#46039f"
             ],
             [
              0.2222222222222222,
              "#7201a8"
             ],
             [
              0.3333333333333333,
              "#9c179e"
             ],
             [
              0.4444444444444444,
              "#bd3786"
             ],
             [
              0.5555555555555556,
              "#d8576b"
             ],
             [
              0.6666666666666666,
              "#ed7953"
             ],
             [
              0.7777777777777778,
              "#fb9f3a"
             ],
             [
              0.8888888888888888,
              "#fdca26"
             ],
             [
              1,
              "#f0f921"
             ]
            ],
            "type": "surface"
           }
          ],
          "table": [
           {
            "cells": {
             "fill": {
              "color": "#EBF0F8"
             },
             "line": {
              "color": "white"
             }
            },
            "header": {
             "fill": {
              "color": "#C8D4E3"
             },
             "line": {
              "color": "white"
             }
            },
            "type": "table"
           }
          ]
         },
         "layout": {
          "annotationdefaults": {
           "arrowcolor": "#2a3f5f",
           "arrowhead": 0,
           "arrowwidth": 1
          },
          "autotypenumbers": "strict",
          "coloraxis": {
           "colorbar": {
            "outlinewidth": 0,
            "ticks": ""
           }
          },
          "colorscale": {
           "diverging": [
            [
             0,
             "#8e0152"
            ],
            [
             0.1,
             "#c51b7d"
            ],
            [
             0.2,
             "#de77ae"
            ],
            [
             0.3,
             "#f1b6da"
            ],
            [
             0.4,
             "#fde0ef"
            ],
            [
             0.5,
             "#f7f7f7"
            ],
            [
             0.6,
             "#e6f5d0"
            ],
            [
             0.7,
             "#b8e186"
            ],
            [
             0.8,
             "#7fbc41"
            ],
            [
             0.9,
             "#4d9221"
            ],
            [
             1,
             "#276419"
            ]
           ],
           "sequential": [
            [
             0,
             "#0d0887"
            ],
            [
             0.1111111111111111,
             "#46039f"
            ],
            [
             0.2222222222222222,
             "#7201a8"
            ],
            [
             0.3333333333333333,
             "#9c179e"
            ],
            [
             0.4444444444444444,
             "#bd3786"
            ],
            [
             0.5555555555555556,
             "#d8576b"
            ],
            [
             0.6666666666666666,
             "#ed7953"
            ],
            [
             0.7777777777777778,
             "#fb9f3a"
            ],
            [
             0.8888888888888888,
             "#fdca26"
            ],
            [
             1,
             "#f0f921"
            ]
           ],
           "sequentialminus": [
            [
             0,
             "#0d0887"
            ],
            [
             0.1111111111111111,
             "#46039f"
            ],
            [
             0.2222222222222222,
             "#7201a8"
            ],
            [
             0.3333333333333333,
             "#9c179e"
            ],
            [
             0.4444444444444444,
             "#bd3786"
            ],
            [
             0.5555555555555556,
             "#d8576b"
            ],
            [
             0.6666666666666666,
             "#ed7953"
            ],
            [
             0.7777777777777778,
             "#fb9f3a"
            ],
            [
             0.8888888888888888,
             "#fdca26"
            ],
            [
             1,
             "#f0f921"
            ]
           ]
          },
          "colorway": [
           "#636efa",
           "#EF553B",
           "#00cc96",
           "#ab63fa",
           "#FFA15A",
           "#19d3f3",
           "#FF6692",
           "#B6E880",
           "#FF97FF",
           "#FECB52"
          ],
          "font": {
           "color": "#2a3f5f"
          },
          "geo": {
           "bgcolor": "white",
           "lakecolor": "white",
           "landcolor": "#E5ECF6",
           "showlakes": true,
           "showland": true,
           "subunitcolor": "white"
          },
          "hoverlabel": {
           "align": "left"
          },
          "hovermode": "closest",
          "mapbox": {
           "style": "light"
          },
          "paper_bgcolor": "white",
          "plot_bgcolor": "#E5ECF6",
          "polar": {
           "angularaxis": {
            "gridcolor": "white",
            "linecolor": "white",
            "ticks": ""
           },
           "bgcolor": "#E5ECF6",
           "radialaxis": {
            "gridcolor": "white",
            "linecolor": "white",
            "ticks": ""
           }
          },
          "scene": {
           "xaxis": {
            "backgroundcolor": "#E5ECF6",
            "gridcolor": "white",
            "gridwidth": 2,
            "linecolor": "white",
            "showbackground": true,
            "ticks": "",
            "zerolinecolor": "white"
           },
           "yaxis": {
            "backgroundcolor": "#E5ECF6",
            "gridcolor": "white",
            "gridwidth": 2,
            "linecolor": "white",
            "showbackground": true,
            "ticks": "",
            "zerolinecolor": "white"
           },
           "zaxis": {
            "backgroundcolor": "#E5ECF6",
            "gridcolor": "white",
            "gridwidth": 2,
            "linecolor": "white",
            "showbackground": true,
            "ticks": "",
            "zerolinecolor": "white"
           }
          },
          "shapedefaults": {
           "line": {
            "color": "#2a3f5f"
           }
          },
          "ternary": {
           "aaxis": {
            "gridcolor": "white",
            "linecolor": "white",
            "ticks": ""
           },
           "baxis": {
            "gridcolor": "white",
            "linecolor": "white",
            "ticks": ""
           },
           "bgcolor": "#E5ECF6",
           "caxis": {
            "gridcolor": "white",
            "linecolor": "white",
            "ticks": ""
           }
          },
          "title": {
           "x": 0.05
          },
          "xaxis": {
           "automargin": true,
           "gridcolor": "white",
           "linecolor": "white",
           "ticks": "",
           "title": {
            "standoff": 15
           },
           "zerolinecolor": "white",
           "zerolinewidth": 2
          },
          "yaxis": {
           "automargin": true,
           "gridcolor": "white",
           "linecolor": "white",
           "ticks": "",
           "title": {
            "standoff": 15
           },
           "zerolinecolor": "white",
           "zerolinewidth": 2
          }
         }
        },
        "title": {
         "text": "Optimization History Plot"
        },
        "xaxis": {
         "title": {
          "text": "Trial"
         }
        },
        "yaxis": {
         "title": {
          "text": "Objective Value"
         }
        }
       }
      }
     },
     "metadata": {},
     "output_type": "display_data"
    }
   ],
   "source": [
    "# Visualizar el historial de optimización\n",
    "plot_optimization_history(study)"
   ]
  },
  {
   "cell_type": "code",
   "execution_count": 10,
   "id": "41699610",
   "metadata": {},
   "outputs": [
    {
     "name": "stdout",
     "output_type": "stream",
     "text": [
      "Mejores hiperparámetros encontrados:\n",
      "{'penalty': 'l2', 'C': 22.178146342804567}\n",
      "Mejor score de f1-score: 0.3836\n"
     ]
    }
   ],
   "source": [
    "print(\"Mejores hiperparámetros encontrados:\")\n",
    "print(study.best_params)\n",
    "print(f\"Mejor score de {SCORE}: {study.best_value:.4f}\")\n",
    "best_params = study.best_params"
   ]
  },
  {
   "cell_type": "markdown",
   "id": "a49238aa",
   "metadata": {},
   "source": [
    "GUARDAR EN JSON"
   ]
  },
  {
   "cell_type": "code",
   "execution_count": 11,
   "id": "cfd22b63",
   "metadata": {},
   "outputs": [],
   "source": [
    "# Guardar los mejores hiperparámetros y su valor\n",
    "history = []\n",
    "if os.path.exists(\"best_hyperparams.json\"):\n",
    "    try:\n",
    "        with open(\"best_hyperparams.json\", \"r\") as f:\n",
    "            history = json.load(f)\n",
    "    except (json.JSONDecodeError, ValueError):\n",
    "        history = []\n",
    "\n",
    "# Guardar ambos en un solo diccionario\n",
    "history.append({\n",
    "    \"params\": study.best_params,\n",
    "    \"value\": study.best_value\n",
    "})\n",
    "\n",
    "with open(\"best_hyperparams.json\", \"w\") as f:\n",
    "    json.dump(history, f, indent=2)"
   ]
  },
  {
   "cell_type": "markdown",
   "id": "c749d589",
   "metadata": {},
   "source": [
    "CARGAR HIPERPARAMETROS DESDE JSON"
   ]
  },
  {
   "cell_type": "code",
   "execution_count": 62,
   "id": "490cfa40",
   "metadata": {},
   "outputs": [],
   "source": [
    "# # Cargar historial de hiperparámetros y valores\n",
    "# with open(\"best_hyperparams.json\", \"r\") as f:\n",
    "#     history = json.load(f)\n",
    "\n",
    "# # Escoger el último (más reciente)\n",
    "# best_params = history[-1][\"params\"]\n",
    "# best_value = history[-1][\"value\"]\n",
    "\n",
    "# # Si quieres ver todos:\n",
    "# for i, entry in enumerate(history):\n",
    "#     print(f\"Hiperparámetros #{i+1}: {entry['params']}, Valor: {entry['value']}\")\n",
    "\n",
    "# # Si quieres escoger uno específico (por índice):\n",
    "# # best_params = history[indice_que_quieras][\"params\"]\n",
    "# # best_value = history[indice_que_quieras][\"value\"]"
   ]
  },
  {
   "cell_type": "code",
   "execution_count": 14,
   "id": "3e7dc6b2",
   "metadata": {},
   "outputs": [
    {
     "name": "stdout",
     "output_type": "stream",
     "text": [
      "Trend Change F1 Score:\n",
      "               precision    recall  f1-score   support\n",
      "\n",
      "       False     0.9213    0.9035    0.9123       259\n",
      "        True     0.3590    0.4118    0.3836        34\n",
      "\n",
      "    accuracy                         0.8464       293\n",
      "   macro avg     0.6401    0.6576    0.6479       293\n",
      "weighted avg     0.8560    0.8464    0.8509       293\n",
      "\n"
     ]
    },
    {
     "name": "stderr",
     "output_type": "stream",
     "text": [
      "/home/toyotx22/bitcoin_sentiment_forecaster/tf_venv2/lib/python3.10/site-packages/sklearn/linear_model/_sag.py:350: ConvergenceWarning:\n",
      "\n",
      "The max_iter was reached which means the coef_ did not converge\n",
      "\n"
     ]
    }
   ],
   "source": [
    "# Entrenar modelo final con los mejores hiperparámetros\n",
    "set_seeds(SEED)\n",
    "best_params = study.best_params\n",
    "final_l1_ratio = best_params[\"l1_ratio\"] if best_params[\"penalty\"] == \"elasticnet\" else None\n",
    "final_model = Pipeline([\n",
    "    (\"scaler\", StandardScaler()),\n",
    "    (\"clf\", LogisticRegression(\n",
    "        multi_class=\"multinomial\",\n",
    "        solver=\"saga\",\n",
    "        penalty=best_params[\"penalty\"],\n",
    "        C=best_params[\"C\"],\n",
    "        l1_ratio=final_l1_ratio,\n",
    "        max_iter=800,\n",
    "        random_state=SEED\n",
    "    ))\n",
    "])\n",
    "\n",
    "final_model.fit(X_train, y_train)\n",
    "y_val_pred = final_model.predict(X_val)\n",
    "print(\"Trend Change F1 Score:\\n\", trend_changes_score(y_val, y_val_pred))"
   ]
  },
  {
   "cell_type": "code",
   "execution_count": 15,
   "id": "20220f70",
   "metadata": {},
   "outputs": [
    {
     "name": "stdout",
     "output_type": "stream",
     "text": [
      "LightGBM Report:\n",
      "               precision    recall  f1-score   support\n",
      "\n",
      "           0     0.8774    0.9894    0.9300        94\n",
      "           1     0.6667    0.3902    0.4923        41\n",
      "           2     0.9146    0.9434    0.9288       159\n",
      "\n",
      "    accuracy                         0.8810       294\n",
      "   macro avg     0.8196    0.7743    0.7837       294\n",
      "weighted avg     0.8681    0.8810    0.8683       294\n",
      "\n",
      "Balanced accuracy: 0.7743339436605927\n"
     ]
    }
   ],
   "source": [
    "# Reporte completo: precisión, recall y F1 por clase\n",
    "report = classification_report(y_val, y_val_pred, digits=4)\n",
    "print(\"LightGBM Report:\\n\", report)\n",
    "print(\"Balanced accuracy:\", balanced_accuracy_score(y_val, y_val_pred))"
   ]
  },
  {
   "cell_type": "code",
   "execution_count": 13,
   "id": "867b05a3",
   "metadata": {},
   "outputs": [
    {
     "name": "stdout",
     "output_type": "stream",
     "text": [
      "Trend Change F1 Score:\n",
      "               precision    recall  f1-score   support\n",
      "\n",
      "       False     0.9198    0.9163    0.9181       263\n",
      "        True     0.3125    0.3226    0.3175        31\n",
      "\n",
      "    accuracy                         0.8537       294\n",
      "   macro avg     0.6162    0.6195    0.6178       294\n",
      "weighted avg     0.8558    0.8537    0.8548       294\n",
      "\n"
     ]
    }
   ],
   "source": [
    "# Obtener predicciones\n",
    "y_pred_test = final_model.predict(X_test)\n",
    "print(\"Trend Change F1 Score:\\n\", trend_changes_score(y_test, y_pred_test))"
   ]
  },
  {
   "cell_type": "code",
   "execution_count": 16,
   "id": "0bc91753",
   "metadata": {},
   "outputs": [],
   "source": [
    "# --- Exportar y Comparar Métricas de Modelos (Validación) ---\n",
    "\n",
    "# 1. Definir el nombre del modelo actual y el archivo de salida\n",
    "model_name = 'Regresion Logistic'\n",
    "output_file = '../../../score_models/model_comparison_metrics.csv'\n",
    "\n",
    "# 2. Calcular el reporte de clasificación estándar\n",
    "# Usamos y_val_m y y_val_pred que están en la misma escala (0,1,2)\n",
    "report_dict = classification_report(y_val, y_val_pred, output_dict=True, zero_division=0)\n",
    "precision = report_dict['macro avg']['precision']\n",
    "recall = report_dict['macro avg']['recall']\n",
    "f1_score = report_dict['macro avg']['f1-score']\n",
    "\n",
    "\n",
    "# 3. Calcular el reporte de cambio de tendencia\n",
    "report = get_trend_changes_report_dict(y_val, y_val_pred)\n",
    "trend_change_precision = report['True']['precision']\n",
    "trend_change_recall = report['True']['recall']\n",
    "trend_change_f1_score = report['True']['f1-score']\n",
    "\n",
    "# 4. Organizar las nuevas métricas\n",
    "new_metrics = {\n",
    "    'precision': precision,\n",
    "    'recall': recall,\n",
    "    'f1_score': f1_score,\n",
    "    'trend_change_precision': trend_change_precision,\n",
    "    'trend_change_recall': trend_change_recall,\n",
    "    'trend_change_f1_score': trend_change_f1_score\n",
    "}\n",
    "\n",
    "# 5. Cargar, actualizar y guardar el DataFrame de comparación\n",
    "try:\n",
    "    # Intentar cargar el archivo existente\n",
    "    comparison_df = pd.read_csv(output_file, index_col='model')\n",
    "    # Si existe, actualizar o añadir la fila para el modelo actual\n",
    "    comparison_df.loc[model_name] = new_metrics\n",
    "except FileNotFoundError:\n",
    "    # Si no existe, crear un DataFrame nuevo directamente con los datos actuales\n",
    "    comparison_df = pd.DataFrame([new_metrics], index=[model_name])\n",
    "\n",
    "# Guardar el DataFrame actualizado en el CSV\n",
    "comparison_df.to_csv(output_file, index_label='model')"
   ]
  },
  {
   "cell_type": "code",
   "execution_count": null,
   "id": "0fa50998",
   "metadata": {},
   "outputs": [],
   "source": [
    "# --- Preparación de Datos para Backtesting ---\n",
    "\n",
    "# 2. Crear un DataFrame para el backtest\n",
    "# Usamos una copia del test_set original que contiene precios y fechas\n",
    "backtest_df = test_set.copy()\n",
    "backtest_df['signal'] = y_pred_test\n",
    "\n",
    "# La columna de precio que usaremos es la del día más reciente en la ventana deslizante\n",
    "# Basado en tu notebook dataCleaning.ipynb, esta columna debería existir. \n",
    "# Si el nombre es diferente, ajústalo aquí.\n",
    "price_col = [col for col in test_set.columns if 'open_d' in col][-1]\n",
    "\n",
    "\n",
    "# --- Simulación de Backtesting ---\n",
    "\n",
    "initial_capital = 10000.0\n",
    "cash = initial_capital\n",
    "position = 0.0  # Unidades de BTC\n",
    "portfolio_values = []\n",
    "\n",
    "for i, row in backtest_df.iterrows():\n",
    "    price = row[price_col]\n",
    "    signal = row['signal']\n",
    "    \n",
    "    # Lógica de trading\n",
    "    if signal == 1 and cash > 0:  # Señal de compra\n",
    "        position = cash / price\n",
    "        cash = 0.0\n",
    "    elif signal == -1 and position > 0:  # Señal de venta\n",
    "        cash = position * price\n",
    "        position = 0.0\n",
    "    \n",
    "    # Calcular el valor actual del portafolio\n",
    "    current_portfolio_value = cash + position * price\n",
    "    portfolio_values.append(current_portfolio_value)\n",
    "\n",
    "backtest_df['portfolio_value'] = portfolio_values\n",
    "\n",
    "\n",
    "# --- Cálculo de Métricas y Visualización ---\n",
    "\n",
    "# 1. Calcular métricas de rendimiento\n",
    "final_portfolio_value = backtest_df['portfolio_value'].iloc[-1]\n",
    "total_return_pct = (final_portfolio_value - initial_capital) / initial_capital * 100\n",
    "buy_and_hold_return_pct = (backtest_df[price_col].iloc[-1] - backtest_df[price_col].iloc[0]) / backtest_df[price_col].iloc[0] * 100\n",
    "\n",
    "print(\"--- Resultados del Backtesting ---\")\n",
    "print(f\"Capital Inicial: ${initial_capital:,.2f}\")\n",
    "print(f\"Valor Final del Portafolio: ${final_portfolio_value:,.2f}\")\n",
    "print(f\"Retorno Total de la Estrategia: {total_return_pct:.2f}%\")\n",
    "print(f\"Retorno de Comprar y Mantener (Buy & Hold): {buy_and_hold_return_pct:.2f}%\")\n",
    "\n",
    "# 2. Visualizar los resultados\n",
    "plt.figure(figsize=(14, 7))\n",
    "plt.plot(backtest_df['date'], backtest_df['portfolio_value'], label='Estrategia del Modelo', color='blue')\n",
    "\n",
    "# Normalizar el precio para comparar con \"Buy & Hold\"\n",
    "buy_and_hold_values = (backtest_df[price_col] / backtest_df[price_col].iloc[0]) * initial_capital\n",
    "plt.plot(backtest_df['date'], buy_and_hold_values, label='Comprar y Mantener (Buy & Hold)', color='orange', linestyle='--')\n",
    "\n",
    "plt.title('Rendimiento de la Estrategia vs. Buy & Hold')\n",
    "plt.xlabel('Fecha')\n",
    "plt.ylabel('Valor del Portafolio ($)')\n",
    "plt.legend()\n",
    "plt.grid(True)\n",
    "plt.show()"
   ]
  }
 ],
 "metadata": {
  "kernelspec": {
   "display_name": "tf_venv2 (3.10.12)",
   "language": "python",
   "name": "python3"
  },
  "language_info": {
   "codemirror_mode": {
    "name": "ipython",
    "version": 3
   },
   "file_extension": ".py",
   "mimetype": "text/x-python",
   "name": "python",
   "nbconvert_exporter": "python",
   "pygments_lexer": "ipython3",
   "version": "3.10.12"
  }
 },
 "nbformat": 4,
 "nbformat_minor": 5
}
