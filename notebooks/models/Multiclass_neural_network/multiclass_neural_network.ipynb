{
 "cells": [
  {
   "cell_type": "code",
   "execution_count": 1,
   "id": "e765f08a",
   "metadata": {},
   "outputs": [
    {
     "name": "stderr",
     "output_type": "stream",
     "text": [
      "/home/toyotx22/bitcoin_sentiment_forecaster/tf_venv2/lib/python3.10/site-packages/tqdm/auto.py:21: TqdmWarning: IProgress not found. Please update jupyter and ipywidgets. See https://ipywidgets.readthedocs.io/en/stable/user_install.html\n",
      "  from .autonotebook import tqdm as notebook_tqdm\n"
     ]
    }
   ],
   "source": [
    "import os\n",
    "import random\n",
    "import numpy as np\n",
    "import pandas as pd\n",
    "import optuna   \n",
    "import tensorflow as tf\n",
    "from tensorflow.keras.models import Sequential\n",
    "from tensorflow.keras.layers import Dense, Dropout\n",
    "from tensorflow.keras.callbacks import EarlyStopping\n",
    "from sklearn.metrics import classification_report,  balanced_accuracy_score\n",
    "from optuna.visualization import plot_optimization_history\n",
    "import json\n",
    "import time"
   ]
  },
  {
   "cell_type": "code",
   "execution_count": 2,
   "id": "34275ec1",
   "metadata": {},
   "outputs": [],
   "source": [
    "SEED = 43\n",
    " # Se puede cambiar a \"precision\" o \"recall\" o \"f1-score\"\n",
    "SCORE = \"f1-score\"\n",
    "model_name = 'Multiclass Neural Network'"
   ]
  },
  {
   "cell_type": "markdown",
   "id": "e0b22da0",
   "metadata": {},
   "source": [
    "Score Trend Changes Score"
   ]
  },
  {
   "cell_type": "code",
   "execution_count": 3,
   "id": "2984ec4a",
   "metadata": {},
   "outputs": [],
   "source": [
    "def get_trend_changes_report_dict(y_test: np.array, y_pred: np.array) -> float:\n",
    "    \"\"\"\n",
    "    Calculate the trend changes score based on the test and predicted values.\n",
    "    \n",
    "    Args:\n",
    "        y_test (np.array): True labels.\n",
    "        y_pred (np.array): Predicted labels.\n",
    "        \n",
    "    Returns:\n",
    "        float: The trend changes score.\n",
    "    \"\"\"\n",
    "    y_df = pd.DataFrame([y_test, y_pred]).T\n",
    "    y_df.columns = [\"y_test\", \"y_pred\"]\n",
    "    y_df[\"y_test_shifted\"] = y_df[\"y_test\"].shift(-1)\n",
    "    y_df[\"is_changed_trend_test\"] = y_df[\"y_test\"] != y_df[\"y_test_shifted\"]\n",
    "    y_df[\"y_predict_shifted\"] = y_df[\"y_pred\"].shift(-1)\n",
    "    y_df[\"is_changed_trend_predict\"] = y_df[\"y_pred\"] != y_df[\"y_predict_shifted\"]\n",
    "    return classification_report(\n",
    "        y_df[\"is_changed_trend_test\"][:-1], \n",
    "        y_df[\"is_changed_trend_predict\"][:-1], \n",
    "        digits=4,\n",
    "        output_dict=True,\n",
    "        zero_division=0\n",
    "    )\n",
    "\n",
    "def trend_changes_score(y_test: np.array, y_pred: np.array) -> float:\n",
    "    \"\"\"\n",
    "    Calculate the trend changes score based on the test and predicted values.\n",
    "    \n",
    "    Args:\n",
    "        y_test (np.array): True labels.\n",
    "        y_pred (np.array): Predicted labels.\n",
    "        \n",
    "    Returns:\n",
    "        float: The trend changes score.\n",
    "    \"\"\"\n",
    "    y_df = pd.DataFrame([y_test, y_pred]).T\n",
    "    y_df.columns = [\"y_test\", \"y_pred\"]\n",
    "    y_df[\"y_test_shifted\"] = y_df[\"y_test\"].shift(-1)\n",
    "    y_df[\"is_changed_trend_test\"] = y_df[\"y_test\"] != y_df[\"y_test_shifted\"]\n",
    "    y_df[\"y_predict_shifted\"] = y_df[\"y_pred\"].shift(-1)\n",
    "    y_df[\"is_changed_trend_predict\"] = y_df[\"y_pred\"] != y_df[\"y_predict_shifted\"]\n",
    "    return classification_report(\n",
    "        y_df[\"is_changed_trend_test\"][:-1], \n",
    "        y_df[\"is_changed_trend_predict\"][:-1], digits=4\n",
    "    )\n",
    "\n",
    "def trend_changes_true(y_test: np.array, y_pred: np.array) -> float:\n",
    "    \"\"\"\n",
    "    Calculate the trend changes score based on the test and predicted values.\n",
    "    \n",
    "    Args:\n",
    "        y_test (np.array): True labels.\n",
    "        y_pred (np.array): Predicted labels.\n",
    "        \n",
    "    Returns:\n",
    "        float: The trend changes score.\n",
    "    \"\"\"\n",
    "    y_df = pd.DataFrame([y_test, y_pred]).T\n",
    "    y_df.columns = [\"y_test\", \"y_pred\"]\n",
    "    y_df[\"y_test_shifted\"] = y_df[\"y_test\"].shift(-1)\n",
    "    y_df[\"is_changed_trend_test\"] = y_df[\"y_test\"] != y_df[\"y_test_shifted\"]\n",
    "    y_df[\"y_predict_shifted\"] = y_df[\"y_pred\"].shift(-1)\n",
    "    y_df[\"is_changed_trend_predict\"] = y_df[\"y_pred\"] != y_df[\"y_predict_shifted\"]\n",
    "    report = classification_report(\n",
    "        y_df[\"is_changed_trend_test\"][:-1],\n",
    "        y_df[\"is_changed_trend_predict\"][:-1],\n",
    "        output_dict=True,\n",
    "        zero_division=0\n",
    "    )\n",
    "    return report[\"True\"][SCORE]"
   ]
  },
  {
   "cell_type": "code",
   "execution_count": 4,
   "id": "332e69e4",
   "metadata": {},
   "outputs": [],
   "source": [
    "# Cargar datos\n",
    "train = pd.read_csv(\"../../../data/post_cleaning/training_set.csv\", parse_dates=[\"date\"])\n",
    "val = pd.read_csv(\"../../../data/post_cleaning/validation_set.csv\", parse_dates=[\"date\"])\n",
    "X_train = train.drop(columns=[\"date\", \"target_trend\"]).values\n",
    "y_train = train[\"target_trend\"].values\n",
    "X_val = val.drop(columns=[\"date\", \"target_trend\"]).values\n",
    "y_val = val[\"target_trend\"].values\n",
    "# Mapear clases (-1,0,1) -> (0,1,2) \n",
    "cls_map = {-1:0, 0:1, 1:2}\n",
    "inv_map = {v:k for k,v in cls_map.items()}\n",
    "y_train_m = np.vectorize(cls_map.get)(y_train)\n",
    "y_val_m   = np.vectorize(cls_map.get)(y_val)"
   ]
  },
  {
   "cell_type": "markdown",
   "id": "804f3d9b",
   "metadata": {},
   "source": [
    "OPTIMIZACION CON OPTUNA"
   ]
  },
  {
   "cell_type": "code",
   "execution_count": 5,
   "id": "e221bfc4",
   "metadata": {},
   "outputs": [],
   "source": [
    "def objective(trial):\n",
    "    os.environ['PYTHONHASHSEED'] = str(SEED)\n",
    "    random.seed(SEED)\n",
    "    np.random.seed(SEED)\n",
    "    tf.random.set_seed(SEED)\n",
    "    # Hiperparámetros a optimizar\n",
    "    learning_rate = trial.suggest_float(\"learning_rate\", 1e-5, 1e-2, log=True)\n",
    "    n_l1 = trial.suggest_int(\"n_l1\", 32, 256, step=32)\n",
    "    n_l2 = trial.suggest_int(\"n_l2\", 32, 256, step=32)\n",
    "    n_l3 = trial.suggest_int(\"n_l3\", 16, 128, step=16)\n",
    "    n_l4 = trial.suggest_int(\"n_l4\", 8, 64, step=8)\n",
    "    dropout_rate = trial.suggest_float(\"dropout_rate\", 0.0, 0.5)\n",
    "    activation = trial.suggest_categorical(\"activation\", [\"relu\", \"tanh\", \"selu\"])\n",
    "    optimizer_name = trial.suggest_categorical(\"optimizer\", [\"adam\", \"rmsprop\", \"sgd\"])\n",
    "    batch_size = trial.suggest_categorical(\"batch_size\", [64, 128, 256])\n",
    "\n",
    "    # Optimizer\n",
    "    optimizer = {\n",
    "        \"adam\": tf.keras.optimizers.Adam,\n",
    "        \"rmsprop\": tf.keras.optimizers.RMSprop,\n",
    "        \"sgd\": tf.keras.optimizers.SGD\n",
    "    }[optimizer_name](learning_rate=learning_rate)\n",
    "\n",
    "    # Modelo\n",
    "    model = Sequential([\n",
    "        tf.keras.Input(shape=(X_train.shape[1],)),\n",
    "        Dense(n_l1, activation=activation),\n",
    "        Dropout(dropout_rate),\n",
    "        Dense(n_l2, activation=activation),\n",
    "        Dropout(dropout_rate),\n",
    "        Dense(n_l3, activation=activation),\n",
    "        Dropout(dropout_rate),\n",
    "        Dense(n_l4, activation=activation),\n",
    "        Dropout(dropout_rate),\n",
    "        Dense(3, activation='linear')  # 3 clases\n",
    "    ])\n",
    "\n",
    "    model.compile(\n",
    "        loss=tf.keras.losses.SparseCategoricalCrossentropy(from_logits=True),\n",
    "        optimizer=optimizer,\n",
    "        metrics=[\"accuracy\"]\n",
    "    )\n",
    "\n",
    "    early_stop = tf.keras.callbacks.EarlyStopping(\n",
    "        monitor=\"val_loss\",\n",
    "        patience=10,\n",
    "        restore_best_weights=True\n",
    "    )\n",
    "\n",
    "    # Entrenamiento\n",
    "    model.fit(\n",
    "        X_train, y_train_m,\n",
    "        validation_data=(X_val, y_val_m),\n",
    "        epochs=60,\n",
    "        batch_size=batch_size,\n",
    "        callbacks=[early_stop],\n",
    "        verbose=0\n",
    "    )\n",
    "\n",
    "    # Predicción y evaluación con tu métrica personalizada\n",
    "    y_val_prob = model.predict(X_val)\n",
    "    y_val_pred = np.argmax(y_val_prob, axis=1)\n",
    "\n",
    "    score = trend_changes_true(y_val_m, y_val_pred)\n",
    "    return score  # Este es el valor que Optuna maximiza"
   ]
  },
  {
   "cell_type": "code",
   "execution_count": 6,
   "id": "e0f2eea4",
   "metadata": {},
   "outputs": [
    {
     "name": "stderr",
     "output_type": "stream",
     "text": [
      "[I 2025-09-17 17:42:31,923] A new study created in memory with name: no-name-9d103d72-9395-4814-a5d6-4cda739913fb\n",
      "2025-09-17 17:42:31.984909: I external/local_xla/xla/stream_executor/cuda/cuda_executor.cc:887] could not open file to read NUMA node: /sys/bus/pci/devices/0000:01:00.0/numa_node\n",
      "Your kernel may have been built without NUMA support.\n",
      "2025-09-17 17:42:32.296710: W tensorflow/core/common_runtime/gpu/gpu_device.cc:2256] Cannot dlopen some GPU libraries. Please make sure the missing libraries mentioned above are installed properly if you would like to use GPU. Follow the guide at https://www.tensorflow.org/install/gpu for how to download and setup the required libraries for your platform.\n",
      "Skipping registering GPU devices...\n"
     ]
    },
    {
     "name": "stdout",
     "output_type": "stream",
     "text": [
      "10/10 [==============================] - 0s 2ms/step\n"
     ]
    },
    {
     "name": "stderr",
     "output_type": "stream",
     "text": [
      "[I 2025-09-17 17:42:34,713] Trial 0 finished with value: 0.0 and parameters: {'learning_rate': 2.2139290514335146e-05, 'n_l1': 160, 'n_l2': 64, 'n_l3': 32, 'n_l4': 24, 'dropout_rate': 0.42956874547429885, 'activation': 'relu', 'optimizer': 'sgd', 'batch_size': 256}. Best is trial 0 with value: 0.0.\n"
     ]
    },
    {
     "name": "stdout",
     "output_type": "stream",
     "text": [
      "10/10 [==============================] - 0s 1ms/step\n"
     ]
    },
    {
     "name": "stderr",
     "output_type": "stream",
     "text": [
      "[I 2025-09-17 17:42:43,812] Trial 1 finished with value: 0.0 and parameters: {'learning_rate': 4.603487705829326e-05, 'n_l1': 128, 'n_l2': 96, 'n_l3': 16, 'n_l4': 56, 'dropout_rate': 0.4244695738724307, 'activation': 'relu', 'optimizer': 'rmsprop', 'batch_size': 64}. Best is trial 0 with value: 0.0.\n"
     ]
    },
    {
     "name": "stdout",
     "output_type": "stream",
     "text": [
      "10/10 [==============================] - 0s 2ms/step\n"
     ]
    },
    {
     "name": "stderr",
     "output_type": "stream",
     "text": [
      "[I 2025-09-17 17:42:50,445] Trial 2 finished with value: 0.17518248175182483 and parameters: {'learning_rate': 1.036068923012556e-05, 'n_l1': 160, 'n_l2': 128, 'n_l3': 96, 'n_l4': 64, 'dropout_rate': 0.45433137891554387, 'activation': 'relu', 'optimizer': 'rmsprop', 'batch_size': 64}. Best is trial 2 with value: 0.17518248175182483.\n"
     ]
    },
    {
     "name": "stdout",
     "output_type": "stream",
     "text": [
      "10/10 [==============================] - 0s 1ms/step\n"
     ]
    },
    {
     "name": "stderr",
     "output_type": "stream",
     "text": [
      "[I 2025-09-17 17:42:54,500] Trial 3 finished with value: 0.20833333333333334 and parameters: {'learning_rate': 6.709286383037111e-05, 'n_l1': 256, 'n_l2': 64, 'n_l3': 64, 'n_l4': 64, 'dropout_rate': 0.36786354075356037, 'activation': 'tanh', 'optimizer': 'adam', 'batch_size': 64}. Best is trial 3 with value: 0.20833333333333334.\n"
     ]
    },
    {
     "name": "stdout",
     "output_type": "stream",
     "text": [
      "10/10 [==============================] - 0s 1ms/step\n"
     ]
    },
    {
     "name": "stderr",
     "output_type": "stream",
     "text": [
      "[I 2025-09-17 17:42:49,541] Trial 4 finished with value: 0.0 and parameters: {'learning_rate': 4.151887265119394e-05, 'n_l1': 64, 'n_l2': 224, 'n_l3': 48, 'n_l4': 48, 'dropout_rate': 0.14980838790351242, 'activation': 'tanh', 'optimizer': 'rmsprop', 'batch_size': 64}. Best is trial 3 with value: 0.20833333333333334.\n"
     ]
    },
    {
     "name": "stdout",
     "output_type": "stream",
     "text": [
      "10/10 [==============================] - 0s 2ms/step\n"
     ]
    },
    {
     "name": "stderr",
     "output_type": "stream",
     "text": [
      "[I 2025-09-17 17:42:51,798] Trial 5 finished with value: 0.0 and parameters: {'learning_rate': 2.033425828832714e-05, 'n_l1': 256, 'n_l2': 160, 'n_l3': 128, 'n_l4': 16, 'dropout_rate': 0.29722459340921537, 'activation': 'tanh', 'optimizer': 'adam', 'batch_size': 256}. Best is trial 3 with value: 0.20833333333333334.\n"
     ]
    },
    {
     "name": "stdout",
     "output_type": "stream",
     "text": [
      "10/10 [==============================] - 0s 2ms/step\n"
     ]
    },
    {
     "name": "stderr",
     "output_type": "stream",
     "text": [
      "[I 2025-09-17 17:42:53,818] Trial 6 finished with value: 0.0625 and parameters: {'learning_rate': 0.0040789128952500725, 'n_l1': 256, 'n_l2': 256, 'n_l3': 96, 'n_l4': 16, 'dropout_rate': 0.21733916054340263, 'activation': 'relu', 'optimizer': 'adam', 'batch_size': 256}. Best is trial 3 with value: 0.20833333333333334.\n"
     ]
    },
    {
     "name": "stdout",
     "output_type": "stream",
     "text": [
      "10/10 [==============================] - 0s 2ms/step\n"
     ]
    },
    {
     "name": "stderr",
     "output_type": "stream",
     "text": [
      "[I 2025-09-17 17:42:56,406] Trial 7 finished with value: 0.0 and parameters: {'learning_rate': 0.0014011907433416567, 'n_l1': 256, 'n_l2': 224, 'n_l3': 32, 'n_l4': 64, 'dropout_rate': 0.2761320735057018, 'activation': 'tanh', 'optimizer': 'rmsprop', 'batch_size': 64}. Best is trial 3 with value: 0.20833333333333334.\n"
     ]
    },
    {
     "name": "stdout",
     "output_type": "stream",
     "text": [
      "10/10 [==============================] - 0s 2ms/step\n"
     ]
    },
    {
     "name": "stderr",
     "output_type": "stream",
     "text": [
      "[I 2025-09-17 17:42:58,291] Trial 8 finished with value: 0.0 and parameters: {'learning_rate': 0.0008572578878125053, 'n_l1': 64, 'n_l2': 192, 'n_l3': 16, 'n_l4': 8, 'dropout_rate': 0.16724449577646616, 'activation': 'relu', 'optimizer': 'sgd', 'batch_size': 64}. Best is trial 3 with value: 0.20833333333333334.\n"
     ]
    },
    {
     "name": "stdout",
     "output_type": "stream",
     "text": [
      "10/10 [==============================] - 0s 1ms/step\n"
     ]
    },
    {
     "name": "stderr",
     "output_type": "stream",
     "text": [
      "[I 2025-09-17 17:43:00,230] Trial 9 finished with value: 0.0 and parameters: {'learning_rate': 0.0015339533443798257, 'n_l1': 96, 'n_l2': 160, 'n_l3': 112, 'n_l4': 40, 'dropout_rate': 0.18927766972578491, 'activation': 'tanh', 'optimizer': 'sgd', 'batch_size': 64}. Best is trial 3 with value: 0.20833333333333334.\n"
     ]
    },
    {
     "name": "stdout",
     "output_type": "stream",
     "text": [
      "10/10 [==============================] - 0s 1ms/step\n"
     ]
    },
    {
     "name": "stderr",
     "output_type": "stream",
     "text": [
      "[I 2025-09-17 17:43:05,083] Trial 10 finished with value: 0.3963963963963964 and parameters: {'learning_rate': 0.00013105455132397331, 'n_l1': 192, 'n_l2': 32, 'n_l3': 64, 'n_l4': 32, 'dropout_rate': 0.004810004645591226, 'activation': 'selu', 'optimizer': 'adam', 'batch_size': 128}. Best is trial 10 with value: 0.3963963963963964.\n"
     ]
    },
    {
     "name": "stdout",
     "output_type": "stream",
     "text": [
      "10/10 [==============================] - 0s 1ms/step\n"
     ]
    },
    {
     "name": "stderr",
     "output_type": "stream",
     "text": [
      "[I 2025-09-17 17:43:08,026] Trial 11 finished with value: 0.4647887323943662 and parameters: {'learning_rate': 0.00016187130120282989, 'n_l1': 192, 'n_l2': 32, 'n_l3': 64, 'n_l4': 32, 'dropout_rate': 0.009232280612909063, 'activation': 'selu', 'optimizer': 'adam', 'batch_size': 128}. Best is trial 11 with value: 0.4647887323943662.\n"
     ]
    },
    {
     "name": "stdout",
     "output_type": "stream",
     "text": [
      "10/10 [==============================] - 0s 2ms/step\n"
     ]
    },
    {
     "name": "stderr",
     "output_type": "stream",
     "text": [
      "[I 2025-09-17 17:43:12,864] Trial 12 finished with value: 0.0 and parameters: {'learning_rate': 0.00016991882494364814, 'n_l1': 192, 'n_l2': 32, 'n_l3': 80, 'n_l4': 32, 'dropout_rate': 0.008676942023290526, 'activation': 'selu', 'optimizer': 'adam', 'batch_size': 128}. Best is trial 11 with value: 0.4647887323943662.\n"
     ]
    },
    {
     "name": "stdout",
     "output_type": "stream",
     "text": [
      "10/10 [==============================] - 0s 2ms/step\n"
     ]
    },
    {
     "name": "stderr",
     "output_type": "stream",
     "text": [
      "[I 2025-09-17 17:43:17,676] Trial 13 finished with value: 0.0 and parameters: {'learning_rate': 0.00028282336575526107, 'n_l1': 192, 'n_l2': 32, 'n_l3': 64, 'n_l4': 32, 'dropout_rate': 0.007627740627497698, 'activation': 'selu', 'optimizer': 'adam', 'batch_size': 128}. Best is trial 11 with value: 0.4647887323943662.\n"
     ]
    },
    {
     "name": "stdout",
     "output_type": "stream",
     "text": [
      "10/10 [==============================] - 0s 1ms/step\n"
     ]
    },
    {
     "name": "stderr",
     "output_type": "stream",
     "text": [
      "[I 2025-09-17 17:43:21,304] Trial 14 finished with value: 0.20952380952380953 and parameters: {'learning_rate': 0.000124530028757876, 'n_l1': 192, 'n_l2': 96, 'n_l3': 80, 'n_l4': 40, 'dropout_rate': 0.08436622823854945, 'activation': 'selu', 'optimizer': 'adam', 'batch_size': 128}. Best is trial 11 with value: 0.4647887323943662.\n"
     ]
    },
    {
     "name": "stdout",
     "output_type": "stream",
     "text": [
      "10/10 [==============================] - 0s 1ms/step\n"
     ]
    },
    {
     "name": "stderr",
     "output_type": "stream",
     "text": [
      "[I 2025-09-17 17:43:23,968] Trial 15 finished with value: 0.0 and parameters: {'learning_rate': 0.0006251524535564392, 'n_l1': 224, 'n_l2': 32, 'n_l3': 64, 'n_l4': 24, 'dropout_rate': 0.09411069367088903, 'activation': 'selu', 'optimizer': 'adam', 'batch_size': 128}. Best is trial 11 with value: 0.4647887323943662.\n"
     ]
    },
    {
     "name": "stdout",
     "output_type": "stream",
     "text": [
      "10/10 [==============================] - 0s 1ms/step\n"
     ]
    },
    {
     "name": "stderr",
     "output_type": "stream",
     "text": [
      "[I 2025-09-17 17:43:26,712] Trial 16 finished with value: 0.1320754716981132 and parameters: {'learning_rate': 0.0003524605825970472, 'n_l1': 128, 'n_l2': 96, 'n_l3': 48, 'n_l4': 48, 'dropout_rate': 0.08072507788684374, 'activation': 'selu', 'optimizer': 'adam', 'batch_size': 128}. Best is trial 11 with value: 0.4647887323943662.\n"
     ]
    },
    {
     "name": "stdout",
     "output_type": "stream",
     "text": [
      "10/10 [==============================] - 0s 2ms/step\n"
     ]
    },
    {
     "name": "stderr",
     "output_type": "stream",
     "text": [
      "[I 2025-09-17 17:43:29,781] Trial 17 finished with value: 0.1322314049586777 and parameters: {'learning_rate': 0.00010882800859818578, 'n_l1': 224, 'n_l2': 64, 'n_l3': 48, 'n_l4': 24, 'dropout_rate': 0.0418756298298011, 'activation': 'selu', 'optimizer': 'adam', 'batch_size': 128}. Best is trial 11 with value: 0.4647887323943662.\n"
     ]
    },
    {
     "name": "stdout",
     "output_type": "stream",
     "text": [
      "10/10 [==============================] - 0s 1ms/step\n"
     ]
    },
    {
     "name": "stderr",
     "output_type": "stream",
     "text": [
      "[I 2025-09-17 17:43:31,772] Trial 18 finished with value: 0.0 and parameters: {'learning_rate': 0.00786936020855973, 'n_l1': 32, 'n_l2': 128, 'n_l3': 96, 'n_l4': 48, 'dropout_rate': 0.3317452962580878, 'activation': 'selu', 'optimizer': 'adam', 'batch_size': 128}. Best is trial 11 with value: 0.4647887323943662.\n"
     ]
    },
    {
     "name": "stdout",
     "output_type": "stream",
     "text": [
      "10/10 [==============================] - 0s 2ms/step\n"
     ]
    },
    {
     "name": "stderr",
     "output_type": "stream",
     "text": [
      "[I 2025-09-17 17:43:33,500] Trial 19 finished with value: 0.0 and parameters: {'learning_rate': 0.00029680996214034785, 'n_l1': 224, 'n_l2': 32, 'n_l3': 80, 'n_l4': 32, 'dropout_rate': 0.119230946020048, 'activation': 'selu', 'optimizer': 'sgd', 'batch_size': 128}. Best is trial 11 with value: 0.4647887323943662.\n"
     ]
    },
    {
     "name": "stdout",
     "output_type": "stream",
     "text": [
      "10/10 [==============================] - 0s 1ms/step\n"
     ]
    },
    {
     "name": "stderr",
     "output_type": "stream",
     "text": [
      "[I 2025-09-17 17:43:36,859] Trial 20 finished with value: 0.39416058394160586 and parameters: {'learning_rate': 7.575781424153941e-05, 'n_l1': 160, 'n_l2': 64, 'n_l3': 32, 'n_l4': 40, 'dropout_rate': 0.04828394316515276, 'activation': 'selu', 'optimizer': 'adam', 'batch_size': 128}. Best is trial 11 with value: 0.4647887323943662.\n"
     ]
    },
    {
     "name": "stdout",
     "output_type": "stream",
     "text": [
      "10/10 [==============================] - 0s 1ms/step\n"
     ]
    },
    {
     "name": "stderr",
     "output_type": "stream",
     "text": [
      "[I 2025-09-17 17:43:40,537] Trial 21 finished with value: 0.07339449541284404 and parameters: {'learning_rate': 7.078876972768967e-05, 'n_l1': 160, 'n_l2': 64, 'n_l3': 32, 'n_l4': 40, 'dropout_rate': 0.051116343659376534, 'activation': 'selu', 'optimizer': 'adam', 'batch_size': 128}. Best is trial 11 with value: 0.4647887323943662.\n"
     ]
    },
    {
     "name": "stdout",
     "output_type": "stream",
     "text": [
      "10/10 [==============================] - 0s 1ms/step\n"
     ]
    },
    {
     "name": "stderr",
     "output_type": "stream",
     "text": [
      "[I 2025-09-17 17:43:45,072] Trial 22 finished with value: 0.4768211920529801 and parameters: {'learning_rate': 0.00019032064927421236, 'n_l1': 192, 'n_l2': 32, 'n_l3': 48, 'n_l4': 32, 'dropout_rate': 0.004841414066803363, 'activation': 'selu', 'optimizer': 'adam', 'batch_size': 128}. Best is trial 22 with value: 0.4768211920529801.\n"
     ]
    },
    {
     "name": "stdout",
     "output_type": "stream",
     "text": [
      "10/10 [==============================] - 0s 2ms/step\n"
     ]
    },
    {
     "name": "stderr",
     "output_type": "stream",
     "text": [
      "[I 2025-09-17 17:43:48,196] Trial 23 finished with value: 0.5106382978723404 and parameters: {'learning_rate': 0.00019224887488399075, 'n_l1': 192, 'n_l2': 32, 'n_l3': 48, 'n_l4': 24, 'dropout_rate': 0.0011715952162512796, 'activation': 'selu', 'optimizer': 'adam', 'batch_size': 128}. Best is trial 23 with value: 0.5106382978723404.\n"
     ]
    },
    {
     "name": "stdout",
     "output_type": "stream",
     "text": [
      "10/10 [==============================] - 0s 1ms/step\n"
     ]
    },
    {
     "name": "stderr",
     "output_type": "stream",
     "text": [
      "[I 2025-09-17 17:43:55,909] Trial 24 finished with value: 0.2962962962962963 and parameters: {'learning_rate': 0.0004141437274999285, 'n_l1': 224, 'n_l2': 96, 'n_l3': 48, 'n_l4': 16, 'dropout_rate': 0.13020916436828112, 'activation': 'selu', 'optimizer': 'adam', 'batch_size': 128}. Best is trial 23 with value: 0.5106382978723404.\n"
     ]
    },
    {
     "name": "stdout",
     "output_type": "stream",
     "text": [
      "10/10 [==============================] - 0s 1ms/step\n"
     ]
    },
    {
     "name": "stderr",
     "output_type": "stream",
     "text": [
      "[I 2025-09-17 17:43:54,012] Trial 25 finished with value: 0.0 and parameters: {'learning_rate': 0.00021156307616129633, 'n_l1': 192, 'n_l2': 32, 'n_l3': 48, 'n_l4': 24, 'dropout_rate': 0.05130025620931595, 'activation': 'selu', 'optimizer': 'adam', 'batch_size': 128}. Best is trial 23 with value: 0.5106382978723404.\n"
     ]
    },
    {
     "name": "stdout",
     "output_type": "stream",
     "text": [
      "10/10 [==============================] - 0s 2ms/step\n"
     ]
    },
    {
     "name": "stderr",
     "output_type": "stream",
     "text": [
      "[I 2025-09-17 17:43:58,412] Trial 26 finished with value: 0.0 and parameters: {'learning_rate': 0.0006712059879669798, 'n_l1': 224, 'n_l2': 64, 'n_l3': 64, 'n_l4': 8, 'dropout_rate': 0.23826884517306812, 'activation': 'selu', 'optimizer': 'adam', 'batch_size': 256}. Best is trial 23 with value: 0.5106382978723404.\n"
     ]
    },
    {
     "name": "stdout",
     "output_type": "stream",
     "text": [
      "10/10 [==============================] - 0s 1ms/step\n"
     ]
    },
    {
     "name": "stderr",
     "output_type": "stream",
     "text": [
      "[I 2025-09-17 17:44:00,042] Trial 27 finished with value: 0.0 and parameters: {'learning_rate': 0.00020402841199511427, 'n_l1': 128, 'n_l2': 32, 'n_l3': 32, 'n_l4': 24, 'dropout_rate': 0.11007756153337928, 'activation': 'selu', 'optimizer': 'sgd', 'batch_size': 128}. Best is trial 23 with value: 0.5106382978723404.\n"
     ]
    },
    {
     "name": "stdout",
     "output_type": "stream",
     "text": [
      "10/10 [==============================] - 0s 2ms/step\n"
     ]
    },
    {
     "name": "stderr",
     "output_type": "stream",
     "text": [
      "[I 2025-09-17 17:44:02,822] Trial 28 finished with value: 0.28846153846153844 and parameters: {'learning_rate': 0.0012955966207526134, 'n_l1': 192, 'n_l2': 128, 'n_l3': 48, 'n_l4': 16, 'dropout_rate': 0.002829982483897628, 'activation': 'selu', 'optimizer': 'rmsprop', 'batch_size': 128}. Best is trial 23 with value: 0.5106382978723404.\n"
     ]
    },
    {
     "name": "stdout",
     "output_type": "stream",
     "text": [
      "10/10 [==============================] - 0s 2ms/step\n"
     ]
    },
    {
     "name": "stderr",
     "output_type": "stream",
     "text": [
      "[I 2025-09-17 17:44:07,692] Trial 29 finished with value: 0.0 and parameters: {'learning_rate': 3.1928403206188086e-05, 'n_l1': 160, 'n_l2': 96, 'n_l3': 16, 'n_l4': 32, 'dropout_rate': 0.4975902896643105, 'activation': 'selu', 'optimizer': 'adam', 'batch_size': 256}. Best is trial 23 with value: 0.5106382978723404.\n"
     ]
    },
    {
     "name": "stdout",
     "output_type": "stream",
     "text": [
      "10/10 [==============================] - 0s 1ms/step\n"
     ]
    },
    {
     "name": "stderr",
     "output_type": "stream",
     "text": [
      "[I 2025-09-17 17:44:09,559] Trial 30 finished with value: 0.0 and parameters: {'learning_rate': 0.0005086694243229302, 'n_l1': 160, 'n_l2': 64, 'n_l3': 80, 'n_l4': 24, 'dropout_rate': 0.03379748042578497, 'activation': 'relu', 'optimizer': 'sgd', 'batch_size': 128}. Best is trial 23 with value: 0.5106382978723404.\n"
     ]
    },
    {
     "name": "stdout",
     "output_type": "stream",
     "text": [
      "10/10 [==============================] - 0s 1ms/step\n"
     ]
    },
    {
     "name": "stderr",
     "output_type": "stream",
     "text": [
      "[I 2025-09-17 17:44:12,394] Trial 31 finished with value: 0.535031847133758 and parameters: {'learning_rate': 0.0001287879900341599, 'n_l1': 192, 'n_l2': 32, 'n_l3': 64, 'n_l4': 32, 'dropout_rate': 0.0019764069441943035, 'activation': 'selu', 'optimizer': 'adam', 'batch_size': 128}. Best is trial 31 with value: 0.535031847133758.\n"
     ]
    },
    {
     "name": "stdout",
     "output_type": "stream",
     "text": [
      "10/10 [==============================] - 0s 1ms/step\n"
     ]
    },
    {
     "name": "stderr",
     "output_type": "stream",
     "text": [
      "[I 2025-09-17 17:44:17,271] Trial 32 finished with value: 0.0 and parameters: {'learning_rate': 9.808094423039326e-05, 'n_l1': 192, 'n_l2': 32, 'n_l3': 64, 'n_l4': 32, 'dropout_rate': 0.07173093900429883, 'activation': 'selu', 'optimizer': 'adam', 'batch_size': 128}. Best is trial 31 with value: 0.535031847133758.\n"
     ]
    },
    {
     "name": "stdout",
     "output_type": "stream",
     "text": [
      "10/10 [==============================] - 0s 1ms/step\n"
     ]
    },
    {
     "name": "stderr",
     "output_type": "stream",
     "text": [
      "[I 2025-09-17 17:44:21,880] Trial 33 finished with value: 0.35714285714285715 and parameters: {'learning_rate': 0.00022423598410739772, 'n_l1': 224, 'n_l2': 64, 'n_l3': 48, 'n_l4': 40, 'dropout_rate': 0.028573161283480756, 'activation': 'selu', 'optimizer': 'adam', 'batch_size': 128}. Best is trial 31 with value: 0.535031847133758.\n"
     ]
    },
    {
     "name": "stdout",
     "output_type": "stream",
     "text": [
      "10/10 [==============================] - 0s 1ms/step\n"
     ]
    },
    {
     "name": "stderr",
     "output_type": "stream",
     "text": [
      "[I 2025-09-17 17:44:25,898] Trial 34 finished with value: 0.0 and parameters: {'learning_rate': 5.5498317158110636e-05, 'n_l1': 128, 'n_l2': 64, 'n_l3': 64, 'n_l4': 24, 'dropout_rate': 0.06486733035582265, 'activation': 'selu', 'optimizer': 'adam', 'batch_size': 128}. Best is trial 31 with value: 0.535031847133758.\n"
     ]
    },
    {
     "name": "stdout",
     "output_type": "stream",
     "text": [
      "10/10 [==============================] - 0s 2ms/step\n"
     ]
    },
    {
     "name": "stderr",
     "output_type": "stream",
     "text": [
      "[I 2025-09-17 17:44:28,359] Trial 35 finished with value: 0.3006535947712418 and parameters: {'learning_rate': 1.6635436969191644e-05, 'n_l1': 160, 'n_l2': 32, 'n_l3': 80, 'n_l4': 32, 'dropout_rate': 0.027550031753948274, 'activation': 'relu', 'optimizer': 'rmsprop', 'batch_size': 128}. Best is trial 31 with value: 0.535031847133758.\n"
     ]
    },
    {
     "name": "stdout",
     "output_type": "stream",
     "text": [
      "10/10 [==============================] - 0s 2ms/step\n"
     ]
    },
    {
     "name": "stderr",
     "output_type": "stream",
     "text": [
      "[I 2025-09-17 17:44:32,709] Trial 36 finished with value: 0.28 and parameters: {'learning_rate': 2.9740806485538945e-05, 'n_l1': 192, 'n_l2': 96, 'n_l3': 48, 'n_l4': 56, 'dropout_rate': 0.1457167573823419, 'activation': 'tanh', 'optimizer': 'adam', 'batch_size': 256}. Best is trial 31 with value: 0.535031847133758.\n"
     ]
    },
    {
     "name": "stdout",
     "output_type": "stream",
     "text": [
      "10/10 [==============================] - 0s 2ms/step\n"
     ]
    },
    {
     "name": "stderr",
     "output_type": "stream",
     "text": [
      "[I 2025-09-17 17:44:36,867] Trial 37 finished with value: 0.0 and parameters: {'learning_rate': 0.00015430435393524422, 'n_l1': 224, 'n_l2': 32, 'n_l3': 32, 'n_l4': 16, 'dropout_rate': 0.10442374631563676, 'activation': 'selu', 'optimizer': 'rmsprop', 'batch_size': 128}. Best is trial 31 with value: 0.535031847133758.\n"
     ]
    },
    {
     "name": "stdout",
     "output_type": "stream",
     "text": [
      "10/10 [==============================] - 0s 2ms/step\n"
     ]
    },
    {
     "name": "stderr",
     "output_type": "stream",
     "text": [
      "[I 2025-09-17 17:44:40,556] Trial 38 finished with value: 0.49673202614379086 and parameters: {'learning_rate': 4.454831579181053e-05, 'n_l1': 96, 'n_l2': 64, 'n_l3': 96, 'n_l4': 48, 'dropout_rate': 1.4195892932500342e-05, 'activation': 'relu', 'optimizer': 'adam', 'batch_size': 64}. Best is trial 31 with value: 0.535031847133758.\n"
     ]
    },
    {
     "name": "stdout",
     "output_type": "stream",
     "text": [
      "10/10 [==============================] - 0s 1ms/step\n"
     ]
    },
    {
     "name": "stderr",
     "output_type": "stream",
     "text": [
      "[I 2025-09-17 17:44:44,762] Trial 39 finished with value: 0.4260355029585799 and parameters: {'learning_rate': 1.288512689626325e-05, 'n_l1': 96, 'n_l2': 64, 'n_l3': 112, 'n_l4': 56, 'dropout_rate': 0.3827022904604379, 'activation': 'relu', 'optimizer': 'adam', 'batch_size': 64}. Best is trial 31 with value: 0.535031847133758.\n"
     ]
    },
    {
     "name": "stdout",
     "output_type": "stream",
     "text": [
      "10/10 [==============================] - 0s 1ms/step\n"
     ]
    },
    {
     "name": "stderr",
     "output_type": "stream",
     "text": [
      "[I 2025-09-17 17:44:47,414] Trial 40 finished with value: 0.06593406593406594 and parameters: {'learning_rate': 4.045360410960089e-05, 'n_l1': 96, 'n_l2': 128, 'n_l3': 96, 'n_l4': 40, 'dropout_rate': 0.19511404102054059, 'activation': 'relu', 'optimizer': 'adam', 'batch_size': 64}. Best is trial 31 with value: 0.535031847133758.\n"
     ]
    },
    {
     "name": "stdout",
     "output_type": "stream",
     "text": [
      "10/10 [==============================] - 0s 1ms/step\n"
     ]
    },
    {
     "name": "stderr",
     "output_type": "stream",
     "text": [
      "[I 2025-09-17 17:44:53,036] Trial 41 finished with value: 0.3333333333333333 and parameters: {'learning_rate': 8.925242390850765e-05, 'n_l1': 64, 'n_l2': 32, 'n_l3': 128, 'n_l4': 48, 'dropout_rate': 0.02257096244611452, 'activation': 'relu', 'optimizer': 'adam', 'batch_size': 64}. Best is trial 31 with value: 0.535031847133758.\n"
     ]
    },
    {
     "name": "stdout",
     "output_type": "stream",
     "text": [
      "10/10 [==============================] - 0s 1ms/step\n"
     ]
    },
    {
     "name": "stderr",
     "output_type": "stream",
     "text": [
      "[I 2025-09-17 17:44:56,197] Trial 42 finished with value: 0.2978723404255319 and parameters: {'learning_rate': 6.181165696230987e-05, 'n_l1': 128, 'n_l2': 32, 'n_l3': 112, 'n_l4': 56, 'dropout_rate': 0.05797310251057185, 'activation': 'relu', 'optimizer': 'adam', 'batch_size': 64}. Best is trial 31 with value: 0.535031847133758.\n"
     ]
    },
    {
     "name": "stdout",
     "output_type": "stream",
     "text": [
      "10/10 [==============================] - 0s 1ms/step\n"
     ]
    },
    {
     "name": "stderr",
     "output_type": "stream",
     "text": [
      "[I 2025-09-17 17:44:59,992] Trial 43 finished with value: 0.34328358208955223 and parameters: {'learning_rate': 0.00015809815014437503, 'n_l1': 256, 'n_l2': 64, 'n_l3': 64, 'n_l4': 32, 'dropout_rate': 0.00014492674697246823, 'activation': 'tanh', 'optimizer': 'adam', 'batch_size': 64}. Best is trial 31 with value: 0.535031847133758.\n"
     ]
    },
    {
     "name": "stdout",
     "output_type": "stream",
     "text": [
      "10/10 [==============================] - 0s 1ms/step\n"
     ]
    },
    {
     "name": "stderr",
     "output_type": "stream",
     "text": [
      "[I 2025-09-17 17:45:02,704] Trial 44 finished with value: 0.20967741935483872 and parameters: {'learning_rate': 4.4996933031414e-05, 'n_l1': 96, 'n_l2': 192, 'n_l3': 96, 'n_l4': 24, 'dropout_rate': 0.030276619977985322, 'activation': 'relu', 'optimizer': 'adam', 'batch_size': 256}. Best is trial 31 with value: 0.535031847133758.\n"
     ]
    },
    {
     "name": "stdout",
     "output_type": "stream",
     "text": [
      "10/10 [==============================] - 0s 2ms/step\n"
     ]
    },
    {
     "name": "stderr",
     "output_type": "stream",
     "text": [
      "[I 2025-09-17 17:45:07,839] Trial 45 finished with value: 0.4657534246575342 and parameters: {'learning_rate': 0.00025045243480278586, 'n_l1': 32, 'n_l2': 32, 'n_l3': 64, 'n_l4': 48, 'dropout_rate': 0.07398380348657582, 'activation': 'selu', 'optimizer': 'rmsprop', 'batch_size': 64}. Best is trial 31 with value: 0.535031847133758.\n"
     ]
    },
    {
     "name": "stdout",
     "output_type": "stream",
     "text": [
      "10/10 [==============================] - 0s 2ms/step\n"
     ]
    },
    {
     "name": "stderr",
     "output_type": "stream",
     "text": [
      "[I 2025-09-17 17:45:10,502] Trial 46 finished with value: 0.14414414414414414 and parameters: {'learning_rate': 0.0002616537633131123, 'n_l1': 32, 'n_l2': 32, 'n_l3': 80, 'n_l4': 48, 'dropout_rate': 0.06857412592037883, 'activation': 'tanh', 'optimizer': 'rmsprop', 'batch_size': 64}. Best is trial 31 with value: 0.535031847133758.\n"
     ]
    },
    {
     "name": "stdout",
     "output_type": "stream",
     "text": [
      "10/10 [==============================] - 0s 1ms/step\n"
     ]
    },
    {
     "name": "stderr",
     "output_type": "stream",
     "text": [
      "[I 2025-09-17 17:45:12,215] Trial 47 finished with value: 0.07142857142857142 and parameters: {'learning_rate': 0.0009868083958817118, 'n_l1': 64, 'n_l2': 256, 'n_l3': 48, 'n_l4': 64, 'dropout_rate': 0.08925132735627696, 'activation': 'relu', 'optimizer': 'rmsprop', 'batch_size': 64}. Best is trial 31 with value: 0.535031847133758.\n"
     ]
    },
    {
     "name": "stdout",
     "output_type": "stream",
     "text": [
      "10/10 [==============================] - 0s 2ms/step\n"
     ]
    },
    {
     "name": "stderr",
     "output_type": "stream",
     "text": [
      "[I 2025-09-17 17:45:17,070] Trial 48 finished with value: 0.14173228346456693 and parameters: {'learning_rate': 0.00046782640612107076, 'n_l1': 32, 'n_l2': 32, 'n_l3': 64, 'n_l4': 48, 'dropout_rate': 0.02562622416298458, 'activation': 'selu', 'optimizer': 'rmsprop', 'batch_size': 64}. Best is trial 31 with value: 0.535031847133758.\n"
     ]
    },
    {
     "name": "stdout",
     "output_type": "stream",
     "text": [
      "10/10 [==============================] - 0s 2ms/step\n"
     ]
    },
    {
     "name": "stderr",
     "output_type": "stream",
     "text": [
      "[I 2025-09-17 17:45:19,256] Trial 49 finished with value: 0.45962732919254656 and parameters: {'learning_rate': 0.00011931825814433806, 'n_l1': 64, 'n_l2': 64, 'n_l3': 80, 'n_l4': 56, 'dropout_rate': 0.0005316885529739646, 'activation': 'selu', 'optimizer': 'rmsprop', 'batch_size': 64}. Best is trial 31 with value: 0.535031847133758.\n"
     ]
    },
    {
     "name": "stdout",
     "output_type": "stream",
     "text": [
      "10/10 [==============================] - 0s 1ms/step\n"
     ]
    },
    {
     "name": "stderr",
     "output_type": "stream",
     "text": [
      "[I 2025-09-17 17:45:20,779] Trial 50 finished with value: 0.09523809523809523 and parameters: {'learning_rate': 2.2756814745031224e-05, 'n_l1': 96, 'n_l2': 64, 'n_l3': 64, 'n_l4': 40, 'dropout_rate': 0.2632865452605797, 'activation': 'tanh', 'optimizer': 'sgd', 'batch_size': 64}. Best is trial 31 with value: 0.535031847133758.\n"
     ]
    },
    {
     "name": "stdout",
     "output_type": "stream",
     "text": [
      "10/10 [==============================] - 0s 1ms/step\n"
     ]
    },
    {
     "name": "stderr",
     "output_type": "stream",
     "text": [
      "[I 2025-09-17 17:45:25,741] Trial 51 finished with value: 0.0 and parameters: {'learning_rate': 0.00036383817699449497, 'n_l1': 192, 'n_l2': 32, 'n_l3': 64, 'n_l4': 32, 'dropout_rate': 0.021129990386044045, 'activation': 'selu', 'optimizer': 'adam', 'batch_size': 128}. Best is trial 31 with value: 0.535031847133758.\n"
     ]
    },
    {
     "name": "stdout",
     "output_type": "stream",
     "text": [
      "10/10 [==============================] - 0s 2ms/step\n"
     ]
    },
    {
     "name": "stderr",
     "output_type": "stream",
     "text": [
      "[I 2025-09-17 17:45:28,742] Trial 52 finished with value: 0.0 and parameters: {'learning_rate': 0.0001447649415922962, 'n_l1': 160, 'n_l2': 32, 'n_l3': 48, 'n_l4': 40, 'dropout_rate': 0.05121040153501627, 'activation': 'selu', 'optimizer': 'rmsprop', 'batch_size': 128}. Best is trial 31 with value: 0.535031847133758.\n"
     ]
    },
    {
     "name": "stdout",
     "output_type": "stream",
     "text": [
      "10/10 [==============================] - 0s 1ms/step\n"
     ]
    },
    {
     "name": "stderr",
     "output_type": "stream",
     "text": [
      "[I 2025-09-17 17:45:34,634] Trial 53 finished with value: 0.0 and parameters: {'learning_rate': 0.00019258495209924163, 'n_l1': 192, 'n_l2': 32, 'n_l3': 48, 'n_l4': 32, 'dropout_rate': 0.017300232781062654, 'activation': 'selu', 'optimizer': 'adam', 'batch_size': 64}. Best is trial 31 with value: 0.535031847133758.\n"
     ]
    },
    {
     "name": "stdout",
     "output_type": "stream",
     "text": [
      "10/10 [==============================] - 0s 2ms/step\n"
     ]
    },
    {
     "name": "stderr",
     "output_type": "stream",
     "text": [
      "[I 2025-09-17 17:45:36,876] Trial 54 finished with value: 0.0 and parameters: {'learning_rate': 0.0024700898572963146, 'n_l1': 192, 'n_l2': 32, 'n_l3': 64, 'n_l4': 32, 'dropout_rate': 0.040324564510191487, 'activation': 'selu', 'optimizer': 'adam', 'batch_size': 128}. Best is trial 31 with value: 0.535031847133758.\n"
     ]
    },
    {
     "name": "stdout",
     "output_type": "stream",
     "text": [
      "10/10 [==============================] - 0s 1ms/step\n"
     ]
    },
    {
     "name": "stderr",
     "output_type": "stream",
     "text": [
      "[I 2025-09-17 17:45:41,186] Trial 55 finished with value: 0.45454545454545453 and parameters: {'learning_rate': 0.00030657683948715115, 'n_l1': 32, 'n_l2': 64, 'n_l3': 80, 'n_l4': 48, 'dropout_rate': 0.07756079769843542, 'activation': 'selu', 'optimizer': 'adam', 'batch_size': 128}. Best is trial 31 with value: 0.535031847133758.\n"
     ]
    },
    {
     "name": "stdout",
     "output_type": "stream",
     "text": [
      "10/10 [==============================] - 0s 2ms/step\n"
     ]
    },
    {
     "name": "stderr",
     "output_type": "stream",
     "text": [
      "[I 2025-09-17 17:45:47,425] Trial 56 finished with value: 0.0 and parameters: {'learning_rate': 8.270171997883849e-05, 'n_l1': 256, 'n_l2': 32, 'n_l3': 64, 'n_l4': 40, 'dropout_rate': 0.31193663515346953, 'activation': 'selu', 'optimizer': 'adam', 'batch_size': 64}. Best is trial 31 with value: 0.535031847133758.\n"
     ]
    },
    {
     "name": "stdout",
     "output_type": "stream",
     "text": [
      "10/10 [==============================] - 0s 1ms/step\n"
     ]
    },
    {
     "name": "stderr",
     "output_type": "stream",
     "text": [
      "[I 2025-09-17 17:45:49,209] Trial 57 finished with value: 0.0 and parameters: {'learning_rate': 0.00025352311244291524, 'n_l1': 160, 'n_l2': 160, 'n_l3': 16, 'n_l4': 24, 'dropout_rate': 0.013349399596048172, 'activation': 'selu', 'optimizer': 'sgd', 'batch_size': 128}. Best is trial 31 with value: 0.535031847133758.\n"
     ]
    },
    {
     "name": "stdout",
     "output_type": "stream",
     "text": [
      "10/10 [==============================] - 0s 2ms/step\n"
     ]
    },
    {
     "name": "stderr",
     "output_type": "stream",
     "text": [
      "[I 2025-09-17 17:45:51,754] Trial 58 finished with value: 0.0 and parameters: {'learning_rate': 0.00012750552482183983, 'n_l1': 224, 'n_l2': 96, 'n_l3': 32, 'n_l4': 16, 'dropout_rate': 0.13362510831129193, 'activation': 'selu', 'optimizer': 'adam', 'batch_size': 256}. Best is trial 31 with value: 0.535031847133758.\n"
     ]
    },
    {
     "name": "stdout",
     "output_type": "stream",
     "text": [
      "10/10 [==============================] - 0s 2ms/step\n"
     ]
    },
    {
     "name": "stderr",
     "output_type": "stream",
     "text": [
      "[I 2025-09-17 17:45:53,847] Trial 59 finished with value: 0.33043478260869563 and parameters: {'learning_rate': 0.0001024582604537896, 'n_l1': 192, 'n_l2': 224, 'n_l3': 48, 'n_l4': 32, 'dropout_rate': 0.16851350589119354, 'activation': 'selu', 'optimizer': 'rmsprop', 'batch_size': 128}. Best is trial 31 with value: 0.535031847133758.\n"
     ]
    },
    {
     "name": "stdout",
     "output_type": "stream",
     "text": [
      "10/10 [==============================] - 0s 1ms/step\n"
     ]
    },
    {
     "name": "stderr",
     "output_type": "stream",
     "text": [
      "[I 2025-09-17 17:45:56,291] Trial 60 finished with value: 0.0 and parameters: {'learning_rate': 0.0005917226619545743, 'n_l1': 128, 'n_l2': 64, 'n_l3': 96, 'n_l4': 40, 'dropout_rate': 0.09583737075447812, 'activation': 'relu', 'optimizer': 'adam', 'batch_size': 128}. Best is trial 31 with value: 0.535031847133758.\n"
     ]
    },
    {
     "name": "stdout",
     "output_type": "stream",
     "text": [
      "10/10 [==============================] - 0s 2ms/step\n"
     ]
    },
    {
     "name": "stderr",
     "output_type": "stream",
     "text": [
      "[I 2025-09-17 17:45:58,775] Trial 61 finished with value: 0.4172661870503597 and parameters: {'learning_rate': 0.0001204692297560604, 'n_l1': 64, 'n_l2': 64, 'n_l3': 80, 'n_l4': 56, 'dropout_rate': 0.0022137989420212625, 'activation': 'selu', 'optimizer': 'rmsprop', 'batch_size': 64}. Best is trial 31 with value: 0.535031847133758.\n"
     ]
    },
    {
     "name": "stdout",
     "output_type": "stream",
     "text": [
      "10/10 [==============================] - 0s 2ms/step\n"
     ]
    },
    {
     "name": "stderr",
     "output_type": "stream",
     "text": [
      "[I 2025-09-17 17:46:03,530] Trial 62 finished with value: 0.0 and parameters: {'learning_rate': 0.00018331089696050197, 'n_l1': 64, 'n_l2': 32, 'n_l3': 80, 'n_l4': 56, 'dropout_rate': 0.042565596828227824, 'activation': 'selu', 'optimizer': 'rmsprop', 'batch_size': 64}. Best is trial 31 with value: 0.535031847133758.\n"
     ]
    },
    {
     "name": "stdout",
     "output_type": "stream",
     "text": [
      "10/10 [==============================] - 0s 2ms/step\n"
     ]
    },
    {
     "name": "stderr",
     "output_type": "stream",
     "text": [
      "[I 2025-09-17 17:46:06,461] Trial 63 finished with value: 0.4900662251655629 and parameters: {'learning_rate': 5.548820138004651e-05, 'n_l1': 32, 'n_l2': 64, 'n_l3': 96, 'n_l4': 64, 'dropout_rate': 0.0028661610010387497, 'activation': 'selu', 'optimizer': 'rmsprop', 'batch_size': 64}. Best is trial 31 with value: 0.535031847133758.\n"
     ]
    },
    {
     "name": "stdout",
     "output_type": "stream",
     "text": [
      "10/10 [==============================] - 0s 2ms/step\n"
     ]
    },
    {
     "name": "stderr",
     "output_type": "stream",
     "text": [
      "[I 2025-09-17 17:46:10,429] Trial 64 finished with value: 0.4084507042253521 and parameters: {'learning_rate': 4.998327804275877e-05, 'n_l1': 32, 'n_l2': 96, 'n_l3': 112, 'n_l4': 64, 'dropout_rate': 0.06120267404375547, 'activation': 'selu', 'optimizer': 'rmsprop', 'batch_size': 64}. Best is trial 31 with value: 0.535031847133758.\n"
     ]
    },
    {
     "name": "stdout",
     "output_type": "stream",
     "text": [
      "10/10 [==============================] - 0s 1ms/step\n"
     ]
    },
    {
     "name": "stderr",
     "output_type": "stream",
     "text": [
      "[I 2025-09-17 17:46:13,376] Trial 65 finished with value: 0.49645390070921985 and parameters: {'learning_rate': 7.91145994463972e-05, 'n_l1': 32, 'n_l2': 32, 'n_l3': 96, 'n_l4': 64, 'dropout_rate': 0.015250369594762178, 'activation': 'selu', 'optimizer': 'rmsprop', 'batch_size': 64}. Best is trial 31 with value: 0.535031847133758.\n"
     ]
    },
    {
     "name": "stdout",
     "output_type": "stream",
     "text": [
      "10/10 [==============================] - 0s 1ms/step\n"
     ]
    },
    {
     "name": "stderr",
     "output_type": "stream",
     "text": [
      "[I 2025-09-17 17:46:16,856] Trial 66 finished with value: 0.39436619718309857 and parameters: {'learning_rate': 3.179003973646146e-05, 'n_l1': 32, 'n_l2': 32, 'n_l3': 96, 'n_l4': 64, 'dropout_rate': 0.040630163333270304, 'activation': 'selu', 'optimizer': 'rmsprop', 'batch_size': 64}. Best is trial 31 with value: 0.535031847133758.\n"
     ]
    },
    {
     "name": "stdout",
     "output_type": "stream",
     "text": [
      "10/10 [==============================] - 0s 2ms/step\n"
     ]
    },
    {
     "name": "stderr",
     "output_type": "stream",
     "text": [
      "[I 2025-09-17 17:46:19,158] Trial 67 finished with value: 0.4264705882352941 and parameters: {'learning_rate': 6.509859080309863e-05, 'n_l1': 32, 'n_l2': 32, 'n_l3': 96, 'n_l4': 64, 'dropout_rate': 0.01568406610668374, 'activation': 'selu', 'optimizer': 'rmsprop', 'batch_size': 64}. Best is trial 31 with value: 0.535031847133758.\n"
     ]
    },
    {
     "name": "stdout",
     "output_type": "stream",
     "text": [
      "10/10 [==============================] - 0s 2ms/step\n"
     ]
    },
    {
     "name": "stderr",
     "output_type": "stream",
     "text": [
      "[I 2025-09-17 17:46:21,747] Trial 68 finished with value: 0.4032258064516129 and parameters: {'learning_rate': 3.796879108620196e-05, 'n_l1': 32, 'n_l2': 64, 'n_l3': 128, 'n_l4': 64, 'dropout_rate': 0.03651225360207942, 'activation': 'selu', 'optimizer': 'rmsprop', 'batch_size': 64}. Best is trial 31 with value: 0.535031847133758.\n"
     ]
    },
    {
     "name": "stdout",
     "output_type": "stream",
     "text": [
      "10/10 [==============================] - 0s 1ms/step\n"
     ]
    },
    {
     "name": "stderr",
     "output_type": "stream",
     "text": [
      "[I 2025-09-17 17:46:25,554] Trial 69 finished with value: 0.421875 and parameters: {'learning_rate': 7.63551881203235e-05, 'n_l1': 32, 'n_l2': 64, 'n_l3': 112, 'n_l4': 48, 'dropout_rate': 0.014828992197272507, 'activation': 'selu', 'optimizer': 'rmsprop', 'batch_size': 64}. Best is trial 31 with value: 0.535031847133758.\n"
     ]
    },
    {
     "name": "stdout",
     "output_type": "stream",
     "text": [
      "10/10 [==============================] - 0s 1ms/step\n"
     ]
    },
    {
     "name": "stderr",
     "output_type": "stream",
     "text": [
      "[I 2025-09-17 17:46:36,073] Trial 70 finished with value: 0.33879781420765026 and parameters: {'learning_rate': 2.1853507892963735e-05, 'n_l1': 64, 'n_l2': 32, 'n_l3': 96, 'n_l4': 64, 'dropout_rate': 0.07972014217854918, 'activation': 'selu', 'optimizer': 'rmsprop', 'batch_size': 64}. Best is trial 31 with value: 0.535031847133758.\n"
     ]
    },
    {
     "name": "stdout",
     "output_type": "stream",
     "text": [
      "10/10 [==============================] - 0s 1ms/step\n"
     ]
    },
    {
     "name": "stderr",
     "output_type": "stream",
     "text": [
      "[I 2025-09-17 17:46:40,889] Trial 71 finished with value: 0.460431654676259 and parameters: {'learning_rate': 9.000809309744277e-05, 'n_l1': 224, 'n_l2': 32, 'n_l3': 64, 'n_l4': 24, 'dropout_rate': 0.00037964265355009286, 'activation': 'selu', 'optimizer': 'adam', 'batch_size': 128}. Best is trial 31 with value: 0.535031847133758.\n"
     ]
    },
    {
     "name": "stdout",
     "output_type": "stream",
     "text": [
      "10/10 [==============================] - 0s 2ms/step\n"
     ]
    },
    {
     "name": "stderr",
     "output_type": "stream",
     "text": [
      "[I 2025-09-17 17:46:45,574] Trial 72 finished with value: 0.0 and parameters: {'learning_rate': 0.00022132952758592035, 'n_l1': 192, 'n_l2': 32, 'n_l3': 96, 'n_l4': 32, 'dropout_rate': 0.052974695876024325, 'activation': 'selu', 'optimizer': 'adam', 'batch_size': 128}. Best is trial 31 with value: 0.535031847133758.\n"
     ]
    },
    {
     "name": "stdout",
     "output_type": "stream",
     "text": [
      "10/10 [==============================] - 0s 2ms/step\n"
     ]
    },
    {
     "name": "stderr",
     "output_type": "stream",
     "text": [
      "[I 2025-09-17 17:46:50,946] Trial 73 finished with value: 0.2903225806451613 and parameters: {'learning_rate': 0.00015740433404550202, 'n_l1': 160, 'n_l2': 64, 'n_l3': 112, 'n_l4': 56, 'dropout_rate': 0.018038937894857304, 'activation': 'selu', 'optimizer': 'adam', 'batch_size': 128}. Best is trial 31 with value: 0.535031847133758.\n"
     ]
    },
    {
     "name": "stdout",
     "output_type": "stream",
     "text": [
      "10/10 [==============================] - 0s 1ms/step\n"
     ]
    },
    {
     "name": "stderr",
     "output_type": "stream",
     "text": [
      "[I 2025-09-17 17:46:52,492] Trial 74 finished with value: 0.0 and parameters: {'learning_rate': 0.00040115159771128664, 'n_l1': 32, 'n_l2': 32, 'n_l3': 48, 'n_l4': 32, 'dropout_rate': 0.03194460509273722, 'activation': 'selu', 'optimizer': 'sgd', 'batch_size': 256}. Best is trial 31 with value: 0.535031847133758.\n"
     ]
    },
    {
     "name": "stdout",
     "output_type": "stream",
     "text": [
      "10/10 [==============================] - 0s 1ms/step\n"
     ]
    },
    {
     "name": "stderr",
     "output_type": "stream",
     "text": [
      "[I 2025-09-17 17:46:55,649] Trial 75 finished with value: 0.3 and parameters: {'learning_rate': 5.622151397975917e-05, 'n_l1': 192, 'n_l2': 32, 'n_l3': 80, 'n_l4': 24, 'dropout_rate': 0.06550803907053188, 'activation': 'relu', 'optimizer': 'adam', 'batch_size': 64}. Best is trial 31 with value: 0.535031847133758.\n"
     ]
    },
    {
     "name": "stdout",
     "output_type": "stream",
     "text": [
      "10/10 [==============================] - 0s 2ms/step\n"
     ]
    },
    {
     "name": "stderr",
     "output_type": "stream",
     "text": [
      "[I 2025-09-17 17:46:59,728] Trial 76 finished with value: 0.46706586826347307 and parameters: {'learning_rate': 0.00010629850927118816, 'n_l1': 192, 'n_l2': 96, 'n_l3': 64, 'n_l4': 64, 'dropout_rate': 0.01266698100655143, 'activation': 'tanh', 'optimizer': 'rmsprop', 'batch_size': 128}. Best is trial 31 with value: 0.535031847133758.\n"
     ]
    },
    {
     "name": "stdout",
     "output_type": "stream",
     "text": [
      "10/10 [==============================] - 0s 2ms/step\n"
     ]
    },
    {
     "name": "stderr",
     "output_type": "stream",
     "text": [
      "[I 2025-09-17 17:47:04,407] Trial 77 finished with value: 0.18181818181818182 and parameters: {'learning_rate': 0.00010509230221972782, 'n_l1': 64, 'n_l2': 96, 'n_l3': 48, 'n_l4': 64, 'dropout_rate': 0.40302760484975375, 'activation': 'tanh', 'optimizer': 'rmsprop', 'batch_size': 128}. Best is trial 31 with value: 0.535031847133758.\n"
     ]
    },
    {
     "name": "stdout",
     "output_type": "stream",
     "text": [
      "10/10 [==============================] - 0s 2ms/step\n"
     ]
    },
    {
     "name": "stderr",
     "output_type": "stream",
     "text": [
      "[I 2025-09-17 17:47:07,972] Trial 78 finished with value: 0.32653061224489793 and parameters: {'learning_rate': 6.748983219358621e-05, 'n_l1': 224, 'n_l2': 128, 'n_l3': 64, 'n_l4': 64, 'dropout_rate': 0.04443489277691725, 'activation': 'tanh', 'optimizer': 'rmsprop', 'batch_size': 64}. Best is trial 31 with value: 0.535031847133758.\n"
     ]
    },
    {
     "name": "stdout",
     "output_type": "stream",
     "text": [
      "10/10 [==============================] - 0s 1ms/step\n"
     ]
    },
    {
     "name": "stderr",
     "output_type": "stream",
     "text": [
      "[I 2025-09-17 17:47:10,787] Trial 79 finished with value: 0.20869565217391303 and parameters: {'learning_rate': 0.00013858542053591129, 'n_l1': 32, 'n_l2': 96, 'n_l3': 96, 'n_l4': 56, 'dropout_rate': 0.01543599800289222, 'activation': 'tanh', 'optimizer': 'rmsprop', 'batch_size': 128}. Best is trial 31 with value: 0.535031847133758.\n"
     ]
    },
    {
     "name": "stdout",
     "output_type": "stream",
     "text": [
      "10/10 [==============================] - 0s 2ms/step\n"
     ]
    },
    {
     "name": "stderr",
     "output_type": "stream",
     "text": [
      "[I 2025-09-17 17:47:06,180] Trial 80 finished with value: 0.2647058823529412 and parameters: {'learning_rate': 4.9208973812129236e-05, 'n_l1': 160, 'n_l2': 64, 'n_l3': 80, 'n_l4': 64, 'dropout_rate': 0.028631418296853242, 'activation': 'tanh', 'optimizer': 'rmsprop', 'batch_size': 64}. Best is trial 31 with value: 0.535031847133758.\n"
     ]
    },
    {
     "name": "stdout",
     "output_type": "stream",
     "text": [
      "10/10 [==============================] - 0s 1ms/step\n"
     ]
    },
    {
     "name": "stderr",
     "output_type": "stream",
     "text": [
      "[I 2025-09-17 17:47:08,786] Trial 81 finished with value: 0.3829787234042553 and parameters: {'learning_rate': 0.00025915950446988065, 'n_l1': 192, 'n_l2': 32, 'n_l3': 64, 'n_l4': 64, 'dropout_rate': 0.006494716409725692, 'activation': 'tanh', 'optimizer': 'rmsprop', 'batch_size': 128}. Best is trial 31 with value: 0.535031847133758.\n"
     ]
    },
    {
     "name": "stdout",
     "output_type": "stream",
     "text": [
      "10/10 [==============================] - 0s 1ms/step\n"
     ]
    },
    {
     "name": "stderr",
     "output_type": "stream",
     "text": [
      "[I 2025-09-17 17:47:13,894] Trial 82 finished with value: 0.0 and parameters: {'learning_rate': 0.00017838799833981556, 'n_l1': 192, 'n_l2': 64, 'n_l3': 64, 'n_l4': 56, 'dropout_rate': 0.02877844786008068, 'activation': 'selu', 'optimizer': 'adam', 'batch_size': 128}. Best is trial 31 with value: 0.535031847133758.\n"
     ]
    },
    {
     "name": "stdout",
     "output_type": "stream",
     "text": [
      "10/10 [==============================] - 0s 1ms/step\n"
     ]
    },
    {
     "name": "stderr",
     "output_type": "stream",
     "text": [
      "[I 2025-09-17 17:47:17,170] Trial 83 finished with value: 0.0 and parameters: {'learning_rate': 0.00941272296532305, 'n_l1': 192, 'n_l2': 32, 'n_l3': 48, 'n_l4': 32, 'dropout_rate': 0.0564180363450641, 'activation': 'relu', 'optimizer': 'adam', 'batch_size': 128}. Best is trial 31 with value: 0.535031847133758.\n"
     ]
    },
    {
     "name": "stdout",
     "output_type": "stream",
     "text": [
      "10/10 [==============================] - 0s 1ms/step\n"
     ]
    },
    {
     "name": "stderr",
     "output_type": "stream",
     "text": [
      "[I 2025-09-17 17:47:19,077] Trial 84 finished with value: 0.23931623931623933 and parameters: {'learning_rate': 9.761711686434749e-05, 'n_l1': 224, 'n_l2': 64, 'n_l3': 64, 'n_l4': 40, 'dropout_rate': 0.010244070589735204, 'activation': 'selu', 'optimizer': 'rmsprop', 'batch_size': 128}. Best is trial 31 with value: 0.535031847133758.\n"
     ]
    },
    {
     "name": "stdout",
     "output_type": "stream",
     "text": [
      "10/10 [==============================] - 0s 1ms/step\n"
     ]
    },
    {
     "name": "stderr",
     "output_type": "stream",
     "text": [
      "[I 2025-09-17 17:47:21,574] Trial 85 finished with value: 0.0 and parameters: {'learning_rate': 0.00033758423199024384, 'n_l1': 160, 'n_l2': 32, 'n_l3': 48, 'n_l4': 16, 'dropout_rate': 0.22018471817156948, 'activation': 'selu', 'optimizer': 'adam', 'batch_size': 128}. Best is trial 31 with value: 0.535031847133758.\n"
     ]
    },
    {
     "name": "stdout",
     "output_type": "stream",
     "text": [
      "10/10 [==============================] - 0s 1ms/step\n"
     ]
    },
    {
     "name": "stderr",
     "output_type": "stream",
     "text": [
      "[I 2025-09-17 17:47:25,026] Trial 86 finished with value: 0.288 and parameters: {'learning_rate': 8.045811954390355e-05, 'n_l1': 192, 'n_l2': 32, 'n_l3': 64, 'n_l4': 64, 'dropout_rate': 0.038248703667567246, 'activation': 'tanh', 'optimizer': 'rmsprop', 'batch_size': 128}. Best is trial 31 with value: 0.535031847133758.\n"
     ]
    },
    {
     "name": "stdout",
     "output_type": "stream",
     "text": [
      "10/10 [==============================] - 0s 2ms/step\n"
     ]
    },
    {
     "name": "stderr",
     "output_type": "stream",
     "text": [
      "[I 2025-09-17 17:47:28,570] Trial 87 finished with value: 0.5542168674698795 and parameters: {'learning_rate': 0.00011635729332633696, 'n_l1': 96, 'n_l2': 64, 'n_l3': 32, 'n_l4': 8, 'dropout_rate': 0.00014378004009999237, 'activation': 'selu', 'optimizer': 'adam', 'batch_size': 64}. Best is trial 87 with value: 0.5542168674698795.\n"
     ]
    },
    {
     "name": "stdout",
     "output_type": "stream",
     "text": [
      "10/10 [==============================] - 0s 1ms/step\n"
     ]
    },
    {
     "name": "stderr",
     "output_type": "stream",
     "text": [
      "[I 2025-09-17 17:47:30,889] Trial 88 finished with value: 0.0 and parameters: {'learning_rate': 2.5491531518032807e-05, 'n_l1': 96, 'n_l2': 160, 'n_l3': 32, 'n_l4': 16, 'dropout_rate': 0.015800393801245483, 'activation': 'selu', 'optimizer': 'sgd', 'batch_size': 64}. Best is trial 87 with value: 0.5542168674698795.\n"
     ]
    },
    {
     "name": "stdout",
     "output_type": "stream",
     "text": [
      "10/10 [==============================] - 0s 1ms/step\n"
     ]
    },
    {
     "name": "stderr",
     "output_type": "stream",
     "text": [
      "[I 2025-09-17 17:47:33,799] Trial 89 finished with value: 0.0 and parameters: {'learning_rate': 3.899329428549264e-05, 'n_l1': 128, 'n_l2': 128, 'n_l3': 16, 'n_l4': 8, 'dropout_rate': 0.07418465419813568, 'activation': 'relu', 'optimizer': 'adam', 'batch_size': 64}. Best is trial 87 with value: 0.5542168674698795.\n"
     ]
    },
    {
     "name": "stdout",
     "output_type": "stream",
     "text": [
      "10/10 [==============================] - 0s 1ms/step\n"
     ]
    },
    {
     "name": "stderr",
     "output_type": "stream",
     "text": [
      "[I 2025-09-17 17:47:37,976] Trial 90 finished with value: 0.49645390070921985 and parameters: {'learning_rate': 0.00021554935215909395, 'n_l1': 64, 'n_l2': 64, 'n_l3': 32, 'n_l4': 48, 'dropout_rate': 0.0011906222058390456, 'activation': 'selu', 'optimizer': 'adam', 'batch_size': 64}. Best is trial 87 with value: 0.5542168674698795.\n"
     ]
    },
    {
     "name": "stdout",
     "output_type": "stream",
     "text": [
      "10/10 [==============================] - 0s 1ms/step\n"
     ]
    },
    {
     "name": "stderr",
     "output_type": "stream",
     "text": [
      "[I 2025-09-17 17:47:40,649] Trial 91 finished with value: 0.5425531914893617 and parameters: {'learning_rate': 0.0002184364981536414, 'n_l1': 96, 'n_l2': 64, 'n_l3': 32, 'n_l4': 8, 'dropout_rate': 0.00026213543502236376, 'activation': 'selu', 'optimizer': 'adam', 'batch_size': 64}. Best is trial 87 with value: 0.5542168674698795.\n"
     ]
    },
    {
     "name": "stdout",
     "output_type": "stream",
     "text": [
      "10/10 [==============================] - 0s 1ms/step\n"
     ]
    },
    {
     "name": "stderr",
     "output_type": "stream",
     "text": [
      "[I 2025-09-17 17:47:46,233] Trial 92 finished with value: 0.0 and parameters: {'learning_rate': 0.00020140071264088794, 'n_l1': 96, 'n_l2': 64, 'n_l3': 32, 'n_l4': 8, 'dropout_rate': 0.0029678041675117992, 'activation': 'selu', 'optimizer': 'adam', 'batch_size': 64}. Best is trial 87 with value: 0.5542168674698795.\n"
     ]
    },
    {
     "name": "stdout",
     "output_type": "stream",
     "text": [
      "10/10 [==============================] - 0s 1ms/step\n"
     ]
    },
    {
     "name": "stderr",
     "output_type": "stream",
     "text": [
      "[I 2025-09-17 17:47:49,107] Trial 93 finished with value: 0.0 and parameters: {'learning_rate': 0.00011530318879145543, 'n_l1': 96, 'n_l2': 96, 'n_l3': 32, 'n_l4': 8, 'dropout_rate': 0.023338539701514803, 'activation': 'selu', 'optimizer': 'adam', 'batch_size': 64}. Best is trial 87 with value: 0.5542168674698795.\n"
     ]
    },
    {
     "name": "stdout",
     "output_type": "stream",
     "text": [
      "10/10 [==============================] - 0s 2ms/step\n"
     ]
    },
    {
     "name": "stderr",
     "output_type": "stream",
     "text": [
      "[I 2025-09-17 17:47:53,612] Trial 94 finished with value: 0.46715328467153283 and parameters: {'learning_rate': 0.00013928865638098583, 'n_l1': 64, 'n_l2': 64, 'n_l3': 32, 'n_l4': 8, 'dropout_rate': 0.000987380634781562, 'activation': 'selu', 'optimizer': 'adam', 'batch_size': 64}. Best is trial 87 with value: 0.5542168674698795.\n"
     ]
    },
    {
     "name": "stdout",
     "output_type": "stream",
     "text": [
      "10/10 [==============================] - 0s 1ms/step\n"
     ]
    },
    {
     "name": "stderr",
     "output_type": "stream",
     "text": [
      "[I 2025-09-17 17:47:59,083] Trial 95 finished with value: 0.40310077519379844 and parameters: {'learning_rate': 0.00013941791473639183, 'n_l1': 64, 'n_l2': 64, 'n_l3': 32, 'n_l4': 8, 'dropout_rate': 0.0006858388857774221, 'activation': 'selu', 'optimizer': 'adam', 'batch_size': 64}. Best is trial 87 with value: 0.5542168674698795.\n"
     ]
    },
    {
     "name": "stdout",
     "output_type": "stream",
     "text": [
      "10/10 [==============================] - 0s 2ms/step\n"
     ]
    },
    {
     "name": "stderr",
     "output_type": "stream",
     "text": [
      "[I 2025-09-17 17:48:05,906] Trial 96 finished with value: 0.0 and parameters: {'learning_rate': 0.0001712697882940303, 'n_l1': 96, 'n_l2': 64, 'n_l3': 16, 'n_l4': 8, 'dropout_rate': 0.02964019734761305, 'activation': 'selu', 'optimizer': 'adam', 'batch_size': 64}. Best is trial 87 with value: 0.5542168674698795.\n"
     ]
    },
    {
     "name": "stdout",
     "output_type": "stream",
     "text": [
      "10/10 [==============================] - 0s 1ms/step\n"
     ]
    },
    {
     "name": "stderr",
     "output_type": "stream",
     "text": [
      "[I 2025-09-17 17:48:10,041] Trial 97 finished with value: 0.06976744186046512 and parameters: {'learning_rate': 0.00022529770245061496, 'n_l1': 64, 'n_l2': 64, 'n_l3': 32, 'n_l4': 8, 'dropout_rate': 0.4794740416815889, 'activation': 'selu', 'optimizer': 'adam', 'batch_size': 64}. Best is trial 87 with value: 0.5542168674698795.\n"
     ]
    },
    {
     "name": "stdout",
     "output_type": "stream",
     "text": [
      "10/10 [==============================] - 0s 2ms/step\n"
     ]
    },
    {
     "name": "stderr",
     "output_type": "stream",
     "text": [
      "[I 2025-09-17 17:48:15,850] Trial 98 finished with value: 0.0 and parameters: {'learning_rate': 0.0001313338995603754, 'n_l1': 96, 'n_l2': 64, 'n_l3': 16, 'n_l4': 8, 'dropout_rate': 0.04596560627110577, 'activation': 'selu', 'optimizer': 'adam', 'batch_size': 64}. Best is trial 87 with value: 0.5542168674698795.\n"
     ]
    },
    {
     "name": "stdout",
     "output_type": "stream",
     "text": [
      "10/10 [==============================] - 0s 1ms/step\n"
     ]
    },
    {
     "name": "stderr",
     "output_type": "stream",
     "text": [
      "[I 2025-09-17 17:48:19,127] Trial 99 finished with value: 0.35384615384615387 and parameters: {'learning_rate': 5.647886996288622e-05, 'n_l1': 64, 'n_l2': 64, 'n_l3': 32, 'n_l4': 16, 'dropout_rate': 0.02517122756344825, 'activation': 'selu', 'optimizer': 'adam', 'batch_size': 64}. Best is trial 87 with value: 0.5542168674698795.\n"
     ]
    },
    {
     "name": "stdout",
     "output_type": "stream",
     "text": [
      "10/10 [==============================] - 0s 2ms/step\n"
     ]
    },
    {
     "name": "stderr",
     "output_type": "stream",
     "text": [
      "[I 2025-09-17 17:48:24,139] Trial 100 finished with value: 0.0 and parameters: {'learning_rate': 0.0003182886930658668, 'n_l1': 96, 'n_l2': 64, 'n_l3': 32, 'n_l4': 8, 'dropout_rate': 0.013975246143733806, 'activation': 'selu', 'optimizer': 'adam', 'batch_size': 64}. Best is trial 87 with value: 0.5542168674698795.\n"
     ]
    },
    {
     "name": "stdout",
     "output_type": "stream",
     "text": [
      "10/10 [==============================] - 0s 1ms/step\n"
     ]
    },
    {
     "name": "stderr",
     "output_type": "stream",
     "text": [
      "[I 2025-09-17 17:48:27,411] Trial 101 finished with value: 0.5389221556886228 and parameters: {'learning_rate': 9.413810311929038e-05, 'n_l1': 64, 'n_l2': 96, 'n_l3': 32, 'n_l4': 8, 'dropout_rate': 0.010159947737854832, 'activation': 'selu', 'optimizer': 'adam', 'batch_size': 64}. Best is trial 87 with value: 0.5542168674698795.\n"
     ]
    },
    {
     "name": "stdout",
     "output_type": "stream",
     "text": [
      "10/10 [==============================] - 0s 1ms/step\n"
     ]
    },
    {
     "name": "stderr",
     "output_type": "stream",
     "text": [
      "[I 2025-09-17 17:48:30,817] Trial 102 finished with value: 0.5517241379310345 and parameters: {'learning_rate': 8.977319882578182e-05, 'n_l1': 64, 'n_l2': 96, 'n_l3': 32, 'n_l4': 8, 'dropout_rate': 0.009312708127811849, 'activation': 'selu', 'optimizer': 'adam', 'batch_size': 64}. Best is trial 87 with value: 0.5542168674698795.\n"
     ]
    },
    {
     "name": "stdout",
     "output_type": "stream",
     "text": [
      "10/10 [==============================] - 0s 2ms/step\n"
     ]
    },
    {
     "name": "stderr",
     "output_type": "stream",
     "text": [
      "[I 2025-09-17 17:48:36,503] Trial 103 finished with value: 0.0 and parameters: {'learning_rate': 7.192881866860363e-05, 'n_l1': 64, 'n_l2': 96, 'n_l3': 32, 'n_l4': 8, 'dropout_rate': 0.03700404813876083, 'activation': 'selu', 'optimizer': 'adam', 'batch_size': 64}. Best is trial 87 with value: 0.5542168674698795.\n"
     ]
    },
    {
     "name": "stdout",
     "output_type": "stream",
     "text": [
      "10/10 [==============================] - 0s 1ms/step\n"
     ]
    },
    {
     "name": "stderr",
     "output_type": "stream",
     "text": [
      "[I 2025-09-17 17:48:40,958] Trial 104 finished with value: 0.2524271844660194 and parameters: {'learning_rate': 8.693763431325937e-05, 'n_l1': 128, 'n_l2': 96, 'n_l3': 32, 'n_l4': 16, 'dropout_rate': 0.022398892853979224, 'activation': 'selu', 'optimizer': 'adam', 'batch_size': 64}. Best is trial 87 with value: 0.5542168674698795.\n"
     ]
    },
    {
     "name": "stdout",
     "output_type": "stream",
     "text": [
      "10/10 [==============================] - 0s 1ms/step\n"
     ]
    },
    {
     "name": "stderr",
     "output_type": "stream",
     "text": [
      "[I 2025-09-17 17:48:46,577] Trial 105 finished with value: 0.0 and parameters: {'learning_rate': 6.124854510625027e-05, 'n_l1': 64, 'n_l2': 128, 'n_l3': 16, 'n_l4': 8, 'dropout_rate': 0.33747566617017755, 'activation': 'selu', 'optimizer': 'adam', 'batch_size': 64}. Best is trial 87 with value: 0.5542168674698795.\n"
     ]
    },
    {
     "name": "stdout",
     "output_type": "stream",
     "text": [
      "10/10 [==============================] - 5s 2ms/step\n"
     ]
    },
    {
     "name": "stderr",
     "output_type": "stream",
     "text": [
      "[I 2025-09-17 17:48:56,366] Trial 106 finished with value: 0.4827586206896552 and parameters: {'learning_rate': 4.653626461417477e-05, 'n_l1': 96, 'n_l2': 96, 'n_l3': 32, 'n_l4': 8, 'dropout_rate': 0.009640858683693099, 'activation': 'selu', 'optimizer': 'adam', 'batch_size': 256}. Best is trial 87 with value: 0.5542168674698795.\n"
     ]
    },
    {
     "name": "stdout",
     "output_type": "stream",
     "text": [
      "10/10 [==============================] - 0s 2ms/step\n"
     ]
    },
    {
     "name": "stderr",
     "output_type": "stream",
     "text": [
      "[I 2025-09-17 17:48:53,028] Trial 107 finished with value: 0.0970873786407767 and parameters: {'learning_rate': 4.3109659148138676e-05, 'n_l1': 96, 'n_l2': 96, 'n_l3': 32, 'n_l4': 8, 'dropout_rate': 0.05463292459204904, 'activation': 'selu', 'optimizer': 'adam', 'batch_size': 256}. Best is trial 87 with value: 0.5542168674698795.\n"
     ]
    },
    {
     "name": "stdout",
     "output_type": "stream",
     "text": [
      "10/10 [==============================] - 0s 1ms/step\n"
     ]
    },
    {
     "name": "stderr",
     "output_type": "stream",
     "text": [
      "[I 2025-09-17 17:48:57,075] Trial 108 finished with value: 0.4117647058823529 and parameters: {'learning_rate': 3.681691464298055e-05, 'n_l1': 96, 'n_l2': 96, 'n_l3': 32, 'n_l4': 8, 'dropout_rate': 0.013076507496726465, 'activation': 'selu', 'optimizer': 'adam', 'batch_size': 256}. Best is trial 87 with value: 0.5542168674698795.\n"
     ]
    },
    {
     "name": "stdout",
     "output_type": "stream",
     "text": [
      "10/10 [==============================] - 0s 2ms/step\n"
     ]
    },
    {
     "name": "stderr",
     "output_type": "stream",
     "text": [
      "[I 2025-09-17 17:48:59,648] Trial 109 finished with value: 0.16901408450704225 and parameters: {'learning_rate': 3.4600072391175486e-05, 'n_l1': 96, 'n_l2': 192, 'n_l3': 16, 'n_l4': 16, 'dropout_rate': 0.03663256381780068, 'activation': 'relu', 'optimizer': 'adam', 'batch_size': 256}. Best is trial 87 with value: 0.5542168674698795.\n"
     ]
    },
    {
     "name": "stdout",
     "output_type": "stream",
     "text": [
      "10/10 [==============================] - 0s 2ms/step\n"
     ]
    },
    {
     "name": "stderr",
     "output_type": "stream",
     "text": [
      "[I 2025-09-17 17:49:02,636] Trial 110 finished with value: 0.47619047619047616 and parameters: {'learning_rate': 5.100081023744928e-05, 'n_l1': 64, 'n_l2': 96, 'n_l3': 32, 'n_l4': 8, 'dropout_rate': 0.008837196591628358, 'activation': 'selu', 'optimizer': 'adam', 'batch_size': 256}. Best is trial 87 with value: 0.5542168674698795.\n"
     ]
    },
    {
     "name": "stdout",
     "output_type": "stream",
     "text": [
      "10/10 [==============================] - 0s 2ms/step\n"
     ]
    },
    {
     "name": "stderr",
     "output_type": "stream",
     "text": [
      "[I 2025-09-17 17:49:08,517] Trial 111 finished with value: 0.0 and parameters: {'learning_rate': 0.00016540476601775852, 'n_l1': 128, 'n_l2': 128, 'n_l3': 32, 'n_l4': 8, 'dropout_rate': 0.02521827428383399, 'activation': 'selu', 'optimizer': 'adam', 'batch_size': 64}. Best is trial 87 with value: 0.5542168674698795.\n"
     ]
    },
    {
     "name": "stdout",
     "output_type": "stream",
     "text": [
      "10/10 [==============================] - 0s 2ms/step\n"
     ]
    },
    {
     "name": "stderr",
     "output_type": "stream",
     "text": [
      "[I 2025-09-17 17:49:13,994] Trial 112 finished with value: 0.35384615384615387 and parameters: {'learning_rate': 8.091834917893043e-05, 'n_l1': 32, 'n_l2': 64, 'n_l3': 48, 'n_l4': 16, 'dropout_rate': 0.006530678810004105, 'activation': 'selu', 'optimizer': 'adam', 'batch_size': 64}. Best is trial 87 with value: 0.5542168674698795.\n"
     ]
    },
    {
     "name": "stdout",
     "output_type": "stream",
     "text": [
      "10/10 [==============================] - 0s 2ms/step\n"
     ]
    },
    {
     "name": "stderr",
     "output_type": "stream",
     "text": [
      "[I 2025-09-17 17:49:18,025] Trial 113 finished with value: 0.0 and parameters: {'learning_rate': 6.76034232324194e-05, 'n_l1': 64, 'n_l2': 64, 'n_l3': 96, 'n_l4': 8, 'dropout_rate': 0.045230894144403205, 'activation': 'selu', 'optimizer': 'adam', 'batch_size': 256}. Best is trial 87 with value: 0.5542168674698795.\n"
     ]
    },
    {
     "name": "stdout",
     "output_type": "stream",
     "text": [
      "10/10 [==============================] - 0s 2ms/step\n"
     ]
    },
    {
     "name": "stderr",
     "output_type": "stream",
     "text": [
      "[I 2025-09-17 17:49:21,354] Trial 114 finished with value: 0.0 and parameters: {'learning_rate': 0.00027655364595293217, 'n_l1': 128, 'n_l2': 96, 'n_l3': 48, 'n_l4': 24, 'dropout_rate': 0.020475895670542154, 'activation': 'selu', 'optimizer': 'adam', 'batch_size': 64}. Best is trial 87 with value: 0.5542168674698795.\n"
     ]
    },
    {
     "name": "stdout",
     "output_type": "stream",
     "text": [
      "10/10 [==============================] - 0s 2ms/step\n"
     ]
    },
    {
     "name": "stderr",
     "output_type": "stream",
     "text": [
      "[I 2025-09-17 17:49:26,614] Trial 115 finished with value: 0.45121951219512196 and parameters: {'learning_rate': 0.00011442277137711627, 'n_l1': 96, 'n_l2': 32, 'n_l3': 32, 'n_l4': 48, 'dropout_rate': 0.0006610126876992715, 'activation': 'selu', 'optimizer': 'adam', 'batch_size': 64}. Best is trial 87 with value: 0.5542168674698795.\n"
     ]
    },
    {
     "name": "stdout",
     "output_type": "stream",
     "text": [
      "10/10 [==============================] - 0s 1ms/step\n"
     ]
    },
    {
     "name": "stderr",
     "output_type": "stream",
     "text": [
      "[I 2025-09-17 17:49:30,585] Trial 116 finished with value: 0.3120567375886525 and parameters: {'learning_rate': 2.8378500097673415e-05, 'n_l1': 32, 'n_l2': 32, 'n_l3': 32, 'n_l4': 40, 'dropout_rate': 0.033351274992671966, 'activation': 'selu', 'optimizer': 'adam', 'batch_size': 64}. Best is trial 87 with value: 0.5542168674698795.\n"
     ]
    },
    {
     "name": "stdout",
     "output_type": "stream",
     "text": [
      "10/10 [==============================] - 0s 2ms/step\n"
     ]
    },
    {
     "name": "stderr",
     "output_type": "stream",
     "text": [
      "[I 2025-09-17 17:49:41,343] Trial 117 finished with value: 0.0 and parameters: {'learning_rate': 9.554180278992628e-05, 'n_l1': 64, 'n_l2': 64, 'n_l3': 16, 'n_l4': 8, 'dropout_rate': 0.01280269627578784, 'activation': 'selu', 'optimizer': 'adam', 'batch_size': 64}. Best is trial 87 with value: 0.5542168674698795.\n"
     ]
    },
    {
     "name": "stdout",
     "output_type": "stream",
     "text": [
      "10/10 [==============================] - 0s 1ms/step\n"
     ]
    },
    {
     "name": "stderr",
     "output_type": "stream",
     "text": [
      "[I 2025-09-17 17:49:41,313] Trial 118 finished with value: 0.0 and parameters: {'learning_rate': 0.00018853474245715998, 'n_l1': 96, 'n_l2': 96, 'n_l3': 96, 'n_l4': 16, 'dropout_rate': 0.06199949886325741, 'activation': 'selu', 'optimizer': 'adam', 'batch_size': 256}. Best is trial 87 with value: 0.5542168674698795.\n"
     ]
    },
    {
     "name": "stdout",
     "output_type": "stream",
     "text": [
      "10/10 [==============================] - 0s 2ms/step\n"
     ]
    },
    {
     "name": "stderr",
     "output_type": "stream",
     "text": [
      "[I 2025-09-17 17:49:43,390] Trial 119 finished with value: 0.0 and parameters: {'learning_rate': 0.00022099691529787885, 'n_l1': 32, 'n_l2': 64, 'n_l3': 32, 'n_l4': 40, 'dropout_rate': 0.02061573283870207, 'activation': 'relu', 'optimizer': 'sgd', 'batch_size': 64}. Best is trial 87 with value: 0.5542168674698795.\n"
     ]
    },
    {
     "name": "stdout",
     "output_type": "stream",
     "text": [
      "10/10 [==============================] - -6s 2ms/step\n"
     ]
    },
    {
     "name": "stderr",
     "output_type": "stream",
     "text": [
      "[I 2025-09-17 17:49:45,855] Trial 120 finished with value: 0.0 and parameters: {'learning_rate': 0.005263898075821817, 'n_l1': 96, 'n_l2': 32, 'n_l3': 48, 'n_l4': 32, 'dropout_rate': 0.04701682841059002, 'activation': 'selu', 'optimizer': 'adam', 'batch_size': 64}. Best is trial 87 with value: 0.5542168674698795.\n"
     ]
    },
    {
     "name": "stdout",
     "output_type": "stream",
     "text": [
      "10/10 [==============================] - 0s 2ms/step\n"
     ]
    },
    {
     "name": "stderr",
     "output_type": "stream",
     "text": [
      "[I 2025-09-17 17:49:49,277] Trial 121 finished with value: 0.45320197044334976 and parameters: {'learning_rate': 4.8585679624693196e-05, 'n_l1': 64, 'n_l2': 96, 'n_l3': 32, 'n_l4': 8, 'dropout_rate': 0.00890928033666015, 'activation': 'selu', 'optimizer': 'adam', 'batch_size': 256}. Best is trial 87 with value: 0.5542168674698795.\n"
     ]
    },
    {
     "name": "stdout",
     "output_type": "stream",
     "text": [
      "10/10 [==============================] - 0s 2ms/step\n"
     ]
    },
    {
     "name": "stderr",
     "output_type": "stream",
     "text": [
      "[I 2025-09-17 17:49:53,264] Trial 122 finished with value: 0.47368421052631576 and parameters: {'learning_rate': 5.2977842795629975e-05, 'n_l1': 64, 'n_l2': 96, 'n_l3': 32, 'n_l4': 8, 'dropout_rate': 2.6681121467735797e-06, 'activation': 'selu', 'optimizer': 'adam', 'batch_size': 256}. Best is trial 87 with value: 0.5542168674698795.\n"
     ]
    },
    {
     "name": "stdout",
     "output_type": "stream",
     "text": [
      "10/10 [==============================] - 0s 2ms/step\n"
     ]
    },
    {
     "name": "stderr",
     "output_type": "stream",
     "text": [
      "[I 2025-09-17 17:49:56,300] Trial 123 finished with value: 0.4777777777777778 and parameters: {'learning_rate': 6.0522793710245715e-05, 'n_l1': 64, 'n_l2': 96, 'n_l3': 32, 'n_l4': 8, 'dropout_rate': 0.009753614436657038, 'activation': 'selu', 'optimizer': 'adam', 'batch_size': 256}. Best is trial 87 with value: 0.5542168674698795.\n"
     ]
    },
    {
     "name": "stdout",
     "output_type": "stream",
     "text": [
      "10/10 [==============================] - 0s 1ms/step\n"
     ]
    },
    {
     "name": "stderr",
     "output_type": "stream",
     "text": [
      "[I 2025-09-17 17:50:00,633] Trial 124 finished with value: 0.0 and parameters: {'learning_rate': 6.001055101886796e-05, 'n_l1': 32, 'n_l2': 128, 'n_l3': 32, 'n_l4': 8, 'dropout_rate': 0.0282895953562785, 'activation': 'selu', 'optimizer': 'adam', 'batch_size': 256}. Best is trial 87 with value: 0.5542168674698795.\n"
     ]
    },
    {
     "name": "stdout",
     "output_type": "stream",
     "text": [
      "10/10 [==============================] - 0s 2ms/step\n"
     ]
    },
    {
     "name": "stderr",
     "output_type": "stream",
     "text": [
      "[I 2025-09-17 17:50:03,780] Trial 125 finished with value: 0.0 and parameters: {'learning_rate': 7.633949904056675e-05, 'n_l1': 64, 'n_l2': 96, 'n_l3': 96, 'n_l4': 8, 'dropout_rate': 0.011022104087424753, 'activation': 'selu', 'optimizer': 'adam', 'batch_size': 256}. Best is trial 87 with value: 0.5542168674698795.\n"
     ]
    },
    {
     "name": "stdout",
     "output_type": "stream",
     "text": [
      "10/10 [==============================] - -6s 1ms/step\n"
     ]
    },
    {
     "name": "stderr",
     "output_type": "stream",
     "text": [
      "[I 2025-09-17 17:50:05,882] Trial 126 finished with value: 0.24615384615384617 and parameters: {'learning_rate': 9.535990276470914e-05, 'n_l1': 96, 'n_l2': 32, 'n_l3': 32, 'n_l4': 32, 'dropout_rate': 0.03541059895731942, 'activation': 'selu', 'optimizer': 'adam', 'batch_size': 64}. Best is trial 87 with value: 0.5542168674698795.\n"
     ]
    },
    {
     "name": "stdout",
     "output_type": "stream",
     "text": [
      "10/10 [==============================] - 0s 1ms/step\n"
     ]
    },
    {
     "name": "stderr",
     "output_type": "stream",
     "text": [
      "[I 2025-09-17 17:50:11,400] Trial 127 finished with value: 0.0 and parameters: {'learning_rate': 4.4001273764229196e-05, 'n_l1': 64, 'n_l2': 64, 'n_l3': 16, 'n_l4': 8, 'dropout_rate': 0.017746112736629377, 'activation': 'selu', 'optimizer': 'adam', 'batch_size': 64}. Best is trial 87 with value: 0.5542168674698795.\n"
     ]
    },
    {
     "name": "stdout",
     "output_type": "stream",
     "text": [
      "10/10 [==============================] - 0s 2ms/step\n"
     ]
    },
    {
     "name": "stderr",
     "output_type": "stream",
     "text": [
      "[I 2025-09-17 17:50:14,074] Trial 128 finished with value: 0.5027322404371585 and parameters: {'learning_rate': 0.00014891354170277547, 'n_l1': 64, 'n_l2': 96, 'n_l3': 48, 'n_l4': 16, 'dropout_rate': 0.02258061873124969, 'activation': 'selu', 'optimizer': 'adam', 'batch_size': 256}. Best is trial 87 with value: 0.5542168674698795.\n"
     ]
    },
    {
     "name": "stdout",
     "output_type": "stream",
     "text": [
      "10/10 [==============================] - 0s 1ms/step\n"
     ]
    },
    {
     "name": "stderr",
     "output_type": "stream",
     "text": [
      "[I 2025-09-17 17:50:23,740] Trial 129 finished with value: 0.24691358024691357 and parameters: {'learning_rate': 1.754563791372584e-05, 'n_l1': 64, 'n_l2': 96, 'n_l3': 48, 'n_l4': 16, 'dropout_rate': 0.023593531110595173, 'activation': 'selu', 'optimizer': 'adam', 'batch_size': 256}. Best is trial 87 with value: 0.5542168674698795.\n"
     ]
    },
    {
     "name": "stdout",
     "output_type": "stream",
     "text": [
      "10/10 [==============================] - 0s 2ms/step\n"
     ]
    },
    {
     "name": "stderr",
     "output_type": "stream",
     "text": [
      "[I 2025-09-17 17:50:26,706] Trial 130 finished with value: 0.0 and parameters: {'learning_rate': 0.00014755524910830577, 'n_l1': 64, 'n_l2': 96, 'n_l3': 112, 'n_l4': 16, 'dropout_rate': 0.050525847158050044, 'activation': 'relu', 'optimizer': 'adam', 'batch_size': 256}. Best is trial 87 with value: 0.5542168674698795.\n"
     ]
    },
    {
     "name": "stdout",
     "output_type": "stream",
     "text": [
      "10/10 [==============================] - 0s 2ms/step\n"
     ]
    },
    {
     "name": "stderr",
     "output_type": "stream",
     "text": [
      "[I 2025-09-17 17:50:31,028] Trial 131 finished with value: 0.32116788321167883 and parameters: {'learning_rate': 0.00023269013507930725, 'n_l1': 32, 'n_l2': 96, 'n_l3': 48, 'n_l4': 24, 'dropout_rate': 0.00046585650154373315, 'activation': 'selu', 'optimizer': 'adam', 'batch_size': 256}. Best is trial 87 with value: 0.5542168674698795.\n"
     ]
    },
    {
     "name": "stdout",
     "output_type": "stream",
     "text": [
      "10/10 [==============================] - 0s 1ms/step\n"
     ]
    },
    {
     "name": "stderr",
     "output_type": "stream",
     "text": [
      "[I 2025-09-17 17:50:34,604] Trial 132 finished with value: 0.3902439024390244 and parameters: {'learning_rate': 0.00011320858870641152, 'n_l1': 96, 'n_l2': 96, 'n_l3': 32, 'n_l4': 8, 'dropout_rate': 0.010847481202191627, 'activation': 'selu', 'optimizer': 'adam', 'batch_size': 256}. Best is trial 87 with value: 0.5542168674698795.\n"
     ]
    },
    {
     "name": "stdout",
     "output_type": "stream",
     "text": [
      "10/10 [==============================] - 0s 1ms/step\n"
     ]
    },
    {
     "name": "stderr",
     "output_type": "stream",
     "text": [
      "[I 2025-09-17 17:50:33,566] Trial 133 finished with value: 0.0 and parameters: {'learning_rate': 0.00012716098712552043, 'n_l1': 64, 'n_l2': 64, 'n_l3': 48, 'n_l4': 8, 'dropout_rate': 0.023899955974514386, 'activation': 'selu', 'optimizer': 'adam', 'batch_size': 64}. Best is trial 87 with value: 0.5542168674698795.\n"
     ]
    },
    {
     "name": "stdout",
     "output_type": "stream",
     "text": [
      "10/10 [==============================] - 0s 2ms/step\n"
     ]
    },
    {
     "name": "stderr",
     "output_type": "stream",
     "text": [
      "[I 2025-09-17 17:50:36,457] Trial 134 finished with value: 0.4217687074829932 and parameters: {'learning_rate': 0.000162714330704391, 'n_l1': 64, 'n_l2': 128, 'n_l3': 96, 'n_l4': 16, 'dropout_rate': 0.00933672560250285, 'activation': 'selu', 'optimizer': 'adam', 'batch_size': 256}. Best is trial 87 with value: 0.5542168674698795.\n"
     ]
    },
    {
     "name": "stdout",
     "output_type": "stream",
     "text": [
      "10/10 [==============================] - 0s 2ms/step\n"
     ]
    },
    {
     "name": "stderr",
     "output_type": "stream",
     "text": [
      "[I 2025-09-17 17:50:40,351] Trial 135 finished with value: 0.3783783783783784 and parameters: {'learning_rate': 0.00019269926382278974, 'n_l1': 32, 'n_l2': 32, 'n_l3': 32, 'n_l4': 24, 'dropout_rate': 0.03469060678885716, 'activation': 'selu', 'optimizer': 'adam', 'batch_size': 64}. Best is trial 87 with value: 0.5542168674698795.\n"
     ]
    },
    {
     "name": "stdout",
     "output_type": "stream",
     "text": [
      "10/10 [==============================] - 0s 2ms/step\n"
     ]
    },
    {
     "name": "stderr",
     "output_type": "stream",
     "text": [
      "[I 2025-09-17 17:50:43,934] Trial 136 finished with value: 0.4264705882352941 and parameters: {'learning_rate': 8.124764760407967e-05, 'n_l1': 96, 'n_l2': 64, 'n_l3': 48, 'n_l4': 56, 'dropout_rate': 0.01814076127411385, 'activation': 'selu', 'optimizer': 'adam', 'batch_size': 64}. Best is trial 87 with value: 0.5542168674698795.\n"
     ]
    },
    {
     "name": "stdout",
     "output_type": "stream",
     "text": [
      "10/10 [==============================] - 0s 2ms/step\n"
     ]
    },
    {
     "name": "stderr",
     "output_type": "stream",
     "text": [
      "[I 2025-09-17 17:50:49,430] Trial 137 finished with value: 0.0 and parameters: {'learning_rate': 0.00028400238690752647, 'n_l1': 64, 'n_l2': 64, 'n_l3': 32, 'n_l4': 8, 'dropout_rate': 0.28294361213894614, 'activation': 'selu', 'optimizer': 'sgd', 'batch_size': 64}. Best is trial 87 with value: 0.5542168674698795.\n"
     ]
    },
    {
     "name": "stdout",
     "output_type": "stream",
     "text": [
      "10/10 [==============================] - 0s 1ms/step\n"
     ]
    },
    {
     "name": "stderr",
     "output_type": "stream",
     "text": [
      "[I 2025-09-17 17:50:53,133] Trial 138 finished with value: 0.4657534246575342 and parameters: {'learning_rate': 6.72245087969419e-05, 'n_l1': 32, 'n_l2': 96, 'n_l3': 32, 'n_l4': 16, 'dropout_rate': 0.0008339642116842929, 'activation': 'selu', 'optimizer': 'adam', 'batch_size': 128}. Best is trial 87 with value: 0.5542168674698795.\n"
     ]
    },
    {
     "name": "stdout",
     "output_type": "stream",
     "text": [
      "10/10 [==============================] - 0s 1ms/step\n"
     ]
    },
    {
     "name": "stderr",
     "output_type": "stream",
     "text": [
      "[I 2025-09-17 17:50:56,044] Trial 139 finished with value: 0.32894736842105265 and parameters: {'learning_rate': 0.00010520897896099689, 'n_l1': 96, 'n_l2': 32, 'n_l3': 48, 'n_l4': 32, 'dropout_rate': 0.03253739309867381, 'activation': 'selu', 'optimizer': 'adam', 'batch_size': 256}. Best is trial 87 with value: 0.5542168674698795.\n"
     ]
    },
    {
     "name": "stdout",
     "output_type": "stream",
     "text": [
      "10/10 [==============================] - 0s 2ms/step\n"
     ]
    },
    {
     "name": "stderr",
     "output_type": "stream",
     "text": [
      "[I 2025-09-17 17:51:02,383] Trial 140 finished with value: 0.0 and parameters: {'learning_rate': 0.00014827116121870397, 'n_l1': 192, 'n_l2': 64, 'n_l3': 32, 'n_l4': 8, 'dropout_rate': 0.042442493288691874, 'activation': 'selu', 'optimizer': 'adam', 'batch_size': 64}. Best is trial 87 with value: 0.5542168674698795.\n"
     ]
    },
    {
     "name": "stdout",
     "output_type": "stream",
     "text": [
      "10/10 [==============================] - 0s 2ms/step\n"
     ]
    },
    {
     "name": "stderr",
     "output_type": "stream",
     "text": [
      "[I 2025-09-17 17:51:05,882] Trial 141 finished with value: 0.4411764705882353 and parameters: {'learning_rate': 4.685692486021918e-05, 'n_l1': 64, 'n_l2': 96, 'n_l3': 32, 'n_l4': 8, 'dropout_rate': 0.008837021593428225, 'activation': 'selu', 'optimizer': 'adam', 'batch_size': 256}. Best is trial 87 with value: 0.5542168674698795.\n"
     ]
    },
    {
     "name": "stdout",
     "output_type": "stream",
     "text": [
      "10/10 [==============================] - 0s 2ms/step\n"
     ]
    },
    {
     "name": "stderr",
     "output_type": "stream",
     "text": [
      "[I 2025-09-17 17:51:08,783] Trial 142 finished with value: 0.42105263157894735 and parameters: {'learning_rate': 5.5817675663909246e-05, 'n_l1': 64, 'n_l2': 96, 'n_l3': 32, 'n_l4': 8, 'dropout_rate': 0.012014927739915492, 'activation': 'selu', 'optimizer': 'adam', 'batch_size': 256}. Best is trial 87 with value: 0.5542168674698795.\n"
     ]
    },
    {
     "name": "stdout",
     "output_type": "stream",
     "text": [
      "10/10 [==============================] - 0s 1ms/step\n"
     ]
    },
    {
     "name": "stderr",
     "output_type": "stream",
     "text": [
      "[I 2025-09-17 17:51:14,781] Trial 143 finished with value: 0.5027322404371585 and parameters: {'learning_rate': 8.861724825878631e-05, 'n_l1': 64, 'n_l2': 96, 'n_l3': 32, 'n_l4': 8, 'dropout_rate': 0.00015595267926436784, 'activation': 'selu', 'optimizer': 'adam', 'batch_size': 256}. Best is trial 87 with value: 0.5542168674698795.\n"
     ]
    },
    {
     "name": "stdout",
     "output_type": "stream",
     "text": [
      "10/10 [==============================] - 0s 2ms/step\n"
     ]
    },
    {
     "name": "stderr",
     "output_type": "stream",
     "text": [
      "[I 2025-09-17 17:51:17,070] Trial 144 finished with value: 0.35406698564593303 and parameters: {'learning_rate': 8.769854326541106e-05, 'n_l1': 64, 'n_l2': 96, 'n_l3': 32, 'n_l4': 8, 'dropout_rate': 0.019744993414242455, 'activation': 'selu', 'optimizer': 'adam', 'batch_size': 256}. Best is trial 87 with value: 0.5542168674698795.\n"
     ]
    },
    {
     "name": "stdout",
     "output_type": "stream",
     "text": [
      "10/10 [==============================] - 0s 2ms/step\n"
     ]
    },
    {
     "name": "stderr",
     "output_type": "stream",
     "text": [
      "[I 2025-09-17 17:51:21,125] Trial 145 finished with value: 0.4222222222222222 and parameters: {'learning_rate': 6.661763230396589e-05, 'n_l1': 64, 'n_l2': 128, 'n_l3': 32, 'n_l4': 8, 'dropout_rate': 0.0006303111898355682, 'activation': 'relu', 'optimizer': 'adam', 'batch_size': 256}. Best is trial 87 with value: 0.5542168674698795.\n"
     ]
    },
    {
     "name": "stdout",
     "output_type": "stream",
     "text": [
      "10/10 [==============================] - 0s 1ms/step\n"
     ]
    },
    {
     "name": "stderr",
     "output_type": "stream",
     "text": [
      "[I 2025-09-17 17:51:24,662] Trial 146 finished with value: 0.0 and parameters: {'learning_rate': 0.0001286113924131433, 'n_l1': 96, 'n_l2': 96, 'n_l3': 48, 'n_l4': 8, 'dropout_rate': 0.027222922612105564, 'activation': 'selu', 'optimizer': 'adam', 'batch_size': 128}. Best is trial 87 with value: 0.5542168674698795.\n"
     ]
    },
    {
     "name": "stdout",
     "output_type": "stream",
     "text": [
      "10/10 [==============================] - 0s 1ms/step\n"
     ]
    },
    {
     "name": "stderr",
     "output_type": "stream",
     "text": [
      "[I 2025-09-17 17:51:36,333] Trial 147 finished with value: 0.023809523809523808 and parameters: {'learning_rate': 9.797360653639609e-05, 'n_l1': 128, 'n_l2': 32, 'n_l3': 96, 'n_l4': 48, 'dropout_rate': 0.014168638914823617, 'activation': 'selu', 'optimizer': 'adam', 'batch_size': 64}. Best is trial 87 with value: 0.5542168674698795.\n"
     ]
    },
    {
     "name": "stdout",
     "output_type": "stream",
     "text": [
      "10/10 [==============================] - 0s 2ms/step\n"
     ]
    },
    {
     "name": "stderr",
     "output_type": "stream",
     "text": [
      "[I 2025-09-17 17:51:40,829] Trial 148 finished with value: 0.4492753623188406 and parameters: {'learning_rate': 7.464252275989946e-05, 'n_l1': 32, 'n_l2': 160, 'n_l3': 96, 'n_l4': 32, 'dropout_rate': 0.022551492487371358, 'activation': 'selu', 'optimizer': 'adam', 'batch_size': 256}. Best is trial 87 with value: 0.5542168674698795.\n"
     ]
    },
    {
     "name": "stdout",
     "output_type": "stream",
     "text": [
      "10/10 [==============================] - 0s 2ms/step\n"
     ]
    },
    {
     "name": "stderr",
     "output_type": "stream",
     "text": [
      "[I 2025-09-17 17:51:45,418] Trial 149 finished with value: 0.4161849710982659 and parameters: {'learning_rate': 0.0001799109258179324, 'n_l1': 64, 'n_l2': 64, 'n_l3': 32, 'n_l4': 8, 'dropout_rate': 0.0005904129588609275, 'activation': 'selu', 'optimizer': 'adam', 'batch_size': 64}. Best is trial 87 with value: 0.5542168674698795.\n"
     ]
    },
    {
     "name": "stdout",
     "output_type": "stream",
     "text": [
      "10/10 [==============================] - 0s 2ms/step\n"
     ]
    },
    {
     "name": "stderr",
     "output_type": "stream",
     "text": [
      "[I 2025-09-17 17:51:43,296] Trial 150 finished with value: 0.13333333333333333 and parameters: {'learning_rate': 0.00011480914749383735, 'n_l1': 96, 'n_l2': 96, 'n_l3': 48, 'n_l4': 64, 'dropout_rate': 0.43189204737254316, 'activation': 'selu', 'optimizer': 'adam', 'batch_size': 128}. Best is trial 87 with value: 0.5542168674698795.\n"
     ]
    },
    {
     "name": "stdout",
     "output_type": "stream",
     "text": [
      "10/10 [==============================] - 0s 1ms/step\n"
     ]
    },
    {
     "name": "stderr",
     "output_type": "stream",
     "text": [
      "[I 2025-09-17 17:51:46,327] Trial 151 finished with value: 0.4221105527638191 and parameters: {'learning_rate': 4.1700232835261824e-05, 'n_l1': 64, 'n_l2': 96, 'n_l3': 32, 'n_l4': 8, 'dropout_rate': 0.010679969133152868, 'activation': 'selu', 'optimizer': 'adam', 'batch_size': 256}. Best is trial 87 with value: 0.5542168674698795.\n"
     ]
    },
    {
     "name": "stdout",
     "output_type": "stream",
     "text": [
      "10/10 [==============================] - 0s 2ms/step\n"
     ]
    },
    {
     "name": "stderr",
     "output_type": "stream",
     "text": [
      "[I 2025-09-17 17:51:49,820] Trial 152 finished with value: 0.450261780104712 and parameters: {'learning_rate': 5.248800644429044e-05, 'n_l1': 64, 'n_l2': 96, 'n_l3': 32, 'n_l4': 8, 'dropout_rate': 0.00980641554788617, 'activation': 'selu', 'optimizer': 'adam', 'batch_size': 256}. Best is trial 87 with value: 0.5542168674698795.\n"
     ]
    },
    {
     "name": "stdout",
     "output_type": "stream",
     "text": [
      "10/10 [==============================] - 0s 2ms/step\n"
     ]
    },
    {
     "name": "stderr",
     "output_type": "stream",
     "text": [
      "[I 2025-09-17 17:51:57,536] Trial 153 finished with value: 0.3333333333333333 and parameters: {'learning_rate': 3.534335056183632e-05, 'n_l1': 64, 'n_l2': 96, 'n_l3': 32, 'n_l4': 8, 'dropout_rate': 0.031193172958684633, 'activation': 'selu', 'optimizer': 'adam', 'batch_size': 256}. Best is trial 87 with value: 0.5542168674698795.\n"
     ]
    },
    {
     "name": "stdout",
     "output_type": "stream",
     "text": [
      "10/10 [==============================] - 0s 2ms/step\n"
     ]
    },
    {
     "name": "stderr",
     "output_type": "stream",
     "text": [
      "[I 2025-09-17 17:52:02,336] Trial 154 finished with value: 0.0 and parameters: {'learning_rate': 6.0527977569545846e-05, 'n_l1': 192, 'n_l2': 96, 'n_l3': 32, 'n_l4': 8, 'dropout_rate': 0.019002897264063484, 'activation': 'selu', 'optimizer': 'adam', 'batch_size': 256}. Best is trial 87 with value: 0.5542168674698795.\n"
     ]
    },
    {
     "name": "stdout",
     "output_type": "stream",
     "text": [
      "10/10 [==============================] - 0s 1ms/step\n"
     ]
    },
    {
     "name": "stderr",
     "output_type": "stream",
     "text": [
      "[I 2025-09-17 17:52:06,578] Trial 155 finished with value: 0.0 and parameters: {'learning_rate': 0.00023779020383522567, 'n_l1': 64, 'n_l2': 64, 'n_l3': 32, 'n_l4': 8, 'dropout_rate': 0.17056734278350028, 'activation': 'selu', 'optimizer': 'adam', 'batch_size': 256}. Best is trial 87 with value: 0.5542168674698795.\n"
     ]
    },
    {
     "name": "stdout",
     "output_type": "stream",
     "text": [
      "10/10 [==============================] - 0s 1ms/step\n"
     ]
    },
    {
     "name": "stderr",
     "output_type": "stream",
     "text": [
      "[I 2025-09-17 17:52:05,156] Trial 156 finished with value: 0.42105263157894735 and parameters: {'learning_rate': 7.349451495756132e-05, 'n_l1': 64, 'n_l2': 32, 'n_l3': 32, 'n_l4': 8, 'dropout_rate': 0.008297634862536894, 'activation': 'selu', 'optimizer': 'rmsprop', 'batch_size': 64}. Best is trial 87 with value: 0.5542168674698795.\n"
     ]
    },
    {
     "name": "stdout",
     "output_type": "stream",
     "text": [
      "10/10 [==============================] - 0s 1ms/step\n"
     ]
    },
    {
     "name": "stderr",
     "output_type": "stream",
     "text": [
      "[I 2025-09-17 17:52:08,325] Trial 157 finished with value: 0.17094017094017094 and parameters: {'learning_rate': 9.075661401354801e-05, 'n_l1': 32, 'n_l2': 96, 'n_l3': 16, 'n_l4': 24, 'dropout_rate': 0.040360939021996466, 'activation': 'selu', 'optimizer': 'adam', 'batch_size': 64}. Best is trial 87 with value: 0.5542168674698795.\n"
     ]
    },
    {
     "name": "stdout",
     "output_type": "stream",
     "text": [
      "10/10 [==============================] - 0s 1ms/step\n"
     ]
    },
    {
     "name": "stderr",
     "output_type": "stream",
     "text": [
      "[I 2025-09-17 17:52:10,794] Trial 158 finished with value: 0.32967032967032966 and parameters: {'learning_rate': 0.00019953115843883844, 'n_l1': 96, 'n_l2': 64, 'n_l3': 32, 'n_l4': 16, 'dropout_rate': 0.020658541023693553, 'activation': 'relu', 'optimizer': 'adam', 'batch_size': 256}. Best is trial 87 with value: 0.5542168674698795.\n"
     ]
    },
    {
     "name": "stdout",
     "output_type": "stream",
     "text": [
      "10/10 [==============================] - 0s 1ms/step\n"
     ]
    },
    {
     "name": "stderr",
     "output_type": "stream",
     "text": [
      "[I 2025-09-17 17:52:14,538] Trial 159 finished with value: 0.39344262295081966 and parameters: {'learning_rate': 3.0757723411486635e-05, 'n_l1': 64, 'n_l2': 32, 'n_l3': 48, 'n_l4': 48, 'dropout_rate': 0.008914380599830164, 'activation': 'selu', 'optimizer': 'adam', 'batch_size': 128}. Best is trial 87 with value: 0.5542168674698795.\n"
     ]
    },
    {
     "name": "stdout",
     "output_type": "stream",
     "text": [
      "10/10 [==============================] - 0s 1ms/step\n"
     ]
    },
    {
     "name": "stderr",
     "output_type": "stream",
     "text": [
      "[I 2025-09-17 17:52:17,238] Trial 160 finished with value: 0.0 and parameters: {'learning_rate': 0.00016241759675880544, 'n_l1': 32, 'n_l2': 128, 'n_l3': 80, 'n_l4': 24, 'dropout_rate': 0.0010910968676567702, 'activation': 'selu', 'optimizer': 'sgd', 'batch_size': 64}. Best is trial 87 with value: 0.5542168674698795.\n"
     ]
    },
    {
     "name": "stdout",
     "output_type": "stream",
     "text": [
      "10/10 [==============================] - 0s 1ms/step\n"
     ]
    },
    {
     "name": "stderr",
     "output_type": "stream",
     "text": [
      "[I 2025-09-17 17:52:21,481] Trial 161 finished with value: 0.4444444444444444 and parameters: {'learning_rate': 5.2598002020627786e-05, 'n_l1': 64, 'n_l2': 96, 'n_l3': 32, 'n_l4': 8, 'dropout_rate': 0.002562039866902409, 'activation': 'selu', 'optimizer': 'adam', 'batch_size': 256}. Best is trial 87 with value: 0.5542168674698795.\n"
     ]
    },
    {
     "name": "stdout",
     "output_type": "stream",
     "text": [
      "10/10 [==============================] - 0s 1ms/step\n"
     ]
    },
    {
     "name": "stderr",
     "output_type": "stream",
     "text": [
      "[I 2025-09-17 17:52:23,680] Trial 162 finished with value: 0.3287671232876712 and parameters: {'learning_rate': 4.177985407060239e-05, 'n_l1': 64, 'n_l2': 96, 'n_l3': 32, 'n_l4': 8, 'dropout_rate': 0.027559261598795105, 'activation': 'selu', 'optimizer': 'adam', 'batch_size': 256}. Best is trial 87 with value: 0.5542168674698795.\n"
     ]
    },
    {
     "name": "stdout",
     "output_type": "stream",
     "text": [
      "10/10 [==============================] - 0s 1ms/step\n"
     ]
    },
    {
     "name": "stderr",
     "output_type": "stream",
     "text": [
      "[I 2025-09-17 17:52:27,696] Trial 163 finished with value: 0.5333333333333333 and parameters: {'learning_rate': 6.036580999322955e-05, 'n_l1': 64, 'n_l2': 96, 'n_l3': 32, 'n_l4': 8, 'dropout_rate': 0.0006491235587037123, 'activation': 'selu', 'optimizer': 'adam', 'batch_size': 256}. Best is trial 87 with value: 0.5542168674698795.\n"
     ]
    },
    {
     "name": "stdout",
     "output_type": "stream",
     "text": [
      "10/10 [==============================] - 6s 1ms/step\n"
     ]
    },
    {
     "name": "stderr",
     "output_type": "stream",
     "text": [
      "[I 2025-09-17 17:52:36,602] Trial 164 finished with value: 0.44565217391304346 and parameters: {'learning_rate': 6.238493130143989e-05, 'n_l1': 64, 'n_l2': 96, 'n_l3': 32, 'n_l4': 8, 'dropout_rate': 0.015041875567780671, 'activation': 'selu', 'optimizer': 'adam', 'batch_size': 256}. Best is trial 87 with value: 0.5542168674698795.\n"
     ]
    },
    {
     "name": "stdout",
     "output_type": "stream",
     "text": [
      "10/10 [==============================] - 0s 2ms/step\n"
     ]
    },
    {
     "name": "stderr",
     "output_type": "stream",
     "text": [
      "[I 2025-09-17 17:52:34,195] Trial 165 finished with value: 0.4444444444444444 and parameters: {'learning_rate': 4.701606593133779e-05, 'n_l1': 64, 'n_l2': 96, 'n_l3': 32, 'n_l4': 8, 'dropout_rate': 0.017023884115926244, 'activation': 'selu', 'optimizer': 'adam', 'batch_size': 256}. Best is trial 87 with value: 0.5542168674698795.\n"
     ]
    },
    {
     "name": "stdout",
     "output_type": "stream",
     "text": [
      "10/10 [==============================] - 0s 1ms/step\n"
     ]
    },
    {
     "name": "stderr",
     "output_type": "stream",
     "text": [
      "[I 2025-09-17 17:52:40,104] Trial 166 finished with value: 0.4666666666666667 and parameters: {'learning_rate': 8.712805798653298e-05, 'n_l1': 96, 'n_l2': 64, 'n_l3': 96, 'n_l4': 40, 'dropout_rate': 0.00078212862663492, 'activation': 'selu', 'optimizer': 'adam', 'batch_size': 64}. Best is trial 87 with value: 0.5542168674698795.\n"
     ]
    },
    {
     "name": "stdout",
     "output_type": "stream",
     "text": [
      "10/10 [==============================] - 0s 1ms/step\n"
     ]
    },
    {
     "name": "stderr",
     "output_type": "stream",
     "text": [
      "[I 2025-09-17 17:52:42,410] Trial 167 finished with value: 0.0 and parameters: {'learning_rate': 0.0001330395349861009, 'n_l1': 192, 'n_l2': 96, 'n_l3': 16, 'n_l4': 8, 'dropout_rate': 0.0304506869348405, 'activation': 'selu', 'optimizer': 'rmsprop', 'batch_size': 256}. Best is trial 87 with value: 0.5542168674698795.\n"
     ]
    },
    {
     "name": "stdout",
     "output_type": "stream",
     "text": [
      "10/10 [==============================] - 0s 1ms/step\n"
     ]
    },
    {
     "name": "stderr",
     "output_type": "stream",
     "text": [
      "[I 2025-09-17 17:52:45,928] Trial 168 finished with value: 0.375 and parameters: {'learning_rate': 7.356410508991111e-05, 'n_l1': 96, 'n_l2': 64, 'n_l3': 32, 'n_l4': 16, 'dropout_rate': 0.012729994898871867, 'activation': 'selu', 'optimizer': 'adam', 'batch_size': 128}. Best is trial 87 with value: 0.5542168674698795.\n"
     ]
    },
    {
     "name": "stdout",
     "output_type": "stream",
     "text": [
      "10/10 [==============================] - 0s 2ms/step\n"
     ]
    },
    {
     "name": "stderr",
     "output_type": "stream",
     "text": [
      "[I 2025-09-17 17:52:52,843] Trial 169 finished with value: 0.025974025974025976 and parameters: {'learning_rate': 9.859351595690461e-05, 'n_l1': 64, 'n_l2': 32, 'n_l3': 32, 'n_l4': 8, 'dropout_rate': 0.023449868769388482, 'activation': 'selu', 'optimizer': 'adam', 'batch_size': 64}. Best is trial 87 with value: 0.5542168674698795.\n"
     ]
    },
    {
     "name": "stdout",
     "output_type": "stream",
     "text": [
      "10/10 [==============================] - 6s 2ms/step\n"
     ]
    },
    {
     "name": "stderr",
     "output_type": "stream",
     "text": [
      "[I 2025-09-17 17:53:01,678] Trial 170 finished with value: 0.0 and parameters: {'learning_rate': 0.00011859798767011672, 'n_l1': 64, 'n_l2': 96, 'n_l3': 128, 'n_l4': 8, 'dropout_rate': 0.040176454359004, 'activation': 'relu', 'optimizer': 'adam', 'batch_size': 256}. Best is trial 87 with value: 0.5542168674698795.\n"
     ]
    },
    {
     "name": "stdout",
     "output_type": "stream",
     "text": [
      "10/10 [==============================] - 0s 2ms/step\n"
     ]
    },
    {
     "name": "stderr",
     "output_type": "stream",
     "text": [
      "[I 2025-09-17 17:52:59,866] Trial 171 finished with value: 0.4583333333333333 and parameters: {'learning_rate': 5.334680612158839e-05, 'n_l1': 64, 'n_l2': 96, 'n_l3': 32, 'n_l4': 8, 'dropout_rate': 0.007864927174369317, 'activation': 'selu', 'optimizer': 'adam', 'batch_size': 256}. Best is trial 87 with value: 0.5542168674698795.\n"
     ]
    },
    {
     "name": "stdout",
     "output_type": "stream",
     "text": [
      "10/10 [==============================] - 0s 2ms/step\n"
     ]
    },
    {
     "name": "stderr",
     "output_type": "stream",
     "text": [
      "[I 2025-09-17 17:53:06,850] Trial 172 finished with value: 0.5026178010471204 and parameters: {'learning_rate': 5.966439832625328e-05, 'n_l1': 64, 'n_l2': 96, 'n_l3': 32, 'n_l4': 8, 'dropout_rate': 0.0014803223491654078, 'activation': 'selu', 'optimizer': 'adam', 'batch_size': 256}. Best is trial 87 with value: 0.5542168674698795.\n"
     ]
    },
    {
     "name": "stdout",
     "output_type": "stream",
     "text": [
      "10/10 [==============================] - 0s 1ms/step\n"
     ]
    },
    {
     "name": "stderr",
     "output_type": "stream",
     "text": [
      "[I 2025-09-17 17:53:11,377] Trial 173 finished with value: 0.5217391304347826 and parameters: {'learning_rate': 6.137681043194627e-05, 'n_l1': 64, 'n_l2': 96, 'n_l3': 32, 'n_l4': 8, 'dropout_rate': 0.000283637082783351, 'activation': 'selu', 'optimizer': 'adam', 'batch_size': 256}. Best is trial 87 with value: 0.5542168674698795.\n"
     ]
    },
    {
     "name": "stdout",
     "output_type": "stream",
     "text": [
      "10/10 [==============================] - 5s 599ms/step\n"
     ]
    },
    {
     "name": "stderr",
     "output_type": "stream",
     "text": [
      "[I 2025-09-17 17:53:21,665] Trial 174 finished with value: 0.5308056872037915 and parameters: {'learning_rate': 6.119551953299227e-05, 'n_l1': 64, 'n_l2': 96, 'n_l3': 32, 'n_l4': 8, 'dropout_rate': 0.0003373770744611068, 'activation': 'selu', 'optimizer': 'adam', 'batch_size': 256}. Best is trial 87 with value: 0.5542168674698795.\n"
     ]
    },
    {
     "name": "stdout",
     "output_type": "stream",
     "text": [
      "10/10 [==============================] - 0s 2ms/step\n"
     ]
    },
    {
     "name": "stderr",
     "output_type": "stream",
     "text": [
      "[I 2025-09-17 17:53:21,173] Trial 175 finished with value: 0.5279187817258884 and parameters: {'learning_rate': 6.10540786775275e-05, 'n_l1': 64, 'n_l2': 96, 'n_l3': 32, 'n_l4': 8, 'dropout_rate': 0.0007220460251504066, 'activation': 'selu', 'optimizer': 'adam', 'batch_size': 256}. Best is trial 87 with value: 0.5542168674698795.\n"
     ]
    },
    {
     "name": "stdout",
     "output_type": "stream",
     "text": [
      "10/10 [==============================] - 0s 2ms/step\n"
     ]
    },
    {
     "name": "stderr",
     "output_type": "stream",
     "text": [
      "[I 2025-09-17 17:53:25,809] Trial 176 finished with value: 0.4657534246575342 and parameters: {'learning_rate': 7.8817578911602e-05, 'n_l1': 64, 'n_l2': 96, 'n_l3': 32, 'n_l4': 8, 'dropout_rate': 0.019281069927940153, 'activation': 'selu', 'optimizer': 'adam', 'batch_size': 256}. Best is trial 87 with value: 0.5542168674698795.\n"
     ]
    },
    {
     "name": "stdout",
     "output_type": "stream",
     "text": [
      "10/10 [==============================] - 0s 2ms/step\n"
     ]
    },
    {
     "name": "stderr",
     "output_type": "stream",
     "text": [
      "[I 2025-09-17 17:53:30,251] Trial 177 finished with value: 0.02564102564102564 and parameters: {'learning_rate': 6.526666230086868e-05, 'n_l1': 64, 'n_l2': 96, 'n_l3': 32, 'n_l4': 8, 'dropout_rate': 0.24589185470526698, 'activation': 'selu', 'optimizer': 'adam', 'batch_size': 256}. Best is trial 87 with value: 0.5542168674698795.\n"
     ]
    },
    {
     "name": "stdout",
     "output_type": "stream",
     "text": [
      "10/10 [==============================] - 0s 2ms/step\n"
     ]
    },
    {
     "name": "stderr",
     "output_type": "stream",
     "text": [
      "[I 2025-09-17 17:53:34,529] Trial 178 finished with value: 0.5217391304347826 and parameters: {'learning_rate': 6.751947793932019e-05, 'n_l1': 64, 'n_l2': 96, 'n_l3': 32, 'n_l4': 8, 'dropout_rate': 0.00015522916423187788, 'activation': 'selu', 'optimizer': 'adam', 'batch_size': 256}. Best is trial 87 with value: 0.5542168674698795.\n"
     ]
    },
    {
     "name": "stdout",
     "output_type": "stream",
     "text": [
      "10/10 [==============================] - 0s 2ms/step\n"
     ]
    },
    {
     "name": "stderr",
     "output_type": "stream",
     "text": [
      "[I 2025-09-17 17:53:37,563] Trial 179 finished with value: 0.41624365482233505 and parameters: {'learning_rate': 6.98457655759639e-05, 'n_l1': 64, 'n_l2': 128, 'n_l3': 32, 'n_l4': 8, 'dropout_rate': 0.0008975096896305546, 'activation': 'selu', 'optimizer': 'rmsprop', 'batch_size': 256}. Best is trial 87 with value: 0.5542168674698795.\n"
     ]
    },
    {
     "name": "stdout",
     "output_type": "stream",
     "text": [
      "10/10 [==============================] - 0s 2ms/step\n"
     ]
    },
    {
     "name": "stderr",
     "output_type": "stream",
     "text": [
      "[I 2025-09-17 17:53:42,188] Trial 180 finished with value: 0.47560975609756095 and parameters: {'learning_rate': 5.79486923697354e-05, 'n_l1': 64, 'n_l2': 96, 'n_l3': 32, 'n_l4': 64, 'dropout_rate': 0.0016621207116394388, 'activation': 'selu', 'optimizer': 'adam', 'batch_size': 256}. Best is trial 87 with value: 0.5542168674698795.\n"
     ]
    },
    {
     "name": "stdout",
     "output_type": "stream",
     "text": [
      "10/10 [==============================] - 0s 3ms/step\n"
     ]
    },
    {
     "name": "stderr",
     "output_type": "stream",
     "text": [
      "[I 2025-09-17 17:53:46,512] Trial 181 finished with value: 0.5425531914893617 and parameters: {'learning_rate': 8.26896325578895e-05, 'n_l1': 64, 'n_l2': 96, 'n_l3': 32, 'n_l4': 8, 'dropout_rate': 0.0006908978397842606, 'activation': 'selu', 'optimizer': 'adam', 'batch_size': 256}. Best is trial 87 with value: 0.5542168674698795.\n"
     ]
    },
    {
     "name": "stdout",
     "output_type": "stream",
     "text": [
      "10/10 [==============================] - 0s 1ms/step\n"
     ]
    },
    {
     "name": "stderr",
     "output_type": "stream",
     "text": [
      "[I 2025-09-17 17:53:49,720] Trial 182 finished with value: 0.3671497584541063 and parameters: {'learning_rate': 8.303864975236308e-05, 'n_l1': 64, 'n_l2': 96, 'n_l3': 32, 'n_l4': 8, 'dropout_rate': 0.017134446075363245, 'activation': 'selu', 'optimizer': 'adam', 'batch_size': 256}. Best is trial 87 with value: 0.5542168674698795.\n"
     ]
    },
    {
     "name": "stdout",
     "output_type": "stream",
     "text": [
      "10/10 [==============================] - 0s 1ms/step\n"
     ]
    },
    {
     "name": "stderr",
     "output_type": "stream",
     "text": [
      "[I 2025-09-17 17:53:53,702] Trial 183 finished with value: 0.5348837209302325 and parameters: {'learning_rate': 0.00010857606416623752, 'n_l1': 64, 'n_l2': 96, 'n_l3': 32, 'n_l4': 8, 'dropout_rate': 0.009672239690407763, 'activation': 'selu', 'optimizer': 'adam', 'batch_size': 256}. Best is trial 87 with value: 0.5542168674698795.\n"
     ]
    },
    {
     "name": "stdout",
     "output_type": "stream",
     "text": [
      "10/10 [==============================] - 0s 1ms/step\n"
     ]
    },
    {
     "name": "stderr",
     "output_type": "stream",
     "text": [
      "[I 2025-09-17 17:53:56,119] Trial 184 finished with value: 0.47804878048780486 and parameters: {'learning_rate': 0.0001072955554540983, 'n_l1': 64, 'n_l2': 96, 'n_l3': 32, 'n_l4': 8, 'dropout_rate': 6.844247318456227e-05, 'activation': 'selu', 'optimizer': 'adam', 'batch_size': 256}. Best is trial 87 with value: 0.5542168674698795.\n"
     ]
    },
    {
     "name": "stdout",
     "output_type": "stream",
     "text": [
      "10/10 [==============================] - 0s 2ms/step\n"
     ]
    },
    {
     "name": "stderr",
     "output_type": "stream",
     "text": [
      "[I 2025-09-17 17:53:59,661] Trial 185 finished with value: 0.47058823529411764 and parameters: {'learning_rate': 9.045087870005178e-05, 'n_l1': 64, 'n_l2': 96, 'n_l3': 32, 'n_l4': 8, 'dropout_rate': 0.024993489356240677, 'activation': 'selu', 'optimizer': 'adam', 'batch_size': 256}. Best is trial 87 with value: 0.5542168674698795.\n"
     ]
    },
    {
     "name": "stdout",
     "output_type": "stream",
     "text": [
      "10/10 [==============================] - 0s 2ms/step\n"
     ]
    },
    {
     "name": "stderr",
     "output_type": "stream",
     "text": [
      "[I 2025-09-17 17:54:03,550] Trial 186 finished with value: 0.5222222222222223 and parameters: {'learning_rate': 0.00011033592895201204, 'n_l1': 64, 'n_l2': 96, 'n_l3': 32, 'n_l4': 8, 'dropout_rate': 0.012329782371006388, 'activation': 'selu', 'optimizer': 'adam', 'batch_size': 256}. Best is trial 87 with value: 0.5542168674698795.\n"
     ]
    },
    {
     "name": "stdout",
     "output_type": "stream",
     "text": [
      "10/10 [==============================] - 0s 2ms/step\n"
     ]
    },
    {
     "name": "stderr",
     "output_type": "stream",
     "text": [
      "[I 2025-09-17 17:54:06,217] Trial 187 finished with value: 0.37142857142857144 and parameters: {'learning_rate': 9.673292536476638e-05, 'n_l1': 64, 'n_l2': 96, 'n_l3': 32, 'n_l4': 8, 'dropout_rate': 0.016612015264745893, 'activation': 'selu', 'optimizer': 'adam', 'batch_size': 256}. Best is trial 87 with value: 0.5542168674698795.\n"
     ]
    },
    {
     "name": "stdout",
     "output_type": "stream",
     "text": [
      "10/10 [==============================] - 0s 1ms/step\n"
     ]
    },
    {
     "name": "stderr",
     "output_type": "stream",
     "text": [
      "[I 2025-09-17 17:54:10,287] Trial 188 finished with value: 0.0 and parameters: {'learning_rate': 0.00011237049184626582, 'n_l1': 64, 'n_l2': 96, 'n_l3': 32, 'n_l4': 8, 'dropout_rate': 0.03199472809962903, 'activation': 'selu', 'optimizer': 'adam', 'batch_size': 256}. Best is trial 87 with value: 0.5542168674698795.\n"
     ]
    },
    {
     "name": "stdout",
     "output_type": "stream",
     "text": [
      "10/10 [==============================] - 0s 2ms/step\n"
     ]
    },
    {
     "name": "stderr",
     "output_type": "stream",
     "text": [
      "[I 2025-09-17 17:54:13,390] Trial 189 finished with value: 0.2857142857142857 and parameters: {'learning_rate': 8.033080284835291e-05, 'n_l1': 256, 'n_l2': 96, 'n_l3': 32, 'n_l4': 8, 'dropout_rate': 0.012783574889678052, 'activation': 'selu', 'optimizer': 'adam', 'batch_size': 256}. Best is trial 87 with value: 0.5542168674698795.\n"
     ]
    },
    {
     "name": "stdout",
     "output_type": "stream",
     "text": [
      "10/10 [==============================] - 0s 2ms/step\n"
     ]
    },
    {
     "name": "stderr",
     "output_type": "stream",
     "text": [
      "[I 2025-09-17 17:54:17,409] Trial 190 finished with value: 0.5303867403314917 and parameters: {'learning_rate': 6.995335236082334e-05, 'n_l1': 64, 'n_l2': 96, 'n_l3': 32, 'n_l4': 8, 'dropout_rate': 2.7120671001562132e-05, 'activation': 'selu', 'optimizer': 'adam', 'batch_size': 256}. Best is trial 87 with value: 0.5542168674698795.\n"
     ]
    },
    {
     "name": "stdout",
     "output_type": "stream",
     "text": [
      "10/10 [==============================] - 0s 2ms/step\n"
     ]
    },
    {
     "name": "stderr",
     "output_type": "stream",
     "text": [
      "[I 2025-09-17 17:54:20,737] Trial 191 finished with value: 0.40217391304347827 and parameters: {'learning_rate': 6.91697336652749e-05, 'n_l1': 64, 'n_l2': 96, 'n_l3': 32, 'n_l4': 8, 'dropout_rate': 0.010584723248436005, 'activation': 'selu', 'optimizer': 'adam', 'batch_size': 256}. Best is trial 87 with value: 0.5542168674698795.\n"
     ]
    },
    {
     "name": "stdout",
     "output_type": "stream",
     "text": [
      "10/10 [==============================] - 0s 2ms/step\n"
     ]
    },
    {
     "name": "stderr",
     "output_type": "stream",
     "text": [
      "[I 2025-09-17 17:54:23,731] Trial 192 finished with value: 0.5 and parameters: {'learning_rate': 8.448023186063923e-05, 'n_l1': 64, 'n_l2': 96, 'n_l3': 32, 'n_l4': 8, 'dropout_rate': 0.009987590029860823, 'activation': 'selu', 'optimizer': 'adam', 'batch_size': 256}. Best is trial 87 with value: 0.5542168674698795.\n"
     ]
    },
    {
     "name": "stdout",
     "output_type": "stream",
     "text": [
      "10/10 [==============================] - 0s 2ms/step\n"
     ]
    },
    {
     "name": "stderr",
     "output_type": "stream",
     "text": [
      "[I 2025-09-17 17:54:27,656] Trial 193 finished with value: 0.5347593582887701 and parameters: {'learning_rate': 0.00010341612094419048, 'n_l1': 64, 'n_l2': 96, 'n_l3': 32, 'n_l4': 8, 'dropout_rate': 0.0008396876532049697, 'activation': 'selu', 'optimizer': 'adam', 'batch_size': 256}. Best is trial 87 with value: 0.5542168674698795.\n"
     ]
    },
    {
     "name": "stdout",
     "output_type": "stream",
     "text": [
      "10/10 [==============================] - 0s 3ms/step\n"
     ]
    },
    {
     "name": "stderr",
     "output_type": "stream",
     "text": [
      "[I 2025-09-17 17:54:31,525] Trial 194 finished with value: 0.5798816568047337 and parameters: {'learning_rate': 0.0001004810020060646, 'n_l1': 64, 'n_l2': 96, 'n_l3': 32, 'n_l4': 8, 'dropout_rate': 0.008705781106813646, 'activation': 'selu', 'optimizer': 'adam', 'batch_size': 256}. Best is trial 194 with value: 0.5798816568047337.\n"
     ]
    },
    {
     "name": "stdout",
     "output_type": "stream",
     "text": [
      "10/10 [==============================] - 0s 2ms/step\n"
     ]
    },
    {
     "name": "stderr",
     "output_type": "stream",
     "text": [
      "[I 2025-09-17 17:54:36,481] Trial 195 finished with value: 0.5632183908045977 and parameters: {'learning_rate': 0.00014030113970516168, 'n_l1': 64, 'n_l2': 96, 'n_l3': 32, 'n_l4': 8, 'dropout_rate': 0.00046967646881182647, 'activation': 'selu', 'optimizer': 'adam', 'batch_size': 256}. Best is trial 194 with value: 0.5798816568047337.\n"
     ]
    },
    {
     "name": "stdout",
     "output_type": "stream",
     "text": [
      "10/10 [==============================] - 0s 2ms/step\n"
     ]
    },
    {
     "name": "stderr",
     "output_type": "stream",
     "text": [
      "[I 2025-09-17 17:54:39,892] Trial 196 finished with value: 0.0 and parameters: {'learning_rate': 0.00014358130130987686, 'n_l1': 64, 'n_l2': 96, 'n_l3': 32, 'n_l4': 8, 'dropout_rate': 0.023426741101120217, 'activation': 'selu', 'optimizer': 'adam', 'batch_size': 256}. Best is trial 194 with value: 0.5798816568047337.\n"
     ]
    },
    {
     "name": "stdout",
     "output_type": "stream",
     "text": [
      "10/10 [==============================] - 0s 2ms/step\n"
     ]
    },
    {
     "name": "stderr",
     "output_type": "stream",
     "text": [
      "[I 2025-09-17 17:54:42,746] Trial 197 finished with value: 0.48863636363636365 and parameters: {'learning_rate': 0.0001227793587586772, 'n_l1': 64, 'n_l2': 96, 'n_l3': 32, 'n_l4': 8, 'dropout_rate': 0.018856732020547762, 'activation': 'selu', 'optimizer': 'adam', 'batch_size': 256}. Best is trial 194 with value: 0.5798816568047337.\n"
     ]
    },
    {
     "name": "stdout",
     "output_type": "stream",
     "text": [
      "10/10 [==============================] - 0s 1ms/step\n"
     ]
    },
    {
     "name": "stderr",
     "output_type": "stream",
     "text": [
      "[I 2025-09-17 17:54:46,547] Trial 198 finished with value: 0.5227272727272727 and parameters: {'learning_rate': 0.00010426372591804178, 'n_l1': 64, 'n_l2': 96, 'n_l3': 32, 'n_l4': 8, 'dropout_rate': 0.010783381340124677, 'activation': 'selu', 'optimizer': 'adam', 'batch_size': 256}. Best is trial 194 with value: 0.5798816568047337.\n"
     ]
    },
    {
     "name": "stdout",
     "output_type": "stream",
     "text": [
      "10/10 [==============================] - 0s 1ms/step\n"
     ]
    },
    {
     "name": "stderr",
     "output_type": "stream",
     "text": [
      "[I 2025-09-17 17:54:50,925] Trial 199 finished with value: 0.0 and parameters: {'learning_rate': 0.00010739495644616865, 'n_l1': 64, 'n_l2': 96, 'n_l3': 32, 'n_l4': 8, 'dropout_rate': 0.030041660484035955, 'activation': 'selu', 'optimizer': 'adam', 'batch_size': 256}. Best is trial 194 with value: 0.5798816568047337.\n"
     ]
    },
    {
     "name": "stdout",
     "output_type": "stream",
     "text": [
      "10/10 [==============================] - 0s 2ms/step\n"
     ]
    },
    {
     "name": "stderr",
     "output_type": "stream",
     "text": [
      "[I 2025-09-17 17:54:54,571] Trial 200 finished with value: 0.5333333333333333 and parameters: {'learning_rate': 0.00013880204650502508, 'n_l1': 64, 'n_l2': 96, 'n_l3': 32, 'n_l4': 8, 'dropout_rate': 0.01036176512493564, 'activation': 'selu', 'optimizer': 'adam', 'batch_size': 256}. Best is trial 194 with value: 0.5798816568047337.\n"
     ]
    },
    {
     "name": "stdout",
     "output_type": "stream",
     "text": [
      "10/10 [==============================] - 0s 2ms/step\n"
     ]
    },
    {
     "name": "stderr",
     "output_type": "stream",
     "text": [
      "[I 2025-09-17 17:54:57,501] Trial 201 finished with value: 0.4971751412429379 and parameters: {'learning_rate': 0.0001315676892623947, 'n_l1': 64, 'n_l2': 96, 'n_l3': 32, 'n_l4': 8, 'dropout_rate': 0.013184463585102852, 'activation': 'selu', 'optimizer': 'adam', 'batch_size': 256}. Best is trial 194 with value: 0.5798816568047337.\n"
     ]
    },
    {
     "name": "stdout",
     "output_type": "stream",
     "text": [
      "10/10 [==============================] - 0s 3ms/step\n"
     ]
    },
    {
     "name": "stderr",
     "output_type": "stream",
     "text": [
      "[I 2025-09-17 17:55:01,366] Trial 202 finished with value: 0.519774011299435 and parameters: {'learning_rate': 0.00016265983803799778, 'n_l1': 64, 'n_l2': 96, 'n_l3': 32, 'n_l4': 8, 'dropout_rate': 0.009311449251974658, 'activation': 'selu', 'optimizer': 'adam', 'batch_size': 256}. Best is trial 194 with value: 0.5798816568047337.\n"
     ]
    },
    {
     "name": "stdout",
     "output_type": "stream",
     "text": [
      "10/10 [==============================] - -6s 2ms/step\n"
     ]
    },
    {
     "name": "stderr",
     "output_type": "stream",
     "text": [
      "[I 2025-09-17 17:55:06,221] Trial 203 finished with value: 0.5930232558139535 and parameters: {'learning_rate': 0.000102413766392232, 'n_l1': 64, 'n_l2': 96, 'n_l3': 32, 'n_l4': 8, 'dropout_rate': 0.008540077597569223, 'activation': 'selu', 'optimizer': 'adam', 'batch_size': 256}. Best is trial 203 with value: 0.5930232558139535.\n"
     ]
    },
    {
     "name": "stdout",
     "output_type": "stream",
     "text": [
      "10/10 [==============================] - 0s 2ms/step\n"
     ]
    },
    {
     "name": "stderr",
     "output_type": "stream",
     "text": [
      "[I 2025-09-17 17:55:10,707] Trial 204 finished with value: 0.5647058823529412 and parameters: {'learning_rate': 0.00010371714269253592, 'n_l1': 64, 'n_l2': 96, 'n_l3': 32, 'n_l4': 8, 'dropout_rate': 0.009444960510544078, 'activation': 'selu', 'optimizer': 'adam', 'batch_size': 256}. Best is trial 203 with value: 0.5930232558139535.\n"
     ]
    },
    {
     "name": "stdout",
     "output_type": "stream",
     "text": [
      "10/10 [==============================] - 0s 2ms/step\n"
     ]
    },
    {
     "name": "stderr",
     "output_type": "stream",
     "text": [
      "[I 2025-09-17 17:55:16,886] Trial 205 finished with value: 0.5617977528089888 and parameters: {'learning_rate': 0.00010374606053113522, 'n_l1': 64, 'n_l2': 96, 'n_l3': 32, 'n_l4': 8, 'dropout_rate': 0.009898004211893952, 'activation': 'selu', 'optimizer': 'adam', 'batch_size': 256}. Best is trial 203 with value: 0.5930232558139535.\n"
     ]
    },
    {
     "name": "stdout",
     "output_type": "stream",
     "text": [
      "10/10 [==============================] - 0s 2ms/step\n"
     ]
    },
    {
     "name": "stderr",
     "output_type": "stream",
     "text": [
      "[I 2025-09-17 17:55:20,756] Trial 206 finished with value: 0.48366013071895425 and parameters: {'learning_rate': 0.00010578414533468544, 'n_l1': 64, 'n_l2': 96, 'n_l3': 32, 'n_l4': 8, 'dropout_rate': 0.021634691032421622, 'activation': 'selu', 'optimizer': 'adam', 'batch_size': 256}. Best is trial 203 with value: 0.5930232558139535.\n"
     ]
    },
    {
     "name": "stdout",
     "output_type": "stream",
     "text": [
      "10/10 [==============================] - 0s 2ms/step\n"
     ]
    },
    {
     "name": "stderr",
     "output_type": "stream",
     "text": [
      "[I 2025-09-17 17:55:24,532] Trial 207 finished with value: 0.5632183908045977 and parameters: {'learning_rate': 0.00012358467754937816, 'n_l1': 64, 'n_l2': 96, 'n_l3': 32, 'n_l4': 8, 'dropout_rate': 0.009643388750825935, 'activation': 'selu', 'optimizer': 'adam', 'batch_size': 256}. Best is trial 203 with value: 0.5930232558139535.\n"
     ]
    },
    {
     "name": "stdout",
     "output_type": "stream",
     "text": [
      "10/10 [==============================] - 0s 2ms/step\n"
     ]
    },
    {
     "name": "stderr",
     "output_type": "stream",
     "text": [
      "[I 2025-09-17 17:55:29,002] Trial 208 finished with value: 0.0 and parameters: {'learning_rate': 0.0001194571463554897, 'n_l1': 64, 'n_l2': 96, 'n_l3': 32, 'n_l4': 8, 'dropout_rate': 0.033373312295366275, 'activation': 'selu', 'optimizer': 'adam', 'batch_size': 256}. Best is trial 203 with value: 0.5930232558139535.\n"
     ]
    },
    {
     "name": "stdout",
     "output_type": "stream",
     "text": [
      "10/10 [==============================] - 0s 2ms/step\n"
     ]
    },
    {
     "name": "stderr",
     "output_type": "stream",
     "text": [
      "[I 2025-09-17 17:55:33,528] Trial 209 finished with value: 0.3821656050955414 and parameters: {'learning_rate': 0.00010064323737924065, 'n_l1': 64, 'n_l2': 96, 'n_l3': 32, 'n_l4': 8, 'dropout_rate': 0.01210151547482525, 'activation': 'tanh', 'optimizer': 'adam', 'batch_size': 256}. Best is trial 203 with value: 0.5930232558139535.\n"
     ]
    },
    {
     "name": "stdout",
     "output_type": "stream",
     "text": [
      "10/10 [==============================] - 0s 2ms/step\n"
     ]
    },
    {
     "name": "stderr",
     "output_type": "stream",
     "text": [
      "[I 2025-09-17 17:55:36,237] Trial 210 finished with value: 0.32051282051282054 and parameters: {'learning_rate': 0.00012984358224721578, 'n_l1': 64, 'n_l2': 128, 'n_l3': 32, 'n_l4': 8, 'dropout_rate': 0.018908884890930212, 'activation': 'selu', 'optimizer': 'adam', 'batch_size': 256}. Best is trial 203 with value: 0.5930232558139535.\n"
     ]
    },
    {
     "name": "stdout",
     "output_type": "stream",
     "text": [
      "10/10 [==============================] - 0s 2ms/step\n"
     ]
    },
    {
     "name": "stderr",
     "output_type": "stream",
     "text": [
      "[I 2025-09-17 17:55:40,453] Trial 211 finished with value: 0.5632183908045977 and parameters: {'learning_rate': 0.00010400458390267678, 'n_l1': 64, 'n_l2': 96, 'n_l3': 32, 'n_l4': 8, 'dropout_rate': 0.009522703823307149, 'activation': 'selu', 'optimizer': 'adam', 'batch_size': 256}. Best is trial 203 with value: 0.5930232558139535.\n"
     ]
    },
    {
     "name": "stdout",
     "output_type": "stream",
     "text": [
      "10/10 [==============================] - 0s 2ms/step\n"
     ]
    },
    {
     "name": "stderr",
     "output_type": "stream",
     "text": [
      "[I 2025-09-17 17:55:44,729] Trial 212 finished with value: 0.5485714285714286 and parameters: {'learning_rate': 0.0001004673844302554, 'n_l1': 64, 'n_l2': 96, 'n_l3': 32, 'n_l4': 8, 'dropout_rate': 0.010554344831180354, 'activation': 'selu', 'optimizer': 'adam', 'batch_size': 256}. Best is trial 203 with value: 0.5930232558139535.\n"
     ]
    },
    {
     "name": "stdout",
     "output_type": "stream",
     "text": [
      "10/10 [==============================] - 0s 2ms/step\n"
     ]
    },
    {
     "name": "stderr",
     "output_type": "stream",
     "text": [
      "[I 2025-09-17 17:55:47,912] Trial 213 finished with value: 0.4419889502762431 and parameters: {'learning_rate': 9.503378587226804e-05, 'n_l1': 64, 'n_l2': 96, 'n_l3': 32, 'n_l4': 8, 'dropout_rate': 0.007845155848194871, 'activation': 'selu', 'optimizer': 'adam', 'batch_size': 256}. Best is trial 203 with value: 0.5930232558139535.\n"
     ]
    },
    {
     "name": "stdout",
     "output_type": "stream",
     "text": [
      "10/10 [==============================] - 0s 2ms/step\n"
     ]
    },
    {
     "name": "stderr",
     "output_type": "stream",
     "text": [
      "[I 2025-09-17 17:55:52,527] Trial 214 finished with value: 0.0 and parameters: {'learning_rate': 0.00011969828271447365, 'n_l1': 64, 'n_l2': 96, 'n_l3': 32, 'n_l4': 8, 'dropout_rate': 0.026905316152784593, 'activation': 'selu', 'optimizer': 'adam', 'batch_size': 256}. Best is trial 203 with value: 0.5930232558139535.\n"
     ]
    },
    {
     "name": "stdout",
     "output_type": "stream",
     "text": [
      "10/10 [==============================] - 0s 2ms/step\n"
     ]
    },
    {
     "name": "stderr",
     "output_type": "stream",
     "text": [
      "[I 2025-09-17 17:55:56,749] Trial 215 finished with value: 0.5310734463276836 and parameters: {'learning_rate': 9.867751896858584e-05, 'n_l1': 64, 'n_l2': 96, 'n_l3': 32, 'n_l4': 8, 'dropout_rate': 0.01283439054706041, 'activation': 'selu', 'optimizer': 'adam', 'batch_size': 256}. Best is trial 203 with value: 0.5930232558139535.\n"
     ]
    },
    {
     "name": "stdout",
     "output_type": "stream",
     "text": [
      "10/10 [==============================] - 5s 2ms/step\n"
     ]
    },
    {
     "name": "stderr",
     "output_type": "stream",
     "text": [
      "[I 2025-09-17 17:56:06,833] Trial 216 finished with value: 0.0 and parameters: {'learning_rate': 9.11168148259156e-05, 'n_l1': 64, 'n_l2': 96, 'n_l3': 32, 'n_l4': 8, 'dropout_rate': 0.02016712475980133, 'activation': 'selu', 'optimizer': 'adam', 'batch_size': 256}. Best is trial 203 with value: 0.5930232558139535.\n"
     ]
    },
    {
     "name": "stdout",
     "output_type": "stream",
     "text": [
      "10/10 [==============================] - 0s 2ms/step\n"
     ]
    },
    {
     "name": "stderr",
     "output_type": "stream",
     "text": [
      "[I 2025-09-17 17:56:06,066] Trial 217 finished with value: 0.0 and parameters: {'learning_rate': 0.0001385194953937304, 'n_l1': 64, 'n_l2': 96, 'n_l3': 32, 'n_l4': 8, 'dropout_rate': 0.22194883123075318, 'activation': 'selu', 'optimizer': 'adam', 'batch_size': 256}. Best is trial 203 with value: 0.5930232558139535.\n"
     ]
    },
    {
     "name": "stdout",
     "output_type": "stream",
     "text": [
      "10/10 [==============================] - 0s 2ms/step\n"
     ]
    },
    {
     "name": "stderr",
     "output_type": "stream",
     "text": [
      "[I 2025-09-17 17:56:10,388] Trial 218 finished with value: 0.5245901639344263 and parameters: {'learning_rate': 9.838486046298652e-05, 'n_l1': 64, 'n_l2': 96, 'n_l3': 32, 'n_l4': 8, 'dropout_rate': 0.00035370127791841234, 'activation': 'selu', 'optimizer': 'adam', 'batch_size': 256}. Best is trial 203 with value: 0.5930232558139535.\n"
     ]
    },
    {
     "name": "stdout",
     "output_type": "stream",
     "text": [
      "10/10 [==============================] - 0s 2ms/step\n"
     ]
    },
    {
     "name": "stderr",
     "output_type": "stream",
     "text": [
      "[I 2025-09-17 17:56:14,268] Trial 219 finished with value: 0.0 and parameters: {'learning_rate': 0.0001171748873250715, 'n_l1': 64, 'n_l2': 96, 'n_l3': 32, 'n_l4': 8, 'dropout_rate': 0.009221592625424404, 'activation': 'selu', 'optimizer': 'sgd', 'batch_size': 256}. Best is trial 203 with value: 0.5930232558139535.\n"
     ]
    },
    {
     "name": "stdout",
     "output_type": "stream",
     "text": [
      "10/10 [==============================] - 0s 2ms/step\n"
     ]
    },
    {
     "name": "stderr",
     "output_type": "stream",
     "text": [
      "[I 2025-09-17 17:56:18,546] Trial 220 finished with value: 0.0 and parameters: {'learning_rate': 8.350503460354459e-05, 'n_l1': 64, 'n_l2': 96, 'n_l3': 32, 'n_l4': 8, 'dropout_rate': 0.03542568289920634, 'activation': 'selu', 'optimizer': 'adam', 'batch_size': 256}. Best is trial 203 with value: 0.5930232558139535.\n"
     ]
    },
    {
     "name": "stdout",
     "output_type": "stream",
     "text": [
      "10/10 [==============================] - 0s 1ms/step\n"
     ]
    },
    {
     "name": "stderr",
     "output_type": "stream",
     "text": [
      "[I 2025-09-17 17:56:23,117] Trial 221 finished with value: 0.42953020134228187 and parameters: {'learning_rate': 0.00010011481006789064, 'n_l1': 64, 'n_l2': 256, 'n_l3': 32, 'n_l4': 8, 'dropout_rate': 0.0002912472292893037, 'activation': 'selu', 'optimizer': 'adam', 'batch_size': 256}. Best is trial 203 with value: 0.5930232558139535.\n"
     ]
    },
    {
     "name": "stdout",
     "output_type": "stream",
     "text": [
      "10/10 [==============================] - 0s 2ms/step\n"
     ]
    },
    {
     "name": "stderr",
     "output_type": "stream",
     "text": [
      "[I 2025-09-17 17:56:27,073] Trial 222 finished with value: 0.0 and parameters: {'learning_rate': 9.443679379985818e-05, 'n_l1': 64, 'n_l2': 96, 'n_l3': 32, 'n_l4': 8, 'dropout_rate': 0.36269921460297894, 'activation': 'selu', 'optimizer': 'adam', 'batch_size': 256}. Best is trial 203 with value: 0.5930232558139535.\n"
     ]
    },
    {
     "name": "stdout",
     "output_type": "stream",
     "text": [
      "10/10 [==============================] - 0s 1ms/step\n"
     ]
    },
    {
     "name": "stderr",
     "output_type": "stream",
     "text": [
      "[I 2025-09-17 17:56:30,684] Trial 223 finished with value: 0.45555555555555555 and parameters: {'learning_rate': 0.00013118127480341696, 'n_l1': 64, 'n_l2': 96, 'n_l3': 32, 'n_l4': 8, 'dropout_rate': 0.011449745805269158, 'activation': 'selu', 'optimizer': 'adam', 'batch_size': 256}. Best is trial 203 with value: 0.5930232558139535.\n"
     ]
    },
    {
     "name": "stdout",
     "output_type": "stream",
     "text": [
      "10/10 [==============================] - 0s 1ms/step\n"
     ]
    },
    {
     "name": "stderr",
     "output_type": "stream",
     "text": [
      "[I 2025-09-17 17:56:33,765] Trial 224 finished with value: 0.5125 and parameters: {'learning_rate': 0.00010836334006211004, 'n_l1': 64, 'n_l2': 96, 'n_l3': 32, 'n_l4': 8, 'dropout_rate': 0.020228211636984586, 'activation': 'selu', 'optimizer': 'adam', 'batch_size': 256}. Best is trial 203 with value: 0.5930232558139535.\n"
     ]
    },
    {
     "name": "stdout",
     "output_type": "stream",
     "text": [
      "10/10 [==============================] - 0s 1ms/step\n"
     ]
    },
    {
     "name": "stderr",
     "output_type": "stream",
     "text": [
      "[I 2025-09-17 17:56:37,587] Trial 225 finished with value: 0.519774011299435 and parameters: {'learning_rate': 8.105414239029172e-05, 'n_l1': 64, 'n_l2': 96, 'n_l3': 32, 'n_l4': 8, 'dropout_rate': 0.00066752779435953, 'activation': 'selu', 'optimizer': 'adam', 'batch_size': 256}. Best is trial 203 with value: 0.5930232558139535.\n"
     ]
    },
    {
     "name": "stdout",
     "output_type": "stream",
     "text": [
      "10/10 [==============================] - 0s 1ms/step\n"
     ]
    },
    {
     "name": "stderr",
     "output_type": "stream",
     "text": [
      "[I 2025-09-17 17:56:46,938] Trial 226 finished with value: 0.5371428571428571 and parameters: {'learning_rate': 9.863444435570247e-05, 'n_l1': 64, 'n_l2': 96, 'n_l3': 32, 'n_l4': 8, 'dropout_rate': 0.01092628662806452, 'activation': 'selu', 'optimizer': 'adam', 'batch_size': 256}. Best is trial 203 with value: 0.5930232558139535.\n"
     ]
    },
    {
     "name": "stdout",
     "output_type": "stream",
     "text": [
      "10/10 [==============================] - 0s 2ms/step\n"
     ]
    },
    {
     "name": "stderr",
     "output_type": "stream",
     "text": [
      "[I 2025-09-17 17:56:45,656] Trial 227 finished with value: 0.0 and parameters: {'learning_rate': 0.00014445969221711487, 'n_l1': 64, 'n_l2': 96, 'n_l3': 32, 'n_l4': 8, 'dropout_rate': 0.02532565217934849, 'activation': 'selu', 'optimizer': 'adam', 'batch_size': 256}. Best is trial 203 with value: 0.5930232558139535.\n"
     ]
    },
    {
     "name": "stdout",
     "output_type": "stream",
     "text": [
      "10/10 [==============================] - 0s 1ms/step\n"
     ]
    },
    {
     "name": "stderr",
     "output_type": "stream",
     "text": [
      "[I 2025-09-17 17:56:48,574] Trial 228 finished with value: 0.5 and parameters: {'learning_rate': 7.573802814350962e-05, 'n_l1': 64, 'n_l2': 96, 'n_l3': 32, 'n_l4': 8, 'dropout_rate': 0.009900917122378783, 'activation': 'selu', 'optimizer': 'adam', 'batch_size': 256}. Best is trial 203 with value: 0.5930232558139535.\n"
     ]
    },
    {
     "name": "stdout",
     "output_type": "stream",
     "text": [
      "10/10 [==============================] - 0s 1ms/step\n"
     ]
    },
    {
     "name": "stderr",
     "output_type": "stream",
     "text": [
      "[I 2025-09-17 17:56:51,593] Trial 229 finished with value: 0.5063291139240507 and parameters: {'learning_rate': 0.0001148726162933071, 'n_l1': 64, 'n_l2': 96, 'n_l3': 32, 'n_l4': 8, 'dropout_rate': 0.017125984277394982, 'activation': 'selu', 'optimizer': 'adam', 'batch_size': 256}. Best is trial 203 with value: 0.5930232558139535.\n"
     ]
    },
    {
     "name": "stdout",
     "output_type": "stream",
     "text": [
      "10/10 [==============================] - 0s 1ms/step\n"
     ]
    },
    {
     "name": "stderr",
     "output_type": "stream",
     "text": [
      "[I 2025-09-17 17:56:55,885] Trial 230 finished with value: 0.5185185185185185 and parameters: {'learning_rate': 8.794911698421636e-05, 'n_l1': 64, 'n_l2': 96, 'n_l3': 32, 'n_l4': 8, 'dropout_rate': 0.008943567490088946, 'activation': 'selu', 'optimizer': 'adam', 'batch_size': 256}. Best is trial 203 with value: 0.5930232558139535.\n"
     ]
    },
    {
     "name": "stdout",
     "output_type": "stream",
     "text": [
      "10/10 [==============================] - 0s 2ms/step\n"
     ]
    },
    {
     "name": "stderr",
     "output_type": "stream",
     "text": [
      "[I 2025-09-17 17:56:59,805] Trial 231 finished with value: 0.5384615384615384 and parameters: {'learning_rate': 9.928865707380345e-05, 'n_l1': 64, 'n_l2': 96, 'n_l3': 32, 'n_l4': 8, 'dropout_rate': 0.0009095550868570938, 'activation': 'selu', 'optimizer': 'adam', 'batch_size': 256}. Best is trial 203 with value: 0.5930232558139535.\n"
     ]
    },
    {
     "name": "stdout",
     "output_type": "stream",
     "text": [
      "10/10 [==============================] - 0s 2ms/step\n"
     ]
    },
    {
     "name": "stderr",
     "output_type": "stream",
     "text": [
      "[I 2025-09-17 17:57:04,567] Trial 232 finished with value: 0.5308641975308642 and parameters: {'learning_rate': 0.00012692919741643508, 'n_l1': 64, 'n_l2': 96, 'n_l3': 32, 'n_l4': 8, 'dropout_rate': 0.008646843227459938, 'activation': 'selu', 'optimizer': 'adam', 'batch_size': 256}. Best is trial 203 with value: 0.5930232558139535.\n"
     ]
    },
    {
     "name": "stdout",
     "output_type": "stream",
     "text": [
      "10/10 [==============================] - 0s 2ms/step\n"
     ]
    },
    {
     "name": "stderr",
     "output_type": "stream",
     "text": [
      "[I 2025-09-17 17:57:07,471] Trial 233 finished with value: 0.5113636363636364 and parameters: {'learning_rate': 0.00013113134699345677, 'n_l1': 64, 'n_l2': 96, 'n_l3': 32, 'n_l4': 8, 'dropout_rate': 0.017644908793972958, 'activation': 'selu', 'optimizer': 'adam', 'batch_size': 256}. Best is trial 203 with value: 0.5930232558139535.\n"
     ]
    },
    {
     "name": "stdout",
     "output_type": "stream",
     "text": [
      "10/10 [==============================] - 0s 2ms/step\n"
     ]
    },
    {
     "name": "stderr",
     "output_type": "stream",
     "text": [
      "[I 2025-09-17 17:57:10,823] Trial 234 finished with value: 0.4692737430167598 and parameters: {'learning_rate': 0.00010710319827741033, 'n_l1': 64, 'n_l2': 96, 'n_l3': 32, 'n_l4': 8, 'dropout_rate': 0.009977691900665431, 'activation': 'selu', 'optimizer': 'adam', 'batch_size': 256}. Best is trial 203 with value: 0.5930232558139535.\n"
     ]
    },
    {
     "name": "stdout",
     "output_type": "stream",
     "text": [
      "10/10 [==============================] - 0s 2ms/step\n"
     ]
    },
    {
     "name": "stderr",
     "output_type": "stream",
     "text": [
      "[I 2025-09-17 17:57:14,875] Trial 235 finished with value: 0.0 and parameters: {'learning_rate': 0.00012204981110678118, 'n_l1': 64, 'n_l2': 96, 'n_l3': 32, 'n_l4': 8, 'dropout_rate': 0.028248369494821655, 'activation': 'selu', 'optimizer': 'adam', 'batch_size': 256}. Best is trial 203 with value: 0.5930232558139535.\n"
     ]
    },
    {
     "name": "stdout",
     "output_type": "stream",
     "text": [
      "10/10 [==============================] - 0s 2ms/step\n"
     ]
    },
    {
     "name": "stderr",
     "output_type": "stream",
     "text": [
      "[I 2025-09-17 17:57:18,078] Trial 236 finished with value: 0.5084745762711864 and parameters: {'learning_rate': 0.00015094450792622853, 'n_l1': 64, 'n_l2': 96, 'n_l3': 32, 'n_l4': 8, 'dropout_rate': 0.010702272264501786, 'activation': 'selu', 'optimizer': 'adam', 'batch_size': 256}. Best is trial 203 with value: 0.5930232558139535.\n"
     ]
    },
    {
     "name": "stdout",
     "output_type": "stream",
     "text": [
      "10/10 [==============================] - 0s 2ms/step\n"
     ]
    },
    {
     "name": "stderr",
     "output_type": "stream",
     "text": [
      "[I 2025-09-17 17:57:22,233] Trial 237 finished with value: 0.0 and parameters: {'learning_rate': 9.822844584157259e-05, 'n_l1': 64, 'n_l2': 96, 'n_l3': 32, 'n_l4': 8, 'dropout_rate': 0.019131209804714094, 'activation': 'selu', 'optimizer': 'adam', 'batch_size': 256}. Best is trial 203 with value: 0.5930232558139535.\n"
     ]
    },
    {
     "name": "stdout",
     "output_type": "stream",
     "text": [
      "10/10 [==============================] - 0s 3ms/step\n"
     ]
    },
    {
     "name": "stderr",
     "output_type": "stream",
     "text": [
      "[I 2025-09-17 17:57:26,652] Trial 238 finished with value: 0.5052631578947369 and parameters: {'learning_rate': 8.913233197923467e-05, 'n_l1': 64, 'n_l2': 96, 'n_l3': 32, 'n_l4': 8, 'dropout_rate': 0.0007098649186835469, 'activation': 'selu', 'optimizer': 'adam', 'batch_size': 256}. Best is trial 203 with value: 0.5930232558139535.\n"
     ]
    },
    {
     "name": "stdout",
     "output_type": "stream",
     "text": [
      "10/10 [==============================] - 0s 2ms/step\n"
     ]
    },
    {
     "name": "stderr",
     "output_type": "stream",
     "text": [
      "[I 2025-09-17 17:57:30,220] Trial 239 finished with value: 0.5202312138728323 and parameters: {'learning_rate': 0.00011804820330563852, 'n_l1': 64, 'n_l2': 96, 'n_l3': 32, 'n_l4': 8, 'dropout_rate': 0.009625449635314805, 'activation': 'selu', 'optimizer': 'adam', 'batch_size': 256}. Best is trial 203 with value: 0.5930232558139535.\n"
     ]
    },
    {
     "name": "stdout",
     "output_type": "stream",
     "text": [
      "10/10 [==============================] - 0s 2ms/step\n"
     ]
    },
    {
     "name": "stderr",
     "output_type": "stream",
     "text": [
      "[I 2025-09-17 17:57:33,546] Trial 240 finished with value: 0.4685714285714286 and parameters: {'learning_rate': 0.00010613377299647272, 'n_l1': 64, 'n_l2': 96, 'n_l3': 32, 'n_l4': 8, 'dropout_rate': 0.02553143359682984, 'activation': 'selu', 'optimizer': 'adam', 'batch_size': 256}. Best is trial 203 with value: 0.5930232558139535.\n"
     ]
    },
    {
     "name": "stdout",
     "output_type": "stream",
     "text": [
      "10/10 [==============================] - 0s 2ms/step\n"
     ]
    },
    {
     "name": "stderr",
     "output_type": "stream",
     "text": [
      "[I 2025-09-17 17:57:36,833] Trial 241 finished with value: 0.47513812154696133 and parameters: {'learning_rate': 7.43845412928697e-05, 'n_l1': 64, 'n_l2': 96, 'n_l3': 32, 'n_l4': 8, 'dropout_rate': 0.007545350771256997, 'activation': 'selu', 'optimizer': 'adam', 'batch_size': 256}. Best is trial 203 with value: 0.5930232558139535.\n"
     ]
    },
    {
     "name": "stdout",
     "output_type": "stream",
     "text": [
      "10/10 [==============================] - 5s 2ms/step\n"
     ]
    },
    {
     "name": "stderr",
     "output_type": "stream",
     "text": [
      "[I 2025-09-17 17:57:47,018] Trial 242 finished with value: 0.5079365079365079 and parameters: {'learning_rate': 9.023487125403619e-05, 'n_l1': 64, 'n_l2': 96, 'n_l3': 32, 'n_l4': 8, 'dropout_rate': 0.009723804536039654, 'activation': 'selu', 'optimizer': 'adam', 'batch_size': 256}. Best is trial 203 with value: 0.5930232558139535.\n"
     ]
    },
    {
     "name": "stdout",
     "output_type": "stream",
     "text": [
      "10/10 [==============================] - 0s 2ms/step\n"
     ]
    },
    {
     "name": "stderr",
     "output_type": "stream",
     "text": [
      "[I 2025-09-17 17:57:46,773] Trial 243 finished with value: 0.5057471264367817 and parameters: {'learning_rate': 0.00012499692277550916, 'n_l1': 64, 'n_l2': 96, 'n_l3': 32, 'n_l4': 8, 'dropout_rate': 0.017938267320202195, 'activation': 'selu', 'optimizer': 'adam', 'batch_size': 256}. Best is trial 203 with value: 0.5930232558139535.\n"
     ]
    },
    {
     "name": "stdout",
     "output_type": "stream",
     "text": [
      "10/10 [==============================] - 0s 2ms/step\n"
     ]
    },
    {
     "name": "stderr",
     "output_type": "stream",
     "text": [
      "[I 2025-09-17 17:57:51,605] Trial 244 finished with value: 0.5054945054945055 and parameters: {'learning_rate': 0.00010399654640535447, 'n_l1': 64, 'n_l2': 96, 'n_l3': 32, 'n_l4': 8, 'dropout_rate': 9.043065312142528e-05, 'activation': 'selu', 'optimizer': 'adam', 'batch_size': 256}. Best is trial 203 with value: 0.5930232558139535.\n"
     ]
    },
    {
     "name": "stdout",
     "output_type": "stream",
     "text": [
      "10/10 [==============================] - 0s 2ms/step\n"
     ]
    },
    {
     "name": "stderr",
     "output_type": "stream",
     "text": [
      "[I 2025-09-17 17:57:56,598] Trial 245 finished with value: 0.3157894736842105 and parameters: {'learning_rate': 7.751069581214177e-05, 'n_l1': 64, 'n_l2': 96, 'n_l3': 16, 'n_l4': 8, 'dropout_rate': 0.00820001081089659, 'activation': 'selu', 'optimizer': 'adam', 'batch_size': 256}. Best is trial 203 with value: 0.5930232558139535.\n"
     ]
    },
    {
     "name": "stdout",
     "output_type": "stream",
     "text": [
      "10/10 [==============================] - 0s 2ms/step\n"
     ]
    },
    {
     "name": "stderr",
     "output_type": "stream",
     "text": [
      "[I 2025-09-17 17:58:01,568] Trial 246 finished with value: 0.0 and parameters: {'learning_rate': 0.00015905228857935163, 'n_l1': 64, 'n_l2': 96, 'n_l3': 32, 'n_l4': 8, 'dropout_rate': 0.11337663359344284, 'activation': 'selu', 'optimizer': 'adam', 'batch_size': 256}. Best is trial 203 with value: 0.5930232558139535.\n"
     ]
    },
    {
     "name": "stdout",
     "output_type": "stream",
     "text": [
      "10/10 [==============================] - 0s 2ms/step\n"
     ]
    },
    {
     "name": "stderr",
     "output_type": "stream",
     "text": [
      "[I 2025-09-17 17:58:06,101] Trial 247 finished with value: 0.5 and parameters: {'learning_rate': 0.00013494742770666932, 'n_l1': 64, 'n_l2': 96, 'n_l3': 32, 'n_l4': 8, 'dropout_rate': 0.0002924927697574801, 'activation': 'selu', 'optimizer': 'adam', 'batch_size': 256}. Best is trial 203 with value: 0.5930232558139535.\n"
     ]
    },
    {
     "name": "stdout",
     "output_type": "stream",
     "text": [
      "10/10 [==============================] - 0s 2ms/step\n"
     ]
    },
    {
     "name": "stderr",
     "output_type": "stream",
     "text": [
      "[I 2025-09-17 17:58:10,077] Trial 248 finished with value: 0.3150684931506849 and parameters: {'learning_rate': 9.551025578469723e-05, 'n_l1': 64, 'n_l2': 96, 'n_l3': 32, 'n_l4': 8, 'dropout_rate': 5.6873835532079975e-05, 'activation': 'tanh', 'optimizer': 'adam', 'batch_size': 256}. Best is trial 203 with value: 0.5930232558139535.\n"
     ]
    },
    {
     "name": "stdout",
     "output_type": "stream",
     "text": [
      "10/10 [==============================] - 0s 1ms/step\n"
     ]
    },
    {
     "name": "stderr",
     "output_type": "stream",
     "text": [
      "[I 2025-09-17 17:58:12,898] Trial 249 finished with value: 0.49411764705882355 and parameters: {'learning_rate': 0.00011536274400655883, 'n_l1': 64, 'n_l2': 96, 'n_l3': 32, 'n_l4': 8, 'dropout_rate': 0.017727711745919538, 'activation': 'selu', 'optimizer': 'adam', 'batch_size': 256}. Best is trial 203 with value: 0.5930232558139535.\n"
     ]
    },
    {
     "name": "stdout",
     "output_type": "stream",
     "text": [
      "10/10 [==============================] - 0s 1ms/step\n"
     ]
    },
    {
     "name": "stderr",
     "output_type": "stream",
     "text": [
      "[I 2025-09-17 17:58:15,565] Trial 250 finished with value: 0.3592233009708738 and parameters: {'learning_rate': 8.474627995088656e-05, 'n_l1': 64, 'n_l2': 96, 'n_l3': 32, 'n_l4': 8, 'dropout_rate': 0.017572143810364947, 'activation': 'selu', 'optimizer': 'adam', 'batch_size': 256}. Best is trial 203 with value: 0.5930232558139535.\n"
     ]
    },
    {
     "name": "stdout",
     "output_type": "stream",
     "text": [
      "10/10 [==============================] - 0s 2ms/step\n"
     ]
    },
    {
     "name": "stderr",
     "output_type": "stream",
     "text": [
      "[I 2025-09-17 17:58:18,607] Trial 251 finished with value: 0.4691358024691358 and parameters: {'learning_rate': 7.140900589671478e-05, 'n_l1': 64, 'n_l2': 96, 'n_l3': 32, 'n_l4': 8, 'dropout_rate': 0.030869517978397855, 'activation': 'selu', 'optimizer': 'adam', 'batch_size': 256}. Best is trial 203 with value: 0.5930232558139535.\n"
     ]
    },
    {
     "name": "stdout",
     "output_type": "stream",
     "text": [
      "10/10 [==============================] - 0s 2ms/step\n"
     ]
    },
    {
     "name": "stderr",
     "output_type": "stream",
     "text": [
      "[I 2025-09-17 17:58:22,578] Trial 252 finished with value: 0.45161290322580644 and parameters: {'learning_rate': 0.00010676826420544266, 'n_l1': 64, 'n_l2': 96, 'n_l3': 32, 'n_l4': 8, 'dropout_rate': 0.010625084349878923, 'activation': 'selu', 'optimizer': 'adam', 'batch_size': 256}. Best is trial 203 with value: 0.5930232558139535.\n"
     ]
    },
    {
     "name": "stdout",
     "output_type": "stream",
     "text": [
      "10/10 [==============================] - 0s 1ms/step\n"
     ]
    },
    {
     "name": "stderr",
     "output_type": "stream",
     "text": [
      "[I 2025-09-17 17:58:24,429] Trial 253 finished with value: 0.0 and parameters: {'learning_rate': 0.00014573716932533251, 'n_l1': 64, 'n_l2': 96, 'n_l3': 32, 'n_l4': 8, 'dropout_rate': 0.023893771163487766, 'activation': 'selu', 'optimizer': 'sgd', 'batch_size': 256}. Best is trial 203 with value: 0.5930232558139535.\n"
     ]
    },
    {
     "name": "stdout",
     "output_type": "stream",
     "text": [
      "10/10 [==============================] - 0s 2ms/step\n"
     ]
    },
    {
     "name": "stderr",
     "output_type": "stream",
     "text": [
      "[I 2025-09-17 17:58:28,401] Trial 254 finished with value: 0.5497076023391813 and parameters: {'learning_rate': 9.101323005449492e-05, 'n_l1': 64, 'n_l2': 96, 'n_l3': 32, 'n_l4': 8, 'dropout_rate': 0.008763601815186525, 'activation': 'selu', 'optimizer': 'adam', 'batch_size': 256}. Best is trial 203 with value: 0.5930232558139535.\n"
     ]
    },
    {
     "name": "stdout",
     "output_type": "stream",
     "text": [
      "10/10 [==============================] - 0s 2ms/step\n"
     ]
    },
    {
     "name": "stderr",
     "output_type": "stream",
     "text": [
      "[I 2025-09-17 17:58:32,326] Trial 255 finished with value: 0.0 and parameters: {'learning_rate': 9.359618554438577e-05, 'n_l1': 64, 'n_l2': 128, 'n_l3': 32, 'n_l4': 8, 'dropout_rate': 0.016218760698333057, 'activation': 'selu', 'optimizer': 'adam', 'batch_size': 256}. Best is trial 203 with value: 0.5930232558139535.\n"
     ]
    },
    {
     "name": "stdout",
     "output_type": "stream",
     "text": [
      "10/10 [==============================] - -6s -633142us/step\n"
     ]
    },
    {
     "name": "stderr",
     "output_type": "stream",
     "text": [
      "[I 2025-09-17 17:58:36,464] Trial 256 finished with value: 0.5357142857142857 and parameters: {'learning_rate': 0.00012608183898027436, 'n_l1': 64, 'n_l2': 96, 'n_l3': 32, 'n_l4': 8, 'dropout_rate': 0.008962640658552883, 'activation': 'selu', 'optimizer': 'adam', 'batch_size': 256}. Best is trial 203 with value: 0.5930232558139535.\n"
     ]
    },
    {
     "name": "stdout",
     "output_type": "stream",
     "text": [
      "10/10 [==============================] - 0s 2ms/step\n"
     ]
    },
    {
     "name": "stderr",
     "output_type": "stream",
     "text": [
      "[I 2025-09-17 17:58:41,099] Trial 257 finished with value: 0.0 and parameters: {'learning_rate': 0.00017587774489185814, 'n_l1': 64, 'n_l2': 96, 'n_l3': 32, 'n_l4': 8, 'dropout_rate': 0.028004607505094398, 'activation': 'selu', 'optimizer': 'adam', 'batch_size': 256}. Best is trial 203 with value: 0.5930232558139535.\n"
     ]
    },
    {
     "name": "stdout",
     "output_type": "stream",
     "text": [
      "10/10 [==============================] - 0s 2ms/step\n"
     ]
    },
    {
     "name": "stderr",
     "output_type": "stream",
     "text": [
      "[I 2025-09-17 17:58:45,160] Trial 258 finished with value: 0.0 and parameters: {'learning_rate': 0.00012361416668333556, 'n_l1': 64, 'n_l2': 96, 'n_l3': 32, 'n_l4': 8, 'dropout_rate': 0.03690052963022938, 'activation': 'selu', 'optimizer': 'adam', 'batch_size': 256}. Best is trial 203 with value: 0.5930232558139535.\n"
     ]
    },
    {
     "name": "stdout",
     "output_type": "stream",
     "text": [
      "10/10 [==============================] - 0s 2ms/step\n"
     ]
    },
    {
     "name": "stderr",
     "output_type": "stream",
     "text": [
      "[I 2025-09-17 17:58:47,351] Trial 259 finished with value: 0.02247191011235955 and parameters: {'learning_rate': 0.0018642898470230377, 'n_l1': 64, 'n_l2': 96, 'n_l3': 32, 'n_l4': 8, 'dropout_rate': 0.010318694530788932, 'activation': 'selu', 'optimizer': 'adam', 'batch_size': 256}. Best is trial 203 with value: 0.5930232558139535.\n"
     ]
    },
    {
     "name": "stdout",
     "output_type": "stream",
     "text": [
      "10/10 [==============================] - 0s 2ms/step\n"
     ]
    },
    {
     "name": "stderr",
     "output_type": "stream",
     "text": [
      "[I 2025-09-17 17:58:50,512] Trial 260 finished with value: 0.4880952380952381 and parameters: {'learning_rate': 0.00014008883228081067, 'n_l1': 64, 'n_l2': 96, 'n_l3': 32, 'n_l4': 8, 'dropout_rate': 0.021522556043076832, 'activation': 'selu', 'optimizer': 'adam', 'batch_size': 256}. Best is trial 203 with value: 0.5930232558139535.\n"
     ]
    },
    {
     "name": "stdout",
     "output_type": "stream",
     "text": [
      "10/10 [==============================] - 0s 2ms/step\n"
     ]
    },
    {
     "name": "stderr",
     "output_type": "stream",
     "text": [
      "[I 2025-09-17 17:58:53,165] Trial 261 finished with value: 0.519774011299435 and parameters: {'learning_rate': 0.00011136384852727282, 'n_l1': 64, 'n_l2': 96, 'n_l3': 32, 'n_l4': 8, 'dropout_rate': 0.010206044403616632, 'activation': 'selu', 'optimizer': 'adam', 'batch_size': 256}. Best is trial 203 with value: 0.5930232558139535.\n"
     ]
    },
    {
     "name": "stdout",
     "output_type": "stream",
     "text": [
      "10/10 [==============================] - 0s 1ms/step\n"
     ]
    },
    {
     "name": "stderr",
     "output_type": "stream",
     "text": [
      "[I 2025-09-17 17:58:56,775] Trial 262 finished with value: 0.08421052631578947 and parameters: {'learning_rate': 0.00010150524582595798, 'n_l1': 64, 'n_l2': 96, 'n_l3': 16, 'n_l4': 8, 'dropout_rate': 0.20059522192878032, 'activation': 'selu', 'optimizer': 'adam', 'batch_size': 256}. Best is trial 203 with value: 0.5930232558139535.\n"
     ]
    },
    {
     "name": "stdout",
     "output_type": "stream",
     "text": [
      "10/10 [==============================] - 0s 2ms/step\n"
     ]
    },
    {
     "name": "stderr",
     "output_type": "stream",
     "text": [
      "[I 2025-09-17 17:58:59,983] Trial 263 finished with value: 0.4945054945054945 and parameters: {'learning_rate': 0.00012579679818868682, 'n_l1': 64, 'n_l2': 96, 'n_l3': 32, 'n_l4': 8, 'dropout_rate': 0.017330051674283663, 'activation': 'selu', 'optimizer': 'adam', 'batch_size': 256}. Best is trial 203 with value: 0.5930232558139535.\n"
     ]
    },
    {
     "name": "stdout",
     "output_type": "stream",
     "text": [
      "10/10 [==============================] - 0s 2ms/step\n"
     ]
    },
    {
     "name": "stderr",
     "output_type": "stream",
     "text": [
      "[I 2025-09-17 17:59:04,489] Trial 264 finished with value: 0.4393939393939394 and parameters: {'learning_rate': 8.563797265387042e-05, 'n_l1': 160, 'n_l2': 96, 'n_l3': 32, 'n_l4': 8, 'dropout_rate': 9.714506084731837e-05, 'activation': 'selu', 'optimizer': 'adam', 'batch_size': 256}. Best is trial 203 with value: 0.5930232558139535.\n"
     ]
    },
    {
     "name": "stdout",
     "output_type": "stream",
     "text": [
      "10/10 [==============================] - 0s 2ms/step\n"
     ]
    },
    {
     "name": "stderr",
     "output_type": "stream",
     "text": [
      "[I 2025-09-17 17:59:09,292] Trial 265 finished with value: 0.0 and parameters: {'learning_rate': 0.00015073553561029815, 'n_l1': 128, 'n_l2': 160, 'n_l3': 32, 'n_l4': 8, 'dropout_rate': 0.1487838739639242, 'activation': 'selu', 'optimizer': 'adam', 'batch_size': 256}. Best is trial 203 with value: 0.5930232558139535.\n"
     ]
    },
    {
     "name": "stdout",
     "output_type": "stream",
     "text": [
      "10/10 [==============================] - 0s 1ms/step\n"
     ]
    },
    {
     "name": "stderr",
     "output_type": "stream",
     "text": [
      "[I 2025-09-17 17:59:13,412] Trial 266 finished with value: 0.0 and parameters: {'learning_rate': 0.00011166373553443141, 'n_l1': 64, 'n_l2': 96, 'n_l3': 32, 'n_l4': 8, 'dropout_rate': 0.04041056316194892, 'activation': 'selu', 'optimizer': 'adam', 'batch_size': 256}. Best is trial 203 with value: 0.5930232558139535.\n"
     ]
    },
    {
     "name": "stdout",
     "output_type": "stream",
     "text": [
      "10/10 [==============================] - 0s 2ms/step\n"
     ]
    },
    {
     "name": "stderr",
     "output_type": "stream",
     "text": [
      "[I 2025-09-17 17:59:15,683] Trial 267 finished with value: 0.33766233766233766 and parameters: {'learning_rate': 9.669166261823906e-05, 'n_l1': 64, 'n_l2': 192, 'n_l3': 32, 'n_l4': 8, 'dropout_rate': 0.028536310052863285, 'activation': 'selu', 'optimizer': 'adam', 'batch_size': 256}. Best is trial 203 with value: 0.5930232558139535.\n"
     ]
    },
    {
     "name": "stdout",
     "output_type": "stream",
     "text": [
      "10/10 [==============================] - 0s 3ms/step\n"
     ]
    },
    {
     "name": "stderr",
     "output_type": "stream",
     "text": [
      "[I 2025-09-17 17:59:18,225] Trial 268 finished with value: 0.30434782608695654 and parameters: {'learning_rate': 0.00013054002770002972, 'n_l1': 64, 'n_l2': 224, 'n_l3': 32, 'n_l4': 8, 'dropout_rate': 0.010048535796887591, 'activation': 'selu', 'optimizer': 'adam', 'batch_size': 256}. Best is trial 203 with value: 0.5930232558139535.\n"
     ]
    },
    {
     "name": "stdout",
     "output_type": "stream",
     "text": [
      "10/10 [==============================] - 0s 1ms/step\n"
     ]
    },
    {
     "name": "stderr",
     "output_type": "stream",
     "text": [
      "[I 2025-09-17 17:59:20,381] Trial 269 finished with value: 0.0 and parameters: {'learning_rate': 0.00011809870334951224, 'n_l1': 64, 'n_l2': 128, 'n_l3': 32, 'n_l4': 8, 'dropout_rate': 0.01957979677428457, 'activation': 'tanh', 'optimizer': 'adam', 'batch_size': 256}. Best is trial 203 with value: 0.5930232558139535.\n"
     ]
    },
    {
     "name": "stdout",
     "output_type": "stream",
     "text": [
      "10/10 [==============================] - 0s 2ms/step\n"
     ]
    },
    {
     "name": "stderr",
     "output_type": "stream",
     "text": [
      "[I 2025-09-17 17:59:23,575] Trial 270 finished with value: 0.46408839779005523 and parameters: {'learning_rate': 8.3881952868221e-05, 'n_l1': 64, 'n_l2': 96, 'n_l3': 32, 'n_l4': 8, 'dropout_rate': 0.0086900325711067, 'activation': 'selu', 'optimizer': 'adam', 'batch_size': 256}. Best is trial 203 with value: 0.5930232558139535.\n"
     ]
    },
    {
     "name": "stdout",
     "output_type": "stream",
     "text": [
      "10/10 [==============================] - 0s 1ms/step\n"
     ]
    },
    {
     "name": "stderr",
     "output_type": "stream",
     "text": [
      "[I 2025-09-17 17:59:27,509] Trial 271 finished with value: 0.42028985507246375 and parameters: {'learning_rate': 0.000167695327289302, 'n_l1': 64, 'n_l2': 96, 'n_l3': 32, 'n_l4': 8, 'dropout_rate': 0.00014140759808145017, 'activation': 'selu', 'optimizer': 'adam', 'batch_size': 256}. Best is trial 203 with value: 0.5930232558139535.\n"
     ]
    },
    {
     "name": "stdout",
     "output_type": "stream",
     "text": [
      "10/10 [==============================] - 0s 2ms/step\n"
     ]
    },
    {
     "name": "stderr",
     "output_type": "stream",
     "text": [
      "[I 2025-09-17 17:59:31,053] Trial 272 finished with value: 0.5333333333333333 and parameters: {'learning_rate': 0.00010326816395588778, 'n_l1': 64, 'n_l2': 96, 'n_l3': 32, 'n_l4': 8, 'dropout_rate': 0.02357241791725803, 'activation': 'selu', 'optimizer': 'adam', 'batch_size': 256}. Best is trial 203 with value: 0.5930232558139535.\n"
     ]
    },
    {
     "name": "stdout",
     "output_type": "stream",
     "text": [
      "10/10 [==============================] - 0s 2ms/step\n"
     ]
    },
    {
     "name": "stderr",
     "output_type": "stream",
     "text": [
      "[I 2025-09-17 17:59:33,891] Trial 273 finished with value: 0.4720496894409938 and parameters: {'learning_rate': 0.0001001070255490944, 'n_l1': 64, 'n_l2': 96, 'n_l3': 32, 'n_l4': 8, 'dropout_rate': 0.025534269914050473, 'activation': 'selu', 'optimizer': 'adam', 'batch_size': 256}. Best is trial 203 with value: 0.5930232558139535.\n"
     ]
    },
    {
     "name": "stdout",
     "output_type": "stream",
     "text": [
      "10/10 [==============================] - 0s 1ms/step\n"
     ]
    },
    {
     "name": "stderr",
     "output_type": "stream",
     "text": [
      "[I 2025-09-17 17:59:36,114] Trial 274 finished with value: 0.0 and parameters: {'learning_rate': 0.00011102132071889948, 'n_l1': 64, 'n_l2': 96, 'n_l3': 32, 'n_l4': 8, 'dropout_rate': 0.016583880357663144, 'activation': 'selu', 'optimizer': 'sgd', 'batch_size': 256}. Best is trial 203 with value: 0.5930232558139535.\n"
     ]
    },
    {
     "name": "stdout",
     "output_type": "stream",
     "text": [
      "10/10 [==============================] - 0s 2ms/step\n"
     ]
    },
    {
     "name": "stderr",
     "output_type": "stream",
     "text": [
      "[I 2025-09-17 17:59:39,973] Trial 275 finished with value: 0.0 and parameters: {'learning_rate': 0.00013238797301555214, 'n_l1': 64, 'n_l2': 96, 'n_l3': 32, 'n_l4': 8, 'dropout_rate': 0.031701302868190895, 'activation': 'selu', 'optimizer': 'adam', 'batch_size': 256}. Best is trial 203 with value: 0.5930232558139535.\n"
     ]
    },
    {
     "name": "stdout",
     "output_type": "stream",
     "text": [
      "10/10 [==============================] - 0s 2ms/step\n"
     ]
    },
    {
     "name": "stderr",
     "output_type": "stream",
     "text": [
      "[I 2025-09-17 17:59:44,205] Trial 276 finished with value: 0.0 and parameters: {'learning_rate': 9.275586259302694e-05, 'n_l1': 64, 'n_l2': 96, 'n_l3': 32, 'n_l4': 8, 'dropout_rate': 0.1314302320302845, 'activation': 'selu', 'optimizer': 'adam', 'batch_size': 256}. Best is trial 203 with value: 0.5930232558139535.\n"
     ]
    },
    {
     "name": "stdout",
     "output_type": "stream",
     "text": [
      "10/10 [==============================] - 0s 1ms/step\n"
     ]
    },
    {
     "name": "stderr",
     "output_type": "stream",
     "text": [
      "[I 2025-09-17 17:59:48,127] Trial 277 finished with value: 0.4142857142857143 and parameters: {'learning_rate': 0.00010518840618270701, 'n_l1': 64, 'n_l2': 96, 'n_l3': 16, 'n_l4': 8, 'dropout_rate': 0.01071472336729808, 'activation': 'selu', 'optimizer': 'adam', 'batch_size': 256}. Best is trial 203 with value: 0.5930232558139535.\n"
     ]
    },
    {
     "name": "stdout",
     "output_type": "stream",
     "text": [
      "10/10 [==============================] - 0s 2ms/step\n"
     ]
    },
    {
     "name": "stderr",
     "output_type": "stream",
     "text": [
      "[I 2025-09-17 17:59:52,319] Trial 278 finished with value: 0.0 and parameters: {'learning_rate': 0.00014514930303064484, 'n_l1': 64, 'n_l2': 96, 'n_l3': 32, 'n_l4': 8, 'dropout_rate': 0.019870576250133623, 'activation': 'selu', 'optimizer': 'adam', 'batch_size': 256}. Best is trial 203 with value: 0.5930232558139535.\n"
     ]
    },
    {
     "name": "stdout",
     "output_type": "stream",
     "text": [
      "10/10 [==============================] - 0s 1ms/step\n"
     ]
    },
    {
     "name": "stderr",
     "output_type": "stream",
     "text": [
      "[I 2025-09-17 17:59:54,554] Trial 279 finished with value: 0.23357664233576642 and parameters: {'learning_rate': 8.177134624231878e-05, 'n_l1': 64, 'n_l2': 96, 'n_l3': 32, 'n_l4': 8, 'dropout_rate': 0.045772635051368124, 'activation': 'selu', 'optimizer': 'adam', 'batch_size': 256}. Best is trial 203 with value: 0.5930232558139535.\n"
     ]
    },
    {
     "name": "stdout",
     "output_type": "stream",
     "text": [
      "10/10 [==============================] - 0s 1ms/step\n"
     ]
    },
    {
     "name": "stderr",
     "output_type": "stream",
     "text": [
      "[I 2025-09-17 17:59:57,228] Trial 280 finished with value: 0.4945054945054945 and parameters: {'learning_rate': 0.00011678408648277754, 'n_l1': 64, 'n_l2': 96, 'n_l3': 32, 'n_l4': 8, 'dropout_rate': 0.009633412611529266, 'activation': 'selu', 'optimizer': 'adam', 'batch_size': 256}. Best is trial 203 with value: 0.5930232558139535.\n"
     ]
    },
    {
     "name": "stdout",
     "output_type": "stream",
     "text": [
      "10/10 [==============================] - 0s 1ms/step\n"
     ]
    },
    {
     "name": "stderr",
     "output_type": "stream",
     "text": [
      "[I 2025-09-17 18:00:02,890] Trial 281 finished with value: 0.0 and parameters: {'learning_rate': 9.279726040779973e-05, 'n_l1': 64, 'n_l2': 96, 'n_l3': 32, 'n_l4': 8, 'dropout_rate': 0.024148762687394007, 'activation': 'selu', 'optimizer': 'adam', 'batch_size': 64}. Best is trial 203 with value: 0.5930232558139535.\n"
     ]
    },
    {
     "name": "stdout",
     "output_type": "stream",
     "text": [
      "10/10 [==============================] - 0s 2ms/step\n"
     ]
    },
    {
     "name": "stderr",
     "output_type": "stream",
     "text": [
      "[I 2025-09-17 18:00:06,932] Trial 282 finished with value: 0.0 and parameters: {'learning_rate': 0.00012252484931697286, 'n_l1': 64, 'n_l2': 96, 'n_l3': 32, 'n_l4': 8, 'dropout_rate': 0.034358229132255544, 'activation': 'selu', 'optimizer': 'adam', 'batch_size': 256}. Best is trial 203 with value: 0.5930232558139535.\n"
     ]
    },
    {
     "name": "stdout",
     "output_type": "stream",
     "text": [
      "10/10 [==============================] - 0s 2ms/step\n"
     ]
    },
    {
     "name": "stderr",
     "output_type": "stream",
     "text": [
      "[I 2025-09-17 18:00:10,270] Trial 283 finished with value: 0.4875 and parameters: {'learning_rate': 0.00016389629803103346, 'n_l1': 64, 'n_l2': 128, 'n_l3': 32, 'n_l4': 8, 'dropout_rate': 0.009019228481424692, 'activation': 'selu', 'optimizer': 'adam', 'batch_size': 256}. Best is trial 203 with value: 0.5930232558139535.\n"
     ]
    },
    {
     "name": "stdout",
     "output_type": "stream",
     "text": [
      "10/10 [==============================] - 0s 1ms/step\n"
     ]
    },
    {
     "name": "stderr",
     "output_type": "stream",
     "text": [
      "[I 2025-09-17 18:00:12,374] Trial 284 finished with value: 0.37623762376237624 and parameters: {'learning_rate': 0.00010108482598778802, 'n_l1': 64, 'n_l2': 96, 'n_l3': 32, 'n_l4': 8, 'dropout_rate': 0.016886609789841772, 'activation': 'selu', 'optimizer': 'adam', 'batch_size': 256}. Best is trial 203 with value: 0.5930232558139535.\n"
     ]
    },
    {
     "name": "stdout",
     "output_type": "stream",
     "text": [
      "10/10 [==============================] - 0s 2ms/step\n"
     ]
    },
    {
     "name": "stderr",
     "output_type": "stream",
     "text": [
      "[I 2025-09-17 18:00:16,186] Trial 285 finished with value: 0.5748502994011976 and parameters: {'learning_rate': 0.00013490378599993017, 'n_l1': 64, 'n_l2': 96, 'n_l3': 32, 'n_l4': 8, 'dropout_rate': 0.008231811522384447, 'activation': 'selu', 'optimizer': 'adam', 'batch_size': 256}. Best is trial 203 with value: 0.5930232558139535.\n"
     ]
    },
    {
     "name": "stdout",
     "output_type": "stream",
     "text": [
      "10/10 [==============================] - 0s 1ms/step\n"
     ]
    },
    {
     "name": "stderr",
     "output_type": "stream",
     "text": [
      "[I 2025-09-17 18:00:21,607] Trial 286 finished with value: 0.5853658536585366 and parameters: {'learning_rate': 8.186973364746298e-05, 'n_l1': 64, 'n_l2': 96, 'n_l3': 32, 'n_l4': 8, 'dropout_rate': 5.63238364166916e-05, 'activation': 'selu', 'optimizer': 'adam', 'batch_size': 64}. Best is trial 203 with value: 0.5930232558139535.\n"
     ]
    },
    {
     "name": "stdout",
     "output_type": "stream",
     "text": [
      "10/10 [==============================] - 0s 1ms/step\n"
     ]
    },
    {
     "name": "stderr",
     "output_type": "stream",
     "text": [
      "[I 2025-09-17 18:00:32,333] Trial 287 finished with value: 0.43356643356643354 and parameters: {'learning_rate': 7.874927717506067e-05, 'n_l1': 64, 'n_l2': 96, 'n_l3': 32, 'n_l4': 16, 'dropout_rate': 0.00016953291918644524, 'activation': 'selu', 'optimizer': 'adam', 'batch_size': 64}. Best is trial 203 with value: 0.5930232558139535.\n"
     ]
    },
    {
     "name": "stdout",
     "output_type": "stream",
     "text": [
      "10/10 [==============================] - 0s 2ms/step\n"
     ]
    },
    {
     "name": "stderr",
     "output_type": "stream",
     "text": [
      "[I 2025-09-17 18:00:34,920] Trial 288 finished with value: 0.0 and parameters: {'learning_rate': 8.545888914662983e-05, 'n_l1': 64, 'n_l2': 96, 'n_l3': 32, 'n_l4': 8, 'dropout_rate': 0.02286386321628208, 'activation': 'selu', 'optimizer': 'adam', 'batch_size': 64}. Best is trial 203 with value: 0.5930232558139535.\n"
     ]
    },
    {
     "name": "stdout",
     "output_type": "stream",
     "text": [
      "10/10 [==============================] - 0s 1ms/step\n"
     ]
    },
    {
     "name": "stderr",
     "output_type": "stream",
     "text": [
      "[I 2025-09-17 18:00:38,296] Trial 289 finished with value: 0.5411764705882353 and parameters: {'learning_rate': 7.51317933955009e-05, 'n_l1': 64, 'n_l2': 96, 'n_l3': 32, 'n_l4': 8, 'dropout_rate': 0.007184333180017967, 'activation': 'selu', 'optimizer': 'adam', 'batch_size': 64}. Best is trial 203 with value: 0.5930232558139535.\n"
     ]
    },
    {
     "name": "stdout",
     "output_type": "stream",
     "text": [
      "10/10 [==============================] - 0s 1ms/step\n"
     ]
    },
    {
     "name": "stderr",
     "output_type": "stream",
     "text": [
      "[I 2025-09-17 18:00:41,858] Trial 290 finished with value: 0.0 and parameters: {'learning_rate': 7.41838170386164e-05, 'n_l1': 128, 'n_l2': 96, 'n_l3': 32, 'n_l4': 8, 'dropout_rate': 0.3020310159809088, 'activation': 'selu', 'optimizer': 'adam', 'batch_size': 64}. Best is trial 203 with value: 0.5930232558139535.\n"
     ]
    },
    {
     "name": "stdout",
     "output_type": "stream",
     "text": [
      "10/10 [==============================] - 0s 2ms/step\n"
     ]
    },
    {
     "name": "stderr",
     "output_type": "stream",
     "text": [
      "[I 2025-09-17 18:00:46,874] Trial 291 finished with value: 0.3888888888888889 and parameters: {'learning_rate': 7.68999795663052e-05, 'n_l1': 64, 'n_l2': 96, 'n_l3': 32, 'n_l4': 8, 'dropout_rate': 0.008563212047520433, 'activation': 'tanh', 'optimizer': 'adam', 'batch_size': 64}. Best is trial 203 with value: 0.5930232558139535.\n"
     ]
    },
    {
     "name": "stdout",
     "output_type": "stream",
     "text": [
      "10/10 [==============================] - 0s 2ms/step\n"
     ]
    },
    {
     "name": "stderr",
     "output_type": "stream",
     "text": [
      "[I 2025-09-17 18:00:52,985] Trial 292 finished with value: 0.0 and parameters: {'learning_rate': 0.00014464488930224866, 'n_l1': 64, 'n_l2': 128, 'n_l3': 32, 'n_l4': 8, 'dropout_rate': 0.0076364129645706364, 'activation': 'selu', 'optimizer': 'adam', 'batch_size': 64}. Best is trial 203 with value: 0.5930232558139535.\n"
     ]
    },
    {
     "name": "stdout",
     "output_type": "stream",
     "text": [
      "10/10 [==============================] - 0s 2ms/step\n"
     ]
    },
    {
     "name": "stderr",
     "output_type": "stream",
     "text": [
      "[I 2025-09-17 18:00:58,683] Trial 293 finished with value: 0.5573770491803278 and parameters: {'learning_rate': 8.988015993741462e-05, 'n_l1': 64, 'n_l2': 96, 'n_l3': 32, 'n_l4': 8, 'dropout_rate': 0.0004105989708254181, 'activation': 'selu', 'optimizer': 'adam', 'batch_size': 64}. Best is trial 203 with value: 0.5930232558139535.\n"
     ]
    },
    {
     "name": "stdout",
     "output_type": "stream",
     "text": [
      "10/10 [==============================] - 0s 1ms/step\n"
     ]
    },
    {
     "name": "stderr",
     "output_type": "stream",
     "text": [
      "[I 2025-09-17 18:01:04,641] Trial 294 finished with value: 0.5490196078431373 and parameters: {'learning_rate': 8.805147455088794e-05, 'n_l1': 64, 'n_l2': 96, 'n_l3': 32, 'n_l4': 8, 'dropout_rate': 0.000565990417492251, 'activation': 'selu', 'optimizer': 'adam', 'batch_size': 64}. Best is trial 203 with value: 0.5930232558139535.\n"
     ]
    },
    {
     "name": "stdout",
     "output_type": "stream",
     "text": [
      "10/10 [==============================] - 0s 1ms/step\n"
     ]
    },
    {
     "name": "stderr",
     "output_type": "stream",
     "text": [
      "[I 2025-09-17 18:01:10,306] Trial 295 finished with value: 0.3548387096774194 and parameters: {'learning_rate': 8.859945231685118e-05, 'n_l1': 64, 'n_l2': 96, 'n_l3': 16, 'n_l4': 8, 'dropout_rate': 0.00034690840758481653, 'activation': 'selu', 'optimizer': 'adam', 'batch_size': 64}. Best is trial 203 with value: 0.5930232558139535.\n"
     ]
    },
    {
     "name": "stdout",
     "output_type": "stream",
     "text": [
      "10/10 [==============================] - 0s 2ms/step\n"
     ]
    },
    {
     "name": "stderr",
     "output_type": "stream",
     "text": [
      "[I 2025-09-17 18:01:15,833] Trial 296 finished with value: 0.5359477124183006 and parameters: {'learning_rate': 8.575849560621507e-05, 'n_l1': 224, 'n_l2': 96, 'n_l3': 32, 'n_l4': 8, 'dropout_rate': 0.00010340317792616703, 'activation': 'selu', 'optimizer': 'adam', 'batch_size': 64}. Best is trial 203 with value: 0.5930232558139535.\n"
     ]
    },
    {
     "name": "stdout",
     "output_type": "stream",
     "text": [
      "10/10 [==============================] - 0s 2ms/step\n"
     ]
    },
    {
     "name": "stderr",
     "output_type": "stream",
     "text": [
      "[I 2025-09-17 18:01:19,994] Trial 297 finished with value: 0.0 and parameters: {'learning_rate': 7.397470482035565e-05, 'n_l1': 224, 'n_l2': 96, 'n_l3': 32, 'n_l4': 8, 'dropout_rate': 0.013709919750709783, 'activation': 'relu', 'optimizer': 'adam', 'batch_size': 64}. Best is trial 203 with value: 0.5930232558139535.\n"
     ]
    },
    {
     "name": "stdout",
     "output_type": "stream",
     "text": [
      "10/10 [==============================] - 0s 2ms/step\n"
     ]
    },
    {
     "name": "stderr",
     "output_type": "stream",
     "text": [
      "[I 2025-09-17 18:01:26,749] Trial 298 finished with value: 0.0 and parameters: {'learning_rate': 8.645578558388123e-05, 'n_l1': 256, 'n_l2': 96, 'n_l3': 32, 'n_l4': 8, 'dropout_rate': 0.01679183120310227, 'activation': 'selu', 'optimizer': 'sgd', 'batch_size': 64}. Best is trial 203 with value: 0.5930232558139535.\n"
     ]
    },
    {
     "name": "stdout",
     "output_type": "stream",
     "text": [
      "10/10 [==============================] - 0s 1ms/step\n"
     ]
    },
    {
     "name": "stderr",
     "output_type": "stream",
     "text": [
      "[I 2025-09-17 18:01:31,733] Trial 299 finished with value: 0.5138888888888888 and parameters: {'learning_rate': 6.968022595257761e-05, 'n_l1': 256, 'n_l2': 96, 'n_l3': 32, 'n_l4': 16, 'dropout_rate': 0.0002883846249545675, 'activation': 'selu', 'optimizer': 'adam', 'batch_size': 64}. Best is trial 203 with value: 0.5930232558139535.\n"
     ]
    },
    {
     "name": "stdout",
     "output_type": "stream",
     "text": [
      "10/10 [==============================] - 0s 2ms/step\n"
     ]
    },
    {
     "name": "stderr",
     "output_type": "stream",
     "text": [
      "[I 2025-09-17 18:01:37,884] Trial 300 finished with value: 0.0 and parameters: {'learning_rate': 8.771497084591154e-05, 'n_l1': 224, 'n_l2': 96, 'n_l3': 32, 'n_l4': 8, 'dropout_rate': 0.03587729704859295, 'activation': 'selu', 'optimizer': 'adam', 'batch_size': 64}. Best is trial 203 with value: 0.5930232558139535.\n"
     ]
    },
    {
     "name": "stdout",
     "output_type": "stream",
     "text": [
      "10/10 [==============================] - 0s 2ms/step\n"
     ]
    },
    {
     "name": "stderr",
     "output_type": "stream",
     "text": [
      "[I 2025-09-17 18:01:40,972] Trial 301 finished with value: 0.3302752293577982 and parameters: {'learning_rate': 8.173787699685161e-05, 'n_l1': 160, 'n_l2': 96, 'n_l3': 32, 'n_l4': 8, 'dropout_rate': 0.017730812958306336, 'activation': 'selu', 'optimizer': 'adam', 'batch_size': 64}. Best is trial 203 with value: 0.5930232558139535.\n"
     ]
    },
    {
     "name": "stdout",
     "output_type": "stream",
     "text": [
      "10/10 [==============================] - 0s 2ms/step\n"
     ]
    },
    {
     "name": "stderr",
     "output_type": "stream",
     "text": [
      "[I 2025-09-17 18:01:44,373] Trial 302 finished with value: 0.0 and parameters: {'learning_rate': 0.0009780501833893266, 'n_l1': 64, 'n_l2': 96, 'n_l3': 32, 'n_l4': 8, 'dropout_rate': 0.008673931578628327, 'activation': 'selu', 'optimizer': 'adam', 'batch_size': 64}. Best is trial 203 with value: 0.5930232558139535.\n"
     ]
    },
    {
     "name": "stdout",
     "output_type": "stream",
     "text": [
      "10/10 [==============================] - 0s 1ms/step\n"
     ]
    },
    {
     "name": "stderr",
     "output_type": "stream",
     "text": [
      "[I 2025-09-17 18:01:48,732] Trial 303 finished with value: 0.0 and parameters: {'learning_rate': 0.00039285695948306886, 'n_l1': 64, 'n_l2': 96, 'n_l3': 32, 'n_l4': 8, 'dropout_rate': 0.02711863059739901, 'activation': 'selu', 'optimizer': 'adam', 'batch_size': 64}. Best is trial 203 with value: 0.5930232558139535.\n"
     ]
    },
    {
     "name": "stdout",
     "output_type": "stream",
     "text": [
      "10/10 [==============================] - 0s 2ms/step\n"
     ]
    },
    {
     "name": "stderr",
     "output_type": "stream",
     "text": [
      "[I 2025-09-17 18:01:57,228] Trial 304 finished with value: 0.4375 and parameters: {'learning_rate': 9.448344439243943e-05, 'n_l1': 96, 'n_l2': 96, 'n_l3': 32, 'n_l4': 8, 'dropout_rate': 0.008719464929442079, 'activation': 'selu', 'optimizer': 'adam', 'batch_size': 64}. Best is trial 203 with value: 0.5930232558139535.\n"
     ]
    },
    {
     "name": "stdout",
     "output_type": "stream",
     "text": [
      "10/10 [==============================] - 0s 2ms/step\n"
     ]
    },
    {
     "name": "stderr",
     "output_type": "stream",
     "text": [
      "[I 2025-09-17 18:01:57,957] Trial 305 finished with value: 0.0 and parameters: {'learning_rate': 0.00011250784270006632, 'n_l1': 224, 'n_l2': 96, 'n_l3': 32, 'n_l4': 8, 'dropout_rate': 0.47397907243468174, 'activation': 'selu', 'optimizer': 'adam', 'batch_size': 64}. Best is trial 203 with value: 0.5930232558139535.\n"
     ]
    },
    {
     "name": "stdout",
     "output_type": "stream",
     "text": [
      "10/10 [==============================] - 0s 2ms/step\n"
     ]
    },
    {
     "name": "stderr",
     "output_type": "stream",
     "text": [
      "[I 2025-09-17 18:02:02,929] Trial 306 finished with value: 0.0 and parameters: {'learning_rate': 1.2377362142611778e-05, 'n_l1': 64, 'n_l2': 64, 'n_l3': 32, 'n_l4': 8, 'dropout_rate': 0.25914823229029305, 'activation': 'selu', 'optimizer': 'adam', 'batch_size': 64}. Best is trial 203 with value: 0.5930232558139535.\n"
     ]
    },
    {
     "name": "stdout",
     "output_type": "stream",
     "text": [
      "10/10 [==============================] - 0s 2ms/step\n"
     ]
    },
    {
     "name": "stderr",
     "output_type": "stream",
     "text": [
      "[I 2025-09-17 18:02:08,882] Trial 307 finished with value: 0.5507246376811594 and parameters: {'learning_rate': 7.637565389262971e-05, 'n_l1': 224, 'n_l2': 96, 'n_l3': 32, 'n_l4': 8, 'dropout_rate': 0.00019466644260519687, 'activation': 'selu', 'optimizer': 'adam', 'batch_size': 64}. Best is trial 203 with value: 0.5930232558139535.\n"
     ]
    },
    {
     "name": "stdout",
     "output_type": "stream",
     "text": [
      "10/10 [==============================] - 0s 1ms/step\n"
     ]
    },
    {
     "name": "stderr",
     "output_type": "stream",
     "text": [
      "[I 2025-09-17 18:02:15,719] Trial 308 finished with value: 0.49295774647887325 and parameters: {'learning_rate': 7.443314638522906e-05, 'n_l1': 224, 'n_l2': 96, 'n_l3': 32, 'n_l4': 8, 'dropout_rate': 0.0006266807804150877, 'activation': 'selu', 'optimizer': 'adam', 'batch_size': 64}. Best is trial 203 with value: 0.5930232558139535.\n"
     ]
    },
    {
     "name": "stdout",
     "output_type": "stream",
     "text": [
      "10/10 [==============================] - 0s 2ms/step\n"
     ]
    },
    {
     "name": "stderr",
     "output_type": "stream",
     "text": [
      "[I 2025-09-17 18:02:21,810] Trial 309 finished with value: 0.0 and parameters: {'learning_rate': 6.714799352029559e-05, 'n_l1': 224, 'n_l2': 96, 'n_l3': 48, 'n_l4': 8, 'dropout_rate': 0.01816167162372349, 'activation': 'selu', 'optimizer': 'adam', 'batch_size': 64}. Best is trial 203 with value: 0.5930232558139535.\n"
     ]
    },
    {
     "name": "stdout",
     "output_type": "stream",
     "text": [
      "10/10 [==============================] - 0s 1ms/step\n"
     ]
    },
    {
     "name": "stderr",
     "output_type": "stream",
     "text": [
      "[I 2025-09-17 18:02:26,919] Trial 310 finished with value: 0.46875 and parameters: {'learning_rate': 8.238657075717781e-05, 'n_l1': 224, 'n_l2': 96, 'n_l3': 32, 'n_l4': 8, 'dropout_rate': 0.0003070623883266897, 'activation': 'selu', 'optimizer': 'adam', 'batch_size': 64}. Best is trial 203 with value: 0.5930232558139535.\n"
     ]
    },
    {
     "name": "stdout",
     "output_type": "stream",
     "text": [
      "10/10 [==============================] - 0s 1ms/step\n"
     ]
    },
    {
     "name": "stderr",
     "output_type": "stream",
     "text": [
      "[I 2025-09-17 18:02:33,529] Trial 311 finished with value: 0.0 and parameters: {'learning_rate': 9.374639134387464e-05, 'n_l1': 224, 'n_l2': 128, 'n_l3': 32, 'n_l4': 8, 'dropout_rate': 0.017961492682817874, 'activation': 'selu', 'optimizer': 'adam', 'batch_size': 64}. Best is trial 203 with value: 0.5930232558139535.\n"
     ]
    },
    {
     "name": "stdout",
     "output_type": "stream",
     "text": [
      "10/10 [==============================] - 0s 1ms/step\n"
     ]
    },
    {
     "name": "stderr",
     "output_type": "stream",
     "text": [
      "[I 2025-09-17 18:02:37,736] Trial 312 finished with value: 0.5276073619631901 and parameters: {'learning_rate': 7.012763427178341e-05, 'n_l1': 224, 'n_l2': 96, 'n_l3': 32, 'n_l4': 8, 'dropout_rate': 0.00013346536690725212, 'activation': 'selu', 'optimizer': 'adam', 'batch_size': 64}. Best is trial 203 with value: 0.5930232558139535.\n"
     ]
    },
    {
     "name": "stdout",
     "output_type": "stream",
     "text": [
      "10/10 [==============================] - 0s 2ms/step\n"
     ]
    },
    {
     "name": "stderr",
     "output_type": "stream",
     "text": [
      "[I 2025-09-17 18:02:46,849] Trial 313 finished with value: 0.0 and parameters: {'learning_rate': 7.965067254967526e-05, 'n_l1': 256, 'n_l2': 96, 'n_l3': 32, 'n_l4': 8, 'dropout_rate': 0.0293112520857294, 'activation': 'selu', 'optimizer': 'adam', 'batch_size': 64}. Best is trial 203 with value: 0.5930232558139535.\n"
     ]
    },
    {
     "name": "stdout",
     "output_type": "stream",
     "text": [
      "10/10 [==============================] - 0s 3ms/step\n"
     ]
    },
    {
     "name": "stderr",
     "output_type": "stream",
     "text": [
      "[I 2025-09-17 18:02:53,747] Trial 314 finished with value: 0.0 and parameters: {'learning_rate': 9.51059274627395e-05, 'n_l1': 224, 'n_l2': 64, 'n_l3': 16, 'n_l4': 8, 'dropout_rate': 0.011385112354173233, 'activation': 'selu', 'optimizer': 'adam', 'batch_size': 64}. Best is trial 203 with value: 0.5930232558139535.\n"
     ]
    },
    {
     "name": "stdout",
     "output_type": "stream",
     "text": [
      "10/10 [==============================] - 0s 2ms/step\n"
     ]
    },
    {
     "name": "stderr",
     "output_type": "stream",
     "text": [
      "[I 2025-09-17 18:02:58,360] Trial 315 finished with value: 0.38461538461538464 and parameters: {'learning_rate': 0.00011577050455080596, 'n_l1': 128, 'n_l2': 96, 'n_l3': 32, 'n_l4': 16, 'dropout_rate': 0.09553074448443719, 'activation': 'tanh', 'optimizer': 'adam', 'batch_size': 64}. Best is trial 203 with value: 0.5930232558139535.\n"
     ]
    },
    {
     "name": "stdout",
     "output_type": "stream",
     "text": [
      "10/10 [==============================] - 0s 1ms/step\n"
     ]
    },
    {
     "name": "stderr",
     "output_type": "stream",
     "text": [
      "[I 2025-09-17 18:03:04,572] Trial 316 finished with value: 0.0 and parameters: {'learning_rate': 0.00019588936047073893, 'n_l1': 64, 'n_l2': 96, 'n_l3': 32, 'n_l4': 8, 'dropout_rate': 0.017201817097526398, 'activation': 'selu', 'optimizer': 'adam', 'batch_size': 64}. Best is trial 203 with value: 0.5930232558139535.\n"
     ]
    },
    {
     "name": "stdout",
     "output_type": "stream",
     "text": [
      "10/10 [==============================] - 0s 2ms/step\n"
     ]
    },
    {
     "name": "stderr",
     "output_type": "stream",
     "text": [
      "[I 2025-09-17 18:03:07,414] Trial 317 finished with value: 0.3875 and parameters: {'learning_rate': 9.94757326346924e-05, 'n_l1': 32, 'n_l2': 96, 'n_l3': 32, 'n_l4': 8, 'dropout_rate': 0.008250348392648387, 'activation': 'selu', 'optimizer': 'adam', 'batch_size': 64}. Best is trial 203 with value: 0.5930232558139535.\n"
     ]
    },
    {
     "name": "stdout",
     "output_type": "stream",
     "text": [
      "10/10 [==============================] - 0s 1ms/step\n"
     ]
    },
    {
     "name": "stderr",
     "output_type": "stream",
     "text": [
      "[I 2025-09-17 18:03:13,411] Trial 318 finished with value: 0.0 and parameters: {'learning_rate': 8.592038095894151e-05, 'n_l1': 64, 'n_l2': 96, 'n_l3': 32, 'n_l4': 8, 'dropout_rate': 0.026390890970384898, 'activation': 'selu', 'optimizer': 'adam', 'batch_size': 64}. Best is trial 203 with value: 0.5930232558139535.\n"
     ]
    },
    {
     "name": "stdout",
     "output_type": "stream",
     "text": [
      "10/10 [==============================] - 0s 2ms/step\n"
     ]
    },
    {
     "name": "stderr",
     "output_type": "stream",
     "text": [
      "[I 2025-09-17 18:03:16,874] Trial 319 finished with value: 0.3875968992248062 and parameters: {'learning_rate': 0.00012687353459780735, 'n_l1': 96, 'n_l2': 96, 'n_l3': 32, 'n_l4': 8, 'dropout_rate': 0.007619291174925146, 'activation': 'relu', 'optimizer': 'adam', 'batch_size': 64}. Best is trial 203 with value: 0.5930232558139535.\n"
     ]
    },
    {
     "name": "stdout",
     "output_type": "stream",
     "text": [
      "10/10 [==============================] - 0s 2ms/step\n"
     ]
    },
    {
     "name": "stderr",
     "output_type": "stream",
     "text": [
      "[I 2025-09-17 18:03:22,378] Trial 320 finished with value: 0.0 and parameters: {'learning_rate': 0.00010749619875414685, 'n_l1': 64, 'n_l2': 96, 'n_l3': 48, 'n_l4': 8, 'dropout_rate': 0.0426203816905142, 'activation': 'selu', 'optimizer': 'adam', 'batch_size': 64}. Best is trial 203 with value: 0.5930232558139535.\n"
     ]
    },
    {
     "name": "stdout",
     "output_type": "stream",
     "text": [
      "10/10 [==============================] - 0s 2ms/step\n"
     ]
    },
    {
     "name": "stderr",
     "output_type": "stream",
     "text": [
      "[I 2025-09-17 18:03:26,966] Trial 321 finished with value: 0.0 and parameters: {'learning_rate': 7.572009812381787e-05, 'n_l1': 64, 'n_l2': 96, 'n_l3': 32, 'n_l4': 8, 'dropout_rate': 0.016131843177188222, 'activation': 'selu', 'optimizer': 'adam', 'batch_size': 128}. Best is trial 203 with value: 0.5930232558139535.\n"
     ]
    },
    {
     "name": "stdout",
     "output_type": "stream",
     "text": [
      "10/10 [==============================] - 0s 2ms/step\n"
     ]
    },
    {
     "name": "stderr",
     "output_type": "stream",
     "text": [
      "[I 2025-09-17 18:03:29,056] Trial 322 finished with value: 0.0 and parameters: {'learning_rate': 9.207912242493585e-05, 'n_l1': 160, 'n_l2': 96, 'n_l3': 32, 'n_l4': 8, 'dropout_rate': 0.0001900051262635782, 'activation': 'selu', 'optimizer': 'sgd', 'batch_size': 64}. Best is trial 203 with value: 0.5930232558139535.\n"
     ]
    },
    {
     "name": "stdout",
     "output_type": "stream",
     "text": [
      "10/10 [==============================] - 0s 2ms/step\n"
     ]
    },
    {
     "name": "stderr",
     "output_type": "stream",
     "text": [
      "[I 2025-09-17 18:03:35,386] Trial 323 finished with value: 0.0 and parameters: {'learning_rate': 6.596386148584885e-05, 'n_l1': 64, 'n_l2': 96, 'n_l3': 32, 'n_l4': 8, 'dropout_rate': 0.026041372965241498, 'activation': 'selu', 'optimizer': 'adam', 'batch_size': 64}. Best is trial 203 with value: 0.5930232558139535.\n"
     ]
    },
    {
     "name": "stdout",
     "output_type": "stream",
     "text": [
      "10/10 [==============================] - 0s 2ms/step\n"
     ]
    },
    {
     "name": "stderr",
     "output_type": "stream",
     "text": [
      "[I 2025-09-17 18:03:41,698] Trial 324 finished with value: 0.0 and parameters: {'learning_rate': 0.00011810789222297051, 'n_l1': 64, 'n_l2': 64, 'n_l3': 32, 'n_l4': 8, 'dropout_rate': 0.009733018093195246, 'activation': 'selu', 'optimizer': 'adam', 'batch_size': 64}. Best is trial 203 with value: 0.5930232558139535.\n"
     ]
    },
    {
     "name": "stdout",
     "output_type": "stream",
     "text": [
      "10/10 [==============================] - 0s 2ms/step\n"
     ]
    },
    {
     "name": "stderr",
     "output_type": "stream",
     "text": [
      "[I 2025-09-17 18:03:47,757] Trial 325 finished with value: 0.0 and parameters: {'learning_rate': 0.00010433818477945747, 'n_l1': 224, 'n_l2': 96, 'n_l3': 32, 'n_l4': 8, 'dropout_rate': 0.018891940276242802, 'activation': 'selu', 'optimizer': 'adam', 'batch_size': 64}. Best is trial 203 with value: 0.5930232558139535.\n"
     ]
    },
    {
     "name": "stdout",
     "output_type": "stream",
     "text": [
      "10/10 [==============================] - 0s 2ms/step\n"
     ]
    },
    {
     "name": "stderr",
     "output_type": "stream",
     "text": [
      "[I 2025-09-17 18:03:52,807] Trial 326 finished with value: 0.18333333333333332 and parameters: {'learning_rate': 0.0001808393802850325, 'n_l1': 64, 'n_l2': 128, 'n_l3': 32, 'n_l4': 8, 'dropout_rate': 0.00011727073793590506, 'activation': 'selu', 'optimizer': 'adam', 'batch_size': 128}. Best is trial 203 with value: 0.5930232558139535.\n"
     ]
    },
    {
     "name": "stdout",
     "output_type": "stream",
     "text": [
      "10/10 [==============================] - 0s 1ms/step\n"
     ]
    },
    {
     "name": "stderr",
     "output_type": "stream",
     "text": [
      "[I 2025-09-17 18:03:55,600] Trial 327 finished with value: 0.0 and parameters: {'learning_rate': 0.0030855711976963372, 'n_l1': 64, 'n_l2': 96, 'n_l3': 32, 'n_l4': 8, 'dropout_rate': 0.034790882955965496, 'activation': 'selu', 'optimizer': 'adam', 'batch_size': 64}. Best is trial 203 with value: 0.5930232558139535.\n"
     ]
    },
    {
     "name": "stdout",
     "output_type": "stream",
     "text": [
      "10/10 [==============================] - 0s 1ms/step\n"
     ]
    },
    {
     "name": "stderr",
     "output_type": "stream",
     "text": [
      "[I 2025-09-17 18:03:58,587] Trial 328 finished with value: 0.5680473372781065 and parameters: {'learning_rate': 8.686954819036655e-05, 'n_l1': 64, 'n_l2': 96, 'n_l3': 32, 'n_l4': 8, 'dropout_rate': 0.009712760475079775, 'activation': 'selu', 'optimizer': 'adam', 'batch_size': 64}. Best is trial 203 with value: 0.5930232558139535.\n"
     ]
    },
    {
     "name": "stdout",
     "output_type": "stream",
     "text": [
      "10/10 [==============================] - 0s 2ms/step\n"
     ]
    },
    {
     "name": "stderr",
     "output_type": "stream",
     "text": [
      "[I 2025-09-17 18:04:04,106] Trial 329 finished with value: 0.0 and parameters: {'learning_rate': 8.561833482970672e-05, 'n_l1': 64, 'n_l2': 64, 'n_l3': 32, 'n_l4': 8, 'dropout_rate': 0.02387284394473136, 'activation': 'selu', 'optimizer': 'adam', 'batch_size': 64}. Best is trial 203 with value: 0.5930232558139535.\n"
     ]
    },
    {
     "name": "stdout",
     "output_type": "stream",
     "text": [
      "10/10 [==============================] - 0s 1ms/step\n"
     ]
    },
    {
     "name": "stderr",
     "output_type": "stream",
     "text": [
      "[I 2025-09-17 18:04:09,111] Trial 330 finished with value: 0.4697986577181208 and parameters: {'learning_rate': 7.540281562768443e-05, 'n_l1': 32, 'n_l2': 96, 'n_l3': 32, 'n_l4': 8, 'dropout_rate': 0.011292918131305093, 'activation': 'selu', 'optimizer': 'adam', 'batch_size': 64}. Best is trial 203 with value: 0.5930232558139535.\n"
     ]
    },
    {
     "name": "stdout",
     "output_type": "stream",
     "text": [
      "10/10 [==============================] - 0s 1ms/step\n"
     ]
    },
    {
     "name": "stderr",
     "output_type": "stream",
     "text": [
      "[I 2025-09-17 18:04:12,937] Trial 331 finished with value: 0.0 and parameters: {'learning_rate': 6.858221532276494e-05, 'n_l1': 64, 'n_l2': 96, 'n_l3': 32, 'n_l4': 8, 'dropout_rate': 0.017501959830214013, 'activation': 'selu', 'optimizer': 'adam', 'batch_size': 64}. Best is trial 203 with value: 0.5930232558139535.\n"
     ]
    },
    {
     "name": "stdout",
     "output_type": "stream",
     "text": [
      "10/10 [==============================] - 0s 2ms/step\n"
     ]
    },
    {
     "name": "stderr",
     "output_type": "stream",
     "text": [
      "[I 2025-09-17 18:04:16,336] Trial 332 finished with value: 0.56 and parameters: {'learning_rate': 8.877698689495679e-05, 'n_l1': 64, 'n_l2': 96, 'n_l3': 32, 'n_l4': 8, 'dropout_rate': 0.00983630316905209, 'activation': 'selu', 'optimizer': 'adam', 'batch_size': 64}. Best is trial 203 with value: 0.5930232558139535.\n"
     ]
    },
    {
     "name": "stdout",
     "output_type": "stream",
     "text": [
      "10/10 [==============================] - 0s 1ms/step\n"
     ]
    },
    {
     "name": "stderr",
     "output_type": "stream",
     "text": [
      "[I 2025-09-17 18:04:19,060] Trial 333 finished with value: 0.0 and parameters: {'learning_rate': 8.057828121811981e-05, 'n_l1': 96, 'n_l2': 96, 'n_l3': 32, 'n_l4': 8, 'dropout_rate': 0.0274561500942549, 'activation': 'selu', 'optimizer': 'adam', 'batch_size': 64}. Best is trial 203 with value: 0.5930232558139535.\n"
     ]
    },
    {
     "name": "stdout",
     "output_type": "stream",
     "text": [
      "10/10 [==============================] - 0s 1ms/step\n"
     ]
    },
    {
     "name": "stderr",
     "output_type": "stream",
     "text": [
      "[I 2025-09-17 18:04:24,486] Trial 334 finished with value: 0.5733333333333334 and parameters: {'learning_rate': 9.212749993533715e-05, 'n_l1': 64, 'n_l2': 96, 'n_l3': 32, 'n_l4': 8, 'dropout_rate': 0.00018373534825825988, 'activation': 'selu', 'optimizer': 'adam', 'batch_size': 64}. Best is trial 203 with value: 0.5930232558139535.\n"
     ]
    },
    {
     "name": "stdout",
     "output_type": "stream",
     "text": [
      "10/10 [==============================] - 0s 1ms/step\n"
     ]
    },
    {
     "name": "stderr",
     "output_type": "stream",
     "text": [
      "[I 2025-09-17 18:04:27,010] Trial 335 finished with value: 0.0 and parameters: {'learning_rate': 0.006005700727241569, 'n_l1': 64, 'n_l2': 96, 'n_l3': 32, 'n_l4': 8, 'dropout_rate': 0.03722047109907846, 'activation': 'selu', 'optimizer': 'adam', 'batch_size': 64}. Best is trial 203 with value: 0.5930232558139535.\n"
     ]
    },
    {
     "name": "stdout",
     "output_type": "stream",
     "text": [
      "10/10 [==============================] - -6s -634584us/step\n"
     ]
    },
    {
     "name": "stderr",
     "output_type": "stream",
     "text": [
      "[I 2025-09-17 18:04:31,839] Trial 336 finished with value: 0.0 and parameters: {'learning_rate': 9.478511260969694e-05, 'n_l1': 64, 'n_l2': 96, 'n_l3': 16, 'n_l4': 8, 'dropout_rate': 0.009918985637512742, 'activation': 'selu', 'optimizer': 'adam', 'batch_size': 64}. Best is trial 203 with value: 0.5930232558139535.\n"
     ]
    },
    {
     "name": "stdout",
     "output_type": "stream",
     "text": [
      "10/10 [==============================] - 0s 2ms/step\n"
     ]
    },
    {
     "name": "stderr",
     "output_type": "stream",
     "text": [
      "[I 2025-09-17 18:04:37,393] Trial 337 finished with value: 0.0 and parameters: {'learning_rate': 9.601779878005578e-05, 'n_l1': 64, 'n_l2': 96, 'n_l3': 32, 'n_l4': 8, 'dropout_rate': 0.01849347619454484, 'activation': 'selu', 'optimizer': 'adam', 'batch_size': 64}. Best is trial 203 with value: 0.5930232558139535.\n"
     ]
    },
    {
     "name": "stdout",
     "output_type": "stream",
     "text": [
      "10/10 [==============================] - 0s 2ms/step\n"
     ]
    },
    {
     "name": "stderr",
     "output_type": "stream",
     "text": [
      "[I 2025-09-17 18:04:40,189] Trial 338 finished with value: 0.0 and parameters: {'learning_rate': 6.85649753479587e-05, 'n_l1': 64, 'n_l2': 64, 'n_l3': 32, 'n_l4': 8, 'dropout_rate': 0.3295583917232138, 'activation': 'tanh', 'optimizer': 'adam', 'batch_size': 64}. Best is trial 203 with value: 0.5930232558139535.\n"
     ]
    },
    {
     "name": "stdout",
     "output_type": "stream",
     "text": [
      "10/10 [==============================] - 0s 2ms/step\n"
     ]
    },
    {
     "name": "stderr",
     "output_type": "stream",
     "text": [
      "[I 2025-09-17 18:04:47,295] Trial 339 finished with value: 0.5662650602409639 and parameters: {'learning_rate': 7.809731457589721e-05, 'n_l1': 64, 'n_l2': 96, 'n_l3': 32, 'n_l4': 8, 'dropout_rate': 0.009920606689913857, 'activation': 'selu', 'optimizer': 'adam', 'batch_size': 64}. Best is trial 203 with value: 0.5930232558139535.\n"
     ]
    },
    {
     "name": "stdout",
     "output_type": "stream",
     "text": [
      "10/10 [==============================] - 0s 2ms/step\n"
     ]
    },
    {
     "name": "stderr",
     "output_type": "stream",
     "text": [
      "[I 2025-09-17 18:04:53,993] Trial 340 finished with value: 0.0 and parameters: {'learning_rate': 6.538752793997122e-05, 'n_l1': 64, 'n_l2': 96, 'n_l3': 32, 'n_l4': 8, 'dropout_rate': 0.048374607332682715, 'activation': 'selu', 'optimizer': 'adam', 'batch_size': 64}. Best is trial 203 with value: 0.5930232558139535.\n"
     ]
    },
    {
     "name": "stdout",
     "output_type": "stream",
     "text": [
      "10/10 [==============================] - 0s 2ms/step\n"
     ]
    },
    {
     "name": "stderr",
     "output_type": "stream",
     "text": [
      "[I 2025-09-17 18:04:57,014] Trial 341 finished with value: 0.0 and parameters: {'learning_rate': 8.045751527609173e-05, 'n_l1': 64, 'n_l2': 96, 'n_l3': 32, 'n_l4': 8, 'dropout_rate': 0.009446422717034195, 'activation': 'selu', 'optimizer': 'sgd', 'batch_size': 64}. Best is trial 203 with value: 0.5930232558139535.\n"
     ]
    },
    {
     "name": "stdout",
     "output_type": "stream",
     "text": [
      "10/10 [==============================] - 0s 2ms/step\n"
     ]
    },
    {
     "name": "stderr",
     "output_type": "stream",
     "text": [
      "[I 2025-09-17 18:05:03,888] Trial 342 finished with value: 0.0 and parameters: {'learning_rate': 7.444678533271514e-05, 'n_l1': 64, 'n_l2': 160, 'n_l3': 32, 'n_l4': 8, 'dropout_rate': 0.17586406702480883, 'activation': 'selu', 'optimizer': 'adam', 'batch_size': 64}. Best is trial 203 with value: 0.5930232558139535.\n"
     ]
    },
    {
     "name": "stdout",
     "output_type": "stream",
     "text": [
      "10/10 [==============================] - 0s 2ms/step\n"
     ]
    },
    {
     "name": "stderr",
     "output_type": "stream",
     "text": [
      "[I 2025-09-17 18:05:10,593] Trial 343 finished with value: 0.0 and parameters: {'learning_rate': 8.808475086673156e-05, 'n_l1': 64, 'n_l2': 128, 'n_l3': 32, 'n_l4': 8, 'dropout_rate': 0.02497406689018306, 'activation': 'selu', 'optimizer': 'adam', 'batch_size': 64}. Best is trial 203 with value: 0.5930232558139535.\n"
     ]
    },
    {
     "name": "stdout",
     "output_type": "stream",
     "text": [
      "10/10 [==============================] - 0s 2ms/step\n"
     ]
    },
    {
     "name": "stderr",
     "output_type": "stream",
     "text": [
      "[I 2025-09-17 18:05:16,540] Trial 344 finished with value: 0.5760869565217391 and parameters: {'learning_rate': 0.00010651393885264256, 'n_l1': 64, 'n_l2': 96, 'n_l3': 32, 'n_l4': 8, 'dropout_rate': 0.00048754668687565027, 'activation': 'relu', 'optimizer': 'adam', 'batch_size': 64}. Best is trial 203 with value: 0.5930232558139535.\n"
     ]
    },
    {
     "name": "stdout",
     "output_type": "stream",
     "text": [
      "10/10 [==============================] - 0s 2ms/step\n"
     ]
    },
    {
     "name": "stderr",
     "output_type": "stream",
     "text": [
      "[I 2025-09-17 18:05:20,614] Trial 345 finished with value: 0.0 and parameters: {'learning_rate': 0.00011095651981558271, 'n_l1': 64, 'n_l2': 96, 'n_l3': 32, 'n_l4': 8, 'dropout_rate': 0.01739800287264444, 'activation': 'relu', 'optimizer': 'adam', 'batch_size': 64}. Best is trial 203 with value: 0.5930232558139535.\n"
     ]
    },
    {
     "name": "stdout",
     "output_type": "stream",
     "text": [
      "10/10 [==============================] - 0s 2ms/step\n"
     ]
    },
    {
     "name": "stderr",
     "output_type": "stream",
     "text": [
      "[I 2025-09-17 18:05:25,299] Trial 346 finished with value: 0.5375 and parameters: {'learning_rate': 7.79970560816889e-05, 'n_l1': 64, 'n_l2': 96, 'n_l3': 32, 'n_l4': 8, 'dropout_rate': 0.009327726627402349, 'activation': 'relu', 'optimizer': 'adam', 'batch_size': 64}. Best is trial 203 with value: 0.5930232558139535.\n"
     ]
    },
    {
     "name": "stdout",
     "output_type": "stream",
     "text": [
      "10/10 [==============================] - 0s 2ms/step\n"
     ]
    },
    {
     "name": "stderr",
     "output_type": "stream",
     "text": [
      "[I 2025-09-17 18:05:37,463] Trial 347 finished with value: 0.17857142857142858 and parameters: {'learning_rate': 5.909872581890286e-05, 'n_l1': 64, 'n_l2': 96, 'n_l3': 32, 'n_l4': 16, 'dropout_rate': 0.03330080774294113, 'activation': 'selu', 'optimizer': 'adam', 'batch_size': 64}. Best is trial 203 with value: 0.5930232558139535.\n"
     ]
    },
    {
     "name": "stdout",
     "output_type": "stream",
     "text": [
      "10/10 [==============================] - 0s 1ms/step\n"
     ]
    },
    {
     "name": "stderr",
     "output_type": "stream",
     "text": [
      "[I 2025-09-17 18:05:38,401] Trial 348 finished with value: 0.52 and parameters: {'learning_rate': 0.00010780094797896425, 'n_l1': 64, 'n_l2': 96, 'n_l3': 32, 'n_l4': 8, 'dropout_rate': 0.000704808499586403, 'activation': 'relu', 'optimizer': 'adam', 'batch_size': 64}. Best is trial 203 with value: 0.5930232558139535.\n"
     ]
    },
    {
     "name": "stdout",
     "output_type": "stream",
     "text": [
      "10/10 [==============================] - 0s 2ms/step\n"
     ]
    },
    {
     "name": "stderr",
     "output_type": "stream",
     "text": [
      "[I 2025-09-17 18:05:41,377] Trial 349 finished with value: 0.0 and parameters: {'learning_rate': 8.982647052295486e-05, 'n_l1': 96, 'n_l2': 64, 'n_l3': 32, 'n_l4': 8, 'dropout_rate': 0.018698936967332214, 'activation': 'relu', 'optimizer': 'adam', 'batch_size': 64}. Best is trial 203 with value: 0.5930232558139535.\n"
     ]
    },
    {
     "name": "stdout",
     "output_type": "stream",
     "text": [
      "10/10 [==============================] - 0s 1ms/step\n"
     ]
    },
    {
     "name": "stderr",
     "output_type": "stream",
     "text": [
      "[I 2025-09-17 18:05:45,335] Trial 350 finished with value: 0.5280898876404494 and parameters: {'learning_rate': 6.870127383388968e-05, 'n_l1': 64, 'n_l2': 96, 'n_l3': 32, 'n_l4': 8, 'dropout_rate': 0.010159582256987794, 'activation': 'relu', 'optimizer': 'adam', 'batch_size': 64}. Best is trial 203 with value: 0.5930232558139535.\n"
     ]
    },
    {
     "name": "stdout",
     "output_type": "stream",
     "text": [
      "10/10 [==============================] - 0s 2ms/step\n"
     ]
    },
    {
     "name": "stderr",
     "output_type": "stream",
     "text": [
      "[I 2025-09-17 18:05:50,616] Trial 351 finished with value: 0.0 and parameters: {'learning_rate': 8.210047976542323e-05, 'n_l1': 32, 'n_l2': 96, 'n_l3': 32, 'n_l4': 8, 'dropout_rate': 0.02676259561577337, 'activation': 'relu', 'optimizer': 'adam', 'batch_size': 64}. Best is trial 203 with value: 0.5930232558139535.\n"
     ]
    },
    {
     "name": "stdout",
     "output_type": "stream",
     "text": [
      "10/10 [==============================] - 0s 2ms/step\n"
     ]
    },
    {
     "name": "stderr",
     "output_type": "stream",
     "text": [
      "[I 2025-09-17 18:05:56,233] Trial 352 finished with value: 0.45454545454545453 and parameters: {'learning_rate': 0.00010510905819472984, 'n_l1': 64, 'n_l2': 96, 'n_l3': 48, 'n_l4': 8, 'dropout_rate': 0.00011915481170715267, 'activation': 'selu', 'optimizer': 'adam', 'batch_size': 64}. Best is trial 203 with value: 0.5930232558139535.\n"
     ]
    },
    {
     "name": "stdout",
     "output_type": "stream",
     "text": [
      "10/10 [==============================] - 0s 2ms/step\n"
     ]
    },
    {
     "name": "stderr",
     "output_type": "stream",
     "text": [
      "[I 2025-09-17 18:06:02,085] Trial 353 finished with value: 0.0 and parameters: {'learning_rate': 0.00012199256552276639, 'n_l1': 64, 'n_l2': 96, 'n_l3': 32, 'n_l4': 8, 'dropout_rate': 0.38541749084593374, 'activation': 'relu', 'optimizer': 'adam', 'batch_size': 64}. Best is trial 203 with value: 0.5930232558139535.\n"
     ]
    },
    {
     "name": "stdout",
     "output_type": "stream",
     "text": [
      "10/10 [==============================] - 0s 2ms/step\n"
     ]
    },
    {
     "name": "stderr",
     "output_type": "stream",
     "text": [
      "[I 2025-09-17 18:06:07,271] Trial 354 finished with value: 0.0 and parameters: {'learning_rate': 9.068733332146762e-05, 'n_l1': 64, 'n_l2': 96, 'n_l3': 32, 'n_l4': 8, 'dropout_rate': 0.01728614582096109, 'activation': 'selu', 'optimizer': 'adam', 'batch_size': 64}. Best is trial 203 with value: 0.5930232558139535.\n"
     ]
    },
    {
     "name": "stdout",
     "output_type": "stream",
     "text": [
      "10/10 [==============================] - 0s 2ms/step\n"
     ]
    },
    {
     "name": "stderr",
     "output_type": "stream",
     "text": [
      "[I 2025-09-17 18:06:11,088] Trial 355 finished with value: 0.34108527131782945 and parameters: {'learning_rate': 6.350700895647545e-05, 'n_l1': 64, 'n_l2': 96, 'n_l3': 16, 'n_l4': 8, 'dropout_rate': 0.008909964234024589, 'activation': 'selu', 'optimizer': 'adam', 'batch_size': 64}. Best is trial 203 with value: 0.5930232558139535.\n"
     ]
    },
    {
     "name": "stdout",
     "output_type": "stream",
     "text": [
      "10/10 [==============================] - 0s 2ms/step\n"
     ]
    },
    {
     "name": "stderr",
     "output_type": "stream",
     "text": [
      "[I 2025-09-17 18:06:16,489] Trial 356 finished with value: 0.0 and parameters: {'learning_rate': 0.00013875584244958826, 'n_l1': 64, 'n_l2': 64, 'n_l3': 32, 'n_l4': 8, 'dropout_rate': 0.023491925429338673, 'activation': 'selu', 'optimizer': 'adam', 'batch_size': 64}. Best is trial 203 with value: 0.5930232558139535.\n"
     ]
    },
    {
     "name": "stdout",
     "output_type": "stream",
     "text": [
      "10/10 [==============================] - 0s 1ms/step\n"
     ]
    },
    {
     "name": "stderr",
     "output_type": "stream",
     "text": [
      "[I 2025-09-17 18:06:20,183] Trial 357 finished with value: 0.0 and parameters: {'learning_rate': 7.594597592514737e-05, 'n_l1': 64, 'n_l2': 96, 'n_l3': 32, 'n_l4': 8, 'dropout_rate': 0.009622721573651793, 'activation': 'selu', 'optimizer': 'rmsprop', 'batch_size': 64}. Best is trial 203 with value: 0.5930232558139535.\n"
     ]
    },
    {
     "name": "stdout",
     "output_type": "stream",
     "text": [
      "10/10 [==============================] - 0s 1ms/step\n"
     ]
    },
    {
     "name": "stderr",
     "output_type": "stream",
     "text": [
      "[I 2025-09-17 18:06:25,795] Trial 358 finished with value: 0.0 and parameters: {'learning_rate': 0.00010072068605480912, 'n_l1': 64, 'n_l2': 96, 'n_l3': 32, 'n_l4': 8, 'dropout_rate': 0.035075511148981185, 'activation': 'selu', 'optimizer': 'adam', 'batch_size': 64}. Best is trial 203 with value: 0.5930232558139535.\n"
     ]
    },
    {
     "name": "stdout",
     "output_type": "stream",
     "text": [
      "10/10 [==============================] - 0s 1ms/step\n"
     ]
    },
    {
     "name": "stderr",
     "output_type": "stream",
     "text": [
      "[I 2025-09-17 18:06:28,880] Trial 359 finished with value: 0.0 and parameters: {'learning_rate': 0.00011419897396281983, 'n_l1': 64, 'n_l2': 96, 'n_l3': 32, 'n_l4': 8, 'dropout_rate': 0.017675221726224766, 'activation': 'relu', 'optimizer': 'adam', 'batch_size': 64}. Best is trial 203 with value: 0.5930232558139535.\n"
     ]
    },
    {
     "name": "stdout",
     "output_type": "stream",
     "text": [
      "10/10 [==============================] - 0s 1ms/step\n"
     ]
    },
    {
     "name": "stderr",
     "output_type": "stream",
     "text": [
      "[I 2025-09-17 18:06:31,714] Trial 360 finished with value: 0.0 and parameters: {'learning_rate': 0.00030736644829923497, 'n_l1': 96, 'n_l2': 96, 'n_l3': 32, 'n_l4': 16, 'dropout_rate': 0.42804980532912473, 'activation': 'selu', 'optimizer': 'adam', 'batch_size': 64}. Best is trial 203 with value: 0.5930232558139535.\n"
     ]
    },
    {
     "name": "stdout",
     "output_type": "stream",
     "text": [
      "10/10 [==============================] - 0s 2ms/step\n"
     ]
    },
    {
     "name": "stderr",
     "output_type": "stream",
     "text": [
      "[I 2025-09-17 18:06:38,297] Trial 361 finished with value: 0.5306122448979592 and parameters: {'learning_rate': 8.972099378158898e-05, 'n_l1': 64, 'n_l2': 96, 'n_l3': 32, 'n_l4': 8, 'dropout_rate': 0.0005435323183116368, 'activation': 'selu', 'optimizer': 'adam', 'batch_size': 64}. Best is trial 203 with value: 0.5930232558139535.\n"
     ]
    },
    {
     "name": "stdout",
     "output_type": "stream",
     "text": [
      "10/10 [==============================] - 0s 2ms/step\n"
     ]
    },
    {
     "name": "stderr",
     "output_type": "stream",
     "text": [
      "[I 2025-09-17 18:06:42,563] Trial 362 finished with value: 0.3669724770642202 and parameters: {'learning_rate': 0.00015725330797799583, 'n_l1': 64, 'n_l2': 96, 'n_l3': 32, 'n_l4': 8, 'dropout_rate': 0.009157050342914209, 'activation': 'tanh', 'optimizer': 'adam', 'batch_size': 64}. Best is trial 203 with value: 0.5930232558139535.\n"
     ]
    },
    {
     "name": "stdout",
     "output_type": "stream",
     "text": [
      "10/10 [==============================] - 0s 2ms/step\n"
     ]
    },
    {
     "name": "stderr",
     "output_type": "stream",
     "text": [
      "[I 2025-09-17 18:06:48,409] Trial 363 finished with value: 0.0 and parameters: {'learning_rate': 7.839143086975515e-05, 'n_l1': 64, 'n_l2': 128, 'n_l3': 32, 'n_l4': 8, 'dropout_rate': 0.02962685141509929, 'activation': 'selu', 'optimizer': 'adam', 'batch_size': 64}. Best is trial 203 with value: 0.5930232558139535.\n"
     ]
    },
    {
     "name": "stdout",
     "output_type": "stream",
     "text": [
      "10/10 [==============================] - 0s 1ms/step\n"
     ]
    },
    {
     "name": "stderr",
     "output_type": "stream",
     "text": [
      "[I 2025-09-17 18:06:54,115] Trial 364 finished with value: 0.38848920863309355 and parameters: {'learning_rate': 5.393787677275429e-05, 'n_l1': 64, 'n_l2': 64, 'n_l3': 32, 'n_l4': 8, 'dropout_rate': 0.00044186823145359066, 'activation': 'selu', 'optimizer': 'adam', 'batch_size': 64}. Best is trial 203 with value: 0.5930232558139535.\n"
     ]
    },
    {
     "name": "stdout",
     "output_type": "stream",
     "text": [
      "10/10 [==============================] - 0s 2ms/step\n"
     ]
    },
    {
     "name": "stderr",
     "output_type": "stream",
     "text": [
      "[I 2025-09-17 18:06:59,320] Trial 365 finished with value: 0.0 and parameters: {'learning_rate': 0.00010305125679637392, 'n_l1': 64, 'n_l2': 96, 'n_l3': 32, 'n_l4': 8, 'dropout_rate': 0.01625419439073176, 'activation': 'selu', 'optimizer': 'sgd', 'batch_size': 64}. Best is trial 203 with value: 0.5930232558139535.\n"
     ]
    },
    {
     "name": "stdout",
     "output_type": "stream",
     "text": [
      "10/10 [==============================] - 0s 1ms/step\n"
     ]
    },
    {
     "name": "stderr",
     "output_type": "stream",
     "text": [
      "[I 2025-09-17 18:07:03,063] Trial 366 finished with value: 0.496551724137931 and parameters: {'learning_rate': 0.00013258376056348367, 'n_l1': 32, 'n_l2': 96, 'n_l3': 32, 'n_l4': 8, 'dropout_rate': 0.008507957399326381, 'activation': 'selu', 'optimizer': 'adam', 'batch_size': 64}. Best is trial 203 with value: 0.5930232558139535.\n"
     ]
    },
    {
     "name": "stdout",
     "output_type": "stream",
     "text": [
      "10/10 [==============================] - 0s 2ms/step\n"
     ]
    },
    {
     "name": "stderr",
     "output_type": "stream",
     "text": [
      "[I 2025-09-17 18:07:05,770] Trial 367 finished with value: 0.14285714285714285 and parameters: {'learning_rate': 9.072610558746179e-05, 'n_l1': 128, 'n_l2': 96, 'n_l3': 32, 'n_l4': 8, 'dropout_rate': 0.02402727571437399, 'activation': 'selu', 'optimizer': 'adam', 'batch_size': 64}. Best is trial 203 with value: 0.5930232558139535.\n"
     ]
    },
    {
     "name": "stdout",
     "output_type": "stream",
     "text": [
      "10/10 [==============================] - 0s 1ms/step\n"
     ]
    },
    {
     "name": "stderr",
     "output_type": "stream",
     "text": [
      "[I 2025-09-17 18:07:11,510] Trial 368 finished with value: 0.0 and parameters: {'learning_rate': 0.0001150872019748014, 'n_l1': 64, 'n_l2': 96, 'n_l3': 32, 'n_l4': 8, 'dropout_rate': 0.01574185050097985, 'activation': 'selu', 'optimizer': 'adam', 'batch_size': 64}. Best is trial 203 with value: 0.5930232558139535.\n"
     ]
    },
    {
     "name": "stdout",
     "output_type": "stream",
     "text": [
      "10/10 [==============================] - 0s 1ms/step\n"
     ]
    },
    {
     "name": "stderr",
     "output_type": "stream",
     "text": [
      "[I 2025-09-17 18:07:17,322] Trial 369 finished with value: 0.5477707006369427 and parameters: {'learning_rate': 7.457296566780487e-05, 'n_l1': 64, 'n_l2': 96, 'n_l3': 32, 'n_l4': 8, 'dropout_rate': 0.0006006512751654608, 'activation': 'selu', 'optimizer': 'adam', 'batch_size': 64}. Best is trial 203 with value: 0.5930232558139535.\n"
     ]
    },
    {
     "name": "stdout",
     "output_type": "stream",
     "text": [
      "10/10 [==============================] - 0s 1ms/step\n"
     ]
    },
    {
     "name": "stderr",
     "output_type": "stream",
     "text": [
      "[I 2025-09-17 18:07:20,381] Trial 370 finished with value: 0.5590062111801242 and parameters: {'learning_rate': 0.000561485181588187, 'n_l1': 64, 'n_l2': 96, 'n_l3': 32, 'n_l4': 8, 'dropout_rate': 0.0002482615733058612, 'activation': 'selu', 'optimizer': 'adam', 'batch_size': 64}. Best is trial 203 with value: 0.5930232558139535.\n"
     ]
    },
    {
     "name": "stdout",
     "output_type": "stream",
     "text": [
      "10/10 [==============================] - 0s 1ms/step\n"
     ]
    },
    {
     "name": "stderr",
     "output_type": "stream",
     "text": [
      "[I 2025-09-17 18:07:24,753] Trial 371 finished with value: 0.0 and parameters: {'learning_rate': 0.0006227541554994148, 'n_l1': 64, 'n_l2': 96, 'n_l3': 32, 'n_l4': 8, 'dropout_rate': 0.007606606217142403, 'activation': 'selu', 'optimizer': 'adam', 'batch_size': 64}. Best is trial 203 with value: 0.5930232558139535.\n"
     ]
    },
    {
     "name": "stdout",
     "output_type": "stream",
     "text": [
      "10/10 [==============================] - 0s 1ms/step\n"
     ]
    },
    {
     "name": "stderr",
     "output_type": "stream",
     "text": [
      "[I 2025-09-17 18:07:27,518] Trial 372 finished with value: 0.0 and parameters: {'learning_rate': 0.0002158100791466509, 'n_l1': 96, 'n_l2': 96, 'n_l3': 16, 'n_l4': 8, 'dropout_rate': 0.0072328766138360645, 'activation': 'selu', 'optimizer': 'adam', 'batch_size': 64}. Best is trial 203 with value: 0.5930232558139535.\n"
     ]
    },
    {
     "name": "stdout",
     "output_type": "stream",
     "text": [
      "10/10 [==============================] - 0s 1ms/step\n"
     ]
    },
    {
     "name": "stderr",
     "output_type": "stream",
     "text": [
      "[I 2025-09-17 18:07:33,225] Trial 373 finished with value: 0.4585987261146497 and parameters: {'learning_rate': 0.00048561733603120653, 'n_l1': 64, 'n_l2': 96, 'n_l3': 32, 'n_l4': 8, 'dropout_rate': 0.0013540525176542989, 'activation': 'selu', 'optimizer': 'adam', 'batch_size': 64}. Best is trial 203 with value: 0.5930232558139535.\n"
     ]
    },
    {
     "name": "stdout",
     "output_type": "stream",
     "text": [
      "10/10 [==============================] - 0s 2ms/step\n"
     ]
    },
    {
     "name": "stderr",
     "output_type": "stream",
     "text": [
      "[I 2025-09-17 18:07:36,191] Trial 374 finished with value: 0.4 and parameters: {'learning_rate': 0.00034858318005300665, 'n_l1': 64, 'n_l2': 64, 'n_l3': 32, 'n_l4': 8, 'dropout_rate': 0.0005049387975932213, 'activation': 'selu', 'optimizer': 'adam', 'batch_size': 64}. Best is trial 203 with value: 0.5930232558139535.\n"
     ]
    },
    {
     "name": "stdout",
     "output_type": "stream",
     "text": [
      "10/10 [==============================] - 0s 2ms/step\n"
     ]
    },
    {
     "name": "stderr",
     "output_type": "stream",
     "text": [
      "[I 2025-09-17 18:07:41,907] Trial 375 finished with value: 0.0 and parameters: {'learning_rate': 0.00012195168419455814, 'n_l1': 64, 'n_l2': 96, 'n_l3': 48, 'n_l4': 8, 'dropout_rate': 0.018981536753699593, 'activation': 'selu', 'optimizer': 'adam', 'batch_size': 64}. Best is trial 203 with value: 0.5930232558139535.\n"
     ]
    },
    {
     "name": "stdout",
     "output_type": "stream",
     "text": [
      "10/10 [==============================] - 0s 2ms/step\n"
     ]
    },
    {
     "name": "stderr",
     "output_type": "stream",
     "text": [
      "[I 2025-09-17 18:07:44,587] Trial 376 finished with value: 0.0 and parameters: {'learning_rate': 0.00024322736188391218, 'n_l1': 64, 'n_l2': 96, 'n_l3': 32, 'n_l4': 8, 'dropout_rate': 0.01698636618382403, 'activation': 'relu', 'optimizer': 'adam', 'batch_size': 64}. Best is trial 203 with value: 0.5930232558139535.\n"
     ]
    },
    {
     "name": "stdout",
     "output_type": "stream",
     "text": [
      "10/10 [==============================] - 0s 2ms/step\n"
     ]
    },
    {
     "name": "stderr",
     "output_type": "stream",
     "text": [
      "[I 2025-09-17 18:07:48,041] Trial 377 finished with value: 0.4258064516129032 and parameters: {'learning_rate': 6.598230051921928e-05, 'n_l1': 64, 'n_l2': 96, 'n_l3': 32, 'n_l4': 16, 'dropout_rate': 0.00023650372518087617, 'activation': 'selu', 'optimizer': 'adam', 'batch_size': 64}. Best is trial 203 with value: 0.5930232558139535.\n"
     ]
    },
    {
     "name": "stdout",
     "output_type": "stream",
     "text": [
      "10/10 [==============================] - 0s 2ms/step\n"
     ]
    },
    {
     "name": "stderr",
     "output_type": "stream",
     "text": [
      "[I 2025-09-17 18:07:54,022] Trial 378 finished with value: 0.0 and parameters: {'learning_rate': 8.466411388413354e-05, 'n_l1': 64, 'n_l2': 128, 'n_l3': 32, 'n_l4': 8, 'dropout_rate': 0.03035380643919911, 'activation': 'selu', 'optimizer': 'adam', 'batch_size': 64}. Best is trial 203 with value: 0.5930232558139535.\n"
     ]
    },
    {
     "name": "stdout",
     "output_type": "stream",
     "text": [
      "10/10 [==============================] - 0s 1ms/step\n"
     ]
    },
    {
     "name": "stderr",
     "output_type": "stream",
     "text": [
      "[I 2025-09-17 18:08:02,791] Trial 379 finished with value: 0.0 and parameters: {'learning_rate': 0.0007457536916783311, 'n_l1': 64, 'n_l2': 64, 'n_l3': 32, 'n_l4': 8, 'dropout_rate': 0.044140342821971705, 'activation': 'selu', 'optimizer': 'adam', 'batch_size': 64}. Best is trial 203 with value: 0.5930232558139535.\n"
     ]
    },
    {
     "name": "stdout",
     "output_type": "stream",
     "text": [
      "10/10 [==============================] - 0s 1ms/step\n"
     ]
    },
    {
     "name": "stderr",
     "output_type": "stream",
     "text": [
      "[I 2025-09-17 18:08:01,634] Trial 380 finished with value: 0.0 and parameters: {'learning_rate': 0.00015349530935727254, 'n_l1': 64, 'n_l2': 96, 'n_l3': 32, 'n_l4': 8, 'dropout_rate': 0.01429663851934141, 'activation': 'selu', 'optimizer': 'rmsprop', 'batch_size': 64}. Best is trial 203 with value: 0.5930232558139535.\n"
     ]
    },
    {
     "name": "stdout",
     "output_type": "stream",
     "text": [
      "10/10 [==============================] - 0s 2ms/step\n"
     ]
    },
    {
     "name": "stderr",
     "output_type": "stream",
     "text": [
      "[I 2025-09-17 18:08:03,686] Trial 381 finished with value: 0.06060606060606061 and parameters: {'learning_rate': 0.0011462490100065748, 'n_l1': 32, 'n_l2': 96, 'n_l3': 32, 'n_l4': 8, 'dropout_rate': 0.022981287371992128, 'activation': 'selu', 'optimizer': 'adam', 'batch_size': 64}. Best is trial 203 with value: 0.5930232558139535.\n"
     ]
    },
    {
     "name": "stdout",
     "output_type": "stream",
     "text": [
      "10/10 [==============================] - 0s 1ms/step\n"
     ]
    },
    {
     "name": "stderr",
     "output_type": "stream",
     "text": [
      "[I 2025-09-17 18:08:09,503] Trial 382 finished with value: 0.0 and parameters: {'learning_rate': 0.00010153738637880897, 'n_l1': 64, 'n_l2': 96, 'n_l3': 32, 'n_l4': 8, 'dropout_rate': 0.2311518032230533, 'activation': 'selu', 'optimizer': 'adam', 'batch_size': 64}. Best is trial 203 with value: 0.5930232558139535.\n"
     ]
    },
    {
     "name": "stdout",
     "output_type": "stream",
     "text": [
      "10/10 [==============================] - 0s 2ms/step\n"
     ]
    },
    {
     "name": "stderr",
     "output_type": "stream",
     "text": [
      "[I 2025-09-17 18:08:15,252] Trial 383 finished with value: 0.45112781954887216 and parameters: {'learning_rate': 9.347336555955166e-05, 'n_l1': 64, 'n_l2': 96, 'n_l3': 32, 'n_l4': 16, 'dropout_rate': 0.0003055584911355481, 'activation': 'selu', 'optimizer': 'adam', 'batch_size': 64}. Best is trial 203 with value: 0.5930232558139535.\n"
     ]
    },
    {
     "name": "stdout",
     "output_type": "stream",
     "text": [
      "10/10 [==============================] - 0s 2ms/step\n"
     ]
    },
    {
     "name": "stderr",
     "output_type": "stream",
     "text": [
      "[I 2025-09-17 18:08:18,704] Trial 384 finished with value: 0.4444444444444444 and parameters: {'learning_rate': 6.155892034173217e-05, 'n_l1': 64, 'n_l2': 96, 'n_l3': 32, 'n_l4': 8, 'dropout_rate': 4.864674640987562e-05, 'activation': 'tanh', 'optimizer': 'adam', 'batch_size': 64}. Best is trial 203 with value: 0.5930232558139535.\n"
     ]
    },
    {
     "name": "stdout",
     "output_type": "stream",
     "text": [
      "10/10 [==============================] - 0s 2ms/step\n"
     ]
    },
    {
     "name": "stderr",
     "output_type": "stream",
     "text": [
      "[I 2025-09-17 18:08:21,992] Trial 385 finished with value: 0.3870967741935484 and parameters: {'learning_rate': 7.160832118226568e-05, 'n_l1': 96, 'n_l2': 96, 'n_l3': 32, 'n_l4': 8, 'dropout_rate': 0.012451959982486733, 'activation': 'selu', 'optimizer': 'adam', 'batch_size': 64}. Best is trial 203 with value: 0.5930232558139535.\n"
     ]
    },
    {
     "name": "stdout",
     "output_type": "stream",
     "text": [
      "10/10 [==============================] - 0s 2ms/step\n"
     ]
    },
    {
     "name": "stderr",
     "output_type": "stream",
     "text": [
      "[I 2025-09-17 18:08:24,719] Trial 386 finished with value: 0.0 and parameters: {'learning_rate': 0.0008136969065277118, 'n_l1': 64, 'n_l2': 224, 'n_l3': 32, 'n_l4': 8, 'dropout_rate': 0.010186221707035653, 'activation': 'selu', 'optimizer': 'adam', 'batch_size': 64}. Best is trial 203 with value: 0.5930232558139535.\n"
     ]
    },
    {
     "name": "stdout",
     "output_type": "stream",
     "text": [
      "10/10 [==============================] - 0s 2ms/step\n"
     ]
    },
    {
     "name": "stderr",
     "output_type": "stream",
     "text": [
      "[I 2025-09-17 18:08:30,093] Trial 387 finished with value: 0.0 and parameters: {'learning_rate': 0.00013604861832745095, 'n_l1': 64, 'n_l2': 96, 'n_l3': 32, 'n_l4': 8, 'dropout_rate': 0.025520932988434716, 'activation': 'selu', 'optimizer': 'sgd', 'batch_size': 64}. Best is trial 203 with value: 0.5930232558139535.\n"
     ]
    },
    {
     "name": "stdout",
     "output_type": "stream",
     "text": [
      "10/10 [==============================] - 0s 2ms/step\n"
     ]
    },
    {
     "name": "stderr",
     "output_type": "stream",
     "text": [
      "[I 2025-09-17 18:08:36,096] Trial 388 finished with value: 0.0 and parameters: {'learning_rate': 0.00010977937757954457, 'n_l1': 64, 'n_l2': 96, 'n_l3': 32, 'n_l4': 8, 'dropout_rate': 0.05809919089704907, 'activation': 'selu', 'optimizer': 'adam', 'batch_size': 64}. Best is trial 203 with value: 0.5930232558139535.\n"
     ]
    },
    {
     "name": "stdout",
     "output_type": "stream",
     "text": [
      "10/10 [==============================] - 0s 2ms/step\n"
     ]
    },
    {
     "name": "stderr",
     "output_type": "stream",
     "text": [
      "[I 2025-09-17 18:08:38,479] Trial 389 finished with value: 0.0 and parameters: {'learning_rate': 0.0004884478276937535, 'n_l1': 64, 'n_l2': 96, 'n_l3': 32, 'n_l4': 8, 'dropout_rate': 0.03797089284648465, 'activation': 'relu', 'optimizer': 'adam', 'batch_size': 64}. Best is trial 203 with value: 0.5930232558139535.\n"
     ]
    },
    {
     "name": "stdout",
     "output_type": "stream",
     "text": [
      "10/10 [==============================] - 0s 1ms/step\n"
     ]
    },
    {
     "name": "stderr",
     "output_type": "stream",
     "text": [
      "[I 2025-09-17 18:08:41,401] Trial 390 finished with value: 0.34065934065934067 and parameters: {'learning_rate': 8.055202812796061e-05, 'n_l1': 64, 'n_l2': 128, 'n_l3': 32, 'n_l4': 8, 'dropout_rate': 0.009989152636605879, 'activation': 'selu', 'optimizer': 'adam', 'batch_size': 256}. Best is trial 203 with value: 0.5930232558139535.\n"
     ]
    },
    {
     "name": "stdout",
     "output_type": "stream",
     "text": [
      "10/10 [==============================] - 0s 2ms/step\n"
     ]
    },
    {
     "name": "stderr",
     "output_type": "stream",
     "text": [
      "[I 2025-09-17 18:08:52,728] Trial 391 finished with value: 0.0 and parameters: {'learning_rate': 9.828947465318689e-05, 'n_l1': 64, 'n_l2': 64, 'n_l3': 48, 'n_l4': 8, 'dropout_rate': 0.017896614100930117, 'activation': 'selu', 'optimizer': 'adam', 'batch_size': 64}. Best is trial 203 with value: 0.5930232558139535.\n"
     ]
    },
    {
     "name": "stdout",
     "output_type": "stream",
     "text": [
      "10/10 [==============================] - 0s 2ms/step\n"
     ]
    },
    {
     "name": "stderr",
     "output_type": "stream",
     "text": [
      "[I 2025-09-17 18:08:52,410] Trial 392 finished with value: 0.48120300751879697 and parameters: {'learning_rate': 0.00042279159251486985, 'n_l1': 64, 'n_l2': 96, 'n_l3': 32, 'n_l4': 8, 'dropout_rate': 0.0002311415779513938, 'activation': 'selu', 'optimizer': 'adam', 'batch_size': 64}. Best is trial 203 with value: 0.5930232558139535.\n"
     ]
    },
    {
     "name": "stdout",
     "output_type": "stream",
     "text": [
      "10/10 [==============================] - 0s 2ms/step\n"
     ]
    },
    {
     "name": "stderr",
     "output_type": "stream",
     "text": [
      "[I 2025-09-17 18:08:55,197] Trial 393 finished with value: 0.3660130718954248 and parameters: {'learning_rate': 0.00012281391437557652, 'n_l1': 64, 'n_l2': 192, 'n_l3': 32, 'n_l4': 8, 'dropout_rate': 0.010009268688084471, 'activation': 'selu', 'optimizer': 'adam', 'batch_size': 256}. Best is trial 203 with value: 0.5930232558139535.\n"
     ]
    },
    {
     "name": "stdout",
     "output_type": "stream",
     "text": [
      "10/10 [==============================] - 0s 2ms/step\n"
     ]
    },
    {
     "name": "stderr",
     "output_type": "stream",
     "text": [
      "[I 2025-09-17 18:09:01,393] Trial 394 finished with value: 0.0 and parameters: {'learning_rate': 8.754694737616541e-05, 'n_l1': 64, 'n_l2': 96, 'n_l3': 16, 'n_l4': 8, 'dropout_rate': 0.025770542266011703, 'activation': 'selu', 'optimizer': 'adam', 'batch_size': 64}. Best is trial 203 with value: 0.5930232558139535.\n"
     ]
    },
    {
     "name": "stdout",
     "output_type": "stream",
     "text": [
      "10/10 [==============================] - 0s 2ms/step\n"
     ]
    },
    {
     "name": "stderr",
     "output_type": "stream",
     "text": [
      "[I 2025-09-17 18:09:03,805] Trial 395 finished with value: 0.3883495145631068 and parameters: {'learning_rate': 7.253020287197466e-05, 'n_l1': 64, 'n_l2': 96, 'n_l3': 32, 'n_l4': 8, 'dropout_rate': 0.01640377724215481, 'activation': 'selu', 'optimizer': 'adam', 'batch_size': 256}. Best is trial 203 with value: 0.5930232558139535.\n"
     ]
    },
    {
     "name": "stdout",
     "output_type": "stream",
     "text": [
      "10/10 [==============================] - -6s -635140us/step\n"
     ]
    },
    {
     "name": "stderr",
     "output_type": "stream",
     "text": [
      "[I 2025-09-17 18:09:07,182] Trial 396 finished with value: 0.56 and parameters: {'learning_rate': 0.00010536756552668994, 'n_l1': 64, 'n_l2': 96, 'n_l3': 32, 'n_l4': 8, 'dropout_rate': 0.008857044864579477, 'activation': 'selu', 'optimizer': 'adam', 'batch_size': 64}. Best is trial 203 with value: 0.5930232558139535.\n"
     ]
    },
    {
     "name": "stdout",
     "output_type": "stream",
     "text": [
      "10/10 [==============================] - 0s 2ms/step\n"
     ]
    },
    {
     "name": "stderr",
     "output_type": "stream",
     "text": [
      "[I 2025-09-17 18:09:11,654] Trial 397 finished with value: 0.0 and parameters: {'learning_rate': 0.0005691479901070571, 'n_l1': 96, 'n_l2': 96, 'n_l3': 32, 'n_l4': 8, 'dropout_rate': 0.03334544838304778, 'activation': 'selu', 'optimizer': 'adam', 'batch_size': 64}. Best is trial 203 with value: 0.5930232558139535.\n"
     ]
    },
    {
     "name": "stdout",
     "output_type": "stream",
     "text": [
      "10/10 [==============================] - 0s 2ms/step\n"
     ]
    },
    {
     "name": "stderr",
     "output_type": "stream",
     "text": [
      "[I 2025-09-17 18:09:19,644] Trial 398 finished with value: 0.0 and parameters: {'learning_rate': 0.0002819967446257086, 'n_l1': 64, 'n_l2': 96, 'n_l3': 32, 'n_l4': 8, 'dropout_rate': 0.023257924484205147, 'activation': 'selu', 'optimizer': 'adam', 'batch_size': 64}. Best is trial 203 with value: 0.5930232558139535.\n"
     ]
    },
    {
     "name": "stdout",
     "output_type": "stream",
     "text": [
      "10/10 [==============================] - 0s 1ms/step\n"
     ]
    },
    {
     "name": "stderr",
     "output_type": "stream",
     "text": [
      "[I 2025-09-17 18:09:24,968] Trial 399 finished with value: 0.3472222222222222 and parameters: {'learning_rate': 0.00011165189991909266, 'n_l1': 32, 'n_l2': 96, 'n_l3': 32, 'n_l4': 8, 'dropout_rate': 0.0095617519974915, 'activation': 'selu', 'optimizer': 'adam', 'batch_size': 64}. Best is trial 203 with value: 0.5930232558139535.\n"
     ]
    },
    {
     "name": "stdout",
     "output_type": "stream",
     "text": [
      "Optuna duró 1763.02s en 400 trials\n"
     ]
    }
   ],
   "source": [
    "# Crear estudio y medir tiempo de Optuna\n",
    "t0 = time.perf_counter()\n",
    "\n",
    "study = optuna.create_study(\n",
    "    direction=\"maximize\", \n",
    "    sampler=optuna.samplers.TPESampler(seed=SEED)\n",
    ")\n",
    "study.optimize(objective, n_trials=400)\n",
    "\n",
    "opt_duration_sec = time.perf_counter() - t0\n",
    "n_trials_run = len(study.trials)\n",
    "print(f\"Optuna duró {opt_duration_sec:.2f}s en {n_trials_run} trials\")"
   ]
  },
  {
   "cell_type": "code",
   "execution_count": 7,
   "id": "52da1e70",
   "metadata": {},
   "outputs": [
    {
     "data": {
      "application/vnd.plotly.v1+json": {
       "config": {
        "plotlyServerURL": "https://plot.ly"
       },
       "data": [
        {
         "mode": "markers",
         "name": "Objective Value",
         "type": "scatter",
         "x": [
          0,
          1,
          2,
          3,
          4,
          5,
          6,
          7,
          8,
          9,
          10,
          11,
          12,
          13,
          14,
          15,
          16,
          17,
          18,
          19,
          20,
          21,
          22,
          23,
          24,
          25,
          26,
          27,
          28,
          29,
          30,
          31,
          32,
          33,
          34,
          35,
          36,
          37,
          38,
          39,
          40,
          41,
          42,
          43,
          44,
          45,
          46,
          47,
          48,
          49,
          50,
          51,
          52,
          53,
          54,
          55,
          56,
          57,
          58,
          59,
          60,
          61,
          62,
          63,
          64,
          65,
          66,
          67,
          68,
          69,
          70,
          71,
          72,
          73,
          74,
          75,
          76,
          77,
          78,
          79,
          80,
          81,
          82,
          83,
          84,
          85,
          86,
          87,
          88,
          89,
          90,
          91,
          92,
          93,
          94,
          95,
          96,
          97,
          98,
          99,
          100,
          101,
          102,
          103,
          104,
          105,
          106,
          107,
          108,
          109,
          110,
          111,
          112,
          113,
          114,
          115,
          116,
          117,
          118,
          119,
          120,
          121,
          122,
          123,
          124,
          125,
          126,
          127,
          128,
          129,
          130,
          131,
          132,
          133,
          134,
          135,
          136,
          137,
          138,
          139,
          140,
          141,
          142,
          143,
          144,
          145,
          146,
          147,
          148,
          149,
          150,
          151,
          152,
          153,
          154,
          155,
          156,
          157,
          158,
          159,
          160,
          161,
          162,
          163,
          164,
          165,
          166,
          167,
          168,
          169,
          170,
          171,
          172,
          173,
          174,
          175,
          176,
          177,
          178,
          179,
          180,
          181,
          182,
          183,
          184,
          185,
          186,
          187,
          188,
          189,
          190,
          191,
          192,
          193,
          194,
          195,
          196,
          197,
          198,
          199,
          200,
          201,
          202,
          203,
          204,
          205,
          206,
          207,
          208,
          209,
          210,
          211,
          212,
          213,
          214,
          215,
          216,
          217,
          218,
          219,
          220,
          221,
          222,
          223,
          224,
          225,
          226,
          227,
          228,
          229,
          230,
          231,
          232,
          233,
          234,
          235,
          236,
          237,
          238,
          239,
          240,
          241,
          242,
          243,
          244,
          245,
          246,
          247,
          248,
          249,
          250,
          251,
          252,
          253,
          254,
          255,
          256,
          257,
          258,
          259,
          260,
          261,
          262,
          263,
          264,
          265,
          266,
          267,
          268,
          269,
          270,
          271,
          272,
          273,
          274,
          275,
          276,
          277,
          278,
          279,
          280,
          281,
          282,
          283,
          284,
          285,
          286,
          287,
          288,
          289,
          290,
          291,
          292,
          293,
          294,
          295,
          296,
          297,
          298,
          299,
          300,
          301,
          302,
          303,
          304,
          305,
          306,
          307,
          308,
          309,
          310,
          311,
          312,
          313,
          314,
          315,
          316,
          317,
          318,
          319,
          320,
          321,
          322,
          323,
          324,
          325,
          326,
          327,
          328,
          329,
          330,
          331,
          332,
          333,
          334,
          335,
          336,
          337,
          338,
          339,
          340,
          341,
          342,
          343,
          344,
          345,
          346,
          347,
          348,
          349,
          350,
          351,
          352,
          353,
          354,
          355,
          356,
          357,
          358,
          359,
          360,
          361,
          362,
          363,
          364,
          365,
          366,
          367,
          368,
          369,
          370,
          371,
          372,
          373,
          374,
          375,
          376,
          377,
          378,
          379,
          380,
          381,
          382,
          383,
          384,
          385,
          386,
          387,
          388,
          389,
          390,
          391,
          392,
          393,
          394,
          395,
          396,
          397,
          398,
          399
         ],
         "y": [
          0,
          0,
          0.17518248175182483,
          0.20833333333333334,
          0,
          0,
          0.0625,
          0,
          0,
          0,
          0.3963963963963964,
          0.4647887323943662,
          0,
          0,
          0.20952380952380953,
          0,
          0.1320754716981132,
          0.1322314049586777,
          0,
          0,
          0.39416058394160586,
          0.07339449541284404,
          0.4768211920529801,
          0.5106382978723404,
          0.2962962962962963,
          0,
          0,
          0,
          0.28846153846153844,
          0,
          0,
          0.535031847133758,
          0,
          0.35714285714285715,
          0,
          0.3006535947712418,
          0.28,
          0,
          0.49673202614379086,
          0.4260355029585799,
          0.06593406593406594,
          0.3333333333333333,
          0.2978723404255319,
          0.34328358208955223,
          0.20967741935483872,
          0.4657534246575342,
          0.14414414414414414,
          0.07142857142857142,
          0.14173228346456693,
          0.45962732919254656,
          0.09523809523809523,
          0,
          0,
          0,
          0,
          0.45454545454545453,
          0,
          0,
          0,
          0.33043478260869563,
          0,
          0.4172661870503597,
          0,
          0.4900662251655629,
          0.4084507042253521,
          0.49645390070921985,
          0.39436619718309857,
          0.4264705882352941,
          0.4032258064516129,
          0.421875,
          0.33879781420765026,
          0.460431654676259,
          0,
          0.2903225806451613,
          0,
          0.3,
          0.46706586826347307,
          0.18181818181818182,
          0.32653061224489793,
          0.20869565217391303,
          0.2647058823529412,
          0.3829787234042553,
          0,
          0,
          0.23931623931623933,
          0,
          0.288,
          0.5542168674698795,
          0,
          0,
          0.49645390070921985,
          0.5425531914893617,
          0,
          0,
          0.46715328467153283,
          0.40310077519379844,
          0,
          0.06976744186046512,
          0,
          0.35384615384615387,
          0,
          0.5389221556886228,
          0.5517241379310345,
          0,
          0.2524271844660194,
          0,
          0.4827586206896552,
          0.0970873786407767,
          0.4117647058823529,
          0.16901408450704225,
          0.47619047619047616,
          0,
          0.35384615384615387,
          0,
          0,
          0.45121951219512196,
          0.3120567375886525,
          0,
          0,
          0,
          0,
          0.45320197044334976,
          0.47368421052631576,
          0.4777777777777778,
          0,
          0,
          0.24615384615384617,
          0,
          0.5027322404371585,
          0.24691358024691357,
          0,
          0.32116788321167883,
          0.3902439024390244,
          0,
          0.4217687074829932,
          0.3783783783783784,
          0.4264705882352941,
          0,
          0.4657534246575342,
          0.32894736842105265,
          0,
          0.4411764705882353,
          0.42105263157894735,
          0.5027322404371585,
          0.35406698564593303,
          0.4222222222222222,
          0,
          0.023809523809523808,
          0.4492753623188406,
          0.4161849710982659,
          0.13333333333333333,
          0.4221105527638191,
          0.450261780104712,
          0.3333333333333333,
          0,
          0,
          0.42105263157894735,
          0.17094017094017094,
          0.32967032967032966,
          0.39344262295081966,
          0,
          0.4444444444444444,
          0.3287671232876712,
          0.5333333333333333,
          0.44565217391304346,
          0.4444444444444444,
          0.4666666666666667,
          0,
          0.375,
          0.025974025974025976,
          0,
          0.4583333333333333,
          0.5026178010471204,
          0.5217391304347826,
          0.5308056872037915,
          0.5279187817258884,
          0.4657534246575342,
          0.02564102564102564,
          0.5217391304347826,
          0.41624365482233505,
          0.47560975609756095,
          0.5425531914893617,
          0.3671497584541063,
          0.5348837209302325,
          0.47804878048780486,
          0.47058823529411764,
          0.5222222222222223,
          0.37142857142857144,
          0,
          0.2857142857142857,
          0.5303867403314917,
          0.40217391304347827,
          0.5,
          0.5347593582887701,
          0.5798816568047337,
          0.5632183908045977,
          0,
          0.48863636363636365,
          0.5227272727272727,
          0,
          0.5333333333333333,
          0.4971751412429379,
          0.519774011299435,
          0.5930232558139535,
          0.5647058823529412,
          0.5617977528089888,
          0.48366013071895425,
          0.5632183908045977,
          0,
          0.3821656050955414,
          0.32051282051282054,
          0.5632183908045977,
          0.5485714285714286,
          0.4419889502762431,
          0,
          0.5310734463276836,
          0,
          0,
          0.5245901639344263,
          0,
          0,
          0.42953020134228187,
          0,
          0.45555555555555555,
          0.5125,
          0.519774011299435,
          0.5371428571428571,
          0,
          0.5,
          0.5063291139240507,
          0.5185185185185185,
          0.5384615384615384,
          0.5308641975308642,
          0.5113636363636364,
          0.4692737430167598,
          0,
          0.5084745762711864,
          0,
          0.5052631578947369,
          0.5202312138728323,
          0.4685714285714286,
          0.47513812154696133,
          0.5079365079365079,
          0.5057471264367817,
          0.5054945054945055,
          0.3157894736842105,
          0,
          0.5,
          0.3150684931506849,
          0.49411764705882355,
          0.3592233009708738,
          0.4691358024691358,
          0.45161290322580644,
          0,
          0.5497076023391813,
          0,
          0.5357142857142857,
          0,
          0,
          0.02247191011235955,
          0.4880952380952381,
          0.519774011299435,
          0.08421052631578947,
          0.4945054945054945,
          0.4393939393939394,
          0,
          0,
          0.33766233766233766,
          0.30434782608695654,
          0,
          0.46408839779005523,
          0.42028985507246375,
          0.5333333333333333,
          0.4720496894409938,
          0,
          0,
          0,
          0.4142857142857143,
          0,
          0.23357664233576642,
          0.4945054945054945,
          0,
          0,
          0.4875,
          0.37623762376237624,
          0.5748502994011976,
          0.5853658536585366,
          0.43356643356643354,
          0,
          0.5411764705882353,
          0,
          0.3888888888888889,
          0,
          0.5573770491803278,
          0.5490196078431373,
          0.3548387096774194,
          0.5359477124183006,
          0,
          0,
          0.5138888888888888,
          0,
          0.3302752293577982,
          0,
          0,
          0.4375,
          0,
          0,
          0.5507246376811594,
          0.49295774647887325,
          0,
          0.46875,
          0,
          0.5276073619631901,
          0,
          0,
          0.38461538461538464,
          0,
          0.3875,
          0,
          0.3875968992248062,
          0,
          0,
          0,
          0,
          0,
          0,
          0.18333333333333332,
          0,
          0.5680473372781065,
          0,
          0.4697986577181208,
          0,
          0.56,
          0,
          0.5733333333333334,
          0,
          0,
          0,
          0,
          0.5662650602409639,
          0,
          0,
          0,
          0,
          0.5760869565217391,
          0,
          0.5375,
          0.17857142857142858,
          0.52,
          0,
          0.5280898876404494,
          0,
          0.45454545454545453,
          0,
          0,
          0.34108527131782945,
          0,
          0,
          0,
          0,
          0,
          0.5306122448979592,
          0.3669724770642202,
          0,
          0.38848920863309355,
          0,
          0.496551724137931,
          0.14285714285714285,
          0,
          0.5477707006369427,
          0.5590062111801242,
          0,
          0,
          0.4585987261146497,
          0.4,
          0,
          0,
          0.4258064516129032,
          0,
          0,
          0,
          0.06060606060606061,
          0,
          0.45112781954887216,
          0.4444444444444444,
          0.3870967741935484,
          0,
          0,
          0,
          0,
          0.34065934065934067,
          0,
          0.48120300751879697,
          0.3660130718954248,
          0,
          0.3883495145631068,
          0.56,
          0,
          0,
          0.3472222222222222
         ]
        },
        {
         "mode": "lines",
         "name": "Best Value",
         "type": "scatter",
         "x": [
          0,
          1,
          2,
          3,
          4,
          5,
          6,
          7,
          8,
          9,
          10,
          11,
          12,
          13,
          14,
          15,
          16,
          17,
          18,
          19,
          20,
          21,
          22,
          23,
          24,
          25,
          26,
          27,
          28,
          29,
          30,
          31,
          32,
          33,
          34,
          35,
          36,
          37,
          38,
          39,
          40,
          41,
          42,
          43,
          44,
          45,
          46,
          47,
          48,
          49,
          50,
          51,
          52,
          53,
          54,
          55,
          56,
          57,
          58,
          59,
          60,
          61,
          62,
          63,
          64,
          65,
          66,
          67,
          68,
          69,
          70,
          71,
          72,
          73,
          74,
          75,
          76,
          77,
          78,
          79,
          80,
          81,
          82,
          83,
          84,
          85,
          86,
          87,
          88,
          89,
          90,
          91,
          92,
          93,
          94,
          95,
          96,
          97,
          98,
          99,
          100,
          101,
          102,
          103,
          104,
          105,
          106,
          107,
          108,
          109,
          110,
          111,
          112,
          113,
          114,
          115,
          116,
          117,
          118,
          119,
          120,
          121,
          122,
          123,
          124,
          125,
          126,
          127,
          128,
          129,
          130,
          131,
          132,
          133,
          134,
          135,
          136,
          137,
          138,
          139,
          140,
          141,
          142,
          143,
          144,
          145,
          146,
          147,
          148,
          149,
          150,
          151,
          152,
          153,
          154,
          155,
          156,
          157,
          158,
          159,
          160,
          161,
          162,
          163,
          164,
          165,
          166,
          167,
          168,
          169,
          170,
          171,
          172,
          173,
          174,
          175,
          176,
          177,
          178,
          179,
          180,
          181,
          182,
          183,
          184,
          185,
          186,
          187,
          188,
          189,
          190,
          191,
          192,
          193,
          194,
          195,
          196,
          197,
          198,
          199,
          200,
          201,
          202,
          203,
          204,
          205,
          206,
          207,
          208,
          209,
          210,
          211,
          212,
          213,
          214,
          215,
          216,
          217,
          218,
          219,
          220,
          221,
          222,
          223,
          224,
          225,
          226,
          227,
          228,
          229,
          230,
          231,
          232,
          233,
          234,
          235,
          236,
          237,
          238,
          239,
          240,
          241,
          242,
          243,
          244,
          245,
          246,
          247,
          248,
          249,
          250,
          251,
          252,
          253,
          254,
          255,
          256,
          257,
          258,
          259,
          260,
          261,
          262,
          263,
          264,
          265,
          266,
          267,
          268,
          269,
          270,
          271,
          272,
          273,
          274,
          275,
          276,
          277,
          278,
          279,
          280,
          281,
          282,
          283,
          284,
          285,
          286,
          287,
          288,
          289,
          290,
          291,
          292,
          293,
          294,
          295,
          296,
          297,
          298,
          299,
          300,
          301,
          302,
          303,
          304,
          305,
          306,
          307,
          308,
          309,
          310,
          311,
          312,
          313,
          314,
          315,
          316,
          317,
          318,
          319,
          320,
          321,
          322,
          323,
          324,
          325,
          326,
          327,
          328,
          329,
          330,
          331,
          332,
          333,
          334,
          335,
          336,
          337,
          338,
          339,
          340,
          341,
          342,
          343,
          344,
          345,
          346,
          347,
          348,
          349,
          350,
          351,
          352,
          353,
          354,
          355,
          356,
          357,
          358,
          359,
          360,
          361,
          362,
          363,
          364,
          365,
          366,
          367,
          368,
          369,
          370,
          371,
          372,
          373,
          374,
          375,
          376,
          377,
          378,
          379,
          380,
          381,
          382,
          383,
          384,
          385,
          386,
          387,
          388,
          389,
          390,
          391,
          392,
          393,
          394,
          395,
          396,
          397,
          398,
          399
         ],
         "y": [
          0,
          0,
          0.17518248175182483,
          0.20833333333333334,
          0.20833333333333334,
          0.20833333333333334,
          0.20833333333333334,
          0.20833333333333334,
          0.20833333333333334,
          0.20833333333333334,
          0.3963963963963964,
          0.4647887323943662,
          0.4647887323943662,
          0.4647887323943662,
          0.4647887323943662,
          0.4647887323943662,
          0.4647887323943662,
          0.4647887323943662,
          0.4647887323943662,
          0.4647887323943662,
          0.4647887323943662,
          0.4647887323943662,
          0.4768211920529801,
          0.5106382978723404,
          0.5106382978723404,
          0.5106382978723404,
          0.5106382978723404,
          0.5106382978723404,
          0.5106382978723404,
          0.5106382978723404,
          0.5106382978723404,
          0.535031847133758,
          0.535031847133758,
          0.535031847133758,
          0.535031847133758,
          0.535031847133758,
          0.535031847133758,
          0.535031847133758,
          0.535031847133758,
          0.535031847133758,
          0.535031847133758,
          0.535031847133758,
          0.535031847133758,
          0.535031847133758,
          0.535031847133758,
          0.535031847133758,
          0.535031847133758,
          0.535031847133758,
          0.535031847133758,
          0.535031847133758,
          0.535031847133758,
          0.535031847133758,
          0.535031847133758,
          0.535031847133758,
          0.535031847133758,
          0.535031847133758,
          0.535031847133758,
          0.535031847133758,
          0.535031847133758,
          0.535031847133758,
          0.535031847133758,
          0.535031847133758,
          0.535031847133758,
          0.535031847133758,
          0.535031847133758,
          0.535031847133758,
          0.535031847133758,
          0.535031847133758,
          0.535031847133758,
          0.535031847133758,
          0.535031847133758,
          0.535031847133758,
          0.535031847133758,
          0.535031847133758,
          0.535031847133758,
          0.535031847133758,
          0.535031847133758,
          0.535031847133758,
          0.535031847133758,
          0.535031847133758,
          0.535031847133758,
          0.535031847133758,
          0.535031847133758,
          0.535031847133758,
          0.535031847133758,
          0.535031847133758,
          0.535031847133758,
          0.5542168674698795,
          0.5542168674698795,
          0.5542168674698795,
          0.5542168674698795,
          0.5542168674698795,
          0.5542168674698795,
          0.5542168674698795,
          0.5542168674698795,
          0.5542168674698795,
          0.5542168674698795,
          0.5542168674698795,
          0.5542168674698795,
          0.5542168674698795,
          0.5542168674698795,
          0.5542168674698795,
          0.5542168674698795,
          0.5542168674698795,
          0.5542168674698795,
          0.5542168674698795,
          0.5542168674698795,
          0.5542168674698795,
          0.5542168674698795,
          0.5542168674698795,
          0.5542168674698795,
          0.5542168674698795,
          0.5542168674698795,
          0.5542168674698795,
          0.5542168674698795,
          0.5542168674698795,
          0.5542168674698795,
          0.5542168674698795,
          0.5542168674698795,
          0.5542168674698795,
          0.5542168674698795,
          0.5542168674698795,
          0.5542168674698795,
          0.5542168674698795,
          0.5542168674698795,
          0.5542168674698795,
          0.5542168674698795,
          0.5542168674698795,
          0.5542168674698795,
          0.5542168674698795,
          0.5542168674698795,
          0.5542168674698795,
          0.5542168674698795,
          0.5542168674698795,
          0.5542168674698795,
          0.5542168674698795,
          0.5542168674698795,
          0.5542168674698795,
          0.5542168674698795,
          0.5542168674698795,
          0.5542168674698795,
          0.5542168674698795,
          0.5542168674698795,
          0.5542168674698795,
          0.5542168674698795,
          0.5542168674698795,
          0.5542168674698795,
          0.5542168674698795,
          0.5542168674698795,
          0.5542168674698795,
          0.5542168674698795,
          0.5542168674698795,
          0.5542168674698795,
          0.5542168674698795,
          0.5542168674698795,
          0.5542168674698795,
          0.5542168674698795,
          0.5542168674698795,
          0.5542168674698795,
          0.5542168674698795,
          0.5542168674698795,
          0.5542168674698795,
          0.5542168674698795,
          0.5542168674698795,
          0.5542168674698795,
          0.5542168674698795,
          0.5542168674698795,
          0.5542168674698795,
          0.5542168674698795,
          0.5542168674698795,
          0.5542168674698795,
          0.5542168674698795,
          0.5542168674698795,
          0.5542168674698795,
          0.5542168674698795,
          0.5542168674698795,
          0.5542168674698795,
          0.5542168674698795,
          0.5542168674698795,
          0.5542168674698795,
          0.5542168674698795,
          0.5542168674698795,
          0.5542168674698795,
          0.5542168674698795,
          0.5542168674698795,
          0.5542168674698795,
          0.5542168674698795,
          0.5542168674698795,
          0.5542168674698795,
          0.5542168674698795,
          0.5542168674698795,
          0.5542168674698795,
          0.5542168674698795,
          0.5542168674698795,
          0.5798816568047337,
          0.5798816568047337,
          0.5798816568047337,
          0.5798816568047337,
          0.5798816568047337,
          0.5798816568047337,
          0.5798816568047337,
          0.5798816568047337,
          0.5798816568047337,
          0.5930232558139535,
          0.5930232558139535,
          0.5930232558139535,
          0.5930232558139535,
          0.5930232558139535,
          0.5930232558139535,
          0.5930232558139535,
          0.5930232558139535,
          0.5930232558139535,
          0.5930232558139535,
          0.5930232558139535,
          0.5930232558139535,
          0.5930232558139535,
          0.5930232558139535,
          0.5930232558139535,
          0.5930232558139535,
          0.5930232558139535,
          0.5930232558139535,
          0.5930232558139535,
          0.5930232558139535,
          0.5930232558139535,
          0.5930232558139535,
          0.5930232558139535,
          0.5930232558139535,
          0.5930232558139535,
          0.5930232558139535,
          0.5930232558139535,
          0.5930232558139535,
          0.5930232558139535,
          0.5930232558139535,
          0.5930232558139535,
          0.5930232558139535,
          0.5930232558139535,
          0.5930232558139535,
          0.5930232558139535,
          0.5930232558139535,
          0.5930232558139535,
          0.5930232558139535,
          0.5930232558139535,
          0.5930232558139535,
          0.5930232558139535,
          0.5930232558139535,
          0.5930232558139535,
          0.5930232558139535,
          0.5930232558139535,
          0.5930232558139535,
          0.5930232558139535,
          0.5930232558139535,
          0.5930232558139535,
          0.5930232558139535,
          0.5930232558139535,
          0.5930232558139535,
          0.5930232558139535,
          0.5930232558139535,
          0.5930232558139535,
          0.5930232558139535,
          0.5930232558139535,
          0.5930232558139535,
          0.5930232558139535,
          0.5930232558139535,
          0.5930232558139535,
          0.5930232558139535,
          0.5930232558139535,
          0.5930232558139535,
          0.5930232558139535,
          0.5930232558139535,
          0.5930232558139535,
          0.5930232558139535,
          0.5930232558139535,
          0.5930232558139535,
          0.5930232558139535,
          0.5930232558139535,
          0.5930232558139535,
          0.5930232558139535,
          0.5930232558139535,
          0.5930232558139535,
          0.5930232558139535,
          0.5930232558139535,
          0.5930232558139535,
          0.5930232558139535,
          0.5930232558139535,
          0.5930232558139535,
          0.5930232558139535,
          0.5930232558139535,
          0.5930232558139535,
          0.5930232558139535,
          0.5930232558139535,
          0.5930232558139535,
          0.5930232558139535,
          0.5930232558139535,
          0.5930232558139535,
          0.5930232558139535,
          0.5930232558139535,
          0.5930232558139535,
          0.5930232558139535,
          0.5930232558139535,
          0.5930232558139535,
          0.5930232558139535,
          0.5930232558139535,
          0.5930232558139535,
          0.5930232558139535,
          0.5930232558139535,
          0.5930232558139535,
          0.5930232558139535,
          0.5930232558139535,
          0.5930232558139535,
          0.5930232558139535,
          0.5930232558139535,
          0.5930232558139535,
          0.5930232558139535,
          0.5930232558139535,
          0.5930232558139535,
          0.5930232558139535,
          0.5930232558139535,
          0.5930232558139535,
          0.5930232558139535,
          0.5930232558139535,
          0.5930232558139535,
          0.5930232558139535,
          0.5930232558139535,
          0.5930232558139535,
          0.5930232558139535,
          0.5930232558139535,
          0.5930232558139535,
          0.5930232558139535,
          0.5930232558139535,
          0.5930232558139535,
          0.5930232558139535,
          0.5930232558139535,
          0.5930232558139535,
          0.5930232558139535,
          0.5930232558139535,
          0.5930232558139535,
          0.5930232558139535,
          0.5930232558139535,
          0.5930232558139535,
          0.5930232558139535,
          0.5930232558139535,
          0.5930232558139535,
          0.5930232558139535,
          0.5930232558139535,
          0.5930232558139535,
          0.5930232558139535,
          0.5930232558139535,
          0.5930232558139535,
          0.5930232558139535,
          0.5930232558139535,
          0.5930232558139535,
          0.5930232558139535,
          0.5930232558139535,
          0.5930232558139535,
          0.5930232558139535,
          0.5930232558139535,
          0.5930232558139535,
          0.5930232558139535,
          0.5930232558139535,
          0.5930232558139535,
          0.5930232558139535,
          0.5930232558139535,
          0.5930232558139535,
          0.5930232558139535,
          0.5930232558139535,
          0.5930232558139535,
          0.5930232558139535,
          0.5930232558139535,
          0.5930232558139535,
          0.5930232558139535,
          0.5930232558139535,
          0.5930232558139535,
          0.5930232558139535,
          0.5930232558139535,
          0.5930232558139535,
          0.5930232558139535,
          0.5930232558139535,
          0.5930232558139535,
          0.5930232558139535,
          0.5930232558139535,
          0.5930232558139535,
          0.5930232558139535,
          0.5930232558139535,
          0.5930232558139535,
          0.5930232558139535,
          0.5930232558139535,
          0.5930232558139535,
          0.5930232558139535,
          0.5930232558139535,
          0.5930232558139535,
          0.5930232558139535,
          0.5930232558139535,
          0.5930232558139535,
          0.5930232558139535,
          0.5930232558139535,
          0.5930232558139535,
          0.5930232558139535,
          0.5930232558139535,
          0.5930232558139535,
          0.5930232558139535
         ]
        },
        {
         "marker": {
          "color": "#cccccc"
         },
         "mode": "markers",
         "name": "Infeasible Trial",
         "showlegend": false,
         "type": "scatter",
         "x": [],
         "y": []
        }
       ],
       "layout": {
        "template": {
         "data": {
          "bar": [
           {
            "error_x": {
             "color": "#2a3f5f"
            },
            "error_y": {
             "color": "#2a3f5f"
            },
            "marker": {
             "line": {
              "color": "#E5ECF6",
              "width": 0.5
             },
             "pattern": {
              "fillmode": "overlay",
              "size": 10,
              "solidity": 0.2
             }
            },
            "type": "bar"
           }
          ],
          "barpolar": [
           {
            "marker": {
             "line": {
              "color": "#E5ECF6",
              "width": 0.5
             },
             "pattern": {
              "fillmode": "overlay",
              "size": 10,
              "solidity": 0.2
             }
            },
            "type": "barpolar"
           }
          ],
          "carpet": [
           {
            "aaxis": {
             "endlinecolor": "#2a3f5f",
             "gridcolor": "white",
             "linecolor": "white",
             "minorgridcolor": "white",
             "startlinecolor": "#2a3f5f"
            },
            "baxis": {
             "endlinecolor": "#2a3f5f",
             "gridcolor": "white",
             "linecolor": "white",
             "minorgridcolor": "white",
             "startlinecolor": "#2a3f5f"
            },
            "type": "carpet"
           }
          ],
          "choropleth": [
           {
            "colorbar": {
             "outlinewidth": 0,
             "ticks": ""
            },
            "type": "choropleth"
           }
          ],
          "contour": [
           {
            "colorbar": {
             "outlinewidth": 0,
             "ticks": ""
            },
            "colorscale": [
             [
              0,
              "#0d0887"
             ],
             [
              0.1111111111111111,
              "#46039f"
             ],
             [
              0.2222222222222222,
              "#7201a8"
             ],
             [
              0.3333333333333333,
              "#9c179e"
             ],
             [
              0.4444444444444444,
              "#bd3786"
             ],
             [
              0.5555555555555556,
              "#d8576b"
             ],
             [
              0.6666666666666666,
              "#ed7953"
             ],
             [
              0.7777777777777778,
              "#fb9f3a"
             ],
             [
              0.8888888888888888,
              "#fdca26"
             ],
             [
              1,
              "#f0f921"
             ]
            ],
            "type": "contour"
           }
          ],
          "contourcarpet": [
           {
            "colorbar": {
             "outlinewidth": 0,
             "ticks": ""
            },
            "type": "contourcarpet"
           }
          ],
          "heatmap": [
           {
            "colorbar": {
             "outlinewidth": 0,
             "ticks": ""
            },
            "colorscale": [
             [
              0,
              "#0d0887"
             ],
             [
              0.1111111111111111,
              "#46039f"
             ],
             [
              0.2222222222222222,
              "#7201a8"
             ],
             [
              0.3333333333333333,
              "#9c179e"
             ],
             [
              0.4444444444444444,
              "#bd3786"
             ],
             [
              0.5555555555555556,
              "#d8576b"
             ],
             [
              0.6666666666666666,
              "#ed7953"
             ],
             [
              0.7777777777777778,
              "#fb9f3a"
             ],
             [
              0.8888888888888888,
              "#fdca26"
             ],
             [
              1,
              "#f0f921"
             ]
            ],
            "type": "heatmap"
           }
          ],
          "histogram": [
           {
            "marker": {
             "pattern": {
              "fillmode": "overlay",
              "size": 10,
              "solidity": 0.2
             }
            },
            "type": "histogram"
           }
          ],
          "histogram2d": [
           {
            "colorbar": {
             "outlinewidth": 0,
             "ticks": ""
            },
            "colorscale": [
             [
              0,
              "#0d0887"
             ],
             [
              0.1111111111111111,
              "#46039f"
             ],
             [
              0.2222222222222222,
              "#7201a8"
             ],
             [
              0.3333333333333333,
              "#9c179e"
             ],
             [
              0.4444444444444444,
              "#bd3786"
             ],
             [
              0.5555555555555556,
              "#d8576b"
             ],
             [
              0.6666666666666666,
              "#ed7953"
             ],
             [
              0.7777777777777778,
              "#fb9f3a"
             ],
             [
              0.8888888888888888,
              "#fdca26"
             ],
             [
              1,
              "#f0f921"
             ]
            ],
            "type": "histogram2d"
           }
          ],
          "histogram2dcontour": [
           {
            "colorbar": {
             "outlinewidth": 0,
             "ticks": ""
            },
            "colorscale": [
             [
              0,
              "#0d0887"
             ],
             [
              0.1111111111111111,
              "#46039f"
             ],
             [
              0.2222222222222222,
              "#7201a8"
             ],
             [
              0.3333333333333333,
              "#9c179e"
             ],
             [
              0.4444444444444444,
              "#bd3786"
             ],
             [
              0.5555555555555556,
              "#d8576b"
             ],
             [
              0.6666666666666666,
              "#ed7953"
             ],
             [
              0.7777777777777778,
              "#fb9f3a"
             ],
             [
              0.8888888888888888,
              "#fdca26"
             ],
             [
              1,
              "#f0f921"
             ]
            ],
            "type": "histogram2dcontour"
           }
          ],
          "mesh3d": [
           {
            "colorbar": {
             "outlinewidth": 0,
             "ticks": ""
            },
            "type": "mesh3d"
           }
          ],
          "parcoords": [
           {
            "line": {
             "colorbar": {
              "outlinewidth": 0,
              "ticks": ""
             }
            },
            "type": "parcoords"
           }
          ],
          "pie": [
           {
            "automargin": true,
            "type": "pie"
           }
          ],
          "scatter": [
           {
            "fillpattern": {
             "fillmode": "overlay",
             "size": 10,
             "solidity": 0.2
            },
            "type": "scatter"
           }
          ],
          "scatter3d": [
           {
            "line": {
             "colorbar": {
              "outlinewidth": 0,
              "ticks": ""
             }
            },
            "marker": {
             "colorbar": {
              "outlinewidth": 0,
              "ticks": ""
             }
            },
            "type": "scatter3d"
           }
          ],
          "scattercarpet": [
           {
            "marker": {
             "colorbar": {
              "outlinewidth": 0,
              "ticks": ""
             }
            },
            "type": "scattercarpet"
           }
          ],
          "scattergeo": [
           {
            "marker": {
             "colorbar": {
              "outlinewidth": 0,
              "ticks": ""
             }
            },
            "type": "scattergeo"
           }
          ],
          "scattergl": [
           {
            "marker": {
             "colorbar": {
              "outlinewidth": 0,
              "ticks": ""
             }
            },
            "type": "scattergl"
           }
          ],
          "scattermap": [
           {
            "marker": {
             "colorbar": {
              "outlinewidth": 0,
              "ticks": ""
             }
            },
            "type": "scattermap"
           }
          ],
          "scattermapbox": [
           {
            "marker": {
             "colorbar": {
              "outlinewidth": 0,
              "ticks": ""
             }
            },
            "type": "scattermapbox"
           }
          ],
          "scatterpolar": [
           {
            "marker": {
             "colorbar": {
              "outlinewidth": 0,
              "ticks": ""
             }
            },
            "type": "scatterpolar"
           }
          ],
          "scatterpolargl": [
           {
            "marker": {
             "colorbar": {
              "outlinewidth": 0,
              "ticks": ""
             }
            },
            "type": "scatterpolargl"
           }
          ],
          "scatterternary": [
           {
            "marker": {
             "colorbar": {
              "outlinewidth": 0,
              "ticks": ""
             }
            },
            "type": "scatterternary"
           }
          ],
          "surface": [
           {
            "colorbar": {
             "outlinewidth": 0,
             "ticks": ""
            },
            "colorscale": [
             [
              0,
              "#0d0887"
             ],
             [
              0.1111111111111111,
              "#46039f"
             ],
             [
              0.2222222222222222,
              "#7201a8"
             ],
             [
              0.3333333333333333,
              "#9c179e"
             ],
             [
              0.4444444444444444,
              "#bd3786"
             ],
             [
              0.5555555555555556,
              "#d8576b"
             ],
             [
              0.6666666666666666,
              "#ed7953"
             ],
             [
              0.7777777777777778,
              "#fb9f3a"
             ],
             [
              0.8888888888888888,
              "#fdca26"
             ],
             [
              1,
              "#f0f921"
             ]
            ],
            "type": "surface"
           }
          ],
          "table": [
           {
            "cells": {
             "fill": {
              "color": "#EBF0F8"
             },
             "line": {
              "color": "white"
             }
            },
            "header": {
             "fill": {
              "color": "#C8D4E3"
             },
             "line": {
              "color": "white"
             }
            },
            "type": "table"
           }
          ]
         },
         "layout": {
          "annotationdefaults": {
           "arrowcolor": "#2a3f5f",
           "arrowhead": 0,
           "arrowwidth": 1
          },
          "autotypenumbers": "strict",
          "coloraxis": {
           "colorbar": {
            "outlinewidth": 0,
            "ticks": ""
           }
          },
          "colorscale": {
           "diverging": [
            [
             0,
             "#8e0152"
            ],
            [
             0.1,
             "#c51b7d"
            ],
            [
             0.2,
             "#de77ae"
            ],
            [
             0.3,
             "#f1b6da"
            ],
            [
             0.4,
             "#fde0ef"
            ],
            [
             0.5,
             "#f7f7f7"
            ],
            [
             0.6,
             "#e6f5d0"
            ],
            [
             0.7,
             "#b8e186"
            ],
            [
             0.8,
             "#7fbc41"
            ],
            [
             0.9,
             "#4d9221"
            ],
            [
             1,
             "#276419"
            ]
           ],
           "sequential": [
            [
             0,
             "#0d0887"
            ],
            [
             0.1111111111111111,
             "#46039f"
            ],
            [
             0.2222222222222222,
             "#7201a8"
            ],
            [
             0.3333333333333333,
             "#9c179e"
            ],
            [
             0.4444444444444444,
             "#bd3786"
            ],
            [
             0.5555555555555556,
             "#d8576b"
            ],
            [
             0.6666666666666666,
             "#ed7953"
            ],
            [
             0.7777777777777778,
             "#fb9f3a"
            ],
            [
             0.8888888888888888,
             "#fdca26"
            ],
            [
             1,
             "#f0f921"
            ]
           ],
           "sequentialminus": [
            [
             0,
             "#0d0887"
            ],
            [
             0.1111111111111111,
             "#46039f"
            ],
            [
             0.2222222222222222,
             "#7201a8"
            ],
            [
             0.3333333333333333,
             "#9c179e"
            ],
            [
             0.4444444444444444,
             "#bd3786"
            ],
            [
             0.5555555555555556,
             "#d8576b"
            ],
            [
             0.6666666666666666,
             "#ed7953"
            ],
            [
             0.7777777777777778,
             "#fb9f3a"
            ],
            [
             0.8888888888888888,
             "#fdca26"
            ],
            [
             1,
             "#f0f921"
            ]
           ]
          },
          "colorway": [
           "#636efa",
           "#EF553B",
           "#00cc96",
           "#ab63fa",
           "#FFA15A",
           "#19d3f3",
           "#FF6692",
           "#B6E880",
           "#FF97FF",
           "#FECB52"
          ],
          "font": {
           "color": "#2a3f5f"
          },
          "geo": {
           "bgcolor": "white",
           "lakecolor": "white",
           "landcolor": "#E5ECF6",
           "showlakes": true,
           "showland": true,
           "subunitcolor": "white"
          },
          "hoverlabel": {
           "align": "left"
          },
          "hovermode": "closest",
          "mapbox": {
           "style": "light"
          },
          "paper_bgcolor": "white",
          "plot_bgcolor": "#E5ECF6",
          "polar": {
           "angularaxis": {
            "gridcolor": "white",
            "linecolor": "white",
            "ticks": ""
           },
           "bgcolor": "#E5ECF6",
           "radialaxis": {
            "gridcolor": "white",
            "linecolor": "white",
            "ticks": ""
           }
          },
          "scene": {
           "xaxis": {
            "backgroundcolor": "#E5ECF6",
            "gridcolor": "white",
            "gridwidth": 2,
            "linecolor": "white",
            "showbackground": true,
            "ticks": "",
            "zerolinecolor": "white"
           },
           "yaxis": {
            "backgroundcolor": "#E5ECF6",
            "gridcolor": "white",
            "gridwidth": 2,
            "linecolor": "white",
            "showbackground": true,
            "ticks": "",
            "zerolinecolor": "white"
           },
           "zaxis": {
            "backgroundcolor": "#E5ECF6",
            "gridcolor": "white",
            "gridwidth": 2,
            "linecolor": "white",
            "showbackground": true,
            "ticks": "",
            "zerolinecolor": "white"
           }
          },
          "shapedefaults": {
           "line": {
            "color": "#2a3f5f"
           }
          },
          "ternary": {
           "aaxis": {
            "gridcolor": "white",
            "linecolor": "white",
            "ticks": ""
           },
           "baxis": {
            "gridcolor": "white",
            "linecolor": "white",
            "ticks": ""
           },
           "bgcolor": "#E5ECF6",
           "caxis": {
            "gridcolor": "white",
            "linecolor": "white",
            "ticks": ""
           }
          },
          "title": {
           "x": 0.05
          },
          "xaxis": {
           "automargin": true,
           "gridcolor": "white",
           "linecolor": "white",
           "ticks": "",
           "title": {
            "standoff": 15
           },
           "zerolinecolor": "white",
           "zerolinewidth": 2
          },
          "yaxis": {
           "automargin": true,
           "gridcolor": "white",
           "linecolor": "white",
           "ticks": "",
           "title": {
            "standoff": 15
           },
           "zerolinecolor": "white",
           "zerolinewidth": 2
          }
         }
        },
        "title": {
         "text": "Optimization History Plot"
        },
        "xaxis": {
         "title": {
          "text": "Trial"
         }
        },
        "yaxis": {
         "title": {
          "text": "Objective Value"
         }
        }
       }
      }
     },
     "metadata": {},
     "output_type": "display_data"
    }
   ],
   "source": [
    "# Visualizar el historial de optimización\n",
    "plot_optimization_history(study)"
   ]
  },
  {
   "cell_type": "code",
   "execution_count": 8,
   "id": "848ce71b",
   "metadata": {},
   "outputs": [
    {
     "name": "stdout",
     "output_type": "stream",
     "text": [
      "Mejores hiperparámetros encontrados:\n",
      "{'learning_rate': 0.000102413766392232, 'n_l1': 64, 'n_l2': 96, 'n_l3': 32, 'n_l4': 8, 'dropout_rate': 0.008540077597569223, 'activation': 'selu', 'optimizer': 'adam', 'batch_size': 256}\n",
      "Mejor score de f1-score: 0.5930\n"
     ]
    }
   ],
   "source": [
    "print(\"Mejores hiperparámetros encontrados:\")\n",
    "print(study.best_params)\n",
    "print(f\"Mejor score de {SCORE}: {study.best_value:.4f}\")\n",
    "best_params = study.best_params"
   ]
  },
  {
   "cell_type": "markdown",
   "id": "77ecd40d",
   "metadata": {},
   "source": [
    "GUARDAR EN JSON"
   ]
  },
  {
   "cell_type": "code",
   "execution_count": 9,
   "id": "df857fe7",
   "metadata": {},
   "outputs": [],
   "source": [
    "# Guardar los mejores hiperparámetros y su valor\n",
    "history = []\n",
    "if os.path.exists(\"best_hyperparams.json\"):\n",
    "    try:\n",
    "        with open(\"best_hyperparams.json\", \"r\") as f:\n",
    "            history = json.load(f)\n",
    "    except (json.JSONDecodeError, ValueError):\n",
    "        history = []\n",
    "\n",
    "# Guardar ambos en un solo diccionario\n",
    "history.append({\n",
    "    \"params\": study.best_params,\n",
    "    \"value\": study.best_value\n",
    "})\n",
    "\n",
    "with open(\"best_hyperparams.json\", \"w\") as f:\n",
    "    json.dump(history, f, indent=2)"
   ]
  },
  {
   "cell_type": "markdown",
   "id": "547d24af",
   "metadata": {},
   "source": [
    "CARGAR HIPERPARAMETROS DESDE JSON"
   ]
  },
  {
   "cell_type": "code",
   "execution_count": 10,
   "id": "c9bc8a7b",
   "metadata": {},
   "outputs": [
    {
     "name": "stdout",
     "output_type": "stream",
     "text": [
      "Hiperparámetros #1: {'learning_rate': 0.000102413766392232, 'n_l1': 64, 'n_l2': 96, 'n_l3': 32, 'n_l4': 8, 'dropout_rate': 0.008540077597569223, 'activation': 'selu', 'optimizer': 'adam', 'batch_size': 256}, Valor: 0.5930232558139535\n",
      "Hiperparámetros #2: {'learning_rate': 0.000102413766392232, 'n_l1': 64, 'n_l2': 96, 'n_l3': 32, 'n_l4': 8, 'dropout_rate': 0.008540077597569223, 'activation': 'selu', 'optimizer': 'adam', 'batch_size': 256}, Valor: 0.5930232558139535\n"
     ]
    }
   ],
   "source": [
    "# Cargar historial de hiperparámetros y valores\n",
    "with open(\"best_hyperparams.json\", \"r\") as f:\n",
    "    history = json.load(f)\n",
    "\n",
    "# Escoger el último (más reciente)\n",
    "best_params = history[-1][\"params\"]\n",
    "best_value = history[-1][\"value\"]\n",
    "\n",
    "# Para ver todos:\n",
    "for i, entry in enumerate(history):\n",
    "    print(f\"Hiperparámetros #{i+1}: {entry['params']}, Valor: {entry['value']}\")\n",
    "\n",
    "# Para escoger uno específico (por índice):\n",
    "# best_params = history[indice_que_quieras][\"params\"]\n",
    "# best_value = history[indice_que_quieras][\"value\"]"
   ]
  },
  {
   "cell_type": "code",
   "execution_count": 11,
   "id": "ea8f94fe",
   "metadata": {},
   "outputs": [],
   "source": [
    "# Carga de librerias con su semilla para garantizar reproducibilidad\n",
    "import os\n",
    "os.environ['PYTHONHASHSEED'] = str(SEED)\n",
    "import random\n",
    "random.seed(SEED)\n",
    "import numpy as np\n",
    "np.random.seed(SEED)\n",
    "import tensorflow as tf\n",
    "tf.random.set_seed(SEED)\n",
    "\n",
    "# Modelo final con los mejores hiperparámetros\n",
    "final_optimizer = {\n",
    "    \"adam\": tf.keras.optimizers.Adam,\n",
    "    \"rmsprop\": tf.keras.optimizers.RMSprop,\n",
    "    \"sgd\": tf.keras.optimizers.SGD\n",
    "}[best_params[\"optimizer\"]](learning_rate=best_params[\"learning_rate\"])\n",
    "final_model = Sequential([\n",
    "    Dense(best_params[\"n_l1\"], activation=best_params[\"activation\"]),\n",
    "    Dropout(best_params[\"dropout_rate\"]),\n",
    "    Dense(best_params[\"n_l2\"], activation=best_params[\"activation\"]),\n",
    "    Dropout(best_params[\"dropout_rate\"]),\n",
    "    Dense(best_params[\"n_l3\"], activation=best_params[\"activation\"]),\n",
    "    Dropout(best_params[\"dropout_rate\"]),\n",
    "    Dense(best_params[\"n_l4\"], activation=best_params[\"activation\"]),\n",
    "    Dropout(best_params[\"dropout_rate\"]),\n",
    "    Dense(3, activation='linear')  # 3 clases\n",
    "])\n",
    "final_model.compile(\n",
    "    loss=tf.keras.losses.SparseCategoricalCrossentropy(from_logits=True),\n",
    "    optimizer=final_optimizer,\n",
    "    metrics=[\"accuracy\"]\n",
    ")\n",
    "\n",
    "early_stop = EarlyStopping(\n",
    "    monitor=\"val_loss\",\n",
    "    patience=10,\n",
    "    restore_best_weights=True\n",
    ")\n",
    "\n",
    "history = final_model.fit(\n",
    "    X_train, y_train_m,\n",
    "    validation_data=(X_val, y_val_m),\n",
    "    epochs=60,\n",
    "    batch_size=best_params[\"batch_size\"],\n",
    "    callbacks=[early_stop],\n",
    "    verbose=0\n",
    ")\n",
    "final_model.save(\"Multiclass_Neural_Network.keras\")"
   ]
  },
  {
   "cell_type": "code",
   "execution_count": 12,
   "id": "4aa35efd",
   "metadata": {},
   "outputs": [
    {
     "name": "stdout",
     "output_type": "stream",
     "text": [
      "10/10 [==============================] - 0s 2ms/step\n",
      "Multiclass Neural Network Trend Changes Score:\n",
      "               precision    recall  f1-score   support\n",
      "\n",
      "       False     0.8821    0.7854    0.8309       219\n",
      "        True     0.5204    0.6892    0.5930        74\n",
      "\n",
      "    accuracy                         0.7611       293\n",
      "   macro avg     0.7012    0.7373    0.7120       293\n",
      "weighted avg     0.7907    0.7611    0.7708       293\n",
      "\n"
     ]
    }
   ],
   "source": [
    "# Obtener predicciones finales\n",
    "y_val_pred = np.argmax(final_model.predict(X_val), axis=1)\n",
    "print(\"Multiclass Neural Network Trend Changes Score:\\n\", trend_changes_score(y_val_m, y_val_pred))"
   ]
  },
  {
   "cell_type": "code",
   "execution_count": 13,
   "id": "6b9a5c35",
   "metadata": {},
   "outputs": [
    {
     "name": "stdout",
     "output_type": "stream",
     "text": [
      "Multiclass Neural Network Report:\n",
      "               precision    recall  f1-score   support\n",
      "\n",
      "           0     0.7475    0.8043    0.7749        92\n",
      "           1     0.3488    0.3061    0.3261        49\n",
      "           2     0.8355    0.8301    0.8328       153\n",
      "\n",
      "    accuracy                         0.7347       294\n",
      "   macro avg     0.6439    0.6468    0.6446       294\n",
      "weighted avg     0.7269    0.7347    0.7302       294\n",
      "\n",
      "Balanced accuracy: 0.6468452115145576\n"
     ]
    }
   ],
   "source": [
    "# Reporte completo: precisión, recall y F1 por clase\n",
    "report = classification_report(y_val_m, y_val_pred, digits=4)\n",
    "print(\"Multiclass Neural Network Report:\\n\", report)\n",
    "print(\"Balanced accuracy:\", balanced_accuracy_score(y_val_m, y_val_pred))"
   ]
  },
  {
   "cell_type": "code",
   "execution_count": null,
   "id": "05a1bcd9",
   "metadata": {},
   "outputs": [
    {
     "ename": "",
     "evalue": "",
     "output_type": "error",
     "traceback": [
      "\u001b[1;31mThe Kernel crashed while executing code in the current cell or a previous cell. \n",
      "\u001b[1;31mPlease review the code in the cell(s) to identify a possible cause of the failure. \n",
      "\u001b[1;31mClick <a href='https://aka.ms/vscodeJupyterKernelCrash'>here</a> for more info. \n",
      "\u001b[1;31mView Jupyter <a href='command:jupyter.viewOutput'>log</a> for further details."
     ]
    }
   ],
   "source": [
    "# --- Exportar y Comparar Métricas de Modelos (Validación) ---\n",
    "\n",
    "# 1. Definir el nombre del modelo actual y el archivo de salida\n",
    "output_file = '../../../score_models/model_comparison_metrics.csv'\n",
    "\n",
    "# 2. Calcular el reporte de clasificación estándar\n",
    "# Usamos y_val_m y y_val_pred que están en la misma escala (0,1,2)\n",
    "report_dict = classification_report(y_val_m, y_val_pred, output_dict=True, zero_division=0)\n",
    "precision = report_dict['macro avg']['precision']\n",
    "recall = report_dict['macro avg']['recall']\n",
    "f1_score = report_dict['macro avg']['f1-score']\n",
    "\n",
    "\n",
    "# 3. Calcular el reporte de cambio de tendencia\n",
    "report = get_trend_changes_report_dict(y_val_m, y_val_pred)\n",
    "trend_change_precision = report['True']['precision']\n",
    "trend_change_recall = report['True']['recall']\n",
    "trend_change_f1_score = report['True']['f1-score']\n",
    "\n",
    "# 4. Organizar las nuevas métricas\n",
    "new_metrics = {\n",
    "    'precision': precision,\n",
    "    'recall': recall,\n",
    "    'f1_score': f1_score,\n",
    "    'trend_change_precision': trend_change_precision,\n",
    "    'trend_change_recall': trend_change_recall,\n",
    "    'trend_change_f1_score': trend_change_f1_score,\n",
    "    \"optuna_duration_sec\": opt_duration_sec,\n",
    "    \"n_trials\": n_trials_run\n",
    "}\n",
    "\n",
    "# 5. Cargar, actualizar y guardar el DataFrame de comparación\n",
    "try:\n",
    "    # Intentar cargar el archivo existente\n",
    "    comparison_df = pd.read_csv(output_file, index_col='model')\n",
    "    # Si existe, actualizar o añadir la fila para el modelo actual\n",
    "    comparison_df.loc[model_name] = new_metrics\n",
    "except FileNotFoundError:\n",
    "    # Si no existe, crear un DataFrame nuevo directamente con los datos actuales\n",
    "    comparison_df = pd.DataFrame([new_metrics], index=[model_name])\n",
    "\n",
    "# Guardar el DataFrame actualizado en el CSV\n",
    "comparison_df.to_csv(output_file, index_label='model')"
   ]
  }
 ],
 "metadata": {
  "kernelspec": {
   "display_name": "tf_venv2 (3.10.12)",
   "language": "python",
   "name": "python3"
  },
  "language_info": {
   "codemirror_mode": {
    "name": "ipython",
    "version": 3
   },
   "file_extension": ".py",
   "mimetype": "text/x-python",
   "name": "python",
   "nbconvert_exporter": "python",
   "pygments_lexer": "ipython3",
   "version": "3.10.12"
  }
 },
 "nbformat": 4,
 "nbformat_minor": 5
}
