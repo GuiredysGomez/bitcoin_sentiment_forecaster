{
 "cells": [
  {
   "cell_type": "code",
   "execution_count": 17,
   "id": "ad124620",
   "metadata": {},
   "outputs": [],
   "source": [
    "import numpy as np\n",
    "import pandas as pd\n",
    "import lightgbm as lgb\n",
    "from sklearn.metrics import classification_report"
   ]
  },
  {
   "cell_type": "code",
   "execution_count": 18,
   "id": "538f204c",
   "metadata": {},
   "outputs": [],
   "source": [
    "def trend_changes_score(y_test: np.array, y_pred: np.array) -> float:\n",
    "    \"\"\"\n",
    "    Calculate the trend changes score based on the test and predicted values.\n",
    "    \n",
    "    Args:\n",
    "        y_test (np.array): True labels.\n",
    "        y_pred (np.array): Predicted labels.\n",
    "        \n",
    "    Returns:\n",
    "        float: The trend changes score.\n",
    "    \"\"\"\n",
    "    y_df = pd.DataFrame([y_test, y_pred]).T\n",
    "    y_df.columns = [\"y_test\", \"y_pred\"]\n",
    "    y_df[\"y_test_shifted\"] = y_df[\"y_test\"].shift(-1)\n",
    "    y_df[\"is_changed_trend_test\"] = y_df[\"y_test\"] != y_df[\"y_test_shifted\"]\n",
    "    y_df[\"y_predict_shifted\"] = y_df[\"y_pred\"].shift(-1)\n",
    "    y_df[\"is_changed_trend_predict\"] = y_df[\"y_pred\"] != y_df[\"y_predict_shifted\"]\n",
    "    return classification_report(y_df[\"is_changed_trend_test\"][:-1], y_df[\"is_changed_trend_predict\"][:-1], digits=4)"
   ]
  },
  {
   "cell_type": "code",
   "execution_count": 19,
   "id": "197d5d5c",
   "metadata": {},
   "outputs": [],
   "source": [
    "# Cargar datasets\n",
    "train_df = pd.read_csv(\"../../../data/training_set.csv\", parse_dates=['date'])\n",
    "val_df   = pd.read_csv(\"../../../data/validation_set.csv\", parse_dates=['date'])"
   ]
  },
  {
   "cell_type": "code",
   "execution_count": 20,
   "id": "94fb623e",
   "metadata": {},
   "outputs": [],
   "source": [
    "X_train = train_df.drop(columns=['date','target_trend']).values"
   ]
  },
  {
   "cell_type": "code",
   "execution_count": 21,
   "id": "16257783",
   "metadata": {},
   "outputs": [],
   "source": [
    "y_train = train_df['target_trend'].values"
   ]
  },
  {
   "cell_type": "code",
   "execution_count": 22,
   "id": "f1439d3f",
   "metadata": {},
   "outputs": [],
   "source": [
    "X_val   = val_df.drop(columns=['date','target_trend']).values"
   ]
  },
  {
   "cell_type": "code",
   "execution_count": 23,
   "id": "cee93585",
   "metadata": {},
   "outputs": [],
   "source": [
    "y_val   = val_df['target_trend'].values"
   ]
  },
  {
   "cell_type": "code",
   "execution_count": 24,
   "id": "05f046d9",
   "metadata": {},
   "outputs": [
    {
     "name": "stdout",
     "output_type": "stream",
     "text": [
      "Training until validation scores don't improve for 100 rounds\n",
      "[100]\ttrain's multi_logloss: 0.0481828\ttrain's multi_error: 0\tval's multi_logloss: 0.436619\tval's multi_error: 0.1565\n",
      "Early stopping, best iteration is:\n",
      "[7]\ttrain's multi_logloss: 0.727406\ttrain's multi_error: 0.118679\tval's multi_logloss: 0.771903\tval's multi_error: 0.103731\n",
      "Reporte multiclase:\n",
      "              precision    recall  f1-score   support\n",
      "\n",
      "          -1     0.8519    0.9583    0.9020        24\n",
      "           0     0.5625    0.5000    0.5294        18\n",
      "           1     0.9425    0.9318    0.9371        88\n",
      "\n",
      "    accuracy                         0.8769       130\n",
      "   macro avg     0.7856    0.7967    0.7895       130\n",
      "weighted avg     0.8732    0.8769    0.8742       130\n",
      "\n"
     ]
    }
   ],
   "source": [
    "# Mapear clases (-1,0,1) -> (0,1,2) para LightGBM\n",
    "cls_map = {-1:0, 0:1, 1:2}\n",
    "inv_map = {v:k for k,v in cls_map.items()}\n",
    "y_train_m = np.vectorize(cls_map.get)(y_train)\n",
    "y_val_m   = np.vectorize(cls_map.get)(y_val)\n",
    "\n",
    "# Pesos de clase (inverso de la frecuencia)\n",
    "from collections import Counter\n",
    "cnt = Counter(y_train_m)\n",
    "total = len(y_train_m)\n",
    "class_weight = {c: total/(len(cnt)*n) for c,n in cnt.items()}\n",
    "\n",
    "lgb_train = lgb.Dataset(X_train, label=y_train_m, weight=[class_weight[c] for c in y_train_m])\n",
    "lgb_val   = lgb.Dataset(X_val,   label=y_val_m,   weight=[class_weight[c] for c in y_val_m], reference=lgb_train)\n",
    "\n",
    "params = dict(\n",
    "    objective=\"multiclass\",\n",
    "    num_class=3,\n",
    "    learning_rate=0.05,\n",
    "    num_leaves=31,\n",
    "    max_depth=-1,\n",
    "    feature_fraction=0.9,\n",
    "    bagging_fraction=0.8,\n",
    "    bagging_freq=1,\n",
    "    min_data_in_leaf=20,\n",
    "    metric=[\"multi_logloss\",\"multi_error\"],\n",
    "    verbosity=-1,\n",
    "    seed=42\n",
    ")\n",
    "\n",
    "model = lgb.train(\n",
    "    params,\n",
    "    lgb_train,\n",
    "    num_boost_round=2000,\n",
    "    valid_sets=[lgb_train, lgb_val],\n",
    "    valid_names=[\"train\",\"val\"],\n",
    "    callbacks=[\n",
    "        lgb.early_stopping(stopping_rounds=100, verbose=True),\n",
    "        lgb.log_evaluation(period=100)\n",
    "    ]\n",
    ")\n",
    "\n",
    "# Predicciones validation\n",
    "y_val_prob = model.predict(X_val, num_iteration=model.best_iteration)\n",
    "y_val_pred_m = y_val_prob.argmax(axis=1)\n",
    "y_val_pred = np.vectorize(inv_map.get)(y_val_pred_m)\n",
    "\n",
    "print(\"Reporte multiclase:\")\n",
    "print(classification_report(y_val, y_val_pred, digits=4))"
   ]
  },
  {
   "cell_type": "code",
   "execution_count": 25,
   "id": "b3f34782",
   "metadata": {},
   "outputs": [
    {
     "name": "stdout",
     "output_type": "stream",
     "text": [
      "              precision    recall  f1-score   support\n",
      "\n",
      "       False     0.8684    0.8839    0.8761       112\n",
      "        True     0.1333    0.1176    0.1250        17\n",
      "\n",
      "    accuracy                         0.7829       129\n",
      "   macro avg     0.5009    0.5008    0.5006       129\n",
      "weighted avg     0.7715    0.7829    0.7771       129\n",
      "\n"
     ]
    }
   ],
   "source": [
    "print(trend_changes_score(y_test=y_val, y_pred=y_val_pred))"
   ]
  }
 ],
 "metadata": {
  "kernelspec": {
   "display_name": "tf_venv2 (3.10.12)",
   "language": "python",
   "name": "python3"
  },
  "language_info": {
   "codemirror_mode": {
    "name": "ipython",
    "version": 3
   },
   "file_extension": ".py",
   "mimetype": "text/x-python",
   "name": "python",
   "nbconvert_exporter": "python",
   "pygments_lexer": "ipython3",
   "version": "3.10.12"
  }
 },
 "nbformat": 4,
 "nbformat_minor": 5
}
