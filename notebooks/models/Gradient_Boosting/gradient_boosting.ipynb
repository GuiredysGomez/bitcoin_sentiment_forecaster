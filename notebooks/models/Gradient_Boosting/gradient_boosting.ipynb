{
 "cells": [
  {
   "cell_type": "code",
   "execution_count": 1,
   "id": "71b79b11",
   "metadata": {},
   "outputs": [
    {
     "name": "stderr",
     "output_type": "stream",
     "text": [
      "/home/toyotx22/bitcoin_sentiment_forecaster/tf_venv2/lib/python3.10/site-packages/tqdm/auto.py:21: TqdmWarning: IProgress not found. Please update jupyter and ipywidgets. See https://ipywidgets.readthedocs.io/en/stable/user_install.html\n",
      "  from .autonotebook import tqdm as notebook_tqdm\n"
     ]
    }
   ],
   "source": [
    "import numpy as np\n",
    "import random\n",
    "import optuna\n",
    "import pandas as pd\n",
    "from sklearn.ensemble import GradientBoostingClassifier\n",
    "from sklearn.metrics import classification_report, balanced_accuracy_score\n",
    "import json\n",
    "import os\n",
    "from optuna.visualization import plot_optimization_history\n",
    "import joblib\n",
    "import time"
   ]
  },
  {
   "cell_type": "code",
   "execution_count": 2,
   "id": "b58e3b87",
   "metadata": {},
   "outputs": [],
   "source": [
    "SEED = 1234\n",
    " # Se puede cambiar a \"precision\" o \"recall\" o \"f1-score\"\n",
    "SCORE = \"f1-score\"\n",
    "model_name = 'GradientBoosting'"
   ]
  },
  {
   "cell_type": "code",
   "execution_count": 3,
   "id": "97ed06bc",
   "metadata": {},
   "outputs": [],
   "source": [
    "def set_seeds(seed):\n",
    "    random.seed(seed)\n",
    "    np.random.seed(seed)"
   ]
  },
  {
   "cell_type": "code",
   "execution_count": 4,
   "id": "aeb89a60",
   "metadata": {},
   "outputs": [],
   "source": [
    "def get_trend_changes_report_dict(y_test: np.array, y_pred: np.array) -> float:\n",
    "    \"\"\"\n",
    "    Calculate the trend changes score based on the test and predicted values.\n",
    "    \n",
    "    Args:\n",
    "        y_test (np.array): True labels.\n",
    "        y_pred (np.array): Predicted labels.\n",
    "        \n",
    "    Returns:\n",
    "        float: The trend changes score.\n",
    "    \"\"\"\n",
    "    y_df = pd.DataFrame([y_test, y_pred]).T\n",
    "    y_df.columns = [\"y_test\", \"y_pred\"]\n",
    "    y_df[\"y_test_shifted\"] = y_df[\"y_test\"].shift(-1)\n",
    "    y_df[\"is_changed_trend_test\"] = y_df[\"y_test\"] != y_df[\"y_test_shifted\"]\n",
    "    y_df[\"y_predict_shifted\"] = y_df[\"y_pred\"].shift(-1)\n",
    "    y_df[\"is_changed_trend_predict\"] = y_df[\"y_pred\"] != y_df[\"y_predict_shifted\"]\n",
    "    return classification_report(\n",
    "        y_df[\"is_changed_trend_test\"][:-1], \n",
    "        y_df[\"is_changed_trend_predict\"][:-1], \n",
    "        digits=4,\n",
    "        output_dict=True,\n",
    "        zero_division=0\n",
    "    )\n",
    "\n",
    "def trend_changes_score(y_test: np.array, y_pred: np.array) -> float:\n",
    "    \"\"\"\n",
    "    Calculate the trend changes score based on the test and predicted values.\n",
    "    \"\"\"\n",
    "    y_df = pd.DataFrame([y_test, y_pred]).T\n",
    "    y_df.columns = [\"y_test\", \"y_pred\"]\n",
    "    y_df[\"y_test_shifted\"] = y_df[\"y_test\"].shift(-1)\n",
    "    y_df[\"is_changed_trend_test\"] = y_df[\"y_test\"] != y_df[\"y_test_shifted\"]\n",
    "    y_df[\"y_predict_shifted\"] = y_df[\"y_pred\"].shift(-1)\n",
    "    y_df[\"is_changed_trend_predict\"] = y_df[\"y_pred\"] != y_df[\"y_predict_shifted\"]\n",
    "    return classification_report(\n",
    "        y_df[\"is_changed_trend_test\"][:-1],\n",
    "        y_df[\"is_changed_trend_predict\"][:-1],\n",
    "        digits=4\n",
    "    )\n",
    "\n",
    "def trend_changes_true(y_test: np.array, y_pred: np.array) -> float:\n",
    "    \"\"\"\n",
    "    Calculate the trend changes score based on the test and predicted values.\n",
    "    Returns only the F1-score for trend change.\n",
    "    \"\"\"\n",
    "    y_df = pd.DataFrame([y_test, y_pred]).T\n",
    "    y_df.columns = [\"y_test\", \"y_pred\"]\n",
    "    y_df[\"y_test_shifted\"] = y_df[\"y_test\"].shift(-1)\n",
    "    y_df[\"is_changed_trend_test\"] = y_df[\"y_test\"] != y_df[\"y_test_shifted\"]\n",
    "    y_df[\"y_predict_shifted\"] = y_df[\"y_pred\"].shift(-1)\n",
    "    y_df[\"is_changed_trend_predict\"] = y_df[\"y_pred\"] != y_df[\"y_predict_shifted\"]\n",
    "    report = classification_report(\n",
    "        y_df[\"is_changed_trend_test\"][:-1],\n",
    "        y_df[\"is_changed_trend_predict\"][:-1],\n",
    "        output_dict=True,\n",
    "        zero_division=0\n",
    "    )\n",
    "    return report[\"True\"][SCORE]"
   ]
  },
  {
   "cell_type": "code",
   "execution_count": 5,
   "id": "9d71ae0d",
   "metadata": {},
   "outputs": [],
   "source": [
    "# Cargar datos\n",
    "train = pd.read_csv(\"../../../data/post_cleaning/training_set.csv\", parse_dates=[\"date\"])\n",
    "val = pd.read_csv(\"../../../data/post_cleaning/validation_set.csv\", parse_dates=[\"date\"])\n",
    "X_train = train.drop(columns=[\"date\", \"target_trend\"]).values\n",
    "y_train = train[\"target_trend\"].values\n",
    "X_val = val.drop(columns=[\"date\", \"target_trend\"]).values\n",
    "y_val = val[\"target_trend\"].values\n"
   ]
  },
  {
   "cell_type": "code",
   "execution_count": 6,
   "id": "a902302c",
   "metadata": {},
   "outputs": [],
   "source": [
    "def objective(trial):\n",
    "    set_seeds(SEED)\n",
    "    n_estimators = trial.suggest_int(\"n_estimators\", 50, 400)\n",
    "    learning_rate = trial.suggest_float(\"learning_rate\", 0.01, 0.2, log=True)\n",
    "    max_depth = trial.suggest_int(\"max_depth\", 2, 10)\n",
    "    subsample = trial.suggest_float(\"subsample\", 0.6, 1.0)\n",
    "    min_samples_split = trial.suggest_int(\"min_samples_split\", 2, 10)\n",
    "    min_samples_leaf = trial.suggest_int(\"min_samples_leaf\", 1, 10)\n",
    "\n",
    "    model = GradientBoostingClassifier(\n",
    "        n_estimators=n_estimators,\n",
    "        learning_rate=learning_rate,\n",
    "        max_depth=max_depth,\n",
    "        subsample=subsample,\n",
    "        min_samples_split=min_samples_split,\n",
    "        min_samples_leaf=min_samples_leaf,\n",
    "        random_state=SEED\n",
    "    )\n",
    "    model.fit(X_train, y_train)\n",
    "    y_pred = model.predict(X_val)\n",
    "    score = trend_changes_true(y_val, y_pred)\n",
    "    return score"
   ]
  },
  {
   "cell_type": "code",
   "execution_count": 7,
   "id": "300aa410",
   "metadata": {},
   "outputs": [
    {
     "name": "stderr",
     "output_type": "stream",
     "text": [
      "[I 2025-09-17 20:14:23,695] A new study created in memory with name: no-name-20bbff46-e217-4d9d-b5d5-d9e2c6aa46e7\n",
      "[I 2025-09-17 20:14:35,306] Trial 0 finished with value: 0.4444444444444444 and parameters: {'n_estimators': 117, 'learning_rate': 0.06447363728960653, 'max_depth': 5, 'subsample': 0.9141434334855076, 'min_samples_split': 9, 'min_samples_leaf': 3}. Best is trial 0 with value: 0.4444444444444444.\n",
      "[I 2025-09-17 20:15:02,348] Trial 1 finished with value: 0.47761194029850745 and parameters: {'n_estimators': 147, 'learning_rate': 0.11047391773518671, 'max_depth': 10, 'subsample': 0.9503730538968379, 'min_samples_split': 5, 'min_samples_leaf': 6}. Best is trial 1 with value: 0.47761194029850745.\n",
      "[I 2025-09-17 20:15:30,568] Trial 2 finished with value: 0.38571428571428573 and parameters: {'n_estimators': 289, 'learning_rate': 0.08457591696604633, 'max_depth': 5, 'subsample': 0.82447847442625, 'min_samples_split': 6, 'min_samples_leaf': 1}. Best is trial 1 with value: 0.47761194029850745.\n",
      "[I 2025-09-17 20:16:06,314] Trial 3 finished with value: 0.4782608695652174 and parameters: {'n_estimators': 321, 'learning_rate': 0.14071573530882303, 'max_depth': 5, 'subsample': 0.8461584713733975, 'min_samples_split': 2, 'min_samples_leaf': 4}. Best is trial 3 with value: 0.4782608695652174.\n",
      "[I 2025-09-17 20:16:52,832] Trial 4 finished with value: 0.4782608695652174 and parameters: {'n_estimators': 377, 'learning_rate': 0.07038214571143755, 'max_depth': 5, 'subsample': 0.9154920571762982, 'min_samples_split': 4, 'min_samples_leaf': 6}. Best is trial 3 with value: 0.4782608695652174.\n",
      "[I 2025-09-17 20:17:43,512] Trial 5 finished with value: 0.5074626865671642 and parameters: {'n_estimators': 355, 'learning_rate': 0.03693811319191527, 'max_depth': 9, 'subsample': 0.6575067298058258, 'min_samples_split': 8, 'min_samples_leaf': 8}. Best is trial 5 with value: 0.5074626865671642.\n",
      "[I 2025-09-17 20:18:00,739] Trial 6 finished with value: 0.45517241379310347 and parameters: {'n_estimators': 126, 'learning_rate': 0.15969103175248078, 'max_depth': 5, 'subsample': 0.963726383588989, 'min_samples_split': 2, 'min_samples_leaf': 2}. Best is trial 5 with value: 0.5074626865671642.\n",
      "[I 2025-09-17 20:18:10,361] Trial 7 finished with value: 0.5185185185185185 and parameters: {'n_estimators': 66, 'learning_rate': 0.07551623879385619, 'max_depth': 7, 'subsample': 0.8133240651995002, 'min_samples_split': 2, 'min_samples_leaf': 6}. Best is trial 7 with value: 0.5185185185185185.\n",
      "[I 2025-09-17 20:18:21,788] Trial 8 finished with value: 0.4251968503937008 and parameters: {'n_estimators': 165, 'learning_rate': 0.04512060733223494, 'max_depth': 3, 'subsample': 0.8428774824873938, 'min_samples_split': 7, 'min_samples_leaf': 1}. Best is trial 7 with value: 0.5185185185185185.\n",
      "[I 2025-09-17 20:19:04,517] Trial 9 finished with value: 0.5106382978723404 and parameters: {'n_estimators': 266, 'learning_rate': 0.15370897799978378, 'max_depth': 9, 'subsample': 0.9968325864753446, 'min_samples_split': 10, 'min_samples_leaf': 8}. Best is trial 7 with value: 0.5185185185185185.\n",
      "[I 2025-09-17 20:19:11,037] Trial 10 finished with value: 0.4444444444444444 and parameters: {'n_estimators': 59, 'learning_rate': 0.01404922525591651, 'max_depth': 7, 'subsample': 0.689428298871198, 'min_samples_split': 4, 'min_samples_leaf': 10}. Best is trial 7 with value: 0.5185185185185185.\n",
      "[I 2025-09-17 20:19:43,974] Trial 11 finished with value: 0.49635036496350365 and parameters: {'n_estimators': 237, 'learning_rate': 0.022737609406419914, 'max_depth': 8, 'subsample': 0.7353332397829027, 'min_samples_split': 10, 'min_samples_leaf': 8}. Best is trial 7 with value: 0.5185185185185185.\n",
      "[I 2025-09-17 20:20:26,769] Trial 12 finished with value: 0.5241379310344828 and parameters: {'n_estimators': 226, 'learning_rate': 0.16377242481411342, 'max_depth': 8, 'subsample': 0.9999842177787099, 'min_samples_split': 10, 'min_samples_leaf': 8}. Best is trial 12 with value: 0.5241379310344828.\n",
      "[I 2025-09-17 20:20:53,625] Trial 13 finished with value: 0.43795620437956206 and parameters: {'n_estimators': 195, 'learning_rate': 0.19157334592046207, 'max_depth': 7, 'subsample': 0.7608241710036182, 'min_samples_split': 7, 'min_samples_leaf': 5}. Best is trial 12 with value: 0.5241379310344828.\n",
      "[I 2025-09-17 20:20:59,239] Trial 14 finished with value: 0.463768115942029 and parameters: {'n_estimators': 55, 'learning_rate': 0.10716938233387939, 'max_depth': 7, 'subsample': 0.6083674428149338, 'min_samples_split': 3, 'min_samples_leaf': 10}. Best is trial 12 with value: 0.5241379310344828.\n",
      "[I 2025-09-17 20:21:09,710] Trial 15 finished with value: 0.48120300751879697 and parameters: {'n_estimators': 213, 'learning_rate': 0.04570608896926741, 'max_depth': 2, 'subsample': 0.8845388856264844, 'min_samples_split': 8, 'min_samples_leaf': 7}. Best is trial 12 with value: 0.5241379310344828.\n",
      "[I 2025-09-17 20:21:23,363] Trial 16 finished with value: 0.4782608695652174 and parameters: {'n_estimators': 93, 'learning_rate': 0.10545025083287664, 'max_depth': 8, 'subsample': 0.776269059685838, 'min_samples_split': 5, 'min_samples_leaf': 9}. Best is trial 12 with value: 0.5241379310344828.\n",
      "[I 2025-09-17 20:21:52,512] Trial 17 finished with value: 0.4852941176470588 and parameters: {'n_estimators': 174, 'learning_rate': 0.02559398524199658, 'max_depth': 10, 'subsample': 0.7140250780561253, 'min_samples_split': 6, 'min_samples_leaf': 5}. Best is trial 12 with value: 0.5241379310344828.\n",
      "[I 2025-09-17 20:22:28,648] Trial 18 finished with value: 0.5103448275862069 and parameters: {'n_estimators': 269, 'learning_rate': 0.06259661682338889, 'max_depth': 6, 'subsample': 0.8805270835471914, 'min_samples_split': 9, 'min_samples_leaf': 7}. Best is trial 12 with value: 0.5241379310344828.\n",
      "[I 2025-09-17 20:23:12,140] Trial 19 finished with value: 0.49295774647887325 and parameters: {'n_estimators': 215, 'learning_rate': 0.09360258370510662, 'max_depth': 8, 'subsample': 0.9994856147601604, 'min_samples_split': 3, 'min_samples_leaf': 4}. Best is trial 12 with value: 0.5241379310344828.\n",
      "[I 2025-09-17 20:23:51,277] Trial 20 finished with value: 0.46875 and parameters: {'n_estimators': 323, 'learning_rate': 0.010572079149574597, 'max_depth': 6, 'subsample': 0.8029917682372427, 'min_samples_split': 6, 'min_samples_leaf': 7}. Best is trial 12 with value: 0.5241379310344828.\n",
      "[I 2025-09-17 20:24:35,658] Trial 21 finished with value: 0.5072463768115942 and parameters: {'n_estimators': 254, 'learning_rate': 0.14383922365580024, 'max_depth': 9, 'subsample': 0.9975320677548747, 'min_samples_split': 10, 'min_samples_leaf': 8}. Best is trial 12 with value: 0.5241379310344828.\n",
      "[I 2025-09-17 20:25:09,391] Trial 22 finished with value: 0.48 and parameters: {'n_estimators': 295, 'learning_rate': 0.1955418557695295, 'max_depth': 9, 'subsample': 0.9513102573171743, 'min_samples_split': 9, 'min_samples_leaf': 9}. Best is trial 12 with value: 0.5241379310344828.\n",
      "[I 2025-09-17 20:25:51,507] Trial 23 finished with value: 0.49645390070921985 and parameters: {'n_estimators': 242, 'learning_rate': 0.13334450647054769, 'max_depth': 8, 'subsample': 0.9156549561532186, 'min_samples_split': 10, 'min_samples_leaf': 9}. Best is trial 12 with value: 0.5241379310344828.\n",
      "[I 2025-09-17 20:26:23,754] Trial 24 finished with value: 0.48854961832061067 and parameters: {'n_estimators': 190, 'learning_rate': 0.19793539865200882, 'max_depth': 9, 'subsample': 0.9711725690177666, 'min_samples_split': 8, 'min_samples_leaf': 7}. Best is trial 12 with value: 0.5241379310344828.\n",
      "[I 2025-09-17 20:27:04,392] Trial 25 finished with value: 0.44285714285714284 and parameters: {'n_estimators': 272, 'learning_rate': 0.08180411683046077, 'max_depth': 7, 'subsample': 0.8629070655939665, 'min_samples_split': 9, 'min_samples_leaf': 6}. Best is trial 12 with value: 0.5241379310344828.\n",
      "[I 2025-09-17 20:28:13,500] Trial 26 finished with value: 0.46808510638297873 and parameters: {'n_estimators': 333, 'learning_rate': 0.05444442284770906, 'max_depth': 10, 'subsample': 0.9307275500308237, 'min_samples_split': 10, 'min_samples_leaf': 8}. Best is trial 12 with value: 0.5241379310344828.\n",
      "[I 2025-09-17 20:28:55,031] Trial 27 finished with value: 0.5555555555555556 and parameters: {'n_estimators': 220, 'learning_rate': 0.1318034758692167, 'max_depth': 8, 'subsample': 0.9820559851782735, 'min_samples_split': 7, 'min_samples_leaf': 9}. Best is trial 27 with value: 0.5555555555555556.\n",
      "[I 2025-09-17 20:29:07,487] Trial 28 finished with value: 0.5072463768115942 and parameters: {'n_estimators': 94, 'learning_rate': 0.12187542151238201, 'max_depth': 6, 'subsample': 0.8886312576376528, 'min_samples_split': 7, 'min_samples_leaf': 10}. Best is trial 27 with value: 0.5555555555555556.\n",
      "[I 2025-09-17 20:29:15,891] Trial 29 finished with value: 0.48854961832061067 and parameters: {'n_estimators': 131, 'learning_rate': 0.06946987117601426, 'max_depth': 4, 'subsample': 0.6171762232147724, 'min_samples_split': 5, 'min_samples_leaf': 9}. Best is trial 27 with value: 0.5555555555555556.\n",
      "[I 2025-09-17 20:30:14,003] Trial 30 finished with value: 0.4307692307692308 and parameters: {'n_estimators': 397, 'learning_rate': 0.08288241134989577, 'max_depth': 7, 'subsample': 0.8094969865857469, 'min_samples_split': 3, 'min_samples_leaf': 4}. Best is trial 27 with value: 0.5555555555555556.\n",
      "[I 2025-09-17 20:30:55,745] Trial 31 finished with value: 0.48226950354609927 and parameters: {'n_estimators': 224, 'learning_rate': 0.15935984032494432, 'max_depth': 8, 'subsample': 0.9777414910457275, 'min_samples_split': 9, 'min_samples_leaf': 8}. Best is trial 27 with value: 0.5555555555555556.\n",
      "[I 2025-09-17 20:31:26,260] Trial 32 finished with value: 0.5285714285714286 and parameters: {'n_estimators': 156, 'learning_rate': 0.11990920129030448, 'max_depth': 9, 'subsample': 0.940966495576403, 'min_samples_split': 8, 'min_samples_leaf': 9}. Best is trial 27 with value: 0.5555555555555556.\n",
      "[I 2025-09-17 20:31:57,052] Trial 33 finished with value: 0.4892086330935252 and parameters: {'n_estimators': 148, 'learning_rate': 0.11847764097088156, 'max_depth': 10, 'subsample': 0.9356117151183103, 'min_samples_split': 8, 'min_samples_leaf': 9}. Best is trial 27 with value: 0.5555555555555556.\n",
      "[I 2025-09-17 20:32:16,361] Trial 34 finished with value: 0.46715328467153283 and parameters: {'n_estimators': 105, 'learning_rate': 0.1013406761877264, 'max_depth': 8, 'subsample': 0.9433757358007618, 'min_samples_split': 7, 'min_samples_leaf': 10}. Best is trial 27 with value: 0.5555555555555556.\n",
      "[I 2025-09-17 20:32:58,111] Trial 35 finished with value: 0.45714285714285713 and parameters: {'n_estimators': 195, 'learning_rate': 0.0884503538930798, 'max_depth': 9, 'subsample': 0.9747570666350468, 'min_samples_split': 6, 'min_samples_leaf': 6}. Best is trial 27 with value: 0.5555555555555556.\n",
      "[I 2025-09-17 20:33:09,963] Trial 36 finished with value: 0.42857142857142855 and parameters: {'n_estimators': 74, 'learning_rate': 0.12272278508256394, 'max_depth': 7, 'subsample': 0.9206156861363709, 'min_samples_split': 8, 'min_samples_leaf': 7}. Best is trial 27 with value: 0.5555555555555556.\n",
      "[I 2025-09-17 20:33:34,481] Trial 37 finished with value: 0.5323741007194245 and parameters: {'n_estimators': 148, 'learning_rate': 0.058231345874900066, 'max_depth': 8, 'subsample': 0.9011465264691656, 'min_samples_split': 4, 'min_samples_leaf': 9}. Best is trial 27 with value: 0.5555555555555556.\n",
      "[I 2025-09-17 20:34:06,597] Trial 38 finished with value: 0.46153846153846156 and parameters: {'n_estimators': 154, 'learning_rate': 0.034078530826811504, 'max_depth': 10, 'subsample': 0.9556337204253358, 'min_samples_split': 4, 'min_samples_leaf': 9}. Best is trial 27 with value: 0.5555555555555556.\n",
      "[I 2025-09-17 20:34:30,729] Trial 39 finished with value: 0.4657534246575342 and parameters: {'n_estimators': 134, 'learning_rate': 0.16656122831307993, 'max_depth': 9, 'subsample': 0.8903389312694897, 'min_samples_split': 5, 'min_samples_leaf': 10}. Best is trial 27 with value: 0.5555555555555556.\n",
      "[I 2025-09-17 20:35:00,632] Trial 40 finished with value: 0.5401459854014599 and parameters: {'n_estimators': 175, 'learning_rate': 0.05872667384301896, 'max_depth': 8, 'subsample': 0.8993050600180148, 'min_samples_split': 7, 'min_samples_leaf': 9}. Best is trial 27 with value: 0.5555555555555556.\n",
      "[I 2025-09-17 20:35:30,684] Trial 41 finished with value: 0.45714285714285713 and parameters: {'n_estimators': 178, 'learning_rate': 0.05568514918797836, 'max_depth': 8, 'subsample': 0.9054844350515734, 'min_samples_split': 6, 'min_samples_leaf': 9}. Best is trial 27 with value: 0.5555555555555556.\n",
      "[I 2025-09-17 20:35:59,013] Trial 42 finished with value: 0.44274809160305345 and parameters: {'n_estimators': 157, 'learning_rate': 0.035015408193777714, 'max_depth': 9, 'subsample': 0.8639013017466445, 'min_samples_split': 7, 'min_samples_leaf': 8}. Best is trial 27 with value: 0.5555555555555556.\n",
      "[I 2025-09-17 20:36:32,008] Trial 43 finished with value: 0.5362318840579711 and parameters: {'n_estimators': 211, 'learning_rate': 0.05790149240574393, 'max_depth': 8, 'subsample': 0.8348769224243133, 'min_samples_split': 8, 'min_samples_leaf': 10}. Best is trial 27 with value: 0.5555555555555556.\n",
      "[I 2025-09-17 20:37:02,985] Trial 44 finished with value: 0.4827586206896552 and parameters: {'n_estimators': 202, 'learning_rate': 0.046990998399268014, 'max_depth': 8, 'subsample': 0.8307789439067413, 'min_samples_split': 7, 'min_samples_leaf': 10}. Best is trial 27 with value: 0.5555555555555556.\n",
      "[I 2025-09-17 20:37:33,756] Trial 45 finished with value: 0.5151515151515151 and parameters: {'n_estimators': 175, 'learning_rate': 0.060900790765714766, 'max_depth': 9, 'subsample': 0.865933495681068, 'min_samples_split': 8, 'min_samples_leaf': 10}. Best is trial 27 with value: 0.5555555555555556.\n",
      "[I 2025-09-17 20:37:50,776] Trial 46 finished with value: 0.5 and parameters: {'n_estimators': 117, 'learning_rate': 0.028529986866489096, 'max_depth': 7, 'subsample': 0.8476053665363532, 'min_samples_split': 7, 'min_samples_leaf': 9}. Best is trial 27 with value: 0.5555555555555556.\n",
      "[I 2025-09-17 20:38:16,613] Trial 47 finished with value: 0.4748201438848921 and parameters: {'n_estimators': 139, 'learning_rate': 0.07132699597942509, 'max_depth': 9, 'subsample': 0.9073098250774951, 'min_samples_split': 8, 'min_samples_leaf': 10}. Best is trial 27 with value: 0.5555555555555556.\n",
      "[I 2025-09-17 20:38:42,116] Trial 48 finished with value: 0.4897959183673469 and parameters: {'n_estimators': 164, 'learning_rate': 0.05190286148461428, 'max_depth': 8, 'subsample': 0.7694381283001374, 'min_samples_split': 7, 'min_samples_leaf': 2}. Best is trial 27 with value: 0.5555555555555556.\n",
      "[I 2025-09-17 20:39:13,022] Trial 49 finished with value: 0.5109489051094891 and parameters: {'n_estimators': 182, 'learning_rate': 0.04140469883460457, 'max_depth': 10, 'subsample': 0.7892176798588436, 'min_samples_split': 5, 'min_samples_leaf': 9}. Best is trial 27 with value: 0.5555555555555556.\n",
      "[I 2025-09-17 20:39:33,279] Trial 50 finished with value: 0.53125 and parameters: {'n_estimators': 238, 'learning_rate': 0.018819089120873694, 'max_depth': 4, 'subsample': 0.8246415208235491, 'min_samples_split': 6, 'min_samples_leaf': 8}. Best is trial 27 with value: 0.5555555555555556.\n",
      "[I 2025-09-17 20:39:54,216] Trial 51 finished with value: 0.5230769230769231 and parameters: {'n_estimators': 244, 'learning_rate': 0.019821174311461322, 'max_depth': 4, 'subsample': 0.8276049795811967, 'min_samples_split': 6, 'min_samples_leaf': 8}. Best is trial 27 with value: 0.5555555555555556.\n",
      "[I 2025-09-17 20:40:13,264] Trial 52 finished with value: 0.5303030303030303 and parameters: {'n_estimators': 208, 'learning_rate': 0.012322575814239456, 'max_depth': 4, 'subsample': 0.9033013315182529, 'min_samples_split': 8, 'min_samples_leaf': 9}. Best is trial 27 with value: 0.5555555555555556.\n",
      "[I 2025-09-17 20:40:31,891] Trial 53 finished with value: 0.46774193548387094 and parameters: {'n_estimators': 213, 'learning_rate': 0.016562259620394034, 'max_depth': 4, 'subsample': 0.8476478287272882, 'min_samples_split': 4, 'min_samples_leaf': 10}. Best is trial 27 with value: 0.5555555555555556.\n",
      "[I 2025-09-17 20:40:43,853] Trial 54 finished with value: 0.5109489051094891 and parameters: {'n_estimators': 204, 'learning_rate': 0.010545137261153182, 'max_depth': 3, 'subsample': 0.7450336204733782, 'min_samples_split': 7, 'min_samples_leaf': 9}. Best is trial 27 with value: 0.5555555555555556.\n",
      "[I 2025-09-17 20:41:09,226] Trial 55 finished with value: 0.5040650406504065 and parameters: {'n_estimators': 228, 'learning_rate': 0.01549250767648126, 'max_depth': 5, 'subsample': 0.8737869803920373, 'min_samples_split': 6, 'min_samples_leaf': 10}. Best is trial 27 with value: 0.5555555555555556.\n",
      "[I 2025-09-17 20:41:30,391] Trial 56 finished with value: 0.5413533834586466 and parameters: {'n_estimators': 300, 'learning_rate': 0.013244100763426359, 'max_depth': 3, 'subsample': 0.8951537260516256, 'min_samples_split': 8, 'min_samples_leaf': 8}. Best is trial 27 with value: 0.5555555555555556.\n",
      "[I 2025-09-17 20:41:43,382] Trial 57 finished with value: 0.4740740740740741 and parameters: {'n_estimators': 289, 'learning_rate': 0.020106541611602035, 'max_depth': 2, 'subsample': 0.8234894445202029, 'min_samples_split': 7, 'min_samples_leaf': 8}. Best is trial 27 with value: 0.5555555555555556.\n",
      "[I 2025-09-17 20:42:06,096] Trial 58 finished with value: 0.49230769230769234 and parameters: {'n_estimators': 342, 'learning_rate': 0.013068774054561846, 'max_depth': 3, 'subsample': 0.8393100446660756, 'min_samples_split': 2, 'min_samples_leaf': 7}. Best is trial 27 with value: 0.5555555555555556.\n",
      "[I 2025-09-17 20:42:24,402] Trial 59 finished with value: 0.4496124031007752 and parameters: {'n_estimators': 296, 'learning_rate': 0.040974101237715894, 'max_depth': 3, 'subsample': 0.7856708075899886, 'min_samples_split': 9, 'min_samples_leaf': 8}. Best is trial 27 with value: 0.5555555555555556.\n",
      "[I 2025-09-17 20:42:37,044] Trial 60 finished with value: 0.46616541353383456 and parameters: {'n_estimators': 262, 'learning_rate': 0.015660014343176168, 'max_depth': 2, 'subsample': 0.89671124352237, 'min_samples_split': 5, 'min_samples_leaf': 8}. Best is trial 27 with value: 0.5555555555555556.\n",
      "[I 2025-09-17 20:43:01,380] Trial 61 finished with value: 0.5 and parameters: {'n_estimators': 252, 'learning_rate': 0.012225893937930485, 'max_depth': 4, 'subsample': 0.9244592715135393, 'min_samples_split': 8, 'min_samples_leaf': 9}. Best is trial 27 with value: 0.5555555555555556.\n",
      "[I 2025-09-17 20:43:34,609] Trial 62 finished with value: 0.484375 and parameters: {'n_estimators': 306, 'learning_rate': 0.011594688536436087, 'max_depth': 5, 'subsample': 0.8563624089546372, 'min_samples_split': 8, 'min_samples_leaf': 9}. Best is trial 27 with value: 0.5555555555555556.\n",
      "[I 2025-09-17 20:43:50,779] Trial 63 finished with value: 0.47244094488188976 and parameters: {'n_estimators': 233, 'learning_rate': 0.02970860607192988, 'max_depth': 3, 'subsample': 0.8795555600643817, 'min_samples_split': 9, 'min_samples_leaf': 10}. Best is trial 27 with value: 0.5555555555555556.\n",
      "[I 2025-09-17 20:44:10,733] Trial 64 finished with value: 0.546875 and parameters: {'n_estimators': 217, 'learning_rate': 0.01713772181521488, 'max_depth': 4, 'subsample': 0.9061884259232871, 'min_samples_split': 8, 'min_samples_leaf': 9}. Best is trial 27 with value: 0.5555555555555556.\n",
      "[I 2025-09-17 20:44:33,529] Trial 65 finished with value: 0.4806201550387597 and parameters: {'n_estimators': 189, 'learning_rate': 0.018305027838166708, 'max_depth': 6, 'subsample': 0.8159680621521149, 'min_samples_split': 7, 'min_samples_leaf': 8}. Best is trial 27 with value: 0.5555555555555556.\n",
      "[I 2025-09-17 20:44:50,247] Trial 66 finished with value: 0.5 and parameters: {'n_estimators': 222, 'learning_rate': 0.025563375785122668, 'max_depth': 3, 'subsample': 0.9620980856408394, 'min_samples_split': 8, 'min_samples_leaf': 7}. Best is trial 27 with value: 0.5555555555555556.\n",
      "[I 2025-09-17 20:45:38,163] Trial 67 finished with value: 0.5174825174825175 and parameters: {'n_estimators': 279, 'learning_rate': 0.06328767602290643, 'max_depth': 7, 'subsample': 0.9864305555208761, 'min_samples_split': 3, 'min_samples_leaf': 5}. Best is trial 27 with value: 0.5555555555555556.\n",
      "[I 2025-09-17 20:46:07,205] Trial 68 finished with value: 0.4918032786885246 and parameters: {'n_estimators': 255, 'learning_rate': 0.014293121503581523, 'max_depth': 5, 'subsample': 0.9168183126364013, 'min_samples_split': 9, 'min_samples_leaf': 9}. Best is trial 27 with value: 0.5555555555555556.\n",
      "[I 2025-09-17 20:47:04,340] Trial 69 finished with value: 0.5 and parameters: {'n_estimators': 360, 'learning_rate': 0.023133836806411397, 'max_depth': 8, 'subsample': 0.8722894126272054, 'min_samples_split': 7, 'min_samples_leaf': 3}. Best is trial 27 with value: 0.5555555555555556.\n",
      "[I 2025-09-17 20:47:10,981] Trial 70 finished with value: 0.47692307692307695 and parameters: {'n_estimators': 164, 'learning_rate': 0.0496982836953041, 'max_depth': 2, 'subsample': 0.8954411728247592, 'min_samples_split': 6, 'min_samples_leaf': 8}. Best is trial 27 with value: 0.5555555555555556.\n",
      "[I 2025-09-17 20:47:26,925] Trial 71 finished with value: 0.5039370078740157 and parameters: {'n_estimators': 209, 'learning_rate': 0.010012954051017148, 'max_depth': 4, 'subsample': 0.8974193674302813, 'min_samples_split': 8, 'min_samples_leaf': 9}. Best is trial 27 with value: 0.5555555555555556.\n",
      "[I 2025-09-17 20:47:41,301] Trial 72 finished with value: 0.5116279069767442 and parameters: {'n_estimators': 186, 'learning_rate': 0.01348568566701077, 'max_depth': 4, 'subsample': 0.9066274703284567, 'min_samples_split': 8, 'min_samples_leaf': 9}. Best is trial 27 with value: 0.5555555555555556.\n",
      "[I 2025-09-17 20:47:57,056] Trial 73 finished with value: 0.5190839694656488 and parameters: {'n_estimators': 200, 'learning_rate': 0.07698172268299845, 'max_depth': 4, 'subsample': 0.9289668895173112, 'min_samples_split': 8, 'min_samples_leaf': 10}. Best is trial 27 with value: 0.5555555555555556.\n",
      "[I 2025-09-17 20:48:19,850] Trial 74 finished with value: 0.4251968503937008 and parameters: {'n_estimators': 219, 'learning_rate': 0.01738067745856636, 'max_depth': 6, 'subsample': 0.8550499310299025, 'min_samples_split': 9, 'min_samples_leaf': 9}. Best is trial 27 with value: 0.5555555555555556.\n"
     ]
    },
    {
     "name": "stdout",
     "output_type": "stream",
     "text": [
      "Optuna duró 2036.16s en 75 trials\n"
     ]
    }
   ],
   "source": [
    "# ========= Ejecutar Optuna =========\n",
    "# Crear estudio y medir tiempo de Optuna\n",
    "t0 = time.perf_counter()\n",
    "\n",
    "study = optuna.create_study(\n",
    "    direction=\"maximize\",\n",
    "    sampler=optuna.samplers.TPESampler(seed=SEED)\n",
    ")\n",
    "study.optimize(objective, n_trials=75)\n",
    "\n",
    "opt_duration_sec = time.perf_counter() - t0\n",
    "n_trials_run = len(study.trials)\n",
    "\n",
    "print(f\"Optuna duró {opt_duration_sec:.2f}s en {n_trials_run} trials\")"
   ]
  },
  {
   "cell_type": "code",
   "execution_count": 8,
   "id": "ee18600a",
   "metadata": {},
   "outputs": [
    {
     "data": {
      "application/vnd.plotly.v1+json": {
       "config": {
        "plotlyServerURL": "https://plot.ly"
       },
       "data": [
        {
         "mode": "markers",
         "name": "Objective Value",
         "type": "scatter",
         "x": [
          0,
          1,
          2,
          3,
          4,
          5,
          6,
          7,
          8,
          9,
          10,
          11,
          12,
          13,
          14,
          15,
          16,
          17,
          18,
          19,
          20,
          21,
          22,
          23,
          24,
          25,
          26,
          27,
          28,
          29,
          30,
          31,
          32,
          33,
          34,
          35,
          36,
          37,
          38,
          39,
          40,
          41,
          42,
          43,
          44,
          45,
          46,
          47,
          48,
          49,
          50,
          51,
          52,
          53,
          54,
          55,
          56,
          57,
          58,
          59,
          60,
          61,
          62,
          63,
          64,
          65,
          66,
          67,
          68,
          69,
          70,
          71,
          72,
          73,
          74
         ],
         "y": [
          0.4444444444444444,
          0.47761194029850745,
          0.38571428571428573,
          0.4782608695652174,
          0.4782608695652174,
          0.5074626865671642,
          0.45517241379310347,
          0.5185185185185185,
          0.4251968503937008,
          0.5106382978723404,
          0.4444444444444444,
          0.49635036496350365,
          0.5241379310344828,
          0.43795620437956206,
          0.463768115942029,
          0.48120300751879697,
          0.4782608695652174,
          0.4852941176470588,
          0.5103448275862069,
          0.49295774647887325,
          0.46875,
          0.5072463768115942,
          0.48,
          0.49645390070921985,
          0.48854961832061067,
          0.44285714285714284,
          0.46808510638297873,
          0.5555555555555556,
          0.5072463768115942,
          0.48854961832061067,
          0.4307692307692308,
          0.48226950354609927,
          0.5285714285714286,
          0.4892086330935252,
          0.46715328467153283,
          0.45714285714285713,
          0.42857142857142855,
          0.5323741007194245,
          0.46153846153846156,
          0.4657534246575342,
          0.5401459854014599,
          0.45714285714285713,
          0.44274809160305345,
          0.5362318840579711,
          0.4827586206896552,
          0.5151515151515151,
          0.5,
          0.4748201438848921,
          0.4897959183673469,
          0.5109489051094891,
          0.53125,
          0.5230769230769231,
          0.5303030303030303,
          0.46774193548387094,
          0.5109489051094891,
          0.5040650406504065,
          0.5413533834586466,
          0.4740740740740741,
          0.49230769230769234,
          0.4496124031007752,
          0.46616541353383456,
          0.5,
          0.484375,
          0.47244094488188976,
          0.546875,
          0.4806201550387597,
          0.5,
          0.5174825174825175,
          0.4918032786885246,
          0.5,
          0.47692307692307695,
          0.5039370078740157,
          0.5116279069767442,
          0.5190839694656488,
          0.4251968503937008
         ]
        },
        {
         "mode": "lines",
         "name": "Best Value",
         "type": "scatter",
         "x": [
          0,
          1,
          2,
          3,
          4,
          5,
          6,
          7,
          8,
          9,
          10,
          11,
          12,
          13,
          14,
          15,
          16,
          17,
          18,
          19,
          20,
          21,
          22,
          23,
          24,
          25,
          26,
          27,
          28,
          29,
          30,
          31,
          32,
          33,
          34,
          35,
          36,
          37,
          38,
          39,
          40,
          41,
          42,
          43,
          44,
          45,
          46,
          47,
          48,
          49,
          50,
          51,
          52,
          53,
          54,
          55,
          56,
          57,
          58,
          59,
          60,
          61,
          62,
          63,
          64,
          65,
          66,
          67,
          68,
          69,
          70,
          71,
          72,
          73,
          74
         ],
         "y": [
          0.4444444444444444,
          0.47761194029850745,
          0.47761194029850745,
          0.4782608695652174,
          0.4782608695652174,
          0.5074626865671642,
          0.5074626865671642,
          0.5185185185185185,
          0.5185185185185185,
          0.5185185185185185,
          0.5185185185185185,
          0.5185185185185185,
          0.5241379310344828,
          0.5241379310344828,
          0.5241379310344828,
          0.5241379310344828,
          0.5241379310344828,
          0.5241379310344828,
          0.5241379310344828,
          0.5241379310344828,
          0.5241379310344828,
          0.5241379310344828,
          0.5241379310344828,
          0.5241379310344828,
          0.5241379310344828,
          0.5241379310344828,
          0.5241379310344828,
          0.5555555555555556,
          0.5555555555555556,
          0.5555555555555556,
          0.5555555555555556,
          0.5555555555555556,
          0.5555555555555556,
          0.5555555555555556,
          0.5555555555555556,
          0.5555555555555556,
          0.5555555555555556,
          0.5555555555555556,
          0.5555555555555556,
          0.5555555555555556,
          0.5555555555555556,
          0.5555555555555556,
          0.5555555555555556,
          0.5555555555555556,
          0.5555555555555556,
          0.5555555555555556,
          0.5555555555555556,
          0.5555555555555556,
          0.5555555555555556,
          0.5555555555555556,
          0.5555555555555556,
          0.5555555555555556,
          0.5555555555555556,
          0.5555555555555556,
          0.5555555555555556,
          0.5555555555555556,
          0.5555555555555556,
          0.5555555555555556,
          0.5555555555555556,
          0.5555555555555556,
          0.5555555555555556,
          0.5555555555555556,
          0.5555555555555556,
          0.5555555555555556,
          0.5555555555555556,
          0.5555555555555556,
          0.5555555555555556,
          0.5555555555555556,
          0.5555555555555556,
          0.5555555555555556,
          0.5555555555555556,
          0.5555555555555556,
          0.5555555555555556,
          0.5555555555555556,
          0.5555555555555556
         ]
        },
        {
         "marker": {
          "color": "#cccccc"
         },
         "mode": "markers",
         "name": "Infeasible Trial",
         "showlegend": false,
         "type": "scatter",
         "x": [],
         "y": []
        }
       ],
       "layout": {
        "template": {
         "data": {
          "bar": [
           {
            "error_x": {
             "color": "#2a3f5f"
            },
            "error_y": {
             "color": "#2a3f5f"
            },
            "marker": {
             "line": {
              "color": "#E5ECF6",
              "width": 0.5
             },
             "pattern": {
              "fillmode": "overlay",
              "size": 10,
              "solidity": 0.2
             }
            },
            "type": "bar"
           }
          ],
          "barpolar": [
           {
            "marker": {
             "line": {
              "color": "#E5ECF6",
              "width": 0.5
             },
             "pattern": {
              "fillmode": "overlay",
              "size": 10,
              "solidity": 0.2
             }
            },
            "type": "barpolar"
           }
          ],
          "carpet": [
           {
            "aaxis": {
             "endlinecolor": "#2a3f5f",
             "gridcolor": "white",
             "linecolor": "white",
             "minorgridcolor": "white",
             "startlinecolor": "#2a3f5f"
            },
            "baxis": {
             "endlinecolor": "#2a3f5f",
             "gridcolor": "white",
             "linecolor": "white",
             "minorgridcolor": "white",
             "startlinecolor": "#2a3f5f"
            },
            "type": "carpet"
           }
          ],
          "choropleth": [
           {
            "colorbar": {
             "outlinewidth": 0,
             "ticks": ""
            },
            "type": "choropleth"
           }
          ],
          "contour": [
           {
            "colorbar": {
             "outlinewidth": 0,
             "ticks": ""
            },
            "colorscale": [
             [
              0,
              "#0d0887"
             ],
             [
              0.1111111111111111,
              "#46039f"
             ],
             [
              0.2222222222222222,
              "#7201a8"
             ],
             [
              0.3333333333333333,
              "#9c179e"
             ],
             [
              0.4444444444444444,
              "#bd3786"
             ],
             [
              0.5555555555555556,
              "#d8576b"
             ],
             [
              0.6666666666666666,
              "#ed7953"
             ],
             [
              0.7777777777777778,
              "#fb9f3a"
             ],
             [
              0.8888888888888888,
              "#fdca26"
             ],
             [
              1,
              "#f0f921"
             ]
            ],
            "type": "contour"
           }
          ],
          "contourcarpet": [
           {
            "colorbar": {
             "outlinewidth": 0,
             "ticks": ""
            },
            "type": "contourcarpet"
           }
          ],
          "heatmap": [
           {
            "colorbar": {
             "outlinewidth": 0,
             "ticks": ""
            },
            "colorscale": [
             [
              0,
              "#0d0887"
             ],
             [
              0.1111111111111111,
              "#46039f"
             ],
             [
              0.2222222222222222,
              "#7201a8"
             ],
             [
              0.3333333333333333,
              "#9c179e"
             ],
             [
              0.4444444444444444,
              "#bd3786"
             ],
             [
              0.5555555555555556,
              "#d8576b"
             ],
             [
              0.6666666666666666,
              "#ed7953"
             ],
             [
              0.7777777777777778,
              "#fb9f3a"
             ],
             [
              0.8888888888888888,
              "#fdca26"
             ],
             [
              1,
              "#f0f921"
             ]
            ],
            "type": "heatmap"
           }
          ],
          "histogram": [
           {
            "marker": {
             "pattern": {
              "fillmode": "overlay",
              "size": 10,
              "solidity": 0.2
             }
            },
            "type": "histogram"
           }
          ],
          "histogram2d": [
           {
            "colorbar": {
             "outlinewidth": 0,
             "ticks": ""
            },
            "colorscale": [
             [
              0,
              "#0d0887"
             ],
             [
              0.1111111111111111,
              "#46039f"
             ],
             [
              0.2222222222222222,
              "#7201a8"
             ],
             [
              0.3333333333333333,
              "#9c179e"
             ],
             [
              0.4444444444444444,
              "#bd3786"
             ],
             [
              0.5555555555555556,
              "#d8576b"
             ],
             [
              0.6666666666666666,
              "#ed7953"
             ],
             [
              0.7777777777777778,
              "#fb9f3a"
             ],
             [
              0.8888888888888888,
              "#fdca26"
             ],
             [
              1,
              "#f0f921"
             ]
            ],
            "type": "histogram2d"
           }
          ],
          "histogram2dcontour": [
           {
            "colorbar": {
             "outlinewidth": 0,
             "ticks": ""
            },
            "colorscale": [
             [
              0,
              "#0d0887"
             ],
             [
              0.1111111111111111,
              "#46039f"
             ],
             [
              0.2222222222222222,
              "#7201a8"
             ],
             [
              0.3333333333333333,
              "#9c179e"
             ],
             [
              0.4444444444444444,
              "#bd3786"
             ],
             [
              0.5555555555555556,
              "#d8576b"
             ],
             [
              0.6666666666666666,
              "#ed7953"
             ],
             [
              0.7777777777777778,
              "#fb9f3a"
             ],
             [
              0.8888888888888888,
              "#fdca26"
             ],
             [
              1,
              "#f0f921"
             ]
            ],
            "type": "histogram2dcontour"
           }
          ],
          "mesh3d": [
           {
            "colorbar": {
             "outlinewidth": 0,
             "ticks": ""
            },
            "type": "mesh3d"
           }
          ],
          "parcoords": [
           {
            "line": {
             "colorbar": {
              "outlinewidth": 0,
              "ticks": ""
             }
            },
            "type": "parcoords"
           }
          ],
          "pie": [
           {
            "automargin": true,
            "type": "pie"
           }
          ],
          "scatter": [
           {
            "fillpattern": {
             "fillmode": "overlay",
             "size": 10,
             "solidity": 0.2
            },
            "type": "scatter"
           }
          ],
          "scatter3d": [
           {
            "line": {
             "colorbar": {
              "outlinewidth": 0,
              "ticks": ""
             }
            },
            "marker": {
             "colorbar": {
              "outlinewidth": 0,
              "ticks": ""
             }
            },
            "type": "scatter3d"
           }
          ],
          "scattercarpet": [
           {
            "marker": {
             "colorbar": {
              "outlinewidth": 0,
              "ticks": ""
             }
            },
            "type": "scattercarpet"
           }
          ],
          "scattergeo": [
           {
            "marker": {
             "colorbar": {
              "outlinewidth": 0,
              "ticks": ""
             }
            },
            "type": "scattergeo"
           }
          ],
          "scattergl": [
           {
            "marker": {
             "colorbar": {
              "outlinewidth": 0,
              "ticks": ""
             }
            },
            "type": "scattergl"
           }
          ],
          "scattermap": [
           {
            "marker": {
             "colorbar": {
              "outlinewidth": 0,
              "ticks": ""
             }
            },
            "type": "scattermap"
           }
          ],
          "scattermapbox": [
           {
            "marker": {
             "colorbar": {
              "outlinewidth": 0,
              "ticks": ""
             }
            },
            "type": "scattermapbox"
           }
          ],
          "scatterpolar": [
           {
            "marker": {
             "colorbar": {
              "outlinewidth": 0,
              "ticks": ""
             }
            },
            "type": "scatterpolar"
           }
          ],
          "scatterpolargl": [
           {
            "marker": {
             "colorbar": {
              "outlinewidth": 0,
              "ticks": ""
             }
            },
            "type": "scatterpolargl"
           }
          ],
          "scatterternary": [
           {
            "marker": {
             "colorbar": {
              "outlinewidth": 0,
              "ticks": ""
             }
            },
            "type": "scatterternary"
           }
          ],
          "surface": [
           {
            "colorbar": {
             "outlinewidth": 0,
             "ticks": ""
            },
            "colorscale": [
             [
              0,
              "#0d0887"
             ],
             [
              0.1111111111111111,
              "#46039f"
             ],
             [
              0.2222222222222222,
              "#7201a8"
             ],
             [
              0.3333333333333333,
              "#9c179e"
             ],
             [
              0.4444444444444444,
              "#bd3786"
             ],
             [
              0.5555555555555556,
              "#d8576b"
             ],
             [
              0.6666666666666666,
              "#ed7953"
             ],
             [
              0.7777777777777778,
              "#fb9f3a"
             ],
             [
              0.8888888888888888,
              "#fdca26"
             ],
             [
              1,
              "#f0f921"
             ]
            ],
            "type": "surface"
           }
          ],
          "table": [
           {
            "cells": {
             "fill": {
              "color": "#EBF0F8"
             },
             "line": {
              "color": "white"
             }
            },
            "header": {
             "fill": {
              "color": "#C8D4E3"
             },
             "line": {
              "color": "white"
             }
            },
            "type": "table"
           }
          ]
         },
         "layout": {
          "annotationdefaults": {
           "arrowcolor": "#2a3f5f",
           "arrowhead": 0,
           "arrowwidth": 1
          },
          "autotypenumbers": "strict",
          "coloraxis": {
           "colorbar": {
            "outlinewidth": 0,
            "ticks": ""
           }
          },
          "colorscale": {
           "diverging": [
            [
             0,
             "#8e0152"
            ],
            [
             0.1,
             "#c51b7d"
            ],
            [
             0.2,
             "#de77ae"
            ],
            [
             0.3,
             "#f1b6da"
            ],
            [
             0.4,
             "#fde0ef"
            ],
            [
             0.5,
             "#f7f7f7"
            ],
            [
             0.6,
             "#e6f5d0"
            ],
            [
             0.7,
             "#b8e186"
            ],
            [
             0.8,
             "#7fbc41"
            ],
            [
             0.9,
             "#4d9221"
            ],
            [
             1,
             "#276419"
            ]
           ],
           "sequential": [
            [
             0,
             "#0d0887"
            ],
            [
             0.1111111111111111,
             "#46039f"
            ],
            [
             0.2222222222222222,
             "#7201a8"
            ],
            [
             0.3333333333333333,
             "#9c179e"
            ],
            [
             0.4444444444444444,
             "#bd3786"
            ],
            [
             0.5555555555555556,
             "#d8576b"
            ],
            [
             0.6666666666666666,
             "#ed7953"
            ],
            [
             0.7777777777777778,
             "#fb9f3a"
            ],
            [
             0.8888888888888888,
             "#fdca26"
            ],
            [
             1,
             "#f0f921"
            ]
           ],
           "sequentialminus": [
            [
             0,
             "#0d0887"
            ],
            [
             0.1111111111111111,
             "#46039f"
            ],
            [
             0.2222222222222222,
             "#7201a8"
            ],
            [
             0.3333333333333333,
             "#9c179e"
            ],
            [
             0.4444444444444444,
             "#bd3786"
            ],
            [
             0.5555555555555556,
             "#d8576b"
            ],
            [
             0.6666666666666666,
             "#ed7953"
            ],
            [
             0.7777777777777778,
             "#fb9f3a"
            ],
            [
             0.8888888888888888,
             "#fdca26"
            ],
            [
             1,
             "#f0f921"
            ]
           ]
          },
          "colorway": [
           "#636efa",
           "#EF553B",
           "#00cc96",
           "#ab63fa",
           "#FFA15A",
           "#19d3f3",
           "#FF6692",
           "#B6E880",
           "#FF97FF",
           "#FECB52"
          ],
          "font": {
           "color": "#2a3f5f"
          },
          "geo": {
           "bgcolor": "white",
           "lakecolor": "white",
           "landcolor": "#E5ECF6",
           "showlakes": true,
           "showland": true,
           "subunitcolor": "white"
          },
          "hoverlabel": {
           "align": "left"
          },
          "hovermode": "closest",
          "mapbox": {
           "style": "light"
          },
          "paper_bgcolor": "white",
          "plot_bgcolor": "#E5ECF6",
          "polar": {
           "angularaxis": {
            "gridcolor": "white",
            "linecolor": "white",
            "ticks": ""
           },
           "bgcolor": "#E5ECF6",
           "radialaxis": {
            "gridcolor": "white",
            "linecolor": "white",
            "ticks": ""
           }
          },
          "scene": {
           "xaxis": {
            "backgroundcolor": "#E5ECF6",
            "gridcolor": "white",
            "gridwidth": 2,
            "linecolor": "white",
            "showbackground": true,
            "ticks": "",
            "zerolinecolor": "white"
           },
           "yaxis": {
            "backgroundcolor": "#E5ECF6",
            "gridcolor": "white",
            "gridwidth": 2,
            "linecolor": "white",
            "showbackground": true,
            "ticks": "",
            "zerolinecolor": "white"
           },
           "zaxis": {
            "backgroundcolor": "#E5ECF6",
            "gridcolor": "white",
            "gridwidth": 2,
            "linecolor": "white",
            "showbackground": true,
            "ticks": "",
            "zerolinecolor": "white"
           }
          },
          "shapedefaults": {
           "line": {
            "color": "#2a3f5f"
           }
          },
          "ternary": {
           "aaxis": {
            "gridcolor": "white",
            "linecolor": "white",
            "ticks": ""
           },
           "baxis": {
            "gridcolor": "white",
            "linecolor": "white",
            "ticks": ""
           },
           "bgcolor": "#E5ECF6",
           "caxis": {
            "gridcolor": "white",
            "linecolor": "white",
            "ticks": ""
           }
          },
          "title": {
           "x": 0.05
          },
          "xaxis": {
           "automargin": true,
           "gridcolor": "white",
           "linecolor": "white",
           "ticks": "",
           "title": {
            "standoff": 15
           },
           "zerolinecolor": "white",
           "zerolinewidth": 2
          },
          "yaxis": {
           "automargin": true,
           "gridcolor": "white",
           "linecolor": "white",
           "ticks": "",
           "title": {
            "standoff": 15
           },
           "zerolinecolor": "white",
           "zerolinewidth": 2
          }
         }
        },
        "title": {
         "text": "Optimization History Plot"
        },
        "xaxis": {
         "title": {
          "text": "Trial"
         }
        },
        "yaxis": {
         "title": {
          "text": "Objective Value"
         }
        }
       }
      }
     },
     "metadata": {},
     "output_type": "display_data"
    }
   ],
   "source": [
    "# Visualizar el historial de optimización\n",
    "plot_optimization_history(study)"
   ]
  },
  {
   "cell_type": "code",
   "execution_count": 11,
   "id": "6691d415",
   "metadata": {},
   "outputs": [
    {
     "name": "stdout",
     "output_type": "stream",
     "text": [
      "Mejores hiperparámetros encontrados:\n",
      "{'n_estimators': 220, 'learning_rate': 0.1318034758692167, 'max_depth': 8, 'subsample': 0.9820559851782735, 'min_samples_split': 7, 'min_samples_leaf': 9}\n",
      "Mejor score de f1-score: 0.5556\n"
     ]
    }
   ],
   "source": [
    "print(\"Mejores hiperparámetros encontrados:\")\n",
    "print(study.best_params)\n",
    "print(f\"Mejor score de {SCORE}: {study.best_value:.4f}\")\n",
    "best_params = study.best_params"
   ]
  },
  {
   "cell_type": "code",
   "execution_count": 12,
   "id": "1213f773",
   "metadata": {},
   "outputs": [],
   "source": [
    "# Guardar los mejores hiperparámetros y su valor\n",
    "history = []\n",
    "if os.path.exists(\"best_hyperparams.json\"):\n",
    "    try:\n",
    "        with open(\"best_hyperparams.json\", \"r\") as f:\n",
    "            history = json.load(f)\n",
    "    except (json.JSONDecodeError, ValueError):\n",
    "        history = []\n",
    "\n",
    "# Guardar ambos en un solo diccionario\n",
    "history.append({\n",
    "    \"params\": study.best_params,\n",
    "    \"value\": study.best_value\n",
    "})\n",
    "# Guardar el historial de hiperparámetros\n",
    "with open(\"best_hyperparams.json\", \"w\") as f:\n",
    "    json.dump(history, f, indent=2)"
   ]
  },
  {
   "cell_type": "code",
   "execution_count": 13,
   "id": "6cb1c1f3",
   "metadata": {},
   "outputs": [
    {
     "name": "stdout",
     "output_type": "stream",
     "text": [
      "Hiperparámetros #1: {'n_estimators': 220, 'learning_rate': 0.1318034758692167, 'max_depth': 8, 'subsample': 0.9820559851782735, 'min_samples_split': 7, 'min_samples_leaf': 9}, Valor: 0.5555555555555556\n"
     ]
    }
   ],
   "source": [
    "# Cargar historial de hiperparámetros y valores\n",
    "import json\n",
    "\n",
    "with open(\"best_hyperparams.json\", \"r\") as f:\n",
    "    history = json.load(f)\n",
    "\n",
    "# Escoger el último (más reciente)\n",
    "best_params = history[-1][\"params\"]\n",
    "best_value = history[-1][\"value\"]\n",
    "\n",
    "# Para ver todos:\n",
    "for i, entry in enumerate(history):\n",
    "    print(f\"Hiperparámetros #{i+1}: {entry['params']}, Valor: {entry['value']}\")\n",
    "\n",
    "# Para escoger uno específico (por índice):\n",
    "# best_params = history[indice_que_quieras][\"params\"]\n",
    "# best_value = history[indice_que_quieras][\"value\"]"
   ]
  },
  {
   "cell_type": "code",
   "execution_count": 14,
   "id": "8052bafe",
   "metadata": {},
   "outputs": [
    {
     "data": {
      "text/plain": [
       "['../../../score_models/models/GradientBoosting.joblib']"
      ]
     },
     "execution_count": 14,
     "metadata": {},
     "output_type": "execute_result"
    }
   ],
   "source": [
    "# Entrenar modelo final con los mejores hiperparámetros\n",
    "set_seeds(SEED)\n",
    "final_model = GradientBoostingClassifier(\n",
    "    n_estimators=best_params[\"n_estimators\"],\n",
    "    learning_rate=best_params[\"learning_rate\"],\n",
    "    max_depth=best_params[\"max_depth\"],\n",
    "    subsample=best_params[\"subsample\"],\n",
    "    min_samples_split=best_params[\"min_samples_split\"],\n",
    "    min_samples_leaf=best_params[\"min_samples_leaf\"],\n",
    "    random_state=SEED\n",
    ")\n",
    "final_model.fit(X_train, y_train)\n",
    "joblib.dump(final_model, \"../../../score_models/models/GradientBoosting.joblib\")\n"
   ]
  },
  {
   "cell_type": "code",
   "execution_count": 15,
   "id": "b1b854b7",
   "metadata": {},
   "outputs": [
    {
     "name": "stdout",
     "output_type": "stream",
     "text": [
      "Gradient Boosting Classifier Trend Changes Score:\n",
      "               precision    recall  f1-score   support\n",
      "\n",
      "       False     0.8475    0.8630    0.8552       219\n",
      "        True     0.5714    0.5405    0.5556        74\n",
      "\n",
      "    accuracy                         0.7816       293\n",
      "   macro avg     0.7095    0.7018    0.7054       293\n",
      "weighted avg     0.7778    0.7816    0.7795       293\n",
      "\n"
     ]
    }
   ],
   "source": [
    "# Obtener predicciones finales\n",
    "y_val_pred = final_model.predict(X_val)\n",
    "print(\"Gradient Boosting Classifier Trend Changes Score:\\n\", trend_changes_score(y_val, y_val_pred))"
   ]
  },
  {
   "cell_type": "code",
   "execution_count": 16,
   "id": "5ad5ada3",
   "metadata": {},
   "outputs": [
    {
     "name": "stdout",
     "output_type": "stream",
     "text": [
      "Gradient Boosting Classifier Report:\n",
      "               precision    recall  f1-score   support\n",
      "\n",
      "          -1     0.7523    0.8913    0.8159        92\n",
      "           0     0.4091    0.1837    0.2535        49\n",
      "           1     0.7975    0.8497    0.8228       153\n",
      "\n",
      "    accuracy                         0.7517       294\n",
      "   macro avg     0.6530    0.6416    0.6307       294\n",
      "weighted avg     0.7186    0.7517    0.7258       294\n",
      "\n",
      "Balanced accuracy: 0.6415503399427404\n"
     ]
    }
   ],
   "source": [
    "# Reporte completo: precisión, recall y F1 por clase\n",
    "report = classification_report(y_val, y_val_pred, digits=4)\n",
    "print(\"Gradient Boosting Classifier Report:\\n\", report)\n",
    "print(\"Balanced accuracy:\", balanced_accuracy_score(y_val, y_val_pred))"
   ]
  },
  {
   "cell_type": "code",
   "execution_count": 17,
   "id": "851011a7",
   "metadata": {},
   "outputs": [],
   "source": [
    "# --- Exportar y Comparar Métricas de Modelos (Validación) ---\n",
    "\n",
    "# 1. Definir el nombre del modelo actual y el archivo de salida\n",
    "output_file = '../../../score_models/model_comparison_metrics.csv'\n",
    "\n",
    "# 2. Calcular el reporte de clasificación estándar\n",
    "# Usamos y_val_m y y_val_pred que están en la misma escala (0,1,2)\n",
    "report_dict = classification_report(y_val, y_val_pred, output_dict=True, zero_division=0)\n",
    "precision = report_dict['macro avg']['precision']\n",
    "recall = report_dict['macro avg']['recall']\n",
    "f1_score = report_dict['macro avg']['f1-score']\n",
    "\n",
    "\n",
    "# 3. Calcular el reporte de cambio de tendencia\n",
    "report = get_trend_changes_report_dict(y_val, y_val_pred)\n",
    "trend_change_precision = report['True']['precision']\n",
    "trend_change_recall = report['True']['recall']\n",
    "trend_change_f1_score = report['True']['f1-score']\n",
    "\n",
    "# 4. Organizar las nuevas métricas\n",
    "new_metrics = {\n",
    "    'precision': precision,\n",
    "    'recall': recall,\n",
    "    'f1_score': f1_score,\n",
    "    'trend_change_precision': trend_change_precision,\n",
    "    'trend_change_recall': trend_change_recall,\n",
    "    'trend_change_f1_score': trend_change_f1_score,\n",
    "    \"optuna_duration_sec\": opt_duration_sec,\n",
    "    \"n_trials\": n_trials_run\n",
    "}\n",
    "\n",
    "# 5. Cargar, actualizar y guardar el DataFrame de comparación\n",
    "try:\n",
    "    # Intentar cargar el archivo existente\n",
    "    comparison_df = pd.read_csv(output_file, index_col='model')\n",
    "    # Si existe, actualizar o añadir la fila para el modelo actual\n",
    "    comparison_df.loc[model_name] = new_metrics\n",
    "except FileNotFoundError:\n",
    "    # Si no existe, crear un DataFrame nuevo directamente con los datos actuales\n",
    "    comparison_df = pd.DataFrame([new_metrics], index=[model_name])\n",
    "\n",
    "# Guardar el DataFrame actualizado en el CSV\n",
    "comparison_df.to_csv(output_file, index_label='model')"
   ]
  }
 ],
 "metadata": {
  "kernelspec": {
   "display_name": "tf_venv2 (3.10.12)",
   "language": "python",
   "name": "python3"
  },
  "language_info": {
   "codemirror_mode": {
    "name": "ipython",
    "version": 3
   },
   "file_extension": ".py",
   "mimetype": "text/x-python",
   "name": "python",
   "nbconvert_exporter": "python",
   "pygments_lexer": "ipython3",
   "version": "3.10.12"
  }
 },
 "nbformat": 4,
 "nbformat_minor": 5
}
