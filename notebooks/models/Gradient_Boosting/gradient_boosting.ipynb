{
 "cells": [
  {
   "cell_type": "code",
   "execution_count": 66,
   "id": "71b79b11",
   "metadata": {},
   "outputs": [],
   "source": [
    "import numpy as np\n",
    "import pandas as pd\n",
    "from sklearn.ensemble import GradientBoostingClassifier, HistGradientBoostingClassifier\n",
    "from sklearn.metrics import classification_report, balanced_accuracy_score"
   ]
  },
  {
   "cell_type": "code",
   "execution_count": 67,
   "id": "aeb89a60",
   "metadata": {},
   "outputs": [],
   "source": [
    "def trend_changes_score(y_test: np.array, y_pred: np.array) -> float:\n",
    "    \"\"\"\n",
    "    Calculate the trend changes score based on the test and predicted values.\n",
    "    \n",
    "    Args:\n",
    "        y_test (np.array): True labels.\n",
    "        y_pred (np.array): Predicted labels.\n",
    "        \n",
    "    Returns:\n",
    "        float: The trend changes score.\n",
    "    \"\"\"\n",
    "    y_df = pd.DataFrame([y_test, y_pred]).T\n",
    "    y_df.columns = [\"y_test\", \"y_pred\"]\n",
    "    y_df[\"y_test_shifted\"] = y_df[\"y_test\"].shift(-1)\n",
    "    y_df[\"is_changed_trend_test\"] = y_df[\"y_test\"] != y_df[\"y_test_shifted\"]\n",
    "    y_df[\"y_predict_shifted\"] = y_df[\"y_pred\"].shift(-1)\n",
    "    y_df[\"is_changed_trend_predict\"] = y_df[\"y_pred\"] != y_df[\"y_predict_shifted\"]\n",
    "    return classification_report(y_df[\"is_changed_trend_test\"][:-1], y_df[\"is_changed_trend_predict\"][:-1], digits=4)"
   ]
  },
  {
   "cell_type": "code",
   "execution_count": 68,
   "id": "75d0de11",
   "metadata": {},
   "outputs": [],
   "source": [
    "data = pd.read_csv(\"../../../data/training_set.csv\", parse_dates=['date'])"
   ]
  },
  {
   "cell_type": "code",
   "execution_count": 69,
   "id": "3e40adca",
   "metadata": {},
   "outputs": [],
   "source": [
    "X = data.drop(columns=['date', 'target_trend']).values\n",
    "y = data['target_trend'].values"
   ]
  },
  {
   "cell_type": "code",
   "execution_count": 70,
   "id": "f66e0fbf",
   "metadata": {},
   "outputs": [
    {
     "name": "stdout",
     "output_type": "stream",
     "text": [
      "GradientBoostingClassifier report:\n",
      "               precision    recall  f1-score   support\n",
      "\n",
      "          -1     0.2706    0.9583    0.4220        24\n",
      "           0     0.4167    0.2778    0.3333        18\n",
      "           1     0.9394    0.3523    0.5124        88\n",
      "\n",
      "    accuracy                         0.4538       130\n",
      "   macro avg     0.5422    0.5295    0.4226       130\n",
      "weighted avg     0.7435    0.4538    0.4709       130\n",
      "\n",
      "Balanced accuracy: 0.5294612794612795\n"
     ]
    }
   ],
   "source": [
    "# Entrenamiento con GradientBoostingClassifier (árboles secuenciales)\n",
    "gb_model = GradientBoostingClassifier(\n",
    "    n_estimators=200, #500      # número de etapas (árboles débiles)\n",
    "    learning_rate=0.05,    # shrinkage; bajar si subes n_estimators\n",
    "    max_depth=5,           # profundidad de cada árbol\n",
    "    subsample=0.9,         # <1.0 introduce estocasticidad (stochastic GB)\n",
    "    random_state=42        # semilla para la aleatoriedad\n",
    ")\n",
    "gb_model.fit(X, y)\n",
    "\n",
    "# Validación\n",
    "validation_set = pd.read_csv(\"../../../data/validation_set.csv\", parse_dates=['date'])\n",
    "x_validation = validation_set.drop(columns=['date', 'target_trend']).values\n",
    "y_validation = validation_set['target_trend'].values\n",
    "y_pred = gb_model.predict(x_validation)\n",
    "report = classification_report(y_validation, y_pred, digits=4)\n",
    "print(\"GradientBoostingClassifier report:\\n\", report)\n",
    "print(\"Balanced accuracy:\", balanced_accuracy_score(y_validation, y_pred))"
   ]
  },
  {
   "cell_type": "code",
   "execution_count": 71,
   "id": "946af52e",
   "metadata": {},
   "outputs": [
    {
     "name": "stdout",
     "output_type": "stream",
     "text": [
      "\n",
      "GradientBoostingClassifier trend_changes_score:\n",
      "               precision    recall  f1-score   support\n",
      "\n",
      "       False     0.8583    0.9196    0.8879       112\n",
      "        True     0.0000    0.0000    0.0000        17\n",
      "\n",
      "    accuracy                         0.7984       129\n",
      "   macro avg     0.4292    0.4598    0.4440       129\n",
      "weighted avg     0.7452    0.7984    0.7709       129\n",
      "\n"
     ]
    }
   ],
   "source": [
    "print(\"\\nGradientBoostingClassifier trend_changes_score:\\n\",\n",
    "    trend_changes_score(y_test=y_validation, y_pred=y_pred))"
   ]
  },
  {
   "cell_type": "code",
   "execution_count": 79,
   "id": "b0fe7774",
   "metadata": {},
   "outputs": [
    {
     "name": "stdout",
     "output_type": "stream",
     "text": [
      "\n",
      "HistGradientBoostingClassifier report:\n",
      "               precision    recall  f1-score   support\n",
      "\n",
      "          -1     0.8261    0.7917    0.8085        24\n",
      "           0     0.3333    0.5556    0.4167        18\n",
      "           1     0.9481    0.8295    0.8848        88\n",
      "\n",
      "    accuracy                         0.7846       130\n",
      "   macro avg     0.7025    0.7256    0.7033       130\n",
      "weighted avg     0.8404    0.7846    0.8059       130\n",
      "\n",
      "Balanced accuracy: 0.7255892255892257\n"
     ]
    }
   ],
   "source": [
    "# (Opcional) Versión más rápida y escalable: HistGradientBoostingClassifier\n",
    "hgb_model = HistGradientBoostingClassifier(\n",
    "    learning_rate=0.05,\n",
    "    max_depth=6,          # profundidades algo mayores suelen ir bien aquí\n",
    "    max_iter=400,         # equivalente a n_estimators\n",
    "    random_state=42\n",
    ")\n",
    "hgb_model.fit(X, y)\n",
    "y_pred_hgb = hgb_model.predict(x_validation)\n",
    "print(\"\\nHistGradientBoostingClassifier report:\\n\",\n",
    "      classification_report(y_validation, y_pred_hgb, digits=4))\n",
    "print(\"Balanced accuracy:\", balanced_accuracy_score(y_validation, y_pred_hgb))"
   ]
  },
  {
   "cell_type": "code",
   "execution_count": 80,
   "id": "df9de223",
   "metadata": {},
   "outputs": [
    {
     "name": "stdout",
     "output_type": "stream",
     "text": [
      "\n",
      "HistGradientBoostingClassifier trend_changes_score:\n",
      "               precision    recall  f1-score   support\n",
      "\n",
      "       False     0.8878    0.7768    0.8286       112\n",
      "        True     0.1935    0.3529    0.2500        17\n",
      "\n",
      "    accuracy                         0.7209       129\n",
      "   macro avg     0.5407    0.5649    0.5393       129\n",
      "weighted avg     0.7963    0.7209    0.7523       129\n",
      "\n"
     ]
    }
   ],
   "source": [
    "print(\"\\nHistGradientBoostingClassifier trend_changes_score:\\n\",\n",
    "    trend_changes_score(y_test=y_validation, y_pred=y_pred_hgb))  "
   ]
  }
 ],
 "metadata": {
  "kernelspec": {
   "display_name": "tf_venv2 (3.10.12)",
   "language": "python",
   "name": "python3"
  },
  "language_info": {
   "codemirror_mode": {
    "name": "ipython",
    "version": 3
   },
   "file_extension": ".py",
   "mimetype": "text/x-python",
   "name": "python",
   "nbconvert_exporter": "python",
   "pygments_lexer": "ipython3",
   "version": "3.10.12"
  }
 },
 "nbformat": 4,
 "nbformat_minor": 5
}
