{
 "cells": [
  {
   "cell_type": "code",
   "execution_count": 1,
   "id": "71b79b11",
   "metadata": {},
   "outputs": [
    {
     "name": "stderr",
     "output_type": "stream",
     "text": [
      "/home/toyotx22/bitcoin_sentiment_forecaster/tf_venv2/lib/python3.10/site-packages/tqdm/auto.py:21: TqdmWarning: IProgress not found. Please update jupyter and ipywidgets. See https://ipywidgets.readthedocs.io/en/stable/user_install.html\n",
      "  from .autonotebook import tqdm as notebook_tqdm\n"
     ]
    }
   ],
   "source": [
    "import numpy as np\n",
    "import random\n",
    "import optuna\n",
    "import pandas as pd\n",
    "from sklearn.ensemble import GradientBoostingClassifier\n",
    "from sklearn.metrics import classification_report, balanced_accuracy_score"
   ]
  },
  {
   "cell_type": "code",
   "execution_count": 2,
   "id": "b58e3b87",
   "metadata": {},
   "outputs": [],
   "source": [
    "SEED = 1234\n",
    " # Se puede cambiar a \"precision\" o \"recall\" o \"f1-score\"\n",
    "SCORE = \"f1-score\""
   ]
  },
  {
   "cell_type": "code",
   "execution_count": 3,
   "id": "97ed06bc",
   "metadata": {},
   "outputs": [],
   "source": [
    "def set_seeds(seed):\n",
    "    random.seed(seed)\n",
    "    np.random.seed(seed)"
   ]
  },
  {
   "cell_type": "code",
   "execution_count": 4,
   "id": "aeb89a60",
   "metadata": {},
   "outputs": [],
   "source": [
    "def trend_changes_score(y_test: np.array, y_pred: np.array) -> float:\n",
    "    \"\"\"\n",
    "    Calculate the trend changes score based on the test and predicted values.\n",
    "    \"\"\"\n",
    "    y_df = pd.DataFrame([y_test, y_pred]).T\n",
    "    y_df.columns = [\"y_test\", \"y_pred\"]\n",
    "    y_df[\"y_test_shifted\"] = y_df[\"y_test\"].shift(-1)\n",
    "    y_df[\"is_changed_trend_test\"] = y_df[\"y_test\"] != y_df[\"y_test_shifted\"]\n",
    "    y_df[\"y_predict_shifted\"] = y_df[\"y_pred\"].shift(-1)\n",
    "    y_df[\"is_changed_trend_predict\"] = y_df[\"y_pred\"] != y_df[\"y_predict_shifted\"]\n",
    "    return classification_report(\n",
    "        y_df[\"is_changed_trend_test\"][:-1],\n",
    "        y_df[\"is_changed_trend_predict\"][:-1],\n",
    "        digits=4\n",
    "    )\n",
    "\n",
    "def trend_changes_true(y_test: np.array, y_pred: np.array) -> float:\n",
    "    \"\"\"\n",
    "    Calculate the trend changes score based on the test and predicted values.\n",
    "    Returns only the F1-score for trend change.\n",
    "    \"\"\"\n",
    "    y_df = pd.DataFrame([y_test, y_pred]).T\n",
    "    y_df.columns = [\"y_test\", \"y_pred\"]\n",
    "    y_df[\"y_test_shifted\"] = y_df[\"y_test\"].shift(-1)\n",
    "    y_df[\"is_changed_trend_test\"] = y_df[\"y_test\"] != y_df[\"y_test_shifted\"]\n",
    "    y_df[\"y_predict_shifted\"] = y_df[\"y_pred\"].shift(-1)\n",
    "    y_df[\"is_changed_trend_predict\"] = y_df[\"y_pred\"] != y_df[\"y_predict_shifted\"]\n",
    "    report = classification_report(\n",
    "        y_df[\"is_changed_trend_test\"][:-1],\n",
    "        y_df[\"is_changed_trend_predict\"][:-1],\n",
    "        output_dict=True,\n",
    "        zero_division=0\n",
    "    )\n",
    "    return report[\"True\"][SCORE]"
   ]
  },
  {
   "cell_type": "code",
   "execution_count": 5,
   "id": "9d71ae0d",
   "metadata": {},
   "outputs": [],
   "source": [
    "# Cargar datos\n",
    "train = pd.read_csv(\"../../../data/training_set.csv\", parse_dates=[\"date\"])\n",
    "val = pd.read_csv(\"../../../data/validation_set.csv\", parse_dates=[\"date\"])\n",
    "X_train = train.drop(columns=[\"date\", \"target_trend\"]).values\n",
    "y_train = train[\"target_trend\"].values\n",
    "X_val = val.drop(columns=[\"date\", \"target_trend\"]).values\n",
    "y_val = val[\"target_trend\"].values"
   ]
  },
  {
   "cell_type": "code",
   "execution_count": 7,
   "id": "a902302c",
   "metadata": {},
   "outputs": [],
   "source": [
    "def objective(trial):\n",
    "    set_seeds(SEED)\n",
    "    n_estimators = trial.suggest_int(\"n_estimators\", 50, 400)\n",
    "    learning_rate = trial.suggest_float(\"learning_rate\", 0.01, 0.2, log=True)\n",
    "    max_depth = trial.suggest_int(\"max_depth\", 2, 10)\n",
    "    subsample = trial.suggest_float(\"subsample\", 0.6, 1.0)\n",
    "    min_samples_split = trial.suggest_int(\"min_samples_split\", 2, 10)\n",
    "    min_samples_leaf = trial.suggest_int(\"min_samples_leaf\", 1, 10)\n",
    "\n",
    "    model = GradientBoostingClassifier(\n",
    "        n_estimators=n_estimators,\n",
    "        learning_rate=learning_rate,\n",
    "        max_depth=max_depth,\n",
    "        subsample=subsample,\n",
    "        min_samples_split=min_samples_split,\n",
    "        min_samples_leaf=min_samples_leaf,\n",
    "        random_state=SEED\n",
    "    )\n",
    "    model.fit(X_train, y_train)\n",
    "    y_pred = model.predict(X_val)\n",
    "    score = trend_changes_true(y_val, y_pred)\n",
    "    return score"
   ]
  },
  {
   "cell_type": "code",
   "execution_count": null,
   "id": "300aa410",
   "metadata": {},
   "outputs": [
    {
     "name": "stderr",
     "output_type": "stream",
     "text": [
      "[I 2025-08-17 22:38:24,659] A new study created in memory with name: no-name-2db7d437-0114-45b0-94ed-38888005113a\n",
      "[I 2025-08-17 22:38:27,924] Trial 0 finished with value: 0.0 and parameters: {'n_estimators': 117, 'learning_rate': 0.06447363728960653, 'max_depth': 5, 'subsample': 0.9141434334855076, 'min_samples_split': 9, 'min_samples_leaf': 3}. Best is trial 0 with value: 0.0.\n",
      "[I 2025-08-17 22:38:32,126] Trial 1 finished with value: 0.041666666666666664 and parameters: {'n_estimators': 147, 'learning_rate': 0.11047391773518671, 'max_depth': 10, 'subsample': 0.9503730538968379, 'min_samples_split': 5, 'min_samples_leaf': 6}. Best is trial 1 with value: 0.041666666666666664.\n",
      "[I 2025-08-17 22:38:39,406] Trial 2 finished with value: 0.0 and parameters: {'n_estimators': 289, 'learning_rate': 0.08457591696604633, 'max_depth': 5, 'subsample': 0.82447847442625, 'min_samples_split': 6, 'min_samples_leaf': 1}. Best is trial 1 with value: 0.041666666666666664.\n",
      "[I 2025-08-17 22:38:47,628] Trial 3 finished with value: 0.14545454545454545 and parameters: {'n_estimators': 321, 'learning_rate': 0.14071573530882303, 'max_depth': 5, 'subsample': 0.8461584713733975, 'min_samples_split': 2, 'min_samples_leaf': 4}. Best is trial 3 with value: 0.14545454545454545.\n",
      "[I 2025-08-17 22:38:57,821] Trial 4 finished with value: 0.16 and parameters: {'n_estimators': 377, 'learning_rate': 0.07038214571143755, 'max_depth': 5, 'subsample': 0.9154920571762982, 'min_samples_split': 4, 'min_samples_leaf': 6}. Best is trial 4 with value: 0.16.\n",
      "[I 2025-08-17 22:39:05,222] Trial 5 finished with value: 0.1111111111111111 and parameters: {'n_estimators': 355, 'learning_rate': 0.03693811319191527, 'max_depth': 9, 'subsample': 0.6575067298058258, 'min_samples_split': 8, 'min_samples_leaf': 8}. Best is trial 4 with value: 0.16.\n",
      "[I 2025-08-17 22:39:08,914] Trial 6 finished with value: 0.0 and parameters: {'n_estimators': 126, 'learning_rate': 0.15969103175248078, 'max_depth': 5, 'subsample': 0.963726383588989, 'min_samples_split': 2, 'min_samples_leaf': 2}. Best is trial 4 with value: 0.16.\n",
      "[I 2025-08-17 22:39:11,011] Trial 7 finished with value: 0.1702127659574468 and parameters: {'n_estimators': 66, 'learning_rate': 0.07551623879385619, 'max_depth': 7, 'subsample': 0.8133240651995002, 'min_samples_split': 2, 'min_samples_leaf': 6}. Best is trial 7 with value: 0.1702127659574468.\n",
      "[I 2025-08-17 22:39:13,652] Trial 8 finished with value: 0.0 and parameters: {'n_estimators': 165, 'learning_rate': 0.04512060733223494, 'max_depth': 3, 'subsample': 0.8428774824873938, 'min_samples_split': 7, 'min_samples_leaf': 1}. Best is trial 7 with value: 0.1702127659574468.\n",
      "[I 2025-08-17 22:39:21,066] Trial 9 finished with value: 0.13953488372093023 and parameters: {'n_estimators': 266, 'learning_rate': 0.15370897799978378, 'max_depth': 9, 'subsample': 0.9968325864753446, 'min_samples_split': 10, 'min_samples_leaf': 8}. Best is trial 7 with value: 0.1702127659574468.\n",
      "[I 2025-08-17 22:39:22,546] Trial 10 finished with value: 0.1111111111111111 and parameters: {'n_estimators': 59, 'learning_rate': 0.01404922525591651, 'max_depth': 7, 'subsample': 0.689428298871198, 'min_samples_split': 4, 'min_samples_leaf': 10}. Best is trial 7 with value: 0.1702127659574468.\n",
      "[I 2025-08-17 22:39:31,282] Trial 11 finished with value: 0.08888888888888889 and parameters: {'n_estimators': 400, 'learning_rate': 0.030130838009657962, 'max_depth': 7, 'subsample': 0.7393200991435069, 'min_samples_split': 4, 'min_samples_leaf': 6}. Best is trial 7 with value: 0.1702127659574468.\n",
      "[I 2025-08-17 22:39:33,598] Trial 12 finished with value: 0.19230769230769232 and parameters: {'n_estimators': 223, 'learning_rate': 0.0614050995650607, 'max_depth': 2, 'subsample': 0.7522849853189172, 'min_samples_split': 3, 'min_samples_leaf': 5}. Best is trial 12 with value: 0.19230769230769232.\n",
      "[I 2025-08-17 22:39:35,757] Trial 13 finished with value: 0.0 and parameters: {'n_estimators': 209, 'learning_rate': 0.021878270329666036, 'max_depth': 2, 'subsample': 0.7568850648151789, 'min_samples_split': 2, 'min_samples_leaf': 4}. Best is trial 12 with value: 0.19230769230769232.\n",
      "[I 2025-08-17 22:39:36,616] Trial 14 finished with value: 0.25 and parameters: {'n_estimators': 55, 'learning_rate': 0.0656101287877221, 'max_depth': 3, 'subsample': 0.7716879140799302, 'min_samples_split': 3, 'min_samples_leaf': 8}. Best is trial 14 with value: 0.25.\n",
      "[I 2025-08-17 22:39:38,808] Trial 15 finished with value: 0.13636363636363635 and parameters: {'n_estimators': 215, 'learning_rate': 0.04959754314472136, 'max_depth': 2, 'subsample': 0.7465386157718906, 'min_samples_split': 3, 'min_samples_leaf': 8}. Best is trial 14 with value: 0.25.\n",
      "[I 2025-08-17 22:39:42,006] Trial 16 finished with value: 0.2857142857142857 and parameters: {'n_estimators': 259, 'learning_rate': 0.02131587956246596, 'max_depth': 3, 'subsample': 0.6283269482292826, 'min_samples_split': 6, 'min_samples_leaf': 10}. Best is trial 16 with value: 0.2857142857142857.\n",
      "[I 2025-08-17 22:39:45,354] Trial 17 finished with value: 0.15384615384615385 and parameters: {'n_estimators': 265, 'learning_rate': 0.010290692701080949, 'max_depth': 3, 'subsample': 0.6134036449412262, 'min_samples_split': 6, 'min_samples_leaf': 10}. Best is trial 16 with value: 0.2857142857142857.\n",
      "[I 2025-08-17 22:39:47,468] Trial 18 finished with value: 0.2564102564102564 and parameters: {'n_estimators': 177, 'learning_rate': 0.024860760391605334, 'max_depth': 3, 'subsample': 0.6000090552354327, 'min_samples_split': 7, 'min_samples_leaf': 9}. Best is trial 16 with value: 0.2857142857142857.\n",
      "[I 2025-08-17 22:39:50,129] Trial 19 finished with value: 0.1951219512195122 and parameters: {'n_estimators': 174, 'learning_rate': 0.022008132573500528, 'max_depth': 4, 'subsample': 0.6093828915208871, 'min_samples_split': 7, 'min_samples_leaf': 9}. Best is trial 16 with value: 0.2857142857142857.\n",
      "[I 2025-08-17 22:39:54,349] Trial 20 finished with value: 0.2926829268292683 and parameters: {'n_estimators': 252, 'learning_rate': 0.019052900972770834, 'max_depth': 4, 'subsample': 0.6739697957156949, 'min_samples_split': 8, 'min_samples_leaf': 9}. Best is trial 20 with value: 0.2926829268292683.\n",
      "[I 2025-08-17 22:39:58,621] Trial 21 finished with value: 0.24390243902439024 and parameters: {'n_estimators': 262, 'learning_rate': 0.01854899624271797, 'max_depth': 4, 'subsample': 0.6629884561212558, 'min_samples_split': 8, 'min_samples_leaf': 9}. Best is trial 20 with value: 0.2926829268292683.\n",
      "[I 2025-08-17 22:39:58,942] Trial 22 finished with value: 0.24390243902439024 and parameters: {'n_estimators': 190, 'learning_rate': 0.02895973776343578, 'max_depth': 4, 'subsample': 0.6993524182582516, 'min_samples_split': 7, 'min_samples_leaf': 10}. Best is trial 20 with value: 0.2926829268292683.\n",
      "[I 2025-08-17 22:40:02,673] Trial 23 finished with value: 0.2564102564102564 and parameters: {'n_estimators': 298, 'learning_rate': 0.014365219112597721, 'max_depth': 3, 'subsample': 0.6482365985790627, 'min_samples_split': 8, 'min_samples_leaf': 9}. Best is trial 20 with value: 0.2926829268292683.\n",
      "[I 2025-08-17 22:40:06,475] Trial 24 finished with value: 0.2553191489361702 and parameters: {'n_estimators': 242, 'learning_rate': 0.028734241673253207, 'max_depth': 4, 'subsample': 0.6291459898747811, 'min_samples_split': 6, 'min_samples_leaf': 7}. Best is trial 20 with value: 0.2926829268292683.\n",
      "[I 2025-08-17 22:40:14,004] Trial 25 finished with value: 0.27906976744186046 and parameters: {'n_estimators': 322, 'learning_rate': 0.016253864070340497, 'max_depth': 6, 'subsample': 0.6946447766315218, 'min_samples_split': 9, 'min_samples_leaf': 9}. Best is trial 20 with value: 0.2926829268292683.\n",
      "[I 2025-08-17 22:40:22,026] Trial 26 finished with value: 0.1702127659574468 and parameters: {'n_estimators': 332, 'learning_rate': 0.01625846156849326, 'max_depth': 6, 'subsample': 0.7059580789652058, 'min_samples_split': 10, 'min_samples_leaf': 7}. Best is trial 20 with value: 0.2926829268292683.\n",
      "[I 2025-08-17 22:40:28,827] Trial 27 finished with value: 0.15384615384615385 and parameters: {'n_estimators': 305, 'learning_rate': 0.010897109042761012, 'max_depth': 6, 'subsample': 0.6835326583047199, 'min_samples_split': 9, 'min_samples_leaf': 10}. Best is trial 20 with value: 0.2926829268292683.\n",
      "[I 2025-08-17 22:40:36,717] Trial 28 finished with value: 0.09523809523809523 and parameters: {'n_estimators': 356, 'learning_rate': 0.018770401113617153, 'max_depth': 8, 'subsample': 0.7184632855607648, 'min_samples_split': 9, 'min_samples_leaf': 7}. Best is trial 20 with value: 0.2926829268292683.\n",
      "[I 2025-08-17 22:40:42,970] Trial 29 finished with value: 0.18604651162790697 and parameters: {'n_estimators': 239, 'learning_rate': 0.012265100210943241, 'max_depth': 6, 'subsample': 0.7846974125053787, 'min_samples_split': 9, 'min_samples_leaf': 9}. Best is trial 20 with value: 0.2926829268292683.\n",
      "[I 2025-08-17 22:40:47,300] Trial 30 finished with value: 0.2857142857142857 and parameters: {'n_estimators': 279, 'learning_rate': 0.035658422329503336, 'max_depth': 4, 'subsample': 0.6359840249592866, 'min_samples_split': 10, 'min_samples_leaf': 10}. Best is trial 20 with value: 0.2926829268292683.\n",
      "[I 2025-08-17 22:40:51,697] Trial 31 finished with value: 0.3 and parameters: {'n_estimators': 282, 'learning_rate': 0.036270679129652636, 'max_depth': 4, 'subsample': 0.6426763526875084, 'min_samples_split': 10, 'min_samples_leaf': 10}. Best is trial 31 with value: 0.3.\n",
      "[I 2025-08-17 22:40:56,020] Trial 32 finished with value: 0.2857142857142857 and parameters: {'n_estimators': 276, 'learning_rate': 0.034601443381612695, 'max_depth': 4, 'subsample': 0.6392441444368647, 'min_samples_split': 10, 'min_samples_leaf': 10}. Best is trial 31 with value: 0.3.\n",
      "[I 2025-08-17 22:41:00,152] Trial 33 finished with value: 0.23809523809523808 and parameters: {'n_estimators': 254, 'learning_rate': 0.038869367049051605, 'max_depth': 4, 'subsample': 0.6689621753148393, 'min_samples_split': 10, 'min_samples_leaf': 10}. Best is trial 31 with value: 0.3.\n",
      "[I 2025-08-17 22:41:00,775] Trial 34 finished with value: 0.3 and parameters: {'n_estimators': 289, 'learning_rate': 0.023602073327689033, 'max_depth': 3, 'subsample': 0.6306411773926215, 'min_samples_split': 8, 'min_samples_leaf': 10}. Best is trial 31 with value: 0.3.\n",
      "[I 2025-08-17 22:41:03,359] Trial 35 finished with value: 0.2564102564102564 and parameters: {'n_estimators': 296, 'learning_rate': 0.02278702703401902, 'max_depth': 2, 'subsample': 0.6211133777379827, 'min_samples_split': 5, 'min_samples_leaf': 9}. Best is trial 31 with value: 0.3.\n",
      "[I 2025-08-17 22:41:08,092] Trial 36 finished with value: 0.20833333333333334 and parameters: {'n_estimators': 339, 'learning_rate': 0.05130449109253508, 'max_depth': 3, 'subsample': 0.7210898697463426, 'min_samples_split': 8, 'min_samples_leaf': 8}. Best is trial 31 with value: 0.3.\n",
      "[I 2025-08-17 22:41:14,198] Trial 37 finished with value: 0.18604651162790697 and parameters: {'n_estimators': 242, 'learning_rate': 0.11493843881239817, 'max_depth': 5, 'subsample': 0.8785383638201832, 'min_samples_split': 5, 'min_samples_leaf': 10}. Best is trial 31 with value: 0.3.\n",
      "[I 2025-08-17 22:41:18,099] Trial 38 finished with value: 0.2926829268292683 and parameters: {'n_estimators': 198, 'learning_rate': 0.026071442098102516, 'max_depth': 5, 'subsample': 0.6706676988414179, 'min_samples_split': 8, 'min_samples_leaf': 9}. Best is trial 31 with value: 0.3.\n",
      "[I 2025-08-17 22:41:20,969] Trial 39 finished with value: 0.19047619047619047 and parameters: {'n_estimators': 142, 'learning_rate': 0.025681068845594197, 'max_depth': 5, 'subsample': 0.6720158873835025, 'min_samples_split': 8, 'min_samples_leaf': 7}. Best is trial 31 with value: 0.3.\n"
     ]
    },
    {
     "name": "stdout",
     "output_type": "stream",
     "text": [
      "Mejores hiperparámetros encontrados:\n",
      "{'n_estimators': 282, 'learning_rate': 0.036270679129652636, 'max_depth': 4, 'subsample': 0.6426763526875084, 'min_samples_split': 10, 'min_samples_leaf': 10}\n",
      "Mejor score de trend change: 0.3000\n"
     ]
    }
   ],
   "source": [
    "set_seeds(SEED)\n",
    "study = optuna.create_study(\n",
    "    direction=\"maximize\",\n",
    "    sampler=optuna.samplers.TPESampler(seed=SEED)\n",
    ")\n",
    "study.optimize(objective, n_trials=40)"
   ]
  },
  {
   "cell_type": "code",
   "execution_count": 9,
   "id": "6691d415",
   "metadata": {},
   "outputs": [
    {
     "name": "stdout",
     "output_type": "stream",
     "text": [
      "Mejores hiperparámetros encontrados:\n",
      "{'n_estimators': 282, 'learning_rate': 0.036270679129652636, 'max_depth': 4, 'subsample': 0.6426763526875084, 'min_samples_split': 10, 'min_samples_leaf': 10}\n",
      "Mejor score de f1-score: 0.3000\n"
     ]
    }
   ],
   "source": [
    "print(\"Mejores hiperparámetros encontrados:\")\n",
    "print(study.best_params)\n",
    "print(f\"Mejor score de {SCORE}: {study.best_value:.4f}\")"
   ]
  },
  {
   "cell_type": "code",
   "execution_count": 10,
   "id": "8052bafe",
   "metadata": {},
   "outputs": [
    {
     "name": "stdout",
     "output_type": "stream",
     "text": [
      "GradientBoostingClassifier FINAL trend_changes_score:\n",
      "               precision    recall  f1-score   support\n",
      "\n",
      "       False     0.8962    0.8482    0.8716       112\n",
      "        True     0.2609    0.3529    0.3000        17\n",
      "\n",
      "    accuracy                         0.7829       129\n",
      "   macro avg     0.5785    0.6006    0.5858       129\n",
      "weighted avg     0.8125    0.7829    0.7962       129\n",
      "\n"
     ]
    }
   ],
   "source": [
    "# Entrenar modelo final con los mejores hiperparámetros\n",
    "set_seeds(SEED)\n",
    "best_params = study.best_params\n",
    "final_model = GradientBoostingClassifier(\n",
    "    n_estimators=best_params[\"n_estimators\"],\n",
    "    learning_rate=best_params[\"learning_rate\"],\n",
    "    max_depth=best_params[\"max_depth\"],\n",
    "    subsample=best_params[\"subsample\"],\n",
    "    min_samples_split=best_params[\"min_samples_split\"],\n",
    "    min_samples_leaf=best_params[\"min_samples_leaf\"],\n",
    "    random_state=SEED\n",
    ")\n",
    "final_model.fit(X_train, y_train)\n",
    "y_pred_final = final_model.predict(X_val)\n",
    "print(\"GradientBoostingClassifier FINAL trend_changes_score:\\n\", trend_changes_score(y_val, y_pred_final))"
   ]
  }
 ],
 "metadata": {
  "kernelspec": {
   "display_name": "tf_venv2 (3.10.12)",
   "language": "python",
   "name": "python3"
  },
  "language_info": {
   "codemirror_mode": {
    "name": "ipython",
    "version": 3
   },
   "file_extension": ".py",
   "mimetype": "text/x-python",
   "name": "python",
   "nbconvert_exporter": "python",
   "pygments_lexer": "ipython3",
   "version": "3.10.12"
  }
 },
 "nbformat": 4,
 "nbformat_minor": 5
}
