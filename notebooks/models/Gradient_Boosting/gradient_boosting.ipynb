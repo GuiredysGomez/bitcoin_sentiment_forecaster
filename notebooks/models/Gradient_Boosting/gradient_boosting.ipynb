{
 "cells": [
  {
   "cell_type": "code",
   "execution_count": 14,
   "id": "71b79b11",
   "metadata": {},
   "outputs": [],
   "source": [
    "import numpy as np\n",
    "import random\n",
    "import optuna\n",
    "import pandas as pd\n",
    "from sklearn.ensemble import GradientBoostingClassifier\n",
    "from sklearn.metrics import classification_report, balanced_accuracy_score\n",
    "import json\n",
    "import os\n",
    "from optuna.visualization import plot_optimization_history"
   ]
  },
  {
   "cell_type": "code",
   "execution_count": 15,
   "id": "b58e3b87",
   "metadata": {},
   "outputs": [],
   "source": [
    "SEED = 1234\n",
    " # Se puede cambiar a \"precision\" o \"recall\" o \"f1-score\"\n",
    "SCORE = \"f1-score\""
   ]
  },
  {
   "cell_type": "code",
   "execution_count": 16,
   "id": "97ed06bc",
   "metadata": {},
   "outputs": [],
   "source": [
    "def set_seeds(seed):\n",
    "    random.seed(seed)\n",
    "    np.random.seed(seed)"
   ]
  },
  {
   "cell_type": "code",
   "execution_count": 17,
   "id": "aeb89a60",
   "metadata": {},
   "outputs": [],
   "source": [
    "def get_trend_changes_report_dict(y_test: np.array, y_pred: np.array) -> float:\n",
    "    \"\"\"\n",
    "    Calculate the trend changes score based on the test and predicted values.\n",
    "    \n",
    "    Args:\n",
    "        y_test (np.array): True labels.\n",
    "        y_pred (np.array): Predicted labels.\n",
    "        \n",
    "    Returns:\n",
    "        float: The trend changes score.\n",
    "    \"\"\"\n",
    "    y_df = pd.DataFrame([y_test, y_pred]).T\n",
    "    y_df.columns = [\"y_test\", \"y_pred\"]\n",
    "    y_df[\"y_test_shifted\"] = y_df[\"y_test\"].shift(-1)\n",
    "    y_df[\"is_changed_trend_test\"] = y_df[\"y_test\"] != y_df[\"y_test_shifted\"]\n",
    "    y_df[\"y_predict_shifted\"] = y_df[\"y_pred\"].shift(-1)\n",
    "    y_df[\"is_changed_trend_predict\"] = y_df[\"y_pred\"] != y_df[\"y_predict_shifted\"]\n",
    "    return classification_report(\n",
    "        y_df[\"is_changed_trend_test\"][:-1], \n",
    "        y_df[\"is_changed_trend_predict\"][:-1], \n",
    "        digits=4,\n",
    "        output_dict=True,\n",
    "        zero_division=0\n",
    "    )\n",
    "\n",
    "def trend_changes_score(y_test: np.array, y_pred: np.array) -> float:\n",
    "    \"\"\"\n",
    "    Calculate the trend changes score based on the test and predicted values.\n",
    "    \"\"\"\n",
    "    y_df = pd.DataFrame([y_test, y_pred]).T\n",
    "    y_df.columns = [\"y_test\", \"y_pred\"]\n",
    "    y_df[\"y_test_shifted\"] = y_df[\"y_test\"].shift(-1)\n",
    "    y_df[\"is_changed_trend_test\"] = y_df[\"y_test\"] != y_df[\"y_test_shifted\"]\n",
    "    y_df[\"y_predict_shifted\"] = y_df[\"y_pred\"].shift(-1)\n",
    "    y_df[\"is_changed_trend_predict\"] = y_df[\"y_pred\"] != y_df[\"y_predict_shifted\"]\n",
    "    return classification_report(\n",
    "        y_df[\"is_changed_trend_test\"][:-1],\n",
    "        y_df[\"is_changed_trend_predict\"][:-1],\n",
    "        digits=4\n",
    "    )\n",
    "\n",
    "def trend_changes_true(y_test: np.array, y_pred: np.array) -> float:\n",
    "    \"\"\"\n",
    "    Calculate the trend changes score based on the test and predicted values.\n",
    "    Returns only the F1-score for trend change.\n",
    "    \"\"\"\n",
    "    y_df = pd.DataFrame([y_test, y_pred]).T\n",
    "    y_df.columns = [\"y_test\", \"y_pred\"]\n",
    "    y_df[\"y_test_shifted\"] = y_df[\"y_test\"].shift(-1)\n",
    "    y_df[\"is_changed_trend_test\"] = y_df[\"y_test\"] != y_df[\"y_test_shifted\"]\n",
    "    y_df[\"y_predict_shifted\"] = y_df[\"y_pred\"].shift(-1)\n",
    "    y_df[\"is_changed_trend_predict\"] = y_df[\"y_pred\"] != y_df[\"y_predict_shifted\"]\n",
    "    report = classification_report(\n",
    "        y_df[\"is_changed_trend_test\"][:-1],\n",
    "        y_df[\"is_changed_trend_predict\"][:-1],\n",
    "        output_dict=True,\n",
    "        zero_division=0\n",
    "    )\n",
    "    return report[\"True\"][SCORE]"
   ]
  },
  {
   "cell_type": "code",
   "execution_count": 18,
   "id": "9d71ae0d",
   "metadata": {},
   "outputs": [],
   "source": [
    "# Cargar datos\n",
    "train = pd.read_csv(\"../../../data/post_cleaning/training_set.csv\", parse_dates=[\"date\"])\n",
    "val = pd.read_csv(\"../../../data/post_cleaning/validation_set.csv\", parse_dates=[\"date\"])\n",
    "test_set = pd.read_csv(\"../../../data/post_cleaning/test_set.csv\", parse_dates=['date'])\n",
    "X_train = train.drop(columns=[\"date\", \"target_trend\"]).values\n",
    "y_train = train[\"target_trend\"].values\n",
    "X_val = val.drop(columns=[\"date\", \"target_trend\"]).values\n",
    "y_val = val[\"target_trend\"].values\n",
    "X_test = test_set.drop(columns=[\"date\", \"target_trend\"]).values\n",
    "y_test = test_set[\"target_trend\"].values"
   ]
  },
  {
   "cell_type": "code",
   "execution_count": 19,
   "id": "a902302c",
   "metadata": {},
   "outputs": [],
   "source": [
    "def objective(trial):\n",
    "    set_seeds(SEED)\n",
    "    n_estimators = trial.suggest_int(\"n_estimators\", 50, 400)\n",
    "    learning_rate = trial.suggest_float(\"learning_rate\", 0.01, 0.2, log=True)\n",
    "    max_depth = trial.suggest_int(\"max_depth\", 2, 10)\n",
    "    subsample = trial.suggest_float(\"subsample\", 0.6, 1.0)\n",
    "    min_samples_split = trial.suggest_int(\"min_samples_split\", 2, 10)\n",
    "    min_samples_leaf = trial.suggest_int(\"min_samples_leaf\", 1, 10)\n",
    "\n",
    "    model = GradientBoostingClassifier(\n",
    "        n_estimators=n_estimators,\n",
    "        learning_rate=learning_rate,\n",
    "        max_depth=max_depth,\n",
    "        subsample=subsample,\n",
    "        min_samples_split=min_samples_split,\n",
    "        min_samples_leaf=min_samples_leaf,\n",
    "        random_state=SEED\n",
    "    )\n",
    "    model.fit(X_train, y_train)\n",
    "    y_pred = model.predict(X_val)\n",
    "    score = trend_changes_true(y_val, y_pred)\n",
    "    return score"
   ]
  },
  {
   "cell_type": "code",
   "execution_count": 20,
   "id": "300aa410",
   "metadata": {},
   "outputs": [
    {
     "name": "stderr",
     "output_type": "stream",
     "text": [
      "[I 2025-08-24 19:30:06,946] A new study created in memory with name: no-name-91c8aa25-3150-446d-bdb3-bf4e57a6d637\n"
     ]
    },
    {
     "name": "stderr",
     "output_type": "stream",
     "text": [
      "[I 2025-08-24 19:30:13,775] Trial 0 finished with value: 0.3291139240506329 and parameters: {'n_estimators': 117, 'learning_rate': 0.06447363728960653, 'max_depth': 5, 'subsample': 0.9141434334855076, 'min_samples_split': 9, 'min_samples_leaf': 3}. Best is trial 0 with value: 0.3291139240506329.\n",
      "[I 2025-08-24 19:30:37,781] Trial 1 finished with value: 0.34375 and parameters: {'n_estimators': 147, 'learning_rate': 0.11047391773518671, 'max_depth': 10, 'subsample': 0.9503730538968379, 'min_samples_split': 5, 'min_samples_leaf': 6}. Best is trial 1 with value: 0.34375.\n",
      "[I 2025-08-24 19:30:58,721] Trial 2 finished with value: 0.24444444444444444 and parameters: {'n_estimators': 289, 'learning_rate': 0.08457591696604633, 'max_depth': 5, 'subsample': 0.82447847442625, 'min_samples_split': 6, 'min_samples_leaf': 1}. Best is trial 1 with value: 0.34375.\n",
      "[I 2025-08-24 19:31:19,975] Trial 3 finished with value: 0.3157894736842105 and parameters: {'n_estimators': 321, 'learning_rate': 0.14071573530882303, 'max_depth': 5, 'subsample': 0.8461584713733975, 'min_samples_split': 2, 'min_samples_leaf': 4}. Best is trial 1 with value: 0.34375.\n",
      "[I 2025-08-24 19:31:47,112] Trial 4 finished with value: 0.32 and parameters: {'n_estimators': 377, 'learning_rate': 0.07038214571143755, 'max_depth': 5, 'subsample': 0.9154920571762982, 'min_samples_split': 4, 'min_samples_leaf': 6}. Best is trial 1 with value: 0.34375.\n",
      "[I 2025-08-24 19:32:16,501] Trial 5 finished with value: 0.2702702702702703 and parameters: {'n_estimators': 355, 'learning_rate': 0.03693811319191527, 'max_depth': 9, 'subsample': 0.6575067298058258, 'min_samples_split': 8, 'min_samples_leaf': 8}. Best is trial 1 with value: 0.34375.\n",
      "[I 2025-08-24 19:32:27,060] Trial 6 finished with value: 0.345679012345679 and parameters: {'n_estimators': 126, 'learning_rate': 0.15969103175248078, 'max_depth': 5, 'subsample': 0.963726383588989, 'min_samples_split': 2, 'min_samples_leaf': 2}. Best is trial 6 with value: 0.345679012345679.\n",
      "[I 2025-08-24 19:32:33,163] Trial 7 finished with value: 0.2191780821917808 and parameters: {'n_estimators': 66, 'learning_rate': 0.07551623879385619, 'max_depth': 7, 'subsample': 0.8133240651995002, 'min_samples_split': 2, 'min_samples_leaf': 6}. Best is trial 6 with value: 0.345679012345679.\n",
      "[I 2025-08-24 19:32:38,044] Trial 8 finished with value: 0.20689655172413793 and parameters: {'n_estimators': 165, 'learning_rate': 0.04512060733223494, 'max_depth': 3, 'subsample': 0.8428774824873938, 'min_samples_split': 7, 'min_samples_leaf': 1}. Best is trial 6 with value: 0.345679012345679.\n",
      "[I 2025-08-24 19:33:02,428] Trial 9 finished with value: 0.3116883116883117 and parameters: {'n_estimators': 266, 'learning_rate': 0.15370897799978378, 'max_depth': 9, 'subsample': 0.9968325864753446, 'min_samples_split': 10, 'min_samples_leaf': 8}. Best is trial 6 with value: 0.345679012345679.\n",
      "[I 2025-08-24 19:33:05,449] Trial 10 finished with value: 0.23529411764705882 and parameters: {'n_estimators': 214, 'learning_rate': 0.01404922525591651, 'max_depth': 2, 'subsample': 0.689428298871198, 'min_samples_split': 4, 'min_samples_leaf': 10}. Best is trial 6 with value: 0.345679012345679.\n",
      "[I 2025-08-24 19:33:23,214] Trial 11 finished with value: 0.3287671232876712 and parameters: {'n_estimators': 152, 'learning_rate': 0.16369972807034947, 'max_depth': 7, 'subsample': 0.9946615167689691, 'min_samples_split': 4, 'min_samples_leaf': 4}. Best is trial 6 with value: 0.345679012345679.\n",
      "[I 2025-08-24 19:33:31,103] Trial 12 finished with value: 0.379746835443038 and parameters: {'n_estimators': 52, 'learning_rate': 0.11851819926575931, 'max_depth': 10, 'subsample': 0.9298719426644678, 'min_samples_split': 5, 'min_samples_leaf': 3}. Best is trial 12 with value: 0.379746835443038.\n",
      "[I 2025-08-24 19:33:35,409] Trial 13 finished with value: 0.23376623376623376 and parameters: {'n_estimators': 50, 'learning_rate': 0.18657346840068995, 'max_depth': 7, 'subsample': 0.7274323844478915, 'min_samples_split': 2, 'min_samples_leaf': 3}. Best is trial 12 with value: 0.379746835443038.\n",
      "[I 2025-08-24 19:33:37,696] Trial 14 finished with value: 0.3076923076923077 and parameters: {'n_estimators': 99, 'learning_rate': 0.02817829591371631, 'max_depth': 3, 'subsample': 0.9054421576082579, 'min_samples_split': 3, 'min_samples_leaf': 2}. Best is trial 12 with value: 0.379746835443038.\n",
      "[I 2025-08-24 19:33:57,484] Trial 15 finished with value: 0.29333333333333333 and parameters: {'n_estimators': 196, 'learning_rate': 0.11983714641207212, 'max_depth': 8, 'subsample': 0.7683956614900868, 'min_samples_split': 6, 'min_samples_leaf': 4}. Best is trial 12 with value: 0.379746835443038.\n",
      "[I 2025-08-24 19:34:09,794] Trial 16 finished with value: 0.3368421052631579 and parameters: {'n_estimators': 96, 'learning_rate': 0.01896088543662627, 'max_depth': 10, 'subsample': 0.9446849251532181, 'min_samples_split': 5, 'min_samples_leaf': 2}. Best is trial 12 with value: 0.379746835443038.\n",
      "[I 2025-08-24 19:34:14,825] Trial 17 finished with value: 0.34146341463414637 and parameters: {'n_estimators': 80, 'learning_rate': 0.10216981835516259, 'max_depth': 4, 'subsample': 0.8864237488473691, 'min_samples_split': 3, 'min_samples_leaf': 2}. Best is trial 12 with value: 0.379746835443038.\n",
      "[I 2025-08-24 19:34:23,261] Trial 18 finished with value: 0.34285714285714286 and parameters: {'n_estimators': 139, 'learning_rate': 0.19806148751261288, 'max_depth': 6, 'subsample': 0.6002464995709376, 'min_samples_split': 7, 'min_samples_leaf': 5}. Best is trial 12 with value: 0.379746835443038.\n",
      "[I 2025-08-24 19:34:55,354] Trial 19 finished with value: 0.2962962962962963 and parameters: {'n_estimators': 253, 'learning_rate': 0.05216959320240788, 'max_depth': 8, 'subsample': 0.9573783569322335, 'min_samples_split': 3, 'min_samples_leaf': 3}. Best is trial 12 with value: 0.379746835443038.\n",
      "[I 2025-08-24 19:35:10,819] Trial 20 finished with value: 0.22988505747126436 and parameters: {'n_estimators': 189, 'learning_rate': 0.010572079149574597, 'max_depth': 6, 'subsample': 0.8901815543281595, 'min_samples_split': 5, 'min_samples_leaf': 1}. Best is trial 12 with value: 0.379746835443038.\n",
      "[I 2025-08-24 19:35:26,786] Trial 21 finished with value: 0.2777777777777778 and parameters: {'n_estimators': 126, 'learning_rate': 0.10987634424853329, 'max_depth': 10, 'subsample': 0.957364865386021, 'min_samples_split': 5, 'min_samples_leaf': 7}. Best is trial 12 with value: 0.379746835443038.\n",
      "[I 2025-08-24 19:35:48,030] Trial 22 finished with value: 0.3582089552238806 and parameters: {'n_estimators': 171, 'learning_rate': 0.09169199643087773, 'max_depth': 9, 'subsample': 0.9395101229081262, 'min_samples_split': 7, 'min_samples_leaf': 5}. Best is trial 12 with value: 0.379746835443038.\n",
      "[I 2025-08-24 19:36:06,181] Trial 23 finished with value: 0.3188405797101449 and parameters: {'n_estimators': 179, 'learning_rate': 0.09169104866642679, 'max_depth': 9, 'subsample': 0.870175529556931, 'min_samples_split': 7, 'min_samples_leaf': 5}. Best is trial 12 with value: 0.379746835443038.\n",
      "[I 2025-08-24 19:36:28,580] Trial 24 finished with value: 0.32432432432432434 and parameters: {'n_estimators': 233, 'learning_rate': 0.14158700787190565, 'max_depth': 8, 'subsample': 0.7686489000811421, 'min_samples_split': 8, 'min_samples_leaf': 3}. Best is trial 12 with value: 0.379746835443038.\n",
      "[I 2025-08-24 19:36:42,672] Trial 25 finished with value: 0.3291139240506329 and parameters: {'n_estimators': 106, 'learning_rate': 0.05724312660562792, 'max_depth': 9, 'subsample': 0.9772426894286693, 'min_samples_split': 8, 'min_samples_leaf': 4}. Best is trial 12 with value: 0.379746835443038.\n",
      "[I 2025-08-24 19:36:53,195] Trial 26 finished with value: 0.29850746268656714 and parameters: {'n_estimators': 73, 'learning_rate': 0.12182667557250573, 'max_depth': 10, 'subsample': 0.9283550316535083, 'min_samples_split': 9, 'min_samples_leaf': 5}. Best is trial 12 with value: 0.379746835443038.\n",
      "[I 2025-08-24 19:36:56,578] Trial 27 finished with value: 0.27848101265822783 and parameters: {'n_estimators': 55, 'learning_rate': 0.08791923498133307, 'max_depth': 4, 'subsample': 0.8690043782027638, 'min_samples_split': 6, 'min_samples_leaf': 2}. Best is trial 12 with value: 0.379746835443038.\n",
      "[I 2025-08-24 19:37:20,243] Trial 28 finished with value: 0.3380281690140845 and parameters: {'n_estimators': 214, 'learning_rate': 0.03354505778792095, 'max_depth': 8, 'subsample': 0.9712599970435534, 'min_samples_split': 7, 'min_samples_leaf': 7}. Best is trial 12 with value: 0.379746835443038.\n",
      "[I 2025-08-24 19:37:28,147] Trial 29 finished with value: 0.34285714285714286 and parameters: {'n_estimators': 123, 'learning_rate': 0.068133150017096, 'max_depth': 4, 'subsample': 0.9183391737136222, 'min_samples_split': 9, 'min_samples_leaf': 3}. Best is trial 12 with value: 0.379746835443038.\n",
      "[I 2025-08-24 19:37:35,097] Trial 30 finished with value: 0.30985915492957744 and parameters: {'n_estimators': 91, 'learning_rate': 0.17145699875565001, 'max_depth': 6, 'subsample': 0.9995301905037899, 'min_samples_split': 6, 'min_samples_leaf': 4}. Best is trial 12 with value: 0.379746835443038.\n",
      "[I 2025-08-24 19:37:56,473] Trial 31 finished with value: 0.29411764705882354 and parameters: {'n_estimators': 149, 'learning_rate': 0.13720302991913655, 'max_depth': 10, 'subsample': 0.9350305459676287, 'min_samples_split': 5, 'min_samples_leaf': 6}. Best is trial 12 with value: 0.379746835443038.\n",
      "[I 2025-08-24 19:38:11,947] Trial 32 finished with value: 0.3235294117647059 and parameters: {'n_estimators': 126, 'learning_rate': 0.09930766639000374, 'max_depth': 10, 'subsample': 0.9494953529749555, 'min_samples_split': 4, 'min_samples_leaf': 7}. Best is trial 12 with value: 0.379746835443038.\n",
      "[I 2025-08-24 19:38:32,705] Trial 33 finished with value: 0.32 and parameters: {'n_estimators': 149, 'learning_rate': 0.11903390978709019, 'max_depth': 9, 'subsample': 0.9735459879237414, 'min_samples_split': 6, 'min_samples_leaf': 5}. Best is trial 12 with value: 0.379746835443038.\n",
      "[I 2025-08-24 19:38:55,936] Trial 34 finished with value: 0.275 and parameters: {'n_estimators': 170, 'learning_rate': 0.08091538125694107, 'max_depth': 10, 'subsample': 0.8959503952909003, 'min_samples_split': 3, 'min_samples_leaf': 1}. Best is trial 12 with value: 0.379746835443038.\n",
      "[I 2025-08-24 19:39:07,942] Trial 35 finished with value: 0.3283582089552239 and parameters: {'n_estimators': 198, 'learning_rate': 0.13018312761002188, 'max_depth': 5, 'subsample': 0.8583592960301224, 'min_samples_split': 5, 'min_samples_leaf': 8}. Best is trial 12 with value: 0.379746835443038.\n",
      "[I 2025-08-24 19:39:44,490] Trial 36 finished with value: 0.3888888888888889 and parameters: {'n_estimators': 318, 'learning_rate': 0.0611604618703026, 'max_depth': 9, 'subsample': 0.9228715680844596, 'min_samples_split': 2, 'min_samples_leaf': 10}. Best is trial 36 with value: 0.3888888888888889.\n",
      "[I 2025-08-24 19:40:19,453] Trial 37 finished with value: 0.3783783783783784 and parameters: {'n_estimators': 304, 'learning_rate': 0.0592314499446092, 'max_depth': 9, 'subsample': 0.9225543285763174, 'min_samples_split': 2, 'min_samples_leaf': 10}. Best is trial 36 with value: 0.3888888888888889.\n",
      "[I 2025-08-24 19:40:53,201] Trial 38 finished with value: 0.3188405797101449 and parameters: {'n_estimators': 320, 'learning_rate': 0.05855205491300527, 'max_depth': 9, 'subsample': 0.8375047465799643, 'min_samples_split': 2, 'min_samples_leaf': 9}. Best is trial 36 with value: 0.3888888888888889.\n",
      "[I 2025-08-24 19:41:19,928] Trial 39 finished with value: 0.3283582089552239 and parameters: {'n_estimators': 303, 'learning_rate': 0.0500523131492433, 'max_depth': 8, 'subsample': 0.7918036264462084, 'min_samples_split': 3, 'min_samples_leaf': 10}. Best is trial 36 with value: 0.3888888888888889.\n",
      "[I 2025-08-24 19:42:04,279] Trial 40 finished with value: 0.3188405797101449 and parameters: {'n_estimators': 398, 'learning_rate': 0.040909140874870624, 'max_depth': 9, 'subsample': 0.918976873727427, 'min_samples_split': 2, 'min_samples_leaf': 9}. Best is trial 36 with value: 0.3888888888888889.\n",
      "[I 2025-08-24 19:42:38,001] Trial 41 finished with value: 0.4057971014492754 and parameters: {'n_estimators': 343, 'learning_rate': 0.06620879032719892, 'max_depth': 7, 'subsample': 0.9326966142193129, 'min_samples_split': 2, 'min_samples_leaf': 9}. Best is trial 41 with value: 0.4057971014492754.\n",
      "[I 2025-08-24 19:43:20,220] Trial 42 finished with value: 0.37681159420289856 and parameters: {'n_estimators': 352, 'learning_rate': 0.06635260664027702, 'max_depth': 9, 'subsample': 0.9323953573979745, 'min_samples_split': 2, 'min_samples_leaf': 9}. Best is trial 41 with value: 0.4057971014492754.\n",
      "[I 2025-08-24 19:43:53,423] Trial 43 finished with value: 0.3076923076923077 and parameters: {'n_estimators': 355, 'learning_rate': 0.06573087535937659, 'max_depth': 7, 'subsample': 0.8790605117571585, 'min_samples_split': 2, 'min_samples_leaf': 9}. Best is trial 41 with value: 0.4057971014492754.\n",
      "[I 2025-08-24 19:44:29,641] Trial 44 finished with value: 0.35294117647058826 and parameters: {'n_estimators': 358, 'learning_rate': 0.07629612484342466, 'max_depth': 8, 'subsample': 0.9025889779143659, 'min_samples_split': 2, 'min_samples_leaf': 10}. Best is trial 41 with value: 0.4057971014492754.\n",
      "[I 2025-08-24 19:45:11,348] Trial 45 finished with value: 0.3013698630136986 and parameters: {'n_estimators': 328, 'learning_rate': 0.033313751778488394, 'max_depth': 10, 'subsample': 0.9223056662170402, 'min_samples_split': 3, 'min_samples_leaf': 9}. Best is trial 41 with value: 0.4057971014492754.\n",
      "[I 2025-08-24 19:45:35,039] Trial 46 finished with value: 0.37681159420289856 and parameters: {'n_estimators': 286, 'learning_rate': 0.044171654195602456, 'max_depth': 7, 'subsample': 0.8175643611586527, 'min_samples_split': 2, 'min_samples_leaf': 10}. Best is trial 41 with value: 0.4057971014492754.\n",
      "[I 2025-08-24 19:46:14,911] Trial 47 finished with value: 0.34782608695652173 and parameters: {'n_estimators': 340, 'learning_rate': 0.05916050545433018, 'max_depth': 9, 'subsample': 0.907913627467973, 'min_samples_split': 4, 'min_samples_leaf': 8}. Best is trial 41 with value: 0.4057971014492754.\n",
      "[I 2025-08-24 19:46:43,880] Trial 48 finished with value: 0.2857142857142857 and parameters: {'n_estimators': 298, 'learning_rate': 0.023524082034772718, 'max_depth': 8, 'subsample': 0.850262756841919, 'min_samples_split': 3, 'min_samples_leaf': 9}. Best is trial 41 with value: 0.4057971014492754.\n",
      "[I 2025-08-24 19:47:25,124] Trial 49 finished with value: 0.39436619718309857 and parameters: {'n_estimators': 369, 'learning_rate': 0.07205305040363723, 'max_depth': 9, 'subsample': 0.9339841806100024, 'min_samples_split': 2, 'min_samples_leaf': 10}. Best is trial 41 with value: 0.4057971014492754.\n"
     ]
    }
   ],
   "source": [
    "study = optuna.create_study(\n",
    "    direction=\"maximize\",\n",
    "    sampler=optuna.samplers.TPESampler(seed=SEED)\n",
    ")\n",
    "study.optimize(objective, n_trials=50)"
   ]
  },
  {
   "cell_type": "code",
   "execution_count": 21,
   "id": "ee18600a",
   "metadata": {},
   "outputs": [
    {
     "data": {
      "application/vnd.plotly.v1+json": {
       "config": {
        "plotlyServerURL": "https://plot.ly"
       },
       "data": [
        {
         "mode": "markers",
         "name": "Objective Value",
         "type": "scatter",
         "x": [
          0,
          1,
          2,
          3,
          4,
          5,
          6,
          7,
          8,
          9,
          10,
          11,
          12,
          13,
          14,
          15,
          16,
          17,
          18,
          19,
          20,
          21,
          22,
          23,
          24,
          25,
          26,
          27,
          28,
          29,
          30,
          31,
          32,
          33,
          34,
          35,
          36,
          37,
          38,
          39,
          40,
          41,
          42,
          43,
          44,
          45,
          46,
          47,
          48,
          49
         ],
         "y": [
          0.3291139240506329,
          0.34375,
          0.24444444444444444,
          0.3157894736842105,
          0.32,
          0.2702702702702703,
          0.345679012345679,
          0.2191780821917808,
          0.20689655172413793,
          0.3116883116883117,
          0.23529411764705882,
          0.3287671232876712,
          0.379746835443038,
          0.23376623376623376,
          0.3076923076923077,
          0.29333333333333333,
          0.3368421052631579,
          0.34146341463414637,
          0.34285714285714286,
          0.2962962962962963,
          0.22988505747126436,
          0.2777777777777778,
          0.3582089552238806,
          0.3188405797101449,
          0.32432432432432434,
          0.3291139240506329,
          0.29850746268656714,
          0.27848101265822783,
          0.3380281690140845,
          0.34285714285714286,
          0.30985915492957744,
          0.29411764705882354,
          0.3235294117647059,
          0.32,
          0.275,
          0.3283582089552239,
          0.3888888888888889,
          0.3783783783783784,
          0.3188405797101449,
          0.3283582089552239,
          0.3188405797101449,
          0.4057971014492754,
          0.37681159420289856,
          0.3076923076923077,
          0.35294117647058826,
          0.3013698630136986,
          0.37681159420289856,
          0.34782608695652173,
          0.2857142857142857,
          0.39436619718309857
         ]
        },
        {
         "mode": "lines",
         "name": "Best Value",
         "type": "scatter",
         "x": [
          0,
          1,
          2,
          3,
          4,
          5,
          6,
          7,
          8,
          9,
          10,
          11,
          12,
          13,
          14,
          15,
          16,
          17,
          18,
          19,
          20,
          21,
          22,
          23,
          24,
          25,
          26,
          27,
          28,
          29,
          30,
          31,
          32,
          33,
          34,
          35,
          36,
          37,
          38,
          39,
          40,
          41,
          42,
          43,
          44,
          45,
          46,
          47,
          48,
          49
         ],
         "y": [
          0.3291139240506329,
          0.34375,
          0.34375,
          0.34375,
          0.34375,
          0.34375,
          0.345679012345679,
          0.345679012345679,
          0.345679012345679,
          0.345679012345679,
          0.345679012345679,
          0.345679012345679,
          0.379746835443038,
          0.379746835443038,
          0.379746835443038,
          0.379746835443038,
          0.379746835443038,
          0.379746835443038,
          0.379746835443038,
          0.379746835443038,
          0.379746835443038,
          0.379746835443038,
          0.379746835443038,
          0.379746835443038,
          0.379746835443038,
          0.379746835443038,
          0.379746835443038,
          0.379746835443038,
          0.379746835443038,
          0.379746835443038,
          0.379746835443038,
          0.379746835443038,
          0.379746835443038,
          0.379746835443038,
          0.379746835443038,
          0.379746835443038,
          0.3888888888888889,
          0.3888888888888889,
          0.3888888888888889,
          0.3888888888888889,
          0.3888888888888889,
          0.4057971014492754,
          0.4057971014492754,
          0.4057971014492754,
          0.4057971014492754,
          0.4057971014492754,
          0.4057971014492754,
          0.4057971014492754,
          0.4057971014492754,
          0.4057971014492754
         ]
        },
        {
         "marker": {
          "color": "#cccccc"
         },
         "mode": "markers",
         "name": "Infeasible Trial",
         "showlegend": false,
         "type": "scatter",
         "x": [],
         "y": []
        }
       ],
       "layout": {
        "template": {
         "data": {
          "bar": [
           {
            "error_x": {
             "color": "#2a3f5f"
            },
            "error_y": {
             "color": "#2a3f5f"
            },
            "marker": {
             "line": {
              "color": "#E5ECF6",
              "width": 0.5
             },
             "pattern": {
              "fillmode": "overlay",
              "size": 10,
              "solidity": 0.2
             }
            },
            "type": "bar"
           }
          ],
          "barpolar": [
           {
            "marker": {
             "line": {
              "color": "#E5ECF6",
              "width": 0.5
             },
             "pattern": {
              "fillmode": "overlay",
              "size": 10,
              "solidity": 0.2
             }
            },
            "type": "barpolar"
           }
          ],
          "carpet": [
           {
            "aaxis": {
             "endlinecolor": "#2a3f5f",
             "gridcolor": "white",
             "linecolor": "white",
             "minorgridcolor": "white",
             "startlinecolor": "#2a3f5f"
            },
            "baxis": {
             "endlinecolor": "#2a3f5f",
             "gridcolor": "white",
             "linecolor": "white",
             "minorgridcolor": "white",
             "startlinecolor": "#2a3f5f"
            },
            "type": "carpet"
           }
          ],
          "choropleth": [
           {
            "colorbar": {
             "outlinewidth": 0,
             "ticks": ""
            },
            "type": "choropleth"
           }
          ],
          "contour": [
           {
            "colorbar": {
             "outlinewidth": 0,
             "ticks": ""
            },
            "colorscale": [
             [
              0,
              "#0d0887"
             ],
             [
              0.1111111111111111,
              "#46039f"
             ],
             [
              0.2222222222222222,
              "#7201a8"
             ],
             [
              0.3333333333333333,
              "#9c179e"
             ],
             [
              0.4444444444444444,
              "#bd3786"
             ],
             [
              0.5555555555555556,
              "#d8576b"
             ],
             [
              0.6666666666666666,
              "#ed7953"
             ],
             [
              0.7777777777777778,
              "#fb9f3a"
             ],
             [
              0.8888888888888888,
              "#fdca26"
             ],
             [
              1,
              "#f0f921"
             ]
            ],
            "type": "contour"
           }
          ],
          "contourcarpet": [
           {
            "colorbar": {
             "outlinewidth": 0,
             "ticks": ""
            },
            "type": "contourcarpet"
           }
          ],
          "heatmap": [
           {
            "colorbar": {
             "outlinewidth": 0,
             "ticks": ""
            },
            "colorscale": [
             [
              0,
              "#0d0887"
             ],
             [
              0.1111111111111111,
              "#46039f"
             ],
             [
              0.2222222222222222,
              "#7201a8"
             ],
             [
              0.3333333333333333,
              "#9c179e"
             ],
             [
              0.4444444444444444,
              "#bd3786"
             ],
             [
              0.5555555555555556,
              "#d8576b"
             ],
             [
              0.6666666666666666,
              "#ed7953"
             ],
             [
              0.7777777777777778,
              "#fb9f3a"
             ],
             [
              0.8888888888888888,
              "#fdca26"
             ],
             [
              1,
              "#f0f921"
             ]
            ],
            "type": "heatmap"
           }
          ],
          "histogram": [
           {
            "marker": {
             "pattern": {
              "fillmode": "overlay",
              "size": 10,
              "solidity": 0.2
             }
            },
            "type": "histogram"
           }
          ],
          "histogram2d": [
           {
            "colorbar": {
             "outlinewidth": 0,
             "ticks": ""
            },
            "colorscale": [
             [
              0,
              "#0d0887"
             ],
             [
              0.1111111111111111,
              "#46039f"
             ],
             [
              0.2222222222222222,
              "#7201a8"
             ],
             [
              0.3333333333333333,
              "#9c179e"
             ],
             [
              0.4444444444444444,
              "#bd3786"
             ],
             [
              0.5555555555555556,
              "#d8576b"
             ],
             [
              0.6666666666666666,
              "#ed7953"
             ],
             [
              0.7777777777777778,
              "#fb9f3a"
             ],
             [
              0.8888888888888888,
              "#fdca26"
             ],
             [
              1,
              "#f0f921"
             ]
            ],
            "type": "histogram2d"
           }
          ],
          "histogram2dcontour": [
           {
            "colorbar": {
             "outlinewidth": 0,
             "ticks": ""
            },
            "colorscale": [
             [
              0,
              "#0d0887"
             ],
             [
              0.1111111111111111,
              "#46039f"
             ],
             [
              0.2222222222222222,
              "#7201a8"
             ],
             [
              0.3333333333333333,
              "#9c179e"
             ],
             [
              0.4444444444444444,
              "#bd3786"
             ],
             [
              0.5555555555555556,
              "#d8576b"
             ],
             [
              0.6666666666666666,
              "#ed7953"
             ],
             [
              0.7777777777777778,
              "#fb9f3a"
             ],
             [
              0.8888888888888888,
              "#fdca26"
             ],
             [
              1,
              "#f0f921"
             ]
            ],
            "type": "histogram2dcontour"
           }
          ],
          "mesh3d": [
           {
            "colorbar": {
             "outlinewidth": 0,
             "ticks": ""
            },
            "type": "mesh3d"
           }
          ],
          "parcoords": [
           {
            "line": {
             "colorbar": {
              "outlinewidth": 0,
              "ticks": ""
             }
            },
            "type": "parcoords"
           }
          ],
          "pie": [
           {
            "automargin": true,
            "type": "pie"
           }
          ],
          "scatter": [
           {
            "fillpattern": {
             "fillmode": "overlay",
             "size": 10,
             "solidity": 0.2
            },
            "type": "scatter"
           }
          ],
          "scatter3d": [
           {
            "line": {
             "colorbar": {
              "outlinewidth": 0,
              "ticks": ""
             }
            },
            "marker": {
             "colorbar": {
              "outlinewidth": 0,
              "ticks": ""
             }
            },
            "type": "scatter3d"
           }
          ],
          "scattercarpet": [
           {
            "marker": {
             "colorbar": {
              "outlinewidth": 0,
              "ticks": ""
             }
            },
            "type": "scattercarpet"
           }
          ],
          "scattergeo": [
           {
            "marker": {
             "colorbar": {
              "outlinewidth": 0,
              "ticks": ""
             }
            },
            "type": "scattergeo"
           }
          ],
          "scattergl": [
           {
            "marker": {
             "colorbar": {
              "outlinewidth": 0,
              "ticks": ""
             }
            },
            "type": "scattergl"
           }
          ],
          "scattermap": [
           {
            "marker": {
             "colorbar": {
              "outlinewidth": 0,
              "ticks": ""
             }
            },
            "type": "scattermap"
           }
          ],
          "scattermapbox": [
           {
            "marker": {
             "colorbar": {
              "outlinewidth": 0,
              "ticks": ""
             }
            },
            "type": "scattermapbox"
           }
          ],
          "scatterpolar": [
           {
            "marker": {
             "colorbar": {
              "outlinewidth": 0,
              "ticks": ""
             }
            },
            "type": "scatterpolar"
           }
          ],
          "scatterpolargl": [
           {
            "marker": {
             "colorbar": {
              "outlinewidth": 0,
              "ticks": ""
             }
            },
            "type": "scatterpolargl"
           }
          ],
          "scatterternary": [
           {
            "marker": {
             "colorbar": {
              "outlinewidth": 0,
              "ticks": ""
             }
            },
            "type": "scatterternary"
           }
          ],
          "surface": [
           {
            "colorbar": {
             "outlinewidth": 0,
             "ticks": ""
            },
            "colorscale": [
             [
              0,
              "#0d0887"
             ],
             [
              0.1111111111111111,
              "#46039f"
             ],
             [
              0.2222222222222222,
              "#7201a8"
             ],
             [
              0.3333333333333333,
              "#9c179e"
             ],
             [
              0.4444444444444444,
              "#bd3786"
             ],
             [
              0.5555555555555556,
              "#d8576b"
             ],
             [
              0.6666666666666666,
              "#ed7953"
             ],
             [
              0.7777777777777778,
              "#fb9f3a"
             ],
             [
              0.8888888888888888,
              "#fdca26"
             ],
             [
              1,
              "#f0f921"
             ]
            ],
            "type": "surface"
           }
          ],
          "table": [
           {
            "cells": {
             "fill": {
              "color": "#EBF0F8"
             },
             "line": {
              "color": "white"
             }
            },
            "header": {
             "fill": {
              "color": "#C8D4E3"
             },
             "line": {
              "color": "white"
             }
            },
            "type": "table"
           }
          ]
         },
         "layout": {
          "annotationdefaults": {
           "arrowcolor": "#2a3f5f",
           "arrowhead": 0,
           "arrowwidth": 1
          },
          "autotypenumbers": "strict",
          "coloraxis": {
           "colorbar": {
            "outlinewidth": 0,
            "ticks": ""
           }
          },
          "colorscale": {
           "diverging": [
            [
             0,
             "#8e0152"
            ],
            [
             0.1,
             "#c51b7d"
            ],
            [
             0.2,
             "#de77ae"
            ],
            [
             0.3,
             "#f1b6da"
            ],
            [
             0.4,
             "#fde0ef"
            ],
            [
             0.5,
             "#f7f7f7"
            ],
            [
             0.6,
             "#e6f5d0"
            ],
            [
             0.7,
             "#b8e186"
            ],
            [
             0.8,
             "#7fbc41"
            ],
            [
             0.9,
             "#4d9221"
            ],
            [
             1,
             "#276419"
            ]
           ],
           "sequential": [
            [
             0,
             "#0d0887"
            ],
            [
             0.1111111111111111,
             "#46039f"
            ],
            [
             0.2222222222222222,
             "#7201a8"
            ],
            [
             0.3333333333333333,
             "#9c179e"
            ],
            [
             0.4444444444444444,
             "#bd3786"
            ],
            [
             0.5555555555555556,
             "#d8576b"
            ],
            [
             0.6666666666666666,
             "#ed7953"
            ],
            [
             0.7777777777777778,
             "#fb9f3a"
            ],
            [
             0.8888888888888888,
             "#fdca26"
            ],
            [
             1,
             "#f0f921"
            ]
           ],
           "sequentialminus": [
            [
             0,
             "#0d0887"
            ],
            [
             0.1111111111111111,
             "#46039f"
            ],
            [
             0.2222222222222222,
             "#7201a8"
            ],
            [
             0.3333333333333333,
             "#9c179e"
            ],
            [
             0.4444444444444444,
             "#bd3786"
            ],
            [
             0.5555555555555556,
             "#d8576b"
            ],
            [
             0.6666666666666666,
             "#ed7953"
            ],
            [
             0.7777777777777778,
             "#fb9f3a"
            ],
            [
             0.8888888888888888,
             "#fdca26"
            ],
            [
             1,
             "#f0f921"
            ]
           ]
          },
          "colorway": [
           "#636efa",
           "#EF553B",
           "#00cc96",
           "#ab63fa",
           "#FFA15A",
           "#19d3f3",
           "#FF6692",
           "#B6E880",
           "#FF97FF",
           "#FECB52"
          ],
          "font": {
           "color": "#2a3f5f"
          },
          "geo": {
           "bgcolor": "white",
           "lakecolor": "white",
           "landcolor": "#E5ECF6",
           "showlakes": true,
           "showland": true,
           "subunitcolor": "white"
          },
          "hoverlabel": {
           "align": "left"
          },
          "hovermode": "closest",
          "mapbox": {
           "style": "light"
          },
          "paper_bgcolor": "white",
          "plot_bgcolor": "#E5ECF6",
          "polar": {
           "angularaxis": {
            "gridcolor": "white",
            "linecolor": "white",
            "ticks": ""
           },
           "bgcolor": "#E5ECF6",
           "radialaxis": {
            "gridcolor": "white",
            "linecolor": "white",
            "ticks": ""
           }
          },
          "scene": {
           "xaxis": {
            "backgroundcolor": "#E5ECF6",
            "gridcolor": "white",
            "gridwidth": 2,
            "linecolor": "white",
            "showbackground": true,
            "ticks": "",
            "zerolinecolor": "white"
           },
           "yaxis": {
            "backgroundcolor": "#E5ECF6",
            "gridcolor": "white",
            "gridwidth": 2,
            "linecolor": "white",
            "showbackground": true,
            "ticks": "",
            "zerolinecolor": "white"
           },
           "zaxis": {
            "backgroundcolor": "#E5ECF6",
            "gridcolor": "white",
            "gridwidth": 2,
            "linecolor": "white",
            "showbackground": true,
            "ticks": "",
            "zerolinecolor": "white"
           }
          },
          "shapedefaults": {
           "line": {
            "color": "#2a3f5f"
           }
          },
          "ternary": {
           "aaxis": {
            "gridcolor": "white",
            "linecolor": "white",
            "ticks": ""
           },
           "baxis": {
            "gridcolor": "white",
            "linecolor": "white",
            "ticks": ""
           },
           "bgcolor": "#E5ECF6",
           "caxis": {
            "gridcolor": "white",
            "linecolor": "white",
            "ticks": ""
           }
          },
          "title": {
           "x": 0.05
          },
          "xaxis": {
           "automargin": true,
           "gridcolor": "white",
           "linecolor": "white",
           "ticks": "",
           "title": {
            "standoff": 15
           },
           "zerolinecolor": "white",
           "zerolinewidth": 2
          },
          "yaxis": {
           "automargin": true,
           "gridcolor": "white",
           "linecolor": "white",
           "ticks": "",
           "title": {
            "standoff": 15
           },
           "zerolinecolor": "white",
           "zerolinewidth": 2
          }
         }
        },
        "title": {
         "text": "Optimization History Plot"
        },
        "xaxis": {
         "title": {
          "text": "Trial"
         }
        },
        "yaxis": {
         "title": {
          "text": "Objective Value"
         }
        }
       }
      }
     },
     "metadata": {},
     "output_type": "display_data"
    }
   ],
   "source": [
    "# Visualizar el historial de optimización\n",
    "plot_optimization_history(study)"
   ]
  },
  {
   "cell_type": "code",
   "execution_count": 22,
   "id": "6691d415",
   "metadata": {},
   "outputs": [
    {
     "name": "stdout",
     "output_type": "stream",
     "text": [
      "Mejores hiperparámetros encontrados:\n",
      "{'n_estimators': 343, 'learning_rate': 0.06620879032719892, 'max_depth': 7, 'subsample': 0.9326966142193129, 'min_samples_split': 2, 'min_samples_leaf': 9}\n",
      "Mejor score de f1-score: 0.4058\n"
     ]
    }
   ],
   "source": [
    "print(\"Mejores hiperparámetros encontrados:\")\n",
    "print(study.best_params)\n",
    "print(f\"Mejor score de {SCORE}: {study.best_value:.4f}\")\n",
    "best_params = study.best_params"
   ]
  },
  {
   "cell_type": "code",
   "execution_count": 23,
   "id": "1213f773",
   "metadata": {},
   "outputs": [],
   "source": [
    "# Guardar los mejores hiperparámetros y su valor\n",
    "history = []\n",
    "if os.path.exists(\"best_hyperparams.json\"):\n",
    "    try:\n",
    "        with open(\"best_hyperparams.json\", \"r\") as f:\n",
    "            history = json.load(f)\n",
    "    except (json.JSONDecodeError, ValueError):\n",
    "        history = []\n",
    "\n",
    "# Guardar ambos en un solo diccionario\n",
    "history.append({\n",
    "    \"params\": study.best_params,\n",
    "    \"value\": study.best_value\n",
    "})\n",
    "# Guardar el historial de hiperparámetros\n",
    "with open(\"best_hyperparams.json\", \"w\") as f:\n",
    "    json.dump(history, f, indent=2)"
   ]
  },
  {
   "cell_type": "code",
   "execution_count": 16,
   "id": "6cb1c1f3",
   "metadata": {},
   "outputs": [
    {
     "name": "stdout",
     "output_type": "stream",
     "text": [
      "Hiperparámetros #1: {'n_estimators': 324, 'learning_rate': 0.029233637937789516, 'max_depth': 4, 'subsample': 0.6813368996054391, 'min_samples_split': 10, 'min_samples_leaf': 9}, Valor: 0.32558139534883723\n"
     ]
    }
   ],
   "source": [
    "# # Cargar historial de hiperparámetros y valores\n",
    "# import json\n",
    "\n",
    "# with open(\"best_hyperparams.json\", \"r\") as f:\n",
    "#     history = json.load(f)\n",
    "\n",
    "# # Escoger el último (más reciente)\n",
    "# best_params = history[-1][\"params\"]\n",
    "# best_value = history[-1][\"value\"]\n",
    "\n",
    "# # Si quieres ver todos:\n",
    "# for i, entry in enumerate(history):\n",
    "#     print(f\"Hiperparámetros #{i+1}: {entry['params']}, Valor: {entry['value']}\")\n",
    "\n",
    "# # Si quieres escoger uno específico (por índice):\n",
    "# # best_params = history[indice_que_quieras][\"params\"]\n",
    "# # best_value = history[indice_que_quieras][\"value\"]"
   ]
  },
  {
   "cell_type": "code",
   "execution_count": 28,
   "id": "8052bafe",
   "metadata": {},
   "outputs": [
    {
     "name": "stdout",
     "output_type": "stream",
     "text": [
      "Gradient Boosting Classifier Trend Changes Score:\n",
      "               precision    recall  f1-score   support\n",
      "\n",
      "       False     0.9225    0.9189    0.9207       259\n",
      "        True     0.4000    0.4118    0.4058        34\n",
      "\n",
      "    accuracy                         0.8601       293\n",
      "   macro avg     0.6612    0.6653    0.6632       293\n",
      "weighted avg     0.8619    0.8601    0.8609       293\n",
      "\n"
     ]
    }
   ],
   "source": [
    "# Entrenar modelo final con los mejores hiperparámetros\n",
    "set_seeds(SEED)\n",
    "final_model = GradientBoostingClassifier(\n",
    "    n_estimators=best_params[\"n_estimators\"],\n",
    "    learning_rate=best_params[\"learning_rate\"],\n",
    "    max_depth=best_params[\"max_depth\"],\n",
    "    subsample=best_params[\"subsample\"],\n",
    "    min_samples_split=best_params[\"min_samples_split\"],\n",
    "    min_samples_leaf=best_params[\"min_samples_leaf\"],\n",
    "    random_state=SEED\n",
    ")\n",
    "final_model.fit(X_train, y_train)\n",
    "# Obtener predicciones\n",
    "y_val_pred = final_model.predict(X_val)\n",
    "print(\"Gradient Boosting Classifier Trend Changes Score:\\n\", trend_changes_score(y_val, y_val_pred))"
   ]
  },
  {
   "cell_type": "code",
   "execution_count": 29,
   "id": "5ad5ada3",
   "metadata": {},
   "outputs": [
    {
     "name": "stdout",
     "output_type": "stream",
     "text": [
      "Gradient Boosting Classifier Report:\n",
      "               precision    recall  f1-score   support\n",
      "\n",
      "          -1     0.8288    0.9787    0.8976        94\n",
      "           0     0.7619    0.3902    0.5161        41\n",
      "           1     0.9383    0.9560    0.9470       159\n",
      "\n",
      "    accuracy                         0.8844       294\n",
      "   macro avg     0.8430    0.7750    0.7869       294\n",
      "weighted avg     0.8787    0.8844    0.8711       294\n",
      "\n",
      "Balanced accuracy: 0.774980716487213\n"
     ]
    }
   ],
   "source": [
    "# Reporte completo: precisión, recall y F1 por clase\n",
    "report = classification_report(y_val, y_val_pred, digits=4)\n",
    "print(\"Gradient Boosting Classifier Report:\\n\", report)\n",
    "print(\"Balanced accuracy:\", balanced_accuracy_score(y_val, y_val_pred))"
   ]
  },
  {
   "cell_type": "code",
   "execution_count": 30,
   "id": "10acb4b3",
   "metadata": {},
   "outputs": [
    {
     "name": "stdout",
     "output_type": "stream",
     "text": [
      "\n",
      "GradientBoosting trend_changes_score:\n",
      "               precision    recall  f1-score   support\n",
      "\n",
      "       False     0.9141    0.8897    0.9017       263\n",
      "        True     0.2368    0.2903    0.2609        31\n",
      "\n",
      "    accuracy                         0.8265       294\n",
      "   macro avg     0.5755    0.5900    0.5813       294\n",
      "weighted avg     0.8427    0.8265    0.8342       294\n",
      "\n"
     ]
    }
   ],
   "source": [
    "y_pred_test = final_model.predict(X_test)\n",
    "print(\"\\nGradientBoosting trend_changes_score:\\n\", trend_changes_score(y_test, y_pred_test))"
   ]
  },
  {
   "cell_type": "code",
   "execution_count": 31,
   "id": "851011a7",
   "metadata": {},
   "outputs": [],
   "source": [
    "# --- Exportar y Comparar Métricas de Modelos (Validación) ---\n",
    "\n",
    "# 1. Definir el nombre del modelo actual y el archivo de salida\n",
    "model_name = 'GradientBoosting'\n",
    "output_file = '../../../score_models/model_comparison_metrics.csv'\n",
    "\n",
    "# 2. Calcular el reporte de clasificación estándar\n",
    "# Usamos y_val_m y y_val_pred que están en la misma escala (0,1,2)\n",
    "report_dict = classification_report(y_val, y_val_pred, output_dict=True, zero_division=0)\n",
    "precision = report_dict['macro avg']['precision']\n",
    "recall = report_dict['macro avg']['recall']\n",
    "f1_score = report_dict['macro avg']['f1-score']\n",
    "\n",
    "\n",
    "# 3. Calcular el reporte de cambio de tendencia\n",
    "report = get_trend_changes_report_dict(y_val, y_val_pred)\n",
    "trend_change_precision = report['True']['precision']\n",
    "trend_change_recall = report['True']['recall']\n",
    "trend_change_f1_score = report['True']['f1-score']\n",
    "\n",
    "# 4. Organizar las nuevas métricas\n",
    "new_metrics = {\n",
    "    'precision': precision,\n",
    "    'recall': recall,\n",
    "    'f1_score': f1_score,\n",
    "    'trend_change_precision': trend_change_precision,\n",
    "    'trend_change_recall': trend_change_recall,\n",
    "    'trend_change_f1_score': trend_change_f1_score\n",
    "}\n",
    "\n",
    "# 5. Cargar, actualizar y guardar el DataFrame de comparación\n",
    "try:\n",
    "    # Intentar cargar el archivo existente\n",
    "    comparison_df = pd.read_csv(output_file, index_col='model')\n",
    "    # Si existe, actualizar o añadir la fila para el modelo actual\n",
    "    comparison_df.loc[model_name] = new_metrics\n",
    "except FileNotFoundError:\n",
    "    # Si no existe, crear un DataFrame nuevo directamente con los datos actuales\n",
    "    comparison_df = pd.DataFrame([new_metrics], index=[model_name])\n",
    "\n",
    "# Guardar el DataFrame actualizado en el CSV\n",
    "comparison_df.to_csv(output_file, index_label='model')"
   ]
  }
 ],
 "metadata": {
  "kernelspec": {
   "display_name": "tf_venv2 (3.10.12)",
   "language": "python",
   "name": "python3"
  },
  "language_info": {
   "codemirror_mode": {
    "name": "ipython",
    "version": 3
   },
   "file_extension": ".py",
   "mimetype": "text/x-python",
   "name": "python",
   "nbconvert_exporter": "python",
   "pygments_lexer": "ipython3",
   "version": "3.10.12"
  }
 },
 "nbformat": 4,
 "nbformat_minor": 5
}
