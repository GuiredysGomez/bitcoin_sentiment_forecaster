{
 "cells": [
  {
   "cell_type": "code",
   "execution_count": 4,
   "id": "77abc37f",
   "metadata": {},
   "outputs": [],
   "source": [
    "import os\n",
    "import json\n",
    "import gc\n",
    "import re\n",
    "import random\n",
    "import numpy as np\n",
    "import pandas as pd\n",
    "import optuna\n",
    "import tensorflow as tf\n",
    "from tensorflow.keras.models import Sequential\n",
    "from tensorflow.keras.layers import LSTM, Dense, Dropout, Input\n",
    "from tensorflow.keras.callbacks import EarlyStopping\n",
    "from sklearn.metrics import classification_report, balanced_accuracy_score"
   ]
  },
  {
   "cell_type": "code",
   "execution_count": 5,
   "id": "8995ba22",
   "metadata": {},
   "outputs": [],
   "source": [
    "# ========= Seeds =========\n",
    "SEED = 43\n",
    "os.environ['PYTHONHASHSEED'] = str(SEED)\n",
    "random.seed(SEED)\n",
    "np.random.seed(SEED)\n",
    "tf.random.set_seed(SEED)"
   ]
  },
  {
   "cell_type": "code",
   "execution_count": 6,
   "id": "dcda7117",
   "metadata": {},
   "outputs": [],
   "source": [
    "SCORE = \"f1-score\""
   ]
  },
  {
   "cell_type": "code",
   "execution_count": 7,
   "id": "d0a14e5f",
   "metadata": {},
   "outputs": [],
   "source": [
    "def get_trend_changes_report_dict(y_test: np.array, y_pred: np.array) -> float:\n",
    "    \"\"\"\n",
    "    Calculate the trend changes score based on the test and predicted values.\n",
    "    \n",
    "    Args:\n",
    "        y_test (np.array): True labels.\n",
    "        y_pred (np.array): Predicted labels.\n",
    "        \n",
    "    Returns:\n",
    "        float: The trend changes score.\n",
    "    \"\"\"\n",
    "    y_df = pd.DataFrame([y_test, y_pred]).T\n",
    "    y_df.columns = [\"y_test\", \"y_pred\"]\n",
    "    y_df[\"y_test_shifted\"] = y_df[\"y_test\"].shift(-1)\n",
    "    y_df[\"is_changed_trend_test\"] = y_df[\"y_test\"] != y_df[\"y_test_shifted\"]\n",
    "    y_df[\"y_predict_shifted\"] = y_df[\"y_pred\"].shift(-1)\n",
    "    y_df[\"is_changed_trend_predict\"] = y_df[\"y_pred\"] != y_df[\"y_predict_shifted\"]\n",
    "    return classification_report(\n",
    "        y_df[\"is_changed_trend_test\"][:-1], \n",
    "        y_df[\"is_changed_trend_predict\"][:-1], \n",
    "        digits=4,\n",
    "        output_dict=True,\n",
    "        zero_division=0\n",
    "    )\n",
    "\n",
    "def trend_changes_score(y_test: np.array, y_pred: np.array) -> str:\n",
    "    y_df = pd.DataFrame([y_test, y_pred]).T\n",
    "    y_df.columns = [\"y_test\", \"y_pred\"]\n",
    "    y_df[\"y_test_shifted\"] = y_df[\"y_test\"].shift(-1)\n",
    "    y_df[\"is_changed_trend_test\"] = y_df[\"y_test\"] != y_df[\"y_test_shifted\"]\n",
    "    y_df[\"y_predict_shifted\"] = y_df[\"y_pred\"].shift(-1)\n",
    "    y_df[\"is_changed_trend_predict\"] = y_df[\"y_pred\"] != y_df[\"y_predict_shifted\"]\n",
    "    return classification_report(\n",
    "        y_df[\"is_changed_trend_test\"][:-1],\n",
    "        y_df[\"is_changed_trend_predict\"][:-1],\n",
    "        digits=4\n",
    "    )\n",
    "\n",
    "def trend_changes_true(y_test: np.array, y_pred: np.array) -> float:\n",
    "    y_df = pd.DataFrame([y_test, y_pred]).T\n",
    "    y_df.columns = [\"y_test\", \"y_pred\"]\n",
    "    y_df[\"y_test_shifted\"] = y_df[\"y_test\"].shift(-1)\n",
    "    y_df[\"is_changed_trend_test\"] = y_df[\"y_test\"] != y_df[\"y_test_shifted\"]\n",
    "    y_df[\"y_predict_shifted\"] = y_df[\"y_pred\"].shift(-1)\n",
    "    y_df[\"is_changed_trend_predict\"] = y_df[\"y_pred\"] != y_df[\"y_predict_shifted\"]\n",
    "    report = classification_report(\n",
    "        y_df[\"is_changed_trend_test\"][:-1],\n",
    "        y_df[\"is_changed_trend_predict\"][:-1],\n",
    "        output_dict=True,\n",
    "        zero_division=0\n",
    "    )\n",
    "    return report[\"True\"][SCORE]"
   ]
  },
  {
   "cell_type": "code",
   "execution_count": 12,
   "id": "56805697",
   "metadata": {},
   "outputs": [
    {
     "name": "stdout",
     "output_type": "stream",
     "text": [
      "X_train: (1374, 5, 12) (samples, timesteps, features)\n",
      "X_val:   (294, 5, 12)\n",
      "X_test:  (295, 5, 12)\n",
      "Timesteps=5, Features/step=12 -> steps=[-4, -3, -2, -1, 0]\n"
     ]
    }
   ],
   "source": [
    "# ========= Utils: reconstituir secuencias (d-4..d0) =========\n",
    "step_pat = re.compile(r\"_d(-?\\d+)$\")\n",
    "\n",
    "def infer_steps_and_bases(df_cols):\n",
    "    # Extrae steps únicos y ordenados y el orden de features base usando el step más antiguo\n",
    "    steps = sorted({int(step_pat.search(c).group(1)) for c in df_cols if step_pat.search(c)})\n",
    "    oldest = steps[0]\n",
    "    bases_oldest = [c.split(f\"_d{oldest}\")[0] for c in df_cols if c.endswith(f\"_d{oldest}\")]\n",
    "    return steps, bases_oldest\n",
    "\n",
    "def reindex_sequence_columns(df):\n",
    "    cols = [c for c in df.columns if c not in (\"date\", \"target_trend\")]\n",
    "    steps, bases = infer_steps_and_bases(df.columns)\n",
    "    ordered = []\n",
    "    for st in steps:  # mantiene orden temporal: antiguo -> reciente\n",
    "        for b in bases:\n",
    "            name = f\"{b}_d{st}\"\n",
    "            if name not in df.columns:\n",
    "                raise ValueError(f\"Falta columna esperada: {name}\")\n",
    "            ordered.append(name)\n",
    "    return ordered, steps, bases\n",
    "\n",
    "def to_sequence_array(df):\n",
    "    ordered_cols, steps, bases = reindex_sequence_columns(df)\n",
    "    X_flat = df[ordered_cols].values.astype(np.float32)\n",
    "    n, nflat = X_flat.shape\n",
    "    T = len(steps)\n",
    "    F = len(bases)\n",
    "    assert nflat == T * F, f\"Esperado {T*F} columnas, recibido {nflat}\"\n",
    "    X = X_flat.reshape(n, T, F)\n",
    "    return X, steps, bases\n",
    "\n",
    "# ========= Carga de datos =========\n",
    "DATA_DIR = \"../../../data/post_cleaning\"\n",
    "train_df = pd.read_csv(os.path.join(DATA_DIR, \"training_set.csv\"), parse_dates=[\"date\"])\n",
    "val_df   = pd.read_csv(os.path.join(DATA_DIR, \"validation_set.csv\"), parse_dates=[\"date\"])\n",
    "test_df  = pd.read_csv(os.path.join(DATA_DIR, \"test_set.csv\"), parse_dates=[\"date\"])\n",
    "\n",
    "# Entradas (3D) y etiquetas (+1 para {0,1,2})\n",
    "X_train, steps, bases = to_sequence_array(train_df)\n",
    "X_val, _, _ = to_sequence_array(val_df)\n",
    "X_test, _, _ = to_sequence_array(test_df)\n",
    "\n",
    "y_train = (train_df[\"target_trend\"].values + 1).astype(np.int32)\n",
    "y_val   = (val_df[\"target_trend\"].values + 1).astype(np.int32)\n",
    "y_test  = (test_df[\"target_trend\"].values + 1).astype(np.int32)\n",
    "\n",
    "print(f\"X_train: {X_train.shape} (samples, timesteps, features)\")\n",
    "print(f\"X_val:   {X_val.shape}\")\n",
    "print(f\"X_test:  {X_test.shape}\")\n",
    "print(f\"Timesteps={len(steps)}, Features/step={len(bases)} -> steps={steps}\")\n",
    "\n",
    "# ========= Definición de modelo =========\n",
    "def build_model(trial, timesteps, features):\n",
    "    lstm_layers = trial.suggest_int(\"lstm_layers\", 1, 2)\n",
    "    units1 = trial.suggest_int(\"units1\", 32, 256, step=32)\n",
    "    units2 = trial.suggest_int(\"units2\", 32, 256, step=32) if lstm_layers == 2 else None\n",
    "     # --- LÓGICA CORREGIDA PARA PARÁMETROS CONDICIONALES ---\n",
    "    if lstm_layers == 2:\n",
    "        # Solo sugiere 'units2' si se va a usar una segunda capa\n",
    "        units2 = trial.suggest_int(\"units2\", 32, 256, step=32)\n",
    "    else:\n",
    "        # Si no, 'units2' no es un hiperparámetro para este trial\n",
    "        units2 = None\n",
    "    dense_units = trial.suggest_int(\"dense_units\", 16, 128, step=16)\n",
    "    dropout = trial.suggest_float(\"dropout\", 0.0, 0.5)\n",
    "    learning_rate = trial.suggest_float(\"learning_rate\", 1e-4, 1e-2, log=True)\n",
    "    optimizer_name = trial.suggest_categorical(\"optimizer\", [\"adam\", \"rmsprop\"])\n",
    "    optimizer = {\"adam\": tf.keras.optimizers.Adam,\n",
    "                 \"rmsprop\": tf.keras.optimizers.RMSprop}[optimizer_name](learning_rate=learning_rate)\n",
    "\n",
    "    model = Sequential()\n",
    "    model.add(Input(shape=(timesteps, features)))\n",
    "    if lstm_layers == 2:\n",
    "        # Asegurarse de que units2 no sea None si se necesitan 2 capas\n",
    "        if units2 is None:\n",
    "             # Esto puede pasar en un FixedTrial si el trial original no tenía 2 capas.\n",
    "             # En ese caso, no deberíamos estar aquí, pero como salvaguarda:\n",
    "             raise ValueError(\"lstm_layers es 2 pero units2 no está definido.\")\n",
    "        model.add(LSTM(units1, return_sequences=True, dropout=dropout))\n",
    "        model.add(LSTM(units2, dropout=dropout))\n",
    "    else:\n",
    "        model.add(LSTM(units1, dropout=dropout))\n",
    "\n",
    "    model.add(Dropout(dropout))\n",
    "    model.add(Dense(dense_units, activation=\"relu\"))\n",
    "    model.add(Dropout(dropout))\n",
    "    model.add(Dense(3, activation=\"linear\"))  # logits\n",
    "\n",
    "    model.compile(\n",
    "        loss=tf.keras.losses.SparseCategoricalCrossentropy(from_logits=True),\n",
    "        optimizer=optimizer,\n",
    "        metrics=[\"accuracy\"]\n",
    "    )\n",
    "    return model\n",
    "\n",
    "# ========= Objetivo Optuna =========\n",
    "def objective(trial):\n",
    "    tf.keras.backend.clear_session()\n",
    "    model = build_model(trial, X_train.shape[1], X_train.shape[2])\n",
    "    batch_size = trial.suggest_categorical(\"batch_size\", [32, 64, 128])\n",
    "    patience = trial.suggest_int(\"patience\", 8, 15)\n",
    "\n",
    "    es = EarlyStopping(monitor=\"val_loss\", patience=patience, restore_best_weights=True, verbose=0)\n",
    "\n",
    "    model.fit(\n",
    "        X_train, y_train,\n",
    "        validation_data=(X_val, y_val),\n",
    "        epochs=80,\n",
    "        batch_size=batch_size,\n",
    "        callbacks=[es],\n",
    "        verbose=0\n",
    "    )\n",
    "\n",
    "    # Predicción y métrica personalizada\n",
    "    val_logits = model.predict(X_val, verbose=0)\n",
    "    y_val_pred = np.argmax(val_logits, axis=1)\n",
    "    score = trend_changes_true(y_val, y_val_pred)\n",
    "\n",
    "    # Limpieza\n",
    "    tf.keras.backend.clear_session()\n",
    "    del model\n",
    "    gc.collect()\n",
    "\n",
    "    return score\n",
    "\n",
    "\n"
   ]
  },
  {
   "cell_type": "code",
   "execution_count": null,
   "id": "85c52736",
   "metadata": {},
   "outputs": [],
   "source": [
    "# ========= Ejecutar Optuna =========\n",
    "study = optuna.create_study(direction=\"maximize\", sampler=optuna.samplers.TPESampler(seed=SEED))\n",
    "study.optimize(objective, n_trials=150)\n",
    "print(\"Mejores hiperparámetros:\", study.best_params)\n",
    "print(f\"Mejor score {SCORE}: {study.best_value:.4f}\")\n"
   ]
  },
  {
   "cell_type": "code",
   "execution_count": null,
   "id": "0447fefd",
   "metadata": {},
   "outputs": [
    {
     "data": {
      "application/vnd.plotly.v1+json": {
       "config": {
        "plotlyServerURL": "https://plot.ly"
       },
       "data": [
        {
         "mode": "markers",
         "name": "Objective Value",
         "type": "scatter",
         "x": [
          0,
          1,
          2,
          3,
          4,
          5,
          6,
          7,
          8,
          9,
          10,
          11,
          12,
          13,
          14,
          15,
          16,
          17,
          18,
          19,
          20,
          21,
          22,
          23,
          24,
          25,
          26,
          27,
          28,
          29,
          30,
          31,
          32,
          33,
          34,
          35,
          36,
          37,
          38,
          39,
          40,
          41,
          42,
          43,
          44,
          45,
          46,
          47,
          48,
          49,
          50,
          51,
          52,
          53,
          54,
          55,
          56,
          57,
          58,
          59,
          60,
          61,
          62,
          63,
          64,
          65,
          66,
          67,
          68,
          69,
          70,
          71,
          72,
          73,
          74,
          75,
          76,
          77,
          78,
          79,
          80,
          81,
          82,
          83,
          84,
          85,
          86,
          87,
          88,
          89,
          90,
          91,
          92,
          93,
          94,
          95,
          96,
          97,
          98,
          99,
          100,
          101,
          102,
          103,
          104,
          105,
          106,
          107,
          108,
          109,
          110,
          111,
          112,
          113,
          114,
          115,
          116,
          117,
          118,
          119,
          120,
          121,
          122,
          123,
          124
         ],
         "y": [
          0.05,
          0.045454545454545456,
          0.09230769230769231,
          0,
          0.034482758620689655,
          0.19230769230769232,
          0.03571428571428571,
          0.16129032258064516,
          0,
          0,
          0,
          0,
          0.07017543859649122,
          0,
          0,
          0,
          0.20454545454545456,
          0,
          0,
          0,
          0,
          0.10526315789473684,
          0,
          0.12307692307692308,
          0.04,
          0,
          0.23255813953488372,
          0.21621621621621623,
          0,
          0.07272727272727272,
          0.20689655172413793,
          0.23622047244094488,
          0.225,
          0.125,
          0.08823529411764706,
          0.2222222222222222,
          0.11428571428571428,
          0.13636363636363635,
          0.09523809523809523,
          0.1568627450980392,
          0.18421052631578946,
          0.22988505747126436,
          0.1111111111111111,
          0,
          0,
          0.11428571428571428,
          0.125,
          0.12698412698412698,
          0.2077922077922078,
          0.2268041237113402,
          0.1568627450980392,
          0.2765957446808511,
          0.27586206896551724,
          0.18666666666666668,
          0.0392156862745098,
          0.17543859649122806,
          0.175,
          0.12307692307692308,
          0,
          0.05970149253731343,
          0.16666666666666666,
          0.18045112781954886,
          0.16,
          0.2028985507246377,
          0.20754716981132076,
          0.09523809523809523,
          0,
          0.12244897959183673,
          0.15384615384615385,
          0.1694915254237288,
          0.2524271844660194,
          0.2,
          0.15384615384615385,
          0.20454545454545456,
          0.16560509554140126,
          0,
          0.1518987341772152,
          0.22608695652173913,
          0,
          0.15254237288135594,
          0.18556701030927836,
          0.1414141414141414,
          0.26506024096385544,
          0.1095890410958904,
          0.06557377049180328,
          0.3333333333333333,
          0.18181818181818182,
          0.1038961038961039,
          0.16901408450704225,
          0.04081632653061224,
          0,
          0.09836065573770492,
          0.24,
          0.2857142857142857,
          0.17721518987341772,
          0.22641509433962265,
          0.1509433962264151,
          0.19875776397515527,
          0.14634146341463414,
          0,
          0.10434782608695652,
          0.24,
          0.1794871794871795,
          0.20454545454545456,
          0.20689655172413793,
          0.3595505617977528,
          0.22,
          0.21176470588235294,
          0.038461538461538464,
          0,
          0.2268041237113402,
          0.21568627450980393,
          0.25806451612903225,
          0.10909090909090909,
          0.30985915492957744,
          0.10909090909090909,
          0.25316455696202533,
          0.07547169811320754,
          0.23880597014925373,
          0.12307692307692308,
          0.20168067226890757,
          0,
          0.13157894736842105,
          0.1276595744680851,
          0.16901408450704225
         ]
        },
        {
         "mode": "lines",
         "name": "Best Value",
         "type": "scatter",
         "x": [
          0,
          1,
          2,
          3,
          4,
          5,
          6,
          7,
          8,
          9,
          10,
          11,
          12,
          13,
          14,
          15,
          16,
          17,
          18,
          19,
          20,
          21,
          22,
          23,
          24,
          25,
          26,
          27,
          28,
          29,
          30,
          31,
          32,
          33,
          34,
          35,
          36,
          37,
          38,
          39,
          40,
          41,
          42,
          43,
          44,
          45,
          46,
          47,
          48,
          49,
          50,
          51,
          52,
          53,
          54,
          55,
          56,
          57,
          58,
          59,
          60,
          61,
          62,
          63,
          64,
          65,
          66,
          67,
          68,
          69,
          70,
          71,
          72,
          73,
          74,
          75,
          76,
          77,
          78,
          79,
          80,
          81,
          82,
          83,
          84,
          85,
          86,
          87,
          88,
          89,
          90,
          91,
          92,
          93,
          94,
          95,
          96,
          97,
          98,
          99,
          100,
          101,
          102,
          103,
          104,
          105,
          106,
          107,
          108,
          109,
          110,
          111,
          112,
          113,
          114,
          115,
          116,
          117,
          118,
          119,
          120,
          121,
          122,
          123,
          124
         ],
         "y": [
          0.05,
          0.05,
          0.09230769230769231,
          0.09230769230769231,
          0.09230769230769231,
          0.19230769230769232,
          0.19230769230769232,
          0.19230769230769232,
          0.19230769230769232,
          0.19230769230769232,
          0.19230769230769232,
          0.19230769230769232,
          0.19230769230769232,
          0.19230769230769232,
          0.19230769230769232,
          0.19230769230769232,
          0.20454545454545456,
          0.20454545454545456,
          0.20454545454545456,
          0.20454545454545456,
          0.20454545454545456,
          0.20454545454545456,
          0.20454545454545456,
          0.20454545454545456,
          0.20454545454545456,
          0.20454545454545456,
          0.23255813953488372,
          0.23255813953488372,
          0.23255813953488372,
          0.23255813953488372,
          0.23255813953488372,
          0.23622047244094488,
          0.23622047244094488,
          0.23622047244094488,
          0.23622047244094488,
          0.23622047244094488,
          0.23622047244094488,
          0.23622047244094488,
          0.23622047244094488,
          0.23622047244094488,
          0.23622047244094488,
          0.23622047244094488,
          0.23622047244094488,
          0.23622047244094488,
          0.23622047244094488,
          0.23622047244094488,
          0.23622047244094488,
          0.23622047244094488,
          0.23622047244094488,
          0.23622047244094488,
          0.23622047244094488,
          0.2765957446808511,
          0.2765957446808511,
          0.2765957446808511,
          0.2765957446808511,
          0.2765957446808511,
          0.2765957446808511,
          0.2765957446808511,
          0.2765957446808511,
          0.2765957446808511,
          0.2765957446808511,
          0.2765957446808511,
          0.2765957446808511,
          0.2765957446808511,
          0.2765957446808511,
          0.2765957446808511,
          0.2765957446808511,
          0.2765957446808511,
          0.2765957446808511,
          0.2765957446808511,
          0.2765957446808511,
          0.2765957446808511,
          0.2765957446808511,
          0.2765957446808511,
          0.2765957446808511,
          0.2765957446808511,
          0.2765957446808511,
          0.2765957446808511,
          0.2765957446808511,
          0.2765957446808511,
          0.2765957446808511,
          0.2765957446808511,
          0.2765957446808511,
          0.2765957446808511,
          0.2765957446808511,
          0.3333333333333333,
          0.3333333333333333,
          0.3333333333333333,
          0.3333333333333333,
          0.3333333333333333,
          0.3333333333333333,
          0.3333333333333333,
          0.3333333333333333,
          0.3333333333333333,
          0.3333333333333333,
          0.3333333333333333,
          0.3333333333333333,
          0.3333333333333333,
          0.3333333333333333,
          0.3333333333333333,
          0.3333333333333333,
          0.3333333333333333,
          0.3333333333333333,
          0.3333333333333333,
          0.3333333333333333,
          0.3595505617977528,
          0.3595505617977528,
          0.3595505617977528,
          0.3595505617977528,
          0.3595505617977528,
          0.3595505617977528,
          0.3595505617977528,
          0.3595505617977528,
          0.3595505617977528,
          0.3595505617977528,
          0.3595505617977528,
          0.3595505617977528,
          0.3595505617977528,
          0.3595505617977528,
          0.3595505617977528,
          0.3595505617977528,
          0.3595505617977528,
          0.3595505617977528,
          0.3595505617977528,
          0.3595505617977528
         ]
        },
        {
         "marker": {
          "color": "#cccccc"
         },
         "mode": "markers",
         "name": "Infeasible Trial",
         "showlegend": false,
         "type": "scatter",
         "x": [],
         "y": []
        }
       ],
       "layout": {
        "template": {
         "data": {
          "bar": [
           {
            "error_x": {
             "color": "#2a3f5f"
            },
            "error_y": {
             "color": "#2a3f5f"
            },
            "marker": {
             "line": {
              "color": "#E5ECF6",
              "width": 0.5
             },
             "pattern": {
              "fillmode": "overlay",
              "size": 10,
              "solidity": 0.2
             }
            },
            "type": "bar"
           }
          ],
          "barpolar": [
           {
            "marker": {
             "line": {
              "color": "#E5ECF6",
              "width": 0.5
             },
             "pattern": {
              "fillmode": "overlay",
              "size": 10,
              "solidity": 0.2
             }
            },
            "type": "barpolar"
           }
          ],
          "carpet": [
           {
            "aaxis": {
             "endlinecolor": "#2a3f5f",
             "gridcolor": "white",
             "linecolor": "white",
             "minorgridcolor": "white",
             "startlinecolor": "#2a3f5f"
            },
            "baxis": {
             "endlinecolor": "#2a3f5f",
             "gridcolor": "white",
             "linecolor": "white",
             "minorgridcolor": "white",
             "startlinecolor": "#2a3f5f"
            },
            "type": "carpet"
           }
          ],
          "choropleth": [
           {
            "colorbar": {
             "outlinewidth": 0,
             "ticks": ""
            },
            "type": "choropleth"
           }
          ],
          "contour": [
           {
            "colorbar": {
             "outlinewidth": 0,
             "ticks": ""
            },
            "colorscale": [
             [
              0,
              "#0d0887"
             ],
             [
              0.1111111111111111,
              "#46039f"
             ],
             [
              0.2222222222222222,
              "#7201a8"
             ],
             [
              0.3333333333333333,
              "#9c179e"
             ],
             [
              0.4444444444444444,
              "#bd3786"
             ],
             [
              0.5555555555555556,
              "#d8576b"
             ],
             [
              0.6666666666666666,
              "#ed7953"
             ],
             [
              0.7777777777777778,
              "#fb9f3a"
             ],
             [
              0.8888888888888888,
              "#fdca26"
             ],
             [
              1,
              "#f0f921"
             ]
            ],
            "type": "contour"
           }
          ],
          "contourcarpet": [
           {
            "colorbar": {
             "outlinewidth": 0,
             "ticks": ""
            },
            "type": "contourcarpet"
           }
          ],
          "heatmap": [
           {
            "colorbar": {
             "outlinewidth": 0,
             "ticks": ""
            },
            "colorscale": [
             [
              0,
              "#0d0887"
             ],
             [
              0.1111111111111111,
              "#46039f"
             ],
             [
              0.2222222222222222,
              "#7201a8"
             ],
             [
              0.3333333333333333,
              "#9c179e"
             ],
             [
              0.4444444444444444,
              "#bd3786"
             ],
             [
              0.5555555555555556,
              "#d8576b"
             ],
             [
              0.6666666666666666,
              "#ed7953"
             ],
             [
              0.7777777777777778,
              "#fb9f3a"
             ],
             [
              0.8888888888888888,
              "#fdca26"
             ],
             [
              1,
              "#f0f921"
             ]
            ],
            "type": "heatmap"
           }
          ],
          "histogram": [
           {
            "marker": {
             "pattern": {
              "fillmode": "overlay",
              "size": 10,
              "solidity": 0.2
             }
            },
            "type": "histogram"
           }
          ],
          "histogram2d": [
           {
            "colorbar": {
             "outlinewidth": 0,
             "ticks": ""
            },
            "colorscale": [
             [
              0,
              "#0d0887"
             ],
             [
              0.1111111111111111,
              "#46039f"
             ],
             [
              0.2222222222222222,
              "#7201a8"
             ],
             [
              0.3333333333333333,
              "#9c179e"
             ],
             [
              0.4444444444444444,
              "#bd3786"
             ],
             [
              0.5555555555555556,
              "#d8576b"
             ],
             [
              0.6666666666666666,
              "#ed7953"
             ],
             [
              0.7777777777777778,
              "#fb9f3a"
             ],
             [
              0.8888888888888888,
              "#fdca26"
             ],
             [
              1,
              "#f0f921"
             ]
            ],
            "type": "histogram2d"
           }
          ],
          "histogram2dcontour": [
           {
            "colorbar": {
             "outlinewidth": 0,
             "ticks": ""
            },
            "colorscale": [
             [
              0,
              "#0d0887"
             ],
             [
              0.1111111111111111,
              "#46039f"
             ],
             [
              0.2222222222222222,
              "#7201a8"
             ],
             [
              0.3333333333333333,
              "#9c179e"
             ],
             [
              0.4444444444444444,
              "#bd3786"
             ],
             [
              0.5555555555555556,
              "#d8576b"
             ],
             [
              0.6666666666666666,
              "#ed7953"
             ],
             [
              0.7777777777777778,
              "#fb9f3a"
             ],
             [
              0.8888888888888888,
              "#fdca26"
             ],
             [
              1,
              "#f0f921"
             ]
            ],
            "type": "histogram2dcontour"
           }
          ],
          "mesh3d": [
           {
            "colorbar": {
             "outlinewidth": 0,
             "ticks": ""
            },
            "type": "mesh3d"
           }
          ],
          "parcoords": [
           {
            "line": {
             "colorbar": {
              "outlinewidth": 0,
              "ticks": ""
             }
            },
            "type": "parcoords"
           }
          ],
          "pie": [
           {
            "automargin": true,
            "type": "pie"
           }
          ],
          "scatter": [
           {
            "fillpattern": {
             "fillmode": "overlay",
             "size": 10,
             "solidity": 0.2
            },
            "type": "scatter"
           }
          ],
          "scatter3d": [
           {
            "line": {
             "colorbar": {
              "outlinewidth": 0,
              "ticks": ""
             }
            },
            "marker": {
             "colorbar": {
              "outlinewidth": 0,
              "ticks": ""
             }
            },
            "type": "scatter3d"
           }
          ],
          "scattercarpet": [
           {
            "marker": {
             "colorbar": {
              "outlinewidth": 0,
              "ticks": ""
             }
            },
            "type": "scattercarpet"
           }
          ],
          "scattergeo": [
           {
            "marker": {
             "colorbar": {
              "outlinewidth": 0,
              "ticks": ""
             }
            },
            "type": "scattergeo"
           }
          ],
          "scattergl": [
           {
            "marker": {
             "colorbar": {
              "outlinewidth": 0,
              "ticks": ""
             }
            },
            "type": "scattergl"
           }
          ],
          "scattermap": [
           {
            "marker": {
             "colorbar": {
              "outlinewidth": 0,
              "ticks": ""
             }
            },
            "type": "scattermap"
           }
          ],
          "scattermapbox": [
           {
            "marker": {
             "colorbar": {
              "outlinewidth": 0,
              "ticks": ""
             }
            },
            "type": "scattermapbox"
           }
          ],
          "scatterpolar": [
           {
            "marker": {
             "colorbar": {
              "outlinewidth": 0,
              "ticks": ""
             }
            },
            "type": "scatterpolar"
           }
          ],
          "scatterpolargl": [
           {
            "marker": {
             "colorbar": {
              "outlinewidth": 0,
              "ticks": ""
             }
            },
            "type": "scatterpolargl"
           }
          ],
          "scatterternary": [
           {
            "marker": {
             "colorbar": {
              "outlinewidth": 0,
              "ticks": ""
             }
            },
            "type": "scatterternary"
           }
          ],
          "surface": [
           {
            "colorbar": {
             "outlinewidth": 0,
             "ticks": ""
            },
            "colorscale": [
             [
              0,
              "#0d0887"
             ],
             [
              0.1111111111111111,
              "#46039f"
             ],
             [
              0.2222222222222222,
              "#7201a8"
             ],
             [
              0.3333333333333333,
              "#9c179e"
             ],
             [
              0.4444444444444444,
              "#bd3786"
             ],
             [
              0.5555555555555556,
              "#d8576b"
             ],
             [
              0.6666666666666666,
              "#ed7953"
             ],
             [
              0.7777777777777778,
              "#fb9f3a"
             ],
             [
              0.8888888888888888,
              "#fdca26"
             ],
             [
              1,
              "#f0f921"
             ]
            ],
            "type": "surface"
           }
          ],
          "table": [
           {
            "cells": {
             "fill": {
              "color": "#EBF0F8"
             },
             "line": {
              "color": "white"
             }
            },
            "header": {
             "fill": {
              "color": "#C8D4E3"
             },
             "line": {
              "color": "white"
             }
            },
            "type": "table"
           }
          ]
         },
         "layout": {
          "annotationdefaults": {
           "arrowcolor": "#2a3f5f",
           "arrowhead": 0,
           "arrowwidth": 1
          },
          "autotypenumbers": "strict",
          "coloraxis": {
           "colorbar": {
            "outlinewidth": 0,
            "ticks": ""
           }
          },
          "colorscale": {
           "diverging": [
            [
             0,
             "#8e0152"
            ],
            [
             0.1,
             "#c51b7d"
            ],
            [
             0.2,
             "#de77ae"
            ],
            [
             0.3,
             "#f1b6da"
            ],
            [
             0.4,
             "#fde0ef"
            ],
            [
             0.5,
             "#f7f7f7"
            ],
            [
             0.6,
             "#e6f5d0"
            ],
            [
             0.7,
             "#b8e186"
            ],
            [
             0.8,
             "#7fbc41"
            ],
            [
             0.9,
             "#4d9221"
            ],
            [
             1,
             "#276419"
            ]
           ],
           "sequential": [
            [
             0,
             "#0d0887"
            ],
            [
             0.1111111111111111,
             "#46039f"
            ],
            [
             0.2222222222222222,
             "#7201a8"
            ],
            [
             0.3333333333333333,
             "#9c179e"
            ],
            [
             0.4444444444444444,
             "#bd3786"
            ],
            [
             0.5555555555555556,
             "#d8576b"
            ],
            [
             0.6666666666666666,
             "#ed7953"
            ],
            [
             0.7777777777777778,
             "#fb9f3a"
            ],
            [
             0.8888888888888888,
             "#fdca26"
            ],
            [
             1,
             "#f0f921"
            ]
           ],
           "sequentialminus": [
            [
             0,
             "#0d0887"
            ],
            [
             0.1111111111111111,
             "#46039f"
            ],
            [
             0.2222222222222222,
             "#7201a8"
            ],
            [
             0.3333333333333333,
             "#9c179e"
            ],
            [
             0.4444444444444444,
             "#bd3786"
            ],
            [
             0.5555555555555556,
             "#d8576b"
            ],
            [
             0.6666666666666666,
             "#ed7953"
            ],
            [
             0.7777777777777778,
             "#fb9f3a"
            ],
            [
             0.8888888888888888,
             "#fdca26"
            ],
            [
             1,
             "#f0f921"
            ]
           ]
          },
          "colorway": [
           "#636efa",
           "#EF553B",
           "#00cc96",
           "#ab63fa",
           "#FFA15A",
           "#19d3f3",
           "#FF6692",
           "#B6E880",
           "#FF97FF",
           "#FECB52"
          ],
          "font": {
           "color": "#2a3f5f"
          },
          "geo": {
           "bgcolor": "white",
           "lakecolor": "white",
           "landcolor": "#E5ECF6",
           "showlakes": true,
           "showland": true,
           "subunitcolor": "white"
          },
          "hoverlabel": {
           "align": "left"
          },
          "hovermode": "closest",
          "mapbox": {
           "style": "light"
          },
          "paper_bgcolor": "white",
          "plot_bgcolor": "#E5ECF6",
          "polar": {
           "angularaxis": {
            "gridcolor": "white",
            "linecolor": "white",
            "ticks": ""
           },
           "bgcolor": "#E5ECF6",
           "radialaxis": {
            "gridcolor": "white",
            "linecolor": "white",
            "ticks": ""
           }
          },
          "scene": {
           "xaxis": {
            "backgroundcolor": "#E5ECF6",
            "gridcolor": "white",
            "gridwidth": 2,
            "linecolor": "white",
            "showbackground": true,
            "ticks": "",
            "zerolinecolor": "white"
           },
           "yaxis": {
            "backgroundcolor": "#E5ECF6",
            "gridcolor": "white",
            "gridwidth": 2,
            "linecolor": "white",
            "showbackground": true,
            "ticks": "",
            "zerolinecolor": "white"
           },
           "zaxis": {
            "backgroundcolor": "#E5ECF6",
            "gridcolor": "white",
            "gridwidth": 2,
            "linecolor": "white",
            "showbackground": true,
            "ticks": "",
            "zerolinecolor": "white"
           }
          },
          "shapedefaults": {
           "line": {
            "color": "#2a3f5f"
           }
          },
          "ternary": {
           "aaxis": {
            "gridcolor": "white",
            "linecolor": "white",
            "ticks": ""
           },
           "baxis": {
            "gridcolor": "white",
            "linecolor": "white",
            "ticks": ""
           },
           "bgcolor": "#E5ECF6",
           "caxis": {
            "gridcolor": "white",
            "linecolor": "white",
            "ticks": ""
           }
          },
          "title": {
           "x": 0.05
          },
          "xaxis": {
           "automargin": true,
           "gridcolor": "white",
           "linecolor": "white",
           "ticks": "",
           "title": {
            "standoff": 15
           },
           "zerolinecolor": "white",
           "zerolinewidth": 2
          },
          "yaxis": {
           "automargin": true,
           "gridcolor": "white",
           "linecolor": "white",
           "ticks": "",
           "title": {
            "standoff": 15
           },
           "zerolinecolor": "white",
           "zerolinewidth": 2
          }
         }
        },
        "title": {
         "text": "Optimization History Plot"
        },
        "xaxis": {
         "title": {
          "text": "Trial"
         }
        },
        "yaxis": {
         "title": {
          "text": "Objective Value"
         }
        }
       }
      }
     },
     "metadata": {},
     "output_type": "display_data"
    }
   ],
   "source": [
    "# --- Visualizar y Guardar Resultados de Optuna ---\n",
    "plot_optimization_history(study)"
   ]
  },
  {
   "cell_type": "code",
   "execution_count": null,
   "id": "9104839f",
   "metadata": {},
   "outputs": [
    {
     "name": "stdout",
     "output_type": "stream",
     "text": [
      "Mejores hiperparámetros encontrados:\n",
      "{'units1': 64, 'dense_units': 112, 'dense_activation': 'tanh', 'dropout': 0.1382843186220748, 'learning_rate': 0.00010768041003832457, 'optimizer': 'adamw', 'batch_size': 128, 'patience': 14}\n",
      "Mejor score de 'f1-score': 0.3596\n"
     ]
    }
   ],
   "source": [
    "print(\"Mejores hiperparámetros encontrados:\")\n",
    "best_params = study.best_params\n",
    "print(best_params)\n",
    "print(f\"Mejor score de '{SCORE}': {study.best_value:.4f}\")"
   ]
  },
  {
   "cell_type": "code",
   "execution_count": null,
   "id": "2ca8befd",
   "metadata": {},
   "outputs": [
    {
     "data": {
      "application/vnd.plotly.v1+json": {
       "config": {
        "plotlyServerURL": "https://plot.ly"
       },
       "data": [
        {
         "cliponaxis": false,
         "hovertemplate": [
          "batch_size (CategoricalDistribution): 0.022945867026503638<extra></extra>",
          "learning_rate (FloatDistribution): 0.043516923485929115<extra></extra>",
          "dense_activation (CategoricalDistribution): 0.05165944107044209<extra></extra>",
          "units1 (IntDistribution): 0.053374680864637716<extra></extra>",
          "patience (IntDistribution): 0.07896298809189542<extra></extra>",
          "optimizer (CategoricalDistribution): 0.08003547202129821<extra></extra>",
          "dense_units (IntDistribution): 0.1267272311831003<extra></extra>",
          "dropout (FloatDistribution): 0.5427773962561935<extra></extra>"
         ],
         "name": "Objective Value",
         "orientation": "h",
         "text": [
          "0.02",
          "0.04",
          "0.05",
          "0.05",
          "0.08",
          "0.08",
          "0.13",
          "0.54"
         ],
         "textposition": "outside",
         "type": "bar",
         "x": [
          0.022945867026503638,
          0.043516923485929115,
          0.05165944107044209,
          0.053374680864637716,
          0.07896298809189542,
          0.08003547202129821,
          0.1267272311831003,
          0.5427773962561935
         ],
         "y": [
          "batch_size",
          "learning_rate",
          "dense_activation",
          "units1",
          "patience",
          "optimizer",
          "dense_units",
          "dropout"
         ]
        }
       ],
       "layout": {
        "template": {
         "data": {
          "bar": [
           {
            "error_x": {
             "color": "#2a3f5f"
            },
            "error_y": {
             "color": "#2a3f5f"
            },
            "marker": {
             "line": {
              "color": "#E5ECF6",
              "width": 0.5
             },
             "pattern": {
              "fillmode": "overlay",
              "size": 10,
              "solidity": 0.2
             }
            },
            "type": "bar"
           }
          ],
          "barpolar": [
           {
            "marker": {
             "line": {
              "color": "#E5ECF6",
              "width": 0.5
             },
             "pattern": {
              "fillmode": "overlay",
              "size": 10,
              "solidity": 0.2
             }
            },
            "type": "barpolar"
           }
          ],
          "carpet": [
           {
            "aaxis": {
             "endlinecolor": "#2a3f5f",
             "gridcolor": "white",
             "linecolor": "white",
             "minorgridcolor": "white",
             "startlinecolor": "#2a3f5f"
            },
            "baxis": {
             "endlinecolor": "#2a3f5f",
             "gridcolor": "white",
             "linecolor": "white",
             "minorgridcolor": "white",
             "startlinecolor": "#2a3f5f"
            },
            "type": "carpet"
           }
          ],
          "choropleth": [
           {
            "colorbar": {
             "outlinewidth": 0,
             "ticks": ""
            },
            "type": "choropleth"
           }
          ],
          "contour": [
           {
            "colorbar": {
             "outlinewidth": 0,
             "ticks": ""
            },
            "colorscale": [
             [
              0,
              "#0d0887"
             ],
             [
              0.1111111111111111,
              "#46039f"
             ],
             [
              0.2222222222222222,
              "#7201a8"
             ],
             [
              0.3333333333333333,
              "#9c179e"
             ],
             [
              0.4444444444444444,
              "#bd3786"
             ],
             [
              0.5555555555555556,
              "#d8576b"
             ],
             [
              0.6666666666666666,
              "#ed7953"
             ],
             [
              0.7777777777777778,
              "#fb9f3a"
             ],
             [
              0.8888888888888888,
              "#fdca26"
             ],
             [
              1,
              "#f0f921"
             ]
            ],
            "type": "contour"
           }
          ],
          "contourcarpet": [
           {
            "colorbar": {
             "outlinewidth": 0,
             "ticks": ""
            },
            "type": "contourcarpet"
           }
          ],
          "heatmap": [
           {
            "colorbar": {
             "outlinewidth": 0,
             "ticks": ""
            },
            "colorscale": [
             [
              0,
              "#0d0887"
             ],
             [
              0.1111111111111111,
              "#46039f"
             ],
             [
              0.2222222222222222,
              "#7201a8"
             ],
             [
              0.3333333333333333,
              "#9c179e"
             ],
             [
              0.4444444444444444,
              "#bd3786"
             ],
             [
              0.5555555555555556,
              "#d8576b"
             ],
             [
              0.6666666666666666,
              "#ed7953"
             ],
             [
              0.7777777777777778,
              "#fb9f3a"
             ],
             [
              0.8888888888888888,
              "#fdca26"
             ],
             [
              1,
              "#f0f921"
             ]
            ],
            "type": "heatmap"
           }
          ],
          "histogram": [
           {
            "marker": {
             "pattern": {
              "fillmode": "overlay",
              "size": 10,
              "solidity": 0.2
             }
            },
            "type": "histogram"
           }
          ],
          "histogram2d": [
           {
            "colorbar": {
             "outlinewidth": 0,
             "ticks": ""
            },
            "colorscale": [
             [
              0,
              "#0d0887"
             ],
             [
              0.1111111111111111,
              "#46039f"
             ],
             [
              0.2222222222222222,
              "#7201a8"
             ],
             [
              0.3333333333333333,
              "#9c179e"
             ],
             [
              0.4444444444444444,
              "#bd3786"
             ],
             [
              0.5555555555555556,
              "#d8576b"
             ],
             [
              0.6666666666666666,
              "#ed7953"
             ],
             [
              0.7777777777777778,
              "#fb9f3a"
             ],
             [
              0.8888888888888888,
              "#fdca26"
             ],
             [
              1,
              "#f0f921"
             ]
            ],
            "type": "histogram2d"
           }
          ],
          "histogram2dcontour": [
           {
            "colorbar": {
             "outlinewidth": 0,
             "ticks": ""
            },
            "colorscale": [
             [
              0,
              "#0d0887"
             ],
             [
              0.1111111111111111,
              "#46039f"
             ],
             [
              0.2222222222222222,
              "#7201a8"
             ],
             [
              0.3333333333333333,
              "#9c179e"
             ],
             [
              0.4444444444444444,
              "#bd3786"
             ],
             [
              0.5555555555555556,
              "#d8576b"
             ],
             [
              0.6666666666666666,
              "#ed7953"
             ],
             [
              0.7777777777777778,
              "#fb9f3a"
             ],
             [
              0.8888888888888888,
              "#fdca26"
             ],
             [
              1,
              "#f0f921"
             ]
            ],
            "type": "histogram2dcontour"
           }
          ],
          "mesh3d": [
           {
            "colorbar": {
             "outlinewidth": 0,
             "ticks": ""
            },
            "type": "mesh3d"
           }
          ],
          "parcoords": [
           {
            "line": {
             "colorbar": {
              "outlinewidth": 0,
              "ticks": ""
             }
            },
            "type": "parcoords"
           }
          ],
          "pie": [
           {
            "automargin": true,
            "type": "pie"
           }
          ],
          "scatter": [
           {
            "fillpattern": {
             "fillmode": "overlay",
             "size": 10,
             "solidity": 0.2
            },
            "type": "scatter"
           }
          ],
          "scatter3d": [
           {
            "line": {
             "colorbar": {
              "outlinewidth": 0,
              "ticks": ""
             }
            },
            "marker": {
             "colorbar": {
              "outlinewidth": 0,
              "ticks": ""
             }
            },
            "type": "scatter3d"
           }
          ],
          "scattercarpet": [
           {
            "marker": {
             "colorbar": {
              "outlinewidth": 0,
              "ticks": ""
             }
            },
            "type": "scattercarpet"
           }
          ],
          "scattergeo": [
           {
            "marker": {
             "colorbar": {
              "outlinewidth": 0,
              "ticks": ""
             }
            },
            "type": "scattergeo"
           }
          ],
          "scattergl": [
           {
            "marker": {
             "colorbar": {
              "outlinewidth": 0,
              "ticks": ""
             }
            },
            "type": "scattergl"
           }
          ],
          "scattermap": [
           {
            "marker": {
             "colorbar": {
              "outlinewidth": 0,
              "ticks": ""
             }
            },
            "type": "scattermap"
           }
          ],
          "scattermapbox": [
           {
            "marker": {
             "colorbar": {
              "outlinewidth": 0,
              "ticks": ""
             }
            },
            "type": "scattermapbox"
           }
          ],
          "scatterpolar": [
           {
            "marker": {
             "colorbar": {
              "outlinewidth": 0,
              "ticks": ""
             }
            },
            "type": "scatterpolar"
           }
          ],
          "scatterpolargl": [
           {
            "marker": {
             "colorbar": {
              "outlinewidth": 0,
              "ticks": ""
             }
            },
            "type": "scatterpolargl"
           }
          ],
          "scatterternary": [
           {
            "marker": {
             "colorbar": {
              "outlinewidth": 0,
              "ticks": ""
             }
            },
            "type": "scatterternary"
           }
          ],
          "surface": [
           {
            "colorbar": {
             "outlinewidth": 0,
             "ticks": ""
            },
            "colorscale": [
             [
              0,
              "#0d0887"
             ],
             [
              0.1111111111111111,
              "#46039f"
             ],
             [
              0.2222222222222222,
              "#7201a8"
             ],
             [
              0.3333333333333333,
              "#9c179e"
             ],
             [
              0.4444444444444444,
              "#bd3786"
             ],
             [
              0.5555555555555556,
              "#d8576b"
             ],
             [
              0.6666666666666666,
              "#ed7953"
             ],
             [
              0.7777777777777778,
              "#fb9f3a"
             ],
             [
              0.8888888888888888,
              "#fdca26"
             ],
             [
              1,
              "#f0f921"
             ]
            ],
            "type": "surface"
           }
          ],
          "table": [
           {
            "cells": {
             "fill": {
              "color": "#EBF0F8"
             },
             "line": {
              "color": "white"
             }
            },
            "header": {
             "fill": {
              "color": "#C8D4E3"
             },
             "line": {
              "color": "white"
             }
            },
            "type": "table"
           }
          ]
         },
         "layout": {
          "annotationdefaults": {
           "arrowcolor": "#2a3f5f",
           "arrowhead": 0,
           "arrowwidth": 1
          },
          "autotypenumbers": "strict",
          "coloraxis": {
           "colorbar": {
            "outlinewidth": 0,
            "ticks": ""
           }
          },
          "colorscale": {
           "diverging": [
            [
             0,
             "#8e0152"
            ],
            [
             0.1,
             "#c51b7d"
            ],
            [
             0.2,
             "#de77ae"
            ],
            [
             0.3,
             "#f1b6da"
            ],
            [
             0.4,
             "#fde0ef"
            ],
            [
             0.5,
             "#f7f7f7"
            ],
            [
             0.6,
             "#e6f5d0"
            ],
            [
             0.7,
             "#b8e186"
            ],
            [
             0.8,
             "#7fbc41"
            ],
            [
             0.9,
             "#4d9221"
            ],
            [
             1,
             "#276419"
            ]
           ],
           "sequential": [
            [
             0,
             "#0d0887"
            ],
            [
             0.1111111111111111,
             "#46039f"
            ],
            [
             0.2222222222222222,
             "#7201a8"
            ],
            [
             0.3333333333333333,
             "#9c179e"
            ],
            [
             0.4444444444444444,
             "#bd3786"
            ],
            [
             0.5555555555555556,
             "#d8576b"
            ],
            [
             0.6666666666666666,
             "#ed7953"
            ],
            [
             0.7777777777777778,
             "#fb9f3a"
            ],
            [
             0.8888888888888888,
             "#fdca26"
            ],
            [
             1,
             "#f0f921"
            ]
           ],
           "sequentialminus": [
            [
             0,
             "#0d0887"
            ],
            [
             0.1111111111111111,
             "#46039f"
            ],
            [
             0.2222222222222222,
             "#7201a8"
            ],
            [
             0.3333333333333333,
             "#9c179e"
            ],
            [
             0.4444444444444444,
             "#bd3786"
            ],
            [
             0.5555555555555556,
             "#d8576b"
            ],
            [
             0.6666666666666666,
             "#ed7953"
            ],
            [
             0.7777777777777778,
             "#fb9f3a"
            ],
            [
             0.8888888888888888,
             "#fdca26"
            ],
            [
             1,
             "#f0f921"
            ]
           ]
          },
          "colorway": [
           "#636efa",
           "#EF553B",
           "#00cc96",
           "#ab63fa",
           "#FFA15A",
           "#19d3f3",
           "#FF6692",
           "#B6E880",
           "#FF97FF",
           "#FECB52"
          ],
          "font": {
           "color": "#2a3f5f"
          },
          "geo": {
           "bgcolor": "white",
           "lakecolor": "white",
           "landcolor": "#E5ECF6",
           "showlakes": true,
           "showland": true,
           "subunitcolor": "white"
          },
          "hoverlabel": {
           "align": "left"
          },
          "hovermode": "closest",
          "mapbox": {
           "style": "light"
          },
          "paper_bgcolor": "white",
          "plot_bgcolor": "#E5ECF6",
          "polar": {
           "angularaxis": {
            "gridcolor": "white",
            "linecolor": "white",
            "ticks": ""
           },
           "bgcolor": "#E5ECF6",
           "radialaxis": {
            "gridcolor": "white",
            "linecolor": "white",
            "ticks": ""
           }
          },
          "scene": {
           "xaxis": {
            "backgroundcolor": "#E5ECF6",
            "gridcolor": "white",
            "gridwidth": 2,
            "linecolor": "white",
            "showbackground": true,
            "ticks": "",
            "zerolinecolor": "white"
           },
           "yaxis": {
            "backgroundcolor": "#E5ECF6",
            "gridcolor": "white",
            "gridwidth": 2,
            "linecolor": "white",
            "showbackground": true,
            "ticks": "",
            "zerolinecolor": "white"
           },
           "zaxis": {
            "backgroundcolor": "#E5ECF6",
            "gridcolor": "white",
            "gridwidth": 2,
            "linecolor": "white",
            "showbackground": true,
            "ticks": "",
            "zerolinecolor": "white"
           }
          },
          "shapedefaults": {
           "line": {
            "color": "#2a3f5f"
           }
          },
          "ternary": {
           "aaxis": {
            "gridcolor": "white",
            "linecolor": "white",
            "ticks": ""
           },
           "baxis": {
            "gridcolor": "white",
            "linecolor": "white",
            "ticks": ""
           },
           "bgcolor": "#E5ECF6",
           "caxis": {
            "gridcolor": "white",
            "linecolor": "white",
            "ticks": ""
           }
          },
          "title": {
           "x": 0.05
          },
          "xaxis": {
           "automargin": true,
           "gridcolor": "white",
           "linecolor": "white",
           "ticks": "",
           "title": {
            "standoff": 15
           },
           "zerolinecolor": "white",
           "zerolinewidth": 2
          },
          "yaxis": {
           "automargin": true,
           "gridcolor": "white",
           "linecolor": "white",
           "ticks": "",
           "title": {
            "standoff": 15
           },
           "zerolinecolor": "white",
           "zerolinewidth": 2
          }
         }
        },
        "title": {
         "text": "Hyperparameter Importances"
        },
        "xaxis": {
         "title": {
          "text": "Hyperparameter Importance"
         }
        },
        "yaxis": {
         "title": {
          "text": "Hyperparameter"
         }
        }
       }
      }
     },
     "metadata": {},
     "output_type": "display_data"
    },
    {
     "data": {
      "application/vnd.plotly.v1+json": {
       "config": {
        "plotlyServerURL": "https://plot.ly"
       },
       "data": [
        {
         "marker": {
          "color": [
           0,
           1,
           2,
           3,
           4,
           5,
           6,
           7,
           8,
           9,
           10,
           11,
           12,
           13,
           14,
           15,
           16,
           17,
           18,
           19,
           20,
           21,
           22,
           23,
           24,
           25,
           26,
           27,
           28,
           29,
           30,
           31,
           32,
           33,
           34,
           35,
           36,
           37,
           38,
           39,
           40,
           41,
           42,
           43,
           44,
           45,
           46,
           47,
           48,
           49,
           50,
           51,
           52,
           53,
           54,
           55,
           56,
           57,
           58,
           59,
           60,
           61,
           62,
           63,
           64,
           65,
           66,
           67,
           68,
           69,
           70,
           71,
           72,
           73,
           74,
           75,
           76,
           77,
           78,
           79,
           80,
           81,
           82,
           83,
           84,
           85,
           86,
           87,
           88,
           89,
           90,
           91,
           92,
           93,
           94,
           95,
           96,
           97,
           98,
           99,
           100,
           101,
           102,
           103,
           104,
           105,
           106,
           107,
           108,
           109,
           110,
           111,
           112,
           113,
           114,
           115,
           116,
           117,
           118,
           119,
           120,
           121,
           122,
           123,
           124
          ],
          "colorbar": {
           "title": {
            "text": "Trial"
           },
           "x": 1,
           "xpad": 40
          },
          "colorscale": [
           [
            0,
            "rgb(247,251,255)"
           ],
           [
            0.125,
            "rgb(222,235,247)"
           ],
           [
            0.25,
            "rgb(198,219,239)"
           ],
           [
            0.375,
            "rgb(158,202,225)"
           ],
           [
            0.5,
            "rgb(107,174,214)"
           ],
           [
            0.625,
            "rgb(66,146,198)"
           ],
           [
            0.75,
            "rgb(33,113,181)"
           ],
           [
            0.875,
            "rgb(8,81,156)"
           ],
           [
            1,
            "rgb(8,48,107)"
           ]
          ],
          "line": {
           "color": "Grey",
           "width": 0.5
          },
          "showscale": true
         },
         "mode": "markers",
         "name": "Feasible Trial",
         "showlegend": false,
         "type": "scatter",
         "x": [
          128,
          64,
          64,
          64,
          64,
          128,
          128,
          64,
          32,
          32,
          128,
          128,
          128,
          64,
          32,
          64,
          128,
          128,
          128,
          128,
          128,
          128,
          64,
          32,
          128,
          64,
          128,
          128,
          128,
          128,
          128,
          128,
          128,
          128,
          128,
          128,
          128,
          128,
          128,
          32,
          128,
          128,
          128,
          128,
          128,
          128,
          32,
          128,
          128,
          128,
          64,
          128,
          128,
          128,
          128,
          128,
          32,
          128,
          128,
          64,
          128,
          128,
          128,
          128,
          128,
          128,
          128,
          128,
          128,
          32,
          64,
          64,
          64,
          64,
          64,
          64,
          128,
          128,
          128,
          128,
          128,
          128,
          128,
          128,
          128,
          128,
          128,
          64,
          32,
          128,
          128,
          128,
          128,
          128,
          128,
          128,
          128,
          128,
          128,
          128,
          64,
          128,
          128,
          128,
          128,
          128,
          128,
          128,
          128,
          32,
          128,
          128,
          128,
          128,
          128,
          128,
          128,
          128,
          64,
          128,
          128,
          64,
          64,
          64,
          64
         ],
         "xaxis": "x",
         "y": [
          0.05,
          0.045454545454545456,
          0.09230769230769231,
          0,
          0.034482758620689655,
          0.19230769230769232,
          0.03571428571428571,
          0.16129032258064516,
          0,
          0,
          0,
          0,
          0.07017543859649122,
          0,
          0,
          0,
          0.20454545454545456,
          0,
          0,
          0,
          0,
          0.10526315789473684,
          0,
          0.12307692307692308,
          0.04,
          0,
          0.23255813953488372,
          0.21621621621621623,
          0,
          0.07272727272727272,
          0.20689655172413793,
          0.23622047244094488,
          0.225,
          0.125,
          0.08823529411764706,
          0.2222222222222222,
          0.11428571428571428,
          0.13636363636363635,
          0.09523809523809523,
          0.1568627450980392,
          0.18421052631578946,
          0.22988505747126436,
          0.1111111111111111,
          0,
          0,
          0.11428571428571428,
          0.125,
          0.12698412698412698,
          0.2077922077922078,
          0.2268041237113402,
          0.1568627450980392,
          0.2765957446808511,
          0.27586206896551724,
          0.18666666666666668,
          0.0392156862745098,
          0.17543859649122806,
          0.175,
          0.12307692307692308,
          0,
          0.05970149253731343,
          0.16666666666666666,
          0.18045112781954886,
          0.16,
          0.2028985507246377,
          0.20754716981132076,
          0.09523809523809523,
          0,
          0.12244897959183673,
          0.15384615384615385,
          0.1694915254237288,
          0.2524271844660194,
          0.2,
          0.15384615384615385,
          0.20454545454545456,
          0.16560509554140126,
          0,
          0.1518987341772152,
          0.22608695652173913,
          0,
          0.15254237288135594,
          0.18556701030927836,
          0.1414141414141414,
          0.26506024096385544,
          0.1095890410958904,
          0.06557377049180328,
          0.3333333333333333,
          0.18181818181818182,
          0.1038961038961039,
          0.16901408450704225,
          0.04081632653061224,
          0,
          0.09836065573770492,
          0.24,
          0.2857142857142857,
          0.17721518987341772,
          0.22641509433962265,
          0.1509433962264151,
          0.19875776397515527,
          0.14634146341463414,
          0,
          0.10434782608695652,
          0.24,
          0.1794871794871795,
          0.20454545454545456,
          0.20689655172413793,
          0.3595505617977528,
          0.22,
          0.21176470588235294,
          0.038461538461538464,
          0,
          0.2268041237113402,
          0.21568627450980393,
          0.25806451612903225,
          0.10909090909090909,
          0.30985915492957744,
          0.10909090909090909,
          0.25316455696202533,
          0.07547169811320754,
          0.23880597014925373,
          0.12307692307692308,
          0.20168067226890757,
          0,
          0.13157894736842105,
          0.1276595744680851,
          0.16901408450704225
         ],
         "yaxis": "y"
        },
        {
         "marker": {
          "color": [
           0,
           1,
           2,
           3,
           4,
           5,
           6,
           7,
           8,
           9,
           10,
           11,
           12,
           13,
           14,
           15,
           16,
           17,
           18,
           19,
           20,
           21,
           22,
           23,
           24,
           25,
           26,
           27,
           28,
           29,
           30,
           31,
           32,
           33,
           34,
           35,
           36,
           37,
           38,
           39,
           40,
           41,
           42,
           43,
           44,
           45,
           46,
           47,
           48,
           49,
           50,
           51,
           52,
           53,
           54,
           55,
           56,
           57,
           58,
           59,
           60,
           61,
           62,
           63,
           64,
           65,
           66,
           67,
           68,
           69,
           70,
           71,
           72,
           73,
           74,
           75,
           76,
           77,
           78,
           79,
           80,
           81,
           82,
           83,
           84,
           85,
           86,
           87,
           88,
           89,
           90,
           91,
           92,
           93,
           94,
           95,
           96,
           97,
           98,
           99,
           100,
           101,
           102,
           103,
           104,
           105,
           106,
           107,
           108,
           109,
           110,
           111,
           112,
           113,
           114,
           115,
           116,
           117,
           118,
           119,
           120,
           121,
           122,
           123,
           124
          ],
          "colorbar": {
           "title": {
            "text": "Trial"
           },
           "x": 1,
           "xpad": 40
          },
          "colorscale": [
           [
            0,
            "rgb(247,251,255)"
           ],
           [
            0.125,
            "rgb(222,235,247)"
           ],
           [
            0.25,
            "rgb(198,219,239)"
           ],
           [
            0.375,
            "rgb(158,202,225)"
           ],
           [
            0.5,
            "rgb(107,174,214)"
           ],
           [
            0.625,
            "rgb(66,146,198)"
           ],
           [
            0.75,
            "rgb(33,113,181)"
           ],
           [
            0.875,
            "rgb(8,81,156)"
           ],
           [
            1,
            "rgb(8,48,107)"
           ]
          ],
          "line": {
           "color": "Grey",
           "width": 0.5
          },
          "showscale": false
         },
         "mode": "markers",
         "name": "Feasible Trial",
         "showlegend": false,
         "type": "scatter",
         "x": [
          "tanh",
          "tanh",
          "relu",
          "tanh",
          "relu",
          "relu",
          "tanh",
          "relu",
          "relu",
          "tanh",
          "relu",
          "relu",
          "relu",
          "relu",
          "relu",
          "relu",
          "relu",
          "relu",
          "relu",
          "relu",
          "relu",
          "relu",
          "relu",
          "relu",
          "relu",
          "relu",
          "tanh",
          "tanh",
          "tanh",
          "tanh",
          "tanh",
          "tanh",
          "tanh",
          "tanh",
          "tanh",
          "tanh",
          "tanh",
          "tanh",
          "tanh",
          "tanh",
          "tanh",
          "tanh",
          "tanh",
          "tanh",
          "tanh",
          "tanh",
          "tanh",
          "tanh",
          "tanh",
          "tanh",
          "tanh",
          "tanh",
          "tanh",
          "tanh",
          "tanh",
          "tanh",
          "tanh",
          "tanh",
          "tanh",
          "tanh",
          "tanh",
          "tanh",
          "tanh",
          "tanh",
          "tanh",
          "tanh",
          "tanh",
          "tanh",
          "tanh",
          "tanh",
          "tanh",
          "tanh",
          "tanh",
          "tanh",
          "tanh",
          "tanh",
          "tanh",
          "tanh",
          "tanh",
          "tanh",
          "tanh",
          "tanh",
          "tanh",
          "tanh",
          "tanh",
          "tanh",
          "tanh",
          "tanh",
          "tanh",
          "tanh",
          "relu",
          "tanh",
          "tanh",
          "tanh",
          "tanh",
          "tanh",
          "tanh",
          "tanh",
          "tanh",
          "tanh",
          "tanh",
          "tanh",
          "tanh",
          "tanh",
          "tanh",
          "tanh",
          "tanh",
          "relu",
          "tanh",
          "tanh",
          "tanh",
          "tanh",
          "tanh",
          "tanh",
          "tanh",
          "tanh",
          "tanh",
          "tanh",
          "tanh",
          "tanh",
          "tanh",
          "tanh",
          "tanh",
          "tanh",
          "tanh"
         ],
         "xaxis": "x2",
         "y": [
          0.05,
          0.045454545454545456,
          0.09230769230769231,
          0,
          0.034482758620689655,
          0.19230769230769232,
          0.03571428571428571,
          0.16129032258064516,
          0,
          0,
          0,
          0,
          0.07017543859649122,
          0,
          0,
          0,
          0.20454545454545456,
          0,
          0,
          0,
          0,
          0.10526315789473684,
          0,
          0.12307692307692308,
          0.04,
          0,
          0.23255813953488372,
          0.21621621621621623,
          0,
          0.07272727272727272,
          0.20689655172413793,
          0.23622047244094488,
          0.225,
          0.125,
          0.08823529411764706,
          0.2222222222222222,
          0.11428571428571428,
          0.13636363636363635,
          0.09523809523809523,
          0.1568627450980392,
          0.18421052631578946,
          0.22988505747126436,
          0.1111111111111111,
          0,
          0,
          0.11428571428571428,
          0.125,
          0.12698412698412698,
          0.2077922077922078,
          0.2268041237113402,
          0.1568627450980392,
          0.2765957446808511,
          0.27586206896551724,
          0.18666666666666668,
          0.0392156862745098,
          0.17543859649122806,
          0.175,
          0.12307692307692308,
          0,
          0.05970149253731343,
          0.16666666666666666,
          0.18045112781954886,
          0.16,
          0.2028985507246377,
          0.20754716981132076,
          0.09523809523809523,
          0,
          0.12244897959183673,
          0.15384615384615385,
          0.1694915254237288,
          0.2524271844660194,
          0.2,
          0.15384615384615385,
          0.20454545454545456,
          0.16560509554140126,
          0,
          0.1518987341772152,
          0.22608695652173913,
          0,
          0.15254237288135594,
          0.18556701030927836,
          0.1414141414141414,
          0.26506024096385544,
          0.1095890410958904,
          0.06557377049180328,
          0.3333333333333333,
          0.18181818181818182,
          0.1038961038961039,
          0.16901408450704225,
          0.04081632653061224,
          0,
          0.09836065573770492,
          0.24,
          0.2857142857142857,
          0.17721518987341772,
          0.22641509433962265,
          0.1509433962264151,
          0.19875776397515527,
          0.14634146341463414,
          0,
          0.10434782608695652,
          0.24,
          0.1794871794871795,
          0.20454545454545456,
          0.20689655172413793,
          0.3595505617977528,
          0.22,
          0.21176470588235294,
          0.038461538461538464,
          0,
          0.2268041237113402,
          0.21568627450980393,
          0.25806451612903225,
          0.10909090909090909,
          0.30985915492957744,
          0.10909090909090909,
          0.25316455696202533,
          0.07547169811320754,
          0.23880597014925373,
          0.12307692307692308,
          0.20168067226890757,
          0,
          0.13157894736842105,
          0.1276595744680851,
          0.16901408450704225
         ],
         "yaxis": "y2"
        },
        {
         "marker": {
          "color": [
           0,
           1,
           2,
           3,
           4,
           5,
           6,
           7,
           8,
           9,
           10,
           11,
           12,
           13,
           14,
           15,
           16,
           17,
           18,
           19,
           20,
           21,
           22,
           23,
           24,
           25,
           26,
           27,
           28,
           29,
           30,
           31,
           32,
           33,
           34,
           35,
           36,
           37,
           38,
           39,
           40,
           41,
           42,
           43,
           44,
           45,
           46,
           47,
           48,
           49,
           50,
           51,
           52,
           53,
           54,
           55,
           56,
           57,
           58,
           59,
           60,
           61,
           62,
           63,
           64,
           65,
           66,
           67,
           68,
           69,
           70,
           71,
           72,
           73,
           74,
           75,
           76,
           77,
           78,
           79,
           80,
           81,
           82,
           83,
           84,
           85,
           86,
           87,
           88,
           89,
           90,
           91,
           92,
           93,
           94,
           95,
           96,
           97,
           98,
           99,
           100,
           101,
           102,
           103,
           104,
           105,
           106,
           107,
           108,
           109,
           110,
           111,
           112,
           113,
           114,
           115,
           116,
           117,
           118,
           119,
           120,
           121,
           122,
           123,
           124
          ],
          "colorbar": {
           "title": {
            "text": "Trial"
           },
           "x": 1,
           "xpad": 40
          },
          "colorscale": [
           [
            0,
            "rgb(247,251,255)"
           ],
           [
            0.125,
            "rgb(222,235,247)"
           ],
           [
            0.25,
            "rgb(198,219,239)"
           ],
           [
            0.375,
            "rgb(158,202,225)"
           ],
           [
            0.5,
            "rgb(107,174,214)"
           ],
           [
            0.625,
            "rgb(66,146,198)"
           ],
           [
            0.75,
            "rgb(33,113,181)"
           ],
           [
            0.875,
            "rgb(8,81,156)"
           ],
           [
            1,
            "rgb(8,48,107)"
           ]
          ],
          "line": {
           "color": "Grey",
           "width": 0.5
          },
          "showscale": false
         },
         "mode": "markers",
         "name": "Feasible Trial",
         "showlegend": false,
         "type": "scatter",
         "x": [
          160,
          224,
          240,
          256,
          112,
          48,
          64,
          256,
          192,
          128,
          16,
          80,
          16,
          176,
          80,
          208,
          48,
          48,
          48,
          112,
          32,
          144,
          96,
          64,
          48,
          160,
          96,
          96,
          96,
          128,
          80,
          80,
          96,
          112,
          96,
          144,
          144,
          160,
          128,
          64,
          176,
          112,
          112,
          144,
          112,
          80,
          128,
          96,
          64,
          176,
          208,
          176,
          176,
          192,
          240,
          176,
          192,
          208,
          160,
          224,
          176,
          80,
          160,
          112,
          128,
          192,
          96,
          176,
          64,
          80,
          32,
          32,
          16,
          144,
          32,
          112,
          160,
          80,
          208,
          80,
          32,
          96,
          96,
          64,
          192,
          112,
          128,
          112,
          112,
          96,
          160,
          80,
          48,
          48,
          48,
          32,
          48,
          32,
          16,
          48,
          64,
          96,
          96,
          128,
          96,
          112,
          112,
          64,
          16,
          48,
          80,
          112,
          96,
          96,
          96,
          96,
          96,
          96,
          112,
          128,
          80,
          112,
          96,
          112,
          128
         ],
         "xaxis": "x3",
         "y": [
          0.05,
          0.045454545454545456,
          0.09230769230769231,
          0,
          0.034482758620689655,
          0.19230769230769232,
          0.03571428571428571,
          0.16129032258064516,
          0,
          0,
          0,
          0,
          0.07017543859649122,
          0,
          0,
          0,
          0.20454545454545456,
          0,
          0,
          0,
          0,
          0.10526315789473684,
          0,
          0.12307692307692308,
          0.04,
          0,
          0.23255813953488372,
          0.21621621621621623,
          0,
          0.07272727272727272,
          0.20689655172413793,
          0.23622047244094488,
          0.225,
          0.125,
          0.08823529411764706,
          0.2222222222222222,
          0.11428571428571428,
          0.13636363636363635,
          0.09523809523809523,
          0.1568627450980392,
          0.18421052631578946,
          0.22988505747126436,
          0.1111111111111111,
          0,
          0,
          0.11428571428571428,
          0.125,
          0.12698412698412698,
          0.2077922077922078,
          0.2268041237113402,
          0.1568627450980392,
          0.2765957446808511,
          0.27586206896551724,
          0.18666666666666668,
          0.0392156862745098,
          0.17543859649122806,
          0.175,
          0.12307692307692308,
          0,
          0.05970149253731343,
          0.16666666666666666,
          0.18045112781954886,
          0.16,
          0.2028985507246377,
          0.20754716981132076,
          0.09523809523809523,
          0,
          0.12244897959183673,
          0.15384615384615385,
          0.1694915254237288,
          0.2524271844660194,
          0.2,
          0.15384615384615385,
          0.20454545454545456,
          0.16560509554140126,
          0,
          0.1518987341772152,
          0.22608695652173913,
          0,
          0.15254237288135594,
          0.18556701030927836,
          0.1414141414141414,
          0.26506024096385544,
          0.1095890410958904,
          0.06557377049180328,
          0.3333333333333333,
          0.18181818181818182,
          0.1038961038961039,
          0.16901408450704225,
          0.04081632653061224,
          0,
          0.09836065573770492,
          0.24,
          0.2857142857142857,
          0.17721518987341772,
          0.22641509433962265,
          0.1509433962264151,
          0.19875776397515527,
          0.14634146341463414,
          0,
          0.10434782608695652,
          0.24,
          0.1794871794871795,
          0.20454545454545456,
          0.20689655172413793,
          0.3595505617977528,
          0.22,
          0.21176470588235294,
          0.038461538461538464,
          0,
          0.2268041237113402,
          0.21568627450980393,
          0.25806451612903225,
          0.10909090909090909,
          0.30985915492957744,
          0.10909090909090909,
          0.25316455696202533,
          0.07547169811320754,
          0.23880597014925373,
          0.12307692307692308,
          0.20168067226890757,
          0,
          0.13157894736842105,
          0.1276595744680851,
          0.16901408450704225
         ],
         "yaxis": "y3"
        },
        {
         "marker": {
          "color": [
           0,
           1,
           2,
           3,
           4,
           5,
           6,
           7,
           8,
           9,
           10,
           11,
           12,
           13,
           14,
           15,
           16,
           17,
           18,
           19,
           20,
           21,
           22,
           23,
           24,
           25,
           26,
           27,
           28,
           29,
           30,
           31,
           32,
           33,
           34,
           35,
           36,
           37,
           38,
           39,
           40,
           41,
           42,
           43,
           44,
           45,
           46,
           47,
           48,
           49,
           50,
           51,
           52,
           53,
           54,
           55,
           56,
           57,
           58,
           59,
           60,
           61,
           62,
           63,
           64,
           65,
           66,
           67,
           68,
           69,
           70,
           71,
           72,
           73,
           74,
           75,
           76,
           77,
           78,
           79,
           80,
           81,
           82,
           83,
           84,
           85,
           86,
           87,
           88,
           89,
           90,
           91,
           92,
           93,
           94,
           95,
           96,
           97,
           98,
           99,
           100,
           101,
           102,
           103,
           104,
           105,
           106,
           107,
           108,
           109,
           110,
           111,
           112,
           113,
           114,
           115,
           116,
           117,
           118,
           119,
           120,
           121,
           122,
           123,
           124
          ],
          "colorbar": {
           "title": {
            "text": "Trial"
           },
           "x": 1,
           "xpad": 40
          },
          "colorscale": [
           [
            0,
            "rgb(247,251,255)"
           ],
           [
            0.125,
            "rgb(222,235,247)"
           ],
           [
            0.25,
            "rgb(198,219,239)"
           ],
           [
            0.375,
            "rgb(158,202,225)"
           ],
           [
            0.5,
            "rgb(107,174,214)"
           ],
           [
            0.625,
            "rgb(66,146,198)"
           ],
           [
            0.75,
            "rgb(33,113,181)"
           ],
           [
            0.875,
            "rgb(8,81,156)"
           ],
           [
            1,
            "rgb(8,48,107)"
           ]
          ],
          "line": {
           "color": "Grey",
           "width": 0.5
          },
          "showscale": false
         },
         "mode": "markers",
         "name": "Feasible Trial",
         "showlegend": false,
         "type": "scatter",
         "x": [
          0.26356952790556987,
          0.2580482355091044,
          0.10256477453222848,
          0.4360886397380881,
          0.43507258235119095,
          0.22169900814048113,
          0.5993491229483435,
          0.3173391605434026,
          0.2076142574935931,
          0.2023531080853276,
          0.11776942808721626,
          0.37675356360118806,
          0.3139672061281369,
          0.35305838632865794,
          0.5423578933518569,
          0.17182212128484822,
          0.30016610856733805,
          0.2609151783523668,
          0.4080647651873389,
          0.1796733501543063,
          0.4942388962158984,
          0.3270640779349778,
          0.27773331727260087,
          0.30192372228824355,
          0.3751446894172084,
          0.2241936414227319,
          0.15166898455386535,
          0.13266042546352233,
          0.1419131299827516,
          0.14733135921454713,
          0.14606142912658546,
          0.14227282325710094,
          0.13783711970019094,
          0.10282037142223621,
          0.1687428808431678,
          0.12493664606551826,
          0.23273712632312077,
          0.10043749457359986,
          0.18938504747191853,
          0.16066379198875383,
          0.23247214976136174,
          0.12211121727103318,
          0.12575620353905864,
          0.1996262468012207,
          0.12467088911489822,
          0.15857692653731043,
          0.11674878988706597,
          0.18797664534084424,
          0.21022029591317465,
          0.1493248958867808,
          0.24984416429175837,
          0.1505160649035769,
          0.15714159397137917,
          0.16725889204418337,
          0.18640549558604025,
          0.10067850960277626,
          0.1568528112701091,
          0.21200053472111824,
          0.5903593007172572,
          0.2769393968094367,
          0.24256471501432866,
          0.1434939325891565,
          0.11376174303249176,
          0.1775939672849575,
          0.13472301147324292,
          0.48480920038075814,
          0.15079813661806327,
          0.19739091870343528,
          0.1725706880616661,
          0.13511017244350354,
          0.1120795294670677,
          0.11592729975255375,
          0.1399868863157628,
          0.11253718563480247,
          0.15616435000720622,
          0.128197689063,
          0.17663366077428133,
          0.14688400595854326,
          0.2190924987525688,
          0.16341555219462828,
          0.1489585189846416,
          0.11097989382863782,
          0.13026990866264748,
          0.1240262957602418,
          0.19689020339611313,
          0.10043971628112829,
          0.10505907417981619,
          0.12386325183573157,
          0.13437240273277107,
          0.16697301410612123,
          0.4202696291966795,
          0.1468661010188279,
          0.1019531438335694,
          0.10579811188191668,
          0.1048409734580757,
          0.11775132098255352,
          0.10184907933493235,
          0.13130091817161008,
          0.3530426258886704,
          0.11774362132145812,
          0.12433723394825676,
          0.15657202948681495,
          0.18126195497258324,
          0.16247805421202793,
          0.11089564863111033,
          0.1382843186220748,
          0.13852644386651616,
          0.15765334787063756,
          0.13574042868922512,
          0.3288341523838506,
          0.10045399015525519,
          0.1237342872201542,
          0.15310204155974375,
          0.17118836519555214,
          0.15417834092149763,
          0.18878720677795685,
          0.14399742074643085,
          0.15656636226505385,
          0.11363741647094934,
          0.13297079935056672,
          0.37283880465601105,
          0.11046810329361734,
          0.14287871986811732,
          0.1135088214779614,
          0.12945735034240677
         ],
         "xaxis": "x4",
         "y": [
          0.05,
          0.045454545454545456,
          0.09230769230769231,
          0,
          0.034482758620689655,
          0.19230769230769232,
          0.03571428571428571,
          0.16129032258064516,
          0,
          0,
          0,
          0,
          0.07017543859649122,
          0,
          0,
          0,
          0.20454545454545456,
          0,
          0,
          0,
          0,
          0.10526315789473684,
          0,
          0.12307692307692308,
          0.04,
          0,
          0.23255813953488372,
          0.21621621621621623,
          0,
          0.07272727272727272,
          0.20689655172413793,
          0.23622047244094488,
          0.225,
          0.125,
          0.08823529411764706,
          0.2222222222222222,
          0.11428571428571428,
          0.13636363636363635,
          0.09523809523809523,
          0.1568627450980392,
          0.18421052631578946,
          0.22988505747126436,
          0.1111111111111111,
          0,
          0,
          0.11428571428571428,
          0.125,
          0.12698412698412698,
          0.2077922077922078,
          0.2268041237113402,
          0.1568627450980392,
          0.2765957446808511,
          0.27586206896551724,
          0.18666666666666668,
          0.0392156862745098,
          0.17543859649122806,
          0.175,
          0.12307692307692308,
          0,
          0.05970149253731343,
          0.16666666666666666,
          0.18045112781954886,
          0.16,
          0.2028985507246377,
          0.20754716981132076,
          0.09523809523809523,
          0,
          0.12244897959183673,
          0.15384615384615385,
          0.1694915254237288,
          0.2524271844660194,
          0.2,
          0.15384615384615385,
          0.20454545454545456,
          0.16560509554140126,
          0,
          0.1518987341772152,
          0.22608695652173913,
          0,
          0.15254237288135594,
          0.18556701030927836,
          0.1414141414141414,
          0.26506024096385544,
          0.1095890410958904,
          0.06557377049180328,
          0.3333333333333333,
          0.18181818181818182,
          0.1038961038961039,
          0.16901408450704225,
          0.04081632653061224,
          0,
          0.09836065573770492,
          0.24,
          0.2857142857142857,
          0.17721518987341772,
          0.22641509433962265,
          0.1509433962264151,
          0.19875776397515527,
          0.14634146341463414,
          0,
          0.10434782608695652,
          0.24,
          0.1794871794871795,
          0.20454545454545456,
          0.20689655172413793,
          0.3595505617977528,
          0.22,
          0.21176470588235294,
          0.038461538461538464,
          0,
          0.2268041237113402,
          0.21568627450980393,
          0.25806451612903225,
          0.10909090909090909,
          0.30985915492957744,
          0.10909090909090909,
          0.25316455696202533,
          0.07547169811320754,
          0.23880597014925373,
          0.12307692307692308,
          0.20168067226890757,
          0,
          0.13157894736842105,
          0.1276595744680851,
          0.16901408450704225
         ],
         "yaxis": "y4"
        },
        {
         "marker": {
          "color": [
           0,
           1,
           2,
           3,
           4,
           5,
           6,
           7,
           8,
           9,
           10,
           11,
           12,
           13,
           14,
           15,
           16,
           17,
           18,
           19,
           20,
           21,
           22,
           23,
           24,
           25,
           26,
           27,
           28,
           29,
           30,
           31,
           32,
           33,
           34,
           35,
           36,
           37,
           38,
           39,
           40,
           41,
           42,
           43,
           44,
           45,
           46,
           47,
           48,
           49,
           50,
           51,
           52,
           53,
           54,
           55,
           56,
           57,
           58,
           59,
           60,
           61,
           62,
           63,
           64,
           65,
           66,
           67,
           68,
           69,
           70,
           71,
           72,
           73,
           74,
           75,
           76,
           77,
           78,
           79,
           80,
           81,
           82,
           83,
           84,
           85,
           86,
           87,
           88,
           89,
           90,
           91,
           92,
           93,
           94,
           95,
           96,
           97,
           98,
           99,
           100,
           101,
           102,
           103,
           104,
           105,
           106,
           107,
           108,
           109,
           110,
           111,
           112,
           113,
           114,
           115,
           116,
           117,
           118,
           119,
           120,
           121,
           122,
           123,
           124
          ],
          "colorbar": {
           "title": {
            "text": "Trial"
           },
           "x": 1,
           "xpad": 40
          },
          "colorscale": [
           [
            0,
            "rgb(247,251,255)"
           ],
           [
            0.125,
            "rgb(222,235,247)"
           ],
           [
            0.25,
            "rgb(198,219,239)"
           ],
           [
            0.375,
            "rgb(158,202,225)"
           ],
           [
            0.5,
            "rgb(107,174,214)"
           ],
           [
            0.625,
            "rgb(66,146,198)"
           ],
           [
            0.75,
            "rgb(33,113,181)"
           ],
           [
            0.875,
            "rgb(8,81,156)"
           ],
           [
            1,
            "rgb(8,48,107)"
           ]
          ],
          "line": {
           "color": "Grey",
           "width": 0.5
          },
          "showscale": false
         },
         "mode": "markers",
         "name": "Feasible Trial",
         "showlegend": false,
         "type": "scatter",
         "x": [
          0.0003779309619034201,
          0.0000016981971198864144,
          0.000042619421045930454,
          0.00007697636301173465,
          0.00013006092057794104,
          0.00005811819636457308,
          0.0000011816962978959966,
          0.0004546722896928373,
          0.0005186967679844971,
          0.00017173996758687368,
          0.0000089362405016917,
          0.000012912675105378606,
          0.0009261192450685198,
          0.000019702960161251734,
          0.0000055262184893906696,
          0.000271326105243326,
          0.00006428014229685449,
          0.00004558991520732846,
          0.0000774001398801687,
          0.000004138177302747944,
          0.000026453759494603055,
          0.00010663709400742564,
          0.0002333916565457562,
          0.0009786401409849885,
          0.00004179136703349705,
          0.0005252984923946591,
          0.00008674692987907641,
          0.00006346252065809269,
          0.000022253172415321215,
          0.00011589583489826808,
          0.000014509393614621218,
          0.0000160790877294891,
          0.000012112530601127406,
          0.0000034597704652758128,
          0.000009947489682363961,
          0.00003619789722123981,
          0.000030144909643709246,
          0.0000024666433667248372,
          0.000006693662023147388,
          0.00003964984593845743,
          0.000015856432993253813,
          0.00008445911826670687,
          0.00008221179129582158,
          0.00015356696110737514,
          0.000009599717488986735,
          0.0000347115421635393,
          0.000025288976414091395,
          0.000049365410914663806,
          0.000017225777322336427,
          0.00023430763902055712,
          0.00022300712864185937,
          0.00010152330638895545,
          0.0003286620380715025,
          0.0004314417696652685,
          0.0003267194174930105,
          0.00017647649097449468,
          0.0001028146919488083,
          0.0006880699608476682,
          0.0003434622897676382,
          0.00014971974535014863,
          0.00020340081857318418,
          0.000011974526195542468,
          0.0000942845645535891,
          0.0002893596975958128,
          0.0000071466607921457775,
          0.00005432687548903047,
          0.0006126203629199164,
          0.00013253643151821636,
          0.00008397384435068912,
          0.0002581089629808433,
          0.00006074825851109748,
          0.00005731431240148262,
          0.000068615912480408,
          0.00011869593655052848,
          0.000019340651666843763,
          0.00018293046496472697,
          0.000012544042587557091,
          0.00002905038773683499,
          0.00006924976715593357,
          0.000030142013584170956,
          0.000042668597638212016,
          0.000022926575516386233,
          0.00009514913861310486,
          0.00009665688180038146,
          0.0001390002657220123,
          0.00008283836103898313,
          0.00008035880129096994,
          0.00005220797248674659,
          0.00006331571264986296,
          0.00011406054604762453,
          0.0003884339247133714,
          0.00009307368618289689,
          0.00003638485285745311,
          0.00004569505564481635,
          0.00003731656743642529,
          0.00004551723155260353,
          0.00007231487457091428,
          0.00005026593401962034,
          0.00005850545412670157,
          0.00003239282637515439,
          0.00008098593000532592,
          0.00015808498093356063,
          0.0001660987296459971,
          0.00012193650480481486,
          0.00009086855396080907,
          0.00010768041003832457,
          0.00010633159246012898,
          0.0001434567026936911,
          0.0002051519858980893,
          0.00007417649331330686,
          0.000060138040300006956,
          0.0000404275083510905,
          0.0001060985494255747,
          0.00010699482452417413,
          0.0001695753276009464,
          0.00015962092803510102,
          0.0001282377688362291,
          0.00019027685003655868,
          0.00024605968080401887,
          0.00012754084235038672,
          0.00013802602200540035,
          0.0002911973917446148,
          0.0002461977162516636,
          0.0002169143339893334,
          0.00017028517748022895
         ],
         "xaxis": "x5",
         "y": [
          0.05,
          0.045454545454545456,
          0.09230769230769231,
          0,
          0.034482758620689655,
          0.19230769230769232,
          0.03571428571428571,
          0.16129032258064516,
          0,
          0,
          0,
          0,
          0.07017543859649122,
          0,
          0,
          0,
          0.20454545454545456,
          0,
          0,
          0,
          0,
          0.10526315789473684,
          0,
          0.12307692307692308,
          0.04,
          0,
          0.23255813953488372,
          0.21621621621621623,
          0,
          0.07272727272727272,
          0.20689655172413793,
          0.23622047244094488,
          0.225,
          0.125,
          0.08823529411764706,
          0.2222222222222222,
          0.11428571428571428,
          0.13636363636363635,
          0.09523809523809523,
          0.1568627450980392,
          0.18421052631578946,
          0.22988505747126436,
          0.1111111111111111,
          0,
          0,
          0.11428571428571428,
          0.125,
          0.12698412698412698,
          0.2077922077922078,
          0.2268041237113402,
          0.1568627450980392,
          0.2765957446808511,
          0.27586206896551724,
          0.18666666666666668,
          0.0392156862745098,
          0.17543859649122806,
          0.175,
          0.12307692307692308,
          0,
          0.05970149253731343,
          0.16666666666666666,
          0.18045112781954886,
          0.16,
          0.2028985507246377,
          0.20754716981132076,
          0.09523809523809523,
          0,
          0.12244897959183673,
          0.15384615384615385,
          0.1694915254237288,
          0.2524271844660194,
          0.2,
          0.15384615384615385,
          0.20454545454545456,
          0.16560509554140126,
          0,
          0.1518987341772152,
          0.22608695652173913,
          0,
          0.15254237288135594,
          0.18556701030927836,
          0.1414141414141414,
          0.26506024096385544,
          0.1095890410958904,
          0.06557377049180328,
          0.3333333333333333,
          0.18181818181818182,
          0.1038961038961039,
          0.16901408450704225,
          0.04081632653061224,
          0,
          0.09836065573770492,
          0.24,
          0.2857142857142857,
          0.17721518987341772,
          0.22641509433962265,
          0.1509433962264151,
          0.19875776397515527,
          0.14634146341463414,
          0,
          0.10434782608695652,
          0.24,
          0.1794871794871795,
          0.20454545454545456,
          0.20689655172413793,
          0.3595505617977528,
          0.22,
          0.21176470588235294,
          0.038461538461538464,
          0,
          0.2268041237113402,
          0.21568627450980393,
          0.25806451612903225,
          0.10909090909090909,
          0.30985915492957744,
          0.10909090909090909,
          0.25316455696202533,
          0.07547169811320754,
          0.23880597014925373,
          0.12307692307692308,
          0.20168067226890757,
          0,
          0.13157894736842105,
          0.1276595744680851,
          0.16901408450704225
         ],
         "yaxis": "y5"
        },
        {
         "marker": {
          "color": [
           0,
           1,
           2,
           3,
           4,
           5,
           6,
           7,
           8,
           9,
           10,
           11,
           12,
           13,
           14,
           15,
           16,
           17,
           18,
           19,
           20,
           21,
           22,
           23,
           24,
           25,
           26,
           27,
           28,
           29,
           30,
           31,
           32,
           33,
           34,
           35,
           36,
           37,
           38,
           39,
           40,
           41,
           42,
           43,
           44,
           45,
           46,
           47,
           48,
           49,
           50,
           51,
           52,
           53,
           54,
           55,
           56,
           57,
           58,
           59,
           60,
           61,
           62,
           63,
           64,
           65,
           66,
           67,
           68,
           69,
           70,
           71,
           72,
           73,
           74,
           75,
           76,
           77,
           78,
           79,
           80,
           81,
           82,
           83,
           84,
           85,
           86,
           87,
           88,
           89,
           90,
           91,
           92,
           93,
           94,
           95,
           96,
           97,
           98,
           99,
           100,
           101,
           102,
           103,
           104,
           105,
           106,
           107,
           108,
           109,
           110,
           111,
           112,
           113,
           114,
           115,
           116,
           117,
           118,
           119,
           120,
           121,
           122,
           123,
           124
          ],
          "colorbar": {
           "title": {
            "text": "Trial"
           },
           "x": 1,
           "xpad": 40
          },
          "colorscale": [
           [
            0,
            "rgb(247,251,255)"
           ],
           [
            0.125,
            "rgb(222,235,247)"
           ],
           [
            0.25,
            "rgb(198,219,239)"
           ],
           [
            0.375,
            "rgb(158,202,225)"
           ],
           [
            0.5,
            "rgb(107,174,214)"
           ],
           [
            0.625,
            "rgb(66,146,198)"
           ],
           [
            0.75,
            "rgb(33,113,181)"
           ],
           [
            0.875,
            "rgb(8,81,156)"
           ],
           [
            1,
            "rgb(8,48,107)"
           ]
          ],
          "line": {
           "color": "Grey",
           "width": 0.5
          },
          "showscale": false
         },
         "mode": "markers",
         "name": "Feasible Trial",
         "showlegend": false,
         "type": "scatter",
         "x": [
          "adam",
          "adamw",
          "adamw",
          "rmsprop",
          "adam",
          "rmsprop",
          "adam",
          "adamw",
          "adamw",
          "adamw",
          "rmsprop",
          "rmsprop",
          "rmsprop",
          "adamw",
          "rmsprop",
          "adamw",
          "rmsprop",
          "rmsprop",
          "rmsprop",
          "rmsprop",
          "rmsprop",
          "rmsprop",
          "adamw",
          "adam",
          "rmsprop",
          "adamw",
          "rmsprop",
          "rmsprop",
          "rmsprop",
          "adam",
          "rmsprop",
          "rmsprop",
          "rmsprop",
          "rmsprop",
          "rmsprop",
          "rmsprop",
          "rmsprop",
          "adam",
          "rmsprop",
          "rmsprop",
          "adam",
          "rmsprop",
          "rmsprop",
          "rmsprop",
          "rmsprop",
          "rmsprop",
          "rmsprop",
          "rmsprop",
          "rmsprop",
          "rmsprop",
          "rmsprop",
          "rmsprop",
          "rmsprop",
          "rmsprop",
          "rmsprop",
          "rmsprop",
          "adamw",
          "rmsprop",
          "adam",
          "rmsprop",
          "rmsprop",
          "rmsprop",
          "rmsprop",
          "rmsprop",
          "rmsprop",
          "adamw",
          "rmsprop",
          "rmsprop",
          "rmsprop",
          "rmsprop",
          "rmsprop",
          "rmsprop",
          "rmsprop",
          "rmsprop",
          "adam",
          "rmsprop",
          "rmsprop",
          "adamw",
          "adamw",
          "adamw",
          "adamw",
          "adamw",
          "adamw",
          "adamw",
          "adamw",
          "adamw",
          "adamw",
          "adamw",
          "adam",
          "adamw",
          "rmsprop",
          "adamw",
          "adamw",
          "adamw",
          "adamw",
          "adamw",
          "adamw",
          "adamw",
          "adamw",
          "adamw",
          "adamw",
          "rmsprop",
          "rmsprop",
          "rmsprop",
          "rmsprop",
          "adamw",
          "adamw",
          "adamw",
          "adamw",
          "adamw",
          "adamw",
          "rmsprop",
          "rmsprop",
          "rmsprop",
          "adam",
          "adam",
          "adam",
          "adam",
          "adam",
          "adam",
          "adam",
          "adam",
          "adam",
          "adam",
          "adam"
         ],
         "xaxis": "x6",
         "y": [
          0.05,
          0.045454545454545456,
          0.09230769230769231,
          0,
          0.034482758620689655,
          0.19230769230769232,
          0.03571428571428571,
          0.16129032258064516,
          0,
          0,
          0,
          0,
          0.07017543859649122,
          0,
          0,
          0,
          0.20454545454545456,
          0,
          0,
          0,
          0,
          0.10526315789473684,
          0,
          0.12307692307692308,
          0.04,
          0,
          0.23255813953488372,
          0.21621621621621623,
          0,
          0.07272727272727272,
          0.20689655172413793,
          0.23622047244094488,
          0.225,
          0.125,
          0.08823529411764706,
          0.2222222222222222,
          0.11428571428571428,
          0.13636363636363635,
          0.09523809523809523,
          0.1568627450980392,
          0.18421052631578946,
          0.22988505747126436,
          0.1111111111111111,
          0,
          0,
          0.11428571428571428,
          0.125,
          0.12698412698412698,
          0.2077922077922078,
          0.2268041237113402,
          0.1568627450980392,
          0.2765957446808511,
          0.27586206896551724,
          0.18666666666666668,
          0.0392156862745098,
          0.17543859649122806,
          0.175,
          0.12307692307692308,
          0,
          0.05970149253731343,
          0.16666666666666666,
          0.18045112781954886,
          0.16,
          0.2028985507246377,
          0.20754716981132076,
          0.09523809523809523,
          0,
          0.12244897959183673,
          0.15384615384615385,
          0.1694915254237288,
          0.2524271844660194,
          0.2,
          0.15384615384615385,
          0.20454545454545456,
          0.16560509554140126,
          0,
          0.1518987341772152,
          0.22608695652173913,
          0,
          0.15254237288135594,
          0.18556701030927836,
          0.1414141414141414,
          0.26506024096385544,
          0.1095890410958904,
          0.06557377049180328,
          0.3333333333333333,
          0.18181818181818182,
          0.1038961038961039,
          0.16901408450704225,
          0.04081632653061224,
          0,
          0.09836065573770492,
          0.24,
          0.2857142857142857,
          0.17721518987341772,
          0.22641509433962265,
          0.1509433962264151,
          0.19875776397515527,
          0.14634146341463414,
          0,
          0.10434782608695652,
          0.24,
          0.1794871794871795,
          0.20454545454545456,
          0.20689655172413793,
          0.3595505617977528,
          0.22,
          0.21176470588235294,
          0.038461538461538464,
          0,
          0.2268041237113402,
          0.21568627450980393,
          0.25806451612903225,
          0.10909090909090909,
          0.30985915492957744,
          0.10909090909090909,
          0.25316455696202533,
          0.07547169811320754,
          0.23880597014925373,
          0.12307692307692308,
          0.20168067226890757,
          0,
          0.13157894736842105,
          0.1276595744680851,
          0.16901408450704225
         ],
         "yaxis": "y6"
        },
        {
         "marker": {
          "color": [
           0,
           1,
           2,
           3,
           4,
           5,
           6,
           7,
           8,
           9,
           10,
           11,
           12,
           13,
           14,
           15,
           16,
           17,
           18,
           19,
           20,
           21,
           22,
           23,
           24,
           25,
           26,
           27,
           28,
           29,
           30,
           31,
           32,
           33,
           34,
           35,
           36,
           37,
           38,
           39,
           40,
           41,
           42,
           43,
           44,
           45,
           46,
           47,
           48,
           49,
           50,
           51,
           52,
           53,
           54,
           55,
           56,
           57,
           58,
           59,
           60,
           61,
           62,
           63,
           64,
           65,
           66,
           67,
           68,
           69,
           70,
           71,
           72,
           73,
           74,
           75,
           76,
           77,
           78,
           79,
           80,
           81,
           82,
           83,
           84,
           85,
           86,
           87,
           88,
           89,
           90,
           91,
           92,
           93,
           94,
           95,
           96,
           97,
           98,
           99,
           100,
           101,
           102,
           103,
           104,
           105,
           106,
           107,
           108,
           109,
           110,
           111,
           112,
           113,
           114,
           115,
           116,
           117,
           118,
           119,
           120,
           121,
           122,
           123,
           124
          ],
          "colorbar": {
           "title": {
            "text": "Trial"
           },
           "x": 1,
           "xpad": 40
          },
          "colorscale": [
           [
            0,
            "rgb(247,251,255)"
           ],
           [
            0.125,
            "rgb(222,235,247)"
           ],
           [
            0.25,
            "rgb(198,219,239)"
           ],
           [
            0.375,
            "rgb(158,202,225)"
           ],
           [
            0.5,
            "rgb(107,174,214)"
           ],
           [
            0.625,
            "rgb(66,146,198)"
           ],
           [
            0.75,
            "rgb(33,113,181)"
           ],
           [
            0.875,
            "rgb(8,81,156)"
           ],
           [
            1,
            "rgb(8,48,107)"
           ]
          ],
          "line": {
           "color": "Grey",
           "width": 0.5
          },
          "showscale": false
         },
         "mode": "markers",
         "name": "Feasible Trial",
         "showlegend": false,
         "type": "scatter",
         "x": [
          9,
          15,
          6,
          12,
          15,
          13,
          18,
          9,
          11,
          6,
          19,
          10,
          14,
          8,
          13,
          17,
          8,
          7,
          5,
          11,
          17,
          9,
          9,
          12,
          7,
          10,
          14,
          14,
          15,
          16,
          14,
          14,
          14,
          14,
          16,
          15,
          20,
          16,
          13,
          15,
          12,
          14,
          15,
          13,
          17,
          14,
          12,
          18,
          11,
          16,
          16,
          15,
          13,
          13,
          15,
          12,
          18,
          17,
          13,
          16,
          14,
          15,
          14,
          13,
          14,
          15,
          12,
          11,
          16,
          14,
          10,
          10,
          13,
          15,
          14,
          10,
          13,
          11,
          11,
          8,
          10,
          9,
          11,
          11,
          12,
          11,
          10,
          9,
          12,
          17,
          16,
          11,
          11,
          10,
          10,
          9,
          11,
          12,
          8,
          9,
          10,
          13,
          13,
          12,
          13,
          14,
          11,
          14,
          13,
          15,
          12,
          14,
          15,
          10,
          15,
          15,
          15,
          15,
          16,
          15,
          11,
          16,
          16,
          15,
          17
         ],
         "xaxis": "x7",
         "y": [
          0.05,
          0.045454545454545456,
          0.09230769230769231,
          0,
          0.034482758620689655,
          0.19230769230769232,
          0.03571428571428571,
          0.16129032258064516,
          0,
          0,
          0,
          0,
          0.07017543859649122,
          0,
          0,
          0,
          0.20454545454545456,
          0,
          0,
          0,
          0,
          0.10526315789473684,
          0,
          0.12307692307692308,
          0.04,
          0,
          0.23255813953488372,
          0.21621621621621623,
          0,
          0.07272727272727272,
          0.20689655172413793,
          0.23622047244094488,
          0.225,
          0.125,
          0.08823529411764706,
          0.2222222222222222,
          0.11428571428571428,
          0.13636363636363635,
          0.09523809523809523,
          0.1568627450980392,
          0.18421052631578946,
          0.22988505747126436,
          0.1111111111111111,
          0,
          0,
          0.11428571428571428,
          0.125,
          0.12698412698412698,
          0.2077922077922078,
          0.2268041237113402,
          0.1568627450980392,
          0.2765957446808511,
          0.27586206896551724,
          0.18666666666666668,
          0.0392156862745098,
          0.17543859649122806,
          0.175,
          0.12307692307692308,
          0,
          0.05970149253731343,
          0.16666666666666666,
          0.18045112781954886,
          0.16,
          0.2028985507246377,
          0.20754716981132076,
          0.09523809523809523,
          0,
          0.12244897959183673,
          0.15384615384615385,
          0.1694915254237288,
          0.2524271844660194,
          0.2,
          0.15384615384615385,
          0.20454545454545456,
          0.16560509554140126,
          0,
          0.1518987341772152,
          0.22608695652173913,
          0,
          0.15254237288135594,
          0.18556701030927836,
          0.1414141414141414,
          0.26506024096385544,
          0.1095890410958904,
          0.06557377049180328,
          0.3333333333333333,
          0.18181818181818182,
          0.1038961038961039,
          0.16901408450704225,
          0.04081632653061224,
          0,
          0.09836065573770492,
          0.24,
          0.2857142857142857,
          0.17721518987341772,
          0.22641509433962265,
          0.1509433962264151,
          0.19875776397515527,
          0.14634146341463414,
          0,
          0.10434782608695652,
          0.24,
          0.1794871794871795,
          0.20454545454545456,
          0.20689655172413793,
          0.3595505617977528,
          0.22,
          0.21176470588235294,
          0.038461538461538464,
          0,
          0.2268041237113402,
          0.21568627450980393,
          0.25806451612903225,
          0.10909090909090909,
          0.30985915492957744,
          0.10909090909090909,
          0.25316455696202533,
          0.07547169811320754,
          0.23880597014925373,
          0.12307692307692308,
          0.20168067226890757,
          0,
          0.13157894736842105,
          0.1276595744680851,
          0.16901408450704225
         ],
         "yaxis": "y7"
        },
        {
         "marker": {
          "color": [
           0,
           1,
           2,
           3,
           4,
           5,
           6,
           7,
           8,
           9,
           10,
           11,
           12,
           13,
           14,
           15,
           16,
           17,
           18,
           19,
           20,
           21,
           22,
           23,
           24,
           25,
           26,
           27,
           28,
           29,
           30,
           31,
           32,
           33,
           34,
           35,
           36,
           37,
           38,
           39,
           40,
           41,
           42,
           43,
           44,
           45,
           46,
           47,
           48,
           49,
           50,
           51,
           52,
           53,
           54,
           55,
           56,
           57,
           58,
           59,
           60,
           61,
           62,
           63,
           64,
           65,
           66,
           67,
           68,
           69,
           70,
           71,
           72,
           73,
           74,
           75,
           76,
           77,
           78,
           79,
           80,
           81,
           82,
           83,
           84,
           85,
           86,
           87,
           88,
           89,
           90,
           91,
           92,
           93,
           94,
           95,
           96,
           97,
           98,
           99,
           100,
           101,
           102,
           103,
           104,
           105,
           106,
           107,
           108,
           109,
           110,
           111,
           112,
           113,
           114,
           115,
           116,
           117,
           118,
           119,
           120,
           121,
           122,
           123,
           124
          ],
          "colorbar": {
           "title": {
            "text": "Trial"
           },
           "x": 1,
           "xpad": 40
          },
          "colorscale": [
           [
            0,
            "rgb(247,251,255)"
           ],
           [
            0.125,
            "rgb(222,235,247)"
           ],
           [
            0.25,
            "rgb(198,219,239)"
           ],
           [
            0.375,
            "rgb(158,202,225)"
           ],
           [
            0.5,
            "rgb(107,174,214)"
           ],
           [
            0.625,
            "rgb(66,146,198)"
           ],
           [
            0.75,
            "rgb(33,113,181)"
           ],
           [
            0.875,
            "rgb(8,81,156)"
           ],
           [
            1,
            "rgb(8,48,107)"
           ]
          ],
          "line": {
           "color": "Grey",
           "width": 0.5
          },
          "showscale": false
         },
         "mode": "markers",
         "name": "Feasible Trial",
         "showlegend": false,
         "type": "scatter",
         "x": [
          32,
          32,
          32,
          64,
          128,
          64,
          192,
          192,
          160,
          160,
          96,
          96,
          192,
          64,
          128,
          64,
          160,
          160,
          128,
          96,
          160,
          192,
          192,
          160,
          192,
          128,
          64,
          64,
          96,
          32,
          64,
          64,
          64,
          32,
          32,
          64,
          32,
          64,
          64,
          96,
          64,
          64,
          32,
          64,
          96,
          64,
          32,
          96,
          64,
          64,
          96,
          64,
          64,
          64,
          64,
          32,
          96,
          64,
          64,
          96,
          32,
          64,
          64,
          64,
          64,
          64,
          32,
          96,
          64,
          96,
          64,
          64,
          64,
          64,
          64,
          32,
          64,
          64,
          32,
          64,
          96,
          64,
          64,
          64,
          64,
          64,
          64,
          128,
          64,
          32,
          96,
          64,
          64,
          64,
          64,
          64,
          64,
          64,
          64,
          96,
          32,
          64,
          64,
          64,
          64,
          64,
          64,
          64,
          64,
          64,
          64,
          64,
          64,
          64,
          64,
          64,
          64,
          64,
          64,
          64,
          96,
          64,
          64,
          64,
          64
         ],
         "xaxis": "x8",
         "y": [
          0.05,
          0.045454545454545456,
          0.09230769230769231,
          0,
          0.034482758620689655,
          0.19230769230769232,
          0.03571428571428571,
          0.16129032258064516,
          0,
          0,
          0,
          0,
          0.07017543859649122,
          0,
          0,
          0,
          0.20454545454545456,
          0,
          0,
          0,
          0,
          0.10526315789473684,
          0,
          0.12307692307692308,
          0.04,
          0,
          0.23255813953488372,
          0.21621621621621623,
          0,
          0.07272727272727272,
          0.20689655172413793,
          0.23622047244094488,
          0.225,
          0.125,
          0.08823529411764706,
          0.2222222222222222,
          0.11428571428571428,
          0.13636363636363635,
          0.09523809523809523,
          0.1568627450980392,
          0.18421052631578946,
          0.22988505747126436,
          0.1111111111111111,
          0,
          0,
          0.11428571428571428,
          0.125,
          0.12698412698412698,
          0.2077922077922078,
          0.2268041237113402,
          0.1568627450980392,
          0.2765957446808511,
          0.27586206896551724,
          0.18666666666666668,
          0.0392156862745098,
          0.17543859649122806,
          0.175,
          0.12307692307692308,
          0,
          0.05970149253731343,
          0.16666666666666666,
          0.18045112781954886,
          0.16,
          0.2028985507246377,
          0.20754716981132076,
          0.09523809523809523,
          0,
          0.12244897959183673,
          0.15384615384615385,
          0.1694915254237288,
          0.2524271844660194,
          0.2,
          0.15384615384615385,
          0.20454545454545456,
          0.16560509554140126,
          0,
          0.1518987341772152,
          0.22608695652173913,
          0,
          0.15254237288135594,
          0.18556701030927836,
          0.1414141414141414,
          0.26506024096385544,
          0.1095890410958904,
          0.06557377049180328,
          0.3333333333333333,
          0.18181818181818182,
          0.1038961038961039,
          0.16901408450704225,
          0.04081632653061224,
          0,
          0.09836065573770492,
          0.24,
          0.2857142857142857,
          0.17721518987341772,
          0.22641509433962265,
          0.1509433962264151,
          0.19875776397515527,
          0.14634146341463414,
          0,
          0.10434782608695652,
          0.24,
          0.1794871794871795,
          0.20454545454545456,
          0.20689655172413793,
          0.3595505617977528,
          0.22,
          0.21176470588235294,
          0.038461538461538464,
          0,
          0.2268041237113402,
          0.21568627450980393,
          0.25806451612903225,
          0.10909090909090909,
          0.30985915492957744,
          0.10909090909090909,
          0.25316455696202533,
          0.07547169811320754,
          0.23880597014925373,
          0.12307692307692308,
          0.20168067226890757,
          0,
          0.13157894736842105,
          0.1276595744680851,
          0.16901408450704225
         ],
         "yaxis": "y8"
        }
       ],
       "layout": {
        "template": {
         "data": {
          "bar": [
           {
            "error_x": {
             "color": "#2a3f5f"
            },
            "error_y": {
             "color": "#2a3f5f"
            },
            "marker": {
             "line": {
              "color": "#E5ECF6",
              "width": 0.5
             },
             "pattern": {
              "fillmode": "overlay",
              "size": 10,
              "solidity": 0.2
             }
            },
            "type": "bar"
           }
          ],
          "barpolar": [
           {
            "marker": {
             "line": {
              "color": "#E5ECF6",
              "width": 0.5
             },
             "pattern": {
              "fillmode": "overlay",
              "size": 10,
              "solidity": 0.2
             }
            },
            "type": "barpolar"
           }
          ],
          "carpet": [
           {
            "aaxis": {
             "endlinecolor": "#2a3f5f",
             "gridcolor": "white",
             "linecolor": "white",
             "minorgridcolor": "white",
             "startlinecolor": "#2a3f5f"
            },
            "baxis": {
             "endlinecolor": "#2a3f5f",
             "gridcolor": "white",
             "linecolor": "white",
             "minorgridcolor": "white",
             "startlinecolor": "#2a3f5f"
            },
            "type": "carpet"
           }
          ],
          "choropleth": [
           {
            "colorbar": {
             "outlinewidth": 0,
             "ticks": ""
            },
            "type": "choropleth"
           }
          ],
          "contour": [
           {
            "colorbar": {
             "outlinewidth": 0,
             "ticks": ""
            },
            "colorscale": [
             [
              0,
              "#0d0887"
             ],
             [
              0.1111111111111111,
              "#46039f"
             ],
             [
              0.2222222222222222,
              "#7201a8"
             ],
             [
              0.3333333333333333,
              "#9c179e"
             ],
             [
              0.4444444444444444,
              "#bd3786"
             ],
             [
              0.5555555555555556,
              "#d8576b"
             ],
             [
              0.6666666666666666,
              "#ed7953"
             ],
             [
              0.7777777777777778,
              "#fb9f3a"
             ],
             [
              0.8888888888888888,
              "#fdca26"
             ],
             [
              1,
              "#f0f921"
             ]
            ],
            "type": "contour"
           }
          ],
          "contourcarpet": [
           {
            "colorbar": {
             "outlinewidth": 0,
             "ticks": ""
            },
            "type": "contourcarpet"
           }
          ],
          "heatmap": [
           {
            "colorbar": {
             "outlinewidth": 0,
             "ticks": ""
            },
            "colorscale": [
             [
              0,
              "#0d0887"
             ],
             [
              0.1111111111111111,
              "#46039f"
             ],
             [
              0.2222222222222222,
              "#7201a8"
             ],
             [
              0.3333333333333333,
              "#9c179e"
             ],
             [
              0.4444444444444444,
              "#bd3786"
             ],
             [
              0.5555555555555556,
              "#d8576b"
             ],
             [
              0.6666666666666666,
              "#ed7953"
             ],
             [
              0.7777777777777778,
              "#fb9f3a"
             ],
             [
              0.8888888888888888,
              "#fdca26"
             ],
             [
              1,
              "#f0f921"
             ]
            ],
            "type": "heatmap"
           }
          ],
          "histogram": [
           {
            "marker": {
             "pattern": {
              "fillmode": "overlay",
              "size": 10,
              "solidity": 0.2
             }
            },
            "type": "histogram"
           }
          ],
          "histogram2d": [
           {
            "colorbar": {
             "outlinewidth": 0,
             "ticks": ""
            },
            "colorscale": [
             [
              0,
              "#0d0887"
             ],
             [
              0.1111111111111111,
              "#46039f"
             ],
             [
              0.2222222222222222,
              "#7201a8"
             ],
             [
              0.3333333333333333,
              "#9c179e"
             ],
             [
              0.4444444444444444,
              "#bd3786"
             ],
             [
              0.5555555555555556,
              "#d8576b"
             ],
             [
              0.6666666666666666,
              "#ed7953"
             ],
             [
              0.7777777777777778,
              "#fb9f3a"
             ],
             [
              0.8888888888888888,
              "#fdca26"
             ],
             [
              1,
              "#f0f921"
             ]
            ],
            "type": "histogram2d"
           }
          ],
          "histogram2dcontour": [
           {
            "colorbar": {
             "outlinewidth": 0,
             "ticks": ""
            },
            "colorscale": [
             [
              0,
              "#0d0887"
             ],
             [
              0.1111111111111111,
              "#46039f"
             ],
             [
              0.2222222222222222,
              "#7201a8"
             ],
             [
              0.3333333333333333,
              "#9c179e"
             ],
             [
              0.4444444444444444,
              "#bd3786"
             ],
             [
              0.5555555555555556,
              "#d8576b"
             ],
             [
              0.6666666666666666,
              "#ed7953"
             ],
             [
              0.7777777777777778,
              "#fb9f3a"
             ],
             [
              0.8888888888888888,
              "#fdca26"
             ],
             [
              1,
              "#f0f921"
             ]
            ],
            "type": "histogram2dcontour"
           }
          ],
          "mesh3d": [
           {
            "colorbar": {
             "outlinewidth": 0,
             "ticks": ""
            },
            "type": "mesh3d"
           }
          ],
          "parcoords": [
           {
            "line": {
             "colorbar": {
              "outlinewidth": 0,
              "ticks": ""
             }
            },
            "type": "parcoords"
           }
          ],
          "pie": [
           {
            "automargin": true,
            "type": "pie"
           }
          ],
          "scatter": [
           {
            "fillpattern": {
             "fillmode": "overlay",
             "size": 10,
             "solidity": 0.2
            },
            "type": "scatter"
           }
          ],
          "scatter3d": [
           {
            "line": {
             "colorbar": {
              "outlinewidth": 0,
              "ticks": ""
             }
            },
            "marker": {
             "colorbar": {
              "outlinewidth": 0,
              "ticks": ""
             }
            },
            "type": "scatter3d"
           }
          ],
          "scattercarpet": [
           {
            "marker": {
             "colorbar": {
              "outlinewidth": 0,
              "ticks": ""
             }
            },
            "type": "scattercarpet"
           }
          ],
          "scattergeo": [
           {
            "marker": {
             "colorbar": {
              "outlinewidth": 0,
              "ticks": ""
             }
            },
            "type": "scattergeo"
           }
          ],
          "scattergl": [
           {
            "marker": {
             "colorbar": {
              "outlinewidth": 0,
              "ticks": ""
             }
            },
            "type": "scattergl"
           }
          ],
          "scattermap": [
           {
            "marker": {
             "colorbar": {
              "outlinewidth": 0,
              "ticks": ""
             }
            },
            "type": "scattermap"
           }
          ],
          "scattermapbox": [
           {
            "marker": {
             "colorbar": {
              "outlinewidth": 0,
              "ticks": ""
             }
            },
            "type": "scattermapbox"
           }
          ],
          "scatterpolar": [
           {
            "marker": {
             "colorbar": {
              "outlinewidth": 0,
              "ticks": ""
             }
            },
            "type": "scatterpolar"
           }
          ],
          "scatterpolargl": [
           {
            "marker": {
             "colorbar": {
              "outlinewidth": 0,
              "ticks": ""
             }
            },
            "type": "scatterpolargl"
           }
          ],
          "scatterternary": [
           {
            "marker": {
             "colorbar": {
              "outlinewidth": 0,
              "ticks": ""
             }
            },
            "type": "scatterternary"
           }
          ],
          "surface": [
           {
            "colorbar": {
             "outlinewidth": 0,
             "ticks": ""
            },
            "colorscale": [
             [
              0,
              "#0d0887"
             ],
             [
              0.1111111111111111,
              "#46039f"
             ],
             [
              0.2222222222222222,
              "#7201a8"
             ],
             [
              0.3333333333333333,
              "#9c179e"
             ],
             [
              0.4444444444444444,
              "#bd3786"
             ],
             [
              0.5555555555555556,
              "#d8576b"
             ],
             [
              0.6666666666666666,
              "#ed7953"
             ],
             [
              0.7777777777777778,
              "#fb9f3a"
             ],
             [
              0.8888888888888888,
              "#fdca26"
             ],
             [
              1,
              "#f0f921"
             ]
            ],
            "type": "surface"
           }
          ],
          "table": [
           {
            "cells": {
             "fill": {
              "color": "#EBF0F8"
             },
             "line": {
              "color": "white"
             }
            },
            "header": {
             "fill": {
              "color": "#C8D4E3"
             },
             "line": {
              "color": "white"
             }
            },
            "type": "table"
           }
          ]
         },
         "layout": {
          "annotationdefaults": {
           "arrowcolor": "#2a3f5f",
           "arrowhead": 0,
           "arrowwidth": 1
          },
          "autotypenumbers": "strict",
          "coloraxis": {
           "colorbar": {
            "outlinewidth": 0,
            "ticks": ""
           }
          },
          "colorscale": {
           "diverging": [
            [
             0,
             "#8e0152"
            ],
            [
             0.1,
             "#c51b7d"
            ],
            [
             0.2,
             "#de77ae"
            ],
            [
             0.3,
             "#f1b6da"
            ],
            [
             0.4,
             "#fde0ef"
            ],
            [
             0.5,
             "#f7f7f7"
            ],
            [
             0.6,
             "#e6f5d0"
            ],
            [
             0.7,
             "#b8e186"
            ],
            [
             0.8,
             "#7fbc41"
            ],
            [
             0.9,
             "#4d9221"
            ],
            [
             1,
             "#276419"
            ]
           ],
           "sequential": [
            [
             0,
             "#0d0887"
            ],
            [
             0.1111111111111111,
             "#46039f"
            ],
            [
             0.2222222222222222,
             "#7201a8"
            ],
            [
             0.3333333333333333,
             "#9c179e"
            ],
            [
             0.4444444444444444,
             "#bd3786"
            ],
            [
             0.5555555555555556,
             "#d8576b"
            ],
            [
             0.6666666666666666,
             "#ed7953"
            ],
            [
             0.7777777777777778,
             "#fb9f3a"
            ],
            [
             0.8888888888888888,
             "#fdca26"
            ],
            [
             1,
             "#f0f921"
            ]
           ],
           "sequentialminus": [
            [
             0,
             "#0d0887"
            ],
            [
             0.1111111111111111,
             "#46039f"
            ],
            [
             0.2222222222222222,
             "#7201a8"
            ],
            [
             0.3333333333333333,
             "#9c179e"
            ],
            [
             0.4444444444444444,
             "#bd3786"
            ],
            [
             0.5555555555555556,
             "#d8576b"
            ],
            [
             0.6666666666666666,
             "#ed7953"
            ],
            [
             0.7777777777777778,
             "#fb9f3a"
            ],
            [
             0.8888888888888888,
             "#fdca26"
            ],
            [
             1,
             "#f0f921"
            ]
           ]
          },
          "colorway": [
           "#636efa",
           "#EF553B",
           "#00cc96",
           "#ab63fa",
           "#FFA15A",
           "#19d3f3",
           "#FF6692",
           "#B6E880",
           "#FF97FF",
           "#FECB52"
          ],
          "font": {
           "color": "#2a3f5f"
          },
          "geo": {
           "bgcolor": "white",
           "lakecolor": "white",
           "landcolor": "#E5ECF6",
           "showlakes": true,
           "showland": true,
           "subunitcolor": "white"
          },
          "hoverlabel": {
           "align": "left"
          },
          "hovermode": "closest",
          "mapbox": {
           "style": "light"
          },
          "paper_bgcolor": "white",
          "plot_bgcolor": "#E5ECF6",
          "polar": {
           "angularaxis": {
            "gridcolor": "white",
            "linecolor": "white",
            "ticks": ""
           },
           "bgcolor": "#E5ECF6",
           "radialaxis": {
            "gridcolor": "white",
            "linecolor": "white",
            "ticks": ""
           }
          },
          "scene": {
           "xaxis": {
            "backgroundcolor": "#E5ECF6",
            "gridcolor": "white",
            "gridwidth": 2,
            "linecolor": "white",
            "showbackground": true,
            "ticks": "",
            "zerolinecolor": "white"
           },
           "yaxis": {
            "backgroundcolor": "#E5ECF6",
            "gridcolor": "white",
            "gridwidth": 2,
            "linecolor": "white",
            "showbackground": true,
            "ticks": "",
            "zerolinecolor": "white"
           },
           "zaxis": {
            "backgroundcolor": "#E5ECF6",
            "gridcolor": "white",
            "gridwidth": 2,
            "linecolor": "white",
            "showbackground": true,
            "ticks": "",
            "zerolinecolor": "white"
           }
          },
          "shapedefaults": {
           "line": {
            "color": "#2a3f5f"
           }
          },
          "ternary": {
           "aaxis": {
            "gridcolor": "white",
            "linecolor": "white",
            "ticks": ""
           },
           "baxis": {
            "gridcolor": "white",
            "linecolor": "white",
            "ticks": ""
           },
           "bgcolor": "#E5ECF6",
           "caxis": {
            "gridcolor": "white",
            "linecolor": "white",
            "ticks": ""
           }
          },
          "title": {
           "x": 0.05
          },
          "xaxis": {
           "automargin": true,
           "gridcolor": "white",
           "linecolor": "white",
           "ticks": "",
           "title": {
            "standoff": 15
           },
           "zerolinecolor": "white",
           "zerolinewidth": 2
          },
          "yaxis": {
           "automargin": true,
           "gridcolor": "white",
           "linecolor": "white",
           "ticks": "",
           "title": {
            "standoff": 15
           },
           "zerolinecolor": "white",
           "zerolinewidth": 2
          }
         }
        },
        "title": {
         "text": "Slice Plot"
        },
        "width": 2400,
        "xaxis": {
         "anchor": "y",
         "categoryarray": [
          32,
          64,
          128
         ],
         "categoryorder": "array",
         "domain": [
          0,
          0.103125
         ],
         "title": {
          "text": "batch_size"
         },
         "type": "category"
        },
        "xaxis2": {
         "anchor": "y2",
         "categoryarray": [
          "relu",
          "tanh"
         ],
         "categoryorder": "array",
         "domain": [
          0.128125,
          0.23124999999999998
         ],
         "title": {
          "text": "dense_activation"
         },
         "type": "category"
        },
        "xaxis3": {
         "anchor": "y3",
         "domain": [
          0.25625,
          0.359375
         ],
         "title": {
          "text": "dense_units"
         }
        },
        "xaxis4": {
         "anchor": "y4",
         "domain": [
          0.38437499999999997,
          0.48749999999999993
         ],
         "title": {
          "text": "dropout"
         }
        },
        "xaxis5": {
         "anchor": "y5",
         "domain": [
          0.5125,
          0.615625
         ],
         "title": {
          "text": "learning_rate"
         },
         "type": "log"
        },
        "xaxis6": {
         "anchor": "y6",
         "categoryarray": [
          "adam",
          "rmsprop",
          "adamw"
         ],
         "categoryorder": "array",
         "domain": [
          0.640625,
          0.74375
         ],
         "title": {
          "text": "optimizer"
         },
         "type": "category"
        },
        "xaxis7": {
         "anchor": "y7",
         "domain": [
          0.76875,
          0.8718750000000001
         ],
         "title": {
          "text": "patience"
         }
        },
        "xaxis8": {
         "anchor": "y8",
         "domain": [
          0.8968750000000001,
          1
         ],
         "title": {
          "text": "units1"
         }
        },
        "yaxis": {
         "anchor": "x",
         "domain": [
          0,
          1
         ],
         "title": {
          "text": "Objective Value"
         }
        },
        "yaxis2": {
         "anchor": "x2",
         "domain": [
          0,
          1
         ],
         "matches": "y",
         "showticklabels": false
        },
        "yaxis3": {
         "anchor": "x3",
         "domain": [
          0,
          1
         ],
         "matches": "y",
         "showticklabels": false
        },
        "yaxis4": {
         "anchor": "x4",
         "domain": [
          0,
          1
         ],
         "matches": "y",
         "showticklabels": false
        },
        "yaxis5": {
         "anchor": "x5",
         "domain": [
          0,
          1
         ],
         "matches": "y",
         "showticklabels": false
        },
        "yaxis6": {
         "anchor": "x6",
         "domain": [
          0,
          1
         ],
         "matches": "y",
         "showticklabels": false
        },
        "yaxis7": {
         "anchor": "x7",
         "domain": [
          0,
          1
         ],
         "matches": "y",
         "showticklabels": false
        },
        "yaxis8": {
         "anchor": "x8",
         "domain": [
          0,
          1
         ],
         "matches": "y",
         "showticklabels": false
        }
       }
      }
     },
     "metadata": {},
     "output_type": "display_data"
    }
   ],
   "source": [
    "# --- Celda Nueva: Análisis de Hiperparámetros ---\n",
    "from optuna.visualization import plot_param_importances, plot_slice\n",
    "\n",
    "# 1. Gráfico de Importancia de Hiperparámetros\n",
    "# Muestra qué hiperparámetros tuvieron el mayor impacto en el score.\n",
    "param_importances = plot_param_importances(study)\n",
    "param_importances.show()\n",
    "\n",
    "# 2. Gráfico de Corte (Slice Plot)\n",
    "# Muestra cómo varía el score para cada valor de cada hiperparámetro.\n",
    "# Es excelente para ver los \"rangos buenos\" de cada parámetro.\n",
    "slice_plot = plot_slice(study)\n",
    "slice_plot.show()"
   ]
  },
  {
   "cell_type": "code",
   "execution_count": 9,
   "id": "527be77c",
   "metadata": {},
   "outputs": [],
   "source": [
    "# --- Cargar Hiperparámetros y Entrenar Modelo Final ---\n",
    "\n",
    "# Cargar los mejores hiperparámetros\n",
    "with open(\"best_hyperparams_lstm1.json\", \"r\") as f:\n",
    "    history = json.load(f)\n",
    "best_params = history[-1][\"params\"]"
   ]
  },
  {
   "cell_type": "code",
   "execution_count": 13,
   "id": "fe140a72",
   "metadata": {},
   "outputs": [
    {
     "ename": "ValueError",
     "evalue": "The value of the parameter 'lstm_layers' is not found. Please set it at the construction of the FixedTrial object.",
     "output_type": "error",
     "traceback": [
      "\u001b[0;31m---------------------------------------------------------------------------\u001b[0m",
      "\u001b[0;31mValueError\u001b[0m                                Traceback (most recent call last)",
      "Cell \u001b[0;32mIn[13], line 11\u001b[0m\n\u001b[1;32m      8\u001b[0m tf\u001b[38;5;241m.\u001b[39mrandom\u001b[38;5;241m.\u001b[39mset_seed(SEED)\n\u001b[1;32m     10\u001b[0m \u001b[38;5;66;03m# --- 2. Reconstruir el modelo con los mejores hiperparámetros ---\u001b[39;00m\n\u001b[0;32m---> 11\u001b[0m final_model \u001b[38;5;241m=\u001b[39m \u001b[43mbuild_model\u001b[49m\u001b[43m(\u001b[49m\n\u001b[1;32m     12\u001b[0m \u001b[43m    \u001b[49m\u001b[43mtrial\u001b[49m\u001b[38;5;241;43m=\u001b[39;49m\u001b[43moptuna\u001b[49m\u001b[38;5;241;43m.\u001b[39;49m\u001b[43mtrial\u001b[49m\u001b[38;5;241;43m.\u001b[39;49m\u001b[43mFixedTrial\u001b[49m\u001b[43m(\u001b[49m\u001b[43mbest_params\u001b[49m\u001b[43m)\u001b[49m\u001b[43m,\u001b[49m\n\u001b[1;32m     13\u001b[0m \u001b[43m    \u001b[49m\u001b[43mtimesteps\u001b[49m\u001b[38;5;241;43m=\u001b[39;49m\u001b[43mX_train\u001b[49m\u001b[38;5;241;43m.\u001b[39;49m\u001b[43mshape\u001b[49m\u001b[43m[\u001b[49m\u001b[38;5;241;43m1\u001b[39;49m\u001b[43m]\u001b[49m\u001b[43m,\u001b[49m\n\u001b[1;32m     14\u001b[0m \u001b[43m    \u001b[49m\u001b[43mfeatures\u001b[49m\u001b[38;5;241;43m=\u001b[39;49m\u001b[43mX_train\u001b[49m\u001b[38;5;241;43m.\u001b[39;49m\u001b[43mshape\u001b[49m\u001b[43m[\u001b[49m\u001b[38;5;241;43m2\u001b[39;49m\u001b[43m]\u001b[49m\n\u001b[1;32m     15\u001b[0m \u001b[43m)\u001b[49m\n\u001b[1;32m     16\u001b[0m final_model\u001b[38;5;241m.\u001b[39msummary()\n\u001b[1;32m     18\u001b[0m \u001b[38;5;66;03m# --- 3. Configurar y ejecutar el entrenamiento ---\u001b[39;00m\n",
      "Cell \u001b[0;32mIn[12], line 55\u001b[0m, in \u001b[0;36mbuild_model\u001b[0;34m(trial, timesteps, features)\u001b[0m\n\u001b[1;32m     54\u001b[0m \u001b[38;5;28;01mdef\u001b[39;00m\u001b[38;5;250m \u001b[39m\u001b[38;5;21mbuild_model\u001b[39m(trial, timesteps, features):\n\u001b[0;32m---> 55\u001b[0m     lstm_layers \u001b[38;5;241m=\u001b[39m \u001b[43mtrial\u001b[49m\u001b[38;5;241;43m.\u001b[39;49m\u001b[43msuggest_int\u001b[49m\u001b[43m(\u001b[49m\u001b[38;5;124;43m\"\u001b[39;49m\u001b[38;5;124;43mlstm_layers\u001b[39;49m\u001b[38;5;124;43m\"\u001b[39;49m\u001b[43m,\u001b[49m\u001b[43m \u001b[49m\u001b[38;5;241;43m1\u001b[39;49m\u001b[43m,\u001b[49m\u001b[43m \u001b[49m\u001b[38;5;241;43m2\u001b[39;49m\u001b[43m)\u001b[49m\n\u001b[1;32m     56\u001b[0m     units1 \u001b[38;5;241m=\u001b[39m trial\u001b[38;5;241m.\u001b[39msuggest_int(\u001b[38;5;124m\"\u001b[39m\u001b[38;5;124munits1\u001b[39m\u001b[38;5;124m\"\u001b[39m, \u001b[38;5;241m32\u001b[39m, \u001b[38;5;241m256\u001b[39m, step\u001b[38;5;241m=\u001b[39m\u001b[38;5;241m32\u001b[39m)\n\u001b[1;32m     57\u001b[0m     units2 \u001b[38;5;241m=\u001b[39m trial\u001b[38;5;241m.\u001b[39msuggest_int(\u001b[38;5;124m\"\u001b[39m\u001b[38;5;124munits2\u001b[39m\u001b[38;5;124m\"\u001b[39m, \u001b[38;5;241m32\u001b[39m, \u001b[38;5;241m256\u001b[39m, step\u001b[38;5;241m=\u001b[39m\u001b[38;5;241m32\u001b[39m) \u001b[38;5;28;01mif\u001b[39;00m lstm_layers \u001b[38;5;241m==\u001b[39m \u001b[38;5;241m2\u001b[39m \u001b[38;5;28;01melse\u001b[39;00m \u001b[38;5;28;01mNone\u001b[39;00m\n",
      "File \u001b[0;32m~/bitcoin_sentiment_forecaster/tf_venv2/lib/python3.10/site-packages/optuna/_convert_positional_args.py:135\u001b[0m, in \u001b[0;36mconvert_positional_args.<locals>.converter_decorator.<locals>.converter_wrapper\u001b[0;34m(*args, **kwargs)\u001b[0m\n\u001b[1;32m    129\u001b[0m     \u001b[38;5;28;01mraise\u001b[39;00m \u001b[38;5;167;01mTypeError\u001b[39;00m(\n\u001b[1;32m    130\u001b[0m         \u001b[38;5;124mf\u001b[39m\u001b[38;5;124m\"\u001b[39m\u001b[38;5;132;01m{\u001b[39;00mfunc\u001b[38;5;241m.\u001b[39m\u001b[38;5;18m__name__\u001b[39m\u001b[38;5;132;01m}\u001b[39;00m\u001b[38;5;124m() got multiple values for arguments \u001b[39m\u001b[38;5;132;01m{\u001b[39;00mduplicated_kwds\u001b[38;5;132;01m}\u001b[39;00m\u001b[38;5;124m.\u001b[39m\u001b[38;5;124m\"\u001b[39m\n\u001b[1;32m    131\u001b[0m     )\n\u001b[1;32m    133\u001b[0m kwargs\u001b[38;5;241m.\u001b[39mupdate(inferred_kwargs)\n\u001b[0;32m--> 135\u001b[0m \u001b[38;5;28;01mreturn\u001b[39;00m \u001b[43mfunc\u001b[49m\u001b[43m(\u001b[49m\u001b[38;5;241;43m*\u001b[39;49m\u001b[38;5;241;43m*\u001b[39;49m\u001b[43mkwargs\u001b[49m\u001b[43m)\u001b[49m\n",
      "File \u001b[0;32m~/bitcoin_sentiment_forecaster/tf_venv2/lib/python3.10/site-packages/optuna/trial/_fixed.py:102\u001b[0m, in \u001b[0;36mFixedTrial.suggest_int\u001b[0;34m(self, name, low, high, step, log)\u001b[0m\n\u001b[1;32m     94\u001b[0m \u001b[38;5;129m@convert_positional_args\u001b[39m(\n\u001b[1;32m     95\u001b[0m     previous_positional_arg_names\u001b[38;5;241m=\u001b[39m_SUGGEST_INT_POSITIONAL_ARGS,\n\u001b[1;32m     96\u001b[0m     deprecated_version\u001b[38;5;241m=\u001b[39m\u001b[38;5;124m\"\u001b[39m\u001b[38;5;124m3.5.0\u001b[39m\u001b[38;5;124m\"\u001b[39m,\n\u001b[0;32m   (...)\u001b[0m\n\u001b[1;32m    100\u001b[0m     \u001b[38;5;28mself\u001b[39m, name: \u001b[38;5;28mstr\u001b[39m, low: \u001b[38;5;28mint\u001b[39m, high: \u001b[38;5;28mint\u001b[39m, \u001b[38;5;241m*\u001b[39m, step: \u001b[38;5;28mint\u001b[39m \u001b[38;5;241m=\u001b[39m \u001b[38;5;241m1\u001b[39m, log: \u001b[38;5;28mbool\u001b[39m \u001b[38;5;241m=\u001b[39m \u001b[38;5;28;01mFalse\u001b[39;00m\n\u001b[1;32m    101\u001b[0m ) \u001b[38;5;241m-\u001b[39m\u001b[38;5;241m>\u001b[39m \u001b[38;5;28mint\u001b[39m:\n\u001b[0;32m--> 102\u001b[0m     \u001b[38;5;28;01mreturn\u001b[39;00m \u001b[38;5;28mint\u001b[39m(\u001b[38;5;28;43mself\u001b[39;49m\u001b[38;5;241;43m.\u001b[39;49m\u001b[43m_suggest\u001b[49m\u001b[43m(\u001b[49m\u001b[43mname\u001b[49m\u001b[43m,\u001b[49m\u001b[43m \u001b[49m\u001b[43mIntDistribution\u001b[49m\u001b[43m(\u001b[49m\u001b[43mlow\u001b[49m\u001b[43m,\u001b[49m\u001b[43m \u001b[49m\u001b[43mhigh\u001b[49m\u001b[43m,\u001b[49m\u001b[43m \u001b[49m\u001b[43mlog\u001b[49m\u001b[38;5;241;43m=\u001b[39;49m\u001b[43mlog\u001b[49m\u001b[43m,\u001b[49m\u001b[43m \u001b[49m\u001b[43mstep\u001b[49m\u001b[38;5;241;43m=\u001b[39;49m\u001b[43mstep\u001b[49m\u001b[43m)\u001b[49m\u001b[43m)\u001b[49m)\n",
      "File \u001b[0;32m~/bitcoin_sentiment_forecaster/tf_venv2/lib/python3.10/site-packages/optuna/trial/_fixed.py:144\u001b[0m, in \u001b[0;36mFixedTrial._suggest\u001b[0;34m(self, name, distribution)\u001b[0m\n\u001b[1;32m    142\u001b[0m \u001b[38;5;28;01mdef\u001b[39;00m\u001b[38;5;250m \u001b[39m\u001b[38;5;21m_suggest\u001b[39m(\u001b[38;5;28mself\u001b[39m, name: \u001b[38;5;28mstr\u001b[39m, distribution: BaseDistribution) \u001b[38;5;241m-\u001b[39m\u001b[38;5;241m>\u001b[39m Any:\n\u001b[1;32m    143\u001b[0m     \u001b[38;5;28;01mif\u001b[39;00m name \u001b[38;5;129;01mnot\u001b[39;00m \u001b[38;5;129;01min\u001b[39;00m \u001b[38;5;28mself\u001b[39m\u001b[38;5;241m.\u001b[39m_params:\n\u001b[0;32m--> 144\u001b[0m         \u001b[38;5;28;01mraise\u001b[39;00m \u001b[38;5;167;01mValueError\u001b[39;00m(\n\u001b[1;32m    145\u001b[0m             \u001b[38;5;124m\"\u001b[39m\u001b[38;5;124mThe value of the parameter \u001b[39m\u001b[38;5;124m'\u001b[39m\u001b[38;5;132;01m{}\u001b[39;00m\u001b[38;5;124m'\u001b[39m\u001b[38;5;124m is not found. Please set it at \u001b[39m\u001b[38;5;124m\"\u001b[39m\n\u001b[1;32m    146\u001b[0m             \u001b[38;5;124m\"\u001b[39m\u001b[38;5;124mthe construction of the FixedTrial object.\u001b[39m\u001b[38;5;124m\"\u001b[39m\u001b[38;5;241m.\u001b[39mformat(name)\n\u001b[1;32m    147\u001b[0m         )\n\u001b[1;32m    149\u001b[0m     value \u001b[38;5;241m=\u001b[39m \u001b[38;5;28mself\u001b[39m\u001b[38;5;241m.\u001b[39m_params[name]\n\u001b[1;32m    150\u001b[0m     param_value_in_internal_repr \u001b[38;5;241m=\u001b[39m distribution\u001b[38;5;241m.\u001b[39mto_internal_repr(value)\n",
      "\u001b[0;31mValueError\u001b[0m: The value of the parameter 'lstm_layers' is not found. Please set it at the construction of the FixedTrial object."
     ]
    }
   ],
   "source": [
    "# ========= Entrenamiento final con mejores HP =========\n",
    "\n",
    "# --- 1. Limpiar y fijar semillas para reproducibilidad ---\n",
    "tf.keras.backend.clear_session()\n",
    "os.environ['PYTHONHASHSEED'] = str(SEED)\n",
    "random.seed(SEED)\n",
    "np.random.seed(SEED)\n",
    "tf.random.set_seed(SEED)\n",
    "\n",
    "# --- 2. Reconstruir el modelo con los mejores hiperparámetros ---\n",
    "final_model = build_model(\n",
    "    trial=optuna.trial.FixedTrial(best_params),\n",
    "    timesteps=X_train.shape[1],\n",
    "    features=X_train.shape[2]\n",
    ")\n",
    "final_model.summary()\n",
    "\n",
    "# --- 3. Configurar y ejecutar el entrenamiento ---\n",
    "early_stop = EarlyStopping(\n",
    "    monitor=\"val_loss\", \n",
    "    patience=best_params.get(\"patience\", 10), \n",
    "    restore_best_weights=True, \n",
    "    verbose=1\n",
    ")\n",
    "\n",
    "history = final_model.fit(\n",
    "    X_train, y_train,\n",
    "    validation_data=(X_val, y_val),\n",
    "    epochs=120,  # Usar un número de épocas suficiente, EarlyStopping se encargará\n",
    "    batch_size=best_params.get(\"batch_size\", 64),\n",
    "    callbacks=[early_stop],\n",
    "    verbose=1\n",
    ")\n"
   ]
  },
  {
   "cell_type": "code",
   "execution_count": null,
   "id": "26b5c3fc",
   "metadata": {},
   "outputs": [
    {
     "name": "stdout",
     "output_type": "stream",
     "text": [
      "Epoch 1/120\n",
      "43/43 [==============================] - 3s 19ms/step - loss: 1.1843 - accuracy: 0.3421 - val_loss: 1.0938 - val_accuracy: 0.1905\n",
      "Epoch 2/120\n",
      "43/43 [==============================] - 0s 8ms/step - loss: 1.1203 - accuracy: 0.3792 - val_loss: 1.0184 - val_accuracy: 0.4626\n",
      "Epoch 3/120\n",
      "43/43 [==============================] - 0s 8ms/step - loss: 1.1167 - accuracy: 0.3806 - val_loss: 1.0580 - val_accuracy: 0.4558\n",
      "Epoch 4/120\n",
      "43/43 [==============================] - 0s 8ms/step - loss: 1.0983 - accuracy: 0.4025 - val_loss: 1.0576 - val_accuracy: 0.2789\n",
      "Epoch 5/120\n",
      "43/43 [==============================] - 0s 8ms/step - loss: 1.0890 - accuracy: 0.4134 - val_loss: 0.9650 - val_accuracy: 0.5782\n",
      "Epoch 6/120\n",
      "43/43 [==============================] - 0s 8ms/step - loss: 1.0888 - accuracy: 0.3959 - val_loss: 0.9905 - val_accuracy: 0.5034\n",
      "Epoch 7/120\n",
      "43/43 [==============================] - 0s 8ms/step - loss: 1.0893 - accuracy: 0.4265 - val_loss: 0.9843 - val_accuracy: 0.5782\n",
      "Epoch 8/120\n",
      "43/43 [==============================] - 0s 8ms/step - loss: 1.0687 - accuracy: 0.4170 - val_loss: 0.9502 - val_accuracy: 0.7517\n",
      "Epoch 9/120\n",
      "43/43 [==============================] - 0s 8ms/step - loss: 1.0599 - accuracy: 0.4389 - val_loss: 0.9622 - val_accuracy: 0.5884\n",
      "Epoch 10/120\n",
      "43/43 [==============================] - 0s 8ms/step - loss: 1.0884 - accuracy: 0.4025 - val_loss: 1.0266 - val_accuracy: 0.6599\n",
      "Epoch 11/120\n",
      "43/43 [==============================] - 0s 8ms/step - loss: 1.0918 - accuracy: 0.4039 - val_loss: 1.0399 - val_accuracy: 0.6088\n",
      "Epoch 12/120\n",
      "43/43 [==============================] - 0s 8ms/step - loss: 1.0803 - accuracy: 0.4112 - val_loss: 1.0518 - val_accuracy: 0.5442\n",
      "Epoch 13/120\n",
      "43/43 [==============================] - 0s 8ms/step - loss: 1.0666 - accuracy: 0.4185 - val_loss: 1.0285 - val_accuracy: 0.5952\n",
      "Epoch 14/120\n",
      "43/43 [==============================] - 0s 8ms/step - loss: 1.0710 - accuracy: 0.4330 - val_loss: 0.9438 - val_accuracy: 0.7585\n",
      "Epoch 15/120\n",
      "43/43 [==============================] - 0s 8ms/step - loss: 1.0564 - accuracy: 0.4352 - val_loss: 1.0692 - val_accuracy: 0.4694\n",
      "Epoch 16/120\n",
      "43/43 [==============================] - 0s 8ms/step - loss: 1.0808 - accuracy: 0.4076 - val_loss: 1.0582 - val_accuracy: 0.5068\n",
      "Epoch 17/120\n",
      "43/43 [==============================] - 0s 8ms/step - loss: 1.0650 - accuracy: 0.4250 - val_loss: 0.9816 - val_accuracy: 0.7007\n",
      "Epoch 18/120\n",
      "43/43 [==============================] - 0s 8ms/step - loss: 1.0568 - accuracy: 0.4185 - val_loss: 0.9026 - val_accuracy: 0.7653\n",
      "Epoch 19/120\n",
      "43/43 [==============================] - 0s 8ms/step - loss: 1.0418 - accuracy: 0.4549 - val_loss: 0.8855 - val_accuracy: 0.7551\n",
      "Epoch 20/120\n",
      "43/43 [==============================] - 0s 8ms/step - loss: 1.0396 - accuracy: 0.4396 - val_loss: 0.9007 - val_accuracy: 0.7041\n",
      "Epoch 21/120\n",
      "43/43 [==============================] - 0s 8ms/step - loss: 1.0318 - accuracy: 0.4585 - val_loss: 0.9611 - val_accuracy: 0.6973\n",
      "Epoch 22/120\n",
      "43/43 [==============================] - 0s 8ms/step - loss: 1.0559 - accuracy: 0.4498 - val_loss: 0.9408 - val_accuracy: 0.6871\n",
      "Epoch 23/120\n",
      "43/43 [==============================] - 0s 8ms/step - loss: 1.0428 - accuracy: 0.4469 - val_loss: 0.8902 - val_accuracy: 0.7007\n",
      "Epoch 24/120\n",
      "43/43 [==============================] - 0s 8ms/step - loss: 1.0449 - accuracy: 0.4338 - val_loss: 1.0036 - val_accuracy: 0.3980\n",
      "Epoch 25/120\n",
      "43/43 [==============================] - 0s 8ms/step - loss: 1.0556 - accuracy: 0.4367 - val_loss: 0.8887 - val_accuracy: 0.7721\n",
      "Epoch 26/120\n",
      "43/43 [==============================] - 0s 8ms/step - loss: 1.0468 - accuracy: 0.4469 - val_loss: 0.8971 - val_accuracy: 0.7041\n",
      "Epoch 27/120\n",
      "43/43 [==============================] - 0s 8ms/step - loss: 1.0353 - accuracy: 0.4461 - val_loss: 0.8381 - val_accuracy: 0.7653\n",
      "Epoch 28/120\n",
      "43/43 [==============================] - 0s 7ms/step - loss: 1.0381 - accuracy: 0.4556 - val_loss: 0.8509 - val_accuracy: 0.7449\n",
      "Epoch 29/120\n",
      "43/43 [==============================] - 0s 8ms/step - loss: 1.0376 - accuracy: 0.4454 - val_loss: 0.7951 - val_accuracy: 0.7483\n",
      "Epoch 30/120\n",
      "43/43 [==============================] - 0s 8ms/step - loss: 1.0489 - accuracy: 0.4592 - val_loss: 0.8707 - val_accuracy: 0.7551\n",
      "Epoch 31/120\n",
      "43/43 [==============================] - 0s 8ms/step - loss: 1.0391 - accuracy: 0.4403 - val_loss: 0.8760 - val_accuracy: 0.6565\n",
      "Epoch 32/120\n",
      "43/43 [==============================] - 0s 8ms/step - loss: 1.0214 - accuracy: 0.4803 - val_loss: 0.8624 - val_accuracy: 0.6463\n",
      "Epoch 33/120\n",
      "43/43 [==============================] - 0s 7ms/step - loss: 1.0289 - accuracy: 0.4665 - val_loss: 0.8237 - val_accuracy: 0.7789\n",
      "Epoch 34/120\n",
      "43/43 [==============================] - 0s 7ms/step - loss: 1.0276 - accuracy: 0.4767 - val_loss: 0.9623 - val_accuracy: 0.5748\n",
      "Epoch 35/120\n",
      "43/43 [==============================] - 0s 7ms/step - loss: 1.0360 - accuracy: 0.4549 - val_loss: 0.8801 - val_accuracy: 0.6259\n",
      "Epoch 36/120\n",
      "43/43 [==============================] - 0s 7ms/step - loss: 1.0367 - accuracy: 0.4425 - val_loss: 0.7829 - val_accuracy: 0.7721\n",
      "Epoch 37/120\n",
      "43/43 [==============================] - 0s 7ms/step - loss: 1.0227 - accuracy: 0.4541 - val_loss: 0.8417 - val_accuracy: 0.7687\n",
      "Epoch 38/120\n",
      "43/43 [==============================] - 0s 8ms/step - loss: 1.0344 - accuracy: 0.4440 - val_loss: 0.8440 - val_accuracy: 0.7891\n",
      "Epoch 39/120\n",
      "43/43 [==============================] - 0s 8ms/step - loss: 1.0687 - accuracy: 0.4418 - val_loss: 0.9614 - val_accuracy: 0.5578\n",
      "Epoch 40/120\n",
      "43/43 [==============================] - 0s 7ms/step - loss: 1.0222 - accuracy: 0.4585 - val_loss: 0.8231 - val_accuracy: 0.7619\n",
      "Epoch 41/120\n",
      "43/43 [==============================] - 0s 7ms/step - loss: 1.0115 - accuracy: 0.4716 - val_loss: 0.8137 - val_accuracy: 0.7789\n",
      "Epoch 42/120\n",
      "43/43 [==============================] - 0s 7ms/step - loss: 1.0200 - accuracy: 0.4607 - val_loss: 0.8557 - val_accuracy: 0.7789\n",
      "Epoch 43/120\n",
      "43/43 [==============================] - 0s 7ms/step - loss: 1.0334 - accuracy: 0.4491 - val_loss: 0.9214 - val_accuracy: 0.5782\n",
      "Epoch 44/120\n",
      "43/43 [==============================] - 0s 7ms/step - loss: 1.0381 - accuracy: 0.4512 - val_loss: 0.8449 - val_accuracy: 0.7755\n",
      "Epoch 45/120\n",
      "43/43 [==============================] - 0s 7ms/step - loss: 1.0430 - accuracy: 0.4410 - val_loss: 0.9382 - val_accuracy: 0.5544\n",
      "Epoch 46/120\n",
      "36/43 [========================>.....] - ETA: 0s - loss: 1.0252 - accuracy: 0.4653Restoring model weights from the end of the best epoch: 36.\n",
      "43/43 [==============================] - 0s 7ms/step - loss: 1.0229 - accuracy: 0.4702 - val_loss: 0.8356 - val_accuracy: 0.7143\n",
      "Epoch 46: early stopping\n",
      "\n",
      "LSTM Trend Changes (Validation):\n",
      "               precision    recall  f1-score   support\n",
      "\n",
      "       False     0.9016    0.8494    0.8748       259\n",
      "        True     0.2041    0.2941    0.2410        34\n",
      "\n",
      "    accuracy                         0.7850       293\n",
      "   macro avg     0.5529    0.5718    0.5579       293\n",
      "weighted avg     0.8207    0.7850    0.8012       293\n",
      "\n",
      "Balanced accuracy (val): 0.5933137071234221\n",
      "Classification report (val):\n",
      "               precision    recall  f1-score   support\n",
      "\n",
      "           0     0.7714    0.8617    0.8141        94\n",
      "           1     0.0000    0.0000    0.0000        41\n",
      "           2     0.7725    0.9182    0.8391       159\n",
      "\n",
      "    accuracy                         0.7721       294\n",
      "   macro avg     0.5146    0.5933    0.5511       294\n",
      "weighted avg     0.6644    0.7721    0.7141       294\n",
      "\n",
      "\n",
      "LSTM Trend Changes (Test):\n",
      "               precision    recall  f1-score   support\n",
      "\n",
      "       False     0.9184    0.8555    0.8858       263\n",
      "        True     0.2245    0.3548    0.2750        31\n",
      "\n",
      "    accuracy                         0.8027       294\n",
      "   macro avg     0.5714    0.6052    0.5804       294\n",
      "weighted avg     0.8452    0.8027    0.8214       294\n",
      "\n",
      "Balanced accuracy (test): 0.5841125229761048\n",
      "Classification report (test):\n",
      "               precision    recall  f1-score   support\n",
      "\n",
      "           0     0.7193    0.8454    0.7773        97\n",
      "           1     0.0000    0.0000    0.0000        26\n",
      "           2     0.8619    0.9070    0.8839       172\n",
      "\n",
      "    accuracy                         0.8068       295\n",
      "   macro avg     0.5271    0.5841    0.5537       295\n",
      "weighted avg     0.7390    0.8068    0.7709       295\n",
      "\n"
     ]
    },
    {
     "name": "stderr",
     "output_type": "stream",
     "text": [
      "/home/toyotx22/bitcoin_sentiment_forecaster/tf_venv2/lib/python3.10/site-packages/sklearn/metrics/_classification.py:1509: UndefinedMetricWarning: Precision is ill-defined and being set to 0.0 in labels with no predicted samples. Use `zero_division` parameter to control this behavior.\n",
      "  _warn_prf(average, modifier, f\"{metric.capitalize()} is\", len(result))\n",
      "/home/toyotx22/bitcoin_sentiment_forecaster/tf_venv2/lib/python3.10/site-packages/sklearn/metrics/_classification.py:1509: UndefinedMetricWarning: Precision is ill-defined and being set to 0.0 in labels with no predicted samples. Use `zero_division` parameter to control this behavior.\n",
      "  _warn_prf(average, modifier, f\"{metric.capitalize()} is\", len(result))\n",
      "/home/toyotx22/bitcoin_sentiment_forecaster/tf_venv2/lib/python3.10/site-packages/sklearn/metrics/_classification.py:1509: UndefinedMetricWarning: Precision is ill-defined and being set to 0.0 in labels with no predicted samples. Use `zero_division` parameter to control this behavior.\n",
      "  _warn_prf(average, modifier, f\"{metric.capitalize()} is\", len(result))\n",
      "/home/toyotx22/bitcoin_sentiment_forecaster/tf_venv2/lib/python3.10/site-packages/sklearn/metrics/_classification.py:1509: UndefinedMetricWarning: Precision is ill-defined and being set to 0.0 in labels with no predicted samples. Use `zero_division` parameter to control this behavior.\n",
      "  _warn_prf(average, modifier, f\"{metric.capitalize()} is\", len(result))\n",
      "/home/toyotx22/bitcoin_sentiment_forecaster/tf_venv2/lib/python3.10/site-packages/sklearn/metrics/_classification.py:1509: UndefinedMetricWarning: Precision is ill-defined and being set to 0.0 in labels with no predicted samples. Use `zero_division` parameter to control this behavior.\n",
      "  _warn_prf(average, modifier, f\"{metric.capitalize()} is\", len(result))\n",
      "/home/toyotx22/bitcoin_sentiment_forecaster/tf_venv2/lib/python3.10/site-packages/sklearn/metrics/_classification.py:1509: UndefinedMetricWarning: Precision is ill-defined and being set to 0.0 in labels with no predicted samples. Use `zero_division` parameter to control this behavior.\n",
      "  _warn_prf(average, modifier, f\"{metric.capitalize()} is\", len(result))\n"
     ]
    },
    {
     "name": "stdout",
     "output_type": "stream",
     "text": [
      "\n",
      "LSTM Trend Changes (Train):\n",
      "               precision    recall  f1-score   support\n",
      "\n",
      "       False     0.9011    0.8671    0.8838      1219\n",
      "        True     0.1900    0.2468    0.2147       154\n",
      "\n",
      "    accuracy                         0.7975      1373\n",
      "   macro avg     0.5456    0.5569    0.5492      1373\n",
      "weighted avg     0.8213    0.7975    0.8087      1373\n",
      "\n",
      "Balanced accuracy (train): 0.6018199889428474\n",
      "\n",
      "Modelo guardado en lstm_best_model.keras\n"
     ]
    }
   ],
   "source": [
    "\n",
    "# ========= Evaluación =========\n",
    "# Validation\n",
    "val_logits = final_model.predict(X_val, verbose=0)\n",
    "y_val_pred = np.argmax(val_logits, axis=1)\n",
    "print(\"\\nLSTM Trend Changes (Validation):\\n\", trend_changes_score(y_val, y_val_pred))\n",
    "print(\"Balanced accuracy (val):\", balanced_accuracy_score(y_val, y_val_pred))\n",
    "print(\"Classification report (val):\\n\", classification_report(y_val, y_val_pred, digits=4))\n",
    "\n",
    "# Test\n",
    "test_logits = final_model.predict(X_test, verbose=0)\n",
    "y_test_pred = np.argmax(test_logits, axis=1)\n",
    "print(\"\\nLSTM Trend Changes (Test):\\n\", trend_changes_score(y_test, y_test_pred))\n",
    "print(\"Balanced accuracy (test):\", balanced_accuracy_score(y_test, y_test_pred))\n",
    "print(\"Classification report (test):\\n\", classification_report(y_test, y_test_pred, digits=4))\n",
    "\n",
    "# Train\n",
    "train_logits = final_model.predict(X_train, verbose=0)\n",
    "y_train_pred = np.argmax(train_logits, axis=1)\n",
    "print(\"\\nLSTM Trend Changes (Train):\\n\", trend_changes_score(y_train, y_train_pred))\n",
    "print(\"Balanced accuracy (train):\", balanced_accuracy_score(y_train, y_train_pred))\n",
    "\n",
    "# ========= Guardar modelo =========\n",
    "final_model.save(\"lstm_best_model.keras\")\n",
    "print(\"\\nModelo guardado en lstm_best_model.keras\")"
   ]
  },
  {
   "cell_type": "code",
   "execution_count": null,
   "id": "f510cce1",
   "metadata": {},
   "outputs": [],
   "source": [
    "# # --- Exportar y Comparar Métricas de Modelos (Validación) ---\n",
    "\n",
    "# # 1. Definir el nombre del modelo actual y el archivo de salida\n",
    "# model_name = 'LSTM'\n",
    "# output_file = '../../../score_models/model_comparison_metrics.csv'\n",
    "\n",
    "# # 2. Calcular el reporte de clasificación estándar\n",
    "# # Usamos y_val_m y y_val_pred que están en la misma escala (0,1,2)\n",
    "# report_dict = classification_report(y_val, y_val_pred, output_dict=True, zero_division=0)\n",
    "# precision = report_dict['macro avg']['precision']\n",
    "# recall = report_dict['macro avg']['recall']\n",
    "# f1_score = report_dict['macro avg']['f1-score']\n",
    "\n",
    "\n",
    "# # 3. Calcular el reporte de cambio de tendencia\n",
    "# report = get_trend_changes_report_dict(y_val, y_val_pred)\n",
    "# trend_change_precision = report['True']['precision']\n",
    "# trend_change_recall = report['True']['recall']\n",
    "# trend_change_f1_score = report['True']['f1-score']\n",
    "\n",
    "# # 4. Organizar las nuevas métricas\n",
    "# new_metrics = {\n",
    "#     'precision': precision,\n",
    "#     'recall': recall,\n",
    "#     'f1_score': f1_score,\n",
    "#     'trend_change_precision': trend_change_precision,\n",
    "#     'trend_change_recall': trend_change_recall,\n",
    "#     'trend_change_f1_score': trend_change_f1_score\n",
    "# }\n",
    "\n",
    "# # 5. Cargar, actualizar y guardar el DataFrame de comparación\n",
    "# try:\n",
    "#     # Intentar cargar el archivo existente\n",
    "#     comparison_df = pd.read_csv(output_file, index_col='model')\n",
    "#     # Si existe, actualizar o añadir la fila para el modelo actual\n",
    "#     comparison_df.loc[model_name] = new_metrics\n",
    "# except FileNotFoundError:\n",
    "#     # Si no existe, crear un DataFrame nuevo directamente con los datos actuales\n",
    "#     comparison_df = pd.DataFrame([new_metrics], index=[model_name])\n",
    "\n",
    "# # Guardar el DataFrame actualizado en el CSV\n",
    "# comparison_df.to_csv(output_file, index_label='model')"
   ]
  }
 ],
 "metadata": {
  "kernelspec": {
   "display_name": "tf_venv2 (3.10.12)",
   "language": "python",
   "name": "python3"
  },
  "language_info": {
   "codemirror_mode": {
    "name": "ipython",
    "version": 3
   },
   "file_extension": ".py",
   "mimetype": "text/x-python",
   "name": "python",
   "nbconvert_exporter": "python",
   "pygments_lexer": "ipython3",
   "version": "3.10.12"
  }
 },
 "nbformat": 4,
 "nbformat_minor": 5
}
