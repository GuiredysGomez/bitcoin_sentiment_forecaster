{
 "cells": [
  {
   "cell_type": "markdown",
   "id": "6f110bf7",
   "metadata": {},
   "source": [
    "IMPORTACIONES Y CONFIGURACION INICIAL"
   ]
  },
  {
   "cell_type": "code",
   "execution_count": 1,
   "id": "5c864cb0",
   "metadata": {},
   "outputs": [
    {
     "name": "stderr",
     "output_type": "stream",
     "text": [
      "/home/toyotx22/bitcoin_sentiment_forecaster/tf_venv2/lib/python3.10/site-packages/tqdm/auto.py:21: TqdmWarning: IProgress not found. Please update jupyter and ipywidgets. See https://ipywidgets.readthedocs.io/en/stable/user_install.html\n",
      "  from .autonotebook import tqdm as notebook_tqdm\n",
      "2025-09-17 19:39:15.784387: E external/local_xla/xla/stream_executor/cuda/cuda_dnn.cc:9261] Unable to register cuDNN factory: Attempting to register factory for plugin cuDNN when one has already been registered\n",
      "2025-09-17 19:39:15.784609: E external/local_xla/xla/stream_executor/cuda/cuda_fft.cc:607] Unable to register cuFFT factory: Attempting to register factory for plugin cuFFT when one has already been registered\n",
      "2025-09-17 19:39:15.851803: E external/local_xla/xla/stream_executor/cuda/cuda_blas.cc:1515] Unable to register cuBLAS factory: Attempting to register factory for plugin cuBLAS when one has already been registered\n",
      "2025-09-17 19:39:15.976395: I tensorflow/core/platform/cpu_feature_guard.cc:182] This TensorFlow binary is optimized to use available CPU instructions in performance-critical operations.\n",
      "To enable the following instructions: AVX2 FMA, in other operations, rebuild TensorFlow with the appropriate compiler flags.\n",
      "2025-09-17 19:39:17.304707: W tensorflow/compiler/tf2tensorrt/utils/py_utils.cc:38] TF-TRT Warning: Could not find TensorRT\n"
     ]
    }
   ],
   "source": [
    "import os\n",
    "import json\n",
    "import gc\n",
    "import random\n",
    "import numpy as np\n",
    "import pandas as pd\n",
    "import optuna\n",
    "import tensorflow as tf\n",
    "from tensorflow.keras.models import Sequential, load_model\n",
    "from tensorflow.keras.layers import LSTM, Dense, Dropout, Input\n",
    "from tensorflow.keras.callbacks import EarlyStopping\n",
    "from tensorflow.keras import backend as K\n",
    "from sklearn.preprocessing import MinMaxScaler\n",
    "from sklearn.metrics import classification_report, balanced_accuracy_score\n",
    "import matplotlib.pyplot as plt\n",
    "from optuna.visualization import plot_optimization_history\n",
    "import time"
   ]
  },
  {
   "cell_type": "code",
   "execution_count": 2,
   "id": "43772f9d",
   "metadata": {},
   "outputs": [],
   "source": [
    "\n",
    "# --- Configuración de Semillas para Reproducibilidad ---\n",
    "SEED = 43\n",
    "os.environ['PYTHONHASHSEED'] = str(SEED)\n",
    "random.seed(SEED)\n",
    "np.random.seed(SEED)\n",
    "tf.random.set_seed(SEED)\n",
    "\n",
    "# --- Constantes ---\n",
    "SCORE = \"f1-score\"  # Métrica para optimizar en Optuna\n",
    "TIMESTEPS = 5      # Número de días pasados para usar como una secuencia\n",
    "model_name = 'LSTM_RNN'"
   ]
  },
  {
   "cell_type": "markdown",
   "id": "19bf1976",
   "metadata": {},
   "source": [
    "FUNCIONES DE METRICAS"
   ]
  },
  {
   "cell_type": "code",
   "execution_count": 3,
   "id": "a21bf6e0",
   "metadata": {},
   "outputs": [],
   "source": [
    "def get_trend_changes_report_dict(y_test: np.array, y_pred: np.array) -> float:\n",
    "    \"\"\"\n",
    "    Calculate the trend changes score based on the test and predicted values.\n",
    "    \n",
    "    Args:\n",
    "        y_test (np.array): True labels.\n",
    "        y_pred (np.array): Predicted labels.\n",
    "        \n",
    "    Returns:\n",
    "        float: The trend changes score.\n",
    "    \"\"\"\n",
    "    y_df = pd.DataFrame([y_test, y_pred]).T\n",
    "    y_df.columns = [\"y_test\", \"y_pred\"]\n",
    "    y_df[\"y_test_shifted\"] = y_df[\"y_test\"].shift(-1)\n",
    "    y_df[\"is_changed_trend_test\"] = y_df[\"y_test\"] != y_df[\"y_test_shifted\"]\n",
    "    y_df[\"y_predict_shifted\"] = y_df[\"y_pred\"].shift(-1)\n",
    "    y_df[\"is_changed_trend_predict\"] = y_df[\"y_pred\"] != y_df[\"y_predict_shifted\"]\n",
    "    return classification_report(\n",
    "        y_df[\"is_changed_trend_test\"][:-1], \n",
    "        y_df[\"is_changed_trend_predict\"][:-1], \n",
    "        digits=4,\n",
    "        output_dict=True,\n",
    "        zero_division=0\n",
    "    )\n",
    "\n",
    "def trend_changes_score(y_test: np.array, y_pred: np.array) -> float:\n",
    "    \"\"\"\n",
    "    Calculate the trend changes score based on the test and predicted values.\n",
    "    \n",
    "    Args:\n",
    "        y_test (np.array): True labels.\n",
    "        y_pred (np.array): Predicted labels.\n",
    "        \n",
    "    Returns:\n",
    "        float: The trend changes score.\n",
    "    \"\"\"\n",
    "    y_df = pd.DataFrame([y_test, y_pred]).T\n",
    "    y_df.columns = [\"y_test\", \"y_pred\"]\n",
    "    y_df[\"y_test_shifted\"] = y_df[\"y_test\"].shift(-1)\n",
    "    y_df[\"is_changed_trend_test\"] = y_df[\"y_test\"] != y_df[\"y_test_shifted\"]\n",
    "    y_df[\"y_predict_shifted\"] = y_df[\"y_pred\"].shift(-1)\n",
    "    y_df[\"is_changed_trend_predict\"] = y_df[\"y_pred\"] != y_df[\"y_predict_shifted\"]\n",
    "    return classification_report(\n",
    "        y_df[\"is_changed_trend_test\"][:-1], \n",
    "        y_df[\"is_changed_trend_predict\"][:-1], \n",
    "        digits=4\n",
    "    )\n",
    "\n",
    "def trend_changes_true(y_test: np.array, y_pred: np.array) -> float:\n",
    "    \"\"\"\n",
    "    Calculate the trend changes score based on the test and predicted values.\n",
    "    \n",
    "    Args:\n",
    "        y_test (np.array): True labels.\n",
    "        y_pred (np.array): Predicted labels.\n",
    "        \n",
    "    Returns:\n",
    "        float: The trend changes score.\n",
    "    \"\"\"\n",
    "    y_df = pd.DataFrame([y_test, y_pred]).T\n",
    "    y_df.columns = [\"y_test\", \"y_pred\"]\n",
    "    y_df[\"y_test_shifted\"] = y_df[\"y_test\"].shift(-1)\n",
    "    y_df[\"is_changed_trend_test\"] = y_df[\"y_test\"] != y_df[\"y_test_shifted\"]\n",
    "    y_df[\"y_predict_shifted\"] = y_df[\"y_pred\"].shift(-1)\n",
    "    y_df[\"is_changed_trend_predict\"] = y_df[\"y_pred\"] != y_df[\"y_predict_shifted\"]\n",
    "    report = classification_report(\n",
    "        y_df[\"is_changed_trend_test\"][:-1],\n",
    "        y_df[\"is_changed_trend_predict\"][:-1],\n",
    "        output_dict=True,\n",
    "        zero_division=0\n",
    "    )\n",
    "    return report[\"True\"][SCORE]"
   ]
  },
  {
   "cell_type": "markdown",
   "id": "0af60531",
   "metadata": {},
   "source": [
    "CARGA Y PREPARACION DE DATOS"
   ]
  },
  {
   "cell_type": "code",
   "execution_count": 4,
   "id": "8d36f19b",
   "metadata": {},
   "outputs": [
    {
     "name": "stdout",
     "output_type": "stream",
     "text": [
      "Forma de X_train: (1369, 5, 75)\n",
      "Forma de y_train: (1369,)\n",
      "Forma de X_val: (289, 5, 75)\n",
      "Forma de y_val: (289,)\n",
      "Forma de X_test: (290, 5, 75)\n",
      "Forma de y_test: (290,)\n"
     ]
    }
   ],
   "source": [
    "# --- Carga y Preparación de Datos ---\n",
    "\n",
    "# 1. Cargar los datasets pre-divididos\n",
    "training_set = pd.read_csv('../../../data/post_cleaning/training_set.csv', parse_dates=['date'])\n",
    "validation_set = pd.read_csv('../../../data/post_cleaning/validation_set.csv', parse_dates=['date'])\n",
    "test_set = pd.read_csv('../../../data/post_cleaning/test_set.csv', parse_dates=['date'])\n",
    "\n",
    "# 2. Separar características (X) y objetivo (y) para cada set\n",
    "X_train_df = training_set.drop(columns=['date', 'target_trend'])\n",
    "y_train_df = training_set['target_trend']\n",
    "\n",
    "X_val_df = validation_set.drop(columns=['date', 'target_trend'])\n",
    "y_val_df = validation_set['target_trend']\n",
    "\n",
    "X_test_df = test_set.drop(columns=['date', 'target_trend'])\n",
    "y_test_df = test_set['target_trend']\n",
    "\n",
    "# 3. Función para crear secuencias\n",
    "def create_sequences(features, target, time_steps=10):\n",
    "    X_seq, y_seq = [], []\n",
    "    for i in range(len(features) - time_steps):\n",
    "        X_seq.append(features[i:(i + time_steps)])\n",
    "        y_seq.append(target[i + time_steps])\n",
    "    return np.array(X_seq), np.array(y_seq)\n",
    "\n",
    "# 4. Crear secuencias POR SEPARADO para cada conjunto para evitar fugas\n",
    "X_train, y_train_seq = create_sequences(X_train_df.values, y_train_df.values, time_steps=TIMESTEPS)\n",
    "X_val, y_val_seq = create_sequences(X_val_df.values, y_val_df.values, time_steps=TIMESTEPS)\n",
    "X_test, y_test_seq = create_sequences(X_test_df.values, y_test_df.values, time_steps=TIMESTEPS)\n",
    "\n",
    "# 5. Mapear clases del objetivo a 0, 1, 2\n",
    "cls_map = {-1: 0, 0: 1, 1: 2}\n",
    "y_train = np.vectorize(cls_map.get)(y_train_seq)\n",
    "y_val = np.vectorize(cls_map.get)(y_val_seq)\n",
    "y_test = np.vectorize(cls_map.get)(y_test_seq)\n",
    "\n",
    "# Escalar características después de crear secuencias\n",
    "# scaler = MinMaxScaler()\n",
    "# X_train = scaler.fit_transform(X_train.reshape(-1, X_train.shape[-1])).reshape(X_train.shape)\n",
    "# X_val = scaler.transform(X_val.reshape(-1, X_val.shape[-1])).reshape(X_val.shape)\n",
    "# X_test = scaler.transform(X_test.reshape(-1, X_test.shape[-1])).reshape(X_test.shape)\n",
    "\n",
    "print(f\"Forma de X_train: {X_train.shape}\")\n",
    "print(f\"Forma de y_train: {y_train.shape}\")\n",
    "print(f\"Forma de X_val: {X_val.shape}\")\n",
    "print(f\"Forma de y_val: {y_val.shape}\")\n",
    "print(f\"Forma de X_test: {X_test.shape}\")\n",
    "print(f\"Forma de y_test: {y_test.shape}\")"
   ]
  },
  {
   "cell_type": "code",
   "execution_count": 5,
   "id": "0328448d",
   "metadata": {},
   "outputs": [],
   "source": [
    "# ========= Definición de modelo =========\n",
    "def build_model(trial, timesteps, features):\n",
    "    lstm_layers = trial.suggest_int(\"lstm_layers\", 1, 2)\n",
    "    units1 = trial.suggest_int(\"units1\", 32, 256, step=32) \n",
    "    if lstm_layers == 2:\n",
    "        # Solo sugiere 'units2' si se va a usar una segunda capa\n",
    "        units2 = trial.suggest_int(\"units2\", 32, 256, step=32)\n",
    "    else:\n",
    "        # Si no, 'units2' no es un hiperparámetro para este trial\n",
    "        units2 = None\n",
    "    dense_units = trial.suggest_int(\"dense_units\", 16, 256, step=16) \n",
    "    dense_activation = trial.suggest_categorical(\"dense_activation\", [\"relu\", \"tanh\"]) \n",
    "    dropout = trial.suggest_float(\"dropout\", 0.0, 0.60) \n",
    "    learning_rate = trial.suggest_float(\"learning_rate\", 1e-6, 1e-2, log=True) \n",
    "    optimizer_name = trial.suggest_categorical(\"optimizer\", [\"adam\", \"rmsprop\", \"adamw\"]) \n",
    "    optimizer_map = {\"adam\": tf.keras.optimizers.Adam,\n",
    "                 \"rmsprop\": tf.keras.optimizers.RMSprop,\n",
    "                 \"adamw\": tf.keras.optimizers.AdamW}\n",
    "    optimizer = optimizer_map[optimizer_name](learning_rate=learning_rate)\n",
    "\n",
    "    model = Sequential()\n",
    "    model.add(Input(shape=(timesteps, features)))\n",
    "\n",
    "    if lstm_layers == 2:\n",
    "        model.add(LSTM(units1, return_sequences=True, dropout=dropout))\n",
    "        model.add(LSTM(units2, dropout=dropout))\n",
    "    else:\n",
    "        model.add(LSTM(units1, dropout=dropout))\n",
    "    # Capas Dense\n",
    "    model.add(Dropout(dropout))\n",
    "    model.add(Dense(dense_units, activation=dense_activation))\n",
    "    model.add(Dropout(dropout))\n",
    "    model.add(Dense(3, activation=\"linear\"))  # logits\n",
    "    \n",
    "    model.compile(\n",
    "        loss=tf.keras.losses.SparseCategoricalCrossentropy(from_logits=True),\n",
    "        optimizer=optimizer,\n",
    "        metrics=[\"accuracy\"]\n",
    "    )\n",
    "    return model"
   ]
  },
  {
   "cell_type": "markdown",
   "id": "cf2b2f47",
   "metadata": {},
   "source": [
    "Optimización con Optuna"
   ]
  },
  {
   "cell_type": "code",
   "execution_count": 6,
   "id": "b2165a18",
   "metadata": {},
   "outputs": [],
   "source": [
    "# ========= Objetivo Optuna =========\n",
    "def objective(trial):\n",
    "    # Limpieza y semillas al inicio de cada trial\n",
    "    tf.keras.backend.clear_session()\n",
    "    tf.random.set_seed(SEED)\n",
    "    np.random.seed(SEED)\n",
    "    random.seed(SEED)\n",
    " \n",
    "    model = build_model(trial, X_train.shape[1], X_train.shape[2])\n",
    "    batch_size = trial.suggest_categorical(\"batch_size\", [32, 64, 128])\n",
    "    patience = trial.suggest_int(\"patience\", 5, 20)\n",
    "\n",
    "    es = EarlyStopping(monitor=\"val_loss\", patience=patience, restore_best_weights=True, verbose=0)\n",
    "\n",
    "    model.fit(\n",
    "        X_train, y_train,\n",
    "        validation_data=(X_val, y_val),\n",
    "        epochs=80,\n",
    "        batch_size=batch_size,\n",
    "        callbacks=[es],\n",
    "        verbose=0\n",
    "    )\n",
    "\n",
    "    # Predicción y métrica personalizada\n",
    "    val_logits = model.predict(X_val, verbose=0)\n",
    "    y_val_pred = np.argmax(val_logits, axis=1)\n",
    "    score = trend_changes_true(y_val, y_val_pred)\n",
    "\n",
    "    # Limpieza\n",
    "    tf.keras.backend.clear_session()\n",
    "    del model\n",
    "    gc.collect()\n",
    "\n",
    "    return score"
   ]
  },
  {
   "cell_type": "code",
   "execution_count": 7,
   "id": "7a279e28",
   "metadata": {},
   "outputs": [
    {
     "name": "stderr",
     "output_type": "stream",
     "text": [
      "[I 2025-09-17 19:39:20,110] A new study created in memory with name: no-name-332d7797-4a6b-41dd-9b77-de693366640a\n",
      "2025-09-17 19:39:21.883289: I external/local_xla/xla/stream_executor/cuda/cuda_executor.cc:887] could not open file to read NUMA node: /sys/bus/pci/devices/0000:01:00.0/numa_node\n",
      "Your kernel may have been built without NUMA support.\n",
      "2025-09-17 19:39:22.397920: W tensorflow/core/common_runtime/gpu/gpu_device.cc:2256] Cannot dlopen some GPU libraries. Please make sure the missing libraries mentioned above are installed properly if you would like to use GPU. Follow the guide at https://www.tensorflow.org/install/gpu for how to download and setup the required libraries for your platform.\n",
      "Skipping registering GPU devices...\n",
      "[I 2025-09-17 19:39:28,110] Trial 0 finished with value: 0.0 and parameters: {'lstm_layers': 1, 'units1': 160, 'dense_units': 48, 'dense_activation': 'tanh', 'dropout': 0.5154824945691586, 'learning_rate': 0.0004617010395473563, 'optimizer': 'adamw', 'batch_size': 64, 'patience': 5}. Best is trial 0 with value: 0.0.\n",
      "[I 2025-09-17 19:39:34,874] Trial 1 finished with value: 0.0 and parameters: {'lstm_layers': 2, 'units1': 64, 'units2': 128, 'dense_units': 96, 'dense_activation': 'tanh', 'dropout': 0.5093634886469168, 'learning_rate': 0.007688831894006761, 'optimizer': 'rmsprop', 'batch_size': 128, 'patience': 9}. Best is trial 0 with value: 0.0.\n",
      "[I 2025-09-17 19:39:39,920] Trial 2 finished with value: 0.0 and parameters: {'lstm_layers': 1, 'units1': 32, 'dense_units': 144, 'dense_activation': 'tanh', 'dropout': 0.5869224804492037, 'learning_rate': 0.004311724775436753, 'optimizer': 'adam', 'batch_size': 64, 'patience': 18}. Best is trial 0 with value: 0.0.\n",
      "[I 2025-09-17 19:39:54,957] Trial 3 finished with value: 0.1553398058252427 and parameters: {'lstm_layers': 2, 'units1': 192, 'units2': 96, 'dense_units': 240, 'dense_activation': 'tanh', 'dropout': 0.5961434954364621, 'learning_rate': 0.0008768157171030876, 'optimizer': 'rmsprop', 'batch_size': 32, 'patience': 16}. Best is trial 3 with value: 0.1553398058252427.\n",
      "[I 2025-09-17 19:40:07,675] Trial 4 finished with value: 0.04395604395604396 and parameters: {'lstm_layers': 2, 'units1': 160, 'units2': 64, 'dense_units': 64, 'dense_activation': 'relu', 'dropout': 0.3935776966943123, 'learning_rate': 1.579308974316983e-05, 'optimizer': 'rmsprop', 'batch_size': 64, 'patience': 16}. Best is trial 3 with value: 0.1553398058252427.\n",
      "[I 2025-09-17 19:40:32,044] Trial 5 finished with value: 0.1509433962264151 and parameters: {'lstm_layers': 2, 'units1': 192, 'units2': 32, 'dense_units': 256, 'dense_activation': 'tanh', 'dropout': 0.11914793066178835, 'learning_rate': 0.00023866940327007703, 'optimizer': 'rmsprop', 'batch_size': 32, 'patience': 14}. Best is trial 3 with value: 0.1553398058252427.\n",
      "[I 2025-09-17 19:40:53,636] Trial 6 finished with value: 0.16260162601626016 and parameters: {'lstm_layers': 1, 'units1': 160, 'dense_units': 224, 'dense_activation': 'tanh', 'dropout': 0.4439182918820845, 'learning_rate': 5.480899392112245e-06, 'optimizer': 'rmsprop', 'batch_size': 64, 'patience': 12}. Best is trial 6 with value: 0.16260162601626016.\n",
      "[I 2025-09-17 19:41:00,732] Trial 7 finished with value: 0.2733812949640288 and parameters: {'lstm_layers': 1, 'units1': 96, 'dense_units': 208, 'dense_activation': 'tanh', 'dropout': 0.46613722002526164, 'learning_rate': 7.259622866954614e-06, 'optimizer': 'adam', 'batch_size': 32, 'patience': 14}. Best is trial 7 with value: 0.2733812949640288.\n",
      "[I 2025-09-17 19:41:06,549] Trial 8 finished with value: 0.08247422680412371 and parameters: {'lstm_layers': 1, 'units1': 192, 'dense_units': 128, 'dense_activation': 'tanh', 'dropout': 0.12282372970239312, 'learning_rate': 0.0009546155449370455, 'optimizer': 'adamw', 'batch_size': 32, 'patience': 6}. Best is trial 7 with value: 0.2733812949640288.\n",
      "[I 2025-09-17 19:41:13,105] Trial 9 finished with value: 0.23622047244094488 and parameters: {'lstm_layers': 1, 'units1': 192, 'dense_units': 240, 'dense_activation': 'tanh', 'dropout': 0.43716243012513084, 'learning_rate': 1.474993739894672e-05, 'optimizer': 'rmsprop', 'batch_size': 128, 'patience': 12}. Best is trial 7 with value: 0.2733812949640288.\n",
      "[I 2025-09-17 19:41:37,963] Trial 10 finished with value: 0.0 and parameters: {'lstm_layers': 1, 'units1': 96, 'dense_units': 176, 'dense_activation': 'relu', 'dropout': 0.2642720636654844, 'learning_rate': 1.092647401265461e-06, 'optimizer': 'adam', 'batch_size': 32, 'patience': 20}. Best is trial 7 with value: 0.2733812949640288.\n",
      "[I 2025-09-17 19:41:49,290] Trial 11 finished with value: 0.24806201550387597 and parameters: {'lstm_layers': 1, 'units1': 256, 'dense_units': 192, 'dense_activation': 'relu', 'dropout': 0.3403349595429457, 'learning_rate': 3.1936021310109344e-05, 'optimizer': 'adam', 'batch_size': 128, 'patience': 11}. Best is trial 7 with value: 0.2733812949640288.\n",
      "[I 2025-09-17 19:41:55,344] Trial 12 finished with value: 0.26153846153846155 and parameters: {'lstm_layers': 1, 'units1': 256, 'dense_units': 192, 'dense_activation': 'relu', 'dropout': 0.28812689222196686, 'learning_rate': 6.32103027974016e-05, 'optimizer': 'adam', 'batch_size': 128, 'patience': 9}. Best is trial 7 with value: 0.2733812949640288.\n",
      "[I 2025-09-17 19:42:01,119] Trial 13 finished with value: 0.11235955056179775 and parameters: {'lstm_layers': 1, 'units1': 256, 'dense_units': 192, 'dense_activation': 'relu', 'dropout': 0.22382861032395657, 'learning_rate': 9.281089351207192e-05, 'optimizer': 'adam', 'batch_size': 128, 'patience': 8}. Best is trial 7 with value: 0.2733812949640288.\n",
      "[I 2025-09-17 19:42:05,498] Trial 14 finished with value: 0.2545454545454545 and parameters: {'lstm_layers': 1, 'units1': 96, 'dense_units': 144, 'dense_activation': 'relu', 'dropout': 0.028813201167635416, 'learning_rate': 1.825451122359206e-06, 'optimizer': 'adam', 'batch_size': 128, 'patience': 9}. Best is trial 7 with value: 0.2733812949640288.\n",
      "[I 2025-09-17 19:42:12,736] Trial 15 finished with value: 0.23703703703703705 and parameters: {'lstm_layers': 1, 'units1': 96, 'dense_units': 208, 'dense_activation': 'relu', 'dropout': 0.3129064628445175, 'learning_rate': 8.044251412986081e-05, 'optimizer': 'adam', 'batch_size': 32, 'patience': 14}. Best is trial 7 with value: 0.2733812949640288.\n",
      "[I 2025-09-17 19:42:26,079] Trial 16 finished with value: 0.26153846153846155 and parameters: {'lstm_layers': 1, 'units1': 128, 'dense_units': 160, 'dense_activation': 'relu', 'dropout': 0.19801383698378416, 'learning_rate': 4.423852345112148e-06, 'optimizer': 'adam', 'batch_size': 32, 'patience': 10}. Best is trial 7 with value: 0.2733812949640288.\n",
      "[I 2025-09-17 19:42:34,407] Trial 17 finished with value: 0.06451612903225806 and parameters: {'lstm_layers': 2, 'units1': 32, 'units2': 256, 'dense_units': 112, 'dense_activation': 'relu', 'dropout': 0.3709579619978317, 'learning_rate': 3.108876659609687e-05, 'optimizer': 'adam', 'batch_size': 128, 'patience': 14}. Best is trial 7 with value: 0.2733812949640288.\n",
      "[I 2025-09-17 19:42:43,882] Trial 18 finished with value: 0.24793388429752067 and parameters: {'lstm_layers': 1, 'units1': 224, 'dense_units': 16, 'dense_activation': 'relu', 'dropout': 0.48167279751835435, 'learning_rate': 7.206802390610743e-06, 'optimizer': 'adamw', 'batch_size': 128, 'patience': 7}. Best is trial 7 with value: 0.2733812949640288.\n",
      "[I 2025-09-17 19:43:08,081] Trial 19 finished with value: 0.0 and parameters: {'lstm_layers': 1, 'units1': 128, 'dense_units': 208, 'dense_activation': 'tanh', 'dropout': 0.27571436621316314, 'learning_rate': 4.7215773233860026e-05, 'optimizer': 'adam', 'batch_size': 32, 'patience': 16}. Best is trial 7 with value: 0.2733812949640288.\n",
      "[I 2025-09-17 19:43:21,397] Trial 20 finished with value: 0.1724137931034483 and parameters: {'lstm_layers': 2, 'units1': 64, 'units2': 256, 'dense_units': 176, 'dense_activation': 'tanh', 'dropout': 0.17831994024015663, 'learning_rate': 0.00023011382460165345, 'optimizer': 'adam', 'batch_size': 128, 'patience': 10}. Best is trial 7 with value: 0.2733812949640288.\n",
      "[I 2025-09-17 19:43:51,456] Trial 21 finished with value: 0.0 and parameters: {'lstm_layers': 1, 'units1': 128, 'dense_units': 176, 'dense_activation': 'relu', 'dropout': 0.21893492416713523, 'learning_rate': 2.652235237555301e-06, 'optimizer': 'adam', 'batch_size': 32, 'patience': 10}. Best is trial 7 with value: 0.2733812949640288.\n",
      "[I 2025-09-17 19:44:08,209] Trial 22 finished with value: 0.27419354838709675 and parameters: {'lstm_layers': 1, 'units1': 128, 'dense_units': 160, 'dense_activation': 'relu', 'dropout': 0.1462064058450125, 'learning_rate': 4.967968901059741e-06, 'optimizer': 'adam', 'batch_size': 32, 'patience': 13}. Best is trial 22 with value: 0.27419354838709675.\n",
      "[I 2025-09-17 19:44:28,602] Trial 23 finished with value: 0.09523809523809523 and parameters: {'lstm_layers': 1, 'units1': 64, 'dense_units': 208, 'dense_activation': 'relu', 'dropout': 0.0822464865743439, 'learning_rate': 1.3891400348712084e-05, 'optimizer': 'adam', 'batch_size': 32, 'patience': 13}. Best is trial 22 with value: 0.27419354838709675.\n",
      "[I 2025-09-17 19:45:07,717] Trial 24 finished with value: 0.33557046979865773 and parameters: {'lstm_layers': 1, 'units1': 224, 'dense_units': 160, 'dense_activation': 'relu', 'dropout': 0.021510622637220533, 'learning_rate': 1.0556996831759581e-05, 'optimizer': 'adam', 'batch_size': 32, 'patience': 15}. Best is trial 24 with value: 0.33557046979865773.\n",
      "[I 2025-09-17 19:45:44,914] Trial 25 finished with value: 0.2689075630252101 and parameters: {'lstm_layers': 1, 'units1': 224, 'dense_units': 96, 'dense_activation': 'relu', 'dropout': 0.04311457853407284, 'learning_rate': 8.832504233593469e-06, 'optimizer': 'adamw', 'batch_size': 32, 'patience': 18}. Best is trial 24 with value: 0.33557046979865773.\n",
      "[I 2025-09-17 19:46:09,314] Trial 26 finished with value: 0.0 and parameters: {'lstm_layers': 1, 'units1': 96, 'dense_units': 160, 'dense_activation': 'relu', 'dropout': 0.14460468911599667, 'learning_rate': 2.6434369069352262e-06, 'optimizer': 'adam', 'batch_size': 32, 'patience': 15}. Best is trial 24 with value: 0.33557046979865773.\n",
      "[I 2025-09-17 19:46:18,727] Trial 27 finished with value: 0.0 and parameters: {'lstm_layers': 1, 'units1': 128, 'dense_units': 128, 'dense_activation': 'relu', 'dropout': 0.00468957424948372, 'learning_rate': 1.1194667780329104e-06, 'optimizer': 'adam', 'batch_size': 32, 'patience': 17}. Best is trial 24 with value: 0.33557046979865773.\n",
      "[I 2025-09-17 19:46:30,399] Trial 28 finished with value: 0.10638297872340426 and parameters: {'lstm_layers': 1, 'units1': 224, 'dense_units': 160, 'dense_activation': 'tanh', 'dropout': 0.07206850026492431, 'learning_rate': 3.715976356678426e-06, 'optimizer': 'adam', 'batch_size': 32, 'patience': 13}. Best is trial 24 with value: 0.33557046979865773.\n",
      "[I 2025-09-17 19:46:52,287] Trial 29 finished with value: 0.18181818181818182 and parameters: {'lstm_layers': 1, 'units1': 160, 'dense_units': 112, 'dense_activation': 'tanh', 'dropout': 0.0758835381835889, 'learning_rate': 2.5578617213725748e-05, 'optimizer': 'adamw', 'batch_size': 64, 'patience': 19}. Best is trial 24 with value: 0.33557046979865773.\n",
      "[I 2025-09-17 19:47:22,128] Trial 30 finished with value: 0.0 and parameters: {'lstm_layers': 1, 'units1': 128, 'dense_units': 64, 'dense_activation': 'relu', 'dropout': 0.5546102803910096, 'learning_rate': 1.1506071512745136e-05, 'optimizer': 'adam', 'batch_size': 32, 'patience': 15}. Best is trial 24 with value: 0.33557046979865773.\n",
      "[I 2025-09-17 19:47:54,551] Trial 31 finished with value: 0.1746031746031746 and parameters: {'lstm_layers': 1, 'units1': 224, 'dense_units': 96, 'dense_activation': 'relu', 'dropout': 0.04154946474831599, 'learning_rate': 7.81810488255871e-06, 'optimizer': 'adamw', 'batch_size': 32, 'patience': 18}. Best is trial 24 with value: 0.33557046979865773.\n",
      "[I 2025-09-17 19:48:33,558] Trial 32 finished with value: 0.18333333333333332 and parameters: {'lstm_layers': 1, 'units1': 224, 'dense_units': 96, 'dense_activation': 'relu', 'dropout': 0.04007608501494561, 'learning_rate': 7.530973096189993e-06, 'optimizer': 'adamw', 'batch_size': 32, 'patience': 17}. Best is trial 24 with value: 0.33557046979865773.\n",
      "[I 2025-09-17 19:48:42,296] Trial 33 finished with value: 0.05 and parameters: {'lstm_layers': 1, 'units1': 96, 'dense_units': 80, 'dense_activation': 'relu', 'dropout': 0.005743500842964572, 'learning_rate': 2.3362315029620082e-06, 'optimizer': 'adamw', 'batch_size': 32, 'patience': 20}. Best is trial 24 with value: 0.33557046979865773.\n",
      "[I 2025-09-17 19:49:18,668] Trial 34 finished with value: 0.14432989690721648 and parameters: {'lstm_layers': 1, 'units1': 192, 'dense_units': 32, 'dense_activation': 'relu', 'dropout': 0.1573367488696058, 'learning_rate': 2.1562466469854688e-05, 'optimizer': 'adamw', 'batch_size': 32, 'patience': 15}. Best is trial 24 with value: 0.33557046979865773.\n",
      "[I 2025-09-17 19:50:18,801] Trial 35 finished with value: 0.22764227642276422 and parameters: {'lstm_layers': 2, 'units1': 160, 'units2': 192, 'dense_units': 144, 'dense_activation': 'tanh', 'dropout': 0.0983452854372333, 'learning_rate': 8.429915092045239e-06, 'optimizer': 'adamw', 'batch_size': 32, 'patience': 18}. Best is trial 24 with value: 0.33557046979865773.\n",
      "[I 2025-09-17 19:50:27,180] Trial 36 finished with value: 0.2413793103448276 and parameters: {'lstm_layers': 1, 'units1': 64, 'dense_units': 112, 'dense_activation': 'relu', 'dropout': 0.05005438080369712, 'learning_rate': 0.00016370301638982983, 'optimizer': 'adamw', 'batch_size': 64, 'patience': 17}. Best is trial 24 with value: 0.33557046979865773.\n",
      "[I 2025-09-17 19:50:36,790] Trial 37 finished with value: 0.35365853658536583 and parameters: {'lstm_layers': 1, 'units1': 224, 'dense_units': 256, 'dense_activation': 'tanh', 'dropout': 0.5320287755687438, 'learning_rate': 1.5333390070716886e-06, 'optimizer': 'rmsprop', 'batch_size': 32, 'patience': 13}. Best is trial 37 with value: 0.35365853658536583.\n",
      "[I 2025-09-17 19:50:50,438] Trial 38 finished with value: 0.0 and parameters: {'lstm_layers': 2, 'units1': 160, 'units2': 192, 'dense_units': 256, 'dense_activation': 'tanh', 'dropout': 0.5571936491057863, 'learning_rate': 1.4021191899716685e-06, 'optimizer': 'rmsprop', 'batch_size': 32, 'patience': 12}. Best is trial 37 with value: 0.35365853658536583.\n",
      "[I 2025-09-17 19:50:55,439] Trial 39 finished with value: 0.11538461538461539 and parameters: {'lstm_layers': 1, 'units1': 32, 'dense_units': 240, 'dense_activation': 'tanh', 'dropout': 0.46854289179861897, 'learning_rate': 3.844207378216798e-06, 'optimizer': 'rmsprop', 'batch_size': 64, 'patience': 13}. Best is trial 37 with value: 0.35365853658536583.\n",
      "[I 2025-09-17 19:51:31,545] Trial 40 finished with value: 0.0 and parameters: {'lstm_layers': 1, 'units1': 192, 'dense_units': 224, 'dense_activation': 'tanh', 'dropout': 0.5291962405900643, 'learning_rate': 4.32280210143558e-06, 'optimizer': 'rmsprop', 'batch_size': 32, 'patience': 11}. Best is trial 37 with value: 0.35365853658536583.\n",
      "[I 2025-09-17 19:52:12,226] Trial 41 finished with value: 0.11428571428571428 and parameters: {'lstm_layers': 1, 'units1': 224, 'dense_units': 224, 'dense_activation': 'tanh', 'dropout': 0.396710679248095, 'learning_rate': 2.1738411184251797e-06, 'optimizer': 'rmsprop', 'batch_size': 32, 'patience': 14}. Best is trial 37 with value: 0.35365853658536583.\n",
      "[I 2025-09-17 19:52:24,039] Trial 42 finished with value: 0.10434782608695652 and parameters: {'lstm_layers': 1, 'units1': 256, 'dense_units': 240, 'dense_activation': 'tanh', 'dropout': 0.5819057640250311, 'learning_rate': 1.013320665211536e-05, 'optimizer': 'rmsprop', 'batch_size': 32, 'patience': 16}. Best is trial 37 with value: 0.35365853658536583.\n",
      "[I 2025-09-17 19:52:36,629] Trial 43 finished with value: 0.08695652173913043 and parameters: {'lstm_layers': 1, 'units1': 192, 'dense_units': 256, 'dense_activation': 'tanh', 'dropout': 0.4999216048610102, 'learning_rate': 0.00681103089315467, 'optimizer': 'rmsprop', 'batch_size': 32, 'patience': 15}. Best is trial 37 with value: 0.35365853658536583.\n",
      "[I 2025-09-17 19:52:47,974] Trial 44 finished with value: 0.0 and parameters: {'lstm_layers': 1, 'units1': 224, 'dense_units': 144, 'dense_activation': 'tanh', 'dropout': 0.11366861277659575, 'learning_rate': 0.0016474813648687046, 'optimizer': 'adam', 'batch_size': 32, 'patience': 12}. Best is trial 37 with value: 0.35365853658536583.\n",
      "[I 2025-09-17 19:52:57,662] Trial 45 finished with value: 0.23008849557522124 and parameters: {'lstm_layers': 1, 'units1': 256, 'dense_units': 64, 'dense_activation': 'relu', 'dropout': 0.4027041040480947, 'learning_rate': 1.573676837915572e-05, 'optimizer': 'rmsprop', 'batch_size': 32, 'patience': 11}. Best is trial 37 with value: 0.35365853658536583.\n",
      "[I 2025-09-17 19:53:14,779] Trial 46 finished with value: 0.061855670103092786 and parameters: {'lstm_layers': 1, 'units1': 192, 'dense_units': 192, 'dense_activation': 'tanh', 'dropout': 0.24572769537550815, 'learning_rate': 5.590851080518966e-06, 'optimizer': 'adam', 'batch_size': 32, 'patience': 19}. Best is trial 37 with value: 0.35365853658536583.\n",
      "[I 2025-09-17 19:53:41,294] Trial 47 finished with value: 0.3142857142857143 and parameters: {'lstm_layers': 1, 'units1': 224, 'dense_units': 128, 'dense_activation': 'relu', 'dropout': 0.13721496743662684, 'learning_rate': 1.7071079914419964e-06, 'optimizer': 'adam', 'batch_size': 64, 'patience': 14}. Best is trial 37 with value: 0.35365853658536583.\n",
      "[I 2025-09-17 19:53:59,500] Trial 48 finished with value: 0.0 and parameters: {'lstm_layers': 1, 'units1': 96, 'dense_units': 128, 'dense_activation': 'relu', 'dropout': 0.33115515388107697, 'learning_rate': 1.5243282656108646e-06, 'optimizer': 'adam', 'batch_size': 64, 'patience': 14}. Best is trial 37 with value: 0.35365853658536583.\n",
      "[I 2025-09-17 19:54:28,869] Trial 49 finished with value: 0.0 and parameters: {'lstm_layers': 1, 'units1': 256, 'dense_units': 160, 'dense_activation': 'tanh', 'dropout': 0.429830566470984, 'learning_rate': 3.2263608751869522e-06, 'optimizer': 'adam', 'batch_size': 64, 'patience': 13}. Best is trial 37 with value: 0.35365853658536583.\n",
      "[I 2025-09-17 19:54:40,678] Trial 50 finished with value: 0.09195402298850575 and parameters: {'lstm_layers': 2, 'units1': 160, 'units2': 192, 'dense_units': 176, 'dense_activation': 'relu', 'dropout': 0.15317152362591352, 'learning_rate': 1.1355967968006926e-06, 'optimizer': 'adam', 'batch_size': 64, 'patience': 15}. Best is trial 37 with value: 0.35365853658536583.\n",
      "[I 2025-09-17 19:55:07,468] Trial 51 finished with value: 0.17886178861788618 and parameters: {'lstm_layers': 1, 'units1': 224, 'dense_units': 128, 'dense_activation': 'relu', 'dropout': 0.13191780318838242, 'learning_rate': 5.0962150167446214e-06, 'optimizer': 'adam', 'batch_size': 64, 'patience': 14}. Best is trial 37 with value: 0.35365853658536583.\n",
      "[I 2025-09-17 19:55:24,776] Trial 52 finished with value: 0.024691358024691357 and parameters: {'lstm_layers': 1, 'units1': 224, 'dense_units': 80, 'dense_activation': 'relu', 'dropout': 0.18210209304360536, 'learning_rate': 1.7775821330175726e-06, 'optimizer': 'adam', 'batch_size': 32, 'patience': 12}. Best is trial 37 with value: 0.35365853658536583.\n",
      "[I 2025-09-17 19:55:53,985] Trial 53 finished with value: 0.171875 and parameters: {'lstm_layers': 1, 'units1': 256, 'dense_units': 112, 'dense_activation': 'relu', 'dropout': 0.057242162584590424, 'learning_rate': 5.738581090682031e-06, 'optimizer': 'adam', 'batch_size': 64, 'patience': 16}. Best is trial 37 with value: 0.35365853658536583.\n",
      "[I 2025-09-17 19:56:16,159] Trial 54 finished with value: 0.23931623931623933 and parameters: {'lstm_layers': 1, 'units1': 192, 'dense_units': 208, 'dense_activation': 'relu', 'dropout': 0.10893396314784379, 'learning_rate': 1.9916034489848708e-05, 'optimizer': 'adamw', 'batch_size': 32, 'patience': 13}. Best is trial 37 with value: 0.35365853658536583.\n",
      "[I 2025-09-17 19:56:44,132] Trial 55 finished with value: 0.26666666666666666 and parameters: {'lstm_layers': 1, 'units1': 224, 'dense_units': 80, 'dense_activation': 'relu', 'dropout': 0.022985572202304204, 'learning_rate': 3.6091737297609946e-05, 'optimizer': 'adam', 'batch_size': 32, 'patience': 14}. Best is trial 37 with value: 0.35365853658536583.\n",
      "[I 2025-09-17 19:57:19,543] Trial 56 finished with value: 0.0 and parameters: {'lstm_layers': 1, 'units1': 192, 'dense_units': 144, 'dense_activation': 'relu', 'dropout': 0.5332290469279413, 'learning_rate': 2.8812998268662113e-06, 'optimizer': 'rmsprop', 'batch_size': 32, 'patience': 11}. Best is trial 37 with value: 0.35365853658536583.\n",
      "[I 2025-09-17 19:57:30,764] Trial 57 finished with value: 0.22580645161290322 and parameters: {'lstm_layers': 1, 'units1': 128, 'dense_units': 160, 'dense_activation': 'relu', 'dropout': 0.0957668239228224, 'learning_rate': 1.1313826410298146e-05, 'optimizer': 'adam', 'batch_size': 128, 'patience': 13}. Best is trial 37 with value: 0.35365853658536583.\n",
      "[I 2025-09-17 19:57:39,377] Trial 58 finished with value: 0.3054187192118227 and parameters: {'lstm_layers': 1, 'units1': 256, 'dense_units': 96, 'dense_activation': 'tanh', 'dropout': 0.3644859096017319, 'learning_rate': 1.920452984457516e-06, 'optimizer': 'adam', 'batch_size': 64, 'patience': 15}. Best is trial 37 with value: 0.35365853658536583.\n",
      "[I 2025-09-17 19:57:48,654] Trial 59 finished with value: 0.047619047619047616 and parameters: {'lstm_layers': 1, 'units1': 256, 'dense_units': 176, 'dense_activation': 'tanh', 'dropout': 0.36358974325672083, 'learning_rate': 1.7607704427271112e-06, 'optimizer': 'adam', 'batch_size': 64, 'patience': 15}. Best is trial 37 with value: 0.35365853658536583.\n",
      "[I 2025-09-17 19:57:57,156] Trial 60 finished with value: 0.2900763358778626 and parameters: {'lstm_layers': 1, 'units1': 256, 'dense_units': 192, 'dense_activation': 'tanh', 'dropout': 0.4624831891195838, 'learning_rate': 2.106537795541934e-06, 'optimizer': 'adam', 'batch_size': 64, 'patience': 14}. Best is trial 37 with value: 0.35365853658536583.\n",
      "[I 2025-09-17 19:58:06,214] Trial 61 finished with value: 0.29411764705882354 and parameters: {'lstm_layers': 1, 'units1': 256, 'dense_units': 192, 'dense_activation': 'tanh', 'dropout': 0.4615672465442992, 'learning_rate': 1.0040215359865057e-06, 'optimizer': 'adam', 'batch_size': 64, 'patience': 14}. Best is trial 37 with value: 0.35365853658536583.\n",
      "[I 2025-09-17 19:58:16,475] Trial 62 finished with value: 0.047619047619047616 and parameters: {'lstm_layers': 1, 'units1': 256, 'dense_units': 176, 'dense_activation': 'tanh', 'dropout': 0.44416705761095077, 'learning_rate': 1.0945046848697562e-06, 'optimizer': 'adam', 'batch_size': 64, 'patience': 15}. Best is trial 37 with value: 0.35365853658536583.\n",
      "[I 2025-09-17 19:58:25,488] Trial 63 finished with value: 0.2714285714285714 and parameters: {'lstm_layers': 1, 'units1': 256, 'dense_units': 192, 'dense_activation': 'tanh', 'dropout': 0.5078252117587138, 'learning_rate': 2.097101228254998e-06, 'optimizer': 'adam', 'batch_size': 64, 'patience': 16}. Best is trial 37 with value: 0.35365853658536583.\n",
      "[I 2025-09-17 19:58:55,082] Trial 64 finished with value: 0.0 and parameters: {'lstm_layers': 1, 'units1': 256, 'dense_units': 224, 'dense_activation': 'tanh', 'dropout': 0.48756172028675787, 'learning_rate': 1.3605283733203485e-06, 'optimizer': 'adam', 'batch_size': 64, 'patience': 14}. Best is trial 37 with value: 0.35365853658536583.\n",
      "[I 2025-09-17 19:59:25,450] Trial 65 finished with value: 0.0 and parameters: {'lstm_layers': 1, 'units1': 256, 'dense_units': 160, 'dense_activation': 'tanh', 'dropout': 0.425146810515869, 'learning_rate': 3.1373212364216483e-06, 'optimizer': 'adam', 'batch_size': 64, 'patience': 12}. Best is trial 37 with value: 0.35365853658536583.\n",
      "[I 2025-09-17 19:59:52,129] Trial 66 finished with value: 0.323943661971831 and parameters: {'lstm_layers': 1, 'units1': 224, 'dense_units': 128, 'dense_activation': 'tanh', 'dropout': 0.2563092992857964, 'learning_rate': 1.044657484252679e-06, 'optimizer': 'adam', 'batch_size': 64, 'patience': 13}. Best is trial 37 with value: 0.35365853658536583.\n",
      "[I 2025-09-17 20:00:19,407] Trial 67 finished with value: 0.2835820895522388 and parameters: {'lstm_layers': 1, 'units1': 224, 'dense_units': 128, 'dense_activation': 'tanh', 'dropout': 0.29062683742680184, 'learning_rate': 1.0054247715378502e-06, 'optimizer': 'adam', 'batch_size': 64, 'patience': 14}. Best is trial 37 with value: 0.35365853658536583.\n",
      "[I 2025-09-17 20:00:46,528] Trial 68 finished with value: 0.025 and parameters: {'lstm_layers': 1, 'units1': 224, 'dense_units': 112, 'dense_activation': 'tanh', 'dropout': 0.37271207892243025, 'learning_rate': 1.518857623885306e-06, 'optimizer': 'adam', 'batch_size': 64, 'patience': 16}. Best is trial 37 with value: 0.35365853658536583.\n",
      "[I 2025-09-17 20:00:54,756] Trial 69 finished with value: 0.23880597014925373 and parameters: {'lstm_layers': 1, 'units1': 256, 'dense_units': 128, 'dense_activation': 'tanh', 'dropout': 0.45365253038111025, 'learning_rate': 2.266441326103951e-06, 'optimizer': 'adam', 'batch_size': 64, 'patience': 13}. Best is trial 37 with value: 0.35365853658536583.\n",
      "[I 2025-09-17 20:01:22,376] Trial 70 finished with value: 0.10909090909090909 and parameters: {'lstm_layers': 1, 'units1': 224, 'dense_units': 192, 'dense_activation': 'tanh', 'dropout': 0.31850163217925986, 'learning_rate': 1.3614166968373706e-06, 'optimizer': 'adam', 'batch_size': 64, 'patience': 15}. Best is trial 37 with value: 0.35365853658536583.\n",
      "[I 2025-09-17 20:01:43,358] Trial 71 finished with value: 0.2184873949579832 and parameters: {'lstm_layers': 1, 'units1': 224, 'dense_units': 144, 'dense_activation': 'tanh', 'dropout': 0.2929837932703797, 'learning_rate': 1.0103208981589052e-06, 'optimizer': 'adam', 'batch_size': 64, 'patience': 14}. Best is trial 37 with value: 0.35365853658536583.\n",
      "[I 2025-09-17 20:01:51,909] Trial 72 finished with value: 0.28368794326241137 and parameters: {'lstm_layers': 1, 'units1': 256, 'dense_units': 128, 'dense_activation': 'tanh', 'dropout': 0.23729612140769205, 'learning_rate': 1.873797252948135e-06, 'optimizer': 'adam', 'batch_size': 64, 'patience': 14}. Best is trial 37 with value: 0.35365853658536583.\n",
      "[I 2025-09-17 20:01:58,219] Trial 73 finished with value: 0.3384615384615385 and parameters: {'lstm_layers': 1, 'units1': 256, 'dense_units': 96, 'dense_activation': 'tanh', 'dropout': 0.2388862690453645, 'learning_rate': 2.6226207474811512e-06, 'optimizer': 'adam', 'batch_size': 64, 'patience': 5}. Best is trial 37 with value: 0.35365853658536583.\n",
      "[I 2025-09-17 20:02:03,907] Trial 74 finished with value: 0.33497536945812806 and parameters: {'lstm_layers': 1, 'units1': 256, 'dense_units': 96, 'dense_activation': 'tanh', 'dropout': 0.265711582644171, 'learning_rate': 2.7791345723719807e-06, 'optimizer': 'adam', 'batch_size': 64, 'patience': 5}. Best is trial 37 with value: 0.35365853658536583.\n",
      "[I 2025-09-17 20:02:09,617] Trial 75 finished with value: 0.3383084577114428 and parameters: {'lstm_layers': 1, 'units1': 256, 'dense_units': 96, 'dense_activation': 'tanh', 'dropout': 0.26987146770621484, 'learning_rate': 3.2886943380144986e-06, 'optimizer': 'adam', 'batch_size': 64, 'patience': 5}. Best is trial 37 with value: 0.35365853658536583.\n",
      "[I 2025-09-17 20:02:36,570] Trial 76 finished with value: 0.0 and parameters: {'lstm_layers': 1, 'units1': 224, 'dense_units': 96, 'dense_activation': 'tanh', 'dropout': 0.26811455452753474, 'learning_rate': 3.64974448767509e-06, 'optimizer': 'adam', 'batch_size': 64, 'patience': 5}. Best is trial 37 with value: 0.35365853658536583.\n",
      "[I 2025-09-17 20:02:42,726] Trial 77 finished with value: 0.0 and parameters: {'lstm_layers': 1, 'units1': 256, 'dense_units': 80, 'dense_activation': 'tanh', 'dropout': 0.2115677049884168, 'learning_rate': 2.6882977012585587e-06, 'optimizer': 'rmsprop', 'batch_size': 64, 'patience': 5}. Best is trial 37 with value: 0.35365853658536583.\n",
      "[I 2025-09-17 20:02:48,480] Trial 78 finished with value: 0.02564102564102564 and parameters: {'lstm_layers': 1, 'units1': 224, 'dense_units': 48, 'dense_activation': 'tanh', 'dropout': 0.24823868474531033, 'learning_rate': 0.0004540235070443195, 'optimizer': 'adam', 'batch_size': 64, 'patience': 6}. Best is trial 37 with value: 0.35365853658536583.\n",
      "[I 2025-09-17 20:02:54,706] Trial 79 finished with value: 0.3402061855670103 and parameters: {'lstm_layers': 1, 'units1': 256, 'dense_units': 96, 'dense_activation': 'tanh', 'dropout': 0.20290008018760325, 'learning_rate': 5.9579767740680025e-06, 'optimizer': 'adam', 'batch_size': 64, 'patience': 6}. Best is trial 37 with value: 0.35365853658536583.\n",
      "[I 2025-09-17 20:02:59,671] Trial 80 finished with value: 0.203125 and parameters: {'lstm_layers': 1, 'units1': 192, 'dense_units': 96, 'dense_activation': 'tanh', 'dropout': 0.18758384739129114, 'learning_rate': 6.217955703377083e-06, 'optimizer': 'adam', 'batch_size': 128, 'patience': 6}. Best is trial 37 with value: 0.35365853658536583.\n",
      "[I 2025-09-17 20:03:05,358] Trial 81 finished with value: 0.31746031746031744 and parameters: {'lstm_layers': 1, 'units1': 256, 'dense_units': 96, 'dense_activation': 'tanh', 'dropout': 0.23046696212735382, 'learning_rate': 3.950933021052549e-06, 'optimizer': 'adam', 'batch_size': 64, 'patience': 5}. Best is trial 37 with value: 0.35365853658536583.\n",
      "[I 2025-09-17 20:03:11,835] Trial 82 finished with value: 0.024096385542168676 and parameters: {'lstm_layers': 1, 'units1': 256, 'dense_units': 112, 'dense_activation': 'tanh', 'dropout': 0.20459112984289862, 'learning_rate': 4.556486989228507e-06, 'optimizer': 'adam', 'batch_size': 64, 'patience': 7}. Best is trial 37 with value: 0.35365853658536583.\n",
      "[I 2025-09-17 20:03:17,558] Trial 83 finished with value: 0.0 and parameters: {'lstm_layers': 1, 'units1': 256, 'dense_units': 80, 'dense_activation': 'tanh', 'dropout': 0.22431641336633998, 'learning_rate': 3.892666022650008e-06, 'optimizer': 'adam', 'batch_size': 64, 'patience': 5}. Best is trial 37 with value: 0.35365853658536583.\n",
      "[I 2025-09-17 20:03:27,792] Trial 84 finished with value: 0.13333333333333333 and parameters: {'lstm_layers': 1, 'units1': 224, 'dense_units': 112, 'dense_activation': 'tanh', 'dropout': 0.27484424689886977, 'learning_rate': 6.490109269205466e-06, 'optimizer': 'adam', 'batch_size': 64, 'patience': 7}. Best is trial 37 with value: 0.35365853658536583.\n",
      "[I 2025-09-17 20:03:33,600] Trial 85 finished with value: 0.046511627906976744 and parameters: {'lstm_layers': 1, 'units1': 256, 'dense_units': 64, 'dense_activation': 'tanh', 'dropout': 0.30810435489073396, 'learning_rate': 2.997270412835363e-06, 'optimizer': 'rmsprop', 'batch_size': 64, 'patience': 6}. Best is trial 37 with value: 0.35365853658536583.\n",
      "[I 2025-09-17 20:03:52,640] Trial 86 finished with value: 0.14285714285714285 and parameters: {'lstm_layers': 1, 'units1': 224, 'dense_units': 48, 'dense_activation': 'tanh', 'dropout': 0.25744308102562125, 'learning_rate': 2.4640465117785883e-06, 'optimizer': 'adam', 'batch_size': 64, 'patience': 5}. Best is trial 37 with value: 0.35365853658536583.\n",
      "[I 2025-09-17 20:04:01,224] Trial 87 finished with value: 0.09302325581395349 and parameters: {'lstm_layers': 2, 'units1': 256, 'units2': 32, 'dense_units': 96, 'dense_activation': 'tanh', 'dropout': 0.1693149729044819, 'learning_rate': 3.4596989700004036e-06, 'optimizer': 'adam', 'batch_size': 64, 'patience': 6}. Best is trial 37 with value: 0.35365853658536583.\n",
      "[I 2025-09-17 20:04:09,078] Trial 88 finished with value: 0.0 and parameters: {'lstm_layers': 1, 'units1': 224, 'dense_units': 80, 'dense_activation': 'tanh', 'dropout': 0.22898945404973545, 'learning_rate': 9.461606840186232e-06, 'optimizer': 'adam', 'batch_size': 64, 'patience': 5}. Best is trial 37 with value: 0.35365853658536583.\n",
      "[I 2025-09-17 20:04:15,850] Trial 89 finished with value: 0.32978723404255317 and parameters: {'lstm_layers': 1, 'units1': 256, 'dense_units': 96, 'dense_activation': 'tanh', 'dropout': 0.19515711167417824, 'learning_rate': 4.473598348392639e-06, 'optimizer': 'rmsprop', 'batch_size': 64, 'patience': 8}. Best is trial 37 with value: 0.35365853658536583.\n",
      "[I 2025-09-17 20:04:22,926] Trial 90 finished with value: 0.32124352331606215 and parameters: {'lstm_layers': 1, 'units1': 256, 'dense_units': 96, 'dense_activation': 'tanh', 'dropout': 0.19816808107752354, 'learning_rate': 7.005563293931171e-06, 'optimizer': 'rmsprop', 'batch_size': 64, 'patience': 8}. Best is trial 37 with value: 0.35365853658536583.\n",
      "[I 2025-09-17 20:04:35,169] Trial 91 finished with value: 0.32967032967032966 and parameters: {'lstm_layers': 1, 'units1': 256, 'dense_units': 96, 'dense_activation': 'tanh', 'dropout': 0.18936536889547856, 'learning_rate': 1.2427993543842318e-05, 'optimizer': 'rmsprop', 'batch_size': 64, 'patience': 8}. Best is trial 37 with value: 0.35365853658536583.\n",
      "[I 2025-09-17 20:04:42,183] Trial 92 finished with value: 0.3854166666666667 and parameters: {'lstm_layers': 1, 'units1': 256, 'dense_units': 96, 'dense_activation': 'tanh', 'dropout': 0.1940706426424474, 'learning_rate': 5.154826380808717e-06, 'optimizer': 'rmsprop', 'batch_size': 64, 'patience': 8}. Best is trial 92 with value: 0.3854166666666667.\n",
      "[I 2025-09-17 20:04:48,854] Trial 93 finished with value: 0.023255813953488372 and parameters: {'lstm_layers': 1, 'units1': 256, 'dense_units': 112, 'dense_activation': 'tanh', 'dropout': 0.1699097674798951, 'learning_rate': 4.899841915121172e-06, 'optimizer': 'rmsprop', 'batch_size': 64, 'patience': 8}. Best is trial 92 with value: 0.3854166666666667.\n",
      "[I 2025-09-17 20:04:56,054] Trial 94 finished with value: 0.0 and parameters: {'lstm_layers': 1, 'units1': 256, 'dense_units': 80, 'dense_activation': 'tanh', 'dropout': 0.2520760089805382, 'learning_rate': 1.6481627544702496e-05, 'optimizer': 'rmsprop', 'batch_size': 64, 'patience': 9}. Best is trial 92 with value: 0.3854166666666667.\n",
      "[I 2025-09-17 20:05:02,611] Trial 95 finished with value: 0.025 and parameters: {'lstm_layers': 1, 'units1': 256, 'dense_units': 64, 'dense_activation': 'tanh', 'dropout': 0.2831937459494812, 'learning_rate': 7.976415299942713e-06, 'optimizer': 'rmsprop', 'batch_size': 128, 'patience': 9}. Best is trial 92 with value: 0.3854166666666667.\n",
      "[I 2025-09-17 20:05:08,609] Trial 96 finished with value: 0.0 and parameters: {'lstm_layers': 1, 'units1': 256, 'dense_units': 112, 'dense_activation': 'tanh', 'dropout': 0.20965691072933285, 'learning_rate': 1.2408713077310841e-05, 'optimizer': 'rmsprop', 'batch_size': 64, 'patience': 6}. Best is trial 92 with value: 0.3854166666666667.\n",
      "[I 2025-09-17 20:05:15,288] Trial 97 finished with value: 0.3024390243902439 and parameters: {'lstm_layers': 1, 'units1': 256, 'dense_units': 96, 'dense_activation': 'tanh', 'dropout': 0.3453480157366887, 'learning_rate': 4.393814988929873e-06, 'optimizer': 'rmsprop', 'batch_size': 64, 'patience': 8}. Best is trial 92 with value: 0.3854166666666667.\n",
      "[I 2025-09-17 20:05:21,629] Trial 98 finished with value: 0.0 and parameters: {'lstm_layers': 1, 'units1': 256, 'dense_units': 80, 'dense_activation': 'tanh', 'dropout': 0.26623135432453593, 'learning_rate': 5.866304701935004e-06, 'optimizer': 'rmsprop', 'batch_size': 64, 'patience': 7}. Best is trial 92 with value: 0.3854166666666667.\n",
      "[I 2025-09-17 20:05:28,537] Trial 99 finished with value: 0.07142857142857142 and parameters: {'lstm_layers': 1, 'units1': 224, 'dense_units': 64, 'dense_activation': 'tanh', 'dropout': 0.23608207162161587, 'learning_rate': 1.054651015023833e-05, 'optimizer': 'rmsprop', 'batch_size': 64, 'patience': 6}. Best is trial 92 with value: 0.3854166666666667.\n",
      "[I 2025-09-17 20:05:35,106] Trial 100 finished with value: 0.3383084577114428 and parameters: {'lstm_layers': 1, 'units1': 256, 'dense_units': 96, 'dense_activation': 'tanh', 'dropout': 0.16219089216775195, 'learning_rate': 2.7887876851929723e-06, 'optimizer': 'rmsprop', 'batch_size': 64, 'patience': 7}. Best is trial 92 with value: 0.3854166666666667.\n",
      "[I 2025-09-17 20:05:41,921] Trial 101 finished with value: 0.33507853403141363 and parameters: {'lstm_layers': 1, 'units1': 256, 'dense_units': 96, 'dense_activation': 'tanh', 'dropout': 0.19520772982213988, 'learning_rate': 2.7569871595661692e-06, 'optimizer': 'rmsprop', 'batch_size': 64, 'patience': 7}. Best is trial 92 with value: 0.3854166666666667.\n",
      "[I 2025-09-17 20:05:48,386] Trial 102 finished with value: 0.31413612565445026 and parameters: {'lstm_layers': 1, 'units1': 256, 'dense_units': 96, 'dense_activation': 'tanh', 'dropout': 0.18856563684760108, 'learning_rate': 2.5806884083110347e-06, 'optimizer': 'rmsprop', 'batch_size': 64, 'patience': 7}. Best is trial 92 with value: 0.3854166666666667.\n",
      "[I 2025-09-17 20:05:55,310] Trial 103 finished with value: 0.06666666666666667 and parameters: {'lstm_layers': 1, 'units1': 256, 'dense_units': 112, 'dense_activation': 'tanh', 'dropout': 0.15860957654231078, 'learning_rate': 5.20312493699805e-06, 'optimizer': 'rmsprop', 'batch_size': 64, 'patience': 7}. Best is trial 92 with value: 0.3854166666666667.\n",
      "[I 2025-09-17 20:06:02,686] Trial 104 finished with value: 0.34196891191709844 and parameters: {'lstm_layers': 1, 'units1': 256, 'dense_units': 96, 'dense_activation': 'tanh', 'dropout': 0.21359510195051376, 'learning_rate': 3.1515915699467006e-06, 'optimizer': 'rmsprop', 'batch_size': 64, 'patience': 8}. Best is trial 92 with value: 0.3854166666666667.\n",
      "[I 2025-09-17 20:06:13,960] Trial 105 finished with value: 0.296875 and parameters: {'lstm_layers': 1, 'units1': 256, 'dense_units': 80, 'dense_activation': 'tanh', 'dropout': 0.22039779820907895, 'learning_rate': 0.00013087421379148116, 'optimizer': 'rmsprop', 'batch_size': 64, 'patience': 8}. Best is trial 92 with value: 0.3854166666666667.\n",
      "[I 2025-09-17 20:06:21,331] Trial 106 finished with value: 0.3333333333333333 and parameters: {'lstm_layers': 1, 'units1': 256, 'dense_units': 96, 'dense_activation': 'tanh', 'dropout': 0.1690190852240014, 'learning_rate': 2.903242060913605e-06, 'optimizer': 'rmsprop', 'batch_size': 64, 'patience': 9}. Best is trial 92 with value: 0.3854166666666667.\n",
      "[I 2025-09-17 20:06:27,580] Trial 107 finished with value: 0.06896551724137931 and parameters: {'lstm_layers': 1, 'units1': 256, 'dense_units': 112, 'dense_activation': 'tanh', 'dropout': 0.16824004648318966, 'learning_rate': 3.402492949657492e-06, 'optimizer': 'rmsprop', 'batch_size': 128, 'patience': 10}. Best is trial 92 with value: 0.3854166666666667.\n",
      "[I 2025-09-17 20:06:35,070] Trial 108 finished with value: 0.0 and parameters: {'lstm_layers': 1, 'units1': 256, 'dense_units': 80, 'dense_activation': 'tanh', 'dropout': 0.13990056456471636, 'learning_rate': 2.987090571730559e-06, 'optimizer': 'rmsprop', 'batch_size': 64, 'patience': 6}. Best is trial 92 with value: 0.3854166666666667.\n",
      "[I 2025-09-17 20:06:41,785] Trial 109 finished with value: 0.0 and parameters: {'lstm_layers': 1, 'units1': 256, 'dense_units': 80, 'dense_activation': 'tanh', 'dropout': 0.1253713037643058, 'learning_rate': 1.2974337106376178e-06, 'optimizer': 'rmsprop', 'batch_size': 64, 'patience': 7}. Best is trial 92 with value: 0.3854166666666667.\n",
      "[I 2025-09-17 20:06:48,867] Trial 110 finished with value: 0.09195402298850575 and parameters: {'lstm_layers': 1, 'units1': 256, 'dense_units': 112, 'dense_activation': 'tanh', 'dropout': 0.21364789818524654, 'learning_rate': 1.5928670623197615e-06, 'optimizer': 'rmsprop', 'batch_size': 64, 'patience': 9}. Best is trial 92 with value: 0.3854166666666667.\n",
      "[I 2025-09-17 20:06:56,315] Trial 111 finished with value: 0.32653061224489793 and parameters: {'lstm_layers': 1, 'units1': 256, 'dense_units': 96, 'dense_activation': 'tanh', 'dropout': 0.19865362035180822, 'learning_rate': 2.390522479116626e-06, 'optimizer': 'rmsprop', 'batch_size': 64, 'patience': 8}. Best is trial 92 with value: 0.3854166666666667.\n",
      "[I 2025-09-17 20:07:02,933] Trial 112 finished with value: 0.3225806451612903 and parameters: {'lstm_layers': 1, 'units1': 256, 'dense_units': 96, 'dense_activation': 'tanh', 'dropout': 0.17571902361811753, 'learning_rate': 4.331127165859101e-06, 'optimizer': 'rmsprop', 'batch_size': 64, 'patience': 7}. Best is trial 92 with value: 0.3854166666666667.\n",
      "[I 2025-09-17 20:07:08,828] Trial 113 finished with value: 0.25 and parameters: {'lstm_layers': 1, 'units1': 256, 'dense_units': 96, 'dense_activation': 'tanh', 'dropout': 0.24019946523558713, 'learning_rate': 0.0022371917602634433, 'optimizer': 'rmsprop', 'batch_size': 64, 'patience': 5}. Best is trial 92 with value: 0.3854166666666667.\n",
      "[I 2025-09-17 20:07:15,893] Trial 114 finished with value: 0.205607476635514 and parameters: {'lstm_layers': 1, 'units1': 256, 'dense_units': 16, 'dense_activation': 'tanh', 'dropout': 0.2027970393238935, 'learning_rate': 1.9817093905412964e-06, 'optimizer': 'rmsprop', 'batch_size': 64, 'patience': 9}. Best is trial 92 with value: 0.3854166666666667.\n",
      "[I 2025-09-17 20:07:23,284] Trial 115 finished with value: 0.3350253807106599 and parameters: {'lstm_layers': 1, 'units1': 256, 'dense_units': 96, 'dense_activation': 'tanh', 'dropout': 0.1589633145970659, 'learning_rate': 2.908022227533927e-06, 'optimizer': 'rmsprop', 'batch_size': 32, 'patience': 6}. Best is trial 92 with value: 0.3854166666666667.\n",
      "[I 2025-09-17 20:07:30,728] Trial 116 finished with value: 0.023529411764705882 and parameters: {'lstm_layers': 1, 'units1': 256, 'dense_units': 112, 'dense_activation': 'tanh', 'dropout': 0.1010348263396833, 'learning_rate': 3.0124790807507663e-06, 'optimizer': 'rmsprop', 'batch_size': 32, 'patience': 6}. Best is trial 92 with value: 0.3854166666666667.\n",
      "[I 2025-09-17 20:07:37,772] Trial 117 finished with value: 0.0 and parameters: {'lstm_layers': 1, 'units1': 256, 'dense_units': 80, 'dense_activation': 'tanh', 'dropout': 0.1483331008231387, 'learning_rate': 2.0885922626135524e-06, 'optimizer': 'rmsprop', 'batch_size': 32, 'patience': 5}. Best is trial 92 with value: 0.3854166666666667.\n",
      "[I 2025-09-17 20:08:12,332] Trial 118 finished with value: 0.18018018018018017 and parameters: {'lstm_layers': 1, 'units1': 224, 'dense_units': 96, 'dense_activation': 'tanh', 'dropout': 0.15902569219184404, 'learning_rate': 3.4920956199750233e-06, 'optimizer': 'rmsprop', 'batch_size': 32, 'patience': 6}. Best is trial 92 with value: 0.3854166666666667.\n",
      "[I 2025-09-17 20:08:37,333] Trial 119 finished with value: 0.0898876404494382 and parameters: {'lstm_layers': 2, 'units1': 256, 'units2': 128, 'dense_units': 80, 'dense_activation': 'tanh', 'dropout': 0.21848589623206321, 'learning_rate': 2.6589246972661587e-06, 'optimizer': 'rmsprop', 'batch_size': 32, 'patience': 6}. Best is trial 92 with value: 0.3854166666666667.\n"
     ]
    },
    {
     "name": "stdout",
     "output_type": "stream",
     "text": [
      "Optuna duró 1757.23s en 120 trials\n"
     ]
    }
   ],
   "source": [
    "# ========= Ejecutar Optuna =========\n",
    "# Crear estudio y medir tiempo de Optuna\n",
    "t0 = time.perf_counter()\n",
    "\n",
    "study = optuna.create_study(direction=\"maximize\", sampler=optuna.samplers.TPESampler(seed=SEED))\n",
    "study.optimize(objective, n_trials=120)\n",
    "\n",
    "opt_duration_sec = time.perf_counter() - t0\n",
    "n_trials_run = len(study.trials)\n",
    "\n",
    "print(f\"Optuna duró {opt_duration_sec:.2f}s en {n_trials_run} trials\")"
   ]
  },
  {
   "cell_type": "code",
   "execution_count": 8,
   "id": "4396b7cd",
   "metadata": {},
   "outputs": [
    {
     "data": {
      "application/vnd.plotly.v1+json": {
       "config": {
        "plotlyServerURL": "https://plot.ly"
       },
       "data": [
        {
         "mode": "markers",
         "name": "Objective Value",
         "type": "scatter",
         "x": [
          0,
          1,
          2,
          3,
          4,
          5,
          6,
          7,
          8,
          9,
          10,
          11,
          12,
          13,
          14,
          15,
          16,
          17,
          18,
          19,
          20,
          21,
          22,
          23,
          24,
          25,
          26,
          27,
          28,
          29,
          30,
          31,
          32,
          33,
          34,
          35,
          36,
          37,
          38,
          39,
          40,
          41,
          42,
          43,
          44,
          45,
          46,
          47,
          48,
          49,
          50,
          51,
          52,
          53,
          54,
          55,
          56,
          57,
          58,
          59,
          60,
          61,
          62,
          63,
          64,
          65,
          66,
          67,
          68,
          69,
          70,
          71,
          72,
          73,
          74,
          75,
          76,
          77,
          78,
          79,
          80,
          81,
          82,
          83,
          84,
          85,
          86,
          87,
          88,
          89,
          90,
          91,
          92,
          93,
          94,
          95,
          96,
          97,
          98,
          99,
          100,
          101,
          102,
          103,
          104,
          105,
          106,
          107,
          108,
          109,
          110,
          111,
          112,
          113,
          114,
          115,
          116,
          117,
          118,
          119
         ],
         "y": [
          0,
          0,
          0,
          0.1553398058252427,
          0.04395604395604396,
          0.1509433962264151,
          0.16260162601626016,
          0.2733812949640288,
          0.08247422680412371,
          0.23622047244094488,
          0,
          0.24806201550387597,
          0.26153846153846155,
          0.11235955056179775,
          0.2545454545454545,
          0.23703703703703705,
          0.26153846153846155,
          0.06451612903225806,
          0.24793388429752067,
          0,
          0.1724137931034483,
          0,
          0.27419354838709675,
          0.09523809523809523,
          0.33557046979865773,
          0.2689075630252101,
          0,
          0,
          0.10638297872340426,
          0.18181818181818182,
          0,
          0.1746031746031746,
          0.18333333333333332,
          0.05,
          0.14432989690721648,
          0.22764227642276422,
          0.2413793103448276,
          0.35365853658536583,
          0,
          0.11538461538461539,
          0,
          0.11428571428571428,
          0.10434782608695652,
          0.08695652173913043,
          0,
          0.23008849557522124,
          0.061855670103092786,
          0.3142857142857143,
          0,
          0,
          0.09195402298850575,
          0.17886178861788618,
          0.024691358024691357,
          0.171875,
          0.23931623931623933,
          0.26666666666666666,
          0,
          0.22580645161290322,
          0.3054187192118227,
          0.047619047619047616,
          0.2900763358778626,
          0.29411764705882354,
          0.047619047619047616,
          0.2714285714285714,
          0,
          0,
          0.323943661971831,
          0.2835820895522388,
          0.025,
          0.23880597014925373,
          0.10909090909090909,
          0.2184873949579832,
          0.28368794326241137,
          0.3384615384615385,
          0.33497536945812806,
          0.3383084577114428,
          0,
          0,
          0.02564102564102564,
          0.3402061855670103,
          0.203125,
          0.31746031746031744,
          0.024096385542168676,
          0,
          0.13333333333333333,
          0.046511627906976744,
          0.14285714285714285,
          0.09302325581395349,
          0,
          0.32978723404255317,
          0.32124352331606215,
          0.32967032967032966,
          0.3854166666666667,
          0.023255813953488372,
          0,
          0.025,
          0,
          0.3024390243902439,
          0,
          0.07142857142857142,
          0.3383084577114428,
          0.33507853403141363,
          0.31413612565445026,
          0.06666666666666667,
          0.34196891191709844,
          0.296875,
          0.3333333333333333,
          0.06896551724137931,
          0,
          0,
          0.09195402298850575,
          0.32653061224489793,
          0.3225806451612903,
          0.25,
          0.205607476635514,
          0.3350253807106599,
          0.023529411764705882,
          0,
          0.18018018018018017,
          0.0898876404494382
         ]
        },
        {
         "mode": "lines",
         "name": "Best Value",
         "type": "scatter",
         "x": [
          0,
          1,
          2,
          3,
          4,
          5,
          6,
          7,
          8,
          9,
          10,
          11,
          12,
          13,
          14,
          15,
          16,
          17,
          18,
          19,
          20,
          21,
          22,
          23,
          24,
          25,
          26,
          27,
          28,
          29,
          30,
          31,
          32,
          33,
          34,
          35,
          36,
          37,
          38,
          39,
          40,
          41,
          42,
          43,
          44,
          45,
          46,
          47,
          48,
          49,
          50,
          51,
          52,
          53,
          54,
          55,
          56,
          57,
          58,
          59,
          60,
          61,
          62,
          63,
          64,
          65,
          66,
          67,
          68,
          69,
          70,
          71,
          72,
          73,
          74,
          75,
          76,
          77,
          78,
          79,
          80,
          81,
          82,
          83,
          84,
          85,
          86,
          87,
          88,
          89,
          90,
          91,
          92,
          93,
          94,
          95,
          96,
          97,
          98,
          99,
          100,
          101,
          102,
          103,
          104,
          105,
          106,
          107,
          108,
          109,
          110,
          111,
          112,
          113,
          114,
          115,
          116,
          117,
          118,
          119
         ],
         "y": [
          0,
          0,
          0,
          0.1553398058252427,
          0.1553398058252427,
          0.1553398058252427,
          0.16260162601626016,
          0.2733812949640288,
          0.2733812949640288,
          0.2733812949640288,
          0.2733812949640288,
          0.2733812949640288,
          0.2733812949640288,
          0.2733812949640288,
          0.2733812949640288,
          0.2733812949640288,
          0.2733812949640288,
          0.2733812949640288,
          0.2733812949640288,
          0.2733812949640288,
          0.2733812949640288,
          0.2733812949640288,
          0.27419354838709675,
          0.27419354838709675,
          0.33557046979865773,
          0.33557046979865773,
          0.33557046979865773,
          0.33557046979865773,
          0.33557046979865773,
          0.33557046979865773,
          0.33557046979865773,
          0.33557046979865773,
          0.33557046979865773,
          0.33557046979865773,
          0.33557046979865773,
          0.33557046979865773,
          0.33557046979865773,
          0.35365853658536583,
          0.35365853658536583,
          0.35365853658536583,
          0.35365853658536583,
          0.35365853658536583,
          0.35365853658536583,
          0.35365853658536583,
          0.35365853658536583,
          0.35365853658536583,
          0.35365853658536583,
          0.35365853658536583,
          0.35365853658536583,
          0.35365853658536583,
          0.35365853658536583,
          0.35365853658536583,
          0.35365853658536583,
          0.35365853658536583,
          0.35365853658536583,
          0.35365853658536583,
          0.35365853658536583,
          0.35365853658536583,
          0.35365853658536583,
          0.35365853658536583,
          0.35365853658536583,
          0.35365853658536583,
          0.35365853658536583,
          0.35365853658536583,
          0.35365853658536583,
          0.35365853658536583,
          0.35365853658536583,
          0.35365853658536583,
          0.35365853658536583,
          0.35365853658536583,
          0.35365853658536583,
          0.35365853658536583,
          0.35365853658536583,
          0.35365853658536583,
          0.35365853658536583,
          0.35365853658536583,
          0.35365853658536583,
          0.35365853658536583,
          0.35365853658536583,
          0.35365853658536583,
          0.35365853658536583,
          0.35365853658536583,
          0.35365853658536583,
          0.35365853658536583,
          0.35365853658536583,
          0.35365853658536583,
          0.35365853658536583,
          0.35365853658536583,
          0.35365853658536583,
          0.35365853658536583,
          0.35365853658536583,
          0.35365853658536583,
          0.3854166666666667,
          0.3854166666666667,
          0.3854166666666667,
          0.3854166666666667,
          0.3854166666666667,
          0.3854166666666667,
          0.3854166666666667,
          0.3854166666666667,
          0.3854166666666667,
          0.3854166666666667,
          0.3854166666666667,
          0.3854166666666667,
          0.3854166666666667,
          0.3854166666666667,
          0.3854166666666667,
          0.3854166666666667,
          0.3854166666666667,
          0.3854166666666667,
          0.3854166666666667,
          0.3854166666666667,
          0.3854166666666667,
          0.3854166666666667,
          0.3854166666666667,
          0.3854166666666667,
          0.3854166666666667,
          0.3854166666666667,
          0.3854166666666667,
          0.3854166666666667
         ]
        },
        {
         "marker": {
          "color": "#cccccc"
         },
         "mode": "markers",
         "name": "Infeasible Trial",
         "showlegend": false,
         "type": "scatter",
         "x": [],
         "y": []
        }
       ],
       "layout": {
        "template": {
         "data": {
          "bar": [
           {
            "error_x": {
             "color": "#2a3f5f"
            },
            "error_y": {
             "color": "#2a3f5f"
            },
            "marker": {
             "line": {
              "color": "#E5ECF6",
              "width": 0.5
             },
             "pattern": {
              "fillmode": "overlay",
              "size": 10,
              "solidity": 0.2
             }
            },
            "type": "bar"
           }
          ],
          "barpolar": [
           {
            "marker": {
             "line": {
              "color": "#E5ECF6",
              "width": 0.5
             },
             "pattern": {
              "fillmode": "overlay",
              "size": 10,
              "solidity": 0.2
             }
            },
            "type": "barpolar"
           }
          ],
          "carpet": [
           {
            "aaxis": {
             "endlinecolor": "#2a3f5f",
             "gridcolor": "white",
             "linecolor": "white",
             "minorgridcolor": "white",
             "startlinecolor": "#2a3f5f"
            },
            "baxis": {
             "endlinecolor": "#2a3f5f",
             "gridcolor": "white",
             "linecolor": "white",
             "minorgridcolor": "white",
             "startlinecolor": "#2a3f5f"
            },
            "type": "carpet"
           }
          ],
          "choropleth": [
           {
            "colorbar": {
             "outlinewidth": 0,
             "ticks": ""
            },
            "type": "choropleth"
           }
          ],
          "contour": [
           {
            "colorbar": {
             "outlinewidth": 0,
             "ticks": ""
            },
            "colorscale": [
             [
              0,
              "#0d0887"
             ],
             [
              0.1111111111111111,
              "#46039f"
             ],
             [
              0.2222222222222222,
              "#7201a8"
             ],
             [
              0.3333333333333333,
              "#9c179e"
             ],
             [
              0.4444444444444444,
              "#bd3786"
             ],
             [
              0.5555555555555556,
              "#d8576b"
             ],
             [
              0.6666666666666666,
              "#ed7953"
             ],
             [
              0.7777777777777778,
              "#fb9f3a"
             ],
             [
              0.8888888888888888,
              "#fdca26"
             ],
             [
              1,
              "#f0f921"
             ]
            ],
            "type": "contour"
           }
          ],
          "contourcarpet": [
           {
            "colorbar": {
             "outlinewidth": 0,
             "ticks": ""
            },
            "type": "contourcarpet"
           }
          ],
          "heatmap": [
           {
            "colorbar": {
             "outlinewidth": 0,
             "ticks": ""
            },
            "colorscale": [
             [
              0,
              "#0d0887"
             ],
             [
              0.1111111111111111,
              "#46039f"
             ],
             [
              0.2222222222222222,
              "#7201a8"
             ],
             [
              0.3333333333333333,
              "#9c179e"
             ],
             [
              0.4444444444444444,
              "#bd3786"
             ],
             [
              0.5555555555555556,
              "#d8576b"
             ],
             [
              0.6666666666666666,
              "#ed7953"
             ],
             [
              0.7777777777777778,
              "#fb9f3a"
             ],
             [
              0.8888888888888888,
              "#fdca26"
             ],
             [
              1,
              "#f0f921"
             ]
            ],
            "type": "heatmap"
           }
          ],
          "histogram": [
           {
            "marker": {
             "pattern": {
              "fillmode": "overlay",
              "size": 10,
              "solidity": 0.2
             }
            },
            "type": "histogram"
           }
          ],
          "histogram2d": [
           {
            "colorbar": {
             "outlinewidth": 0,
             "ticks": ""
            },
            "colorscale": [
             [
              0,
              "#0d0887"
             ],
             [
              0.1111111111111111,
              "#46039f"
             ],
             [
              0.2222222222222222,
              "#7201a8"
             ],
             [
              0.3333333333333333,
              "#9c179e"
             ],
             [
              0.4444444444444444,
              "#bd3786"
             ],
             [
              0.5555555555555556,
              "#d8576b"
             ],
             [
              0.6666666666666666,
              "#ed7953"
             ],
             [
              0.7777777777777778,
              "#fb9f3a"
             ],
             [
              0.8888888888888888,
              "#fdca26"
             ],
             [
              1,
              "#f0f921"
             ]
            ],
            "type": "histogram2d"
           }
          ],
          "histogram2dcontour": [
           {
            "colorbar": {
             "outlinewidth": 0,
             "ticks": ""
            },
            "colorscale": [
             [
              0,
              "#0d0887"
             ],
             [
              0.1111111111111111,
              "#46039f"
             ],
             [
              0.2222222222222222,
              "#7201a8"
             ],
             [
              0.3333333333333333,
              "#9c179e"
             ],
             [
              0.4444444444444444,
              "#bd3786"
             ],
             [
              0.5555555555555556,
              "#d8576b"
             ],
             [
              0.6666666666666666,
              "#ed7953"
             ],
             [
              0.7777777777777778,
              "#fb9f3a"
             ],
             [
              0.8888888888888888,
              "#fdca26"
             ],
             [
              1,
              "#f0f921"
             ]
            ],
            "type": "histogram2dcontour"
           }
          ],
          "mesh3d": [
           {
            "colorbar": {
             "outlinewidth": 0,
             "ticks": ""
            },
            "type": "mesh3d"
           }
          ],
          "parcoords": [
           {
            "line": {
             "colorbar": {
              "outlinewidth": 0,
              "ticks": ""
             }
            },
            "type": "parcoords"
           }
          ],
          "pie": [
           {
            "automargin": true,
            "type": "pie"
           }
          ],
          "scatter": [
           {
            "fillpattern": {
             "fillmode": "overlay",
             "size": 10,
             "solidity": 0.2
            },
            "type": "scatter"
           }
          ],
          "scatter3d": [
           {
            "line": {
             "colorbar": {
              "outlinewidth": 0,
              "ticks": ""
             }
            },
            "marker": {
             "colorbar": {
              "outlinewidth": 0,
              "ticks": ""
             }
            },
            "type": "scatter3d"
           }
          ],
          "scattercarpet": [
           {
            "marker": {
             "colorbar": {
              "outlinewidth": 0,
              "ticks": ""
             }
            },
            "type": "scattercarpet"
           }
          ],
          "scattergeo": [
           {
            "marker": {
             "colorbar": {
              "outlinewidth": 0,
              "ticks": ""
             }
            },
            "type": "scattergeo"
           }
          ],
          "scattergl": [
           {
            "marker": {
             "colorbar": {
              "outlinewidth": 0,
              "ticks": ""
             }
            },
            "type": "scattergl"
           }
          ],
          "scattermap": [
           {
            "marker": {
             "colorbar": {
              "outlinewidth": 0,
              "ticks": ""
             }
            },
            "type": "scattermap"
           }
          ],
          "scattermapbox": [
           {
            "marker": {
             "colorbar": {
              "outlinewidth": 0,
              "ticks": ""
             }
            },
            "type": "scattermapbox"
           }
          ],
          "scatterpolar": [
           {
            "marker": {
             "colorbar": {
              "outlinewidth": 0,
              "ticks": ""
             }
            },
            "type": "scatterpolar"
           }
          ],
          "scatterpolargl": [
           {
            "marker": {
             "colorbar": {
              "outlinewidth": 0,
              "ticks": ""
             }
            },
            "type": "scatterpolargl"
           }
          ],
          "scatterternary": [
           {
            "marker": {
             "colorbar": {
              "outlinewidth": 0,
              "ticks": ""
             }
            },
            "type": "scatterternary"
           }
          ],
          "surface": [
           {
            "colorbar": {
             "outlinewidth": 0,
             "ticks": ""
            },
            "colorscale": [
             [
              0,
              "#0d0887"
             ],
             [
              0.1111111111111111,
              "#46039f"
             ],
             [
              0.2222222222222222,
              "#7201a8"
             ],
             [
              0.3333333333333333,
              "#9c179e"
             ],
             [
              0.4444444444444444,
              "#bd3786"
             ],
             [
              0.5555555555555556,
              "#d8576b"
             ],
             [
              0.6666666666666666,
              "#ed7953"
             ],
             [
              0.7777777777777778,
              "#fb9f3a"
             ],
             [
              0.8888888888888888,
              "#fdca26"
             ],
             [
              1,
              "#f0f921"
             ]
            ],
            "type": "surface"
           }
          ],
          "table": [
           {
            "cells": {
             "fill": {
              "color": "#EBF0F8"
             },
             "line": {
              "color": "white"
             }
            },
            "header": {
             "fill": {
              "color": "#C8D4E3"
             },
             "line": {
              "color": "white"
             }
            },
            "type": "table"
           }
          ]
         },
         "layout": {
          "annotationdefaults": {
           "arrowcolor": "#2a3f5f",
           "arrowhead": 0,
           "arrowwidth": 1
          },
          "autotypenumbers": "strict",
          "coloraxis": {
           "colorbar": {
            "outlinewidth": 0,
            "ticks": ""
           }
          },
          "colorscale": {
           "diverging": [
            [
             0,
             "#8e0152"
            ],
            [
             0.1,
             "#c51b7d"
            ],
            [
             0.2,
             "#de77ae"
            ],
            [
             0.3,
             "#f1b6da"
            ],
            [
             0.4,
             "#fde0ef"
            ],
            [
             0.5,
             "#f7f7f7"
            ],
            [
             0.6,
             "#e6f5d0"
            ],
            [
             0.7,
             "#b8e186"
            ],
            [
             0.8,
             "#7fbc41"
            ],
            [
             0.9,
             "#4d9221"
            ],
            [
             1,
             "#276419"
            ]
           ],
           "sequential": [
            [
             0,
             "#0d0887"
            ],
            [
             0.1111111111111111,
             "#46039f"
            ],
            [
             0.2222222222222222,
             "#7201a8"
            ],
            [
             0.3333333333333333,
             "#9c179e"
            ],
            [
             0.4444444444444444,
             "#bd3786"
            ],
            [
             0.5555555555555556,
             "#d8576b"
            ],
            [
             0.6666666666666666,
             "#ed7953"
            ],
            [
             0.7777777777777778,
             "#fb9f3a"
            ],
            [
             0.8888888888888888,
             "#fdca26"
            ],
            [
             1,
             "#f0f921"
            ]
           ],
           "sequentialminus": [
            [
             0,
             "#0d0887"
            ],
            [
             0.1111111111111111,
             "#46039f"
            ],
            [
             0.2222222222222222,
             "#7201a8"
            ],
            [
             0.3333333333333333,
             "#9c179e"
            ],
            [
             0.4444444444444444,
             "#bd3786"
            ],
            [
             0.5555555555555556,
             "#d8576b"
            ],
            [
             0.6666666666666666,
             "#ed7953"
            ],
            [
             0.7777777777777778,
             "#fb9f3a"
            ],
            [
             0.8888888888888888,
             "#fdca26"
            ],
            [
             1,
             "#f0f921"
            ]
           ]
          },
          "colorway": [
           "#636efa",
           "#EF553B",
           "#00cc96",
           "#ab63fa",
           "#FFA15A",
           "#19d3f3",
           "#FF6692",
           "#B6E880",
           "#FF97FF",
           "#FECB52"
          ],
          "font": {
           "color": "#2a3f5f"
          },
          "geo": {
           "bgcolor": "white",
           "lakecolor": "white",
           "landcolor": "#E5ECF6",
           "showlakes": true,
           "showland": true,
           "subunitcolor": "white"
          },
          "hoverlabel": {
           "align": "left"
          },
          "hovermode": "closest",
          "mapbox": {
           "style": "light"
          },
          "paper_bgcolor": "white",
          "plot_bgcolor": "#E5ECF6",
          "polar": {
           "angularaxis": {
            "gridcolor": "white",
            "linecolor": "white",
            "ticks": ""
           },
           "bgcolor": "#E5ECF6",
           "radialaxis": {
            "gridcolor": "white",
            "linecolor": "white",
            "ticks": ""
           }
          },
          "scene": {
           "xaxis": {
            "backgroundcolor": "#E5ECF6",
            "gridcolor": "white",
            "gridwidth": 2,
            "linecolor": "white",
            "showbackground": true,
            "ticks": "",
            "zerolinecolor": "white"
           },
           "yaxis": {
            "backgroundcolor": "#E5ECF6",
            "gridcolor": "white",
            "gridwidth": 2,
            "linecolor": "white",
            "showbackground": true,
            "ticks": "",
            "zerolinecolor": "white"
           },
           "zaxis": {
            "backgroundcolor": "#E5ECF6",
            "gridcolor": "white",
            "gridwidth": 2,
            "linecolor": "white",
            "showbackground": true,
            "ticks": "",
            "zerolinecolor": "white"
           }
          },
          "shapedefaults": {
           "line": {
            "color": "#2a3f5f"
           }
          },
          "ternary": {
           "aaxis": {
            "gridcolor": "white",
            "linecolor": "white",
            "ticks": ""
           },
           "baxis": {
            "gridcolor": "white",
            "linecolor": "white",
            "ticks": ""
           },
           "bgcolor": "#E5ECF6",
           "caxis": {
            "gridcolor": "white",
            "linecolor": "white",
            "ticks": ""
           }
          },
          "title": {
           "x": 0.05
          },
          "xaxis": {
           "automargin": true,
           "gridcolor": "white",
           "linecolor": "white",
           "ticks": "",
           "title": {
            "standoff": 15
           },
           "zerolinecolor": "white",
           "zerolinewidth": 2
          },
          "yaxis": {
           "automargin": true,
           "gridcolor": "white",
           "linecolor": "white",
           "ticks": "",
           "title": {
            "standoff": 15
           },
           "zerolinecolor": "white",
           "zerolinewidth": 2
          }
         }
        },
        "title": {
         "text": "Optimization History Plot"
        },
        "xaxis": {
         "title": {
          "text": "Trial"
         }
        },
        "yaxis": {
         "title": {
          "text": "Objective Value"
         }
        }
       }
      }
     },
     "metadata": {},
     "output_type": "display_data"
    }
   ],
   "source": [
    "# --- Visualizar y Guardar Resultados de Optuna ---\n",
    "plot_optimization_history(study)"
   ]
  },
  {
   "cell_type": "code",
   "execution_count": 9,
   "id": "8061290c",
   "metadata": {},
   "outputs": [
    {
     "name": "stdout",
     "output_type": "stream",
     "text": [
      "Mejores hiperparámetros encontrados:\n",
      "{'lstm_layers': 1, 'units1': 256, 'dense_units': 96, 'dense_activation': 'tanh', 'dropout': 0.1940706426424474, 'learning_rate': 5.154826380808717e-06, 'optimizer': 'rmsprop', 'batch_size': 64, 'patience': 8}\n",
      "Mejor score de 'f1-score': 0.3854\n"
     ]
    }
   ],
   "source": [
    "print(\"Mejores hiperparámetros encontrados:\")\n",
    "best_params = study.best_params\n",
    "print(best_params)\n",
    "print(f\"Mejor score de '{SCORE}': {study.best_value:.4f}\")"
   ]
  },
  {
   "cell_type": "code",
   "execution_count": 10,
   "id": "3df2e6d5",
   "metadata": {},
   "outputs": [
    {
     "data": {
      "application/vnd.plotly.v1+json": {
       "config": {
        "plotlyServerURL": "https://plot.ly"
       },
       "data": [
        {
         "cliponaxis": false,
         "hovertemplate": [
          "lstm_layers (IntDistribution): 0.013016797702534059<extra></extra>",
          "dense_activation (CategoricalDistribution): 0.023860135278794208<extra></extra>",
          "optimizer (CategoricalDistribution): 0.030718286268897704<extra></extra>",
          "learning_rate (FloatDistribution): 0.04026500049896101<extra></extra>",
          "batch_size (CategoricalDistribution): 0.04317585620283053<extra></extra>",
          "units1 (IntDistribution): 0.04888211120577195<extra></extra>",
          "patience (IntDistribution): 0.08945807906678263<extra></extra>",
          "dropout (FloatDistribution): 0.26326399240723564<extra></extra>",
          "dense_units (IntDistribution): 0.44735974136819207<extra></extra>"
         ],
         "name": "Objective Value",
         "orientation": "h",
         "text": [
          "0.01",
          "0.02",
          "0.03",
          "0.04",
          "0.04",
          "0.05",
          "0.09",
          "0.26",
          "0.45"
         ],
         "textposition": "outside",
         "type": "bar",
         "x": [
          0.013016797702534059,
          0.023860135278794208,
          0.030718286268897704,
          0.04026500049896101,
          0.04317585620283053,
          0.04888211120577195,
          0.08945807906678263,
          0.26326399240723564,
          0.44735974136819207
         ],
         "y": [
          "lstm_layers",
          "dense_activation",
          "optimizer",
          "learning_rate",
          "batch_size",
          "units1",
          "patience",
          "dropout",
          "dense_units"
         ]
        }
       ],
       "layout": {
        "template": {
         "data": {
          "bar": [
           {
            "error_x": {
             "color": "#2a3f5f"
            },
            "error_y": {
             "color": "#2a3f5f"
            },
            "marker": {
             "line": {
              "color": "#E5ECF6",
              "width": 0.5
             },
             "pattern": {
              "fillmode": "overlay",
              "size": 10,
              "solidity": 0.2
             }
            },
            "type": "bar"
           }
          ],
          "barpolar": [
           {
            "marker": {
             "line": {
              "color": "#E5ECF6",
              "width": 0.5
             },
             "pattern": {
              "fillmode": "overlay",
              "size": 10,
              "solidity": 0.2
             }
            },
            "type": "barpolar"
           }
          ],
          "carpet": [
           {
            "aaxis": {
             "endlinecolor": "#2a3f5f",
             "gridcolor": "white",
             "linecolor": "white",
             "minorgridcolor": "white",
             "startlinecolor": "#2a3f5f"
            },
            "baxis": {
             "endlinecolor": "#2a3f5f",
             "gridcolor": "white",
             "linecolor": "white",
             "minorgridcolor": "white",
             "startlinecolor": "#2a3f5f"
            },
            "type": "carpet"
           }
          ],
          "choropleth": [
           {
            "colorbar": {
             "outlinewidth": 0,
             "ticks": ""
            },
            "type": "choropleth"
           }
          ],
          "contour": [
           {
            "colorbar": {
             "outlinewidth": 0,
             "ticks": ""
            },
            "colorscale": [
             [
              0,
              "#0d0887"
             ],
             [
              0.1111111111111111,
              "#46039f"
             ],
             [
              0.2222222222222222,
              "#7201a8"
             ],
             [
              0.3333333333333333,
              "#9c179e"
             ],
             [
              0.4444444444444444,
              "#bd3786"
             ],
             [
              0.5555555555555556,
              "#d8576b"
             ],
             [
              0.6666666666666666,
              "#ed7953"
             ],
             [
              0.7777777777777778,
              "#fb9f3a"
             ],
             [
              0.8888888888888888,
              "#fdca26"
             ],
             [
              1,
              "#f0f921"
             ]
            ],
            "type": "contour"
           }
          ],
          "contourcarpet": [
           {
            "colorbar": {
             "outlinewidth": 0,
             "ticks": ""
            },
            "type": "contourcarpet"
           }
          ],
          "heatmap": [
           {
            "colorbar": {
             "outlinewidth": 0,
             "ticks": ""
            },
            "colorscale": [
             [
              0,
              "#0d0887"
             ],
             [
              0.1111111111111111,
              "#46039f"
             ],
             [
              0.2222222222222222,
              "#7201a8"
             ],
             [
              0.3333333333333333,
              "#9c179e"
             ],
             [
              0.4444444444444444,
              "#bd3786"
             ],
             [
              0.5555555555555556,
              "#d8576b"
             ],
             [
              0.6666666666666666,
              "#ed7953"
             ],
             [
              0.7777777777777778,
              "#fb9f3a"
             ],
             [
              0.8888888888888888,
              "#fdca26"
             ],
             [
              1,
              "#f0f921"
             ]
            ],
            "type": "heatmap"
           }
          ],
          "histogram": [
           {
            "marker": {
             "pattern": {
              "fillmode": "overlay",
              "size": 10,
              "solidity": 0.2
             }
            },
            "type": "histogram"
           }
          ],
          "histogram2d": [
           {
            "colorbar": {
             "outlinewidth": 0,
             "ticks": ""
            },
            "colorscale": [
             [
              0,
              "#0d0887"
             ],
             [
              0.1111111111111111,
              "#46039f"
             ],
             [
              0.2222222222222222,
              "#7201a8"
             ],
             [
              0.3333333333333333,
              "#9c179e"
             ],
             [
              0.4444444444444444,
              "#bd3786"
             ],
             [
              0.5555555555555556,
              "#d8576b"
             ],
             [
              0.6666666666666666,
              "#ed7953"
             ],
             [
              0.7777777777777778,
              "#fb9f3a"
             ],
             [
              0.8888888888888888,
              "#fdca26"
             ],
             [
              1,
              "#f0f921"
             ]
            ],
            "type": "histogram2d"
           }
          ],
          "histogram2dcontour": [
           {
            "colorbar": {
             "outlinewidth": 0,
             "ticks": ""
            },
            "colorscale": [
             [
              0,
              "#0d0887"
             ],
             [
              0.1111111111111111,
              "#46039f"
             ],
             [
              0.2222222222222222,
              "#7201a8"
             ],
             [
              0.3333333333333333,
              "#9c179e"
             ],
             [
              0.4444444444444444,
              "#bd3786"
             ],
             [
              0.5555555555555556,
              "#d8576b"
             ],
             [
              0.6666666666666666,
              "#ed7953"
             ],
             [
              0.7777777777777778,
              "#fb9f3a"
             ],
             [
              0.8888888888888888,
              "#fdca26"
             ],
             [
              1,
              "#f0f921"
             ]
            ],
            "type": "histogram2dcontour"
           }
          ],
          "mesh3d": [
           {
            "colorbar": {
             "outlinewidth": 0,
             "ticks": ""
            },
            "type": "mesh3d"
           }
          ],
          "parcoords": [
           {
            "line": {
             "colorbar": {
              "outlinewidth": 0,
              "ticks": ""
             }
            },
            "type": "parcoords"
           }
          ],
          "pie": [
           {
            "automargin": true,
            "type": "pie"
           }
          ],
          "scatter": [
           {
            "fillpattern": {
             "fillmode": "overlay",
             "size": 10,
             "solidity": 0.2
            },
            "type": "scatter"
           }
          ],
          "scatter3d": [
           {
            "line": {
             "colorbar": {
              "outlinewidth": 0,
              "ticks": ""
             }
            },
            "marker": {
             "colorbar": {
              "outlinewidth": 0,
              "ticks": ""
             }
            },
            "type": "scatter3d"
           }
          ],
          "scattercarpet": [
           {
            "marker": {
             "colorbar": {
              "outlinewidth": 0,
              "ticks": ""
             }
            },
            "type": "scattercarpet"
           }
          ],
          "scattergeo": [
           {
            "marker": {
             "colorbar": {
              "outlinewidth": 0,
              "ticks": ""
             }
            },
            "type": "scattergeo"
           }
          ],
          "scattergl": [
           {
            "marker": {
             "colorbar": {
              "outlinewidth": 0,
              "ticks": ""
             }
            },
            "type": "scattergl"
           }
          ],
          "scattermap": [
           {
            "marker": {
             "colorbar": {
              "outlinewidth": 0,
              "ticks": ""
             }
            },
            "type": "scattermap"
           }
          ],
          "scattermapbox": [
           {
            "marker": {
             "colorbar": {
              "outlinewidth": 0,
              "ticks": ""
             }
            },
            "type": "scattermapbox"
           }
          ],
          "scatterpolar": [
           {
            "marker": {
             "colorbar": {
              "outlinewidth": 0,
              "ticks": ""
             }
            },
            "type": "scatterpolar"
           }
          ],
          "scatterpolargl": [
           {
            "marker": {
             "colorbar": {
              "outlinewidth": 0,
              "ticks": ""
             }
            },
            "type": "scatterpolargl"
           }
          ],
          "scatterternary": [
           {
            "marker": {
             "colorbar": {
              "outlinewidth": 0,
              "ticks": ""
             }
            },
            "type": "scatterternary"
           }
          ],
          "surface": [
           {
            "colorbar": {
             "outlinewidth": 0,
             "ticks": ""
            },
            "colorscale": [
             [
              0,
              "#0d0887"
             ],
             [
              0.1111111111111111,
              "#46039f"
             ],
             [
              0.2222222222222222,
              "#7201a8"
             ],
             [
              0.3333333333333333,
              "#9c179e"
             ],
             [
              0.4444444444444444,
              "#bd3786"
             ],
             [
              0.5555555555555556,
              "#d8576b"
             ],
             [
              0.6666666666666666,
              "#ed7953"
             ],
             [
              0.7777777777777778,
              "#fb9f3a"
             ],
             [
              0.8888888888888888,
              "#fdca26"
             ],
             [
              1,
              "#f0f921"
             ]
            ],
            "type": "surface"
           }
          ],
          "table": [
           {
            "cells": {
             "fill": {
              "color": "#EBF0F8"
             },
             "line": {
              "color": "white"
             }
            },
            "header": {
             "fill": {
              "color": "#C8D4E3"
             },
             "line": {
              "color": "white"
             }
            },
            "type": "table"
           }
          ]
         },
         "layout": {
          "annotationdefaults": {
           "arrowcolor": "#2a3f5f",
           "arrowhead": 0,
           "arrowwidth": 1
          },
          "autotypenumbers": "strict",
          "coloraxis": {
           "colorbar": {
            "outlinewidth": 0,
            "ticks": ""
           }
          },
          "colorscale": {
           "diverging": [
            [
             0,
             "#8e0152"
            ],
            [
             0.1,
             "#c51b7d"
            ],
            [
             0.2,
             "#de77ae"
            ],
            [
             0.3,
             "#f1b6da"
            ],
            [
             0.4,
             "#fde0ef"
            ],
            [
             0.5,
             "#f7f7f7"
            ],
            [
             0.6,
             "#e6f5d0"
            ],
            [
             0.7,
             "#b8e186"
            ],
            [
             0.8,
             "#7fbc41"
            ],
            [
             0.9,
             "#4d9221"
            ],
            [
             1,
             "#276419"
            ]
           ],
           "sequential": [
            [
             0,
             "#0d0887"
            ],
            [
             0.1111111111111111,
             "#46039f"
            ],
            [
             0.2222222222222222,
             "#7201a8"
            ],
            [
             0.3333333333333333,
             "#9c179e"
            ],
            [
             0.4444444444444444,
             "#bd3786"
            ],
            [
             0.5555555555555556,
             "#d8576b"
            ],
            [
             0.6666666666666666,
             "#ed7953"
            ],
            [
             0.7777777777777778,
             "#fb9f3a"
            ],
            [
             0.8888888888888888,
             "#fdca26"
            ],
            [
             1,
             "#f0f921"
            ]
           ],
           "sequentialminus": [
            [
             0,
             "#0d0887"
            ],
            [
             0.1111111111111111,
             "#46039f"
            ],
            [
             0.2222222222222222,
             "#7201a8"
            ],
            [
             0.3333333333333333,
             "#9c179e"
            ],
            [
             0.4444444444444444,
             "#bd3786"
            ],
            [
             0.5555555555555556,
             "#d8576b"
            ],
            [
             0.6666666666666666,
             "#ed7953"
            ],
            [
             0.7777777777777778,
             "#fb9f3a"
            ],
            [
             0.8888888888888888,
             "#fdca26"
            ],
            [
             1,
             "#f0f921"
            ]
           ]
          },
          "colorway": [
           "#636efa",
           "#EF553B",
           "#00cc96",
           "#ab63fa",
           "#FFA15A",
           "#19d3f3",
           "#FF6692",
           "#B6E880",
           "#FF97FF",
           "#FECB52"
          ],
          "font": {
           "color": "#2a3f5f"
          },
          "geo": {
           "bgcolor": "white",
           "lakecolor": "white",
           "landcolor": "#E5ECF6",
           "showlakes": true,
           "showland": true,
           "subunitcolor": "white"
          },
          "hoverlabel": {
           "align": "left"
          },
          "hovermode": "closest",
          "mapbox": {
           "style": "light"
          },
          "paper_bgcolor": "white",
          "plot_bgcolor": "#E5ECF6",
          "polar": {
           "angularaxis": {
            "gridcolor": "white",
            "linecolor": "white",
            "ticks": ""
           },
           "bgcolor": "#E5ECF6",
           "radialaxis": {
            "gridcolor": "white",
            "linecolor": "white",
            "ticks": ""
           }
          },
          "scene": {
           "xaxis": {
            "backgroundcolor": "#E5ECF6",
            "gridcolor": "white",
            "gridwidth": 2,
            "linecolor": "white",
            "showbackground": true,
            "ticks": "",
            "zerolinecolor": "white"
           },
           "yaxis": {
            "backgroundcolor": "#E5ECF6",
            "gridcolor": "white",
            "gridwidth": 2,
            "linecolor": "white",
            "showbackground": true,
            "ticks": "",
            "zerolinecolor": "white"
           },
           "zaxis": {
            "backgroundcolor": "#E5ECF6",
            "gridcolor": "white",
            "gridwidth": 2,
            "linecolor": "white",
            "showbackground": true,
            "ticks": "",
            "zerolinecolor": "white"
           }
          },
          "shapedefaults": {
           "line": {
            "color": "#2a3f5f"
           }
          },
          "ternary": {
           "aaxis": {
            "gridcolor": "white",
            "linecolor": "white",
            "ticks": ""
           },
           "baxis": {
            "gridcolor": "white",
            "linecolor": "white",
            "ticks": ""
           },
           "bgcolor": "#E5ECF6",
           "caxis": {
            "gridcolor": "white",
            "linecolor": "white",
            "ticks": ""
           }
          },
          "title": {
           "x": 0.05
          },
          "xaxis": {
           "automargin": true,
           "gridcolor": "white",
           "linecolor": "white",
           "ticks": "",
           "title": {
            "standoff": 15
           },
           "zerolinecolor": "white",
           "zerolinewidth": 2
          },
          "yaxis": {
           "automargin": true,
           "gridcolor": "white",
           "linecolor": "white",
           "ticks": "",
           "title": {
            "standoff": 15
           },
           "zerolinecolor": "white",
           "zerolinewidth": 2
          }
         }
        },
        "title": {
         "text": "Hyperparameter Importances"
        },
        "xaxis": {
         "title": {
          "text": "Hyperparameter Importance"
         }
        },
        "yaxis": {
         "title": {
          "text": "Hyperparameter"
         }
        }
       }
      }
     },
     "metadata": {},
     "output_type": "display_data"
    },
    {
     "data": {
      "application/vnd.plotly.v1+json": {
       "config": {
        "plotlyServerURL": "https://plot.ly"
       },
       "data": [
        {
         "marker": {
          "color": [
           0,
           1,
           2,
           3,
           4,
           5,
           6,
           7,
           8,
           9,
           10,
           11,
           12,
           13,
           14,
           15,
           16,
           17,
           18,
           19,
           20,
           21,
           22,
           23,
           24,
           25,
           26,
           27,
           28,
           29,
           30,
           31,
           32,
           33,
           34,
           35,
           36,
           37,
           38,
           39,
           40,
           41,
           42,
           43,
           44,
           45,
           46,
           47,
           48,
           49,
           50,
           51,
           52,
           53,
           54,
           55,
           56,
           57,
           58,
           59,
           60,
           61,
           62,
           63,
           64,
           65,
           66,
           67,
           68,
           69,
           70,
           71,
           72,
           73,
           74,
           75,
           76,
           77,
           78,
           79,
           80,
           81,
           82,
           83,
           84,
           85,
           86,
           87,
           88,
           89,
           90,
           91,
           92,
           93,
           94,
           95,
           96,
           97,
           98,
           99,
           100,
           101,
           102,
           103,
           104,
           105,
           106,
           107,
           108,
           109,
           110,
           111,
           112,
           113,
           114,
           115,
           116,
           117,
           118,
           119
          ],
          "colorbar": {
           "title": {
            "text": "Trial"
           },
           "x": 1,
           "xpad": 40
          },
          "colorscale": [
           [
            0,
            "rgb(247,251,255)"
           ],
           [
            0.125,
            "rgb(222,235,247)"
           ],
           [
            0.25,
            "rgb(198,219,239)"
           ],
           [
            0.375,
            "rgb(158,202,225)"
           ],
           [
            0.5,
            "rgb(107,174,214)"
           ],
           [
            0.625,
            "rgb(66,146,198)"
           ],
           [
            0.75,
            "rgb(33,113,181)"
           ],
           [
            0.875,
            "rgb(8,81,156)"
           ],
           [
            1,
            "rgb(8,48,107)"
           ]
          ],
          "line": {
           "color": "Grey",
           "width": 0.5
          },
          "showscale": true
         },
         "mode": "markers",
         "name": "Feasible Trial",
         "showlegend": false,
         "type": "scatter",
         "x": [
          64,
          128,
          64,
          32,
          64,
          32,
          64,
          32,
          32,
          128,
          32,
          128,
          128,
          128,
          128,
          32,
          32,
          128,
          128,
          32,
          128,
          32,
          32,
          32,
          32,
          32,
          32,
          32,
          32,
          64,
          32,
          32,
          32,
          32,
          32,
          32,
          64,
          32,
          32,
          64,
          32,
          32,
          32,
          32,
          32,
          32,
          32,
          64,
          64,
          64,
          64,
          64,
          32,
          64,
          32,
          32,
          32,
          128,
          64,
          64,
          64,
          64,
          64,
          64,
          64,
          64,
          64,
          64,
          64,
          64,
          64,
          64,
          64,
          64,
          64,
          64,
          64,
          64,
          64,
          64,
          128,
          64,
          64,
          64,
          64,
          64,
          64,
          64,
          64,
          64,
          64,
          64,
          64,
          64,
          64,
          128,
          64,
          64,
          64,
          64,
          64,
          64,
          64,
          64,
          64,
          64,
          64,
          128,
          64,
          64,
          64,
          64,
          64,
          64,
          64,
          32,
          32,
          32,
          32,
          32
         ],
         "xaxis": "x",
         "y": [
          0,
          0,
          0,
          0.1553398058252427,
          0.04395604395604396,
          0.1509433962264151,
          0.16260162601626016,
          0.2733812949640288,
          0.08247422680412371,
          0.23622047244094488,
          0,
          0.24806201550387597,
          0.26153846153846155,
          0.11235955056179775,
          0.2545454545454545,
          0.23703703703703705,
          0.26153846153846155,
          0.06451612903225806,
          0.24793388429752067,
          0,
          0.1724137931034483,
          0,
          0.27419354838709675,
          0.09523809523809523,
          0.33557046979865773,
          0.2689075630252101,
          0,
          0,
          0.10638297872340426,
          0.18181818181818182,
          0,
          0.1746031746031746,
          0.18333333333333332,
          0.05,
          0.14432989690721648,
          0.22764227642276422,
          0.2413793103448276,
          0.35365853658536583,
          0,
          0.11538461538461539,
          0,
          0.11428571428571428,
          0.10434782608695652,
          0.08695652173913043,
          0,
          0.23008849557522124,
          0.061855670103092786,
          0.3142857142857143,
          0,
          0,
          0.09195402298850575,
          0.17886178861788618,
          0.024691358024691357,
          0.171875,
          0.23931623931623933,
          0.26666666666666666,
          0,
          0.22580645161290322,
          0.3054187192118227,
          0.047619047619047616,
          0.2900763358778626,
          0.29411764705882354,
          0.047619047619047616,
          0.2714285714285714,
          0,
          0,
          0.323943661971831,
          0.2835820895522388,
          0.025,
          0.23880597014925373,
          0.10909090909090909,
          0.2184873949579832,
          0.28368794326241137,
          0.3384615384615385,
          0.33497536945812806,
          0.3383084577114428,
          0,
          0,
          0.02564102564102564,
          0.3402061855670103,
          0.203125,
          0.31746031746031744,
          0.024096385542168676,
          0,
          0.13333333333333333,
          0.046511627906976744,
          0.14285714285714285,
          0.09302325581395349,
          0,
          0.32978723404255317,
          0.32124352331606215,
          0.32967032967032966,
          0.3854166666666667,
          0.023255813953488372,
          0,
          0.025,
          0,
          0.3024390243902439,
          0,
          0.07142857142857142,
          0.3383084577114428,
          0.33507853403141363,
          0.31413612565445026,
          0.06666666666666667,
          0.34196891191709844,
          0.296875,
          0.3333333333333333,
          0.06896551724137931,
          0,
          0,
          0.09195402298850575,
          0.32653061224489793,
          0.3225806451612903,
          0.25,
          0.205607476635514,
          0.3350253807106599,
          0.023529411764705882,
          0,
          0.18018018018018017,
          0.0898876404494382
         ],
         "yaxis": "y"
        },
        {
         "marker": {
          "color": [
           0,
           1,
           2,
           3,
           4,
           5,
           6,
           7,
           8,
           9,
           10,
           11,
           12,
           13,
           14,
           15,
           16,
           17,
           18,
           19,
           20,
           21,
           22,
           23,
           24,
           25,
           26,
           27,
           28,
           29,
           30,
           31,
           32,
           33,
           34,
           35,
           36,
           37,
           38,
           39,
           40,
           41,
           42,
           43,
           44,
           45,
           46,
           47,
           48,
           49,
           50,
           51,
           52,
           53,
           54,
           55,
           56,
           57,
           58,
           59,
           60,
           61,
           62,
           63,
           64,
           65,
           66,
           67,
           68,
           69,
           70,
           71,
           72,
           73,
           74,
           75,
           76,
           77,
           78,
           79,
           80,
           81,
           82,
           83,
           84,
           85,
           86,
           87,
           88,
           89,
           90,
           91,
           92,
           93,
           94,
           95,
           96,
           97,
           98,
           99,
           100,
           101,
           102,
           103,
           104,
           105,
           106,
           107,
           108,
           109,
           110,
           111,
           112,
           113,
           114,
           115,
           116,
           117,
           118,
           119
          ],
          "colorbar": {
           "title": {
            "text": "Trial"
           },
           "x": 1,
           "xpad": 40
          },
          "colorscale": [
           [
            0,
            "rgb(247,251,255)"
           ],
           [
            0.125,
            "rgb(222,235,247)"
           ],
           [
            0.25,
            "rgb(198,219,239)"
           ],
           [
            0.375,
            "rgb(158,202,225)"
           ],
           [
            0.5,
            "rgb(107,174,214)"
           ],
           [
            0.625,
            "rgb(66,146,198)"
           ],
           [
            0.75,
            "rgb(33,113,181)"
           ],
           [
            0.875,
            "rgb(8,81,156)"
           ],
           [
            1,
            "rgb(8,48,107)"
           ]
          ],
          "line": {
           "color": "Grey",
           "width": 0.5
          },
          "showscale": false
         },
         "mode": "markers",
         "name": "Feasible Trial",
         "showlegend": false,
         "type": "scatter",
         "x": [
          "tanh",
          "tanh",
          "tanh",
          "tanh",
          "relu",
          "tanh",
          "tanh",
          "tanh",
          "tanh",
          "tanh",
          "relu",
          "relu",
          "relu",
          "relu",
          "relu",
          "relu",
          "relu",
          "relu",
          "relu",
          "tanh",
          "tanh",
          "relu",
          "relu",
          "relu",
          "relu",
          "relu",
          "relu",
          "relu",
          "tanh",
          "tanh",
          "relu",
          "relu",
          "relu",
          "relu",
          "relu",
          "tanh",
          "relu",
          "tanh",
          "tanh",
          "tanh",
          "tanh",
          "tanh",
          "tanh",
          "tanh",
          "tanh",
          "relu",
          "tanh",
          "relu",
          "relu",
          "tanh",
          "relu",
          "relu",
          "relu",
          "relu",
          "relu",
          "relu",
          "relu",
          "relu",
          "tanh",
          "tanh",
          "tanh",
          "tanh",
          "tanh",
          "tanh",
          "tanh",
          "tanh",
          "tanh",
          "tanh",
          "tanh",
          "tanh",
          "tanh",
          "tanh",
          "tanh",
          "tanh",
          "tanh",
          "tanh",
          "tanh",
          "tanh",
          "tanh",
          "tanh",
          "tanh",
          "tanh",
          "tanh",
          "tanh",
          "tanh",
          "tanh",
          "tanh",
          "tanh",
          "tanh",
          "tanh",
          "tanh",
          "tanh",
          "tanh",
          "tanh",
          "tanh",
          "tanh",
          "tanh",
          "tanh",
          "tanh",
          "tanh",
          "tanh",
          "tanh",
          "tanh",
          "tanh",
          "tanh",
          "tanh",
          "tanh",
          "tanh",
          "tanh",
          "tanh",
          "tanh",
          "tanh",
          "tanh",
          "tanh",
          "tanh",
          "tanh",
          "tanh",
          "tanh",
          "tanh",
          "tanh"
         ],
         "xaxis": "x2",
         "y": [
          0,
          0,
          0,
          0.1553398058252427,
          0.04395604395604396,
          0.1509433962264151,
          0.16260162601626016,
          0.2733812949640288,
          0.08247422680412371,
          0.23622047244094488,
          0,
          0.24806201550387597,
          0.26153846153846155,
          0.11235955056179775,
          0.2545454545454545,
          0.23703703703703705,
          0.26153846153846155,
          0.06451612903225806,
          0.24793388429752067,
          0,
          0.1724137931034483,
          0,
          0.27419354838709675,
          0.09523809523809523,
          0.33557046979865773,
          0.2689075630252101,
          0,
          0,
          0.10638297872340426,
          0.18181818181818182,
          0,
          0.1746031746031746,
          0.18333333333333332,
          0.05,
          0.14432989690721648,
          0.22764227642276422,
          0.2413793103448276,
          0.35365853658536583,
          0,
          0.11538461538461539,
          0,
          0.11428571428571428,
          0.10434782608695652,
          0.08695652173913043,
          0,
          0.23008849557522124,
          0.061855670103092786,
          0.3142857142857143,
          0,
          0,
          0.09195402298850575,
          0.17886178861788618,
          0.024691358024691357,
          0.171875,
          0.23931623931623933,
          0.26666666666666666,
          0,
          0.22580645161290322,
          0.3054187192118227,
          0.047619047619047616,
          0.2900763358778626,
          0.29411764705882354,
          0.047619047619047616,
          0.2714285714285714,
          0,
          0,
          0.323943661971831,
          0.2835820895522388,
          0.025,
          0.23880597014925373,
          0.10909090909090909,
          0.2184873949579832,
          0.28368794326241137,
          0.3384615384615385,
          0.33497536945812806,
          0.3383084577114428,
          0,
          0,
          0.02564102564102564,
          0.3402061855670103,
          0.203125,
          0.31746031746031744,
          0.024096385542168676,
          0,
          0.13333333333333333,
          0.046511627906976744,
          0.14285714285714285,
          0.09302325581395349,
          0,
          0.32978723404255317,
          0.32124352331606215,
          0.32967032967032966,
          0.3854166666666667,
          0.023255813953488372,
          0,
          0.025,
          0,
          0.3024390243902439,
          0,
          0.07142857142857142,
          0.3383084577114428,
          0.33507853403141363,
          0.31413612565445026,
          0.06666666666666667,
          0.34196891191709844,
          0.296875,
          0.3333333333333333,
          0.06896551724137931,
          0,
          0,
          0.09195402298850575,
          0.32653061224489793,
          0.3225806451612903,
          0.25,
          0.205607476635514,
          0.3350253807106599,
          0.023529411764705882,
          0,
          0.18018018018018017,
          0.0898876404494382
         ],
         "yaxis": "y2"
        },
        {
         "marker": {
          "color": [
           0,
           1,
           2,
           3,
           4,
           5,
           6,
           7,
           8,
           9,
           10,
           11,
           12,
           13,
           14,
           15,
           16,
           17,
           18,
           19,
           20,
           21,
           22,
           23,
           24,
           25,
           26,
           27,
           28,
           29,
           30,
           31,
           32,
           33,
           34,
           35,
           36,
           37,
           38,
           39,
           40,
           41,
           42,
           43,
           44,
           45,
           46,
           47,
           48,
           49,
           50,
           51,
           52,
           53,
           54,
           55,
           56,
           57,
           58,
           59,
           60,
           61,
           62,
           63,
           64,
           65,
           66,
           67,
           68,
           69,
           70,
           71,
           72,
           73,
           74,
           75,
           76,
           77,
           78,
           79,
           80,
           81,
           82,
           83,
           84,
           85,
           86,
           87,
           88,
           89,
           90,
           91,
           92,
           93,
           94,
           95,
           96,
           97,
           98,
           99,
           100,
           101,
           102,
           103,
           104,
           105,
           106,
           107,
           108,
           109,
           110,
           111,
           112,
           113,
           114,
           115,
           116,
           117,
           118,
           119
          ],
          "colorbar": {
           "title": {
            "text": "Trial"
           },
           "x": 1,
           "xpad": 40
          },
          "colorscale": [
           [
            0,
            "rgb(247,251,255)"
           ],
           [
            0.125,
            "rgb(222,235,247)"
           ],
           [
            0.25,
            "rgb(198,219,239)"
           ],
           [
            0.375,
            "rgb(158,202,225)"
           ],
           [
            0.5,
            "rgb(107,174,214)"
           ],
           [
            0.625,
            "rgb(66,146,198)"
           ],
           [
            0.75,
            "rgb(33,113,181)"
           ],
           [
            0.875,
            "rgb(8,81,156)"
           ],
           [
            1,
            "rgb(8,48,107)"
           ]
          ],
          "line": {
           "color": "Grey",
           "width": 0.5
          },
          "showscale": false
         },
         "mode": "markers",
         "name": "Feasible Trial",
         "showlegend": false,
         "type": "scatter",
         "x": [
          48,
          96,
          144,
          240,
          64,
          256,
          224,
          208,
          128,
          240,
          176,
          192,
          192,
          192,
          144,
          208,
          160,
          112,
          16,
          208,
          176,
          176,
          160,
          208,
          160,
          96,
          160,
          128,
          160,
          112,
          64,
          96,
          96,
          80,
          32,
          144,
          112,
          256,
          256,
          240,
          224,
          224,
          240,
          256,
          144,
          64,
          192,
          128,
          128,
          160,
          176,
          128,
          80,
          112,
          208,
          80,
          144,
          160,
          96,
          176,
          192,
          192,
          176,
          192,
          224,
          160,
          128,
          128,
          112,
          128,
          192,
          144,
          128,
          96,
          96,
          96,
          96,
          80,
          48,
          96,
          96,
          96,
          112,
          80,
          112,
          64,
          48,
          96,
          80,
          96,
          96,
          96,
          96,
          112,
          80,
          64,
          112,
          96,
          80,
          64,
          96,
          96,
          96,
          112,
          96,
          80,
          96,
          112,
          80,
          80,
          112,
          96,
          96,
          96,
          16,
          96,
          112,
          80,
          96,
          80
         ],
         "xaxis": "x3",
         "y": [
          0,
          0,
          0,
          0.1553398058252427,
          0.04395604395604396,
          0.1509433962264151,
          0.16260162601626016,
          0.2733812949640288,
          0.08247422680412371,
          0.23622047244094488,
          0,
          0.24806201550387597,
          0.26153846153846155,
          0.11235955056179775,
          0.2545454545454545,
          0.23703703703703705,
          0.26153846153846155,
          0.06451612903225806,
          0.24793388429752067,
          0,
          0.1724137931034483,
          0,
          0.27419354838709675,
          0.09523809523809523,
          0.33557046979865773,
          0.2689075630252101,
          0,
          0,
          0.10638297872340426,
          0.18181818181818182,
          0,
          0.1746031746031746,
          0.18333333333333332,
          0.05,
          0.14432989690721648,
          0.22764227642276422,
          0.2413793103448276,
          0.35365853658536583,
          0,
          0.11538461538461539,
          0,
          0.11428571428571428,
          0.10434782608695652,
          0.08695652173913043,
          0,
          0.23008849557522124,
          0.061855670103092786,
          0.3142857142857143,
          0,
          0,
          0.09195402298850575,
          0.17886178861788618,
          0.024691358024691357,
          0.171875,
          0.23931623931623933,
          0.26666666666666666,
          0,
          0.22580645161290322,
          0.3054187192118227,
          0.047619047619047616,
          0.2900763358778626,
          0.29411764705882354,
          0.047619047619047616,
          0.2714285714285714,
          0,
          0,
          0.323943661971831,
          0.2835820895522388,
          0.025,
          0.23880597014925373,
          0.10909090909090909,
          0.2184873949579832,
          0.28368794326241137,
          0.3384615384615385,
          0.33497536945812806,
          0.3383084577114428,
          0,
          0,
          0.02564102564102564,
          0.3402061855670103,
          0.203125,
          0.31746031746031744,
          0.024096385542168676,
          0,
          0.13333333333333333,
          0.046511627906976744,
          0.14285714285714285,
          0.09302325581395349,
          0,
          0.32978723404255317,
          0.32124352331606215,
          0.32967032967032966,
          0.3854166666666667,
          0.023255813953488372,
          0,
          0.025,
          0,
          0.3024390243902439,
          0,
          0.07142857142857142,
          0.3383084577114428,
          0.33507853403141363,
          0.31413612565445026,
          0.06666666666666667,
          0.34196891191709844,
          0.296875,
          0.3333333333333333,
          0.06896551724137931,
          0,
          0,
          0.09195402298850575,
          0.32653061224489793,
          0.3225806451612903,
          0.25,
          0.205607476635514,
          0.3350253807106599,
          0.023529411764705882,
          0,
          0.18018018018018017,
          0.0898876404494382
         ],
         "yaxis": "y3"
        },
        {
         "marker": {
          "color": [
           0,
           1,
           2,
           3,
           4,
           5,
           6,
           7,
           8,
           9,
           10,
           11,
           12,
           13,
           14,
           15,
           16,
           17,
           18,
           19,
           20,
           21,
           22,
           23,
           24,
           25,
           26,
           27,
           28,
           29,
           30,
           31,
           32,
           33,
           34,
           35,
           36,
           37,
           38,
           39,
           40,
           41,
           42,
           43,
           44,
           45,
           46,
           47,
           48,
           49,
           50,
           51,
           52,
           53,
           54,
           55,
           56,
           57,
           58,
           59,
           60,
           61,
           62,
           63,
           64,
           65,
           66,
           67,
           68,
           69,
           70,
           71,
           72,
           73,
           74,
           75,
           76,
           77,
           78,
           79,
           80,
           81,
           82,
           83,
           84,
           85,
           86,
           87,
           88,
           89,
           90,
           91,
           92,
           93,
           94,
           95,
           96,
           97,
           98,
           99,
           100,
           101,
           102,
           103,
           104,
           105,
           106,
           107,
           108,
           109,
           110,
           111,
           112,
           113,
           114,
           115,
           116,
           117,
           118,
           119
          ],
          "colorbar": {
           "title": {
            "text": "Trial"
           },
           "x": 1,
           "xpad": 40
          },
          "colorscale": [
           [
            0,
            "rgb(247,251,255)"
           ],
           [
            0.125,
            "rgb(222,235,247)"
           ],
           [
            0.25,
            "rgb(198,219,239)"
           ],
           [
            0.375,
            "rgb(158,202,225)"
           ],
           [
            0.5,
            "rgb(107,174,214)"
           ],
           [
            0.625,
            "rgb(66,146,198)"
           ],
           [
            0.75,
            "rgb(33,113,181)"
           ],
           [
            0.875,
            "rgb(8,81,156)"
           ],
           [
            1,
            "rgb(8,48,107)"
           ]
          ],
          "line": {
           "color": "Grey",
           "width": 0.5
          },
          "showscale": false
         },
         "mode": "markers",
         "name": "Feasible Trial",
         "showlegend": false,
         "type": "scatter",
         "x": [
          0.5154824945691586,
          0.5093634886469168,
          0.5869224804492037,
          0.5961434954364621,
          0.3935776966943123,
          0.11914793066178835,
          0.4439182918820845,
          0.46613722002526164,
          0.12282372970239312,
          0.43716243012513084,
          0.2642720636654844,
          0.3403349595429457,
          0.28812689222196686,
          0.22382861032395657,
          0.028813201167635416,
          0.3129064628445175,
          0.19801383698378416,
          0.3709579619978317,
          0.48167279751835435,
          0.27571436621316314,
          0.17831994024015663,
          0.21893492416713523,
          0.1462064058450125,
          0.0822464865743439,
          0.021510622637220533,
          0.04311457853407284,
          0.14460468911599667,
          0.00468957424948372,
          0.07206850026492431,
          0.0758835381835889,
          0.5546102803910096,
          0.04154946474831599,
          0.04007608501494561,
          0.005743500842964572,
          0.1573367488696058,
          0.0983452854372333,
          0.05005438080369712,
          0.5320287755687438,
          0.5571936491057863,
          0.46854289179861897,
          0.5291962405900643,
          0.396710679248095,
          0.5819057640250311,
          0.4999216048610102,
          0.11366861277659575,
          0.4027041040480947,
          0.24572769537550815,
          0.13721496743662684,
          0.33115515388107697,
          0.429830566470984,
          0.15317152362591352,
          0.13191780318838242,
          0.18210209304360536,
          0.057242162584590424,
          0.10893396314784379,
          0.022985572202304204,
          0.5332290469279413,
          0.0957668239228224,
          0.3644859096017319,
          0.36358974325672083,
          0.4624831891195838,
          0.4615672465442992,
          0.44416705761095077,
          0.5078252117587138,
          0.48756172028675787,
          0.425146810515869,
          0.2563092992857964,
          0.29062683742680184,
          0.37271207892243025,
          0.45365253038111025,
          0.31850163217925986,
          0.2929837932703797,
          0.23729612140769205,
          0.2388862690453645,
          0.265711582644171,
          0.26987146770621484,
          0.26811455452753474,
          0.2115677049884168,
          0.24823868474531033,
          0.20290008018760325,
          0.18758384739129114,
          0.23046696212735382,
          0.20459112984289862,
          0.22431641336633998,
          0.27484424689886977,
          0.30810435489073396,
          0.25744308102562125,
          0.1693149729044819,
          0.22898945404973545,
          0.19515711167417824,
          0.19816808107752354,
          0.18936536889547856,
          0.1940706426424474,
          0.1699097674798951,
          0.2520760089805382,
          0.2831937459494812,
          0.20965691072933285,
          0.3453480157366887,
          0.26623135432453593,
          0.23608207162161587,
          0.16219089216775195,
          0.19520772982213988,
          0.18856563684760108,
          0.15860957654231078,
          0.21359510195051376,
          0.22039779820907895,
          0.1690190852240014,
          0.16824004648318966,
          0.13990056456471636,
          0.1253713037643058,
          0.21364789818524654,
          0.19865362035180822,
          0.17571902361811753,
          0.24019946523558713,
          0.2027970393238935,
          0.1589633145970659,
          0.1010348263396833,
          0.1483331008231387,
          0.15902569219184404,
          0.21848589623206321
         ],
         "xaxis": "x4",
         "y": [
          0,
          0,
          0,
          0.1553398058252427,
          0.04395604395604396,
          0.1509433962264151,
          0.16260162601626016,
          0.2733812949640288,
          0.08247422680412371,
          0.23622047244094488,
          0,
          0.24806201550387597,
          0.26153846153846155,
          0.11235955056179775,
          0.2545454545454545,
          0.23703703703703705,
          0.26153846153846155,
          0.06451612903225806,
          0.24793388429752067,
          0,
          0.1724137931034483,
          0,
          0.27419354838709675,
          0.09523809523809523,
          0.33557046979865773,
          0.2689075630252101,
          0,
          0,
          0.10638297872340426,
          0.18181818181818182,
          0,
          0.1746031746031746,
          0.18333333333333332,
          0.05,
          0.14432989690721648,
          0.22764227642276422,
          0.2413793103448276,
          0.35365853658536583,
          0,
          0.11538461538461539,
          0,
          0.11428571428571428,
          0.10434782608695652,
          0.08695652173913043,
          0,
          0.23008849557522124,
          0.061855670103092786,
          0.3142857142857143,
          0,
          0,
          0.09195402298850575,
          0.17886178861788618,
          0.024691358024691357,
          0.171875,
          0.23931623931623933,
          0.26666666666666666,
          0,
          0.22580645161290322,
          0.3054187192118227,
          0.047619047619047616,
          0.2900763358778626,
          0.29411764705882354,
          0.047619047619047616,
          0.2714285714285714,
          0,
          0,
          0.323943661971831,
          0.2835820895522388,
          0.025,
          0.23880597014925373,
          0.10909090909090909,
          0.2184873949579832,
          0.28368794326241137,
          0.3384615384615385,
          0.33497536945812806,
          0.3383084577114428,
          0,
          0,
          0.02564102564102564,
          0.3402061855670103,
          0.203125,
          0.31746031746031744,
          0.024096385542168676,
          0,
          0.13333333333333333,
          0.046511627906976744,
          0.14285714285714285,
          0.09302325581395349,
          0,
          0.32978723404255317,
          0.32124352331606215,
          0.32967032967032966,
          0.3854166666666667,
          0.023255813953488372,
          0,
          0.025,
          0,
          0.3024390243902439,
          0,
          0.07142857142857142,
          0.3383084577114428,
          0.33507853403141363,
          0.31413612565445026,
          0.06666666666666667,
          0.34196891191709844,
          0.296875,
          0.3333333333333333,
          0.06896551724137931,
          0,
          0,
          0.09195402298850575,
          0.32653061224489793,
          0.3225806451612903,
          0.25,
          0.205607476635514,
          0.3350253807106599,
          0.023529411764705882,
          0,
          0.18018018018018017,
          0.0898876404494382
         ],
         "yaxis": "y4"
        },
        {
         "marker": {
          "color": [
           0,
           1,
           2,
           3,
           4,
           5,
           6,
           7,
           8,
           9,
           10,
           11,
           12,
           13,
           14,
           15,
           16,
           17,
           18,
           19,
           20,
           21,
           22,
           23,
           24,
           25,
           26,
           27,
           28,
           29,
           30,
           31,
           32,
           33,
           34,
           35,
           36,
           37,
           38,
           39,
           40,
           41,
           42,
           43,
           44,
           45,
           46,
           47,
           48,
           49,
           50,
           51,
           52,
           53,
           54,
           55,
           56,
           57,
           58,
           59,
           60,
           61,
           62,
           63,
           64,
           65,
           66,
           67,
           68,
           69,
           70,
           71,
           72,
           73,
           74,
           75,
           76,
           77,
           78,
           79,
           80,
           81,
           82,
           83,
           84,
           85,
           86,
           87,
           88,
           89,
           90,
           91,
           92,
           93,
           94,
           95,
           96,
           97,
           98,
           99,
           100,
           101,
           102,
           103,
           104,
           105,
           106,
           107,
           108,
           109,
           110,
           111,
           112,
           113,
           114,
           115,
           116,
           117,
           118,
           119
          ],
          "colorbar": {
           "title": {
            "text": "Trial"
           },
           "x": 1,
           "xpad": 40
          },
          "colorscale": [
           [
            0,
            "rgb(247,251,255)"
           ],
           [
            0.125,
            "rgb(222,235,247)"
           ],
           [
            0.25,
            "rgb(198,219,239)"
           ],
           [
            0.375,
            "rgb(158,202,225)"
           ],
           [
            0.5,
            "rgb(107,174,214)"
           ],
           [
            0.625,
            "rgb(66,146,198)"
           ],
           [
            0.75,
            "rgb(33,113,181)"
           ],
           [
            0.875,
            "rgb(8,81,156)"
           ],
           [
            1,
            "rgb(8,48,107)"
           ]
          ],
          "line": {
           "color": "Grey",
           "width": 0.5
          },
          "showscale": false
         },
         "mode": "markers",
         "name": "Feasible Trial",
         "showlegend": false,
         "type": "scatter",
         "x": [
          0.0004617010395473563,
          0.007688831894006761,
          0.004311724775436753,
          0.0008768157171030876,
          0.00001579308974316983,
          0.00023866940327007703,
          0.000005480899392112245,
          0.000007259622866954614,
          0.0009546155449370455,
          0.00001474993739894672,
          0.000001092647401265461,
          0.000031936021310109344,
          0.0000632103027974016,
          0.00009281089351207192,
          0.000001825451122359206,
          0.00008044251412986081,
          0.000004423852345112148,
          0.00003108876659609687,
          0.000007206802390610743,
          0.000047215773233860026,
          0.00023011382460165345,
          0.000002652235237555301,
          0.000004967968901059741,
          0.000013891400348712084,
          0.000010556996831759581,
          0.000008832504233593469,
          0.0000026434369069352262,
          0.0000011194667780329104,
          0.000003715976356678426,
          0.000025578617213725748,
          0.000011506071512745136,
          0.00000781810488255871,
          0.000007530973096189993,
          0.0000023362315029620082,
          0.000021562466469854688,
          0.000008429915092045239,
          0.00016370301638982983,
          0.0000015333390070716886,
          0.0000014021191899716685,
          0.000003844207378216798,
          0.00000432280210143558,
          0.0000021738411184251797,
          0.00001013320665211536,
          0.00681103089315467,
          0.0016474813648687046,
          0.00001573676837915572,
          0.000005590851080518966,
          0.0000017071079914419964,
          0.0000015243282656108646,
          0.0000032263608751869522,
          0.0000011355967968006926,
          0.0000050962150167446214,
          0.0000017775821330175726,
          0.000005738581090682031,
          0.000019916034489848708,
          0.000036091737297609946,
          0.0000028812998268662113,
          0.000011313826410298146,
          0.000001920452984457516,
          0.0000017607704427271112,
          0.000002106537795541934,
          0.0000010040215359865057,
          0.0000010945046848697562,
          0.000002097101228254998,
          0.0000013605283733203485,
          0.0000031373212364216483,
          0.000001044657484252679,
          0.0000010054247715378502,
          0.000001518857623885306,
          0.000002266441326103951,
          0.0000013614166968373706,
          0.0000010103208981589052,
          0.000001873797252948135,
          0.0000026226207474811512,
          0.0000027791345723719807,
          0.0000032886943380144986,
          0.00000364974448767509,
          0.0000026882977012585587,
          0.0004540235070443195,
          0.0000059579767740680025,
          0.000006217955703377083,
          0.000003950933021052549,
          0.000004556486989228507,
          0.000003892666022650008,
          0.000006490109269205466,
          0.000002997270412835363,
          0.0000024640465117785883,
          0.0000034596989700004036,
          0.000009461606840186232,
          0.000004473598348392639,
          0.000007005563293931171,
          0.000012427993543842318,
          0.000005154826380808717,
          0.000004899841915121172,
          0.000016481627544702496,
          0.000007976415299942713,
          0.000012408713077310841,
          0.000004393814988929873,
          0.000005866304701935004,
          0.00001054651015023833,
          0.0000027887876851929723,
          0.0000027569871595661692,
          0.0000025806884083110347,
          0.00000520312493699805,
          0.0000031515915699467006,
          0.00013087421379148116,
          0.000002903242060913605,
          0.000003402492949657492,
          0.000002987090571730559,
          0.0000012974337106376178,
          0.0000015928670623197615,
          0.000002390522479116626,
          0.000004331127165859101,
          0.0022371917602634433,
          0.0000019817093905412964,
          0.000002908022227533927,
          0.0000030124790807507663,
          0.0000020885922626135524,
          0.0000034920956199750233,
          0.0000026589246972661587
         ],
         "xaxis": "x5",
         "y": [
          0,
          0,
          0,
          0.1553398058252427,
          0.04395604395604396,
          0.1509433962264151,
          0.16260162601626016,
          0.2733812949640288,
          0.08247422680412371,
          0.23622047244094488,
          0,
          0.24806201550387597,
          0.26153846153846155,
          0.11235955056179775,
          0.2545454545454545,
          0.23703703703703705,
          0.26153846153846155,
          0.06451612903225806,
          0.24793388429752067,
          0,
          0.1724137931034483,
          0,
          0.27419354838709675,
          0.09523809523809523,
          0.33557046979865773,
          0.2689075630252101,
          0,
          0,
          0.10638297872340426,
          0.18181818181818182,
          0,
          0.1746031746031746,
          0.18333333333333332,
          0.05,
          0.14432989690721648,
          0.22764227642276422,
          0.2413793103448276,
          0.35365853658536583,
          0,
          0.11538461538461539,
          0,
          0.11428571428571428,
          0.10434782608695652,
          0.08695652173913043,
          0,
          0.23008849557522124,
          0.061855670103092786,
          0.3142857142857143,
          0,
          0,
          0.09195402298850575,
          0.17886178861788618,
          0.024691358024691357,
          0.171875,
          0.23931623931623933,
          0.26666666666666666,
          0,
          0.22580645161290322,
          0.3054187192118227,
          0.047619047619047616,
          0.2900763358778626,
          0.29411764705882354,
          0.047619047619047616,
          0.2714285714285714,
          0,
          0,
          0.323943661971831,
          0.2835820895522388,
          0.025,
          0.23880597014925373,
          0.10909090909090909,
          0.2184873949579832,
          0.28368794326241137,
          0.3384615384615385,
          0.33497536945812806,
          0.3383084577114428,
          0,
          0,
          0.02564102564102564,
          0.3402061855670103,
          0.203125,
          0.31746031746031744,
          0.024096385542168676,
          0,
          0.13333333333333333,
          0.046511627906976744,
          0.14285714285714285,
          0.09302325581395349,
          0,
          0.32978723404255317,
          0.32124352331606215,
          0.32967032967032966,
          0.3854166666666667,
          0.023255813953488372,
          0,
          0.025,
          0,
          0.3024390243902439,
          0,
          0.07142857142857142,
          0.3383084577114428,
          0.33507853403141363,
          0.31413612565445026,
          0.06666666666666667,
          0.34196891191709844,
          0.296875,
          0.3333333333333333,
          0.06896551724137931,
          0,
          0,
          0.09195402298850575,
          0.32653061224489793,
          0.3225806451612903,
          0.25,
          0.205607476635514,
          0.3350253807106599,
          0.023529411764705882,
          0,
          0.18018018018018017,
          0.0898876404494382
         ],
         "yaxis": "y5"
        },
        {
         "marker": {
          "color": [
           0,
           1,
           2,
           3,
           4,
           5,
           6,
           7,
           8,
           9,
           10,
           11,
           12,
           13,
           14,
           15,
           16,
           17,
           18,
           19,
           20,
           21,
           22,
           23,
           24,
           25,
           26,
           27,
           28,
           29,
           30,
           31,
           32,
           33,
           34,
           35,
           36,
           37,
           38,
           39,
           40,
           41,
           42,
           43,
           44,
           45,
           46,
           47,
           48,
           49,
           50,
           51,
           52,
           53,
           54,
           55,
           56,
           57,
           58,
           59,
           60,
           61,
           62,
           63,
           64,
           65,
           66,
           67,
           68,
           69,
           70,
           71,
           72,
           73,
           74,
           75,
           76,
           77,
           78,
           79,
           80,
           81,
           82,
           83,
           84,
           85,
           86,
           87,
           88,
           89,
           90,
           91,
           92,
           93,
           94,
           95,
           96,
           97,
           98,
           99,
           100,
           101,
           102,
           103,
           104,
           105,
           106,
           107,
           108,
           109,
           110,
           111,
           112,
           113,
           114,
           115,
           116,
           117,
           118,
           119
          ],
          "colorbar": {
           "title": {
            "text": "Trial"
           },
           "x": 1,
           "xpad": 40
          },
          "colorscale": [
           [
            0,
            "rgb(247,251,255)"
           ],
           [
            0.125,
            "rgb(222,235,247)"
           ],
           [
            0.25,
            "rgb(198,219,239)"
           ],
           [
            0.375,
            "rgb(158,202,225)"
           ],
           [
            0.5,
            "rgb(107,174,214)"
           ],
           [
            0.625,
            "rgb(66,146,198)"
           ],
           [
            0.75,
            "rgb(33,113,181)"
           ],
           [
            0.875,
            "rgb(8,81,156)"
           ],
           [
            1,
            "rgb(8,48,107)"
           ]
          ],
          "line": {
           "color": "Grey",
           "width": 0.5
          },
          "showscale": false
         },
         "mode": "markers",
         "name": "Feasible Trial",
         "showlegend": false,
         "type": "scatter",
         "x": [
          1,
          2,
          1,
          2,
          2,
          2,
          1,
          1,
          1,
          1,
          1,
          1,
          1,
          1,
          1,
          1,
          1,
          2,
          1,
          1,
          2,
          1,
          1,
          1,
          1,
          1,
          1,
          1,
          1,
          1,
          1,
          1,
          1,
          1,
          1,
          2,
          1,
          1,
          2,
          1,
          1,
          1,
          1,
          1,
          1,
          1,
          1,
          1,
          1,
          1,
          2,
          1,
          1,
          1,
          1,
          1,
          1,
          1,
          1,
          1,
          1,
          1,
          1,
          1,
          1,
          1,
          1,
          1,
          1,
          1,
          1,
          1,
          1,
          1,
          1,
          1,
          1,
          1,
          1,
          1,
          1,
          1,
          1,
          1,
          1,
          1,
          1,
          2,
          1,
          1,
          1,
          1,
          1,
          1,
          1,
          1,
          1,
          1,
          1,
          1,
          1,
          1,
          1,
          1,
          1,
          1,
          1,
          1,
          1,
          1,
          1,
          1,
          1,
          1,
          1,
          1,
          1,
          1,
          1,
          2
         ],
         "xaxis": "x6",
         "y": [
          0,
          0,
          0,
          0.1553398058252427,
          0.04395604395604396,
          0.1509433962264151,
          0.16260162601626016,
          0.2733812949640288,
          0.08247422680412371,
          0.23622047244094488,
          0,
          0.24806201550387597,
          0.26153846153846155,
          0.11235955056179775,
          0.2545454545454545,
          0.23703703703703705,
          0.26153846153846155,
          0.06451612903225806,
          0.24793388429752067,
          0,
          0.1724137931034483,
          0,
          0.27419354838709675,
          0.09523809523809523,
          0.33557046979865773,
          0.2689075630252101,
          0,
          0,
          0.10638297872340426,
          0.18181818181818182,
          0,
          0.1746031746031746,
          0.18333333333333332,
          0.05,
          0.14432989690721648,
          0.22764227642276422,
          0.2413793103448276,
          0.35365853658536583,
          0,
          0.11538461538461539,
          0,
          0.11428571428571428,
          0.10434782608695652,
          0.08695652173913043,
          0,
          0.23008849557522124,
          0.061855670103092786,
          0.3142857142857143,
          0,
          0,
          0.09195402298850575,
          0.17886178861788618,
          0.024691358024691357,
          0.171875,
          0.23931623931623933,
          0.26666666666666666,
          0,
          0.22580645161290322,
          0.3054187192118227,
          0.047619047619047616,
          0.2900763358778626,
          0.29411764705882354,
          0.047619047619047616,
          0.2714285714285714,
          0,
          0,
          0.323943661971831,
          0.2835820895522388,
          0.025,
          0.23880597014925373,
          0.10909090909090909,
          0.2184873949579832,
          0.28368794326241137,
          0.3384615384615385,
          0.33497536945812806,
          0.3383084577114428,
          0,
          0,
          0.02564102564102564,
          0.3402061855670103,
          0.203125,
          0.31746031746031744,
          0.024096385542168676,
          0,
          0.13333333333333333,
          0.046511627906976744,
          0.14285714285714285,
          0.09302325581395349,
          0,
          0.32978723404255317,
          0.32124352331606215,
          0.32967032967032966,
          0.3854166666666667,
          0.023255813953488372,
          0,
          0.025,
          0,
          0.3024390243902439,
          0,
          0.07142857142857142,
          0.3383084577114428,
          0.33507853403141363,
          0.31413612565445026,
          0.06666666666666667,
          0.34196891191709844,
          0.296875,
          0.3333333333333333,
          0.06896551724137931,
          0,
          0,
          0.09195402298850575,
          0.32653061224489793,
          0.3225806451612903,
          0.25,
          0.205607476635514,
          0.3350253807106599,
          0.023529411764705882,
          0,
          0.18018018018018017,
          0.0898876404494382
         ],
         "yaxis": "y6"
        },
        {
         "marker": {
          "color": [
           0,
           1,
           2,
           3,
           4,
           5,
           6,
           7,
           8,
           9,
           10,
           11,
           12,
           13,
           14,
           15,
           16,
           17,
           18,
           19,
           20,
           21,
           22,
           23,
           24,
           25,
           26,
           27,
           28,
           29,
           30,
           31,
           32,
           33,
           34,
           35,
           36,
           37,
           38,
           39,
           40,
           41,
           42,
           43,
           44,
           45,
           46,
           47,
           48,
           49,
           50,
           51,
           52,
           53,
           54,
           55,
           56,
           57,
           58,
           59,
           60,
           61,
           62,
           63,
           64,
           65,
           66,
           67,
           68,
           69,
           70,
           71,
           72,
           73,
           74,
           75,
           76,
           77,
           78,
           79,
           80,
           81,
           82,
           83,
           84,
           85,
           86,
           87,
           88,
           89,
           90,
           91,
           92,
           93,
           94,
           95,
           96,
           97,
           98,
           99,
           100,
           101,
           102,
           103,
           104,
           105,
           106,
           107,
           108,
           109,
           110,
           111,
           112,
           113,
           114,
           115,
           116,
           117,
           118,
           119
          ],
          "colorbar": {
           "title": {
            "text": "Trial"
           },
           "x": 1,
           "xpad": 40
          },
          "colorscale": [
           [
            0,
            "rgb(247,251,255)"
           ],
           [
            0.125,
            "rgb(222,235,247)"
           ],
           [
            0.25,
            "rgb(198,219,239)"
           ],
           [
            0.375,
            "rgb(158,202,225)"
           ],
           [
            0.5,
            "rgb(107,174,214)"
           ],
           [
            0.625,
            "rgb(66,146,198)"
           ],
           [
            0.75,
            "rgb(33,113,181)"
           ],
           [
            0.875,
            "rgb(8,81,156)"
           ],
           [
            1,
            "rgb(8,48,107)"
           ]
          ],
          "line": {
           "color": "Grey",
           "width": 0.5
          },
          "showscale": false
         },
         "mode": "markers",
         "name": "Feasible Trial",
         "showlegend": false,
         "type": "scatter",
         "x": [
          "adamw",
          "rmsprop",
          "adam",
          "rmsprop",
          "rmsprop",
          "rmsprop",
          "rmsprop",
          "adam",
          "adamw",
          "rmsprop",
          "adam",
          "adam",
          "adam",
          "adam",
          "adam",
          "adam",
          "adam",
          "adam",
          "adamw",
          "adam",
          "adam",
          "adam",
          "adam",
          "adam",
          "adam",
          "adamw",
          "adam",
          "adam",
          "adam",
          "adamw",
          "adam",
          "adamw",
          "adamw",
          "adamw",
          "adamw",
          "adamw",
          "adamw",
          "rmsprop",
          "rmsprop",
          "rmsprop",
          "rmsprop",
          "rmsprop",
          "rmsprop",
          "rmsprop",
          "adam",
          "rmsprop",
          "adam",
          "adam",
          "adam",
          "adam",
          "adam",
          "adam",
          "adam",
          "adam",
          "adamw",
          "adam",
          "rmsprop",
          "adam",
          "adam",
          "adam",
          "adam",
          "adam",
          "adam",
          "adam",
          "adam",
          "adam",
          "adam",
          "adam",
          "adam",
          "adam",
          "adam",
          "adam",
          "adam",
          "adam",
          "adam",
          "adam",
          "adam",
          "rmsprop",
          "adam",
          "adam",
          "adam",
          "adam",
          "adam",
          "adam",
          "adam",
          "rmsprop",
          "adam",
          "adam",
          "adam",
          "rmsprop",
          "rmsprop",
          "rmsprop",
          "rmsprop",
          "rmsprop",
          "rmsprop",
          "rmsprop",
          "rmsprop",
          "rmsprop",
          "rmsprop",
          "rmsprop",
          "rmsprop",
          "rmsprop",
          "rmsprop",
          "rmsprop",
          "rmsprop",
          "rmsprop",
          "rmsprop",
          "rmsprop",
          "rmsprop",
          "rmsprop",
          "rmsprop",
          "rmsprop",
          "rmsprop",
          "rmsprop",
          "rmsprop",
          "rmsprop",
          "rmsprop",
          "rmsprop",
          "rmsprop",
          "rmsprop"
         ],
         "xaxis": "x7",
         "y": [
          0,
          0,
          0,
          0.1553398058252427,
          0.04395604395604396,
          0.1509433962264151,
          0.16260162601626016,
          0.2733812949640288,
          0.08247422680412371,
          0.23622047244094488,
          0,
          0.24806201550387597,
          0.26153846153846155,
          0.11235955056179775,
          0.2545454545454545,
          0.23703703703703705,
          0.26153846153846155,
          0.06451612903225806,
          0.24793388429752067,
          0,
          0.1724137931034483,
          0,
          0.27419354838709675,
          0.09523809523809523,
          0.33557046979865773,
          0.2689075630252101,
          0,
          0,
          0.10638297872340426,
          0.18181818181818182,
          0,
          0.1746031746031746,
          0.18333333333333332,
          0.05,
          0.14432989690721648,
          0.22764227642276422,
          0.2413793103448276,
          0.35365853658536583,
          0,
          0.11538461538461539,
          0,
          0.11428571428571428,
          0.10434782608695652,
          0.08695652173913043,
          0,
          0.23008849557522124,
          0.061855670103092786,
          0.3142857142857143,
          0,
          0,
          0.09195402298850575,
          0.17886178861788618,
          0.024691358024691357,
          0.171875,
          0.23931623931623933,
          0.26666666666666666,
          0,
          0.22580645161290322,
          0.3054187192118227,
          0.047619047619047616,
          0.2900763358778626,
          0.29411764705882354,
          0.047619047619047616,
          0.2714285714285714,
          0,
          0,
          0.323943661971831,
          0.2835820895522388,
          0.025,
          0.23880597014925373,
          0.10909090909090909,
          0.2184873949579832,
          0.28368794326241137,
          0.3384615384615385,
          0.33497536945812806,
          0.3383084577114428,
          0,
          0,
          0.02564102564102564,
          0.3402061855670103,
          0.203125,
          0.31746031746031744,
          0.024096385542168676,
          0,
          0.13333333333333333,
          0.046511627906976744,
          0.14285714285714285,
          0.09302325581395349,
          0,
          0.32978723404255317,
          0.32124352331606215,
          0.32967032967032966,
          0.3854166666666667,
          0.023255813953488372,
          0,
          0.025,
          0,
          0.3024390243902439,
          0,
          0.07142857142857142,
          0.3383084577114428,
          0.33507853403141363,
          0.31413612565445026,
          0.06666666666666667,
          0.34196891191709844,
          0.296875,
          0.3333333333333333,
          0.06896551724137931,
          0,
          0,
          0.09195402298850575,
          0.32653061224489793,
          0.3225806451612903,
          0.25,
          0.205607476635514,
          0.3350253807106599,
          0.023529411764705882,
          0,
          0.18018018018018017,
          0.0898876404494382
         ],
         "yaxis": "y7"
        },
        {
         "marker": {
          "color": [
           0,
           1,
           2,
           3,
           4,
           5,
           6,
           7,
           8,
           9,
           10,
           11,
           12,
           13,
           14,
           15,
           16,
           17,
           18,
           19,
           20,
           21,
           22,
           23,
           24,
           25,
           26,
           27,
           28,
           29,
           30,
           31,
           32,
           33,
           34,
           35,
           36,
           37,
           38,
           39,
           40,
           41,
           42,
           43,
           44,
           45,
           46,
           47,
           48,
           49,
           50,
           51,
           52,
           53,
           54,
           55,
           56,
           57,
           58,
           59,
           60,
           61,
           62,
           63,
           64,
           65,
           66,
           67,
           68,
           69,
           70,
           71,
           72,
           73,
           74,
           75,
           76,
           77,
           78,
           79,
           80,
           81,
           82,
           83,
           84,
           85,
           86,
           87,
           88,
           89,
           90,
           91,
           92,
           93,
           94,
           95,
           96,
           97,
           98,
           99,
           100,
           101,
           102,
           103,
           104,
           105,
           106,
           107,
           108,
           109,
           110,
           111,
           112,
           113,
           114,
           115,
           116,
           117,
           118,
           119
          ],
          "colorbar": {
           "title": {
            "text": "Trial"
           },
           "x": 1,
           "xpad": 40
          },
          "colorscale": [
           [
            0,
            "rgb(247,251,255)"
           ],
           [
            0.125,
            "rgb(222,235,247)"
           ],
           [
            0.25,
            "rgb(198,219,239)"
           ],
           [
            0.375,
            "rgb(158,202,225)"
           ],
           [
            0.5,
            "rgb(107,174,214)"
           ],
           [
            0.625,
            "rgb(66,146,198)"
           ],
           [
            0.75,
            "rgb(33,113,181)"
           ],
           [
            0.875,
            "rgb(8,81,156)"
           ],
           [
            1,
            "rgb(8,48,107)"
           ]
          ],
          "line": {
           "color": "Grey",
           "width": 0.5
          },
          "showscale": false
         },
         "mode": "markers",
         "name": "Feasible Trial",
         "showlegend": false,
         "type": "scatter",
         "x": [
          5,
          9,
          18,
          16,
          16,
          14,
          12,
          14,
          6,
          12,
          20,
          11,
          9,
          8,
          9,
          14,
          10,
          14,
          7,
          16,
          10,
          10,
          13,
          13,
          15,
          18,
          15,
          17,
          13,
          19,
          15,
          18,
          17,
          20,
          15,
          18,
          17,
          13,
          12,
          13,
          11,
          14,
          16,
          15,
          12,
          11,
          19,
          14,
          14,
          13,
          15,
          14,
          12,
          16,
          13,
          14,
          11,
          13,
          15,
          15,
          14,
          14,
          15,
          16,
          14,
          12,
          13,
          14,
          16,
          13,
          15,
          14,
          14,
          5,
          5,
          5,
          5,
          5,
          6,
          6,
          6,
          5,
          7,
          5,
          7,
          6,
          5,
          6,
          5,
          8,
          8,
          8,
          8,
          8,
          9,
          9,
          6,
          8,
          7,
          6,
          7,
          7,
          7,
          7,
          8,
          8,
          9,
          10,
          6,
          7,
          9,
          8,
          7,
          5,
          9,
          6,
          6,
          5,
          6,
          6
         ],
         "xaxis": "x8",
         "y": [
          0,
          0,
          0,
          0.1553398058252427,
          0.04395604395604396,
          0.1509433962264151,
          0.16260162601626016,
          0.2733812949640288,
          0.08247422680412371,
          0.23622047244094488,
          0,
          0.24806201550387597,
          0.26153846153846155,
          0.11235955056179775,
          0.2545454545454545,
          0.23703703703703705,
          0.26153846153846155,
          0.06451612903225806,
          0.24793388429752067,
          0,
          0.1724137931034483,
          0,
          0.27419354838709675,
          0.09523809523809523,
          0.33557046979865773,
          0.2689075630252101,
          0,
          0,
          0.10638297872340426,
          0.18181818181818182,
          0,
          0.1746031746031746,
          0.18333333333333332,
          0.05,
          0.14432989690721648,
          0.22764227642276422,
          0.2413793103448276,
          0.35365853658536583,
          0,
          0.11538461538461539,
          0,
          0.11428571428571428,
          0.10434782608695652,
          0.08695652173913043,
          0,
          0.23008849557522124,
          0.061855670103092786,
          0.3142857142857143,
          0,
          0,
          0.09195402298850575,
          0.17886178861788618,
          0.024691358024691357,
          0.171875,
          0.23931623931623933,
          0.26666666666666666,
          0,
          0.22580645161290322,
          0.3054187192118227,
          0.047619047619047616,
          0.2900763358778626,
          0.29411764705882354,
          0.047619047619047616,
          0.2714285714285714,
          0,
          0,
          0.323943661971831,
          0.2835820895522388,
          0.025,
          0.23880597014925373,
          0.10909090909090909,
          0.2184873949579832,
          0.28368794326241137,
          0.3384615384615385,
          0.33497536945812806,
          0.3383084577114428,
          0,
          0,
          0.02564102564102564,
          0.3402061855670103,
          0.203125,
          0.31746031746031744,
          0.024096385542168676,
          0,
          0.13333333333333333,
          0.046511627906976744,
          0.14285714285714285,
          0.09302325581395349,
          0,
          0.32978723404255317,
          0.32124352331606215,
          0.32967032967032966,
          0.3854166666666667,
          0.023255813953488372,
          0,
          0.025,
          0,
          0.3024390243902439,
          0,
          0.07142857142857142,
          0.3383084577114428,
          0.33507853403141363,
          0.31413612565445026,
          0.06666666666666667,
          0.34196891191709844,
          0.296875,
          0.3333333333333333,
          0.06896551724137931,
          0,
          0,
          0.09195402298850575,
          0.32653061224489793,
          0.3225806451612903,
          0.25,
          0.205607476635514,
          0.3350253807106599,
          0.023529411764705882,
          0,
          0.18018018018018017,
          0.0898876404494382
         ],
         "yaxis": "y8"
        },
        {
         "marker": {
          "color": [
           0,
           1,
           2,
           3,
           4,
           5,
           6,
           7,
           8,
           9,
           10,
           11,
           12,
           13,
           14,
           15,
           16,
           17,
           18,
           19,
           20,
           21,
           22,
           23,
           24,
           25,
           26,
           27,
           28,
           29,
           30,
           31,
           32,
           33,
           34,
           35,
           36,
           37,
           38,
           39,
           40,
           41,
           42,
           43,
           44,
           45,
           46,
           47,
           48,
           49,
           50,
           51,
           52,
           53,
           54,
           55,
           56,
           57,
           58,
           59,
           60,
           61,
           62,
           63,
           64,
           65,
           66,
           67,
           68,
           69,
           70,
           71,
           72,
           73,
           74,
           75,
           76,
           77,
           78,
           79,
           80,
           81,
           82,
           83,
           84,
           85,
           86,
           87,
           88,
           89,
           90,
           91,
           92,
           93,
           94,
           95,
           96,
           97,
           98,
           99,
           100,
           101,
           102,
           103,
           104,
           105,
           106,
           107,
           108,
           109,
           110,
           111,
           112,
           113,
           114,
           115,
           116,
           117,
           118,
           119
          ],
          "colorbar": {
           "title": {
            "text": "Trial"
           },
           "x": 1,
           "xpad": 40
          },
          "colorscale": [
           [
            0,
            "rgb(247,251,255)"
           ],
           [
            0.125,
            "rgb(222,235,247)"
           ],
           [
            0.25,
            "rgb(198,219,239)"
           ],
           [
            0.375,
            "rgb(158,202,225)"
           ],
           [
            0.5,
            "rgb(107,174,214)"
           ],
           [
            0.625,
            "rgb(66,146,198)"
           ],
           [
            0.75,
            "rgb(33,113,181)"
           ],
           [
            0.875,
            "rgb(8,81,156)"
           ],
           [
            1,
            "rgb(8,48,107)"
           ]
          ],
          "line": {
           "color": "Grey",
           "width": 0.5
          },
          "showscale": false
         },
         "mode": "markers",
         "name": "Feasible Trial",
         "showlegend": false,
         "type": "scatter",
         "x": [
          160,
          64,
          32,
          192,
          160,
          192,
          160,
          96,
          192,
          192,
          96,
          256,
          256,
          256,
          96,
          96,
          128,
          32,
          224,
          128,
          64,
          128,
          128,
          64,
          224,
          224,
          96,
          128,
          224,
          160,
          128,
          224,
          224,
          96,
          192,
          160,
          64,
          224,
          160,
          32,
          192,
          224,
          256,
          192,
          224,
          256,
          192,
          224,
          96,
          256,
          160,
          224,
          224,
          256,
          192,
          224,
          192,
          128,
          256,
          256,
          256,
          256,
          256,
          256,
          256,
          256,
          224,
          224,
          224,
          256,
          224,
          224,
          256,
          256,
          256,
          256,
          224,
          256,
          224,
          256,
          192,
          256,
          256,
          256,
          224,
          256,
          224,
          256,
          224,
          256,
          256,
          256,
          256,
          256,
          256,
          256,
          256,
          256,
          256,
          224,
          256,
          256,
          256,
          256,
          256,
          256,
          256,
          256,
          256,
          256,
          256,
          256,
          256,
          256,
          256,
          256,
          256,
          256,
          224,
          256
         ],
         "xaxis": "x9",
         "y": [
          0,
          0,
          0,
          0.1553398058252427,
          0.04395604395604396,
          0.1509433962264151,
          0.16260162601626016,
          0.2733812949640288,
          0.08247422680412371,
          0.23622047244094488,
          0,
          0.24806201550387597,
          0.26153846153846155,
          0.11235955056179775,
          0.2545454545454545,
          0.23703703703703705,
          0.26153846153846155,
          0.06451612903225806,
          0.24793388429752067,
          0,
          0.1724137931034483,
          0,
          0.27419354838709675,
          0.09523809523809523,
          0.33557046979865773,
          0.2689075630252101,
          0,
          0,
          0.10638297872340426,
          0.18181818181818182,
          0,
          0.1746031746031746,
          0.18333333333333332,
          0.05,
          0.14432989690721648,
          0.22764227642276422,
          0.2413793103448276,
          0.35365853658536583,
          0,
          0.11538461538461539,
          0,
          0.11428571428571428,
          0.10434782608695652,
          0.08695652173913043,
          0,
          0.23008849557522124,
          0.061855670103092786,
          0.3142857142857143,
          0,
          0,
          0.09195402298850575,
          0.17886178861788618,
          0.024691358024691357,
          0.171875,
          0.23931623931623933,
          0.26666666666666666,
          0,
          0.22580645161290322,
          0.3054187192118227,
          0.047619047619047616,
          0.2900763358778626,
          0.29411764705882354,
          0.047619047619047616,
          0.2714285714285714,
          0,
          0,
          0.323943661971831,
          0.2835820895522388,
          0.025,
          0.23880597014925373,
          0.10909090909090909,
          0.2184873949579832,
          0.28368794326241137,
          0.3384615384615385,
          0.33497536945812806,
          0.3383084577114428,
          0,
          0,
          0.02564102564102564,
          0.3402061855670103,
          0.203125,
          0.31746031746031744,
          0.024096385542168676,
          0,
          0.13333333333333333,
          0.046511627906976744,
          0.14285714285714285,
          0.09302325581395349,
          0,
          0.32978723404255317,
          0.32124352331606215,
          0.32967032967032966,
          0.3854166666666667,
          0.023255813953488372,
          0,
          0.025,
          0,
          0.3024390243902439,
          0,
          0.07142857142857142,
          0.3383084577114428,
          0.33507853403141363,
          0.31413612565445026,
          0.06666666666666667,
          0.34196891191709844,
          0.296875,
          0.3333333333333333,
          0.06896551724137931,
          0,
          0,
          0.09195402298850575,
          0.32653061224489793,
          0.3225806451612903,
          0.25,
          0.205607476635514,
          0.3350253807106599,
          0.023529411764705882,
          0,
          0.18018018018018017,
          0.0898876404494382
         ],
         "yaxis": "y9"
        },
        {
         "marker": {
          "color": [
           1,
           3,
           4,
           5,
           17,
           20,
           35,
           38,
           50,
           87,
           119
          ],
          "colorbar": {
           "title": {
            "text": "Trial"
           },
           "x": 1,
           "xpad": 40
          },
          "colorscale": [
           [
            0,
            "rgb(247,251,255)"
           ],
           [
            0.125,
            "rgb(222,235,247)"
           ],
           [
            0.25,
            "rgb(198,219,239)"
           ],
           [
            0.375,
            "rgb(158,202,225)"
           ],
           [
            0.5,
            "rgb(107,174,214)"
           ],
           [
            0.625,
            "rgb(66,146,198)"
           ],
           [
            0.75,
            "rgb(33,113,181)"
           ],
           [
            0.875,
            "rgb(8,81,156)"
           ],
           [
            1,
            "rgb(8,48,107)"
           ]
          ],
          "line": {
           "color": "Grey",
           "width": 0.5
          },
          "showscale": false
         },
         "mode": "markers",
         "name": "Feasible Trial",
         "showlegend": false,
         "type": "scatter",
         "x": [
          128,
          96,
          64,
          32,
          256,
          256,
          192,
          192,
          192,
          32,
          128
         ],
         "xaxis": "x10",
         "y": [
          0,
          0.1553398058252427,
          0.04395604395604396,
          0.1509433962264151,
          0.06451612903225806,
          0.1724137931034483,
          0.22764227642276422,
          0,
          0.09195402298850575,
          0.09302325581395349,
          0.0898876404494382
         ],
         "yaxis": "y10"
        }
       ],
       "layout": {
        "template": {
         "data": {
          "bar": [
           {
            "error_x": {
             "color": "#2a3f5f"
            },
            "error_y": {
             "color": "#2a3f5f"
            },
            "marker": {
             "line": {
              "color": "#E5ECF6",
              "width": 0.5
             },
             "pattern": {
              "fillmode": "overlay",
              "size": 10,
              "solidity": 0.2
             }
            },
            "type": "bar"
           }
          ],
          "barpolar": [
           {
            "marker": {
             "line": {
              "color": "#E5ECF6",
              "width": 0.5
             },
             "pattern": {
              "fillmode": "overlay",
              "size": 10,
              "solidity": 0.2
             }
            },
            "type": "barpolar"
           }
          ],
          "carpet": [
           {
            "aaxis": {
             "endlinecolor": "#2a3f5f",
             "gridcolor": "white",
             "linecolor": "white",
             "minorgridcolor": "white",
             "startlinecolor": "#2a3f5f"
            },
            "baxis": {
             "endlinecolor": "#2a3f5f",
             "gridcolor": "white",
             "linecolor": "white",
             "minorgridcolor": "white",
             "startlinecolor": "#2a3f5f"
            },
            "type": "carpet"
           }
          ],
          "choropleth": [
           {
            "colorbar": {
             "outlinewidth": 0,
             "ticks": ""
            },
            "type": "choropleth"
           }
          ],
          "contour": [
           {
            "colorbar": {
             "outlinewidth": 0,
             "ticks": ""
            },
            "colorscale": [
             [
              0,
              "#0d0887"
             ],
             [
              0.1111111111111111,
              "#46039f"
             ],
             [
              0.2222222222222222,
              "#7201a8"
             ],
             [
              0.3333333333333333,
              "#9c179e"
             ],
             [
              0.4444444444444444,
              "#bd3786"
             ],
             [
              0.5555555555555556,
              "#d8576b"
             ],
             [
              0.6666666666666666,
              "#ed7953"
             ],
             [
              0.7777777777777778,
              "#fb9f3a"
             ],
             [
              0.8888888888888888,
              "#fdca26"
             ],
             [
              1,
              "#f0f921"
             ]
            ],
            "type": "contour"
           }
          ],
          "contourcarpet": [
           {
            "colorbar": {
             "outlinewidth": 0,
             "ticks": ""
            },
            "type": "contourcarpet"
           }
          ],
          "heatmap": [
           {
            "colorbar": {
             "outlinewidth": 0,
             "ticks": ""
            },
            "colorscale": [
             [
              0,
              "#0d0887"
             ],
             [
              0.1111111111111111,
              "#46039f"
             ],
             [
              0.2222222222222222,
              "#7201a8"
             ],
             [
              0.3333333333333333,
              "#9c179e"
             ],
             [
              0.4444444444444444,
              "#bd3786"
             ],
             [
              0.5555555555555556,
              "#d8576b"
             ],
             [
              0.6666666666666666,
              "#ed7953"
             ],
             [
              0.7777777777777778,
              "#fb9f3a"
             ],
             [
              0.8888888888888888,
              "#fdca26"
             ],
             [
              1,
              "#f0f921"
             ]
            ],
            "type": "heatmap"
           }
          ],
          "histogram": [
           {
            "marker": {
             "pattern": {
              "fillmode": "overlay",
              "size": 10,
              "solidity": 0.2
             }
            },
            "type": "histogram"
           }
          ],
          "histogram2d": [
           {
            "colorbar": {
             "outlinewidth": 0,
             "ticks": ""
            },
            "colorscale": [
             [
              0,
              "#0d0887"
             ],
             [
              0.1111111111111111,
              "#46039f"
             ],
             [
              0.2222222222222222,
              "#7201a8"
             ],
             [
              0.3333333333333333,
              "#9c179e"
             ],
             [
              0.4444444444444444,
              "#bd3786"
             ],
             [
              0.5555555555555556,
              "#d8576b"
             ],
             [
              0.6666666666666666,
              "#ed7953"
             ],
             [
              0.7777777777777778,
              "#fb9f3a"
             ],
             [
              0.8888888888888888,
              "#fdca26"
             ],
             [
              1,
              "#f0f921"
             ]
            ],
            "type": "histogram2d"
           }
          ],
          "histogram2dcontour": [
           {
            "colorbar": {
             "outlinewidth": 0,
             "ticks": ""
            },
            "colorscale": [
             [
              0,
              "#0d0887"
             ],
             [
              0.1111111111111111,
              "#46039f"
             ],
             [
              0.2222222222222222,
              "#7201a8"
             ],
             [
              0.3333333333333333,
              "#9c179e"
             ],
             [
              0.4444444444444444,
              "#bd3786"
             ],
             [
              0.5555555555555556,
              "#d8576b"
             ],
             [
              0.6666666666666666,
              "#ed7953"
             ],
             [
              0.7777777777777778,
              "#fb9f3a"
             ],
             [
              0.8888888888888888,
              "#fdca26"
             ],
             [
              1,
              "#f0f921"
             ]
            ],
            "type": "histogram2dcontour"
           }
          ],
          "mesh3d": [
           {
            "colorbar": {
             "outlinewidth": 0,
             "ticks": ""
            },
            "type": "mesh3d"
           }
          ],
          "parcoords": [
           {
            "line": {
             "colorbar": {
              "outlinewidth": 0,
              "ticks": ""
             }
            },
            "type": "parcoords"
           }
          ],
          "pie": [
           {
            "automargin": true,
            "type": "pie"
           }
          ],
          "scatter": [
           {
            "fillpattern": {
             "fillmode": "overlay",
             "size": 10,
             "solidity": 0.2
            },
            "type": "scatter"
           }
          ],
          "scatter3d": [
           {
            "line": {
             "colorbar": {
              "outlinewidth": 0,
              "ticks": ""
             }
            },
            "marker": {
             "colorbar": {
              "outlinewidth": 0,
              "ticks": ""
             }
            },
            "type": "scatter3d"
           }
          ],
          "scattercarpet": [
           {
            "marker": {
             "colorbar": {
              "outlinewidth": 0,
              "ticks": ""
             }
            },
            "type": "scattercarpet"
           }
          ],
          "scattergeo": [
           {
            "marker": {
             "colorbar": {
              "outlinewidth": 0,
              "ticks": ""
             }
            },
            "type": "scattergeo"
           }
          ],
          "scattergl": [
           {
            "marker": {
             "colorbar": {
              "outlinewidth": 0,
              "ticks": ""
             }
            },
            "type": "scattergl"
           }
          ],
          "scattermap": [
           {
            "marker": {
             "colorbar": {
              "outlinewidth": 0,
              "ticks": ""
             }
            },
            "type": "scattermap"
           }
          ],
          "scattermapbox": [
           {
            "marker": {
             "colorbar": {
              "outlinewidth": 0,
              "ticks": ""
             }
            },
            "type": "scattermapbox"
           }
          ],
          "scatterpolar": [
           {
            "marker": {
             "colorbar": {
              "outlinewidth": 0,
              "ticks": ""
             }
            },
            "type": "scatterpolar"
           }
          ],
          "scatterpolargl": [
           {
            "marker": {
             "colorbar": {
              "outlinewidth": 0,
              "ticks": ""
             }
            },
            "type": "scatterpolargl"
           }
          ],
          "scatterternary": [
           {
            "marker": {
             "colorbar": {
              "outlinewidth": 0,
              "ticks": ""
             }
            },
            "type": "scatterternary"
           }
          ],
          "surface": [
           {
            "colorbar": {
             "outlinewidth": 0,
             "ticks": ""
            },
            "colorscale": [
             [
              0,
              "#0d0887"
             ],
             [
              0.1111111111111111,
              "#46039f"
             ],
             [
              0.2222222222222222,
              "#7201a8"
             ],
             [
              0.3333333333333333,
              "#9c179e"
             ],
             [
              0.4444444444444444,
              "#bd3786"
             ],
             [
              0.5555555555555556,
              "#d8576b"
             ],
             [
              0.6666666666666666,
              "#ed7953"
             ],
             [
              0.7777777777777778,
              "#fb9f3a"
             ],
             [
              0.8888888888888888,
              "#fdca26"
             ],
             [
              1,
              "#f0f921"
             ]
            ],
            "type": "surface"
           }
          ],
          "table": [
           {
            "cells": {
             "fill": {
              "color": "#EBF0F8"
             },
             "line": {
              "color": "white"
             }
            },
            "header": {
             "fill": {
              "color": "#C8D4E3"
             },
             "line": {
              "color": "white"
             }
            },
            "type": "table"
           }
          ]
         },
         "layout": {
          "annotationdefaults": {
           "arrowcolor": "#2a3f5f",
           "arrowhead": 0,
           "arrowwidth": 1
          },
          "autotypenumbers": "strict",
          "coloraxis": {
           "colorbar": {
            "outlinewidth": 0,
            "ticks": ""
           }
          },
          "colorscale": {
           "diverging": [
            [
             0,
             "#8e0152"
            ],
            [
             0.1,
             "#c51b7d"
            ],
            [
             0.2,
             "#de77ae"
            ],
            [
             0.3,
             "#f1b6da"
            ],
            [
             0.4,
             "#fde0ef"
            ],
            [
             0.5,
             "#f7f7f7"
            ],
            [
             0.6,
             "#e6f5d0"
            ],
            [
             0.7,
             "#b8e186"
            ],
            [
             0.8,
             "#7fbc41"
            ],
            [
             0.9,
             "#4d9221"
            ],
            [
             1,
             "#276419"
            ]
           ],
           "sequential": [
            [
             0,
             "#0d0887"
            ],
            [
             0.1111111111111111,
             "#46039f"
            ],
            [
             0.2222222222222222,
             "#7201a8"
            ],
            [
             0.3333333333333333,
             "#9c179e"
            ],
            [
             0.4444444444444444,
             "#bd3786"
            ],
            [
             0.5555555555555556,
             "#d8576b"
            ],
            [
             0.6666666666666666,
             "#ed7953"
            ],
            [
             0.7777777777777778,
             "#fb9f3a"
            ],
            [
             0.8888888888888888,
             "#fdca26"
            ],
            [
             1,
             "#f0f921"
            ]
           ],
           "sequentialminus": [
            [
             0,
             "#0d0887"
            ],
            [
             0.1111111111111111,
             "#46039f"
            ],
            [
             0.2222222222222222,
             "#7201a8"
            ],
            [
             0.3333333333333333,
             "#9c179e"
            ],
            [
             0.4444444444444444,
             "#bd3786"
            ],
            [
             0.5555555555555556,
             "#d8576b"
            ],
            [
             0.6666666666666666,
             "#ed7953"
            ],
            [
             0.7777777777777778,
             "#fb9f3a"
            ],
            [
             0.8888888888888888,
             "#fdca26"
            ],
            [
             1,
             "#f0f921"
            ]
           ]
          },
          "colorway": [
           "#636efa",
           "#EF553B",
           "#00cc96",
           "#ab63fa",
           "#FFA15A",
           "#19d3f3",
           "#FF6692",
           "#B6E880",
           "#FF97FF",
           "#FECB52"
          ],
          "font": {
           "color": "#2a3f5f"
          },
          "geo": {
           "bgcolor": "white",
           "lakecolor": "white",
           "landcolor": "#E5ECF6",
           "showlakes": true,
           "showland": true,
           "subunitcolor": "white"
          },
          "hoverlabel": {
           "align": "left"
          },
          "hovermode": "closest",
          "mapbox": {
           "style": "light"
          },
          "paper_bgcolor": "white",
          "plot_bgcolor": "#E5ECF6",
          "polar": {
           "angularaxis": {
            "gridcolor": "white",
            "linecolor": "white",
            "ticks": ""
           },
           "bgcolor": "#E5ECF6",
           "radialaxis": {
            "gridcolor": "white",
            "linecolor": "white",
            "ticks": ""
           }
          },
          "scene": {
           "xaxis": {
            "backgroundcolor": "#E5ECF6",
            "gridcolor": "white",
            "gridwidth": 2,
            "linecolor": "white",
            "showbackground": true,
            "ticks": "",
            "zerolinecolor": "white"
           },
           "yaxis": {
            "backgroundcolor": "#E5ECF6",
            "gridcolor": "white",
            "gridwidth": 2,
            "linecolor": "white",
            "showbackground": true,
            "ticks": "",
            "zerolinecolor": "white"
           },
           "zaxis": {
            "backgroundcolor": "#E5ECF6",
            "gridcolor": "white",
            "gridwidth": 2,
            "linecolor": "white",
            "showbackground": true,
            "ticks": "",
            "zerolinecolor": "white"
           }
          },
          "shapedefaults": {
           "line": {
            "color": "#2a3f5f"
           }
          },
          "ternary": {
           "aaxis": {
            "gridcolor": "white",
            "linecolor": "white",
            "ticks": ""
           },
           "baxis": {
            "gridcolor": "white",
            "linecolor": "white",
            "ticks": ""
           },
           "bgcolor": "#E5ECF6",
           "caxis": {
            "gridcolor": "white",
            "linecolor": "white",
            "ticks": ""
           }
          },
          "title": {
           "x": 0.05
          },
          "xaxis": {
           "automargin": true,
           "gridcolor": "white",
           "linecolor": "white",
           "ticks": "",
           "title": {
            "standoff": 15
           },
           "zerolinecolor": "white",
           "zerolinewidth": 2
          },
          "yaxis": {
           "automargin": true,
           "gridcolor": "white",
           "linecolor": "white",
           "ticks": "",
           "title": {
            "standoff": 15
           },
           "zerolinecolor": "white",
           "zerolinewidth": 2
          }
         }
        },
        "title": {
         "text": "Slice Plot"
        },
        "width": 3000,
        "xaxis": {
         "anchor": "y",
         "categoryarray": [
          32,
          64,
          128
         ],
         "categoryorder": "array",
         "domain": [
          0,
          0.082
         ],
         "title": {
          "text": "batch_size"
         },
         "type": "category"
        },
        "xaxis10": {
         "anchor": "y10",
         "domain": [
          0.9179999999999999,
          0.9999999999999999
         ],
         "title": {
          "text": "units2"
         }
        },
        "xaxis2": {
         "anchor": "y2",
         "categoryarray": [
          "relu",
          "tanh"
         ],
         "categoryorder": "array",
         "domain": [
          0.10200000000000001,
          0.184
         ],
         "title": {
          "text": "dense_activation"
         },
         "type": "category"
        },
        "xaxis3": {
         "anchor": "y3",
         "domain": [
          0.20400000000000001,
          0.28600000000000003
         ],
         "title": {
          "text": "dense_units"
         }
        },
        "xaxis4": {
         "anchor": "y4",
         "domain": [
          0.306,
          0.388
         ],
         "title": {
          "text": "dropout"
         }
        },
        "xaxis5": {
         "anchor": "y5",
         "domain": [
          0.40800000000000003,
          0.49000000000000005
         ],
         "title": {
          "text": "learning_rate"
         },
         "type": "log"
        },
        "xaxis6": {
         "anchor": "y6",
         "domain": [
          0.51,
          0.592
         ],
         "title": {
          "text": "lstm_layers"
         }
        },
        "xaxis7": {
         "anchor": "y7",
         "categoryarray": [
          "adam",
          "rmsprop",
          "adamw"
         ],
         "categoryorder": "array",
         "domain": [
          0.6120000000000001,
          0.6940000000000001
         ],
         "title": {
          "text": "optimizer"
         },
         "type": "category"
        },
        "xaxis8": {
         "anchor": "y8",
         "domain": [
          0.7140000000000001,
          0.796
         ],
         "title": {
          "text": "patience"
         }
        },
        "xaxis9": {
         "anchor": "y9",
         "domain": [
          0.8160000000000001,
          0.898
         ],
         "title": {
          "text": "units1"
         }
        },
        "yaxis": {
         "anchor": "x",
         "domain": [
          0,
          1
         ],
         "title": {
          "text": "Objective Value"
         }
        },
        "yaxis10": {
         "anchor": "x10",
         "domain": [
          0,
          1
         ],
         "matches": "y",
         "showticklabels": false
        },
        "yaxis2": {
         "anchor": "x2",
         "domain": [
          0,
          1
         ],
         "matches": "y",
         "showticklabels": false
        },
        "yaxis3": {
         "anchor": "x3",
         "domain": [
          0,
          1
         ],
         "matches": "y",
         "showticklabels": false
        },
        "yaxis4": {
         "anchor": "x4",
         "domain": [
          0,
          1
         ],
         "matches": "y",
         "showticklabels": false
        },
        "yaxis5": {
         "anchor": "x5",
         "domain": [
          0,
          1
         ],
         "matches": "y",
         "showticklabels": false
        },
        "yaxis6": {
         "anchor": "x6",
         "domain": [
          0,
          1
         ],
         "matches": "y",
         "showticklabels": false
        },
        "yaxis7": {
         "anchor": "x7",
         "domain": [
          0,
          1
         ],
         "matches": "y",
         "showticklabels": false
        },
        "yaxis8": {
         "anchor": "x8",
         "domain": [
          0,
          1
         ],
         "matches": "y",
         "showticklabels": false
        },
        "yaxis9": {
         "anchor": "x9",
         "domain": [
          0,
          1
         ],
         "matches": "y",
         "showticklabels": false
        }
       }
      }
     },
     "metadata": {},
     "output_type": "display_data"
    }
   ],
   "source": [
    "# --- Celda Nueva: Análisis de Hiperparámetros ---\n",
    "from optuna.visualization import plot_param_importances, plot_slice\n",
    "\n",
    "# 1. Gráfico de Importancia de Hiperparámetros\n",
    "# Muestra qué hiperparámetros tuvieron el mayor impacto en el score.\n",
    "param_importances = plot_param_importances(study)\n",
    "param_importances.show()\n",
    "\n",
    "# 2. Gráfico de Corte (Slice Plot)\n",
    "# Muestra cómo varía el score para cada valor de cada hiperparámetro.\n",
    "# Es excelente para ver los \"rangos buenos\" de cada parámetro.\n",
    "slice_plot = plot_slice(study)\n",
    "slice_plot.show()"
   ]
  },
  {
   "cell_type": "markdown",
   "id": "70c6f194",
   "metadata": {},
   "source": [
    "Resultados y Guardado de Hiperparámetros"
   ]
  },
  {
   "cell_type": "code",
   "execution_count": 11,
   "id": "2d951807",
   "metadata": {},
   "outputs": [
    {
     "name": "stdout",
     "output_type": "stream",
     "text": [
      "Hiperparámetros guardados en best_hyperparams_lstm.json\n"
     ]
    }
   ],
   "source": [
    "# --- Guardar en JSON ---\n",
    "history_file = \"best_hyperparams_lstm.json\"\n",
    "history_data = []\n",
    "if os.path.exists(history_file):\n",
    "    try:\n",
    "        with open(history_file, \"r\") as f:\n",
    "            history_data = json.load(f)\n",
    "    except (json.JSONDecodeError, ValueError):\n",
    "        history_data = []\n",
    "\n",
    "history_data.append({\"params\": best_params, \"value\": study.best_value})\n",
    "\n",
    "with open(history_file, \"w\") as f:\n",
    "    json.dump(history_data, f, indent=2)\n",
    "\n",
    "print(f\"Hiperparámetros guardados en {history_file}\")"
   ]
  },
  {
   "cell_type": "markdown",
   "id": "2afbdc88",
   "metadata": {},
   "source": [
    " Entrenamiento del Modelo Final"
   ]
  },
  {
   "cell_type": "code",
   "execution_count": 13,
   "id": "f496e6e4",
   "metadata": {},
   "outputs": [
    {
     "name": "stdout",
     "output_type": "stream",
     "text": [
      "Model: \"sequential\"\n",
      "_________________________________________________________________\n",
      " Layer (type)                Output Shape              Param #   \n",
      "=================================================================\n",
      " lstm (LSTM)                 (None, 256)               339968    \n",
      "                                                                 \n",
      " dropout (Dropout)           (None, 256)               0         \n",
      "                                                                 \n",
      " dense (Dense)               (None, 96)                24672     \n",
      "                                                                 \n",
      " dropout_1 (Dropout)         (None, 96)                0         \n",
      "                                                                 \n",
      " dense_1 (Dense)             (None, 3)                 291       \n",
      "                                                                 \n",
      "=================================================================\n",
      "Total params: 364931 (1.39 MB)\n",
      "Trainable params: 364931 (1.39 MB)\n",
      "Non-trainable params: 0 (0.00 Byte)\n",
      "_________________________________________________________________\n",
      "Epoch 1/80\n",
      "22/22 [==============================] - 2s 38ms/step - loss: 1.2177 - accuracy: 0.3440 - val_loss: 1.0823 - val_accuracy: 0.3564\n",
      "Epoch 2/80\n",
      "22/22 [==============================] - 0s 17ms/step - loss: 1.1829 - accuracy: 0.3616 - val_loss: 1.0808 - val_accuracy: 0.3564\n",
      "Epoch 3/80\n",
      "22/22 [==============================] - 0s 17ms/step - loss: 1.1902 - accuracy: 0.3630 - val_loss: 1.0814 - val_accuracy: 0.3668\n",
      "Epoch 4/80\n",
      "22/22 [==============================] - 0s 17ms/step - loss: 1.1977 - accuracy: 0.3397 - val_loss: 1.0814 - val_accuracy: 0.3772\n",
      "Epoch 5/80\n",
      "22/22 [==============================] - 0s 17ms/step - loss: 1.2140 - accuracy: 0.3572 - val_loss: 1.0826 - val_accuracy: 0.3737\n",
      "Epoch 6/80\n",
      "22/22 [==============================] - 0s 17ms/step - loss: 1.1963 - accuracy: 0.3550 - val_loss: 1.0827 - val_accuracy: 0.3668\n",
      "Epoch 7/80\n",
      "22/22 [==============================] - 0s 21ms/step - loss: 1.2147 - accuracy: 0.3433 - val_loss: 1.0817 - val_accuracy: 0.3564\n",
      "Epoch 8/80\n",
      "22/22 [==============================] - 0s 17ms/step - loss: 1.2119 - accuracy: 0.3251 - val_loss: 1.0880 - val_accuracy: 0.3183\n",
      "Epoch 9/80\n",
      "22/22 [==============================] - 0s 17ms/step - loss: 1.1920 - accuracy: 0.3550 - val_loss: 1.0885 - val_accuracy: 0.3114\n",
      "Epoch 10/80\n",
      "20/22 [==========================>...] - ETA: 0s - loss: 1.1755 - accuracy: 0.3477Restoring model weights from the end of the best epoch: 2.\n",
      "22/22 [==============================] - 0s 17ms/step - loss: 1.1767 - accuracy: 0.3492 - val_loss: 1.0877 - val_accuracy: 0.3253\n",
      "Epoch 10: early stopping\n"
     ]
    }
   ],
   "source": [
    "# --- Cargar Hiperparámetros y Entrenar Modelo Final ---\n",
    "\n",
    "# 1. Cargar los mejores hiperparámetros\n",
    "with open(\"best_hyperparams_lstm.json\", \"r\") as f:\n",
    "    history = json.load(f)\n",
    "best_params = history[-1][\"params\"]\n",
    "\n",
    "# 2. Limpiar sesión y fijar semillas para reproducibilidad\n",
    "tf.keras.backend.clear_session()\n",
    "tf.random.set_seed(SEED)\n",
    "np.random.seed(SEED)\n",
    "random.seed(SEED)\n",
    "\n",
    "# 3. Reconstruir el modelo usando FixedTrial (más robusto)\n",
    "final_model = build_model(\n",
    "    trial=optuna.trial.FixedTrial(best_params),\n",
    "    timesteps=X_train.shape[1],\n",
    "    features=X_train.shape[2]\n",
    ")\n",
    "final_model.summary()\n",
    "\n",
    "# --- Entrenamiento ---\n",
    "early_stop = EarlyStopping(\n",
    "    monitor=\"val_loss\", \n",
    "    patience=best_params[\"patience\"], \n",
    "    restore_best_weights=True, \n",
    "    verbose=1)\n",
    "\n",
    "history = final_model.fit(\n",
    "    X_train, y_train,\n",
    "    validation_data=(X_val, y_val),\n",
    "    epochs=80,\n",
    "    batch_size=best_params[\"batch_size\"],\n",
    "    callbacks=[early_stop],\n",
    "    verbose=1\n",
    ")\n",
    "\n",
    "# Guardar el modelo\n",
    "final_model.save(f\"../../../score_models/models/{model_name}.keras\")"
   ]
  },
  {
   "cell_type": "code",
   "execution_count": 14,
   "id": "f59a4051",
   "metadata": {},
   "outputs": [
    {
     "name": "stdout",
     "output_type": "stream",
     "text": [
      "10/10 [==============================] - 0s 5ms/step\n",
      "LSTM RNN Trend Changes Score:\n",
      "               precision    recall  f1-score   support\n",
      "\n",
      "       False     0.7824    0.6215    0.6927       214\n",
      "        True     0.3136    0.5000    0.3854        74\n",
      "\n",
      "    accuracy                         0.5903       288\n",
      "   macro avg     0.5480    0.5607    0.5391       288\n",
      "weighted avg     0.6619    0.5903    0.6138       288\n",
      "\n"
     ]
    }
   ],
   "source": [
    "# Obtener predicciones\n",
    "y_val_pred = np.argmax(final_model.predict(X_val), axis=1)\n",
    "print(\"LSTM RNN Trend Changes Score:\\n\", trend_changes_score(y_val, y_val_pred))"
   ]
  },
  {
   "cell_type": "code",
   "execution_count": 15,
   "id": "5a3c7cdb",
   "metadata": {},
   "outputs": [
    {
     "name": "stdout",
     "output_type": "stream",
     "text": [
      "LSTM RNN Report:\n",
      "               precision    recall  f1-score   support\n",
      "\n",
      "           0     0.2745    0.1522    0.1958        92\n",
      "           1     0.1714    0.4898    0.2540        49\n",
      "           2     0.6633    0.4392    0.5285       148\n",
      "\n",
      "    accuracy                         0.3564       289\n",
      "   macro avg     0.3697    0.3604    0.3261       289\n",
      "weighted avg     0.4561    0.3564    0.3760       289\n",
      "\n",
      "Balanced accuracy: 0.36038634020000476\n"
     ]
    }
   ],
   "source": [
    "# Reporte completo: precisión, recall y F1 por clase\n",
    "report = classification_report(y_val, y_val_pred, digits=4)\n",
    "print(\"LSTM RNN Report:\\n\", report)\n",
    "print(\"Balanced accuracy:\", balanced_accuracy_score(y_val, y_val_pred))"
   ]
  },
  {
   "cell_type": "markdown",
   "id": "7dacae73",
   "metadata": {},
   "source": [
    "Evaluación y Exportación de Métricas"
   ]
  },
  {
   "cell_type": "code",
   "execution_count": 16,
   "id": "9e090b45",
   "metadata": {},
   "outputs": [],
   "source": [
    "# --- Evaluación Final y Exportación de Métricas ---\n",
    "\n",
    "# 1. Definir el nombre del modelo actual y el archivo de salida\n",
    "output_file = '../../../score_models/model_comparison_metrics.csv'\n",
    "\n",
    "# 2. Calcular reporte de clasificación estándar\n",
    "report_dict = classification_report(y_val, y_val_pred, output_dict=True, zero_division=0)\n",
    "precision = report_dict['macro avg']['precision']\n",
    "recall = report_dict['macro avg']['recall']\n",
    "f1_score_val = report_dict['macro avg']['f1-score']\n",
    "\n",
    "# 3. Calcular reporte de cambio de tendencia\n",
    "report = get_trend_changes_report_dict(y_val, y_val_pred)\n",
    "trend_change_precision = report['True']['precision']\n",
    "trend_change_recall = report['True']['recall']\n",
    "trend_change_f1_score = report['True']['f1-score']\n",
    "\n",
    "# 4. Organizar métricas\n",
    "new_metrics = {\n",
    "    'precision': precision,\n",
    "    'recall': recall,\n",
    "    'f1_score': f1_score_val,\n",
    "    'trend_change_precision': trend_change_precision,\n",
    "    'trend_change_recall': trend_change_recall,\n",
    "    'trend_change_f1_score': trend_change_f1_score,\n",
    "    \"optuna_duration_sec\": opt_duration_sec,\n",
    "    \"n_trials\": n_trials_run\n",
    "}\n",
    "\n",
    "# 5. Cargar, actualizar y guardar el DataFrame de comparación\n",
    "try:\n",
    "    # Intentar cargar el archivo existente\n",
    "    comparison_df = pd.read_csv(output_file, index_col='model')\n",
    "    # Si existe, actualizar o añadir la fila para el modelo actual\n",
    "    comparison_df.loc[model_name] = new_metrics\n",
    "except FileNotFoundError:\n",
    "    # Si no existe, crear un DataFrame nuevo directamente con los datos actuales\n",
    "    comparison_df = pd.DataFrame([new_metrics], index=[model_name])\n",
    "\n",
    "# Guardar el DataFrame actualizado en el CSV\n",
    "comparison_df.to_csv(output_file, index_label='model')"
   ]
  }
 ],
 "metadata": {
  "kernelspec": {
   "display_name": "tf_venv2 (3.10.12)",
   "language": "python",
   "name": "python3"
  },
  "language_info": {
   "codemirror_mode": {
    "name": "ipython",
    "version": 3
   },
   "file_extension": ".py",
   "mimetype": "text/x-python",
   "name": "python",
   "nbconvert_exporter": "python",
   "pygments_lexer": "ipython3",
   "version": "3.10.12"
  }
 },
 "nbformat": 4,
 "nbformat_minor": 5
}
