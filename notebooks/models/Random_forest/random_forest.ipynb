{
 "cells": [
  {
   "cell_type": "code",
   "execution_count": 8,
   "id": "e6d5d21b",
   "metadata": {},
   "outputs": [],
   "source": [
    "import numpy as np\n",
    "import random\n",
    "import optuna\n",
    "import pandas as pd\n",
    "from sklearn.ensemble import RandomForestClassifier\n",
    "from sklearn.metrics import classification_report, balanced_accuracy_score\n",
    "import json\n",
    "import os\n",
    "from optuna.visualization import plot_optimization_history"
   ]
  },
  {
   "cell_type": "code",
   "execution_count": 9,
   "id": "e8aba837",
   "metadata": {},
   "outputs": [],
   "source": [
    "SEED = 1234\n",
    " # Se puede cambiar a \"precision\" o \"recall\" o \"f1-score\"\n",
    "SCORE = \"f1-score\""
   ]
  },
  {
   "cell_type": "code",
   "execution_count": 10,
   "id": "41f03446",
   "metadata": {},
   "outputs": [],
   "source": [
    "def set_seeds(seed):\n",
    "    random.seed(seed)\n",
    "    np.random.seed(seed)"
   ]
  },
  {
   "cell_type": "code",
   "execution_count": 11,
   "id": "4130669e",
   "metadata": {},
   "outputs": [],
   "source": [
    "def trend_changes_score(y_test: np.array, y_pred: np.array) -> float:\n",
    "    \"\"\"\n",
    "    Calculate the trend changes score based on the test and predicted values.\n",
    "    \n",
    "    Args:\n",
    "        y_test (np.array): True labels.\n",
    "        y_pred (np.array): Predicted labels.\n",
    "        \n",
    "    Returns:\n",
    "        float: The trend changes score.\n",
    "    \"\"\"\n",
    "    y_df = pd.DataFrame([y_test, y_pred]).T\n",
    "    y_df.columns = [\"y_test\", \"y_pred\"]\n",
    "    y_df[\"y_test_shifted\"] = y_df[\"y_test\"].shift(-1)\n",
    "    y_df[\"is_changed_trend_test\"] = y_df[\"y_test\"] != y_df[\"y_test_shifted\"]\n",
    "    y_df[\"y_predict_shifted\"] = y_df[\"y_pred\"].shift(-1)\n",
    "    y_df[\"is_changed_trend_predict\"] = y_df[\"y_pred\"] != y_df[\"y_predict_shifted\"]\n",
    "    return classification_report(y_df[\"is_changed_trend_test\"][:-1], y_df[\"is_changed_trend_predict\"][:-1], digits=4)\n",
    "\n",
    "def trend_changes_true(y_test: np.array, y_pred: np.array) -> float:\n",
    "    \"\"\"\n",
    "    Calculate the trend changes score based on the test and predicted values.\n",
    "    \n",
    "    Args:\n",
    "        y_test (np.array): True labels.\n",
    "        y_pred (np.array): Predicted labels.\n",
    "        \n",
    "    Returns:\n",
    "        float: The trend changes score.\n",
    "    \"\"\"\n",
    "    y_df = pd.DataFrame([y_test, y_pred]).T\n",
    "    y_df.columns = [\"y_test\", \"y_pred\"]\n",
    "    y_df[\"y_test_shifted\"] = y_df[\"y_test\"].shift(-1)\n",
    "    y_df[\"is_changed_trend_test\"] = y_df[\"y_test\"] != y_df[\"y_test_shifted\"]\n",
    "    y_df[\"y_predict_shifted\"] = y_df[\"y_pred\"].shift(-1)\n",
    "    y_df[\"is_changed_trend_predict\"] = y_df[\"y_pred\"] != y_df[\"y_predict_shifted\"]\n",
    "    report = classification_report(\n",
    "        y_df[\"is_changed_trend_test\"][:-1],\n",
    "        y_df[\"is_changed_trend_predict\"][:-1],\n",
    "        output_dict=True,\n",
    "        zero_division=0\n",
    "    )\n",
    "    return report[\"True\"][SCORE]"
   ]
  },
  {
   "cell_type": "code",
   "execution_count": 12,
   "id": "ba6aa13e",
   "metadata": {},
   "outputs": [],
   "source": [
    "# Cargar datos\n",
    "train = pd.read_csv(\"../../../data/training_set.csv\", parse_dates=[\"date\"])\n",
    "val = pd.read_csv(\"../../../data/validation_set.csv\", parse_dates=[\"date\"])\n",
    "test_set = pd.read_csv(\"../../../data/test_set.csv\", parse_dates=['date'])\n",
    "X_train = train.drop(columns=[\"date\", \"target_trend\"]).values\n",
    "y_train = train[\"target_trend\"].values\n",
    "X_val = val.drop(columns=[\"date\", \"target_trend\"]).values\n",
    "y_val = val[\"target_trend\"].values\n",
    "X_test = test_set.drop(columns=['target_trend','date']).values\n",
    "y_test = test_set['target_trend'].values"
   ]
  },
  {
   "cell_type": "code",
   "execution_count": 13,
   "id": "80477ea8",
   "metadata": {},
   "outputs": [],
   "source": [
    "def objective(trial):\n",
    "    set_seeds(SEED)  # Fijar semilla antes de cada trial\n",
    "    n_estimators = trial.suggest_int(\"n_estimators\", 50, 400)\n",
    "    max_depth = trial.suggest_int(\"max_depth\", 2, 20)\n",
    "    min_samples_split = trial.suggest_int(\"min_samples_split\", 2, 10)\n",
    "    min_samples_leaf = trial.suggest_int(\"min_samples_leaf\", 1, 10)\n",
    "    max_features = trial.suggest_categorical(\"max_features\", [\"sqrt\", \"log2\"])\n",
    "\n",
    "    model = RandomForestClassifier(\n",
    "        n_estimators=n_estimators,\n",
    "        max_depth=max_depth,\n",
    "        min_samples_split=min_samples_split,\n",
    "        min_samples_leaf=min_samples_leaf,\n",
    "        max_features=max_features,\n",
    "        random_state=SEED\n",
    "    )\n",
    "    model.fit(X_train, y_train)\n",
    "    y_pred = model.predict(X_val)\n",
    "    score = trend_changes_true(y_val, y_pred)\n",
    "    return score"
   ]
  },
  {
   "cell_type": "code",
   "execution_count": 14,
   "id": "b8a56175",
   "metadata": {},
   "outputs": [
    {
     "name": "stderr",
     "output_type": "stream",
     "text": [
      "[I 2025-08-21 09:54:40,817] A new study created in memory with name: no-name-ff639504-5f1e-41f7-938e-43f63abc6c77\n",
      "[I 2025-08-21 09:54:41,140] Trial 0 finished with value: 0.16666666666666666 and parameters: {'n_estimators': 117, 'max_depth': 13, 'min_samples_split': 5, 'min_samples_leaf': 8, 'max_features': 'sqrt'}. Best is trial 0 with value: 0.16666666666666666.\n",
      "[I 2025-08-21 09:54:41,461] Trial 1 finished with value: 0.1111111111111111 and parameters: {'n_estimators': 147, 'max_depth': 17, 'min_samples_split': 10, 'min_samples_leaf': 9, 'max_features': 'log2'}. Best is trial 0 with value: 0.16666666666666666.\n",
      "[I 2025-08-21 09:54:42,107] Trial 2 finished with value: 0.3157894736842105 and parameters: {'n_estimators': 289, 'max_depth': 15, 'min_samples_split': 5, 'min_samples_leaf': 6, 'max_features': 'sqrt'}. Best is trial 2 with value: 0.3157894736842105.\n",
      "[I 2025-08-21 09:54:42,755] Trial 3 finished with value: 0.17142857142857143 and parameters: {'n_estimators': 321, 'max_depth': 18, 'min_samples_split': 5, 'min_samples_leaf': 7, 'max_features': 'log2'}. Best is trial 2 with value: 0.3157894736842105.\n",
      "[I 2025-08-21 09:54:43,479] Trial 4 finished with value: 0.2222222222222222 and parameters: {'n_estimators': 377, 'max_depth': 14, 'min_samples_split': 5, 'min_samples_leaf': 8, 'max_features': 'log2'}. Best is trial 2 with value: 0.3157894736842105.\n",
      "[I 2025-08-21 09:54:44,215] Trial 5 finished with value: 0.3157894736842105 and parameters: {'n_estimators': 355, 'max_depth': 10, 'min_samples_split': 9, 'min_samples_leaf': 2, 'max_features': 'log2'}. Best is trial 2 with value: 0.3157894736842105.\n",
      "[I 2025-08-21 09:54:44,459] Trial 6 finished with value: 0.1111111111111111 and parameters: {'n_estimators': 126, 'max_depth': 19, 'min_samples_split': 5, 'min_samples_leaf': 10, 'max_features': 'log2'}. Best is trial 2 with value: 0.3157894736842105.\n",
      "[I 2025-08-21 09:54:44,608] Trial 7 finished with value: 0.24390243902439024 and parameters: {'n_estimators': 66, 'max_depth': 14, 'min_samples_split': 7, 'min_samples_leaf': 6, 'max_features': 'log2'}. Best is trial 2 with value: 0.3157894736842105.\n",
      "[I 2025-08-21 09:54:44,974] Trial 8 finished with value: 0.16666666666666666 and parameters: {'n_estimators': 165, 'max_depth': 11, 'min_samples_split': 3, 'min_samples_leaf': 7, 'max_features': 'sqrt'}. Best is trial 2 with value: 0.3157894736842105.\n",
      "[I 2025-08-21 09:54:45,537] Trial 9 finished with value: 0.21621621621621623 and parameters: {'n_estimators': 266, 'max_depth': 19, 'min_samples_split': 9, 'min_samples_leaf': 10, 'max_features': 'sqrt'}. Best is trial 2 with value: 0.3157894736842105.\n",
      "[I 2025-08-21 09:54:45,978] Trial 10 finished with value: 0.3157894736842105 and parameters: {'n_estimators': 241, 'max_depth': 4, 'min_samples_split': 2, 'min_samples_leaf': 3, 'max_features': 'sqrt'}. Best is trial 2 with value: 0.3157894736842105.\n",
      "[I 2025-08-21 09:54:45,893] Trial 11 finished with value: 0.4 and parameters: {'n_estimators': 392, 'max_depth': 7, 'min_samples_split': 8, 'min_samples_leaf': 3, 'max_features': 'sqrt'}. Best is trial 11 with value: 0.4.\n",
      "[I 2025-08-21 09:54:46,632] Trial 12 finished with value: 0.3333333333333333 and parameters: {'n_estimators': 311, 'max_depth': 6, 'min_samples_split': 7, 'min_samples_leaf': 3, 'max_features': 'sqrt'}. Best is trial 11 with value: 0.4.\n",
      "[I 2025-08-21 09:54:47,530] Trial 13 finished with value: 0.25 and parameters: {'n_estimators': 400, 'max_depth': 6, 'min_samples_split': 7, 'min_samples_leaf': 4, 'max_features': 'sqrt'}. Best is trial 11 with value: 0.4.\n",
      "[I 2025-08-21 09:54:48,289] Trial 14 finished with value: 0.15789473684210525 and parameters: {'n_estimators': 326, 'max_depth': 7, 'min_samples_split': 7, 'min_samples_leaf': 1, 'max_features': 'sqrt'}. Best is trial 11 with value: 0.4.\n",
      "[I 2025-08-21 09:54:48,608] Trial 15 finished with value: 0.1111111111111111 and parameters: {'n_estimators': 210, 'max_depth': 2, 'min_samples_split': 8, 'min_samples_leaf': 4, 'max_features': 'sqrt'}. Best is trial 11 with value: 0.4.\n",
      "[I 2025-08-21 09:54:49,430] Trial 16 finished with value: 0.2702702702702703 and parameters: {'n_estimators': 333, 'max_depth': 8, 'min_samples_split': 8, 'min_samples_leaf': 4, 'max_features': 'sqrt'}. Best is trial 11 with value: 0.4.\n",
      "[I 2025-08-21 09:54:50,021] Trial 17 finished with value: 0.3157894736842105 and parameters: {'n_estimators': 291, 'max_depth': 5, 'min_samples_split': 10, 'min_samples_leaf': 1, 'max_features': 'sqrt'}. Best is trial 11 with value: 0.4.\n",
      "[I 2025-08-21 09:54:51,075] Trial 18 finished with value: 0.3333333333333333 and parameters: {'n_estimators': 397, 'max_depth': 9, 'min_samples_split': 6, 'min_samples_leaf': 3, 'max_features': 'sqrt'}. Best is trial 11 with value: 0.4.\n",
      "[I 2025-08-21 09:54:51,637] Trial 19 finished with value: 0.23529411764705882 and parameters: {'n_estimators': 352, 'max_depth': 2, 'min_samples_split': 8, 'min_samples_leaf': 5, 'max_features': 'sqrt'}. Best is trial 11 with value: 0.4.\n",
      "[I 2025-08-21 09:54:52,072] Trial 20 finished with value: 0.2727272727272727 and parameters: {'n_estimators': 203, 'max_depth': 4, 'min_samples_split': 6, 'min_samples_leaf': 2, 'max_features': 'sqrt'}. Best is trial 11 with value: 0.4.\n",
      "[I 2025-08-21 09:54:53,050] Trial 21 finished with value: 0.3333333333333333 and parameters: {'n_estimators': 397, 'max_depth': 9, 'min_samples_split': 6, 'min_samples_leaf': 3, 'max_features': 'sqrt'}. Best is trial 11 with value: 0.4.\n",
      "[I 2025-08-21 09:54:53,935] Trial 22 finished with value: 0.35 and parameters: {'n_estimators': 370, 'max_depth': 11, 'min_samples_split': 7, 'min_samples_leaf': 3, 'max_features': 'sqrt'}. Best is trial 11 with value: 0.4.\n",
      "[I 2025-08-21 09:54:54,799] Trial 23 finished with value: 0.32558139534883723 and parameters: {'n_estimators': 362, 'max_depth': 12, 'min_samples_split': 9, 'min_samples_leaf': 2, 'max_features': 'sqrt'}. Best is trial 11 with value: 0.4.\n",
      "[I 2025-08-21 09:54:55,567] Trial 24 finished with value: 0.3157894736842105 and parameters: {'n_estimators': 304, 'max_depth': 7, 'min_samples_split': 7, 'min_samples_leaf': 5, 'max_features': 'sqrt'}. Best is trial 11 with value: 0.4.\n",
      "[I 2025-08-21 09:54:56,300] Trial 25 finished with value: 0.23255813953488372 and parameters: {'n_estimators': 270, 'max_depth': 11, 'min_samples_split': 8, 'min_samples_leaf': 3, 'max_features': 'sqrt'}. Best is trial 11 with value: 0.4.\n",
      "[I 2025-08-21 09:54:57,234] Trial 26 finished with value: 0.2631578947368421 and parameters: {'n_estimators': 366, 'max_depth': 6, 'min_samples_split': 4, 'min_samples_leaf': 4, 'max_features': 'sqrt'}. Best is trial 11 with value: 0.4.\n",
      "[I 2025-08-21 09:54:58,127] Trial 27 finished with value: 0.34146341463414637 and parameters: {'n_estimators': 336, 'max_depth': 9, 'min_samples_split': 7, 'min_samples_leaf': 2, 'max_features': 'sqrt'}. Best is trial 11 with value: 0.4.\n",
      "[I 2025-08-21 09:54:59,124] Trial 28 finished with value: 0.2777777777777778 and parameters: {'n_estimators': 340, 'max_depth': 9, 'min_samples_split': 9, 'min_samples_leaf': 1, 'max_features': 'sqrt'}. Best is trial 11 with value: 0.4.\n",
      "[I 2025-08-21 09:55:00,249] Trial 29 finished with value: 0.1951219512195122 and parameters: {'n_estimators': 372, 'max_depth': 13, 'min_samples_split': 4, 'min_samples_leaf': 2, 'max_features': 'sqrt'}. Best is trial 11 with value: 0.4.\n",
      "[I 2025-08-21 09:55:00,449] Trial 30 finished with value: 0.32432432432432434 and parameters: {'n_estimators': 63, 'max_depth': 11, 'min_samples_split': 8, 'min_samples_leaf': 5, 'max_features': 'sqrt'}. Best is trial 11 with value: 0.4.\n",
      "[I 2025-08-21 09:55:01,252] Trial 31 finished with value: 0.3333333333333333 and parameters: {'n_estimators': 312, 'max_depth': 8, 'min_samples_split': 7, 'min_samples_leaf': 3, 'max_features': 'sqrt'}. Best is trial 11 with value: 0.4.\n",
      "[I 2025-08-21 09:55:01,964] Trial 32 finished with value: 0.2631578947368421 and parameters: {'n_estimators': 381, 'max_depth': 4, 'min_samples_split': 6, 'min_samples_leaf': 2, 'max_features': 'sqrt'}. Best is trial 11 with value: 0.4.\n",
      "[I 2025-08-21 09:55:02,855] Trial 33 finished with value: 0.21052631578947367 and parameters: {'n_estimators': 343, 'max_depth': 16, 'min_samples_split': 7, 'min_samples_leaf': 1, 'max_features': 'sqrt'}. Best is trial 11 with value: 0.4.\n",
      "[I 2025-08-21 09:55:03,358] Trial 34 finished with value: 0.2702702702702703 and parameters: {'n_estimators': 253, 'max_depth': 7, 'min_samples_split': 8, 'min_samples_leaf': 4, 'max_features': 'log2'}. Best is trial 11 with value: 0.4.\n",
      "[I 2025-08-21 09:55:04,216] Trial 35 finished with value: 0.2857142857142857 and parameters: {'n_estimators': 297, 'max_depth': 12, 'min_samples_split': 7, 'min_samples_leaf': 3, 'max_features': 'sqrt'}. Best is trial 11 with value: 0.4.\n",
      "[I 2025-08-21 09:55:05,008] Trial 36 finished with value: 0.41025641025641024 and parameters: {'n_estimators': 325, 'max_depth': 10, 'min_samples_split': 6, 'min_samples_leaf': 2, 'max_features': 'log2'}. Best is trial 36 with value: 0.41025641025641024.\n",
      "[I 2025-08-21 09:55:05,844] Trial 37 finished with value: 0.3076923076923077 and parameters: {'n_estimators': 380, 'max_depth': 10, 'min_samples_split': 5, 'min_samples_leaf': 2, 'max_features': 'log2'}. Best is trial 36 with value: 0.41025641025641024.\n",
      "[I 2025-08-21 09:55:06,587] Trial 38 finished with value: 0.3 and parameters: {'n_estimators': 329, 'max_depth': 13, 'min_samples_split': 6, 'min_samples_leaf': 1, 'max_features': 'log2'}. Best is trial 36 with value: 0.41025641025641024.\n",
      "[I 2025-08-21 09:55:07,194] Trial 39 finished with value: 0.34146341463414637 and parameters: {'n_estimators': 283, 'max_depth': 10, 'min_samples_split': 10, 'min_samples_leaf': 2, 'max_features': 'log2'}. Best is trial 36 with value: 0.41025641025641024.\n",
      "[I 2025-08-21 09:55:07,529] Trial 40 finished with value: 0.17142857142857143 and parameters: {'n_estimators': 169, 'max_depth': 15, 'min_samples_split': 5, 'min_samples_leaf': 7, 'max_features': 'log2'}. Best is trial 36 with value: 0.41025641025641024.\n",
      "[I 2025-08-21 09:55:08,191] Trial 41 finished with value: 0.35 and parameters: {'n_estimators': 277, 'max_depth': 10, 'min_samples_split': 10, 'min_samples_leaf': 2, 'max_features': 'log2'}. Best is trial 36 with value: 0.41025641025641024.\n",
      "[I 2025-08-21 09:55:08,894] Trial 42 finished with value: 0.3 and parameters: {'n_estimators': 346, 'max_depth': 8, 'min_samples_split': 9, 'min_samples_leaf': 2, 'max_features': 'log2'}. Best is trial 36 with value: 0.41025641025641024.\n",
      "[I 2025-08-21 09:55:09,489] Trial 43 finished with value: 0.3684210526315789 and parameters: {'n_estimators': 278, 'max_depth': 12, 'min_samples_split': 10, 'min_samples_leaf': 1, 'max_features': 'log2'}. Best is trial 36 with value: 0.41025641025641024.\n",
      "[I 2025-08-21 09:55:10,007] Trial 44 finished with value: 0.35 and parameters: {'n_estimators': 239, 'max_depth': 12, 'min_samples_split': 10, 'min_samples_leaf': 1, 'max_features': 'log2'}. Best is trial 36 with value: 0.41025641025641024.\n",
      "[I 2025-08-21 09:55:10,594] Trial 45 finished with value: 0.1111111111111111 and parameters: {'n_estimators': 267, 'max_depth': 11, 'min_samples_split': 10, 'min_samples_leaf': 9, 'max_features': 'log2'}. Best is trial 36 with value: 0.41025641025641024.\n",
      "[I 2025-08-21 09:55:10,840] Trial 46 finished with value: 0.2608695652173913 and parameters: {'n_estimators': 87, 'max_depth': 14, 'min_samples_split': 9, 'min_samples_leaf': 1, 'max_features': 'log2'}. Best is trial 36 with value: 0.41025641025641024.\n",
      "[I 2025-08-21 09:55:11,556] Trial 47 finished with value: 0.3 and parameters: {'n_estimators': 280, 'max_depth': 10, 'min_samples_split': 10, 'min_samples_leaf': 3, 'max_features': 'log2'}. Best is trial 36 with value: 0.41025641025641024.\n",
      "[I 2025-08-21 09:55:12,218] Trial 48 finished with value: 0.11428571428571428 and parameters: {'n_estimators': 314, 'max_depth': 14, 'min_samples_split': 9, 'min_samples_leaf': 6, 'max_features': 'log2'}. Best is trial 36 with value: 0.41025641025641024.\n",
      "[I 2025-08-21 09:55:12,722] Trial 49 finished with value: 0.2727272727272727 and parameters: {'n_estimators': 222, 'max_depth': 13, 'min_samples_split': 10, 'min_samples_leaf': 1, 'max_features': 'log2'}. Best is trial 36 with value: 0.41025641025641024.\n",
      "[I 2025-08-21 09:55:13,504] Trial 50 finished with value: 0.2777777777777778 and parameters: {'n_estimators': 383, 'max_depth': 12, 'min_samples_split': 4, 'min_samples_leaf': 4, 'max_features': 'log2'}. Best is trial 36 with value: 0.41025641025641024.\n",
      "[I 2025-08-21 09:55:14,095] Trial 51 finished with value: 0.2727272727272727 and parameters: {'n_estimators': 252, 'max_depth': 12, 'min_samples_split': 10, 'min_samples_leaf': 1, 'max_features': 'log2'}. Best is trial 36 with value: 0.41025641025641024.\n",
      "[I 2025-08-21 09:55:14,636] Trial 52 finished with value: 0.3157894736842105 and parameters: {'n_estimators': 232, 'max_depth': 15, 'min_samples_split': 10, 'min_samples_leaf': 2, 'max_features': 'log2'}. Best is trial 36 with value: 0.41025641025641024.\n",
      "[I 2025-08-21 09:55:15,144] Trial 53 finished with value: 0.22727272727272727 and parameters: {'n_estimators': 213, 'max_depth': 10, 'min_samples_split': 9, 'min_samples_leaf': 1, 'max_features': 'log2'}. Best is trial 36 with value: 0.41025641025641024.\n",
      "[I 2025-08-21 09:55:15,730] Trial 54 finished with value: 0.2222222222222222 and parameters: {'n_estimators': 247, 'max_depth': 20, 'min_samples_split': 10, 'min_samples_leaf': 3, 'max_features': 'log2'}. Best is trial 36 with value: 0.41025641025641024.\n",
      "[I 2025-08-21 09:55:16,463] Trial 55 finished with value: 0.3076923076923077 and parameters: {'n_estimators': 323, 'max_depth': 11, 'min_samples_split': 9, 'min_samples_leaf': 2, 'max_features': 'log2'}. Best is trial 36 with value: 0.41025641025641024.\n",
      "[I 2025-08-21 09:55:16,844] Trial 56 finished with value: 0.2857142857142857 and parameters: {'n_estimators': 174, 'max_depth': 13, 'min_samples_split': 8, 'min_samples_leaf': 1, 'max_features': 'log2'}. Best is trial 36 with value: 0.41025641025641024.\n",
      "[I 2025-08-21 09:55:17,600] Trial 57 finished with value: 0.35 and parameters: {'n_estimators': 357, 'max_depth': 8, 'min_samples_split': 10, 'min_samples_leaf': 3, 'max_features': 'log2'}. Best is trial 36 with value: 0.41025641025641024.\n",
      "[I 2025-08-21 09:55:17,271] Trial 58 finished with value: 0.2926829268292683 and parameters: {'n_estimators': 291, 'max_depth': 12, 'min_samples_split': 8, 'min_samples_leaf': 2, 'max_features': 'log2'}. Best is trial 36 with value: 0.41025641025641024.\n",
      "[I 2025-08-21 09:55:17,852] Trial 59 finished with value: 0.23809523809523808 and parameters: {'n_estimators': 237, 'max_depth': 17, 'min_samples_split': 6, 'min_samples_leaf': 1, 'max_features': 'log2'}. Best is trial 36 with value: 0.41025641025641024.\n",
      "[I 2025-08-21 09:55:18,310] Trial 60 finished with value: 0.41025641025641024 and parameters: {'n_estimators': 195, 'max_depth': 9, 'min_samples_split': 9, 'min_samples_leaf': 2, 'max_features': 'log2'}. Best is trial 36 with value: 0.41025641025641024.\n",
      "[I 2025-08-21 09:55:18,950] Trial 61 finished with value: 0.358974358974359 and parameters: {'n_estimators': 274, 'max_depth': 9, 'min_samples_split': 9, 'min_samples_leaf': 2, 'max_features': 'log2'}. Best is trial 36 with value: 0.41025641025641024.\n",
      "[I 2025-08-21 09:55:19,435] Trial 62 finished with value: 0.41025641025641024 and parameters: {'n_estimators': 194, 'max_depth': 9, 'min_samples_split': 9, 'min_samples_leaf': 2, 'max_features': 'log2'}. Best is trial 36 with value: 0.41025641025641024.\n",
      "[I 2025-08-21 09:55:19,837] Trial 63 finished with value: 0.45 and parameters: {'n_estimators': 189, 'max_depth': 9, 'min_samples_split': 9, 'min_samples_leaf': 3, 'max_features': 'log2'}. Best is trial 63 with value: 0.45.\n",
      "[I 2025-08-21 09:55:20,219] Trial 64 finished with value: 0.45 and parameters: {'n_estimators': 184, 'max_depth': 9, 'min_samples_split': 9, 'min_samples_leaf': 3, 'max_features': 'log2'}. Best is trial 63 with value: 0.45.\n",
      "[I 2025-08-21 09:55:20,628] Trial 65 finished with value: 0.16216216216216217 and parameters: {'n_estimators': 190, 'max_depth': 6, 'min_samples_split': 9, 'min_samples_leaf': 4, 'max_features': 'log2'}. Best is trial 63 with value: 0.45.\n",
      "[I 2025-08-21 09:55:20,942] Trial 66 finished with value: 0.2702702702702703 and parameters: {'n_estimators': 136, 'max_depth': 7, 'min_samples_split': 9, 'min_samples_leaf': 3, 'max_features': 'log2'}. Best is trial 63 with value: 0.45.\n",
      "[I 2025-08-21 09:55:21,386] Trial 67 finished with value: 0.2222222222222222 and parameters: {'n_estimators': 188, 'max_depth': 9, 'min_samples_split': 8, 'min_samples_leaf': 4, 'max_features': 'log2'}. Best is trial 63 with value: 0.45.\n",
      "[I 2025-08-21 09:55:21,726] Trial 68 finished with value: 0.21621621621621623 and parameters: {'n_estimators': 152, 'max_depth': 5, 'min_samples_split': 9, 'min_samples_leaf': 3, 'max_features': 'log2'}. Best is trial 63 with value: 0.45.\n",
      "[I 2025-08-21 09:55:22,221] Trial 69 finished with value: 0.22857142857142856 and parameters: {'n_estimators': 196, 'max_depth': 8, 'min_samples_split': 8, 'min_samples_leaf': 5, 'max_features': 'log2'}. Best is trial 63 with value: 0.45.\n",
      "[I 2025-08-21 09:55:22,644] Trial 70 finished with value: 0.358974358974359 and parameters: {'n_estimators': 182, 'max_depth': 9, 'min_samples_split': 9, 'min_samples_leaf': 2, 'max_features': 'log2'}. Best is trial 63 with value: 0.45.\n",
      "[I 2025-08-21 09:55:23,122] Trial 71 finished with value: 0.3 and parameters: {'n_estimators': 208, 'max_depth': 8, 'min_samples_split': 9, 'min_samples_leaf': 2, 'max_features': 'log2'}. Best is trial 63 with value: 0.45.\n",
      "[I 2025-08-21 09:55:23,478] Trial 72 finished with value: 0.2702702702702703 and parameters: {'n_estimators': 151, 'max_depth': 7, 'min_samples_split': 9, 'min_samples_leaf': 3, 'max_features': 'log2'}. Best is trial 63 with value: 0.45.\n",
      "[I 2025-08-21 09:55:24,017] Trial 73 finished with value: 0.24390243902439024 and parameters: {'n_estimators': 222, 'max_depth': 9, 'min_samples_split': 8, 'min_samples_leaf': 2, 'max_features': 'log2'}. Best is trial 63 with value: 0.45.\n",
      "[I 2025-08-21 09:55:24,572] Trial 74 finished with value: 0.4 and parameters: {'n_estimators': 200, 'max_depth': 10, 'min_samples_split': 9, 'min_samples_leaf': 2, 'max_features': 'log2'}. Best is trial 63 with value: 0.45.\n",
      "[I 2025-08-21 09:55:25,076] Trial 75 finished with value: 0.3 and parameters: {'n_estimators': 158, 'max_depth': 10, 'min_samples_split': 9, 'min_samples_leaf': 3, 'max_features': 'log2'}. Best is trial 63 with value: 0.45.\n",
      "[I 2025-08-21 09:55:25,539] Trial 76 finished with value: 0.25 and parameters: {'n_estimators': 198, 'max_depth': 8, 'min_samples_split': 8, 'min_samples_leaf': 3, 'max_features': 'log2'}. Best is trial 63 with value: 0.45.\n",
      "[I 2025-08-21 09:55:26,130] Trial 77 finished with value: 0.24390243902439024 and parameters: {'n_estimators': 217, 'max_depth': 11, 'min_samples_split': 2, 'min_samples_leaf': 2, 'max_features': 'log2'}. Best is trial 63 with value: 0.45.\n",
      "[I 2025-08-21 09:55:26,677] Trial 78 finished with value: 0.2222222222222222 and parameters: {'n_estimators': 181, 'max_depth': 10, 'min_samples_split': 9, 'min_samples_leaf': 4, 'max_features': 'log2'}. Best is trial 63 with value: 0.45.\n",
      "[I 2025-08-21 09:55:27,068] Trial 79 finished with value: 0.21739130434782608 and parameters: {'n_estimators': 203, 'max_depth': 5, 'min_samples_split': 10, 'min_samples_leaf': 1, 'max_features': 'log2'}. Best is trial 63 with value: 0.45.\n",
      "[I 2025-08-21 09:55:27,383] Trial 80 finished with value: 0.34146341463414637 and parameters: {'n_estimators': 110, 'max_depth': 9, 'min_samples_split': 8, 'min_samples_leaf': 2, 'max_features': 'log2'}. Best is trial 63 with value: 0.45.\n",
      "[I 2025-08-21 09:55:27,925] Trial 81 finished with value: 0.3684210526315789 and parameters: {'n_estimators': 167, 'max_depth': 9, 'min_samples_split': 9, 'min_samples_leaf': 2, 'max_features': 'log2'}. Best is trial 63 with value: 0.45.\n",
      "[I 2025-08-21 09:55:28,331] Trial 82 finished with value: 0.4 and parameters: {'n_estimators': 139, 'max_depth': 10, 'min_samples_split': 9, 'min_samples_leaf': 2, 'max_features': 'log2'}. Best is trial 63 with value: 0.45.\n",
      "[I 2025-08-21 09:55:28,685] Trial 83 finished with value: 0.3 and parameters: {'n_estimators': 139, 'max_depth': 10, 'min_samples_split': 9, 'min_samples_leaf': 3, 'max_features': 'log2'}. Best is trial 63 with value: 0.45.\n",
      "[I 2025-08-21 09:55:28,979] Trial 84 finished with value: 0.32558139534883723 and parameters: {'n_estimators': 117, 'max_depth': 11, 'min_samples_split': 6, 'min_samples_leaf': 2, 'max_features': 'log2'}. Best is trial 63 with value: 0.45.\n",
      "[I 2025-08-21 09:55:29,395] Trial 85 finished with value: 0.2978723404255319 and parameters: {'n_estimators': 178, 'max_depth': 8, 'min_samples_split': 10, 'min_samples_leaf': 1, 'max_features': 'log2'}. Best is trial 63 with value: 0.45.\n",
      "[I 2025-08-21 09:55:29,960] Trial 86 finished with value: 0.3684210526315789 and parameters: {'n_estimators': 231, 'max_depth': 7, 'min_samples_split': 9, 'min_samples_leaf': 3, 'max_features': 'log2'}. Best is trial 63 with value: 0.45.\n",
      "[I 2025-08-21 09:55:30,337] Trial 87 finished with value: 0.2926829268292683 and parameters: {'n_estimators': 160, 'max_depth': 6, 'min_samples_split': 8, 'min_samples_leaf': 2, 'max_features': 'log2'}. Best is trial 63 with value: 0.45.\n",
      "[I 2025-08-21 09:55:31,266] Trial 88 finished with value: 0.2727272727272727 and parameters: {'n_estimators': 390, 'max_depth': 11, 'min_samples_split': 10, 'min_samples_leaf': 1, 'max_features': 'log2'}. Best is trial 63 with value: 0.45.\n",
      "[I 2025-08-21 09:55:31,909] Trial 89 finished with value: 0.2702702702702703 and parameters: {'n_estimators': 258, 'max_depth': 10, 'min_samples_split': 5, 'min_samples_leaf': 6, 'max_features': 'sqrt'}. Best is trial 63 with value: 0.45.\n",
      "[I 2025-08-21 09:55:32,299] Trial 90 finished with value: 0.16666666666666666 and parameters: {'n_estimators': 190, 'max_depth': 9, 'min_samples_split': 3, 'min_samples_leaf': 9, 'max_features': 'log2'}. Best is trial 63 with value: 0.45.\n",
      "[I 2025-08-21 09:55:32,685] Trial 91 finished with value: 0.3684210526315789 and parameters: {'n_estimators': 173, 'max_depth': 9, 'min_samples_split': 9, 'min_samples_leaf': 2, 'max_features': 'log2'}. Best is trial 63 with value: 0.45.\n",
      "[I 2025-08-21 09:55:33,197] Trial 92 finished with value: 0.4 and parameters: {'n_estimators': 206, 'max_depth': 10, 'min_samples_split': 9, 'min_samples_leaf': 2, 'max_features': 'log2'}. Best is trial 63 with value: 0.45.\n",
      "[I 2025-08-21 09:55:33,653] Trial 93 finished with value: 0.38095238095238093 and parameters: {'n_estimators': 204, 'max_depth': 10, 'min_samples_split': 9, 'min_samples_leaf': 3, 'max_features': 'log2'}. Best is trial 63 with value: 0.45.\n",
      "[I 2025-08-21 09:55:33,795] Trial 94 finished with value: 0.2631578947368421 and parameters: {'n_estimators': 51, 'max_depth': 10, 'min_samples_split': 9, 'min_samples_leaf': 3, 'max_features': 'log2'}. Best is trial 63 with value: 0.45.\n",
      "[I 2025-08-21 09:55:34,245] Trial 95 finished with value: 0.3333333333333333 and parameters: {'n_estimators': 203, 'max_depth': 8, 'min_samples_split': 9, 'min_samples_leaf': 4, 'max_features': 'log2'}. Best is trial 63 with value: 0.45.\n",
      "[I 2025-08-21 09:55:34,750] Trial 96 finished with value: 0.37209302325581395 and parameters: {'n_estimators': 215, 'max_depth': 11, 'min_samples_split': 8, 'min_samples_leaf': 3, 'max_features': 'log2'}. Best is trial 63 with value: 0.45.\n",
      "[I 2025-08-21 09:55:35,328] Trial 97 finished with value: 0.15384615384615385 and parameters: {'n_estimators': 193, 'max_depth': 10, 'min_samples_split': 9, 'min_samples_leaf': 2, 'max_features': 'sqrt'}. Best is trial 63 with value: 0.45.\n",
      "[I 2025-08-21 09:55:35,586] Trial 98 finished with value: 0.3076923076923077 and parameters: {'n_estimators': 94, 'max_depth': 11, 'min_samples_split': 9, 'min_samples_leaf': 3, 'max_features': 'log2'}. Best is trial 63 with value: 0.45.\n",
      "[I 2025-08-21 09:55:36,186] Trial 99 finished with value: 0.2777777777777778 and parameters: {'n_estimators': 227, 'max_depth': 10, 'min_samples_split': 8, 'min_samples_leaf': 4, 'max_features': 'log2'}. Best is trial 63 with value: 0.45.\n"
     ]
    }
   ],
   "source": [
    "set_seeds(SEED)\n",
    "study = optuna.create_study(\n",
    "    direction=\"maximize\", \n",
    "    sampler=optuna.samplers.TPESampler(seed=SEED))\n",
    "study.optimize(objective, n_trials=100)"
   ]
  },
  {
   "cell_type": "code",
   "execution_count": 15,
   "id": "2c1af027",
   "metadata": {},
   "outputs": [
    {
     "data": {
      "application/vnd.plotly.v1+json": {
       "config": {
        "plotlyServerURL": "https://plot.ly"
       },
       "data": [
        {
         "mode": "markers",
         "name": "Objective Value",
         "type": "scatter",
         "x": [
          0,
          1,
          2,
          3,
          4,
          5,
          6,
          7,
          8,
          9,
          10,
          11,
          12,
          13,
          14,
          15,
          16,
          17,
          18,
          19,
          20,
          21,
          22,
          23,
          24,
          25,
          26,
          27,
          28,
          29,
          30,
          31,
          32,
          33,
          34,
          35,
          36,
          37,
          38,
          39,
          40,
          41,
          42,
          43,
          44,
          45,
          46,
          47,
          48,
          49,
          50,
          51,
          52,
          53,
          54,
          55,
          56,
          57,
          58,
          59,
          60,
          61,
          62,
          63,
          64,
          65,
          66,
          67,
          68,
          69,
          70,
          71,
          72,
          73,
          74,
          75,
          76,
          77,
          78,
          79,
          80,
          81,
          82,
          83,
          84,
          85,
          86,
          87,
          88,
          89,
          90,
          91,
          92,
          93,
          94,
          95,
          96,
          97,
          98,
          99
         ],
         "y": [
          0.16666666666666666,
          0.1111111111111111,
          0.3157894736842105,
          0.17142857142857143,
          0.2222222222222222,
          0.3157894736842105,
          0.1111111111111111,
          0.24390243902439024,
          0.16666666666666666,
          0.21621621621621623,
          0.3157894736842105,
          0.4,
          0.3333333333333333,
          0.25,
          0.15789473684210525,
          0.1111111111111111,
          0.2702702702702703,
          0.3157894736842105,
          0.3333333333333333,
          0.23529411764705882,
          0.2727272727272727,
          0.3333333333333333,
          0.35,
          0.32558139534883723,
          0.3157894736842105,
          0.23255813953488372,
          0.2631578947368421,
          0.34146341463414637,
          0.2777777777777778,
          0.1951219512195122,
          0.32432432432432434,
          0.3333333333333333,
          0.2631578947368421,
          0.21052631578947367,
          0.2702702702702703,
          0.2857142857142857,
          0.41025641025641024,
          0.3076923076923077,
          0.3,
          0.34146341463414637,
          0.17142857142857143,
          0.35,
          0.3,
          0.3684210526315789,
          0.35,
          0.1111111111111111,
          0.2608695652173913,
          0.3,
          0.11428571428571428,
          0.2727272727272727,
          0.2777777777777778,
          0.2727272727272727,
          0.3157894736842105,
          0.22727272727272727,
          0.2222222222222222,
          0.3076923076923077,
          0.2857142857142857,
          0.35,
          0.2926829268292683,
          0.23809523809523808,
          0.41025641025641024,
          0.358974358974359,
          0.41025641025641024,
          0.45,
          0.45,
          0.16216216216216217,
          0.2702702702702703,
          0.2222222222222222,
          0.21621621621621623,
          0.22857142857142856,
          0.358974358974359,
          0.3,
          0.2702702702702703,
          0.24390243902439024,
          0.4,
          0.3,
          0.25,
          0.24390243902439024,
          0.2222222222222222,
          0.21739130434782608,
          0.34146341463414637,
          0.3684210526315789,
          0.4,
          0.3,
          0.32558139534883723,
          0.2978723404255319,
          0.3684210526315789,
          0.2926829268292683,
          0.2727272727272727,
          0.2702702702702703,
          0.16666666666666666,
          0.3684210526315789,
          0.4,
          0.38095238095238093,
          0.2631578947368421,
          0.3333333333333333,
          0.37209302325581395,
          0.15384615384615385,
          0.3076923076923077,
          0.2777777777777778
         ]
        },
        {
         "mode": "lines",
         "name": "Best Value",
         "type": "scatter",
         "x": [
          0,
          1,
          2,
          3,
          4,
          5,
          6,
          7,
          8,
          9,
          10,
          11,
          12,
          13,
          14,
          15,
          16,
          17,
          18,
          19,
          20,
          21,
          22,
          23,
          24,
          25,
          26,
          27,
          28,
          29,
          30,
          31,
          32,
          33,
          34,
          35,
          36,
          37,
          38,
          39,
          40,
          41,
          42,
          43,
          44,
          45,
          46,
          47,
          48,
          49,
          50,
          51,
          52,
          53,
          54,
          55,
          56,
          57,
          58,
          59,
          60,
          61,
          62,
          63,
          64,
          65,
          66,
          67,
          68,
          69,
          70,
          71,
          72,
          73,
          74,
          75,
          76,
          77,
          78,
          79,
          80,
          81,
          82,
          83,
          84,
          85,
          86,
          87,
          88,
          89,
          90,
          91,
          92,
          93,
          94,
          95,
          96,
          97,
          98,
          99
         ],
         "y": [
          0.16666666666666666,
          0.16666666666666666,
          0.3157894736842105,
          0.3157894736842105,
          0.3157894736842105,
          0.3157894736842105,
          0.3157894736842105,
          0.3157894736842105,
          0.3157894736842105,
          0.3157894736842105,
          0.3157894736842105,
          0.4,
          0.4,
          0.4,
          0.4,
          0.4,
          0.4,
          0.4,
          0.4,
          0.4,
          0.4,
          0.4,
          0.4,
          0.4,
          0.4,
          0.4,
          0.4,
          0.4,
          0.4,
          0.4,
          0.4,
          0.4,
          0.4,
          0.4,
          0.4,
          0.4,
          0.41025641025641024,
          0.41025641025641024,
          0.41025641025641024,
          0.41025641025641024,
          0.41025641025641024,
          0.41025641025641024,
          0.41025641025641024,
          0.41025641025641024,
          0.41025641025641024,
          0.41025641025641024,
          0.41025641025641024,
          0.41025641025641024,
          0.41025641025641024,
          0.41025641025641024,
          0.41025641025641024,
          0.41025641025641024,
          0.41025641025641024,
          0.41025641025641024,
          0.41025641025641024,
          0.41025641025641024,
          0.41025641025641024,
          0.41025641025641024,
          0.41025641025641024,
          0.41025641025641024,
          0.41025641025641024,
          0.41025641025641024,
          0.41025641025641024,
          0.45,
          0.45,
          0.45,
          0.45,
          0.45,
          0.45,
          0.45,
          0.45,
          0.45,
          0.45,
          0.45,
          0.45,
          0.45,
          0.45,
          0.45,
          0.45,
          0.45,
          0.45,
          0.45,
          0.45,
          0.45,
          0.45,
          0.45,
          0.45,
          0.45,
          0.45,
          0.45,
          0.45,
          0.45,
          0.45,
          0.45,
          0.45,
          0.45,
          0.45,
          0.45,
          0.45,
          0.45
         ]
        },
        {
         "marker": {
          "color": "#cccccc"
         },
         "mode": "markers",
         "name": "Infeasible Trial",
         "showlegend": false,
         "type": "scatter",
         "x": [],
         "y": []
        }
       ],
       "layout": {
        "template": {
         "data": {
          "bar": [
           {
            "error_x": {
             "color": "#2a3f5f"
            },
            "error_y": {
             "color": "#2a3f5f"
            },
            "marker": {
             "line": {
              "color": "#E5ECF6",
              "width": 0.5
             },
             "pattern": {
              "fillmode": "overlay",
              "size": 10,
              "solidity": 0.2
             }
            },
            "type": "bar"
           }
          ],
          "barpolar": [
           {
            "marker": {
             "line": {
              "color": "#E5ECF6",
              "width": 0.5
             },
             "pattern": {
              "fillmode": "overlay",
              "size": 10,
              "solidity": 0.2
             }
            },
            "type": "barpolar"
           }
          ],
          "carpet": [
           {
            "aaxis": {
             "endlinecolor": "#2a3f5f",
             "gridcolor": "white",
             "linecolor": "white",
             "minorgridcolor": "white",
             "startlinecolor": "#2a3f5f"
            },
            "baxis": {
             "endlinecolor": "#2a3f5f",
             "gridcolor": "white",
             "linecolor": "white",
             "minorgridcolor": "white",
             "startlinecolor": "#2a3f5f"
            },
            "type": "carpet"
           }
          ],
          "choropleth": [
           {
            "colorbar": {
             "outlinewidth": 0,
             "ticks": ""
            },
            "type": "choropleth"
           }
          ],
          "contour": [
           {
            "colorbar": {
             "outlinewidth": 0,
             "ticks": ""
            },
            "colorscale": [
             [
              0,
              "#0d0887"
             ],
             [
              0.1111111111111111,
              "#46039f"
             ],
             [
              0.2222222222222222,
              "#7201a8"
             ],
             [
              0.3333333333333333,
              "#9c179e"
             ],
             [
              0.4444444444444444,
              "#bd3786"
             ],
             [
              0.5555555555555556,
              "#d8576b"
             ],
             [
              0.6666666666666666,
              "#ed7953"
             ],
             [
              0.7777777777777778,
              "#fb9f3a"
             ],
             [
              0.8888888888888888,
              "#fdca26"
             ],
             [
              1,
              "#f0f921"
             ]
            ],
            "type": "contour"
           }
          ],
          "contourcarpet": [
           {
            "colorbar": {
             "outlinewidth": 0,
             "ticks": ""
            },
            "type": "contourcarpet"
           }
          ],
          "heatmap": [
           {
            "colorbar": {
             "outlinewidth": 0,
             "ticks": ""
            },
            "colorscale": [
             [
              0,
              "#0d0887"
             ],
             [
              0.1111111111111111,
              "#46039f"
             ],
             [
              0.2222222222222222,
              "#7201a8"
             ],
             [
              0.3333333333333333,
              "#9c179e"
             ],
             [
              0.4444444444444444,
              "#bd3786"
             ],
             [
              0.5555555555555556,
              "#d8576b"
             ],
             [
              0.6666666666666666,
              "#ed7953"
             ],
             [
              0.7777777777777778,
              "#fb9f3a"
             ],
             [
              0.8888888888888888,
              "#fdca26"
             ],
             [
              1,
              "#f0f921"
             ]
            ],
            "type": "heatmap"
           }
          ],
          "histogram": [
           {
            "marker": {
             "pattern": {
              "fillmode": "overlay",
              "size": 10,
              "solidity": 0.2
             }
            },
            "type": "histogram"
           }
          ],
          "histogram2d": [
           {
            "colorbar": {
             "outlinewidth": 0,
             "ticks": ""
            },
            "colorscale": [
             [
              0,
              "#0d0887"
             ],
             [
              0.1111111111111111,
              "#46039f"
             ],
             [
              0.2222222222222222,
              "#7201a8"
             ],
             [
              0.3333333333333333,
              "#9c179e"
             ],
             [
              0.4444444444444444,
              "#bd3786"
             ],
             [
              0.5555555555555556,
              "#d8576b"
             ],
             [
              0.6666666666666666,
              "#ed7953"
             ],
             [
              0.7777777777777778,
              "#fb9f3a"
             ],
             [
              0.8888888888888888,
              "#fdca26"
             ],
             [
              1,
              "#f0f921"
             ]
            ],
            "type": "histogram2d"
           }
          ],
          "histogram2dcontour": [
           {
            "colorbar": {
             "outlinewidth": 0,
             "ticks": ""
            },
            "colorscale": [
             [
              0,
              "#0d0887"
             ],
             [
              0.1111111111111111,
              "#46039f"
             ],
             [
              0.2222222222222222,
              "#7201a8"
             ],
             [
              0.3333333333333333,
              "#9c179e"
             ],
             [
              0.4444444444444444,
              "#bd3786"
             ],
             [
              0.5555555555555556,
              "#d8576b"
             ],
             [
              0.6666666666666666,
              "#ed7953"
             ],
             [
              0.7777777777777778,
              "#fb9f3a"
             ],
             [
              0.8888888888888888,
              "#fdca26"
             ],
             [
              1,
              "#f0f921"
             ]
            ],
            "type": "histogram2dcontour"
           }
          ],
          "mesh3d": [
           {
            "colorbar": {
             "outlinewidth": 0,
             "ticks": ""
            },
            "type": "mesh3d"
           }
          ],
          "parcoords": [
           {
            "line": {
             "colorbar": {
              "outlinewidth": 0,
              "ticks": ""
             }
            },
            "type": "parcoords"
           }
          ],
          "pie": [
           {
            "automargin": true,
            "type": "pie"
           }
          ],
          "scatter": [
           {
            "fillpattern": {
             "fillmode": "overlay",
             "size": 10,
             "solidity": 0.2
            },
            "type": "scatter"
           }
          ],
          "scatter3d": [
           {
            "line": {
             "colorbar": {
              "outlinewidth": 0,
              "ticks": ""
             }
            },
            "marker": {
             "colorbar": {
              "outlinewidth": 0,
              "ticks": ""
             }
            },
            "type": "scatter3d"
           }
          ],
          "scattercarpet": [
           {
            "marker": {
             "colorbar": {
              "outlinewidth": 0,
              "ticks": ""
             }
            },
            "type": "scattercarpet"
           }
          ],
          "scattergeo": [
           {
            "marker": {
             "colorbar": {
              "outlinewidth": 0,
              "ticks": ""
             }
            },
            "type": "scattergeo"
           }
          ],
          "scattergl": [
           {
            "marker": {
             "colorbar": {
              "outlinewidth": 0,
              "ticks": ""
             }
            },
            "type": "scattergl"
           }
          ],
          "scattermap": [
           {
            "marker": {
             "colorbar": {
              "outlinewidth": 0,
              "ticks": ""
             }
            },
            "type": "scattermap"
           }
          ],
          "scattermapbox": [
           {
            "marker": {
             "colorbar": {
              "outlinewidth": 0,
              "ticks": ""
             }
            },
            "type": "scattermapbox"
           }
          ],
          "scatterpolar": [
           {
            "marker": {
             "colorbar": {
              "outlinewidth": 0,
              "ticks": ""
             }
            },
            "type": "scatterpolar"
           }
          ],
          "scatterpolargl": [
           {
            "marker": {
             "colorbar": {
              "outlinewidth": 0,
              "ticks": ""
             }
            },
            "type": "scatterpolargl"
           }
          ],
          "scatterternary": [
           {
            "marker": {
             "colorbar": {
              "outlinewidth": 0,
              "ticks": ""
             }
            },
            "type": "scatterternary"
           }
          ],
          "surface": [
           {
            "colorbar": {
             "outlinewidth": 0,
             "ticks": ""
            },
            "colorscale": [
             [
              0,
              "#0d0887"
             ],
             [
              0.1111111111111111,
              "#46039f"
             ],
             [
              0.2222222222222222,
              "#7201a8"
             ],
             [
              0.3333333333333333,
              "#9c179e"
             ],
             [
              0.4444444444444444,
              "#bd3786"
             ],
             [
              0.5555555555555556,
              "#d8576b"
             ],
             [
              0.6666666666666666,
              "#ed7953"
             ],
             [
              0.7777777777777778,
              "#fb9f3a"
             ],
             [
              0.8888888888888888,
              "#fdca26"
             ],
             [
              1,
              "#f0f921"
             ]
            ],
            "type": "surface"
           }
          ],
          "table": [
           {
            "cells": {
             "fill": {
              "color": "#EBF0F8"
             },
             "line": {
              "color": "white"
             }
            },
            "header": {
             "fill": {
              "color": "#C8D4E3"
             },
             "line": {
              "color": "white"
             }
            },
            "type": "table"
           }
          ]
         },
         "layout": {
          "annotationdefaults": {
           "arrowcolor": "#2a3f5f",
           "arrowhead": 0,
           "arrowwidth": 1
          },
          "autotypenumbers": "strict",
          "coloraxis": {
           "colorbar": {
            "outlinewidth": 0,
            "ticks": ""
           }
          },
          "colorscale": {
           "diverging": [
            [
             0,
             "#8e0152"
            ],
            [
             0.1,
             "#c51b7d"
            ],
            [
             0.2,
             "#de77ae"
            ],
            [
             0.3,
             "#f1b6da"
            ],
            [
             0.4,
             "#fde0ef"
            ],
            [
             0.5,
             "#f7f7f7"
            ],
            [
             0.6,
             "#e6f5d0"
            ],
            [
             0.7,
             "#b8e186"
            ],
            [
             0.8,
             "#7fbc41"
            ],
            [
             0.9,
             "#4d9221"
            ],
            [
             1,
             "#276419"
            ]
           ],
           "sequential": [
            [
             0,
             "#0d0887"
            ],
            [
             0.1111111111111111,
             "#46039f"
            ],
            [
             0.2222222222222222,
             "#7201a8"
            ],
            [
             0.3333333333333333,
             "#9c179e"
            ],
            [
             0.4444444444444444,
             "#bd3786"
            ],
            [
             0.5555555555555556,
             "#d8576b"
            ],
            [
             0.6666666666666666,
             "#ed7953"
            ],
            [
             0.7777777777777778,
             "#fb9f3a"
            ],
            [
             0.8888888888888888,
             "#fdca26"
            ],
            [
             1,
             "#f0f921"
            ]
           ],
           "sequentialminus": [
            [
             0,
             "#0d0887"
            ],
            [
             0.1111111111111111,
             "#46039f"
            ],
            [
             0.2222222222222222,
             "#7201a8"
            ],
            [
             0.3333333333333333,
             "#9c179e"
            ],
            [
             0.4444444444444444,
             "#bd3786"
            ],
            [
             0.5555555555555556,
             "#d8576b"
            ],
            [
             0.6666666666666666,
             "#ed7953"
            ],
            [
             0.7777777777777778,
             "#fb9f3a"
            ],
            [
             0.8888888888888888,
             "#fdca26"
            ],
            [
             1,
             "#f0f921"
            ]
           ]
          },
          "colorway": [
           "#636efa",
           "#EF553B",
           "#00cc96",
           "#ab63fa",
           "#FFA15A",
           "#19d3f3",
           "#FF6692",
           "#B6E880",
           "#FF97FF",
           "#FECB52"
          ],
          "font": {
           "color": "#2a3f5f"
          },
          "geo": {
           "bgcolor": "white",
           "lakecolor": "white",
           "landcolor": "#E5ECF6",
           "showlakes": true,
           "showland": true,
           "subunitcolor": "white"
          },
          "hoverlabel": {
           "align": "left"
          },
          "hovermode": "closest",
          "mapbox": {
           "style": "light"
          },
          "paper_bgcolor": "white",
          "plot_bgcolor": "#E5ECF6",
          "polar": {
           "angularaxis": {
            "gridcolor": "white",
            "linecolor": "white",
            "ticks": ""
           },
           "bgcolor": "#E5ECF6",
           "radialaxis": {
            "gridcolor": "white",
            "linecolor": "white",
            "ticks": ""
           }
          },
          "scene": {
           "xaxis": {
            "backgroundcolor": "#E5ECF6",
            "gridcolor": "white",
            "gridwidth": 2,
            "linecolor": "white",
            "showbackground": true,
            "ticks": "",
            "zerolinecolor": "white"
           },
           "yaxis": {
            "backgroundcolor": "#E5ECF6",
            "gridcolor": "white",
            "gridwidth": 2,
            "linecolor": "white",
            "showbackground": true,
            "ticks": "",
            "zerolinecolor": "white"
           },
           "zaxis": {
            "backgroundcolor": "#E5ECF6",
            "gridcolor": "white",
            "gridwidth": 2,
            "linecolor": "white",
            "showbackground": true,
            "ticks": "",
            "zerolinecolor": "white"
           }
          },
          "shapedefaults": {
           "line": {
            "color": "#2a3f5f"
           }
          },
          "ternary": {
           "aaxis": {
            "gridcolor": "white",
            "linecolor": "white",
            "ticks": ""
           },
           "baxis": {
            "gridcolor": "white",
            "linecolor": "white",
            "ticks": ""
           },
           "bgcolor": "#E5ECF6",
           "caxis": {
            "gridcolor": "white",
            "linecolor": "white",
            "ticks": ""
           }
          },
          "title": {
           "x": 0.05
          },
          "xaxis": {
           "automargin": true,
           "gridcolor": "white",
           "linecolor": "white",
           "ticks": "",
           "title": {
            "standoff": 15
           },
           "zerolinecolor": "white",
           "zerolinewidth": 2
          },
          "yaxis": {
           "automargin": true,
           "gridcolor": "white",
           "linecolor": "white",
           "ticks": "",
           "title": {
            "standoff": 15
           },
           "zerolinecolor": "white",
           "zerolinewidth": 2
          }
         }
        },
        "title": {
         "text": "Optimization History Plot"
        },
        "xaxis": {
         "title": {
          "text": "Trial"
         }
        },
        "yaxis": {
         "title": {
          "text": "Objective Value"
         }
        }
       }
      }
     },
     "metadata": {},
     "output_type": "display_data"
    }
   ],
   "source": [
    "# Visualizar el historial de optimización\n",
    "plot_optimization_history(study)"
   ]
  },
  {
   "cell_type": "code",
   "execution_count": 16,
   "id": "47f4418d",
   "metadata": {},
   "outputs": [
    {
     "name": "stdout",
     "output_type": "stream",
     "text": [
      "Mejores hiperparámetros encontrados:\n",
      "{'n_estimators': 189, 'max_depth': 9, 'min_samples_split': 9, 'min_samples_leaf': 3, 'max_features': 'log2'}\n",
      "Mejor score de f1-score: 0.4500\n"
     ]
    }
   ],
   "source": [
    "print(\"Mejores hiperparámetros encontrados:\")\n",
    "print(study.best_params)\n",
    "print(f\"Mejor score de {SCORE}: {study.best_value:.4f}\")"
   ]
  },
  {
   "cell_type": "markdown",
   "id": "a5d2f75b",
   "metadata": {},
   "source": [
    "GUARDAR EN JSON"
   ]
  },
  {
   "cell_type": "code",
   "execution_count": 17,
   "id": "7cc65934",
   "metadata": {},
   "outputs": [],
   "source": [
    "# Guardar los mejores hiperparámetros y su valor\n",
    "history = []\n",
    "if os.path.exists(\"best_hyperparams.json\"):\n",
    "    try:\n",
    "        with open(\"best_hyperparams.json\", \"r\") as f:\n",
    "            history = json.load(f)\n",
    "    except (json.JSONDecodeError, ValueError):\n",
    "        history = []\n",
    "\n",
    "# Guardar ambos en un solo diccionario\n",
    "history.append({\n",
    "    \"params\": study.best_params,\n",
    "    \"value\": study.best_value\n",
    "})\n",
    "\n",
    "with open(\"best_hyperparams.json\", \"w\") as f:\n",
    "    json.dump(history, f, indent=2)"
   ]
  },
  {
   "cell_type": "markdown",
   "id": "3aa88bd9",
   "metadata": {},
   "source": [
    "CARGAR HIPERPARAMETROS DESDE JSON"
   ]
  },
  {
   "cell_type": "code",
   "execution_count": 18,
   "id": "76645b4b",
   "metadata": {},
   "outputs": [
    {
     "name": "stdout",
     "output_type": "stream",
     "text": [
      "Hiperparámetros #1: {'n_estimators': 189, 'max_depth': 9, 'min_samples_split': 9, 'min_samples_leaf': 3, 'max_features': 'log2'}, Valor: 0.45\n"
     ]
    }
   ],
   "source": [
    "# Cargar historial de hiperparámetros y valores\n",
    "with open(\"best_hyperparams.json\", \"r\") as f:\n",
    "    history = json.load(f)\n",
    "\n",
    "# Escoger el último (más reciente)\n",
    "best_params = history[-1][\"params\"]\n",
    "best_value = history[-1][\"value\"]\n",
    "\n",
    "# Si quieres ver todos:\n",
    "for i, entry in enumerate(history):\n",
    "    print(f\"Hiperparámetros #{i+1}: {entry['params']}, Valor: {entry['value']}\")\n",
    "\n",
    "# Si quieres escoger uno específico (por índice):\n",
    "# best_params = history[indice_que_quieras][\"params\"]\n",
    "# best_value = history[indice_que_quieras][\"value\"]"
   ]
  },
  {
   "cell_type": "code",
   "execution_count": 23,
   "id": "457377f8",
   "metadata": {},
   "outputs": [
    {
     "name": "stdout",
     "output_type": "stream",
     "text": [
      "RandomForest FINAL trend_changes_score:\n",
      "               precision    recall  f1-score   support\n",
      "\n",
      "       False     0.9245    0.8750    0.8991       112\n",
      "        True     0.3913    0.5294    0.4500        17\n",
      "\n",
      "    accuracy                         0.8295       129\n",
      "   macro avg     0.6579    0.7022    0.6745       129\n",
      "weighted avg     0.8543    0.8295    0.8399       129\n",
      "\n"
     ]
    }
   ],
   "source": [
    "# Entrenar modelo final con los mejores hiperparámetros\n",
    "set_seeds(SEED)\n",
    "best_params = study.best_params\n",
    "final_model = RandomForestClassifier(\n",
    "    n_estimators=best_params[\"n_estimators\"],\n",
    "    max_depth=best_params[\"max_depth\"],\n",
    "    min_samples_split=best_params[\"min_samples_split\"],\n",
    "    min_samples_leaf=best_params[\"min_samples_leaf\"],\n",
    "    max_features=best_params[\"max_features\"],\n",
    "    random_state=SEED\n",
    ")\n",
    "final_model.fit(X_train, y_train)\n",
    "y_pred_final = final_model.predict(X_val)\n",
    "print(\"RandomForest FINAL trend_changes_score:\\n\", trend_changes_score(y_val, y_pred_final))"
   ]
  },
  {
   "cell_type": "code",
   "execution_count": 26,
   "id": "5ff01aef",
   "metadata": {},
   "outputs": [
    {
     "name": "stdout",
     "output_type": "stream",
     "text": [
      "LightGBM Report:\n",
      "               precision    recall  f1-score   support\n",
      "\n",
      "          -1     0.7586    0.9167    0.8302        24\n",
      "           0     0.3333    0.4444    0.3810        18\n",
      "           1     0.9351    0.8182    0.8727        88\n",
      "\n",
      "    accuracy                         0.7846       130\n",
      "   macro avg     0.6757    0.7264    0.6946       130\n",
      "weighted avg     0.8192    0.7846    0.7968       130\n",
      "\n",
      "Balanced accuracy: 0.7264309764309765\n"
     ]
    }
   ],
   "source": [
    "# Reporte completo: precisión, recall y F1 por clase\n",
    "report = classification_report(y_val, y_pred_final, digits=4)\n",
    "print(\"LightGBM Report:\\n\", report)\n",
    "print(\"Balanced accuracy:\", balanced_accuracy_score(y_val, y_pred_final))"
   ]
  },
  {
   "cell_type": "code",
   "execution_count": 24,
   "id": "d7c636fb",
   "metadata": {},
   "outputs": [
    {
     "name": "stdout",
     "output_type": "stream",
     "text": [
      "Trend Change F1 Score:\n",
      "               precision    recall  f1-score   support\n",
      "\n",
      "       False     0.9099    0.8487    0.8783       119\n",
      "        True     0.0526    0.0909    0.0667        11\n",
      "\n",
      "    accuracy                         0.7846       130\n",
      "   macro avg     0.4813    0.4698    0.4725       130\n",
      "weighted avg     0.8374    0.7846    0.8096       130\n",
      "\n"
     ]
    }
   ],
   "source": [
    "# Obtener predicciones\n",
    "y_pred = final_model.predict(X_test)\n",
    "print(\"Trend Change F1 Score:\\n\", trend_changes_score(y_test, y_pred))"
   ]
  },
  {
   "cell_type": "code",
   "execution_count": 21,
   "id": "e101ce78",
   "metadata": {},
   "outputs": [
    {
     "name": "stdout",
     "output_type": "stream",
     "text": [
      "Elapsed time to compute the importances: 0.033 seconds\n"
     ]
    }
   ],
   "source": [
    "import time\n",
    "\n",
    "import numpy as np\n",
    "\n",
    "start_time = time.time()\n",
    "importances = final_model.feature_importances_\n",
    "std = np.std([tree.feature_importances_ for tree in final_model.estimators_], axis=0)\n",
    "elapsed_time = time.time() - start_time\n",
    "\n",
    "print(f\"Elapsed time to compute the importances: {elapsed_time:.3f} seconds\")"
   ]
  },
  {
   "cell_type": "code",
   "execution_count": 22,
   "id": "ca1b3f6b",
   "metadata": {},
   "outputs": [
    {
     "data": {
      "image/png": "[encoded data removed]",
      "text/plain": [
       "<Figure size 1500x800 with 1 Axes>"
      ]
     },
     "metadata": {},
     "output_type": "display_data"
    }
   ],
   "source": [
    "import pandas as pd\n",
    "import matplotlib.pyplot as plt\n",
    "\n",
    "forest_importances = pd.Series(importances, index=train.drop(columns=[\"date\", \"target_trend\"]).columns)\n",
    "\n",
    "fig, ax = plt.subplots(figsize=(15, 8))\n",
    "forest_importances.plot.bar(yerr=std, ax=ax)\n",
    "ax.set_title(\"Feature importances using MDI\")\n",
    "ax.set_ylabel(\"Mean decrease in impurity\")\n",
    "fig.tight_layout()"
   ]
  }
 ],
 "metadata": {
  "kernelspec": {
   "display_name": "tf_venv2 (3.10.12)",
   "language": "python",
   "name": "python3"
  },
  "language_info": {
   "codemirror_mode": {
    "name": "ipython",
    "version": 3
   },
   "file_extension": ".py",
   "mimetype": "text/x-python",
   "name": "python",
   "nbconvert_exporter": "python",
   "pygments_lexer": "ipython3",
   "version": "3.10.12"
  }
 },
 "nbformat": 4,
 "nbformat_minor": 5
}
