{
 "cells": [
  {
   "cell_type": "code",
   "execution_count": 122,
   "id": "e6d5d21b",
   "metadata": {},
   "outputs": [],
   "source": [
    "import numpy as np\n",
    "import pandas as pd\n",
    "from sklearn.ensemble import RandomForestClassifier\n",
    "from sklearn.metrics import classification_report, balanced_accuracy_score"
   ]
  },
  {
   "cell_type": "code",
   "execution_count": 123,
   "id": "4130669e",
   "metadata": {},
   "outputs": [],
   "source": [
    "def trend_changes_score(y_test: np.array, y_pred: np.array) -> float:\n",
    "    \"\"\"\n",
    "    Calculate the trend changes score based on the test and predicted values.\n",
    "    \n",
    "    Args:\n",
    "        y_test (np.array): True labels.\n",
    "        y_pred (np.array): Predicted labels.\n",
    "        \n",
    "    Returns:\n",
    "        float: The trend changes score.\n",
    "    \"\"\"\n",
    "    y_df = pd.DataFrame([y_test, y_pred]).T\n",
    "    y_df.columns = [\"y_test\", \"y_pred\"]\n",
    "    y_df[\"y_test_shifted\"] = y_df[\"y_test\"].shift(-1)\n",
    "    y_df[\"is_changed_trend_test\"] = y_df[\"y_test\"] != y_df[\"y_test_shifted\"]\n",
    "    y_df[\"y_predict_shifted\"] = y_df[\"y_pred\"].shift(-1)\n",
    "    y_df[\"is_changed_trend_predict\"] = y_df[\"y_pred\"] != y_df[\"y_predict_shifted\"]\n",
    "    return classification_report(y_df[\"is_changed_trend_test\"][:-1], y_df[\"is_changed_trend_predict\"][:-1], digits=4)"
   ]
  },
  {
   "cell_type": "code",
   "execution_count": 124,
   "id": "a73b2a56",
   "metadata": {},
   "outputs": [],
   "source": [
    "data = pd.read_csv(\"../../../data/training_set.csv\", parse_dates=['date'])"
   ]
  },
  {
   "cell_type": "code",
   "execution_count": 125,
   "id": "6e210652",
   "metadata": {},
   "outputs": [
    {
     "name": "stdout",
     "output_type": "stream",
     "text": [
      "RandomForest report:\n",
      "               precision    recall  f1-score   support\n",
      "\n",
      "          -1     0.7857    0.9167    0.8462        24\n",
      "           0     0.2041    0.5556    0.2985        18\n",
      "           1     0.9434    0.5682    0.7092        88\n",
      "\n",
      "    accuracy                         0.6308       130\n",
      "   macro avg     0.6444    0.6801    0.6180       130\n",
      "weighted avg     0.8119    0.6308    0.6776       130\n",
      "\n",
      "Balanced accuracy: 0.6801346801346803\n"
     ]
    }
   ],
   "source": [
    "X = data.drop(columns=['date', 'target_trend']).values\n",
    "y = data['target_trend'].values\n",
    "\n",
    "model = RandomForestClassifier(\n",
    "    n_estimators=200, # numero de arboles\n",
    "    max_depth=5, # profundidad maxima de cada arbol\n",
    "    random_state=42 # semilla para la aleatoriedad\n",
    ")\n",
    "model.fit(X, y)\n",
    "\n",
    "validation_set = pd.read_csv(\"../../../data/validation_set.csv\")\n",
    "x_validation = validation_set.drop(columns=['date', 'target_trend']).values\n",
    "y_validation = validation_set['target_trend'].values\n",
    "\n",
    "y_pred = model.predict(x_validation)\n",
    "\n",
    "report = classification_report(y_validation, y_pred, digits=4)\n",
    "print(f\"RandomForest report:\\n {report}\")\n",
    "print(\"Balanced accuracy:\", balanced_accuracy_score(y_validation, y_pred))"
   ]
  },
  {
   "cell_type": "code",
   "execution_count": 126,
   "id": "2045471f",
   "metadata": {},
   "outputs": [
    {
     "name": "stdout",
     "output_type": "stream",
     "text": [
      "\n",
      "RandomForest trend_changes_score:\n",
      "               precision    recall  f1-score   support\n",
      "\n",
      "       False     0.8909    0.8750    0.8829       112\n",
      "        True     0.2632    0.2941    0.2778        17\n",
      "\n",
      "    accuracy                         0.7984       129\n",
      "   macro avg     0.5770    0.5846    0.5803       129\n",
      "weighted avg     0.8082    0.7984    0.8031       129\n",
      "\n"
     ]
    }
   ],
   "source": [
    "print(\"\\nRandomForest trend_changes_score:\\n\",\n",
    "    trend_changes_score(y_test=y_validation, y_pred=y_pred))"
   ]
  }
 ],
 "metadata": {
  "kernelspec": {
   "display_name": "tf_venv2 (3.10.12)",
   "language": "python",
   "name": "python3"
  },
  "language_info": {
   "codemirror_mode": {
    "name": "ipython",
    "version": 3
   },
   "file_extension": ".py",
   "mimetype": "text/x-python",
   "name": "python",
   "nbconvert_exporter": "python",
   "pygments_lexer": "ipython3",
   "version": "3.10.12"
  }
 },
 "nbformat": 4,
 "nbformat_minor": 5
}
