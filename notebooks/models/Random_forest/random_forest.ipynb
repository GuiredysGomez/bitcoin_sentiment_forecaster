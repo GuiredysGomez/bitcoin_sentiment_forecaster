{
 "cells": [
  {
   "cell_type": "code",
   "execution_count": 10,
   "id": "e6d5d21b",
   "metadata": {},
   "outputs": [],
   "source": [
    "import numpy as np\n",
    "import random\n",
    "import optuna\n",
    "import pandas as pd\n",
    "from sklearn.ensemble import RandomForestClassifier\n",
    "from sklearn.metrics import classification_report, balanced_accuracy_score\n",
    "import json\n",
    "import os\n",
    "from optuna.visualization import plot_optimization_history"
   ]
  },
  {
   "cell_type": "code",
   "execution_count": 11,
   "id": "e8aba837",
   "metadata": {},
   "outputs": [],
   "source": [
    "SEED = 1234\n",
    " # Se puede cambiar a \"precision\" o \"recall\" o \"f1-score\"\n",
    "SCORE = \"f1-score\""
   ]
  },
  {
   "cell_type": "code",
   "execution_count": 12,
   "id": "41f03446",
   "metadata": {},
   "outputs": [],
   "source": [
    "def set_seeds(seed):\n",
    "    random.seed(seed)\n",
    "    np.random.seed(seed)"
   ]
  },
  {
   "cell_type": "code",
   "execution_count": 13,
   "id": "4130669e",
   "metadata": {},
   "outputs": [],
   "source": [
    "def get_trend_changes_report_dict(y_test: np.array, y_pred: np.array) -> float:\n",
    "    \"\"\"\n",
    "    Calculate the trend changes score based on the test and predicted values.\n",
    "    \n",
    "    Args:\n",
    "        y_test (np.array): True labels.\n",
    "        y_pred (np.array): Predicted labels.\n",
    "        \n",
    "    Returns:\n",
    "        float: The trend changes score.\n",
    "    \"\"\"\n",
    "    y_df = pd.DataFrame([y_test, y_pred]).T\n",
    "    y_df.columns = [\"y_test\", \"y_pred\"]\n",
    "    y_df[\"y_test_shifted\"] = y_df[\"y_test\"].shift(-1)\n",
    "    y_df[\"is_changed_trend_test\"] = y_df[\"y_test\"] != y_df[\"y_test_shifted\"]\n",
    "    y_df[\"y_predict_shifted\"] = y_df[\"y_pred\"].shift(-1)\n",
    "    y_df[\"is_changed_trend_predict\"] = y_df[\"y_pred\"] != y_df[\"y_predict_shifted\"]\n",
    "    return classification_report(\n",
    "        y_df[\"is_changed_trend_test\"][:-1], \n",
    "        y_df[\"is_changed_trend_predict\"][:-1], \n",
    "        digits=4,\n",
    "        output_dict=True,\n",
    "        zero_division=0\n",
    "    )\n",
    "\n",
    "\n",
    "def trend_changes_score(y_test: np.array, y_pred: np.array) -> float:\n",
    "    \"\"\"\n",
    "    Calculate the trend changes score based on the test and predicted values.\n",
    "    \n",
    "    Args:\n",
    "        y_test (np.array): True labels.\n",
    "        y_pred (np.array): Predicted labels.\n",
    "        \n",
    "    Returns:\n",
    "        float: The trend changes score.\n",
    "    \"\"\"\n",
    "    y_df = pd.DataFrame([y_test, y_pred]).T\n",
    "    y_df.columns = [\"y_test\", \"y_pred\"]\n",
    "    y_df[\"y_test_shifted\"] = y_df[\"y_test\"].shift(-1)\n",
    "    y_df[\"is_changed_trend_test\"] = y_df[\"y_test\"] != y_df[\"y_test_shifted\"]\n",
    "    y_df[\"y_predict_shifted\"] = y_df[\"y_pred\"].shift(-1)\n",
    "    y_df[\"is_changed_trend_predict\"] = y_df[\"y_pred\"] != y_df[\"y_predict_shifted\"]\n",
    "    return classification_report(y_df[\"is_changed_trend_test\"][:-1], y_df[\"is_changed_trend_predict\"][:-1], digits=4)\n",
    "\n",
    "def trend_changes_true(y_test: np.array, y_pred: np.array) -> float:\n",
    "    \"\"\"\n",
    "    Calculate the trend changes score based on the test and predicted values.\n",
    "    \n",
    "    Args:\n",
    "        y_test (np.array): True labels.\n",
    "        y_pred (np.array): Predicted labels.\n",
    "        \n",
    "    Returns:\n",
    "        float: The trend changes score.\n",
    "    \"\"\"\n",
    "    y_df = pd.DataFrame([y_test, y_pred]).T\n",
    "    y_df.columns = [\"y_test\", \"y_pred\"]\n",
    "    y_df[\"y_test_shifted\"] = y_df[\"y_test\"].shift(-1)\n",
    "    y_df[\"is_changed_trend_test\"] = y_df[\"y_test\"] != y_df[\"y_test_shifted\"]\n",
    "    y_df[\"y_predict_shifted\"] = y_df[\"y_pred\"].shift(-1)\n",
    "    y_df[\"is_changed_trend_predict\"] = y_df[\"y_pred\"] != y_df[\"y_predict_shifted\"]\n",
    "    report = classification_report(\n",
    "        y_df[\"is_changed_trend_test\"][:-1],\n",
    "        y_df[\"is_changed_trend_predict\"][:-1],\n",
    "        output_dict=True,\n",
    "        zero_division=0\n",
    "    )\n",
    "    return report[\"True\"][SCORE]"
   ]
  },
  {
   "cell_type": "code",
   "execution_count": 14,
   "id": "ba6aa13e",
   "metadata": {},
   "outputs": [],
   "source": [
    "# Cargar datos\n",
    "train = pd.read_csv(\"../../../data/post_cleaning/training_set.csv\", parse_dates=[\"date\"])\n",
    "val = pd.read_csv(\"../../../data/post_cleaning/validation_set.csv\", parse_dates=[\"date\"])\n",
    "test_set = pd.read_csv(\"../../../data/post_cleaning/test_set.csv\", parse_dates=['date'])\n",
    "X_train = train.drop(columns=[\"date\", \"target_trend\"]).values\n",
    "y_train = train[\"target_trend\"].values\n",
    "X_val = val.drop(columns=[\"date\", \"target_trend\"]).values\n",
    "y_val = val[\"target_trend\"].values\n",
    "X_test = test_set.drop(columns=['target_trend','date']).values\n",
    "y_test = test_set['target_trend'].values"
   ]
  },
  {
   "cell_type": "code",
   "execution_count": 15,
   "id": "80477ea8",
   "metadata": {},
   "outputs": [],
   "source": [
    "def objective(trial):\n",
    "    set_seeds(SEED)  # Fijar semilla antes de cada trial\n",
    "    n_estimators = trial.suggest_int(\"n_estimators\", 50, 400)\n",
    "    max_depth = trial.suggest_int(\"max_depth\", 2, 20)\n",
    "    min_samples_split = trial.suggest_int(\"min_samples_split\", 2, 10)\n",
    "    min_samples_leaf = trial.suggest_int(\"min_samples_leaf\", 1, 10)\n",
    "    max_features = trial.suggest_categorical(\"max_features\", [\"sqrt\", \"log2\"])\n",
    "\n",
    "    model = RandomForestClassifier(\n",
    "        n_estimators=n_estimators,\n",
    "        max_depth=max_depth,\n",
    "        min_samples_split=min_samples_split,\n",
    "        min_samples_leaf=min_samples_leaf,\n",
    "        max_features=max_features,\n",
    "        random_state=SEED\n",
    "    )\n",
    "    model.fit(X_train, y_train)\n",
    "    y_pred = model.predict(X_val)\n",
    "    score = trend_changes_true(y_val, y_pred)\n",
    "    return score"
   ]
  },
  {
   "cell_type": "code",
   "execution_count": 16,
   "id": "b8a56175",
   "metadata": {},
   "outputs": [
    {
     "name": "stderr",
     "output_type": "stream",
     "text": [
      "[I 2025-08-24 15:33:30,050] A new study created in memory with name: no-name-64fd8521-0e62-4b84-a821-d6a1b956fe61\n",
      "[I 2025-08-24 15:33:30,582] Trial 0 finished with value: 0.3050847457627119 and parameters: {'n_estimators': 117, 'max_depth': 13, 'min_samples_split': 5, 'min_samples_leaf': 8, 'max_features': 'sqrt'}. Best is trial 0 with value: 0.3050847457627119.\n",
      "[I 2025-08-24 15:33:31,131] Trial 1 finished with value: 0.14035087719298245 and parameters: {'n_estimators': 147, 'max_depth': 17, 'min_samples_split': 10, 'min_samples_leaf': 9, 'max_features': 'log2'}. Best is trial 0 with value: 0.3050847457627119.\n",
      "[I 2025-08-24 15:33:32,506] Trial 2 finished with value: 0.2807017543859649 and parameters: {'n_estimators': 289, 'max_depth': 15, 'min_samples_split': 5, 'min_samples_leaf': 6, 'max_features': 'sqrt'}. Best is trial 0 with value: 0.3050847457627119.\n",
      "[I 2025-08-24 15:33:31,197] Trial 3 finished with value: 0.2807017543859649 and parameters: {'n_estimators': 321, 'max_depth': 18, 'min_samples_split': 5, 'min_samples_leaf': 7, 'max_features': 'log2'}. Best is trial 0 with value: 0.3050847457627119.\n",
      "[I 2025-08-24 15:33:32,550] Trial 4 finished with value: 0.24561403508771928 and parameters: {'n_estimators': 377, 'max_depth': 14, 'min_samples_split': 5, 'min_samples_leaf': 8, 'max_features': 'log2'}. Best is trial 0 with value: 0.3050847457627119.\n",
      "[I 2025-08-24 15:33:34,011] Trial 5 finished with value: 0.27586206896551724 and parameters: {'n_estimators': 355, 'max_depth': 10, 'min_samples_split': 9, 'min_samples_leaf': 2, 'max_features': 'log2'}. Best is trial 0 with value: 0.3050847457627119.\n",
      "[I 2025-08-24 15:33:34,460] Trial 6 finished with value: 0.2033898305084746 and parameters: {'n_estimators': 126, 'max_depth': 19, 'min_samples_split': 5, 'min_samples_leaf': 10, 'max_features': 'log2'}. Best is trial 0 with value: 0.3050847457627119.\n",
      "[I 2025-08-24 15:33:34,720] Trial 7 finished with value: 0.21818181818181817 and parameters: {'n_estimators': 66, 'max_depth': 14, 'min_samples_split': 7, 'min_samples_leaf': 6, 'max_features': 'log2'}. Best is trial 0 with value: 0.3050847457627119.\n",
      "[I 2025-08-24 15:33:35,504] Trial 8 finished with value: 0.23728813559322035 and parameters: {'n_estimators': 165, 'max_depth': 11, 'min_samples_split': 3, 'min_samples_leaf': 7, 'max_features': 'sqrt'}. Best is trial 0 with value: 0.3050847457627119.\n",
      "[I 2025-08-24 15:33:36,662] Trial 9 finished with value: 0.21052631578947367 and parameters: {'n_estimators': 266, 'max_depth': 19, 'min_samples_split': 9, 'min_samples_leaf': 10, 'max_features': 'sqrt'}. Best is trial 0 with value: 0.3050847457627119.\n",
      "[I 2025-08-24 15:33:37,359] Trial 10 finished with value: 0.23728813559322035 and parameters: {'n_estimators': 208, 'max_depth': 4, 'min_samples_split': 2, 'min_samples_leaf': 3, 'max_features': 'sqrt'}. Best is trial 0 with value: 0.3050847457627119.\n",
      "[I 2025-08-24 15:33:38,583] Trial 11 finished with value: 0.24561403508771928 and parameters: {'n_estimators': 273, 'max_depth': 7, 'min_samples_split': 7, 'min_samples_leaf': 4, 'max_features': 'sqrt'}. Best is trial 0 with value: 0.3050847457627119.\n",
      "[I 2025-08-24 15:33:38,884] Trial 12 finished with value: 0.23728813559322035 and parameters: {'n_estimators': 57, 'max_depth': 14, 'min_samples_split': 4, 'min_samples_leaf': 5, 'max_features': 'sqrt'}. Best is trial 0 with value: 0.3050847457627119.\n",
      "[I 2025-08-24 15:33:39,999] Trial 13 finished with value: 0.24561403508771928 and parameters: {'n_estimators': 238, 'max_depth': 9, 'min_samples_split': 7, 'min_samples_leaf': 6, 'max_features': 'sqrt'}. Best is trial 0 with value: 0.3050847457627119.\n",
      "[I 2025-08-24 15:33:41,360] Trial 14 finished with value: 0.3157894736842105 and parameters: {'n_estimators': 300, 'max_depth': 15, 'min_samples_split': 6, 'min_samples_leaf': 8, 'max_features': 'sqrt'}. Best is trial 14 with value: 0.3157894736842105.\n",
      "[I 2025-08-24 15:33:42,189] Trial 15 finished with value: 0.2711864406779661 and parameters: {'n_estimators': 195, 'max_depth': 7, 'min_samples_split': 6, 'min_samples_leaf': 8, 'max_features': 'sqrt'}. Best is trial 14 with value: 0.3157894736842105.\n",
      "[I 2025-08-24 15:33:42,687] Trial 16 finished with value: 0.29508196721311475 and parameters: {'n_estimators': 105, 'max_depth': 16, 'min_samples_split': 3, 'min_samples_leaf': 8, 'max_features': 'sqrt'}. Best is trial 14 with value: 0.3157894736842105.\n",
      "[I 2025-08-24 15:33:44,453] Trial 17 finished with value: 0.2903225806451613 and parameters: {'n_estimators': 323, 'max_depth': 12, 'min_samples_split': 8, 'min_samples_leaf': 1, 'max_features': 'sqrt'}. Best is trial 14 with value: 0.3157894736842105.\n",
      "[I 2025-08-24 15:33:44,685] Trial 18 finished with value: 0.17543859649122806 and parameters: {'n_estimators': 94, 'max_depth': 2, 'min_samples_split': 6, 'min_samples_leaf': 9, 'max_features': 'sqrt'}. Best is trial 14 with value: 0.3157894736842105.\n",
      "[I 2025-08-24 15:33:46,424] Trial 19 finished with value: 0.24561403508771928 and parameters: {'n_estimators': 399, 'max_depth': 12, 'min_samples_split': 4, 'min_samples_leaf': 9, 'max_features': 'sqrt'}. Best is trial 14 with value: 0.3157894736842105.\n",
      "[I 2025-08-24 15:33:47,259] Trial 20 finished with value: 0.24561403508771928 and parameters: {'n_estimators': 188, 'max_depth': 8, 'min_samples_split': 4, 'min_samples_leaf': 7, 'max_features': 'sqrt'}. Best is trial 14 with value: 0.3157894736842105.\n",
      "[I 2025-08-24 15:33:47,764] Trial 21 finished with value: 0.29508196721311475 and parameters: {'n_estimators': 109, 'max_depth': 16, 'min_samples_split': 2, 'min_samples_leaf': 8, 'max_features': 'sqrt'}. Best is trial 14 with value: 0.3157894736842105.\n",
      "[I 2025-08-24 15:33:48,178] Trial 22 finished with value: 0.26229508196721313 and parameters: {'n_estimators': 86, 'max_depth': 20, 'min_samples_split': 3, 'min_samples_leaf': 8, 'max_features': 'sqrt'}. Best is trial 14 with value: 0.3157894736842105.\n",
      "[I 2025-08-24 15:33:48,878] Trial 23 finished with value: 0.2807017543859649 and parameters: {'n_estimators': 141, 'max_depth': 16, 'min_samples_split': 3, 'min_samples_leaf': 5, 'max_features': 'sqrt'}. Best is trial 14 with value: 0.3157894736842105.\n",
      "[I 2025-08-24 15:33:49,995] Trial 24 finished with value: 0.17543859649122806 and parameters: {'n_estimators': 245, 'max_depth': 13, 'min_samples_split': 6, 'min_samples_leaf': 10, 'max_features': 'sqrt'}. Best is trial 14 with value: 0.3157894736842105.\n",
      "[I 2025-08-24 15:33:50,802] Trial 25 finished with value: 0.2807017543859649 and parameters: {'n_estimators': 171, 'max_depth': 17, 'min_samples_split': 4, 'min_samples_leaf': 7, 'max_features': 'sqrt'}. Best is trial 14 with value: 0.3157894736842105.\n",
      "[I 2025-08-24 15:33:52,236] Trial 26 finished with value: 0.3157894736842105 and parameters: {'n_estimators': 311, 'max_depth': 15, 'min_samples_split': 6, 'min_samples_leaf': 9, 'max_features': 'sqrt'}. Best is trial 14 with value: 0.3157894736842105.\n",
      "[I 2025-08-24 15:33:53,806] Trial 27 finished with value: 0.3157894736842105 and parameters: {'n_estimators': 321, 'max_depth': 11, 'min_samples_split': 8, 'min_samples_leaf': 9, 'max_features': 'sqrt'}. Best is trial 14 with value: 0.3157894736842105.\n",
      "[I 2025-08-24 15:33:55,230] Trial 28 finished with value: 0.3157894736842105 and parameters: {'n_estimators': 322, 'max_depth': 11, 'min_samples_split': 9, 'min_samples_leaf': 9, 'max_features': 'sqrt'}. Best is trial 14 with value: 0.3157894736842105.\n",
      "[I 2025-08-24 15:33:56,300] Trial 29 finished with value: 0.23728813559322035 and parameters: {'n_estimators': 298, 'max_depth': 5, 'min_samples_split': 8, 'min_samples_leaf': 10, 'max_features': 'sqrt'}. Best is trial 14 with value: 0.3157894736842105.\n",
      "[I 2025-08-24 15:33:57,885] Trial 30 finished with value: 0.24561403508771928 and parameters: {'n_estimators': 350, 'max_depth': 12, 'min_samples_split': 8, 'min_samples_leaf': 9, 'max_features': 'sqrt'}. Best is trial 14 with value: 0.3157894736842105.\n",
      "[I 2025-08-24 15:33:59,354] Trial 31 finished with value: 0.3157894736842105 and parameters: {'n_estimators': 324, 'max_depth': 10, 'min_samples_split': 10, 'min_samples_leaf': 9, 'max_features': 'sqrt'}. Best is trial 14 with value: 0.3157894736842105.\n",
      "[I 2025-08-24 15:34:00,934] Trial 32 finished with value: 0.3157894736842105 and parameters: {'n_estimators': 348, 'max_depth': 11, 'min_samples_split': 9, 'min_samples_leaf': 9, 'max_features': 'sqrt'}. Best is trial 14 with value: 0.3157894736842105.\n",
      "[I 2025-08-24 15:34:02,264] Trial 33 finished with value: 0.17543859649122806 and parameters: {'n_estimators': 301, 'max_depth': 13, 'min_samples_split': 7, 'min_samples_leaf': 10, 'max_features': 'sqrt'}. Best is trial 14 with value: 0.3157894736842105.\n",
      "[I 2025-08-24 15:34:00,824] Trial 34 finished with value: 0.21052631578947367 and parameters: {'n_estimators': 276, 'max_depth': 15, 'min_samples_split': 6, 'min_samples_leaf': 9, 'max_features': 'log2'}. Best is trial 14 with value: 0.3157894736842105.\n",
      "[I 2025-08-24 15:34:02,213] Trial 35 finished with value: 0.24561403508771928 and parameters: {'n_estimators': 308, 'max_depth': 9, 'min_samples_split': 10, 'min_samples_leaf': 8, 'max_features': 'sqrt'}. Best is trial 14 with value: 0.3157894736842105.\n",
      "[I 2025-08-24 15:34:03,595] Trial 36 finished with value: 0.2807017543859649 and parameters: {'n_estimators': 379, 'max_depth': 15, 'min_samples_split': 8, 'min_samples_leaf': 7, 'max_features': 'log2'}. Best is trial 14 with value: 0.3157894736842105.\n",
      "[I 2025-08-24 15:34:05,046] Trial 37 finished with value: 0.3157894736842105 and parameters: {'n_estimators': 334, 'max_depth': 10, 'min_samples_split': 9, 'min_samples_leaf': 9, 'max_features': 'sqrt'}. Best is trial 14 with value: 0.3157894736842105.\n",
      "[I 2025-08-24 15:34:05,951] Trial 38 finished with value: 0.17543859649122806 and parameters: {'n_estimators': 257, 'max_depth': 14, 'min_samples_split': 7, 'min_samples_leaf': 10, 'max_features': 'log2'}. Best is trial 14 with value: 0.3157894736842105.\n",
      "[I 2025-08-24 15:34:07,261] Trial 39 finished with value: 0.3157894736842105 and parameters: {'n_estimators': 290, 'max_depth': 18, 'min_samples_split': 5, 'min_samples_leaf': 8, 'max_features': 'sqrt'}. Best is trial 14 with value: 0.3157894736842105.\n",
      "[I 2025-08-24 15:34:08,663] Trial 40 finished with value: 0.18181818181818182 and parameters: {'n_estimators': 372, 'max_depth': 12, 'min_samples_split': 10, 'min_samples_leaf': 6, 'max_features': 'log2'}. Best is trial 14 with value: 0.3157894736842105.\n",
      "[I 2025-08-24 15:34:10,091] Trial 41 finished with value: 0.3157894736842105 and parameters: {'n_estimators': 332, 'max_depth': 10, 'min_samples_split': 10, 'min_samples_leaf': 9, 'max_features': 'sqrt'}. Best is trial 14 with value: 0.3157894736842105.\n",
      "[I 2025-08-24 15:34:11,444] Trial 42 finished with value: 0.3157894736842105 and parameters: {'n_estimators': 313, 'max_depth': 10, 'min_samples_split': 10, 'min_samples_leaf': 9, 'max_features': 'sqrt'}. Best is trial 14 with value: 0.3157894736842105.\n",
      "[I 2025-08-24 15:34:12,993] Trial 43 finished with value: 0.24561403508771928 and parameters: {'n_estimators': 360, 'max_depth': 11, 'min_samples_split': 9, 'min_samples_leaf': 10, 'max_features': 'sqrt'}. Best is trial 14 with value: 0.3157894736842105.\n",
      "[I 2025-08-24 15:34:14,210] Trial 44 finished with value: 0.23728813559322035 and parameters: {'n_estimators': 281, 'max_depth': 8, 'min_samples_split': 5, 'min_samples_leaf': 8, 'max_features': 'sqrt'}. Best is trial 14 with value: 0.3157894736842105.\n",
      "[I 2025-08-24 15:34:15,705] Trial 45 finished with value: 0.2807017543859649 and parameters: {'n_estimators': 338, 'max_depth': 13, 'min_samples_split': 8, 'min_samples_leaf': 9, 'max_features': 'sqrt'}. Best is trial 14 with value: 0.3157894736842105.\n",
      "[I 2025-08-24 15:34:17,174] Trial 46 finished with value: 0.3050847457627119 and parameters: {'n_estimators': 319, 'max_depth': 9, 'min_samples_split': 9, 'min_samples_leaf': 7, 'max_features': 'sqrt'}. Best is trial 14 with value: 0.3157894736842105.\n",
      "[I 2025-08-24 15:34:18,319] Trial 47 finished with value: 0.21052631578947367 and parameters: {'n_estimators': 261, 'max_depth': 15, 'min_samples_split': 10, 'min_samples_leaf': 10, 'max_features': 'sqrt'}. Best is trial 14 with value: 0.3157894736842105.\n",
      "[I 2025-08-24 15:34:19,412] Trial 48 finished with value: 0.24561403508771928 and parameters: {'n_estimators': 230, 'max_depth': 11, 'min_samples_split': 6, 'min_samples_leaf': 8, 'max_features': 'sqrt'}. Best is trial 14 with value: 0.3157894736842105.\n",
      "[I 2025-08-24 15:34:20,657] Trial 49 finished with value: 0.21818181818181817 and parameters: {'n_estimators': 395, 'max_depth': 6, 'min_samples_split': 7, 'min_samples_leaf': 9, 'max_features': 'log2'}. Best is trial 14 with value: 0.3157894736842105.\n",
      "[I 2025-08-24 15:34:22,222] Trial 50 finished with value: 0.21052631578947367 and parameters: {'n_estimators': 367, 'max_depth': 17, 'min_samples_split': 9, 'min_samples_leaf': 10, 'max_features': 'sqrt'}. Best is trial 14 with value: 0.3157894736842105.\n",
      "[I 2025-08-24 15:34:23,725] Trial 51 finished with value: 0.3157894736842105 and parameters: {'n_estimators': 346, 'max_depth': 11, 'min_samples_split': 9, 'min_samples_leaf': 9, 'max_features': 'sqrt'}. Best is trial 14 with value: 0.3157894736842105.\n",
      "[I 2025-08-24 15:34:25,170] Trial 52 finished with value: 0.2807017543859649 and parameters: {'n_estimators': 318, 'max_depth': 13, 'min_samples_split': 9, 'min_samples_leaf': 9, 'max_features': 'sqrt'}. Best is trial 14 with value: 0.3157894736842105.\n",
      "[I 2025-08-24 15:34:26,732] Trial 53 finished with value: 0.26666666666666666 and parameters: {'n_estimators': 329, 'max_depth': 8, 'min_samples_split': 8, 'min_samples_leaf': 3, 'max_features': 'sqrt'}. Best is trial 14 with value: 0.3157894736842105.\n",
      "[I 2025-08-24 15:34:28,141] Trial 54 finished with value: 0.3157894736842105 and parameters: {'n_estimators': 290, 'max_depth': 10, 'min_samples_split': 10, 'min_samples_leaf': 8, 'max_features': 'sqrt'}. Best is trial 14 with value: 0.3157894736842105.\n",
      "[I 2025-08-24 15:34:30,037] Trial 55 finished with value: 0.2807017543859649 and parameters: {'n_estimators': 384, 'max_depth': 12, 'min_samples_split': 9, 'min_samples_leaf': 9, 'max_features': 'sqrt'}. Best is trial 14 with value: 0.3157894736842105.\n",
      "[I 2025-08-24 15:34:31,604] Trial 56 finished with value: 0.3389830508474576 and parameters: {'n_estimators': 349, 'max_depth': 14, 'min_samples_split': 6, 'min_samples_leaf': 8, 'max_features': 'sqrt'}. Best is trial 56 with value: 0.3389830508474576.\n",
      "[I 2025-08-24 15:34:30,789] Trial 57 finished with value: 0.24561403508771928 and parameters: {'n_estimators': 358, 'max_depth': 14, 'min_samples_split': 6, 'min_samples_leaf': 6, 'max_features': 'sqrt'}. Best is trial 56 with value: 0.3389830508474576.\n",
      "[I 2025-08-24 15:34:32,191] Trial 58 finished with value: 0.24561403508771928 and parameters: {'n_estimators': 310, 'max_depth': 14, 'min_samples_split': 6, 'min_samples_leaf': 7, 'max_features': 'sqrt'}. Best is trial 56 with value: 0.3389830508474576.\n",
      "[I 2025-08-24 15:34:33,697] Trial 59 finished with value: 0.3389830508474576 and parameters: {'n_estimators': 342, 'max_depth': 16, 'min_samples_split': 7, 'min_samples_leaf': 8, 'max_features': 'sqrt'}. Best is trial 56 with value: 0.3389830508474576.\n",
      "[I 2025-08-24 15:34:35,252] Trial 60 finished with value: 0.24561403508771928 and parameters: {'n_estimators': 342, 'max_depth': 16, 'min_samples_split': 7, 'min_samples_leaf': 7, 'max_features': 'sqrt'}. Best is trial 56 with value: 0.3389830508474576.\n",
      "[I 2025-08-24 15:34:36,586] Trial 61 finished with value: 0.3508771929824561 and parameters: {'n_estimators': 301, 'max_depth': 17, 'min_samples_split': 7, 'min_samples_leaf': 8, 'max_features': 'sqrt'}. Best is trial 61 with value: 0.3508771929824561.\n",
      "[I 2025-08-24 15:34:37,949] Trial 62 finished with value: 0.3157894736842105 and parameters: {'n_estimators': 300, 'max_depth': 18, 'min_samples_split': 7, 'min_samples_leaf': 8, 'max_features': 'sqrt'}. Best is trial 61 with value: 0.3508771929824561.\n",
      "[I 2025-08-24 15:34:39,079] Trial 63 finished with value: 0.2807017543859649 and parameters: {'n_estimators': 250, 'max_depth': 17, 'min_samples_split': 6, 'min_samples_leaf': 8, 'max_features': 'sqrt'}. Best is trial 61 with value: 0.3508771929824561.\n",
      "[I 2025-08-24 15:34:40,710] Trial 64 finished with value: 0.3157894736842105 and parameters: {'n_estimators': 362, 'max_depth': 17, 'min_samples_split': 5, 'min_samples_leaf': 8, 'max_features': 'sqrt'}. Best is trial 61 with value: 0.3508771929824561.\n",
      "[I 2025-08-24 15:34:42,022] Trial 65 finished with value: 0.24561403508771928 and parameters: {'n_estimators': 285, 'max_depth': 16, 'min_samples_split': 7, 'min_samples_leaf': 7, 'max_features': 'sqrt'}. Best is trial 61 with value: 0.3508771929824561.\n",
      "[I 2025-08-24 15:34:43,002] Trial 66 finished with value: 0.2807017543859649 and parameters: {'n_estimators': 217, 'max_depth': 18, 'min_samples_split': 5, 'min_samples_leaf': 8, 'max_features': 'sqrt'}. Best is trial 61 with value: 0.3508771929824561.\n",
      "[I 2025-08-24 15:34:44,271] Trial 67 finished with value: 0.2807017543859649 and parameters: {'n_estimators': 269, 'max_depth': 15, 'min_samples_split': 8, 'min_samples_leaf': 6, 'max_features': 'sqrt'}. Best is trial 61 with value: 0.3508771929824561.\n",
      "[I 2025-08-24 15:34:45,467] Trial 68 finished with value: 0.21052631578947367 and parameters: {'n_estimators': 305, 'max_depth': 19, 'min_samples_split': 7, 'min_samples_leaf': 5, 'max_features': 'log2'}. Best is trial 61 with value: 0.3508771929824561.\n",
      "[I 2025-08-24 15:34:47,320] Trial 69 finished with value: 0.3793103448275862 and parameters: {'n_estimators': 326, 'max_depth': 15, 'min_samples_split': 6, 'min_samples_leaf': 1, 'max_features': 'sqrt'}. Best is trial 69 with value: 0.3793103448275862.\n",
      "[I 2025-08-24 15:34:49,233] Trial 70 finished with value: 0.3389830508474576 and parameters: {'n_estimators': 339, 'max_depth': 20, 'min_samples_split': 6, 'min_samples_leaf': 1, 'max_features': 'sqrt'}. Best is trial 69 with value: 0.3793103448275862.\n",
      "[I 2025-08-24 15:34:51,143] Trial 71 finished with value: 0.3389830508474576 and parameters: {'n_estimators': 338, 'max_depth': 20, 'min_samples_split': 6, 'min_samples_leaf': 1, 'max_features': 'sqrt'}. Best is trial 69 with value: 0.3793103448275862.\n",
      "[I 2025-08-24 15:34:53,123] Trial 72 finished with value: 0.3389830508474576 and parameters: {'n_estimators': 350, 'max_depth': 20, 'min_samples_split': 6, 'min_samples_leaf': 1, 'max_features': 'sqrt'}. Best is trial 69 with value: 0.3793103448275862.\n",
      "[I 2025-08-24 15:34:55,172] Trial 73 finished with value: 0.3389830508474576 and parameters: {'n_estimators': 353, 'max_depth': 20, 'min_samples_split': 6, 'min_samples_leaf': 1, 'max_features': 'sqrt'}. Best is trial 69 with value: 0.3793103448275862.\n",
      "[I 2025-08-24 15:34:57,355] Trial 74 finished with value: 0.3492063492063492 and parameters: {'n_estimators': 387, 'max_depth': 20, 'min_samples_split': 6, 'min_samples_leaf': 1, 'max_features': 'sqrt'}. Best is trial 69 with value: 0.3793103448275862.\n",
      "[I 2025-08-24 15:34:59,484] Trial 75 finished with value: 0.2711864406779661 and parameters: {'n_estimators': 392, 'max_depth': 20, 'min_samples_split': 6, 'min_samples_leaf': 2, 'max_features': 'sqrt'}. Best is trial 69 with value: 0.3793103448275862.\n",
      "[I 2025-08-24 15:35:01,642] Trial 76 finished with value: 0.23333333333333334 and parameters: {'n_estimators': 383, 'max_depth': 19, 'min_samples_split': 5, 'min_samples_leaf': 1, 'max_features': 'sqrt'}. Best is trial 69 with value: 0.3793103448275862.\n",
      "[I 2025-08-24 15:35:00,972] Trial 77 finished with value: 0.23728813559322035 and parameters: {'n_estimators': 339, 'max_depth': 19, 'min_samples_split': 6, 'min_samples_leaf': 2, 'max_features': 'sqrt'}. Best is trial 69 with value: 0.3793103448275862.\n",
      "[I 2025-08-24 15:35:03,138] Trial 78 finished with value: 0.3225806451612903 and parameters: {'n_estimators': 370, 'max_depth': 20, 'min_samples_split': 5, 'min_samples_leaf': 1, 'max_features': 'sqrt'}. Best is trial 69 with value: 0.3793103448275862.\n",
      "[I 2025-08-24 15:35:05,018] Trial 79 finished with value: 0.3448275862068966 and parameters: {'n_estimators': 352, 'max_depth': 20, 'min_samples_split': 7, 'min_samples_leaf': 2, 'max_features': 'sqrt'}. Best is trial 69 with value: 0.3793103448275862.\n",
      "[I 2025-08-24 15:35:06,998] Trial 80 finished with value: 0.3448275862068966 and parameters: {'n_estimators': 374, 'max_depth': 19, 'min_samples_split': 7, 'min_samples_leaf': 2, 'max_features': 'sqrt'}. Best is trial 69 with value: 0.3793103448275862.\n",
      "[I 2025-08-24 15:35:09,028] Trial 81 finished with value: 0.3448275862068966 and parameters: {'n_estimators': 375, 'max_depth': 18, 'min_samples_split': 7, 'min_samples_leaf': 2, 'max_features': 'sqrt'}. Best is trial 69 with value: 0.3793103448275862.\n",
      "[I 2025-08-24 15:35:11,117] Trial 82 finished with value: 0.3448275862068966 and parameters: {'n_estimators': 389, 'max_depth': 18, 'min_samples_split': 7, 'min_samples_leaf': 2, 'max_features': 'sqrt'}. Best is trial 69 with value: 0.3793103448275862.\n",
      "[I 2025-08-24 15:35:13,125] Trial 83 finished with value: 0.3050847457627119 and parameters: {'n_estimators': 391, 'max_depth': 18, 'min_samples_split': 7, 'min_samples_leaf': 3, 'max_features': 'sqrt'}. Best is trial 69 with value: 0.3793103448275862.\n",
      "[I 2025-08-24 15:35:15,138] Trial 84 finished with value: 0.3448275862068966 and parameters: {'n_estimators': 380, 'max_depth': 19, 'min_samples_split': 7, 'min_samples_leaf': 2, 'max_features': 'sqrt'}. Best is trial 69 with value: 0.3793103448275862.\n",
      "[I 2025-08-24 15:35:17,169] Trial 85 finished with value: 0.3103448275862069 and parameters: {'n_estimators': 377, 'max_depth': 19, 'min_samples_split': 7, 'min_samples_leaf': 2, 'max_features': 'sqrt'}. Best is trial 69 with value: 0.3793103448275862.\n",
      "[I 2025-08-24 15:35:18,842] Trial 86 finished with value: 0.2857142857142857 and parameters: {'n_estimators': 400, 'max_depth': 19, 'min_samples_split': 7, 'min_samples_leaf': 2, 'max_features': 'log2'}. Best is trial 69 with value: 0.3793103448275862.\n",
      "[I 2025-08-24 15:35:20,839] Trial 87 finished with value: 0.3050847457627119 and parameters: {'n_estimators': 385, 'max_depth': 18, 'min_samples_split': 7, 'min_samples_leaf': 3, 'max_features': 'sqrt'}. Best is trial 69 with value: 0.3793103448275862.\n",
      "[I 2025-08-24 15:35:22,889] Trial 88 finished with value: 0.3050847457627119 and parameters: {'n_estimators': 373, 'max_depth': 17, 'min_samples_split': 8, 'min_samples_leaf': 2, 'max_features': 'sqrt'}. Best is trial 69 with value: 0.3793103448275862.\n",
      "[I 2025-08-24 15:35:24,798] Trial 89 finished with value: 0.27586206896551724 and parameters: {'n_estimators': 361, 'max_depth': 19, 'min_samples_split': 7, 'min_samples_leaf': 3, 'max_features': 'sqrt'}. Best is trial 69 with value: 0.3793103448275862.\n",
      "[I 2025-08-24 15:35:26,867] Trial 90 finished with value: 0.3050847457627119 and parameters: {'n_estimators': 387, 'max_depth': 18, 'min_samples_split': 8, 'min_samples_leaf': 2, 'max_features': 'sqrt'}. Best is trial 69 with value: 0.3793103448275862.\n",
      "[I 2025-08-24 15:35:28,742] Trial 91 finished with value: 0.2807017543859649 and parameters: {'n_estimators': 368, 'max_depth': 18, 'min_samples_split': 7, 'min_samples_leaf': 4, 'max_features': 'sqrt'}. Best is trial 69 with value: 0.3793103448275862.\n",
      "[I 2025-08-24 15:35:30,775] Trial 92 finished with value: 0.3103448275862069 and parameters: {'n_estimators': 377, 'max_depth': 16, 'min_samples_split': 7, 'min_samples_leaf': 2, 'max_features': 'sqrt'}. Best is trial 69 with value: 0.3793103448275862.\n",
      "[I 2025-08-24 15:35:30,044] Trial 93 finished with value: 0.3157894736842105 and parameters: {'n_estimators': 358, 'max_depth': 17, 'min_samples_split': 7, 'min_samples_leaf': 4, 'max_features': 'sqrt'}. Best is trial 69 with value: 0.3793103448275862.\n",
      "[I 2025-08-24 15:35:31,983] Trial 94 finished with value: 0.3448275862068966 and parameters: {'n_estimators': 365, 'max_depth': 19, 'min_samples_split': 7, 'min_samples_leaf': 2, 'max_features': 'sqrt'}. Best is trial 69 with value: 0.3793103448275862.\n",
      "[I 2025-08-24 15:35:34,095] Trial 95 finished with value: 0.3448275862068966 and parameters: {'n_estimators': 400, 'max_depth': 19, 'min_samples_split': 7, 'min_samples_leaf': 2, 'max_features': 'sqrt'}. Best is trial 69 with value: 0.3793103448275862.\n",
      "[I 2025-08-24 15:35:36,200] Trial 96 finished with value: 0.3050847457627119 and parameters: {'n_estimators': 399, 'max_depth': 19, 'min_samples_split': 8, 'min_samples_leaf': 2, 'max_features': 'sqrt'}. Best is trial 69 with value: 0.3793103448275862.\n",
      "[I 2025-08-24 15:35:38,260] Trial 97 finished with value: 0.3448275862068966 and parameters: {'n_estimators': 391, 'max_depth': 19, 'min_samples_split': 7, 'min_samples_leaf': 2, 'max_features': 'sqrt'}. Best is trial 69 with value: 0.3793103448275862.\n",
      "[I 2025-08-24 15:35:40,280] Trial 98 finished with value: 0.25806451612903225 and parameters: {'n_estimators': 366, 'max_depth': 20, 'min_samples_split': 7, 'min_samples_leaf': 1, 'max_features': 'sqrt'}. Best is trial 69 with value: 0.3793103448275862.\n",
      "[I 2025-08-24 15:35:41,801] Trial 99 finished with value: 0.2807017543859649 and parameters: {'n_estimators': 381, 'max_depth': 18, 'min_samples_split': 8, 'min_samples_leaf': 3, 'max_features': 'log2'}. Best is trial 69 with value: 0.3793103448275862.\n",
      "[I 2025-08-24 15:35:43,758] Trial 100 finished with value: 0.3448275862068966 and parameters: {'n_estimators': 375, 'max_depth': 19, 'min_samples_split': 7, 'min_samples_leaf': 2, 'max_features': 'sqrt'}. Best is trial 69 with value: 0.3793103448275862.\n",
      "[I 2025-08-24 15:35:45,802] Trial 101 finished with value: 0.3103448275862069 and parameters: {'n_estimators': 388, 'max_depth': 19, 'min_samples_split': 7, 'min_samples_leaf': 2, 'max_features': 'sqrt'}. Best is trial 69 with value: 0.3793103448275862.\n",
      "[I 2025-08-24 15:35:47,861] Trial 102 finished with value: 0.3448275862068966 and parameters: {'n_estimators': 394, 'max_depth': 20, 'min_samples_split': 7, 'min_samples_leaf': 2, 'max_features': 'sqrt'}. Best is trial 69 with value: 0.3793103448275862.\n",
      "[I 2025-08-24 15:35:49,932] Trial 103 finished with value: 0.26666666666666666 and parameters: {'n_estimators': 366, 'max_depth': 18, 'min_samples_split': 7, 'min_samples_leaf': 1, 'max_features': 'sqrt'}. Best is trial 69 with value: 0.3793103448275862.\n",
      "[I 2025-08-24 15:35:51,978] Trial 104 finished with value: 0.3050847457627119 and parameters: {'n_estimators': 400, 'max_depth': 19, 'min_samples_split': 7, 'min_samples_leaf': 3, 'max_features': 'sqrt'}. Best is trial 69 with value: 0.3793103448275862.\n",
      "[I 2025-08-24 15:35:54,027] Trial 105 finished with value: 0.23728813559322035 and parameters: {'n_estimators': 380, 'max_depth': 19, 'min_samples_split': 6, 'min_samples_leaf': 2, 'max_features': 'sqrt'}. Best is trial 69 with value: 0.3793103448275862.\n",
      "[I 2025-08-24 15:35:56,023] Trial 106 finished with value: 0.30303030303030304 and parameters: {'n_estimators': 354, 'max_depth': 17, 'min_samples_split': 8, 'min_samples_leaf': 1, 'max_features': 'sqrt'}. Best is trial 69 with value: 0.3793103448275862.\n",
      "[I 2025-08-24 15:35:58,080] Trial 107 finished with value: 0.3448275862068966 and parameters: {'n_estimators': 388, 'max_depth': 20, 'min_samples_split': 7, 'min_samples_leaf': 2, 'max_features': 'sqrt'}. Best is trial 69 with value: 0.3793103448275862.\n",
      "[I 2025-08-24 15:35:59,853] Trial 108 finished with value: 0.3728813559322034 and parameters: {'n_estimators': 326, 'max_depth': 18, 'min_samples_split': 6, 'min_samples_leaf': 3, 'max_features': 'sqrt'}. Best is trial 69 with value: 0.3793103448275862.\n",
      "[I 2025-08-24 15:36:01,678] Trial 109 finished with value: 0.3728813559322034 and parameters: {'n_estimators': 324, 'max_depth': 18, 'min_samples_split': 6, 'min_samples_leaf': 3, 'max_features': 'sqrt'}. Best is trial 69 with value: 0.3793103448275862.\n",
      "[I 2025-08-24 15:36:00,978] Trial 110 finished with value: 0.3157894736842105 and parameters: {'n_estimators': 328, 'max_depth': 18, 'min_samples_split': 6, 'min_samples_leaf': 4, 'max_features': 'sqrt'}. Best is trial 69 with value: 0.3793103448275862.\n",
      "[I 2025-08-24 15:36:01,787] Trial 111 finished with value: 0.14035087719298245 and parameters: {'n_estimators': 346, 'max_depth': 2, 'min_samples_split': 6, 'min_samples_leaf': 3, 'max_features': 'sqrt'}. Best is trial 69 with value: 0.3793103448275862.\n",
      "[I 2025-08-24 15:36:03,495] Trial 112 finished with value: 0.3728813559322034 and parameters: {'n_estimators': 316, 'max_depth': 17, 'min_samples_split': 6, 'min_samples_leaf': 3, 'max_features': 'sqrt'}. Best is trial 69 with value: 0.3793103448275862.\n",
      "[I 2025-08-24 15:36:05,069] Trial 113 finished with value: 0.36065573770491804 and parameters: {'n_estimators': 295, 'max_depth': 17, 'min_samples_split': 6, 'min_samples_leaf': 3, 'max_features': 'sqrt'}. Best is trial 69 with value: 0.3793103448275862.\n",
      "[I 2025-08-24 15:36:06,732] Trial 114 finished with value: 0.36065573770491804 and parameters: {'n_estimators': 312, 'max_depth': 16, 'min_samples_split': 6, 'min_samples_leaf': 3, 'max_features': 'sqrt'}. Best is trial 69 with value: 0.3793103448275862.\n",
      "[I 2025-08-24 15:36:08,448] Trial 115 finished with value: 0.2711864406779661 and parameters: {'n_estimators': 326, 'max_depth': 16, 'min_samples_split': 6, 'min_samples_leaf': 4, 'max_features': 'sqrt'}. Best is trial 69 with value: 0.3793103448275862.\n",
      "[I 2025-08-24 15:36:10,172] Trial 116 finished with value: 0.3728813559322034 and parameters: {'n_estimators': 314, 'max_depth': 17, 'min_samples_split': 6, 'min_samples_leaf': 3, 'max_features': 'sqrt'}. Best is trial 69 with value: 0.3793103448275862.\n",
      "[I 2025-08-24 15:36:11,848] Trial 117 finished with value: 0.3728813559322034 and parameters: {'n_estimators': 293, 'max_depth': 17, 'min_samples_split': 6, 'min_samples_leaf': 3, 'max_features': 'sqrt'}. Best is trial 69 with value: 0.3793103448275862.\n",
      "[I 2025-08-24 15:36:13,410] Trial 118 finished with value: 0.3728813559322034 and parameters: {'n_estimators': 294, 'max_depth': 16, 'min_samples_split': 6, 'min_samples_leaf': 3, 'max_features': 'sqrt'}. Best is trial 69 with value: 0.3793103448275862.\n",
      "[I 2025-08-24 15:36:14,680] Trial 119 finished with value: 0.27586206896551724 and parameters: {'n_estimators': 293, 'max_depth': 17, 'min_samples_split': 5, 'min_samples_leaf': 3, 'max_features': 'log2'}. Best is trial 69 with value: 0.3793103448275862.\n",
      "[I 2025-08-24 15:36:16,265] Trial 120 finished with value: 0.2711864406779661 and parameters: {'n_estimators': 313, 'max_depth': 16, 'min_samples_split': 6, 'min_samples_leaf': 4, 'max_features': 'sqrt'}. Best is trial 69 with value: 0.3793103448275862.\n",
      "[I 2025-08-24 15:36:17,989] Trial 121 finished with value: 0.36065573770491804 and parameters: {'n_estimators': 295, 'max_depth': 17, 'min_samples_split': 6, 'min_samples_leaf': 3, 'max_features': 'sqrt'}. Best is trial 69 with value: 0.3793103448275862.\n",
      "[I 2025-08-24 15:36:19,629] Trial 122 finished with value: 0.32786885245901637 and parameters: {'n_estimators': 279, 'max_depth': 17, 'min_samples_split': 6, 'min_samples_leaf': 3, 'max_features': 'sqrt'}. Best is trial 69 with value: 0.3793103448275862.\n",
      "[I 2025-08-24 15:36:21,241] Trial 123 finished with value: 0.3728813559322034 and parameters: {'n_estimators': 296, 'max_depth': 15, 'min_samples_split': 6, 'min_samples_leaf': 3, 'max_features': 'sqrt'}. Best is trial 69 with value: 0.3793103448275862.\n",
      "[I 2025-08-24 15:36:22,960] Trial 124 finished with value: 0.3728813559322034 and parameters: {'n_estimators': 296, 'max_depth': 15, 'min_samples_split': 6, 'min_samples_leaf': 3, 'max_features': 'sqrt'}. Best is trial 69 with value: 0.3793103448275862.\n",
      "[I 2025-08-24 15:36:24,581] Trial 125 finished with value: 0.3728813559322034 and parameters: {'n_estimators': 295, 'max_depth': 15, 'min_samples_split': 5, 'min_samples_leaf': 3, 'max_features': 'sqrt'}. Best is trial 69 with value: 0.3793103448275862.\n",
      "[I 2025-08-24 15:36:26,239] Trial 126 finished with value: 0.3728813559322034 and parameters: {'n_estimators': 295, 'max_depth': 15, 'min_samples_split': 5, 'min_samples_leaf': 3, 'max_features': 'sqrt'}. Best is trial 69 with value: 0.3793103448275862.\n",
      "[I 2025-08-24 15:36:27,984] Trial 127 finished with value: 0.3728813559322034 and parameters: {'n_estimators': 316, 'max_depth': 14, 'min_samples_split': 5, 'min_samples_leaf': 3, 'max_features': 'sqrt'}. Best is trial 69 with value: 0.3793103448275862.\n",
      "[I 2025-08-24 15:36:29,504] Trial 128 finished with value: 0.3389830508474576 and parameters: {'n_estimators': 274, 'max_depth': 15, 'min_samples_split': 5, 'min_samples_leaf': 3, 'max_features': 'sqrt'}. Best is trial 69 with value: 0.3793103448275862.\n",
      "[I 2025-08-24 15:36:31,181] Trial 129 finished with value: 0.3157894736842105 and parameters: {'n_estimators': 319, 'max_depth': 15, 'min_samples_split': 4, 'min_samples_leaf': 4, 'max_features': 'sqrt'}. Best is trial 69 with value: 0.3793103448275862.\n",
      "[I 2025-08-24 15:36:30,232] Trial 130 finished with value: 0.3389830508474576 and parameters: {'n_estimators': 287, 'max_depth': 14, 'min_samples_split': 4, 'min_samples_leaf': 3, 'max_features': 'sqrt'}. Best is trial 69 with value: 0.3793103448275862.\n",
      "[I 2025-08-24 15:36:31,790] Trial 131 finished with value: 0.3389830508474576 and parameters: {'n_estimators': 305, 'max_depth': 15, 'min_samples_split': 5, 'min_samples_leaf': 3, 'max_features': 'sqrt'}. Best is trial 69 with value: 0.3793103448275862.\n",
      "[I 2025-08-24 15:36:33,406] Trial 132 finished with value: 0.4067796610169492 and parameters: {'n_estimators': 313, 'max_depth': 16, 'min_samples_split': 5, 'min_samples_leaf': 3, 'max_features': 'sqrt'}. Best is trial 132 with value: 0.4067796610169492.\n",
      "[I 2025-08-24 15:36:35,122] Trial 133 finished with value: 0.3728813559322034 and parameters: {'n_estimators': 299, 'max_depth': 14, 'min_samples_split': 5, 'min_samples_leaf': 3, 'max_features': 'sqrt'}. Best is trial 132 with value: 0.4067796610169492.\n",
      "[I 2025-08-24 15:36:36,656] Trial 134 finished with value: 0.3389830508474576 and parameters: {'n_estimators': 284, 'max_depth': 14, 'min_samples_split': 5, 'min_samples_leaf': 3, 'max_features': 'sqrt'}. Best is trial 132 with value: 0.4067796610169492.\n",
      "[I 2025-08-24 15:36:38,062] Trial 135 finished with value: 0.2807017543859649 and parameters: {'n_estimators': 265, 'max_depth': 15, 'min_samples_split': 5, 'min_samples_leaf': 4, 'max_features': 'sqrt'}. Best is trial 132 with value: 0.4067796610169492.\n",
      "[I 2025-08-24 15:36:39,686] Trial 136 finished with value: 0.3389830508474576 and parameters: {'n_estimators': 306, 'max_depth': 16, 'min_samples_split': 5, 'min_samples_leaf': 3, 'max_features': 'sqrt'}. Best is trial 132 with value: 0.4067796610169492.\n",
      "[I 2025-08-24 15:36:41,492] Trial 137 finished with value: 0.3728813559322034 and parameters: {'n_estimators': 316, 'max_depth': 13, 'min_samples_split': 4, 'min_samples_leaf': 3, 'max_features': 'sqrt'}. Best is trial 132 with value: 0.4067796610169492.\n",
      "[I 2025-08-24 15:36:43,335] Trial 138 finished with value: 0.36065573770491804 and parameters: {'n_estimators': 330, 'max_depth': 14, 'min_samples_split': 5, 'min_samples_leaf': 3, 'max_features': 'sqrt'}. Best is trial 132 with value: 0.4067796610169492.\n",
      "[I 2025-08-24 15:36:45,015] Trial 139 finished with value: 0.3157894736842105 and parameters: {'n_estimators': 301, 'max_depth': 15, 'min_samples_split': 5, 'min_samples_leaf': 4, 'max_features': 'sqrt'}. Best is trial 132 with value: 0.4067796610169492.\n",
      "[I 2025-08-24 15:36:46,814] Trial 140 finished with value: 0.36065573770491804 and parameters: {'n_estimators': 323, 'max_depth': 15, 'min_samples_split': 5, 'min_samples_leaf': 3, 'max_features': 'sqrt'}. Best is trial 132 with value: 0.4067796610169492.\n",
      "[I 2025-08-24 15:36:48,851] Trial 141 finished with value: 0.36065573770491804 and parameters: {'n_estimators': 317, 'max_depth': 14, 'min_samples_split': 4, 'min_samples_leaf': 3, 'max_features': 'sqrt'}. Best is trial 132 with value: 0.4067796610169492.\n",
      "[I 2025-08-24 15:36:50,857] Trial 142 finished with value: 0.3728813559322034 and parameters: {'n_estimators': 311, 'max_depth': 13, 'min_samples_split': 4, 'min_samples_leaf': 3, 'max_features': 'sqrt'}. Best is trial 132 with value: 0.4067796610169492.\n",
      "[I 2025-08-24 15:36:52,901] Trial 143 finished with value: 0.3728813559322034 and parameters: {'n_estimators': 291, 'max_depth': 13, 'min_samples_split': 6, 'min_samples_leaf': 3, 'max_features': 'sqrt'}. Best is trial 132 with value: 0.4067796610169492.\n",
      "[I 2025-08-24 15:36:54,773] Trial 144 finished with value: 0.2807017543859649 and parameters: {'n_estimators': 301, 'max_depth': 16, 'min_samples_split': 5, 'min_samples_leaf': 4, 'max_features': 'sqrt'}. Best is trial 132 with value: 0.4067796610169492.\n",
      "[I 2025-08-24 15:36:56,786] Trial 145 finished with value: 0.3728813559322034 and parameters: {'n_estimators': 316, 'max_depth': 15, 'min_samples_split': 2, 'min_samples_leaf': 3, 'max_features': 'sqrt'}. Best is trial 132 with value: 0.4067796610169492.\n",
      "[I 2025-08-24 15:36:58,496] Trial 146 finished with value: 0.3103448275862069 and parameters: {'n_estimators': 334, 'max_depth': 16, 'min_samples_split': 6, 'min_samples_leaf': 3, 'max_features': 'log2'}. Best is trial 132 with value: 0.4067796610169492.\n",
      "[I 2025-08-24 15:37:00,337] Trial 147 finished with value: 0.3728813559322034 and parameters: {'n_estimators': 307, 'max_depth': 14, 'min_samples_split': 3, 'min_samples_leaf': 3, 'max_features': 'sqrt'}. Best is trial 132 with value: 0.4067796610169492.\n",
      "[I 2025-08-24 15:36:59,562] Trial 148 finished with value: 0.2807017543859649 and parameters: {'n_estimators': 280, 'max_depth': 15, 'min_samples_split': 4, 'min_samples_leaf': 4, 'max_features': 'sqrt'}. Best is trial 132 with value: 0.4067796610169492.\n",
      "[I 2025-08-24 15:37:01,480] Trial 149 finished with value: 0.36065573770491804 and parameters: {'n_estimators': 321, 'max_depth': 14, 'min_samples_split': 6, 'min_samples_leaf': 3, 'max_features': 'sqrt'}. Best is trial 132 with value: 0.4067796610169492.\n",
      "[I 2025-08-24 15:37:03,126] Trial 150 finished with value: 0.3157894736842105 and parameters: {'n_estimators': 296, 'max_depth': 16, 'min_samples_split': 5, 'min_samples_leaf': 5, 'max_features': 'sqrt'}. Best is trial 132 with value: 0.4067796610169492.\n",
      "[I 2025-08-24 15:37:05,054] Trial 151 finished with value: 0.3728813559322034 and parameters: {'n_estimators': 311, 'max_depth': 13, 'min_samples_split': 4, 'min_samples_leaf': 3, 'max_features': 'sqrt'}. Best is trial 132 with value: 0.4067796610169492.\n",
      "[I 2025-08-24 15:37:06,848] Trial 152 finished with value: 0.3728813559322034 and parameters: {'n_estimators': 308, 'max_depth': 13, 'min_samples_split': 4, 'min_samples_leaf': 3, 'max_features': 'sqrt'}. Best is trial 132 with value: 0.4067796610169492.\n",
      "[I 2025-08-24 15:37:08,678] Trial 153 finished with value: 0.3050847457627119 and parameters: {'n_estimators': 325, 'max_depth': 12, 'min_samples_split': 5, 'min_samples_leaf': 3, 'max_features': 'sqrt'}. Best is trial 132 with value: 0.4067796610169492.\n",
      "[I 2025-08-24 15:37:10,574] Trial 154 finished with value: 0.3728813559322034 and parameters: {'n_estimators': 333, 'max_depth': 15, 'min_samples_split': 4, 'min_samples_leaf': 3, 'max_features': 'sqrt'}. Best is trial 132 with value: 0.4067796610169492.\n",
      "[I 2025-08-24 15:37:12,286] Trial 155 finished with value: 0.3728813559322034 and parameters: {'n_estimators': 288, 'max_depth': 13, 'min_samples_split': 6, 'min_samples_leaf': 3, 'max_features': 'sqrt'}. Best is trial 132 with value: 0.4067796610169492.\n",
      "[I 2025-08-24 15:37:14,060] Trial 156 finished with value: 0.2807017543859649 and parameters: {'n_estimators': 315, 'max_depth': 16, 'min_samples_split': 3, 'min_samples_leaf': 4, 'max_features': 'sqrt'}. Best is trial 132 with value: 0.4067796610169492.\n",
      "[I 2025-08-24 15:37:15,740] Trial 157 finished with value: 0.3389830508474576 and parameters: {'n_estimators': 298, 'max_depth': 15, 'min_samples_split': 6, 'min_samples_leaf': 3, 'max_features': 'sqrt'}. Best is trial 132 with value: 0.4067796610169492.\n",
      "[I 2025-08-24 15:37:17,270] Trial 158 finished with value: 0.3389830508474576 and parameters: {'n_estimators': 272, 'max_depth': 14, 'min_samples_split': 5, 'min_samples_leaf': 3, 'max_features': 'sqrt'}. Best is trial 132 with value: 0.4067796610169492.\n",
      "[I 2025-08-24 15:37:18,988] Trial 159 finished with value: 0.3389830508474576 and parameters: {'n_estimators': 307, 'max_depth': 17, 'min_samples_split': 6, 'min_samples_leaf': 3, 'max_features': 'sqrt'}. Best is trial 132 with value: 0.4067796610169492.\n",
      "[I 2025-08-24 15:37:20,786] Trial 160 finished with value: 0.2711864406779661 and parameters: {'n_estimators': 323, 'max_depth': 16, 'min_samples_split': 6, 'min_samples_leaf': 4, 'max_features': 'sqrt'}. Best is trial 132 with value: 0.4067796610169492.\n",
      "[I 2025-08-24 15:37:22,410] Trial 161 finished with value: 0.3728813559322034 and parameters: {'n_estimators': 286, 'max_depth': 13, 'min_samples_split': 6, 'min_samples_leaf': 3, 'max_features': 'sqrt'}. Best is trial 132 with value: 0.4067796610169492.\n",
      "[I 2025-08-24 15:37:24,048] Trial 162 finished with value: 0.2711864406779661 and parameters: {'n_estimators': 291, 'max_depth': 12, 'min_samples_split': 6, 'min_samples_leaf': 3, 'max_features': 'sqrt'}. Best is trial 132 with value: 0.4067796610169492.\n",
      "[I 2025-08-24 15:37:25,710] Trial 163 finished with value: 0.3728813559322034 and parameters: {'n_estimators': 301, 'max_depth': 13, 'min_samples_split': 6, 'min_samples_leaf': 3, 'max_features': 'sqrt'}. Best is trial 132 with value: 0.4067796610169492.\n",
      "[I 2025-08-24 15:37:27,386] Trial 164 finished with value: 0.3728813559322034 and parameters: {'n_estimators': 314, 'max_depth': 14, 'min_samples_split': 6, 'min_samples_leaf': 3, 'max_features': 'sqrt'}. Best is trial 132 with value: 0.4067796610169492.\n",
      "[I 2025-08-24 15:37:28,962] Trial 165 finished with value: 0.3728813559322034 and parameters: {'n_estimators': 293, 'max_depth': 13, 'min_samples_split': 5, 'min_samples_leaf': 3, 'max_features': 'sqrt'}. Best is trial 132 with value: 0.4067796610169492.\n",
      "[I 2025-08-24 15:37:30,354] Trial 166 finished with value: 0.32786885245901637 and parameters: {'n_estimators': 258, 'max_depth': 14, 'min_samples_split': 6, 'min_samples_leaf': 3, 'max_features': 'sqrt'}. Best is trial 132 with value: 0.4067796610169492.\n",
      "[I 2025-08-24 15:37:29,461] Trial 167 finished with value: 0.2711864406779661 and parameters: {'n_estimators': 279, 'max_depth': 12, 'min_samples_split': 6, 'min_samples_leaf': 3, 'max_features': 'sqrt'}. Best is trial 132 with value: 0.4067796610169492.\n",
      "[I 2025-08-24 15:37:31,113] Trial 168 finished with value: 0.3389830508474576 and parameters: {'n_estimators': 304, 'max_depth': 15, 'min_samples_split': 5, 'min_samples_leaf': 3, 'max_features': 'sqrt'}. Best is trial 132 with value: 0.4067796610169492.\n",
      "[I 2025-08-24 15:37:32,988] Trial 169 finished with value: 0.36065573770491804 and parameters: {'n_estimators': 330, 'max_depth': 15, 'min_samples_split': 3, 'min_samples_leaf': 3, 'max_features': 'sqrt'}. Best is trial 132 with value: 0.4067796610169492.\n",
      "[I 2025-08-24 15:37:34,378] Trial 170 finished with value: 0.24561403508771928 and parameters: {'n_estimators': 319, 'max_depth': 17, 'min_samples_split': 6, 'min_samples_leaf': 4, 'max_features': 'log2'}. Best is trial 132 with value: 0.4067796610169492.\n",
      "[I 2025-08-24 15:37:36,051] Trial 171 finished with value: 0.36065573770491804 and parameters: {'n_estimators': 314, 'max_depth': 15, 'min_samples_split': 2, 'min_samples_leaf': 3, 'max_features': 'sqrt'}. Best is trial 132 with value: 0.4067796610169492.\n",
      "[I 2025-08-24 15:37:37,755] Trial 172 finished with value: 0.32786885245901637 and parameters: {'n_estimators': 310, 'max_depth': 16, 'min_samples_split': 2, 'min_samples_leaf': 3, 'max_features': 'sqrt'}. Best is trial 132 with value: 0.4067796610169492.\n",
      "[I 2025-08-24 15:37:39,386] Trial 173 finished with value: 0.3728813559322034 and parameters: {'n_estimators': 295, 'max_depth': 14, 'min_samples_split': 6, 'min_samples_leaf': 3, 'max_features': 'sqrt'}. Best is trial 132 with value: 0.4067796610169492.\n",
      "[I 2025-08-24 15:37:41,135] Trial 174 finished with value: 0.3728813559322034 and parameters: {'n_estimators': 318, 'max_depth': 15, 'min_samples_split': 5, 'min_samples_leaf': 3, 'max_features': 'sqrt'}. Best is trial 132 with value: 0.4067796610169492.\n",
      "[I 2025-08-24 15:37:42,992] Trial 175 finished with value: 0.36065573770491804 and parameters: {'n_estimators': 336, 'max_depth': 16, 'min_samples_split': 3, 'min_samples_leaf': 3, 'max_features': 'sqrt'}. Best is trial 132 with value: 0.4067796610169492.\n",
      "[I 2025-08-24 15:37:43,958] Trial 176 finished with value: 0.3389830508474576 and parameters: {'n_estimators': 177, 'max_depth': 15, 'min_samples_split': 6, 'min_samples_leaf': 3, 'max_features': 'sqrt'}. Best is trial 132 with value: 0.4067796610169492.\n",
      "[I 2025-08-24 15:37:45,691] Trial 177 finished with value: 0.36065573770491804 and parameters: {'n_estimators': 325, 'max_depth': 16, 'min_samples_split': 6, 'min_samples_leaf': 3, 'max_features': 'sqrt'}. Best is trial 132 with value: 0.4067796610169492.\n",
      "[I 2025-08-24 15:37:47,238] Trial 178 finished with value: 0.3157894736842105 and parameters: {'n_estimators': 301, 'max_depth': 14, 'min_samples_split': 2, 'min_samples_leaf': 4, 'max_features': 'sqrt'}. Best is trial 132 with value: 0.4067796610169492.\n",
      "[I 2025-08-24 15:37:48,787] Trial 179 finished with value: 0.3728813559322034 and parameters: {'n_estimators': 285, 'max_depth': 17, 'min_samples_split': 5, 'min_samples_leaf': 3, 'max_features': 'sqrt'}. Best is trial 132 with value: 0.4067796610169492.\n",
      "[I 2025-08-24 15:37:49,088] Trial 180 finished with value: 0.2807017543859649 and parameters: {'n_estimators': 50, 'max_depth': 13, 'min_samples_split': 5, 'min_samples_leaf': 3, 'max_features': 'sqrt'}. Best is trial 132 with value: 0.4067796610169492.\n",
      "[I 2025-08-24 15:37:50,701] Trial 181 finished with value: 0.3728813559322034 and parameters: {'n_estimators': 308, 'max_depth': 14, 'min_samples_split': 3, 'min_samples_leaf': 3, 'max_features': 'sqrt'}. Best is trial 132 with value: 0.4067796610169492.\n",
      "[I 2025-08-24 15:37:52,303] Trial 182 finished with value: 0.3389830508474576 and parameters: {'n_estimators': 306, 'max_depth': 14, 'min_samples_split': 2, 'min_samples_leaf': 3, 'max_features': 'sqrt'}. Best is trial 132 with value: 0.4067796610169492.\n",
      "[I 2025-08-24 15:37:54,018] Trial 183 finished with value: 0.3728813559322034 and parameters: {'n_estimators': 315, 'max_depth': 15, 'min_samples_split': 4, 'min_samples_leaf': 3, 'max_features': 'sqrt'}. Best is trial 132 with value: 0.4067796610169492.\n",
      "[I 2025-08-24 15:37:54,835] Trial 184 finished with value: 0.23728813559322035 and parameters: {'n_estimators': 291, 'max_depth': 3, 'min_samples_split': 3, 'min_samples_leaf': 3, 'max_features': 'sqrt'}. Best is trial 132 with value: 0.4067796610169492.\n",
      "[I 2025-08-24 15:37:56,595] Trial 185 finished with value: 0.3728813559322034 and parameters: {'n_estimators': 328, 'max_depth': 13, 'min_samples_split': 3, 'min_samples_leaf': 3, 'max_features': 'sqrt'}. Best is trial 132 with value: 0.4067796610169492.\n",
      "[I 2025-08-24 15:37:58,305] Trial 186 finished with value: 0.3728813559322034 and parameters: {'n_estimators': 300, 'max_depth': 14, 'min_samples_split': 4, 'min_samples_leaf': 3, 'max_features': 'sqrt'}. Best is trial 132 with value: 0.4067796610169492.\n",
      "[I 2025-08-24 15:37:59,925] Trial 187 finished with value: 0.2807017543859649 and parameters: {'n_estimators': 309, 'max_depth': 17, 'min_samples_split': 6, 'min_samples_leaf': 4, 'max_features': 'sqrt'}. Best is trial 132 with value: 0.4067796610169492.\n",
      "[I 2025-08-24 15:37:59,115] Trial 188 finished with value: 0.36065573770491804 and parameters: {'n_estimators': 320, 'max_depth': 15, 'min_samples_split': 5, 'min_samples_leaf': 3, 'max_features': 'sqrt'}. Best is trial 132 with value: 0.4067796610169492.\n",
      "[I 2025-08-24 15:38:00,667] Trial 189 finished with value: 0.36065573770491804 and parameters: {'n_estimators': 296, 'max_depth': 16, 'min_samples_split': 6, 'min_samples_leaf': 3, 'max_features': 'sqrt'}. Best is trial 132 with value: 0.4067796610169492.\n",
      "[I 2025-08-24 15:38:02,322] Trial 190 finished with value: 0.36065573770491804 and parameters: {'n_estimators': 313, 'max_depth': 14, 'min_samples_split': 6, 'min_samples_leaf': 3, 'max_features': 'sqrt'}. Best is trial 132 with value: 0.4067796610169492.\n",
      "[I 2025-08-24 15:38:03,952] Trial 191 finished with value: 0.2711864406779661 and parameters: {'n_estimators': 304, 'max_depth': 12, 'min_samples_split': 4, 'min_samples_leaf': 3, 'max_features': 'sqrt'}. Best is trial 132 with value: 0.4067796610169492.\n",
      "[I 2025-08-24 15:38:04,748] Trial 192 finished with value: 0.3389830508474576 and parameters: {'n_estimators': 141, 'max_depth': 13, 'min_samples_split': 4, 'min_samples_leaf': 3, 'max_features': 'sqrt'}. Best is trial 132 with value: 0.4067796610169492.\n",
      "[I 2025-08-24 15:38:06,406] Trial 193 finished with value: 0.3728813559322034 and parameters: {'n_estimators': 312, 'max_depth': 13, 'min_samples_split': 4, 'min_samples_leaf': 3, 'max_features': 'sqrt'}. Best is trial 132 with value: 0.4067796610169492.\n",
      "[I 2025-08-24 15:38:08,129] Trial 194 finished with value: 0.36065573770491804 and parameters: {'n_estimators': 323, 'max_depth': 15, 'min_samples_split': 6, 'min_samples_leaf': 3, 'max_features': 'sqrt'}. Best is trial 132 with value: 0.4067796610169492.\n",
      "[I 2025-08-24 15:38:09,740] Trial 195 finished with value: 0.3389830508474576 and parameters: {'n_estimators': 289, 'max_depth': 14, 'min_samples_split': 4, 'min_samples_leaf': 3, 'max_features': 'sqrt'}. Best is trial 132 with value: 0.4067796610169492.\n",
      "[I 2025-08-24 15:38:11,636] Trial 196 finished with value: 0.3728813559322034 and parameters: {'n_estimators': 342, 'max_depth': 18, 'min_samples_split': 5, 'min_samples_leaf': 3, 'max_features': 'sqrt'}. Best is trial 132 with value: 0.4067796610169492.\n",
      "[I 2025-08-24 15:38:13,501] Trial 197 finished with value: 0.24561403508771928 and parameters: {'n_estimators': 332, 'max_depth': 13, 'min_samples_split': 6, 'min_samples_leaf': 2, 'max_features': 'sqrt'}. Best is trial 132 with value: 0.4067796610169492.\n",
      "[I 2025-08-24 15:38:15,199] Trial 198 finished with value: 0.32786885245901637 and parameters: {'n_estimators': 308, 'max_depth': 16, 'min_samples_split': 5, 'min_samples_leaf': 3, 'max_features': 'sqrt'}. Best is trial 132 with value: 0.4067796610169492.\n",
      "[I 2025-08-24 15:38:16,111] Trial 199 finished with value: 0.3 and parameters: {'n_estimators': 207, 'max_depth': 15, 'min_samples_split': 6, 'min_samples_leaf': 3, 'max_features': 'log2'}. Best is trial 132 with value: 0.4067796610169492.\n"
     ]
    }
   ],
   "source": [
    "set_seeds(SEED)\n",
    "study = optuna.create_study(\n",
    "    direction=\"maximize\", \n",
    "    sampler=optuna.samplers.TPESampler(seed=SEED))\n",
    "study.optimize(objective, n_trials=200)"
   ]
  },
  {
   "cell_type": "code",
   "execution_count": 17,
   "id": "2c1af027",
   "metadata": {},
   "outputs": [
    {
     "data": {
      "application/vnd.plotly.v1+json": {
       "config": {
        "plotlyServerURL": "https://plot.ly"
       },
       "data": [
        {
         "mode": "markers",
         "name": "Objective Value",
         "type": "scatter",
         "x": [
          0,
          1,
          2,
          3,
          4,
          5,
          6,
          7,
          8,
          9,
          10,
          11,
          12,
          13,
          14,
          15,
          16,
          17,
          18,
          19,
          20,
          21,
          22,
          23,
          24,
          25,
          26,
          27,
          28,
          29,
          30,
          31,
          32,
          33,
          34,
          35,
          36,
          37,
          38,
          39,
          40,
          41,
          42,
          43,
          44,
          45,
          46,
          47,
          48,
          49,
          50,
          51,
          52,
          53,
          54,
          55,
          56,
          57,
          58,
          59,
          60,
          61,
          62,
          63,
          64,
          65,
          66,
          67,
          68,
          69,
          70,
          71,
          72,
          73,
          74,
          75,
          76,
          77,
          78,
          79,
          80,
          81,
          82,
          83,
          84,
          85,
          86,
          87,
          88,
          89,
          90,
          91,
          92,
          93,
          94,
          95,
          96,
          97,
          98,
          99,
          100,
          101,
          102,
          103,
          104,
          105,
          106,
          107,
          108,
          109,
          110,
          111,
          112,
          113,
          114,
          115,
          116,
          117,
          118,
          119,
          120,
          121,
          122,
          123,
          124,
          125,
          126,
          127,
          128,
          129,
          130,
          131,
          132,
          133,
          134,
          135,
          136,
          137,
          138,
          139,
          140,
          141,
          142,
          143,
          144,
          145,
          146,
          147,
          148,
          149,
          150,
          151,
          152,
          153,
          154,
          155,
          156,
          157,
          158,
          159,
          160,
          161,
          162,
          163,
          164,
          165,
          166,
          167,
          168,
          169,
          170,
          171,
          172,
          173,
          174,
          175,
          176,
          177,
          178,
          179,
          180,
          181,
          182,
          183,
          184,
          185,
          186,
          187,
          188,
          189,
          190,
          191,
          192,
          193,
          194,
          195,
          196,
          197,
          198,
          199
         ],
         "y": [
          0.3050847457627119,
          0.14035087719298245,
          0.2807017543859649,
          0.2807017543859649,
          0.24561403508771928,
          0.27586206896551724,
          0.2033898305084746,
          0.21818181818181817,
          0.23728813559322035,
          0.21052631578947367,
          0.23728813559322035,
          0.24561403508771928,
          0.23728813559322035,
          0.24561403508771928,
          0.3157894736842105,
          0.2711864406779661,
          0.29508196721311475,
          0.2903225806451613,
          0.17543859649122806,
          0.24561403508771928,
          0.24561403508771928,
          0.29508196721311475,
          0.26229508196721313,
          0.2807017543859649,
          0.17543859649122806,
          0.2807017543859649,
          0.3157894736842105,
          0.3157894736842105,
          0.3157894736842105,
          0.23728813559322035,
          0.24561403508771928,
          0.3157894736842105,
          0.3157894736842105,
          0.17543859649122806,
          0.21052631578947367,
          0.24561403508771928,
          0.2807017543859649,
          0.3157894736842105,
          0.17543859649122806,
          0.3157894736842105,
          0.18181818181818182,
          0.3157894736842105,
          0.3157894736842105,
          0.24561403508771928,
          0.23728813559322035,
          0.2807017543859649,
          0.3050847457627119,
          0.21052631578947367,
          0.24561403508771928,
          0.21818181818181817,
          0.21052631578947367,
          0.3157894736842105,
          0.2807017543859649,
          0.26666666666666666,
          0.3157894736842105,
          0.2807017543859649,
          0.3389830508474576,
          0.24561403508771928,
          0.24561403508771928,
          0.3389830508474576,
          0.24561403508771928,
          0.3508771929824561,
          0.3157894736842105,
          0.2807017543859649,
          0.3157894736842105,
          0.24561403508771928,
          0.2807017543859649,
          0.2807017543859649,
          0.21052631578947367,
          0.3793103448275862,
          0.3389830508474576,
          0.3389830508474576,
          0.3389830508474576,
          0.3389830508474576,
          0.3492063492063492,
          0.2711864406779661,
          0.23333333333333334,
          0.23728813559322035,
          0.3225806451612903,
          0.3448275862068966,
          0.3448275862068966,
          0.3448275862068966,
          0.3448275862068966,
          0.3050847457627119,
          0.3448275862068966,
          0.3103448275862069,
          0.2857142857142857,
          0.3050847457627119,
          0.3050847457627119,
          0.27586206896551724,
          0.3050847457627119,
          0.2807017543859649,
          0.3103448275862069,
          0.3157894736842105,
          0.3448275862068966,
          0.3448275862068966,
          0.3050847457627119,
          0.3448275862068966,
          0.25806451612903225,
          0.2807017543859649,
          0.3448275862068966,
          0.3103448275862069,
          0.3448275862068966,
          0.26666666666666666,
          0.3050847457627119,
          0.23728813559322035,
          0.30303030303030304,
          0.3448275862068966,
          0.3728813559322034,
          0.3728813559322034,
          0.3157894736842105,
          0.14035087719298245,
          0.3728813559322034,
          0.36065573770491804,
          0.36065573770491804,
          0.2711864406779661,
          0.3728813559322034,
          0.3728813559322034,
          0.3728813559322034,
          0.27586206896551724,
          0.2711864406779661,
          0.36065573770491804,
          0.32786885245901637,
          0.3728813559322034,
          0.3728813559322034,
          0.3728813559322034,
          0.3728813559322034,
          0.3728813559322034,
          0.3389830508474576,
          0.3157894736842105,
          0.3389830508474576,
          0.3389830508474576,
          0.4067796610169492,
          0.3728813559322034,
          0.3389830508474576,
          0.2807017543859649,
          0.3389830508474576,
          0.3728813559322034,
          0.36065573770491804,
          0.3157894736842105,
          0.36065573770491804,
          0.36065573770491804,
          0.3728813559322034,
          0.3728813559322034,
          0.2807017543859649,
          0.3728813559322034,
          0.3103448275862069,
          0.3728813559322034,
          0.2807017543859649,
          0.36065573770491804,
          0.3157894736842105,
          0.3728813559322034,
          0.3728813559322034,
          0.3050847457627119,
          0.3728813559322034,
          0.3728813559322034,
          0.2807017543859649,
          0.3389830508474576,
          0.3389830508474576,
          0.3389830508474576,
          0.2711864406779661,
          0.3728813559322034,
          0.2711864406779661,
          0.3728813559322034,
          0.3728813559322034,
          0.3728813559322034,
          0.32786885245901637,
          0.2711864406779661,
          0.3389830508474576,
          0.36065573770491804,
          0.24561403508771928,
          0.36065573770491804,
          0.32786885245901637,
          0.3728813559322034,
          0.3728813559322034,
          0.36065573770491804,
          0.3389830508474576,
          0.36065573770491804,
          0.3157894736842105,
          0.3728813559322034,
          0.2807017543859649,
          0.3728813559322034,
          0.3389830508474576,
          0.3728813559322034,
          0.23728813559322035,
          0.3728813559322034,
          0.3728813559322034,
          0.2807017543859649,
          0.36065573770491804,
          0.36065573770491804,
          0.36065573770491804,
          0.2711864406779661,
          0.3389830508474576,
          0.3728813559322034,
          0.36065573770491804,
          0.3389830508474576,
          0.3728813559322034,
          0.24561403508771928,
          0.32786885245901637,
          0.3
         ]
        },
        {
         "mode": "lines",
         "name": "Best Value",
         "type": "scatter",
         "x": [
          0,
          1,
          2,
          3,
          4,
          5,
          6,
          7,
          8,
          9,
          10,
          11,
          12,
          13,
          14,
          15,
          16,
          17,
          18,
          19,
          20,
          21,
          22,
          23,
          24,
          25,
          26,
          27,
          28,
          29,
          30,
          31,
          32,
          33,
          34,
          35,
          36,
          37,
          38,
          39,
          40,
          41,
          42,
          43,
          44,
          45,
          46,
          47,
          48,
          49,
          50,
          51,
          52,
          53,
          54,
          55,
          56,
          57,
          58,
          59,
          60,
          61,
          62,
          63,
          64,
          65,
          66,
          67,
          68,
          69,
          70,
          71,
          72,
          73,
          74,
          75,
          76,
          77,
          78,
          79,
          80,
          81,
          82,
          83,
          84,
          85,
          86,
          87,
          88,
          89,
          90,
          91,
          92,
          93,
          94,
          95,
          96,
          97,
          98,
          99,
          100,
          101,
          102,
          103,
          104,
          105,
          106,
          107,
          108,
          109,
          110,
          111,
          112,
          113,
          114,
          115,
          116,
          117,
          118,
          119,
          120,
          121,
          122,
          123,
          124,
          125,
          126,
          127,
          128,
          129,
          130,
          131,
          132,
          133,
          134,
          135,
          136,
          137,
          138,
          139,
          140,
          141,
          142,
          143,
          144,
          145,
          146,
          147,
          148,
          149,
          150,
          151,
          152,
          153,
          154,
          155,
          156,
          157,
          158,
          159,
          160,
          161,
          162,
          163,
          164,
          165,
          166,
          167,
          168,
          169,
          170,
          171,
          172,
          173,
          174,
          175,
          176,
          177,
          178,
          179,
          180,
          181,
          182,
          183,
          184,
          185,
          186,
          187,
          188,
          189,
          190,
          191,
          192,
          193,
          194,
          195,
          196,
          197,
          198,
          199
         ],
         "y": [
          0.3050847457627119,
          0.3050847457627119,
          0.3050847457627119,
          0.3050847457627119,
          0.3050847457627119,
          0.3050847457627119,
          0.3050847457627119,
          0.3050847457627119,
          0.3050847457627119,
          0.3050847457627119,
          0.3050847457627119,
          0.3050847457627119,
          0.3050847457627119,
          0.3050847457627119,
          0.3157894736842105,
          0.3157894736842105,
          0.3157894736842105,
          0.3157894736842105,
          0.3157894736842105,
          0.3157894736842105,
          0.3157894736842105,
          0.3157894736842105,
          0.3157894736842105,
          0.3157894736842105,
          0.3157894736842105,
          0.3157894736842105,
          0.3157894736842105,
          0.3157894736842105,
          0.3157894736842105,
          0.3157894736842105,
          0.3157894736842105,
          0.3157894736842105,
          0.3157894736842105,
          0.3157894736842105,
          0.3157894736842105,
          0.3157894736842105,
          0.3157894736842105,
          0.3157894736842105,
          0.3157894736842105,
          0.3157894736842105,
          0.3157894736842105,
          0.3157894736842105,
          0.3157894736842105,
          0.3157894736842105,
          0.3157894736842105,
          0.3157894736842105,
          0.3157894736842105,
          0.3157894736842105,
          0.3157894736842105,
          0.3157894736842105,
          0.3157894736842105,
          0.3157894736842105,
          0.3157894736842105,
          0.3157894736842105,
          0.3157894736842105,
          0.3157894736842105,
          0.3389830508474576,
          0.3389830508474576,
          0.3389830508474576,
          0.3389830508474576,
          0.3389830508474576,
          0.3508771929824561,
          0.3508771929824561,
          0.3508771929824561,
          0.3508771929824561,
          0.3508771929824561,
          0.3508771929824561,
          0.3508771929824561,
          0.3508771929824561,
          0.3793103448275862,
          0.3793103448275862,
          0.3793103448275862,
          0.3793103448275862,
          0.3793103448275862,
          0.3793103448275862,
          0.3793103448275862,
          0.3793103448275862,
          0.3793103448275862,
          0.3793103448275862,
          0.3793103448275862,
          0.3793103448275862,
          0.3793103448275862,
          0.3793103448275862,
          0.3793103448275862,
          0.3793103448275862,
          0.3793103448275862,
          0.3793103448275862,
          0.3793103448275862,
          0.3793103448275862,
          0.3793103448275862,
          0.3793103448275862,
          0.3793103448275862,
          0.3793103448275862,
          0.3793103448275862,
          0.3793103448275862,
          0.3793103448275862,
          0.3793103448275862,
          0.3793103448275862,
          0.3793103448275862,
          0.3793103448275862,
          0.3793103448275862,
          0.3793103448275862,
          0.3793103448275862,
          0.3793103448275862,
          0.3793103448275862,
          0.3793103448275862,
          0.3793103448275862,
          0.3793103448275862,
          0.3793103448275862,
          0.3793103448275862,
          0.3793103448275862,
          0.3793103448275862,
          0.3793103448275862,
          0.3793103448275862,
          0.3793103448275862,
          0.3793103448275862,
          0.3793103448275862,
          0.3793103448275862,
          0.3793103448275862,
          0.3793103448275862,
          0.3793103448275862,
          0.3793103448275862,
          0.3793103448275862,
          0.3793103448275862,
          0.3793103448275862,
          0.3793103448275862,
          0.3793103448275862,
          0.3793103448275862,
          0.3793103448275862,
          0.3793103448275862,
          0.3793103448275862,
          0.3793103448275862,
          0.4067796610169492,
          0.4067796610169492,
          0.4067796610169492,
          0.4067796610169492,
          0.4067796610169492,
          0.4067796610169492,
          0.4067796610169492,
          0.4067796610169492,
          0.4067796610169492,
          0.4067796610169492,
          0.4067796610169492,
          0.4067796610169492,
          0.4067796610169492,
          0.4067796610169492,
          0.4067796610169492,
          0.4067796610169492,
          0.4067796610169492,
          0.4067796610169492,
          0.4067796610169492,
          0.4067796610169492,
          0.4067796610169492,
          0.4067796610169492,
          0.4067796610169492,
          0.4067796610169492,
          0.4067796610169492,
          0.4067796610169492,
          0.4067796610169492,
          0.4067796610169492,
          0.4067796610169492,
          0.4067796610169492,
          0.4067796610169492,
          0.4067796610169492,
          0.4067796610169492,
          0.4067796610169492,
          0.4067796610169492,
          0.4067796610169492,
          0.4067796610169492,
          0.4067796610169492,
          0.4067796610169492,
          0.4067796610169492,
          0.4067796610169492,
          0.4067796610169492,
          0.4067796610169492,
          0.4067796610169492,
          0.4067796610169492,
          0.4067796610169492,
          0.4067796610169492,
          0.4067796610169492,
          0.4067796610169492,
          0.4067796610169492,
          0.4067796610169492,
          0.4067796610169492,
          0.4067796610169492,
          0.4067796610169492,
          0.4067796610169492,
          0.4067796610169492,
          0.4067796610169492,
          0.4067796610169492,
          0.4067796610169492,
          0.4067796610169492,
          0.4067796610169492,
          0.4067796610169492,
          0.4067796610169492,
          0.4067796610169492,
          0.4067796610169492,
          0.4067796610169492,
          0.4067796610169492,
          0.4067796610169492
         ]
        },
        {
         "marker": {
          "color": "#cccccc"
         },
         "mode": "markers",
         "name": "Infeasible Trial",
         "showlegend": false,
         "type": "scatter",
         "x": [],
         "y": []
        }
       ],
       "layout": {
        "template": {
         "data": {
          "bar": [
           {
            "error_x": {
             "color": "#2a3f5f"
            },
            "error_y": {
             "color": "#2a3f5f"
            },
            "marker": {
             "line": {
              "color": "#E5ECF6",
              "width": 0.5
             },
             "pattern": {
              "fillmode": "overlay",
              "size": 10,
              "solidity": 0.2
             }
            },
            "type": "bar"
           }
          ],
          "barpolar": [
           {
            "marker": {
             "line": {
              "color": "#E5ECF6",
              "width": 0.5
             },
             "pattern": {
              "fillmode": "overlay",
              "size": 10,
              "solidity": 0.2
             }
            },
            "type": "barpolar"
           }
          ],
          "carpet": [
           {
            "aaxis": {
             "endlinecolor": "#2a3f5f",
             "gridcolor": "white",
             "linecolor": "white",
             "minorgridcolor": "white",
             "startlinecolor": "#2a3f5f"
            },
            "baxis": {
             "endlinecolor": "#2a3f5f",
             "gridcolor": "white",
             "linecolor": "white",
             "minorgridcolor": "white",
             "startlinecolor": "#2a3f5f"
            },
            "type": "carpet"
           }
          ],
          "choropleth": [
           {
            "colorbar": {
             "outlinewidth": 0,
             "ticks": ""
            },
            "type": "choropleth"
           }
          ],
          "contour": [
           {
            "colorbar": {
             "outlinewidth": 0,
             "ticks": ""
            },
            "colorscale": [
             [
              0,
              "#0d0887"
             ],
             [
              0.1111111111111111,
              "#46039f"
             ],
             [
              0.2222222222222222,
              "#7201a8"
             ],
             [
              0.3333333333333333,
              "#9c179e"
             ],
             [
              0.4444444444444444,
              "#bd3786"
             ],
             [
              0.5555555555555556,
              "#d8576b"
             ],
             [
              0.6666666666666666,
              "#ed7953"
             ],
             [
              0.7777777777777778,
              "#fb9f3a"
             ],
             [
              0.8888888888888888,
              "#fdca26"
             ],
             [
              1,
              "#f0f921"
             ]
            ],
            "type": "contour"
           }
          ],
          "contourcarpet": [
           {
            "colorbar": {
             "outlinewidth": 0,
             "ticks": ""
            },
            "type": "contourcarpet"
           }
          ],
          "heatmap": [
           {
            "colorbar": {
             "outlinewidth": 0,
             "ticks": ""
            },
            "colorscale": [
             [
              0,
              "#0d0887"
             ],
             [
              0.1111111111111111,
              "#46039f"
             ],
             [
              0.2222222222222222,
              "#7201a8"
             ],
             [
              0.3333333333333333,
              "#9c179e"
             ],
             [
              0.4444444444444444,
              "#bd3786"
             ],
             [
              0.5555555555555556,
              "#d8576b"
             ],
             [
              0.6666666666666666,
              "#ed7953"
             ],
             [
              0.7777777777777778,
              "#fb9f3a"
             ],
             [
              0.8888888888888888,
              "#fdca26"
             ],
             [
              1,
              "#f0f921"
             ]
            ],
            "type": "heatmap"
           }
          ],
          "histogram": [
           {
            "marker": {
             "pattern": {
              "fillmode": "overlay",
              "size": 10,
              "solidity": 0.2
             }
            },
            "type": "histogram"
           }
          ],
          "histogram2d": [
           {
            "colorbar": {
             "outlinewidth": 0,
             "ticks": ""
            },
            "colorscale": [
             [
              0,
              "#0d0887"
             ],
             [
              0.1111111111111111,
              "#46039f"
             ],
             [
              0.2222222222222222,
              "#7201a8"
             ],
             [
              0.3333333333333333,
              "#9c179e"
             ],
             [
              0.4444444444444444,
              "#bd3786"
             ],
             [
              0.5555555555555556,
              "#d8576b"
             ],
             [
              0.6666666666666666,
              "#ed7953"
             ],
             [
              0.7777777777777778,
              "#fb9f3a"
             ],
             [
              0.8888888888888888,
              "#fdca26"
             ],
             [
              1,
              "#f0f921"
             ]
            ],
            "type": "histogram2d"
           }
          ],
          "histogram2dcontour": [
           {
            "colorbar": {
             "outlinewidth": 0,
             "ticks": ""
            },
            "colorscale": [
             [
              0,
              "#0d0887"
             ],
             [
              0.1111111111111111,
              "#46039f"
             ],
             [
              0.2222222222222222,
              "#7201a8"
             ],
             [
              0.3333333333333333,
              "#9c179e"
             ],
             [
              0.4444444444444444,
              "#bd3786"
             ],
             [
              0.5555555555555556,
              "#d8576b"
             ],
             [
              0.6666666666666666,
              "#ed7953"
             ],
             [
              0.7777777777777778,
              "#fb9f3a"
             ],
             [
              0.8888888888888888,
              "#fdca26"
             ],
             [
              1,
              "#f0f921"
             ]
            ],
            "type": "histogram2dcontour"
           }
          ],
          "mesh3d": [
           {
            "colorbar": {
             "outlinewidth": 0,
             "ticks": ""
            },
            "type": "mesh3d"
           }
          ],
          "parcoords": [
           {
            "line": {
             "colorbar": {
              "outlinewidth": 0,
              "ticks": ""
             }
            },
            "type": "parcoords"
           }
          ],
          "pie": [
           {
            "automargin": true,
            "type": "pie"
           }
          ],
          "scatter": [
           {
            "fillpattern": {
             "fillmode": "overlay",
             "size": 10,
             "solidity": 0.2
            },
            "type": "scatter"
           }
          ],
          "scatter3d": [
           {
            "line": {
             "colorbar": {
              "outlinewidth": 0,
              "ticks": ""
             }
            },
            "marker": {
             "colorbar": {
              "outlinewidth": 0,
              "ticks": ""
             }
            },
            "type": "scatter3d"
           }
          ],
          "scattercarpet": [
           {
            "marker": {
             "colorbar": {
              "outlinewidth": 0,
              "ticks": ""
             }
            },
            "type": "scattercarpet"
           }
          ],
          "scattergeo": [
           {
            "marker": {
             "colorbar": {
              "outlinewidth": 0,
              "ticks": ""
             }
            },
            "type": "scattergeo"
           }
          ],
          "scattergl": [
           {
            "marker": {
             "colorbar": {
              "outlinewidth": 0,
              "ticks": ""
             }
            },
            "type": "scattergl"
           }
          ],
          "scattermap": [
           {
            "marker": {
             "colorbar": {
              "outlinewidth": 0,
              "ticks": ""
             }
            },
            "type": "scattermap"
           }
          ],
          "scattermapbox": [
           {
            "marker": {
             "colorbar": {
              "outlinewidth": 0,
              "ticks": ""
             }
            },
            "type": "scattermapbox"
           }
          ],
          "scatterpolar": [
           {
            "marker": {
             "colorbar": {
              "outlinewidth": 0,
              "ticks": ""
             }
            },
            "type": "scatterpolar"
           }
          ],
          "scatterpolargl": [
           {
            "marker": {
             "colorbar": {
              "outlinewidth": 0,
              "ticks": ""
             }
            },
            "type": "scatterpolargl"
           }
          ],
          "scatterternary": [
           {
            "marker": {
             "colorbar": {
              "outlinewidth": 0,
              "ticks": ""
             }
            },
            "type": "scatterternary"
           }
          ],
          "surface": [
           {
            "colorbar": {
             "outlinewidth": 0,
             "ticks": ""
            },
            "colorscale": [
             [
              0,
              "#0d0887"
             ],
             [
              0.1111111111111111,
              "#46039f"
             ],
             [
              0.2222222222222222,
              "#7201a8"
             ],
             [
              0.3333333333333333,
              "#9c179e"
             ],
             [
              0.4444444444444444,
              "#bd3786"
             ],
             [
              0.5555555555555556,
              "#d8576b"
             ],
             [
              0.6666666666666666,
              "#ed7953"
             ],
             [
              0.7777777777777778,
              "#fb9f3a"
             ],
             [
              0.8888888888888888,
              "#fdca26"
             ],
             [
              1,
              "#f0f921"
             ]
            ],
            "type": "surface"
           }
          ],
          "table": [
           {
            "cells": {
             "fill": {
              "color": "#EBF0F8"
             },
             "line": {
              "color": "white"
             }
            },
            "header": {
             "fill": {
              "color": "#C8D4E3"
             },
             "line": {
              "color": "white"
             }
            },
            "type": "table"
           }
          ]
         },
         "layout": {
          "annotationdefaults": {
           "arrowcolor": "#2a3f5f",
           "arrowhead": 0,
           "arrowwidth": 1
          },
          "autotypenumbers": "strict",
          "coloraxis": {
           "colorbar": {
            "outlinewidth": 0,
            "ticks": ""
           }
          },
          "colorscale": {
           "diverging": [
            [
             0,
             "#8e0152"
            ],
            [
             0.1,
             "#c51b7d"
            ],
            [
             0.2,
             "#de77ae"
            ],
            [
             0.3,
             "#f1b6da"
            ],
            [
             0.4,
             "#fde0ef"
            ],
            [
             0.5,
             "#f7f7f7"
            ],
            [
             0.6,
             "#e6f5d0"
            ],
            [
             0.7,
             "#b8e186"
            ],
            [
             0.8,
             "#7fbc41"
            ],
            [
             0.9,
             "#4d9221"
            ],
            [
             1,
             "#276419"
            ]
           ],
           "sequential": [
            [
             0,
             "#0d0887"
            ],
            [
             0.1111111111111111,
             "#46039f"
            ],
            [
             0.2222222222222222,
             "#7201a8"
            ],
            [
             0.3333333333333333,
             "#9c179e"
            ],
            [
             0.4444444444444444,
             "#bd3786"
            ],
            [
             0.5555555555555556,
             "#d8576b"
            ],
            [
             0.6666666666666666,
             "#ed7953"
            ],
            [
             0.7777777777777778,
             "#fb9f3a"
            ],
            [
             0.8888888888888888,
             "#fdca26"
            ],
            [
             1,
             "#f0f921"
            ]
           ],
           "sequentialminus": [
            [
             0,
             "#0d0887"
            ],
            [
             0.1111111111111111,
             "#46039f"
            ],
            [
             0.2222222222222222,
             "#7201a8"
            ],
            [
             0.3333333333333333,
             "#9c179e"
            ],
            [
             0.4444444444444444,
             "#bd3786"
            ],
            [
             0.5555555555555556,
             "#d8576b"
            ],
            [
             0.6666666666666666,
             "#ed7953"
            ],
            [
             0.7777777777777778,
             "#fb9f3a"
            ],
            [
             0.8888888888888888,
             "#fdca26"
            ],
            [
             1,
             "#f0f921"
            ]
           ]
          },
          "colorway": [
           "#636efa",
           "#EF553B",
           "#00cc96",
           "#ab63fa",
           "#FFA15A",
           "#19d3f3",
           "#FF6692",
           "#B6E880",
           "#FF97FF",
           "#FECB52"
          ],
          "font": {
           "color": "#2a3f5f"
          },
          "geo": {
           "bgcolor": "white",
           "lakecolor": "white",
           "landcolor": "#E5ECF6",
           "showlakes": true,
           "showland": true,
           "subunitcolor": "white"
          },
          "hoverlabel": {
           "align": "left"
          },
          "hovermode": "closest",
          "mapbox": {
           "style": "light"
          },
          "paper_bgcolor": "white",
          "plot_bgcolor": "#E5ECF6",
          "polar": {
           "angularaxis": {
            "gridcolor": "white",
            "linecolor": "white",
            "ticks": ""
           },
           "bgcolor": "#E5ECF6",
           "radialaxis": {
            "gridcolor": "white",
            "linecolor": "white",
            "ticks": ""
           }
          },
          "scene": {
           "xaxis": {
            "backgroundcolor": "#E5ECF6",
            "gridcolor": "white",
            "gridwidth": 2,
            "linecolor": "white",
            "showbackground": true,
            "ticks": "",
            "zerolinecolor": "white"
           },
           "yaxis": {
            "backgroundcolor": "#E5ECF6",
            "gridcolor": "white",
            "gridwidth": 2,
            "linecolor": "white",
            "showbackground": true,
            "ticks": "",
            "zerolinecolor": "white"
           },
           "zaxis": {
            "backgroundcolor": "#E5ECF6",
            "gridcolor": "white",
            "gridwidth": 2,
            "linecolor": "white",
            "showbackground": true,
            "ticks": "",
            "zerolinecolor": "white"
           }
          },
          "shapedefaults": {
           "line": {
            "color": "#2a3f5f"
           }
          },
          "ternary": {
           "aaxis": {
            "gridcolor": "white",
            "linecolor": "white",
            "ticks": ""
           },
           "baxis": {
            "gridcolor": "white",
            "linecolor": "white",
            "ticks": ""
           },
           "bgcolor": "#E5ECF6",
           "caxis": {
            "gridcolor": "white",
            "linecolor": "white",
            "ticks": ""
           }
          },
          "title": {
           "x": 0.05
          },
          "xaxis": {
           "automargin": true,
           "gridcolor": "white",
           "linecolor": "white",
           "ticks": "",
           "title": {
            "standoff": 15
           },
           "zerolinecolor": "white",
           "zerolinewidth": 2
          },
          "yaxis": {
           "automargin": true,
           "gridcolor": "white",
           "linecolor": "white",
           "ticks": "",
           "title": {
            "standoff": 15
           },
           "zerolinecolor": "white",
           "zerolinewidth": 2
          }
         }
        },
        "title": {
         "text": "Optimization History Plot"
        },
        "xaxis": {
         "title": {
          "text": "Trial"
         }
        },
        "yaxis": {
         "title": {
          "text": "Objective Value"
         }
        }
       }
      }
     },
     "metadata": {},
     "output_type": "display_data"
    }
   ],
   "source": [
    "# Visualizar el historial de optimización\n",
    "plot_optimization_history(study)"
   ]
  },
  {
   "cell_type": "code",
   "execution_count": 18,
   "id": "47f4418d",
   "metadata": {},
   "outputs": [
    {
     "name": "stdout",
     "output_type": "stream",
     "text": [
      "Mejores hiperparámetros encontrados:\n",
      "{'n_estimators': 313, 'max_depth': 16, 'min_samples_split': 5, 'min_samples_leaf': 3, 'max_features': 'sqrt'}\n",
      "Mejor score de f1-score: 0.4068\n"
     ]
    }
   ],
   "source": [
    "print(\"Mejores hiperparámetros encontrados:\")\n",
    "print(study.best_params)\n",
    "print(f\"Mejor score de {SCORE}: {study.best_value:.4f}\")"
   ]
  },
  {
   "cell_type": "markdown",
   "id": "a5d2f75b",
   "metadata": {},
   "source": [
    "GUARDAR EN JSON"
   ]
  },
  {
   "cell_type": "code",
   "execution_count": 19,
   "id": "7cc65934",
   "metadata": {},
   "outputs": [],
   "source": [
    "# Guardar los mejores hiperparámetros y su valor\n",
    "history = []\n",
    "if os.path.exists(\"best_hyperparams.json\"):\n",
    "    try:\n",
    "        with open(\"best_hyperparams.json\", \"r\") as f:\n",
    "            history = json.load(f)\n",
    "    except (json.JSONDecodeError, ValueError):\n",
    "        history = []\n",
    "\n",
    "# Guardar ambos en un solo diccionario\n",
    "history.append({\n",
    "    \"params\": study.best_params,\n",
    "    \"value\": study.best_value\n",
    "})\n",
    "\n",
    "with open(\"best_hyperparams.json\", \"w\") as f:\n",
    "    json.dump(history, f, indent=2)"
   ]
  },
  {
   "cell_type": "markdown",
   "id": "3aa88bd9",
   "metadata": {},
   "source": [
    "CARGAR HIPERPARAMETROS DESDE JSON"
   ]
  },
  {
   "cell_type": "code",
   "execution_count": 11,
   "id": "76645b4b",
   "metadata": {},
   "outputs": [],
   "source": [
    "# # Cargar historial de hiperparámetros y valores\n",
    "# with open(\"best_hyperparams.json\", \"r\") as f:\n",
    "#     history = json.load(f)\n",
    "\n",
    "# # Escoger el último (más reciente)\n",
    "# best_params = history[-1][\"params\"]\n",
    "# best_value = history[-1][\"value\"]\n",
    "\n",
    "# # Si quieres ver todos:\n",
    "# for i, entry in enumerate(history):\n",
    "#     print(f\"Hiperparámetros #{i+1}: {entry['params']}, Valor: {entry['value']}\")\n",
    "\n",
    "# # Si quieres escoger uno específico (por índice):\n",
    "# # best_params = history[indice_que_quieras][\"params\"]\n",
    "# # best_value = history[indice_que_quieras][\"value\"]"
   ]
  },
  {
   "cell_type": "code",
   "execution_count": 22,
   "id": "457377f8",
   "metadata": {},
   "outputs": [
    {
     "name": "stdout",
     "output_type": "stream",
     "text": [
      "RandomForest FINAL trend_changes_score:\n",
      "               precision    recall  f1-score   support\n",
      "\n",
      "       False     0.9179    0.9498    0.9336       259\n",
      "        True     0.4800    0.3529    0.4068        34\n",
      "\n",
      "    accuracy                         0.8805       293\n",
      "   macro avg     0.6990    0.6514    0.6702       293\n",
      "weighted avg     0.8671    0.8805    0.8725       293\n",
      "\n"
     ]
    }
   ],
   "source": [
    "# Entrenar modelo final con los mejores hiperparámetros\n",
    "set_seeds(SEED)\n",
    "best_params = study.best_params\n",
    "final_model = RandomForestClassifier(\n",
    "    n_estimators=best_params[\"n_estimators\"],\n",
    "    max_depth=best_params[\"max_depth\"],\n",
    "    min_samples_split=best_params[\"min_samples_split\"],\n",
    "    min_samples_leaf=best_params[\"min_samples_leaf\"],\n",
    "    max_features=best_params[\"max_features\"],\n",
    "    random_state=SEED\n",
    ")\n",
    "final_model.fit(X_train, y_train)\n",
    "y_val_pred = final_model.predict(X_val)\n",
    "print(\"RandomForest FINAL trend_changes_score:\\n\", trend_changes_score(y_val, y_val_pred))"
   ]
  },
  {
   "cell_type": "code",
   "execution_count": 23,
   "id": "5ff01aef",
   "metadata": {},
   "outputs": [
    {
     "name": "stdout",
     "output_type": "stream",
     "text": [
      "LightGBM Report:\n",
      "               precision    recall  f1-score   support\n",
      "\n",
      "          -1     0.7480    0.9787    0.8479        94\n",
      "           0     1.0000    0.0244    0.0476        41\n",
      "           1     0.9118    0.9748    0.9422       159\n",
      "\n",
      "    accuracy                         0.8435       294\n",
      "   macro avg     0.8866    0.6593    0.6126       294\n",
      "weighted avg     0.8717    0.8435    0.7873       294\n",
      "\n",
      "Balanced accuracy: 0.6593188051511185\n"
     ]
    }
   ],
   "source": [
    "# Reporte completo: precisión, recall y F1 por clase\n",
    "report = classification_report(y_val, y_val_pred, digits=4)\n",
    "print(\"LightGBM Report:\\n\", report)\n",
    "print(\"Balanced accuracy:\", balanced_accuracy_score(y_val, y_val_pred))"
   ]
  },
  {
   "cell_type": "code",
   "execution_count": 21,
   "id": "d7c636fb",
   "metadata": {},
   "outputs": [
    {
     "name": "stdout",
     "output_type": "stream",
     "text": [
      "Trend Change F1 Score:\n",
      "               precision    recall  f1-score   support\n",
      "\n",
      "       False     0.9061    0.9544    0.9296       263\n",
      "        True     0.2941    0.1613    0.2083        31\n",
      "\n",
      "    accuracy                         0.8707       294\n",
      "   macro avg     0.6001    0.5578    0.5690       294\n",
      "weighted avg     0.8416    0.8707    0.8536       294\n",
      "\n"
     ]
    }
   ],
   "source": [
    "# Obtener predicciones\n",
    "y_pred_test = final_model.predict(X_test)\n",
    "print(\"Trend Change F1 Score:\\n\", trend_changes_score(y_test, y_pred_test))"
   ]
  },
  {
   "cell_type": "code",
   "execution_count": 14,
   "id": "05e3d4d0",
   "metadata": {},
   "outputs": [
    {
     "name": "stdout",
     "output_type": "stream",
     "text": [
      "Random Forest Trend Changes Score:\n",
      "               precision    recall  f1-score   support\n",
      "\n",
      "       False     0.9547    0.9688    0.9617      1219\n",
      "        True     0.7206    0.6364    0.6759       154\n",
      "\n",
      "    accuracy                         0.9315      1373\n",
      "   macro avg     0.8377    0.8026    0.8188      1373\n",
      "weighted avg     0.9285    0.9315    0.9297      1373\n",
      "\n"
     ]
    }
   ],
   "source": [
    "y_pred_train = final_model.predict(X_train)\n",
    "print(\"Random Forest Trend Changes Score:\\n\", trend_changes_score(y_train, y_pred_train))"
   ]
  },
  {
   "cell_type": "code",
   "execution_count": 24,
   "id": "cbf7d983",
   "metadata": {},
   "outputs": [],
   "source": [
    "# --- Exportar y Comparar Métricas de Modelos (Validación) ---\n",
    "\n",
    "# 1. Definir el nombre del modelo actual y el archivo de salida\n",
    "model_name = 'Random Forest'\n",
    "output_file = '../../../score_models/model_comparison_metrics.csv'\n",
    "\n",
    "# 2. Calcular el reporte de clasificación estándar\n",
    "# Usamos y_val_m y y_val_pred que están en la misma escala (0,1,2)\n",
    "report_dict = classification_report(y_val, y_val_pred, output_dict=True, zero_division=0)\n",
    "precision = report_dict['macro avg']['precision']\n",
    "recall = report_dict['macro avg']['recall']\n",
    "f1_score = report_dict['macro avg']['f1-score']\n",
    "\n",
    "\n",
    "# 3. Calcular el reporte de cambio de tendencia\n",
    "report = get_trend_changes_report_dict(y_val, y_val_pred)\n",
    "trend_change_precision = report['True']['precision']\n",
    "trend_change_recall = report['True']['recall']\n",
    "trend_change_f1_score = report['True']['f1-score']\n",
    "\n",
    "# 4. Organizar las nuevas métricas\n",
    "new_metrics = {\n",
    "    'precision': precision,\n",
    "    'recall': recall,\n",
    "    'f1_score': f1_score,\n",
    "    'trend_change_precision': trend_change_precision,\n",
    "    'trend_change_recall': trend_change_recall,\n",
    "    'trend_change_f1_score': trend_change_f1_score\n",
    "}\n",
    "\n",
    "# 5. Cargar, actualizar y guardar el DataFrame de comparación\n",
    "try:\n",
    "    # Intentar cargar el archivo existente\n",
    "    comparison_df = pd.read_csv(output_file, index_col='model')\n",
    "    # Si existe, actualizar o añadir la fila para el modelo actual\n",
    "    comparison_df.loc[model_name] = new_metrics\n",
    "except FileNotFoundError:\n",
    "    # Si no existe, crear un DataFrame nuevo directamente con los datos actuales\n",
    "    comparison_df = pd.DataFrame([new_metrics], index=[model_name])\n",
    "\n",
    "# Guardar el DataFrame actualizado en el CSV\n",
    "comparison_df.to_csv(output_file, index_label='model')"
   ]
  },
  {
   "cell_type": "code",
   "execution_count": 16,
   "id": "e101ce78",
   "metadata": {},
   "outputs": [
    {
     "name": "stdout",
     "output_type": "stream",
     "text": [
      "Elapsed time to compute the importances: 0.039 seconds\n"
     ]
    }
   ],
   "source": [
    "import time\n",
    "\n",
    "import numpy as np\n",
    "\n",
    "start_time = time.time()\n",
    "importances = final_model.feature_importances_\n",
    "std = np.std([tree.feature_importances_ for tree in final_model.estimators_], axis=0)\n",
    "elapsed_time = time.time() - start_time\n",
    "\n",
    "print(f\"Elapsed time to compute the importances: {elapsed_time:.3f} seconds\")"
   ]
  },
  {
   "cell_type": "code",
   "execution_count": 17,
   "id": "ca1b3f6b",
   "metadata": {},
   "outputs": [
    {
     "data": {
      "image/png": "[encoded data removed]",
      "text/plain": [
       "<Figure size 1500x800 with 1 Axes>"
      ]
     },
     "metadata": {},
     "output_type": "display_data"
    }
   ],
   "source": [
    "import pandas as pd\n",
    "import matplotlib.pyplot as plt\n",
    "\n",
    "forest_importances = pd.Series(importances, index=train.drop(columns=[\"date\", \"target_trend\"]).columns)\n",
    "\n",
    "fig, ax = plt.subplots(figsize=(15, 8))\n",
    "forest_importances.plot.bar(yerr=std, ax=ax)\n",
    "ax.set_title(\"Feature importances using MDI\")\n",
    "ax.set_ylabel(\"Mean decrease in impurity\")\n",
    "fig.tight_layout()"
   ]
  },
  {
   "cell_type": "code",
   "execution_count": 23,
   "id": "29725cb8",
   "metadata": {},
   "outputs": [
    {
     "name": "stdout",
     "output_type": "stream",
     "text": [
      "--- Resultados del Backtesting ---\n",
      "Capital Inicial: $10,000.00\n",
      "Valor Final del Portafolio: $18,832.78\n",
      "Retorno Total de la Estrategia: 88.33%\n",
      "Retorno de Comprar y Mantener (Buy & Hold): 71.17%\n"
     ]
    },
    {
     "data": {
      "image/png": "[encoded data removed]",
      "text/plain": [
       "<Figure size 1400x700 with 1 Axes>"
      ]
     },
     "metadata": {},
     "output_type": "display_data"
    }
   ],
   "source": [
    "# --- Preparación de Datos para Backtesting ---\n",
    "\n",
    "# 2. Crear un DataFrame para el backtest\n",
    "# Usamos una copia del test_set original que contiene precios y fechas\n",
    "backtest_df = test_set.copy()\n",
    "backtest_df['signal'] = y_pred_test\n",
    "\n",
    "# La columna de precio que usaremos es la del día más reciente en la ventana deslizante\n",
    "# Basado en tu notebook dataCleaning.ipynb, esta columna debería existir. \n",
    "# Si el nombre es diferente, ajústalo aquí.\n",
    "price_col = [col for col in test_set.columns if 'open_d0' in col][-1]\n",
    "\n",
    "\n",
    "# --- Simulación de Backtesting ---\n",
    "\n",
    "initial_capital = 10000.0\n",
    "cash = initial_capital\n",
    "position = 0.0  # Unidades de BTC\n",
    "portfolio_values = []\n",
    "\n",
    "for i, row in backtest_df.iterrows():\n",
    "    price = row[price_col]\n",
    "    signal = row['signal']\n",
    "    \n",
    "    # Lógica de trading\n",
    "    if signal == 1 and cash > 0:  # Señal de compra\n",
    "        position = cash / price\n",
    "        cash = 0.0\n",
    "    elif signal == -1 and position > 0:  # Señal de venta\n",
    "        cash = position * price\n",
    "        position = 0.0\n",
    "    \n",
    "    # Calcular el valor actual del portafolio\n",
    "    current_portfolio_value = cash + position * price\n",
    "    portfolio_values.append(current_portfolio_value)\n",
    "\n",
    "backtest_df['portfolio_value'] = portfolio_values\n",
    "\n",
    "\n",
    "# --- Cálculo de Métricas y Visualización ---\n",
    "\n",
    "# 1. Calcular métricas de rendimiento\n",
    "final_portfolio_value = backtest_df['portfolio_value'].iloc[-1]\n",
    "total_return_pct = (final_portfolio_value - initial_capital) / initial_capital * 100\n",
    "buy_and_hold_return_pct = (backtest_df[price_col].iloc[-1] - backtest_df[price_col].iloc[0]) / backtest_df[price_col].iloc[0] * 100\n",
    "\n",
    "print(\"--- Resultados del Backtesting ---\")\n",
    "print(f\"Capital Inicial: ${initial_capital:,.2f}\")\n",
    "print(f\"Valor Final del Portafolio: ${final_portfolio_value:,.2f}\")\n",
    "print(f\"Retorno Total de la Estrategia: {total_return_pct:.2f}%\")\n",
    "print(f\"Retorno de Comprar y Mantener (Buy & Hold): {buy_and_hold_return_pct:.2f}%\")\n",
    "\n",
    "# 2. Visualizar los resultados\n",
    "plt.figure(figsize=(14, 7))\n",
    "plt.plot(backtest_df['date'], backtest_df['portfolio_value'], label='Estrategia del Modelo', color='blue')\n",
    "\n",
    "# Normalizar el precio para comparar con \"Buy & Hold\"\n",
    "buy_and_hold_values = (backtest_df[price_col] / backtest_df[price_col].iloc[0]) * initial_capital\n",
    "plt.plot(backtest_df['date'], buy_and_hold_values, label='Comprar y Mantener (Buy & Hold)', color='orange', linestyle='--')\n",
    "\n",
    "plt.title('Rendimiento de la Estrategia vs. Buy & Hold')\n",
    "plt.xlabel('Fecha')\n",
    "plt.ylabel('Valor del Portafolio ($)')\n",
    "plt.legend()\n",
    "plt.grid(True)\n",
    "plt.show()"
   ]
  }
 ],
 "metadata": {
  "kernelspec": {
   "display_name": "tf_venv2 (3.10.12)",
   "language": "python",
   "name": "python3"
  },
  "language_info": {
   "codemirror_mode": {
    "name": "ipython",
    "version": 3
   },
   "file_extension": ".py",
   "mimetype": "text/x-python",
   "name": "python",
   "nbconvert_exporter": "python",
   "pygments_lexer": "ipython3",
   "version": "3.10.12"
  }
 },
 "nbformat": 4,
 "nbformat_minor": 5
}
