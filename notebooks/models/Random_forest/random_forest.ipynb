{
 "cells": [
  {
   "cell_type": "code",
   "execution_count": 1,
   "id": "e6d5d21b",
   "metadata": {},
   "outputs": [
    {
     "name": "stderr",
     "output_type": "stream",
     "text": [
      "/home/toyotx22/bitcoin_sentiment_forecaster/tf_venv2/lib/python3.10/site-packages/tqdm/auto.py:21: TqdmWarning: IProgress not found. Please update jupyter and ipywidgets. See https://ipywidgets.readthedocs.io/en/stable/user_install.html\n",
      "  from .autonotebook import tqdm as notebook_tqdm\n"
     ]
    }
   ],
   "source": [
    "import numpy as np\n",
    "import random\n",
    "import optuna\n",
    "import pandas as pd\n",
    "from sklearn.ensemble import RandomForestClassifier\n",
    "from sklearn.metrics import classification_report, balanced_accuracy_score\n",
    "import json\n",
    "import os\n",
    "from optuna.visualization import plot_optimization_history\n",
    "import joblib\n",
    "import time\n",
    "from datetime import datetime"
   ]
  },
  {
   "cell_type": "code",
   "execution_count": 2,
   "id": "e8aba837",
   "metadata": {},
   "outputs": [],
   "source": [
    "SEED = 1234\n",
    " # Se puede cambiar a \"precision\" o \"recall\" o \"f1-score\"\n",
    "SCORE = \"f1-score\"\n",
    "model_name = 'Random Forest'"
   ]
  },
  {
   "cell_type": "code",
   "execution_count": 3,
   "id": "41f03446",
   "metadata": {},
   "outputs": [],
   "source": [
    "def set_seeds(seed):\n",
    "    random.seed(seed)\n",
    "    np.random.seed(seed)"
   ]
  },
  {
   "cell_type": "code",
   "execution_count": 4,
   "id": "4130669e",
   "metadata": {},
   "outputs": [],
   "source": [
    "def get_trend_changes_report_dict(y_test: np.array, y_pred: np.array) -> float:\n",
    "    \"\"\"\n",
    "    Calculate the trend changes score based on the test and predicted values.\n",
    "    \n",
    "    Args:\n",
    "        y_test (np.array): True labels.\n",
    "        y_pred (np.array): Predicted labels.\n",
    "        \n",
    "    Returns:\n",
    "        float: The trend changes score.\n",
    "    \"\"\"\n",
    "    y_df = pd.DataFrame([y_test, y_pred]).T\n",
    "    y_df.columns = [\"y_test\", \"y_pred\"]\n",
    "    y_df[\"y_test_shifted\"] = y_df[\"y_test\"].shift(-1)\n",
    "    y_df[\"is_changed_trend_test\"] = y_df[\"y_test\"] != y_df[\"y_test_shifted\"]\n",
    "    y_df[\"y_predict_shifted\"] = y_df[\"y_pred\"].shift(-1)\n",
    "    y_df[\"is_changed_trend_predict\"] = y_df[\"y_pred\"] != y_df[\"y_predict_shifted\"]\n",
    "    return classification_report(\n",
    "        y_df[\"is_changed_trend_test\"][:-1], \n",
    "        y_df[\"is_changed_trend_predict\"][:-1], \n",
    "        digits=4,\n",
    "        output_dict=True,\n",
    "        zero_division=0\n",
    "    )\n",
    "\n",
    "\n",
    "def trend_changes_score(y_test: np.array, y_pred: np.array) -> float:\n",
    "    \"\"\"\n",
    "    Calculate the trend changes score based on the test and predicted values.\n",
    "    \n",
    "    Args:\n",
    "        y_test (np.array): True labels.\n",
    "        y_pred (np.array): Predicted labels.\n",
    "        \n",
    "    Returns:\n",
    "        float: The trend changes score.\n",
    "    \"\"\"\n",
    "    y_df = pd.DataFrame([y_test, y_pred]).T\n",
    "    y_df.columns = [\"y_test\", \"y_pred\"]\n",
    "    y_df[\"y_test_shifted\"] = y_df[\"y_test\"].shift(-1)\n",
    "    y_df[\"is_changed_trend_test\"] = y_df[\"y_test\"] != y_df[\"y_test_shifted\"]\n",
    "    y_df[\"y_predict_shifted\"] = y_df[\"y_pred\"].shift(-1)\n",
    "    y_df[\"is_changed_trend_predict\"] = y_df[\"y_pred\"] != y_df[\"y_predict_shifted\"]\n",
    "    return classification_report(y_df[\"is_changed_trend_test\"][:-1], y_df[\"is_changed_trend_predict\"][:-1], digits=4)\n",
    "\n",
    "def trend_changes_true(y_test: np.array, y_pred: np.array) -> float:\n",
    "    \"\"\"\n",
    "    Calculate the trend changes score based on the test and predicted values.\n",
    "    \n",
    "    Args:\n",
    "        y_test (np.array): True labels.\n",
    "        y_pred (np.array): Predicted labels.\n",
    "        \n",
    "    Returns:\n",
    "        float: The trend changes score.\n",
    "    \"\"\"\n",
    "    y_df = pd.DataFrame([y_test, y_pred]).T\n",
    "    y_df.columns = [\"y_test\", \"y_pred\"]\n",
    "    y_df[\"y_test_shifted\"] = y_df[\"y_test\"].shift(-1)\n",
    "    y_df[\"is_changed_trend_test\"] = y_df[\"y_test\"] != y_df[\"y_test_shifted\"]\n",
    "    y_df[\"y_predict_shifted\"] = y_df[\"y_pred\"].shift(-1)\n",
    "    y_df[\"is_changed_trend_predict\"] = y_df[\"y_pred\"] != y_df[\"y_predict_shifted\"]\n",
    "    report = classification_report(\n",
    "        y_df[\"is_changed_trend_test\"][:-1],\n",
    "        y_df[\"is_changed_trend_predict\"][:-1],\n",
    "        output_dict=True,\n",
    "        zero_division=0\n",
    "    )\n",
    "    return report[\"True\"][SCORE]"
   ]
  },
  {
   "cell_type": "code",
   "execution_count": 5,
   "id": "ba6aa13e",
   "metadata": {},
   "outputs": [],
   "source": [
    "# Cargar datos\n",
    "train = pd.read_csv(\"../../../data/post_cleaning/training_set.csv\", parse_dates=[\"date\"])\n",
    "val = pd.read_csv(\"../../../data/post_cleaning/validation_set.csv\", parse_dates=[\"date\"])\n",
    "X_train = train.drop(columns=[\"date\", \"target_trend\"]).values\n",
    "y_train = train[\"target_trend\"].values\n",
    "X_val = val.drop(columns=[\"date\", \"target_trend\"]).values\n",
    "y_val = val[\"target_trend\"].values"
   ]
  },
  {
   "cell_type": "code",
   "execution_count": 6,
   "id": "80477ea8",
   "metadata": {},
   "outputs": [],
   "source": [
    "def objective(trial):\n",
    "    set_seeds(SEED)  # Fijar semilla antes de cada trial\n",
    "    n_estimators = trial.suggest_int(\"n_estimators\", 50, 400)\n",
    "    max_depth = trial.suggest_int(\"max_depth\", 2, 20)\n",
    "    min_samples_split = trial.suggest_int(\"min_samples_split\", 2, 10)\n",
    "    min_samples_leaf = trial.suggest_int(\"min_samples_leaf\", 1, 10)\n",
    "    max_features = trial.suggest_categorical(\"max_features\", [\"sqrt\", \"log2\"])\n",
    "\n",
    "    model = RandomForestClassifier(\n",
    "        n_estimators=n_estimators,\n",
    "        max_depth=max_depth,\n",
    "        min_samples_split=min_samples_split,\n",
    "        min_samples_leaf=min_samples_leaf,\n",
    "        max_features=max_features,\n",
    "        random_state=SEED\n",
    "    )\n",
    "    model.fit(X_train, y_train)\n",
    "    y_pred = model.predict(X_val)\n",
    "    score = trend_changes_true(y_val, y_pred)\n",
    "    return score"
   ]
  },
  {
   "cell_type": "code",
   "execution_count": 7,
   "id": "b8a56175",
   "metadata": {},
   "outputs": [
    {
     "name": "stderr",
     "output_type": "stream",
     "text": [
      "[I 2025-09-16 23:31:48,398] A new study created in memory with name: no-name-6459a8f3-b891-4874-9893-8e25769a5581\n",
      "[I 2025-09-16 23:31:49,087] Trial 0 finished with value: 0.25742574257425743 and parameters: {'n_estimators': 117, 'max_depth': 13, 'min_samples_split': 5, 'min_samples_leaf': 8, 'max_features': 'sqrt'}. Best is trial 0 with value: 0.25742574257425743.\n",
      "[I 2025-09-16 23:31:49,744] Trial 1 finished with value: 0.2268041237113402 and parameters: {'n_estimators': 147, 'max_depth': 17, 'min_samples_split': 10, 'min_samples_leaf': 9, 'max_features': 'log2'}. Best is trial 0 with value: 0.25742574257425743.\n",
      "[I 2025-09-16 23:31:48,938] Trial 2 finished with value: 0.26262626262626265 and parameters: {'n_estimators': 289, 'max_depth': 15, 'min_samples_split': 5, 'min_samples_leaf': 6, 'max_features': 'sqrt'}. Best is trial 2 with value: 0.26262626262626265.\n",
      "[I 2025-09-16 23:31:50,406] Trial 3 finished with value: 0.24 and parameters: {'n_estimators': 321, 'max_depth': 18, 'min_samples_split': 5, 'min_samples_leaf': 7, 'max_features': 'log2'}. Best is trial 2 with value: 0.26262626262626265.\n",
      "[I 2025-09-16 23:31:52,080] Trial 4 finished with value: 0.20618556701030927 and parameters: {'n_estimators': 377, 'max_depth': 14, 'min_samples_split': 5, 'min_samples_leaf': 8, 'max_features': 'log2'}. Best is trial 2 with value: 0.26262626262626265.\n",
      "[I 2025-09-16 23:31:53,891] Trial 5 finished with value: 0.2912621359223301 and parameters: {'n_estimators': 355, 'max_depth': 10, 'min_samples_split': 9, 'min_samples_leaf': 2, 'max_features': 'log2'}. Best is trial 5 with value: 0.2912621359223301.\n",
      "[I 2025-09-16 23:31:54,439] Trial 6 finished with value: 0.18556701030927836 and parameters: {'n_estimators': 126, 'max_depth': 19, 'min_samples_split': 5, 'min_samples_leaf': 10, 'max_features': 'log2'}. Best is trial 5 with value: 0.2912621359223301.\n",
      "[I 2025-09-16 23:31:54,762] Trial 7 finished with value: 0.2692307692307692 and parameters: {'n_estimators': 66, 'max_depth': 14, 'min_samples_split': 7, 'min_samples_leaf': 6, 'max_features': 'log2'}. Best is trial 5 with value: 0.2912621359223301.\n",
      "[I 2025-09-16 23:31:55,696] Trial 8 finished with value: 0.28 and parameters: {'n_estimators': 165, 'max_depth': 11, 'min_samples_split': 3, 'min_samples_leaf': 7, 'max_features': 'sqrt'}. Best is trial 5 with value: 0.2912621359223301.\n",
      "[I 2025-09-16 23:31:57,135] Trial 9 finished with value: 0.20618556701030927 and parameters: {'n_estimators': 266, 'max_depth': 19, 'min_samples_split': 9, 'min_samples_leaf': 10, 'max_features': 'sqrt'}. Best is trial 5 with value: 0.2912621359223301.\n",
      "[I 2025-09-16 23:31:58,567] Trial 10 finished with value: 0.2268041237113402 and parameters: {'n_estimators': 386, 'max_depth': 5, 'min_samples_split': 8, 'min_samples_leaf': 1, 'max_features': 'log2'}. Best is trial 5 with value: 0.2912621359223301.\n",
      "[I 2025-09-16 23:31:59,662] Trial 11 finished with value: 0.2549019607843137 and parameters: {'n_estimators': 188, 'max_depth': 8, 'min_samples_split': 2, 'min_samples_leaf': 3, 'max_features': 'sqrt'}. Best is trial 5 with value: 0.2912621359223301.\n",
      "[I 2025-09-16 23:32:00,903] Trial 12 finished with value: 0.24 and parameters: {'n_estimators': 207, 'max_depth': 9, 'min_samples_split': 2, 'min_samples_leaf': 4, 'max_features': 'sqrt'}. Best is trial 5 with value: 0.2912621359223301.\n",
      "[I 2025-09-16 23:32:01,729] Trial 13 finished with value: 0.2222222222222222 and parameters: {'n_estimators': 251, 'max_depth': 3, 'min_samples_split': 3, 'min_samples_leaf': 1, 'max_features': 'sqrt'}. Best is trial 5 with value: 0.2912621359223301.\n",
      "[I 2025-09-16 23:32:03,458] Trial 14 finished with value: 0.24489795918367346 and parameters: {'n_estimators': 350, 'max_depth': 10, 'min_samples_split': 7, 'min_samples_leaf': 4, 'max_features': 'log2'}. Best is trial 5 with value: 0.2912621359223301.\n",
      "[I 2025-09-16 23:32:04,405] Trial 15 finished with value: 0.24 and parameters: {'n_estimators': 188, 'max_depth': 6, 'min_samples_split': 10, 'min_samples_leaf': 3, 'max_features': 'sqrt'}. Best is trial 5 with value: 0.2912621359223301.\n",
      "[I 2025-09-16 23:32:04,682] Trial 16 finished with value: 0.26262626262626265 and parameters: {'n_estimators': 50, 'max_depth': 12, 'min_samples_split': 7, 'min_samples_leaf': 5, 'max_features': 'log2'}. Best is trial 5 with value: 0.2912621359223301.\n",
      "[I 2025-09-16 23:32:06,339] Trial 17 finished with value: 0.27450980392156865 and parameters: {'n_estimators': 309, 'max_depth': 7, 'min_samples_split': 3, 'min_samples_leaf': 2, 'max_features': 'sqrt'}. Best is trial 5 with value: 0.2912621359223301.\n",
      "[I 2025-09-16 23:32:07,452] Trial 18 finished with value: 0.2268041237113402 and parameters: {'n_estimators': 237, 'max_depth': 10, 'min_samples_split': 9, 'min_samples_leaf': 7, 'max_features': 'log2'}. Best is trial 5 with value: 0.2912621359223301.\n",
      "[I 2025-09-16 23:32:08,364] Trial 19 finished with value: 0.2524271844660194 and parameters: {'n_estimators': 147, 'max_depth': 16, 'min_samples_split': 3, 'min_samples_leaf': 5, 'max_features': 'sqrt'}. Best is trial 5 with value: 0.2912621359223301.\n",
      "[I 2025-09-16 23:32:08,966] Trial 20 finished with value: 0.3486238532110092 and parameters: {'n_estimators': 92, 'max_depth': 11, 'min_samples_split': 4, 'min_samples_leaf': 3, 'max_features': 'sqrt'}. Best is trial 20 with value: 0.3486238532110092.\n",
      "[I 2025-09-16 23:32:09,587] Trial 21 finished with value: 0.35514018691588783 and parameters: {'n_estimators': 91, 'max_depth': 11, 'min_samples_split': 4, 'min_samples_leaf': 2, 'max_features': 'sqrt'}. Best is trial 21 with value: 0.35514018691588783.\n",
      "[I 2025-09-16 23:32:10,231] Trial 22 finished with value: 0.32075471698113206 and parameters: {'n_estimators': 90, 'max_depth': 12, 'min_samples_split': 4, 'min_samples_leaf': 2, 'max_features': 'sqrt'}. Best is trial 21 with value: 0.35514018691588783.\n",
      "[I 2025-09-16 23:32:10,845] Trial 23 finished with value: 0.3364485981308411 and parameters: {'n_estimators': 89, 'max_depth': 12, 'min_samples_split': 4, 'min_samples_leaf': 2, 'max_features': 'sqrt'}. Best is trial 21 with value: 0.35514018691588783.\n",
      "[I 2025-09-16 23:32:11,463] Trial 24 finished with value: 0.3018867924528302 and parameters: {'n_estimators': 92, 'max_depth': 12, 'min_samples_split': 4, 'min_samples_leaf': 3, 'max_features': 'sqrt'}. Best is trial 21 with value: 0.35514018691588783.\n",
      "[I 2025-09-16 23:32:12,088] Trial 25 finished with value: 0.3148148148148148 and parameters: {'n_estimators': 96, 'max_depth': 9, 'min_samples_split': 4, 'min_samples_leaf': 1, 'max_features': 'sqrt'}. Best is trial 21 with value: 0.35514018691588783.\n",
      "[I 2025-09-16 23:32:12,566] Trial 26 finished with value: 0.3148148148148148 and parameters: {'n_estimators': 72, 'max_depth': 14, 'min_samples_split': 6, 'min_samples_leaf': 4, 'max_features': 'sqrt'}. Best is trial 21 with value: 0.35514018691588783.\n",
      "[I 2025-09-16 23:32:13,060] Trial 27 finished with value: 0.2268041237113402 and parameters: {'n_estimators': 121, 'max_depth': 4, 'min_samples_split': 6, 'min_samples_leaf': 2, 'max_features': 'sqrt'}. Best is trial 21 with value: 0.35514018691588783.\n",
      "[I 2025-09-16 23:32:13,898] Trial 28 finished with value: 0.2268041237113402 and parameters: {'n_estimators': 153, 'max_depth': 7, 'min_samples_split': 4, 'min_samples_leaf': 3, 'max_features': 'sqrt'}. Best is trial 21 with value: 0.35514018691588783.\n",
      "[I 2025-09-16 23:32:14,707] Trial 29 finished with value: 0.3826086956521739 and parameters: {'n_estimators': 110, 'max_depth': 13, 'min_samples_split': 2, 'min_samples_leaf': 1, 'max_features': 'sqrt'}. Best is trial 29 with value: 0.3826086956521739.\n",
      "[I 2025-09-16 23:32:15,576] Trial 30 finished with value: 0.34782608695652173 and parameters: {'n_estimators': 120, 'max_depth': 13, 'min_samples_split': 2, 'min_samples_leaf': 1, 'max_features': 'sqrt'}. Best is trial 29 with value: 0.3826086956521739.\n",
      "[I 2025-09-16 23:32:16,400] Trial 31 finished with value: 0.35398230088495575 and parameters: {'n_estimators': 112, 'max_depth': 13, 'min_samples_split': 2, 'min_samples_leaf': 1, 'max_features': 'sqrt'}. Best is trial 29 with value: 0.3826086956521739.\n",
      "[I 2025-09-16 23:32:16,805] Trial 32 finished with value: 0.3787878787878788 and parameters: {'n_estimators': 52, 'max_depth': 16, 'min_samples_split': 2, 'min_samples_leaf': 1, 'max_features': 'sqrt'}. Best is trial 29 with value: 0.3826086956521739.\n",
      "[I 2025-09-16 23:32:17,214] Trial 33 finished with value: 0.3787878787878788 and parameters: {'n_estimators': 52, 'max_depth': 16, 'min_samples_split': 2, 'min_samples_leaf': 1, 'max_features': 'sqrt'}. Best is trial 29 with value: 0.3826086956521739.\n",
      "[I 2025-09-16 23:32:17,616] Trial 34 finished with value: 0.3559322033898305 and parameters: {'n_estimators': 51, 'max_depth': 17, 'min_samples_split': 2, 'min_samples_leaf': 1, 'max_features': 'sqrt'}. Best is trial 29 with value: 0.3826086956521739.\n",
      "[I 2025-09-16 23:32:18,034] Trial 35 finished with value: 0.3225806451612903 and parameters: {'n_estimators': 52, 'max_depth': 17, 'min_samples_split': 2, 'min_samples_leaf': 1, 'max_features': 'sqrt'}. Best is trial 29 with value: 0.3826086956521739.\n",
      "[I 2025-09-16 23:32:18,579] Trial 36 finished with value: 0.3793103448275862 and parameters: {'n_estimators': 65, 'max_depth': 16, 'min_samples_split': 3, 'min_samples_leaf': 1, 'max_features': 'sqrt'}. Best is trial 29 with value: 0.3826086956521739.\n",
      "[I 2025-09-16 23:32:19,117] Trial 37 finished with value: 0.32142857142857145 and parameters: {'n_estimators': 74, 'max_depth': 20, 'min_samples_split': 3, 'min_samples_leaf': 2, 'max_features': 'sqrt'}. Best is trial 29 with value: 0.3826086956521739.\n",
      "[I 2025-09-16 23:32:17,635] Trial 38 finished with value: 0.34234234234234234 and parameters: {'n_estimators': 137, 'max_depth': 15, 'min_samples_split': 3, 'min_samples_leaf': 1, 'max_features': 'sqrt'}. Best is trial 29 with value: 0.3826086956521739.\n",
      "[I 2025-09-16 23:32:18,394] Trial 39 finished with value: 0.3333333333333333 and parameters: {'n_estimators': 109, 'max_depth': 16, 'min_samples_split': 2, 'min_samples_leaf': 2, 'max_features': 'sqrt'}. Best is trial 29 with value: 0.3826086956521739.\n",
      "[I 2025-09-16 23:32:18,787] Trial 40 finished with value: 0.27722772277227725 and parameters: {'n_estimators': 69, 'max_depth': 18, 'min_samples_split': 3, 'min_samples_leaf': 9, 'max_features': 'sqrt'}. Best is trial 29 with value: 0.3826086956521739.\n",
      "[I 2025-09-16 23:32:19,176] Trial 41 finished with value: 0.35555555555555557 and parameters: {'n_estimators': 50, 'max_depth': 16, 'min_samples_split': 2, 'min_samples_leaf': 1, 'max_features': 'sqrt'}. Best is trial 29 with value: 0.3826086956521739.\n",
      "[I 2025-09-16 23:32:19,711] Trial 42 finished with value: 0.38596491228070173 and parameters: {'n_estimators': 71, 'max_depth': 17, 'min_samples_split': 2, 'min_samples_leaf': 1, 'max_features': 'sqrt'}. Best is trial 42 with value: 0.38596491228070173.\n",
      "[I 2025-09-16 23:32:20,219] Trial 43 finished with value: 0.3333333333333333 and parameters: {'n_estimators': 72, 'max_depth': 15, 'min_samples_split': 2, 'min_samples_leaf': 2, 'max_features': 'sqrt'}. Best is trial 42 with value: 0.38596491228070173.\n",
      "[I 2025-09-16 23:32:20,766] Trial 44 finished with value: 0.38181818181818183 and parameters: {'n_estimators': 71, 'max_depth': 18, 'min_samples_split': 3, 'min_samples_leaf': 1, 'max_features': 'sqrt'}. Best is trial 42 with value: 0.38596491228070173.\n",
      "[I 2025-09-16 23:32:21,572] Trial 45 finished with value: 0.4 and parameters: {'n_estimators': 107, 'max_depth': 18, 'min_samples_split': 3, 'min_samples_leaf': 1, 'max_features': 'sqrt'}. Best is trial 45 with value: 0.4.\n",
      "[I 2025-09-16 23:32:22,759] Trial 46 finished with value: 0.2376237623762376 and parameters: {'n_estimators': 173, 'max_depth': 19, 'min_samples_split': 5, 'min_samples_leaf': 3, 'max_features': 'sqrt'}. Best is trial 45 with value: 0.4.\n",
      "[I 2025-09-16 23:32:23,489] Trial 47 finished with value: 0.24528301886792453 and parameters: {'n_estimators': 129, 'max_depth': 18, 'min_samples_split': 3, 'min_samples_leaf': 2, 'max_features': 'log2'}. Best is trial 45 with value: 0.4.\n",
      "[I 2025-09-16 23:32:24,282] Trial 48 finished with value: 0.4107142857142857 and parameters: {'n_estimators': 106, 'max_depth': 20, 'min_samples_split': 3, 'min_samples_leaf': 1, 'max_features': 'sqrt'}. Best is trial 48 with value: 0.4107142857142857.\n",
      "[I 2025-09-16 23:32:25,000] Trial 49 finished with value: 0.27184466019417475 and parameters: {'n_estimators': 111, 'max_depth': 20, 'min_samples_split': 5, 'min_samples_leaf': 4, 'max_features': 'sqrt'}. Best is trial 48 with value: 0.4107142857142857.\n",
      "[I 2025-09-16 23:32:25,864] Trial 50 finished with value: 0.27722772277227725 and parameters: {'n_estimators': 158, 'max_depth': 19, 'min_samples_split': 3, 'min_samples_leaf': 3, 'max_features': 'log2'}. Best is trial 48 with value: 0.4107142857142857.\n",
      "[I 2025-09-16 23:32:26,641] Trial 51 finished with value: 0.45614035087719296 and parameters: {'n_estimators': 104, 'max_depth': 18, 'min_samples_split': 3, 'min_samples_leaf': 1, 'max_features': 'sqrt'}. Best is trial 51 with value: 0.45614035087719296.\n",
      "[I 2025-09-16 23:32:27,660] Trial 52 finished with value: 0.3783783783783784 and parameters: {'n_estimators': 138, 'max_depth': 19, 'min_samples_split': 3, 'min_samples_leaf': 1, 'max_features': 'sqrt'}. Best is trial 51 with value: 0.45614035087719296.\n",
      "[I 2025-09-16 23:32:28,416] Trial 53 finished with value: 0.3302752293577982 and parameters: {'n_estimators': 106, 'max_depth': 17, 'min_samples_split': 3, 'min_samples_leaf': 2, 'max_features': 'sqrt'}. Best is trial 51 with value: 0.45614035087719296.\n",
      "[I 2025-09-16 23:32:29,797] Trial 54 finished with value: 0.3047619047619048 and parameters: {'n_estimators': 173, 'max_depth': 20, 'min_samples_split': 3, 'min_samples_leaf': 1, 'max_features': 'sqrt'}. Best is trial 51 with value: 0.45614035087719296.\n",
      "[I 2025-09-16 23:32:30,448] Trial 55 finished with value: 0.3090909090909091 and parameters: {'n_estimators': 81, 'max_depth': 18, 'min_samples_split': 2, 'min_samples_leaf': 2, 'max_features': 'sqrt'}. Best is trial 51 with value: 0.45614035087719296.\n",
      "[I 2025-09-16 23:32:31,920] Trial 56 finished with value: 0.24 and parameters: {'n_estimators': 209, 'max_depth': 18, 'min_samples_split': 4, 'min_samples_leaf': 6, 'max_features': 'sqrt'}. Best is trial 51 with value: 0.45614035087719296.\n",
      "[I 2025-09-16 23:32:32,606] Trial 57 finished with value: 0.3620689655172414 and parameters: {'n_estimators': 102, 'max_depth': 20, 'min_samples_split': 3, 'min_samples_leaf': 1, 'max_features': 'log2'}. Best is trial 51 with value: 0.45614035087719296.\n",
      "[I 2025-09-16 23:32:33,592] Trial 58 finished with value: 0.3302752293577982 and parameters: {'n_estimators': 134, 'max_depth': 19, 'min_samples_split': 2, 'min_samples_leaf': 2, 'max_features': 'sqrt'}. Best is trial 51 with value: 0.45614035087719296.\n",
      "[I 2025-09-16 23:32:35,659] Trial 59 finished with value: 0.3238095238095238 and parameters: {'n_estimators': 270, 'max_depth': 17, 'min_samples_split': 8, 'min_samples_leaf': 1, 'max_features': 'sqrt'}. Best is trial 51 with value: 0.45614035087719296.\n",
      "[I 2025-09-16 23:32:36,293] Trial 60 finished with value: 0.25742574257425743 and parameters: {'n_estimators': 100, 'max_depth': 15, 'min_samples_split': 4, 'min_samples_leaf': 8, 'max_features': 'sqrt'}. Best is trial 51 with value: 0.45614035087719296.\n",
      "[I 2025-09-16 23:32:36,939] Trial 61 finished with value: 0.32727272727272727 and parameters: {'n_estimators': 80, 'max_depth': 17, 'min_samples_split': 3, 'min_samples_leaf': 1, 'max_features': 'sqrt'}. Best is trial 51 with value: 0.45614035087719296.\n",
      "[I 2025-09-16 23:32:37,473] Trial 62 finished with value: 0.3090909090909091 and parameters: {'n_estimators': 66, 'max_depth': 18, 'min_samples_split': 3, 'min_samples_leaf': 1, 'max_features': 'sqrt'}. Best is trial 51 with value: 0.45614035087719296.\n",
      "[I 2025-09-16 23:32:38,121] Trial 63 finished with value: 0.3018867924528302 and parameters: {'n_estimators': 85, 'max_depth': 15, 'min_samples_split': 3, 'min_samples_leaf': 2, 'max_features': 'sqrt'}. Best is trial 51 with value: 0.45614035087719296.\n",
      "[I 2025-09-16 23:32:39,120] Trial 64 finished with value: 0.37383177570093457 and parameters: {'n_estimators': 123, 'max_depth': 14, 'min_samples_split': 4, 'min_samples_leaf': 1, 'max_features': 'sqrt'}. Best is trial 51 with value: 0.45614035087719296.\n",
      "[I 2025-09-16 23:32:39,637] Trial 65 finished with value: 0.3793103448275862 and parameters: {'n_estimators': 63, 'max_depth': 18, 'min_samples_split': 2, 'min_samples_leaf': 2, 'max_features': 'sqrt'}. Best is trial 51 with value: 0.45614035087719296.\n",
      "[I 2025-09-16 23:32:40,815] Trial 66 finished with value: 0.37383177570093457 and parameters: {'n_estimators': 147, 'max_depth': 17, 'min_samples_split': 2, 'min_samples_leaf': 1, 'max_features': 'sqrt'}. Best is trial 51 with value: 0.45614035087719296.\n",
      "[I 2025-09-16 23:32:41,430] Trial 67 finished with value: 0.34545454545454546 and parameters: {'n_estimators': 82, 'max_depth': 19, 'min_samples_split': 5, 'min_samples_leaf': 2, 'max_features': 'sqrt'}. Best is trial 51 with value: 0.45614035087719296.\n",
      "[I 2025-09-16 23:32:42,032] Trial 68 finished with value: 0.3047619047619048 and parameters: {'n_estimators': 100, 'max_depth': 13, 'min_samples_split': 3, 'min_samples_leaf': 3, 'max_features': 'log2'}. Best is trial 51 with value: 0.45614035087719296.\n",
      "[I 2025-09-16 23:32:42,242] Trial 69 finished with value: 0.2641509433962264 and parameters: {'n_estimators': 64, 'max_depth': 2, 'min_samples_split': 4, 'min_samples_leaf': 1, 'max_features': 'sqrt'}. Best is trial 51 with value: 0.45614035087719296.\n",
      "[I 2025-09-16 23:32:44,861] Trial 70 finished with value: 0.35714285714285715 and parameters: {'n_estimators': 337, 'max_depth': 14, 'min_samples_split': 2, 'min_samples_leaf': 1, 'max_features': 'sqrt'}. Best is trial 51 with value: 0.45614035087719296.\n",
      "[I 2025-09-16 23:32:47,792] Trial 71 finished with value: 0.28846153846153844 and parameters: {'n_estimators': 399, 'max_depth': 18, 'min_samples_split': 2, 'min_samples_leaf': 2, 'max_features': 'sqrt'}. Best is trial 51 with value: 0.45614035087719296.\n",
      "[I 2025-09-16 23:32:48,299] Trial 72 finished with value: 0.4094488188976378 and parameters: {'n_estimators': 61, 'max_depth': 19, 'min_samples_split': 2, 'min_samples_leaf': 1, 'max_features': 'sqrt'}. Best is trial 51 with value: 0.45614035087719296.\n",
      "[I 2025-09-16 23:32:48,801] Trial 73 finished with value: 0.34782608695652173 and parameters: {'n_estimators': 62, 'max_depth': 19, 'min_samples_split': 3, 'min_samples_leaf': 1, 'max_features': 'sqrt'}. Best is trial 51 with value: 0.45614035087719296.\n",
      "[I 2025-09-16 23:32:49,517] Trial 74 finished with value: 0.4166666666666667 and parameters: {'n_estimators': 90, 'max_depth': 20, 'min_samples_split': 2, 'min_samples_leaf': 1, 'max_features': 'sqrt'}. Best is trial 51 with value: 0.45614035087719296.\n",
      "[I 2025-09-16 23:32:47,776] Trial 75 finished with value: 0.2222222222222222 and parameters: {'n_estimators': 117, 'max_depth': 20, 'min_samples_split': 2, 'min_samples_leaf': 7, 'max_features': 'sqrt'}. Best is trial 51 with value: 0.45614035087719296.\n",
      "[I 2025-09-16 23:32:48,468] Trial 76 finished with value: 0.2882882882882883 and parameters: {'n_estimators': 94, 'max_depth': 20, 'min_samples_split': 2, 'min_samples_leaf': 2, 'max_features': 'sqrt'}. Best is trial 51 with value: 0.45614035087719296.\n",
      "[I 2025-09-16 23:32:49,091] Trial 77 finished with value: 0.4297520661157025 and parameters: {'n_estimators': 80, 'max_depth': 19, 'min_samples_split': 2, 'min_samples_leaf': 1, 'max_features': 'sqrt'}. Best is trial 51 with value: 0.45614035087719296.\n",
      "[I 2025-09-16 23:32:49,725] Trial 78 finished with value: 0.4297520661157025 and parameters: {'n_estimators': 80, 'max_depth': 19, 'min_samples_split': 2, 'min_samples_leaf': 1, 'max_features': 'sqrt'}. Best is trial 51 with value: 0.45614035087719296.\n",
      "[I 2025-09-16 23:32:50,410] Trial 79 finished with value: 0.4262295081967213 and parameters: {'n_estimators': 80, 'max_depth': 20, 'min_samples_split': 2, 'min_samples_leaf': 1, 'max_features': 'sqrt'}. Best is trial 51 with value: 0.45614035087719296.\n",
      "[I 2025-09-16 23:32:50,959] Trial 80 finished with value: 0.27722772277227725 and parameters: {'n_estimators': 87, 'max_depth': 20, 'min_samples_split': 2, 'min_samples_leaf': 9, 'max_features': 'sqrt'}. Best is trial 51 with value: 0.45614035087719296.\n",
      "[I 2025-09-16 23:32:51,619] Trial 81 finished with value: 0.4297520661157025 and parameters: {'n_estimators': 80, 'max_depth': 19, 'min_samples_split': 2, 'min_samples_leaf': 1, 'max_features': 'sqrt'}. Best is trial 51 with value: 0.45614035087719296.\n",
      "[I 2025-09-16 23:32:52,260] Trial 82 finished with value: 0.43548387096774194 and parameters: {'n_estimators': 78, 'max_depth': 19, 'min_samples_split': 2, 'min_samples_leaf': 1, 'max_features': 'sqrt'}. Best is trial 51 with value: 0.45614035087719296.\n",
      "[I 2025-09-16 23:32:52,935] Trial 83 finished with value: 0.4297520661157025 and parameters: {'n_estimators': 80, 'max_depth': 19, 'min_samples_split': 2, 'min_samples_leaf': 1, 'max_features': 'sqrt'}. Best is trial 51 with value: 0.45614035087719296.\n",
      "[I 2025-09-16 23:32:53,649] Trial 84 finished with value: 0.2882882882882883 and parameters: {'n_estimators': 94, 'max_depth': 20, 'min_samples_split': 2, 'min_samples_leaf': 2, 'max_features': 'sqrt'}. Best is trial 51 with value: 0.45614035087719296.\n",
      "[I 2025-09-16 23:32:54,267] Trial 85 finished with value: 0.43548387096774194 and parameters: {'n_estimators': 78, 'max_depth': 19, 'min_samples_split': 2, 'min_samples_leaf': 1, 'max_features': 'sqrt'}. Best is trial 51 with value: 0.45614035087719296.\n",
      "[I 2025-09-16 23:32:54,914] Trial 86 finished with value: 0.4297520661157025 and parameters: {'n_estimators': 80, 'max_depth': 19, 'min_samples_split': 2, 'min_samples_leaf': 1, 'max_features': 'sqrt'}. Best is trial 51 with value: 0.45614035087719296.\n",
      "[I 2025-09-16 23:32:55,457] Trial 87 finished with value: 0.3684210526315789 and parameters: {'n_estimators': 83, 'max_depth': 19, 'min_samples_split': 2, 'min_samples_leaf': 1, 'max_features': 'log2'}. Best is trial 51 with value: 0.45614035087719296.\n",
      "[I 2025-09-16 23:32:55,925] Trial 88 finished with value: 0.2828282828282828 and parameters: {'n_estimators': 78, 'max_depth': 19, 'min_samples_split': 2, 'min_samples_leaf': 10, 'max_features': 'sqrt'}. Best is trial 51 with value: 0.45614035087719296.\n",
      "[I 2025-09-16 23:32:56,443] Trial 89 finished with value: 0.35185185185185186 and parameters: {'n_estimators': 77, 'max_depth': 19, 'min_samples_split': 2, 'min_samples_leaf': 5, 'max_features': 'sqrt'}. Best is trial 51 with value: 0.45614035087719296.\n",
      "[I 2025-09-16 23:32:57,209] Trial 90 finished with value: 0.3177570093457944 and parameters: {'n_estimators': 98, 'max_depth': 19, 'min_samples_split': 2, 'min_samples_leaf': 2, 'max_features': 'sqrt'}. Best is trial 51 with value: 0.45614035087719296.\n",
      "[I 2025-09-16 23:32:57,926] Trial 91 finished with value: 0.4166666666666667 and parameters: {'n_estimators': 91, 'max_depth': 20, 'min_samples_split': 2, 'min_samples_leaf': 1, 'max_features': 'sqrt'}. Best is trial 51 with value: 0.45614035087719296.\n",
      "[I 2025-09-16 23:32:58,405] Trial 92 finished with value: 0.4126984126984127 and parameters: {'n_estimators': 58, 'max_depth': 18, 'min_samples_split': 2, 'min_samples_leaf': 1, 'max_features': 'sqrt'}. Best is trial 51 with value: 0.45614035087719296.\n",
      "[I 2025-09-16 23:32:59,341] Trial 93 finished with value: 0.3684210526315789 and parameters: {'n_estimators': 116, 'max_depth': 20, 'min_samples_split': 2, 'min_samples_leaf': 1, 'max_features': 'sqrt'}. Best is trial 51 with value: 0.45614035087719296.\n",
      "[I 2025-09-16 23:33:00,011] Trial 94 finished with value: 0.3090909090909091 and parameters: {'n_estimators': 86, 'max_depth': 19, 'min_samples_split': 2, 'min_samples_leaf': 2, 'max_features': 'sqrt'}. Best is trial 51 with value: 0.45614035087719296.\n",
      "[I 2025-09-16 23:33:00,614] Trial 95 finished with value: 0.4166666666666667 and parameters: {'n_estimators': 74, 'max_depth': 18, 'min_samples_split': 2, 'min_samples_leaf': 1, 'max_features': 'sqrt'}. Best is trial 51 with value: 0.45614035087719296.\n",
      "[I 2025-09-16 23:33:01,051] Trial 96 finished with value: 0.4444444444444444 and parameters: {'n_estimators': 55, 'max_depth': 20, 'min_samples_split': 2, 'min_samples_leaf': 1, 'max_features': 'sqrt'}. Best is trial 51 with value: 0.45614035087719296.\n",
      "[I 2025-09-16 23:33:01,494] Trial 97 finished with value: 0.32142857142857145 and parameters: {'n_estimators': 57, 'max_depth': 19, 'min_samples_split': 6, 'min_samples_leaf': 1, 'max_features': 'sqrt'}. Best is trial 51 with value: 0.45614035087719296.\n",
      "[I 2025-09-16 23:33:02,085] Trial 98 finished with value: 0.4262295081967213 and parameters: {'n_estimators': 75, 'max_depth': 20, 'min_samples_split': 2, 'min_samples_leaf': 1, 'max_features': 'sqrt'}. Best is trial 51 with value: 0.45614035087719296.\n",
      "[I 2025-09-16 23:33:02,517] Trial 99 finished with value: 0.3302752293577982 and parameters: {'n_estimators': 57, 'max_depth': 19, 'min_samples_split': 2, 'min_samples_leaf': 2, 'max_features': 'sqrt'}. Best is trial 51 with value: 0.45614035087719296.\n",
      "[I 2025-09-16 23:33:03,034] Trial 100 finished with value: 0.40350877192982454 and parameters: {'n_estimators': 67, 'max_depth': 18, 'min_samples_split': 10, 'min_samples_leaf': 1, 'max_features': 'sqrt'}. Best is trial 51 with value: 0.45614035087719296.\n",
      "[I 2025-09-16 23:33:03,635] Trial 101 finished with value: 0.4166666666666667 and parameters: {'n_estimators': 77, 'max_depth': 20, 'min_samples_split': 2, 'min_samples_leaf': 1, 'max_features': 'sqrt'}. Best is trial 51 with value: 0.45614035087719296.\n",
      "[I 2025-09-16 23:33:04,185] Trial 102 finished with value: 0.42016806722689076 and parameters: {'n_estimators': 71, 'max_depth': 20, 'min_samples_split': 2, 'min_samples_leaf': 1, 'max_features': 'sqrt'}. Best is trial 51 with value: 0.45614035087719296.\n",
      "[I 2025-09-16 23:33:04,592] Trial 103 finished with value: 0.390625 and parameters: {'n_estimators': 50, 'max_depth': 19, 'min_samples_split': 2, 'min_samples_leaf': 1, 'max_features': 'sqrt'}. Best is trial 51 with value: 0.45614035087719296.\n",
      "[I 2025-09-16 23:33:05,231] Trial 104 finished with value: 0.43548387096774194 and parameters: {'n_estimators': 82, 'max_depth': 20, 'min_samples_split': 2, 'min_samples_leaf': 1, 'max_features': 'sqrt'}. Best is trial 51 with value: 0.45614035087719296.\n",
      "[I 2025-09-16 23:33:06,884] Trial 105 finished with value: 0.3669724770642202 and parameters: {'n_estimators': 234, 'max_depth': 18, 'min_samples_split': 3, 'min_samples_leaf': 2, 'max_features': 'sqrt'}. Best is trial 51 with value: 0.45614035087719296.\n",
      "[I 2025-09-16 23:33:08,727] Trial 106 finished with value: 0.32075471698113206 and parameters: {'n_estimators': 295, 'max_depth': 19, 'min_samples_split': 2, 'min_samples_leaf': 1, 'max_features': 'log2'}. Best is trial 51 with value: 0.45614035087719296.\n",
      "[I 2025-09-16 23:33:09,525] Trial 107 finished with value: 0.3963963963963964 and parameters: {'n_estimators': 102, 'max_depth': 20, 'min_samples_split': 3, 'min_samples_leaf': 1, 'max_features': 'sqrt'}. Best is trial 51 with value: 0.45614035087719296.\n",
      "[I 2025-09-16 23:33:10,194] Trial 108 finished with value: 0.35714285714285715 and parameters: {'n_estimators': 84, 'max_depth': 17, 'min_samples_split': 8, 'min_samples_leaf': 1, 'max_features': 'sqrt'}. Best is trial 51 with value: 0.45614035087719296.\n",
      "[I 2025-09-16 23:33:10,722] Trial 109 finished with value: 0.32142857142857145 and parameters: {'n_estimators': 68, 'max_depth': 19, 'min_samples_split': 2, 'min_samples_leaf': 2, 'max_features': 'sqrt'}. Best is trial 51 with value: 0.45614035087719296.\n",
      "[I 2025-09-16 23:33:11,703] Trial 110 finished with value: 0.3119266055045872 and parameters: {'n_estimators': 130, 'max_depth': 18, 'min_samples_split': 2, 'min_samples_leaf': 2, 'max_features': 'sqrt'}. Best is trial 51 with value: 0.45614035087719296.\n",
      "[I 2025-09-16 23:33:12,289] Trial 111 finished with value: 0.4262295081967213 and parameters: {'n_estimators': 76, 'max_depth': 20, 'min_samples_split': 2, 'min_samples_leaf': 1, 'max_features': 'sqrt'}. Best is trial 51 with value: 0.45614035087719296.\n",
      "[I 2025-09-16 23:33:12,754] Trial 112 finished with value: 0.4166666666666667 and parameters: {'n_estimators': 58, 'max_depth': 20, 'min_samples_split': 2, 'min_samples_leaf': 1, 'max_features': 'sqrt'}. Best is trial 51 with value: 0.45614035087719296.\n",
      "[I 2025-09-16 23:33:13,495] Trial 113 finished with value: 0.41935483870967744 and parameters: {'n_estimators': 95, 'max_depth': 19, 'min_samples_split': 2, 'min_samples_leaf': 1, 'max_features': 'sqrt'}. Best is trial 51 with value: 0.45614035087719296.\n",
      "[I 2025-09-16 23:33:14,129] Trial 114 finished with value: 0.4262295081967213 and parameters: {'n_estimators': 81, 'max_depth': 20, 'min_samples_split': 2, 'min_samples_leaf': 1, 'max_features': 'sqrt'}. Best is trial 51 with value: 0.45614035087719296.\n",
      "[I 2025-09-16 23:33:14,994] Trial 115 finished with value: 0.41025641025641024 and parameters: {'n_estimators': 107, 'max_depth': 19, 'min_samples_split': 2, 'min_samples_leaf': 1, 'max_features': 'sqrt'}. Best is trial 51 with value: 0.45614035087719296.\n",
      "[I 2025-09-16 23:33:15,580] Trial 116 finished with value: 0.33962264150943394 and parameters: {'n_estimators': 70, 'max_depth': 18, 'min_samples_split': 3, 'min_samples_leaf': 1, 'max_features': 'sqrt'}. Best is trial 51 with value: 0.45614035087719296.\n",
      "[I 2025-09-16 23:33:16,300] Trial 117 finished with value: 0.4369747899159664 and parameters: {'n_estimators': 88, 'max_depth': 20, 'min_samples_split': 2, 'min_samples_leaf': 1, 'max_features': 'sqrt'}. Best is trial 51 with value: 0.45614035087719296.\n",
      "[I 2025-09-16 23:33:16,861] Trial 118 finished with value: 0.2692307692307692 and parameters: {'n_estimators': 87, 'max_depth': 9, 'min_samples_split': 9, 'min_samples_leaf': 2, 'max_features': 'sqrt'}. Best is trial 51 with value: 0.45614035087719296.\n",
      "[I 2025-09-16 23:33:17,622] Trial 119 finished with value: 0.4036697247706422 and parameters: {'n_estimators': 100, 'max_depth': 19, 'min_samples_split': 3, 'min_samples_leaf': 1, 'max_features': 'sqrt'}. Best is trial 51 with value: 0.45614035087719296.\n",
      "[I 2025-09-16 23:33:18,326] Trial 120 finished with value: 0.3333333333333333 and parameters: {'n_estimators': 113, 'max_depth': 20, 'min_samples_split': 7, 'min_samples_leaf': 2, 'max_features': 'log2'}. Best is trial 51 with value: 0.45614035087719296.\n",
      "[I 2025-09-16 23:33:18,922] Trial 121 finished with value: 0.4262295081967213 and parameters: {'n_estimators': 76, 'max_depth': 20, 'min_samples_split': 2, 'min_samples_leaf': 1, 'max_features': 'sqrt'}. Best is trial 51 with value: 0.45614035087719296.\n",
      "[I 2025-09-16 23:33:16,944] Trial 122 finished with value: 0.39655172413793105 and parameters: {'n_estimators': 64, 'max_depth': 20, 'min_samples_split': 2, 'min_samples_leaf': 1, 'max_features': 'sqrt'}. Best is trial 51 with value: 0.45614035087719296.\n",
      "[I 2025-09-16 23:33:17,678] Trial 123 finished with value: 0.4065040650406504 and parameters: {'n_estimators': 94, 'max_depth': 19, 'min_samples_split': 2, 'min_samples_leaf': 1, 'max_features': 'sqrt'}. Best is trial 51 with value: 0.45614035087719296.\n",
      "[I 2025-09-16 23:33:18,344] Trial 124 finished with value: 0.43333333333333335 and parameters: {'n_estimators': 86, 'max_depth': 20, 'min_samples_split': 2, 'min_samples_leaf': 1, 'max_features': 'sqrt'}. Best is trial 51 with value: 0.45614035087719296.\n",
      "[I 2025-09-16 23:33:19,018] Trial 125 finished with value: 0.45901639344262296 and parameters: {'n_estimators': 87, 'max_depth': 18, 'min_samples_split': 2, 'min_samples_leaf': 1, 'max_features': 'sqrt'}. Best is trial 125 with value: 0.45901639344262296.\n",
      "[I 2025-09-16 23:33:19,686] Trial 126 finished with value: 0.3302752293577982 and parameters: {'n_estimators': 88, 'max_depth': 17, 'min_samples_split': 3, 'min_samples_leaf': 1, 'max_features': 'sqrt'}. Best is trial 125 with value: 0.45901639344262296.\n",
      "[I 2025-09-16 23:33:21,120] Trial 127 finished with value: 0.32432432432432434 and parameters: {'n_estimators': 196, 'max_depth': 18, 'min_samples_split': 2, 'min_samples_leaf': 1, 'max_features': 'sqrt'}. Best is trial 125 with value: 0.45901639344262296.\n",
      "[I 2025-09-16 23:33:21,893] Trial 128 finished with value: 0.37606837606837606 and parameters: {'n_estimators': 103, 'max_depth': 18, 'min_samples_split': 2, 'min_samples_leaf': 1, 'max_features': 'sqrt'}. Best is trial 125 with value: 0.45901639344262296.\n",
      "[I 2025-09-16 23:33:22,682] Trial 129 finished with value: 0.25742574257425743 and parameters: {'n_estimators': 123, 'max_depth': 19, 'min_samples_split': 2, 'min_samples_leaf': 4, 'max_features': 'sqrt'}. Best is trial 125 with value: 0.45901639344262296.\n",
      "[I 2025-09-16 23:33:23,104] Trial 130 finished with value: 0.3302752293577982 and parameters: {'n_estimators': 57, 'max_depth': 19, 'min_samples_split': 2, 'min_samples_leaf': 2, 'max_features': 'sqrt'}. Best is trial 125 with value: 0.45901639344262296.\n",
      "[I 2025-09-16 23:33:23,492] Trial 131 finished with value: 0.2524271844660194 and parameters: {'n_estimators': 83, 'max_depth': 5, 'min_samples_split': 2, 'min_samples_leaf': 1, 'max_features': 'sqrt'}. Best is trial 125 with value: 0.45901639344262296.\n",
      "[I 2025-09-16 23:33:24,203] Trial 132 finished with value: 0.4166666666666667 and parameters: {'n_estimators': 93, 'max_depth': 20, 'min_samples_split': 2, 'min_samples_leaf': 1, 'max_features': 'sqrt'}. Best is trial 125 with value: 0.45901639344262296.\n",
      "[I 2025-09-16 23:33:24,629] Trial 133 finished with value: 0.27450980392156865 and parameters: {'n_estimators': 67, 'max_depth': 19, 'min_samples_split': 2, 'min_samples_leaf': 6, 'max_features': 'sqrt'}. Best is trial 125 with value: 0.45901639344262296.\n",
      "[I 2025-09-16 23:33:25,243] Trial 134 finished with value: 0.4098360655737705 and parameters: {'n_estimators': 79, 'max_depth': 19, 'min_samples_split': 2, 'min_samples_leaf': 1, 'max_features': 'sqrt'}. Best is trial 125 with value: 0.45901639344262296.\n",
      "[I 2025-09-16 23:33:25,948] Trial 135 finished with value: 0.4369747899159664 and parameters: {'n_estimators': 88, 'max_depth': 20, 'min_samples_split': 2, 'min_samples_leaf': 1, 'max_features': 'sqrt'}. Best is trial 125 with value: 0.45901639344262296.\n",
      "[I 2025-09-16 23:33:26,615] Trial 136 finished with value: 0.4369747899159664 and parameters: {'n_estimators': 89, 'max_depth': 18, 'min_samples_split': 2, 'min_samples_leaf': 1, 'max_features': 'sqrt'}. Best is trial 125 with value: 0.45901639344262296.\n",
      "[I 2025-09-16 23:33:27,442] Trial 137 finished with value: 0.3364485981308411 and parameters: {'n_estimators': 112, 'max_depth': 17, 'min_samples_split': 3, 'min_samples_leaf': 1, 'max_features': 'sqrt'}. Best is trial 125 with value: 0.45901639344262296.\n",
      "[I 2025-09-16 23:33:28,093] Trial 138 finished with value: 0.375 and parameters: {'n_estimators': 90, 'max_depth': 18, 'min_samples_split': 2, 'min_samples_leaf': 2, 'max_features': 'sqrt'}. Best is trial 125 with value: 0.45901639344262296.\n",
      "[I 2025-09-16 23:33:28,838] Trial 139 finished with value: 0.39669421487603307 and parameters: {'n_estimators': 99, 'max_depth': 18, 'min_samples_split': 2, 'min_samples_leaf': 1, 'max_features': 'sqrt'}. Best is trial 125 with value: 0.45901639344262296.\n",
      "[I 2025-09-16 23:33:29,374] Trial 140 finished with value: 0.36036036036036034 and parameters: {'n_estimators': 70, 'max_depth': 20, 'min_samples_split': 3, 'min_samples_leaf': 1, 'max_features': 'sqrt'}. Best is trial 125 with value: 0.45901639344262296.\n",
      "[I 2025-09-16 23:33:30,013] Trial 141 finished with value: 0.43548387096774194 and parameters: {'n_estimators': 85, 'max_depth': 19, 'min_samples_split': 2, 'min_samples_leaf': 1, 'max_features': 'sqrt'}. Best is trial 125 with value: 0.45901639344262296.\n",
      "[I 2025-09-16 23:33:30,659] Trial 142 finished with value: 0.42276422764227645 and parameters: {'n_estimators': 86, 'max_depth': 19, 'min_samples_split': 2, 'min_samples_leaf': 1, 'max_features': 'sqrt'}. Best is trial 125 with value: 0.45901639344262296.\n",
      "[I 2025-09-16 23:33:31,390] Trial 143 finished with value: 0.4032258064516129 and parameters: {'n_estimators': 96, 'max_depth': 19, 'min_samples_split': 2, 'min_samples_leaf': 1, 'max_features': 'sqrt'}. Best is trial 125 with value: 0.45901639344262296.\n",
      "[I 2025-09-16 23:33:32,191] Trial 144 finished with value: 0.4067796610169492 and parameters: {'n_estimators': 107, 'max_depth': 20, 'min_samples_split': 2, 'min_samples_leaf': 1, 'max_features': 'sqrt'}. Best is trial 125 with value: 0.45901639344262296.\n",
      "[I 2025-09-16 23:33:32,678] Trial 145 finished with value: 0.4496124031007752 and parameters: {'n_estimators': 63, 'max_depth': 18, 'min_samples_split': 2, 'min_samples_leaf': 1, 'max_features': 'sqrt'}. Best is trial 125 with value: 0.45901639344262296.\n",
      "[I 2025-09-16 23:33:33,167] Trial 146 finished with value: 0.38333333333333336 and parameters: {'n_estimators': 63, 'max_depth': 17, 'min_samples_split': 2, 'min_samples_leaf': 1, 'max_features': 'sqrt'}. Best is trial 125 with value: 0.45901639344262296.\n",
      "[I 2025-09-16 23:33:33,621] Trial 147 finished with value: 0.3486238532110092 and parameters: {'n_estimators': 73, 'max_depth': 18, 'min_samples_split': 2, 'min_samples_leaf': 1, 'max_features': 'log2'}. Best is trial 125 with value: 0.45901639344262296.\n",
      "[I 2025-09-16 23:33:34,048] Trial 148 finished with value: 0.42735042735042733 and parameters: {'n_estimators': 58, 'max_depth': 18, 'min_samples_split': 2, 'min_samples_leaf': 2, 'max_features': 'sqrt'}. Best is trial 125 with value: 0.45901639344262296.\n",
      "[I 2025-09-16 23:33:34,449] Trial 149 finished with value: 0.38596491228070173 and parameters: {'n_estimators': 51, 'max_depth': 16, 'min_samples_split': 3, 'min_samples_leaf': 1, 'max_features': 'sqrt'}. Best is trial 125 with value: 0.45901639344262296.\n",
      "[I 2025-09-16 23:33:35,120] Trial 150 finished with value: 0.42276422764227645 and parameters: {'n_estimators': 87, 'max_depth': 20, 'min_samples_split': 2, 'min_samples_leaf': 1, 'max_features': 'sqrt'}. Best is trial 125 with value: 0.45901639344262296.\n",
      "[I 2025-09-16 23:33:35,695] Trial 151 finished with value: 0.4132231404958678 and parameters: {'n_estimators': 74, 'max_depth': 19, 'min_samples_split': 2, 'min_samples_leaf': 1, 'max_features': 'sqrt'}. Best is trial 125 with value: 0.45901639344262296.\n",
      "[I 2025-09-16 23:33:36,338] Trial 152 finished with value: 0.4166666666666667 and parameters: {'n_estimators': 83, 'max_depth': 18, 'min_samples_split': 2, 'min_samples_leaf': 1, 'max_features': 'sqrt'}. Best is trial 125 with value: 0.45901639344262296.\n",
      "[I 2025-09-16 23:33:36,842] Trial 153 finished with value: 0.3865546218487395 and parameters: {'n_estimators': 65, 'max_depth': 19, 'min_samples_split': 2, 'min_samples_leaf': 1, 'max_features': 'sqrt'}. Best is trial 125 with value: 0.45901639344262296.\n",
      "[I 2025-09-16 23:33:37,620] Trial 154 finished with value: 0.423728813559322 and parameters: {'n_estimators': 92, 'max_depth': 20, 'min_samples_split': 2, 'min_samples_leaf': 1, 'max_features': 'sqrt'}. Best is trial 125 with value: 0.45901639344262296.\n",
      "[I 2025-09-16 23:33:38,276] Trial 155 finished with value: 0.4065040650406504 and parameters: {'n_estimators': 81, 'max_depth': 19, 'min_samples_split': 2, 'min_samples_leaf': 1, 'max_features': 'sqrt'}. Best is trial 125 with value: 0.45901639344262296.\n",
      "[I 2025-09-16 23:33:38,858] Trial 156 finished with value: 0.42016806722689076 and parameters: {'n_estimators': 71, 'max_depth': 20, 'min_samples_split': 2, 'min_samples_leaf': 1, 'max_features': 'sqrt'}. Best is trial 125 with value: 0.45901639344262296.\n",
      "[I 2025-09-16 23:33:40,879] Trial 157 finished with value: 0.35185185185185186 and parameters: {'n_estimators': 261, 'max_depth': 18, 'min_samples_split': 2, 'min_samples_leaf': 1, 'max_features': 'sqrt'}. Best is trial 125 with value: 0.45901639344262296.\n",
      "[I 2025-09-16 23:33:41,648] Trial 158 finished with value: 0.3302752293577982 and parameters: {'n_estimators': 100, 'max_depth': 19, 'min_samples_split': 2, 'min_samples_leaf': 2, 'max_features': 'sqrt'}. Best is trial 125 with value: 0.45901639344262296.\n",
      "[I 2025-09-16 23:33:42,122] Trial 159 finished with value: 0.25742574257425743 and parameters: {'n_estimators': 77, 'max_depth': 20, 'min_samples_split': 2, 'min_samples_leaf': 8, 'max_features': 'sqrt'}. Best is trial 125 with value: 0.45901639344262296.\n",
      "[I 2025-09-16 23:33:42,821] Trial 160 finished with value: 0.3302752293577982 and parameters: {'n_estimators': 90, 'max_depth': 17, 'min_samples_split': 3, 'min_samples_leaf': 1, 'max_features': 'sqrt'}. Best is trial 125 with value: 0.45901639344262296.\n",
      "[I 2025-09-16 23:33:43,453] Trial 161 finished with value: 0.41935483870967744 and parameters: {'n_estimators': 82, 'max_depth': 19, 'min_samples_split': 2, 'min_samples_leaf': 1, 'max_features': 'sqrt'}. Best is trial 125 with value: 0.45901639344262296.\n",
      "[I 2025-09-16 23:33:46,227] Trial 162 finished with value: 0.375 and parameters: {'n_estimators': 369, 'max_depth': 19, 'min_samples_split': 2, 'min_samples_leaf': 1, 'max_features': 'sqrt'}. Best is trial 125 with value: 0.45901639344262296.\n",
      "[I 2025-09-16 23:33:46,742] Trial 163 finished with value: 0.4094488188976378 and parameters: {'n_estimators': 62, 'max_depth': 19, 'min_samples_split': 2, 'min_samples_leaf': 1, 'max_features': 'sqrt'}. Best is trial 125 with value: 0.45901639344262296.\n",
      "[I 2025-09-16 23:33:47,357] Trial 164 finished with value: 0.4262295081967213 and parameters: {'n_estimators': 76, 'max_depth': 20, 'min_samples_split': 2, 'min_samples_leaf': 1, 'max_features': 'sqrt'}. Best is trial 125 with value: 0.45901639344262296.\n",
      "[I 2025-09-16 23:33:48,161] Trial 165 finished with value: 0.43902439024390244 and parameters: {'n_estimators': 95, 'max_depth': 18, 'min_samples_split': 2, 'min_samples_leaf': 1, 'max_features': 'sqrt'}. Best is trial 125 with value: 0.45901639344262296.\n",
      "[I 2025-09-16 23:33:48,981] Trial 166 finished with value: 0.43902439024390244 and parameters: {'n_estimators': 95, 'max_depth': 18, 'min_samples_split': 2, 'min_samples_leaf': 1, 'max_features': 'sqrt'}. Best is trial 125 with value: 0.45901639344262296.\n",
      "[I 2025-09-16 23:33:47,307] Trial 167 finished with value: 0.40336134453781514 and parameters: {'n_estimators': 102, 'max_depth': 18, 'min_samples_split': 2, 'min_samples_leaf': 1, 'max_features': 'sqrt'}. Best is trial 125 with value: 0.45901639344262296.\n",
      "[I 2025-09-16 23:33:48,111] Trial 168 finished with value: 0.40707964601769914 and parameters: {'n_estimators': 96, 'max_depth': 17, 'min_samples_split': 2, 'min_samples_leaf': 1, 'max_features': 'sqrt'}. Best is trial 125 with value: 0.45901639344262296.\n",
      "[I 2025-09-16 23:33:49,006] Trial 169 finished with value: 0.3652173913043478 and parameters: {'n_estimators': 117, 'max_depth': 18, 'min_samples_split': 2, 'min_samples_leaf': 1, 'max_features': 'sqrt'}. Best is trial 125 with value: 0.45901639344262296.\n",
      "[I 2025-09-16 23:33:49,635] Trial 170 finished with value: 0.3047619047619048 and parameters: {'n_estimators': 107, 'max_depth': 17, 'min_samples_split': 2, 'min_samples_leaf': 2, 'max_features': 'log2'}. Best is trial 125 with value: 0.45901639344262296.\n",
      "[I 2025-09-16 23:33:50,332] Trial 171 finished with value: 0.4369747899159664 and parameters: {'n_estimators': 89, 'max_depth': 18, 'min_samples_split': 2, 'min_samples_leaf': 1, 'max_features': 'sqrt'}. Best is trial 125 with value: 0.45901639344262296.\n",
      "[I 2025-09-16 23:33:51,055] Trial 172 finished with value: 0.4369747899159664 and parameters: {'n_estimators': 89, 'max_depth': 18, 'min_samples_split': 2, 'min_samples_leaf': 1, 'max_features': 'sqrt'}. Best is trial 125 with value: 0.45901639344262296.\n",
      "[I 2025-09-16 23:33:51,779] Trial 173 finished with value: 0.4369747899159664 and parameters: {'n_estimators': 89, 'max_depth': 18, 'min_samples_split': 2, 'min_samples_leaf': 1, 'max_features': 'sqrt'}. Best is trial 125 with value: 0.45901639344262296.\n",
      "[I 2025-09-16 23:33:52,479] Trial 174 finished with value: 0.40336134453781514 and parameters: {'n_estimators': 90, 'max_depth': 18, 'min_samples_split': 2, 'min_samples_leaf': 1, 'max_features': 'sqrt'}. Best is trial 125 with value: 0.45901639344262296.\n",
      "[I 2025-09-16 23:33:53,232] Trial 175 finished with value: 0.40707964601769914 and parameters: {'n_estimators': 97, 'max_depth': 17, 'min_samples_split': 2, 'min_samples_leaf': 1, 'max_features': 'sqrt'}. Best is trial 125 with value: 0.45901639344262296.\n",
      "[I 2025-09-16 23:33:53,934] Trial 176 finished with value: 0.4369747899159664 and parameters: {'n_estimators': 89, 'max_depth': 18, 'min_samples_split': 2, 'min_samples_leaf': 1, 'max_features': 'sqrt'}. Best is trial 125 with value: 0.45901639344262296.\n",
      "[I 2025-09-16 23:33:54,737] Trial 177 finished with value: 0.358974358974359 and parameters: {'n_estimators': 106, 'max_depth': 18, 'min_samples_split': 2, 'min_samples_leaf': 1, 'max_features': 'sqrt'}. Best is trial 125 with value: 0.45901639344262296.\n",
      "[I 2025-09-16 23:33:55,261] Trial 178 finished with value: 0.24242424242424243 and parameters: {'n_estimators': 87, 'max_depth': 17, 'min_samples_split': 2, 'min_samples_leaf': 7, 'max_features': 'sqrt'}. Best is trial 125 with value: 0.45901639344262296.\n",
      "[I 2025-09-16 23:33:55,985] Trial 179 finished with value: 0.44036697247706424 and parameters: {'n_estimators': 95, 'max_depth': 16, 'min_samples_split': 3, 'min_samples_leaf': 1, 'max_features': 'sqrt'}. Best is trial 125 with value: 0.45901639344262296.\n",
      "[I 2025-09-16 23:33:56,716] Trial 180 finished with value: 0.375 and parameters: {'n_estimators': 96, 'max_depth': 16, 'min_samples_split': 4, 'min_samples_leaf': 1, 'max_features': 'sqrt'}. Best is trial 125 with value: 0.45901639344262296.\n",
      "[I 2025-09-16 23:33:57,403] Trial 181 finished with value: 0.4369747899159664 and parameters: {'n_estimators': 88, 'max_depth': 18, 'min_samples_split': 2, 'min_samples_leaf': 1, 'max_features': 'sqrt'}. Best is trial 125 with value: 0.45901639344262296.\n",
      "[I 2025-09-16 23:33:58,265] Trial 182 finished with value: 0.4107142857142857 and parameters: {'n_estimators': 111, 'max_depth': 18, 'min_samples_split': 3, 'min_samples_leaf': 1, 'max_features': 'sqrt'}. Best is trial 125 with value: 0.45901639344262296.\n",
      "[I 2025-09-16 23:33:58,995] Trial 183 finished with value: 0.38596491228070173 and parameters: {'n_estimators': 92, 'max_depth': 18, 'min_samples_split': 5, 'min_samples_leaf': 1, 'max_features': 'sqrt'}. Best is trial 125 with value: 0.45901639344262296.\n",
      "[I 2025-09-16 23:33:59,860] Trial 184 finished with value: 0.40336134453781514 and parameters: {'n_estimators': 102, 'max_depth': 18, 'min_samples_split': 2, 'min_samples_leaf': 1, 'max_features': 'sqrt'}. Best is trial 125 with value: 0.45901639344262296.\n",
      "[I 2025-09-16 23:34:00,590] Trial 185 finished with value: 0.3893805309734513 and parameters: {'n_estimators': 89, 'max_depth': 17, 'min_samples_split': 2, 'min_samples_leaf': 1, 'max_features': 'sqrt'}. Best is trial 125 with value: 0.45901639344262296.\n",
      "[I 2025-09-16 23:34:01,314] Trial 186 finished with value: 0.40707964601769914 and parameters: {'n_estimators': 97, 'max_depth': 17, 'min_samples_split': 2, 'min_samples_leaf': 1, 'max_features': 'sqrt'}. Best is trial 125 with value: 0.45901639344262296.\n",
      "[I 2025-09-16 23:34:01,856] Trial 187 finished with value: 0.38333333333333336 and parameters: {'n_estimators': 70, 'max_depth': 18, 'min_samples_split': 2, 'min_samples_leaf': 1, 'max_features': 'sqrt'}. Best is trial 125 with value: 0.45901639344262296.\n",
      "[I 2025-09-16 23:34:02,509] Trial 188 finished with value: 0.4067796610169492 and parameters: {'n_estimators': 85, 'max_depth': 18, 'min_samples_split': 2, 'min_samples_leaf': 1, 'max_features': 'sqrt'}. Best is trial 125 with value: 0.45901639344262296.\n",
      "[I 2025-09-16 23:34:03,286] Trial 189 finished with value: 0.45614035087719296 and parameters: {'n_estimators': 104, 'max_depth': 18, 'min_samples_split': 3, 'min_samples_leaf': 1, 'max_features': 'sqrt'}. Best is trial 125 with value: 0.45901639344262296.\n",
      "[I 2025-09-16 23:34:04,149] Trial 190 finished with value: 0.3364485981308411 and parameters: {'n_estimators': 123, 'max_depth': 16, 'min_samples_split': 3, 'min_samples_leaf': 2, 'max_features': 'sqrt'}. Best is trial 125 with value: 0.45901639344262296.\n",
      "[I 2025-09-16 23:34:04,935] Trial 191 finished with value: 0.42857142857142855 and parameters: {'n_estimators': 105, 'max_depth': 18, 'min_samples_split': 3, 'min_samples_leaf': 1, 'max_features': 'sqrt'}. Best is trial 125 with value: 0.45901639344262296.\n",
      "[I 2025-09-16 23:34:05,654] Trial 192 finished with value: 0.3302752293577982 and parameters: {'n_estimators': 94, 'max_depth': 17, 'min_samples_split': 3, 'min_samples_leaf': 1, 'max_features': 'sqrt'}. Best is trial 125 with value: 0.45901639344262296.\n",
      "[I 2025-09-16 23:34:06,334] Trial 193 finished with value: 0.45901639344262296 and parameters: {'n_estimators': 87, 'max_depth': 18, 'min_samples_split': 2, 'min_samples_leaf': 1, 'max_features': 'sqrt'}. Best is trial 125 with value: 0.45901639344262296.\n",
      "[I 2025-09-16 23:34:07,200] Trial 194 finished with value: 0.34782608695652173 and parameters: {'n_estimators': 114, 'max_depth': 18, 'min_samples_split': 2, 'min_samples_leaf': 1, 'max_features': 'sqrt'}. Best is trial 125 with value: 0.45901639344262296.\n",
      "[I 2025-09-16 23:34:07,965] Trial 195 finished with value: 0.39669421487603307 and parameters: {'n_estimators': 101, 'max_depth': 18, 'min_samples_split': 2, 'min_samples_leaf': 1, 'max_features': 'sqrt'}. Best is trial 125 with value: 0.45901639344262296.\n",
      "[I 2025-09-16 23:34:09,586] Trial 196 finished with value: 0.3177570093457944 and parameters: {'n_estimators': 219, 'max_depth': 17, 'min_samples_split': 3, 'min_samples_leaf': 1, 'max_features': 'sqrt'}. Best is trial 125 with value: 0.45901639344262296.\n",
      "[I 2025-09-16 23:34:11,963] Trial 197 finished with value: 0.32727272727272727 and parameters: {'n_estimators': 324, 'max_depth': 18, 'min_samples_split': 2, 'min_samples_leaf': 1, 'max_features': 'sqrt'}. Best is trial 125 with value: 0.45901639344262296.\n",
      "[I 2025-09-16 23:34:12,652] Trial 198 finished with value: 0.35398230088495575 and parameters: {'n_estimators': 91, 'max_depth': 17, 'min_samples_split': 2, 'min_samples_leaf': 1, 'max_features': 'sqrt'}. Best is trial 125 with value: 0.45901639344262296.\n",
      "[I 2025-09-16 23:34:13,232] Trial 199 finished with value: 0.3898305084745763 and parameters: {'n_estimators': 76, 'max_depth': 18, 'min_samples_split': 2, 'min_samples_leaf': 1, 'max_features': 'sqrt'}. Best is trial 125 with value: 0.45901639344262296.\n"
     ]
    },
    {
     "name": "stdout",
     "output_type": "stream",
     "text": [
      "Optuna duró 157.25s en 200 trials\n"
     ]
    }
   ],
   "source": [
    "# Crear estudio y medir tiempo de Optuna\n",
    "t0 = time.perf_counter()\n",
    "\n",
    "set_seeds(SEED)\n",
    "study = optuna.create_study(\n",
    "    direction=\"maximize\", \n",
    "    sampler=optuna.samplers.TPESampler(seed=SEED))\n",
    "study.optimize(objective, n_trials=200)\n",
    "opt_duration_sec = time.perf_counter() - t0\n",
    "n_trials_run = len(study.trials)\n",
    "print(f\"Optuna duró {opt_duration_sec:.2f}s en {n_trials_run} trials\")"
   ]
  },
  {
   "cell_type": "code",
   "execution_count": 8,
   "id": "2c1af027",
   "metadata": {},
   "outputs": [
    {
     "data": {
      "application/vnd.plotly.v1+json": {
       "config": {
        "plotlyServerURL": "https://plot.ly"
       },
       "data": [
        {
         "mode": "markers",
         "name": "Objective Value",
         "type": "scatter",
         "x": [
          0,
          1,
          2,
          3,
          4,
          5,
          6,
          7,
          8,
          9,
          10,
          11,
          12,
          13,
          14,
          15,
          16,
          17,
          18,
          19,
          20,
          21,
          22,
          23,
          24,
          25,
          26,
          27,
          28,
          29,
          30,
          31,
          32,
          33,
          34,
          35,
          36,
          37,
          38,
          39,
          40,
          41,
          42,
          43,
          44,
          45,
          46,
          47,
          48,
          49,
          50,
          51,
          52,
          53,
          54,
          55,
          56,
          57,
          58,
          59,
          60,
          61,
          62,
          63,
          64,
          65,
          66,
          67,
          68,
          69,
          70,
          71,
          72,
          73,
          74,
          75,
          76,
          77,
          78,
          79,
          80,
          81,
          82,
          83,
          84,
          85,
          86,
          87,
          88,
          89,
          90,
          91,
          92,
          93,
          94,
          95,
          96,
          97,
          98,
          99,
          100,
          101,
          102,
          103,
          104,
          105,
          106,
          107,
          108,
          109,
          110,
          111,
          112,
          113,
          114,
          115,
          116,
          117,
          118,
          119,
          120,
          121,
          122,
          123,
          124,
          125,
          126,
          127,
          128,
          129,
          130,
          131,
          132,
          133,
          134,
          135,
          136,
          137,
          138,
          139,
          140,
          141,
          142,
          143,
          144,
          145,
          146,
          147,
          148,
          149,
          150,
          151,
          152,
          153,
          154,
          155,
          156,
          157,
          158,
          159,
          160,
          161,
          162,
          163,
          164,
          165,
          166,
          167,
          168,
          169,
          170,
          171,
          172,
          173,
          174,
          175,
          176,
          177,
          178,
          179,
          180,
          181,
          182,
          183,
          184,
          185,
          186,
          187,
          188,
          189,
          190,
          191,
          192,
          193,
          194,
          195,
          196,
          197,
          198,
          199
         ],
         "y": [
          0.25742574257425743,
          0.2268041237113402,
          0.26262626262626265,
          0.24,
          0.20618556701030927,
          0.2912621359223301,
          0.18556701030927836,
          0.2692307692307692,
          0.28,
          0.20618556701030927,
          0.2268041237113402,
          0.2549019607843137,
          0.24,
          0.2222222222222222,
          0.24489795918367346,
          0.24,
          0.26262626262626265,
          0.27450980392156865,
          0.2268041237113402,
          0.2524271844660194,
          0.3486238532110092,
          0.35514018691588783,
          0.32075471698113206,
          0.3364485981308411,
          0.3018867924528302,
          0.3148148148148148,
          0.3148148148148148,
          0.2268041237113402,
          0.2268041237113402,
          0.3826086956521739,
          0.34782608695652173,
          0.35398230088495575,
          0.3787878787878788,
          0.3787878787878788,
          0.3559322033898305,
          0.3225806451612903,
          0.3793103448275862,
          0.32142857142857145,
          0.34234234234234234,
          0.3333333333333333,
          0.27722772277227725,
          0.35555555555555557,
          0.38596491228070173,
          0.3333333333333333,
          0.38181818181818183,
          0.4,
          0.2376237623762376,
          0.24528301886792453,
          0.4107142857142857,
          0.27184466019417475,
          0.27722772277227725,
          0.45614035087719296,
          0.3783783783783784,
          0.3302752293577982,
          0.3047619047619048,
          0.3090909090909091,
          0.24,
          0.3620689655172414,
          0.3302752293577982,
          0.3238095238095238,
          0.25742574257425743,
          0.32727272727272727,
          0.3090909090909091,
          0.3018867924528302,
          0.37383177570093457,
          0.3793103448275862,
          0.37383177570093457,
          0.34545454545454546,
          0.3047619047619048,
          0.2641509433962264,
          0.35714285714285715,
          0.28846153846153844,
          0.4094488188976378,
          0.34782608695652173,
          0.4166666666666667,
          0.2222222222222222,
          0.2882882882882883,
          0.4297520661157025,
          0.4297520661157025,
          0.4262295081967213,
          0.27722772277227725,
          0.4297520661157025,
          0.43548387096774194,
          0.4297520661157025,
          0.2882882882882883,
          0.43548387096774194,
          0.4297520661157025,
          0.3684210526315789,
          0.2828282828282828,
          0.35185185185185186,
          0.3177570093457944,
          0.4166666666666667,
          0.4126984126984127,
          0.3684210526315789,
          0.3090909090909091,
          0.4166666666666667,
          0.4444444444444444,
          0.32142857142857145,
          0.4262295081967213,
          0.3302752293577982,
          0.40350877192982454,
          0.4166666666666667,
          0.42016806722689076,
          0.390625,
          0.43548387096774194,
          0.3669724770642202,
          0.32075471698113206,
          0.3963963963963964,
          0.35714285714285715,
          0.32142857142857145,
          0.3119266055045872,
          0.4262295081967213,
          0.4166666666666667,
          0.41935483870967744,
          0.4262295081967213,
          0.41025641025641024,
          0.33962264150943394,
          0.4369747899159664,
          0.2692307692307692,
          0.4036697247706422,
          0.3333333333333333,
          0.4262295081967213,
          0.39655172413793105,
          0.4065040650406504,
          0.43333333333333335,
          0.45901639344262296,
          0.3302752293577982,
          0.32432432432432434,
          0.37606837606837606,
          0.25742574257425743,
          0.3302752293577982,
          0.2524271844660194,
          0.4166666666666667,
          0.27450980392156865,
          0.4098360655737705,
          0.4369747899159664,
          0.4369747899159664,
          0.3364485981308411,
          0.375,
          0.39669421487603307,
          0.36036036036036034,
          0.43548387096774194,
          0.42276422764227645,
          0.4032258064516129,
          0.4067796610169492,
          0.4496124031007752,
          0.38333333333333336,
          0.3486238532110092,
          0.42735042735042733,
          0.38596491228070173,
          0.42276422764227645,
          0.4132231404958678,
          0.4166666666666667,
          0.3865546218487395,
          0.423728813559322,
          0.4065040650406504,
          0.42016806722689076,
          0.35185185185185186,
          0.3302752293577982,
          0.25742574257425743,
          0.3302752293577982,
          0.41935483870967744,
          0.375,
          0.4094488188976378,
          0.4262295081967213,
          0.43902439024390244,
          0.43902439024390244,
          0.40336134453781514,
          0.40707964601769914,
          0.3652173913043478,
          0.3047619047619048,
          0.4369747899159664,
          0.4369747899159664,
          0.4369747899159664,
          0.40336134453781514,
          0.40707964601769914,
          0.4369747899159664,
          0.358974358974359,
          0.24242424242424243,
          0.44036697247706424,
          0.375,
          0.4369747899159664,
          0.4107142857142857,
          0.38596491228070173,
          0.40336134453781514,
          0.3893805309734513,
          0.40707964601769914,
          0.38333333333333336,
          0.4067796610169492,
          0.45614035087719296,
          0.3364485981308411,
          0.42857142857142855,
          0.3302752293577982,
          0.45901639344262296,
          0.34782608695652173,
          0.39669421487603307,
          0.3177570093457944,
          0.32727272727272727,
          0.35398230088495575,
          0.3898305084745763
         ]
        },
        {
         "mode": "lines",
         "name": "Best Value",
         "type": "scatter",
         "x": [
          0,
          1,
          2,
          3,
          4,
          5,
          6,
          7,
          8,
          9,
          10,
          11,
          12,
          13,
          14,
          15,
          16,
          17,
          18,
          19,
          20,
          21,
          22,
          23,
          24,
          25,
          26,
          27,
          28,
          29,
          30,
          31,
          32,
          33,
          34,
          35,
          36,
          37,
          38,
          39,
          40,
          41,
          42,
          43,
          44,
          45,
          46,
          47,
          48,
          49,
          50,
          51,
          52,
          53,
          54,
          55,
          56,
          57,
          58,
          59,
          60,
          61,
          62,
          63,
          64,
          65,
          66,
          67,
          68,
          69,
          70,
          71,
          72,
          73,
          74,
          75,
          76,
          77,
          78,
          79,
          80,
          81,
          82,
          83,
          84,
          85,
          86,
          87,
          88,
          89,
          90,
          91,
          92,
          93,
          94,
          95,
          96,
          97,
          98,
          99,
          100,
          101,
          102,
          103,
          104,
          105,
          106,
          107,
          108,
          109,
          110,
          111,
          112,
          113,
          114,
          115,
          116,
          117,
          118,
          119,
          120,
          121,
          122,
          123,
          124,
          125,
          126,
          127,
          128,
          129,
          130,
          131,
          132,
          133,
          134,
          135,
          136,
          137,
          138,
          139,
          140,
          141,
          142,
          143,
          144,
          145,
          146,
          147,
          148,
          149,
          150,
          151,
          152,
          153,
          154,
          155,
          156,
          157,
          158,
          159,
          160,
          161,
          162,
          163,
          164,
          165,
          166,
          167,
          168,
          169,
          170,
          171,
          172,
          173,
          174,
          175,
          176,
          177,
          178,
          179,
          180,
          181,
          182,
          183,
          184,
          185,
          186,
          187,
          188,
          189,
          190,
          191,
          192,
          193,
          194,
          195,
          196,
          197,
          198,
          199
         ],
         "y": [
          0.25742574257425743,
          0.25742574257425743,
          0.26262626262626265,
          0.26262626262626265,
          0.26262626262626265,
          0.2912621359223301,
          0.2912621359223301,
          0.2912621359223301,
          0.2912621359223301,
          0.2912621359223301,
          0.2912621359223301,
          0.2912621359223301,
          0.2912621359223301,
          0.2912621359223301,
          0.2912621359223301,
          0.2912621359223301,
          0.2912621359223301,
          0.2912621359223301,
          0.2912621359223301,
          0.2912621359223301,
          0.3486238532110092,
          0.35514018691588783,
          0.35514018691588783,
          0.35514018691588783,
          0.35514018691588783,
          0.35514018691588783,
          0.35514018691588783,
          0.35514018691588783,
          0.35514018691588783,
          0.3826086956521739,
          0.3826086956521739,
          0.3826086956521739,
          0.3826086956521739,
          0.3826086956521739,
          0.3826086956521739,
          0.3826086956521739,
          0.3826086956521739,
          0.3826086956521739,
          0.3826086956521739,
          0.3826086956521739,
          0.3826086956521739,
          0.3826086956521739,
          0.38596491228070173,
          0.38596491228070173,
          0.38596491228070173,
          0.4,
          0.4,
          0.4,
          0.4107142857142857,
          0.4107142857142857,
          0.4107142857142857,
          0.45614035087719296,
          0.45614035087719296,
          0.45614035087719296,
          0.45614035087719296,
          0.45614035087719296,
          0.45614035087719296,
          0.45614035087719296,
          0.45614035087719296,
          0.45614035087719296,
          0.45614035087719296,
          0.45614035087719296,
          0.45614035087719296,
          0.45614035087719296,
          0.45614035087719296,
          0.45614035087719296,
          0.45614035087719296,
          0.45614035087719296,
          0.45614035087719296,
          0.45614035087719296,
          0.45614035087719296,
          0.45614035087719296,
          0.45614035087719296,
          0.45614035087719296,
          0.45614035087719296,
          0.45614035087719296,
          0.45614035087719296,
          0.45614035087719296,
          0.45614035087719296,
          0.45614035087719296,
          0.45614035087719296,
          0.45614035087719296,
          0.45614035087719296,
          0.45614035087719296,
          0.45614035087719296,
          0.45614035087719296,
          0.45614035087719296,
          0.45614035087719296,
          0.45614035087719296,
          0.45614035087719296,
          0.45614035087719296,
          0.45614035087719296,
          0.45614035087719296,
          0.45614035087719296,
          0.45614035087719296,
          0.45614035087719296,
          0.45614035087719296,
          0.45614035087719296,
          0.45614035087719296,
          0.45614035087719296,
          0.45614035087719296,
          0.45614035087719296,
          0.45614035087719296,
          0.45614035087719296,
          0.45614035087719296,
          0.45614035087719296,
          0.45614035087719296,
          0.45614035087719296,
          0.45614035087719296,
          0.45614035087719296,
          0.45614035087719296,
          0.45614035087719296,
          0.45614035087719296,
          0.45614035087719296,
          0.45614035087719296,
          0.45614035087719296,
          0.45614035087719296,
          0.45614035087719296,
          0.45614035087719296,
          0.45614035087719296,
          0.45614035087719296,
          0.45614035087719296,
          0.45614035087719296,
          0.45614035087719296,
          0.45614035087719296,
          0.45901639344262296,
          0.45901639344262296,
          0.45901639344262296,
          0.45901639344262296,
          0.45901639344262296,
          0.45901639344262296,
          0.45901639344262296,
          0.45901639344262296,
          0.45901639344262296,
          0.45901639344262296,
          0.45901639344262296,
          0.45901639344262296,
          0.45901639344262296,
          0.45901639344262296,
          0.45901639344262296,
          0.45901639344262296,
          0.45901639344262296,
          0.45901639344262296,
          0.45901639344262296,
          0.45901639344262296,
          0.45901639344262296,
          0.45901639344262296,
          0.45901639344262296,
          0.45901639344262296,
          0.45901639344262296,
          0.45901639344262296,
          0.45901639344262296,
          0.45901639344262296,
          0.45901639344262296,
          0.45901639344262296,
          0.45901639344262296,
          0.45901639344262296,
          0.45901639344262296,
          0.45901639344262296,
          0.45901639344262296,
          0.45901639344262296,
          0.45901639344262296,
          0.45901639344262296,
          0.45901639344262296,
          0.45901639344262296,
          0.45901639344262296,
          0.45901639344262296,
          0.45901639344262296,
          0.45901639344262296,
          0.45901639344262296,
          0.45901639344262296,
          0.45901639344262296,
          0.45901639344262296,
          0.45901639344262296,
          0.45901639344262296,
          0.45901639344262296,
          0.45901639344262296,
          0.45901639344262296,
          0.45901639344262296,
          0.45901639344262296,
          0.45901639344262296,
          0.45901639344262296,
          0.45901639344262296,
          0.45901639344262296,
          0.45901639344262296,
          0.45901639344262296,
          0.45901639344262296,
          0.45901639344262296,
          0.45901639344262296,
          0.45901639344262296,
          0.45901639344262296,
          0.45901639344262296,
          0.45901639344262296,
          0.45901639344262296,
          0.45901639344262296,
          0.45901639344262296,
          0.45901639344262296,
          0.45901639344262296,
          0.45901639344262296,
          0.45901639344262296
         ]
        },
        {
         "marker": {
          "color": "#cccccc"
         },
         "mode": "markers",
         "name": "Infeasible Trial",
         "showlegend": false,
         "type": "scatter",
         "x": [],
         "y": []
        }
       ],
       "layout": {
        "template": {
         "data": {
          "bar": [
           {
            "error_x": {
             "color": "#2a3f5f"
            },
            "error_y": {
             "color": "#2a3f5f"
            },
            "marker": {
             "line": {
              "color": "#E5ECF6",
              "width": 0.5
             },
             "pattern": {
              "fillmode": "overlay",
              "size": 10,
              "solidity": 0.2
             }
            },
            "type": "bar"
           }
          ],
          "barpolar": [
           {
            "marker": {
             "line": {
              "color": "#E5ECF6",
              "width": 0.5
             },
             "pattern": {
              "fillmode": "overlay",
              "size": 10,
              "solidity": 0.2
             }
            },
            "type": "barpolar"
           }
          ],
          "carpet": [
           {
            "aaxis": {
             "endlinecolor": "#2a3f5f",
             "gridcolor": "white",
             "linecolor": "white",
             "minorgridcolor": "white",
             "startlinecolor": "#2a3f5f"
            },
            "baxis": {
             "endlinecolor": "#2a3f5f",
             "gridcolor": "white",
             "linecolor": "white",
             "minorgridcolor": "white",
             "startlinecolor": "#2a3f5f"
            },
            "type": "carpet"
           }
          ],
          "choropleth": [
           {
            "colorbar": {
             "outlinewidth": 0,
             "ticks": ""
            },
            "type": "choropleth"
           }
          ],
          "contour": [
           {
            "colorbar": {
             "outlinewidth": 0,
             "ticks": ""
            },
            "colorscale": [
             [
              0,
              "#0d0887"
             ],
             [
              0.1111111111111111,
              "#46039f"
             ],
             [
              0.2222222222222222,
              "#7201a8"
             ],
             [
              0.3333333333333333,
              "#9c179e"
             ],
             [
              0.4444444444444444,
              "#bd3786"
             ],
             [
              0.5555555555555556,
              "#d8576b"
             ],
             [
              0.6666666666666666,
              "#ed7953"
             ],
             [
              0.7777777777777778,
              "#fb9f3a"
             ],
             [
              0.8888888888888888,
              "#fdca26"
             ],
             [
              1,
              "#f0f921"
             ]
            ],
            "type": "contour"
           }
          ],
          "contourcarpet": [
           {
            "colorbar": {
             "outlinewidth": 0,
             "ticks": ""
            },
            "type": "contourcarpet"
           }
          ],
          "heatmap": [
           {
            "colorbar": {
             "outlinewidth": 0,
             "ticks": ""
            },
            "colorscale": [
             [
              0,
              "#0d0887"
             ],
             [
              0.1111111111111111,
              "#46039f"
             ],
             [
              0.2222222222222222,
              "#7201a8"
             ],
             [
              0.3333333333333333,
              "#9c179e"
             ],
             [
              0.4444444444444444,
              "#bd3786"
             ],
             [
              0.5555555555555556,
              "#d8576b"
             ],
             [
              0.6666666666666666,
              "#ed7953"
             ],
             [
              0.7777777777777778,
              "#fb9f3a"
             ],
             [
              0.8888888888888888,
              "#fdca26"
             ],
             [
              1,
              "#f0f921"
             ]
            ],
            "type": "heatmap"
           }
          ],
          "histogram": [
           {
            "marker": {
             "pattern": {
              "fillmode": "overlay",
              "size": 10,
              "solidity": 0.2
             }
            },
            "type": "histogram"
           }
          ],
          "histogram2d": [
           {
            "colorbar": {
             "outlinewidth": 0,
             "ticks": ""
            },
            "colorscale": [
             [
              0,
              "#0d0887"
             ],
             [
              0.1111111111111111,
              "#46039f"
             ],
             [
              0.2222222222222222,
              "#7201a8"
             ],
             [
              0.3333333333333333,
              "#9c179e"
             ],
             [
              0.4444444444444444,
              "#bd3786"
             ],
             [
              0.5555555555555556,
              "#d8576b"
             ],
             [
              0.6666666666666666,
              "#ed7953"
             ],
             [
              0.7777777777777778,
              "#fb9f3a"
             ],
             [
              0.8888888888888888,
              "#fdca26"
             ],
             [
              1,
              "#f0f921"
             ]
            ],
            "type": "histogram2d"
           }
          ],
          "histogram2dcontour": [
           {
            "colorbar": {
             "outlinewidth": 0,
             "ticks": ""
            },
            "colorscale": [
             [
              0,
              "#0d0887"
             ],
             [
              0.1111111111111111,
              "#46039f"
             ],
             [
              0.2222222222222222,
              "#7201a8"
             ],
             [
              0.3333333333333333,
              "#9c179e"
             ],
             [
              0.4444444444444444,
              "#bd3786"
             ],
             [
              0.5555555555555556,
              "#d8576b"
             ],
             [
              0.6666666666666666,
              "#ed7953"
             ],
             [
              0.7777777777777778,
              "#fb9f3a"
             ],
             [
              0.8888888888888888,
              "#fdca26"
             ],
             [
              1,
              "#f0f921"
             ]
            ],
            "type": "histogram2dcontour"
           }
          ],
          "mesh3d": [
           {
            "colorbar": {
             "outlinewidth": 0,
             "ticks": ""
            },
            "type": "mesh3d"
           }
          ],
          "parcoords": [
           {
            "line": {
             "colorbar": {
              "outlinewidth": 0,
              "ticks": ""
             }
            },
            "type": "parcoords"
           }
          ],
          "pie": [
           {
            "automargin": true,
            "type": "pie"
           }
          ],
          "scatter": [
           {
            "fillpattern": {
             "fillmode": "overlay",
             "size": 10,
             "solidity": 0.2
            },
            "type": "scatter"
           }
          ],
          "scatter3d": [
           {
            "line": {
             "colorbar": {
              "outlinewidth": 0,
              "ticks": ""
             }
            },
            "marker": {
             "colorbar": {
              "outlinewidth": 0,
              "ticks": ""
             }
            },
            "type": "scatter3d"
           }
          ],
          "scattercarpet": [
           {
            "marker": {
             "colorbar": {
              "outlinewidth": 0,
              "ticks": ""
             }
            },
            "type": "scattercarpet"
           }
          ],
          "scattergeo": [
           {
            "marker": {
             "colorbar": {
              "outlinewidth": 0,
              "ticks": ""
             }
            },
            "type": "scattergeo"
           }
          ],
          "scattergl": [
           {
            "marker": {
             "colorbar": {
              "outlinewidth": 0,
              "ticks": ""
             }
            },
            "type": "scattergl"
           }
          ],
          "scattermap": [
           {
            "marker": {
             "colorbar": {
              "outlinewidth": 0,
              "ticks": ""
             }
            },
            "type": "scattermap"
           }
          ],
          "scattermapbox": [
           {
            "marker": {
             "colorbar": {
              "outlinewidth": 0,
              "ticks": ""
             }
            },
            "type": "scattermapbox"
           }
          ],
          "scatterpolar": [
           {
            "marker": {
             "colorbar": {
              "outlinewidth": 0,
              "ticks": ""
             }
            },
            "type": "scatterpolar"
           }
          ],
          "scatterpolargl": [
           {
            "marker": {
             "colorbar": {
              "outlinewidth": 0,
              "ticks": ""
             }
            },
            "type": "scatterpolargl"
           }
          ],
          "scatterternary": [
           {
            "marker": {
             "colorbar": {
              "outlinewidth": 0,
              "ticks": ""
             }
            },
            "type": "scatterternary"
           }
          ],
          "surface": [
           {
            "colorbar": {
             "outlinewidth": 0,
             "ticks": ""
            },
            "colorscale": [
             [
              0,
              "#0d0887"
             ],
             [
              0.1111111111111111,
              "#46039f"
             ],
             [
              0.2222222222222222,
              "#7201a8"
             ],
             [
              0.3333333333333333,
              "#9c179e"
             ],
             [
              0.4444444444444444,
              "#bd3786"
             ],
             [
              0.5555555555555556,
              "#d8576b"
             ],
             [
              0.6666666666666666,
              "#ed7953"
             ],
             [
              0.7777777777777778,
              "#fb9f3a"
             ],
             [
              0.8888888888888888,
              "#fdca26"
             ],
             [
              1,
              "#f0f921"
             ]
            ],
            "type": "surface"
           }
          ],
          "table": [
           {
            "cells": {
             "fill": {
              "color": "#EBF0F8"
             },
             "line": {
              "color": "white"
             }
            },
            "header": {
             "fill": {
              "color": "#C8D4E3"
             },
             "line": {
              "color": "white"
             }
            },
            "type": "table"
           }
          ]
         },
         "layout": {
          "annotationdefaults": {
           "arrowcolor": "#2a3f5f",
           "arrowhead": 0,
           "arrowwidth": 1
          },
          "autotypenumbers": "strict",
          "coloraxis": {
           "colorbar": {
            "outlinewidth": 0,
            "ticks": ""
           }
          },
          "colorscale": {
           "diverging": [
            [
             0,
             "#8e0152"
            ],
            [
             0.1,
             "#c51b7d"
            ],
            [
             0.2,
             "#de77ae"
            ],
            [
             0.3,
             "#f1b6da"
            ],
            [
             0.4,
             "#fde0ef"
            ],
            [
             0.5,
             "#f7f7f7"
            ],
            [
             0.6,
             "#e6f5d0"
            ],
            [
             0.7,
             "#b8e186"
            ],
            [
             0.8,
             "#7fbc41"
            ],
            [
             0.9,
             "#4d9221"
            ],
            [
             1,
             "#276419"
            ]
           ],
           "sequential": [
            [
             0,
             "#0d0887"
            ],
            [
             0.1111111111111111,
             "#46039f"
            ],
            [
             0.2222222222222222,
             "#7201a8"
            ],
            [
             0.3333333333333333,
             "#9c179e"
            ],
            [
             0.4444444444444444,
             "#bd3786"
            ],
            [
             0.5555555555555556,
             "#d8576b"
            ],
            [
             0.6666666666666666,
             "#ed7953"
            ],
            [
             0.7777777777777778,
             "#fb9f3a"
            ],
            [
             0.8888888888888888,
             "#fdca26"
            ],
            [
             1,
             "#f0f921"
            ]
           ],
           "sequentialminus": [
            [
             0,
             "#0d0887"
            ],
            [
             0.1111111111111111,
             "#46039f"
            ],
            [
             0.2222222222222222,
             "#7201a8"
            ],
            [
             0.3333333333333333,
             "#9c179e"
            ],
            [
             0.4444444444444444,
             "#bd3786"
            ],
            [
             0.5555555555555556,
             "#d8576b"
            ],
            [
             0.6666666666666666,
             "#ed7953"
            ],
            [
             0.7777777777777778,
             "#fb9f3a"
            ],
            [
             0.8888888888888888,
             "#fdca26"
            ],
            [
             1,
             "#f0f921"
            ]
           ]
          },
          "colorway": [
           "#636efa",
           "#EF553B",
           "#00cc96",
           "#ab63fa",
           "#FFA15A",
           "#19d3f3",
           "#FF6692",
           "#B6E880",
           "#FF97FF",
           "#FECB52"
          ],
          "font": {
           "color": "#2a3f5f"
          },
          "geo": {
           "bgcolor": "white",
           "lakecolor": "white",
           "landcolor": "#E5ECF6",
           "showlakes": true,
           "showland": true,
           "subunitcolor": "white"
          },
          "hoverlabel": {
           "align": "left"
          },
          "hovermode": "closest",
          "mapbox": {
           "style": "light"
          },
          "paper_bgcolor": "white",
          "plot_bgcolor": "#E5ECF6",
          "polar": {
           "angularaxis": {
            "gridcolor": "white",
            "linecolor": "white",
            "ticks": ""
           },
           "bgcolor": "#E5ECF6",
           "radialaxis": {
            "gridcolor": "white",
            "linecolor": "white",
            "ticks": ""
           }
          },
          "scene": {
           "xaxis": {
            "backgroundcolor": "#E5ECF6",
            "gridcolor": "white",
            "gridwidth": 2,
            "linecolor": "white",
            "showbackground": true,
            "ticks": "",
            "zerolinecolor": "white"
           },
           "yaxis": {
            "backgroundcolor": "#E5ECF6",
            "gridcolor": "white",
            "gridwidth": 2,
            "linecolor": "white",
            "showbackground": true,
            "ticks": "",
            "zerolinecolor": "white"
           },
           "zaxis": {
            "backgroundcolor": "#E5ECF6",
            "gridcolor": "white",
            "gridwidth": 2,
            "linecolor": "white",
            "showbackground": true,
            "ticks": "",
            "zerolinecolor": "white"
           }
          },
          "shapedefaults": {
           "line": {
            "color": "#2a3f5f"
           }
          },
          "ternary": {
           "aaxis": {
            "gridcolor": "white",
            "linecolor": "white",
            "ticks": ""
           },
           "baxis": {
            "gridcolor": "white",
            "linecolor": "white",
            "ticks": ""
           },
           "bgcolor": "#E5ECF6",
           "caxis": {
            "gridcolor": "white",
            "linecolor": "white",
            "ticks": ""
           }
          },
          "title": {
           "x": 0.05
          },
          "xaxis": {
           "automargin": true,
           "gridcolor": "white",
           "linecolor": "white",
           "ticks": "",
           "title": {
            "standoff": 15
           },
           "zerolinecolor": "white",
           "zerolinewidth": 2
          },
          "yaxis": {
           "automargin": true,
           "gridcolor": "white",
           "linecolor": "white",
           "ticks": "",
           "title": {
            "standoff": 15
           },
           "zerolinecolor": "white",
           "zerolinewidth": 2
          }
         }
        },
        "title": {
         "text": "Optimization History Plot"
        },
        "xaxis": {
         "title": {
          "text": "Trial"
         }
        },
        "yaxis": {
         "title": {
          "text": "Objective Value"
         }
        }
       }
      }
     },
     "metadata": {},
     "output_type": "display_data"
    }
   ],
   "source": [
    "# Visualizar el historial de optimización\n",
    "plot_optimization_history(study)"
   ]
  },
  {
   "cell_type": "code",
   "execution_count": 9,
   "id": "47f4418d",
   "metadata": {},
   "outputs": [
    {
     "name": "stdout",
     "output_type": "stream",
     "text": [
      "Mejores hiperparámetros encontrados:\n",
      "{'n_estimators': 87, 'max_depth': 18, 'min_samples_split': 2, 'min_samples_leaf': 1, 'max_features': 'sqrt'}\n",
      "Mejor score de f1-score: 0.4590\n"
     ]
    }
   ],
   "source": [
    "print(\"Mejores hiperparámetros encontrados:\")\n",
    "print(study.best_params)\n",
    "print(f\"Mejor score de {SCORE}: {study.best_value:.4f}\")"
   ]
  },
  {
   "cell_type": "markdown",
   "id": "a5d2f75b",
   "metadata": {},
   "source": [
    "GUARDAR EN JSON"
   ]
  },
  {
   "cell_type": "code",
   "execution_count": 10,
   "id": "7cc65934",
   "metadata": {},
   "outputs": [],
   "source": [
    "# Guardar los mejores hiperparámetros y su valor\n",
    "history = []\n",
    "if os.path.exists(\"best_hyperparams.json\"):\n",
    "    try:\n",
    "        with open(\"best_hyperparams.json\", \"r\") as f:\n",
    "            history = json.load(f)\n",
    "    except (json.JSONDecodeError, ValueError):\n",
    "        history = []\n",
    "\n",
    "# Guardar ambos en un solo diccionario\n",
    "history.append({\n",
    "    \"params\": study.best_params,\n",
    "    \"value\": study.best_value\n",
    "})\n",
    "\n",
    "with open(\"best_hyperparams.json\", \"w\") as f:\n",
    "    json.dump(history, f, indent=2)"
   ]
  },
  {
   "cell_type": "markdown",
   "id": "3aa88bd9",
   "metadata": {},
   "source": [
    "CARGAR HIPERPARAMETROS DESDE JSON"
   ]
  },
  {
   "cell_type": "code",
   "execution_count": 11,
   "id": "76645b4b",
   "metadata": {},
   "outputs": [
    {
     "name": "stdout",
     "output_type": "stream",
     "text": [
      "Hiperparámetros #1: {'n_estimators': 87, 'max_depth': 18, 'min_samples_split': 2, 'min_samples_leaf': 1, 'max_features': 'sqrt'}, Valor: 0.45901639344262296\n"
     ]
    }
   ],
   "source": [
    "# Cargar historial de hiperparámetros y valores\n",
    "with open(\"best_hyperparams.json\", \"r\") as f:\n",
    "    history = json.load(f)\n",
    "\n",
    "# Escoger el último (más reciente)\n",
    "best_params = history[-1][\"params\"]\n",
    "best_value = history[-1][\"value\"]\n",
    "\n",
    "# Para ver todos:\n",
    "for i, entry in enumerate(history):\n",
    "    print(f\"Hiperparámetros #{i+1}: {entry['params']}, Valor: {entry['value']}\")\n",
    "\n",
    "# Para escoger uno específico (por índice):\n",
    "# best_params = history[indice_que_quieras][\"params\"]\n",
    "# best_value = history[indice_que_quieras][\"value\"]"
   ]
  },
  {
   "cell_type": "code",
   "execution_count": 12,
   "id": "457377f8",
   "metadata": {},
   "outputs": [
    {
     "data": {
      "text/plain": [
       "['RandomForest.joblib']"
      ]
     },
     "execution_count": 12,
     "metadata": {},
     "output_type": "execute_result"
    }
   ],
   "source": [
    "# Entrenar modelo final con los mejores hiperparámetros\n",
    "set_seeds(SEED)\n",
    "best_params = study.best_params\n",
    "final_model = RandomForestClassifier(\n",
    "    n_estimators=best_params[\"n_estimators\"],\n",
    "    max_depth=best_params[\"max_depth\"],\n",
    "    min_samples_split=best_params[\"min_samples_split\"],\n",
    "    min_samples_leaf=best_params[\"min_samples_leaf\"],\n",
    "    max_features=best_params[\"max_features\"],\n",
    "    random_state=SEED\n",
    ")\n",
    "final_model.fit(X_train, y_train)\n",
    "joblib.dump(final_model, \"RandomForest.joblib\")"
   ]
  },
  {
   "cell_type": "code",
   "execution_count": 13,
   "id": "80e14a35",
   "metadata": {},
   "outputs": [
    {
     "name": "stdout",
     "output_type": "stream",
     "text": [
      "RandomForest FINAL trend_changes_score:\n",
      "               precision    recall  f1-score   support\n",
      "\n",
      "       False     0.8122    0.9087    0.8578       219\n",
      "        True     0.5833    0.3784    0.4590        74\n",
      "\n",
      "    accuracy                         0.7747       293\n",
      "   macro avg     0.6978    0.6435    0.6584       293\n",
      "weighted avg     0.7544    0.7747    0.7571       293\n",
      "\n"
     ]
    }
   ],
   "source": [
    "# Predicciones con el modelo final\n",
    "y_val_pred = final_model.predict(X_val)\n",
    "print(\"RandomForest FINAL trend_changes_score:\\n\", trend_changes_score(y_val, y_val_pred))"
   ]
  },
  {
   "cell_type": "code",
   "execution_count": 14,
   "id": "5ff01aef",
   "metadata": {},
   "outputs": [
    {
     "name": "stdout",
     "output_type": "stream",
     "text": [
      "LightGBM Report:\n",
      "               precision    recall  f1-score   support\n",
      "\n",
      "          -1     0.7049    0.9348    0.8037        92\n",
      "           0     0.7500    0.0612    0.1132        49\n",
      "           1     0.8155    0.8954    0.8536       153\n",
      "\n",
      "    accuracy                         0.7687       294\n",
      "   macro avg     0.7568    0.6305    0.5902       294\n",
      "weighted avg     0.7700    0.7687    0.7146       294\n",
      "\n",
      "Balanced accuracy: 0.6304773116976259\n"
     ]
    }
   ],
   "source": [
    "# Reporte completo: precisión, recall y F1 por clase\n",
    "report = classification_report(y_val, y_val_pred, digits=4)\n",
    "print(\"LightGBM Report:\\n\", report)\n",
    "print(\"Balanced accuracy:\", balanced_accuracy_score(y_val, y_val_pred))"
   ]
  },
  {
   "cell_type": "code",
   "execution_count": 15,
   "id": "cbf7d983",
   "metadata": {},
   "outputs": [],
   "source": [
    "# --- Exportar y Comparar Métricas de Modelos (Validación) ---\n",
    "\n",
    "# 1. Definir el nombre del modelo actual y el archivo de salida\n",
    "output_file = '../../../score_models/model_comparison_metrics.csv'\n",
    "\n",
    "# 2. Calcular el reporte de clasificación estándar\n",
    "# Usamos y_val_m y y_val_pred que están en la misma escala (0,1,2)\n",
    "report_dict = classification_report(y_val, y_val_pred, output_dict=True, zero_division=0)\n",
    "precision = report_dict['macro avg']['precision']\n",
    "recall = report_dict['macro avg']['recall']\n",
    "f1_score = report_dict['macro avg']['f1-score']\n",
    "\n",
    "\n",
    "# 3. Calcular el reporte de cambio de tendencia\n",
    "report = get_trend_changes_report_dict(y_val, y_val_pred)\n",
    "trend_change_precision = report['True']['precision']\n",
    "trend_change_recall = report['True']['recall']\n",
    "trend_change_f1_score = report['True']['f1-score']\n",
    "\n",
    "# 4. Organizar las nuevas métricas\n",
    "new_metrics = {\n",
    "    'precision': precision,\n",
    "    'recall': recall,\n",
    "    'f1_score': f1_score,\n",
    "    'trend_change_precision': trend_change_precision,\n",
    "    'trend_change_recall': trend_change_recall,\n",
    "    'trend_change_f1_score': trend_change_f1_score,\n",
    "    \"optuna_duration_sec\": opt_duration_sec,\n",
    "    \"n_trials\": n_trials_run\n",
    "}\n",
    "\n",
    "# 5. Cargar, actualizar y guardar el DataFrame de comparación\n",
    "try:\n",
    "    # Intentar cargar el archivo existente\n",
    "    comparison_df = pd.read_csv(output_file, index_col='model')\n",
    "    # Si existe, actualizar o añadir la fila para el modelo actual\n",
    "    comparison_df.loc[model_name] = new_metrics\n",
    "except FileNotFoundError:\n",
    "    # Si no existe, crear un DataFrame nuevo directamente con los datos actuales\n",
    "    comparison_df = pd.DataFrame([new_metrics], index=[model_name])\n",
    "\n",
    "# Guardar el DataFrame actualizado en el CSV\n",
    "comparison_df.to_csv(output_file, index_label='model')"
   ]
  }
 ],
 "metadata": {
  "kernelspec": {
   "display_name": "tf_venv2 (3.10.12)",
   "language": "python",
   "name": "python3"
  },
  "language_info": {
   "codemirror_mode": {
    "name": "ipython",
    "version": 3
   },
   "file_extension": ".py",
   "mimetype": "text/x-python",
   "name": "python",
   "nbconvert_exporter": "python",
   "pygments_lexer": "ipython3",
   "version": "3.10.12"
  }
 },
 "nbformat": 4,
 "nbformat_minor": 5
}
