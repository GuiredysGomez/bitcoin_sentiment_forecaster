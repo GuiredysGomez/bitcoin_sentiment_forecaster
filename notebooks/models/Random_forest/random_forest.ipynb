{
 "cells": [
  {
   "cell_type": "code",
   "execution_count": 1,
   "id": "e6d5d21b",
   "metadata": {},
   "outputs": [
    {
     "name": "stderr",
     "output_type": "stream",
     "text": [
      "/home/toyotx22/bitcoin_sentiment_forecaster/tf_venv2/lib/python3.10/site-packages/tqdm/auto.py:21: TqdmWarning: IProgress not found. Please update jupyter and ipywidgets. See https://ipywidgets.readthedocs.io/en/stable/user_install.html\n",
      "  from .autonotebook import tqdm as notebook_tqdm\n"
     ]
    }
   ],
   "source": [
    "import numpy as np\n",
    "import random\n",
    "import optuna\n",
    "import pandas as pd\n",
    "from sklearn.ensemble import RandomForestClassifier\n",
    "from sklearn.metrics import classification_report, balanced_accuracy_score"
   ]
  },
  {
   "cell_type": "code",
   "execution_count": 2,
   "id": "e8aba837",
   "metadata": {},
   "outputs": [],
   "source": [
    "SEED = 1234\n",
    " # Se puede cambiar a \"precision\" o \"recall\" o \"f1-score\"\n",
    "SCORE = \"f1-score\""
   ]
  },
  {
   "cell_type": "code",
   "execution_count": 3,
   "id": "41f03446",
   "metadata": {},
   "outputs": [],
   "source": [
    "def set_seeds(seed):\n",
    "    random.seed(seed)\n",
    "    np.random.seed(seed)"
   ]
  },
  {
   "cell_type": "code",
   "execution_count": 4,
   "id": "4130669e",
   "metadata": {},
   "outputs": [],
   "source": [
    "def trend_changes_score(y_test: np.array, y_pred: np.array) -> float:\n",
    "    \"\"\"\n",
    "    Calculate the trend changes score based on the test and predicted values.\n",
    "    \n",
    "    Args:\n",
    "        y_test (np.array): True labels.\n",
    "        y_pred (np.array): Predicted labels.\n",
    "        \n",
    "    Returns:\n",
    "        float: The trend changes score.\n",
    "    \"\"\"\n",
    "    y_df = pd.DataFrame([y_test, y_pred]).T\n",
    "    y_df.columns = [\"y_test\", \"y_pred\"]\n",
    "    y_df[\"y_test_shifted\"] = y_df[\"y_test\"].shift(-1)\n",
    "    y_df[\"is_changed_trend_test\"] = y_df[\"y_test\"] != y_df[\"y_test_shifted\"]\n",
    "    y_df[\"y_predict_shifted\"] = y_df[\"y_pred\"].shift(-1)\n",
    "    y_df[\"is_changed_trend_predict\"] = y_df[\"y_pred\"] != y_df[\"y_predict_shifted\"]\n",
    "    return classification_report(y_df[\"is_changed_trend_test\"][:-1], y_df[\"is_changed_trend_predict\"][:-1], digits=4)\n",
    "\n",
    "def trend_changes_true(y_test: np.array, y_pred: np.array) -> float:\n",
    "    \"\"\"\n",
    "    Calculate the trend changes score based on the test and predicted values.\n",
    "    \n",
    "    Args:\n",
    "        y_test (np.array): True labels.\n",
    "        y_pred (np.array): Predicted labels.\n",
    "        \n",
    "    Returns:\n",
    "        float: The trend changes score.\n",
    "    \"\"\"\n",
    "    y_df = pd.DataFrame([y_test, y_pred]).T\n",
    "    y_df.columns = [\"y_test\", \"y_pred\"]\n",
    "    y_df[\"y_test_shifted\"] = y_df[\"y_test\"].shift(-1)\n",
    "    y_df[\"is_changed_trend_test\"] = y_df[\"y_test\"] != y_df[\"y_test_shifted\"]\n",
    "    y_df[\"y_predict_shifted\"] = y_df[\"y_pred\"].shift(-1)\n",
    "    y_df[\"is_changed_trend_predict\"] = y_df[\"y_pred\"] != y_df[\"y_predict_shifted\"]\n",
    "    report = classification_report(\n",
    "        y_df[\"is_changed_trend_test\"][:-1],\n",
    "        y_df[\"is_changed_trend_predict\"][:-1],\n",
    "        output_dict=True,\n",
    "        zero_division=0\n",
    "    )\n",
    "    return report[\"True\"][SCORE]"
   ]
  },
  {
   "cell_type": "code",
   "execution_count": 5,
   "id": "ba6aa13e",
   "metadata": {},
   "outputs": [],
   "source": [
    "# Cargar datos\n",
    "train = pd.read_csv(\"../../../data/training_set.csv\", parse_dates=[\"date\"])\n",
    "val = pd.read_csv(\"../../../data/validation_set.csv\", parse_dates=[\"date\"])\n",
    "X_train = train.drop(columns=[\"date\", \"target_trend\"]).values\n",
    "y_train = train[\"target_trend\"].values\n",
    "X_val = val.drop(columns=[\"date\", \"target_trend\"]).values\n",
    "y_val = val[\"target_trend\"].values"
   ]
  },
  {
   "cell_type": "code",
   "execution_count": 7,
   "id": "80477ea8",
   "metadata": {},
   "outputs": [],
   "source": [
    "def objective(trial):\n",
    "    set_seeds(SEED)  # Fijar semilla antes de cada trial\n",
    "    n_estimators = trial.suggest_int(\"n_estimators\", 50, 400)\n",
    "    max_depth = trial.suggest_int(\"max_depth\", 2, 20)\n",
    "    min_samples_split = trial.suggest_int(\"min_samples_split\", 2, 10)\n",
    "    min_samples_leaf = trial.suggest_int(\"min_samples_leaf\", 1, 10)\n",
    "    max_features = trial.suggest_categorical(\"max_features\", [\"sqrt\", \"log2\"])\n",
    "\n",
    "    model = RandomForestClassifier(\n",
    "        n_estimators=n_estimators,\n",
    "        max_depth=max_depth,\n",
    "        min_samples_split=min_samples_split,\n",
    "        min_samples_leaf=min_samples_leaf,\n",
    "        max_features=max_features,\n",
    "        random_state=SEED\n",
    "    )\n",
    "    model.fit(X_train, y_train)\n",
    "    y_pred = model.predict(X_val)\n",
    "    score = trend_changes_true(y_val, y_pred)\n",
    "    return score"
   ]
  },
  {
   "cell_type": "code",
   "execution_count": 8,
   "id": "b8a56175",
   "metadata": {},
   "outputs": [
    {
     "name": "stderr",
     "output_type": "stream",
     "text": [
      "[I 2025-08-17 22:13:53,134] A new study created in memory with name: no-name-2085e25e-033d-4969-a6fa-4233159b8186\n"
     ]
    },
    {
     "name": "stderr",
     "output_type": "stream",
     "text": [
      "[I 2025-08-17 22:13:53,410] Trial 0 finished with value: 0.16666666666666666 and parameters: {'n_estimators': 117, 'max_depth': 13, 'min_samples_split': 5, 'min_samples_leaf': 8, 'max_features': 'sqrt'}. Best is trial 0 with value: 0.16666666666666666.\n",
      "[I 2025-08-17 22:13:53,694] Trial 1 finished with value: 0.1111111111111111 and parameters: {'n_estimators': 147, 'max_depth': 17, 'min_samples_split': 10, 'min_samples_leaf': 9, 'max_features': 'log2'}. Best is trial 0 with value: 0.16666666666666666.\n",
      "[I 2025-08-17 22:13:54,358] Trial 2 finished with value: 0.3157894736842105 and parameters: {'n_estimators': 289, 'max_depth': 15, 'min_samples_split': 5, 'min_samples_leaf': 6, 'max_features': 'sqrt'}. Best is trial 2 with value: 0.3157894736842105.\n",
      "[I 2025-08-17 22:13:54,988] Trial 3 finished with value: 0.17142857142857143 and parameters: {'n_estimators': 321, 'max_depth': 18, 'min_samples_split': 5, 'min_samples_leaf': 7, 'max_features': 'log2'}. Best is trial 2 with value: 0.3157894736842105.\n",
      "[I 2025-08-17 22:13:55,705] Trial 4 finished with value: 0.2222222222222222 and parameters: {'n_estimators': 377, 'max_depth': 14, 'min_samples_split': 5, 'min_samples_leaf': 8, 'max_features': 'log2'}. Best is trial 2 with value: 0.3157894736842105.\n",
      "[I 2025-08-17 22:13:56,474] Trial 5 finished with value: 0.3157894736842105 and parameters: {'n_estimators': 355, 'max_depth': 10, 'min_samples_split': 9, 'min_samples_leaf': 2, 'max_features': 'log2'}. Best is trial 2 with value: 0.3157894736842105.\n",
      "[I 2025-08-17 22:13:56,772] Trial 6 finished with value: 0.1111111111111111 and parameters: {'n_estimators': 126, 'max_depth': 19, 'min_samples_split': 5, 'min_samples_leaf': 10, 'max_features': 'log2'}. Best is trial 2 with value: 0.3157894736842105.\n",
      "[I 2025-08-17 22:13:56,924] Trial 7 finished with value: 0.24390243902439024 and parameters: {'n_estimators': 66, 'max_depth': 14, 'min_samples_split': 7, 'min_samples_leaf': 6, 'max_features': 'log2'}. Best is trial 2 with value: 0.3157894736842105.\n",
      "[I 2025-08-17 22:13:57,308] Trial 8 finished with value: 0.16666666666666666 and parameters: {'n_estimators': 165, 'max_depth': 11, 'min_samples_split': 3, 'min_samples_leaf': 7, 'max_features': 'sqrt'}. Best is trial 2 with value: 0.3157894736842105.\n",
      "[I 2025-08-17 22:13:57,883] Trial 9 finished with value: 0.21621621621621623 and parameters: {'n_estimators': 266, 'max_depth': 19, 'min_samples_split': 9, 'min_samples_leaf': 10, 'max_features': 'sqrt'}. Best is trial 2 with value: 0.3157894736842105.\n",
      "[I 2025-08-17 22:13:58,376] Trial 10 finished with value: 0.3157894736842105 and parameters: {'n_estimators': 241, 'max_depth': 4, 'min_samples_split': 2, 'min_samples_leaf': 3, 'max_features': 'sqrt'}. Best is trial 2 with value: 0.3157894736842105.\n",
      "[I 2025-08-17 22:13:59,342] Trial 11 finished with value: 0.4 and parameters: {'n_estimators': 392, 'max_depth': 7, 'min_samples_split': 8, 'min_samples_leaf': 3, 'max_features': 'sqrt'}. Best is trial 11 with value: 0.4.\n",
      "[I 2025-08-17 22:14:00,050] Trial 12 finished with value: 0.3333333333333333 and parameters: {'n_estimators': 311, 'max_depth': 6, 'min_samples_split': 7, 'min_samples_leaf': 3, 'max_features': 'sqrt'}. Best is trial 11 with value: 0.4.\n",
      "[I 2025-08-17 22:14:00,954] Trial 13 finished with value: 0.25 and parameters: {'n_estimators': 400, 'max_depth': 6, 'min_samples_split': 7, 'min_samples_leaf': 4, 'max_features': 'sqrt'}. Best is trial 11 with value: 0.4.\n",
      "[I 2025-08-17 22:14:01,734] Trial 14 finished with value: 0.15789473684210525 and parameters: {'n_estimators': 326, 'max_depth': 7, 'min_samples_split': 7, 'min_samples_leaf': 1, 'max_features': 'sqrt'}. Best is trial 11 with value: 0.4.\n",
      "[I 2025-08-17 22:14:02,080] Trial 15 finished with value: 0.1111111111111111 and parameters: {'n_estimators': 210, 'max_depth': 2, 'min_samples_split': 8, 'min_samples_leaf': 4, 'max_features': 'sqrt'}. Best is trial 11 with value: 0.4.\n",
      "[I 2025-08-17 22:14:02,919] Trial 16 finished with value: 0.2702702702702703 and parameters: {'n_estimators': 333, 'max_depth': 8, 'min_samples_split': 8, 'min_samples_leaf': 4, 'max_features': 'sqrt'}. Best is trial 11 with value: 0.4.\n",
      "[I 2025-08-17 22:14:03,560] Trial 17 finished with value: 0.3157894736842105 and parameters: {'n_estimators': 291, 'max_depth': 5, 'min_samples_split': 10, 'min_samples_leaf': 1, 'max_features': 'sqrt'}. Best is trial 11 with value: 0.4.\n",
      "[I 2025-08-17 22:14:04,536] Trial 18 finished with value: 0.3333333333333333 and parameters: {'n_estimators': 397, 'max_depth': 9, 'min_samples_split': 6, 'min_samples_leaf': 3, 'max_features': 'sqrt'}. Best is trial 11 with value: 0.4.\n",
      "[I 2025-08-17 22:14:05,133] Trial 19 finished with value: 0.23529411764705882 and parameters: {'n_estimators': 352, 'max_depth': 2, 'min_samples_split': 8, 'min_samples_leaf': 5, 'max_features': 'sqrt'}. Best is trial 11 with value: 0.4.\n",
      "[I 2025-08-17 22:14:05,565] Trial 20 finished with value: 0.2727272727272727 and parameters: {'n_estimators': 203, 'max_depth': 4, 'min_samples_split': 6, 'min_samples_leaf': 2, 'max_features': 'sqrt'}. Best is trial 11 with value: 0.4.\n",
      "[I 2025-08-17 22:14:03,693] Trial 21 finished with value: 0.3333333333333333 and parameters: {'n_estimators': 397, 'max_depth': 9, 'min_samples_split': 6, 'min_samples_leaf': 3, 'max_features': 'sqrt'}. Best is trial 11 with value: 0.4.\n",
      "[I 2025-08-17 22:14:04,623] Trial 22 finished with value: 0.35 and parameters: {'n_estimators': 370, 'max_depth': 11, 'min_samples_split': 7, 'min_samples_leaf': 3, 'max_features': 'sqrt'}. Best is trial 11 with value: 0.4.\n",
      "[I 2025-08-17 22:14:05,537] Trial 23 finished with value: 0.32558139534883723 and parameters: {'n_estimators': 362, 'max_depth': 12, 'min_samples_split': 9, 'min_samples_leaf': 2, 'max_features': 'sqrt'}. Best is trial 11 with value: 0.4.\n",
      "[I 2025-08-17 22:14:06,235] Trial 24 finished with value: 0.3157894736842105 and parameters: {'n_estimators': 304, 'max_depth': 7, 'min_samples_split': 7, 'min_samples_leaf': 5, 'max_features': 'sqrt'}. Best is trial 11 with value: 0.4.\n",
      "[I 2025-08-17 22:14:06,913] Trial 25 finished with value: 0.23255813953488372 and parameters: {'n_estimators': 270, 'max_depth': 11, 'min_samples_split': 8, 'min_samples_leaf': 3, 'max_features': 'sqrt'}. Best is trial 11 with value: 0.4.\n",
      "[I 2025-08-17 22:14:07,725] Trial 26 finished with value: 0.2631578947368421 and parameters: {'n_estimators': 366, 'max_depth': 6, 'min_samples_split': 4, 'min_samples_leaf': 4, 'max_features': 'sqrt'}. Best is trial 11 with value: 0.4.\n",
      "[I 2025-08-17 22:14:08,557] Trial 27 finished with value: 0.34146341463414637 and parameters: {'n_estimators': 336, 'max_depth': 9, 'min_samples_split': 7, 'min_samples_leaf': 2, 'max_features': 'sqrt'}. Best is trial 11 with value: 0.4.\n",
      "[I 2025-08-17 22:14:09,433] Trial 28 finished with value: 0.2777777777777778 and parameters: {'n_estimators': 340, 'max_depth': 9, 'min_samples_split': 9, 'min_samples_leaf': 1, 'max_features': 'sqrt'}. Best is trial 11 with value: 0.4.\n",
      "[I 2025-08-17 22:14:10,391] Trial 29 finished with value: 0.1951219512195122 and parameters: {'n_estimators': 372, 'max_depth': 13, 'min_samples_split': 4, 'min_samples_leaf': 2, 'max_features': 'sqrt'}. Best is trial 11 with value: 0.4.\n",
      "[I 2025-08-17 22:14:10,564] Trial 30 finished with value: 0.32432432432432434 and parameters: {'n_estimators': 63, 'max_depth': 11, 'min_samples_split': 8, 'min_samples_leaf': 5, 'max_features': 'sqrt'}. Best is trial 11 with value: 0.4.\n",
      "[I 2025-08-17 22:14:11,315] Trial 31 finished with value: 0.3333333333333333 and parameters: {'n_estimators': 312, 'max_depth': 8, 'min_samples_split': 7, 'min_samples_leaf': 3, 'max_features': 'sqrt'}. Best is trial 11 with value: 0.4.\n",
      "[I 2025-08-17 22:14:12,072] Trial 32 finished with value: 0.2631578947368421 and parameters: {'n_estimators': 381, 'max_depth': 4, 'min_samples_split': 6, 'min_samples_leaf': 2, 'max_features': 'sqrt'}. Best is trial 11 with value: 0.4.\n",
      "[I 2025-08-17 22:14:12,983] Trial 33 finished with value: 0.21052631578947367 and parameters: {'n_estimators': 343, 'max_depth': 16, 'min_samples_split': 7, 'min_samples_leaf': 1, 'max_features': 'sqrt'}. Best is trial 11 with value: 0.4.\n",
      "[I 2025-08-17 22:14:13,507] Trial 34 finished with value: 0.2702702702702703 and parameters: {'n_estimators': 253, 'max_depth': 7, 'min_samples_split': 8, 'min_samples_leaf': 4, 'max_features': 'log2'}. Best is trial 11 with value: 0.4.\n",
      "[I 2025-08-17 22:14:14,255] Trial 35 finished with value: 0.2857142857142857 and parameters: {'n_estimators': 297, 'max_depth': 12, 'min_samples_split': 7, 'min_samples_leaf': 3, 'max_features': 'sqrt'}. Best is trial 11 with value: 0.4.\n",
      "[I 2025-08-17 22:14:14,963] Trial 36 finished with value: 0.41025641025641024 and parameters: {'n_estimators': 325, 'max_depth': 10, 'min_samples_split': 6, 'min_samples_leaf': 2, 'max_features': 'log2'}. Best is trial 36 with value: 0.41025641025641024.\n",
      "[I 2025-08-17 22:14:15,796] Trial 37 finished with value: 0.3076923076923077 and parameters: {'n_estimators': 380, 'max_depth': 10, 'min_samples_split': 5, 'min_samples_leaf': 2, 'max_features': 'log2'}. Best is trial 36 with value: 0.41025641025641024.\n",
      "[I 2025-08-17 22:14:16,563] Trial 38 finished with value: 0.3 and parameters: {'n_estimators': 329, 'max_depth': 13, 'min_samples_split': 6, 'min_samples_leaf': 1, 'max_features': 'log2'}. Best is trial 36 with value: 0.41025641025641024.\n",
      "[I 2025-08-17 22:14:17,181] Trial 39 finished with value: 0.34146341463414637 and parameters: {'n_estimators': 283, 'max_depth': 10, 'min_samples_split': 10, 'min_samples_leaf': 2, 'max_features': 'log2'}. Best is trial 36 with value: 0.41025641025641024.\n",
      "[I 2025-08-17 22:14:17,535] Trial 40 finished with value: 0.17142857142857143 and parameters: {'n_estimators': 169, 'max_depth': 15, 'min_samples_split': 5, 'min_samples_leaf': 7, 'max_features': 'log2'}. Best is trial 36 with value: 0.41025641025641024.\n",
      "[I 2025-08-17 22:14:18,157] Trial 41 finished with value: 0.35 and parameters: {'n_estimators': 277, 'max_depth': 10, 'min_samples_split': 10, 'min_samples_leaf': 2, 'max_features': 'log2'}. Best is trial 36 with value: 0.41025641025641024.\n",
      "[I 2025-08-17 22:14:18,888] Trial 42 finished with value: 0.3 and parameters: {'n_estimators': 346, 'max_depth': 8, 'min_samples_split': 9, 'min_samples_leaf': 2, 'max_features': 'log2'}. Best is trial 36 with value: 0.41025641025641024.\n",
      "[I 2025-08-17 22:14:19,514] Trial 43 finished with value: 0.3684210526315789 and parameters: {'n_estimators': 278, 'max_depth': 12, 'min_samples_split': 10, 'min_samples_leaf': 1, 'max_features': 'log2'}. Best is trial 36 with value: 0.41025641025641024.\n",
      "[I 2025-08-17 22:14:20,068] Trial 44 finished with value: 0.35 and parameters: {'n_estimators': 239, 'max_depth': 12, 'min_samples_split': 10, 'min_samples_leaf': 1, 'max_features': 'log2'}. Best is trial 36 with value: 0.41025641025641024.\n",
      "[I 2025-08-17 22:14:20,617] Trial 45 finished with value: 0.1111111111111111 and parameters: {'n_estimators': 267, 'max_depth': 11, 'min_samples_split': 10, 'min_samples_leaf': 9, 'max_features': 'log2'}. Best is trial 36 with value: 0.41025641025641024.\n",
      "[I 2025-08-17 22:14:20,839] Trial 46 finished with value: 0.2608695652173913 and parameters: {'n_estimators': 87, 'max_depth': 14, 'min_samples_split': 9, 'min_samples_leaf': 1, 'max_features': 'log2'}. Best is trial 36 with value: 0.41025641025641024.\n",
      "[I 2025-08-17 22:14:21,447] Trial 47 finished with value: 0.3 and parameters: {'n_estimators': 280, 'max_depth': 10, 'min_samples_split': 10, 'min_samples_leaf': 3, 'max_features': 'log2'}. Best is trial 36 with value: 0.41025641025641024.\n",
      "[I 2025-08-17 22:14:22,090] Trial 48 finished with value: 0.11428571428571428 and parameters: {'n_estimators': 314, 'max_depth': 14, 'min_samples_split': 9, 'min_samples_leaf': 6, 'max_features': 'log2'}. Best is trial 36 with value: 0.41025641025641024.\n",
      "[I 2025-08-17 22:14:22,598] Trial 49 finished with value: 0.2727272727272727 and parameters: {'n_estimators': 222, 'max_depth': 13, 'min_samples_split': 10, 'min_samples_leaf': 1, 'max_features': 'log2'}. Best is trial 36 with value: 0.41025641025641024.\n",
      "[I 2025-08-17 22:14:23,402] Trial 50 finished with value: 0.2777777777777778 and parameters: {'n_estimators': 383, 'max_depth': 12, 'min_samples_split': 4, 'min_samples_leaf': 4, 'max_features': 'log2'}. Best is trial 36 with value: 0.41025641025641024.\n",
      "[I 2025-08-17 22:14:23,975] Trial 51 finished with value: 0.2727272727272727 and parameters: {'n_estimators': 252, 'max_depth': 12, 'min_samples_split': 10, 'min_samples_leaf': 1, 'max_features': 'log2'}. Best is trial 36 with value: 0.41025641025641024.\n",
      "[I 2025-08-17 22:14:24,513] Trial 52 finished with value: 0.3157894736842105 and parameters: {'n_estimators': 232, 'max_depth': 15, 'min_samples_split': 10, 'min_samples_leaf': 2, 'max_features': 'log2'}. Best is trial 36 with value: 0.41025641025641024.\n",
      "[I 2025-08-17 22:14:25,013] Trial 53 finished with value: 0.22727272727272727 and parameters: {'n_estimators': 213, 'max_depth': 10, 'min_samples_split': 9, 'min_samples_leaf': 1, 'max_features': 'log2'}. Best is trial 36 with value: 0.41025641025641024.\n",
      "[I 2025-08-17 22:14:25,568] Trial 54 finished with value: 0.2222222222222222 and parameters: {'n_estimators': 247, 'max_depth': 20, 'min_samples_split': 10, 'min_samples_leaf': 3, 'max_features': 'log2'}. Best is trial 36 with value: 0.41025641025641024.\n",
      "[I 2025-08-17 22:14:26,277] Trial 55 finished with value: 0.3076923076923077 and parameters: {'n_estimators': 323, 'max_depth': 11, 'min_samples_split': 9, 'min_samples_leaf': 2, 'max_features': 'log2'}. Best is trial 36 with value: 0.41025641025641024.\n",
      "[I 2025-08-17 22:14:26,692] Trial 56 finished with value: 0.2857142857142857 and parameters: {'n_estimators': 174, 'max_depth': 13, 'min_samples_split': 8, 'min_samples_leaf': 1, 'max_features': 'log2'}. Best is trial 36 with value: 0.41025641025641024.\n",
      "[I 2025-08-17 22:14:27,448] Trial 57 finished with value: 0.35 and parameters: {'n_estimators': 357, 'max_depth': 8, 'min_samples_split': 10, 'min_samples_leaf': 3, 'max_features': 'log2'}. Best is trial 36 with value: 0.41025641025641024.\n",
      "[I 2025-08-17 22:14:28,100] Trial 58 finished with value: 0.2926829268292683 and parameters: {'n_estimators': 291, 'max_depth': 12, 'min_samples_split': 8, 'min_samples_leaf': 2, 'max_features': 'log2'}. Best is trial 36 with value: 0.41025641025641024.\n",
      "[I 2025-08-17 22:14:28,666] Trial 59 finished with value: 0.23809523809523808 and parameters: {'n_estimators': 237, 'max_depth': 17, 'min_samples_split': 6, 'min_samples_leaf': 1, 'max_features': 'log2'}. Best is trial 36 with value: 0.41025641025641024.\n",
      "[I 2025-08-17 22:14:29,108] Trial 60 finished with value: 0.41025641025641024 and parameters: {'n_estimators': 195, 'max_depth': 9, 'min_samples_split': 9, 'min_samples_leaf': 2, 'max_features': 'log2'}. Best is trial 36 with value: 0.41025641025641024.\n",
      "[I 2025-08-17 22:14:29,714] Trial 61 finished with value: 0.358974358974359 and parameters: {'n_estimators': 274, 'max_depth': 9, 'min_samples_split': 9, 'min_samples_leaf': 2, 'max_features': 'log2'}. Best is trial 36 with value: 0.41025641025641024.\n",
      "[I 2025-08-17 22:14:30,155] Trial 62 finished with value: 0.41025641025641024 and parameters: {'n_estimators': 194, 'max_depth': 9, 'min_samples_split': 9, 'min_samples_leaf': 2, 'max_features': 'log2'}. Best is trial 36 with value: 0.41025641025641024.\n",
      "[I 2025-08-17 22:14:30,577] Trial 63 finished with value: 0.45 and parameters: {'n_estimators': 189, 'max_depth': 9, 'min_samples_split': 9, 'min_samples_leaf': 3, 'max_features': 'log2'}. Best is trial 63 with value: 0.45.\n",
      "[I 2025-08-17 22:14:30,987] Trial 64 finished with value: 0.45 and parameters: {'n_estimators': 184, 'max_depth': 9, 'min_samples_split': 9, 'min_samples_leaf': 3, 'max_features': 'log2'}. Best is trial 63 with value: 0.45.\n",
      "[I 2025-08-17 22:14:31,381] Trial 65 finished with value: 0.16216216216216217 and parameters: {'n_estimators': 190, 'max_depth': 6, 'min_samples_split': 9, 'min_samples_leaf': 4, 'max_features': 'log2'}. Best is trial 63 with value: 0.45.\n",
      "[I 2025-08-17 22:14:31,684] Trial 66 finished with value: 0.2702702702702703 and parameters: {'n_estimators': 136, 'max_depth': 7, 'min_samples_split': 9, 'min_samples_leaf': 3, 'max_features': 'log2'}. Best is trial 63 with value: 0.45.\n",
      "[I 2025-08-17 22:14:32,092] Trial 67 finished with value: 0.2222222222222222 and parameters: {'n_estimators': 188, 'max_depth': 9, 'min_samples_split': 8, 'min_samples_leaf': 4, 'max_features': 'log2'}. Best is trial 63 with value: 0.45.\n",
      "[I 2025-08-17 22:14:32,398] Trial 68 finished with value: 0.21621621621621623 and parameters: {'n_estimators': 152, 'max_depth': 5, 'min_samples_split': 9, 'min_samples_leaf': 3, 'max_features': 'log2'}. Best is trial 63 with value: 0.45.\n",
      "[I 2025-08-17 22:14:32,817] Trial 69 finished with value: 0.22857142857142856 and parameters: {'n_estimators': 196, 'max_depth': 8, 'min_samples_split': 8, 'min_samples_leaf': 5, 'max_features': 'log2'}. Best is trial 63 with value: 0.45.\n",
      "[I 2025-08-17 22:14:33,233] Trial 70 finished with value: 0.358974358974359 and parameters: {'n_estimators': 182, 'max_depth': 9, 'min_samples_split': 9, 'min_samples_leaf': 2, 'max_features': 'log2'}. Best is trial 63 with value: 0.45.\n",
      "[I 2025-08-17 22:14:33,715] Trial 71 finished with value: 0.3 and parameters: {'n_estimators': 208, 'max_depth': 8, 'min_samples_split': 9, 'min_samples_leaf': 2, 'max_features': 'log2'}. Best is trial 63 with value: 0.45.\n",
      "[I 2025-08-17 22:14:34,063] Trial 72 finished with value: 0.2702702702702703 and parameters: {'n_estimators': 151, 'max_depth': 7, 'min_samples_split': 9, 'min_samples_leaf': 3, 'max_features': 'log2'}. Best is trial 63 with value: 0.45.\n",
      "[I 2025-08-17 22:14:34,557] Trial 73 finished with value: 0.24390243902439024 and parameters: {'n_estimators': 222, 'max_depth': 9, 'min_samples_split': 8, 'min_samples_leaf': 2, 'max_features': 'log2'}. Best is trial 63 with value: 0.45.\n",
      "[I 2025-08-17 22:14:35,014] Trial 74 finished with value: 0.4 and parameters: {'n_estimators': 200, 'max_depth': 10, 'min_samples_split': 9, 'min_samples_leaf': 2, 'max_features': 'log2'}. Best is trial 63 with value: 0.45.\n",
      "[I 2025-08-17 22:14:35,367] Trial 75 finished with value: 0.3 and parameters: {'n_estimators': 158, 'max_depth': 10, 'min_samples_split': 9, 'min_samples_leaf': 3, 'max_features': 'log2'}. Best is trial 63 with value: 0.45.\n",
      "[I 2025-08-17 22:14:32,863] Trial 76 finished with value: 0.25 and parameters: {'n_estimators': 198, 'max_depth': 8, 'min_samples_split': 8, 'min_samples_leaf': 3, 'max_features': 'log2'}. Best is trial 63 with value: 0.45.\n",
      "[I 2025-08-17 22:14:33,373] Trial 77 finished with value: 0.24390243902439024 and parameters: {'n_estimators': 217, 'max_depth': 11, 'min_samples_split': 2, 'min_samples_leaf': 2, 'max_features': 'log2'}. Best is trial 63 with value: 0.45.\n",
      "[I 2025-08-17 22:14:33,769] Trial 78 finished with value: 0.2222222222222222 and parameters: {'n_estimators': 181, 'max_depth': 10, 'min_samples_split': 9, 'min_samples_leaf': 4, 'max_features': 'log2'}. Best is trial 63 with value: 0.45.\n",
      "[I 2025-08-17 22:14:34,177] Trial 79 finished with value: 0.21739130434782608 and parameters: {'n_estimators': 203, 'max_depth': 5, 'min_samples_split': 10, 'min_samples_leaf': 1, 'max_features': 'log2'}. Best is trial 63 with value: 0.45.\n",
      "[I 2025-08-17 22:14:34,447] Trial 80 finished with value: 0.34146341463414637 and parameters: {'n_estimators': 110, 'max_depth': 9, 'min_samples_split': 8, 'min_samples_leaf': 2, 'max_features': 'log2'}. Best is trial 63 with value: 0.45.\n",
      "[I 2025-08-17 22:14:34,850] Trial 81 finished with value: 0.3684210526315789 and parameters: {'n_estimators': 167, 'max_depth': 9, 'min_samples_split': 9, 'min_samples_leaf': 2, 'max_features': 'log2'}. Best is trial 63 with value: 0.45.\n",
      "[I 2025-08-17 22:14:35,179] Trial 82 finished with value: 0.4 and parameters: {'n_estimators': 139, 'max_depth': 10, 'min_samples_split': 9, 'min_samples_leaf': 2, 'max_features': 'log2'}. Best is trial 63 with value: 0.45.\n",
      "[I 2025-08-17 22:14:35,499] Trial 83 finished with value: 0.3 and parameters: {'n_estimators': 139, 'max_depth': 10, 'min_samples_split': 9, 'min_samples_leaf': 3, 'max_features': 'log2'}. Best is trial 63 with value: 0.45.\n",
      "[I 2025-08-17 22:14:35,812] Trial 84 finished with value: 0.32558139534883723 and parameters: {'n_estimators': 117, 'max_depth': 11, 'min_samples_split': 6, 'min_samples_leaf': 2, 'max_features': 'log2'}. Best is trial 63 with value: 0.45.\n",
      "[I 2025-08-17 22:14:36,218] Trial 85 finished with value: 0.2978723404255319 and parameters: {'n_estimators': 178, 'max_depth': 8, 'min_samples_split': 10, 'min_samples_leaf': 1, 'max_features': 'log2'}. Best is trial 63 with value: 0.45.\n",
      "[I 2025-08-17 22:14:36,723] Trial 86 finished with value: 0.3684210526315789 and parameters: {'n_estimators': 231, 'max_depth': 7, 'min_samples_split': 9, 'min_samples_leaf': 3, 'max_features': 'log2'}. Best is trial 63 with value: 0.45.\n",
      "[I 2025-08-17 22:14:37,071] Trial 87 finished with value: 0.2926829268292683 and parameters: {'n_estimators': 160, 'max_depth': 6, 'min_samples_split': 8, 'min_samples_leaf': 2, 'max_features': 'log2'}. Best is trial 63 with value: 0.45.\n",
      "[I 2025-08-17 22:14:37,956] Trial 88 finished with value: 0.2727272727272727 and parameters: {'n_estimators': 390, 'max_depth': 11, 'min_samples_split': 10, 'min_samples_leaf': 1, 'max_features': 'log2'}. Best is trial 63 with value: 0.45.\n",
      "[I 2025-08-17 22:14:38,561] Trial 89 finished with value: 0.2702702702702703 and parameters: {'n_estimators': 258, 'max_depth': 10, 'min_samples_split': 5, 'min_samples_leaf': 6, 'max_features': 'sqrt'}. Best is trial 63 with value: 0.45.\n",
      "[I 2025-08-17 22:14:38,947] Trial 90 finished with value: 0.16666666666666666 and parameters: {'n_estimators': 190, 'max_depth': 9, 'min_samples_split': 3, 'min_samples_leaf': 9, 'max_features': 'log2'}. Best is trial 63 with value: 0.45.\n",
      "[I 2025-08-17 22:14:39,340] Trial 91 finished with value: 0.3684210526315789 and parameters: {'n_estimators': 173, 'max_depth': 9, 'min_samples_split': 9, 'min_samples_leaf': 2, 'max_features': 'log2'}. Best is trial 63 with value: 0.45.\n",
      "[I 2025-08-17 22:14:39,803] Trial 92 finished with value: 0.4 and parameters: {'n_estimators': 206, 'max_depth': 10, 'min_samples_split': 9, 'min_samples_leaf': 2, 'max_features': 'log2'}. Best is trial 63 with value: 0.45.\n",
      "[I 2025-08-17 22:14:40,266] Trial 93 finished with value: 0.38095238095238093 and parameters: {'n_estimators': 204, 'max_depth': 10, 'min_samples_split': 9, 'min_samples_leaf': 3, 'max_features': 'log2'}. Best is trial 63 with value: 0.45.\n",
      "[I 2025-08-17 22:14:40,411] Trial 94 finished with value: 0.2631578947368421 and parameters: {'n_estimators': 51, 'max_depth': 10, 'min_samples_split': 9, 'min_samples_leaf': 3, 'max_features': 'log2'}. Best is trial 63 with value: 0.45.\n",
      "[I 2025-08-17 22:14:40,844] Trial 95 finished with value: 0.3333333333333333 and parameters: {'n_estimators': 203, 'max_depth': 8, 'min_samples_split': 9, 'min_samples_leaf': 4, 'max_features': 'log2'}. Best is trial 63 with value: 0.45.\n",
      "[I 2025-08-17 22:14:41,330] Trial 96 finished with value: 0.37209302325581395 and parameters: {'n_estimators': 215, 'max_depth': 11, 'min_samples_split': 8, 'min_samples_leaf': 3, 'max_features': 'log2'}. Best is trial 63 with value: 0.45.\n",
      "[I 2025-08-17 22:14:41,835] Trial 97 finished with value: 0.15384615384615385 and parameters: {'n_estimators': 193, 'max_depth': 10, 'min_samples_split': 9, 'min_samples_leaf': 2, 'max_features': 'sqrt'}. Best is trial 63 with value: 0.45.\n",
      "[I 2025-08-17 22:14:42,070] Trial 98 finished with value: 0.3076923076923077 and parameters: {'n_estimators': 94, 'max_depth': 11, 'min_samples_split': 9, 'min_samples_leaf': 3, 'max_features': 'log2'}. Best is trial 63 with value: 0.45.\n",
      "[I 2025-08-17 22:14:42,576] Trial 99 finished with value: 0.2777777777777778 and parameters: {'n_estimators': 227, 'max_depth': 10, 'min_samples_split': 8, 'min_samples_leaf': 4, 'max_features': 'log2'}. Best is trial 63 with value: 0.45.\n"
     ]
    }
   ],
   "source": [
    "set_seeds(SEED)\n",
    "study = optuna.create_study(\n",
    "    direction=\"maximize\", \n",
    "    sampler=optuna.samplers.TPESampler(seed=SEED))\n",
    "study.optimize(objective, n_trials=100)"
   ]
  },
  {
   "cell_type": "code",
   "execution_count": 9,
   "id": "47f4418d",
   "metadata": {},
   "outputs": [
    {
     "name": "stdout",
     "output_type": "stream",
     "text": [
      "Mejores hiperparámetros encontrados:\n",
      "{'n_estimators': 189, 'max_depth': 9, 'min_samples_split': 9, 'min_samples_leaf': 3, 'max_features': 'log2'}\n",
      "Mejor score de f1-score: 0.4500\n"
     ]
    }
   ],
   "source": [
    "print(\"Mejores hiperparámetros encontrados:\")\n",
    "print(study.best_params)\n",
    "print(f\"Mejor score de {SCORE}: {study.best_value:.4f}\")"
   ]
  },
  {
   "cell_type": "code",
   "execution_count": 10,
   "id": "457377f8",
   "metadata": {},
   "outputs": [
    {
     "name": "stdout",
     "output_type": "stream",
     "text": [
      "RandomForest FINAL trend_changes_score:\n",
      "               precision    recall  f1-score   support\n",
      "\n",
      "       False     0.9245    0.8750    0.8991       112\n",
      "        True     0.3913    0.5294    0.4500        17\n",
      "\n",
      "    accuracy                         0.8295       129\n",
      "   macro avg     0.6579    0.7022    0.6745       129\n",
      "weighted avg     0.8543    0.8295    0.8399       129\n",
      "\n"
     ]
    }
   ],
   "source": [
    "# Entrenar modelo final con los mejores hiperparámetros\n",
    "set_seeds(SEED)\n",
    "best_params = study.best_params\n",
    "final_model = RandomForestClassifier(\n",
    "    n_estimators=best_params[\"n_estimators\"],\n",
    "    max_depth=best_params[\"max_depth\"],\n",
    "    min_samples_split=best_params[\"min_samples_split\"],\n",
    "    min_samples_leaf=best_params[\"min_samples_leaf\"],\n",
    "    max_features=best_params[\"max_features\"],\n",
    "    random_state=SEED\n",
    ")\n",
    "final_model.fit(X_train, y_train)\n",
    "y_pred_final = final_model.predict(X_val)\n",
    "print(\"RandomForest FINAL trend_changes_score:\\n\", trend_changes_score(y_val, y_pred_final))"
   ]
  }
 ],
 "metadata": {
  "kernelspec": {
   "display_name": "tf_venv2 (3.10.12)",
   "language": "python",
   "name": "python3"
  },
  "language_info": {
   "codemirror_mode": {
    "name": "ipython",
    "version": 3
   },
   "file_extension": ".py",
   "mimetype": "text/x-python",
   "name": "python",
   "nbconvert_exporter": "python",
   "pygments_lexer": "ipython3",
   "version": "3.10.12"
  }
 },
 "nbformat": 4,
 "nbformat_minor": 5
}
