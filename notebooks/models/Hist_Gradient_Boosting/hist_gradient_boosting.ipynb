{
 "cells": [
  {
   "cell_type": "code",
   "execution_count": 1,
   "id": "d5361d87",
   "metadata": {},
   "outputs": [
    {
     "name": "stderr",
     "output_type": "stream",
     "text": [
      "/home/toyotx22/bitcoin_sentiment_forecaster/tf_venv2/lib/python3.10/site-packages/tqdm/auto.py:21: TqdmWarning: IProgress not found. Please update jupyter and ipywidgets. See https://ipywidgets.readthedocs.io/en/stable/user_install.html\n",
      "  from .autonotebook import tqdm as notebook_tqdm\n"
     ]
    }
   ],
   "source": [
    "import numpy as np\n",
    "import random\n",
    "import optuna\n",
    "import pandas as pd\n",
    "from sklearn.ensemble import HistGradientBoostingClassifier\n",
    "from sklearn.metrics import classification_report, balanced_accuracy_score\n",
    "import json\n",
    "import os\n",
    "from optuna.visualization import plot_optimization_history"
   ]
  },
  {
   "cell_type": "code",
   "execution_count": 2,
   "id": "30bf1500",
   "metadata": {},
   "outputs": [],
   "source": [
    "SEED = 1234\n",
    " # Se puede cambiar a \"precision\" o \"recall\" o \"f1-score\"\n",
    "SCORE = \"f1-score\""
   ]
  },
  {
   "cell_type": "code",
   "execution_count": 3,
   "id": "c4f4c54e",
   "metadata": {},
   "outputs": [],
   "source": [
    "def set_seeds(seed):\n",
    "    random.seed(seed)\n",
    "    np.random.seed(seed)"
   ]
  },
  {
   "cell_type": "code",
   "execution_count": 4,
   "id": "bf2d7e99",
   "metadata": {},
   "outputs": [],
   "source": [
    "def trend_changes_score(y_test: np.array, y_pred: np.array) -> float:\n",
    "    \"\"\"\n",
    "    Calculate the trend changes score based on the test and predicted values.\n",
    "    \n",
    "    Args:\n",
    "        y_test (np.array): True labels.\n",
    "        y_pred (np.array): Predicted labels.\n",
    "        \n",
    "    Returns:\n",
    "        float: The trend changes score.\n",
    "    \"\"\"\n",
    "    y_df = pd.DataFrame([y_test, y_pred]).T\n",
    "    y_df.columns = [\"y_test\", \"y_pred\"]\n",
    "    y_df[\"y_test_shifted\"] = y_df[\"y_test\"].shift(-1)\n",
    "    y_df[\"is_changed_trend_test\"] = y_df[\"y_test\"] != y_df[\"y_test_shifted\"]\n",
    "    y_df[\"y_predict_shifted\"] = y_df[\"y_pred\"].shift(-1)\n",
    "    y_df[\"is_changed_trend_predict\"] = y_df[\"y_pred\"] != y_df[\"y_predict_shifted\"]\n",
    "    return classification_report(y_df[\"is_changed_trend_test\"][:-1], y_df[\"is_changed_trend_predict\"][:-1], digits=4)\n",
    "\n",
    "def trend_changes_true(y_test: np.array, y_pred: np.array) -> float:\n",
    "    \"\"\"\n",
    "    Calculate the trend changes score based on the test and predicted values.\n",
    "    \n",
    "    Args:\n",
    "        y_test (np.array): True labels.\n",
    "        y_pred (np.array): Predicted labels.\n",
    "        \n",
    "    Returns:\n",
    "        float: The trend changes score.\n",
    "    \"\"\"\n",
    "    y_df = pd.DataFrame([y_test, y_pred]).T\n",
    "    y_df.columns = [\"y_test\", \"y_pred\"]\n",
    "    y_df[\"y_test_shifted\"] = y_df[\"y_test\"].shift(-1)\n",
    "    y_df[\"is_changed_trend_test\"] = y_df[\"y_test\"] != y_df[\"y_test_shifted\"]\n",
    "    y_df[\"y_predict_shifted\"] = y_df[\"y_pred\"].shift(-1)\n",
    "    y_df[\"is_changed_trend_predict\"] = y_df[\"y_pred\"] != y_df[\"y_predict_shifted\"]\n",
    "    report = classification_report(\n",
    "        y_df[\"is_changed_trend_test\"][:-1],\n",
    "        y_df[\"is_changed_trend_predict\"][:-1],\n",
    "        output_dict=True,\n",
    "        zero_division=0\n",
    "    )\n",
    "    return report[\"True\"][SCORE]"
   ]
  },
  {
   "cell_type": "code",
   "execution_count": 5,
   "id": "abb36f1f",
   "metadata": {},
   "outputs": [],
   "source": [
    "# Cargar datos\n",
    "train = pd.read_csv(\"../../../data/training_set.csv\", parse_dates=[\"date\"])\n",
    "val = pd.read_csv(\"../../../data/validation_set.csv\", parse_dates=[\"date\"])\n",
    "X_train = train.drop(columns=[\"date\", \"target_trend\"]).values\n",
    "y_train = train[\"target_trend\"].values\n",
    "X_val = val.drop(columns=[\"date\", \"target_trend\"]).values\n",
    "y_val = val[\"target_trend\"].values"
   ]
  },
  {
   "cell_type": "code",
   "execution_count": 6,
   "id": "4fad55b9",
   "metadata": {},
   "outputs": [],
   "source": [
    "def objective(trial):\n",
    "    set_seeds(SEED)\n",
    "    learning_rate = trial.suggest_float(\"learning_rate\", 0.01, 0.2, log=True)\n",
    "    max_depth = trial.suggest_int(\"max_depth\", 2, 16)\n",
    "    max_iter = trial.suggest_int(\"max_iter\", 100, 500)\n",
    "    min_samples_leaf = trial.suggest_int(\"min_samples_leaf\", 1, 20)\n",
    "    l2_regularization = trial.suggest_float(\"l2_regularization\", 0.0, 2.0)\n",
    "    max_bins = trial.suggest_int(\"max_bins\", 128, 255)\n",
    "\n",
    "    model = HistGradientBoostingClassifier(\n",
    "        learning_rate=learning_rate,\n",
    "        max_depth=max_depth,\n",
    "        max_iter=max_iter,\n",
    "        min_samples_leaf=min_samples_leaf,\n",
    "        l2_regularization=l2_regularization,\n",
    "        max_bins=max_bins,\n",
    "        random_state=SEED\n",
    "    )\n",
    "    model.fit(X_train, y_train)\n",
    "    y_pred = model.predict(X_val)\n",
    "    score = trend_changes_true(y_val, y_pred)\n",
    "    return score"
   ]
  },
  {
   "cell_type": "code",
   "execution_count": null,
   "id": "1308680c",
   "metadata": {},
   "outputs": [
    {
     "name": "stderr",
     "output_type": "stream",
     "text": [
      "[I 2025-08-20 20:08:24,376] A new study created in memory with name: no-name-75eaa248-0e76-4066-92a2-09d7544b5929\n",
      "[I 2025-08-20 20:08:25,571] Trial 0 finished with value: 0.13636363636363635 and parameters: {'learning_rate': 0.01774894524799066, 'max_depth': 11, 'max_iter': 275, 'min_samples_leaf': 16, 'l2_regularization': 1.559951616237607, 'max_bins': 162}. Best is trial 0 with value: 0.13636363636363635.\n",
      "[I 2025-08-20 20:08:27,480] Trial 1 finished with value: 0.13636363636363635 and parameters: {'learning_rate': 0.022892239910869177, 'max_depth': 14, 'max_iter': 484, 'min_samples_leaf': 18, 'l2_regularization': 0.7156345399157333, 'max_bins': 192}. Best is trial 0 with value: 0.13636363636363635.\n",
      "[I 2025-08-20 20:08:28,771] Trial 2 finished with value: 0.2916666666666667 and parameters: {'learning_rate': 0.07748288441159408, 'max_depth': 12, 'max_iter': 248, 'min_samples_leaf': 12, 'l2_regularization': 1.0061663306156194, 'max_bins': 129}. Best is trial 2 with value: 0.2916666666666667.\n",
      "[I 2025-08-20 20:08:30,383] Trial 3 finished with value: 0.26666666666666666 and parameters: {'learning_rate': 0.10126762300587276, 'max_depth': 15, 'max_iter': 246, 'min_samples_leaf': 13, 'l2_regularization': 0.1507624832859531, 'max_bins': 175}. Best is trial 2 with value: 0.2916666666666667.\n",
      "[I 2025-08-20 20:08:31,881] Trial 4 finished with value: 0.20833333333333334 and parameters: {'learning_rate': 0.16369795832561723, 'max_depth': 11, 'max_iter': 259, 'min_samples_leaf': 16, 'l2_regularization': 0.6336722443377425, 'max_bins': 200}. Best is trial 2 with value: 0.2916666666666667.\n",
      "[I 2025-08-20 20:08:35,209] Trial 5 finished with value: 0.11538461538461539 and parameters: {'learning_rate': 0.13513280879844683, 'max_depth': 8, 'max_iter': 421, 'min_samples_leaf': 3, 'l2_regularization': 1.4085219422366708, 'max_bins': 218}. Best is trial 2 with value: 0.2916666666666667.\n",
      "[I 2025-08-20 20:08:36,452] Trial 6 finished with value: 0.14285714285714285 and parameters: {'learning_rate': 0.019259947204382573, 'max_depth': 15, 'max_iter': 277, 'min_samples_leaf': 19, 'l2_regularization': 0.1196184455597038, 'max_bins': 151}. Best is trial 2 with value: 0.2916666666666667.\n",
      "[I 2025-08-20 20:08:38,326] Trial 7 finished with value: 0.14285714285714285 and parameters: {'learning_rate': 0.011524196057181964, 'max_depth': 12, 'max_iter': 338, 'min_samples_leaf': 11, 'l2_regularization': 0.08664812538960698, 'max_bins': 199}. Best is trial 2 with value: 0.2916666666666667.\n",
      "[I 2025-08-20 20:08:39,037] Trial 8 finished with value: 0.18181818181818182 and parameters: {'learning_rate': 0.026847789642131727, 'max_depth': 9, 'max_iter': 144, 'min_samples_leaf': 13, 'l2_regularization': 1.1318892861010628, 'max_bins': 128}. Best is trial 2 with value: 0.2916666666666667.\n",
      "[I 2025-08-20 20:08:40,602] Trial 9 finished with value: 0.2 and parameters: {'learning_rate': 0.06357848628088529, 'max_depth': 15, 'max_iter': 417, 'min_samples_leaf': 20, 'l2_regularization': 1.917603524305733, 'max_bins': 229}. Best is trial 2 with value: 0.2916666666666667.\n",
      "[I 2025-08-20 20:08:40,941] Trial 10 finished with value: 0.17391304347826086 and parameters: {'learning_rate': 0.05151750800667148, 'max_depth': 4, 'max_iter': 104, 'min_samples_leaf': 5, 'l2_regularization': 0.7564104848334682, 'max_bins': 249}. Best is trial 2 with value: 0.2916666666666667.\n",
      "[I 2025-08-20 20:08:41,931] Trial 11 finished with value: 0.16666666666666666 and parameters: {'learning_rate': 0.08894014624974582, 'max_depth': 6, 'max_iter': 198, 'min_samples_leaf': 8, 'l2_regularization': 0.45191460255539107, 'max_bins': 153}. Best is trial 2 with value: 0.2916666666666667.\n",
      "[I 2025-08-20 20:08:43,014] Trial 12 finished with value: 0.22727272727272727 and parameters: {'learning_rate': 0.09769928100539103, 'max_depth': 16, 'max_iter': 203, 'min_samples_leaf': 9, 'l2_regularization': 1.1460696589682096, 'max_bins': 172}. Best is trial 2 with value: 0.2916666666666667.\n",
      "[I 2025-08-20 20:08:44,492] Trial 13 finished with value: 0.23809523809523808 and parameters: {'learning_rate': 0.1971783750884152, 'max_depth': 13, 'max_iter': 337, 'min_samples_leaf': 13, 'l2_regularization': 0.4623513477083965, 'max_bins': 131}. Best is trial 2 with value: 0.2916666666666667.\n",
      "[I 2025-08-20 20:08:45,446] Trial 14 finished with value: 0.2553191489361702 and parameters: {'learning_rate': 0.040139734212763775, 'max_depth': 11, 'max_iter': 204, 'min_samples_leaf': 13, 'l2_regularization': 0.9573064880166805, 'max_bins': 177}. Best is trial 2 with value: 0.2916666666666667.\n",
      "[I 2025-08-20 20:08:45,833] Trial 15 finished with value: 0.3111111111111111 and parameters: {'learning_rate': 0.08148884780675014, 'max_depth': 2, 'max_iter': 331, 'min_samples_leaf': 7, 'l2_regularization': 1.411827765169111, 'max_bins': 143}. Best is trial 15 with value: 0.3111111111111111.\n",
      "[I 2025-08-20 20:08:46,239] Trial 16 finished with value: 0.2727272727272727 and parameters: {'learning_rate': 0.039954022147151755, 'max_depth': 2, 'max_iter': 336, 'min_samples_leaf': 6, 'l2_regularization': 1.555708936504455, 'max_bins': 143}. Best is trial 15 with value: 0.3111111111111111.\n",
      "[I 2025-08-20 20:08:48,744] Trial 17 finished with value: 0.08 and parameters: {'learning_rate': 0.06923024997790748, 'max_depth': 7, 'max_iter': 392, 'min_samples_leaf': 2, 'l2_regularization': 1.8265827635639362, 'max_bins': 142}. Best is trial 15 with value: 0.3111111111111111.\n",
      "[I 2025-08-20 20:08:49,143] Trial 18 finished with value: 0.14285714285714285 and parameters: {'learning_rate': 0.12944768418226316, 'max_depth': 2, 'max_iter': 368, 'min_samples_leaf': 6, 'l2_regularization': 1.3383220833393121, 'max_bins': 137}. Best is trial 15 with value: 0.3111111111111111.\n",
      "[I 2025-08-20 20:08:50,917] Trial 19 finished with value: 0.2857142857142857 and parameters: {'learning_rate': 0.06842168027625001, 'max_depth': 5, 'max_iter': 485, 'min_samples_leaf': 10, 'l2_regularization': 1.7198953984655752, 'max_bins': 161}. Best is trial 15 with value: 0.3111111111111111.\n",
      "[I 2025-08-20 20:08:52,566] Trial 20 finished with value: 0.2222222222222222 and parameters: {'learning_rate': 0.03409106388591607, 'max_depth': 9, 'max_iter': 312, 'min_samples_leaf': 8, 'l2_regularization': 0.9489199414249309, 'max_bins': 128}. Best is trial 15 with value: 0.3111111111111111.\n",
      "[I 2025-08-20 20:08:54,023] Trial 21 finished with value: 0.2978723404255319 and parameters: {'learning_rate': 0.0668146655749057, 'max_depth': 4, 'max_iter': 499, 'min_samples_leaf': 10, 'l2_regularization': 1.7162569602545839, 'max_bins': 160}. Best is trial 15 with value: 0.3111111111111111.\n",
      "[I 2025-08-20 20:08:55,250] Trial 22 finished with value: 0.3137254901960784 and parameters: {'learning_rate': 0.0558095591063624, 'max_depth': 4, 'max_iter': 452, 'min_samples_leaf': 11, 'l2_regularization': 1.308360442397186, 'max_bins': 151}. Best is trial 22 with value: 0.3137254901960784.\n",
      "[I 2025-08-20 20:08:56,652] Trial 23 finished with value: 0.22727272727272727 and parameters: {'learning_rate': 0.05352606245107335, 'max_depth': 4, 'max_iter': 460, 'min_samples_leaf': 7, 'l2_regularization': 1.3021051282629503, 'max_bins': 162}. Best is trial 22 with value: 0.3137254901960784.\n",
      "[I 2025-08-20 20:08:57,466] Trial 24 finished with value: 0.17391304347826086 and parameters: {'learning_rate': 0.05032176766439807, 'max_depth': 3, 'max_iter': 449, 'min_samples_leaf': 4, 'l2_regularization': 1.6449613004717034, 'max_bins': 151}. Best is trial 22 with value: 0.3137254901960784.\n",
      "[I 2025-08-20 20:08:58,781] Trial 25 finished with value: 0.3404255319148936 and parameters: {'learning_rate': 0.11852258842059535, 'max_depth': 4, 'max_iter': 443, 'min_samples_leaf': 10, 'l2_regularization': 1.4427582668352443, 'max_bins': 182}. Best is trial 25 with value: 0.3404255319148936.\n",
      "[I 2025-08-20 20:09:00,402] Trial 26 finished with value: 0.2857142857142857 and parameters: {'learning_rate': 0.11198178965646659, 'max_depth': 6, 'max_iter': 375, 'min_samples_leaf': 11, 'l2_regularization': 1.469941875068917, 'max_bins': 180}. Best is trial 25 with value: 0.3404255319148936.\n",
      "[I 2025-08-20 20:09:01,296] Trial 27 finished with value: 0.24 and parameters: {'learning_rate': 0.14132354143798884, 'max_depth': 3, 'max_iter': 424, 'min_samples_leaf': 1, 'l2_regularization': 1.2238634723957214, 'max_bins': 212}. Best is trial 25 with value: 0.3404255319148936.\n",
      "[I 2025-08-20 20:09:01,930] Trial 28 finished with value: 0.19047619047619047 and parameters: {'learning_rate': 0.08569956525709646, 'max_depth': 2, 'max_iter': 450, 'min_samples_leaf': 9, 'l2_regularization': 1.4376338464489526, 'max_bins': 188}. Best is trial 25 with value: 0.3404255319148936.\n",
      "[I 2025-08-20 20:09:03,339] Trial 29 finished with value: 0.2857142857142857 and parameters: {'learning_rate': 0.17737379078230267, 'max_depth': 5, 'max_iter': 397, 'min_samples_leaf': 15, 'l2_regularization': 1.569135451117125, 'max_bins': 170}. Best is trial 25 with value: 0.3404255319148936.\n",
      "[I 2025-08-20 20:09:03,886] Trial 30 finished with value: 0.17391304347826086 and parameters: {'learning_rate': 0.03282416159470706, 'max_depth': 3, 'max_iter': 297, 'min_samples_leaf': 7, 'l2_regularization': 1.9786214805544247, 'max_bins': 145}. Best is trial 25 with value: 0.3404255319148936.\n",
      "[I 2025-08-20 20:09:05,359] Trial 31 finished with value: 0.3137254901960784 and parameters: {'learning_rate': 0.060651889357123574, 'max_depth': 4, 'max_iter': 499, 'min_samples_leaf': 10, 'l2_regularization': 1.7596106517326044, 'max_bins': 159}. Best is trial 25 with value: 0.3404255319148936.\n",
      "[I 2025-08-20 20:09:07,270] Trial 32 finished with value: 0.2857142857142857 and parameters: {'learning_rate': 0.052757763162213644, 'max_depth': 5, 'max_iter': 474, 'min_samples_leaf': 9, 'l2_regularization': 1.7918108301503857, 'max_bins': 187}. Best is trial 25 with value: 0.3404255319148936.\n",
      "[I 2025-08-20 20:09:09,085] Trial 33 finished with value: 0.2553191489361702 and parameters: {'learning_rate': 0.10859840829634418, 'max_depth': 6, 'max_iter': 497, 'min_samples_leaf': 15, 'l2_regularization': 1.5179373410667618, 'max_bins': 166}. Best is trial 25 with value: 0.3404255319148936.\n",
      "[I 2025-08-20 20:09:09,914] Trial 34 finished with value: 0.25 and parameters: {'learning_rate': 0.07899580968569532, 'max_depth': 3, 'max_iter': 440, 'min_samples_leaf': 12, 'l2_regularization': 1.2981964709981286, 'max_bins': 157}. Best is trial 25 with value: 0.3404255319148936.\n",
      "[I 2025-08-20 20:09:12,007] Trial 35 finished with value: 0.26666666666666666 and parameters: {'learning_rate': 0.062369817966090944, 'max_depth': 7, 'max_iter': 467, 'min_samples_leaf': 11, 'l2_regularization': 1.100802298566563, 'max_bins': 139}. Best is trial 25 with value: 0.3404255319148936.\n",
      "[I 2025-08-20 20:09:13,148] Trial 36 finished with value: 0.2978723404255319 and parameters: {'learning_rate': 0.11868863370820382, 'max_depth': 4, 'max_iter': 402, 'min_samples_leaf': 8, 'l2_regularization': 1.6137664359756474, 'max_bins': 149}. Best is trial 25 with value: 0.3404255319148936.\n",
      "[I 2025-08-20 20:09:13,573] Trial 37 finished with value: 0.26666666666666666 and parameters: {'learning_rate': 0.09245331891384405, 'max_depth': 2, 'max_iter': 363, 'min_samples_leaf': 14, 'l2_regularization': 1.3935986944221765, 'max_bins': 168}. Best is trial 25 with value: 0.3404255319148936.\n",
      "[I 2025-08-20 20:09:15,239] Trial 38 finished with value: 0.2222222222222222 and parameters: {'learning_rate': 0.15469043640047195, 'max_depth': 7, 'max_iter': 449, 'min_samples_leaf': 17, 'l2_regularization': 0.856677943053402, 'max_bins': 181}. Best is trial 25 with value: 0.3404255319148936.\n",
      "[I 2025-08-20 20:09:17,342] Trial 39 finished with value: 0.18181818181818182 and parameters: {'learning_rate': 0.011739184218620762, 'max_depth': 10, 'max_iter': 427, 'min_samples_leaf': 12, 'l2_regularization': 1.86127433525511, 'max_bins': 197}. Best is trial 25 with value: 0.3404255319148936.\n",
      "[I 2025-08-20 20:09:19,234] Trial 40 finished with value: 0.21739130434782608 and parameters: {'learning_rate': 0.07736133948094012, 'max_depth': 5, 'max_iter': 479, 'min_samples_leaf': 10, 'l2_regularization': 1.2154665614516522, 'max_bins': 210}. Best is trial 25 with value: 0.3404255319148936.\n",
      "[I 2025-08-20 20:09:20,578] Trial 41 finished with value: 0.2222222222222222 and parameters: {'learning_rate': 0.05890269812392508, 'max_depth': 4, 'max_iter': 493, 'min_samples_leaf': 10, 'l2_regularization': 1.707739447075845, 'max_bins': 157}. Best is trial 25 with value: 0.3404255319148936.\n",
      "[I 2025-08-20 20:09:21,425] Trial 42 finished with value: 0.20833333333333334 and parameters: {'learning_rate': 0.043664836952640985, 'max_depth': 3, 'max_iter': 496, 'min_samples_leaf': 12, 'l2_regularization': 1.736413788103823, 'max_bins': 136}. Best is trial 25 with value: 0.3404255319148936.\n",
      "[I 2025-08-20 20:09:22,830] Trial 43 finished with value: 0.18181818181818182 and parameters: {'learning_rate': 0.07377426663433095, 'max_depth': 4, 'max_iter': 469, 'min_samples_leaf': 7, 'l2_regularization': 1.6497185690553129, 'max_bins': 158}. Best is trial 25 with value: 0.3404255319148936.\n",
      "[I 2025-08-20 20:09:24,582] Trial 44 finished with value: 0.32653061224489793 and parameters: {'learning_rate': 0.04581431302689251, 'max_depth': 5, 'max_iter': 436, 'min_samples_leaf': 9, 'l2_regularization': 1.4957397957120888, 'max_bins': 164}. Best is trial 25 with value: 0.3404255319148936.\n",
      "[I 2025-08-20 20:09:25,771] Trial 45 finished with value: 0.15384615384615385 and parameters: {'learning_rate': 0.03192134941684957, 'max_depth': 6, 'max_iter': 230, 'min_samples_leaf': 5, 'l2_regularization': 1.4747581274964245, 'max_bins': 148}. Best is trial 25 with value: 0.3404255319148936.\n",
      "[I 2025-08-20 20:09:27,586] Trial 46 finished with value: 0.3404255319148936 and parameters: {'learning_rate': 0.045816074922466636, 'max_depth': 5, 'max_iter': 435, 'min_samples_leaf': 9, 'l2_regularization': 1.039612546034561, 'max_bins': 165}. Best is trial 25 with value: 0.3404255319148936.\n",
      "[I 2025-08-20 20:09:29,778] Trial 47 finished with value: 0.24489795918367346 and parameters: {'learning_rate': 0.02542983143860907, 'max_depth': 8, 'max_iter': 412, 'min_samples_leaf': 8, 'l2_regularization': 1.0519883999753157, 'max_bins': 175}. Best is trial 25 with value: 0.3404255319148936.\n",
      "[I 2025-08-20 20:09:31,364] Trial 48 finished with value: 0.23809523809523808 and parameters: {'learning_rate': 0.03897670363647824, 'max_depth': 5, 'max_iter': 384, 'min_samples_leaf': 11, 'l2_regularization': 1.2019464144178036, 'max_bins': 166}. Best is trial 25 with value: 0.3404255319148936.\n",
      "[I 2025-08-20 20:09:33,930] Trial 49 finished with value: 0.2553191489361702 and parameters: {'learning_rate': 0.020602094123991374, 'max_depth': 8, 'max_iter': 424, 'min_samples_leaf': 9, 'l2_regularization': 0.6856378265245059, 'max_bins': 191}. Best is trial 25 with value: 0.3404255319148936.\n",
      "[I 2025-08-20 20:09:35,918] Trial 50 finished with value: 0.2727272727272727 and parameters: {'learning_rate': 0.047688997875581576, 'max_depth': 6, 'max_iter': 435, 'min_samples_leaf': 14, 'l2_regularization': 0.8220861507709376, 'max_bins': 173}. Best is trial 25 with value: 0.3404255319148936.\n",
      "[I 2025-08-20 20:09:36,843] Trial 51 finished with value: 0.2 and parameters: {'learning_rate': 0.06037728803517596, 'max_depth': 3, 'max_iter': 457, 'min_samples_leaf': 9, 'l2_regularization': 1.3684887691811927, 'max_bins': 153}. Best is trial 25 with value: 0.3404255319148936.\n",
      "[I 2025-08-20 20:09:37,422] Trial 52 finished with value: 0.24390243902439024 and parameters: {'learning_rate': 0.043521977182233516, 'max_depth': 2, 'max_iter': 402, 'min_samples_leaf': 8, 'l2_regularization': 1.2628955715593733, 'max_bins': 181}. Best is trial 25 with value: 0.3404255319148936.\n",
      "[I 2025-08-20 20:09:38,612] Trial 53 finished with value: 0.22727272727272727 and parameters: {'learning_rate': 0.03554957604018296, 'max_depth': 4, 'max_iter': 356, 'min_samples_leaf': 6, 'l2_regularization': 1.0246030922419764, 'max_bins': 166}. Best is trial 25 with value: 0.3404255319148936.\n",
      "[I 2025-08-20 20:09:39,874] Trial 54 finished with value: 0.2978723404255319 and parameters: {'learning_rate': 0.056357075922768465, 'max_depth': 5, 'max_iter': 272, 'min_samples_leaf': 10, 'l2_regularization': 0.239167749590669, 'max_bins': 252}. Best is trial 25 with value: 0.3404255319148936.\n",
      "[I 2025-08-20 20:09:40,579] Trial 55 finished with value: 0.22727272727272727 and parameters: {'learning_rate': 0.09876752679391171, 'max_depth': 3, 'max_iter': 322, 'min_samples_leaf': 7, 'l2_regularization': 1.142445646248394, 'max_bins': 236}. Best is trial 25 with value: 0.3404255319148936.\n",
      "[I 2025-08-20 20:09:42,777] Trial 56 finished with value: 0.18181818181818182 and parameters: {'learning_rate': 0.02906427757795929, 'max_depth': 7, 'max_iter': 440, 'min_samples_leaf': 11, 'l2_regularization': 1.5135339557279741, 'max_bins': 145}. Best is trial 25 with value: 0.3404255319148936.\n",
      "[I 2025-08-20 20:09:43,256] Trial 57 finished with value: 0.2978723404255319 and parameters: {'learning_rate': 0.08664387643928516, 'max_depth': 4, 'max_iter': 145, 'min_samples_leaf': 5, 'l2_regularization': 1.4246591978710064, 'max_bins': 134}. Best is trial 25 with value: 0.3404255319148936.\n",
      "[I 2025-08-20 20:09:43,749] Trial 58 finished with value: 0.27906976744186046 and parameters: {'learning_rate': 0.07275338928823652, 'max_depth': 2, 'max_iter': 414, 'min_samples_leaf': 13, 'l2_regularization': 1.59297152242958, 'max_bins': 154}. Best is trial 25 with value: 0.3404255319148936.\n",
      "[I 2025-08-20 20:09:45,740] Trial 59 finished with value: 0.19047619047619047 and parameters: {'learning_rate': 0.046759183815002034, 'max_depth': 5, 'max_iter': 481, 'min_samples_leaf': 9, 'l2_regularization': 1.313350150138128, 'max_bins': 140}. Best is trial 25 with value: 0.3404255319148936.\n",
      "[I 2025-08-20 20:09:46,656] Trial 60 finished with value: 0.18181818181818182 and parameters: {'learning_rate': 0.06368947133616193, 'max_depth': 4, 'max_iter': 380, 'min_samples_leaf': 11, 'l2_regularization': 0.004556382099618395, 'max_bins': 163}. Best is trial 25 with value: 0.3404255319148936.\n",
      "[I 2025-08-20 20:09:49,035] Trial 61 finished with value: 0.2553191489361702 and parameters: {'learning_rate': 0.06436025181305408, 'max_depth': 6, 'max_iter': 499, 'min_samples_leaf': 10, 'l2_regularization': 1.8913513491813227, 'max_bins': 160}. Best is trial 25 with value: 0.3404255319148936.\n",
      "[I 2025-08-20 20:09:49,988] Trial 62 finished with value: 0.18181818181818182 and parameters: {'learning_rate': 0.05422408652682972, 'max_depth': 3, 'max_iter': 458, 'min_samples_leaf': 12, 'l2_regularization': 1.7721914906144267, 'max_bins': 155}. Best is trial 25 with value: 0.3404255319148936.\n",
      "[I 2025-08-20 20:09:51,632] Trial 63 finished with value: 0.2857142857142857 and parameters: {'learning_rate': 0.08368743903206778, 'max_depth': 4, 'max_iter': 474, 'min_samples_leaf': 8, 'l2_regularization': 1.685394465042659, 'max_bins': 146}. Best is trial 25 with value: 0.3404255319148936.\n",
      "[I 2025-08-20 20:09:53,549] Trial 64 finished with value: 0.2857142857142857 and parameters: {'learning_rate': 0.03817040045607211, 'max_depth': 5, 'max_iter': 485, 'min_samples_leaf': 9, 'l2_regularization': 1.9566539357492765, 'max_bins': 178}. Best is trial 25 with value: 0.3404255319148936.\n",
      "[I 2025-08-20 20:09:54,375] Trial 65 finished with value: 0.17391304347826086 and parameters: {'learning_rate': 0.06966646315891506, 'max_depth': 3, 'max_iter': 435, 'min_samples_leaf': 6, 'l2_regularization': 1.4948885993265046, 'max_bins': 162}. Best is trial 25 with value: 0.3404255319148936.\n",
      "[I 2025-08-20 20:09:56,807] Trial 66 finished with value: 0.19047619047619047 and parameters: {'learning_rate': 0.048214899653206654, 'max_depth': 14, 'max_iter': 460, 'min_samples_leaf': 10, 'l2_regularization': 1.3780847778170986, 'max_bins': 185}. Best is trial 25 with value: 0.3404255319148936.\n",
      "[I 2025-08-20 20:09:57,136] Trial 67 finished with value: 0.24390243902439024 and parameters: {'learning_rate': 0.11205622080694136, 'max_depth': 2, 'max_iter': 293, 'min_samples_leaf': 12, 'l2_regularization': 1.5593563096490153, 'max_bins': 174}. Best is trial 25 with value: 0.3404255319148936.\n",
      "[I 2025-08-20 20:09:59,269] Trial 68 finished with value: 0.20833333333333334 and parameters: {'learning_rate': 0.13306519482825993, 'max_depth': 6, 'max_iter': 446, 'min_samples_leaf': 7, 'l2_regularization': 0.9258059877140565, 'max_bins': 152}. Best is trial 25 with value: 0.3404255319148936.\n",
      "[I 2025-08-20 20:10:00,648] Trial 69 finished with value: 0.24489795918367346 and parameters: {'learning_rate': 0.04244780276097299, 'max_depth': 4, 'max_iter': 469, 'min_samples_leaf': 8, 'l2_regularization': 1.8235350755632522, 'max_bins': 149}. Best is trial 25 with value: 0.3404255319148936.\n",
      "[I 2025-08-20 20:10:01,994] Trial 70 finished with value: 0.3404255319148936 and parameters: {'learning_rate': 0.05624643217260603, 'max_depth': 5, 'max_iter': 351, 'min_samples_leaf': 11, 'l2_regularization': 1.6319863946943536, 'max_bins': 169}. Best is trial 25 with value: 0.3404255319148936.\n",
      "[I 2025-08-20 20:10:03,388] Trial 71 finished with value: 0.2978723404255319 and parameters: {'learning_rate': 0.053145062840076834, 'max_depth': 5, 'max_iter': 340, 'min_samples_leaf': 11, 'l2_regularization': 1.6040572891134803, 'max_bins': 171}. Best is trial 25 with value: 0.3404255319148936.\n",
      "[I 2025-08-20 20:10:04,416] Trial 72 finished with value: 0.2978723404255319 and parameters: {'learning_rate': 0.06698929068139063, 'max_depth': 4, 'max_iter': 322, 'min_samples_leaf': 10, 'l2_regularization': 1.6718398070457523, 'max_bins': 164}. Best is trial 25 with value: 0.3404255319148936.\n",
      "[I 2025-08-20 20:10:05,819] Trial 73 finished with value: 0.22727272727272727 and parameters: {'learning_rate': 0.05619411950581294, 'max_depth': 5, 'max_iter': 347, 'min_samples_leaf': 9, 'l2_regularization': 0.5426734523046398, 'max_bins': 168}. Best is trial 25 with value: 0.3404255319148936.\n",
      "[I 2025-08-20 20:10:06,830] Trial 74 finished with value: 0.21739130434782608 and parameters: {'learning_rate': 0.07999853139388731, 'max_depth': 3, 'max_iter': 486, 'min_samples_leaf': 13, 'l2_regularization': 1.7607087490813051, 'max_bins': 170}. Best is trial 25 with value: 0.3404255319148936.\n",
      "[I 2025-08-20 20:10:08,982] Trial 75 finished with value: 0.2978723404255319 and parameters: {'learning_rate': 0.09306943448971713, 'max_depth': 6, 'max_iter': 393, 'min_samples_leaf': 10, 'l2_regularization': 1.4322935468367162, 'max_bins': 158}. Best is trial 25 with value: 0.3404255319148936.\n",
      "[I 2025-08-20 20:10:10,279] Trial 76 finished with value: 0.2857142857142857 and parameters: {'learning_rate': 0.05757098359983479, 'max_depth': 5, 'max_iter': 308, 'min_samples_leaf': 11, 'l2_regularization': 1.5354066034043186, 'max_bins': 177}. Best is trial 25 with value: 0.3404255319148936.\n",
      "[I 2025-08-20 20:10:12,605] Trial 77 finished with value: 0.13333333333333333 and parameters: {'learning_rate': 0.049455970419656686, 'max_depth': 7, 'max_iter': 430, 'min_samples_leaf': 8, 'l2_regularization': 1.2640599992057868, 'max_bins': 141}. Best is trial 25 with value: 0.3404255319148936.\n",
      "[I 2025-08-20 20:10:13,808] Trial 78 finished with value: 0.2857142857142857 and parameters: {'learning_rate': 0.0738498406497064, 'max_depth': 4, 'max_iter': 413, 'min_samples_leaf': 14, 'l2_regularization': 1.6375480038441763, 'max_bins': 184}. Best is trial 25 with value: 0.3404255319148936.\n",
      "[I 2025-08-20 20:10:14,293] Trial 79 finished with value: 0.26666666666666666 and parameters: {'learning_rate': 0.04155022773362127, 'max_depth': 2, 'max_iter': 366, 'min_samples_leaf': 19, 'l2_regularization': 1.1816821843122396, 'max_bins': 194}. Best is trial 25 with value: 0.3404255319148936.\n",
      "[I 2025-08-20 20:10:16,582] Trial 80 finished with value: 0.22727272727272727 and parameters: {'learning_rate': 0.015013655686154604, 'max_depth': 8, 'max_iter': 449, 'min_samples_leaf': 12, 'l2_regularization': 1.8296146571723673, 'max_bins': 160}. Best is trial 25 with value: 0.3404255319148936.\n",
      "[I 2025-08-20 20:10:17,874] Trial 81 finished with value: 0.3137254901960784 and parameters: {'learning_rate': 0.12125044377962087, 'max_depth': 4, 'max_iter': 403, 'min_samples_leaf': 9, 'l2_regularization': 1.595865600176954, 'max_bins': 150}. Best is trial 25 with value: 0.3404255319148936.\n",
      "[I 2025-08-20 20:10:19,132] Trial 82 finished with value: 0.3137254901960784 and parameters: {'learning_rate': 0.1452617569044925, 'max_depth': 4, 'max_iter': 405, 'min_samples_leaf': 10, 'l2_regularization': 1.3586155641922304, 'max_bins': 150}. Best is trial 25 with value: 0.3404255319148936.\n",
      "[I 2025-08-20 20:10:19,867] Trial 83 finished with value: 0.25925925925925924 and parameters: {'learning_rate': 0.15070135334286996, 'max_depth': 3, 'max_iter': 408, 'min_samples_leaf': 9, 'l2_regularization': 1.3545134158870857, 'max_bins': 131}. Best is trial 25 with value: 0.3404255319148936.\n",
      "[I 2025-08-20 20:10:20,924] Trial 84 finished with value: 0.2978723404255319 and parameters: {'learning_rate': 0.17831287757529857, 'max_depth': 4, 'max_iter': 391, 'min_samples_leaf': 9, 'l2_regularization': 1.4111674518408037, 'max_bins': 144}. Best is trial 25 with value: 0.3404255319148936.\n",
      "[I 2025-08-20 20:10:21,696] Trial 85 finished with value: 0.2608695652173913 and parameters: {'learning_rate': 0.10457896240814712, 'max_depth': 3, 'max_iter': 424, 'min_samples_leaf': 10, 'l2_regularization': 1.4703511238344062, 'max_bins': 149}. Best is trial 25 with value: 0.3404255319148936.\n",
      "[I 2025-08-20 20:10:23,422] Trial 86 finished with value: 0.24489795918367346 and parameters: {'learning_rate': 0.19918761641067925, 'max_depth': 10, 'max_iter': 354, 'min_samples_leaf': 11, 'l2_regularization': 1.0896706362933917, 'max_bins': 203}. Best is trial 25 with value: 0.3404255319148936.\n",
      "[I 2025-08-20 20:10:25,249] Trial 87 finished with value: 0.20408163265306123 and parameters: {'learning_rate': 0.11868401130077488, 'max_depth': 6, 'max_iter': 384, 'min_samples_leaf': 7, 'l2_regularization': 1.2883305843556347, 'max_bins': 155}. Best is trial 25 with value: 0.3404255319148936.\n",
      "[I 2025-08-20 20:10:26,849] Trial 88 finished with value: 0.27450980392156865 and parameters: {'learning_rate': 0.1231958256703573, 'max_depth': 5, 'max_iter': 400, 'min_samples_leaf': 8, 'l2_regularization': 1.5448235227971343, 'max_bins': 136}. Best is trial 25 with value: 0.3404255319148936.\n",
      "[I 2025-08-20 20:10:28,264] Trial 89 finished with value: 0.2857142857142857 and parameters: {'learning_rate': 0.14338949446387375, 'max_depth': 5, 'max_iter': 374, 'min_samples_leaf': 10, 'l2_regularization': 1.480423157557657, 'max_bins': 147}. Best is trial 25 with value: 0.3404255319148936.\n",
      "[I 2025-08-20 20:10:31,427] Trial 90 finished with value: 0.23076923076923078 and parameters: {'learning_rate': 0.16968696934440772, 'max_depth': 12, 'max_iter': 418, 'min_samples_leaf': 4, 'l2_regularization': 1.352795786966021, 'max_bins': 150}. Best is trial 25 with value: 0.3404255319148936.\n",
      "[I 2025-08-20 20:10:32,474] Trial 91 finished with value: 0.2857142857142857 and parameters: {'learning_rate': 0.06145071258085023, 'max_depth': 4, 'max_iter': 329, 'min_samples_leaf': 9, 'l2_regularization': 1.5881943636011828, 'max_bins': 165}. Best is trial 25 with value: 0.3404255319148936.\n",
      "[I 2025-08-20 20:10:33,860] Trial 92 finished with value: 0.26666666666666666 and parameters: {'learning_rate': 0.03660773371976146, 'max_depth': 4, 'max_iter': 466, 'min_samples_leaf': 12, 'l2_regularization': 1.7032992741266224, 'max_bins': 157}. Best is trial 25 with value: 0.3404255319148936.\n",
      "[I 2025-08-20 20:10:35,162] Trial 93 finished with value: 0.3137254901960784 and parameters: {'learning_rate': 0.045429236285215606, 'max_depth': 4, 'max_iter': 440, 'min_samples_leaf': 10, 'l2_regularization': 1.730763446296616, 'max_bins': 168}. Best is trial 25 with value: 0.3404255319148936.\n",
      "[I 2025-08-20 20:10:36,670] Trial 94 finished with value: 0.24489795918367346 and parameters: {'learning_rate': 0.1292267339067447, 'max_depth': 5, 'max_iter': 433, 'min_samples_leaf': 11, 'l2_regularization': 1.7358555841809182, 'max_bins': 152}. Best is trial 25 with value: 0.3404255319148936.\n",
      "[I 2025-08-20 20:10:37,548] Trial 95 finished with value: 0.20833333333333334 and parameters: {'learning_rate': 0.047620994559895095, 'max_depth': 3, 'max_iter': 443, 'min_samples_leaf': 10, 'l2_regularization': 1.6358586212888182, 'max_bins': 168}. Best is trial 25 with value: 0.3404255319148936.\n",
      "[I 2025-08-20 20:10:38,835] Trial 96 finished with value: 0.20408163265306123 and parameters: {'learning_rate': 0.04428468136323053, 'max_depth': 4, 'max_iter': 455, 'min_samples_leaf': 9, 'l2_regularization': 1.4484035834794962, 'max_bins': 142}. Best is trial 25 with value: 0.3404255319148936.\n",
      "[I 2025-08-20 20:10:39,760] Trial 97 finished with value: 0.17391304347826086 and parameters: {'learning_rate': 0.15915190008394153, 'max_depth': 3, 'max_iter': 419, 'min_samples_leaf': 6, 'l2_regularization': 1.325295137235892, 'max_bins': 161}. Best is trial 25 with value: 0.3404255319148936.\n",
      "[I 2025-08-20 20:10:41,899] Trial 98 finished with value: 0.23255813953488372 and parameters: {'learning_rate': 0.049958076781756455, 'max_depth': 6, 'max_iter': 436, 'min_samples_leaf': 11, 'l2_regularization': 1.5134008775931194, 'max_bins': 174}. Best is trial 25 with value: 0.3404255319148936.\n",
      "[I 2025-08-20 20:10:42,459] Trial 99 finished with value: 0.2564102564102564 and parameters: {'learning_rate': 0.0455731717436753, 'max_depth': 2, 'max_iter': 404, 'min_samples_leaf': 10, 'l2_regularization': 1.9140797131776413, 'max_bins': 155}. Best is trial 25 with value: 0.3404255319148936.\n",
      "[I 2025-08-20 20:10:43,903] Trial 100 finished with value: 0.22727272727272727 and parameters: {'learning_rate': 0.031172743520231225, 'max_depth': 5, 'max_iter': 388, 'min_samples_leaf': 13, 'l2_regularization': 1.5790145468957506, 'max_bins': 159}. Best is trial 25 with value: 0.3404255319148936.\n",
      "[I 2025-08-20 20:10:45,345] Trial 101 finished with value: 0.2857142857142857 and parameters: {'learning_rate': 0.052840988786689164, 'max_depth': 4, 'max_iter': 476, 'min_samples_leaf': 8, 'l2_regularization': 1.7927898087757166, 'max_bins': 163}. Best is trial 25 with value: 0.3404255319148936.\n",
      "[I 2025-08-20 20:10:46,850] Trial 102 finished with value: 0.32653061224489793 and parameters: {'learning_rate': 0.06625531603279589, 'max_depth': 4, 'max_iter': 493, 'min_samples_leaf': 10, 'l2_regularization': 1.3961107796812187, 'max_bins': 172}. Best is trial 25 with value: 0.3404255319148936.\n",
      "[I 2025-08-20 20:10:48,711] Trial 103 finished with value: 0.30434782608695654 and parameters: {'learning_rate': 0.05874785723974065, 'max_depth': 5, 'max_iter': 491, 'min_samples_leaf': 12, 'l2_regularization': 1.2336695234221569, 'max_bins': 180}. Best is trial 25 with value: 0.3404255319148936.\n",
      "[I 2025-08-20 20:10:50,081] Trial 104 finished with value: 0.3404255319148936 and parameters: {'learning_rate': 0.0669721986603234, 'max_depth': 4, 'max_iter': 463, 'min_samples_leaf': 11, 'l2_regularization': 1.4371277676840555, 'max_bins': 177}. Best is trial 25 with value: 0.3404255319148936.\n",
      "[I 2025-08-20 20:10:51,451] Trial 105 finished with value: 0.2978723404255319 and parameters: {'learning_rate': 0.0654165576540184, 'max_depth': 4, 'max_iter': 462, 'min_samples_leaf': 11, 'l2_regularization': 1.3982885373593574, 'max_bins': 172}. Best is trial 25 with value: 0.3404255319148936.\n",
      "[I 2025-08-20 20:10:53,100] Trial 106 finished with value: 0.32653061224489793 and parameters: {'learning_rate': 0.04078659856962322, 'max_depth': 4, 'max_iter': 473, 'min_samples_leaf': 10, 'l2_regularization': 1.653849831795561, 'max_bins': 176}. Best is trial 25 with value: 0.3404255319148936.\n",
      "[I 2025-08-20 20:10:54,992] Trial 107 finished with value: 0.2127659574468085 and parameters: {'learning_rate': 0.03385462063908292, 'max_depth': 5, 'max_iter': 472, 'min_samples_leaf': 9, 'l2_regularization': 1.6699203436568462, 'max_bins': 188}. Best is trial 25 with value: 0.3404255319148936.\n",
      "[I 2025-08-20 20:10:55,931] Trial 108 finished with value: 0.1702127659574468 and parameters: {'learning_rate': 0.038556822971997855, 'max_depth': 3, 'max_iter': 481, 'min_samples_leaf': 11, 'l2_regularization': 1.4575078767857643, 'max_bins': 183}. Best is trial 25 with value: 0.3404255319148936.\n",
      "[I 2025-08-20 20:10:57,225] Trial 109 finished with value: 0.3111111111111111 and parameters: {'learning_rate': 0.04070713933446374, 'max_depth': 4, 'max_iter': 454, 'min_samples_leaf': 12, 'l2_regularization': 1.5496921525023455, 'max_bins': 175}. Best is trial 25 with value: 0.3404255319148936.\n",
      "[I 2025-08-20 20:10:59,169] Trial 110 finished with value: 0.2553191489361702 and parameters: {'learning_rate': 0.14190941209632307, 'max_depth': 5, 'max_iter': 491, 'min_samples_leaf': 9, 'l2_regularization': 1.1661237323464693, 'max_bins': 177}. Best is trial 25 with value: 0.3404255319148936.\n",
      "[I 2025-08-20 20:11:00,542] Trial 111 finished with value: 0.2553191489361702 and parameters: {'learning_rate': 0.05586342065006002, 'max_depth': 4, 'max_iter': 443, 'min_samples_leaf': 10, 'l2_regularization': 1.6303754499832488, 'max_bins': 169}. Best is trial 25 with value: 0.3404255319148936.\n",
      "[I 2025-08-20 20:11:02,203] Trial 112 finished with value: 0.32653061224489793 and parameters: {'learning_rate': 0.05108630138703343, 'max_depth': 4, 'max_iter': 466, 'min_samples_leaf': 10, 'l2_regularization': 1.5007173954513275, 'max_bins': 171}. Best is trial 25 with value: 0.3404255319148936.\n",
      "[I 2025-08-20 20:11:03,139] Trial 113 finished with value: 0.17391304347826086 and parameters: {'learning_rate': 0.05094594230606351, 'max_depth': 3, 'max_iter': 468, 'min_samples_leaf': 10, 'l2_regularization': 1.5144610251278603, 'max_bins': 171}. Best is trial 25 with value: 0.3404255319148936.\n",
      "[I 2025-08-20 20:11:04,458] Trial 114 finished with value: 0.27906976744186046 and parameters: {'learning_rate': 0.0710132413672459, 'max_depth': 4, 'max_iter': 499, 'min_samples_leaf': 11, 'l2_regularization': 1.3905429459140621, 'max_bins': 179}. Best is trial 25 with value: 0.3404255319148936.\n",
      "[I 2025-08-20 20:11:05,879] Trial 115 finished with value: 0.32653061224489793 and parameters: {'learning_rate': 0.06122677734308823, 'max_depth': 4, 'max_iter': 489, 'min_samples_leaf': 10, 'l2_regularization': 1.4356112916696198, 'max_bins': 165}. Best is trial 25 with value: 0.3404255319148936.\n",
      "[I 2025-08-20 20:11:07,756] Trial 116 finished with value: 0.25 and parameters: {'learning_rate': 0.05908803048498913, 'max_depth': 5, 'max_iter': 481, 'min_samples_leaf': 9, 'l2_regularization': 1.61027069708129, 'max_bins': 166}. Best is trial 25 with value: 0.3404255319148936.\n",
      "[I 2025-08-20 20:11:08,780] Trial 117 finished with value: 0.18181818181818182 and parameters: {'learning_rate': 0.062061515535913596, 'max_depth': 3, 'max_iter': 488, 'min_samples_leaf': 12, 'l2_regularization': 1.486298424366074, 'max_bins': 182}. Best is trial 25 with value: 0.3404255319148936.\n",
      "[I 2025-08-20 20:11:10,160] Trial 118 finished with value: 0.3404255319148936 and parameters: {'learning_rate': 0.06723921960952486, 'max_depth': 4, 'max_iter': 463, 'min_samples_leaf': 11, 'l2_regularization': 1.415295052599069, 'max_bins': 175}. Best is trial 25 with value: 0.3404255319148936.\n",
      "[I 2025-08-20 20:11:11,960] Trial 119 finished with value: 0.32653061224489793 and parameters: {'learning_rate': 0.07741824075727978, 'max_depth': 5, 'max_iter': 462, 'min_samples_leaf': 11, 'l2_regularization': 1.4317530410359145, 'max_bins': 173}. Best is trial 25 with value: 0.3404255319148936.\n",
      "[I 2025-08-20 20:11:14,062] Trial 120 finished with value: 0.21739130434782608 and parameters: {'learning_rate': 0.07441965645267866, 'max_depth': 6, 'max_iter': 461, 'min_samples_leaf': 11, 'l2_regularization': 1.27527092461718, 'max_bins': 190}. Best is trial 25 with value: 0.3404255319148936.\n",
      "[I 2025-08-20 20:11:15,978] Trial 121 finished with value: 0.3137254901960784 and parameters: {'learning_rate': 0.06672156533090098, 'max_depth': 5, 'max_iter': 472, 'min_samples_leaf': 11, 'l2_regularization': 1.4411399393569264, 'max_bins': 176}. Best is trial 25 with value: 0.3404255319148936.\n",
      "[I 2025-08-20 20:11:17,625] Trial 122 finished with value: 0.3404255319148936 and parameters: {'learning_rate': 0.05453885373722672, 'max_depth': 4, 'max_iter': 449, 'min_samples_leaf': 10, 'l2_regularization': 1.4262672340234102, 'max_bins': 173}. Best is trial 25 with value: 0.3404255319148936.\n",
      "[I 2025-08-20 20:11:20,244] Trial 123 finished with value: 0.22727272727272727 and parameters: {'learning_rate': 0.0542035291914057, 'max_depth': 16, 'max_iter': 452, 'min_samples_leaf': 12, 'l2_regularization': 1.3206681554943531, 'max_bins': 173}. Best is trial 25 with value: 0.3404255319148936.\n",
      "[I 2025-08-20 20:11:22,169] Trial 124 finished with value: 0.24489795918367346 and parameters: {'learning_rate': 0.0771303010859452, 'max_depth': 5, 'max_iter': 461, 'min_samples_leaf': 10, 'l2_regularization': 1.4036949947696207, 'max_bins': 178}. Best is trial 25 with value: 0.3404255319148936.\n",
      "[I 2025-08-20 20:11:23,481] Trial 125 finished with value: 0.2978723404255319 and parameters: {'learning_rate': 0.051225582463335625, 'max_depth': 4, 'max_iter': 450, 'min_samples_leaf': 11, 'l2_regularization': 1.5177630996334126, 'max_bins': 186}. Best is trial 25 with value: 0.3404255319148936.\n",
      "[I 2025-08-20 20:11:25,072] Trial 126 finished with value: 0.32653061224489793 and parameters: {'learning_rate': 0.09328266830354133, 'max_depth': 5, 'max_iter': 478, 'min_samples_leaf': 10, 'l2_regularization': 1.4229583165004318, 'max_bins': 171}. Best is trial 25 with value: 0.3404255319148936.\n",
      "[I 2025-08-20 20:11:27,184] Trial 127 finished with value: 0.25 and parameters: {'learning_rate': 0.09262520169547618, 'max_depth': 6, 'max_iter': 478, 'min_samples_leaf': 10, 'l2_regularization': 1.4591848216899392, 'max_bins': 171}. Best is trial 25 with value: 0.3404255319148936.\n",
      "[I 2025-08-20 20:11:29,031] Trial 128 finished with value: 0.2978723404255319 and parameters: {'learning_rate': 0.08332100853077434, 'max_depth': 5, 'max_iter': 487, 'min_samples_leaf': 9, 'l2_regularization': 1.4233206693602396, 'max_bins': 175}. Best is trial 25 with value: 0.3404255319148936.\n",
      "[I 2025-08-20 20:11:30,811] Trial 129 finished with value: 0.2553191489361702 and parameters: {'learning_rate': 0.07007671185900101, 'max_depth': 5, 'max_iter': 428, 'min_samples_leaf': 10, 'l2_regularization': 1.3558108609531654, 'max_bins': 167}. Best is trial 25 with value: 0.3404255319148936.\n",
      "[I 2025-08-20 20:11:31,951] Trial 130 finished with value: 0.17391304347826086 and parameters: {'learning_rate': 0.08756988576406986, 'max_depth': 3, 'max_iter': 462, 'min_samples_leaf': 10, 'l2_regularization': 0.24432239026742852, 'max_bins': 180}. Best is trial 25 with value: 0.3404255319148936.\n",
      "[I 2025-08-20 20:11:33,343] Trial 131 finished with value: 0.26666666666666666 and parameters: {'learning_rate': 0.06479778470414096, 'max_depth': 4, 'max_iter': 234, 'min_samples_leaf': 11, 'l2_regularization': 1.2382686577622404, 'max_bins': 172}. Best is trial 25 with value: 0.3404255319148936.\n",
      "[I 2025-08-20 20:11:34,792] Trial 132 finished with value: 0.3137254901960784 and parameters: {'learning_rate': 0.05627310451047138, 'max_depth': 4, 'max_iter': 467, 'min_samples_leaf': 11, 'l2_regularization': 1.55107556293616, 'max_bins': 164}. Best is trial 25 with value: 0.3404255319148936.\n",
      "[I 2025-08-20 20:11:36,110] Trial 133 finished with value: 0.3137254901960784 and parameters: {'learning_rate': 0.09883214371559343, 'max_depth': 4, 'max_iter': 476, 'min_samples_leaf': 13, 'l2_regularization': 1.3204204982636303, 'max_bins': 170}. Best is trial 25 with value: 0.3404255319148936.\n",
      "[I 2025-08-20 20:11:37,744] Trial 134 finished with value: 0.2916666666666667 and parameters: {'learning_rate': 0.0786838022867715, 'max_depth': 5, 'max_iter': 446, 'min_samples_leaf': 12, 'l2_regularization': 1.3774420384764179, 'max_bins': 176}. Best is trial 25 with value: 0.3404255319148936.\n",
      "[I 2025-08-20 20:11:39,399] Trial 135 finished with value: 0.3111111111111111 and parameters: {'learning_rate': 0.06126399400637215, 'max_depth': 5, 'max_iter': 457, 'min_samples_leaf': 11, 'l2_regularization': 1.4908279723713513, 'max_bins': 183}. Best is trial 25 with value: 0.3404255319148936.\n",
      "[I 2025-08-20 20:11:39,985] Trial 136 finished with value: 0.2553191489361702 and parameters: {'learning_rate': 0.06870051167943791, 'max_depth': 4, 'max_iter': 181, 'min_samples_leaf': 9, 'l2_regularization': 0.9815447739558173, 'max_bins': 173}. Best is trial 25 with value: 0.3404255319148936.\n",
      "[I 2025-08-20 20:11:41,004] Trial 137 finished with value: 0.22727272727272727 and parameters: {'learning_rate': 0.048342492920082664, 'max_depth': 3, 'max_iter': 500, 'min_samples_leaf': 10, 'l2_regularization': 1.4249905409297148, 'max_bins': 165}. Best is trial 25 with value: 0.3404255319148936.\n",
      "[I 2025-08-20 20:11:43,396] Trial 138 finished with value: 0.20833333333333334 and parameters: {'learning_rate': 0.044240021311223086, 'max_depth': 6, 'max_iter': 483, 'min_samples_leaf': 8, 'l2_regularization': 1.4811804014940047, 'max_bins': 170}. Best is trial 25 with value: 0.3404255319148936.\n",
      "[I 2025-08-20 20:11:45,456] Trial 139 finished with value: 0.2857142857142857 and parameters: {'learning_rate': 0.05922197631343782, 'max_depth': 4, 'max_iter': 436, 'min_samples_leaf': 10, 'l2_regularization': 1.566706745301955, 'max_bins': 178}. Best is trial 25 with value: 0.3404255319148936.\n",
      "[I 2025-08-20 20:11:47,384] Trial 140 finished with value: 0.2608695652173913 and parameters: {'learning_rate': 0.04173958682792352, 'max_depth': 5, 'max_iter': 471, 'min_samples_leaf': 12, 'l2_regularization': 0.9191218253140554, 'max_bins': 162}. Best is trial 25 with value: 0.3404255319148936.\n",
      "[I 2025-08-20 20:11:49,095] Trial 141 finished with value: 0.27450980392156865 and parameters: {'learning_rate': 0.053156867507233696, 'max_depth': 4, 'max_iter': 489, 'min_samples_leaf': 10, 'l2_regularization': 1.3843162680148364, 'max_bins': 168}. Best is trial 25 with value: 0.3404255319148936.\n",
      "[I 2025-08-20 20:11:50,881] Trial 142 finished with value: 0.2 and parameters: {'learning_rate': 0.06259570441374786, 'max_depth': 3, 'max_iter': 494, 'min_samples_leaf': 9, 'l2_regularization': 1.4443255945403455, 'max_bins': 166}. Best is trial 25 with value: 0.3404255319148936.\n",
      "[I 2025-08-20 20:11:52,494] Trial 143 finished with value: 0.32653061224489793 and parameters: {'learning_rate': 0.07415809297339332, 'max_depth': 4, 'max_iter': 454, 'min_samples_leaf': 11, 'l2_regularization': 0.7495144138837473, 'max_bins': 173}. Best is trial 25 with value: 0.3404255319148936.\n",
      "[I 2025-08-20 20:11:53,977] Trial 144 finished with value: 0.2857142857142857 and parameters: {'learning_rate': 0.07529378335635087, 'max_depth': 4, 'max_iter': 452, 'min_samples_leaf': 11, 'l2_regularization': 0.7345276914099248, 'max_bins': 174}. Best is trial 25 with value: 0.3404255319148936.\n",
      "[I 2025-08-20 20:11:55,904] Trial 145 finished with value: 0.2553191489361702 and parameters: {'learning_rate': 0.07047005348145312, 'max_depth': 5, 'max_iter': 442, 'min_samples_leaf': 11, 'l2_regularization': 0.6399448956094016, 'max_bins': 181}. Best is trial 25 with value: 0.3404255319148936.\n",
      "[I 2025-08-20 20:11:57,187] Trial 146 finished with value: 0.3404255319148936 and parameters: {'learning_rate': 0.08287483055627157, 'max_depth': 4, 'max_iter': 429, 'min_samples_leaf': 10, 'l2_regularization': 0.7690122648031907, 'max_bins': 176}. Best is trial 25 with value: 0.3404255319148936.\n",
      "[I 2025-08-20 20:11:58,558] Trial 147 finished with value: 0.28 and parameters: {'learning_rate': 0.079770612907123, 'max_depth': 4, 'max_iter': 467, 'min_samples_leaf': 10, 'l2_regularization': 0.6788198670034844, 'max_bins': 177}. Best is trial 25 with value: 0.3404255319148936.\n",
      "[I 2025-08-20 20:11:59,777] Trial 148 finished with value: 0.3137254901960784 and parameters: {'learning_rate': 0.0908864658988963, 'max_depth': 4, 'max_iter': 431, 'min_samples_leaf': 9, 'l2_regularization': 0.8158758022061842, 'max_bins': 173}. Best is trial 25 with value: 0.3404255319148936.\n",
      "[I 2025-08-20 20:12:00,829] Trial 149 finished with value: 0.2727272727272727 and parameters: {'learning_rate': 0.10290212896854332, 'max_depth': 5, 'max_iter': 285, 'min_samples_leaf': 10, 'l2_regularization': 0.5574779525354441, 'max_bins': 168}. Best is trial 25 with value: 0.3404255319148936.\n",
      "[I 2025-08-20 20:12:01,653] Trial 150 finished with value: 0.16666666666666666 and parameters: {'learning_rate': 0.08132486838523324, 'max_depth': 3, 'max_iter': 424, 'min_samples_leaf': 11, 'l2_regularization': 0.8028194979782909, 'max_bins': 230}. Best is trial 25 with value: 0.3404255319148936.\n",
      "[I 2025-08-20 20:12:02,953] Trial 151 finished with value: 0.32653061224489793 and parameters: {'learning_rate': 0.06622676959832278, 'max_depth': 4, 'max_iter': 455, 'min_samples_leaf': 9, 'l2_regularization': 1.527985589383413, 'max_bins': 171}. Best is trial 25 with value: 0.3404255319148936.\n",
      "[I 2025-08-20 20:12:04,336] Trial 152 finished with value: 0.2916666666666667 and parameters: {'learning_rate': 0.06567607551308013, 'max_depth': 4, 'max_iter': 455, 'min_samples_leaf': 8, 'l2_regularization': 1.5278915053981825, 'max_bins': 170}. Best is trial 25 with value: 0.3404255319148936.\n",
      "[I 2025-08-20 20:12:05,657] Trial 153 finished with value: 0.32653061224489793 and parameters: {'learning_rate': 0.07293082995295459, 'max_depth': 4, 'max_iter': 445, 'min_samples_leaf': 9, 'l2_regularization': 0.7511007508322229, 'max_bins': 175}. Best is trial 25 with value: 0.3404255319148936.\n",
      "[I 2025-08-20 20:12:07,469] Trial 154 finished with value: 0.3111111111111111 and parameters: {'learning_rate': 0.08439900566322837, 'max_depth': 5, 'max_iter': 462, 'min_samples_leaf': 10, 'l2_regularization': 0.8587150584313654, 'max_bins': 179}. Best is trial 25 with value: 0.3404255319148936.\n",
      "[I 2025-08-20 20:12:08,321] Trial 155 finished with value: 0.2 and parameters: {'learning_rate': 0.06766409345485154, 'max_depth': 3, 'max_iter': 477, 'min_samples_leaf': 10, 'l2_regularization': 0.8791653387722607, 'max_bins': 172}. Best is trial 25 with value: 0.3404255319148936.\n",
      "[I 2025-08-20 20:12:09,600] Trial 156 finished with value: 0.2857142857142857 and parameters: {'learning_rate': 0.05791272861082282, 'max_depth': 4, 'max_iter': 439, 'min_samples_leaf': 9, 'l2_regularization': 1.5008698936215934, 'max_bins': 165}. Best is trial 25 with value: 0.3404255319148936.\n",
      "[I 2025-08-20 20:12:11,289] Trial 157 finished with value: 0.2608695652173913 and parameters: {'learning_rate': 0.037161538206540966, 'max_depth': 5, 'max_iter': 450, 'min_samples_leaf': 11, 'l2_regularization': 0.4432671891294073, 'max_bins': 169}. Best is trial 25 with value: 0.3404255319148936.\n",
      "[I 2025-08-20 20:12:12,634] Trial 158 finished with value: 0.32653061224489793 and parameters: {'learning_rate': 0.046942736616796356, 'max_depth': 4, 'max_iter': 467, 'min_samples_leaf': 10, 'l2_regularization': 1.6557844291336306, 'max_bins': 176}. Best is trial 25 with value: 0.3404255319148936.\n",
      "[I 2025-08-20 20:12:13,783] Trial 159 finished with value: 0.2 and parameters: {'learning_rate': 0.07560757045906481, 'max_depth': 6, 'max_iter': 257, 'min_samples_leaf': 9, 'l2_regularization': 1.5816635072906131, 'max_bins': 185}. Best is trial 25 with value: 0.3404255319148936.\n",
      "[I 2025-08-20 20:12:14,108] Trial 160 finished with value: 0.19047619047619047 and parameters: {'learning_rate': 0.05189380368223762, 'max_depth': 4, 'max_iter': 105, 'min_samples_leaf': 8, 'l2_regularization': 0.7908507694820913, 'max_bins': 173}. Best is trial 25 with value: 0.3404255319148936.\n",
      "[I 2025-08-20 20:12:15,432] Trial 161 finished with value: 0.3404255319148936 and parameters: {'learning_rate': 0.07271735791785129, 'max_depth': 4, 'max_iter': 447, 'min_samples_leaf': 9, 'l2_regularization': 0.6842807129864505, 'max_bins': 175}. Best is trial 25 with value: 0.3404255319148936.\n",
      "[I 2025-08-20 20:12:16,734] Trial 162 finished with value: 0.22727272727272727 and parameters: {'learning_rate': 0.06312185590118481, 'max_depth': 4, 'max_iter': 456, 'min_samples_leaf': 9, 'l2_regularization': 0.6943856174309104, 'max_bins': 180}. Best is trial 25 with value: 0.3404255319148936.\n",
      "[I 2025-08-20 20:12:18,351] Trial 163 finished with value: 0.2727272727272727 and parameters: {'learning_rate': 0.11103626715574917, 'max_depth': 5, 'max_iter': 431, 'min_samples_leaf': 10, 'l2_regularization': 0.6469564568778423, 'max_bins': 163}. Best is trial 25 with value: 0.3404255319148936.\n",
      "[I 2025-08-20 20:12:19,266] Trial 164 finished with value: 0.24 and parameters: {'learning_rate': 0.07083673085528656, 'max_depth': 3, 'max_iter': 475, 'min_samples_leaf': 9, 'l2_regularization': 1.4581924022153183, 'max_bins': 171}. Best is trial 25 with value: 0.3404255319148936.\n",
      "[I 2025-08-20 20:12:20,729] Trial 165 finished with value: 0.2608695652173913 and parameters: {'learning_rate': 0.08616773647939849, 'max_depth': 4, 'max_iter': 444, 'min_samples_leaf': 11, 'l2_regularization': 0.5571691806177509, 'max_bins': 175}. Best is trial 25 with value: 0.3404255319148936.\n",
      "[I 2025-08-20 20:12:22,118] Trial 166 finished with value: 0.2857142857142857 and parameters: {'learning_rate': 0.09354645973547183, 'max_depth': 4, 'max_iter': 483, 'min_samples_leaf': 10, 'l2_regularization': 0.7781102185777489, 'max_bins': 167}. Best is trial 25 with value: 0.3404255319148936.\n",
      "[I 2025-08-20 20:12:23,915] Trial 167 finished with value: 0.3111111111111111 and parameters: {'learning_rate': 0.06600992595897774, 'max_depth': 5, 'max_iter': 461, 'min_samples_leaf': 12, 'l2_regularization': 0.5029209124675181, 'max_bins': 178}. Best is trial 25 with value: 0.3404255319148936.\n",
      "[I 2025-08-20 20:12:24,867] Trial 168 finished with value: 0.2 and parameters: {'learning_rate': 0.07744444499961013, 'max_depth': 3, 'max_iter': 471, 'min_samples_leaf': 11, 'l2_regularization': 0.599751448623242, 'max_bins': 182}. Best is trial 25 with value: 0.3404255319148936.\n",
      "[I 2025-08-20 20:12:26,077] Trial 169 finished with value: 0.17391304347826086 and parameters: {'learning_rate': 0.01035403683348546, 'max_depth': 4, 'max_iter': 416, 'min_samples_leaf': 9, 'l2_regularization': 1.418697278632701, 'max_bins': 170}. Best is trial 25 with value: 0.3404255319148936.\n",
      "[I 2025-08-20 20:12:27,856] Trial 170 finished with value: 0.32653061224489793 and parameters: {'learning_rate': 0.05699113673196118, 'max_depth': 5, 'max_iter': 449, 'min_samples_leaf': 10, 'l2_regularization': 1.3380581065242592, 'max_bins': 173}. Best is trial 25 with value: 0.3404255319148936.\n",
      "[I 2025-08-20 20:12:29,057] Trial 171 finished with value: 0.32653061224489793 and parameters: {'learning_rate': 0.07520500160076679, 'max_depth': 4, 'max_iter': 449, 'min_samples_leaf': 9, 'l2_regularization': 0.7439971045656808, 'max_bins': 175}. Best is trial 25 with value: 0.3404255319148936.\n",
      "[I 2025-08-20 20:12:30,379] Trial 172 finished with value: 0.18181818181818182 and parameters: {'learning_rate': 0.06930174316707935, 'max_depth': 4, 'max_iter': 441, 'min_samples_leaf': 8, 'l2_regularization': 0.7300629261507515, 'max_bins': 176}. Best is trial 25 with value: 0.3404255319148936.\n",
      "[I 2025-08-20 20:12:31,643] Trial 173 finished with value: 0.2857142857142857 and parameters: {'learning_rate': 0.08174512322743284, 'max_depth': 4, 'max_iter': 435, 'min_samples_leaf': 9, 'l2_regularization': 0.6706114873084823, 'max_bins': 167}. Best is trial 25 with value: 0.3404255319148936.\n",
      "[I 2025-08-20 20:12:32,936] Trial 174 finished with value: 0.3404255319148936 and parameters: {'learning_rate': 0.07286833433711228, 'max_depth': 4, 'max_iter': 423, 'min_samples_leaf': 10, 'l2_regularization': 1.5424363434738375, 'max_bins': 171}. Best is trial 25 with value: 0.3404255319148936.\n",
      "[I 2025-08-20 20:12:35,106] Trial 175 finished with value: 0.24 and parameters: {'learning_rate': 0.062261041063169306, 'max_depth': 10, 'max_iter': 423, 'min_samples_leaf': 10, 'l2_regularization': 1.5365127970571857, 'max_bins': 171}. Best is trial 25 with value: 0.3404255319148936.\n",
      "[I 2025-08-20 20:12:36,729] Trial 176 finished with value: 0.2553191489361702 and parameters: {'learning_rate': 0.049159688672280495, 'max_depth': 5, 'max_iter': 459, 'min_samples_leaf': 10, 'l2_regularization': 1.6223291197853258, 'max_bins': 161}. Best is trial 25 with value: 0.3404255319148936.\n",
      "[I 2025-08-20 20:12:37,520] Trial 177 finished with value: 0.17391304347826086 and parameters: {'learning_rate': 0.04013928546538632, 'max_depth': 3, 'max_iter': 428, 'min_samples_leaf': 11, 'l2_regularization': 1.4966256305491998, 'max_bins': 165}. Best is trial 25 with value: 0.3404255319148936.\n",
      "[I 2025-08-20 20:12:38,914] Trial 178 finished with value: 0.32653061224489793 and parameters: {'learning_rate': 0.07252283592932451, 'max_depth': 4, 'max_iter': 483, 'min_samples_leaf': 10, 'l2_regularization': 1.4518216305982437, 'max_bins': 169}. Best is trial 25 with value: 0.3404255319148936.\n",
      "[I 2025-08-20 20:12:40,572] Trial 179 finished with value: 0.2553191489361702 and parameters: {'learning_rate': 0.05459611674192306, 'max_depth': 5, 'max_iter': 467, 'min_samples_leaf': 11, 'l2_regularization': 1.3901212847123512, 'max_bins': 172}. Best is trial 25 with value: 0.3404255319148936.\n",
      "[I 2025-08-20 20:12:41,939] Trial 180 finished with value: 0.2857142857142857 and parameters: {'learning_rate': 0.06076043199523096, 'max_depth': 4, 'max_iter': 493, 'min_samples_leaf': 10, 'l2_regularization': 1.573230691113049, 'max_bins': 178}. Best is trial 25 with value: 0.3404255319148936.\n",
      "[I 2025-08-20 20:12:43,229] Trial 181 finished with value: 0.3111111111111111 and parameters: {'learning_rate': 0.0739005245513683, 'max_depth': 4, 'max_iter': 446, 'min_samples_leaf': 9, 'l2_regularization': 0.7588246459616534, 'max_bins': 175}. Best is trial 25 with value: 0.3404255319148936.\n",
      "[I 2025-08-20 20:12:44,517] Trial 182 finished with value: 0.22727272727272727 and parameters: {'learning_rate': 0.067715126624238, 'max_depth': 4, 'max_iter': 437, 'min_samples_leaf': 9, 'l2_regularization': 0.6136567514050523, 'max_bins': 173}. Best is trial 25 with value: 0.3404255319148936.\n",
      "[I 2025-08-20 20:12:45,363] Trial 183 finished with value: 0.21739130434782608 and parameters: {'learning_rate': 0.07764185641160119, 'max_depth': 3, 'max_iter': 455, 'min_samples_leaf': 8, 'l2_regularization': 1.517181177341278, 'max_bins': 180}. Best is trial 25 with value: 0.3404255319148936.\n",
      "[I 2025-08-20 20:12:46,701] Trial 184 finished with value: 0.2857142857142857 and parameters: {'learning_rate': 0.06593768479052896, 'max_depth': 4, 'max_iter': 475, 'min_samples_leaf': 10, 'l2_regularization': 1.6913813472481336, 'max_bins': 169}. Best is trial 25 with value: 0.3404255319148936.\n",
      "[I 2025-08-20 20:12:48,329] Trial 185 finished with value: 0.2857142857142857 and parameters: {'learning_rate': 0.07166294775641753, 'max_depth': 5, 'max_iter': 444, 'min_samples_leaf': 11, 'l2_regularization': 1.4200574755327733, 'max_bins': 177}. Best is trial 25 with value: 0.3404255319148936.\n",
      "[I 2025-08-20 20:12:49,551] Trial 186 finished with value: 0.2608695652173913 and parameters: {'learning_rate': 0.08981805087840339, 'max_depth': 4, 'max_iter': 413, 'min_samples_leaf': 9, 'l2_regularization': 0.7137782388242819, 'max_bins': 164}. Best is trial 25 with value: 0.3404255319148936.\n",
      "[I 2025-08-20 20:12:51,363] Trial 187 finished with value: 0.2857142857142857 and parameters: {'learning_rate': 0.0814679340650777, 'max_depth': 5, 'max_iter': 466, 'min_samples_leaf': 10, 'l2_regularization': 1.469302374951223, 'max_bins': 175}. Best is trial 25 with value: 0.3404255319148936.\n",
      "[I 2025-08-20 20:12:52,212] Trial 188 finished with value: 0.17391304347826086 and parameters: {'learning_rate': 0.04350592723619095, 'max_depth': 3, 'max_iter': 456, 'min_samples_leaf': 11, 'l2_regularization': 1.0306384653791887, 'max_bins': 171}. Best is trial 25 with value: 0.3404255319148936.\n",
      "[I 2025-08-20 20:12:53,398] Trial 189 finished with value: 0.2727272727272727 and parameters: {'learning_rate': 0.05939031856525539, 'max_depth': 4, 'max_iter': 425, 'min_samples_leaf': 12, 'l2_regularization': 0.8403654472284184, 'max_bins': 167}. Best is trial 25 with value: 0.3404255319148936.\n",
      "[I 2025-08-20 20:12:54,670] Trial 190 finished with value: 0.2222222222222222 and parameters: {'learning_rate': 0.07241168961741298, 'max_depth': 4, 'max_iter': 434, 'min_samples_leaf': 9, 'l2_regularization': 0.4036152609900904, 'max_bins': 183}. Best is trial 25 with value: 0.3404255319148936.\n",
      "[I 2025-08-20 20:12:56,022] Trial 191 finished with value: 0.32653061224489793 and parameters: {'learning_rate': 0.047135718050925556, 'max_depth': 4, 'max_iter': 467, 'min_samples_leaf': 10, 'l2_regularization': 1.6399870939820291, 'max_bins': 176}. Best is trial 25 with value: 0.3404255319148936.\n",
      "[I 2025-08-20 20:12:57,393] Trial 192 finished with value: 0.3404255319148936 and parameters: {'learning_rate': 0.04655729269404502, 'max_depth': 4, 'max_iter': 462, 'min_samples_leaf': 10, 'l2_regularization': 1.6553894238934759, 'max_bins': 174}. Best is trial 25 with value: 0.3404255319148936.\n",
      "[I 2025-08-20 20:12:58,755] Trial 193 finished with value: 0.3111111111111111 and parameters: {'learning_rate': 0.04429735858800927, 'max_depth': 4, 'max_iter': 449, 'min_samples_leaf': 10, 'l2_regularization': 1.5504806855571345, 'max_bins': 173}. Best is trial 25 with value: 0.3404255319148936.\n",
      "[I 2025-08-20 20:13:01,310] Trial 194 finished with value: 0.24489795918367346 and parameters: {'learning_rate': 0.049831842199418414, 'max_depth': 14, 'max_iter': 478, 'min_samples_leaf': 11, 'l2_regularization': 1.6081873541803207, 'max_bins': 169}. Best is trial 25 with value: 0.3404255319148936.\n",
      "[I 2025-08-20 20:13:02,922] Trial 195 finished with value: 0.2857142857142857 and parameters: {'learning_rate': 0.05484511347805506, 'max_depth': 4, 'max_iter': 461, 'min_samples_leaf': 9, 'l2_regularization': 1.3689796766627036, 'max_bins': 179}. Best is trial 25 with value: 0.3404255319148936.\n",
      "[I 2025-08-20 20:13:04,847] Trial 196 finished with value: 0.27450980392156865 and parameters: {'learning_rate': 0.06296889842702401, 'max_depth': 5, 'max_iter': 440, 'min_samples_leaf': 10, 'l2_regularization': 1.489870419175375, 'max_bins': 174}. Best is trial 25 with value: 0.3404255319148936.\n",
      "[I 2025-08-20 20:13:06,317] Trial 197 finished with value: 0.3404255319148936 and parameters: {'learning_rate': 0.06872702072878312, 'max_depth': 4, 'max_iter': 486, 'min_samples_leaf': 10, 'l2_regularization': 1.4261280068818802, 'max_bins': 171}. Best is trial 25 with value: 0.3404255319148936.\n",
      "[I 2025-08-20 20:13:07,278] Trial 198 finished with value: 0.16666666666666666 and parameters: {'learning_rate': 0.06710885700217274, 'max_depth': 3, 'max_iter': 483, 'min_samples_leaf': 10, 'l2_regularization': 1.4456618644076726, 'max_bins': 166}. Best is trial 25 with value: 0.3404255319148936.\n",
      "[I 2025-08-20 20:13:09,841] Trial 199 finished with value: 0.25 and parameters: {'learning_rate': 0.05152535184526374, 'max_depth': 5, 'max_iter': 491, 'min_samples_leaf': 1, 'l2_regularization': 1.546221150692566, 'max_bins': 171}. Best is trial 25 with value: 0.3404255319148936.\n"
     ]
    }
   ],
   "source": [
    "study = optuna.create_study(\n",
    "    direction=\"maximize\",\n",
    "    sampler=optuna.samplers.TPESampler(seed=SEED)\n",
    ")\n",
    "study.optimize(objective, n_trials=100)"
   ]
  },
  {
   "cell_type": "code",
   "execution_count": 8,
   "id": "57507a62",
   "metadata": {},
   "outputs": [
    {
     "data": {
      "application/vnd.plotly.v1+json": {
       "config": {
        "plotlyServerURL": "https://plot.ly"
       },
       "data": [
        {
         "mode": "markers",
         "name": "Objective Value",
         "type": "scatter",
         "x": [
          0,
          1,
          2,
          3,
          4,
          5,
          6,
          7,
          8,
          9,
          10,
          11,
          12,
          13,
          14,
          15,
          16,
          17,
          18,
          19,
          20,
          21,
          22,
          23,
          24,
          25,
          26,
          27,
          28,
          29,
          30,
          31,
          32,
          33,
          34,
          35,
          36,
          37,
          38,
          39,
          40,
          41,
          42,
          43,
          44,
          45,
          46,
          47,
          48,
          49,
          50,
          51,
          52,
          53,
          54,
          55,
          56,
          57,
          58,
          59,
          60,
          61,
          62,
          63,
          64,
          65,
          66,
          67,
          68,
          69,
          70,
          71,
          72,
          73,
          74,
          75,
          76,
          77,
          78,
          79,
          80,
          81,
          82,
          83,
          84,
          85,
          86,
          87,
          88,
          89,
          90,
          91,
          92,
          93,
          94,
          95,
          96,
          97,
          98,
          99,
          100,
          101,
          102,
          103,
          104,
          105,
          106,
          107,
          108,
          109,
          110,
          111,
          112,
          113,
          114,
          115,
          116,
          117,
          118,
          119,
          120,
          121,
          122,
          123,
          124,
          125,
          126,
          127,
          128,
          129,
          130,
          131,
          132,
          133,
          134,
          135,
          136,
          137,
          138,
          139,
          140,
          141,
          142,
          143,
          144,
          145,
          146,
          147,
          148,
          149,
          150,
          151,
          152,
          153,
          154,
          155,
          156,
          157,
          158,
          159,
          160,
          161,
          162,
          163,
          164,
          165,
          166,
          167,
          168,
          169,
          170,
          171,
          172,
          173,
          174,
          175,
          176,
          177,
          178,
          179,
          180,
          181,
          182,
          183,
          184,
          185,
          186,
          187,
          188,
          189,
          190,
          191,
          192,
          193,
          194,
          195,
          196,
          197,
          198,
          199
         ],
         "y": [
          0.13636363636363635,
          0.13636363636363635,
          0.2916666666666667,
          0.26666666666666666,
          0.20833333333333334,
          0.11538461538461539,
          0.14285714285714285,
          0.14285714285714285,
          0.18181818181818182,
          0.2,
          0.17391304347826086,
          0.16666666666666666,
          0.22727272727272727,
          0.23809523809523808,
          0.2553191489361702,
          0.3111111111111111,
          0.2727272727272727,
          0.08,
          0.14285714285714285,
          0.2857142857142857,
          0.2222222222222222,
          0.2978723404255319,
          0.3137254901960784,
          0.22727272727272727,
          0.17391304347826086,
          0.3404255319148936,
          0.2857142857142857,
          0.24,
          0.19047619047619047,
          0.2857142857142857,
          0.17391304347826086,
          0.3137254901960784,
          0.2857142857142857,
          0.2553191489361702,
          0.25,
          0.26666666666666666,
          0.2978723404255319,
          0.26666666666666666,
          0.2222222222222222,
          0.18181818181818182,
          0.21739130434782608,
          0.2222222222222222,
          0.20833333333333334,
          0.18181818181818182,
          0.32653061224489793,
          0.15384615384615385,
          0.3404255319148936,
          0.24489795918367346,
          0.23809523809523808,
          0.2553191489361702,
          0.2727272727272727,
          0.2,
          0.24390243902439024,
          0.22727272727272727,
          0.2978723404255319,
          0.22727272727272727,
          0.18181818181818182,
          0.2978723404255319,
          0.27906976744186046,
          0.19047619047619047,
          0.18181818181818182,
          0.2553191489361702,
          0.18181818181818182,
          0.2857142857142857,
          0.2857142857142857,
          0.17391304347826086,
          0.19047619047619047,
          0.24390243902439024,
          0.20833333333333334,
          0.24489795918367346,
          0.3404255319148936,
          0.2978723404255319,
          0.2978723404255319,
          0.22727272727272727,
          0.21739130434782608,
          0.2978723404255319,
          0.2857142857142857,
          0.13333333333333333,
          0.2857142857142857,
          0.26666666666666666,
          0.22727272727272727,
          0.3137254901960784,
          0.3137254901960784,
          0.25925925925925924,
          0.2978723404255319,
          0.2608695652173913,
          0.24489795918367346,
          0.20408163265306123,
          0.27450980392156865,
          0.2857142857142857,
          0.23076923076923078,
          0.2857142857142857,
          0.26666666666666666,
          0.3137254901960784,
          0.24489795918367346,
          0.20833333333333334,
          0.20408163265306123,
          0.17391304347826086,
          0.23255813953488372,
          0.2564102564102564,
          0.22727272727272727,
          0.2857142857142857,
          0.32653061224489793,
          0.30434782608695654,
          0.3404255319148936,
          0.2978723404255319,
          0.32653061224489793,
          0.2127659574468085,
          0.1702127659574468,
          0.3111111111111111,
          0.2553191489361702,
          0.2553191489361702,
          0.32653061224489793,
          0.17391304347826086,
          0.27906976744186046,
          0.32653061224489793,
          0.25,
          0.18181818181818182,
          0.3404255319148936,
          0.32653061224489793,
          0.21739130434782608,
          0.3137254901960784,
          0.3404255319148936,
          0.22727272727272727,
          0.24489795918367346,
          0.2978723404255319,
          0.32653061224489793,
          0.25,
          0.2978723404255319,
          0.2553191489361702,
          0.17391304347826086,
          0.26666666666666666,
          0.3137254901960784,
          0.3137254901960784,
          0.2916666666666667,
          0.3111111111111111,
          0.2553191489361702,
          0.22727272727272727,
          0.20833333333333334,
          0.2857142857142857,
          0.2608695652173913,
          0.27450980392156865,
          0.2,
          0.32653061224489793,
          0.2857142857142857,
          0.2553191489361702,
          0.3404255319148936,
          0.28,
          0.3137254901960784,
          0.2727272727272727,
          0.16666666666666666,
          0.32653061224489793,
          0.2916666666666667,
          0.32653061224489793,
          0.3111111111111111,
          0.2,
          0.2857142857142857,
          0.2608695652173913,
          0.32653061224489793,
          0.2,
          0.19047619047619047,
          0.3404255319148936,
          0.22727272727272727,
          0.2727272727272727,
          0.24,
          0.2608695652173913,
          0.2857142857142857,
          0.3111111111111111,
          0.2,
          0.17391304347826086,
          0.32653061224489793,
          0.32653061224489793,
          0.18181818181818182,
          0.2857142857142857,
          0.3404255319148936,
          0.24,
          0.2553191489361702,
          0.17391304347826086,
          0.32653061224489793,
          0.2553191489361702,
          0.2857142857142857,
          0.3111111111111111,
          0.22727272727272727,
          0.21739130434782608,
          0.2857142857142857,
          0.2857142857142857,
          0.2608695652173913,
          0.2857142857142857,
          0.17391304347826086,
          0.2727272727272727,
          0.2222222222222222,
          0.32653061224489793,
          0.3404255319148936,
          0.3111111111111111,
          0.24489795918367346,
          0.2857142857142857,
          0.27450980392156865,
          0.3404255319148936,
          0.16666666666666666,
          0.25
         ]
        },
        {
         "mode": "lines",
         "name": "Best Value",
         "type": "scatter",
         "x": [
          0,
          1,
          2,
          3,
          4,
          5,
          6,
          7,
          8,
          9,
          10,
          11,
          12,
          13,
          14,
          15,
          16,
          17,
          18,
          19,
          20,
          21,
          22,
          23,
          24,
          25,
          26,
          27,
          28,
          29,
          30,
          31,
          32,
          33,
          34,
          35,
          36,
          37,
          38,
          39,
          40,
          41,
          42,
          43,
          44,
          45,
          46,
          47,
          48,
          49,
          50,
          51,
          52,
          53,
          54,
          55,
          56,
          57,
          58,
          59,
          60,
          61,
          62,
          63,
          64,
          65,
          66,
          67,
          68,
          69,
          70,
          71,
          72,
          73,
          74,
          75,
          76,
          77,
          78,
          79,
          80,
          81,
          82,
          83,
          84,
          85,
          86,
          87,
          88,
          89,
          90,
          91,
          92,
          93,
          94,
          95,
          96,
          97,
          98,
          99,
          100,
          101,
          102,
          103,
          104,
          105,
          106,
          107,
          108,
          109,
          110,
          111,
          112,
          113,
          114,
          115,
          116,
          117,
          118,
          119,
          120,
          121,
          122,
          123,
          124,
          125,
          126,
          127,
          128,
          129,
          130,
          131,
          132,
          133,
          134,
          135,
          136,
          137,
          138,
          139,
          140,
          141,
          142,
          143,
          144,
          145,
          146,
          147,
          148,
          149,
          150,
          151,
          152,
          153,
          154,
          155,
          156,
          157,
          158,
          159,
          160,
          161,
          162,
          163,
          164,
          165,
          166,
          167,
          168,
          169,
          170,
          171,
          172,
          173,
          174,
          175,
          176,
          177,
          178,
          179,
          180,
          181,
          182,
          183,
          184,
          185,
          186,
          187,
          188,
          189,
          190,
          191,
          192,
          193,
          194,
          195,
          196,
          197,
          198,
          199
         ],
         "y": [
          0.13636363636363635,
          0.13636363636363635,
          0.2916666666666667,
          0.2916666666666667,
          0.2916666666666667,
          0.2916666666666667,
          0.2916666666666667,
          0.2916666666666667,
          0.2916666666666667,
          0.2916666666666667,
          0.2916666666666667,
          0.2916666666666667,
          0.2916666666666667,
          0.2916666666666667,
          0.2916666666666667,
          0.3111111111111111,
          0.3111111111111111,
          0.3111111111111111,
          0.3111111111111111,
          0.3111111111111111,
          0.3111111111111111,
          0.3111111111111111,
          0.3137254901960784,
          0.3137254901960784,
          0.3137254901960784,
          0.3404255319148936,
          0.3404255319148936,
          0.3404255319148936,
          0.3404255319148936,
          0.3404255319148936,
          0.3404255319148936,
          0.3404255319148936,
          0.3404255319148936,
          0.3404255319148936,
          0.3404255319148936,
          0.3404255319148936,
          0.3404255319148936,
          0.3404255319148936,
          0.3404255319148936,
          0.3404255319148936,
          0.3404255319148936,
          0.3404255319148936,
          0.3404255319148936,
          0.3404255319148936,
          0.3404255319148936,
          0.3404255319148936,
          0.3404255319148936,
          0.3404255319148936,
          0.3404255319148936,
          0.3404255319148936,
          0.3404255319148936,
          0.3404255319148936,
          0.3404255319148936,
          0.3404255319148936,
          0.3404255319148936,
          0.3404255319148936,
          0.3404255319148936,
          0.3404255319148936,
          0.3404255319148936,
          0.3404255319148936,
          0.3404255319148936,
          0.3404255319148936,
          0.3404255319148936,
          0.3404255319148936,
          0.3404255319148936,
          0.3404255319148936,
          0.3404255319148936,
          0.3404255319148936,
          0.3404255319148936,
          0.3404255319148936,
          0.3404255319148936,
          0.3404255319148936,
          0.3404255319148936,
          0.3404255319148936,
          0.3404255319148936,
          0.3404255319148936,
          0.3404255319148936,
          0.3404255319148936,
          0.3404255319148936,
          0.3404255319148936,
          0.3404255319148936,
          0.3404255319148936,
          0.3404255319148936,
          0.3404255319148936,
          0.3404255319148936,
          0.3404255319148936,
          0.3404255319148936,
          0.3404255319148936,
          0.3404255319148936,
          0.3404255319148936,
          0.3404255319148936,
          0.3404255319148936,
          0.3404255319148936,
          0.3404255319148936,
          0.3404255319148936,
          0.3404255319148936,
          0.3404255319148936,
          0.3404255319148936,
          0.3404255319148936,
          0.3404255319148936,
          0.3404255319148936,
          0.3404255319148936,
          0.3404255319148936,
          0.3404255319148936,
          0.3404255319148936,
          0.3404255319148936,
          0.3404255319148936,
          0.3404255319148936,
          0.3404255319148936,
          0.3404255319148936,
          0.3404255319148936,
          0.3404255319148936,
          0.3404255319148936,
          0.3404255319148936,
          0.3404255319148936,
          0.3404255319148936,
          0.3404255319148936,
          0.3404255319148936,
          0.3404255319148936,
          0.3404255319148936,
          0.3404255319148936,
          0.3404255319148936,
          0.3404255319148936,
          0.3404255319148936,
          0.3404255319148936,
          0.3404255319148936,
          0.3404255319148936,
          0.3404255319148936,
          0.3404255319148936,
          0.3404255319148936,
          0.3404255319148936,
          0.3404255319148936,
          0.3404255319148936,
          0.3404255319148936,
          0.3404255319148936,
          0.3404255319148936,
          0.3404255319148936,
          0.3404255319148936,
          0.3404255319148936,
          0.3404255319148936,
          0.3404255319148936,
          0.3404255319148936,
          0.3404255319148936,
          0.3404255319148936,
          0.3404255319148936,
          0.3404255319148936,
          0.3404255319148936,
          0.3404255319148936,
          0.3404255319148936,
          0.3404255319148936,
          0.3404255319148936,
          0.3404255319148936,
          0.3404255319148936,
          0.3404255319148936,
          0.3404255319148936,
          0.3404255319148936,
          0.3404255319148936,
          0.3404255319148936,
          0.3404255319148936,
          0.3404255319148936,
          0.3404255319148936,
          0.3404255319148936,
          0.3404255319148936,
          0.3404255319148936,
          0.3404255319148936,
          0.3404255319148936,
          0.3404255319148936,
          0.3404255319148936,
          0.3404255319148936,
          0.3404255319148936,
          0.3404255319148936,
          0.3404255319148936,
          0.3404255319148936,
          0.3404255319148936,
          0.3404255319148936,
          0.3404255319148936,
          0.3404255319148936,
          0.3404255319148936,
          0.3404255319148936,
          0.3404255319148936,
          0.3404255319148936,
          0.3404255319148936,
          0.3404255319148936,
          0.3404255319148936,
          0.3404255319148936,
          0.3404255319148936,
          0.3404255319148936,
          0.3404255319148936,
          0.3404255319148936,
          0.3404255319148936,
          0.3404255319148936,
          0.3404255319148936,
          0.3404255319148936,
          0.3404255319148936,
          0.3404255319148936,
          0.3404255319148936,
          0.3404255319148936,
          0.3404255319148936,
          0.3404255319148936,
          0.3404255319148936
         ]
        },
        {
         "marker": {
          "color": "#cccccc"
         },
         "mode": "markers",
         "name": "Infeasible Trial",
         "showlegend": false,
         "type": "scatter",
         "x": [],
         "y": []
        }
       ],
       "layout": {
        "template": {
         "data": {
          "bar": [
           {
            "error_x": {
             "color": "#2a3f5f"
            },
            "error_y": {
             "color": "#2a3f5f"
            },
            "marker": {
             "line": {
              "color": "#E5ECF6",
              "width": 0.5
             },
             "pattern": {
              "fillmode": "overlay",
              "size": 10,
              "solidity": 0.2
             }
            },
            "type": "bar"
           }
          ],
          "barpolar": [
           {
            "marker": {
             "line": {
              "color": "#E5ECF6",
              "width": 0.5
             },
             "pattern": {
              "fillmode": "overlay",
              "size": 10,
              "solidity": 0.2
             }
            },
            "type": "barpolar"
           }
          ],
          "carpet": [
           {
            "aaxis": {
             "endlinecolor": "#2a3f5f",
             "gridcolor": "white",
             "linecolor": "white",
             "minorgridcolor": "white",
             "startlinecolor": "#2a3f5f"
            },
            "baxis": {
             "endlinecolor": "#2a3f5f",
             "gridcolor": "white",
             "linecolor": "white",
             "minorgridcolor": "white",
             "startlinecolor": "#2a3f5f"
            },
            "type": "carpet"
           }
          ],
          "choropleth": [
           {
            "colorbar": {
             "outlinewidth": 0,
             "ticks": ""
            },
            "type": "choropleth"
           }
          ],
          "contour": [
           {
            "colorbar": {
             "outlinewidth": 0,
             "ticks": ""
            },
            "colorscale": [
             [
              0,
              "#0d0887"
             ],
             [
              0.1111111111111111,
              "#46039f"
             ],
             [
              0.2222222222222222,
              "#7201a8"
             ],
             [
              0.3333333333333333,
              "#9c179e"
             ],
             [
              0.4444444444444444,
              "#bd3786"
             ],
             [
              0.5555555555555556,
              "#d8576b"
             ],
             [
              0.6666666666666666,
              "#ed7953"
             ],
             [
              0.7777777777777778,
              "#fb9f3a"
             ],
             [
              0.8888888888888888,
              "#fdca26"
             ],
             [
              1,
              "#f0f921"
             ]
            ],
            "type": "contour"
           }
          ],
          "contourcarpet": [
           {
            "colorbar": {
             "outlinewidth": 0,
             "ticks": ""
            },
            "type": "contourcarpet"
           }
          ],
          "heatmap": [
           {
            "colorbar": {
             "outlinewidth": 0,
             "ticks": ""
            },
            "colorscale": [
             [
              0,
              "#0d0887"
             ],
             [
              0.1111111111111111,
              "#46039f"
             ],
             [
              0.2222222222222222,
              "#7201a8"
             ],
             [
              0.3333333333333333,
              "#9c179e"
             ],
             [
              0.4444444444444444,
              "#bd3786"
             ],
             [
              0.5555555555555556,
              "#d8576b"
             ],
             [
              0.6666666666666666,
              "#ed7953"
             ],
             [
              0.7777777777777778,
              "#fb9f3a"
             ],
             [
              0.8888888888888888,
              "#fdca26"
             ],
             [
              1,
              "#f0f921"
             ]
            ],
            "type": "heatmap"
           }
          ],
          "histogram": [
           {
            "marker": {
             "pattern": {
              "fillmode": "overlay",
              "size": 10,
              "solidity": 0.2
             }
            },
            "type": "histogram"
           }
          ],
          "histogram2d": [
           {
            "colorbar": {
             "outlinewidth": 0,
             "ticks": ""
            },
            "colorscale": [
             [
              0,
              "#0d0887"
             ],
             [
              0.1111111111111111,
              "#46039f"
             ],
             [
              0.2222222222222222,
              "#7201a8"
             ],
             [
              0.3333333333333333,
              "#9c179e"
             ],
             [
              0.4444444444444444,
              "#bd3786"
             ],
             [
              0.5555555555555556,
              "#d8576b"
             ],
             [
              0.6666666666666666,
              "#ed7953"
             ],
             [
              0.7777777777777778,
              "#fb9f3a"
             ],
             [
              0.8888888888888888,
              "#fdca26"
             ],
             [
              1,
              "#f0f921"
             ]
            ],
            "type": "histogram2d"
           }
          ],
          "histogram2dcontour": [
           {
            "colorbar": {
             "outlinewidth": 0,
             "ticks": ""
            },
            "colorscale": [
             [
              0,
              "#0d0887"
             ],
             [
              0.1111111111111111,
              "#46039f"
             ],
             [
              0.2222222222222222,
              "#7201a8"
             ],
             [
              0.3333333333333333,
              "#9c179e"
             ],
             [
              0.4444444444444444,
              "#bd3786"
             ],
             [
              0.5555555555555556,
              "#d8576b"
             ],
             [
              0.6666666666666666,
              "#ed7953"
             ],
             [
              0.7777777777777778,
              "#fb9f3a"
             ],
             [
              0.8888888888888888,
              "#fdca26"
             ],
             [
              1,
              "#f0f921"
             ]
            ],
            "type": "histogram2dcontour"
           }
          ],
          "mesh3d": [
           {
            "colorbar": {
             "outlinewidth": 0,
             "ticks": ""
            },
            "type": "mesh3d"
           }
          ],
          "parcoords": [
           {
            "line": {
             "colorbar": {
              "outlinewidth": 0,
              "ticks": ""
             }
            },
            "type": "parcoords"
           }
          ],
          "pie": [
           {
            "automargin": true,
            "type": "pie"
           }
          ],
          "scatter": [
           {
            "fillpattern": {
             "fillmode": "overlay",
             "size": 10,
             "solidity": 0.2
            },
            "type": "scatter"
           }
          ],
          "scatter3d": [
           {
            "line": {
             "colorbar": {
              "outlinewidth": 0,
              "ticks": ""
             }
            },
            "marker": {
             "colorbar": {
              "outlinewidth": 0,
              "ticks": ""
             }
            },
            "type": "scatter3d"
           }
          ],
          "scattercarpet": [
           {
            "marker": {
             "colorbar": {
              "outlinewidth": 0,
              "ticks": ""
             }
            },
            "type": "scattercarpet"
           }
          ],
          "scattergeo": [
           {
            "marker": {
             "colorbar": {
              "outlinewidth": 0,
              "ticks": ""
             }
            },
            "type": "scattergeo"
           }
          ],
          "scattergl": [
           {
            "marker": {
             "colorbar": {
              "outlinewidth": 0,
              "ticks": ""
             }
            },
            "type": "scattergl"
           }
          ],
          "scattermap": [
           {
            "marker": {
             "colorbar": {
              "outlinewidth": 0,
              "ticks": ""
             }
            },
            "type": "scattermap"
           }
          ],
          "scattermapbox": [
           {
            "marker": {
             "colorbar": {
              "outlinewidth": 0,
              "ticks": ""
             }
            },
            "type": "scattermapbox"
           }
          ],
          "scatterpolar": [
           {
            "marker": {
             "colorbar": {
              "outlinewidth": 0,
              "ticks": ""
             }
            },
            "type": "scatterpolar"
           }
          ],
          "scatterpolargl": [
           {
            "marker": {
             "colorbar": {
              "outlinewidth": 0,
              "ticks": ""
             }
            },
            "type": "scatterpolargl"
           }
          ],
          "scatterternary": [
           {
            "marker": {
             "colorbar": {
              "outlinewidth": 0,
              "ticks": ""
             }
            },
            "type": "scatterternary"
           }
          ],
          "surface": [
           {
            "colorbar": {
             "outlinewidth": 0,
             "ticks": ""
            },
            "colorscale": [
             [
              0,
              "#0d0887"
             ],
             [
              0.1111111111111111,
              "#46039f"
             ],
             [
              0.2222222222222222,
              "#7201a8"
             ],
             [
              0.3333333333333333,
              "#9c179e"
             ],
             [
              0.4444444444444444,
              "#bd3786"
             ],
             [
              0.5555555555555556,
              "#d8576b"
             ],
             [
              0.6666666666666666,
              "#ed7953"
             ],
             [
              0.7777777777777778,
              "#fb9f3a"
             ],
             [
              0.8888888888888888,
              "#fdca26"
             ],
             [
              1,
              "#f0f921"
             ]
            ],
            "type": "surface"
           }
          ],
          "table": [
           {
            "cells": {
             "fill": {
              "color": "#EBF0F8"
             },
             "line": {
              "color": "white"
             }
            },
            "header": {
             "fill": {
              "color": "#C8D4E3"
             },
             "line": {
              "color": "white"
             }
            },
            "type": "table"
           }
          ]
         },
         "layout": {
          "annotationdefaults": {
           "arrowcolor": "#2a3f5f",
           "arrowhead": 0,
           "arrowwidth": 1
          },
          "autotypenumbers": "strict",
          "coloraxis": {
           "colorbar": {
            "outlinewidth": 0,
            "ticks": ""
           }
          },
          "colorscale": {
           "diverging": [
            [
             0,
             "#8e0152"
            ],
            [
             0.1,
             "#c51b7d"
            ],
            [
             0.2,
             "#de77ae"
            ],
            [
             0.3,
             "#f1b6da"
            ],
            [
             0.4,
             "#fde0ef"
            ],
            [
             0.5,
             "#f7f7f7"
            ],
            [
             0.6,
             "#e6f5d0"
            ],
            [
             0.7,
             "#b8e186"
            ],
            [
             0.8,
             "#7fbc41"
            ],
            [
             0.9,
             "#4d9221"
            ],
            [
             1,
             "#276419"
            ]
           ],
           "sequential": [
            [
             0,
             "#0d0887"
            ],
            [
             0.1111111111111111,
             "#46039f"
            ],
            [
             0.2222222222222222,
             "#7201a8"
            ],
            [
             0.3333333333333333,
             "#9c179e"
            ],
            [
             0.4444444444444444,
             "#bd3786"
            ],
            [
             0.5555555555555556,
             "#d8576b"
            ],
            [
             0.6666666666666666,
             "#ed7953"
            ],
            [
             0.7777777777777778,
             "#fb9f3a"
            ],
            [
             0.8888888888888888,
             "#fdca26"
            ],
            [
             1,
             "#f0f921"
            ]
           ],
           "sequentialminus": [
            [
             0,
             "#0d0887"
            ],
            [
             0.1111111111111111,
             "#46039f"
            ],
            [
             0.2222222222222222,
             "#7201a8"
            ],
            [
             0.3333333333333333,
             "#9c179e"
            ],
            [
             0.4444444444444444,
             "#bd3786"
            ],
            [
             0.5555555555555556,
             "#d8576b"
            ],
            [
             0.6666666666666666,
             "#ed7953"
            ],
            [
             0.7777777777777778,
             "#fb9f3a"
            ],
            [
             0.8888888888888888,
             "#fdca26"
            ],
            [
             1,
             "#f0f921"
            ]
           ]
          },
          "colorway": [
           "#636efa",
           "#EF553B",
           "#00cc96",
           "#ab63fa",
           "#FFA15A",
           "#19d3f3",
           "#FF6692",
           "#B6E880",
           "#FF97FF",
           "#FECB52"
          ],
          "font": {
           "color": "#2a3f5f"
          },
          "geo": {
           "bgcolor": "white",
           "lakecolor": "white",
           "landcolor": "#E5ECF6",
           "showlakes": true,
           "showland": true,
           "subunitcolor": "white"
          },
          "hoverlabel": {
           "align": "left"
          },
          "hovermode": "closest",
          "mapbox": {
           "style": "light"
          },
          "paper_bgcolor": "white",
          "plot_bgcolor": "#E5ECF6",
          "polar": {
           "angularaxis": {
            "gridcolor": "white",
            "linecolor": "white",
            "ticks": ""
           },
           "bgcolor": "#E5ECF6",
           "radialaxis": {
            "gridcolor": "white",
            "linecolor": "white",
            "ticks": ""
           }
          },
          "scene": {
           "xaxis": {
            "backgroundcolor": "#E5ECF6",
            "gridcolor": "white",
            "gridwidth": 2,
            "linecolor": "white",
            "showbackground": true,
            "ticks": "",
            "zerolinecolor": "white"
           },
           "yaxis": {
            "backgroundcolor": "#E5ECF6",
            "gridcolor": "white",
            "gridwidth": 2,
            "linecolor": "white",
            "showbackground": true,
            "ticks": "",
            "zerolinecolor": "white"
           },
           "zaxis": {
            "backgroundcolor": "#E5ECF6",
            "gridcolor": "white",
            "gridwidth": 2,
            "linecolor": "white",
            "showbackground": true,
            "ticks": "",
            "zerolinecolor": "white"
           }
          },
          "shapedefaults": {
           "line": {
            "color": "#2a3f5f"
           }
          },
          "ternary": {
           "aaxis": {
            "gridcolor": "white",
            "linecolor": "white",
            "ticks": ""
           },
           "baxis": {
            "gridcolor": "white",
            "linecolor": "white",
            "ticks": ""
           },
           "bgcolor": "#E5ECF6",
           "caxis": {
            "gridcolor": "white",
            "linecolor": "white",
            "ticks": ""
           }
          },
          "title": {
           "x": 0.05
          },
          "xaxis": {
           "automargin": true,
           "gridcolor": "white",
           "linecolor": "white",
           "ticks": "",
           "title": {
            "standoff": 15
           },
           "zerolinecolor": "white",
           "zerolinewidth": 2
          },
          "yaxis": {
           "automargin": true,
           "gridcolor": "white",
           "linecolor": "white",
           "ticks": "",
           "title": {
            "standoff": 15
           },
           "zerolinecolor": "white",
           "zerolinewidth": 2
          }
         }
        },
        "title": {
         "text": "Optimization History Plot"
        },
        "xaxis": {
         "title": {
          "text": "Trial"
         }
        },
        "yaxis": {
         "title": {
          "text": "Objective Value"
         }
        }
       }
      }
     },
     "metadata": {},
     "output_type": "display_data"
    }
   ],
   "source": [
    "# Visualizar el historial de optimización\n",
    "plot_optimization_history(study)"
   ]
  },
  {
   "cell_type": "code",
   "execution_count": 9,
   "id": "f010ce44",
   "metadata": {},
   "outputs": [
    {
     "name": "stdout",
     "output_type": "stream",
     "text": [
      "Mejores hiperparámetros encontrados:\n",
      "{'learning_rate': 0.11852258842059535, 'max_depth': 4, 'max_iter': 443, 'min_samples_leaf': 10, 'l2_regularization': 1.4427582668352443, 'max_bins': 182}\n",
      "Mejor score de trend change: 0.3404\n"
     ]
    }
   ],
   "source": [
    "print(\"Mejores hiperparámetros encontrados:\")\n",
    "print(study.best_params)\n",
    "print(f\"Mejor score de trend change: {study.best_value:.4f}\")\n",
    "best_params = study.best_params"
   ]
  },
  {
   "cell_type": "code",
   "execution_count": 10,
   "id": "b7e8cca5",
   "metadata": {},
   "outputs": [],
   "source": [
    "# Guardar los mejores hiperparámetros y su valor\n",
    "history = []\n",
    "if os.path.exists(\"best_hyperparams.json\"):\n",
    "    try:\n",
    "        with open(\"best_hyperparams.json\", \"r\") as f:\n",
    "            history = json.load(f)\n",
    "    except (json.JSONDecodeError, ValueError):\n",
    "        history = []\n",
    "\n",
    "# Guardar ambos en un solo diccionario\n",
    "history.append({\n",
    "    \"params\": study.best_params,\n",
    "    \"value\": study.best_value\n",
    "})\n",
    "# Guardar el historial de hiperparámetros\n",
    "with open(\"best_hyperparams.json\", \"w\") as f:\n",
    "    json.dump(history, f, indent=2)"
   ]
  },
  {
   "cell_type": "code",
   "execution_count": 11,
   "id": "2f10bde7",
   "metadata": {},
   "outputs": [],
   "source": [
    "# # Cargar historial de hiperparámetros y valores\n",
    "# import json\n",
    "\n",
    "# with open(\"best_hyperparams.json\", \"r\") as f:\n",
    "#     history = json.load(f)\n",
    "\n",
    "# # Escoger el último (más reciente)\n",
    "# best_params = history[-1][\"params\"]\n",
    "# best_value = history[-1][\"value\"]\n",
    "\n",
    "# # Si quieres ver todos:\n",
    "# for i, entry in enumerate(history):\n",
    "#     print(f\"Hiperparámetros #{i+1}: {entry['params']}, Valor: {entry['value']}\")\n",
    "\n",
    "# # Si quieres escoger uno específico (por índice):\n",
    "# # best_params = history[indice_que_quieras][\"params\"]\n",
    "# # best_value = history[indice_que_quieras][\"value\"]"
   ]
  },
  {
   "cell_type": "code",
   "execution_count": 12,
   "id": "b3885830",
   "metadata": {},
   "outputs": [
    {
     "name": "stdout",
     "output_type": "stream",
     "text": [
      "\n",
      "HistGradientBoostingClassifier Trend Changes Score:\n",
      "               precision    recall  f1-score   support\n",
      "\n",
      "       False     0.9091    0.8036    0.8531       112\n",
      "        True     0.2667    0.4706    0.3404        17\n",
      "\n",
      "    accuracy                         0.7597       129\n",
      "   macro avg     0.5879    0.6371    0.5968       129\n",
      "weighted avg     0.8244    0.7597    0.7855       129\n",
      "\n"
     ]
    }
   ],
   "source": [
    "# Entrenar modelo final con los mejores hiperparámetros\n",
    "set_seeds(SEED)\n",
    "final_model = HistGradientBoostingClassifier(\n",
    "    learning_rate=best_params[\"learning_rate\"],\n",
    "    max_depth=best_params[\"max_depth\"],\n",
    "    max_iter=best_params[\"max_iter\"],\n",
    "    min_samples_leaf=best_params[\"min_samples_leaf\"],\n",
    "    l2_regularization=best_params[\"l2_regularization\"],\n",
    "    max_bins=best_params[\"max_bins\"],\n",
    "    random_state=SEED\n",
    ")\n",
    "final_model.fit(X_train, y_train)\n",
    "y_pred = final_model.predict(X_val)\n",
    "print(\"\\nHistGradientBoostingClassifier Trend Changes Score:\\n\", trend_changes_score(y_val, y_pred))"
   ]
  },
  {
   "cell_type": "code",
   "execution_count": 13,
   "id": "220d27e4",
   "metadata": {},
   "outputs": [
    {
     "name": "stdout",
     "output_type": "stream",
     "text": [
      "Gradient Boosting Classifier Report:\n",
      "               precision    recall  f1-score   support\n",
      "\n",
      "          -1     0.8148    0.9167    0.8627        24\n",
      "           0     0.3913    0.5000    0.4390        18\n",
      "           1     0.9375    0.8523    0.8929        88\n",
      "\n",
      "    accuracy                         0.8154       130\n",
      "   macro avg     0.7145    0.7563    0.7315       130\n",
      "weighted avg     0.8392    0.8154    0.8245       130\n",
      "\n",
      "Balanced accuracy: 0.7563131313131312\n"
     ]
    }
   ],
   "source": [
    "# Reporte completo: precisión, recall y F1 por clase\n",
    "report = classification_report(y_val, y_pred, digits=4)\n",
    "print(\"Gradient Boosting Classifier Report:\\n\", report)\n",
    "print(\"Balanced accuracy:\", balanced_accuracy_score(y_val, y_pred))"
   ]
  },
  {
   "cell_type": "code",
   "execution_count": 14,
   "id": "ab01473f",
   "metadata": {},
   "outputs": [
    {
     "name": "stdout",
     "output_type": "stream",
     "text": [
      "\n",
      "HistGradientBoostingClassifier trend_changes_score:\n",
      "               precision    recall  f1-score   support\n",
      "\n",
      "       False     0.8878    0.7768    0.8286       112\n",
      "        True     0.1935    0.3529    0.2500        17\n",
      "\n",
      "    accuracy                         0.7209       129\n",
      "   macro avg     0.5407    0.5649    0.5393       129\n",
      "weighted avg     0.7963    0.7209    0.7523       129\n",
      "\n"
     ]
    }
   ],
   "source": [
    "#Versión más rápida y escalable: HistGradientBoostingClassifier\n",
    "set_seeds(SEED)\n",
    "model = HistGradientBoostingClassifier(\n",
    "    learning_rate=0.05,\n",
    "    max_depth=6,          # profundidades algo mayores suelen ir bien aquí\n",
    "    max_iter=400,         # equivalente a n_estimators\n",
    "    random_state=SEED\n",
    ")\n",
    "model.fit(X_train, y_train)\n",
    "y_pred = model.predict(X_val)\n",
    "print(\"\\nHistGradientBoostingClassifier trend_changes_score:\\n\",\n",
    "    trend_changes_score(y_val, y_pred))"
   ]
  }
 ],
 "metadata": {
  "kernelspec": {
   "display_name": "tf_venv2 (3.10.12)",
   "language": "python",
   "name": "python3"
  },
  "language_info": {
   "codemirror_mode": {
    "name": "ipython",
    "version": 3
   },
   "file_extension": ".py",
   "mimetype": "text/x-python",
   "name": "python",
   "nbconvert_exporter": "python",
   "pygments_lexer": "ipython3",
   "version": "3.10.12"
  }
 },
 "nbformat": 4,
 "nbformat_minor": 5
}
