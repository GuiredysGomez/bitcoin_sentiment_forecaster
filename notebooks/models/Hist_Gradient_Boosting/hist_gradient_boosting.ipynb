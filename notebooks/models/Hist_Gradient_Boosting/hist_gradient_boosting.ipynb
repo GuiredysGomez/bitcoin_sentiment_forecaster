{
 "cells": [
  {
   "cell_type": "code",
   "execution_count": 1,
   "id": "d5361d87",
   "metadata": {},
   "outputs": [
    {
     "name": "stderr",
     "output_type": "stream",
     "text": [
      "/home/toyotx22/bitcoin_sentiment_forecaster/tf_venv2/lib/python3.10/site-packages/tqdm/auto.py:21: TqdmWarning: IProgress not found. Please update jupyter and ipywidgets. See https://ipywidgets.readthedocs.io/en/stable/user_install.html\n",
      "  from .autonotebook import tqdm as notebook_tqdm\n"
     ]
    }
   ],
   "source": [
    "import numpy as np\n",
    "import random\n",
    "import optuna\n",
    "import pandas as pd\n",
    "from sklearn.ensemble import HistGradientBoostingClassifier\n",
    "from sklearn.metrics import classification_report, balanced_accuracy_score\n",
    "import json\n",
    "import os\n",
    "from optuna.visualization import plot_optimization_history\n",
    "import time\n",
    "from datetime import datetime\n",
    "import joblib"
   ]
  },
  {
   "cell_type": "code",
   "execution_count": 2,
   "id": "30bf1500",
   "metadata": {},
   "outputs": [],
   "source": [
    "SEED = 1234\n",
    " # Se puede cambiar a \"precision\" o \"recall\" o \"f1-score\"\n",
    "SCORE = \"f1-score\"\n",
    "model_name = 'HistGradientBoosting'"
   ]
  },
  {
   "cell_type": "code",
   "execution_count": 3,
   "id": "c4f4c54e",
   "metadata": {},
   "outputs": [],
   "source": [
    "def set_seeds(seed):\n",
    "    random.seed(seed)\n",
    "    np.random.seed(seed)"
   ]
  },
  {
   "cell_type": "code",
   "execution_count": 4,
   "id": "bf2d7e99",
   "metadata": {},
   "outputs": [],
   "source": [
    "def get_trend_changes_report_dict(y_test: np.array, y_pred: np.array) -> float:\n",
    "    \"\"\"\n",
    "    Calculate the trend changes score based on the test and predicted values.\n",
    "    \n",
    "    Args:\n",
    "        y_test (np.array): True labels.\n",
    "        y_pred (np.array): Predicted labels.\n",
    "        \n",
    "    Returns:\n",
    "        float: The trend changes score.\n",
    "    \"\"\"\n",
    "    y_df = pd.DataFrame([y_test, y_pred]).T\n",
    "    y_df.columns = [\"y_test\", \"y_pred\"]\n",
    "    y_df[\"y_test_shifted\"] = y_df[\"y_test\"].shift(-1)\n",
    "    y_df[\"is_changed_trend_test\"] = y_df[\"y_test\"] != y_df[\"y_test_shifted\"]\n",
    "    y_df[\"y_predict_shifted\"] = y_df[\"y_pred\"].shift(-1)\n",
    "    y_df[\"is_changed_trend_predict\"] = y_df[\"y_pred\"] != y_df[\"y_predict_shifted\"]\n",
    "    return classification_report(\n",
    "        y_df[\"is_changed_trend_test\"][:-1], \n",
    "        y_df[\"is_changed_trend_predict\"][:-1], \n",
    "        digits=4,\n",
    "        output_dict=True,\n",
    "        zero_division=0\n",
    "    )\n",
    "\n",
    "def trend_changes_score(y_test: np.array, y_pred: np.array) -> float:\n",
    "    \"\"\"\n",
    "    Calculate the trend changes score based on the test and predicted values.\n",
    "    \n",
    "    Args:\n",
    "        y_test (np.array): True labels.\n",
    "        y_pred (np.array): Predicted labels.\n",
    "        \n",
    "    Returns:\n",
    "        float: The trend changes score.\n",
    "    \"\"\"\n",
    "    y_df = pd.DataFrame([y_test, y_pred]).T\n",
    "    y_df.columns = [\"y_test\", \"y_pred\"]\n",
    "    y_df[\"y_test_shifted\"] = y_df[\"y_test\"].shift(-1)\n",
    "    y_df[\"is_changed_trend_test\"] = y_df[\"y_test\"] != y_df[\"y_test_shifted\"]\n",
    "    y_df[\"y_predict_shifted\"] = y_df[\"y_pred\"].shift(-1)\n",
    "    y_df[\"is_changed_trend_predict\"] = y_df[\"y_pred\"] != y_df[\"y_predict_shifted\"]\n",
    "    return classification_report(y_df[\"is_changed_trend_test\"][:-1], y_df[\"is_changed_trend_predict\"][:-1], digits=4)\n",
    "\n",
    "def trend_changes_true(y_test: np.array, y_pred: np.array) -> float:\n",
    "    \"\"\"\n",
    "    Calculate the trend changes score based on the test and predicted values.\n",
    "    \n",
    "    Args:\n",
    "        y_test (np.array): True labels.\n",
    "        y_pred (np.array): Predicted labels.\n",
    "        \n",
    "    Returns:\n",
    "        float: The trend changes score.\n",
    "    \"\"\"\n",
    "    y_df = pd.DataFrame([y_test, y_pred]).T\n",
    "    y_df.columns = [\"y_test\", \"y_pred\"]\n",
    "    y_df[\"y_test_shifted\"] = y_df[\"y_test\"].shift(-1)\n",
    "    y_df[\"is_changed_trend_test\"] = y_df[\"y_test\"] != y_df[\"y_test_shifted\"]\n",
    "    y_df[\"y_predict_shifted\"] = y_df[\"y_pred\"].shift(-1)\n",
    "    y_df[\"is_changed_trend_predict\"] = y_df[\"y_pred\"] != y_df[\"y_predict_shifted\"]\n",
    "    report = classification_report(\n",
    "        y_df[\"is_changed_trend_test\"][:-1],\n",
    "        y_df[\"is_changed_trend_predict\"][:-1],\n",
    "        output_dict=True,\n",
    "        zero_division=0\n",
    "    )\n",
    "    return report[\"True\"][SCORE]"
   ]
  },
  {
   "cell_type": "code",
   "execution_count": 5,
   "id": "abb36f1f",
   "metadata": {},
   "outputs": [],
   "source": [
    "# Cargar datos\n",
    "train = pd.read_csv(\"../../../data/post_cleaning/training_set.csv\", parse_dates=[\"date\"])\n",
    "val = pd.read_csv(\"../../../data/post_cleaning/validation_set.csv\", parse_dates=[\"date\"])\n",
    "X_train = train.drop(columns=[\"date\", \"target_trend\"]).values\n",
    "y_train = train[\"target_trend\"].values\n",
    "X_val = val.drop(columns=[\"date\", \"target_trend\"]).values\n",
    "y_val = val[\"target_trend\"].values"
   ]
  },
  {
   "cell_type": "code",
   "execution_count": 6,
   "id": "4fad55b9",
   "metadata": {},
   "outputs": [],
   "source": [
    "def objective(trial):\n",
    "    set_seeds(SEED)\n",
    "    learning_rate = trial.suggest_float(\"learning_rate\", 0.01, 0.2, log=True)\n",
    "    max_depth = trial.suggest_int(\"max_depth\", 2, 16)\n",
    "    max_iter = trial.suggest_int(\"max_iter\", 100, 500)\n",
    "    min_samples_leaf = trial.suggest_int(\"min_samples_leaf\", 1, 20)\n",
    "    l2_regularization = trial.suggest_float(\"l2_regularization\", 0.0, 2.0)\n",
    "    max_bins = trial.suggest_int(\"max_bins\", 128, 255)\n",
    "\n",
    "    model = HistGradientBoostingClassifier(\n",
    "        learning_rate=learning_rate,\n",
    "        max_depth=max_depth,\n",
    "        max_iter=max_iter,\n",
    "        min_samples_leaf=min_samples_leaf,\n",
    "        l2_regularization=l2_regularization,\n",
    "        max_bins=max_bins,\n",
    "        random_state=SEED\n",
    "    )\n",
    "    model.fit(X_train, y_train)\n",
    "    y_pred = model.predict(X_val)\n",
    "    score = trend_changes_true(y_val, y_pred)\n",
    "    return score"
   ]
  },
  {
   "cell_type": "code",
   "execution_count": 7,
   "id": "1308680c",
   "metadata": {},
   "outputs": [
    {
     "name": "stderr",
     "output_type": "stream",
     "text": [
      "[I 2025-09-19 13:36:07,408] A new study created in memory with name: no-name-fd96d85b-f5cb-4f63-a133-62aade9848f5\n",
      "[I 2025-09-19 13:40:03,484] Trial 0 finished with value: 0.5074626865671642 and parameters: {'learning_rate': 0.01774894524799066, 'max_depth': 11, 'max_iter': 275, 'min_samples_leaf': 16, 'l2_regularization': 1.559951616237607, 'max_bins': 162}. Best is trial 0 with value: 0.5074626865671642.\n",
      "[I 2025-09-19 13:40:17,795] Trial 1 finished with value: 0.5454545454545454 and parameters: {'learning_rate': 0.022892239910869177, 'max_depth': 14, 'max_iter': 484, 'min_samples_leaf': 18, 'l2_regularization': 0.7156345399157333, 'max_bins': 192}. Best is trial 1 with value: 0.5454545454545454.\n",
      "[I 2025-09-19 13:40:19,982] Trial 2 finished with value: 0.5 and parameters: {'learning_rate': 0.07748288441159408, 'max_depth': 12, 'max_iter': 248, 'min_samples_leaf': 12, 'l2_regularization': 1.0061663306156194, 'max_bins': 129}. Best is trial 1 with value: 0.5454545454545454.\n",
      "[I 2025-09-19 13:40:22,341] Trial 3 finished with value: 0.5179856115107914 and parameters: {'learning_rate': 0.10126762300587276, 'max_depth': 15, 'max_iter': 246, 'min_samples_leaf': 13, 'l2_regularization': 0.1507624832859531, 'max_bins': 175}. Best is trial 1 with value: 0.5454545454545454.\n",
      "[I 2025-09-19 13:40:24,906] Trial 4 finished with value: 0.5507246376811594 and parameters: {'learning_rate': 0.16369795832561723, 'max_depth': 11, 'max_iter': 259, 'min_samples_leaf': 16, 'l2_regularization': 0.6336722443377425, 'max_bins': 200}. Best is trial 4 with value: 0.5507246376811594.\n",
      "[I 2025-09-19 13:40:29,627] Trial 5 finished with value: 0.5106382978723404 and parameters: {'learning_rate': 0.13513280879844683, 'max_depth': 8, 'max_iter': 421, 'min_samples_leaf': 3, 'l2_regularization': 1.4085219422366708, 'max_bins': 218}. Best is trial 4 with value: 0.5507246376811594.\n",
      "[I 2025-09-19 13:40:32,032] Trial 6 finished with value: 0.46616541353383456 and parameters: {'learning_rate': 0.019259947204382573, 'max_depth': 15, 'max_iter': 277, 'min_samples_leaf': 19, 'l2_regularization': 0.1196184455597038, 'max_bins': 151}. Best is trial 4 with value: 0.5507246376811594.\n",
      "[I 2025-09-19 13:40:35,597] Trial 7 finished with value: 0.515625 and parameters: {'learning_rate': 0.011524196057181964, 'max_depth': 12, 'max_iter': 338, 'min_samples_leaf': 11, 'l2_regularization': 0.08664812538960698, 'max_bins': 199}. Best is trial 4 with value: 0.5507246376811594.\n",
      "[I 2025-09-19 13:40:37,315] Trial 8 finished with value: 0.4888888888888889 and parameters: {'learning_rate': 0.026847789642131727, 'max_depth': 9, 'max_iter': 144, 'min_samples_leaf': 13, 'l2_regularization': 1.1318892861010628, 'max_bins': 128}. Best is trial 4 with value: 0.5507246376811594.\n",
      "[I 2025-09-19 13:40:41,809] Trial 9 finished with value: 0.5109489051094891 and parameters: {'learning_rate': 0.06357848628088529, 'max_depth': 15, 'max_iter': 417, 'min_samples_leaf': 20, 'l2_regularization': 1.917603524305733, 'max_bins': 229}. Best is trial 4 with value: 0.5507246376811594.\n",
      "[I 2025-09-19 13:40:42,349] Trial 10 finished with value: 0.5037037037037037 and parameters: {'learning_rate': 0.17748751526483572, 'max_depth': 4, 'max_iter': 105, 'min_samples_leaf': 5, 'l2_regularization': 0.59251655310227, 'max_bins': 249}. Best is trial 4 with value: 0.5507246376811594.\n",
      "[I 2025-09-19 13:40:46,816] Trial 11 finished with value: 0.49645390070921985 and parameters: {'learning_rate': 0.03401808967021543, 'max_depth': 6, 'max_iter': 490, 'min_samples_leaf': 17, 'l2_regularization': 0.5893923799203168, 'max_bins': 193}. Best is trial 4 with value: 0.5507246376811594.\n",
      "[I 2025-09-19 13:40:48,301] Trial 12 finished with value: 0.5285714285714286 and parameters: {'learning_rate': 0.053726493768002544, 'max_depth': 12, 'max_iter': 353, 'min_samples_leaf': 8, 'l2_regularization': 0.625758544356839, 'max_bins': 211}. Best is trial 4 with value: 0.5507246376811594.\n",
      "[I 2025-09-19 13:40:49,064] Trial 13 finished with value: 0.5373134328358209 and parameters: {'learning_rate': 0.03447368089940384, 'max_depth': 2, 'max_iter': 500, 'min_samples_leaf': 16, 'l2_regularization': 0.7620247683244934, 'max_bins': 182}. Best is trial 4 with value: 0.5507246376811594.\n",
      "[I 2025-09-19 13:40:50,990] Trial 14 finished with value: 0.49624060150375937 and parameters: {'learning_rate': 0.010819216914293153, 'max_depth': 16, 'max_iter': 197, 'min_samples_leaf': 17, 'l2_regularization': 0.3733540345912483, 'max_bins': 232}. Best is trial 4 with value: 0.5507246376811594.\n",
      "[I 2025-09-19 13:40:54,533] Trial 15 finished with value: 0.5342465753424658 and parameters: {'learning_rate': 0.18741910664037983, 'max_depth': 10, 'max_iter': 342, 'min_samples_leaf': 9, 'l2_regularization': 0.8269305453939176, 'max_bins': 205}. Best is trial 4 with value: 0.5507246376811594.\n",
      "[I 2025-09-19 13:40:56,288] Trial 16 finished with value: 0.47692307692307695 and parameters: {'learning_rate': 0.01979457038779212, 'max_depth': 13, 'max_iter': 195, 'min_samples_leaf': 15, 'l2_regularization': 1.1810494054791085, 'max_bins': 177}. Best is trial 4 with value: 0.5507246376811594.\n",
      "[I 2025-09-19 13:40:59,532] Trial 17 finished with value: 0.5285714285714286 and parameters: {'learning_rate': 0.09232126157824229, 'max_depth': 7, 'max_iter': 430, 'min_samples_leaf': 20, 'l2_regularization': 0.44712536629824196, 'max_bins': 157}. Best is trial 4 with value: 0.5507246376811594.\n",
      "[I 2025-09-19 13:41:03,932] Trial 18 finished with value: 0.5142857142857142 and parameters: {'learning_rate': 0.042313094166284315, 'max_depth': 14, 'max_iter': 377, 'min_samples_leaf': 14, 'l2_regularization': 0.8589373134535241, 'max_bins': 252}. Best is trial 4 with value: 0.5507246376811594.\n",
      "[I 2025-09-19 13:41:05,775] Trial 19 finished with value: 0.4892086330935252 and parameters: {'learning_rate': 0.11760385880375045, 'max_depth': 10, 'max_iter': 209, 'min_samples_leaf': 18, 'l2_regularization': 0.33981629095446675, 'max_bins': 188}. Best is trial 4 with value: 0.5507246376811594.\n",
      "[I 2025-09-19 13:41:09,075] Trial 20 finished with value: 0.4307692307692308 and parameters: {'learning_rate': 0.014758756136373754, 'max_depth': 13, 'max_iter': 307, 'min_samples_leaf': 9, 'l2_regularization': 1.3643870766206927, 'max_bins': 223}. Best is trial 4 with value: 0.5507246376811594.\n",
      "[I 2025-09-19 13:41:09,818] Trial 21 finished with value: 0.5882352941176471 and parameters: {'learning_rate': 0.02864037599938193, 'max_depth': 2, 'max_iter': 500, 'min_samples_leaf': 16, 'l2_regularization': 0.7531256262480733, 'max_bins': 177}. Best is trial 21 with value: 0.5882352941176471.\n",
      "[I 2025-09-19 13:41:10,502] Trial 22 finished with value: 0.5454545454545454 and parameters: {'learning_rate': 0.026295499231045814, 'max_depth': 2, 'max_iter': 460, 'min_samples_leaf': 15, 'l2_regularization': 0.9571770738842141, 'max_bins': 171}. Best is trial 21 with value: 0.5882352941176471.\n",
      "[I 2025-09-19 13:41:12,804] Trial 23 finished with value: 0.5072463768115942 and parameters: {'learning_rate': 0.026177835705794718, 'max_depth': 5, 'max_iter': 461, 'min_samples_leaf': 19, 'l2_regularization': 0.7201196030637312, 'max_bins': 202}. Best is trial 21 with value: 0.5882352941176471.\n",
      "[I 2025-09-19 13:41:14,020] Trial 24 finished with value: 0.5333333333333333 and parameters: {'learning_rate': 0.045501703328129584, 'max_depth': 4, 'max_iter': 389, 'min_samples_leaf': 18, 'l2_regularization': 0.4720243682918805, 'max_bins': 190}. Best is trial 21 with value: 0.5882352941176471.\n",
      "[I 2025-09-19 13:41:15,871] Trial 25 finished with value: 0.524822695035461 and parameters: {'learning_rate': 0.03648130609270999, 'max_depth': 9, 'max_iter': 472, 'min_samples_leaf': 14, 'l2_regularization': 1.025914466692689, 'max_bins': 169}. Best is trial 21 with value: 0.5882352941176471.\n",
      "[I 2025-09-19 13:41:20,278] Trial 26 finished with value: 0.4925373134328358 and parameters: {'learning_rate': 0.015056911762186757, 'max_depth': 11, 'max_iter': 444, 'min_samples_leaf': 17, 'l2_regularization': 0.2779954496492216, 'max_bins': 147}. Best is trial 21 with value: 0.5882352941176471.\n",
      "[I 2025-09-19 13:41:25,149] Trial 27 finished with value: 0.5174825174825175 and parameters: {'learning_rate': 0.061606099977023696, 'max_depth': 8, 'max_iter': 390, 'min_samples_leaf': 6, 'l2_regularization': 0.7004285784210862, 'max_bins': 210}. Best is trial 21 with value: 0.5882352941176471.\n",
      "[I 2025-09-19 13:41:28,314] Trial 28 finished with value: 0.524822695035461 and parameters: {'learning_rate': 0.02565291088757741, 'max_depth': 14, 'max_iter': 315, 'min_samples_leaf': 11, 'l2_regularization': 0.8911263289902078, 'max_bins': 184}. Best is trial 21 with value: 0.5882352941176471.\n",
      "[I 2025-09-19 13:41:31,019] Trial 29 finished with value: 0.46616541353383456 and parameters: {'learning_rate': 0.021004614578694576, 'max_depth': 11, 'max_iter': 236, 'min_samples_leaf': 1, 'l2_regularization': 1.2033707785579062, 'max_bins': 166}. Best is trial 21 with value: 0.5882352941176471.\n",
      "[I 2025-09-19 13:41:32,658] Trial 30 finished with value: 0.5116279069767442 and parameters: {'learning_rate': 0.01574006378464562, 'max_depth': 16, 'max_iter': 149, 'min_samples_leaf': 15, 'l2_regularization': 1.6711209137592387, 'max_bins': 241}. Best is trial 21 with value: 0.5882352941176471.\n",
      "[I 2025-09-19 13:41:33,382] Trial 31 finished with value: 0.5441176470588235 and parameters: {'learning_rate': 0.02885056489765611, 'max_depth': 2, 'max_iter': 466, 'min_samples_leaf': 16, 'l2_regularization': 0.9309033300107468, 'max_bins': 172}. Best is trial 21 with value: 0.5882352941176471.\n",
      "[I 2025-09-19 13:41:34,477] Trial 32 finished with value: 0.5151515151515151 and parameters: {'learning_rate': 0.02202710314428958, 'max_depth': 3, 'max_iter': 499, 'min_samples_leaf': 15, 'l2_regularization': 1.0655047700326623, 'max_bins': 143}. Best is trial 21 with value: 0.5882352941176471.\n",
      "[I 2025-09-19 13:41:35,482] Trial 33 finished with value: 0.4732824427480916 and parameters: {'learning_rate': 0.045057824616174046, 'max_depth': 3, 'max_iter': 453, 'min_samples_leaf': 13, 'l2_regularization': 0.58553385802635, 'max_bins': 160}. Best is trial 21 with value: 0.5882352941176471.\n",
      "[I 2025-09-19 13:41:38,992] Trial 34 finished with value: 0.5109489051094891 and parameters: {'learning_rate': 0.030510500127003043, 'max_depth': 6, 'max_iter': 479, 'min_samples_leaf': 18, 'l2_regularization': 0.9742535380568209, 'max_bins': 195}. Best is trial 21 with value: 0.5882352941176471.\n",
      "[I 2025-09-19 13:41:39,410] Trial 35 finished with value: 0.5038167938931297 and parameters: {'learning_rate': 0.02293886901586143, 'max_depth': 2, 'max_iter': 275, 'min_samples_leaf': 12, 'l2_regularization': 0.7790995904055826, 'max_bins': 180}. Best is trial 21 with value: 0.5882352941176471.\n",
      "[I 2025-09-19 13:41:40,895] Trial 36 finished with value: 0.5373134328358209 and parameters: {'learning_rate': 0.016779964163675967, 'max_depth': 4, 'max_iter': 412, 'min_samples_leaf': 19, 'l2_regularization': 1.3127391610256873, 'max_bins': 137}. Best is trial 21 with value: 0.5882352941176471.\n",
      "[I 2025-09-19 13:41:45,337] Trial 37 finished with value: 0.4806201550387597 and parameters: {'learning_rate': 0.012768717539982667, 'max_depth': 13, 'max_iter': 442, 'min_samples_leaf': 14, 'l2_regularization': 0.0038430072645511126, 'max_bins': 155}. Best is trial 21 with value: 0.5882352941176471.\n",
      "[I 2025-09-19 13:41:45,809] Trial 38 finished with value: 0.5217391304347826 and parameters: {'learning_rate': 0.1435419055835429, 'max_depth': 10, 'max_iter': 281, 'min_samples_leaf': 16, 'l2_regularization': 0.23431957600519104, 'max_bins': 217}. Best is trial 21 with value: 0.5882352941176471.\n",
      "[I 2025-09-19 13:41:46,435] Trial 39 finished with value: 0.5190839694656488 and parameters: {'learning_rate': 0.03763208059609754, 'max_depth': 3, 'max_iter': 252, 'min_samples_leaf': 20, 'l2_regularization': 1.5266951445161114, 'max_bins': 163}. Best is trial 21 with value: 0.5882352941176471.\n",
      "[I 2025-09-19 13:41:51,935] Trial 40 finished with value: 0.5112781954887218 and parameters: {'learning_rate': 0.08473948045312067, 'max_depth': 7, 'max_iter': 479, 'min_samples_leaf': 12, 'l2_regularization': 0.4543196855735957, 'max_bins': 198}. Best is trial 21 with value: 0.5882352941176471.\n",
      "[I 2025-09-19 13:41:52,883] Trial 41 finished with value: 0.5588235294117647 and parameters: {'learning_rate': 0.02964526623767079, 'max_depth': 2, 'max_iter': 466, 'min_samples_leaf': 16, 'l2_regularization': 0.926628997872212, 'max_bins': 171}. Best is trial 21 with value: 0.5882352941176471.\n",
      "[I 2025-09-19 13:41:54,059] Trial 42 finished with value: 0.5373134328358209 and parameters: {'learning_rate': 0.030970516320243207, 'max_depth': 3, 'max_iter': 438, 'min_samples_leaf': 17, 'l2_regularization': 0.6703702269541985, 'max_bins': 173}. Best is trial 21 with value: 0.5882352941176471.\n",
      "[I 2025-09-19 13:41:56,271] Trial 43 finished with value: 0.4580152671755725 and parameters: {'learning_rate': 0.02552120633361251, 'max_depth': 5, 'max_iter': 405, 'min_samples_leaf': 15, 'l2_regularization': 1.0814261465061765, 'max_bins': 184}. Best is trial 21 with value: 0.5882352941176471.\n",
      "[I 2025-09-19 13:41:57,106] Trial 44 finished with value: 0.5333333333333333 and parameters: {'learning_rate': 0.051028335621972745, 'max_depth': 2, 'max_iter': 486, 'min_samples_leaf': 16, 'l2_regularization': 0.560434364570815, 'max_bins': 176}. Best is trial 21 with value: 0.5882352941176471.\n",
      "[I 2025-09-19 13:41:59,122] Trial 45 finished with value: 0.4580152671755725 and parameters: {'learning_rate': 0.017689188300716016, 'max_depth': 5, 'max_iter': 366, 'min_samples_leaf': 18, 'l2_regularization': 0.8255418415679984, 'max_bins': 187}. Best is trial 21 with value: 0.5882352941176471.\n",
      "[I 2025-09-19 13:42:00,989] Trial 46 finished with value: 0.4888888888888889 and parameters: {'learning_rate': 0.06503775365384681, 'max_depth': 4, 'max_iter': 462, 'min_samples_leaf': 13, 'l2_regularization': 0.96546822289165, 'max_bins': 194}. Best is trial 21 with value: 0.5882352941176471.\n",
      "[I 2025-09-19 13:42:08,372] Trial 47 finished with value: 0.5323741007194245 and parameters: {'learning_rate': 0.023978002417229135, 'max_depth': 12, 'max_iter': 499, 'min_samples_leaf': 17, 'l2_regularization': 1.206384782893512, 'max_bins': 209}. Best is trial 21 with value: 0.5882352941176471.\n",
      "[I 2025-09-19 13:42:09,052] Trial 48 finished with value: 0.515625 and parameters: {'learning_rate': 0.019204244438049314, 'max_depth': 2, 'max_iter': 417, 'min_samples_leaf': 14, 'l2_regularization': 0.5247748685774851, 'max_bins': 165}. Best is trial 21 with value: 0.5882352941176471.\n",
      "[I 2025-09-19 13:42:12,237] Trial 49 finished with value: 0.5035971223021583 and parameters: {'learning_rate': 0.03207035712461378, 'max_depth': 14, 'max_iter': 329, 'min_samples_leaf': 16, 'l2_regularization': 0.77350071860217, 'max_bins': 178}. Best is trial 21 with value: 0.5882352941176471.\n",
      "[I 2025-09-19 13:42:12,800] Trial 50 finished with value: 0.5255474452554745 and parameters: {'learning_rate': 0.03842542658191038, 'max_depth': 3, 'max_iter': 241, 'min_samples_leaf': 19, 'l2_regularization': 0.6783913821101379, 'max_bins': 152}. Best is trial 21 with value: 0.5882352941176471.\n",
      "[I 2025-09-19 13:42:13,487] Trial 51 finished with value: 0.5481481481481482 and parameters: {'learning_rate': 0.028588002211076834, 'max_depth': 2, 'max_iter': 463, 'min_samples_leaf': 16, 'l2_regularization': 0.9186167973903392, 'max_bins': 171}. Best is trial 21 with value: 0.5882352941176471.\n",
      "[I 2025-09-19 13:42:14,163] Trial 52 finished with value: 0.515625 and parameters: {'learning_rate': 0.029348885716828293, 'max_depth': 2, 'max_iter': 457, 'min_samples_leaf': 15, 'l2_regularization': 0.8218293440214466, 'max_bins': 169}. Best is trial 21 with value: 0.5882352941176471.\n",
      "[I 2025-09-19 13:42:15,835] Trial 53 finished with value: 0.49612403100775193 and parameters: {'learning_rate': 0.027923706768329913, 'max_depth': 4, 'max_iter': 431, 'min_samples_leaf': 17, 'l2_regularization': 0.9032851252691618, 'max_bins': 203}. Best is trial 21 with value: 0.5882352941176471.\n",
      "[I 2025-09-19 13:42:17,765] Trial 54 finished with value: 0.5217391304347826 and parameters: {'learning_rate': 0.16585430942200619, 'max_depth': 15, 'max_iter': 482, 'min_samples_leaf': 18, 'l2_regularization': 1.0201985449892512, 'max_bins': 159}. Best is trial 21 with value: 0.5882352941176471.\n",
      "[I 2025-09-19 13:42:18,761] Trial 55 finished with value: 0.49230769230769234 and parameters: {'learning_rate': 0.019245221746946938, 'max_depth': 3, 'max_iter': 472, 'min_samples_leaf': 16, 'l2_regularization': 1.0997375408707253, 'max_bins': 189}. Best is trial 21 with value: 0.5882352941176471.\n",
      "[I 2025-09-19 13:42:22,954] Trial 56 finished with value: 0.5217391304347826 and parameters: {'learning_rate': 0.03388202436059875, 'max_depth': 8, 'max_iter': 450, 'min_samples_leaf': 20, 'l2_regularization': 0.6202460073608838, 'max_bins': 180}. Best is trial 21 with value: 0.5882352941176471.\n",
      "[I 2025-09-19 13:42:23,668] Trial 57 finished with value: 0.5454545454545454 and parameters: {'learning_rate': 0.04077046331144451, 'max_depth': 2, 'max_iter': 400, 'min_samples_leaf': 14, 'l2_regularization': 1.2770836071371279, 'max_bins': 171}. Best is trial 21 with value: 0.5882352941176471.\n",
      "[I 2025-09-19 13:42:25,469] Trial 58 finished with value: 0.5179856115107914 and parameters: {'learning_rate': 0.10777830504813324, 'max_depth': 6, 'max_iter': 216, 'min_samples_leaf': 19, 'l2_regularization': 0.7345318724574841, 'max_bins': 183}. Best is trial 21 with value: 0.5882352941176471.\n",
      "[I 2025-09-19 13:42:30,890] Trial 59 finished with value: 0.5179856115107914 and parameters: {'learning_rate': 0.05223895473628182, 'max_depth': 13, 'max_iter': 490, 'min_samples_leaf': 10, 'l2_regularization': 0.8821189012172679, 'max_bins': 176}. Best is trial 21 with value: 0.5882352941176471.\n",
      "[I 2025-09-19 13:42:31,955] Trial 60 finished with value: 0.5 and parameters: {'learning_rate': 0.024247043752220306, 'max_depth': 3, 'max_iter': 427, 'min_samples_leaf': 17, 'l2_regularization': 1.1423469764097987, 'max_bins': 196}. Best is trial 21 with value: 0.5882352941176471.\n",
      "[I 2025-09-19 13:42:32,636] Trial 61 finished with value: 0.49230769230769234 and parameters: {'learning_rate': 0.04102465992162398, 'max_depth': 2, 'max_iter': 402, 'min_samples_leaf': 14, 'l2_regularization': 1.2503602163561771, 'max_bins': 166}. Best is trial 21 with value: 0.5882352941176471.\n",
      "[I 2025-09-19 13:42:33,114] Trial 62 finished with value: 0.5343511450381679 and parameters: {'learning_rate': 0.03450511408167187, 'max_depth': 2, 'max_iter': 293, 'min_samples_leaf': 15, 'l2_regularization': 0.9889099806295018, 'max_bins': 171}. Best is trial 21 with value: 0.5882352941176471.\n",
      "[I 2025-09-19 13:42:39,089] Trial 63 finished with value: 0.49635036496350365 and parameters: {'learning_rate': 0.027428613684594698, 'max_depth': 11, 'max_iter': 466, 'min_samples_leaf': 13, 'l2_regularization': 1.4972179075392198, 'max_bins': 186}. Best is trial 21 with value: 0.5882352941176471.\n",
      "[I 2025-09-19 13:42:39,818] Trial 64 finished with value: 0.5384615384615384 and parameters: {'learning_rate': 0.021881630249170534, 'max_depth': 2, 'max_iter': 444, 'min_samples_leaf': 16, 'l2_regularization': 1.7851758355369531, 'max_bins': 192}. Best is trial 21 with value: 0.5882352941176471.\n",
      "[I 2025-09-19 13:42:41,786] Trial 65 finished with value: 0.5151515151515151 and parameters: {'learning_rate': 0.04845925273255175, 'max_depth': 4, 'max_iter': 489, 'min_samples_leaf': 14, 'l2_regularization': 0.3879886631733242, 'max_bins': 168}. Best is trial 21 with value: 0.5882352941176471.\n",
      "[I 2025-09-19 13:42:42,848] Trial 66 finished with value: 0.5373134328358209 and parameters: {'learning_rate': 0.059390065760059556, 'max_depth': 3, 'max_iter': 387, 'min_samples_leaf': 15, 'l2_regularization': 1.4151860959824623, 'max_bins': 174}. Best is trial 21 with value: 0.5882352941176471.\n",
      "[I 2025-09-19 13:42:43,809] Trial 67 finished with value: 0.5 and parameters: {'learning_rate': 0.0710537735558127, 'max_depth': 5, 'max_iter': 171, 'min_samples_leaf': 17, 'l2_regularization': 0.6584197348341974, 'max_bins': 199}. Best is trial 21 with value: 0.5882352941176471.\n",
      "[I 2025-09-19 13:42:46,365] Trial 68 finished with value: 0.44776119402985076 and parameters: {'learning_rate': 0.03889320000187542, 'max_depth': 9, 'max_iter': 500, 'min_samples_leaf': 12, 'l2_regularization': 0.7982504346761897, 'max_bins': 163}. Best is trial 21 with value: 0.5882352941176471.\n",
      "[I 2025-09-19 13:42:46,764] Trial 69 finished with value: 0.496 and parameters: {'learning_rate': 0.03266397823700464, 'max_depth': 2, 'max_iter': 261, 'min_samples_leaf': 7, 'l2_regularization': 1.0420122465117183, 'max_bins': 155}. Best is trial 21 with value: 0.5882352941176471.\n",
      "[I 2025-09-19 13:42:50,294] Trial 70 finished with value: 0.5588235294117647 and parameters: {'learning_rate': 0.042983144185927746, 'max_depth': 15, 'max_iter': 362, 'min_samples_leaf': 18, 'l2_regularization': 0.9390231087320033, 'max_bins': 181}. Best is trial 21 with value: 0.5882352941176471.\n",
      "[I 2025-09-19 13:42:53,473] Trial 71 finished with value: 0.5362318840579711 and parameters: {'learning_rate': 0.04651308327639547, 'max_depth': 15, 'max_iter': 345, 'min_samples_leaf': 18, 'l2_regularization': 0.9187254057571617, 'max_bins': 178}. Best is trial 21 with value: 0.5882352941176471.\n",
      "[I 2025-09-19 13:42:56,614] Trial 72 finished with value: 0.5185185185185185 and parameters: {'learning_rate': 0.03556410131271895, 'max_depth': 15, 'max_iter': 322, 'min_samples_leaf': 18, 'l2_regularization': 0.8596369459989763, 'max_bins': 181}. Best is trial 21 with value: 0.5882352941176471.\n",
      "[I 2025-09-19 13:43:01,439] Trial 73 finished with value: 0.5481481481481482 and parameters: {'learning_rate': 0.04067611305169494, 'max_depth': 14, 'max_iter': 473, 'min_samples_leaf': 16, 'l2_regularization': 1.1340412041915842, 'max_bins': 171}. Best is trial 21 with value: 0.5882352941176471.\n",
      "[I 2025-09-19 13:43:06,901] Trial 74 finished with value: 0.5263157894736842 and parameters: {'learning_rate': 0.025984539492542903, 'max_depth': 14, 'max_iter': 472, 'min_samples_leaf': 16, 'l2_regularization': 1.1616407103843822, 'max_bins': 207}. Best is trial 21 with value: 0.5882352941176471.\n",
      "[I 2025-09-19 13:43:10,925] Trial 75 finished with value: 0.5428571428571428 and parameters: {'learning_rate': 0.029917183948937942, 'max_depth': 16, 'max_iter': 436, 'min_samples_leaf': 19, 'l2_regularization': 0.7365870503554658, 'max_bins': 192}. Best is trial 21 with value: 0.5882352941176471.\n",
      "[I 2025-09-19 13:43:15,664] Trial 76 finished with value: 0.5217391304347826 and parameters: {'learning_rate': 0.055538378615735504, 'max_depth': 12, 'max_iter': 453, 'min_samples_leaf': 15, 'l2_regularization': 0.953905034610276, 'max_bins': 215}. Best is trial 21 with value: 0.5882352941176471.\n",
      "[I 2025-09-19 13:43:14,970] Trial 77 finished with value: 0.4732824427480916 and parameters: {'learning_rate': 0.021403848808635224, 'max_depth': 14, 'max_iter': 102, 'min_samples_leaf': 17, 'l2_regularization': 0.5235429128936796, 'max_bins': 161}. Best is trial 21 with value: 0.5882352941176471.\n",
      "[I 2025-09-19 13:43:18,534] Trial 78 finished with value: 0.5147058823529411 and parameters: {'learning_rate': 0.013095762376144843, 'max_depth': 16, 'max_iter': 363, 'min_samples_leaf': 16, 'l2_regularization': 1.1064429678567824, 'max_bins': 185}. Best is trial 21 with value: 0.5882352941176471.\n",
      "[I 2025-09-19 13:43:23,226] Trial 79 finished with value: 0.5255474452554745 and parameters: {'learning_rate': 0.02369017127983936, 'max_depth': 13, 'max_iter': 476, 'min_samples_leaf': 18, 'l2_regularization': 0.8433913152013549, 'max_bins': 175}. Best is trial 21 with value: 0.5882352941176471.\n",
      "[I 2025-09-19 13:43:27,469] Trial 80 finished with value: 0.48854961832061067 and parameters: {'learning_rate': 0.041594922827870376, 'max_depth': 15, 'max_iter': 420, 'min_samples_leaf': 17, 'l2_regularization': 1.0231470048602642, 'max_bins': 201}. Best is trial 21 with value: 0.5882352941176471.\n",
      "[I 2025-09-19 13:43:32,206] Trial 81 finished with value: 0.5217391304347826 and parameters: {'learning_rate': 0.039899512549661655, 'max_depth': 14, 'max_iter': 460, 'min_samples_leaf': 13, 'l2_regularization': 1.3017191192165636, 'max_bins': 170}. Best is trial 21 with value: 0.5882352941176471.\n",
      "[I 2025-09-19 13:43:33,406] Trial 82 finished with value: 0.5109489051094891 and parameters: {'learning_rate': 0.03648820218672646, 'max_depth': 3, 'max_iter': 487, 'min_samples_leaf': 15, 'l2_regularization': 1.2367622798724551, 'max_bins': 167}. Best is trial 21 with value: 0.5882352941176471.\n",
      "[I 2025-09-19 13:43:34,175] Trial 83 finished with value: 0.5413533834586466 and parameters: {'learning_rate': 0.03175131742298268, 'max_depth': 2, 'max_iter': 407, 'min_samples_leaf': 16, 'l2_regularization': 1.3545134158870857, 'max_bins': 172}. Best is trial 21 with value: 0.5882352941176471.\n",
      "[I 2025-09-19 13:43:39,279] Trial 84 finished with value: 0.5 and parameters: {'learning_rate': 0.027755590760494435, 'max_depth': 16, 'max_iter': 466, 'min_samples_leaf': 14, 'l2_regularization': 0.9087925525111563, 'max_bins': 179}. Best is trial 21 with value: 0.5882352941176471.\n",
      "[I 2025-09-19 13:43:40,356] Trial 85 finished with value: 0.5522388059701493 and parameters: {'learning_rate': 0.044845960174654975, 'max_depth': 3, 'max_iter': 447, 'min_samples_leaf': 17, 'l2_regularization': 0.768575128648753, 'max_bins': 164}. Best is trial 21 with value: 0.5882352941176471.\n",
      "[I 2025-09-19 13:43:44,488] Trial 86 finished with value: 0.5547445255474452 and parameters: {'learning_rate': 0.19678471471195547, 'max_depth': 11, 'max_iter': 449, 'min_samples_leaf': 18, 'l2_regularization': 0.784915423826634, 'max_bins': 163}. Best is trial 21 with value: 0.5882352941176471.\n",
      "[I 2025-09-19 13:43:46,153] Trial 87 finished with value: 0.5352112676056338 and parameters: {'learning_rate': 0.18952140836285666, 'max_depth': 11, 'max_iter': 450, 'min_samples_leaf': 19, 'l2_regularization': 0.6295947878645701, 'max_bins': 158}. Best is trial 21 with value: 0.5882352941176471.\n",
      "[I 2025-09-19 13:43:49,844] Trial 88 finished with value: 0.5441176470588235 and parameters: {'learning_rate': 0.16832298624285597, 'max_depth': 9, 'max_iter': 424, 'min_samples_leaf': 20, 'l2_regularization': 0.7121109164564573, 'max_bins': 147}. Best is trial 21 with value: 0.5882352941176471.\n",
      "[I 2025-09-19 13:43:54,314] Trial 89 finished with value: 0.5103448275862069 and parameters: {'learning_rate': 0.13344377406454816, 'max_depth': 10, 'max_iter': 442, 'min_samples_leaf': 4, 'l2_regularization': 0.7940703088294219, 'max_bins': 165}. Best is trial 21 with value: 0.5882352941176471.\n",
      "[I 2025-09-19 13:43:58,780] Trial 90 finished with value: 0.4782608695652174 and parameters: {'learning_rate': 0.14463722733705534, 'max_depth': 12, 'max_iter': 495, 'min_samples_leaf': 18, 'l2_regularization': 0.7490850016721902, 'max_bins': 187}. Best is trial 21 with value: 0.5882352941176471.\n",
      "[I 2025-09-19 13:44:02,967] Trial 91 finished with value: 0.5454545454545454 and parameters: {'learning_rate': 0.17683241435854002, 'max_depth': 14, 'max_iter': 480, 'min_samples_leaf': 17, 'l2_regularization': 0.9459802167533707, 'max_bins': 162}. Best is trial 21 with value: 0.5882352941176471.\n",
      "[I 2025-09-19 13:44:06,749] Trial 92 finished with value: 0.5 and parameters: {'learning_rate': 0.019921279125418828, 'max_depth': 8, 'max_iter': 469, 'min_samples_leaf': 19, 'l2_regularization': 0.5593734308801068, 'max_bins': 156}. Best is trial 21 with value: 0.5882352941176471.\n",
      "[I 2025-09-19 13:44:07,120] Trial 93 finished with value: 0.5441176470588235 and parameters: {'learning_rate': 0.09693089217659043, 'max_depth': 2, 'max_iter': 225, 'min_samples_leaf': 17, 'l2_regularization': 0.8673435381086068, 'max_bins': 182}. Best is trial 21 with value: 0.5882352941176471.\n",
      "[I 2025-09-19 13:44:11,270] Trial 94 finished with value: 0.5416666666666666 and parameters: {'learning_rate': 0.1944777927102546, 'max_depth': 13, 'max_iter': 460, 'min_samples_leaf': 16, 'l2_regularization': 0.6920708736527253, 'max_bins': 151}. Best is trial 21 with value: 0.5882352941176471.\n",
      "[I 2025-09-19 13:44:11,969] Trial 95 finished with value: 0.4881889763779528 and parameters: {'learning_rate': 0.02510918144056425, 'max_depth': 3, 'max_iter': 303, 'min_samples_leaf': 18, 'l2_regularization': 0.9916067969957192, 'max_bins': 174}. Best is trial 21 with value: 0.5882352941176471.\n",
      "[I 2025-09-19 13:44:13,055] Trial 96 finished with value: 0.5481481481481482 and parameters: {'learning_rate': 0.15714562690172101, 'max_depth': 7, 'max_iter': 433, 'min_samples_leaf': 17, 'l2_regularization': 1.060984013859403, 'max_bins': 168}. Best is trial 21 with value: 0.5882352941176471.\n",
      "[I 2025-09-19 13:44:16,815] Trial 97 finished with value: 0.5428571428571428 and parameters: {'learning_rate': 0.15007950498975176, 'max_depth': 7, 'max_iter': 431, 'min_samples_leaf': 17, 'l2_regularization': 1.0797333035009662, 'max_bins': 164}. Best is trial 21 with value: 0.5882352941176471.\n",
      "[I 2025-09-19 13:44:20,872] Trial 98 finished with value: 0.5038167938931297 and parameters: {'learning_rate': 0.13093835613416188, 'max_depth': 10, 'max_iter': 448, 'min_samples_leaf': 19, 'l2_regularization': 0.7979957047410051, 'max_bins': 189}. Best is trial 21 with value: 0.5882352941176471.\n",
      "[I 2025-09-19 13:44:23,236] Trial 99 finished with value: 0.5467625899280576 and parameters: {'learning_rate': 0.1188236050298594, 'max_depth': 11, 'max_iter': 266, 'min_samples_leaf': 16, 'l2_regularization': 0.5970716824832908, 'max_bins': 168}. Best is trial 21 with value: 0.5882352941176471.\n",
      "[I 2025-09-19 13:44:25,816] Trial 100 finished with value: 0.5857142857142857 and parameters: {'learning_rate': 0.15909707530001435, 'max_depth': 11, 'max_iter': 268, 'min_samples_leaf': 16, 'l2_regularization': 0.49014977402370374, 'max_bins': 168}. Best is trial 21 with value: 0.5882352941176471.\n",
      "[I 2025-09-19 13:44:28,411] Trial 101 finished with value: 0.5673758865248227 and parameters: {'learning_rate': 0.15681977809788136, 'max_depth': 11, 'max_iter': 287, 'min_samples_leaf': 16, 'l2_regularization': 0.422982665571772, 'max_bins': 168}. Best is trial 21 with value: 0.5882352941176471.\n",
      "[I 2025-09-19 13:44:31,232] Trial 102 finished with value: 0.5179856115107914 and parameters: {'learning_rate': 0.159892839235348, 'max_depth': 11, 'max_iter': 291, 'min_samples_leaf': 15, 'l2_regularization': 0.2385947507162337, 'max_bins': 177}. Best is trial 21 with value: 0.5882352941176471.\n",
      "[I 2025-09-19 13:44:33,522] Trial 103 finished with value: 0.5555555555555556 and parameters: {'learning_rate': 0.15471448602168011, 'max_depth': 10, 'max_iter': 253, 'min_samples_leaf': 16, 'l2_regularization': 0.40467335671720184, 'max_bins': 161}. Best is trial 21 with value: 0.5882352941176471.\n",
      "[I 2025-09-19 13:44:36,098] Trial 104 finished with value: 0.5342465753424658 and parameters: {'learning_rate': 0.1810414717712178, 'max_depth': 10, 'max_iter': 283, 'min_samples_leaf': 16, 'l2_regularization': 0.3266115953635006, 'max_bins': 160}. Best is trial 21 with value: 0.5882352941176471.\n",
      "[I 2025-09-19 13:44:38,518] Trial 105 finished with value: 0.5 and parameters: {'learning_rate': 0.12569980822685753, 'max_depth': 12, 'max_iter': 257, 'min_samples_leaf': 16, 'l2_regularization': 0.43263601428977566, 'max_bins': 163}. Best is trial 21 with value: 0.5882352941176471.\n",
      "[I 2025-09-19 13:44:40,900] Trial 106 finished with value: 0.5147058823529411 and parameters: {'learning_rate': 0.17289725144180795, 'max_depth': 11, 'max_iter': 248, 'min_samples_leaf': 15, 'l2_regularization': 0.4985993838301069, 'max_bins': 150}. Best is trial 21 with value: 0.5882352941176471.\n",
      "[I 2025-09-19 13:44:43,362] Trial 107 finished with value: 0.5217391304347826 and parameters: {'learning_rate': 0.08480374243937265, 'max_depth': 10, 'max_iter': 270, 'min_samples_leaf': 18, 'l2_regularization': 0.4120134361014977, 'max_bins': 153}. Best is trial 21 with value: 0.5882352941176471.\n",
      "[I 2025-09-19 13:44:43,602] Trial 108 finished with value: 0.5037037037037037 and parameters: {'learning_rate': 0.1972334628670513, 'max_depth': 12, 'max_iter': 241, 'min_samples_leaf': 1, 'l2_regularization': 0.306740053717935, 'max_bins': 166}. Best is trial 21 with value: 0.5882352941176471.\n",
      "[I 2025-09-19 13:44:46,355] Trial 109 finished with value: 0.5038167938931297 and parameters: {'learning_rate': 0.14148503033321924, 'max_depth': 11, 'max_iter': 308, 'min_samples_leaf': 16, 'l2_regularization': 0.13553034209891546, 'max_bins': 173}. Best is trial 21 with value: 0.5882352941176471.\n",
      "[I 2025-09-19 13:44:49,095] Trial 110 finished with value: 0.5070422535211268 and parameters: {'learning_rate': 0.11022067734888219, 'max_depth': 9, 'max_iter': 290, 'min_samples_leaf': 15, 'l2_regularization': 0.5609902549506881, 'max_bins': 157}. Best is trial 21 with value: 0.5882352941176471.\n",
      "[I 2025-09-19 13:44:51,671] Trial 111 finished with value: 0.48951048951048953 and parameters: {'learning_rate': 0.1576378444353113, 'max_depth': 10, 'max_iter': 278, 'min_samples_leaf': 17, 'l2_regularization': 0.37485647650638976, 'max_bins': 169}. Best is trial 21 with value: 0.5882352941176471.\n",
      "[I 2025-09-19 13:44:54,104] Trial 112 finished with value: 0.547945205479452 and parameters: {'learning_rate': 0.1578239132510898, 'max_depth': 10, 'max_iter': 267, 'min_samples_leaf': 17, 'l2_regularization': 0.48544225533283314, 'max_bins': 160}. Best is trial 21 with value: 0.5882352941176471.\n",
      "[I 2025-09-19 13:44:55,846] Trial 113 finished with value: 0.5390070921985816 and parameters: {'learning_rate': 0.1392513049562863, 'max_depth': 6, 'max_iter': 231, 'min_samples_leaf': 17, 'l2_regularization': 1.0469441462829607, 'max_bins': 170}. Best is trial 21 with value: 0.5882352941176471.\n",
      "[I 2025-09-19 13:44:58,188] Trial 114 finished with value: 0.5072463768115942 and parameters: {'learning_rate': 0.04390645766915535, 'max_depth': 11, 'max_iter': 251, 'min_samples_leaf': 16, 'l2_regularization': 0.636713163544442, 'max_bins': 167}. Best is trial 21 with value: 0.5882352941176471.\n",
      "[I 2025-09-19 13:45:00,012] Trial 115 finished with value: 0.5034965034965035 and parameters: {'learning_rate': 0.1868984262973209, 'max_depth': 12, 'max_iter': 198, 'min_samples_leaf': 18, 'l2_regularization': 1.9751863419974727, 'max_bins': 176}. Best is trial 21 with value: 0.5882352941176471.\n",
      "[I 2025-09-19 13:45:03,075] Trial 116 finished with value: 0.5106382978723404 and parameters: {'learning_rate': 0.15214155752093608, 'max_depth': 8, 'max_iter': 336, 'min_samples_leaf': 17, 'l2_regularization': 1.1181421423784024, 'max_bins': 173}. Best is trial 21 with value: 0.5882352941176471.\n",
      "[I 2025-09-19 13:45:06,006] Trial 117 finished with value: 0.5205479452054794 and parameters: {'learning_rate': 0.1638431168941218, 'max_depth': 9, 'max_iter': 314, 'min_samples_leaf': 15, 'l2_regularization': 0.19523062295501276, 'max_bins': 164}. Best is trial 21 with value: 0.5882352941176471.\n",
      "[I 2025-09-19 13:45:10,728] Trial 118 finished with value: 0.4857142857142857 and parameters: {'learning_rate': 0.17304810838705614, 'max_depth': 12, 'max_iter': 437, 'min_samples_leaf': 2, 'l2_regularization': 0.8363312208483019, 'max_bins': 171}. Best is trial 21 with value: 0.5882352941176471.\n",
      "[I 2025-09-19 13:45:12,683] Trial 119 finished with value: 0.5103448275862069 and parameters: {'learning_rate': 0.1183759522697205, 'max_depth': 11, 'max_iter': 482, 'min_samples_leaf': 17, 'l2_regularization': 0.7643884125159166, 'max_bins': 181}. Best is trial 21 with value: 0.5882352941176471.\n",
      "[I 2025-09-19 13:45:17,381] Trial 120 finished with value: 0.4892086330935252 and parameters: {'learning_rate': 0.12805310776483256, 'max_depth': 10, 'max_iter': 493, 'min_samples_leaf': 16, 'l2_regularization': 0.8831727927036127, 'max_bins': 161}. Best is trial 21 with value: 0.5882352941176471.\n",
      "[I 2025-09-19 13:45:19,952] Trial 121 finished with value: 0.5285714285714286 and parameters: {'learning_rate': 0.14888592163024247, 'max_depth': 10, 'max_iter': 283, 'min_samples_leaf': 17, 'l2_regularization': 0.4980997311422327, 'max_bins': 167}. Best is trial 21 with value: 0.5882352941176471.\n",
      "[I 2025-09-19 13:45:22,246] Trial 122 finished with value: 0.4852941176470588 and parameters: {'learning_rate': 0.19986449878298915, 'max_depth': 9, 'max_iter': 270, 'min_samples_leaf': 17, 'l2_regularization': 0.9346095223007359, 'max_bins': 154}. Best is trial 21 with value: 0.5882352941176471.\n",
      "[I 2025-09-19 13:45:24,508] Trial 123 finished with value: 0.5034965034965035 and parameters: {'learning_rate': 0.15306593548210973, 'max_depth': 11, 'max_iter': 258, 'min_samples_leaf': 18, 'l2_regularization': 0.46581472974810606, 'max_bins': 162}. Best is trial 21 with value: 0.5882352941176471.\n",
      "[I 2025-09-19 13:45:28,538] Trial 124 finished with value: 0.4927536231884058 and parameters: {'learning_rate': 0.049153762893147546, 'max_depth': 10, 'max_iter': 456, 'min_samples_leaf': 16, 'l2_regularization': 0.4115191102643181, 'max_bins': 158}. Best is trial 21 with value: 0.5882352941176471.\n",
      "[I 2025-09-19 13:45:28,976] Trial 125 finished with value: 0.5 and parameters: {'learning_rate': 0.1817302763217976, 'max_depth': 2, 'max_iter': 263, 'min_samples_leaf': 18, 'l2_regularization': 0.34582275425042963, 'max_bins': 178}. Best is trial 21 with value: 0.5882352941176471.\n",
      "[I 2025-09-19 13:45:31,833] Trial 126 finished with value: 0.48120300751879697 and parameters: {'learning_rate': 0.07128598618813214, 'max_depth': 15, 'max_iter': 295, 'min_samples_leaf': 16, 'l2_regularization': 0.6880704229500012, 'max_bins': 159}. Best is trial 21 with value: 0.5882352941176471.\n",
      "[I 2025-09-19 13:45:34,058] Trial 127 finished with value: 0.49645390070921985 and parameters: {'learning_rate': 0.16551198825538954, 'max_depth': 10, 'max_iter': 242, 'min_samples_leaf': 15, 'l2_regularization': 0.522340705906613, 'max_bins': 169}. Best is trial 21 with value: 0.5882352941176471.\n",
      "[I 2025-09-19 13:45:35,143] Trial 128 finished with value: 0.5 and parameters: {'learning_rate': 0.1368441079280004, 'max_depth': 3, 'max_iter': 472, 'min_samples_leaf': 17, 'l2_regularization': 0.9971502938956549, 'max_bins': 175}. Best is trial 21 with value: 0.5882352941176471.\n",
      "[I 2025-09-19 13:45:37,118] Trial 129 finished with value: 0.453125 and parameters: {'learning_rate': 0.010318676622808165, 'max_depth': 11, 'max_iter': 223, 'min_samples_leaf': 16, 'l2_regularization': 1.1669204084322045, 'max_bins': 149}. Best is trial 21 with value: 0.5882352941176471.\n",
      "[I 2025-09-19 13:45:39,230] Trial 130 finished with value: 0.4888888888888889 and parameters: {'learning_rate': 0.029761821487171797, 'max_depth': 7, 'max_iter': 279, 'min_samples_leaf': 18, 'l2_regularization': 0.6557795365276013, 'max_bins': 166}. Best is trial 21 with value: 0.5882352941176471.\n",
      "[I 2025-09-19 13:45:41,781] Trial 131 finished with value: 0.5142857142857142 and parameters: {'learning_rate': 0.15888829220899744, 'max_depth': 11, 'max_iter': 265, 'min_samples_leaf': 16, 'l2_regularization': 0.6106257133770729, 'max_bins': 169}. Best is trial 21 with value: 0.5882352941176471.\n",
      "[I 2025-09-19 13:45:44,203] Trial 132 finished with value: 0.5223880597014925 and parameters: {'learning_rate': 0.11754765870638952, 'max_depth': 11, 'max_iter': 274, 'min_samples_leaf': 14, 'l2_regularization': 0.5934918496024298, 'max_bins': 164}. Best is trial 21 with value: 0.5882352941176471.\n",
      "[I 2025-09-19 13:45:44,632] Trial 133 finished with value: 0.5196850393700787 and parameters: {'learning_rate': 0.033441126477513676, 'max_depth': 2, 'max_iter': 255, 'min_samples_leaf': 15, 'l2_regularization': 0.5718536408643743, 'max_bins': 172}. Best is trial 21 with value: 0.5882352941176471.\n",
      "[I 2025-09-19 13:45:45,491] Trial 134 finished with value: 0.5342465753424658 and parameters: {'learning_rate': 0.12322156099980645, 'max_depth': 10, 'max_iter': 378, 'min_samples_leaf': 16, 'l2_regularization': 0.47295627600910733, 'max_bins': 160}. Best is trial 21 with value: 0.5882352941176471.\n",
      "[I 2025-09-19 13:45:46,654] Trial 135 finished with value: 0.5652173913043478 and parameters: {'learning_rate': 0.17447801167342794, 'max_depth': 12, 'max_iter': 122, 'min_samples_leaf': 17, 'l2_regularization': 0.7314815157967827, 'max_bins': 168}. Best is trial 21 with value: 0.5882352941176471.\n",
      "[I 2025-09-19 13:45:46,948] Trial 136 finished with value: 0.5671641791044776 and parameters: {'learning_rate': 0.17631249506681868, 'max_depth': 3, 'max_iter': 118, 'min_samples_leaf': 17, 'l2_regularization': 0.7200222166354514, 'max_bins': 133}. Best is trial 21 with value: 0.5882352941176471.\n",
      "[I 2025-09-19 13:45:47,466] Trial 137 finished with value: 0.5109489051094891 and parameters: {'learning_rate': 0.17909555262325783, 'max_depth': 4, 'max_iter': 137, 'min_samples_leaf': 17, 'l2_regularization': 0.8459235069624043, 'max_bins': 134}. Best is trial 21 with value: 0.5882352941176471.\n",
      "[I 2025-09-19 13:45:48,448] Trial 138 finished with value: 0.5174825174825175 and parameters: {'learning_rate': 0.17227333342553908, 'max_depth': 13, 'max_iter': 115, 'min_samples_leaf': 19, 'l2_regularization': 0.7187786440534684, 'max_bins': 132}. Best is trial 21 with value: 0.5882352941176471.\n",
      "[I 2025-09-19 13:45:48,779] Trial 139 finished with value: 0.5581395348837209 and parameters: {'learning_rate': 0.0563451889744082, 'max_depth': 3, 'max_iter': 127, 'min_samples_leaf': 18, 'l2_regularization': 0.8082794863704189, 'max_bins': 179}. Best is trial 21 with value: 0.5882352941176471.\n",
      "[I 2025-09-19 13:45:49,085] Trial 140 finished with value: 0.4881889763779528 and parameters: {'learning_rate': 0.03733229635474666, 'max_depth': 3, 'max_iter': 117, 'min_samples_leaf': 19, 'l2_regularization': 0.775967206796681, 'max_bins': 184}. Best is trial 21 with value: 0.5882352941176471.\n",
      "[I 2025-09-19 13:45:49,414] Trial 141 finished with value: 0.512 and parameters: {'learning_rate': 0.04600309701272775, 'max_depth': 3, 'max_iter': 140, 'min_samples_leaf': 18, 'l2_regularization': 0.8194009597580558, 'max_bins': 141}. Best is trial 21 with value: 0.5882352941176471.\n",
      "[I 2025-09-19 13:45:49,663] Trial 142 finished with value: 0.53125 and parameters: {'learning_rate': 0.05582715262249573, 'max_depth': 2, 'max_iter': 128, 'min_samples_leaf': 18, 'l2_regularization': 0.7367390213232805, 'max_bins': 175}. Best is trial 21 with value: 0.5882352941176471.\n",
      "[I 2025-09-19 13:45:50,945] Trial 143 finished with value: 0.4714285714285714 and parameters: {'learning_rate': 0.18954050388333687, 'max_depth': 4, 'max_iter': 352, 'min_samples_leaf': 17, 'l2_regularization': 0.9141582165366303, 'max_bins': 179}. Best is trial 21 with value: 0.5882352941176471.\n",
      "[I 2025-09-19 13:45:51,220] Trial 144 finished with value: 0.556390977443609 and parameters: {'learning_rate': 0.1441888752150873, 'max_depth': 2, 'max_iter': 163, 'min_samples_leaf': 16, 'l2_regularization': 0.8010260248441647, 'max_bins': 141}. Best is trial 21 with value: 0.5882352941176471.\n",
      "[I 2025-09-19 13:45:51,630] Trial 145 finished with value: 0.5396825396825397 and parameters: {'learning_rate': 0.04317964437837945, 'max_depth': 3, 'max_iter': 158, 'min_samples_leaf': 15, 'l2_regularization': 0.6928119998668234, 'max_bins': 197}. Best is trial 21 with value: 0.5882352941176471.\n",
      "[I 2025-09-19 13:45:51,843] Trial 146 finished with value: 0.5413533834586466 and parameters: {'learning_rate': 0.1473962598214084, 'max_depth': 2, 'max_iter': 110, 'min_samples_leaf': 16, 'l2_regularization': 0.8099914086239881, 'max_bins': 137}. Best is trial 21 with value: 0.5882352941176471.\n",
      "[I 2025-09-19 13:45:52,096] Trial 147 finished with value: 0.5151515151515151 and parameters: {'learning_rate': 0.028129085215887348, 'max_depth': 2, 'max_iter': 131, 'min_samples_leaf': 17, 'l2_regularization': 0.758587560602164, 'max_bins': 129}. Best is trial 21 with value: 0.5882352941176471.\n",
      "[I 2025-09-19 13:45:52,479] Trial 148 finished with value: 0.5196850393700787 and parameters: {'learning_rate': 0.031321776759134716, 'max_depth': 3, 'max_iter': 156, 'min_samples_leaf': 15, 'l2_regularization': 0.87887410246981, 'max_bins': 146}. Best is trial 21 with value: 0.5882352941176471.\n",
      "[I 2025-09-19 13:45:53,467] Trial 149 finished with value: 0.5179856115107914 and parameters: {'learning_rate': 0.05894722389948933, 'max_depth': 12, 'max_iter': 107, 'min_samples_leaf': 16, 'l2_regularization': 0.668214363436284, 'max_bins': 139}. Best is trial 21 with value: 0.5882352941176471.\n"
     ]
    },
    {
     "name": "stdout",
     "output_type": "stream",
     "text": [
      "Optuna duró 635.72s en 150 trials\n"
     ]
    }
   ],
   "source": [
    "# Crear estudio y medir tiempo de Optuna\n",
    "t0 = time.perf_counter()\n",
    "\n",
    "study = optuna.create_study(\n",
    "    direction=\"maximize\",\n",
    "    sampler=optuna.samplers.TPESampler(seed=SEED)\n",
    ")\n",
    "study.optimize(objective, n_trials=150)\n",
    "\n",
    "opt_duration_sec = time.perf_counter() - t0\n",
    "n_trials_run = len(study.trials)\n",
    "\n",
    "print(f\"Optuna duró {opt_duration_sec:.2f}s en {n_trials_run} trials\")"
   ]
  },
  {
   "cell_type": "code",
   "execution_count": 8,
   "id": "57507a62",
   "metadata": {},
   "outputs": [
    {
     "data": {
      "application/vnd.plotly.v1+json": {
       "config": {
        "plotlyServerURL": "https://plot.ly"
       },
       "data": [
        {
         "mode": "markers",
         "name": "Objective Value",
         "type": "scatter",
         "x": [
          0,
          1,
          2,
          3,
          4,
          5,
          6,
          7,
          8,
          9,
          10,
          11,
          12,
          13,
          14,
          15,
          16,
          17,
          18,
          19,
          20,
          21,
          22,
          23,
          24,
          25,
          26,
          27,
          28,
          29,
          30,
          31,
          32,
          33,
          34,
          35,
          36,
          37,
          38,
          39,
          40,
          41,
          42,
          43,
          44,
          45,
          46,
          47,
          48,
          49,
          50,
          51,
          52,
          53,
          54,
          55,
          56,
          57,
          58,
          59,
          60,
          61,
          62,
          63,
          64,
          65,
          66,
          67,
          68,
          69,
          70,
          71,
          72,
          73,
          74,
          75,
          76,
          77,
          78,
          79,
          80,
          81,
          82,
          83,
          84,
          85,
          86,
          87,
          88,
          89,
          90,
          91,
          92,
          93,
          94,
          95,
          96,
          97,
          98,
          99,
          100,
          101,
          102,
          103,
          104,
          105,
          106,
          107,
          108,
          109,
          110,
          111,
          112,
          113,
          114,
          115,
          116,
          117,
          118,
          119,
          120,
          121,
          122,
          123,
          124,
          125,
          126,
          127,
          128,
          129,
          130,
          131,
          132,
          133,
          134,
          135,
          136,
          137,
          138,
          139,
          140,
          141,
          142,
          143,
          144,
          145,
          146,
          147,
          148,
          149
         ],
         "y": [
          0.5074626865671642,
          0.5454545454545454,
          0.5,
          0.5179856115107914,
          0.5507246376811594,
          0.5106382978723404,
          0.46616541353383456,
          0.515625,
          0.4888888888888889,
          0.5109489051094891,
          0.5037037037037037,
          0.49645390070921985,
          0.5285714285714286,
          0.5373134328358209,
          0.49624060150375937,
          0.5342465753424658,
          0.47692307692307695,
          0.5285714285714286,
          0.5142857142857142,
          0.4892086330935252,
          0.4307692307692308,
          0.5882352941176471,
          0.5454545454545454,
          0.5072463768115942,
          0.5333333333333333,
          0.524822695035461,
          0.4925373134328358,
          0.5174825174825175,
          0.524822695035461,
          0.46616541353383456,
          0.5116279069767442,
          0.5441176470588235,
          0.5151515151515151,
          0.4732824427480916,
          0.5109489051094891,
          0.5038167938931297,
          0.5373134328358209,
          0.4806201550387597,
          0.5217391304347826,
          0.5190839694656488,
          0.5112781954887218,
          0.5588235294117647,
          0.5373134328358209,
          0.4580152671755725,
          0.5333333333333333,
          0.4580152671755725,
          0.4888888888888889,
          0.5323741007194245,
          0.515625,
          0.5035971223021583,
          0.5255474452554745,
          0.5481481481481482,
          0.515625,
          0.49612403100775193,
          0.5217391304347826,
          0.49230769230769234,
          0.5217391304347826,
          0.5454545454545454,
          0.5179856115107914,
          0.5179856115107914,
          0.5,
          0.49230769230769234,
          0.5343511450381679,
          0.49635036496350365,
          0.5384615384615384,
          0.5151515151515151,
          0.5373134328358209,
          0.5,
          0.44776119402985076,
          0.496,
          0.5588235294117647,
          0.5362318840579711,
          0.5185185185185185,
          0.5481481481481482,
          0.5263157894736842,
          0.5428571428571428,
          0.5217391304347826,
          0.4732824427480916,
          0.5147058823529411,
          0.5255474452554745,
          0.48854961832061067,
          0.5217391304347826,
          0.5109489051094891,
          0.5413533834586466,
          0.5,
          0.5522388059701493,
          0.5547445255474452,
          0.5352112676056338,
          0.5441176470588235,
          0.5103448275862069,
          0.4782608695652174,
          0.5454545454545454,
          0.5,
          0.5441176470588235,
          0.5416666666666666,
          0.4881889763779528,
          0.5481481481481482,
          0.5428571428571428,
          0.5038167938931297,
          0.5467625899280576,
          0.5857142857142857,
          0.5673758865248227,
          0.5179856115107914,
          0.5555555555555556,
          0.5342465753424658,
          0.5,
          0.5147058823529411,
          0.5217391304347826,
          0.5037037037037037,
          0.5038167938931297,
          0.5070422535211268,
          0.48951048951048953,
          0.547945205479452,
          0.5390070921985816,
          0.5072463768115942,
          0.5034965034965035,
          0.5106382978723404,
          0.5205479452054794,
          0.4857142857142857,
          0.5103448275862069,
          0.4892086330935252,
          0.5285714285714286,
          0.4852941176470588,
          0.5034965034965035,
          0.4927536231884058,
          0.5,
          0.48120300751879697,
          0.49645390070921985,
          0.5,
          0.453125,
          0.4888888888888889,
          0.5142857142857142,
          0.5223880597014925,
          0.5196850393700787,
          0.5342465753424658,
          0.5652173913043478,
          0.5671641791044776,
          0.5109489051094891,
          0.5174825174825175,
          0.5581395348837209,
          0.4881889763779528,
          0.512,
          0.53125,
          0.4714285714285714,
          0.556390977443609,
          0.5396825396825397,
          0.5413533834586466,
          0.5151515151515151,
          0.5196850393700787,
          0.5179856115107914
         ]
        },
        {
         "mode": "lines",
         "name": "Best Value",
         "type": "scatter",
         "x": [
          0,
          1,
          2,
          3,
          4,
          5,
          6,
          7,
          8,
          9,
          10,
          11,
          12,
          13,
          14,
          15,
          16,
          17,
          18,
          19,
          20,
          21,
          22,
          23,
          24,
          25,
          26,
          27,
          28,
          29,
          30,
          31,
          32,
          33,
          34,
          35,
          36,
          37,
          38,
          39,
          40,
          41,
          42,
          43,
          44,
          45,
          46,
          47,
          48,
          49,
          50,
          51,
          52,
          53,
          54,
          55,
          56,
          57,
          58,
          59,
          60,
          61,
          62,
          63,
          64,
          65,
          66,
          67,
          68,
          69,
          70,
          71,
          72,
          73,
          74,
          75,
          76,
          77,
          78,
          79,
          80,
          81,
          82,
          83,
          84,
          85,
          86,
          87,
          88,
          89,
          90,
          91,
          92,
          93,
          94,
          95,
          96,
          97,
          98,
          99,
          100,
          101,
          102,
          103,
          104,
          105,
          106,
          107,
          108,
          109,
          110,
          111,
          112,
          113,
          114,
          115,
          116,
          117,
          118,
          119,
          120,
          121,
          122,
          123,
          124,
          125,
          126,
          127,
          128,
          129,
          130,
          131,
          132,
          133,
          134,
          135,
          136,
          137,
          138,
          139,
          140,
          141,
          142,
          143,
          144,
          145,
          146,
          147,
          148,
          149
         ],
         "y": [
          0.5074626865671642,
          0.5454545454545454,
          0.5454545454545454,
          0.5454545454545454,
          0.5507246376811594,
          0.5507246376811594,
          0.5507246376811594,
          0.5507246376811594,
          0.5507246376811594,
          0.5507246376811594,
          0.5507246376811594,
          0.5507246376811594,
          0.5507246376811594,
          0.5507246376811594,
          0.5507246376811594,
          0.5507246376811594,
          0.5507246376811594,
          0.5507246376811594,
          0.5507246376811594,
          0.5507246376811594,
          0.5507246376811594,
          0.5882352941176471,
          0.5882352941176471,
          0.5882352941176471,
          0.5882352941176471,
          0.5882352941176471,
          0.5882352941176471,
          0.5882352941176471,
          0.5882352941176471,
          0.5882352941176471,
          0.5882352941176471,
          0.5882352941176471,
          0.5882352941176471,
          0.5882352941176471,
          0.5882352941176471,
          0.5882352941176471,
          0.5882352941176471,
          0.5882352941176471,
          0.5882352941176471,
          0.5882352941176471,
          0.5882352941176471,
          0.5882352941176471,
          0.5882352941176471,
          0.5882352941176471,
          0.5882352941176471,
          0.5882352941176471,
          0.5882352941176471,
          0.5882352941176471,
          0.5882352941176471,
          0.5882352941176471,
          0.5882352941176471,
          0.5882352941176471,
          0.5882352941176471,
          0.5882352941176471,
          0.5882352941176471,
          0.5882352941176471,
          0.5882352941176471,
          0.5882352941176471,
          0.5882352941176471,
          0.5882352941176471,
          0.5882352941176471,
          0.5882352941176471,
          0.5882352941176471,
          0.5882352941176471,
          0.5882352941176471,
          0.5882352941176471,
          0.5882352941176471,
          0.5882352941176471,
          0.5882352941176471,
          0.5882352941176471,
          0.5882352941176471,
          0.5882352941176471,
          0.5882352941176471,
          0.5882352941176471,
          0.5882352941176471,
          0.5882352941176471,
          0.5882352941176471,
          0.5882352941176471,
          0.5882352941176471,
          0.5882352941176471,
          0.5882352941176471,
          0.5882352941176471,
          0.5882352941176471,
          0.5882352941176471,
          0.5882352941176471,
          0.5882352941176471,
          0.5882352941176471,
          0.5882352941176471,
          0.5882352941176471,
          0.5882352941176471,
          0.5882352941176471,
          0.5882352941176471,
          0.5882352941176471,
          0.5882352941176471,
          0.5882352941176471,
          0.5882352941176471,
          0.5882352941176471,
          0.5882352941176471,
          0.5882352941176471,
          0.5882352941176471,
          0.5882352941176471,
          0.5882352941176471,
          0.5882352941176471,
          0.5882352941176471,
          0.5882352941176471,
          0.5882352941176471,
          0.5882352941176471,
          0.5882352941176471,
          0.5882352941176471,
          0.5882352941176471,
          0.5882352941176471,
          0.5882352941176471,
          0.5882352941176471,
          0.5882352941176471,
          0.5882352941176471,
          0.5882352941176471,
          0.5882352941176471,
          0.5882352941176471,
          0.5882352941176471,
          0.5882352941176471,
          0.5882352941176471,
          0.5882352941176471,
          0.5882352941176471,
          0.5882352941176471,
          0.5882352941176471,
          0.5882352941176471,
          0.5882352941176471,
          0.5882352941176471,
          0.5882352941176471,
          0.5882352941176471,
          0.5882352941176471,
          0.5882352941176471,
          0.5882352941176471,
          0.5882352941176471,
          0.5882352941176471,
          0.5882352941176471,
          0.5882352941176471,
          0.5882352941176471,
          0.5882352941176471,
          0.5882352941176471,
          0.5882352941176471,
          0.5882352941176471,
          0.5882352941176471,
          0.5882352941176471,
          0.5882352941176471,
          0.5882352941176471,
          0.5882352941176471,
          0.5882352941176471,
          0.5882352941176471,
          0.5882352941176471
         ]
        },
        {
         "marker": {
          "color": "#cccccc"
         },
         "mode": "markers",
         "name": "Infeasible Trial",
         "showlegend": false,
         "type": "scatter",
         "x": [],
         "y": []
        }
       ],
       "layout": {
        "template": {
         "data": {
          "bar": [
           {
            "error_x": {
             "color": "#2a3f5f"
            },
            "error_y": {
             "color": "#2a3f5f"
            },
            "marker": {
             "line": {
              "color": "#E5ECF6",
              "width": 0.5
             },
             "pattern": {
              "fillmode": "overlay",
              "size": 10,
              "solidity": 0.2
             }
            },
            "type": "bar"
           }
          ],
          "barpolar": [
           {
            "marker": {
             "line": {
              "color": "#E5ECF6",
              "width": 0.5
             },
             "pattern": {
              "fillmode": "overlay",
              "size": 10,
              "solidity": 0.2
             }
            },
            "type": "barpolar"
           }
          ],
          "carpet": [
           {
            "aaxis": {
             "endlinecolor": "#2a3f5f",
             "gridcolor": "white",
             "linecolor": "white",
             "minorgridcolor": "white",
             "startlinecolor": "#2a3f5f"
            },
            "baxis": {
             "endlinecolor": "#2a3f5f",
             "gridcolor": "white",
             "linecolor": "white",
             "minorgridcolor": "white",
             "startlinecolor": "#2a3f5f"
            },
            "type": "carpet"
           }
          ],
          "choropleth": [
           {
            "colorbar": {
             "outlinewidth": 0,
             "ticks": ""
            },
            "type": "choropleth"
           }
          ],
          "contour": [
           {
            "colorbar": {
             "outlinewidth": 0,
             "ticks": ""
            },
            "colorscale": [
             [
              0,
              "#0d0887"
             ],
             [
              0.1111111111111111,
              "#46039f"
             ],
             [
              0.2222222222222222,
              "#7201a8"
             ],
             [
              0.3333333333333333,
              "#9c179e"
             ],
             [
              0.4444444444444444,
              "#bd3786"
             ],
             [
              0.5555555555555556,
              "#d8576b"
             ],
             [
              0.6666666666666666,
              "#ed7953"
             ],
             [
              0.7777777777777778,
              "#fb9f3a"
             ],
             [
              0.8888888888888888,
              "#fdca26"
             ],
             [
              1,
              "#f0f921"
             ]
            ],
            "type": "contour"
           }
          ],
          "contourcarpet": [
           {
            "colorbar": {
             "outlinewidth": 0,
             "ticks": ""
            },
            "type": "contourcarpet"
           }
          ],
          "heatmap": [
           {
            "colorbar": {
             "outlinewidth": 0,
             "ticks": ""
            },
            "colorscale": [
             [
              0,
              "#0d0887"
             ],
             [
              0.1111111111111111,
              "#46039f"
             ],
             [
              0.2222222222222222,
              "#7201a8"
             ],
             [
              0.3333333333333333,
              "#9c179e"
             ],
             [
              0.4444444444444444,
              "#bd3786"
             ],
             [
              0.5555555555555556,
              "#d8576b"
             ],
             [
              0.6666666666666666,
              "#ed7953"
             ],
             [
              0.7777777777777778,
              "#fb9f3a"
             ],
             [
              0.8888888888888888,
              "#fdca26"
             ],
             [
              1,
              "#f0f921"
             ]
            ],
            "type": "heatmap"
           }
          ],
          "histogram": [
           {
            "marker": {
             "pattern": {
              "fillmode": "overlay",
              "size": 10,
              "solidity": 0.2
             }
            },
            "type": "histogram"
           }
          ],
          "histogram2d": [
           {
            "colorbar": {
             "outlinewidth": 0,
             "ticks": ""
            },
            "colorscale": [
             [
              0,
              "#0d0887"
             ],
             [
              0.1111111111111111,
              "#46039f"
             ],
             [
              0.2222222222222222,
              "#7201a8"
             ],
             [
              0.3333333333333333,
              "#9c179e"
             ],
             [
              0.4444444444444444,
              "#bd3786"
             ],
             [
              0.5555555555555556,
              "#d8576b"
             ],
             [
              0.6666666666666666,
              "#ed7953"
             ],
             [
              0.7777777777777778,
              "#fb9f3a"
             ],
             [
              0.8888888888888888,
              "#fdca26"
             ],
             [
              1,
              "#f0f921"
             ]
            ],
            "type": "histogram2d"
           }
          ],
          "histogram2dcontour": [
           {
            "colorbar": {
             "outlinewidth": 0,
             "ticks": ""
            },
            "colorscale": [
             [
              0,
              "#0d0887"
             ],
             [
              0.1111111111111111,
              "#46039f"
             ],
             [
              0.2222222222222222,
              "#7201a8"
             ],
             [
              0.3333333333333333,
              "#9c179e"
             ],
             [
              0.4444444444444444,
              "#bd3786"
             ],
             [
              0.5555555555555556,
              "#d8576b"
             ],
             [
              0.6666666666666666,
              "#ed7953"
             ],
             [
              0.7777777777777778,
              "#fb9f3a"
             ],
             [
              0.8888888888888888,
              "#fdca26"
             ],
             [
              1,
              "#f0f921"
             ]
            ],
            "type": "histogram2dcontour"
           }
          ],
          "mesh3d": [
           {
            "colorbar": {
             "outlinewidth": 0,
             "ticks": ""
            },
            "type": "mesh3d"
           }
          ],
          "parcoords": [
           {
            "line": {
             "colorbar": {
              "outlinewidth": 0,
              "ticks": ""
             }
            },
            "type": "parcoords"
           }
          ],
          "pie": [
           {
            "automargin": true,
            "type": "pie"
           }
          ],
          "scatter": [
           {
            "fillpattern": {
             "fillmode": "overlay",
             "size": 10,
             "solidity": 0.2
            },
            "type": "scatter"
           }
          ],
          "scatter3d": [
           {
            "line": {
             "colorbar": {
              "outlinewidth": 0,
              "ticks": ""
             }
            },
            "marker": {
             "colorbar": {
              "outlinewidth": 0,
              "ticks": ""
             }
            },
            "type": "scatter3d"
           }
          ],
          "scattercarpet": [
           {
            "marker": {
             "colorbar": {
              "outlinewidth": 0,
              "ticks": ""
             }
            },
            "type": "scattercarpet"
           }
          ],
          "scattergeo": [
           {
            "marker": {
             "colorbar": {
              "outlinewidth": 0,
              "ticks": ""
             }
            },
            "type": "scattergeo"
           }
          ],
          "scattergl": [
           {
            "marker": {
             "colorbar": {
              "outlinewidth": 0,
              "ticks": ""
             }
            },
            "type": "scattergl"
           }
          ],
          "scattermap": [
           {
            "marker": {
             "colorbar": {
              "outlinewidth": 0,
              "ticks": ""
             }
            },
            "type": "scattermap"
           }
          ],
          "scattermapbox": [
           {
            "marker": {
             "colorbar": {
              "outlinewidth": 0,
              "ticks": ""
             }
            },
            "type": "scattermapbox"
           }
          ],
          "scatterpolar": [
           {
            "marker": {
             "colorbar": {
              "outlinewidth": 0,
              "ticks": ""
             }
            },
            "type": "scatterpolar"
           }
          ],
          "scatterpolargl": [
           {
            "marker": {
             "colorbar": {
              "outlinewidth": 0,
              "ticks": ""
             }
            },
            "type": "scatterpolargl"
           }
          ],
          "scatterternary": [
           {
            "marker": {
             "colorbar": {
              "outlinewidth": 0,
              "ticks": ""
             }
            },
            "type": "scatterternary"
           }
          ],
          "surface": [
           {
            "colorbar": {
             "outlinewidth": 0,
             "ticks": ""
            },
            "colorscale": [
             [
              0,
              "#0d0887"
             ],
             [
              0.1111111111111111,
              "#46039f"
             ],
             [
              0.2222222222222222,
              "#7201a8"
             ],
             [
              0.3333333333333333,
              "#9c179e"
             ],
             [
              0.4444444444444444,
              "#bd3786"
             ],
             [
              0.5555555555555556,
              "#d8576b"
             ],
             [
              0.6666666666666666,
              "#ed7953"
             ],
             [
              0.7777777777777778,
              "#fb9f3a"
             ],
             [
              0.8888888888888888,
              "#fdca26"
             ],
             [
              1,
              "#f0f921"
             ]
            ],
            "type": "surface"
           }
          ],
          "table": [
           {
            "cells": {
             "fill": {
              "color": "#EBF0F8"
             },
             "line": {
              "color": "white"
             }
            },
            "header": {
             "fill": {
              "color": "#C8D4E3"
             },
             "line": {
              "color": "white"
             }
            },
            "type": "table"
           }
          ]
         },
         "layout": {
          "annotationdefaults": {
           "arrowcolor": "#2a3f5f",
           "arrowhead": 0,
           "arrowwidth": 1
          },
          "autotypenumbers": "strict",
          "coloraxis": {
           "colorbar": {
            "outlinewidth": 0,
            "ticks": ""
           }
          },
          "colorscale": {
           "diverging": [
            [
             0,
             "#8e0152"
            ],
            [
             0.1,
             "#c51b7d"
            ],
            [
             0.2,
             "#de77ae"
            ],
            [
             0.3,
             "#f1b6da"
            ],
            [
             0.4,
             "#fde0ef"
            ],
            [
             0.5,
             "#f7f7f7"
            ],
            [
             0.6,
             "#e6f5d0"
            ],
            [
             0.7,
             "#b8e186"
            ],
            [
             0.8,
             "#7fbc41"
            ],
            [
             0.9,
             "#4d9221"
            ],
            [
             1,
             "#276419"
            ]
           ],
           "sequential": [
            [
             0,
             "#0d0887"
            ],
            [
             0.1111111111111111,
             "#46039f"
            ],
            [
             0.2222222222222222,
             "#7201a8"
            ],
            [
             0.3333333333333333,
             "#9c179e"
            ],
            [
             0.4444444444444444,
             "#bd3786"
            ],
            [
             0.5555555555555556,
             "#d8576b"
            ],
            [
             0.6666666666666666,
             "#ed7953"
            ],
            [
             0.7777777777777778,
             "#fb9f3a"
            ],
            [
             0.8888888888888888,
             "#fdca26"
            ],
            [
             1,
             "#f0f921"
            ]
           ],
           "sequentialminus": [
            [
             0,
             "#0d0887"
            ],
            [
             0.1111111111111111,
             "#46039f"
            ],
            [
             0.2222222222222222,
             "#7201a8"
            ],
            [
             0.3333333333333333,
             "#9c179e"
            ],
            [
             0.4444444444444444,
             "#bd3786"
            ],
            [
             0.5555555555555556,
             "#d8576b"
            ],
            [
             0.6666666666666666,
             "#ed7953"
            ],
            [
             0.7777777777777778,
             "#fb9f3a"
            ],
            [
             0.8888888888888888,
             "#fdca26"
            ],
            [
             1,
             "#f0f921"
            ]
           ]
          },
          "colorway": [
           "#636efa",
           "#EF553B",
           "#00cc96",
           "#ab63fa",
           "#FFA15A",
           "#19d3f3",
           "#FF6692",
           "#B6E880",
           "#FF97FF",
           "#FECB52"
          ],
          "font": {
           "color": "#2a3f5f"
          },
          "geo": {
           "bgcolor": "white",
           "lakecolor": "white",
           "landcolor": "#E5ECF6",
           "showlakes": true,
           "showland": true,
           "subunitcolor": "white"
          },
          "hoverlabel": {
           "align": "left"
          },
          "hovermode": "closest",
          "mapbox": {
           "style": "light"
          },
          "paper_bgcolor": "white",
          "plot_bgcolor": "#E5ECF6",
          "polar": {
           "angularaxis": {
            "gridcolor": "white",
            "linecolor": "white",
            "ticks": ""
           },
           "bgcolor": "#E5ECF6",
           "radialaxis": {
            "gridcolor": "white",
            "linecolor": "white",
            "ticks": ""
           }
          },
          "scene": {
           "xaxis": {
            "backgroundcolor": "#E5ECF6",
            "gridcolor": "white",
            "gridwidth": 2,
            "linecolor": "white",
            "showbackground": true,
            "ticks": "",
            "zerolinecolor": "white"
           },
           "yaxis": {
            "backgroundcolor": "#E5ECF6",
            "gridcolor": "white",
            "gridwidth": 2,
            "linecolor": "white",
            "showbackground": true,
            "ticks": "",
            "zerolinecolor": "white"
           },
           "zaxis": {
            "backgroundcolor": "#E5ECF6",
            "gridcolor": "white",
            "gridwidth": 2,
            "linecolor": "white",
            "showbackground": true,
            "ticks": "",
            "zerolinecolor": "white"
           }
          },
          "shapedefaults": {
           "line": {
            "color": "#2a3f5f"
           }
          },
          "ternary": {
           "aaxis": {
            "gridcolor": "white",
            "linecolor": "white",
            "ticks": ""
           },
           "baxis": {
            "gridcolor": "white",
            "linecolor": "white",
            "ticks": ""
           },
           "bgcolor": "#E5ECF6",
           "caxis": {
            "gridcolor": "white",
            "linecolor": "white",
            "ticks": ""
           }
          },
          "title": {
           "x": 0.05
          },
          "xaxis": {
           "automargin": true,
           "gridcolor": "white",
           "linecolor": "white",
           "ticks": "",
           "title": {
            "standoff": 15
           },
           "zerolinecolor": "white",
           "zerolinewidth": 2
          },
          "yaxis": {
           "automargin": true,
           "gridcolor": "white",
           "linecolor": "white",
           "ticks": "",
           "title": {
            "standoff": 15
           },
           "zerolinecolor": "white",
           "zerolinewidth": 2
          }
         }
        },
        "title": {
         "text": "Optimization History Plot"
        },
        "xaxis": {
         "title": {
          "text": "Trial"
         }
        },
        "yaxis": {
         "title": {
          "text": "Objective Value"
         }
        }
       }
      }
     },
     "metadata": {},
     "output_type": "display_data"
    }
   ],
   "source": [
    "# Visualizar el historial de optimización\n",
    "plot_optimization_history(study)"
   ]
  },
  {
   "cell_type": "code",
   "execution_count": 9,
   "id": "f010ce44",
   "metadata": {},
   "outputs": [
    {
     "name": "stdout",
     "output_type": "stream",
     "text": [
      "Mejores hiperparámetros encontrados:\n",
      "{'learning_rate': 0.02864037599938193, 'max_depth': 2, 'max_iter': 500, 'min_samples_leaf': 16, 'l2_regularization': 0.7531256262480733, 'max_bins': 177}\n",
      "Mejor score de trend change: 0.5882\n"
     ]
    }
   ],
   "source": [
    "print(\"Mejores hiperparámetros encontrados:\")\n",
    "print(study.best_params)\n",
    "print(f\"Mejor score de trend change: {study.best_value:.4f}\")\n",
    "best_params = study.best_params"
   ]
  },
  {
   "cell_type": "code",
   "execution_count": 10,
   "id": "b7e8cca5",
   "metadata": {},
   "outputs": [],
   "source": [
    "# Guardar los mejores hiperparámetros y su valor\n",
    "history = []\n",
    "if os.path.exists(\"best_hyperparams.json\"):\n",
    "    try:\n",
    "        with open(\"best_hyperparams.json\", \"r\") as f:\n",
    "            history = json.load(f)\n",
    "    except (json.JSONDecodeError, ValueError):\n",
    "        history = []\n",
    "\n",
    "# Guardar ambos en un solo diccionario\n",
    "history.append({\n",
    "    \"params\": study.best_params,\n",
    "    \"value\": study.best_value\n",
    "})\n",
    "# Guardar el historial de hiperparámetros\n",
    "with open(\"best_hyperparams.json\", \"w\") as f:\n",
    "    json.dump(history, f, indent=2)"
   ]
  },
  {
   "cell_type": "code",
   "execution_count": 11,
   "id": "2f10bde7",
   "metadata": {},
   "outputs": [
    {
     "name": "stdout",
     "output_type": "stream",
     "text": [
      "Hiperparámetros #1: {'learning_rate': 0.1575206128209753, 'max_depth': 3, 'max_iter': 304, 'min_samples_leaf': 19, 'l2_regularization': 0.8279046766404491, 'max_bins': 128}, Valor: 0.624113475177305\n",
      "Hiperparámetros #2: {'learning_rate': 0.02864037599938193, 'max_depth': 2, 'max_iter': 500, 'min_samples_leaf': 16, 'l2_regularization': 0.7531256262480733, 'max_bins': 177}, Valor: 0.5882352941176471\n"
     ]
    }
   ],
   "source": [
    "# Cargar historial de hiperparámetros y valores\n",
    "import json\n",
    "\n",
    "with open(\"best_hyperparams.json\", \"r\") as f:\n",
    "    history = json.load(f)\n",
    "\n",
    "# Escoger el último (más reciente)\n",
    "best_params = history[-1][\"params\"]\n",
    "best_value = history[-1][\"value\"]\n",
    "\n",
    "# Para ver todos:\n",
    "for i, entry in enumerate(history):\n",
    "    print(f\"Hiperparámetros #{i+1}: {entry['params']}, Valor: {entry['value']}\")\n",
    "\n",
    "# Para escoger uno específico (por índice):\n",
    "# best_params = history[indice_que_quieras][\"params\"]\n",
    "# best_value = history[indice_que_quieras][\"value\"]"
   ]
  },
  {
   "cell_type": "code",
   "execution_count": 12,
   "id": "b3885830",
   "metadata": {},
   "outputs": [
    {
     "data": {
      "text/html": [
       "<style>#sk-container-id-1 {\n",
       "  /* Definition of color scheme common for light and dark mode */\n",
       "  --sklearn-color-text: black;\n",
       "  --sklearn-color-line: gray;\n",
       "  /* Definition of color scheme for unfitted estimators */\n",
       "  --sklearn-color-unfitted-level-0: #fff5e6;\n",
       "  --sklearn-color-unfitted-level-1: #f6e4d2;\n",
       "  --sklearn-color-unfitted-level-2: #ffe0b3;\n",
       "  --sklearn-color-unfitted-level-3: chocolate;\n",
       "  /* Definition of color scheme for fitted estimators */\n",
       "  --sklearn-color-fitted-level-0: #f0f8ff;\n",
       "  --sklearn-color-fitted-level-1: #d4ebff;\n",
       "  --sklearn-color-fitted-level-2: #b3dbfd;\n",
       "  --sklearn-color-fitted-level-3: cornflowerblue;\n",
       "\n",
       "  /* Specific color for light theme */\n",
       "  --sklearn-color-text-on-default-background: var(--sg-text-color, var(--theme-code-foreground, var(--jp-content-font-color1, black)));\n",
       "  --sklearn-color-background: var(--sg-background-color, var(--theme-background, var(--jp-layout-color0, white)));\n",
       "  --sklearn-color-border-box: var(--sg-text-color, var(--theme-code-foreground, var(--jp-content-font-color1, black)));\n",
       "  --sklearn-color-icon: #696969;\n",
       "\n",
       "  @media (prefers-color-scheme: dark) {\n",
       "    /* Redefinition of color scheme for dark theme */\n",
       "    --sklearn-color-text-on-default-background: var(--sg-text-color, var(--theme-code-foreground, var(--jp-content-font-color1, white)));\n",
       "    --sklearn-color-background: var(--sg-background-color, var(--theme-background, var(--jp-layout-color0, #111)));\n",
       "    --sklearn-color-border-box: var(--sg-text-color, var(--theme-code-foreground, var(--jp-content-font-color1, white)));\n",
       "    --sklearn-color-icon: #878787;\n",
       "  }\n",
       "}\n",
       "\n",
       "#sk-container-id-1 {\n",
       "  color: var(--sklearn-color-text);\n",
       "}\n",
       "\n",
       "#sk-container-id-1 pre {\n",
       "  padding: 0;\n",
       "}\n",
       "\n",
       "#sk-container-id-1 input.sk-hidden--visually {\n",
       "  border: 0;\n",
       "  clip: rect(1px 1px 1px 1px);\n",
       "  clip: rect(1px, 1px, 1px, 1px);\n",
       "  height: 1px;\n",
       "  margin: -1px;\n",
       "  overflow: hidden;\n",
       "  padding: 0;\n",
       "  position: absolute;\n",
       "  width: 1px;\n",
       "}\n",
       "\n",
       "#sk-container-id-1 div.sk-dashed-wrapped {\n",
       "  border: 1px dashed var(--sklearn-color-line);\n",
       "  margin: 0 0.4em 0.5em 0.4em;\n",
       "  box-sizing: border-box;\n",
       "  padding-bottom: 0.4em;\n",
       "  background-color: var(--sklearn-color-background);\n",
       "}\n",
       "\n",
       "#sk-container-id-1 div.sk-container {\n",
       "  /* jupyter's `normalize.less` sets `[hidden] { display: none; }`\n",
       "     but bootstrap.min.css set `[hidden] { display: none !important; }`\n",
       "     so we also need the `!important` here to be able to override the\n",
       "     default hidden behavior on the sphinx rendered scikit-learn.org.\n",
       "     See: https://github.com/scikit-learn/scikit-learn/issues/21755 */\n",
       "  display: inline-block !important;\n",
       "  position: relative;\n",
       "}\n",
       "\n",
       "#sk-container-id-1 div.sk-text-repr-fallback {\n",
       "  display: none;\n",
       "}\n",
       "\n",
       "div.sk-parallel-item,\n",
       "div.sk-serial,\n",
       "div.sk-item {\n",
       "  /* draw centered vertical line to link estimators */\n",
       "  background-image: linear-gradient(var(--sklearn-color-text-on-default-background), var(--sklearn-color-text-on-default-background));\n",
       "  background-size: 2px 100%;\n",
       "  background-repeat: no-repeat;\n",
       "  background-position: center center;\n",
       "}\n",
       "\n",
       "/* Parallel-specific style estimator block */\n",
       "\n",
       "#sk-container-id-1 div.sk-parallel-item::after {\n",
       "  content: \"\";\n",
       "  width: 100%;\n",
       "  border-bottom: 2px solid var(--sklearn-color-text-on-default-background);\n",
       "  flex-grow: 1;\n",
       "}\n",
       "\n",
       "#sk-container-id-1 div.sk-parallel {\n",
       "  display: flex;\n",
       "  align-items: stretch;\n",
       "  justify-content: center;\n",
       "  background-color: var(--sklearn-color-background);\n",
       "  position: relative;\n",
       "}\n",
       "\n",
       "#sk-container-id-1 div.sk-parallel-item {\n",
       "  display: flex;\n",
       "  flex-direction: column;\n",
       "}\n",
       "\n",
       "#sk-container-id-1 div.sk-parallel-item:first-child::after {\n",
       "  align-self: flex-end;\n",
       "  width: 50%;\n",
       "}\n",
       "\n",
       "#sk-container-id-1 div.sk-parallel-item:last-child::after {\n",
       "  align-self: flex-start;\n",
       "  width: 50%;\n",
       "}\n",
       "\n",
       "#sk-container-id-1 div.sk-parallel-item:only-child::after {\n",
       "  width: 0;\n",
       "}\n",
       "\n",
       "/* Serial-specific style estimator block */\n",
       "\n",
       "#sk-container-id-1 div.sk-serial {\n",
       "  display: flex;\n",
       "  flex-direction: column;\n",
       "  align-items: center;\n",
       "  background-color: var(--sklearn-color-background);\n",
       "  padding-right: 1em;\n",
       "  padding-left: 1em;\n",
       "}\n",
       "\n",
       "\n",
       "/* Toggleable style: style used for estimator/Pipeline/ColumnTransformer box that is\n",
       "clickable and can be expanded/collapsed.\n",
       "- Pipeline and ColumnTransformer use this feature and define the default style\n",
       "- Estimators will overwrite some part of the style using the `sk-estimator` class\n",
       "*/\n",
       "\n",
       "/* Pipeline and ColumnTransformer style (default) */\n",
       "\n",
       "#sk-container-id-1 div.sk-toggleable {\n",
       "  /* Default theme specific background. It is overwritten whether we have a\n",
       "  specific estimator or a Pipeline/ColumnTransformer */\n",
       "  background-color: var(--sklearn-color-background);\n",
       "}\n",
       "\n",
       "/* Toggleable label */\n",
       "#sk-container-id-1 label.sk-toggleable__label {\n",
       "  cursor: pointer;\n",
       "  display: block;\n",
       "  width: 100%;\n",
       "  margin-bottom: 0;\n",
       "  padding: 0.5em;\n",
       "  box-sizing: border-box;\n",
       "  text-align: center;\n",
       "}\n",
       "\n",
       "#sk-container-id-1 label.sk-toggleable__label-arrow:before {\n",
       "  /* Arrow on the left of the label */\n",
       "  content: \"▸\";\n",
       "  float: left;\n",
       "  margin-right: 0.25em;\n",
       "  color: var(--sklearn-color-icon);\n",
       "}\n",
       "\n",
       "#sk-container-id-1 label.sk-toggleable__label-arrow:hover:before {\n",
       "  color: var(--sklearn-color-text);\n",
       "}\n",
       "\n",
       "/* Toggleable content - dropdown */\n",
       "\n",
       "#sk-container-id-1 div.sk-toggleable__content {\n",
       "  max-height: 0;\n",
       "  max-width: 0;\n",
       "  overflow: hidden;\n",
       "  text-align: left;\n",
       "  /* unfitted */\n",
       "  background-color: var(--sklearn-color-unfitted-level-0);\n",
       "}\n",
       "\n",
       "#sk-container-id-1 div.sk-toggleable__content.fitted {\n",
       "  /* fitted */\n",
       "  background-color: var(--sklearn-color-fitted-level-0);\n",
       "}\n",
       "\n",
       "#sk-container-id-1 div.sk-toggleable__content pre {\n",
       "  margin: 0.2em;\n",
       "  border-radius: 0.25em;\n",
       "  color: var(--sklearn-color-text);\n",
       "  /* unfitted */\n",
       "  background-color: var(--sklearn-color-unfitted-level-0);\n",
       "}\n",
       "\n",
       "#sk-container-id-1 div.sk-toggleable__content.fitted pre {\n",
       "  /* unfitted */\n",
       "  background-color: var(--sklearn-color-fitted-level-0);\n",
       "}\n",
       "\n",
       "#sk-container-id-1 input.sk-toggleable__control:checked~div.sk-toggleable__content {\n",
       "  /* Expand drop-down */\n",
       "  max-height: 200px;\n",
       "  max-width: 100%;\n",
       "  overflow: auto;\n",
       "}\n",
       "\n",
       "#sk-container-id-1 input.sk-toggleable__control:checked~label.sk-toggleable__label-arrow:before {\n",
       "  content: \"▾\";\n",
       "}\n",
       "\n",
       "/* Pipeline/ColumnTransformer-specific style */\n",
       "\n",
       "#sk-container-id-1 div.sk-label input.sk-toggleable__control:checked~label.sk-toggleable__label {\n",
       "  color: var(--sklearn-color-text);\n",
       "  background-color: var(--sklearn-color-unfitted-level-2);\n",
       "}\n",
       "\n",
       "#sk-container-id-1 div.sk-label.fitted input.sk-toggleable__control:checked~label.sk-toggleable__label {\n",
       "  background-color: var(--sklearn-color-fitted-level-2);\n",
       "}\n",
       "\n",
       "/* Estimator-specific style */\n",
       "\n",
       "/* Colorize estimator box */\n",
       "#sk-container-id-1 div.sk-estimator input.sk-toggleable__control:checked~label.sk-toggleable__label {\n",
       "  /* unfitted */\n",
       "  background-color: var(--sklearn-color-unfitted-level-2);\n",
       "}\n",
       "\n",
       "#sk-container-id-1 div.sk-estimator.fitted input.sk-toggleable__control:checked~label.sk-toggleable__label {\n",
       "  /* fitted */\n",
       "  background-color: var(--sklearn-color-fitted-level-2);\n",
       "}\n",
       "\n",
       "#sk-container-id-1 div.sk-label label.sk-toggleable__label,\n",
       "#sk-container-id-1 div.sk-label label {\n",
       "  /* The background is the default theme color */\n",
       "  color: var(--sklearn-color-text-on-default-background);\n",
       "}\n",
       "\n",
       "/* On hover, darken the color of the background */\n",
       "#sk-container-id-1 div.sk-label:hover label.sk-toggleable__label {\n",
       "  color: var(--sklearn-color-text);\n",
       "  background-color: var(--sklearn-color-unfitted-level-2);\n",
       "}\n",
       "\n",
       "/* Label box, darken color on hover, fitted */\n",
       "#sk-container-id-1 div.sk-label.fitted:hover label.sk-toggleable__label.fitted {\n",
       "  color: var(--sklearn-color-text);\n",
       "  background-color: var(--sklearn-color-fitted-level-2);\n",
       "}\n",
       "\n",
       "/* Estimator label */\n",
       "\n",
       "#sk-container-id-1 div.sk-label label {\n",
       "  font-family: monospace;\n",
       "  font-weight: bold;\n",
       "  display: inline-block;\n",
       "  line-height: 1.2em;\n",
       "}\n",
       "\n",
       "#sk-container-id-1 div.sk-label-container {\n",
       "  text-align: center;\n",
       "}\n",
       "\n",
       "/* Estimator-specific */\n",
       "#sk-container-id-1 div.sk-estimator {\n",
       "  font-family: monospace;\n",
       "  border: 1px dotted var(--sklearn-color-border-box);\n",
       "  border-radius: 0.25em;\n",
       "  box-sizing: border-box;\n",
       "  margin-bottom: 0.5em;\n",
       "  /* unfitted */\n",
       "  background-color: var(--sklearn-color-unfitted-level-0);\n",
       "}\n",
       "\n",
       "#sk-container-id-1 div.sk-estimator.fitted {\n",
       "  /* fitted */\n",
       "  background-color: var(--sklearn-color-fitted-level-0);\n",
       "}\n",
       "\n",
       "/* on hover */\n",
       "#sk-container-id-1 div.sk-estimator:hover {\n",
       "  /* unfitted */\n",
       "  background-color: var(--sklearn-color-unfitted-level-2);\n",
       "}\n",
       "\n",
       "#sk-container-id-1 div.sk-estimator.fitted:hover {\n",
       "  /* fitted */\n",
       "  background-color: var(--sklearn-color-fitted-level-2);\n",
       "}\n",
       "\n",
       "/* Specification for estimator info (e.g. \"i\" and \"?\") */\n",
       "\n",
       "/* Common style for \"i\" and \"?\" */\n",
       "\n",
       ".sk-estimator-doc-link,\n",
       "a:link.sk-estimator-doc-link,\n",
       "a:visited.sk-estimator-doc-link {\n",
       "  float: right;\n",
       "  font-size: smaller;\n",
       "  line-height: 1em;\n",
       "  font-family: monospace;\n",
       "  background-color: var(--sklearn-color-background);\n",
       "  border-radius: 1em;\n",
       "  height: 1em;\n",
       "  width: 1em;\n",
       "  text-decoration: none !important;\n",
       "  margin-left: 1ex;\n",
       "  /* unfitted */\n",
       "  border: var(--sklearn-color-unfitted-level-1) 1pt solid;\n",
       "  color: var(--sklearn-color-unfitted-level-1);\n",
       "}\n",
       "\n",
       ".sk-estimator-doc-link.fitted,\n",
       "a:link.sk-estimator-doc-link.fitted,\n",
       "a:visited.sk-estimator-doc-link.fitted {\n",
       "  /* fitted */\n",
       "  border: var(--sklearn-color-fitted-level-1) 1pt solid;\n",
       "  color: var(--sklearn-color-fitted-level-1);\n",
       "}\n",
       "\n",
       "/* On hover */\n",
       "div.sk-estimator:hover .sk-estimator-doc-link:hover,\n",
       ".sk-estimator-doc-link:hover,\n",
       "div.sk-label-container:hover .sk-estimator-doc-link:hover,\n",
       ".sk-estimator-doc-link:hover {\n",
       "  /* unfitted */\n",
       "  background-color: var(--sklearn-color-unfitted-level-3);\n",
       "  color: var(--sklearn-color-background);\n",
       "  text-decoration: none;\n",
       "}\n",
       "\n",
       "div.sk-estimator.fitted:hover .sk-estimator-doc-link.fitted:hover,\n",
       ".sk-estimator-doc-link.fitted:hover,\n",
       "div.sk-label-container:hover .sk-estimator-doc-link.fitted:hover,\n",
       ".sk-estimator-doc-link.fitted:hover {\n",
       "  /* fitted */\n",
       "  background-color: var(--sklearn-color-fitted-level-3);\n",
       "  color: var(--sklearn-color-background);\n",
       "  text-decoration: none;\n",
       "}\n",
       "\n",
       "/* Span, style for the box shown on hovering the info icon */\n",
       ".sk-estimator-doc-link span {\n",
       "  display: none;\n",
       "  z-index: 9999;\n",
       "  position: relative;\n",
       "  font-weight: normal;\n",
       "  right: .2ex;\n",
       "  padding: .5ex;\n",
       "  margin: .5ex;\n",
       "  width: min-content;\n",
       "  min-width: 20ex;\n",
       "  max-width: 50ex;\n",
       "  color: var(--sklearn-color-text);\n",
       "  box-shadow: 2pt 2pt 4pt #999;\n",
       "  /* unfitted */\n",
       "  background: var(--sklearn-color-unfitted-level-0);\n",
       "  border: .5pt solid var(--sklearn-color-unfitted-level-3);\n",
       "}\n",
       "\n",
       ".sk-estimator-doc-link.fitted span {\n",
       "  /* fitted */\n",
       "  background: var(--sklearn-color-fitted-level-0);\n",
       "  border: var(--sklearn-color-fitted-level-3);\n",
       "}\n",
       "\n",
       ".sk-estimator-doc-link:hover span {\n",
       "  display: block;\n",
       "}\n",
       "\n",
       "/* \"?\"-specific style due to the `<a>` HTML tag */\n",
       "\n",
       "#sk-container-id-1 a.estimator_doc_link {\n",
       "  float: right;\n",
       "  font-size: 1rem;\n",
       "  line-height: 1em;\n",
       "  font-family: monospace;\n",
       "  background-color: var(--sklearn-color-background);\n",
       "  border-radius: 1rem;\n",
       "  height: 1rem;\n",
       "  width: 1rem;\n",
       "  text-decoration: none;\n",
       "  /* unfitted */\n",
       "  color: var(--sklearn-color-unfitted-level-1);\n",
       "  border: var(--sklearn-color-unfitted-level-1) 1pt solid;\n",
       "}\n",
       "\n",
       "#sk-container-id-1 a.estimator_doc_link.fitted {\n",
       "  /* fitted */\n",
       "  border: var(--sklearn-color-fitted-level-1) 1pt solid;\n",
       "  color: var(--sklearn-color-fitted-level-1);\n",
       "}\n",
       "\n",
       "/* On hover */\n",
       "#sk-container-id-1 a.estimator_doc_link:hover {\n",
       "  /* unfitted */\n",
       "  background-color: var(--sklearn-color-unfitted-level-3);\n",
       "  color: var(--sklearn-color-background);\n",
       "  text-decoration: none;\n",
       "}\n",
       "\n",
       "#sk-container-id-1 a.estimator_doc_link.fitted:hover {\n",
       "  /* fitted */\n",
       "  background-color: var(--sklearn-color-fitted-level-3);\n",
       "}\n",
       "</style><div id=\"sk-container-id-1\" class=\"sk-top-container\"><div class=\"sk-text-repr-fallback\"><pre>HistGradientBoostingClassifier(l2_regularization=0.7531256262480733,\n",
       "                               learning_rate=0.02864037599938193, max_bins=177,\n",
       "                               max_depth=2, max_iter=500, min_samples_leaf=16,\n",
       "                               random_state=1234)</pre><b>In a Jupyter environment, please rerun this cell to show the HTML representation or trust the notebook. <br />On GitHub, the HTML representation is unable to render, please try loading this page with nbviewer.org.</b></div><div class=\"sk-container\" hidden><div class=\"sk-item\"><div class=\"sk-estimator fitted sk-toggleable\"><input class=\"sk-toggleable__control sk-hidden--visually\" id=\"sk-estimator-id-1\" type=\"checkbox\" checked><label for=\"sk-estimator-id-1\" class=\"sk-toggleable__label fitted sk-toggleable__label-arrow fitted\">&nbsp;&nbsp;HistGradientBoostingClassifier<a class=\"sk-estimator-doc-link fitted\" rel=\"noreferrer\" target=\"_blank\" href=\"https://scikit-learn.org/1.4/modules/generated/sklearn.ensemble.HistGradientBoostingClassifier.html\">?<span>Documentation for HistGradientBoostingClassifier</span></a><span class=\"sk-estimator-doc-link fitted\">i<span>Fitted</span></span></label><div class=\"sk-toggleable__content fitted\"><pre>HistGradientBoostingClassifier(l2_regularization=0.7531256262480733,\n",
       "                               learning_rate=0.02864037599938193, max_bins=177,\n",
       "                               max_depth=2, max_iter=500, min_samples_leaf=16,\n",
       "                               random_state=1234)</pre></div> </div></div></div></div>"
      ],
      "text/plain": [
       "HistGradientBoostingClassifier(l2_regularization=0.7531256262480733,\n",
       "                               learning_rate=0.02864037599938193, max_bins=177,\n",
       "                               max_depth=2, max_iter=500, min_samples_leaf=16,\n",
       "                               random_state=1234)"
      ]
     },
     "execution_count": 12,
     "metadata": {},
     "output_type": "execute_result"
    }
   ],
   "source": [
    "# Entrenar modelo final con los mejores hiperparámetros\n",
    "set_seeds(SEED)\n",
    "final_model = HistGradientBoostingClassifier(\n",
    "    learning_rate=best_params[\"learning_rate\"],\n",
    "    max_depth=best_params[\"max_depth\"],\n",
    "    max_iter=best_params[\"max_iter\"],\n",
    "    min_samples_leaf=best_params[\"min_samples_leaf\"],\n",
    "    l2_regularization=best_params[\"l2_regularization\"],\n",
    "    max_bins=best_params[\"max_bins\"],\n",
    "    random_state=SEED\n",
    ")\n",
    "final_model.fit(X_train, y_train)"
   ]
  },
  {
   "cell_type": "code",
   "execution_count": 13,
   "id": "92ae84b5",
   "metadata": {},
   "outputs": [
    {
     "name": "stdout",
     "output_type": "stream",
     "text": [
      "\n",
      "HistGradientBoostingClassifier Trend Changes Score:\n",
      "               precision    recall  f1-score   support\n",
      "\n",
      "       False     0.8528    0.8995    0.8756       219\n",
      "        True     0.6452    0.5405    0.5882        74\n",
      "\n",
      "    accuracy                         0.8089       293\n",
      "   macro avg     0.7490    0.7200    0.7319       293\n",
      "weighted avg     0.8004    0.8089    0.8030       293\n",
      "\n"
     ]
    }
   ],
   "source": [
    "# Predicciones con el modelo final\n",
    "y_val_pred = final_model.predict(X_val)\n",
    "print(\"\\nHistGradientBoostingClassifier Trend Changes Score:\\n\", trend_changes_score(y_val, y_val_pred))"
   ]
  },
  {
   "cell_type": "code",
   "execution_count": 14,
   "id": "220d27e4",
   "metadata": {},
   "outputs": [
    {
     "name": "stdout",
     "output_type": "stream",
     "text": [
      "Gradient Boosting Classifier Report:\n",
      "               precision    recall  f1-score   support\n",
      "\n",
      "          -1     0.7545    0.9022    0.8218        92\n",
      "           0     0.2353    0.0816    0.1212        49\n",
      "           1     0.8024    0.8758    0.8375       153\n",
      "\n",
      "    accuracy                         0.7517       294\n",
      "   macro avg     0.5974    0.6199    0.5935       294\n",
      "weighted avg     0.6929    0.7517    0.7132       294\n",
      "\n",
      "Balanced accuracy: 0.6198745198562516\n"
     ]
    }
   ],
   "source": [
    "# Reporte completo: precisión, recall y F1 por clase\n",
    "report = classification_report(y_val, y_val_pred, digits=4)\n",
    "print(\"Gradient Boosting Classifier Report:\\n\", report)\n",
    "print(\"Balanced accuracy:\", balanced_accuracy_score(y_val, y_val_pred))"
   ]
  },
  {
   "cell_type": "code",
   "execution_count": 15,
   "id": "00208aad",
   "metadata": {},
   "outputs": [],
   "source": [
    "# --- Exportar y Comparar Métricas de Modelos (Validación) ---\n",
    "\n",
    "# 1. Definir el nombre del modelo actual y el archivo de salida\n",
    "output_file = '../../../score_models/model_comparison_metrics.csv'\n",
    "\n",
    "# 2. Calcular el reporte de clasificación estándar\n",
    "report_dict = classification_report(y_val, y_val_pred, output_dict=True, zero_division=0)\n",
    "precision = report_dict['macro avg']['precision']\n",
    "recall = report_dict['macro avg']['recall']\n",
    "f1_score = report_dict['macro avg']['f1-score']\n",
    "\n",
    "\n",
    "# 3. Calcular el reporte de cambio de tendencia\n",
    "report = get_trend_changes_report_dict(y_val, y_val_pred)\n",
    "trend_change_precision = report['True']['precision']\n",
    "trend_change_recall = report['True']['recall']\n",
    "trend_change_f1_score = report['True']['f1-score']\n",
    "\n",
    "# 4. Organizar las nuevas métricas\n",
    "new_metrics = {\n",
    "    'precision': precision,\n",
    "    'recall': recall,\n",
    "    'f1_score': f1_score,\n",
    "    'trend_change_precision': trend_change_precision,\n",
    "    'trend_change_recall': trend_change_recall,\n",
    "    'trend_change_f1_score': trend_change_f1_score,\n",
    "    \"optuna_duration_sec\": opt_duration_sec,\n",
    "    \"n_trials\": n_trials_run\n",
    "}\n",
    "\n",
    "# 5. Cargar, actualizar y guardar el DataFrame de comparación\n",
    "try:\n",
    "    # Intentar cargar el archivo existente\n",
    "    comparison_df = pd.read_csv(output_file, index_col='model')\n",
    "    # Si existe, actualizar o añadir la fila para el modelo actual\n",
    "    comparison_df.loc[model_name] = new_metrics\n",
    "except FileNotFoundError:\n",
    "    # Si no existe, crear un DataFrame nuevo directamente con los datos actuales\n",
    "    comparison_df = pd.DataFrame([new_metrics], index=[model_name])\n",
    "\n",
    "# Guardar el DataFrame actualizado en el CSV\n",
    "comparison_df.to_csv(output_file, index_label='model')"
   ]
  }
 ],
 "metadata": {
  "kernelspec": {
   "display_name": "tf_venv2 (3.10.12)",
   "language": "python",
   "name": "python3"
  },
  "language_info": {
   "codemirror_mode": {
    "name": "ipython",
    "version": 3
   },
   "file_extension": ".py",
   "mimetype": "text/x-python",
   "name": "python",
   "nbconvert_exporter": "python",
   "pygments_lexer": "ipython3",
   "version": "3.10.12"
  }
 },
 "nbformat": 4,
 "nbformat_minor": 5
}
