{
 "cells": [
  {
   "cell_type": "code",
   "execution_count": 1,
   "id": "d5361d87",
   "metadata": {},
   "outputs": [
    {
     "name": "stderr",
     "output_type": "stream",
     "text": [
      "/home/toyotx22/bitcoin_sentiment_forecaster/tf_venv2/lib/python3.10/site-packages/tqdm/auto.py:21: TqdmWarning: IProgress not found. Please update jupyter and ipywidgets. See https://ipywidgets.readthedocs.io/en/stable/user_install.html\n",
      "  from .autonotebook import tqdm as notebook_tqdm\n"
     ]
    }
   ],
   "source": [
    "import numpy as np\n",
    "import random\n",
    "import optuna\n",
    "import pandas as pd\n",
    "from sklearn.ensemble import HistGradientBoostingClassifier\n",
    "from sklearn.metrics import classification_report, balanced_accuracy_score\n",
    "import json\n",
    "import os\n",
    "from optuna.visualization import plot_optimization_history\n",
    "import matplotlib.pyplot as plt"
   ]
  },
  {
   "cell_type": "code",
   "execution_count": 2,
   "id": "30bf1500",
   "metadata": {},
   "outputs": [],
   "source": [
    "SEED = 1234\n",
    " # Se puede cambiar a \"precision\" o \"recall\" o \"f1-score\"\n",
    "SCORE = \"f1-score\""
   ]
  },
  {
   "cell_type": "code",
   "execution_count": 3,
   "id": "c4f4c54e",
   "metadata": {},
   "outputs": [],
   "source": [
    "def set_seeds(seed):\n",
    "    random.seed(seed)\n",
    "    np.random.seed(seed)"
   ]
  },
  {
   "cell_type": "code",
   "execution_count": 4,
   "id": "bf2d7e99",
   "metadata": {},
   "outputs": [],
   "source": [
    "def get_trend_changes_report_dict(y_test: np.array, y_pred: np.array) -> float:\n",
    "    \"\"\"\n",
    "    Calculate the trend changes score based on the test and predicted values.\n",
    "    \n",
    "    Args:\n",
    "        y_test (np.array): True labels.\n",
    "        y_pred (np.array): Predicted labels.\n",
    "        \n",
    "    Returns:\n",
    "        float: The trend changes score.\n",
    "    \"\"\"\n",
    "    y_df = pd.DataFrame([y_test, y_pred]).T\n",
    "    y_df.columns = [\"y_test\", \"y_pred\"]\n",
    "    y_df[\"y_test_shifted\"] = y_df[\"y_test\"].shift(-1)\n",
    "    y_df[\"is_changed_trend_test\"] = y_df[\"y_test\"] != y_df[\"y_test_shifted\"]\n",
    "    y_df[\"y_predict_shifted\"] = y_df[\"y_pred\"].shift(-1)\n",
    "    y_df[\"is_changed_trend_predict\"] = y_df[\"y_pred\"] != y_df[\"y_predict_shifted\"]\n",
    "    return classification_report(\n",
    "        y_df[\"is_changed_trend_test\"][:-1], \n",
    "        y_df[\"is_changed_trend_predict\"][:-1], \n",
    "        digits=4,\n",
    "        output_dict=True,\n",
    "        zero_division=0\n",
    "    )\n",
    "\n",
    "def trend_changes_score(y_test: np.array, y_pred: np.array) -> float:\n",
    "    \"\"\"\n",
    "    Calculate the trend changes score based on the test and predicted values.\n",
    "    \n",
    "    Args:\n",
    "        y_test (np.array): True labels.\n",
    "        y_pred (np.array): Predicted labels.\n",
    "        \n",
    "    Returns:\n",
    "        float: The trend changes score.\n",
    "    \"\"\"\n",
    "    y_df = pd.DataFrame([y_test, y_pred]).T\n",
    "    y_df.columns = [\"y_test\", \"y_pred\"]\n",
    "    y_df[\"y_test_shifted\"] = y_df[\"y_test\"].shift(-1)\n",
    "    y_df[\"is_changed_trend_test\"] = y_df[\"y_test\"] != y_df[\"y_test_shifted\"]\n",
    "    y_df[\"y_predict_shifted\"] = y_df[\"y_pred\"].shift(-1)\n",
    "    y_df[\"is_changed_trend_predict\"] = y_df[\"y_pred\"] != y_df[\"y_predict_shifted\"]\n",
    "    return classification_report(y_df[\"is_changed_trend_test\"][:-1], y_df[\"is_changed_trend_predict\"][:-1], digits=4)\n",
    "\n",
    "def trend_changes_true(y_test: np.array, y_pred: np.array) -> float:\n",
    "    \"\"\"\n",
    "    Calculate the trend changes score based on the test and predicted values.\n",
    "    \n",
    "    Args:\n",
    "        y_test (np.array): True labels.\n",
    "        y_pred (np.array): Predicted labels.\n",
    "        \n",
    "    Returns:\n",
    "        float: The trend changes score.\n",
    "    \"\"\"\n",
    "    y_df = pd.DataFrame([y_test, y_pred]).T\n",
    "    y_df.columns = [\"y_test\", \"y_pred\"]\n",
    "    y_df[\"y_test_shifted\"] = y_df[\"y_test\"].shift(-1)\n",
    "    y_df[\"is_changed_trend_test\"] = y_df[\"y_test\"] != y_df[\"y_test_shifted\"]\n",
    "    y_df[\"y_predict_shifted\"] = y_df[\"y_pred\"].shift(-1)\n",
    "    y_df[\"is_changed_trend_predict\"] = y_df[\"y_pred\"] != y_df[\"y_predict_shifted\"]\n",
    "    report = classification_report(\n",
    "        y_df[\"is_changed_trend_test\"][:-1],\n",
    "        y_df[\"is_changed_trend_predict\"][:-1],\n",
    "        output_dict=True,\n",
    "        zero_division=0\n",
    "    )\n",
    "    return report[\"True\"][SCORE]"
   ]
  },
  {
   "cell_type": "code",
   "execution_count": 13,
   "id": "abb36f1f",
   "metadata": {},
   "outputs": [],
   "source": [
    "# Cargar datos\n",
    "train = pd.read_csv(\"../../../data/post_cleaning/training_set.csv\", parse_dates=[\"date\"])\n",
    "val = pd.read_csv(\"../../../data/post_cleaning/validation_set.csv\", parse_dates=[\"date\"])\n",
    "test_set = pd.read_csv(\"../../../data/post_cleaning/test_set.csv\", parse_dates=['date'])\n",
    "X_train = train.drop(columns=[\"date\", \"target_trend\"]).values\n",
    "y_train = train[\"target_trend\"].values\n",
    "X_val = val.drop(columns=[\"date\", \"target_trend\"]).values\n",
    "y_val = val[\"target_trend\"].values\n",
    "X_test = test_set.drop(columns=[\"date\", \"target_trend\"]).values\n",
    "y_test = test_set[\"target_trend\"].values"
   ]
  },
  {
   "cell_type": "code",
   "execution_count": 14,
   "id": "4fad55b9",
   "metadata": {},
   "outputs": [],
   "source": [
    "def objective(trial):\n",
    "    set_seeds(SEED)\n",
    "    learning_rate = trial.suggest_float(\"learning_rate\", 0.01, 0.2, log=True)\n",
    "    max_depth = trial.suggest_int(\"max_depth\", 2, 16)\n",
    "    max_iter = trial.suggest_int(\"max_iter\", 100, 500)\n",
    "    min_samples_leaf = trial.suggest_int(\"min_samples_leaf\", 1, 20)\n",
    "    l2_regularization = trial.suggest_float(\"l2_regularization\", 0.0, 2.0)\n",
    "    max_bins = trial.suggest_int(\"max_bins\", 128, 255)\n",
    "\n",
    "    model = HistGradientBoostingClassifier(\n",
    "        learning_rate=learning_rate,\n",
    "        max_depth=max_depth,\n",
    "        max_iter=max_iter,\n",
    "        min_samples_leaf=min_samples_leaf,\n",
    "        l2_regularization=l2_regularization,\n",
    "        max_bins=max_bins,\n",
    "        random_state=SEED\n",
    "    )\n",
    "    model.fit(X_train, y_train)\n",
    "    y_pred = model.predict(X_val)\n",
    "    score = trend_changes_true(y_val, y_pred)\n",
    "    return score"
   ]
  },
  {
   "cell_type": "code",
   "execution_count": 15,
   "id": "1308680c",
   "metadata": {},
   "outputs": [
    {
     "name": "stderr",
     "output_type": "stream",
     "text": [
      "[I 2025-08-24 15:11:26,756] A new study created in memory with name: no-name-09f4f877-3664-49fd-9ccc-57f4e19f2c91\n",
      "[I 2025-08-24 15:11:28,849] Trial 0 finished with value: 0.3561643835616438 and parameters: {'learning_rate': 0.01774894524799066, 'max_depth': 11, 'max_iter': 275, 'min_samples_leaf': 16, 'l2_regularization': 1.559951616237607, 'max_bins': 162}. Best is trial 0 with value: 0.3561643835616438.\n",
      "[I 2025-08-24 15:11:32,725] Trial 1 finished with value: 0.273972602739726 and parameters: {'learning_rate': 0.022892239910869177, 'max_depth': 14, 'max_iter': 484, 'min_samples_leaf': 18, 'l2_regularization': 0.7156345399157333, 'max_bins': 192}. Best is trial 0 with value: 0.3561643835616438.\n",
      "[I 2025-08-24 15:11:34,760] Trial 2 finished with value: 0.3380281690140845 and parameters: {'learning_rate': 0.07748288441159408, 'max_depth': 12, 'max_iter': 248, 'min_samples_leaf': 12, 'l2_regularization': 1.0061663306156194, 'max_bins': 129}. Best is trial 0 with value: 0.3561643835616438.\n",
      "[I 2025-08-24 15:11:36,911] Trial 3 finished with value: 0.21621621621621623 and parameters: {'learning_rate': 0.10126762300587276, 'max_depth': 15, 'max_iter': 246, 'min_samples_leaf': 13, 'l2_regularization': 0.1507624832859531, 'max_bins': 175}. Best is trial 0 with value: 0.3561643835616438.\n",
      "[I 2025-08-24 15:11:39,165] Trial 4 finished with value: 0.3055555555555556 and parameters: {'learning_rate': 0.16369795832561723, 'max_depth': 11, 'max_iter': 259, 'min_samples_leaf': 16, 'l2_regularization': 0.6336722443377425, 'max_bins': 200}. Best is trial 0 with value: 0.3561643835616438.\n",
      "[I 2025-08-24 15:11:40,867] Trial 5 finished with value: 0.22535211267605634 and parameters: {'learning_rate': 0.13513280879844683, 'max_depth': 8, 'max_iter': 421, 'min_samples_leaf': 3, 'l2_regularization': 1.4085219422366708, 'max_bins': 218}. Best is trial 0 with value: 0.3561643835616438.\n",
      "[I 2025-08-24 15:11:42,984] Trial 6 finished with value: 0.2857142857142857 and parameters: {'learning_rate': 0.019259947204382573, 'max_depth': 15, 'max_iter': 277, 'min_samples_leaf': 19, 'l2_regularization': 0.1196184455597038, 'max_bins': 151}. Best is trial 0 with value: 0.3561643835616438.\n",
      "[I 2025-08-24 15:11:45,883] Trial 7 finished with value: 0.2222222222222222 and parameters: {'learning_rate': 0.011524196057181964, 'max_depth': 12, 'max_iter': 338, 'min_samples_leaf': 11, 'l2_regularization': 0.08664812538960698, 'max_bins': 199}. Best is trial 0 with value: 0.3561643835616438.\n",
      "[I 2025-08-24 15:11:47,063] Trial 8 finished with value: 0.3188405797101449 and parameters: {'learning_rate': 0.026847789642131727, 'max_depth': 9, 'max_iter': 144, 'min_samples_leaf': 13, 'l2_regularization': 1.1318892861010628, 'max_bins': 128}. Best is trial 0 with value: 0.3561643835616438.\n",
      "[I 2025-08-24 15:11:50,394] Trial 9 finished with value: 0.29850746268656714 and parameters: {'learning_rate': 0.06357848628088529, 'max_depth': 15, 'max_iter': 417, 'min_samples_leaf': 20, 'l2_regularization': 1.917603524305733, 'max_bins': 229}. Best is trial 0 with value: 0.3561643835616438.\n",
      "[I 2025-08-24 15:11:50,838] Trial 10 finished with value: 0.24615384615384617 and parameters: {'learning_rate': 0.03870293412594513, 'max_depth': 4, 'max_iter': 106, 'min_samples_leaf': 5, 'l2_regularization': 1.974816168733665, 'max_bins': 249}. Best is trial 0 with value: 0.3561643835616438.\n",
      "[I 2025-08-24 15:11:52,380] Trial 11 finished with value: 0.2898550724637681 and parameters: {'learning_rate': 0.06305991879259483, 'max_depth': 6, 'max_iter': 198, 'min_samples_leaf': 7, 'l2_regularization': 1.570035890207075, 'max_bins': 130}. Best is trial 0 with value: 0.3561643835616438.\n",
      "[I 2025-08-24 15:11:55,341] Trial 12 finished with value: 0.2898550724637681 and parameters: {'learning_rate': 0.010125944064064495, 'max_depth': 11, 'max_iter': 330, 'min_samples_leaf': 9, 'l2_regularization': 1.066582213732926, 'max_bins': 161}. Best is trial 0 with value: 0.3561643835616438.\n",
      "[I 2025-08-24 15:11:57,198] Trial 13 finished with value: 0.2465753424657534 and parameters: {'learning_rate': 0.0781283541446528, 'max_depth': 12, 'max_iter': 211, 'min_samples_leaf': 14, 'l2_regularization': 1.5061118090704404, 'max_bins': 149}. Best is trial 0 with value: 0.3561643835616438.\n",
      "[I 2025-08-24 15:11:59,960] Trial 14 finished with value: 0.2222222222222222 and parameters: {'learning_rate': 0.040139734212763775, 'max_depth': 7, 'max_iter': 350, 'min_samples_leaf': 16, 'l2_regularization': 0.8392551628861447, 'max_bins': 169}. Best is trial 0 with value: 0.3561643835616438.\n",
      "[I 2025-08-24 15:12:00,303] Trial 15 finished with value: 0.24615384615384617 and parameters: {'learning_rate': 0.01599387095359402, 'max_depth': 2, 'max_iter': 202, 'min_samples_leaf': 10, 'l2_regularization': 0.4846143620059038, 'max_bins': 143}. Best is trial 0 with value: 0.3561643835616438.\n",
      "[I 2025-08-24 15:12:02,652] Trial 16 finished with value: 0.26865671641791045 and parameters: {'learning_rate': 0.04920793271570441, 'max_depth': 10, 'max_iter': 304, 'min_samples_leaf': 15, 'l2_regularization': 1.2668060064500386, 'max_bins': 177}. Best is trial 0 with value: 0.3561643835616438.\n",
      "[I 2025-08-24 15:12:05,923] Trial 17 finished with value: 0.2535211267605634 and parameters: {'learning_rate': 0.03118800442308393, 'max_depth': 13, 'max_iter': 380, 'min_samples_leaf': 11, 'l2_regularization': 1.643455176274514, 'max_bins': 140}. Best is trial 0 with value: 0.3561643835616438.\n",
      "[I 2025-08-24 15:12:07,606] Trial 18 finished with value: 0.3333333333333333 and parameters: {'learning_rate': 0.015270579551802811, 'max_depth': 9, 'max_iter': 159, 'min_samples_leaf': 1, 'l2_regularization': 1.790902362441502, 'max_bins': 162}. Best is trial 0 with value: 0.3561643835616438.\n",
      "[I 2025-08-24 15:12:09,567] Trial 19 finished with value: 0.2898550724637681 and parameters: {'learning_rate': 0.10977557012616372, 'max_depth': 16, 'max_iter': 241, 'min_samples_leaf': 17, 'l2_regularization': 1.262018334647646, 'max_bins': 183}. Best is trial 0 with value: 0.3561643835616438.\n",
      "[I 2025-08-24 15:12:11,291] Trial 20 finished with value: 0.2318840579710145 and parameters: {'learning_rate': 0.1877821053745863, 'max_depth': 5, 'max_iter': 296, 'min_samples_leaf': 8, 'l2_regularization': 0.8996401915385017, 'max_bins': 159}. Best is trial 0 with value: 0.3561643835616438.\n",
      "[I 2025-08-24 15:12:10,343] Trial 21 finished with value: 0.34782608695652173 and parameters: {'learning_rate': 0.014587040159543142, 'max_depth': 9, 'max_iter': 149, 'min_samples_leaf': 1, 'l2_regularization': 1.6797666739114536, 'max_bins': 163}. Best is trial 0 with value: 0.3561643835616438.\n",
      "[I 2025-08-24 15:12:11,703] Trial 22 finished with value: 0.30985915492957744 and parameters: {'learning_rate': 0.014772290291827321, 'max_depth': 10, 'max_iter': 153, 'min_samples_leaf': 6, 'l2_regularization': 1.7189064577559046, 'max_bins': 141}. Best is trial 0 with value: 0.3561643835616438.\n",
      "[I 2025-08-24 15:12:12,772] Trial 23 finished with value: 0.3611111111111111 and parameters: {'learning_rate': 0.019961317333336014, 'max_depth': 13, 'max_iter': 107, 'min_samples_leaf': 1, 'l2_regularization': 1.374475936808888, 'max_bins': 185}. Best is trial 23 with value: 0.3611111111111111.\n",
      "[I 2025-08-24 15:12:13,835] Trial 24 finished with value: 0.39436619718309857 and parameters: {'learning_rate': 0.020346387262554215, 'max_depth': 13, 'max_iter': 102, 'min_samples_leaf': 1, 'l2_regularization': 1.4083954751731032, 'max_bins': 186}. Best is trial 24 with value: 0.39436619718309857.\n",
      "[I 2025-08-24 15:12:14,942] Trial 25 finished with value: 0.34782608695652173 and parameters: {'learning_rate': 0.02090211109973418, 'max_depth': 14, 'max_iter': 110, 'min_samples_leaf': 3, 'l2_regularization': 1.3433500481237206, 'max_bins': 207}. Best is trial 24 with value: 0.39436619718309857.\n",
      "[I 2025-08-24 15:12:16,089] Trial 26 finished with value: 0.3142857142857143 and parameters: {'learning_rate': 0.0308627313283172, 'max_depth': 13, 'max_iter': 121, 'min_samples_leaf': 4, 'l2_regularization': 1.450754104320035, 'max_bins': 186}. Best is trial 24 with value: 0.39436619718309857.\n",
      "[I 2025-08-24 15:12:18,081] Trial 27 finished with value: 0.3684210526315789 and parameters: {'learning_rate': 0.018486914308626846, 'max_depth': 13, 'max_iter': 187, 'min_samples_leaf': 1, 'l2_regularization': 1.1543586063132274, 'max_bins': 212}. Best is trial 24 with value: 0.39436619718309857.\n",
      "[I 2025-08-24 15:12:19,902] Trial 28 finished with value: 0.37681159420289856 and parameters: {'learning_rate': 0.02472114443122966, 'max_depth': 16, 'max_iter': 179, 'min_samples_leaf': 2, 'l2_regularization': 1.168079599652995, 'max_bins': 217}. Best is trial 24 with value: 0.39436619718309857.\n",
      "[I 2025-08-24 15:12:21,986] Trial 29 finished with value: 0.2608695652173913 and parameters: {'learning_rate': 0.02775211762990573, 'max_depth': 16, 'max_iter': 181, 'min_samples_leaf': 3, 'l2_regularization': 1.1653389803305998, 'max_bins': 229}. Best is trial 24 with value: 0.39436619718309857.\n",
      "[I 2025-08-24 15:12:23,786] Trial 30 finished with value: 0.35294117647058826 and parameters: {'learning_rate': 0.024181364770752386, 'max_depth': 14, 'max_iter': 177, 'min_samples_leaf': 2, 'l2_regularization': 0.881866542889272, 'max_bins': 215}. Best is trial 24 with value: 0.39436619718309857.\n",
      "[I 2025-08-24 15:12:25,096] Trial 31 finished with value: 0.3783783783783784 and parameters: {'learning_rate': 0.018149062220950873, 'max_depth': 13, 'max_iter': 123, 'min_samples_leaf': 1, 'l2_regularization': 1.2269056408761496, 'max_bins': 220}. Best is trial 24 with value: 0.39436619718309857.\n",
      "[I 2025-08-24 15:12:26,378] Trial 32 finished with value: 0.3380281690140845 and parameters: {'learning_rate': 0.012072325975207899, 'max_depth': 16, 'max_iter': 130, 'min_samples_leaf': 5, 'l2_regularization': 1.2144185303093349, 'max_bins': 233}. Best is trial 24 with value: 0.39436619718309857.\n",
      "[I 2025-08-24 15:12:28,687] Trial 33 finished with value: 0.2857142857142857 and parameters: {'learning_rate': 0.017255662542184375, 'max_depth': 14, 'max_iter': 214, 'min_samples_leaf': 2, 'l2_regularization': 1.0021308497822374, 'max_bins': 218}. Best is trial 24 with value: 0.39436619718309857.\n",
      "[I 2025-08-24 15:12:30,630] Trial 34 finished with value: 0.273972602739726 and parameters: {'learning_rate': 0.024403954727386788, 'max_depth': 13, 'max_iter': 175, 'min_samples_leaf': 4, 'l2_regularization': 0.7691962457987924, 'max_bins': 244}. Best is trial 24 with value: 0.39436619718309857.\n",
      "[I 2025-08-24 15:12:36,032] Trial 35 finished with value: 0.29850746268656714 and parameters: {'learning_rate': 0.03412413051210904, 'max_depth': 15, 'max_iter': 500, 'min_samples_leaf': 2, 'l2_regularization': 0.5186505967329962, 'max_bins': 208}. Best is trial 24 with value: 0.39436619718309857.\n",
      "[I 2025-08-24 15:12:37,429] Trial 36 finished with value: 0.3380281690140845 and parameters: {'learning_rate': 0.012816400576422521, 'max_depth': 12, 'max_iter': 134, 'min_samples_leaf': 1, 'l2_regularization': 1.1183127145777632, 'max_bins': 195}. Best is trial 24 with value: 0.39436619718309857.\n",
      "[I 2025-08-24 15:12:39,913] Trial 37 finished with value: 0.2571428571428571 and parameters: {'learning_rate': 0.022154170647936348, 'max_depth': 11, 'max_iter': 229, 'min_samples_leaf': 4, 'l2_regularization': 0.9968932106697892, 'max_bins': 208}. Best is trial 24 with value: 0.39436619718309857.\n",
      "[I 2025-08-24 15:12:40,972] Trial 38 finished with value: 0.30985915492957744 and parameters: {'learning_rate': 0.018338050037805212, 'max_depth': 14, 'max_iter': 100, 'min_samples_leaf': 6, 'l2_regularization': 1.295800922680722, 'max_bins': 238}. Best is trial 24 with value: 0.39436619718309857.\n",
      "[I 2025-08-24 15:12:40,388] Trial 39 finished with value: 0.34782608695652173 and parameters: {'learning_rate': 0.04840149612155106, 'max_depth': 10, 'max_iter': 170, 'min_samples_leaf': 2, 'l2_regularization': 1.5266951445161114, 'max_bins': 223}. Best is trial 24 with value: 0.39436619718309857.\n",
      "[I 2025-08-24 15:12:43,114] Trial 40 finished with value: 0.28169014084507044 and parameters: {'learning_rate': 0.02571425219888496, 'max_depth': 15, 'max_iter': 270, 'min_samples_leaf': 3, 'l2_regularization': 0.32848618507806804, 'max_bins': 200}. Best is trial 24 with value: 0.39436619718309857.\n",
      "[I 2025-08-24 15:12:44,380] Trial 41 finished with value: 0.34285714285714286 and parameters: {'learning_rate': 0.020306608750369, 'max_depth': 13, 'max_iter': 121, 'min_samples_leaf': 1, 'l2_regularization': 1.3965720071758345, 'max_bins': 188}. Best is trial 24 with value: 0.39436619718309857.\n",
      "[I 2025-08-24 15:12:45,748] Trial 42 finished with value: 0.4057971014492754 and parameters: {'learning_rate': 0.018592792508886673, 'max_depth': 12, 'max_iter': 136, 'min_samples_leaf': 1, 'l2_regularization': 1.3428567976736108, 'max_bins': 180}. Best is trial 42 with value: 0.4057971014492754.\n",
      "[I 2025-08-24 15:12:47,626] Trial 43 finished with value: 0.36619718309859156 and parameters: {'learning_rate': 0.013494046652291317, 'max_depth': 12, 'max_iter': 191, 'min_samples_leaf': 3, 'l2_regularization': 1.0720921674612325, 'max_bins': 213}. Best is trial 42 with value: 0.4057971014492754.\n",
      "[I 2025-08-24 15:12:48,943] Trial 44 finished with value: 0.36619718309859156 and parameters: {'learning_rate': 0.017051688383573595, 'max_depth': 11, 'max_iter': 140, 'min_samples_leaf': 5, 'l2_regularization': 1.2021456198698774, 'max_bins': 178}. Best is trial 42 with value: 0.4057971014492754.\n",
      "[I 2025-08-24 15:12:50,455] Trial 45 finished with value: 0.3835616438356164 and parameters: {'learning_rate': 0.010545190074954467, 'max_depth': 15, 'max_iter': 166, 'min_samples_leaf': 2, 'l2_regularization': 1.440136132263201, 'max_bins': 193}. Best is trial 42 with value: 0.4057971014492754.\n",
      "[I 2025-08-24 15:12:52,015] Trial 46 finished with value: 0.3466666666666667 and parameters: {'learning_rate': 0.01059338934486214, 'max_depth': 15, 'max_iter': 159, 'min_samples_leaf': 2, 'l2_regularization': 1.4837807585977383, 'max_bins': 193}. Best is trial 42 with value: 0.4057971014492754.\n",
      "[I 2025-08-24 15:12:53,303] Trial 47 finished with value: 0.3013698630136986 and parameters: {'learning_rate': 0.010833407996985475, 'max_depth': 16, 'max_iter': 127, 'min_samples_leaf': 4, 'l2_regularization': 1.5786743017606515, 'max_bins': 169}. Best is trial 42 with value: 0.4057971014492754.\n",
      "[I 2025-08-24 15:12:55,265] Trial 48 finished with value: 0.2898550724637681 and parameters: {'learning_rate': 0.0129378729983887, 'max_depth': 14, 'max_iter': 221, 'min_samples_leaf': 7, 'l2_regularization': 1.8112467882300116, 'max_bins': 202}. Best is trial 42 with value: 0.4057971014492754.\n",
      "[I 2025-08-24 15:12:56,751] Trial 49 finished with value: 0.3287671232876712 and parameters: {'learning_rate': 0.03720213735770264, 'max_depth': 15, 'max_iter': 144, 'min_samples_leaf': 2, 'l2_regularization': 1.3321353416936519, 'max_bins': 223}. Best is trial 42 with value: 0.4057971014492754.\n",
      "[I 2025-08-24 15:12:58,340] Trial 50 finished with value: 0.3142857142857143 and parameters: {'learning_rate': 0.030546271221877738, 'max_depth': 12, 'max_iter': 164, 'min_samples_leaf': 3, 'l2_regularization': 1.624423538021103, 'max_bins': 170}. Best is trial 42 with value: 0.4057971014492754.\n",
      "[I 2025-08-24 15:13:00,274] Trial 51 finished with value: 0.37681159420289856 and parameters: {'learning_rate': 0.01718930819403005, 'max_depth': 13, 'max_iter': 190, 'min_samples_leaf': 1, 'l2_regularization': 1.4282543920078488, 'max_bins': 223}. Best is trial 42 with value: 0.4057971014492754.\n",
      "[I 2025-08-24 15:13:05,191] Trial 52 finished with value: 0.24324324324324326 and parameters: {'learning_rate': 0.021813892954135695, 'max_depth': 14, 'max_iter': 457, 'min_samples_leaf': 1, 'l2_regularization': 1.4372763605621959, 'max_bins': 227}. Best is trial 42 with value: 0.4057971014492754.\n",
      "[I 2025-08-24 15:13:07,101] Trial 53 finished with value: 0.34285714285714286 and parameters: {'learning_rate': 0.016435475417365553, 'max_depth': 15, 'max_iter': 200, 'min_samples_leaf': 2, 'l2_regularization': 1.2480114169223757, 'max_bins': 196}. Best is trial 42 with value: 0.4057971014492754.\n",
      "[I 2025-08-24 15:13:08,310] Trial 54 finished with value: 0.3157894736842105 and parameters: {'learning_rate': 0.014320917013980548, 'max_depth': 16, 'max_iter': 118, 'min_samples_leaf': 3, 'l2_regularization': 1.3691377941649936, 'max_bins': 255}. Best is trial 42 with value: 0.4057971014492754.\n",
      "[I 2025-08-24 15:13:09,748] Trial 55 finished with value: 0.3333333333333333 and parameters: {'learning_rate': 0.0284532363131369, 'max_depth': 11, 'max_iter': 141, 'min_samples_leaf': 1, 'l2_regularization': 1.5320031443998474, 'max_bins': 236}. Best is trial 42 with value: 0.4057971014492754.\n",
      "[I 2025-08-24 15:13:09,498] Trial 56 finished with value: 0.32432432432432434 and parameters: {'learning_rate': 0.011625258923835398, 'max_depth': 8, 'max_iter': 244, 'min_samples_leaf': 5, 'l2_regularization': 0.9516902116954288, 'max_bins': 203}. Best is trial 42 with value: 0.4057971014492754.\n",
      "[I 2025-08-24 15:13:10,444] Trial 57 finished with value: 0.3561643835616438 and parameters: {'learning_rate': 0.02304643854418653, 'max_depth': 12, 'max_iter': 101, 'min_samples_leaf': 4, 'l2_regularization': 1.0830670839024055, 'max_bins': 222}. Best is trial 42 with value: 0.4057971014492754.\n",
      "[I 2025-08-24 15:13:11,928] Trial 58 finished with value: 0.37142857142857144 and parameters: {'learning_rate': 0.0158861032947255, 'max_depth': 13, 'max_iter': 157, 'min_samples_leaf': 2, 'l2_regularization': 1.2840613726516898, 'max_bins': 191}. Best is trial 42 with value: 0.4057971014492754.\n",
      "[I 2025-08-24 15:13:13,142] Trial 59 finished with value: 0.3582089552238806 and parameters: {'learning_rate': 0.01865163393197379, 'max_depth': 14, 'max_iter': 118, 'min_samples_leaf': 1, 'l2_regularization': 1.7219116635587266, 'max_bins': 180}. Best is trial 42 with value: 0.4057971014492754.\n",
      "[I 2025-08-24 15:13:14,848] Trial 60 finished with value: 0.2631578947368421 and parameters: {'learning_rate': 0.06145095318926651, 'max_depth': 15, 'max_iter': 204, 'min_samples_leaf': 10, 'l2_regularization': 0.004556382099618395, 'max_bins': 175}. Best is trial 42 with value: 0.4057971014492754.\n",
      "[I 2025-08-24 15:13:16,264] Trial 61 finished with value: 0.3235294117647059 and parameters: {'learning_rate': 0.01578671696375914, 'max_depth': 13, 'max_iter': 155, 'min_samples_leaf': 2, 'l2_regularization': 1.272650292385473, 'max_bins': 188}. Best is trial 42 with value: 0.4057971014492754.\n",
      "[I 2025-08-24 15:13:17,791] Trial 62 finished with value: 0.4057971014492754 and parameters: {'learning_rate': 0.013739036358928255, 'max_depth': 13, 'max_iter': 168, 'min_samples_leaf': 3, 'l2_regularization': 1.421401327786663, 'max_bins': 191}. Best is trial 42 with value: 0.4057971014492754.\n",
      "[I 2025-08-24 15:13:19,439] Trial 63 finished with value: 0.3287671232876712 and parameters: {'learning_rate': 0.013014961917237987, 'max_depth': 11, 'max_iter': 187, 'min_samples_leaf': 3, 'l2_regularization': 1.4486695333154156, 'max_bins': 172}. Best is trial 42 with value: 0.4057971014492754.\n",
      "[I 2025-08-24 15:13:21,108] Trial 64 finished with value: 0.39436619718309857 and parameters: {'learning_rate': 0.014468012185000982, 'max_depth': 12, 'max_iter': 171, 'min_samples_leaf': 1, 'l2_regularization': 1.6063257510486961, 'max_bins': 183}. Best is trial 42 with value: 0.4057971014492754.\n",
      "[I 2025-08-24 15:13:22,643] Trial 65 finished with value: 0.3561643835616438 and parameters: {'learning_rate': 0.011055535069847144, 'max_depth': 10, 'max_iter': 168, 'min_samples_leaf': 3, 'l2_regularization': 1.6099435196772955, 'max_bins': 190}. Best is trial 42 with value: 0.4057971014492754.\n",
      "[I 2025-08-24 15:13:23,639] Trial 66 finished with value: 0.34782608695652173 and parameters: {'learning_rate': 0.012185399627525344, 'max_depth': 12, 'max_iter': 135, 'min_samples_leaf': 12, 'l2_regularization': 1.7521508503034244, 'max_bins': 182}. Best is trial 42 with value: 0.4057971014492754.\n",
      "[I 2025-08-24 15:13:23,858] Trial 67 finished with value: 0.23529411764705882 and parameters: {'learning_rate': 0.013997839605611559, 'max_depth': 2, 'max_iter': 114, 'min_samples_leaf': 6, 'l2_regularization': 1.8240885899056754, 'max_bins': 196}. Best is trial 42 with value: 0.4057971014492754.\n",
      "[I 2025-08-24 15:13:25,930] Trial 68 finished with value: 0.28169014084507044 and parameters: {'learning_rate': 0.019816805406044292, 'max_depth': 16, 'max_iter': 228, 'min_samples_leaf': 4, 'l2_regularization': 1.9159668285975089, 'max_bins': 184}. Best is trial 42 with value: 0.4057971014492754.\n",
      "[I 2025-08-24 15:13:26,547] Trial 69 finished with value: 0.3466666666666667 and parameters: {'learning_rate': 0.010155079246265224, 'max_depth': 3, 'max_iter': 258, 'min_samples_leaf': 1, 'l2_regularization': 1.5195878014636688, 'max_bins': 166}. Best is trial 42 with value: 0.4057971014492754.\n",
      "[I 2025-08-24 15:13:30,199] Trial 70 finished with value: 0.29411764705882354 and parameters: {'learning_rate': 0.014817518998311475, 'max_depth': 12, 'max_iter': 387, 'min_samples_leaf': 2, 'l2_regularization': 1.3381833310429931, 'max_bins': 175}. Best is trial 42 with value: 0.4057971014492754.\n",
      "[I 2025-08-24 15:13:32,050] Trial 71 finished with value: 0.38235294117647056 and parameters: {'learning_rate': 0.017526308511973884, 'max_depth': 13, 'max_iter': 176, 'min_samples_leaf': 1, 'l2_regularization': 1.4059333386941886, 'max_bins': 220}. Best is trial 42 with value: 0.4057971014492754.\n",
      "[I 2025-08-24 15:13:33,554] Trial 72 finished with value: 0.34210526315789475 and parameters: {'learning_rate': 0.018864558368607006, 'max_depth': 14, 'max_iter': 148, 'min_samples_leaf': 1, 'l2_regularization': 1.1766775255460948, 'max_bins': 203}. Best is trial 42 with value: 0.4057971014492754.\n",
      "[I 2025-08-24 15:13:35,294] Trial 73 finished with value: 0.3380281690140845 and parameters: {'learning_rate': 0.02078945911890857, 'max_depth': 12, 'max_iter': 176, 'min_samples_leaf': 2, 'l2_regularization': 1.6496263234914852, 'max_bins': 214}. Best is trial 42 with value: 0.4057971014492754.\n",
      "[I 2025-08-24 15:13:36,118] Trial 74 finished with value: 0.2898550724637681 and parameters: {'learning_rate': 0.011708132857087316, 'max_depth': 13, 'max_iter': 132, 'min_samples_leaf': 20, 'l2_regularization': 1.3900510760636298, 'max_bins': 218}. Best is trial 42 with value: 0.4057971014492754.\n",
      "[I 2025-08-24 15:13:37,636] Trial 75 finished with value: 0.30985915492957744 and parameters: {'learning_rate': 0.02524215879693308, 'max_depth': 14, 'max_iter': 169, 'min_samples_leaf': 3, 'l2_regularization': 1.5718614428907483, 'max_bins': 153}. Best is trial 42 with value: 0.4057971014492754.\n",
      "[I 2025-08-24 15:13:40,655] Trial 76 finished with value: 0.273972602739726 and parameters: {'learning_rate': 0.02320757794518679, 'max_depth': 13, 'max_iter': 308, 'min_samples_leaf': 1, 'l2_regularization': 1.4858434403230651, 'max_bins': 209}. Best is trial 42 with value: 0.4057971014492754.\n",
      "[I 2025-08-24 15:13:39,752] Trial 77 finished with value: 0.3333333333333333 and parameters: {'learning_rate': 0.015359518956072514, 'max_depth': 15, 'max_iter': 208, 'min_samples_leaf': 18, 'l2_regularization': 1.1228046696009761, 'max_bins': 181}. Best is trial 42 with value: 0.4057971014492754.\n",
      "[I 2025-08-24 15:13:41,226] Trial 78 finished with value: 0.3561643835616438 and parameters: {'learning_rate': 0.017683439079101824, 'max_depth': 11, 'max_iter': 149, 'min_samples_leaf': 2, 'l2_regularization': 1.2338308012571952, 'max_bins': 230}. Best is trial 42 with value: 0.4057971014492754.\n",
      "[I 2025-08-24 15:13:42,319] Trial 79 finished with value: 0.3611111111111111 and parameters: {'learning_rate': 0.013893821961442161, 'max_depth': 12, 'max_iter': 113, 'min_samples_leaf': 2, 'l2_regularization': 1.3458121527140707, 'max_bins': 198}. Best is trial 42 with value: 0.4057971014492754.\n",
      "[I 2025-08-24 15:13:44,023] Trial 80 finished with value: 0.39436619718309857 and parameters: {'learning_rate': 0.012481315317335196, 'max_depth': 10, 'max_iter': 182, 'min_samples_leaf': 1, 'l2_regularization': 1.3097587823792338, 'max_bins': 186}. Best is trial 42 with value: 0.4057971014492754.\n",
      "[I 2025-08-24 15:13:45,746] Trial 81 finished with value: 0.37142857142857144 and parameters: {'learning_rate': 0.012370520734593165, 'max_depth': 10, 'max_iter': 181, 'min_samples_leaf': 1, 'l2_regularization': 1.4800386724643182, 'max_bins': 188}. Best is trial 42 with value: 0.4057971014492754.\n",
      "[I 2025-08-24 15:13:46,884] Trial 82 finished with value: 0.38235294117647056 and parameters: {'learning_rate': 0.016369064804824942, 'max_depth': 8, 'max_iter': 127, 'min_samples_leaf': 1, 'l2_regularization': 1.30705917871191, 'max_bins': 185}. Best is trial 42 with value: 0.4057971014492754.\n",
      "[I 2025-08-24 15:13:47,986] Trial 83 finished with value: 0.3333333333333333 and parameters: {'learning_rate': 0.013556069816111514, 'max_depth': 8, 'max_iter': 123, 'min_samples_leaf': 1, 'l2_regularization': 1.3088542135257937, 'max_bins': 185}. Best is trial 42 with value: 0.4057971014492754.\n",
      "[I 2025-08-24 15:13:49,067] Trial 84 finished with value: 0.3188405797101449 and parameters: {'learning_rate': 0.016497089781010273, 'max_depth': 7, 'max_iter': 129, 'min_samples_leaf': 1, 'l2_regularization': 1.4052651415365536, 'max_bins': 177}. Best is trial 42 with value: 0.4057971014492754.\n",
      "[I 2025-08-24 15:13:50,444] Trial 85 finished with value: 0.37142857142857144 and parameters: {'learning_rate': 0.01110951487354504, 'max_depth': 7, 'max_iter': 162, 'min_samples_leaf': 3, 'l2_regularization': 1.39407361629609, 'max_bins': 194}. Best is trial 42 with value: 0.4057971014492754.\n",
      "[I 2025-08-24 15:13:51,760] Trial 86 finished with value: 0.3013698630136986 and parameters: {'learning_rate': 0.09398554324482646, 'max_depth': 9, 'max_iter': 142, 'min_samples_leaf': 2, 'l2_regularization': 1.577129907353923, 'max_bins': 172}. Best is trial 42 with value: 0.4057971014492754.\n",
      "[I 2025-08-24 15:13:52,818] Trial 87 finished with value: 0.36619718309859156 and parameters: {'learning_rate': 0.012845905370594836, 'max_depth': 9, 'max_iter': 107, 'min_samples_leaf': 1, 'l2_regularization': 1.6760332024454585, 'max_bins': 180}. Best is trial 42 with value: 0.4057971014492754.\n",
      "[I 2025-08-24 15:13:54,610] Trial 88 finished with value: 0.3888888888888889 and parameters: {'learning_rate': 0.01481782765537675, 'max_depth': 8, 'max_iter': 198, 'min_samples_leaf': 3, 'l2_regularization': 1.2255049698742924, 'max_bins': 191}. Best is trial 42 with value: 0.4057971014492754.\n",
      "[I 2025-08-24 15:13:56,656] Trial 89 finished with value: 0.29850746268656714 and parameters: {'learning_rate': 0.010245392249637024, 'max_depth': 8, 'max_iter': 195, 'min_samples_leaf': 4, 'l2_regularization': 1.302807771775149, 'max_bins': 191}. Best is trial 42 with value: 0.4057971014492754.\n",
      "[I 2025-08-24 15:13:59,083] Trial 90 finished with value: 0.3611111111111111 and parameters: {'learning_rate': 0.01468789676727749, 'max_depth': 8, 'max_iter': 217, 'min_samples_leaf': 2, 'l2_regularization': 1.4582118677354348, 'max_bins': 186}. Best is trial 42 with value: 0.4057971014492754.\n",
      "[I 2025-08-24 15:14:00,699] Trial 91 finished with value: 0.3283582089552239 and parameters: {'learning_rate': 0.017845670866301826, 'max_depth': 9, 'max_iter': 152, 'min_samples_leaf': 3, 'l2_regularization': 1.2249443544491363, 'max_bins': 198}. Best is trial 42 with value: 0.4057971014492754.\n",
      "[I 2025-08-24 15:14:02,032] Trial 92 finished with value: 0.3835616438356164 and parameters: {'learning_rate': 0.015959381997454166, 'max_depth': 7, 'max_iter': 137, 'min_samples_leaf': 1, 'l2_regularization': 1.3606972731905465, 'max_bins': 183}. Best is trial 42 with value: 0.4057971014492754.\n",
      "[I 2025-08-24 15:14:03,469] Trial 93 finished with value: 0.3333333333333333 and parameters: {'learning_rate': 0.0149629365370087, 'max_depth': 6, 'max_iter': 167, 'min_samples_leaf': 2, 'l2_regularization': 1.541362520228839, 'max_bins': 183}. Best is trial 42 with value: 0.4057971014492754.\n",
      "[I 2025-08-24 15:14:04,683] Trial 94 finished with value: 0.28169014084507044 and parameters: {'learning_rate': 0.015702575122742684, 'max_depth': 6, 'max_iter': 180, 'min_samples_leaf': 14, 'l2_regularization': 1.350742542852823, 'max_bins': 190}. Best is trial 42 with value: 0.4057971014492754.\n",
      "[I 2025-08-24 15:14:05,891] Trial 95 finished with value: 0.35135135135135137 and parameters: {'learning_rate': 0.011634590309305026, 'max_depth': 7, 'max_iter': 133, 'min_samples_leaf': 1, 'l2_regularization': 1.414176424251305, 'max_bins': 178}. Best is trial 42 with value: 0.4057971014492754.\n",
      "[I 2025-08-24 15:14:07,312] Trial 96 finished with value: 0.26666666666666666 and parameters: {'learning_rate': 0.13197521357808514, 'max_depth': 7, 'max_iter': 158, 'min_samples_leaf': 3, 'l2_regularization': 1.1857574716795285, 'max_bins': 187}. Best is trial 42 with value: 0.4057971014492754.\n",
      "[I 2025-08-24 15:14:08,624] Trial 97 finished with value: 0.4 and parameters: {'learning_rate': 0.021505717769061128, 'max_depth': 8, 'max_iter': 142, 'min_samples_leaf': 2, 'l2_regularization': 1.04090511679006, 'max_bins': 174}. Best is trial 42 with value: 0.4057971014492754.\n",
      "[I 2025-08-24 15:14:10,443] Trial 98 finished with value: 0.28169014084507044 and parameters: {'learning_rate': 0.01983165759206402, 'max_depth': 10, 'max_iter': 195, 'min_samples_leaf': 5, 'l2_regularization': 0.9632937475133303, 'max_bins': 165}. Best is trial 42 with value: 0.4057971014492754.\n",
      "[I 2025-08-24 15:14:08,898] Trial 99 finished with value: 0.37681159420289856 and parameters: {'learning_rate': 0.01355223921544523, 'max_depth': 5, 'max_iter': 141, 'min_samples_leaf': 8, 'l2_regularization': 1.0558749388138036, 'max_bins': 176}. Best is trial 42 with value: 0.4057971014492754.\n",
      "[I 2025-08-24 15:14:10,325] Trial 100 finished with value: 0.26666666666666666 and parameters: {'learning_rate': 0.021359580354414324, 'max_depth': 6, 'max_iter': 186, 'min_samples_leaf': 3, 'l2_regularization': 0.720557316544225, 'max_bins': 157}. Best is trial 42 with value: 0.4057971014492754.\n",
      "[I 2025-08-24 15:14:11,842] Trial 101 finished with value: 0.36363636363636365 and parameters: {'learning_rate': 0.01686109179169976, 'max_depth': 7, 'max_iter': 171, 'min_samples_leaf': 1, 'l2_regularization': 1.269976106959649, 'max_bins': 173}. Best is trial 42 with value: 0.4057971014492754.\n",
      "[I 2025-08-24 15:14:13,263] Trial 102 finished with value: 0.39436619718309857 and parameters: {'learning_rate': 0.019159694400863177, 'max_depth': 8, 'max_iter': 149, 'min_samples_leaf': 2, 'l2_regularization': 1.3063617801099985, 'max_bins': 193}. Best is trial 42 with value: 0.4057971014492754.\n",
      "[I 2025-08-24 15:14:14,691] Trial 103 finished with value: 0.3611111111111111 and parameters: {'learning_rate': 0.01892494704753524, 'max_depth': 8, 'max_iter': 152, 'min_samples_leaf': 2, 'l2_regularization': 1.133728103992837, 'max_bins': 192}. Best is trial 42 with value: 0.4057971014492754.\n",
      "[I 2025-08-24 15:14:16,136] Trial 104 finished with value: 0.3142857142857143 and parameters: {'learning_rate': 0.012297759074581098, 'max_depth': 9, 'max_iter': 160, 'min_samples_leaf': 4, 'l2_regularization': 1.5000548712328845, 'max_bins': 179}. Best is trial 42 with value: 0.4057971014492754.\n",
      "[I 2025-08-24 15:14:17,494] Trial 105 finished with value: 0.3188405797101449 and parameters: {'learning_rate': 0.022620578591835507, 'max_depth': 9, 'max_iter': 145, 'min_samples_leaf': 2, 'l2_regularization': 1.366655418097274, 'max_bins': 182}. Best is trial 42 with value: 0.4057971014492754.\n",
      "[I 2025-08-24 15:14:18,797] Trial 106 finished with value: 0.3611111111111111 and parameters: {'learning_rate': 0.017890675960452074, 'max_depth': 11, 'max_iter': 135, 'min_samples_leaf': 2, 'l2_regularization': 1.4446395770194633, 'max_bins': 194}. Best is trial 42 with value: 0.4057971014492754.\n",
      "[I 2025-08-24 15:14:20,672] Trial 107 finished with value: 0.34782608695652173 and parameters: {'learning_rate': 0.020379227963320746, 'max_depth': 8, 'max_iter': 204, 'min_samples_leaf': 3, 'l2_regularization': 1.2646710023409964, 'max_bins': 189}. Best is trial 42 with value: 0.4057971014492754.\n",
      "[I 2025-08-24 15:14:21,609] Trial 108 finished with value: 0.2535211267605634 and parameters: {'learning_rate': 0.026350521094880848, 'max_depth': 7, 'max_iter': 104, 'min_samples_leaf': 1, 'l2_regularization': 1.053357050538537, 'max_bins': 168}. Best is trial 42 with value: 0.4057971014492754.\n",
      "[I 2025-08-24 15:14:23,299] Trial 109 finished with value: 0.3188405797101449 and parameters: {'learning_rate': 0.015315745514646947, 'max_depth': 13, 'max_iter': 177, 'min_samples_leaf': 2, 'l2_regularization': 1.20252420921089, 'max_bins': 204}. Best is trial 42 with value: 0.4057971014492754.\n",
      "[I 2025-08-24 15:14:24,827] Trial 110 finished with value: 0.3287671232876712 and parameters: {'learning_rate': 0.010834403245388763, 'max_depth': 12, 'max_iter': 163, 'min_samples_leaf': 4, 'l2_regularization': 0.8802316457376456, 'max_bins': 197}. Best is trial 42 with value: 0.4057971014492754.\n",
      "[I 2025-08-24 15:14:25,978] Trial 111 finished with value: 0.3333333333333333 and parameters: {'learning_rate': 0.016035753713754944, 'max_depth': 8, 'max_iter': 122, 'min_samples_leaf': 1, 'l2_regularization': 1.3167162513317174, 'max_bins': 200}. Best is trial 42 with value: 0.4057971014492754.\n",
      "[I 2025-08-24 15:14:27,056] Trial 112 finished with value: 0.37142857142857144 and parameters: {'learning_rate': 0.014162163523881562, 'max_depth': 8, 'max_iter': 112, 'min_samples_leaf': 1, 'l2_regularization': 1.377048235262158, 'max_bins': 185}. Best is trial 42 with value: 0.4057971014492754.\n",
      "[I 2025-08-24 15:14:28,262] Trial 113 finished with value: 0.4 and parameters: {'learning_rate': 0.016433179133985957, 'max_depth': 9, 'max_iter': 128, 'min_samples_leaf': 1, 'l2_regularization': 1.3268105803067567, 'max_bins': 183}. Best is trial 42 with value: 0.4057971014492754.\n",
      "[I 2025-08-24 15:14:29,620] Trial 114 finished with value: 0.3582089552238806 and parameters: {'learning_rate': 0.01917975299327573, 'max_depth': 9, 'max_iter': 140, 'min_samples_leaf': 2, 'l2_regularization': 1.4630256470128655, 'max_bins': 193}. Best is trial 42 with value: 0.4057971014492754.\n",
      "[I 2025-08-24 15:14:31,035] Trial 115 finished with value: 0.36619718309859156 and parameters: {'learning_rate': 0.013196447750775352, 'max_depth': 10, 'max_iter': 150, 'min_samples_leaf': 3, 'l2_regularization': 1.6088632864805885, 'max_bins': 181}. Best is trial 42 with value: 0.4057971014492754.\n",
      "[I 2025-08-24 15:14:32,738] Trial 116 finished with value: 0.34285714285714286 and parameters: {'learning_rate': 0.01679844272500664, 'max_depth': 9, 'max_iter': 185, 'min_samples_leaf': 1, 'l2_regularization': 1.2363588212756746, 'max_bins': 173}. Best is trial 42 with value: 0.4057971014492754.\n",
      "[I 2025-08-24 15:14:34,342] Trial 117 finished with value: 0.25 and parameters: {'learning_rate': 0.057865345135186985, 'max_depth': 11, 'max_iter': 168, 'min_samples_leaf': 2, 'l2_regularization': 1.4162616744170682, 'max_bins': 188}. Best is trial 42 with value: 0.4057971014492754.\n",
      "[I 2025-08-24 15:14:35,460] Trial 118 finished with value: 0.3561643835616438 and parameters: {'learning_rate': 0.021488400027742816, 'max_depth': 13, 'max_iter': 115, 'min_samples_leaf': 1, 'l2_regularization': 1.3391126977303889, 'max_bins': 183}. Best is trial 42 with value: 0.4057971014492754.\n",
      "[I 2025-08-24 15:14:37,574] Trial 119 finished with value: 0.34285714285714286 and parameters: {'learning_rate': 0.01446526088958124, 'max_depth': 12, 'max_iter': 234, 'min_samples_leaf': 3, 'l2_regularization': 1.100352709256733, 'max_bins': 135}. Best is trial 42 with value: 0.4057971014492754.\n",
      "[I 2025-08-24 15:14:40,140] Trial 120 finished with value: 0.2647058823529412 and parameters: {'learning_rate': 0.012574005959083947, 'max_depth': 7, 'max_iter': 285, 'min_samples_leaf': 2, 'l2_regularization': 1.5120150061958322, 'max_bins': 206}. Best is trial 42 with value: 0.4057971014492754.\n",
      "[I 2025-08-24 15:14:38,847] Trial 121 finished with value: 0.35294117647058826 and parameters: {'learning_rate': 0.017094664626568695, 'max_depth': 8, 'max_iter': 127, 'min_samples_leaf': 1, 'l2_regularization': 1.3004005282126474, 'max_bins': 185}. Best is trial 42 with value: 0.4057971014492754.\n",
      "[I 2025-08-24 15:14:39,997] Trial 122 finished with value: 0.30985915492957744 and parameters: {'learning_rate': 0.015804261433654248, 'max_depth': 8, 'max_iter': 126, 'min_samples_leaf': 1, 'l2_regularization': 1.3734649629449671, 'max_bins': 178}. Best is trial 42 with value: 0.4057971014492754.\n",
      "[I 2025-08-24 15:14:41,328] Trial 123 finished with value: 0.3835616438356164 and parameters: {'learning_rate': 0.018148418702882915, 'max_depth': 9, 'max_iter': 136, 'min_samples_leaf': 1, 'l2_regularization': 1.1577192994108032, 'max_bins': 190}. Best is trial 42 with value: 0.4057971014492754.\n",
      "[I 2025-08-24 15:14:42,838] Trial 124 finished with value: 0.36619718309859156 and parameters: {'learning_rate': 0.02411469409602103, 'max_depth': 9, 'max_iter': 152, 'min_samples_leaf': 2, 'l2_regularization': 1.1551186534674485, 'max_bins': 192}. Best is trial 42 with value: 0.4057971014492754.\n",
      "[I 2025-08-24 15:14:44,145] Trial 125 finished with value: 0.34782608695652173 and parameters: {'learning_rate': 0.018039058891561554, 'max_depth': 14, 'max_iter': 135, 'min_samples_leaf': 1, 'l2_regularization': 1.0180327833302505, 'max_bins': 195}. Best is trial 42 with value: 0.4057971014492754.\n",
      "[I 2025-08-24 15:14:45,578] Trial 126 finished with value: 0.37142857142857144 and parameters: {'learning_rate': 0.013646646000470716, 'max_depth': 10, 'max_iter': 157, 'min_samples_leaf': 2, 'l2_regularization': 1.2045532832320116, 'max_bins': 200}. Best is trial 42 with value: 0.4057971014492754.\n",
      "[I 2025-08-24 15:14:47,267] Trial 127 finished with value: 0.3157894736842105 and parameters: {'learning_rate': 0.02020740066708549, 'max_depth': 10, 'max_iter': 172, 'min_samples_leaf': 1, 'l2_regularization': 1.2813027330582218, 'max_bins': 190}. Best is trial 42 with value: 0.4057971014492754.\n",
      "[I 2025-08-24 15:14:48,600] Trial 128 finished with value: 0.3142857142857143 and parameters: {'learning_rate': 0.01131224550385773, 'max_depth': 13, 'max_iter': 145, 'min_samples_leaf': 3, 'l2_regularization': 1.4339651065928556, 'max_bins': 180}. Best is trial 42 with value: 0.4057971014492754.\n",
      "[I 2025-08-24 15:14:49,482] Trial 129 finished with value: 0.3013698630136986 and parameters: {'learning_rate': 0.014915002675138952, 'max_depth': 8, 'max_iter': 101, 'min_samples_leaf': 2, 'l2_regularization': 1.251006949459764, 'max_bins': 176}. Best is trial 42 with value: 0.4057971014492754.\n",
      "[I 2025-08-24 15:14:50,820] Trial 130 finished with value: 0.2777777777777778 and parameters: {'learning_rate': 0.018833504223520443, 'max_depth': 9, 'max_iter': 138, 'min_samples_leaf': 1, 'l2_regularization': 0.24432239026742852, 'max_bins': 186}. Best is trial 42 with value: 0.4057971014492754.\n",
      "[I 2025-08-24 15:14:51,937] Trial 131 finished with value: 0.4117647058823529 and parameters: {'learning_rate': 0.016341647793659573, 'max_depth': 8, 'max_iter': 119, 'min_samples_leaf': 1, 'l2_regularization': 1.1613773755331755, 'max_bins': 187}. Best is trial 131 with value: 0.4117647058823529.\n",
      "[I 2025-08-24 15:14:53,045] Trial 132 finished with value: 0.36619718309859156 and parameters: {'learning_rate': 0.01662269018552769, 'max_depth': 8, 'max_iter': 118, 'min_samples_leaf': 1, 'l2_regularization': 1.1511740234265089, 'max_bins': 183}. Best is trial 131 with value: 0.4117647058823529.\n",
      "[I 2025-08-24 15:14:54,068] Trial 133 finished with value: 0.36619718309859156 and parameters: {'learning_rate': 0.0172225438944302, 'max_depth': 7, 'max_iter': 111, 'min_samples_leaf': 2, 'l2_regularization': 1.0950970370600586, 'max_bins': 188}. Best is trial 131 with value: 0.4117647058823529.\n",
      "[I 2025-08-24 15:14:55,632] Trial 134 finished with value: 0.3888888888888889 and parameters: {'learning_rate': 0.015312128721063323, 'max_depth': 9, 'max_iter': 162, 'min_samples_leaf': 1, 'l2_regularization': 1.3439466942028213, 'max_bins': 191}. Best is trial 131 with value: 0.4117647058823529.\n",
      "[I 2025-08-24 15:14:57,229] Trial 135 finished with value: 0.273972602739726 and parameters: {'learning_rate': 0.04265551942677892, 'max_depth': 9, 'max_iter': 161, 'min_samples_leaf': 2, 'l2_regularization': 1.1781804349073888, 'max_bins': 191}. Best is trial 131 with value: 0.4117647058823529.\n",
      "[I 2025-08-24 15:15:00,442] Trial 136 finished with value: 0.3055555555555556 and parameters: {'learning_rate': 0.01192339668688547, 'max_depth': 9, 'max_iter': 339, 'min_samples_leaf': 1, 'l2_regularization': 1.3585201590884828, 'max_bins': 196}. Best is trial 131 with value: 0.4117647058823529.\n",
      "[I 2025-08-24 15:15:01,645] Trial 137 finished with value: 0.3561643835616438 and parameters: {'learning_rate': 0.014149532857900158, 'max_depth': 8, 'max_iter': 131, 'min_samples_leaf': 2, 'l2_regularization': 1.0231113765541007, 'max_bins': 193}. Best is trial 131 with value: 0.4117647058823529.\n",
      "[I 2025-08-24 15:15:02,965] Trial 138 finished with value: 0.37142857142857144 and parameters: {'learning_rate': 0.01567261763481023, 'max_depth': 10, 'max_iter': 146, 'min_samples_leaf': 3, 'l2_regularization': 1.2448352421908941, 'max_bins': 187}. Best is trial 131 with value: 0.4117647058823529.\n",
      "[I 2025-08-24 15:15:04,144] Trial 139 finished with value: 0.39436619718309857 and parameters: {'learning_rate': 0.010147780316021896, 'max_depth': 9, 'max_iter': 121, 'min_samples_leaf': 1, 'l2_regularization': 1.3347630771945662, 'max_bins': 190}. Best is trial 131 with value: 0.4117647058823529.\n",
      "[I 2025-08-24 15:15:05,118] Trial 140 finished with value: 0.3835616438356164 and parameters: {'learning_rate': 0.010204074593739976, 'max_depth': 7, 'max_iter': 107, 'min_samples_leaf': 1, 'l2_regularization': 1.332389785796652, 'max_bins': 183}. Best is trial 131 with value: 0.4117647058823529.\n",
      "[I 2025-08-24 15:15:06,397] Trial 141 finished with value: 0.3611111111111111 and parameters: {'learning_rate': 0.01056614018138716, 'max_depth': 9, 'max_iter': 138, 'min_samples_leaf': 1, 'l2_regularization': 1.3003054694225256, 'max_bins': 190}. Best is trial 131 with value: 0.4117647058823529.\n",
      "[I 2025-08-24 15:15:07,504] Trial 142 finished with value: 0.34210526315789475 and parameters: {'learning_rate': 0.010038403726399253, 'max_depth': 9, 'max_iter': 123, 'min_samples_leaf': 2, 'l2_regularization': 1.212387480432947, 'max_bins': 194}. Best is trial 131 with value: 0.4117647058823529.\n",
      "[I 2025-08-24 15:15:08,769] Trial 143 finished with value: 0.3055555555555556 and parameters: {'learning_rate': 0.013165681840686581, 'max_depth': 8, 'max_iter': 131, 'min_samples_leaf': 1, 'l2_regularization': 0.9551458312633035, 'max_bins': 187}. Best is trial 131 with value: 0.4117647058823529.\n",
      "[I 2025-08-24 15:15:10,198] Trial 144 finished with value: 0.34285714285714286 and parameters: {'learning_rate': 0.012129502895438373, 'max_depth': 10, 'max_iter': 152, 'min_samples_leaf': 2, 'l2_regularization': 1.396056851763689, 'max_bins': 180}. Best is trial 131 with value: 0.4117647058823529.\n",
      "[I 2025-08-24 15:15:11,937] Trial 145 finished with value: 0.29333333333333333 and parameters: {'learning_rate': 0.011178766542068997, 'max_depth': 8, 'max_iter': 446, 'min_samples_leaf': 1, 'l2_regularization': 1.2757534540559616, 'max_bins': 197}. Best is trial 131 with value: 0.4117647058823529.\n",
      "[I 2025-08-24 15:15:12,906] Trial 146 finished with value: 0.42857142857142855 and parameters: {'learning_rate': 0.014938912873467824, 'max_depth': 9, 'max_iter': 100, 'min_samples_leaf': 1, 'l2_regularization': 1.3285245359013458, 'max_bins': 189}. Best is trial 146 with value: 0.42857142857142855.\n",
      "[I 2025-08-24 15:15:13,829] Trial 147 finished with value: 0.39436619718309857 and parameters: {'learning_rate': 0.014696521051739521, 'max_depth': 11, 'max_iter': 100, 'min_samples_leaf': 2, 'l2_regularization': 1.469791115317022, 'max_bins': 183}. Best is trial 146 with value: 0.42857142857142855.\n",
      "[I 2025-08-24 15:15:14,814] Trial 148 finished with value: 0.35135135135135137 and parameters: {'learning_rate': 0.012681504996741108, 'max_depth': 11, 'max_iter': 100, 'min_samples_leaf': 3, 'l2_regularization': 1.468850418087004, 'max_bins': 174}. Best is trial 146 with value: 0.42857142857142855.\n",
      "[I 2025-08-24 15:15:15,933] Trial 149 finished with value: 0.3611111111111111 and parameters: {'learning_rate': 0.01525990537120799, 'max_depth': 11, 'max_iter': 111, 'min_samples_leaf': 2, 'l2_regularization': 1.559730446599152, 'max_bins': 201}. Best is trial 146 with value: 0.42857142857142855.\n",
      "[I 2025-08-24 15:15:17,042] Trial 150 finished with value: 0.37142857142857144 and parameters: {'learning_rate': 0.014487115084004304, 'max_depth': 10, 'max_iter': 114, 'min_samples_leaf': 2, 'l2_regularization': 1.4969914882647928, 'max_bins': 170}. Best is trial 146 with value: 0.42857142857142855.\n",
      "[I 2025-08-24 15:15:17,884] Trial 151 finished with value: 0.29411764705882354 and parameters: {'learning_rate': 0.013670282746723985, 'max_depth': 10, 'max_iter': 100, 'min_samples_leaf': 9, 'l2_regularization': 1.3342508684883254, 'max_bins': 185}. Best is trial 146 with value: 0.42857142857142855.\n",
      "[I 2025-08-24 15:15:19,011] Trial 152 finished with value: 0.36619718309859156 and parameters: {'learning_rate': 0.015225315525496368, 'max_depth': 12, 'max_iter': 118, 'min_samples_leaf': 1, 'l2_regularization': 1.4265069254404408, 'max_bins': 182}. Best is trial 146 with value: 0.42857142857142855.\n",
      "[I 2025-08-24 15:15:20,009] Trial 153 finished with value: 0.3188405797101449 and parameters: {'learning_rate': 0.016184970039359786, 'max_depth': 9, 'max_iter': 108, 'min_samples_leaf': 2, 'l2_regularization': 1.3806406482228182, 'max_bins': 178}. Best is trial 146 with value: 0.42857142857142855.\n",
      "[I 2025-08-24 15:15:21,163] Trial 154 finished with value: 0.3611111111111111 and parameters: {'learning_rate': 0.011650237923631275, 'max_depth': 12, 'max_iter': 122, 'min_samples_leaf': 1, 'l2_regularization': 1.3239760893439807, 'max_bins': 192}. Best is trial 146 with value: 0.42857142857142855.\n",
      "[I 2025-08-24 15:15:22,374] Trial 155 finished with value: 0.4383561643835616 and parameters: {'learning_rate': 0.012899797726326679, 'max_depth': 11, 'max_iter': 123, 'min_samples_leaf': 1, 'l2_regularization': 1.4556638525749568, 'max_bins': 189}. Best is trial 155 with value: 0.4383561643835616.\n",
      "[I 2025-08-24 15:15:23,483] Trial 156 finished with value: 0.39436619718309857 and parameters: {'learning_rate': 0.01406691023878596, 'max_depth': 11, 'max_iter': 119, 'min_samples_leaf': 3, 'l2_regularization': 1.5281029322309292, 'max_bins': 189}. Best is trial 155 with value: 0.4383561643835616.\n",
      "[I 2025-08-24 15:15:24,442] Trial 157 finished with value: 0.35135135135135137 and parameters: {'learning_rate': 0.013174452368656013, 'max_depth': 11, 'max_iter': 107, 'min_samples_leaf': 3, 'l2_regularization': 1.5286542865226385, 'max_bins': 188}. Best is trial 155 with value: 0.4383561643835616.\n",
      "[I 2025-08-24 15:15:25,546] Trial 158 finished with value: 0.3684210526315789 and parameters: {'learning_rate': 0.013751504754227066, 'max_depth': 11, 'max_iter': 120, 'min_samples_leaf': 3, 'l2_regularization': 1.5870895418892887, 'max_bins': 186}. Best is trial 155 with value: 0.4383561643835616.\n",
      "[I 2025-08-24 15:15:26,746] Trial 159 finished with value: 0.3188405797101449 and parameters: {'learning_rate': 0.014687649287775764, 'max_depth': 11, 'max_iter': 128, 'min_samples_leaf': 4, 'l2_regularization': 1.6443865941749287, 'max_bins': 189}. Best is trial 155 with value: 0.4383561643835616.\n",
      "[I 2025-08-24 15:15:27,625] Trial 160 finished with value: 0.3125 and parameters: {'learning_rate': 0.012658591648882847, 'max_depth': 10, 'max_iter': 117, 'min_samples_leaf': 15, 'l2_regularization': 1.471239236916556, 'max_bins': 184}. Best is trial 155 with value: 0.4383561643835616.\n",
      "[I 2025-08-24 15:15:28,587] Trial 161 finished with value: 0.3466666666666667 and parameters: {'learning_rate': 0.010917514506789593, 'max_depth': 11, 'max_iter': 100, 'min_samples_leaf': 2, 'l2_regularization': 1.4265326786164763, 'max_bins': 194}. Best is trial 155 with value: 0.4383561643835616.\n",
      "[I 2025-08-24 15:15:30,237] Trial 162 finished with value: 0.4 and parameters: {'learning_rate': 0.012035409871218254, 'max_depth': 12, 'max_iter': 169, 'min_samples_leaf': 1, 'l2_regularization': 1.5218249585476988, 'max_bins': 191}. Best is trial 155 with value: 0.4383561643835616.\n",
      "[I 2025-08-24 15:15:31,355] Trial 163 finished with value: 0.4166666666666667 and parameters: {'learning_rate': 0.012775341041850215, 'max_depth': 12, 'max_iter': 110, 'min_samples_leaf': 1, 'l2_regularization': 1.5511073664182329, 'max_bins': 190}. Best is trial 155 with value: 0.4383561643835616.\n",
      "[I 2025-08-24 15:15:32,575] Trial 164 finished with value: 0.3684210526315789 and parameters: {'learning_rate': 0.01242135500288313, 'max_depth': 12, 'max_iter': 111, 'min_samples_leaf': 1, 'l2_regularization': 1.553191743627655, 'max_bins': 198}. Best is trial 155 with value: 0.4383561643835616.\n",
      "[I 2025-08-24 15:15:33,790] Trial 165 finished with value: 0.4117647058823529 and parameters: {'learning_rate': 0.013927413285485435, 'max_depth': 12, 'max_iter': 125, 'min_samples_leaf': 1, 'l2_regularization': 1.5082090173695044, 'max_bins': 188}. Best is trial 155 with value: 0.4383561643835616.\n",
      "[I 2025-08-24 15:15:34,994] Trial 166 finished with value: 0.4057971014492754 and parameters: {'learning_rate': 0.011727905581670403, 'max_depth': 12, 'max_iter': 126, 'min_samples_leaf': 1, 'l2_regularization': 1.596763782453429, 'max_bins': 187}. Best is trial 155 with value: 0.4383561643835616.\n",
      "[I 2025-08-24 15:15:36,267] Trial 167 finished with value: 0.37681159420289856 and parameters: {'learning_rate': 0.011704134448598693, 'max_depth': 12, 'max_iter': 127, 'min_samples_leaf': 1, 'l2_regularization': 1.5958127961815372, 'max_bins': 181}. Best is trial 155 with value: 0.4383561643835616.\n",
      "[I 2025-08-24 15:15:37,319] Trial 168 finished with value: 0.3888888888888889 and parameters: {'learning_rate': 0.012119452629666693, 'max_depth': 12, 'max_iter': 109, 'min_samples_leaf': 1, 'l2_regularization': 1.7108803771552992, 'max_bins': 186}. Best is trial 155 with value: 0.4383561643835616.\n",
      "[I 2025-08-24 15:15:38,673] Trial 169 finished with value: 0.34285714285714286 and parameters: {'learning_rate': 0.01309402400259948, 'max_depth': 13, 'max_iter': 145, 'min_samples_leaf': 1, 'l2_regularization': 1.495428938157422, 'max_bins': 179}. Best is trial 155 with value: 0.4383561643835616.\n",
      "[I 2025-08-24 15:15:39,906] Trial 170 finished with value: 0.3888888888888889 and parameters: {'learning_rate': 0.011312338802979553, 'max_depth': 12, 'max_iter': 127, 'min_samples_leaf': 1, 'l2_regularization': 1.6689721608887769, 'max_bins': 184}. Best is trial 155 with value: 0.4383561643835616.\n",
      "[I 2025-08-24 15:15:38,546] Trial 171 finished with value: 0.35135135135135137 and parameters: {'learning_rate': 0.013277009029441565, 'max_depth': 12, 'max_iter': 116, 'min_samples_leaf': 2, 'l2_regularization': 1.5325120406547101, 'max_bins': 188}. Best is trial 155 with value: 0.4383561643835616.\n",
      "[I 2025-08-24 15:15:39,750] Trial 172 finished with value: 0.4 and parameters: {'learning_rate': 0.014138216279508155, 'max_depth': 12, 'max_iter': 124, 'min_samples_leaf': 1, 'l2_regularization': 1.579358124521763, 'max_bins': 188}. Best is trial 155 with value: 0.4383561643835616.\n",
      "[I 2025-08-24 15:15:40,771] Trial 173 finished with value: 0.3888888888888889 and parameters: {'learning_rate': 0.013975242049595684, 'max_depth': 12, 'max_iter': 107, 'min_samples_leaf': 1, 'l2_regularization': 1.6187815470421443, 'max_bins': 186}. Best is trial 155 with value: 0.4383561643835616.\n",
      "[I 2025-08-24 15:15:42,093] Trial 174 finished with value: 0.4117647058823529 and parameters: {'learning_rate': 0.012483991719494105, 'max_depth': 12, 'max_iter': 132, 'min_samples_leaf': 1, 'l2_regularization': 1.5738703667398235, 'max_bins': 194}. Best is trial 155 with value: 0.4383561643835616.\n",
      "[I 2025-08-24 15:15:43,385] Trial 175 finished with value: 0.4 and parameters: {'learning_rate': 0.012094999607311946, 'max_depth': 13, 'max_iter': 135, 'min_samples_leaf': 1, 'l2_regularization': 1.7109452192986045, 'max_bins': 195}. Best is trial 155 with value: 0.4383561643835616.\n",
      "[I 2025-08-24 15:15:44,779] Trial 176 finished with value: 0.4057971014492754 and parameters: {'learning_rate': 0.012079518606091407, 'max_depth': 13, 'max_iter': 145, 'min_samples_leaf': 1, 'l2_regularization': 1.6868368929625914, 'max_bins': 196}. Best is trial 155 with value: 0.4383561643835616.\n",
      "[I 2025-08-24 15:15:46,163] Trial 177 finished with value: 0.4057971014492754 and parameters: {'learning_rate': 0.01241364419675402, 'max_depth': 13, 'max_iter': 137, 'min_samples_leaf': 1, 'l2_regularization': 1.7636923171568366, 'max_bins': 196}. Best is trial 155 with value: 0.4383561643835616.\n",
      "[I 2025-08-24 15:15:47,475] Trial 178 finished with value: 0.37142857142857144 and parameters: {'learning_rate': 0.011967207366890026, 'max_depth': 13, 'max_iter': 136, 'min_samples_leaf': 1, 'l2_regularization': 1.754717358656594, 'max_bins': 195}. Best is trial 155 with value: 0.4383561643835616.\n",
      "[I 2025-08-24 15:15:48,823] Trial 179 finished with value: 0.39436619718309857 and parameters: {'learning_rate': 0.012683431704458908, 'max_depth': 13, 'max_iter': 141, 'min_samples_leaf': 1, 'l2_regularization': 1.706528475543185, 'max_bins': 195}. Best is trial 155 with value: 0.4383561643835616.\n",
      "[I 2025-08-24 15:15:50,122] Trial 180 finished with value: 0.37333333333333335 and parameters: {'learning_rate': 0.01143406912796119, 'max_depth': 13, 'max_iter': 130, 'min_samples_leaf': 1, 'l2_regularization': 1.7608512304876032, 'max_bins': 198}. Best is trial 155 with value: 0.4383561643835616.\n",
      "[I 2025-08-24 15:15:51,435] Trial 181 finished with value: 0.4411764705882353 and parameters: {'learning_rate': 0.012522777977234938, 'max_depth': 13, 'max_iter': 131, 'min_samples_leaf': 1, 'l2_regularization': 1.6256016475185233, 'max_bins': 193}. Best is trial 181 with value: 0.4411764705882353.\n",
      "[I 2025-08-24 15:15:52,707] Trial 182 finished with value: 0.36363636363636365 and parameters: {'learning_rate': 0.013200799813755142, 'max_depth': 13, 'max_iter': 132, 'min_samples_leaf': 1, 'l2_regularization': 1.8323581393426123, 'max_bins': 200}. Best is trial 181 with value: 0.4411764705882353.\n",
      "[I 2025-08-24 15:15:54,058] Trial 183 finished with value: 0.3888888888888889 and parameters: {'learning_rate': 0.011895941416853425, 'max_depth': 13, 'max_iter': 143, 'min_samples_leaf': 1, 'l2_regularization': 1.678674955614902, 'max_bins': 196}. Best is trial 181 with value: 0.4411764705882353.\n",
      "[I 2025-08-24 15:15:55,289] Trial 184 finished with value: 0.3561643835616438 and parameters: {'learning_rate': 0.012674083743233753, 'max_depth': 14, 'max_iter': 122, 'min_samples_leaf': 1, 'l2_regularization': 1.882486131832395, 'max_bins': 192}. Best is trial 181 with value: 0.4411764705882353.\n",
      "[I 2025-08-24 15:15:56,534] Trial 185 finished with value: 0.37333333333333335 and parameters: {'learning_rate': 0.013925929999735315, 'max_depth': 12, 'max_iter': 135, 'min_samples_leaf': 2, 'l2_regularization': 1.6380211436952543, 'max_bins': 203}. Best is trial 181 with value: 0.4411764705882353.\n",
      "[I 2025-08-24 15:16:00,313] Trial 186 finished with value: 0.3561643835616438 and parameters: {'learning_rate': 0.010764528552522447, 'max_depth': 13, 'max_iter': 388, 'min_samples_leaf': 1, 'l2_regularization': 1.58221844233415, 'max_bins': 193}. Best is trial 181 with value: 0.4411764705882353.\n",
      "[I 2025-08-24 15:16:01,537] Trial 187 finished with value: 0.43478260869565216 and parameters: {'learning_rate': 0.01339504847759026, 'max_depth': 12, 'max_iter': 128, 'min_samples_leaf': 1, 'l2_regularization': 1.6379521560896317, 'max_bins': 189}. Best is trial 181 with value: 0.4411764705882353.\n",
      "[I 2025-08-24 15:16:02,697] Trial 188 finished with value: 0.37333333333333335 and parameters: {'learning_rate': 0.01242293360752157, 'max_depth': 12, 'max_iter': 124, 'min_samples_leaf': 2, 'l2_regularization': 1.7840751105442063, 'max_bins': 197}. Best is trial 181 with value: 0.4411764705882353.\n",
      "[I 2025-08-24 15:16:03,925] Trial 189 finished with value: 0.4225352112676056 and parameters: {'learning_rate': 0.01130647213112393, 'max_depth': 13, 'max_iter': 128, 'min_samples_leaf': 1, 'l2_regularization': 1.685322033188853, 'max_bins': 190}. Best is trial 181 with value: 0.4411764705882353.\n",
      "[I 2025-08-24 15:16:05,304] Trial 190 finished with value: 0.4225352112676056 and parameters: {'learning_rate': 0.011262904043897359, 'max_depth': 13, 'max_iter': 146, 'min_samples_leaf': 1, 'l2_regularization': 1.720880023841808, 'max_bins': 191}. Best is trial 181 with value: 0.4411764705882353.\n",
      "[I 2025-08-24 15:16:06,394] Trial 191 finished with value: 0.3333333333333333 and parameters: {'learning_rate': 0.01137803948384005, 'max_depth': 13, 'max_iter': 143, 'min_samples_leaf': 12, 'l2_regularization': 1.7260541580647106, 'max_bins': 192}. Best is trial 181 with value: 0.4411764705882353.\n",
      "[I 2025-08-24 15:16:07,642] Trial 192 finished with value: 0.4444444444444444 and parameters: {'learning_rate': 0.011262698411702979, 'max_depth': 14, 'max_iter': 132, 'min_samples_leaf': 1, 'l2_regularization': 1.7020702651692257, 'max_bins': 189}. Best is trial 192 with value: 0.4444444444444444.\n",
      "[I 2025-08-24 15:16:09,120] Trial 193 finished with value: 0.4166666666666667 and parameters: {'learning_rate': 0.010745370570797087, 'max_depth': 14, 'max_iter': 152, 'min_samples_leaf': 1, 'l2_regularization': 1.6673639820428612, 'max_bins': 190}. Best is trial 192 with value: 0.4444444444444444.\n",
      "[I 2025-08-24 15:16:08,220] Trial 194 finished with value: 0.4166666666666667 and parameters: {'learning_rate': 0.010735460335025985, 'max_depth': 14, 'max_iter': 155, 'min_samples_leaf': 1, 'l2_regularization': 1.6528982020080818, 'max_bins': 190}. Best is trial 192 with value: 0.4444444444444444.\n",
      "[I 2025-08-24 15:16:09,691] Trial 195 finished with value: 0.4383561643835616 and parameters: {'learning_rate': 0.011035903612912673, 'max_depth': 14, 'max_iter': 154, 'min_samples_leaf': 1, 'l2_regularization': 1.6697848895454304, 'max_bins': 189}. Best is trial 192 with value: 0.4444444444444444.\n",
      "[I 2025-08-24 15:16:11,112] Trial 196 finished with value: 0.43478260869565216 and parameters: {'learning_rate': 0.010602567163438147, 'max_depth': 14, 'max_iter': 152, 'min_samples_leaf': 1, 'l2_regularization': 1.6652749835615477, 'max_bins': 190}. Best is trial 192 with value: 0.4444444444444444.\n",
      "[I 2025-08-24 15:16:12,001] Trial 197 finished with value: 0.34285714285714286 and parameters: {'learning_rate': 0.010876681775346677, 'max_depth': 14, 'max_iter': 146, 'min_samples_leaf': 19, 'l2_regularization': 1.664527435831202, 'max_bins': 189}. Best is trial 192 with value: 0.4444444444444444.\n",
      "[I 2025-08-24 15:16:13,509] Trial 198 finished with value: 0.43478260869565216 and parameters: {'learning_rate': 0.010991385147110547, 'max_depth': 14, 'max_iter': 153, 'min_samples_leaf': 1, 'l2_regularization': 1.6429128955415915, 'max_bins': 193}. Best is trial 192 with value: 0.4444444444444444.\n",
      "[I 2025-08-24 15:16:15,125] Trial 199 finished with value: 0.39436619718309857 and parameters: {'learning_rate': 0.010672968309803932, 'max_depth': 14, 'max_iter': 160, 'min_samples_leaf': 1, 'l2_regularization': 1.6314702940895054, 'max_bins': 191}. Best is trial 192 with value: 0.4444444444444444.\n",
      "[I 2025-08-24 15:16:16,556] Trial 200 finished with value: 0.3835616438356164 and parameters: {'learning_rate': 0.010541115661715722, 'max_depth': 14, 'max_iter': 157, 'min_samples_leaf': 2, 'l2_regularization': 1.6872194524283455, 'max_bins': 193}. Best is trial 192 with value: 0.4444444444444444.\n",
      "[I 2025-08-24 15:16:17,938] Trial 201 finished with value: 0.43478260869565216 and parameters: {'learning_rate': 0.01120759811964507, 'max_depth': 14, 'max_iter': 150, 'min_samples_leaf': 1, 'l2_regularization': 1.8056765028538884, 'max_bins': 189}. Best is trial 192 with value: 0.4444444444444444.\n",
      "[I 2025-08-24 15:16:19,396] Trial 202 finished with value: 0.4225352112676056 and parameters: {'learning_rate': 0.01107502904550572, 'max_depth': 14, 'max_iter': 153, 'min_samples_leaf': 1, 'l2_regularization': 1.8070351102178306, 'max_bins': 189}. Best is trial 192 with value: 0.4444444444444444.\n",
      "[I 2025-08-24 15:16:20,919] Trial 203 finished with value: 0.410958904109589 and parameters: {'learning_rate': 0.011047270710839607, 'max_depth': 14, 'max_iter': 153, 'min_samples_leaf': 1, 'l2_regularization': 1.8602001349228436, 'max_bins': 190}. Best is trial 192 with value: 0.4444444444444444.\n",
      "[I 2025-08-24 15:16:22,410] Trial 204 finished with value: 0.43478260869565216 and parameters: {'learning_rate': 0.010156153483413873, 'max_depth': 14, 'max_iter': 155, 'min_samples_leaf': 1, 'l2_regularization': 1.8150476757135543, 'max_bins': 190}. Best is trial 192 with value: 0.4444444444444444.\n",
      "[I 2025-08-24 15:16:23,964] Trial 205 finished with value: 0.4225352112676056 and parameters: {'learning_rate': 0.010140629139772156, 'max_depth': 15, 'max_iter': 156, 'min_samples_leaf': 1, 'l2_regularization': 1.8457632263502344, 'max_bins': 189}. Best is trial 192 with value: 0.4444444444444444.\n",
      "[I 2025-08-24 15:16:25,435] Trial 206 finished with value: 0.4166666666666667 and parameters: {'learning_rate': 0.010041449038689466, 'max_depth': 15, 'max_iter': 155, 'min_samples_leaf': 1, 'l2_regularization': 1.860139797026593, 'max_bins': 189}. Best is trial 192 with value: 0.4444444444444444.\n",
      "[I 2025-08-24 15:16:26,912] Trial 207 finished with value: 0.4166666666666667 and parameters: {'learning_rate': 0.010283908926852492, 'max_depth': 15, 'max_iter': 153, 'min_samples_leaf': 1, 'l2_regularization': 1.8419233642660195, 'max_bins': 189}. Best is trial 192 with value: 0.4444444444444444.\n",
      "[I 2025-08-24 15:16:28,418] Trial 208 finished with value: 0.4166666666666667 and parameters: {'learning_rate': 0.010087132167396162, 'max_depth': 15, 'max_iter': 152, 'min_samples_leaf': 1, 'l2_regularization': 1.8971273323638502, 'max_bins': 189}. Best is trial 192 with value: 0.4444444444444444.\n",
      "[I 2025-08-24 15:16:29,891] Trial 209 finished with value: 0.3888888888888889 and parameters: {'learning_rate': 0.0100921857056792, 'max_depth': 15, 'max_iter': 154, 'min_samples_leaf': 2, 'l2_regularization': 1.9654724506209131, 'max_bins': 190}. Best is trial 192 with value: 0.4444444444444444.\n",
      "[I 2025-08-24 15:16:31,452] Trial 210 finished with value: 0.3888888888888889 and parameters: {'learning_rate': 0.0100754258176587, 'max_depth': 15, 'max_iter': 163, 'min_samples_leaf': 2, 'l2_regularization': 1.9258233077183684, 'max_bins': 188}. Best is trial 192 with value: 0.4444444444444444.\n",
      "[I 2025-08-24 15:16:32,966] Trial 211 finished with value: 0.4 and parameters: {'learning_rate': 0.010684371885043262, 'max_depth': 15, 'max_iter': 153, 'min_samples_leaf': 1, 'l2_regularization': 1.8093953120006985, 'max_bins': 188}. Best is trial 192 with value: 0.4444444444444444.\n",
      "[I 2025-08-24 15:16:34,432] Trial 212 finished with value: 0.3888888888888889 and parameters: {'learning_rate': 0.010025835289165622, 'max_depth': 14, 'max_iter': 152, 'min_samples_leaf': 1, 'l2_regularization': 1.8577188554408848, 'max_bins': 186}. Best is trial 192 with value: 0.4444444444444444.\n",
      "[I 2025-08-24 15:16:36,000] Trial 213 finished with value: 0.4225352112676056 and parameters: {'learning_rate': 0.010913768186839921, 'max_depth': 15, 'max_iter': 158, 'min_samples_leaf': 1, 'l2_regularization': 1.9120564594495, 'max_bins': 190}. Best is trial 192 with value: 0.4444444444444444.\n",
      "[I 2025-08-24 15:16:37,579] Trial 214 finished with value: 0.3561643835616438 and parameters: {'learning_rate': 0.010990925904574216, 'max_depth': 15, 'max_iter': 162, 'min_samples_leaf': 1, 'l2_regularization': 1.9322838640401765, 'max_bins': 192}. Best is trial 192 with value: 0.4444444444444444.\n",
      "[I 2025-08-24 15:16:39,084] Trial 215 finished with value: 0.4225352112676056 and parameters: {'learning_rate': 0.01063480582277444, 'max_depth': 14, 'max_iter': 150, 'min_samples_leaf': 1, 'l2_regularization': 1.9945835113364636, 'max_bins': 190}. Best is trial 192 with value: 0.4444444444444444.\n",
      "[I 2025-08-24 15:16:38,088] Trial 216 finished with value: 0.4225352112676056 and parameters: {'learning_rate': 0.010476542487355918, 'max_depth': 14, 'max_iter': 150, 'min_samples_leaf': 1, 'l2_regularization': 1.987776185364037, 'max_bins': 190}. Best is trial 192 with value: 0.4444444444444444.\n",
      "[I 2025-08-24 15:16:39,695] Trial 217 finished with value: 0.35135135135135137 and parameters: {'learning_rate': 0.010779368497309785, 'max_depth': 14, 'max_iter': 167, 'min_samples_leaf': 1, 'l2_regularization': 1.9738855894860925, 'max_bins': 192}. Best is trial 192 with value: 0.4444444444444444.\n",
      "[I 2025-08-24 15:16:41,164] Trial 218 finished with value: 0.3611111111111111 and parameters: {'learning_rate': 0.010782770780518041, 'max_depth': 14, 'max_iter': 159, 'min_samples_leaf': 2, 'l2_regularization': 1.8075654340483966, 'max_bins': 190}. Best is trial 192 with value: 0.4444444444444444.\n",
      "[I 2025-08-24 15:16:42,605] Trial 219 finished with value: 0.3888888888888889 and parameters: {'learning_rate': 0.01127408591287455, 'max_depth': 14, 'max_iter': 149, 'min_samples_leaf': 1, 'l2_regularization': 1.9827333973884802, 'max_bins': 194}. Best is trial 192 with value: 0.4444444444444444.\n",
      "[I 2025-08-24 15:16:44,335] Trial 220 finished with value: 0.42857142857142855 and parameters: {'learning_rate': 0.011357151062930611, 'max_depth': 15, 'max_iter': 175, 'min_samples_leaf': 1, 'l2_regularization': 1.847054219617343, 'max_bins': 191}. Best is trial 192 with value: 0.4444444444444444.\n",
      "[I 2025-08-24 15:16:46,056] Trial 221 finished with value: 0.42857142857142855 and parameters: {'learning_rate': 0.011222689545063027, 'max_depth': 15, 'max_iter': 174, 'min_samples_leaf': 1, 'l2_regularization': 1.857124794219913, 'max_bins': 191}. Best is trial 192 with value: 0.4444444444444444.\n",
      "[I 2025-08-24 15:16:47,774] Trial 222 finished with value: 0.37142857142857144 and parameters: {'learning_rate': 0.011347794835258669, 'max_depth': 14, 'max_iter': 173, 'min_samples_leaf': 1, 'l2_regularization': 1.9006600767388573, 'max_bins': 192}. Best is trial 192 with value: 0.4444444444444444.\n",
      "[I 2025-08-24 15:16:49,423] Trial 223 finished with value: 0.42857142857142855 and parameters: {'learning_rate': 0.011300531507658336, 'max_depth': 16, 'max_iter': 165, 'min_samples_leaf': 1, 'l2_regularization': 1.7904075099103496, 'max_bins': 191}. Best is trial 192 with value: 0.4444444444444444.\n",
      "[I 2025-08-24 15:16:51,124] Trial 224 finished with value: 0.34285714285714286 and parameters: {'learning_rate': 0.011222321772614082, 'max_depth': 16, 'max_iter': 176, 'min_samples_leaf': 2, 'l2_regularization': 1.785678423420715, 'max_bins': 192}. Best is trial 192 with value: 0.4444444444444444.\n",
      "[I 2025-08-24 15:16:52,843] Trial 225 finished with value: 0.4 and parameters: {'learning_rate': 0.011425915087527784, 'max_depth': 14, 'max_iter': 165, 'min_samples_leaf': 1, 'l2_regularization': 1.7448346911811026, 'max_bins': 186}. Best is trial 192 with value: 0.4444444444444444.\n",
      "[I 2025-08-24 15:16:54,457] Trial 226 finished with value: 0.4057971014492754 and parameters: {'learning_rate': 0.010752430083734664, 'max_depth': 14, 'max_iter': 163, 'min_samples_leaf': 1, 'l2_regularization': 1.8003611624044784, 'max_bins': 194}. Best is trial 192 with value: 0.4444444444444444.\n",
      "[I 2025-08-24 15:16:55,849] Trial 227 finished with value: 0.4 and parameters: {'learning_rate': 0.011512775383325046, 'max_depth': 16, 'max_iter': 146, 'min_samples_leaf': 2, 'l2_regularization': 1.9984424095988156, 'max_bins': 191}. Best is trial 192 with value: 0.4444444444444444.\n",
      "[I 2025-08-24 15:16:57,519] Trial 228 finished with value: 0.3287671232876712 and parameters: {'learning_rate': 0.010618950130761806, 'max_depth': 14, 'max_iter': 176, 'min_samples_leaf': 1, 'l2_regularization': 1.928283111150278, 'max_bins': 185}. Best is trial 192 with value: 0.4444444444444444.\n",
      "[I 2025-08-24 15:16:58,980] Trial 229 finished with value: 0.3611111111111111 and parameters: {'learning_rate': 0.01140283951094083, 'max_depth': 15, 'max_iter': 157, 'min_samples_leaf': 2, 'l2_regularization': 1.7273672444908368, 'max_bins': 190}. Best is trial 192 with value: 0.4444444444444444.\n",
      "[I 2025-08-24 15:17:00,383] Trial 230 finished with value: 0.39436619718309857 and parameters: {'learning_rate': 0.010625132191572064, 'max_depth': 14, 'max_iter': 146, 'min_samples_leaf': 1, 'l2_regularization': 1.947103138568868, 'max_bins': 194}. Best is trial 192 with value: 0.4444444444444444.\n",
      "[I 2025-08-24 15:17:01,892] Trial 231 finished with value: 0.4 and parameters: {'learning_rate': 0.010065682009559184, 'max_depth': 15, 'max_iter': 159, 'min_samples_leaf': 1, 'l2_regularization': 1.8648151474580719, 'max_bins': 188}. Best is trial 192 with value: 0.4444444444444444.\n",
      "[I 2025-08-24 15:17:03,609] Trial 232 finished with value: 0.4225352112676056 and parameters: {'learning_rate': 0.01054985381486614, 'max_depth': 15, 'max_iter': 171, 'min_samples_leaf': 1, 'l2_regularization': 1.8281278932824139, 'max_bins': 190}. Best is trial 192 with value: 0.4444444444444444.\n",
      "[I 2025-08-24 15:17:06,779] Trial 233 finished with value: 0.37681159420289856 and parameters: {'learning_rate': 0.011038715435069745, 'max_depth': 16, 'max_iter': 315, 'min_samples_leaf': 1, 'l2_regularization': 1.8082098949845629, 'max_bins': 191}. Best is trial 192 with value: 0.4444444444444444.\n",
      "[I 2025-08-24 15:17:08,479] Trial 234 finished with value: 0.39436619718309857 and parameters: {'learning_rate': 0.011750618584048267, 'max_depth': 15, 'max_iter': 170, 'min_samples_leaf': 1, 'l2_regularization': 1.7593402313571957, 'max_bins': 186}. Best is trial 192 with value: 0.4444444444444444.\n",
      "[I 2025-08-24 15:17:07,594] Trial 235 finished with value: 0.42857142857142855 and parameters: {'learning_rate': 0.010584883594893906, 'max_depth': 14, 'max_iter': 167, 'min_samples_leaf': 1, 'l2_regularization': 1.8993043633388926, 'max_bins': 193}. Best is trial 192 with value: 0.4444444444444444.\n",
      "[I 2025-08-24 15:17:09,406] Trial 236 finished with value: 0.4117647058823529 and parameters: {'learning_rate': 0.011547817597564375, 'max_depth': 14, 'max_iter': 185, 'min_samples_leaf': 1, 'l2_regularization': 1.8886240880057836, 'max_bins': 194}. Best is trial 192 with value: 0.4444444444444444.\n",
      "[I 2025-08-24 15:17:11,183] Trial 237 finished with value: 0.40540540540540543 and parameters: {'learning_rate': 0.010684955450646813, 'max_depth': 14, 'max_iter': 176, 'min_samples_leaf': 2, 'l2_regularization': 1.8320216979986155, 'max_bins': 198}. Best is trial 192 with value: 0.4444444444444444.\n",
      "[I 2025-08-24 15:17:12,813] Trial 238 finished with value: 0.3888888888888889 and parameters: {'learning_rate': 0.011608272600858352, 'max_depth': 15, 'max_iter': 166, 'min_samples_leaf': 1, 'l2_regularization': 1.9016763542488224, 'max_bins': 193}. Best is trial 192 with value: 0.4444444444444444.\n",
      "[I 2025-08-24 15:17:13,976] Trial 239 finished with value: 0.3055555555555556 and parameters: {'learning_rate': 0.01112733534668381, 'max_depth': 14, 'max_iter': 142, 'min_samples_leaf': 7, 'l2_regularization': 1.7704283067607463, 'max_bins': 188}. Best is trial 192 with value: 0.4444444444444444.\n",
      "[I 2025-08-24 15:17:15,743] Trial 240 finished with value: 0.39436619718309857 and parameters: {'learning_rate': 0.010515887319819254, 'max_depth': 14, 'max_iter': 184, 'min_samples_leaf': 2, 'l2_regularization': 1.6961734400290913, 'max_bins': 196}. Best is trial 192 with value: 0.4444444444444444.\n",
      "[I 2025-08-24 15:17:17,283] Trial 241 finished with value: 0.42857142857142855 and parameters: {'learning_rate': 0.010012511883933777, 'max_depth': 14, 'max_iter': 158, 'min_samples_leaf': 1, 'l2_regularization': 1.6596684023983623, 'max_bins': 190}. Best is trial 192 with value: 0.4444444444444444.\n",
      "[I 2025-08-24 15:17:18,952] Trial 242 finished with value: 0.42857142857142855 and parameters: {'learning_rate': 0.01004969348983674, 'max_depth': 15, 'max_iter': 167, 'min_samples_leaf': 1, 'l2_regularization': 1.7261408393824245, 'max_bins': 191}. Best is trial 192 with value: 0.4444444444444444.\n",
      "[I 2025-08-24 15:17:20,582] Trial 243 finished with value: 0.36619718309859156 and parameters: {'learning_rate': 0.010005831350113032, 'max_depth': 15, 'max_iter': 167, 'min_samples_leaf': 1, 'l2_regularization': 1.73672503927324, 'max_bins': 192}. Best is trial 192 with value: 0.4444444444444444.\n",
      "[I 2025-08-24 15:17:22,285] Trial 244 finished with value: 0.3888888888888889 and parameters: {'learning_rate': 0.011682551880808165, 'max_depth': 15, 'max_iter': 169, 'min_samples_leaf': 1, 'l2_regularization': 1.8374927635623277, 'max_bins': 187}. Best is trial 192 with value: 0.4444444444444444.\n",
      "[I 2025-08-24 15:17:23,943] Trial 245 finished with value: 0.35135135135135137 and parameters: {'learning_rate': 0.01048514638974877, 'max_depth': 16, 'max_iter': 160, 'min_samples_leaf': 1, 'l2_regularization': 1.7899750212308467, 'max_bins': 192}. Best is trial 192 with value: 0.4444444444444444.\n",
      "[I 2025-08-24 15:17:25,700] Trial 246 finished with value: 0.3380281690140845 and parameters: {'learning_rate': 0.01000499263710452, 'max_depth': 15, 'max_iter': 177, 'min_samples_leaf': 1, 'l2_regularization': 1.7142290804711695, 'max_bins': 185}. Best is trial 192 with value: 0.4444444444444444.\n",
      "[I 2025-08-24 15:17:27,146] Trial 247 finished with value: 0.43478260869565216 and parameters: {'learning_rate': 0.011171981702546333, 'max_depth': 14, 'max_iter': 148, 'min_samples_leaf': 1, 'l2_regularization': 1.999259971580509, 'max_bins': 189}. Best is trial 192 with value: 0.4444444444444444.\n",
      "[I 2025-08-24 15:17:28,620] Trial 248 finished with value: 0.39436619718309857 and parameters: {'learning_rate': 0.011058218891575437, 'max_depth': 14, 'max_iter': 146, 'min_samples_leaf': 2, 'l2_regularization': 1.9967814311035326, 'max_bins': 195}. Best is trial 192 with value: 0.4444444444444444.\n",
      "[I 2025-08-24 15:17:30,201] Trial 249 finished with value: 0.4057971014492754 and parameters: {'learning_rate': 0.011877553473081936, 'max_depth': 14, 'max_iter': 160, 'min_samples_leaf': 1, 'l2_regularization': 1.9447041926618776, 'max_bins': 188}. Best is trial 192 with value: 0.4444444444444444.\n",
      "[I 2025-08-24 15:17:31,583] Trial 250 finished with value: 0.4411764705882353 and parameters: {'learning_rate': 0.0111437163176493, 'max_depth': 15, 'max_iter': 140, 'min_samples_leaf': 1, 'l2_regularization': 1.8892181312603928, 'max_bins': 193}. Best is trial 192 with value: 0.4444444444444444.\n",
      "[I 2025-08-24 15:17:32,957] Trial 251 finished with value: 0.273972602739726 and parameters: {'learning_rate': 0.1926249028935823, 'max_depth': 14, 'max_iter': 139, 'min_samples_leaf': 2, 'l2_regularization': 1.8853171297081117, 'max_bins': 193}. Best is trial 192 with value: 0.4444444444444444.\n",
      "[I 2025-08-24 15:17:34,375] Trial 252 finished with value: 0.3783783783783784 and parameters: {'learning_rate': 0.011321903180908418, 'max_depth': 15, 'max_iter': 147, 'min_samples_leaf': 1, 'l2_regularization': 1.9556783403865639, 'max_bins': 198}. Best is trial 192 with value: 0.4444444444444444.\n",
      "[I 2025-08-24 15:17:35,809] Trial 253 finished with value: 0.25 and parameters: {'learning_rate': 0.08103734331060795, 'max_depth': 16, 'max_iter': 139, 'min_samples_leaf': 1, 'l2_regularization': 1.869326436406457, 'max_bins': 195}. Best is trial 192 with value: 0.4444444444444444.\n",
      "[I 2025-08-24 15:17:37,285] Trial 254 finished with value: 0.3783783783783784 and parameters: {'learning_rate': 0.011950334278008505, 'max_depth': 14, 'max_iter': 148, 'min_samples_leaf': 1, 'l2_regularization': 1.921459753681991, 'max_bins': 186}. Best is trial 192 with value: 0.4444444444444444.\n",
      "[I 2025-08-24 15:17:38,776] Trial 255 finished with value: 0.37142857142857144 and parameters: {'learning_rate': 0.011047539720830814, 'max_depth': 14, 'max_iter': 155, 'min_samples_leaf': 2, 'l2_regularization': 1.6439342405437372, 'max_bins': 191}. Best is trial 192 with value: 0.4444444444444444.\n",
      "[I 2025-08-24 15:17:37,685] Trial 256 finished with value: 0.40540540540540543 and parameters: {'learning_rate': 0.010042690977336857, 'max_depth': 15, 'max_iter': 140, 'min_samples_leaf': 1, 'l2_regularization': 1.7446672785996715, 'max_bins': 188}. Best is trial 192 with value: 0.4444444444444444.\n",
      "[I 2025-08-24 15:17:41,053] Trial 257 finished with value: 0.30985915492957744 and parameters: {'learning_rate': 0.01221962375733628, 'max_depth': 14, 'max_iter': 363, 'min_samples_leaf': 2, 'l2_regularization': 1.9606409651091425, 'max_bins': 193}. Best is trial 192 with value: 0.4444444444444444.\n",
      "[I 2025-08-24 15:17:42,535] Trial 258 finished with value: 0.3835616438356164 and parameters: {'learning_rate': 0.010633264255214719, 'max_depth': 15, 'max_iter': 149, 'min_samples_leaf': 1, 'l2_regularization': 1.7880765914738632, 'max_bins': 184}. Best is trial 192 with value: 0.4444444444444444.\n",
      "[I 2025-08-24 15:17:44,139] Trial 259 finished with value: 0.42857142857142855 and parameters: {'learning_rate': 0.011150832218865583, 'max_depth': 14, 'max_iter': 161, 'min_samples_leaf': 1, 'l2_regularization': 1.909063465648956, 'max_bins': 190}. Best is trial 192 with value: 0.4444444444444444.\n",
      "[I 2025-08-24 15:17:45,723] Trial 260 finished with value: 0.37142857142857144 and parameters: {'learning_rate': 0.011332283393545532, 'max_depth': 14, 'max_iter': 163, 'min_samples_leaf': 1, 'l2_regularization': 1.8510928024282245, 'max_bins': 195}. Best is trial 192 with value: 0.4444444444444444.\n",
      "[I 2025-08-24 15:17:47,276] Trial 261 finished with value: 0.3611111111111111 and parameters: {'learning_rate': 0.012161076895275935, 'max_depth': 16, 'max_iter': 158, 'min_samples_leaf': 2, 'l2_regularization': 1.8998226354210963, 'max_bins': 188}. Best is trial 192 with value: 0.4444444444444444.\n",
      "[I 2025-08-24 15:17:49,279] Trial 262 finished with value: 0.3611111111111111 and parameters: {'learning_rate': 0.011209796347051552, 'max_depth': 15, 'max_iter': 191, 'min_samples_leaf': 1, 'l2_regularization': 1.700297329846218, 'max_bins': 192}. Best is trial 192 with value: 0.4444444444444444.\n",
      "[I 2025-08-24 15:17:50,667] Trial 263 finished with value: 0.2702702702702703 and parameters: {'learning_rate': 0.15434101990821483, 'max_depth': 14, 'max_iter': 168, 'min_samples_leaf': 17, 'l2_regularization': 1.8177954190716537, 'max_bins': 186}. Best is trial 192 with value: 0.4444444444444444.\n",
      "[I 2025-08-24 15:17:52,197] Trial 264 finished with value: 0.37333333333333335 and parameters: {'learning_rate': 0.011857462540567396, 'max_depth': 14, 'max_iter': 136, 'min_samples_leaf': 2, 'l2_regularization': 1.6194403217818107, 'max_bins': 197}. Best is trial 192 with value: 0.4444444444444444.\n",
      "[I 2025-08-24 15:17:54,970] Trial 265 finished with value: 0.37142857142857144 and parameters: {'learning_rate': 0.011059821430666679, 'max_depth': 15, 'max_iter': 259, 'min_samples_leaf': 1, 'l2_regularization': 1.755037080972847, 'max_bins': 190}. Best is trial 192 with value: 0.4444444444444444.\n",
      "[I 2025-08-24 15:17:56,563] Trial 266 finished with value: 0.37142857142857144 and parameters: {'learning_rate': 0.012989794168520048, 'max_depth': 13, 'max_iter': 154, 'min_samples_leaf': 1, 'l2_regularization': 1.9159518473608064, 'max_bins': 192}. Best is trial 192 with value: 0.4444444444444444.\n",
      "[I 2025-08-24 15:17:58,157] Trial 267 finished with value: 0.36619718309859156 and parameters: {'learning_rate': 0.010688021481502196, 'max_depth': 14, 'max_iter': 162, 'min_samples_leaf': 2, 'l2_regularization': 1.668177494796974, 'max_bins': 188}. Best is trial 192 with value: 0.4444444444444444.\n",
      "[I 2025-08-24 15:17:59,985] Trial 268 finished with value: 0.3783783783783784 and parameters: {'learning_rate': 0.01240851658429981, 'max_depth': 15, 'max_iter': 180, 'min_samples_leaf': 1, 'l2_regularization': 1.862160415844844, 'max_bins': 184}. Best is trial 192 with value: 0.4444444444444444.\n",
      "[I 2025-08-24 15:18:01,460] Trial 269 finished with value: 0.32432432432432434 and parameters: {'learning_rate': 0.011552270740675111, 'max_depth': 14, 'max_iter': 142, 'min_samples_leaf': 1, 'l2_regularization': 0.5974066732105625, 'max_bins': 194}. Best is trial 192 with value: 0.4444444444444444.\n",
      "[I 2025-08-24 15:18:03,233] Trial 270 finished with value: 0.36619718309859156 and parameters: {'learning_rate': 0.05142764242217824, 'max_depth': 13, 'max_iter': 173, 'min_samples_leaf': 1, 'l2_regularization': 1.722423055794875, 'max_bins': 190}. Best is trial 192 with value: 0.4444444444444444.\n",
      "[I 2025-08-24 15:18:04,660] Trial 271 finished with value: 0.3333333333333333 and parameters: {'learning_rate': 0.03494249788046683, 'max_depth': 15, 'max_iter': 135, 'min_samples_leaf': 2, 'l2_regularization': 1.7922574105947842, 'max_bins': 187}. Best is trial 192 with value: 0.4444444444444444.\n",
      "[I 2025-08-24 15:18:06,187] Trial 272 finished with value: 0.3835616438356164 and parameters: {'learning_rate': 0.0105043448675197, 'max_depth': 14, 'max_iter': 155, 'min_samples_leaf': 1, 'l2_regularization': 1.8320266424579605, 'max_bins': 199}. Best is trial 192 with value: 0.4444444444444444.\n",
      "[I 2025-08-24 15:18:07,620] Trial 273 finished with value: 0.43478260869565216 and parameters: {'learning_rate': 0.011166574010446679, 'max_depth': 14, 'max_iter': 146, 'min_samples_leaf': 1, 'l2_regularization': 1.6720258220271673, 'max_bins': 193}. Best is trial 192 with value: 0.4444444444444444.\n",
      "[I 2025-08-24 15:18:09,005] Trial 274 finished with value: 0.3611111111111111 and parameters: {'learning_rate': 0.01186460090099561, 'max_depth': 14, 'max_iter': 144, 'min_samples_leaf': 2, 'l2_regularization': 1.628913250980233, 'max_bins': 196}. Best is trial 192 with value: 0.4444444444444444.\n",
      "[I 2025-08-24 15:18:07,823] Trial 275 finished with value: 0.2571428571428571 and parameters: {'learning_rate': 0.012762633969845005, 'max_depth': 15, 'max_iter': 132, 'min_samples_leaf': 1, 'l2_regularization': 1.6689555621314558, 'max_bins': 146}. Best is trial 192 with value: 0.4444444444444444.\n",
      "[I 2025-08-24 15:18:09,106] Trial 276 finished with value: 0.37681159420289856 and parameters: {'learning_rate': 0.011406553027813363, 'max_depth': 16, 'max_iter': 164, 'min_samples_leaf': 10, 'l2_regularization': 1.7008521487148027, 'max_bins': 193}. Best is trial 192 with value: 0.4444444444444444.\n",
      "[I 2025-08-24 15:18:10,703] Trial 277 finished with value: 0.42857142857142855 and parameters: {'learning_rate': 0.011074349156313942, 'max_depth': 13, 'max_iter': 157, 'min_samples_leaf': 1, 'l2_regularization': 1.7428551426945995, 'max_bins': 193}. Best is trial 192 with value: 0.4444444444444444.\n",
      "[I 2025-08-24 15:18:12,069] Trial 278 finished with value: 0.40540540540540543 and parameters: {'learning_rate': 0.01009486986791649, 'max_depth': 13, 'max_iter': 141, 'min_samples_leaf': 2, 'l2_regularization': 1.7352372703031147, 'max_bins': 196}. Best is trial 192 with value: 0.4444444444444444.\n",
      "[I 2025-08-24 15:18:13,607] Trial 279 finished with value: 0.36363636363636365 and parameters: {'learning_rate': 0.010007000676856552, 'max_depth': 13, 'max_iter': 149, 'min_samples_leaf': 1, 'l2_regularization': 1.7693511732236455, 'max_bins': 199}. Best is trial 192 with value: 0.4444444444444444.\n",
      "[I 2025-08-24 15:18:15,381] Trial 280 finished with value: 0.39436619718309857 and parameters: {'learning_rate': 0.012215214032821897, 'max_depth': 13, 'max_iter': 174, 'min_samples_leaf': 1, 'l2_regularization': 1.6862182339855383, 'max_bins': 193}. Best is trial 192 with value: 0.4444444444444444.\n",
      "[I 2025-08-24 15:18:16,625] Trial 281 finished with value: 0.37333333333333335 and parameters: {'learning_rate': 0.01105597666070142, 'max_depth': 13, 'max_iter': 130, 'min_samples_leaf': 2, 'l2_regularization': 1.6440979357062417, 'max_bins': 194}. Best is trial 192 with value: 0.4444444444444444.\n",
      "[I 2025-08-24 15:18:18,207] Trial 282 finished with value: 0.4225352112676056 and parameters: {'learning_rate': 0.011701664164803997, 'max_depth': 14, 'max_iter': 162, 'min_samples_leaf': 1, 'l2_regularization': 1.793810478607563, 'max_bins': 191}. Best is trial 192 with value: 0.4444444444444444.\n",
      "[I 2025-08-24 15:18:19,627] Trial 283 finished with value: 0.4 and parameters: {'learning_rate': 0.012661174221402035, 'max_depth': 14, 'max_iter': 147, 'min_samples_leaf': 1, 'l2_regularization': 1.7311990004380675, 'max_bins': 187}. Best is trial 192 with value: 0.4444444444444444.\n",
      "[I 2025-08-24 15:18:21,212] Trial 284 finished with value: 0.45714285714285713 and parameters: {'learning_rate': 0.01118292023836174, 'max_depth': 13, 'max_iter': 157, 'min_samples_leaf': 1, 'l2_regularization': 1.6240267168954154, 'max_bins': 189}. Best is trial 284 with value: 0.45714285714285713.\n",
      "[I 2025-08-24 15:18:22,764] Trial 285 finished with value: 0.3888888888888889 and parameters: {'learning_rate': 0.013177431415155736, 'max_depth': 13, 'max_iter': 167, 'min_samples_leaf': 2, 'l2_regularization': 1.6110331275456193, 'max_bins': 184}. Best is trial 284 with value: 0.45714285714285713.\n",
      "[I 2025-08-24 15:18:24,161] Trial 286 finished with value: 0.3888888888888889 and parameters: {'learning_rate': 0.011797326318395113, 'max_depth': 13, 'max_iter': 137, 'min_samples_leaf': 1, 'l2_regularization': 1.6608514068280495, 'max_bins': 196}. Best is trial 284 with value: 0.45714285714285713.\n",
      "[I 2025-08-24 15:18:25,926] Trial 287 finished with value: 0.3611111111111111 and parameters: {'learning_rate': 0.01108443220331687, 'max_depth': 13, 'max_iter': 181, 'min_samples_leaf': 1, 'l2_regularization': 1.7046084747064745, 'max_bins': 192}. Best is trial 284 with value: 0.45714285714285713.\n",
      "[I 2025-08-24 15:18:27,406] Trial 288 finished with value: 0.4507042253521127 and parameters: {'learning_rate': 0.012164276834817458, 'max_depth': 14, 'max_iter': 155, 'min_samples_leaf': 2, 'l2_regularization': 1.6335877798395104, 'max_bins': 189}. Best is trial 284 with value: 0.45714285714285713.\n",
      "[I 2025-08-24 15:18:28,784] Trial 289 finished with value: 0.39436619718309857 and parameters: {'learning_rate': 0.012347501521140749, 'max_depth': 13, 'max_iter': 142, 'min_samples_leaf': 2, 'l2_regularization': 1.6173633257530116, 'max_bins': 194}. Best is trial 284 with value: 0.45714285714285713.\n",
      "[I 2025-08-24 15:18:32,836] Trial 290 finished with value: 0.26666666666666666 and parameters: {'learning_rate': 0.012831411266426717, 'max_depth': 14, 'max_iter': 411, 'min_samples_leaf': 1, 'l2_regularization': 1.656505365851403, 'max_bins': 201}. Best is trial 284 with value: 0.45714285714285713.\n",
      "[I 2025-08-24 15:18:34,401] Trial 291 finished with value: 0.39436619718309857 and parameters: {'learning_rate': 0.0117055773597409, 'max_depth': 13, 'max_iter': 169, 'min_samples_leaf': 2, 'l2_regularization': 1.6046824707116933, 'max_bins': 186}. Best is trial 284 with value: 0.45714285714285713.\n",
      "[I 2025-08-24 15:18:35,740] Trial 292 finished with value: 0.4057971014492754 and parameters: {'learning_rate': 0.012063120688317464, 'max_depth': 14, 'max_iter': 131, 'min_samples_leaf': 1, 'l2_regularization': 1.6680226938275318, 'max_bins': 191}. Best is trial 284 with value: 0.45714285714285713.\n",
      "[I 2025-08-24 15:18:37,039] Trial 293 finished with value: 0.29850746268656714 and parameters: {'learning_rate': 0.010723468448915932, 'max_depth': 14, 'max_iter': 159, 'min_samples_leaf': 8, 'l2_regularization': 1.698776061331769, 'max_bins': 188}. Best is trial 284 with value: 0.45714285714285713.\n",
      "[I 2025-08-24 15:18:38,590] Trial 294 finished with value: 0.39473684210526316 and parameters: {'learning_rate': 0.011294935381479288, 'max_depth': 14, 'max_iter': 151, 'min_samples_leaf': 1, 'l2_regularization': 1.7527242590505476, 'max_bins': 197}. Best is trial 284 with value: 0.45714285714285713.\n",
      "[I 2025-08-24 15:18:37,757] Trial 295 finished with value: 0.37142857142857144 and parameters: {'learning_rate': 0.01281561763343773, 'max_depth': 13, 'max_iter': 166, 'min_samples_leaf': 2, 'l2_regularization': 1.6434601274766876, 'max_bins': 193}. Best is trial 284 with value: 0.45714285714285713.\n",
      "[I 2025-08-24 15:18:39,198] Trial 296 finished with value: 0.3835616438356164 and parameters: {'learning_rate': 0.010580497750324885, 'max_depth': 14, 'max_iter': 142, 'min_samples_leaf': 1, 'l2_regularization': 1.5858423358544484, 'max_bins': 184}. Best is trial 284 with value: 0.45714285714285713.\n",
      "[I 2025-08-24 15:18:40,755] Trial 297 finished with value: 0.4383561643835616 and parameters: {'learning_rate': 0.011432774560383347, 'max_depth': 13, 'max_iter': 159, 'min_samples_leaf': 2, 'l2_regularization': 1.7252471916599197, 'max_bins': 189}. Best is trial 284 with value: 0.45714285714285713.\n",
      "[I 2025-08-24 15:18:42,513] Trial 298 finished with value: 0.36619718309859156 and parameters: {'learning_rate': 0.012182833565100007, 'max_depth': 14, 'max_iter': 180, 'min_samples_leaf': 2, 'l2_regularization': 1.7708709173761694, 'max_bins': 188}. Best is trial 284 with value: 0.45714285714285713.\n",
      "[I 2025-08-24 15:18:44,315] Trial 299 finished with value: 0.3611111111111111 and parameters: {'learning_rate': 0.013207037482032728, 'max_depth': 13, 'max_iter': 189, 'min_samples_leaf': 2, 'l2_regularization': 1.6888856388902078, 'max_bins': 186}. Best is trial 284 with value: 0.45714285714285713.\n"
     ]
    }
   ],
   "source": [
    "study = optuna.create_study(\n",
    "    direction=\"maximize\",\n",
    "    sampler=optuna.samplers.TPESampler(seed=SEED)\n",
    ")\n",
    "study.optimize(objective, n_trials=300)"
   ]
  },
  {
   "cell_type": "code",
   "execution_count": 16,
   "id": "57507a62",
   "metadata": {},
   "outputs": [
    {
     "data": {
      "application/vnd.plotly.v1+json": {
       "config": {
        "plotlyServerURL": "https://plot.ly"
       },
       "data": [
        {
         "mode": "markers",
         "name": "Objective Value",
         "type": "scatter",
         "x": [
          0,
          1,
          2,
          3,
          4,
          5,
          6,
          7,
          8,
          9,
          10,
          11,
          12,
          13,
          14,
          15,
          16,
          17,
          18,
          19,
          20,
          21,
          22,
          23,
          24,
          25,
          26,
          27,
          28,
          29,
          30,
          31,
          32,
          33,
          34,
          35,
          36,
          37,
          38,
          39,
          40,
          41,
          42,
          43,
          44,
          45,
          46,
          47,
          48,
          49,
          50,
          51,
          52,
          53,
          54,
          55,
          56,
          57,
          58,
          59,
          60,
          61,
          62,
          63,
          64,
          65,
          66,
          67,
          68,
          69,
          70,
          71,
          72,
          73,
          74,
          75,
          76,
          77,
          78,
          79,
          80,
          81,
          82,
          83,
          84,
          85,
          86,
          87,
          88,
          89,
          90,
          91,
          92,
          93,
          94,
          95,
          96,
          97,
          98,
          99,
          100,
          101,
          102,
          103,
          104,
          105,
          106,
          107,
          108,
          109,
          110,
          111,
          112,
          113,
          114,
          115,
          116,
          117,
          118,
          119,
          120,
          121,
          122,
          123,
          124,
          125,
          126,
          127,
          128,
          129,
          130,
          131,
          132,
          133,
          134,
          135,
          136,
          137,
          138,
          139,
          140,
          141,
          142,
          143,
          144,
          145,
          146,
          147,
          148,
          149,
          150,
          151,
          152,
          153,
          154,
          155,
          156,
          157,
          158,
          159,
          160,
          161,
          162,
          163,
          164,
          165,
          166,
          167,
          168,
          169,
          170,
          171,
          172,
          173,
          174,
          175,
          176,
          177,
          178,
          179,
          180,
          181,
          182,
          183,
          184,
          185,
          186,
          187,
          188,
          189,
          190,
          191,
          192,
          193,
          194,
          195,
          196,
          197,
          198,
          199,
          200,
          201,
          202,
          203,
          204,
          205,
          206,
          207,
          208,
          209,
          210,
          211,
          212,
          213,
          214,
          215,
          216,
          217,
          218,
          219,
          220,
          221,
          222,
          223,
          224,
          225,
          226,
          227,
          228,
          229,
          230,
          231,
          232,
          233,
          234,
          235,
          236,
          237,
          238,
          239,
          240,
          241,
          242,
          243,
          244,
          245,
          246,
          247,
          248,
          249,
          250,
          251,
          252,
          253,
          254,
          255,
          256,
          257,
          258,
          259,
          260,
          261,
          262,
          263,
          264,
          265,
          266,
          267,
          268,
          269,
          270,
          271,
          272,
          273,
          274,
          275,
          276,
          277,
          278,
          279,
          280,
          281,
          282,
          283,
          284,
          285,
          286,
          287,
          288,
          289,
          290,
          291,
          292,
          293,
          294,
          295,
          296,
          297,
          298,
          299
         ],
         "y": [
          0.3561643835616438,
          0.273972602739726,
          0.3380281690140845,
          0.21621621621621623,
          0.3055555555555556,
          0.22535211267605634,
          0.2857142857142857,
          0.2222222222222222,
          0.3188405797101449,
          0.29850746268656714,
          0.24615384615384617,
          0.2898550724637681,
          0.2898550724637681,
          0.2465753424657534,
          0.2222222222222222,
          0.24615384615384617,
          0.26865671641791045,
          0.2535211267605634,
          0.3333333333333333,
          0.2898550724637681,
          0.2318840579710145,
          0.34782608695652173,
          0.30985915492957744,
          0.3611111111111111,
          0.39436619718309857,
          0.34782608695652173,
          0.3142857142857143,
          0.3684210526315789,
          0.37681159420289856,
          0.2608695652173913,
          0.35294117647058826,
          0.3783783783783784,
          0.3380281690140845,
          0.2857142857142857,
          0.273972602739726,
          0.29850746268656714,
          0.3380281690140845,
          0.2571428571428571,
          0.30985915492957744,
          0.34782608695652173,
          0.28169014084507044,
          0.34285714285714286,
          0.4057971014492754,
          0.36619718309859156,
          0.36619718309859156,
          0.3835616438356164,
          0.3466666666666667,
          0.3013698630136986,
          0.2898550724637681,
          0.3287671232876712,
          0.3142857142857143,
          0.37681159420289856,
          0.24324324324324326,
          0.34285714285714286,
          0.3157894736842105,
          0.3333333333333333,
          0.32432432432432434,
          0.3561643835616438,
          0.37142857142857144,
          0.3582089552238806,
          0.2631578947368421,
          0.3235294117647059,
          0.4057971014492754,
          0.3287671232876712,
          0.39436619718309857,
          0.3561643835616438,
          0.34782608695652173,
          0.23529411764705882,
          0.28169014084507044,
          0.3466666666666667,
          0.29411764705882354,
          0.38235294117647056,
          0.34210526315789475,
          0.3380281690140845,
          0.2898550724637681,
          0.30985915492957744,
          0.273972602739726,
          0.3333333333333333,
          0.3561643835616438,
          0.3611111111111111,
          0.39436619718309857,
          0.37142857142857144,
          0.38235294117647056,
          0.3333333333333333,
          0.3188405797101449,
          0.37142857142857144,
          0.3013698630136986,
          0.36619718309859156,
          0.3888888888888889,
          0.29850746268656714,
          0.3611111111111111,
          0.3283582089552239,
          0.3835616438356164,
          0.3333333333333333,
          0.28169014084507044,
          0.35135135135135137,
          0.26666666666666666,
          0.4,
          0.28169014084507044,
          0.37681159420289856,
          0.26666666666666666,
          0.36363636363636365,
          0.39436619718309857,
          0.3611111111111111,
          0.3142857142857143,
          0.3188405797101449,
          0.3611111111111111,
          0.34782608695652173,
          0.2535211267605634,
          0.3188405797101449,
          0.3287671232876712,
          0.3333333333333333,
          0.37142857142857144,
          0.4,
          0.3582089552238806,
          0.36619718309859156,
          0.34285714285714286,
          0.25,
          0.3561643835616438,
          0.34285714285714286,
          0.2647058823529412,
          0.35294117647058826,
          0.30985915492957744,
          0.3835616438356164,
          0.36619718309859156,
          0.34782608695652173,
          0.37142857142857144,
          0.3157894736842105,
          0.3142857142857143,
          0.3013698630136986,
          0.2777777777777778,
          0.4117647058823529,
          0.36619718309859156,
          0.36619718309859156,
          0.3888888888888889,
          0.273972602739726,
          0.3055555555555556,
          0.3561643835616438,
          0.37142857142857144,
          0.39436619718309857,
          0.3835616438356164,
          0.3611111111111111,
          0.34210526315789475,
          0.3055555555555556,
          0.34285714285714286,
          0.29333333333333333,
          0.42857142857142855,
          0.39436619718309857,
          0.35135135135135137,
          0.3611111111111111,
          0.37142857142857144,
          0.29411764705882354,
          0.36619718309859156,
          0.3188405797101449,
          0.3611111111111111,
          0.4383561643835616,
          0.39436619718309857,
          0.35135135135135137,
          0.3684210526315789,
          0.3188405797101449,
          0.3125,
          0.3466666666666667,
          0.4,
          0.4166666666666667,
          0.3684210526315789,
          0.4117647058823529,
          0.4057971014492754,
          0.37681159420289856,
          0.3888888888888889,
          0.34285714285714286,
          0.3888888888888889,
          0.35135135135135137,
          0.4,
          0.3888888888888889,
          0.4117647058823529,
          0.4,
          0.4057971014492754,
          0.4057971014492754,
          0.37142857142857144,
          0.39436619718309857,
          0.37333333333333335,
          0.4411764705882353,
          0.36363636363636365,
          0.3888888888888889,
          0.3561643835616438,
          0.37333333333333335,
          0.3561643835616438,
          0.43478260869565216,
          0.37333333333333335,
          0.4225352112676056,
          0.4225352112676056,
          0.3333333333333333,
          0.4444444444444444,
          0.4166666666666667,
          0.4166666666666667,
          0.4383561643835616,
          0.43478260869565216,
          0.34285714285714286,
          0.43478260869565216,
          0.39436619718309857,
          0.3835616438356164,
          0.43478260869565216,
          0.4225352112676056,
          0.410958904109589,
          0.43478260869565216,
          0.4225352112676056,
          0.4166666666666667,
          0.4166666666666667,
          0.4166666666666667,
          0.3888888888888889,
          0.3888888888888889,
          0.4,
          0.3888888888888889,
          0.4225352112676056,
          0.3561643835616438,
          0.4225352112676056,
          0.4225352112676056,
          0.35135135135135137,
          0.3611111111111111,
          0.3888888888888889,
          0.42857142857142855,
          0.42857142857142855,
          0.37142857142857144,
          0.42857142857142855,
          0.34285714285714286,
          0.4,
          0.4057971014492754,
          0.4,
          0.3287671232876712,
          0.3611111111111111,
          0.39436619718309857,
          0.4,
          0.4225352112676056,
          0.37681159420289856,
          0.39436619718309857,
          0.42857142857142855,
          0.4117647058823529,
          0.40540540540540543,
          0.3888888888888889,
          0.3055555555555556,
          0.39436619718309857,
          0.42857142857142855,
          0.42857142857142855,
          0.36619718309859156,
          0.3888888888888889,
          0.35135135135135137,
          0.3380281690140845,
          0.43478260869565216,
          0.39436619718309857,
          0.4057971014492754,
          0.4411764705882353,
          0.273972602739726,
          0.3783783783783784,
          0.25,
          0.3783783783783784,
          0.37142857142857144,
          0.40540540540540543,
          0.30985915492957744,
          0.3835616438356164,
          0.42857142857142855,
          0.37142857142857144,
          0.3611111111111111,
          0.3611111111111111,
          0.2702702702702703,
          0.37333333333333335,
          0.37142857142857144,
          0.37142857142857144,
          0.36619718309859156,
          0.3783783783783784,
          0.32432432432432434,
          0.36619718309859156,
          0.3333333333333333,
          0.3835616438356164,
          0.43478260869565216,
          0.3611111111111111,
          0.2571428571428571,
          0.37681159420289856,
          0.42857142857142855,
          0.40540540540540543,
          0.36363636363636365,
          0.39436619718309857,
          0.37333333333333335,
          0.4225352112676056,
          0.4,
          0.45714285714285713,
          0.3888888888888889,
          0.3888888888888889,
          0.3611111111111111,
          0.4507042253521127,
          0.39436619718309857,
          0.26666666666666666,
          0.39436619718309857,
          0.4057971014492754,
          0.29850746268656714,
          0.39473684210526316,
          0.37142857142857144,
          0.3835616438356164,
          0.4383561643835616,
          0.36619718309859156,
          0.3611111111111111
         ]
        },
        {
         "mode": "lines",
         "name": "Best Value",
         "type": "scatter",
         "x": [
          0,
          1,
          2,
          3,
          4,
          5,
          6,
          7,
          8,
          9,
          10,
          11,
          12,
          13,
          14,
          15,
          16,
          17,
          18,
          19,
          20,
          21,
          22,
          23,
          24,
          25,
          26,
          27,
          28,
          29,
          30,
          31,
          32,
          33,
          34,
          35,
          36,
          37,
          38,
          39,
          40,
          41,
          42,
          43,
          44,
          45,
          46,
          47,
          48,
          49,
          50,
          51,
          52,
          53,
          54,
          55,
          56,
          57,
          58,
          59,
          60,
          61,
          62,
          63,
          64,
          65,
          66,
          67,
          68,
          69,
          70,
          71,
          72,
          73,
          74,
          75,
          76,
          77,
          78,
          79,
          80,
          81,
          82,
          83,
          84,
          85,
          86,
          87,
          88,
          89,
          90,
          91,
          92,
          93,
          94,
          95,
          96,
          97,
          98,
          99,
          100,
          101,
          102,
          103,
          104,
          105,
          106,
          107,
          108,
          109,
          110,
          111,
          112,
          113,
          114,
          115,
          116,
          117,
          118,
          119,
          120,
          121,
          122,
          123,
          124,
          125,
          126,
          127,
          128,
          129,
          130,
          131,
          132,
          133,
          134,
          135,
          136,
          137,
          138,
          139,
          140,
          141,
          142,
          143,
          144,
          145,
          146,
          147,
          148,
          149,
          150,
          151,
          152,
          153,
          154,
          155,
          156,
          157,
          158,
          159,
          160,
          161,
          162,
          163,
          164,
          165,
          166,
          167,
          168,
          169,
          170,
          171,
          172,
          173,
          174,
          175,
          176,
          177,
          178,
          179,
          180,
          181,
          182,
          183,
          184,
          185,
          186,
          187,
          188,
          189,
          190,
          191,
          192,
          193,
          194,
          195,
          196,
          197,
          198,
          199,
          200,
          201,
          202,
          203,
          204,
          205,
          206,
          207,
          208,
          209,
          210,
          211,
          212,
          213,
          214,
          215,
          216,
          217,
          218,
          219,
          220,
          221,
          222,
          223,
          224,
          225,
          226,
          227,
          228,
          229,
          230,
          231,
          232,
          233,
          234,
          235,
          236,
          237,
          238,
          239,
          240,
          241,
          242,
          243,
          244,
          245,
          246,
          247,
          248,
          249,
          250,
          251,
          252,
          253,
          254,
          255,
          256,
          257,
          258,
          259,
          260,
          261,
          262,
          263,
          264,
          265,
          266,
          267,
          268,
          269,
          270,
          271,
          272,
          273,
          274,
          275,
          276,
          277,
          278,
          279,
          280,
          281,
          282,
          283,
          284,
          285,
          286,
          287,
          288,
          289,
          290,
          291,
          292,
          293,
          294,
          295,
          296,
          297,
          298,
          299
         ],
         "y": [
          0.3561643835616438,
          0.3561643835616438,
          0.3561643835616438,
          0.3561643835616438,
          0.3561643835616438,
          0.3561643835616438,
          0.3561643835616438,
          0.3561643835616438,
          0.3561643835616438,
          0.3561643835616438,
          0.3561643835616438,
          0.3561643835616438,
          0.3561643835616438,
          0.3561643835616438,
          0.3561643835616438,
          0.3561643835616438,
          0.3561643835616438,
          0.3561643835616438,
          0.3561643835616438,
          0.3561643835616438,
          0.3561643835616438,
          0.3561643835616438,
          0.3561643835616438,
          0.3611111111111111,
          0.39436619718309857,
          0.39436619718309857,
          0.39436619718309857,
          0.39436619718309857,
          0.39436619718309857,
          0.39436619718309857,
          0.39436619718309857,
          0.39436619718309857,
          0.39436619718309857,
          0.39436619718309857,
          0.39436619718309857,
          0.39436619718309857,
          0.39436619718309857,
          0.39436619718309857,
          0.39436619718309857,
          0.39436619718309857,
          0.39436619718309857,
          0.39436619718309857,
          0.4057971014492754,
          0.4057971014492754,
          0.4057971014492754,
          0.4057971014492754,
          0.4057971014492754,
          0.4057971014492754,
          0.4057971014492754,
          0.4057971014492754,
          0.4057971014492754,
          0.4057971014492754,
          0.4057971014492754,
          0.4057971014492754,
          0.4057971014492754,
          0.4057971014492754,
          0.4057971014492754,
          0.4057971014492754,
          0.4057971014492754,
          0.4057971014492754,
          0.4057971014492754,
          0.4057971014492754,
          0.4057971014492754,
          0.4057971014492754,
          0.4057971014492754,
          0.4057971014492754,
          0.4057971014492754,
          0.4057971014492754,
          0.4057971014492754,
          0.4057971014492754,
          0.4057971014492754,
          0.4057971014492754,
          0.4057971014492754,
          0.4057971014492754,
          0.4057971014492754,
          0.4057971014492754,
          0.4057971014492754,
          0.4057971014492754,
          0.4057971014492754,
          0.4057971014492754,
          0.4057971014492754,
          0.4057971014492754,
          0.4057971014492754,
          0.4057971014492754,
          0.4057971014492754,
          0.4057971014492754,
          0.4057971014492754,
          0.4057971014492754,
          0.4057971014492754,
          0.4057971014492754,
          0.4057971014492754,
          0.4057971014492754,
          0.4057971014492754,
          0.4057971014492754,
          0.4057971014492754,
          0.4057971014492754,
          0.4057971014492754,
          0.4057971014492754,
          0.4057971014492754,
          0.4057971014492754,
          0.4057971014492754,
          0.4057971014492754,
          0.4057971014492754,
          0.4057971014492754,
          0.4057971014492754,
          0.4057971014492754,
          0.4057971014492754,
          0.4057971014492754,
          0.4057971014492754,
          0.4057971014492754,
          0.4057971014492754,
          0.4057971014492754,
          0.4057971014492754,
          0.4057971014492754,
          0.4057971014492754,
          0.4057971014492754,
          0.4057971014492754,
          0.4057971014492754,
          0.4057971014492754,
          0.4057971014492754,
          0.4057971014492754,
          0.4057971014492754,
          0.4057971014492754,
          0.4057971014492754,
          0.4057971014492754,
          0.4057971014492754,
          0.4057971014492754,
          0.4057971014492754,
          0.4057971014492754,
          0.4057971014492754,
          0.4057971014492754,
          0.4117647058823529,
          0.4117647058823529,
          0.4117647058823529,
          0.4117647058823529,
          0.4117647058823529,
          0.4117647058823529,
          0.4117647058823529,
          0.4117647058823529,
          0.4117647058823529,
          0.4117647058823529,
          0.4117647058823529,
          0.4117647058823529,
          0.4117647058823529,
          0.4117647058823529,
          0.4117647058823529,
          0.42857142857142855,
          0.42857142857142855,
          0.42857142857142855,
          0.42857142857142855,
          0.42857142857142855,
          0.42857142857142855,
          0.42857142857142855,
          0.42857142857142855,
          0.42857142857142855,
          0.4383561643835616,
          0.4383561643835616,
          0.4383561643835616,
          0.4383561643835616,
          0.4383561643835616,
          0.4383561643835616,
          0.4383561643835616,
          0.4383561643835616,
          0.4383561643835616,
          0.4383561643835616,
          0.4383561643835616,
          0.4383561643835616,
          0.4383561643835616,
          0.4383561643835616,
          0.4383561643835616,
          0.4383561643835616,
          0.4383561643835616,
          0.4383561643835616,
          0.4383561643835616,
          0.4383561643835616,
          0.4383561643835616,
          0.4383561643835616,
          0.4383561643835616,
          0.4383561643835616,
          0.4383561643835616,
          0.4383561643835616,
          0.4411764705882353,
          0.4411764705882353,
          0.4411764705882353,
          0.4411764705882353,
          0.4411764705882353,
          0.4411764705882353,
          0.4411764705882353,
          0.4411764705882353,
          0.4411764705882353,
          0.4411764705882353,
          0.4411764705882353,
          0.4444444444444444,
          0.4444444444444444,
          0.4444444444444444,
          0.4444444444444444,
          0.4444444444444444,
          0.4444444444444444,
          0.4444444444444444,
          0.4444444444444444,
          0.4444444444444444,
          0.4444444444444444,
          0.4444444444444444,
          0.4444444444444444,
          0.4444444444444444,
          0.4444444444444444,
          0.4444444444444444,
          0.4444444444444444,
          0.4444444444444444,
          0.4444444444444444,
          0.4444444444444444,
          0.4444444444444444,
          0.4444444444444444,
          0.4444444444444444,
          0.4444444444444444,
          0.4444444444444444,
          0.4444444444444444,
          0.4444444444444444,
          0.4444444444444444,
          0.4444444444444444,
          0.4444444444444444,
          0.4444444444444444,
          0.4444444444444444,
          0.4444444444444444,
          0.4444444444444444,
          0.4444444444444444,
          0.4444444444444444,
          0.4444444444444444,
          0.4444444444444444,
          0.4444444444444444,
          0.4444444444444444,
          0.4444444444444444,
          0.4444444444444444,
          0.4444444444444444,
          0.4444444444444444,
          0.4444444444444444,
          0.4444444444444444,
          0.4444444444444444,
          0.4444444444444444,
          0.4444444444444444,
          0.4444444444444444,
          0.4444444444444444,
          0.4444444444444444,
          0.4444444444444444,
          0.4444444444444444,
          0.4444444444444444,
          0.4444444444444444,
          0.4444444444444444,
          0.4444444444444444,
          0.4444444444444444,
          0.4444444444444444,
          0.4444444444444444,
          0.4444444444444444,
          0.4444444444444444,
          0.4444444444444444,
          0.4444444444444444,
          0.4444444444444444,
          0.4444444444444444,
          0.4444444444444444,
          0.4444444444444444,
          0.4444444444444444,
          0.4444444444444444,
          0.4444444444444444,
          0.4444444444444444,
          0.4444444444444444,
          0.4444444444444444,
          0.4444444444444444,
          0.4444444444444444,
          0.4444444444444444,
          0.4444444444444444,
          0.4444444444444444,
          0.4444444444444444,
          0.4444444444444444,
          0.4444444444444444,
          0.4444444444444444,
          0.4444444444444444,
          0.4444444444444444,
          0.4444444444444444,
          0.4444444444444444,
          0.4444444444444444,
          0.4444444444444444,
          0.4444444444444444,
          0.4444444444444444,
          0.4444444444444444,
          0.45714285714285713,
          0.45714285714285713,
          0.45714285714285713,
          0.45714285714285713,
          0.45714285714285713,
          0.45714285714285713,
          0.45714285714285713,
          0.45714285714285713,
          0.45714285714285713,
          0.45714285714285713,
          0.45714285714285713,
          0.45714285714285713,
          0.45714285714285713,
          0.45714285714285713,
          0.45714285714285713,
          0.45714285714285713
         ]
        },
        {
         "marker": {
          "color": "#cccccc"
         },
         "mode": "markers",
         "name": "Infeasible Trial",
         "showlegend": false,
         "type": "scatter",
         "x": [],
         "y": []
        }
       ],
       "layout": {
        "template": {
         "data": {
          "bar": [
           {
            "error_x": {
             "color": "#2a3f5f"
            },
            "error_y": {
             "color": "#2a3f5f"
            },
            "marker": {
             "line": {
              "color": "#E5ECF6",
              "width": 0.5
             },
             "pattern": {
              "fillmode": "overlay",
              "size": 10,
              "solidity": 0.2
             }
            },
            "type": "bar"
           }
          ],
          "barpolar": [
           {
            "marker": {
             "line": {
              "color": "#E5ECF6",
              "width": 0.5
             },
             "pattern": {
              "fillmode": "overlay",
              "size": 10,
              "solidity": 0.2
             }
            },
            "type": "barpolar"
           }
          ],
          "carpet": [
           {
            "aaxis": {
             "endlinecolor": "#2a3f5f",
             "gridcolor": "white",
             "linecolor": "white",
             "minorgridcolor": "white",
             "startlinecolor": "#2a3f5f"
            },
            "baxis": {
             "endlinecolor": "#2a3f5f",
             "gridcolor": "white",
             "linecolor": "white",
             "minorgridcolor": "white",
             "startlinecolor": "#2a3f5f"
            },
            "type": "carpet"
           }
          ],
          "choropleth": [
           {
            "colorbar": {
             "outlinewidth": 0,
             "ticks": ""
            },
            "type": "choropleth"
           }
          ],
          "contour": [
           {
            "colorbar": {
             "outlinewidth": 0,
             "ticks": ""
            },
            "colorscale": [
             [
              0,
              "#0d0887"
             ],
             [
              0.1111111111111111,
              "#46039f"
             ],
             [
              0.2222222222222222,
              "#7201a8"
             ],
             [
              0.3333333333333333,
              "#9c179e"
             ],
             [
              0.4444444444444444,
              "#bd3786"
             ],
             [
              0.5555555555555556,
              "#d8576b"
             ],
             [
              0.6666666666666666,
              "#ed7953"
             ],
             [
              0.7777777777777778,
              "#fb9f3a"
             ],
             [
              0.8888888888888888,
              "#fdca26"
             ],
             [
              1,
              "#f0f921"
             ]
            ],
            "type": "contour"
           }
          ],
          "contourcarpet": [
           {
            "colorbar": {
             "outlinewidth": 0,
             "ticks": ""
            },
            "type": "contourcarpet"
           }
          ],
          "heatmap": [
           {
            "colorbar": {
             "outlinewidth": 0,
             "ticks": ""
            },
            "colorscale": [
             [
              0,
              "#0d0887"
             ],
             [
              0.1111111111111111,
              "#46039f"
             ],
             [
              0.2222222222222222,
              "#7201a8"
             ],
             [
              0.3333333333333333,
              "#9c179e"
             ],
             [
              0.4444444444444444,
              "#bd3786"
             ],
             [
              0.5555555555555556,
              "#d8576b"
             ],
             [
              0.6666666666666666,
              "#ed7953"
             ],
             [
              0.7777777777777778,
              "#fb9f3a"
             ],
             [
              0.8888888888888888,
              "#fdca26"
             ],
             [
              1,
              "#f0f921"
             ]
            ],
            "type": "heatmap"
           }
          ],
          "histogram": [
           {
            "marker": {
             "pattern": {
              "fillmode": "overlay",
              "size": 10,
              "solidity": 0.2
             }
            },
            "type": "histogram"
           }
          ],
          "histogram2d": [
           {
            "colorbar": {
             "outlinewidth": 0,
             "ticks": ""
            },
            "colorscale": [
             [
              0,
              "#0d0887"
             ],
             [
              0.1111111111111111,
              "#46039f"
             ],
             [
              0.2222222222222222,
              "#7201a8"
             ],
             [
              0.3333333333333333,
              "#9c179e"
             ],
             [
              0.4444444444444444,
              "#bd3786"
             ],
             [
              0.5555555555555556,
              "#d8576b"
             ],
             [
              0.6666666666666666,
              "#ed7953"
             ],
             [
              0.7777777777777778,
              "#fb9f3a"
             ],
             [
              0.8888888888888888,
              "#fdca26"
             ],
             [
              1,
              "#f0f921"
             ]
            ],
            "type": "histogram2d"
           }
          ],
          "histogram2dcontour": [
           {
            "colorbar": {
             "outlinewidth": 0,
             "ticks": ""
            },
            "colorscale": [
             [
              0,
              "#0d0887"
             ],
             [
              0.1111111111111111,
              "#46039f"
             ],
             [
              0.2222222222222222,
              "#7201a8"
             ],
             [
              0.3333333333333333,
              "#9c179e"
             ],
             [
              0.4444444444444444,
              "#bd3786"
             ],
             [
              0.5555555555555556,
              "#d8576b"
             ],
             [
              0.6666666666666666,
              "#ed7953"
             ],
             [
              0.7777777777777778,
              "#fb9f3a"
             ],
             [
              0.8888888888888888,
              "#fdca26"
             ],
             [
              1,
              "#f0f921"
             ]
            ],
            "type": "histogram2dcontour"
           }
          ],
          "mesh3d": [
           {
            "colorbar": {
             "outlinewidth": 0,
             "ticks": ""
            },
            "type": "mesh3d"
           }
          ],
          "parcoords": [
           {
            "line": {
             "colorbar": {
              "outlinewidth": 0,
              "ticks": ""
             }
            },
            "type": "parcoords"
           }
          ],
          "pie": [
           {
            "automargin": true,
            "type": "pie"
           }
          ],
          "scatter": [
           {
            "fillpattern": {
             "fillmode": "overlay",
             "size": 10,
             "solidity": 0.2
            },
            "type": "scatter"
           }
          ],
          "scatter3d": [
           {
            "line": {
             "colorbar": {
              "outlinewidth": 0,
              "ticks": ""
             }
            },
            "marker": {
             "colorbar": {
              "outlinewidth": 0,
              "ticks": ""
             }
            },
            "type": "scatter3d"
           }
          ],
          "scattercarpet": [
           {
            "marker": {
             "colorbar": {
              "outlinewidth": 0,
              "ticks": ""
             }
            },
            "type": "scattercarpet"
           }
          ],
          "scattergeo": [
           {
            "marker": {
             "colorbar": {
              "outlinewidth": 0,
              "ticks": ""
             }
            },
            "type": "scattergeo"
           }
          ],
          "scattergl": [
           {
            "marker": {
             "colorbar": {
              "outlinewidth": 0,
              "ticks": ""
             }
            },
            "type": "scattergl"
           }
          ],
          "scattermap": [
           {
            "marker": {
             "colorbar": {
              "outlinewidth": 0,
              "ticks": ""
             }
            },
            "type": "scattermap"
           }
          ],
          "scattermapbox": [
           {
            "marker": {
             "colorbar": {
              "outlinewidth": 0,
              "ticks": ""
             }
            },
            "type": "scattermapbox"
           }
          ],
          "scatterpolar": [
           {
            "marker": {
             "colorbar": {
              "outlinewidth": 0,
              "ticks": ""
             }
            },
            "type": "scatterpolar"
           }
          ],
          "scatterpolargl": [
           {
            "marker": {
             "colorbar": {
              "outlinewidth": 0,
              "ticks": ""
             }
            },
            "type": "scatterpolargl"
           }
          ],
          "scatterternary": [
           {
            "marker": {
             "colorbar": {
              "outlinewidth": 0,
              "ticks": ""
             }
            },
            "type": "scatterternary"
           }
          ],
          "surface": [
           {
            "colorbar": {
             "outlinewidth": 0,
             "ticks": ""
            },
            "colorscale": [
             [
              0,
              "#0d0887"
             ],
             [
              0.1111111111111111,
              "#46039f"
             ],
             [
              0.2222222222222222,
              "#7201a8"
             ],
             [
              0.3333333333333333,
              "#9c179e"
             ],
             [
              0.4444444444444444,
              "#bd3786"
             ],
             [
              0.5555555555555556,
              "#d8576b"
             ],
             [
              0.6666666666666666,
              "#ed7953"
             ],
             [
              0.7777777777777778,
              "#fb9f3a"
             ],
             [
              0.8888888888888888,
              "#fdca26"
             ],
             [
              1,
              "#f0f921"
             ]
            ],
            "type": "surface"
           }
          ],
          "table": [
           {
            "cells": {
             "fill": {
              "color": "#EBF0F8"
             },
             "line": {
              "color": "white"
             }
            },
            "header": {
             "fill": {
              "color": "#C8D4E3"
             },
             "line": {
              "color": "white"
             }
            },
            "type": "table"
           }
          ]
         },
         "layout": {
          "annotationdefaults": {
           "arrowcolor": "#2a3f5f",
           "arrowhead": 0,
           "arrowwidth": 1
          },
          "autotypenumbers": "strict",
          "coloraxis": {
           "colorbar": {
            "outlinewidth": 0,
            "ticks": ""
           }
          },
          "colorscale": {
           "diverging": [
            [
             0,
             "#8e0152"
            ],
            [
             0.1,
             "#c51b7d"
            ],
            [
             0.2,
             "#de77ae"
            ],
            [
             0.3,
             "#f1b6da"
            ],
            [
             0.4,
             "#fde0ef"
            ],
            [
             0.5,
             "#f7f7f7"
            ],
            [
             0.6,
             "#e6f5d0"
            ],
            [
             0.7,
             "#b8e186"
            ],
            [
             0.8,
             "#7fbc41"
            ],
            [
             0.9,
             "#4d9221"
            ],
            [
             1,
             "#276419"
            ]
           ],
           "sequential": [
            [
             0,
             "#0d0887"
            ],
            [
             0.1111111111111111,
             "#46039f"
            ],
            [
             0.2222222222222222,
             "#7201a8"
            ],
            [
             0.3333333333333333,
             "#9c179e"
            ],
            [
             0.4444444444444444,
             "#bd3786"
            ],
            [
             0.5555555555555556,
             "#d8576b"
            ],
            [
             0.6666666666666666,
             "#ed7953"
            ],
            [
             0.7777777777777778,
             "#fb9f3a"
            ],
            [
             0.8888888888888888,
             "#fdca26"
            ],
            [
             1,
             "#f0f921"
            ]
           ],
           "sequentialminus": [
            [
             0,
             "#0d0887"
            ],
            [
             0.1111111111111111,
             "#46039f"
            ],
            [
             0.2222222222222222,
             "#7201a8"
            ],
            [
             0.3333333333333333,
             "#9c179e"
            ],
            [
             0.4444444444444444,
             "#bd3786"
            ],
            [
             0.5555555555555556,
             "#d8576b"
            ],
            [
             0.6666666666666666,
             "#ed7953"
            ],
            [
             0.7777777777777778,
             "#fb9f3a"
            ],
            [
             0.8888888888888888,
             "#fdca26"
            ],
            [
             1,
             "#f0f921"
            ]
           ]
          },
          "colorway": [
           "#636efa",
           "#EF553B",
           "#00cc96",
           "#ab63fa",
           "#FFA15A",
           "#19d3f3",
           "#FF6692",
           "#B6E880",
           "#FF97FF",
           "#FECB52"
          ],
          "font": {
           "color": "#2a3f5f"
          },
          "geo": {
           "bgcolor": "white",
           "lakecolor": "white",
           "landcolor": "#E5ECF6",
           "showlakes": true,
           "showland": true,
           "subunitcolor": "white"
          },
          "hoverlabel": {
           "align": "left"
          },
          "hovermode": "closest",
          "mapbox": {
           "style": "light"
          },
          "paper_bgcolor": "white",
          "plot_bgcolor": "#E5ECF6",
          "polar": {
           "angularaxis": {
            "gridcolor": "white",
            "linecolor": "white",
            "ticks": ""
           },
           "bgcolor": "#E5ECF6",
           "radialaxis": {
            "gridcolor": "white",
            "linecolor": "white",
            "ticks": ""
           }
          },
          "scene": {
           "xaxis": {
            "backgroundcolor": "#E5ECF6",
            "gridcolor": "white",
            "gridwidth": 2,
            "linecolor": "white",
            "showbackground": true,
            "ticks": "",
            "zerolinecolor": "white"
           },
           "yaxis": {
            "backgroundcolor": "#E5ECF6",
            "gridcolor": "white",
            "gridwidth": 2,
            "linecolor": "white",
            "showbackground": true,
            "ticks": "",
            "zerolinecolor": "white"
           },
           "zaxis": {
            "backgroundcolor": "#E5ECF6",
            "gridcolor": "white",
            "gridwidth": 2,
            "linecolor": "white",
            "showbackground": true,
            "ticks": "",
            "zerolinecolor": "white"
           }
          },
          "shapedefaults": {
           "line": {
            "color": "#2a3f5f"
           }
          },
          "ternary": {
           "aaxis": {
            "gridcolor": "white",
            "linecolor": "white",
            "ticks": ""
           },
           "baxis": {
            "gridcolor": "white",
            "linecolor": "white",
            "ticks": ""
           },
           "bgcolor": "#E5ECF6",
           "caxis": {
            "gridcolor": "white",
            "linecolor": "white",
            "ticks": ""
           }
          },
          "title": {
           "x": 0.05
          },
          "xaxis": {
           "automargin": true,
           "gridcolor": "white",
           "linecolor": "white",
           "ticks": "",
           "title": {
            "standoff": 15
           },
           "zerolinecolor": "white",
           "zerolinewidth": 2
          },
          "yaxis": {
           "automargin": true,
           "gridcolor": "white",
           "linecolor": "white",
           "ticks": "",
           "title": {
            "standoff": 15
           },
           "zerolinecolor": "white",
           "zerolinewidth": 2
          }
         }
        },
        "title": {
         "text": "Optimization History Plot"
        },
        "xaxis": {
         "title": {
          "text": "Trial"
         }
        },
        "yaxis": {
         "title": {
          "text": "Objective Value"
         }
        }
       }
      }
     },
     "metadata": {},
     "output_type": "display_data"
    }
   ],
   "source": [
    "# Visualizar el historial de optimización\n",
    "plot_optimization_history(study)"
   ]
  },
  {
   "cell_type": "code",
   "execution_count": 17,
   "id": "f010ce44",
   "metadata": {},
   "outputs": [
    {
     "name": "stdout",
     "output_type": "stream",
     "text": [
      "Mejores hiperparámetros encontrados:\n",
      "{'learning_rate': 0.01118292023836174, 'max_depth': 13, 'max_iter': 157, 'min_samples_leaf': 1, 'l2_regularization': 1.6240267168954154, 'max_bins': 189}\n",
      "Mejor score de trend change: 0.4571\n"
     ]
    }
   ],
   "source": [
    "print(\"Mejores hiperparámetros encontrados:\")\n",
    "print(study.best_params)\n",
    "print(f\"Mejor score de trend change: {study.best_value:.4f}\")\n",
    "best_params = study.best_params"
   ]
  },
  {
   "cell_type": "code",
   "execution_count": 18,
   "id": "b7e8cca5",
   "metadata": {},
   "outputs": [],
   "source": [
    "# Guardar los mejores hiperparámetros y su valor\n",
    "history = []\n",
    "if os.path.exists(\"best_hyperparams.json\"):\n",
    "    try:\n",
    "        with open(\"best_hyperparams.json\", \"r\") as f:\n",
    "            history = json.load(f)\n",
    "    except (json.JSONDecodeError, ValueError):\n",
    "        history = []\n",
    "\n",
    "# Guardar ambos en un solo diccionario\n",
    "history.append({\n",
    "    \"params\": study.best_params,\n",
    "    \"value\": study.best_value\n",
    "})\n",
    "# Guardar el historial de hiperparámetros\n",
    "with open(\"best_hyperparams.json\", \"w\") as f:\n",
    "    json.dump(history, f, indent=2)"
   ]
  },
  {
   "cell_type": "code",
   "execution_count": 12,
   "id": "2f10bde7",
   "metadata": {},
   "outputs": [],
   "source": [
    "# # Cargar historial de hiperparámetros y valores\n",
    "# import json\n",
    "\n",
    "# with open(\"best_hyperparams.json\", \"r\") as f:\n",
    "#     history = json.load(f)\n",
    "\n",
    "# # Escoger el último (más reciente)\n",
    "# best_params = history[-1][\"params\"]\n",
    "# best_value = history[-1][\"value\"]\n",
    "\n",
    "# # Si quieres ver todos:\n",
    "# for i, entry in enumerate(history):\n",
    "#     print(f\"Hiperparámetros #{i+1}: {entry['params']}, Valor: {entry['value']}\")\n",
    "\n",
    "# # Si quieres escoger uno específico (por índice):\n",
    "# # best_params = history[indice_que_quieras][\"params\"]\n",
    "# # best_value = history[indice_que_quieras][\"value\"]"
   ]
  },
  {
   "cell_type": "code",
   "execution_count": 19,
   "id": "b3885830",
   "metadata": {},
   "outputs": [
    {
     "name": "stdout",
     "output_type": "stream",
     "text": [
      "\n",
      "HistGradientBoostingClassifier Trend Changes Score:\n",
      "               precision    recall  f1-score   support\n",
      "\n",
      "       False     0.9300    0.9228    0.9264       259\n",
      "        True     0.4444    0.4706    0.4571        34\n",
      "\n",
      "    accuracy                         0.8703       293\n",
      "   macro avg     0.6872    0.6967    0.6917       293\n",
      "weighted avg     0.8736    0.8703    0.8719       293\n",
      "\n"
     ]
    }
   ],
   "source": [
    "# Entrenar modelo final con los mejores hiperparámetros\n",
    "set_seeds(SEED)\n",
    "final_model = HistGradientBoostingClassifier(\n",
    "    learning_rate=best_params[\"learning_rate\"],\n",
    "    max_depth=best_params[\"max_depth\"],\n",
    "    max_iter=best_params[\"max_iter\"],\n",
    "    min_samples_leaf=best_params[\"min_samples_leaf\"],\n",
    "    l2_regularization=best_params[\"l2_regularization\"],\n",
    "    max_bins=best_params[\"max_bins\"],\n",
    "    random_state=SEED\n",
    ")\n",
    "final_model.fit(X_train, y_train)\n",
    "y_val_pred = final_model.predict(X_val)\n",
    "print(\"\\nHistGradientBoostingClassifier Trend Changes Score:\\n\", trend_changes_score(y_val, y_val_pred))"
   ]
  },
  {
   "cell_type": "code",
   "execution_count": 20,
   "id": "1505fe31",
   "metadata": {},
   "outputs": [
    {
     "name": "stdout",
     "output_type": "stream",
     "text": [
      "\n",
      "HistGradientBoostingClassifier Trend Changes Score:\n",
      "               precision    recall  f1-score   support\n",
      "\n",
      "       False     0.9187    0.8593    0.8880       263\n",
      "        True     0.2292    0.3548    0.2785        31\n",
      "\n",
      "    accuracy                         0.8061       294\n",
      "   macro avg     0.5739    0.6071    0.5832       294\n",
      "weighted avg     0.8460    0.8061    0.8237       294\n",
      "\n"
     ]
    }
   ],
   "source": [
    "y_pred_test = final_model.predict(X_test)\n",
    "print(\"\\nHistGradientBoostingClassifier Trend Changes Score:\\n\", trend_changes_score(y_test, y_pred_test))"
   ]
  },
  {
   "cell_type": "code",
   "execution_count": 21,
   "id": "220d27e4",
   "metadata": {},
   "outputs": [
    {
     "name": "stdout",
     "output_type": "stream",
     "text": [
      "Gradient Boosting Classifier Report:\n",
      "               precision    recall  f1-score   support\n",
      "\n",
      "          -1     0.8214    0.9787    0.8932        94\n",
      "           0     0.7692    0.2439    0.3704        41\n",
      "           1     0.9172    0.9748    0.9451       159\n",
      "\n",
      "    accuracy                         0.8741       294\n",
      "   macro avg     0.8359    0.7325    0.7362       294\n",
      "weighted avg     0.8659    0.8741    0.8484       294\n",
      "\n",
      "Balanced accuracy: 0.7324895368584357\n"
     ]
    }
   ],
   "source": [
    "# Reporte completo: precisión, recall y F1 por clase\n",
    "report = classification_report(y_val, y_val_pred, digits=4)\n",
    "print(\"Gradient Boosting Classifier Report:\\n\", report)\n",
    "print(\"Balanced accuracy:\", balanced_accuracy_score(y_val, y_val_pred))"
   ]
  },
  {
   "cell_type": "code",
   "execution_count": 22,
   "id": "00208aad",
   "metadata": {},
   "outputs": [],
   "source": [
    "# --- Exportar y Comparar Métricas de Modelos (Validación) ---\n",
    "\n",
    "# 1. Definir el nombre del modelo actual y el archivo de salida\n",
    "model_name = 'histGradientBoosting'\n",
    "output_file = '../../../score_models/model_comparison_metrics.csv'\n",
    "\n",
    "# 2. Calcular el reporte de clasificación estándar\n",
    "# Usamos y_val_m y y_val_pred que están en la misma escala (0,1,2)\n",
    "report_dict = classification_report(y_val, y_val_pred, output_dict=True, zero_division=0)\n",
    "precision = report_dict['macro avg']['precision']\n",
    "recall = report_dict['macro avg']['recall']\n",
    "f1_score = report_dict['macro avg']['f1-score']\n",
    "\n",
    "\n",
    "# 3. Calcular el reporte de cambio de tendencia\n",
    "report = get_trend_changes_report_dict(y_val, y_val_pred)\n",
    "trend_change_precision = report['True']['precision']\n",
    "trend_change_recall = report['True']['recall']\n",
    "trend_change_f1_score = report['True']['f1-score']\n",
    "\n",
    "# 4. Organizar las nuevas métricas\n",
    "new_metrics = {\n",
    "    'precision': precision,\n",
    "    'recall': recall,\n",
    "    'f1_score': f1_score,\n",
    "    'trend_change_precision': trend_change_precision,\n",
    "    'trend_change_recall': trend_change_recall,\n",
    "    'trend_change_f1_score': trend_change_f1_score\n",
    "}\n",
    "\n",
    "# 5. Cargar, actualizar y guardar el DataFrame de comparación\n",
    "try:\n",
    "    # Intentar cargar el archivo existente\n",
    "    comparison_df = pd.read_csv(output_file, index_col='model')\n",
    "    # Si existe, actualizar o añadir la fila para el modelo actual\n",
    "    comparison_df.loc[model_name] = new_metrics\n",
    "except FileNotFoundError:\n",
    "    # Si no existe, crear un DataFrame nuevo directamente con los datos actuales\n",
    "    comparison_df = pd.DataFrame([new_metrics], index=[model_name])\n",
    "\n",
    "# Guardar el DataFrame actualizado en el CSV\n",
    "comparison_df.to_csv(output_file, index_label='model')"
   ]
  },
  {
   "cell_type": "code",
   "execution_count": null,
   "id": "c82fb564",
   "metadata": {},
   "outputs": [
    {
     "name": "stdout",
     "output_type": "stream",
     "text": [
      "--- Resultados del Backtesting ---\n",
      "Capital Inicial: $10,000.00\n",
      "Valor Final del Portafolio: $14,635.95\n",
      "Retorno Total de la Estrategia: 46.36%\n",
      "Retorno de Comprar y Mantener (Buy & Hold): 71.17%\n"
     ]
    },
    {
     "data": {
      "image/png": "[encoded data removed]",
      "text/plain": [
       "<Figure size 1400x700 with 1 Axes>"
      ]
     },
     "metadata": {},
     "output_type": "display_data"
    }
   ],
   "source": [
    "# --- Preparación de Datos para Backtesting ---\n",
    "\n",
    "\n",
    "# 2. Crear un DataFrame para el backtest\n",
    "# Usamos una copia del test_set original que contiene precios y fechas\n",
    "backtest_df = test_set.copy()\n",
    "backtest_df['signal'] = y_pred_test\n",
    "\n",
    "# La columna de precio que usaremos es la del día más reciente en la ventana deslizante\n",
    "# Basado en tu notebook dataCleaning.ipynb, esta columna debería existir. \n",
    "# Si el nombre es diferente, ajústalo aquí.\n",
    "price_col = [col for col in test_set.columns if 'open_d0' in col][-1]\n",
    "\n",
    "\n",
    "# --- Simulación de Backtesting ---\n",
    "\n",
    "initial_capital = 10000.0\n",
    "cash = initial_capital\n",
    "position = 0.0  # Unidades de BTC\n",
    "portfolio_values = []\n",
    "\n",
    "for i, row in backtest_df.iterrows():\n",
    "    price = row[price_col]\n",
    "    signal = row['signal']\n",
    "    \n",
    "    # Lógica de trading\n",
    "    if signal == 1 and cash > 0:  # Señal de compra\n",
    "        position = cash / price\n",
    "        cash = 0.0\n",
    "    elif signal == -1 and position > 0:  # Señal de venta\n",
    "        cash = position * price\n",
    "        position = 0.0\n",
    "    \n",
    "    # Calcular el valor actual del portafolio\n",
    "    current_portfolio_value = cash + position * price\n",
    "    portfolio_values.append(current_portfolio_value)\n",
    "\n",
    "backtest_df['portfolio_value'] = portfolio_values\n",
    "\n",
    "\n",
    "# --- Cálculo de Métricas y Visualización ---\n",
    "\n",
    "# 1. Calcular métricas de rendimiento\n",
    "final_portfolio_value = backtest_df['portfolio_value'].iloc[-1]\n",
    "total_return_pct = (final_portfolio_value - initial_capital) / initial_capital * 100\n",
    "buy_and_hold_return_pct = (backtest_df[price_col].iloc[-1] - backtest_df[price_col].iloc[0]) / backtest_df[price_col].iloc[0] * 100\n",
    "\n",
    "print(\"--- Resultados del Backtesting ---\")\n",
    "print(f\"Capital Inicial: ${initial_capital:,.2f}\")\n",
    "print(f\"Valor Final del Portafolio: ${final_portfolio_value:,.2f}\")\n",
    "print(f\"Retorno Total de la Estrategia: {total_return_pct:.2f}%\")\n",
    "print(f\"Retorno de Comprar y Mantener (Buy & Hold): {buy_and_hold_return_pct:.2f}%\")\n",
    "\n",
    "# 2. Visualizar los resultados\n",
    "plt.figure(figsize=(14, 7))\n",
    "plt.plot(backtest_df['date'], backtest_df['portfolio_value'], label='Estrategia del Modelo', color='blue')\n",
    "\n",
    "# Normalizar el precio para comparar con \"Buy & Hold\"\n",
    "buy_and_hold_values = (backtest_df[price_col] / backtest_df[price_col].iloc[0]) * initial_capital\n",
    "plt.plot(backtest_df['date'], buy_and_hold_values, label='Comprar y Mantener (Buy & Hold)', color='orange', linestyle='--')\n",
    "\n",
    "plt.title('Rendimiento de la Estrategia vs. Buy & Hold')\n",
    "plt.xlabel('Fecha')\n",
    "plt.ylabel('Valor del Portafolio ($)')\n",
    "plt.legend()\n",
    "plt.grid(True)\n",
    "plt.show()"
   ]
  }
 ],
 "metadata": {
  "kernelspec": {
   "display_name": "tf_venv2 (3.10.12)",
   "language": "python",
   "name": "python3"
  },
  "language_info": {
   "codemirror_mode": {
    "name": "ipython",
    "version": 3
   },
   "file_extension": ".py",
   "mimetype": "text/x-python",
   "name": "python",
   "nbconvert_exporter": "python",
   "pygments_lexer": "ipython3",
   "version": "3.10.12"
  }
 },
 "nbformat": 4,
 "nbformat_minor": 5
}
