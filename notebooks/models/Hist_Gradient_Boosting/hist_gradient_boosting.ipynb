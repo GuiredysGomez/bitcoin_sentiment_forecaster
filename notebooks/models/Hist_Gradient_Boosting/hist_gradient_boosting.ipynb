{
 "cells": [
  {
   "cell_type": "code",
   "execution_count": 1,
   "id": "d5361d87",
   "metadata": {},
   "outputs": [
    {
     "name": "stderr",
     "output_type": "stream",
     "text": [
      "/home/toyotx22/bitcoin_sentiment_forecaster/tf_venv2/lib/python3.10/site-packages/tqdm/auto.py:21: TqdmWarning: IProgress not found. Please update jupyter and ipywidgets. See https://ipywidgets.readthedocs.io/en/stable/user_install.html\n",
      "  from .autonotebook import tqdm as notebook_tqdm\n"
     ]
    }
   ],
   "source": [
    "import numpy as np\n",
    "import random\n",
    "import optuna\n",
    "import pandas as pd\n",
    "from sklearn.ensemble import HistGradientBoostingClassifier\n",
    "from sklearn.metrics import classification_report, balanced_accuracy_score"
   ]
  },
  {
   "cell_type": "code",
   "execution_count": 2,
   "id": "30bf1500",
   "metadata": {},
   "outputs": [],
   "source": [
    "SEED = 1234\n",
    " # Se puede cambiar a \"precision\" o \"recall\" o \"f1-score\"\n",
    "SCORE = \"f1-score\""
   ]
  },
  {
   "cell_type": "code",
   "execution_count": 3,
   "id": "c4f4c54e",
   "metadata": {},
   "outputs": [],
   "source": [
    "def set_seeds(seed):\n",
    "    random.seed(seed)\n",
    "    np.random.seed(seed)"
   ]
  },
  {
   "cell_type": "code",
   "execution_count": 4,
   "id": "bf2d7e99",
   "metadata": {},
   "outputs": [],
   "source": [
    "def trend_changes_score(y_test: np.array, y_pred: np.array) -> float:\n",
    "    \"\"\"\n",
    "    Calculate the trend changes score based on the test and predicted values.\n",
    "    \n",
    "    Args:\n",
    "        y_test (np.array): True labels.\n",
    "        y_pred (np.array): Predicted labels.\n",
    "        \n",
    "    Returns:\n",
    "        float: The trend changes score.\n",
    "    \"\"\"\n",
    "    y_df = pd.DataFrame([y_test, y_pred]).T\n",
    "    y_df.columns = [\"y_test\", \"y_pred\"]\n",
    "    y_df[\"y_test_shifted\"] = y_df[\"y_test\"].shift(-1)\n",
    "    y_df[\"is_changed_trend_test\"] = y_df[\"y_test\"] != y_df[\"y_test_shifted\"]\n",
    "    y_df[\"y_predict_shifted\"] = y_df[\"y_pred\"].shift(-1)\n",
    "    y_df[\"is_changed_trend_predict\"] = y_df[\"y_pred\"] != y_df[\"y_predict_shifted\"]\n",
    "    return classification_report(y_df[\"is_changed_trend_test\"][:-1], y_df[\"is_changed_trend_predict\"][:-1], digits=4)\n",
    "\n",
    "def trend_changes_true(y_test: np.array, y_pred: np.array) -> float:\n",
    "    \"\"\"\n",
    "    Calculate the trend changes score based on the test and predicted values.\n",
    "    \n",
    "    Args:\n",
    "        y_test (np.array): True labels.\n",
    "        y_pred (np.array): Predicted labels.\n",
    "        \n",
    "    Returns:\n",
    "        float: The trend changes score.\n",
    "    \"\"\"\n",
    "    y_df = pd.DataFrame([y_test, y_pred]).T\n",
    "    y_df.columns = [\"y_test\", \"y_pred\"]\n",
    "    y_df[\"y_test_shifted\"] = y_df[\"y_test\"].shift(-1)\n",
    "    y_df[\"is_changed_trend_test\"] = y_df[\"y_test\"] != y_df[\"y_test_shifted\"]\n",
    "    y_df[\"y_predict_shifted\"] = y_df[\"y_pred\"].shift(-1)\n",
    "    y_df[\"is_changed_trend_predict\"] = y_df[\"y_pred\"] != y_df[\"y_predict_shifted\"]\n",
    "    report = classification_report(\n",
    "        y_df[\"is_changed_trend_test\"][:-1],\n",
    "        y_df[\"is_changed_trend_predict\"][:-1],\n",
    "        output_dict=True,\n",
    "        zero_division=0\n",
    "    )\n",
    "    return report[\"True\"][SCORE]"
   ]
  },
  {
   "cell_type": "code",
   "execution_count": 5,
   "id": "abb36f1f",
   "metadata": {},
   "outputs": [],
   "source": [
    "# Cargar datos\n",
    "train = pd.read_csv(\"../../../data/training_set.csv\", parse_dates=[\"date\"])\n",
    "val = pd.read_csv(\"../../../data/validation_set.csv\", parse_dates=[\"date\"])\n",
    "X_train = train.drop(columns=[\"date\", \"target_trend\"]).values\n",
    "y_train = train[\"target_trend\"].values\n",
    "X_val = val.drop(columns=[\"date\", \"target_trend\"]).values\n",
    "y_val = val[\"target_trend\"].values"
   ]
  },
  {
   "cell_type": "code",
   "execution_count": 6,
   "id": "ab01473f",
   "metadata": {},
   "outputs": [
    {
     "name": "stdout",
     "output_type": "stream",
     "text": [
      "\n",
      "HistGradientBoostingClassifier trend_changes_score:\n",
      "               precision    recall  f1-score   support\n",
      "\n",
      "       False     0.8878    0.7768    0.8286       112\n",
      "        True     0.1935    0.3529    0.2500        17\n",
      "\n",
      "    accuracy                         0.7209       129\n",
      "   macro avg     0.5407    0.5649    0.5393       129\n",
      "weighted avg     0.7963    0.7209    0.7523       129\n",
      "\n"
     ]
    }
   ],
   "source": [
    "#Versión más rápida y escalable: HistGradientBoostingClassifier\n",
    "set_seeds(SEED)\n",
    "model = HistGradientBoostingClassifier(\n",
    "    learning_rate=0.05,\n",
    "    max_depth=6,          # profundidades algo mayores suelen ir bien aquí\n",
    "    max_iter=400,         # equivalente a n_estimators\n",
    "    random_state=SEED\n",
    ")\n",
    "model.fit(X_train, y_train)\n",
    "y_pred = model.predict(X_val)\n",
    "print(\"\\nHistGradientBoostingClassifier trend_changes_score:\\n\",\n",
    "    trend_changes_score(y_val, y_pred))"
   ]
  },
  {
   "cell_type": "code",
   "execution_count": 7,
   "id": "4fad55b9",
   "metadata": {},
   "outputs": [],
   "source": [
    "def objective(trial):\n",
    "    set_seeds(SEED)\n",
    "    learning_rate = trial.suggest_float(\"learning_rate\", 0.01, 0.2, log=True)\n",
    "    max_depth = trial.suggest_int(\"max_depth\", 2, 16)\n",
    "    max_iter = trial.suggest_int(\"max_iter\", 100, 500)\n",
    "    min_samples_leaf = trial.suggest_int(\"min_samples_leaf\", 1, 20)\n",
    "    l2_regularization = trial.suggest_float(\"l2_regularization\", 0.0, 2.0)\n",
    "    max_bins = trial.suggest_int(\"max_bins\", 128, 255)\n",
    "\n",
    "    model = HistGradientBoostingClassifier(\n",
    "        learning_rate=learning_rate,\n",
    "        max_depth=max_depth,\n",
    "        max_iter=max_iter,\n",
    "        min_samples_leaf=min_samples_leaf,\n",
    "        l2_regularization=l2_regularization,\n",
    "        max_bins=max_bins,\n",
    "        random_state=SEED\n",
    "    )\n",
    "    model.fit(X_train, y_train)\n",
    "    y_pred = model.predict(X_val)\n",
    "    score = trend_changes_true(y_val, y_pred)\n",
    "    return score"
   ]
  },
  {
   "cell_type": "code",
   "execution_count": 8,
   "id": "1308680c",
   "metadata": {},
   "outputs": [
    {
     "name": "stderr",
     "output_type": "stream",
     "text": [
      "[I 2025-08-17 22:48:31,516] A new study created in memory with name: no-name-282efbb5-913e-481c-ac69-49a2ca6b0998\n",
      "[I 2025-08-17 22:48:32,741] Trial 0 finished with value: 0.13636363636363635 and parameters: {'learning_rate': 0.01774894524799066, 'max_depth': 11, 'max_iter': 275, 'min_samples_leaf': 16, 'l2_regularization': 1.559951616237607, 'max_bins': 162}. Best is trial 0 with value: 0.13636363636363635.\n",
      "[I 2025-08-17 22:48:34,924] Trial 1 finished with value: 0.13636363636363635 and parameters: {'learning_rate': 0.022892239910869177, 'max_depth': 14, 'max_iter': 484, 'min_samples_leaf': 18, 'l2_regularization': 0.7156345399157333, 'max_bins': 192}. Best is trial 0 with value: 0.13636363636363635.\n",
      "[I 2025-08-17 22:48:36,326] Trial 2 finished with value: 0.2916666666666667 and parameters: {'learning_rate': 0.07748288441159408, 'max_depth': 12, 'max_iter': 248, 'min_samples_leaf': 12, 'l2_regularization': 1.0061663306156194, 'max_bins': 129}. Best is trial 2 with value: 0.2916666666666667.\n",
      "[I 2025-08-17 22:48:37,611] Trial 3 finished with value: 0.26666666666666666 and parameters: {'learning_rate': 0.10126762300587276, 'max_depth': 15, 'max_iter': 246, 'min_samples_leaf': 13, 'l2_regularization': 0.1507624832859531, 'max_bins': 175}. Best is trial 2 with value: 0.2916666666666667.\n",
      "[I 2025-08-17 22:48:38,799] Trial 4 finished with value: 0.20833333333333334 and parameters: {'learning_rate': 0.16369795832561723, 'max_depth': 11, 'max_iter': 259, 'min_samples_leaf': 16, 'l2_regularization': 0.6336722443377425, 'max_bins': 200}. Best is trial 2 with value: 0.2916666666666667.\n",
      "[I 2025-08-17 22:48:42,628] Trial 5 finished with value: 0.11538461538461539 and parameters: {'learning_rate': 0.13513280879844683, 'max_depth': 8, 'max_iter': 421, 'min_samples_leaf': 3, 'l2_regularization': 1.4085219422366708, 'max_bins': 218}. Best is trial 2 with value: 0.2916666666666667.\n",
      "[I 2025-08-17 22:48:43,921] Trial 6 finished with value: 0.14285714285714285 and parameters: {'learning_rate': 0.019259947204382573, 'max_depth': 15, 'max_iter': 277, 'min_samples_leaf': 19, 'l2_regularization': 0.1196184455597038, 'max_bins': 151}. Best is trial 2 with value: 0.2916666666666667.\n",
      "[I 2025-08-17 22:48:46,051] Trial 7 finished with value: 0.14285714285714285 and parameters: {'learning_rate': 0.011524196057181964, 'max_depth': 12, 'max_iter': 338, 'min_samples_leaf': 11, 'l2_regularization': 0.08664812538960698, 'max_bins': 199}. Best is trial 2 with value: 0.2916666666666667.\n",
      "[I 2025-08-17 22:48:46,777] Trial 8 finished with value: 0.18181818181818182 and parameters: {'learning_rate': 0.026847789642131727, 'max_depth': 9, 'max_iter': 144, 'min_samples_leaf': 13, 'l2_regularization': 1.1318892861010628, 'max_bins': 128}. Best is trial 2 with value: 0.2916666666666667.\n",
      "[I 2025-08-17 22:48:48,694] Trial 9 finished with value: 0.2 and parameters: {'learning_rate': 0.06357848628088529, 'max_depth': 15, 'max_iter': 417, 'min_samples_leaf': 20, 'l2_regularization': 1.917603524305733, 'max_bins': 229}. Best is trial 2 with value: 0.2916666666666667.\n",
      "[I 2025-08-17 22:48:49,119] Trial 10 finished with value: 0.17391304347826086 and parameters: {'learning_rate': 0.05151750800667148, 'max_depth': 4, 'max_iter': 104, 'min_samples_leaf': 5, 'l2_regularization': 0.7564104848334682, 'max_bins': 249}. Best is trial 2 with value: 0.2916666666666667.\n",
      "[I 2025-08-17 22:48:47,320] Trial 11 finished with value: 0.16666666666666666 and parameters: {'learning_rate': 0.08894014624974582, 'max_depth': 6, 'max_iter': 198, 'min_samples_leaf': 8, 'l2_regularization': 0.45191460255539107, 'max_bins': 153}. Best is trial 2 with value: 0.2916666666666667.\n",
      "[I 2025-08-17 22:48:48,612] Trial 12 finished with value: 0.22727272727272727 and parameters: {'learning_rate': 0.09769928100539103, 'max_depth': 16, 'max_iter': 203, 'min_samples_leaf': 9, 'l2_regularization': 1.1460696589682096, 'max_bins': 172}. Best is trial 2 with value: 0.2916666666666667.\n",
      "[I 2025-08-17 22:48:50,316] Trial 13 finished with value: 0.23809523809523808 and parameters: {'learning_rate': 0.1971783750884152, 'max_depth': 13, 'max_iter': 337, 'min_samples_leaf': 13, 'l2_regularization': 0.4623513477083965, 'max_bins': 131}. Best is trial 2 with value: 0.2916666666666667.\n",
      "[I 2025-08-17 22:48:51,502] Trial 14 finished with value: 0.2553191489361702 and parameters: {'learning_rate': 0.040139734212763775, 'max_depth': 11, 'max_iter': 204, 'min_samples_leaf': 13, 'l2_regularization': 0.9573064880166805, 'max_bins': 177}. Best is trial 2 with value: 0.2916666666666667.\n",
      "[I 2025-08-17 22:48:51,992] Trial 15 finished with value: 0.3111111111111111 and parameters: {'learning_rate': 0.08148884780675014, 'max_depth': 2, 'max_iter': 331, 'min_samples_leaf': 7, 'l2_regularization': 1.411827765169111, 'max_bins': 143}. Best is trial 15 with value: 0.3111111111111111.\n",
      "[I 2025-08-17 22:48:52,493] Trial 16 finished with value: 0.2727272727272727 and parameters: {'learning_rate': 0.039954022147151755, 'max_depth': 2, 'max_iter': 336, 'min_samples_leaf': 6, 'l2_regularization': 1.555708936504455, 'max_bins': 143}. Best is trial 15 with value: 0.3111111111111111.\n",
      "[I 2025-08-17 22:48:55,527] Trial 17 finished with value: 0.08 and parameters: {'learning_rate': 0.06923024997790748, 'max_depth': 7, 'max_iter': 392, 'min_samples_leaf': 2, 'l2_regularization': 1.8265827635639362, 'max_bins': 142}. Best is trial 15 with value: 0.3111111111111111.\n",
      "[I 2025-08-17 22:48:56,046] Trial 18 finished with value: 0.14285714285714285 and parameters: {'learning_rate': 0.12944768418226316, 'max_depth': 2, 'max_iter': 368, 'min_samples_leaf': 6, 'l2_regularization': 1.3383220833393121, 'max_bins': 137}. Best is trial 15 with value: 0.3111111111111111.\n",
      "[I 2025-08-17 22:48:58,355] Trial 19 finished with value: 0.2857142857142857 and parameters: {'learning_rate': 0.06842168027625001, 'max_depth': 5, 'max_iter': 485, 'min_samples_leaf': 10, 'l2_regularization': 1.7198953984655752, 'max_bins': 161}. Best is trial 15 with value: 0.3111111111111111.\n",
      "[I 2025-08-17 22:49:00,277] Trial 20 finished with value: 0.2222222222222222 and parameters: {'learning_rate': 0.03409106388591607, 'max_depth': 9, 'max_iter': 312, 'min_samples_leaf': 8, 'l2_regularization': 0.9489199414249309, 'max_bins': 128}. Best is trial 15 with value: 0.3111111111111111.\n",
      "[I 2025-08-17 22:49:01,899] Trial 21 finished with value: 0.2978723404255319 and parameters: {'learning_rate': 0.0668146655749057, 'max_depth': 4, 'max_iter': 499, 'min_samples_leaf': 10, 'l2_regularization': 1.7162569602545839, 'max_bins': 160}. Best is trial 15 with value: 0.3111111111111111.\n",
      "[I 2025-08-17 22:49:03,380] Trial 22 finished with value: 0.3137254901960784 and parameters: {'learning_rate': 0.0558095591063624, 'max_depth': 4, 'max_iter': 452, 'min_samples_leaf': 11, 'l2_regularization': 1.308360442397186, 'max_bins': 151}. Best is trial 22 with value: 0.3137254901960784.\n",
      "[I 2025-08-17 22:49:04,976] Trial 23 finished with value: 0.22727272727272727 and parameters: {'learning_rate': 0.05352606245107335, 'max_depth': 4, 'max_iter': 460, 'min_samples_leaf': 7, 'l2_regularization': 1.3021051282629503, 'max_bins': 162}. Best is trial 22 with value: 0.3137254901960784.\n",
      "[I 2025-08-17 22:49:06,055] Trial 24 finished with value: 0.17391304347826086 and parameters: {'learning_rate': 0.05032176766439807, 'max_depth': 3, 'max_iter': 449, 'min_samples_leaf': 4, 'l2_regularization': 1.6449613004717034, 'max_bins': 151}. Best is trial 22 with value: 0.3137254901960784.\n",
      "[I 2025-08-17 22:49:07,588] Trial 25 finished with value: 0.3404255319148936 and parameters: {'learning_rate': 0.11852258842059535, 'max_depth': 4, 'max_iter': 443, 'min_samples_leaf': 10, 'l2_regularization': 1.4427582668352443, 'max_bins': 182}. Best is trial 25 with value: 0.3404255319148936.\n",
      "[I 2025-08-17 22:49:09,334] Trial 26 finished with value: 0.2857142857142857 and parameters: {'learning_rate': 0.11198178965646659, 'max_depth': 6, 'max_iter': 375, 'min_samples_leaf': 11, 'l2_regularization': 1.469941875068917, 'max_bins': 180}. Best is trial 25 with value: 0.3404255319148936.\n",
      "[I 2025-08-17 22:49:10,255] Trial 27 finished with value: 0.24 and parameters: {'learning_rate': 0.14132354143798884, 'max_depth': 3, 'max_iter': 424, 'min_samples_leaf': 1, 'l2_regularization': 1.2238634723957214, 'max_bins': 212}. Best is trial 25 with value: 0.3404255319148936.\n",
      "[I 2025-08-17 22:49:10,894] Trial 28 finished with value: 0.19047619047619047 and parameters: {'learning_rate': 0.08569956525709646, 'max_depth': 2, 'max_iter': 450, 'min_samples_leaf': 9, 'l2_regularization': 1.4376338464489526, 'max_bins': 188}. Best is trial 25 with value: 0.3404255319148936.\n",
      "[I 2025-08-17 22:49:12,430] Trial 29 finished with value: 0.2857142857142857 and parameters: {'learning_rate': 0.17737379078230267, 'max_depth': 5, 'max_iter': 397, 'min_samples_leaf': 15, 'l2_regularization': 1.569135451117125, 'max_bins': 170}. Best is trial 25 with value: 0.3404255319148936.\n",
      "[I 2025-08-17 22:49:13,061] Trial 30 finished with value: 0.17391304347826086 and parameters: {'learning_rate': 0.03282416159470706, 'max_depth': 3, 'max_iter': 297, 'min_samples_leaf': 7, 'l2_regularization': 1.9786214805544247, 'max_bins': 145}. Best is trial 25 with value: 0.3404255319148936.\n",
      "[I 2025-08-17 22:49:14,724] Trial 31 finished with value: 0.3137254901960784 and parameters: {'learning_rate': 0.060651889357123574, 'max_depth': 4, 'max_iter': 499, 'min_samples_leaf': 10, 'l2_regularization': 1.7596106517326044, 'max_bins': 159}. Best is trial 25 with value: 0.3404255319148936.\n",
      "[I 2025-08-17 22:49:16,888] Trial 32 finished with value: 0.2857142857142857 and parameters: {'learning_rate': 0.052757763162213644, 'max_depth': 5, 'max_iter': 474, 'min_samples_leaf': 9, 'l2_regularization': 1.7918108301503857, 'max_bins': 187}. Best is trial 25 with value: 0.3404255319148936.\n",
      "[I 2025-08-17 22:49:19,034] Trial 33 finished with value: 0.2553191489361702 and parameters: {'learning_rate': 0.10859840829634418, 'max_depth': 6, 'max_iter': 497, 'min_samples_leaf': 15, 'l2_regularization': 1.5179373410667618, 'max_bins': 166}. Best is trial 25 with value: 0.3404255319148936.\n",
      "[I 2025-08-17 22:49:17,130] Trial 34 finished with value: 0.25 and parameters: {'learning_rate': 0.07899580968569532, 'max_depth': 3, 'max_iter': 440, 'min_samples_leaf': 12, 'l2_regularization': 1.2981964709981286, 'max_bins': 157}. Best is trial 25 with value: 0.3404255319148936.\n",
      "[I 2025-08-17 22:49:19,568] Trial 35 finished with value: 0.26666666666666666 and parameters: {'learning_rate': 0.062369817966090944, 'max_depth': 7, 'max_iter': 467, 'min_samples_leaf': 11, 'l2_regularization': 1.100802298566563, 'max_bins': 139}. Best is trial 25 with value: 0.3404255319148936.\n",
      "[I 2025-08-17 22:49:20,895] Trial 36 finished with value: 0.2978723404255319 and parameters: {'learning_rate': 0.11868863370820382, 'max_depth': 4, 'max_iter': 402, 'min_samples_leaf': 8, 'l2_regularization': 1.6137664359756474, 'max_bins': 149}. Best is trial 25 with value: 0.3404255319148936.\n",
      "[I 2025-08-17 22:49:21,429] Trial 37 finished with value: 0.26666666666666666 and parameters: {'learning_rate': 0.09245331891384405, 'max_depth': 2, 'max_iter': 363, 'min_samples_leaf': 14, 'l2_regularization': 1.3935986944221765, 'max_bins': 168}. Best is trial 25 with value: 0.3404255319148936.\n",
      "[I 2025-08-17 22:49:23,398] Trial 38 finished with value: 0.2222222222222222 and parameters: {'learning_rate': 0.15469043640047195, 'max_depth': 7, 'max_iter': 449, 'min_samples_leaf': 17, 'l2_regularization': 0.856677943053402, 'max_bins': 181}. Best is trial 25 with value: 0.3404255319148936.\n",
      "[I 2025-08-17 22:49:25,833] Trial 39 finished with value: 0.18181818181818182 and parameters: {'learning_rate': 0.011739184218620762, 'max_depth': 10, 'max_iter': 427, 'min_samples_leaf': 12, 'l2_regularization': 1.86127433525511, 'max_bins': 197}. Best is trial 25 with value: 0.3404255319148936.\n",
      "[I 2025-08-17 22:49:28,072] Trial 40 finished with value: 0.21739130434782608 and parameters: {'learning_rate': 0.07736133948094012, 'max_depth': 5, 'max_iter': 479, 'min_samples_leaf': 10, 'l2_regularization': 1.2154665614516522, 'max_bins': 210}. Best is trial 25 with value: 0.3404255319148936.\n",
      "[I 2025-08-17 22:49:29,763] Trial 41 finished with value: 0.2222222222222222 and parameters: {'learning_rate': 0.05890269812392508, 'max_depth': 4, 'max_iter': 493, 'min_samples_leaf': 10, 'l2_regularization': 1.707739447075845, 'max_bins': 157}. Best is trial 25 with value: 0.3404255319148936.\n",
      "[I 2025-08-17 22:49:30,787] Trial 42 finished with value: 0.20833333333333334 and parameters: {'learning_rate': 0.043664836952640985, 'max_depth': 3, 'max_iter': 496, 'min_samples_leaf': 12, 'l2_regularization': 1.736413788103823, 'max_bins': 136}. Best is trial 25 with value: 0.3404255319148936.\n",
      "[I 2025-08-17 22:49:32,619] Trial 43 finished with value: 0.18181818181818182 and parameters: {'learning_rate': 0.07377426663433095, 'max_depth': 4, 'max_iter': 469, 'min_samples_leaf': 7, 'l2_regularization': 1.6497185690553129, 'max_bins': 158}. Best is trial 25 with value: 0.3404255319148936.\n",
      "[I 2025-08-17 22:49:34,878] Trial 44 finished with value: 0.32653061224489793 and parameters: {'learning_rate': 0.04581431302689251, 'max_depth': 5, 'max_iter': 436, 'min_samples_leaf': 9, 'l2_regularization': 1.4957397957120888, 'max_bins': 164}. Best is trial 25 with value: 0.3404255319148936.\n",
      "[I 2025-08-17 22:49:36,349] Trial 45 finished with value: 0.15384615384615385 and parameters: {'learning_rate': 0.03192134941684957, 'max_depth': 6, 'max_iter': 230, 'min_samples_leaf': 5, 'l2_regularization': 1.4747581274964245, 'max_bins': 148}. Best is trial 25 with value: 0.3404255319148936.\n",
      "[I 2025-08-17 22:49:38,392] Trial 46 finished with value: 0.3404255319148936 and parameters: {'learning_rate': 0.045816074922466636, 'max_depth': 5, 'max_iter': 435, 'min_samples_leaf': 9, 'l2_regularization': 1.039612546034561, 'max_bins': 165}. Best is trial 25 with value: 0.3404255319148936.\n",
      "[I 2025-08-17 22:49:41,028] Trial 47 finished with value: 0.24489795918367346 and parameters: {'learning_rate': 0.02542983143860907, 'max_depth': 8, 'max_iter': 412, 'min_samples_leaf': 8, 'l2_regularization': 1.0519883999753157, 'max_bins': 175}. Best is trial 25 with value: 0.3404255319148936.\n",
      "[I 2025-08-17 22:49:42,704] Trial 48 finished with value: 0.23809523809523808 and parameters: {'learning_rate': 0.03897670363647824, 'max_depth': 5, 'max_iter': 384, 'min_samples_leaf': 11, 'l2_regularization': 1.2019464144178036, 'max_bins': 166}. Best is trial 25 with value: 0.3404255319148936.\n",
      "[I 2025-08-17 22:49:45,350] Trial 49 finished with value: 0.2553191489361702 and parameters: {'learning_rate': 0.020602094123991374, 'max_depth': 8, 'max_iter': 424, 'min_samples_leaf': 9, 'l2_regularization': 0.6856378265245059, 'max_bins': 191}. Best is trial 25 with value: 0.3404255319148936.\n",
      "[I 2025-08-17 22:49:47,328] Trial 50 finished with value: 0.2727272727272727 and parameters: {'learning_rate': 0.047688997875581576, 'max_depth': 6, 'max_iter': 435, 'min_samples_leaf': 14, 'l2_regularization': 0.8220861507709376, 'max_bins': 173}. Best is trial 25 with value: 0.3404255319148936.\n",
      "[I 2025-08-17 22:49:48,392] Trial 51 finished with value: 0.2 and parameters: {'learning_rate': 0.06037728803517596, 'max_depth': 3, 'max_iter': 457, 'min_samples_leaf': 9, 'l2_regularization': 1.3684887691811927, 'max_bins': 153}. Best is trial 25 with value: 0.3404255319148936.\n",
      "[I 2025-08-17 22:49:46,017] Trial 52 finished with value: 0.24390243902439024 and parameters: {'learning_rate': 0.043521977182233516, 'max_depth': 2, 'max_iter': 402, 'min_samples_leaf': 8, 'l2_regularization': 1.2628955715593733, 'max_bins': 181}. Best is trial 25 with value: 0.3404255319148936.\n",
      "[I 2025-08-17 22:49:47,256] Trial 53 finished with value: 0.22727272727272727 and parameters: {'learning_rate': 0.03554957604018296, 'max_depth': 4, 'max_iter': 356, 'min_samples_leaf': 6, 'l2_regularization': 1.0246030922419764, 'max_bins': 166}. Best is trial 25 with value: 0.3404255319148936.\n",
      "[I 2025-08-17 22:49:48,456] Trial 54 finished with value: 0.2978723404255319 and parameters: {'learning_rate': 0.056357075922768465, 'max_depth': 5, 'max_iter': 272, 'min_samples_leaf': 10, 'l2_regularization': 0.239167749590669, 'max_bins': 252}. Best is trial 25 with value: 0.3404255319148936.\n",
      "[I 2025-08-17 22:49:49,166] Trial 55 finished with value: 0.22727272727272727 and parameters: {'learning_rate': 0.09876752679391171, 'max_depth': 3, 'max_iter': 322, 'min_samples_leaf': 7, 'l2_regularization': 1.142445646248394, 'max_bins': 236}. Best is trial 25 with value: 0.3404255319148936.\n",
      "[I 2025-08-17 22:49:51,397] Trial 56 finished with value: 0.18181818181818182 and parameters: {'learning_rate': 0.02906427757795929, 'max_depth': 7, 'max_iter': 440, 'min_samples_leaf': 11, 'l2_regularization': 1.5135339557279741, 'max_bins': 145}. Best is trial 25 with value: 0.3404255319148936.\n",
      "[I 2025-08-17 22:49:51,887] Trial 57 finished with value: 0.2978723404255319 and parameters: {'learning_rate': 0.08664387643928516, 'max_depth': 4, 'max_iter': 145, 'min_samples_leaf': 5, 'l2_regularization': 1.4246591978710064, 'max_bins': 134}. Best is trial 25 with value: 0.3404255319148936.\n",
      "[I 2025-08-17 22:49:52,425] Trial 58 finished with value: 0.27906976744186046 and parameters: {'learning_rate': 0.07275338928823652, 'max_depth': 2, 'max_iter': 414, 'min_samples_leaf': 13, 'l2_regularization': 1.59297152242958, 'max_bins': 154}. Best is trial 25 with value: 0.3404255319148936.\n",
      "[I 2025-08-17 22:49:54,388] Trial 59 finished with value: 0.19047619047619047 and parameters: {'learning_rate': 0.046759183815002034, 'max_depth': 5, 'max_iter': 481, 'min_samples_leaf': 9, 'l2_regularization': 1.313350150138128, 'max_bins': 140}. Best is trial 25 with value: 0.3404255319148936.\n",
      "[I 2025-08-17 22:49:55,547] Trial 60 finished with value: 0.18181818181818182 and parameters: {'learning_rate': 0.06368947133616193, 'max_depth': 4, 'max_iter': 380, 'min_samples_leaf': 11, 'l2_regularization': 0.004556382099618395, 'max_bins': 163}. Best is trial 25 with value: 0.3404255319148936.\n",
      "[I 2025-08-17 22:49:57,936] Trial 61 finished with value: 0.2553191489361702 and parameters: {'learning_rate': 0.06436025181305408, 'max_depth': 6, 'max_iter': 499, 'min_samples_leaf': 10, 'l2_regularization': 1.8913513491813227, 'max_bins': 160}. Best is trial 25 with value: 0.3404255319148936.\n",
      "[I 2025-08-17 22:49:58,844] Trial 62 finished with value: 0.18181818181818182 and parameters: {'learning_rate': 0.05422408652682972, 'max_depth': 3, 'max_iter': 458, 'min_samples_leaf': 12, 'l2_regularization': 1.7721914906144267, 'max_bins': 155}. Best is trial 25 with value: 0.3404255319148936.\n",
      "[I 2025-08-17 22:50:00,344] Trial 63 finished with value: 0.2857142857142857 and parameters: {'learning_rate': 0.08368743903206778, 'max_depth': 4, 'max_iter': 474, 'min_samples_leaf': 8, 'l2_regularization': 1.685394465042659, 'max_bins': 146}. Best is trial 25 with value: 0.3404255319148936.\n",
      "[I 2025-08-17 22:50:02,488] Trial 64 finished with value: 0.2857142857142857 and parameters: {'learning_rate': 0.03817040045607211, 'max_depth': 5, 'max_iter': 485, 'min_samples_leaf': 9, 'l2_regularization': 1.9566539357492765, 'max_bins': 178}. Best is trial 25 with value: 0.3404255319148936.\n",
      "[I 2025-08-17 22:50:03,501] Trial 65 finished with value: 0.17391304347826086 and parameters: {'learning_rate': 0.06966646315891506, 'max_depth': 3, 'max_iter': 435, 'min_samples_leaf': 6, 'l2_regularization': 1.4948885993265046, 'max_bins': 162}. Best is trial 25 with value: 0.3404255319148936.\n",
      "[I 2025-08-17 22:50:06,243] Trial 66 finished with value: 0.19047619047619047 and parameters: {'learning_rate': 0.048214899653206654, 'max_depth': 14, 'max_iter': 460, 'min_samples_leaf': 10, 'l2_regularization': 1.3780847778170986, 'max_bins': 185}. Best is trial 25 with value: 0.3404255319148936.\n",
      "[I 2025-08-17 22:50:06,666] Trial 67 finished with value: 0.24390243902439024 and parameters: {'learning_rate': 0.11205622080694136, 'max_depth': 2, 'max_iter': 293, 'min_samples_leaf': 12, 'l2_regularization': 1.5593563096490153, 'max_bins': 174}. Best is trial 25 with value: 0.3404255319148936.\n",
      "[I 2025-08-17 22:50:09,130] Trial 68 finished with value: 0.20833333333333334 and parameters: {'learning_rate': 0.13306519482825993, 'max_depth': 6, 'max_iter': 446, 'min_samples_leaf': 7, 'l2_regularization': 0.9258059877140565, 'max_bins': 152}. Best is trial 25 with value: 0.3404255319148936.\n",
      "[I 2025-08-17 22:50:10,653] Trial 69 finished with value: 0.24489795918367346 and parameters: {'learning_rate': 0.04244780276097299, 'max_depth': 4, 'max_iter': 469, 'min_samples_leaf': 8, 'l2_regularization': 1.8235350755632522, 'max_bins': 149}. Best is trial 25 with value: 0.3404255319148936.\n",
      "[I 2025-08-17 22:50:12,374] Trial 70 finished with value: 0.3404255319148936 and parameters: {'learning_rate': 0.05624643217260603, 'max_depth': 5, 'max_iter': 351, 'min_samples_leaf': 11, 'l2_regularization': 1.6319863946943536, 'max_bins': 169}. Best is trial 25 with value: 0.3404255319148936.\n",
      "[I 2025-08-17 22:50:13,903] Trial 71 finished with value: 0.2978723404255319 and parameters: {'learning_rate': 0.053145062840076834, 'max_depth': 5, 'max_iter': 340, 'min_samples_leaf': 11, 'l2_regularization': 1.6040572891134803, 'max_bins': 171}. Best is trial 25 with value: 0.3404255319148936.\n",
      "[I 2025-08-17 22:50:15,000] Trial 72 finished with value: 0.2978723404255319 and parameters: {'learning_rate': 0.06698929068139063, 'max_depth': 4, 'max_iter': 322, 'min_samples_leaf': 10, 'l2_regularization': 1.6718398070457523, 'max_bins': 164}. Best is trial 25 with value: 0.3404255319148936.\n",
      "[I 2025-08-17 22:50:16,586] Trial 73 finished with value: 0.22727272727272727 and parameters: {'learning_rate': 0.05619411950581294, 'max_depth': 5, 'max_iter': 347, 'min_samples_leaf': 9, 'l2_regularization': 0.5426734523046398, 'max_bins': 168}. Best is trial 25 with value: 0.3404255319148936.\n",
      "[I 2025-08-17 22:50:17,593] Trial 74 finished with value: 0.21739130434782608 and parameters: {'learning_rate': 0.07999853139388731, 'max_depth': 3, 'max_iter': 486, 'min_samples_leaf': 13, 'l2_regularization': 1.7607087490813051, 'max_bins': 170}. Best is trial 25 with value: 0.3404255319148936.\n",
      "[I 2025-08-17 22:50:16,702] Trial 75 finished with value: 0.2978723404255319 and parameters: {'learning_rate': 0.09306943448971713, 'max_depth': 6, 'max_iter': 393, 'min_samples_leaf': 10, 'l2_regularization': 1.4322935468367162, 'max_bins': 158}. Best is trial 25 with value: 0.3404255319148936.\n",
      "[I 2025-08-17 22:50:18,032] Trial 76 finished with value: 0.2857142857142857 and parameters: {'learning_rate': 0.05757098359983479, 'max_depth': 5, 'max_iter': 308, 'min_samples_leaf': 11, 'l2_regularization': 1.5354066034043186, 'max_bins': 177}. Best is trial 25 with value: 0.3404255319148936.\n",
      "[I 2025-08-17 22:50:20,569] Trial 77 finished with value: 0.13333333333333333 and parameters: {'learning_rate': 0.049455970419656686, 'max_depth': 7, 'max_iter': 430, 'min_samples_leaf': 8, 'l2_regularization': 1.2640599992057868, 'max_bins': 141}. Best is trial 25 with value: 0.3404255319148936.\n",
      "[I 2025-08-17 22:50:21,936] Trial 78 finished with value: 0.2857142857142857 and parameters: {'learning_rate': 0.0738498406497064, 'max_depth': 4, 'max_iter': 413, 'min_samples_leaf': 14, 'l2_regularization': 1.6375480038441763, 'max_bins': 184}. Best is trial 25 with value: 0.3404255319148936.\n",
      "[I 2025-08-17 22:50:22,431] Trial 79 finished with value: 0.26666666666666666 and parameters: {'learning_rate': 0.04155022773362127, 'max_depth': 2, 'max_iter': 366, 'min_samples_leaf': 19, 'l2_regularization': 1.1816821843122396, 'max_bins': 194}. Best is trial 25 with value: 0.3404255319148936.\n",
      "[I 2025-08-17 22:50:25,048] Trial 80 finished with value: 0.22727272727272727 and parameters: {'learning_rate': 0.015013655686154604, 'max_depth': 8, 'max_iter': 449, 'min_samples_leaf': 12, 'l2_regularization': 1.8296146571723673, 'max_bins': 160}. Best is trial 25 with value: 0.3404255319148936.\n",
      "[I 2025-08-17 22:50:26,428] Trial 81 finished with value: 0.3137254901960784 and parameters: {'learning_rate': 0.12125044377962087, 'max_depth': 4, 'max_iter': 403, 'min_samples_leaf': 9, 'l2_regularization': 1.595865600176954, 'max_bins': 150}. Best is trial 25 with value: 0.3404255319148936.\n",
      "[I 2025-08-17 22:50:27,777] Trial 82 finished with value: 0.3137254901960784 and parameters: {'learning_rate': 0.1452617569044925, 'max_depth': 4, 'max_iter': 405, 'min_samples_leaf': 10, 'l2_regularization': 1.3586155641922304, 'max_bins': 150}. Best is trial 25 with value: 0.3404255319148936.\n",
      "[I 2025-08-17 22:50:28,692] Trial 83 finished with value: 0.25925925925925924 and parameters: {'learning_rate': 0.15070135334286996, 'max_depth': 3, 'max_iter': 408, 'min_samples_leaf': 9, 'l2_regularization': 1.3545134158870857, 'max_bins': 131}. Best is trial 25 with value: 0.3404255319148936.\n",
      "[I 2025-08-17 22:50:29,998] Trial 84 finished with value: 0.2978723404255319 and parameters: {'learning_rate': 0.17831287757529857, 'max_depth': 4, 'max_iter': 391, 'min_samples_leaf': 9, 'l2_regularization': 1.4111674518408037, 'max_bins': 144}. Best is trial 25 with value: 0.3404255319148936.\n",
      "[I 2025-08-17 22:50:30,888] Trial 85 finished with value: 0.2608695652173913 and parameters: {'learning_rate': 0.10457896240814712, 'max_depth': 3, 'max_iter': 424, 'min_samples_leaf': 10, 'l2_regularization': 1.4703511238344062, 'max_bins': 149}. Best is trial 25 with value: 0.3404255319148936.\n",
      "[I 2025-08-17 22:50:32,936] Trial 86 finished with value: 0.24489795918367346 and parameters: {'learning_rate': 0.19918761641067925, 'max_depth': 10, 'max_iter': 354, 'min_samples_leaf': 11, 'l2_regularization': 1.0896706362933917, 'max_bins': 203}. Best is trial 25 with value: 0.3404255319148936.\n",
      "[I 2025-08-17 22:50:35,100] Trial 87 finished with value: 0.20408163265306123 and parameters: {'learning_rate': 0.11868401130077488, 'max_depth': 6, 'max_iter': 384, 'min_samples_leaf': 7, 'l2_regularization': 1.2883305843556347, 'max_bins': 155}. Best is trial 25 with value: 0.3404255319148936.\n",
      "[I 2025-08-17 22:50:36,882] Trial 88 finished with value: 0.27450980392156865 and parameters: {'learning_rate': 0.1231958256703573, 'max_depth': 5, 'max_iter': 400, 'min_samples_leaf': 8, 'l2_regularization': 1.5448235227971343, 'max_bins': 136}. Best is trial 25 with value: 0.3404255319148936.\n",
      "[I 2025-08-17 22:50:38,508] Trial 89 finished with value: 0.2857142857142857 and parameters: {'learning_rate': 0.14338949446387375, 'max_depth': 5, 'max_iter': 374, 'min_samples_leaf': 10, 'l2_regularization': 1.480423157557657, 'max_bins': 147}. Best is trial 25 with value: 0.3404255319148936.\n",
      "[I 2025-08-17 22:50:41,774] Trial 90 finished with value: 0.23076923076923078 and parameters: {'learning_rate': 0.16968696934440772, 'max_depth': 12, 'max_iter': 418, 'min_samples_leaf': 4, 'l2_regularization': 1.352795786966021, 'max_bins': 150}. Best is trial 25 with value: 0.3404255319148936.\n",
      "[I 2025-08-17 22:50:42,827] Trial 91 finished with value: 0.2857142857142857 and parameters: {'learning_rate': 0.06145071258085023, 'max_depth': 4, 'max_iter': 329, 'min_samples_leaf': 9, 'l2_regularization': 1.5881943636011828, 'max_bins': 165}. Best is trial 25 with value: 0.3404255319148936.\n",
      "[I 2025-08-17 22:50:44,413] Trial 92 finished with value: 0.26666666666666666 and parameters: {'learning_rate': 0.03660773371976146, 'max_depth': 4, 'max_iter': 466, 'min_samples_leaf': 12, 'l2_regularization': 1.7032992741266224, 'max_bins': 157}. Best is trial 25 with value: 0.3404255319148936.\n",
      "[I 2025-08-17 22:50:45,777] Trial 93 finished with value: 0.3137254901960784 and parameters: {'learning_rate': 0.045429236285215606, 'max_depth': 4, 'max_iter': 440, 'min_samples_leaf': 10, 'l2_regularization': 1.730763446296616, 'max_bins': 168}. Best is trial 25 with value: 0.3404255319148936.\n",
      "[I 2025-08-17 22:50:44,681] Trial 94 finished with value: 0.24489795918367346 and parameters: {'learning_rate': 0.1292267339067447, 'max_depth': 5, 'max_iter': 433, 'min_samples_leaf': 11, 'l2_regularization': 1.7358555841809182, 'max_bins': 152}. Best is trial 25 with value: 0.3404255319148936.\n",
      "[I 2025-08-17 22:50:45,780] Trial 95 finished with value: 0.20833333333333334 and parameters: {'learning_rate': 0.047620994559895095, 'max_depth': 3, 'max_iter': 443, 'min_samples_leaf': 10, 'l2_regularization': 1.6358586212888182, 'max_bins': 168}. Best is trial 25 with value: 0.3404255319148936.\n",
      "[I 2025-08-17 22:50:47,316] Trial 96 finished with value: 0.20408163265306123 and parameters: {'learning_rate': 0.04428468136323053, 'max_depth': 4, 'max_iter': 455, 'min_samples_leaf': 9, 'l2_regularization': 1.4484035834794962, 'max_bins': 142}. Best is trial 25 with value: 0.3404255319148936.\n",
      "[I 2025-08-17 22:50:48,285] Trial 97 finished with value: 0.17391304347826086 and parameters: {'learning_rate': 0.15915190008394153, 'max_depth': 3, 'max_iter': 419, 'min_samples_leaf': 6, 'l2_regularization': 1.325295137235892, 'max_bins': 161}. Best is trial 25 with value: 0.3404255319148936.\n",
      "[I 2025-08-17 22:50:50,524] Trial 98 finished with value: 0.23255813953488372 and parameters: {'learning_rate': 0.049958076781756455, 'max_depth': 6, 'max_iter': 436, 'min_samples_leaf': 11, 'l2_regularization': 1.5134008775931194, 'max_bins': 174}. Best is trial 25 with value: 0.3404255319148936.\n",
      "[I 2025-08-17 22:50:51,106] Trial 99 finished with value: 0.2564102564102564 and parameters: {'learning_rate': 0.0455731717436753, 'max_depth': 2, 'max_iter': 404, 'min_samples_leaf': 10, 'l2_regularization': 1.9140797131776413, 'max_bins': 155}. Best is trial 25 with value: 0.3404255319148936.\n"
     ]
    }
   ],
   "source": [
    "set_seeds(SEED)\n",
    "study = optuna.create_study(\n",
    "    direction=\"maximize\",\n",
    "    sampler=optuna.samplers.TPESampler(seed=SEED)\n",
    ")\n",
    "study.optimize(objective, n_trials=100)"
   ]
  },
  {
   "cell_type": "code",
   "execution_count": 9,
   "id": "f010ce44",
   "metadata": {},
   "outputs": [
    {
     "name": "stdout",
     "output_type": "stream",
     "text": [
      "Mejores hiperparámetros encontrados:\n",
      "{'learning_rate': 0.11852258842059535, 'max_depth': 4, 'max_iter': 443, 'min_samples_leaf': 10, 'l2_regularization': 1.4427582668352443, 'max_bins': 182}\n",
      "Mejor score de trend change: 0.3404\n"
     ]
    }
   ],
   "source": [
    "print(\"Mejores hiperparámetros encontrados:\")\n",
    "print(study.best_params)\n",
    "print(f\"Mejor score de trend change: {study.best_value:.4f}\")"
   ]
  },
  {
   "cell_type": "code",
   "execution_count": 10,
   "id": "b3885830",
   "metadata": {},
   "outputs": [
    {
     "name": "stdout",
     "output_type": "stream",
     "text": [
      "\n",
      "HistGradientBoostingClassifier FINAL trend_changes_score:\n",
      "               precision    recall  f1-score   support\n",
      "\n",
      "       False     0.9091    0.8036    0.8531       112\n",
      "        True     0.2667    0.4706    0.3404        17\n",
      "\n",
      "    accuracy                         0.7597       129\n",
      "   macro avg     0.5879    0.6371    0.5968       129\n",
      "weighted avg     0.8244    0.7597    0.7855       129\n",
      "\n"
     ]
    }
   ],
   "source": [
    "# Entrenar modelo final con los mejores hiperparámetros\n",
    "set_seeds(SEED)\n",
    "best_params = study.best_params\n",
    "final_model = HistGradientBoostingClassifier(\n",
    "    learning_rate=best_params[\"learning_rate\"],\n",
    "    max_depth=best_params[\"max_depth\"],\n",
    "    max_iter=best_params[\"max_iter\"],\n",
    "    min_samples_leaf=best_params[\"min_samples_leaf\"],\n",
    "    l2_regularization=best_params[\"l2_regularization\"],\n",
    "    max_bins=best_params[\"max_bins\"],\n",
    "    random_state=SEED\n",
    ")\n",
    "final_model.fit(X_train, y_train)\n",
    "y_pred_final = final_model.predict(X_val)\n",
    "print(\"\\nHistGradientBoostingClassifier FINAL trend_changes_score:\\n\", trend_changes_score(y_val, y_pred_final))"
   ]
  }
 ],
 "metadata": {
  "kernelspec": {
   "display_name": "tf_venv2 (3.10.12)",
   "language": "python",
   "name": "python3"
  },
  "language_info": {
   "codemirror_mode": {
    "name": "ipython",
    "version": 3
   },
   "file_extension": ".py",
   "mimetype": "text/x-python",
   "name": "python",
   "nbconvert_exporter": "python",
   "pygments_lexer": "ipython3",
   "version": "3.10.12"
  }
 },
 "nbformat": 4,
 "nbformat_minor": 5
}
