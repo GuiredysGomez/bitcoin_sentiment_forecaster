{
 "cells": [
  {
   "cell_type": "code",
   "execution_count": 8,
   "id": "c3de6a88",
   "metadata": {},
   "outputs": [],
   "source": [
    "import os\n",
    "import random\n",
    "import numpy as np\n",
    "import pandas as pd\n",
    "import tensorflow as tf\n",
    "import matplotlib.pyplot as plt\n",
    "from sklearn.metrics import balanced_accuracy_score, classification_report, f1_score"
   ]
  },
  {
   "cell_type": "code",
   "execution_count": 9,
   "id": "ccdc18cd",
   "metadata": {},
   "outputs": [],
   "source": [
    "def trend_changes_score(y_test: np.array, y_pred: np.array) -> float:\n",
    "    \"\"\"\n",
    "    Calculate the trend changes score based on the test and predicted values.\n",
    "    \n",
    "    Args:\n",
    "        y_test (np.array): True labels.\n",
    "        y_pred (np.array): Predicted labels.\n",
    "        \n",
    "    Returns:\n",
    "        float: The trend changes score.\n",
    "    \"\"\"\n",
    "    y_df = pd.DataFrame([y_test, y_pred]).T\n",
    "    y_df.columns = [\"y_test\", \"y_pred\"]\n",
    "    y_df[\"y_test_shifted\"] = y_df[\"y_test\"].shift(-1)\n",
    "    y_df[\"is_changed_trend_test\"] = y_df[\"y_test\"] != y_df[\"y_test_shifted\"]\n",
    "    y_df[\"y_predict_shifted\"] = y_df[\"y_pred\"].shift(-1)\n",
    "    y_df[\"is_changed_trend_predict\"] = y_df[\"y_pred\"] != y_df[\"y_predict_shifted\"]\n",
    "    return classification_report(y_df[\"is_changed_trend_test\"][:-1], y_df[\"is_changed_trend_predict\"][:-1], digits=4)"
   ]
  },
  {
   "cell_type": "code",
   "execution_count": 10,
   "id": "0b55f468",
   "metadata": {},
   "outputs": [],
   "source": [
    "train_set = pd.read_csv(\"../../../data/training_set.csv\")\n",
    "validation_set = pd.read_csv(\"../../../data/validation_set.csv\")\n",
    "test_set = pd.read_csv(\"../../../data/test_set.csv\")\n",
    "final_data = pd.read_csv(\"../../../data/final_data.csv\")"
   ]
  },
  {
   "cell_type": "code",
   "execution_count": 11,
   "id": "16aca84a",
   "metadata": {},
   "outputs": [
    {
     "data": {
      "image/png": "[encoded data removed]",
      "text/plain": [
       "<Figure size 640x480 with 1 Axes>"
      ]
     },
     "metadata": {},
     "output_type": "display_data"
    }
   ],
   "source": [
    "# Convertimos a DataFrame para facilitar la visualización\n",
    "\n",
    "final_distribution = final_data['target_trend'].value_counts(normalize=True)\n",
    "train_distribution = pd.Series(train_set['target_trend']).value_counts(normalize=True)\n",
    "validation_distribution = pd.Series(validation_set['target_trend']).value_counts(normalize=True)\n",
    "test_distribution = pd.Series(test_set['target_trend']).value_counts(normalize=True)\n",
    "\n",
    "# Comparar visualmente\n",
    "df = pd.DataFrame({\n",
    "    'Train': train_distribution,\n",
    "    'Validation': validation_distribution,\n",
    "    'Test': test_distribution,\n",
    "\n",
    "    'Final': final_distribution\n",
    "    \n",
    "}).fillna(0)\n",
    "\n",
    "df.plot(kind='bar', title='Distribución de Clases')\n",
    "plt.xlabel('Clase')\n",
    "plt.ylabel('Proporción')\n",
    "plt.grid(True)\n",
    "plt.show()"
   ]
  },
  {
   "cell_type": "code",
   "execution_count": 12,
   "id": "c2050dd1",
   "metadata": {},
   "outputs": [],
   "source": [
    "y_validation = validation_set['target_trend']\n",
    "y_pred = validation_set['trend_d0']"
   ]
  },
  {
   "cell_type": "code",
   "execution_count": 13,
   "id": "8f6feb52",
   "metadata": {},
   "outputs": [
    {
     "name": "stdout",
     "output_type": "stream",
     "text": [
      "NaiveModel report:\n",
      "               precision    recall  f1-score   support\n",
      "\n",
      "          -1     0.8750    0.8750    0.8750        24\n",
      "           0     0.5263    0.5556    0.5405        18\n",
      "           1     0.9425    0.9318    0.9371        88\n",
      "\n",
      "    accuracy                         0.8692       130\n",
      "   macro avg     0.7813    0.7875    0.7842       130\n",
      "weighted avg     0.8724    0.8692    0.8708       130\n",
      "\n",
      "Balanced accuracy: 0.7874579124579125\n"
     ]
    }
   ],
   "source": [
    "report = classification_report(y_validation, y_pred, digits=4)\n",
    "print(f\"NaiveModel report:\\n {report}\")\n",
    "print(\"Balanced accuracy:\", balanced_accuracy_score(y_validation, y_pred))"
   ]
  },
  {
   "cell_type": "code",
   "execution_count": 14,
   "id": "d024c0dc",
   "metadata": {},
   "outputs": [
    {
     "name": "stdout",
     "output_type": "stream",
     "text": [
      "              precision    recall  f1-score   support\n",
      "\n",
      "       False     0.8661    0.8661    0.8661       112\n",
      "        True     0.1176    0.1176    0.1176        17\n",
      "\n",
      "    accuracy                         0.7674       129\n",
      "   macro avg     0.4919    0.4919    0.4919       129\n",
      "weighted avg     0.7674    0.7674    0.7674       129\n",
      "\n"
     ]
    }
   ],
   "source": [
    "print(trend_changes_score(y_test=y_validation, y_pred=y_pred))"
   ]
  }
 ],
 "metadata": {
  "kernelspec": {
   "display_name": "tf_venv2 (3.10.12)",
   "language": "python",
   "name": "python3"
  },
  "language_info": {
   "codemirror_mode": {
    "name": "ipython",
    "version": 3
   },
   "file_extension": ".py",
   "mimetype": "text/x-python",
   "name": "python",
   "nbconvert_exporter": "python",
   "pygments_lexer": "ipython3",
   "version": "3.10.12"
  }
 },
 "nbformat": 4,
 "nbformat_minor": 5
}
