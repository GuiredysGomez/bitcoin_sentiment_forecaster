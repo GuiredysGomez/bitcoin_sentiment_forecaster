{
 "cells": [
  {
   "cell_type": "code",
   "execution_count": 1,
   "id": "08624e4d",
   "metadata": {},
   "outputs": [
    {
     "name": "stderr",
     "output_type": "stream",
     "text": [
      "/home/toyotx22/bitcoin_sentiment_forecaster/tf_venv2/lib/python3.10/site-packages/tqdm/auto.py:21: TqdmWarning: IProgress not found. Please update jupyter and ipywidgets. See https://ipywidgets.readthedocs.io/en/stable/user_install.html\n",
      "  from .autonotebook import tqdm as notebook_tqdm\n"
     ]
    }
   ],
   "source": [
    "import numpy as np\n",
    "import random\n",
    "import optuna\n",
    "import pandas as pd\n",
    "from xgboost import XGBClassifier\n",
    "from sklearn.metrics import classification_report\n",
    "from optuna.visualization import plot_optimization_history\n",
    "import os\n",
    "import json\n",
    "import time"
   ]
  },
  {
   "cell_type": "code",
   "execution_count": 2,
   "id": "b039264d",
   "metadata": {},
   "outputs": [],
   "source": [
    "SEED = 1234\n",
    " # Se puede cambiar a \"precision\" o \"recall\" o \"f1-score\"\n",
    "SCORE = \"f1-score\"\n",
    "model_name = 'XGBClassifier'"
   ]
  },
  {
   "cell_type": "code",
   "execution_count": 3,
   "id": "55c794de",
   "metadata": {},
   "outputs": [],
   "source": [
    "def set_seeds(seed):\n",
    "    random.seed(seed)\n",
    "    np.random.seed(seed)"
   ]
  },
  {
   "cell_type": "code",
   "execution_count": 4,
   "id": "89ba8174",
   "metadata": {},
   "outputs": [],
   "source": [
    "def get_trend_changes_report_dict(y_test: np.array, y_pred: np.array) -> float:\n",
    "    \"\"\"\n",
    "    Calculate the trend changes score based on the test and predicted values.\n",
    "    \n",
    "    Args:\n",
    "        y_test (np.array): True labels.\n",
    "        y_pred (np.array): Predicted labels.\n",
    "        \n",
    "    Returns:\n",
    "        float: The trend changes score.\n",
    "    \"\"\"\n",
    "    y_df = pd.DataFrame([y_test, y_pred]).T\n",
    "    y_df.columns = [\"y_test\", \"y_pred\"]\n",
    "    y_df[\"y_test_shifted\"] = y_df[\"y_test\"].shift(-1)\n",
    "    y_df[\"is_changed_trend_test\"] = y_df[\"y_test\"] != y_df[\"y_test_shifted\"]\n",
    "    y_df[\"y_predict_shifted\"] = y_df[\"y_pred\"].shift(-1)\n",
    "    y_df[\"is_changed_trend_predict\"] = y_df[\"y_pred\"] != y_df[\"y_predict_shifted\"]\n",
    "    return classification_report(\n",
    "        y_df[\"is_changed_trend_test\"][:-1], \n",
    "        y_df[\"is_changed_trend_predict\"][:-1], \n",
    "        digits=4,\n",
    "        output_dict=True,\n",
    "        zero_division=0\n",
    "    )\n",
    "\n",
    "def trend_changes_score(y_test: np.array, y_pred: np.array) -> float:\n",
    "    \"\"\"\n",
    "    Calculate the trend changes score based on the test and predicted values.\n",
    "    \"\"\"\n",
    "    y_df = pd.DataFrame([y_test, y_pred]).T\n",
    "    y_df.columns = [\"y_test\", \"y_pred\"]\n",
    "    y_df[\"y_test_shifted\"] = y_df[\"y_test\"].shift(-1)\n",
    "    y_df[\"is_changed_trend_test\"] = y_df[\"y_test\"] != y_df[\"y_test_shifted\"]\n",
    "    y_df[\"y_predict_shifted\"] = y_df[\"y_pred\"].shift(-1)\n",
    "    y_df[\"is_changed_trend_predict\"] = y_df[\"y_pred\"] != y_df[\"y_predict_shifted\"]\n",
    "    return classification_report(\n",
    "        y_df[\"is_changed_trend_test\"][:-1],\n",
    "        y_df[\"is_changed_trend_predict\"][:-1],\n",
    "        digits=4\n",
    "    )\n",
    "\n",
    "def trend_changes_true(y_test: np.array, y_pred: np.array) -> float:\n",
    "    \"\"\"\n",
    "    Calculate the trend changes score based on the test and predicted values.\n",
    "    Returns only the F1-score for trend change.\n",
    "    \"\"\"\n",
    "    y_df = pd.DataFrame([y_test, y_pred]).T\n",
    "    y_df.columns = [\"y_test\", \"y_pred\"]\n",
    "    y_df[\"y_test_shifted\"] = y_df[\"y_test\"].shift(-1)\n",
    "    y_df[\"is_changed_trend_test\"] = y_df[\"y_test\"] != y_df[\"y_test_shifted\"]\n",
    "    y_df[\"y_predict_shifted\"] = y_df[\"y_pred\"].shift(-1)\n",
    "    y_df[\"is_changed_trend_predict\"] = y_df[\"y_pred\"] != y_df[\"y_predict_shifted\"]\n",
    "    report = classification_report(\n",
    "        y_df[\"is_changed_trend_test\"][:-1],\n",
    "        y_df[\"is_changed_trend_predict\"][:-1],\n",
    "        output_dict=True,\n",
    "        zero_division=0\n",
    "    )\n",
    "    return report[\"True\"][SCORE]"
   ]
  },
  {
   "cell_type": "code",
   "execution_count": 5,
   "id": "2e13369e",
   "metadata": {},
   "outputs": [],
   "source": [
    "# Cargar datos\n",
    "train = pd.read_csv(\"../../../data/post_cleaning/training_set.csv\", parse_dates=[\"date\"])\n",
    "val = pd.read_csv(\"../../../data/post_cleaning/validation_set.csv\", parse_dates=[\"date\"])\n",
    "X_train = train.drop(columns=[\"date\", \"target_trend\"]).values\n",
    "y_train = train[\"target_trend\"].values\n",
    "X_val = val.drop(columns=[\"date\", \"target_trend\"]).values\n",
    "y_val = val[\"target_trend\"].values"
   ]
  },
  {
   "cell_type": "code",
   "execution_count": 6,
   "id": "711d0cfc",
   "metadata": {},
   "outputs": [],
   "source": [
    "# Mapear clases (-1,0,1) -> (0,1,2) para LightGBM\n",
    "cls_map = {-1:0, 0:1, 1:2}\n",
    "inv_map = {v:k for k,v in cls_map.items()}\n",
    "y_train_m = np.vectorize(cls_map.get)(y_train)\n",
    "y_val_m   = np.vectorize(cls_map.get)(y_val)"
   ]
  },
  {
   "cell_type": "code",
   "execution_count": 7,
   "id": "a8089887",
   "metadata": {},
   "outputs": [],
   "source": [
    "# Optuna para hiperparámetros\n",
    "def objective(trial):\n",
    "    set_seeds(SEED) # Fijar semilla antes de cada trial\n",
    "    # Hiperparámetros a optimizar\n",
    "    learning_rate = trial.suggest_float(\"learning_rate\", 0.01, 0.2, log=True)\n",
    "    max_depth = trial.suggest_int(\"max_depth\", 2, 16)\n",
    "    n_estimators = trial.suggest_int(\"n_estimators\", 100, 500)\n",
    "    subsample = trial.suggest_float(\"subsample\", 0.6, 1.0)\n",
    "    colsample_bytree = trial.suggest_float(\"colsample_bytree\", 0.5, 1.0)\n",
    "    reg_lambda = trial.suggest_float(\"reg_lambda\", 0.0, 2.0)\n",
    "    reg_alpha = trial.suggest_float(\"reg_alpha\", 0.0, 2.0)\n",
    "    min_child_weight = trial.suggest_int(\"min_child_weight\", 1, 10)\n",
    "\n",
    "    model = XGBClassifier(\n",
    "        learning_rate=learning_rate,\n",
    "        max_depth=max_depth,\n",
    "        n_estimators=n_estimators,\n",
    "        subsample=subsample,\n",
    "        colsample_bytree=colsample_bytree,\n",
    "        reg_lambda=reg_lambda,\n",
    "        reg_alpha=reg_alpha,\n",
    "        min_child_weight=min_child_weight,\n",
    "        random_state=SEED,\n",
    "        eval_metric=\"mlogloss\"\n",
    "    )\n",
    "    model.fit(X_train, y_train_m)\n",
    "    y_val_pred_m = model.predict(X_val)\n",
    "    score = trend_changes_true(y_val_m, y_val_pred_m)\n",
    "    return score # Optuna maximiza este valor"
   ]
  },
  {
   "cell_type": "code",
   "execution_count": 8,
   "id": "67610a71",
   "metadata": {},
   "outputs": [
    {
     "name": "stderr",
     "output_type": "stream",
     "text": [
      "[I 2025-09-17 17:01:19,207] A new study created in memory with name: no-name-fdd40a9f-da84-4bda-8913-93636fd19b8b\n"
     ]
    },
    {
     "name": "stderr",
     "output_type": "stream",
     "text": [
      "[I 2025-09-17 17:01:23,072] Trial 0 finished with value: 0.46511627906976744 and parameters: {'learning_rate': 0.01774894524799066, 'max_depth': 11, 'n_estimators': 275, 'subsample': 0.9141434334855076, 'colsample_bytree': 0.8899879040594018, 'reg_lambda': 0.5451852105652832, 'reg_alpha': 0.5529285102861934, 'min_child_weight': 9}. Best is trial 0 with value: 0.46511627906976744.\n",
      "[I 2025-09-17 17:01:24,271] Trial 1 finished with value: 0.5147058823529411 and parameters: {'learning_rate': 0.17642821458092559, 'max_depth': 15, 'n_estimators': 243, 'subsample': 0.8003980502093835, 'colsample_bytree': 0.8417314675860681, 'reg_lambda': 1.4254040539658004, 'reg_alpha': 0.7405015095807899, 'min_child_weight': 6}. Best is trial 1 with value: 0.5147058823529411.\n",
      "[I 2025-09-17 17:01:24,935] Trial 2 finished with value: 0.556390977443609 and parameters: {'learning_rate': 0.045136334609244884, 'max_depth': 2, 'n_estimators': 409, 'subsample': 0.9530564762544467, 'colsample_bytree': 0.6824429919506861, 'reg_lambda': 1.2307923568669874, 'reg_alpha': 0.1507624832859531, 'min_child_weight': 4}. Best is trial 2 with value: 0.556390977443609.\n",
      "[I 2025-09-17 17:01:27,685] Trial 3 finished with value: 0.47692307692307695 and parameters: {'learning_rate': 0.16369795832561723, 'max_depth': 11, 'n_estimators': 259, 'subsample': 0.9154920571762982, 'colsample_bytree': 0.6584180610844357, 'reg_lambda': 1.1361973052521384, 'reg_alpha': 1.7382547791224516, 'min_child_weight': 5}. Best is trial 2 with value: 0.556390977443609.\n",
      "[I 2025-09-17 17:01:28,738] Trial 4 finished with value: 0.53125 and parameters: {'learning_rate': 0.1105651204296143, 'max_depth': 4, 'n_estimators': 382, 'subsample': 0.8818325232758291, 'colsample_bytree': 0.6093960528370443, 'reg_lambda': 1.84973525723113, 'reg_alpha': 0.8842815108083533, 'min_child_weight': 10}. Best is trial 2 with value: 0.556390977443609.\n",
      "[I 2025-09-17 17:01:29,262] Trial 5 finished with value: 0.43333333333333335 and parameters: {'learning_rate': 0.01196226978573007, 'max_depth': 4, 'n_estimators': 118, 'subsample': 0.8699523774329321, 'colsample_bytree': 0.7973123899672244, 'reg_lambda': 1.0666203259975011, 'reg_alpha': 0.08664812538960698, 'min_child_weight': 6}. Best is trial 2 with value: 0.556390977443609.\n",
      "[I 2025-09-17 17:01:30,151] Trial 6 finished with value: 0.45528455284552843 and parameters: {'learning_rate': 0.026847789642131727, 'max_depth': 9, 'n_estimators': 144, 'subsample': 0.8428774824873938, 'colsample_bytree': 0.7829723215252657, 'reg_lambda': 0.01352812398000558, 'reg_alpha': 1.234883417608594, 'min_child_weight': 10}. Best is trial 2 with value: 0.556390977443609.\n",
      "[I 2025-09-17 17:01:32,698] Trial 7 finished with value: 0.5 and parameters: {'learning_rate': 0.10678139971817296, 'max_depth': 16, 'n_estimators': 484, 'subsample': 0.9167856541166559, 'colsample_bytree': 0.6426254800122548, 'reg_lambda': 1.249833410611822, 'reg_alpha': 0.9561875913413491, 'min_child_weight': 2}. Best is trial 2 with value: 0.556390977443609.\n",
      "[I 2025-09-17 17:01:33,108] Trial 8 finished with value: 0.47244094488188976 and parameters: {'learning_rate': 0.031434493930522854, 'max_depth': 2, 'n_estimators': 281, 'subsample': 0.9928018966087818, 'colsample_bytree': 0.5619713502434815, 'reg_lambda': 0.2387617958524968, 'reg_alpha': 1.4770461122866936, 'min_child_weight': 6}. Best is trial 2 with value: 0.556390977443609.\n",
      "[I 2025-09-17 17:01:33,548] Trial 9 finished with value: 0.4628099173553719 and parameters: {'learning_rate': 0.04107788493789703, 'max_depth': 3, 'n_estimators': 191, 'subsample': 0.9599860779346702, 'colsample_bytree': 0.7083767689013466, 'reg_lambda': 1.0717033250632317, 'reg_alpha': 0.012417033174258796, 'min_child_weight': 4}. Best is trial 2 with value: 0.556390977443609.\n",
      "[I 2025-09-17 17:01:36,842] Trial 10 finished with value: 0.46511627906976744 and parameters: {'learning_rate': 0.0692189939414013, 'max_depth': 7, 'n_estimators': 388, 'subsample': 0.689428298871198, 'colsample_bytree': 0.969895766736945, 'reg_lambda': 1.712733326143203, 'reg_alpha': 0.39125990631197405, 'min_child_weight': 1}. Best is trial 2 with value: 0.556390977443609.\n",
      "[I 2025-09-17 17:01:43,770] Trial 11 finished with value: 0.45528455284552843 and parameters: {'learning_rate': 0.06528329312378497, 'max_depth': 5, 'n_estimators': 387, 'subsample': 0.715613537466966, 'colsample_bytree': 0.5050033958530686, 'reg_lambda': 1.848599147300733, 'reg_alpha': 1.937397390591494, 'min_child_weight': 8}. Best is trial 2 with value: 0.556390977443609.\n",
      "[I 2025-09-17 17:01:45,389] Trial 12 finished with value: 0.47761194029850745 and parameters: {'learning_rate': 0.08985217212184626, 'max_depth': 6, 'n_estimators': 383, 'subsample': 0.6158245266107072, 'colsample_bytree': 0.6025140427970701, 'reg_lambda': 1.9832971719644332, 'reg_alpha': 0.3489050658602427, 'min_child_weight': 3}. Best is trial 2 with value: 0.556390977443609.\n",
      "[I 2025-09-17 17:01:46,110] Trial 13 finished with value: 0.5223880597014925 and parameters: {'learning_rate': 0.047408691860338914, 'max_depth': 2, 'n_estimators': 467, 'subsample': 0.8548900384145325, 'colsample_bytree': 0.7098137907215362, 'reg_lambda': 1.5684126130236546, 'reg_alpha': 0.9477479403336745, 'min_child_weight': 8}. Best is trial 2 with value: 0.556390977443609.\n",
      "[I 2025-09-17 17:01:48,101] Trial 14 finished with value: 0.4566929133858268 and parameters: {'learning_rate': 0.12026254772069694, 'max_depth': 8, 'n_estimators': 342, 'subsample': 0.7897216896573087, 'colsample_bytree': 0.5516356725299658, 'reg_lambda': 0.741166300107587, 'reg_alpha': 1.1794159647944378, 'min_child_weight': 4}. Best is trial 2 with value: 0.556390977443609.\n",
      "[I 2025-09-17 17:01:49,456] Trial 15 finished with value: 0.5271317829457365 and parameters: {'learning_rate': 0.05865301634280104, 'max_depth': 4, 'n_estimators': 418, 'subsample': 0.9844346364184803, 'colsample_bytree': 0.6790919220853686, 'reg_lambda': 0.7633680180125559, 'reg_alpha': 0.611825389245815, 'min_child_weight': 8}. Best is trial 2 with value: 0.556390977443609.\n",
      "[I 2025-09-17 17:01:50,849] Trial 16 finished with value: 0.4838709677419355 and parameters: {'learning_rate': 0.025024025126386417, 'max_depth': 6, 'n_estimators': 338, 'subsample': 0.9451382717829403, 'colsample_bytree': 0.6035577492658699, 'reg_lambda': 1.4846290341830155, 'reg_alpha': 1.2838962022690095, 'min_child_weight': 10}. Best is trial 2 with value: 0.556390977443609.\n",
      "[I 2025-09-17 17:01:51,501] Trial 17 finished with value: 0.49635036496350365 and parameters: {'learning_rate': 0.08957647675657512, 'max_depth': 2, 'n_estimators': 436, 'subsample': 0.7882959020661887, 'colsample_bytree': 0.7291208990121688, 'reg_lambda': 1.3242803439969904, 'reg_alpha': 0.3073834282455205, 'min_child_weight': 7}. Best is trial 2 with value: 0.556390977443609.\n",
      "[I 2025-09-17 17:01:52,581] Trial 18 finished with value: 0.43333333333333335 and parameters: {'learning_rate': 0.010094592019792143, 'max_depth': 4, 'n_estimators': 327, 'subsample': 0.8797135957091964, 'colsample_bytree': 0.6128286875678401, 'reg_lambda': 1.6836839118644624, 'reg_alpha': 0.8194970904000611, 'min_child_weight': 4}. Best is trial 2 with value: 0.556390977443609.\n",
      "[I 2025-09-17 17:01:56,189] Trial 19 finished with value: 0.46511627906976744 and parameters: {'learning_rate': 0.039388459235526994, 'max_depth': 11, 'n_estimators': 440, 'subsample': 0.8280796140497655, 'colsample_bytree': 0.5092748067176924, 'reg_lambda': 0.8212933293555222, 'reg_alpha': 1.549275157141782, 'min_child_weight': 2}. Best is trial 2 with value: 0.556390977443609.\n",
      "[I 2025-09-17 17:01:57,742] Trial 20 finished with value: 0.464 and parameters: {'learning_rate': 0.017441769233649273, 'max_depth': 9, 'n_estimators': 359, 'subsample': 0.8953081319439439, 'colsample_bytree': 0.7707316969694935, 'reg_lambda': 1.9919738275452217, 'reg_alpha': 0.23941019793514506, 'min_child_weight': 5}. Best is trial 2 with value: 0.556390977443609.\n",
      "[I 2025-09-17 17:01:53,476] Trial 21 finished with value: 0.484375 and parameters: {'learning_rate': 0.058944686348004934, 'max_depth': 4, 'n_estimators': 427, 'subsample': 0.9987378282849447, 'colsample_bytree': 0.6724968361848799, 'reg_lambda': 0.8174609464618915, 'reg_alpha': 0.6307027832032993, 'min_child_weight': 9}. Best is trial 2 with value: 0.556390977443609.\n",
      "[I 2025-09-17 17:01:54,819] Trial 22 finished with value: 0.5384615384615384 and parameters: {'learning_rate': 0.1309255079856256, 'max_depth': 5, 'n_estimators': 498, 'subsample': 0.9588824158109025, 'colsample_bytree': 0.6754763298460648, 'reg_lambda': 0.5000443331210347, 'reg_alpha': 0.5720438385926138, 'min_child_weight': 8}. Best is trial 2 with value: 0.556390977443609.\n",
      "[I 2025-09-17 17:01:56,131] Trial 23 finished with value: 0.46511627906976744 and parameters: {'learning_rate': 0.14042590596511206, 'max_depth': 6, 'n_estimators': 500, 'subsample': 0.9477827911688563, 'colsample_bytree': 0.5638794833726832, 'reg_lambda': 0.29477734600795014, 'reg_alpha': 0.14874537871406482, 'min_child_weight': 9}. Best is trial 2 with value: 0.556390977443609.\n",
      "[I 2025-09-17 17:01:57,152] Trial 24 finished with value: 0.4732824427480916 and parameters: {'learning_rate': 0.08775153566181285, 'max_depth': 3, 'n_estimators': 456, 'subsample': 0.954666998379613, 'colsample_bytree': 0.7498984591417623, 'reg_lambda': 0.41230028920354744, 'reg_alpha': 0.4191633038910704, 'min_child_weight': 7}. Best is trial 2 with value: 0.556390977443609.\n",
      "[I 2025-09-17 17:01:57,660] Trial 25 finished with value: 0.49230769230769234 and parameters: {'learning_rate': 0.19816668614003408, 'max_depth': 5, 'n_estimators': 396, 'subsample': 0.9333699120732397, 'colsample_bytree': 0.6322526243187404, 'reg_lambda': 0.6078831441389311, 'reg_alpha': 0.8135242136170209, 'min_child_weight': 10}. Best is trial 2 with value: 0.556390977443609.\n",
      "[I 2025-09-17 17:01:58,343] Trial 26 finished with value: 0.5112781954887218 and parameters: {'learning_rate': 0.11977019528025906, 'max_depth': 3, 'n_estimators': 309, 'subsample': 0.8944576766947135, 'colsample_bytree': 0.8247873888200041, 'reg_lambda': 0.00014442056551511318, 'reg_alpha': 1.0783448525109829, 'min_child_weight': 7}. Best is trial 2 with value: 0.556390977443609.\n",
      "[I 2025-09-17 17:01:59,710] Trial 27 finished with value: 0.5151515151515151 and parameters: {'learning_rate': 0.14605624482902166, 'max_depth': 5, 'n_estimators': 475, 'subsample': 0.9744181748649942, 'colsample_bytree': 0.7021185951148147, 'reg_lambda': 0.9034262670403876, 'reg_alpha': 0.45185891444133114, 'min_child_weight': 9}. Best is trial 2 with value: 0.556390977443609.\n",
      "[I 2025-09-17 17:02:01,392] Trial 28 finished with value: 0.4881889763779528 and parameters: {'learning_rate': 0.0792354557210808, 'max_depth': 7, 'n_estimators': 412, 'subsample': 0.76345097761972, 'colsample_bytree': 0.5848357840121932, 'reg_lambda': 1.2458715431179932, 'reg_alpha': 0.22794538947874834, 'min_child_weight': 3}. Best is trial 2 with value: 0.556390977443609.\n",
      "[I 2025-09-17 17:02:02,935] Trial 29 finished with value: 0.464 and parameters: {'learning_rate': 0.04883273811612325, 'max_depth': 13, 'n_estimators': 367, 'subsample': 0.9207505514338766, 'colsample_bytree': 0.9129071328262834, 'reg_lambda': 0.5348867985424273, 'reg_alpha': 0.6106585727746465, 'min_child_weight': 10}. Best is trial 2 with value: 0.556390977443609.\n",
      "[I 2025-09-17 17:02:06,367] Trial 30 finished with value: 0.4715447154471545 and parameters: {'learning_rate': 0.01823116019141399, 'max_depth': 8, 'n_estimators': 450, 'subsample': 0.8941556622848923, 'colsample_bytree': 0.6862245891296187, 'reg_lambda': 0.5870175240389828, 'reg_alpha': 0.7463163786850864, 'min_child_weight': 8}. Best is trial 2 with value: 0.556390977443609.\n",
      "[I 2025-09-17 17:02:07,650] Trial 31 finished with value: 0.5 and parameters: {'learning_rate': 0.057552442094079045, 'max_depth': 3, 'n_estimators': 421, 'subsample': 0.9695244299310627, 'colsample_bytree': 0.6590931884471966, 'reg_lambda': 0.6715334708725523, 'reg_alpha': 0.5325836663682056, 'min_child_weight': 9}. Best is trial 2 with value: 0.556390977443609.\n",
      "[I 2025-09-17 17:02:08,423] Trial 32 finished with value: 0.5441176470588235 and parameters: {'learning_rate': 0.10241230784357952, 'max_depth': 4, 'n_estimators': 413, 'subsample': 0.9869058192298656, 'colsample_bytree': 0.7307643408810091, 'reg_lambda': 0.47235843864980087, 'reg_alpha': 0.673066547957599, 'min_child_weight': 8}. Best is trial 2 with value: 0.556390977443609.\n",
      "[I 2025-09-17 17:02:08,805] Trial 33 finished with value: 0.5373134328358209 and parameters: {'learning_rate': 0.11006691809197518, 'max_depth': 2, 'n_estimators': 236, 'subsample': 0.934274100705618, 'colsample_bytree': 0.7553337369790626, 'reg_lambda': 0.42953069890260553, 'reg_alpha': 0.879444350306851, 'min_child_weight': 5}. Best is trial 2 with value: 0.556390977443609.\n",
      "[I 2025-09-17 17:02:09,328] Trial 34 finished with value: 0.5151515151515151 and parameters: {'learning_rate': 0.15920127301346215, 'max_depth': 2, 'n_estimators': 228, 'subsample': 0.9984983848734221, 'colsample_bytree': 0.8400867633093467, 'reg_lambda': 0.17398813118309658, 'reg_alpha': 1.0679006336828771, 'min_child_weight': 5}. Best is trial 2 with value: 0.556390977443609.\n",
      "[I 2025-09-17 17:02:09,863] Trial 35 finished with value: 0.4740740740740741 and parameters: {'learning_rate': 0.19975391841761306, 'max_depth': 3, 'n_estimators': 220, 'subsample': 0.9326949822537162, 'colsample_bytree': 0.8775695958284859, 'reg_lambda': 0.43064318858401185, 'reg_alpha': 0.6955307362094317, 'min_child_weight': 6}. Best is trial 2 with value: 0.556390977443609.\n",
      "[I 2025-09-17 17:02:10,322] Trial 36 finished with value: 0.5671641791044776 and parameters: {'learning_rate': 0.10747651772136618, 'max_depth': 2, 'n_estimators': 272, 'subsample': 0.9715947733840468, 'colsample_bytree': 0.7495834837881226, 'reg_lambda': 0.4203251852031619, 'reg_alpha': 0.5073412362977435, 'min_child_weight': 5}. Best is trial 36 with value: 0.5671641791044776.\n",
      "[I 2025-09-17 17:02:11,305] Trial 37 finished with value: 0.48854961832061067 and parameters: {'learning_rate': 0.12782304684038293, 'max_depth': 5, 'n_estimators': 271, 'subsample': 0.9653689272277949, 'colsample_bytree': 0.7333763059376939, 'reg_lambda': 0.9238323471944805, 'reg_alpha': 0.543564372454947, 'min_child_weight': 7}. Best is trial 36 with value: 0.5671641791044776.\n",
      "[I 2025-09-17 17:02:13,044] Trial 38 finished with value: 0.4375 and parameters: {'learning_rate': 0.07489221962744076, 'max_depth': 10, 'n_estimators': 299, 'subsample': 0.9107670413515796, 'colsample_bytree': 0.7990620462623281, 'reg_lambda': 0.169359983515597, 'reg_alpha': 0.14786239047546723, 'min_child_weight': 3}. Best is trial 36 with value: 0.5671641791044776.\n",
      "[I 2025-09-17 17:02:14,145] Trial 39 finished with value: 0.48 and parameters: {'learning_rate': 0.10445907452280491, 'max_depth': 13, 'n_estimators': 196, 'subsample': 0.9781468775610447, 'colsample_bytree': 0.7254921714646607, 'reg_lambda': 0.3372826326046523, 'reg_alpha': 0.4811443894408567, 'min_child_weight': 6}. Best is trial 36 with value: 0.5671641791044776.\n",
      "[I 2025-09-17 17:02:15,093] Trial 40 finished with value: 0.5333333333333333 and parameters: {'learning_rate': 0.16567457140262093, 'max_depth': 4, 'n_estimators': 360, 'subsample': 0.862670682741597, 'colsample_bytree': 0.8072465016799524, 'reg_lambda': 1.1347629781707622, 'reg_alpha': 0.06136939804733246, 'min_child_weight': 4}. Best is trial 36 with value: 0.5671641791044776.\n",
      "[I 2025-09-17 17:02:15,506] Trial 41 finished with value: 0.5454545454545454 and parameters: {'learning_rate': 0.1000421931570368, 'max_depth': 2, 'n_estimators': 245, 'subsample': 0.9383127391052138, 'colsample_bytree': 0.7628495530410638, 'reg_lambda': 0.45630790484242456, 'reg_alpha': 0.8713763265045651, 'min_child_weight': 5}. Best is trial 36 with value: 0.5671641791044776.\n",
      "[I 2025-09-17 17:02:16,230] Trial 42 finished with value: 0.5606060606060606 and parameters: {'learning_rate': 0.10201471476634989, 'max_depth': 3, 'n_estimators': 261, 'subsample': 0.958256874823105, 'colsample_bytree': 0.7719216419393409, 'reg_lambda': 0.5065764129611369, 'reg_alpha': 0.6700113145642972, 'min_child_weight': 6}. Best is trial 36 with value: 0.5671641791044776.\n",
      "[I 2025-09-17 17:02:16,830] Trial 43 finished with value: 0.5230769230769231 and parameters: {'learning_rate': 0.10270091192876493, 'max_depth': 3, 'n_estimators': 256, 'subsample': 0.9070426703865985, 'colsample_bytree': 0.7776857800720501, 'reg_lambda': 0.09444148248188367, 'reg_alpha': 0.7444187804060453, 'min_child_weight': 5}. Best is trial 36 with value: 0.5671641791044776.\n",
      "[I 2025-09-17 17:02:17,120] Trial 44 finished with value: 0.45112781954887216 and parameters: {'learning_rate': 0.03611297865526336, 'max_depth': 2, 'n_estimators': 160, 'subsample': 0.9826768080671028, 'colsample_bytree': 0.8638724148752694, 'reg_lambda': 0.33820638705513434, 'reg_alpha': 0.6708131350184234, 'min_child_weight': 4}. Best is trial 36 with value: 0.5671641791044776.\n",
      "[I 2025-09-17 17:02:17,627] Trial 45 finished with value: 0.5606060606060606 and parameters: {'learning_rate': 0.08032329011505546, 'max_depth': 2, 'n_estimators': 303, 'subsample': 0.9408921381530058, 'colsample_bytree': 0.7566201232511597, 'reg_lambda': 0.6484262766207375, 'reg_alpha': 0.9902327556026108, 'min_child_weight': 6}. Best is trial 36 with value: 0.5671641791044776.\n",
      "[I 2025-09-17 17:02:17,646] Trial 46 finished with value: 0.5190839694656488 and parameters: {'learning_rate': 0.07928333309582436, 'max_depth': 2, 'n_estimators': 290, 'subsample': 0.920230929019195, 'colsample_bytree': 0.7581367075458788, 'reg_lambda': 0.6656212738300956, 'reg_alpha': 1.0201839401879238, 'min_child_weight': 6}. Best is trial 36 with value: 0.5671641791044776.\n",
      "[I 2025-09-17 17:02:18,245] Trial 47 finished with value: 0.4806201550387597 and parameters: {'learning_rate': 0.0651510006257776, 'max_depth': 3, 'n_estimators': 257, 'subsample': 0.8253137941495234, 'colsample_bytree': 0.8181065193686905, 'reg_lambda': 1.0140424187808366, 'reg_alpha': 1.3535280242756194, 'min_child_weight': 5}. Best is trial 36 with value: 0.5671641791044776.\n",
      "[I 2025-09-17 17:02:18,642] Trial 48 finished with value: 0.5522388059701493 and parameters: {'learning_rate': 0.05230549303025311, 'max_depth': 2, 'n_estimators': 213, 'subsample': 0.9421997199430403, 'colsample_bytree': 0.9172483266147666, 'reg_lambda': 0.24092232858946755, 'reg_alpha': 1.1446421043026986, 'min_child_weight': 6}. Best is trial 36 with value: 0.5671641791044776.\n",
      "[I 2025-09-17 17:02:19,268] Trial 49 finished with value: 0.5426356589147286 and parameters: {'learning_rate': 0.04931693333732349, 'max_depth': 3, 'n_estimators': 206, 'subsample': 0.6195264939489812, 'colsample_bytree': 0.9236931329292546, 'reg_lambda': 0.23379049934265306, 'reg_alpha': 1.3806615766897505, 'min_child_weight': 6}. Best is trial 36 with value: 0.5671641791044776.\n",
      "[I 2025-09-17 17:02:19,530] Trial 50 finished with value: 0.48175182481751827 and parameters: {'learning_rate': 0.03257736769897416, 'max_depth': 2, 'n_estimators': 131, 'subsample': 0.8737974739934768, 'colsample_bytree': 0.9632930880841222, 'reg_lambda': 1.3103384235622306, 'reg_alpha': 1.1319482505100513, 'min_child_weight': 7}. Best is trial 36 with value: 0.5671641791044776.\n",
      "[I 2025-09-17 17:02:20,051] Trial 51 finished with value: 0.5074626865671642 and parameters: {'learning_rate': 0.05359447881881046, 'max_depth': 2, 'n_estimators': 276, 'subsample': 0.9418814088587559, 'colsample_bytree': 0.787505066006913, 'reg_lambda': 0.09620839470509379, 'reg_alpha': 0.8216731317338404, 'min_child_weight': 6}. Best is trial 36 with value: 0.5671641791044776.\n",
      "[I 2025-09-17 17:02:20,509] Trial 52 finished with value: 0.5196850393700787 and parameters: {'learning_rate': 0.09268121332534063, 'max_depth': 3, 'n_estimators': 178, 'subsample': 0.9590928902227006, 'colsample_bytree': 0.9909929864857732, 'reg_lambda': 0.35702928913567805, 'reg_alpha': 0.928319279297003, 'min_child_weight': 5}. Best is trial 36 with value: 0.5671641791044776.\n",
      "[I 2025-09-17 17:02:20,918] Trial 53 finished with value: 0.5151515151515151 and parameters: {'learning_rate': 0.042216367997258135, 'max_depth': 2, 'n_estimators': 244, 'subsample': 0.9245327793224536, 'colsample_bytree': 0.844493946595281, 'reg_lambda': 0.251837544780399, 'reg_alpha': 1.189557519921719, 'min_child_weight': 4}. Best is trial 36 with value: 0.5671641791044776.\n",
      "[I 2025-09-17 17:02:21,540] Trial 54 finished with value: 0.45161290322580644 and parameters: {'learning_rate': 0.07014303062798713, 'max_depth': 4, 'n_estimators': 215, 'subsample': 0.9425205256578598, 'colsample_bytree': 0.6362566562463718, 'reg_lambda': 0.6722455496843233, 'reg_alpha': 1.000315454221388, 'min_child_weight': 5}. Best is trial 36 with value: 0.5671641791044776.\n",
      "[I 2025-09-17 17:02:22,256] Trial 55 finished with value: 0.5343511450381679 and parameters: {'learning_rate': 0.08540600116075135, 'max_depth': 3, 'n_estimators': 315, 'subsample': 0.901456287395344, 'colsample_bytree': 0.6978153865665775, 'reg_lambda': 0.5691188574700441, 'reg_alpha': 0.8841471153828302, 'min_child_weight': 3}. Best is trial 36 with value: 0.5671641791044776.\n",
      "[I 2025-09-17 17:02:22,597] Trial 56 finished with value: 0.48484848484848486 and parameters: {'learning_rate': 0.028781963285514574, 'max_depth': 2, 'n_estimators': 178, 'subsample': 0.7227163554905728, 'colsample_bytree': 0.7696331070263764, 'reg_lambda': 0.739025165525901, 'reg_alpha': 0.3468375125827641, 'min_child_weight': 6}. Best is trial 36 with value: 0.5671641791044776.\n",
      "[I 2025-09-17 17:02:22,637] Trial 57 finished with value: 0.5074626865671642 and parameters: {'learning_rate': 0.06885141196595264, 'max_depth': 2, 'n_estimators': 245, 'subsample': 0.9527469120318144, 'colsample_bytree': 0.9070333183788362, 'reg_lambda': 0.4976324856332746, 'reg_alpha': 1.6496263234914852, 'min_child_weight': 4}. Best is trial 36 with value: 0.5671641791044776.\n",
      "[I 2025-09-17 17:02:23,434] Trial 58 finished with value: 0.47619047619047616 and parameters: {'learning_rate': 0.06178914668490858, 'max_depth': 4, 'n_estimators': 268, 'subsample': 0.9723920668943873, 'colsample_bytree': 0.7141734874772043, 'reg_lambda': 1.193968834100525, 'reg_alpha': 1.2932492841116887, 'min_child_weight': 7}. Best is trial 36 with value: 0.5671641791044776.\n",
      "[I 2025-09-17 17:02:25,607] Trial 59 finished with value: 0.464 and parameters: {'learning_rate': 0.09681787833477377, 'max_depth': 16, 'n_estimators': 328, 'subsample': 0.8415344120360584, 'colsample_bytree': 0.7437981942227875, 'reg_lambda': 1.451602649173602, 'reg_alpha': 0.2728922146871282, 'min_child_weight': 2}. Best is trial 36 with value: 0.5671641791044776.\n",
      "[I 2025-09-17 17:02:26,768] Trial 60 finished with value: 0.48 and parameters: {'learning_rate': 0.11718739857670518, 'max_depth': 3, 'n_estimators': 105, 'subsample': 0.9313009290271732, 'colsample_bytree': 0.7903089956144678, 'reg_lambda': 0.8804130274917121, 'reg_alpha': 1.1115016486896159, 'min_child_weight': 5}. Best is trial 36 with value: 0.5671641791044776.\n",
      "[I 2025-09-17 17:02:27,642] Trial 61 finished with value: 0.5230769230769231 and parameters: {'learning_rate': 0.09957912678376225, 'max_depth': 4, 'n_estimators': 289, 'subsample': 0.9829940770431793, 'colsample_bytree': 0.7230526724017126, 'reg_lambda': 0.45266181607328926, 'reg_alpha': 0.7846387052679229, 'min_child_weight': 6}. Best is trial 36 with value: 0.5671641791044776.\n",
      "[I 2025-09-17 17:02:28,106] Trial 62 finished with value: 0.5333333333333333 and parameters: {'learning_rate': 0.1396015653412623, 'max_depth': 3, 'n_estimators': 406, 'subsample': 0.9911566290582744, 'colsample_bytree': 0.740382169754646, 'reg_lambda': 0.3706846502268214, 'reg_alpha': 0.9456301163101533, 'min_child_weight': 7}. Best is trial 36 with value: 0.5671641791044776.\n",
      "[I 2025-09-17 17:02:28,682] Trial 63 finished with value: 0.5263157894736842 and parameters: {'learning_rate': 0.08170237824970533, 'max_depth': 2, 'n_estimators': 345, 'subsample': 0.9546316732931702, 'colsample_bytree': 0.6537016680496859, 'reg_lambda': 0.4985573741616461, 'reg_alpha': 1.868672425561027, 'min_child_weight': 5}. Best is trial 36 with value: 0.5671641791044776.\n",
      "[I 2025-09-17 17:02:29,711] Trial 64 finished with value: 0.453125 and parameters: {'learning_rate': 0.054501466391216905, 'max_depth': 4, 'n_estimators': 255, 'subsample': 0.9673317594946077, 'colsample_bytree': 0.762064627157163, 'reg_lambda': 0.27751765103142617, 'reg_alpha': 0.7032792565766518, 'min_child_weight': 3}. Best is trial 36 with value: 0.5671641791044776.\n",
      "[I 2025-09-17 17:02:30,299] Trial 65 finished with value: 0.5481481481481482 and parameters: {'learning_rate': 0.11571172229770986, 'max_depth': 2, 'n_estimators': 371, 'subsample': 0.8851543962599251, 'colsample_bytree': 0.6929862906677845, 'reg_lambda': 0.18198667115082628, 'reg_alpha': 0.49875109955367664, 'min_child_weight': 4}. Best is trial 36 with value: 0.5671641791044776.\n",
      "[I 2025-09-17 17:02:30,811] Trial 66 finished with value: 0.5522388059701493 and parameters: {'learning_rate': 0.11330191754226465, 'max_depth': 2, 'n_estimators': 302, 'subsample': 0.8823220205710647, 'colsample_bytree': 0.6885745291110135, 'reg_lambda': 0.08425393112316532, 'reg_alpha': 0.5045990735150185, 'min_child_weight': 4}. Best is trial 36 with value: 0.5671641791044776.\n",
      "[I 2025-09-17 17:02:31,575] Trial 67 finished with value: 0.5294117647058824 and parameters: {'learning_rate': 0.11515124957338715, 'max_depth': 3, 'n_estimators': 372, 'subsample': 0.8791156697589457, 'colsample_bytree': 0.6202741302463797, 'reg_lambda': 0.11289827128353969, 'reg_alpha': 0.49941024547105917, 'min_child_weight': 4}. Best is trial 36 with value: 0.5671641791044776.\n",
      "[I 2025-09-17 17:02:37,814] Trial 68 finished with value: 0.5373134328358209 and parameters: {'learning_rate': 0.131047573715246, 'max_depth': 2, 'n_estimators': 317, 'subsample': 0.8542002059431486, 'colsample_bytree': 0.6943434245202589, 'reg_lambda': 0.21200151547243176, 'reg_alpha': 0.36883708969414963, 'min_child_weight': 1}. Best is trial 36 with value: 0.5671641791044776.\n",
      "[I 2025-09-17 17:02:33,330] Trial 69 finished with value: 0.484375 and parameters: {'learning_rate': 0.14817403731528614, 'max_depth': 5, 'n_estimators': 303, 'subsample': 0.8105635263356551, 'colsample_bytree': 0.66165408853377, 'reg_lambda': 0.014986789760251917, 'reg_alpha': 0.42359994704500104, 'min_child_weight': 3}. Best is trial 36 with value: 0.5671641791044776.\n",
      "[I 2025-09-17 17:02:33,988] Trial 70 finished with value: 0.4852941176470588 and parameters: {'learning_rate': 0.17677214743962016, 'max_depth': 2, 'n_estimators': 344, 'subsample': 0.8883694100232634, 'colsample_bytree': 0.6778060024844365, 'reg_lambda': 0.16533703342480094, 'reg_alpha': 0.20476574888181498, 'min_child_weight': 4}. Best is trial 36 with value: 0.5671641791044776.\n",
      "[I 2025-09-17 17:02:34,461] Trial 71 finished with value: 0.5343511450381679 and parameters: {'learning_rate': 0.09162180510614328, 'max_depth': 2, 'n_estimators': 285, 'subsample': 0.911565836448713, 'colsample_bytree': 0.7131338028643703, 'reg_lambda': 0.059218352924363685, 'reg_alpha': 0.5888168525095367, 'min_child_weight': 4}. Best is trial 36 with value: 0.5671641791044776.\n",
      "[I 2025-09-17 17:02:35,052] Trial 72 finished with value: 0.5230769230769231 and parameters: {'learning_rate': 0.12508590138781905, 'max_depth': 3, 'n_estimators': 232, 'subsample': 0.93361013414788, 'colsample_bytree': 0.6924734474923886, 'reg_lambda': 0.3055334978479626, 'reg_alpha': 0.85778795013462, 'min_child_weight': 5}. Best is trial 36 with value: 0.5671641791044776.\n",
      "[I 2025-09-17 17:02:35,446] Trial 73 finished with value: 0.5343511450381679 and parameters: {'learning_rate': 0.10935377643256068, 'max_depth': 2, 'n_estimators': 267, 'subsample': 0.9448617046650973, 'colsample_bytree': 0.6463948540998392, 'reg_lambda': 0.14372076892497032, 'reg_alpha': 0.500280027845177, 'min_child_weight': 6}. Best is trial 36 with value: 0.5671641791044776.\n",
      "[I 2025-09-17 17:02:36,332] Trial 74 finished with value: 0.48484848484848486 and parameters: {'learning_rate': 0.07629717295514327, 'max_depth': 3, 'n_estimators': 331, 'subsample': 0.9231856437291339, 'colsample_bytree': 0.6692456304696947, 'reg_lambda': 0.4131037482241193, 'reg_alpha': 0.31105256353460464, 'min_child_weight': 5}. Best is trial 36 with value: 0.5671641791044776.\n",
      "[I 2025-09-17 17:02:36,730] Trial 75 finished with value: 0.4696969696969697 and parameters: {'learning_rate': 0.024201566041596713, 'max_depth': 2, 'n_estimators': 219, 'subsample': 0.9618768918712605, 'colsample_bytree': 0.7086413891893761, 'reg_lambda': 0.2483335511883221, 'reg_alpha': 0.01892786153546086, 'min_child_weight': 4}. Best is trial 36 with value: 0.5671641791044776.\n",
      "[I 2025-09-17 17:02:37,181] Trial 76 finished with value: 0.5190839694656488 and parameters: {'learning_rate': 0.08747947442808662, 'max_depth': 2, 'n_estimators': 247, 'subsample': 0.8997982671209519, 'colsample_bytree': 0.9459854066421781, 'reg_lambda': 0.6169028459365093, 'reg_alpha': 1.046685701938747, 'min_child_weight': 5}. Best is trial 36 with value: 0.5671641791044776.\n",
      "[I 2025-09-17 17:02:39,506] Trial 77 finished with value: 0.48 and parameters: {'learning_rate': 0.045093472218613914, 'max_depth': 13, 'n_estimators': 380, 'subsample': 0.7568333813262642, 'colsample_bytree': 0.8105424297743753, 'reg_lambda': 0.391423090934905, 'reg_alpha': 0.6226533245905693, 'min_child_weight': 6}. Best is trial 36 with value: 0.5671641791044776.\n",
      "[I 2025-09-17 17:02:40,580] Trial 78 finished with value: 0.5303030303030303 and parameters: {'learning_rate': 0.07342455338856081, 'max_depth': 4, 'n_estimators': 397, 'subsample': 0.9453984028841199, 'colsample_bytree': 0.5905975087133517, 'reg_lambda': 0.29098636024635527, 'reg_alpha': 0.13224409559059253, 'min_child_weight': 5}. Best is trial 36 with value: 0.5671641791044776.\n",
      "[I 2025-09-17 17:02:41,274] Trial 79 finished with value: 0.5606060606060606 and parameters: {'learning_rate': 0.09573905917965207, 'max_depth': 3, 'n_estimators': 296, 'subsample': 0.8858049080159355, 'colsample_bytree': 0.7738647432572782, 'reg_lambda': 0.19999686856297572, 'reg_alpha': 1.2146151382852373, 'min_child_weight': 4}. Best is trial 36 with value: 0.5671641791044776.\n",
      "[I 2025-09-17 17:02:42,629] Trial 80 finished with value: 0.4732824427480916 and parameters: {'learning_rate': 0.11220394394471708, 'max_depth': 5, 'n_estimators': 352, 'subsample': 0.8681990710065868, 'colsample_bytree': 0.8475574474077237, 'reg_lambda': 0.19916700624602812, 'reg_alpha': 1.2326826630000987, 'min_child_weight': 3}. Best is trial 36 with value: 0.5671641791044776.\n",
      "[I 2025-09-17 17:02:42,987] Trial 81 finished with value: 0.5271317829457365 and parameters: {'learning_rate': 0.09496934836187436, 'max_depth': 3, 'n_estimators': 296, 'subsample': 0.88779573586335, 'colsample_bytree': 0.778580472730262, 'reg_lambda': 0.06576459400466478, 'reg_alpha': 1.1202654740395588, 'min_child_weight': 4}. Best is trial 36 with value: 0.5671641791044776.\n",
      "[I 2025-09-17 17:02:44,919] Trial 82 finished with value: 0.4603174603174603 and parameters: {'learning_rate': 0.03618821641633574, 'max_depth': 15, 'n_estimators': 280, 'subsample': 0.911418198313003, 'colsample_bytree': 0.7506295409378327, 'reg_lambda': 1.3841391921415258, 'reg_alpha': 1.4272000206705011, 'min_child_weight': 6}. Best is trial 36 with value: 0.5671641791044776.\n",
      "[I 2025-09-17 17:02:45,401] Trial 83 finished with value: 0.48854961832061067 and parameters: {'learning_rate': 0.13454399800283884, 'max_depth': 2, 'n_estimators': 305, 'subsample': 0.8438411790868228, 'colsample_bytree': 0.7683203875016064, 'reg_lambda': 0.5299533643098715, 'reg_alpha': 1.277307420947114, 'min_child_weight': 3}. Best is trial 36 with value: 0.5671641791044776.\n",
      "[I 2025-09-17 17:02:52,929] Trial 84 finished with value: 0.4888888888888889 and parameters: {'learning_rate': 0.10384942133301814, 'max_depth': 12, 'n_estimators': 434, 'subsample': 0.9729328804403132, 'colsample_bytree': 0.7996997709874122, 'reg_lambda': 1.6135916775122745, 'reg_alpha': 1.20252420921089, 'min_child_weight': 4}. Best is trial 36 with value: 0.5671641791044776.\n",
      "[I 2025-09-17 17:02:48,302] Trial 85 finished with value: 0.49230769230769234 and parameters: {'learning_rate': 0.08389059502652361, 'max_depth': 3, 'n_estimators': 320, 'subsample': 0.9254807462912105, 'colsample_bytree': 0.745095606441493, 'reg_lambda': 0.3232596467447204, 'reg_alpha': 0.6518963039501802, 'min_child_weight': 4}. Best is trial 36 with value: 0.5671641791044776.\n",
      "[I 2025-09-17 17:02:48,677] Trial 86 finished with value: 0.5343511450381679 and parameters: {'learning_rate': 0.12616981627960172, 'max_depth': 2, 'n_estimators': 205, 'subsample': 0.9369703515085289, 'colsample_bytree': 0.7240433677778582, 'reg_lambda': 0.04923864959280297, 'reg_alpha': 0.9610052788591819, 'min_child_weight': 5}. Best is trial 36 with value: 0.5671641791044776.\n",
      "[I 2025-09-17 17:02:49,350] Trial 87 finished with value: 0.49624060150375937 and parameters: {'learning_rate': 0.1503660385110206, 'max_depth': 3, 'n_estimators': 261, 'subsample': 0.9969048308065559, 'colsample_bytree': 0.6804394476423342, 'reg_lambda': 0.21541261394183286, 'reg_alpha': 0.7797994916245539, 'min_child_weight': 6}. Best is trial 36 with value: 0.5671641791044776.\n",
      "[I 2025-09-17 17:02:52,355] Trial 88 finished with value: 0.464 and parameters: {'learning_rate': 0.06412649948151583, 'max_depth': 8, 'n_estimators': 275, 'subsample': 0.9544272641183329, 'colsample_bytree': 0.7317934871767198, 'reg_lambda': 0.13816720736153718, 'reg_alpha': 0.5658753167260655, 'min_child_weight': 5}. Best is trial 36 with value: 0.5671641791044776.\n",
      "[I 2025-09-17 17:02:53,782] Trial 89 finished with value: 0.49624060150375937 and parameters: {'learning_rate': 0.1195415497613164, 'max_depth': 6, 'n_estimators': 238, 'subsample': 0.8549518321656536, 'colsample_bytree': 0.7788444533232439, 'reg_lambda': 0.6350747214352218, 'reg_alpha': 0.4443561434853883, 'min_child_weight': 4}. Best is trial 36 with value: 0.5671641791044776.\n",
      "[I 2025-09-17 17:02:55,668] Trial 90 finished with value: 0.5223880597014925 and parameters: {'learning_rate': 0.10843462580857277, 'max_depth': 4, 'n_estimators': 253, 'subsample': 0.9173958511790719, 'colsample_bytree': 0.8873161623653696, 'reg_lambda': 1.1068033047731716, 'reg_alpha': 1.1666067437730736, 'min_child_weight': 7}. Best is trial 36 with value: 0.5671641791044776.\n",
      "[I 2025-09-17 17:02:57,309] Trial 91 finished with value: 0.5037037037037037 and parameters: {'learning_rate': 0.10220687513179623, 'max_depth': 3, 'n_estimators': 399, 'subsample': 0.9888033200263339, 'colsample_bytree': 0.7356815523788723, 'reg_lambda': 0.463841426382237, 'reg_alpha': 0.7069619755770068, 'min_child_weight': 2}. Best is trial 36 with value: 0.5671641791044776.\n",
      "[I 2025-09-17 17:02:57,763] Trial 92 finished with value: 0.5401459854014599 and parameters: {'learning_rate': 0.09228175870516347, 'max_depth': 2, 'n_estimators': 459, 'subsample': 0.9769338626474069, 'colsample_bytree': 0.7576229699573658, 'reg_lambda': 0.5591769010668542, 'reg_alpha': 0.529758486132776, 'min_child_weight': 8}. Best is trial 36 with value: 0.5671641791044776.\n",
      "[I 2025-09-17 17:02:58,919] Trial 93 finished with value: 0.5190839694656488 and parameters: {'learning_rate': 0.05218563774204867, 'max_depth': 3, 'n_estimators': 419, 'subsample': 0.9612613478411848, 'colsample_bytree': 0.7173338332286483, 'reg_lambda': 0.736674568376253, 'reg_alpha': 0.3942998597528443, 'min_child_weight': 4}. Best is trial 36 with value: 0.5671641791044776.\n",
      "[I 2025-09-17 17:02:59,534] Trial 94 finished with value: 0.5190839694656488 and parameters: {'learning_rate': 0.09781700984630791, 'max_depth': 2, 'n_estimators': 294, 'subsample': 0.9847007136925591, 'colsample_bytree': 0.8299618324747305, 'reg_lambda': 1.0251531438063146, 'reg_alpha': 0.9121754988949885, 'min_child_weight': 6}. Best is trial 36 with value: 0.5671641791044776.\n",
      "[I 2025-09-17 17:03:01,101] Trial 95 finished with value: 0.49230769230769234 and parameters: {'learning_rate': 0.04077303815619794, 'max_depth': 4, 'n_estimators': 411, 'subsample': 0.9044124291019707, 'colsample_bytree': 0.6971605060246197, 'reg_lambda': 0.35660941140615765, 'reg_alpha': 0.744340027559039, 'min_child_weight': 5}. Best is trial 36 with value: 0.5671641791044776.\n",
      "[I 2025-09-17 17:03:01,896] Trial 96 finished with value: 0.5 and parameters: {'learning_rate': 0.11892163624040959, 'max_depth': 2, 'n_estimators': 444, 'subsample': 0.9688792036187999, 'colsample_bytree': 0.6875911338143275, 'reg_lambda': 0.4869733524375621, 'reg_alpha': 1.0400068626495063, 'min_child_weight': 8}. Best is trial 36 with value: 0.5671641791044776.\n",
      "[I 2025-09-17 17:03:07,890] Trial 97 finished with value: 0.556390977443609 and parameters: {'learning_rate': 0.0797666803357987, 'max_depth': 3, 'n_estimators': 309, 'subsample': 0.9527978856236125, 'colsample_bytree': 0.7893931611443729, 'reg_lambda': 0.39078417587194025, 'reg_alpha': 0.8372465089648038, 'min_child_weight': 7}. Best is trial 36 with value: 0.5671641791044776.\n",
      "[I 2025-09-17 17:03:03,100] Trial 98 finished with value: 0.5581395348837209 and parameters: {'learning_rate': 0.07270367055403881, 'max_depth': 3, 'n_estimators': 226, 'subsample': 0.9496644631405442, 'colsample_bytree': 0.7891946003007582, 'reg_lambda': 0.4184661768613345, 'reg_alpha': 0.47468488248458945, 'min_child_weight': 6}. Best is trial 36 with value: 0.5671641791044776.\n",
      "[I 2025-09-17 17:03:03,558] Trial 99 finished with value: 0.5538461538461539 and parameters: {'learning_rate': 0.06019671518793134, 'max_depth': 3, 'n_estimators': 189, 'subsample': 0.9485489533206537, 'colsample_bytree': 0.8590690846923023, 'reg_lambda': 0.2652192237873465, 'reg_alpha': 0.48954856969082744, 'min_child_weight': 7}. Best is trial 36 with value: 0.5671641791044776.\n",
      "[I 2025-09-17 17:03:04,028] Trial 100 finished with value: 0.5648854961832062 and parameters: {'learning_rate': 0.0686630998412921, 'max_depth': 3, 'n_estimators': 179, 'subsample': 0.9518690488590336, 'colsample_bytree': 0.8646789062353555, 'reg_lambda': 0.3930612072716149, 'reg_alpha': 0.456838855594908, 'min_child_weight': 7}. Best is trial 36 with value: 0.5671641791044776.\n",
      "[I 2025-09-17 17:03:04,649] Trial 101 finished with value: 0.5606060606060606 and parameters: {'learning_rate': 0.05736034729094933, 'max_depth': 3, 'n_estimators': 180, 'subsample': 0.9513459930944785, 'colsample_bytree': 0.867022238740023, 'reg_lambda': 0.39295149582490946, 'reg_alpha': 0.4509252373658721, 'min_child_weight': 7}. Best is trial 36 with value: 0.5671641791044776.\n",
      "[I 2025-09-17 17:03:05,326] Trial 102 finished with value: 0.4566929133858268 and parameters: {'learning_rate': 0.06972020406365573, 'max_depth': 4, 'n_estimators': 166, 'subsample': 0.9514617244721013, 'colsample_bytree': 0.9031163174381079, 'reg_lambda': 0.3919179505567859, 'reg_alpha': 0.32918345659439396, 'min_child_weight': 7}. Best is trial 36 with value: 0.5671641791044776.\n",
      "[I 2025-09-17 17:03:05,904] Trial 103 finished with value: 0.5522388059701493 and parameters: {'learning_rate': 0.05813889173118543, 'max_depth': 3, 'n_estimators': 192, 'subsample': 0.949283681544456, 'colsample_bytree': 0.8723374332471293, 'reg_lambda': 0.415874274020545, 'reg_alpha': 0.44610943264167563, 'min_child_weight': 7}. Best is trial 36 with value: 0.5671641791044776.\n",
      "[I 2025-09-17 17:03:06,470] Trial 104 finished with value: 0.528 and parameters: {'learning_rate': 0.061949838000557485, 'max_depth': 3, 'n_estimators': 179, 'subsample': 0.9306412723568555, 'colsample_bytree': 0.8309557817898161, 'reg_lambda': 0.26210285687455454, 'reg_alpha': 0.40055499663021815, 'min_child_weight': 7}. Best is trial 36 with value: 0.5671641791044776.\n",
      "[I 2025-09-17 17:03:12,912] Trial 105 finished with value: 0.49612403100775193 and parameters: {'learning_rate': 0.049101452899285775, 'max_depth': 7, 'n_estimators': 152, 'subsample': 0.9416150290901885, 'colsample_bytree': 0.8554200031571287, 'reg_lambda': 0.35149212334413854, 'reg_alpha': 0.27250423489923437, 'min_child_weight': 7}. Best is trial 36 with value: 0.5671641791044776.\n",
      "[I 2025-09-17 17:03:08,404] Trial 106 finished with value: 0.43548387096774194 and parameters: {'learning_rate': 0.06754918129187669, 'max_depth': 5, 'n_estimators': 202, 'subsample': 0.9616231733790253, 'colsample_bytree': 0.9362030192124496, 'reg_lambda': 0.5457676727393161, 'reg_alpha': 0.5488476942218405, 'min_child_weight': 7}. Best is trial 36 with value: 0.5671641791044776.\n",
      "[I 2025-09-17 17:03:09,036] Trial 107 finished with value: 0.5538461538461539 and parameters: {'learning_rate': 0.0738000330058466, 'max_depth': 3, 'n_estimators': 226, 'subsample': 0.9767815906969863, 'colsample_bytree': 0.8183792566887026, 'reg_lambda': 0.28916575625595914, 'reg_alpha': 0.6139914090410494, 'min_child_weight': 7}. Best is trial 36 with value: 0.5671641791044776.\n",
      "[I 2025-09-17 17:03:09,915] Trial 108 finished with value: 0.47619047619047616 and parameters: {'learning_rate': 0.07365702053160365, 'max_depth': 4, 'n_estimators': 225, 'subsample': 0.9793358361208909, 'colsample_bytree': 0.8204622636214025, 'reg_lambda': 0.3133725183091924, 'reg_alpha': 0.5967458443299343, 'min_child_weight': 8}. Best is trial 36 with value: 0.5671641791044776.\n",
      "[I 2025-09-17 17:03:10,585] Trial 109 finished with value: 0.512 and parameters: {'learning_rate': 0.07687371819453451, 'max_depth': 4, 'n_estimators': 169, 'subsample': 0.9563894815382704, 'colsample_bytree': 0.806680835488653, 'reg_lambda': 0.45024264606078424, 'reg_alpha': 0.20286291930600597, 'min_child_weight': 7}. Best is trial 36 with value: 0.5671641791044776.\n",
      "[I 2025-09-17 17:03:11,141] Trial 110 finished with value: 0.5606060606060606 and parameters: {'learning_rate': 0.08143929377425285, 'max_depth': 3, 'n_estimators': 188, 'subsample': 0.9730456235123599, 'colsample_bytree': 0.8644747158010194, 'reg_lambda': 0.9491787727566693, 'reg_alpha': 0.6640449332033355, 'min_child_weight': 8}. Best is trial 36 with value: 0.5671641791044776.\n",
      "[I 2025-09-17 17:03:11,749] Trial 111 finished with value: 0.5671641791044776 and parameters: {'learning_rate': 0.08037165670951164, 'max_depth': 3, 'n_estimators': 183, 'subsample': 0.9692035640561582, 'colsample_bytree': 0.8702028633809002, 'reg_lambda': 0.5279723351108083, 'reg_alpha': 0.6423583364284794, 'min_child_weight': 8}. Best is trial 36 with value: 0.5671641791044776.\n",
      "[I 2025-09-17 17:03:12,366] Trial 112 finished with value: 0.5038167938931297 and parameters: {'learning_rate': 0.08181196880228218, 'max_depth': 3, 'n_estimators': 187, 'subsample': 0.9688827068285402, 'colsample_bytree': 0.8857464144003786, 'reg_lambda': 0.8356247518829568, 'reg_alpha': 0.6728217483428489, 'min_child_weight': 8}. Best is trial 36 with value: 0.5671641791044776.\n",
      "[I 2025-09-17 17:03:17,880] Trial 113 finished with value: 0.45161290322580644 and parameters: {'learning_rate': 0.06395490977504976, 'max_depth': 3, 'n_estimators': 135, 'subsample': 0.9922072615284744, 'colsample_bytree': 0.8630800001281576, 'reg_lambda': 0.9581515068955614, 'reg_alpha': 0.827266976936343, 'min_child_weight': 9}. Best is trial 36 with value: 0.5671641791044776.\n",
      "[I 2025-09-17 17:03:13,745] Trial 114 finished with value: 0.47619047619047616 and parameters: {'learning_rate': 0.05966574158048936, 'max_depth': 10, 'n_estimators': 184, 'subsample': 0.9485002719286802, 'colsample_bytree': 0.8981171212743626, 'reg_lambda': 0.5877276016874406, 'reg_alpha': 0.7053622292070071, 'min_child_weight': 8}. Best is trial 36 with value: 0.5671641791044776.\n",
      "[I 2025-09-17 17:03:14,231] Trial 115 finished with value: 0.5 and parameters: {'learning_rate': 0.055019923840717085, 'max_depth': 3, 'n_estimators': 152, 'subsample': 0.961929392216904, 'colsample_bytree': 0.8764237529737752, 'reg_lambda': 0.5134584046757822, 'reg_alpha': 0.47886394601717097, 'min_child_weight': 8}. Best is trial 36 with value: 0.5671641791044776.\n",
      "[I 2025-09-17 17:03:14,816] Trial 116 finished with value: 0.4132231404958678 and parameters: {'learning_rate': 0.0834398588062426, 'max_depth': 4, 'n_estimators': 170, 'subsample': 0.659497806452724, 'colsample_bytree': 0.7931274903838521, 'reg_lambda': 1.1919979176729212, 'reg_alpha': 0.6460969400148409, 'min_child_weight': 9}. Best is trial 36 with value: 0.5671641791044776.\n",
      "[I 2025-09-17 17:03:15,419] Trial 117 finished with value: 0.5343511450381679 and parameters: {'learning_rate': 0.04508070995413584, 'max_depth': 3, 'n_estimators': 197, 'subsample': 0.9288222823026777, 'colsample_bytree': 0.837847014350691, 'reg_lambda': 0.39461883529531966, 'reg_alpha': 0.3672353328450926, 'min_child_weight': 6}. Best is trial 36 with value: 0.5671641791044776.\n",
      "[I 2025-09-17 17:03:16,022] Trial 118 finished with value: 0.5354330708661418 and parameters: {'learning_rate': 0.08857223056855025, 'max_depth': 3, 'n_estimators': 211, 'subsample': 0.9684830184488625, 'colsample_bytree': 0.8523775963683229, 'reg_lambda': 0.6865986767727305, 'reg_alpha': 0.7817575669067507, 'min_child_weight': 7}. Best is trial 36 with value: 0.5671641791044776.\n",
      "[I 2025-09-17 17:03:16,579] Trial 119 finished with value: 0.43548387096774194 and parameters: {'learning_rate': 0.07933213272452885, 'max_depth': 4, 'n_estimators': 159, 'subsample': 0.9390745322392547, 'colsample_bytree': 0.8639432178428513, 'reg_lambda': 0.4235314433860352, 'reg_alpha': 0.5795832067907618, 'min_child_weight': 8}. Best is trial 36 with value: 0.5671641791044776.\n",
      "[I 2025-09-17 17:03:17,349] Trial 120 finished with value: 0.5692307692307692 and parameters: {'learning_rate': 0.06995473347554425, 'max_depth': 4, 'n_estimators': 196, 'subsample': 0.998201463423508, 'colsample_bytree': 0.8357610386634241, 'reg_lambda': 0.7790830479987098, 'reg_alpha': 0.4593921006238936, 'min_child_weight': 6}. Best is trial 120 with value: 0.5692307692307692.\n",
      "[I 2025-09-17 17:03:22,969] Trial 121 finished with value: 0.5196850393700787 and parameters: {'learning_rate': 0.0659513976746039, 'max_depth': 3, 'n_estimators': 196, 'subsample': 0.9991974253672387, 'colsample_bytree': 0.8357154222462386, 'reg_lambda': 0.6331065613808016, 'reg_alpha': 0.5282592648821149, 'min_child_weight': 6}. Best is trial 120 with value: 0.5692307692307692.\n",
      "[I 2025-09-17 17:03:18,777] Trial 122 finished with value: 0.464 and parameters: {'learning_rate': 0.07273723837331257, 'max_depth': 4, 'n_estimators': 184, 'subsample': 0.9833211297805574, 'colsample_bytree': 0.8589064680903234, 'reg_lambda': 1.8170543499263792, 'reg_alpha': 0.47051010952392075, 'min_child_weight': 6}. Best is trial 120 with value: 0.5692307692307692.\n",
      "[I 2025-09-17 17:03:19,114] Trial 123 finished with value: 0.5271317829457365 and parameters: {'learning_rate': 0.08657060407121954, 'max_depth': 2, 'n_estimators': 174, 'subsample': 0.955215103148058, 'colsample_bytree': 0.8715403286861728, 'reg_lambda': 0.8008747421802604, 'reg_alpha': 0.29399203585388445, 'min_child_weight': 6}. Best is trial 120 with value: 0.5692307692307692.\n",
      "[I 2025-09-17 17:03:20,556] Trial 124 finished with value: 0.5522388059701493 and parameters: {'learning_rate': 0.07005213772063568, 'max_depth': 3, 'n_estimators': 487, 'subsample': 0.9744259420878812, 'colsample_bytree': 0.8961512810418794, 'reg_lambda': 0.7244376848691666, 'reg_alpha': 0.43929967615764576, 'min_child_weight': 7}. Best is trial 120 with value: 0.5692307692307692.\n",
      "[I 2025-09-17 17:03:21,203] Trial 125 finished with value: 0.53125 and parameters: {'learning_rate': 0.07808620983246163, 'max_depth': 3, 'n_estimators': 209, 'subsample': 0.9876383750967852, 'colsample_bytree': 0.7852699771224351, 'reg_lambda': 0.8617902492272858, 'reg_alpha': 0.5516318144465009, 'min_child_weight': 7}. Best is trial 120 with value: 0.5692307692307692.\n",
      "[I 2025-09-17 17:03:21,812] Trial 126 finished with value: 0.5038167938931297 and parameters: {'learning_rate': 0.06215150500503384, 'max_depth': 2, 'n_estimators': 310, 'subsample': 0.9647196029561321, 'colsample_bytree': 0.8467845595858013, 'reg_lambda': 0.7809340829967748, 'reg_alpha': 0.40626574663850024, 'min_child_weight': 6}. Best is trial 120 with value: 0.5692307692307692.\n",
      "[I 2025-09-17 17:03:22,554] Trial 127 finished with value: 0.5454545454545454 and parameters: {'learning_rate': 0.05544242537856937, 'max_depth': 4, 'n_estimators': 142, 'subsample': 0.9471522164763126, 'colsample_bytree': 0.8059590208062845, 'reg_lambda': 0.5959047056135116, 'reg_alpha': 0.6418543764892362, 'min_child_weight': 8}. Best is trial 120 with value: 0.5692307692307692.\n",
      "[I 2025-09-17 17:03:22,785] Trial 128 finished with value: 0.5079365079365079 and parameters: {'learning_rate': 0.0670208183369537, 'max_depth': 3, 'n_estimators': 199, 'subsample': 0.9794889830871814, 'colsample_bytree': 0.882380519822997, 'reg_lambda': 0.9278115438494707, 'reg_alpha': 1.5340111148037887, 'min_child_weight': 6}. Best is trial 120 with value: 0.5692307692307692.\n",
      "[I 2025-09-17 17:03:24,223] Trial 129 finished with value: 0.5263157894736842 and parameters: {'learning_rate': 0.05130109331531186, 'max_depth': 5, 'n_estimators': 286, 'subsample': 0.9188657665468738, 'colsample_bytree': 0.7708409736787804, 'reg_lambda': 0.5253823808420145, 'reg_alpha': 0.5104167082678553, 'min_child_weight': 7}. Best is trial 120 with value: 0.5692307692307692.\n",
      "[I 2025-09-17 17:03:24,622] Trial 130 finished with value: 0.5116279069767442 and parameters: {'learning_rate': 0.09390883315115416, 'max_depth': 2, 'n_estimators': 191, 'subsample': 0.967655641090352, 'colsample_bytree': 0.7964403962034593, 'reg_lambda': 0.4663281839145468, 'reg_alpha': 0.3565253145737441, 'min_child_weight': 6}. Best is trial 120 with value: 0.5692307692307692.\n",
      "[I 2025-09-17 17:03:25,564] Trial 131 finished with value: 0.5692307692307692 and parameters: {'learning_rate': 0.07500531268998235, 'max_depth': 3, 'n_estimators': 225, 'subsample': 0.9764290139306594, 'colsample_bytree': 0.8197712868811835, 'reg_lambda': 0.2857054835361865, 'reg_alpha': 0.6200826602660452, 'min_child_weight': 7}. Best is trial 120 with value: 0.5692307692307692.\n",
      "[I 2025-09-17 17:03:28,271] Trial 132 finished with value: 0.5271317829457365 and parameters: {'learning_rate': 0.08066423040792714, 'max_depth': 3, 'n_estimators': 161, 'subsample': 0.9923028071840049, 'colsample_bytree': 0.8139601133714438, 'reg_lambda': 0.335120718789693, 'reg_alpha': 0.726952134320044, 'min_child_weight': 7}. Best is trial 120 with value: 0.5692307692307692.\n",
      "[I 2025-09-17 17:03:30,614] Trial 133 finished with value: 0.5116279069767442 and parameters: {'learning_rate': 0.07169366878151852, 'max_depth': 3, 'n_estimators': 267, 'subsample': 0.957630891537128, 'colsample_bytree': 0.8242016649087225, 'reg_lambda': 0.3934532115071655, 'reg_alpha': 0.9850622903273188, 'min_child_weight': 8}. Best is trial 120 with value: 0.5692307692307692.\n",
      "[I 2025-09-17 17:03:43,352] Trial 134 finished with value: 0.5 and parameters: {'learning_rate': 0.086510404905997, 'max_depth': 2, 'n_estimators': 182, 'subsample': 0.9742155711819079, 'colsample_bytree': 0.7866173271084973, 'reg_lambda': 0.7035344416095052, 'reg_alpha': 0.6264060237396288, 'min_child_weight': 7}. Best is trial 120 with value: 0.5692307692307692.\n",
      "[I 2025-09-17 17:03:44,619] Trial 135 finished with value: 0.5116279069767442 and parameters: {'learning_rate': 0.07671328859177218, 'max_depth': 4, 'n_estimators': 223, 'subsample': 0.938714881675262, 'colsample_bytree': 0.847319466487187, 'reg_lambda': 1.0812090401991243, 'reg_alpha': 0.45356534897887213, 'min_child_weight': 7}. Best is trial 120 with value: 0.5692307692307692.\n",
      "[I 2025-09-17 17:03:45,282] Trial 136 finished with value: 0.5230769230769231 and parameters: {'learning_rate': 0.06071744906091199, 'max_depth': 2, 'n_estimators': 235, 'subsample': 0.9544325600851993, 'colsample_bytree': 0.7722636981346157, 'reg_lambda': 1.5321263788526012, 'reg_alpha': 0.5717803788907655, 'min_child_weight': 6}. Best is trial 120 with value: 0.5692307692307692.\n",
      "[I 2025-09-17 17:03:46,417] Trial 137 finished with value: 0.5074626865671642 and parameters: {'learning_rate': 0.09736533213074604, 'max_depth': 3, 'n_estimators': 211, 'subsample': 0.9995205925420189, 'colsample_bytree': 0.8724957599438667, 'reg_lambda': 0.360550996599629, 'reg_alpha': 0.09832599433541112, 'min_child_weight': 7}. Best is trial 120 with value: 0.5692307692307692.\n",
      "[I 2025-09-17 17:03:47,705] Trial 138 finished with value: 0.4444444444444444 and parameters: {'learning_rate': 0.057980629791692474, 'max_depth': 4, 'n_estimators': 216, 'subsample': 0.9841978289559867, 'colsample_bytree': 0.8015450882420828, 'reg_lambda': 0.9868463675688446, 'reg_alpha': 0.6673833560755661, 'min_child_weight': 6}. Best is trial 120 with value: 0.5692307692307692.\n",
      "[I 2025-09-17 17:03:48,897] Trial 139 finished with value: 0.5038167938931297 and parameters: {'learning_rate': 0.08297948147422293, 'max_depth': 3, 'n_estimators': 324, 'subsample': 0.9625717149528892, 'colsample_bytree': 0.7646472995948784, 'reg_lambda': 0.6497563611970882, 'reg_alpha': 0.8357437496259386, 'min_child_weight': 9}. Best is trial 120 with value: 0.5692307692307692.\n",
      "[I 2025-09-17 17:03:49,311] Trial 140 finished with value: 0.49612403100775193 and parameters: {'learning_rate': 0.09017527694124754, 'max_depth': 2, 'n_estimators': 175, 'subsample': 0.9463795773586986, 'colsample_bytree': 0.7534201836074144, 'reg_lambda': 0.49124975880211974, 'reg_alpha': 0.790183868580962, 'min_child_weight': 8}. Best is trial 120 with value: 0.5692307692307692.\n",
      "[I 2025-09-17 17:03:50,255] Trial 141 finished with value: 0.5271317829457365 and parameters: {'learning_rate': 0.06828131969061249, 'max_depth': 3, 'n_estimators': 225, 'subsample': 0.9775761053840081, 'colsample_bytree': 0.8185823544648394, 'reg_lambda': 0.27917557544333055, 'reg_alpha': 0.608650871260208, 'min_child_weight': 7}. Best is trial 120 with value: 0.5692307692307692.\n",
      "[I 2025-09-17 17:03:51,961] Trial 142 finished with value: 0.5396825396825397 and parameters: {'learning_rate': 0.07376304781196105, 'max_depth': 3, 'n_estimators': 203, 'subsample': 0.9741843024949998, 'colsample_bytree': 0.8300805273171383, 'reg_lambda': 0.3029295291232758, 'reg_alpha': 0.5877115722065006, 'min_child_weight': 7}. Best is trial 120 with value: 0.5692307692307692.\n",
      "[I 2025-09-17 17:03:53,159] Trial 143 finished with value: 0.5454545454545454 and parameters: {'learning_rate': 0.06548105219923248, 'max_depth': 3, 'n_estimators': 249, 'subsample': 0.9894612343536995, 'colsample_bytree': 0.8378863658931557, 'reg_lambda': 0.20136175965623, 'reg_alpha': 0.5346802729735936, 'min_child_weight': 7}. Best is trial 120 with value: 0.5692307692307692.\n",
      "[I 2025-09-17 17:03:53,914] Trial 144 finished with value: 0.5263157894736842 and parameters: {'learning_rate': 0.07582888634897376, 'max_depth': 2, 'n_estimators': 239, 'subsample': 0.9673574559697944, 'colsample_bytree': 0.8120466740431287, 'reg_lambda': 0.26090767093957373, 'reg_alpha': 0.7436135825379704, 'min_child_weight': 6}. Best is trial 120 with value: 0.5692307692307692.\n",
      "[I 2025-09-17 17:03:55,120] Trial 145 finished with value: 0.49230769230769234 and parameters: {'learning_rate': 0.07981757947082217, 'max_depth': 4, 'n_estimators': 263, 'subsample': 0.9329997112113549, 'colsample_bytree': 0.7798881347470149, 'reg_lambda': 0.44911087103387876, 'reg_alpha': 0.49282723995407346, 'min_child_weight': 8}. Best is trial 120 with value: 0.5692307692307692.\n",
      "[I 2025-09-17 17:03:55,825] Trial 146 finished with value: 0.5413533834586466 and parameters: {'learning_rate': 0.07234348742264507, 'max_depth': 3, 'n_estimators': 231, 'subsample': 0.9497015018259222, 'colsample_bytree': 0.8622286269271164, 'reg_lambda': 0.5530605256967062, 'reg_alpha': 0.40049140142060574, 'min_child_weight': 7}. Best is trial 120 with value: 0.5692307692307692.\n",
      "[I 2025-09-17 17:03:56,298] Trial 147 finished with value: 0.5413533834586466 and parameters: {'learning_rate': 0.08744264761150138, 'max_depth': 2, 'n_estimators': 190, 'subsample': 0.9616357777154363, 'colsample_bytree': 0.7916439147871792, 'reg_lambda': 0.36547719498295916, 'reg_alpha': 0.698339210451106, 'min_child_weight': 7}. Best is trial 120 with value: 0.5692307692307692.\n",
      "[I 2025-09-17 17:03:57,454] Trial 148 finished with value: 0.5238095238095238 and parameters: {'learning_rate': 0.037045947124807174, 'max_depth': 3, 'n_estimators': 278, 'subsample': 0.9822900874844864, 'colsample_bytree': 0.8424085794119827, 'reg_lambda': 0.3143659356029274, 'reg_alpha': 0.6370980162533829, 'min_child_weight': 6}. Best is trial 120 with value: 0.5692307692307692.\n",
      "[I 2025-09-17 17:03:51,758] Trial 149 finished with value: 0.49612403100775193 and parameters: {'learning_rate': 0.0915921518776727, 'max_depth': 4, 'n_estimators': 312, 'subsample': 0.7731437567213266, 'colsample_bytree': 0.8238874769053743, 'reg_lambda': 1.319884155504166, 'reg_alpha': 0.6002631299461756, 'min_child_weight': 6}. Best is trial 120 with value: 0.5692307692307692.\n",
      "[I 2025-09-17 17:03:52,378] Trial 150 finished with value: 0.5223880597014925 and parameters: {'learning_rate': 0.1063300973373472, 'max_depth': 2, 'n_estimators': 297, 'subsample': 0.9402375784620917, 'colsample_bytree': 0.8538304825912688, 'reg_lambda': 0.4310595802494439, 'reg_alpha': 0.8945251612653101, 'min_child_weight': 8}. Best is trial 120 with value: 0.5692307692307692.\n",
      "[I 2025-09-17 17:03:52,833] Trial 151 finished with value: 0.5263157894736842 and parameters: {'learning_rate': 0.04894279709315881, 'max_depth': 2, 'n_estimators': 215, 'subsample': 0.953535938079502, 'colsample_bytree': 0.9188451658303765, 'reg_lambda': 0.2748444352899321, 'reg_alpha': 1.1023738447015372, 'min_child_weight': 6}. Best is trial 120 with value: 0.5692307692307692.\n",
      "[I 2025-09-17 17:03:53,521] Trial 152 finished with value: 0.5 and parameters: {'learning_rate': 0.04575897011175978, 'max_depth': 3, 'n_estimators': 200, 'subsample': 0.9733763019906322, 'colsample_bytree': 0.910784957400808, 'reg_lambda': 0.24410150162923855, 'reg_alpha': 1.3248379167489643, 'min_child_weight': 6}. Best is trial 120 with value: 0.5692307692307692.\n",
      "[I 2025-09-17 17:03:54,211] Trial 153 finished with value: 0.5263157894736842 and parameters: {'learning_rate': 0.04270909417530069, 'max_depth': 2, 'n_estimators': 221, 'subsample': 0.9423565286163972, 'colsample_bytree': 0.9330463960745815, 'reg_lambda': 0.14643492371256256, 'reg_alpha': 0.4619550907178922, 'min_child_weight': 7}. Best is trial 120 with value: 0.5692307692307692.\n",
      "[I 2025-09-17 17:03:54,957] Trial 154 finished with value: 0.5079365079365079 and parameters: {'learning_rate': 0.051820896619819194, 'max_depth': 3, 'n_estimators': 182, 'subsample': 0.9311374747360451, 'colsample_bytree': 0.8917908327274215, 'reg_lambda': 0.23697299467782404, 'reg_alpha': 0.5456202989938399, 'min_child_weight': 6}. Best is trial 120 with value: 0.5692307692307692.\n",
      "[I 2025-09-17 17:03:55,360] Trial 155 finished with value: 0.5343511450381679 and parameters: {'learning_rate': 0.0569748658414371, 'max_depth': 2, 'n_estimators': 192, 'subsample': 0.9597390754563192, 'colsample_bytree': 0.8662265999765212, 'reg_lambda': 0.37589137829895347, 'reg_alpha': 1.1715552990878304, 'min_child_weight': 7}. Best is trial 120 with value: 0.5692307692307692.\n",
      "[I 2025-09-17 17:03:55,922] Trial 156 finished with value: 0.5426356589147286 and parameters: {'learning_rate': 0.0650517351213394, 'max_depth': 3, 'n_estimators': 169, 'subsample': 0.9267800068145626, 'colsample_bytree': 0.9576724713537214, 'reg_lambda': 0.18769674848278184, 'reg_alpha': 1.280720722337151, 'min_child_weight': 5}. Best is trial 120 with value: 0.5692307692307692.\n",
      "[I 2025-09-17 17:03:56,384] Trial 157 finished with value: 0.5223880597014925 and parameters: {'learning_rate': 0.06225166997136774, 'max_depth': 2, 'n_estimators': 207, 'subsample': 0.9502299571970994, 'colsample_bytree': 0.7967286792219611, 'reg_lambda': 0.3380592949038164, 'reg_alpha': 1.1402622007033372, 'min_child_weight': 7}. Best is trial 120 with value: 0.5692307692307692.\n",
      "[I 2025-09-17 17:04:02,963] Trial 158 finished with value: 0.5074626865671642 and parameters: {'learning_rate': 0.08209638887357483, 'max_depth': 3, 'n_estimators': 272, 'subsample': 0.9709030289159167, 'colsample_bytree': 0.7503401375226124, 'reg_lambda': 1.198563759542295, 'reg_alpha': 1.0688184901718984, 'min_child_weight': 6}. Best is trial 120 with value: 0.5692307692307692.\n",
      "[I 2025-09-17 17:03:59,150] Trial 159 finished with value: 0.48175182481751827 and parameters: {'learning_rate': 0.01155343251067883, 'max_depth': 2, 'n_estimators': 255, 'subsample': 0.9903706109646592, 'colsample_bytree': 0.8823729031014406, 'reg_lambda': 0.4936221196957836, 'reg_alpha': 1.2456858177882726, 'min_child_weight': 5}. Best is trial 120 with value: 0.5692307692307692.\n",
      "[I 2025-09-17 17:04:02,017] Trial 160 finished with value: 0.5230769230769231 and parameters: {'learning_rate': 0.07124885678808772, 'max_depth': 4, 'n_estimators': 336, 'subsample': 0.9796835092052962, 'colsample_bytree': 0.7768427643055371, 'reg_lambda': 0.41730701230351297, 'reg_alpha': 0.6802255071872875, 'min_child_weight': 6}. Best is trial 120 with value: 0.5692307692307692.\n",
      "[I 2025-09-17 17:04:02,431] Trial 161 finished with value: 0.5671641791044776 and parameters: {'learning_rate': 0.10993524107408097, 'max_depth': 2, 'n_estimators': 303, 'subsample': 0.9587949090039843, 'colsample_bytree': 0.7636675860541868, 'reg_lambda': 0.10361874124606596, 'reg_alpha': 0.5083187477884533, 'min_child_weight': 4}. Best is trial 120 with value: 0.5692307692307692.\n",
      "[I 2025-09-17 17:04:03,138] Trial 162 finished with value: 0.549618320610687 and parameters: {'learning_rate': 0.10222494740855795, 'max_depth': 2, 'n_estimators': 300, 'subsample': 0.9625711822901952, 'colsample_bytree': 0.7667845587451815, 'reg_lambda': 0.12415932351352896, 'reg_alpha': 0.5068794049215893, 'min_child_weight': 7}. Best is trial 120 with value: 0.5692307692307692.\n",
      "[I 2025-09-17 17:04:04,214] Trial 163 finished with value: 0.5303030303030303 and parameters: {'learning_rate': 0.09721080519443807, 'max_depth': 3, 'n_estimators': 293, 'subsample': 0.9468121341435767, 'colsample_bytree': 0.7582480255536986, 'reg_lambda': 0.21981392151642729, 'reg_alpha': 0.5600334600999147, 'min_child_weight': 4}. Best is trial 120 with value: 0.5692307692307692.\n",
      "[I 2025-09-17 17:04:05,580] Trial 164 finished with value: 0.4715447154471545 and parameters: {'learning_rate': 0.07679775788271918, 'max_depth': 3, 'n_estimators': 228, 'subsample': 0.9364764819504726, 'colsample_bytree': 0.5260613077753042, 'reg_lambda': 0.30645887913109243, 'reg_alpha': 0.4411342362578092, 'min_child_weight': 4}. Best is trial 120 with value: 0.5692307692307692.\n",
      "[I 2025-09-17 17:04:06,236] Trial 165 finished with value: 0.5426356589147286 and parameters: {'learning_rate': 0.06953502670747629, 'max_depth': 2, 'n_estimators': 308, 'subsample': 0.9564381611532503, 'colsample_bytree': 0.7438873849628405, 'reg_lambda': 0.03157333727159384, 'reg_alpha': 0.41383303615548883, 'min_child_weight': 3}. Best is trial 120 with value: 0.5692307692307692.\n",
      "[I 2025-09-17 17:04:06,870] Trial 166 finished with value: 0.556390977443609 and parameters: {'learning_rate': 0.06027987082039056, 'max_depth': 2, 'n_estimators': 318, 'subsample': 0.9694779327611028, 'colsample_bytree': 0.7850953814816397, 'reg_lambda': 1.372129476393171, 'reg_alpha': 0.47811246868360474, 'min_child_weight': 4}. Best is trial 120 with value: 0.5692307692307692.\n",
      "[I 2025-09-17 17:04:07,716] Trial 167 finished with value: 0.5396825396825397 and parameters: {'learning_rate': 0.08513683097812186, 'max_depth': 3, 'n_estimators': 284, 'subsample': 0.9710614976369658, 'colsample_bytree': 0.7845170079612193, 'reg_lambda': 1.282177269617463, 'reg_alpha': 0.33766260222450195, 'min_child_weight': 4}. Best is trial 120 with value: 0.5692307692307692.\n",
      "[I 2025-09-17 17:04:08,261] Trial 168 finished with value: 0.46511627906976744 and parameters: {'learning_rate': 0.06059872056771305, 'max_depth': 3, 'n_estimators': 330, 'subsample': 0.9664729244196407, 'colsample_bytree': 0.8058162184352057, 'reg_lambda': 1.40357714112825, 'reg_alpha': 0.4897083999410156, 'min_child_weight': 4}. Best is trial 120 with value: 0.5692307692307692.\n",
      "[I 2025-09-17 17:04:08,976] Trial 169 finished with value: 0.49612403100775193 and parameters: {'learning_rate': 0.108492847619625, 'max_depth': 2, 'n_estimators': 292, 'subsample': 0.9808121815203341, 'colsample_bytree': 0.7749926424112948, 'reg_lambda': 1.0465040875170515, 'reg_alpha': 0.37272098497976236, 'min_child_weight': 4}. Best is trial 120 with value: 0.5692307692307692.\n",
      "[I 2025-09-17 17:04:10,588] Trial 170 finished with value: 0.49612403100775193 and parameters: {'learning_rate': 0.06739227544783769, 'max_depth': 4, 'n_estimators': 319, 'subsample': 0.9935775657621926, 'colsample_bytree': 0.8514775007811101, 'reg_lambda': 0.5783991062779662, 'reg_alpha': 0.610623000887879, 'min_child_weight': 4}. Best is trial 120 with value: 0.5692307692307692.\n",
      "[I 2025-09-17 17:04:11,085] Trial 171 finished with value: 0.5373134328358209 and parameters: {'learning_rate': 0.05707653780089521, 'max_depth': 2, 'n_estimators': 190, 'subsample': 0.9556343220238738, 'colsample_bytree': 0.7894988399844419, 'reg_lambda': 0.1658449594221948, 'reg_alpha': 0.5285169331663814, 'min_child_weight': 5}. Best is trial 120 with value: 0.5692307692307692.\n",
      "[I 2025-09-17 17:04:11,887] Trial 172 finished with value: 0.5263157894736842 and parameters: {'learning_rate': 0.05397242378633623, 'max_depth': 2, 'n_estimators': 305, 'subsample': 0.9456818037146942, 'colsample_bytree': 0.7638990294038884, 'reg_lambda': 0.3925166470598175, 'reg_alpha': 0.4686963093030442, 'min_child_weight': 8}. Best is trial 120 with value: 0.5692307692307692.\n",
      "[I 2025-09-17 17:04:12,502] Trial 173 finished with value: 0.5223880597014925 and parameters: {'learning_rate': 0.07543925940064306, 'max_depth': 2, 'n_estimators': 178, 'subsample': 0.964239674195991, 'colsample_bytree': 0.8190857822474937, 'reg_lambda': 0.44697538197585296, 'reg_alpha': 0.5707080679396239, 'min_child_weight': 7}. Best is trial 120 with value: 0.5692307692307692.\n",
      "[I 2025-09-17 17:04:12,820] Trial 174 finished with value: 0.4375 and parameters: {'learning_rate': 0.06455878080183479, 'max_depth': 3, 'n_estimators': 241, 'subsample': 0.9521404635441594, 'colsample_bytree': 0.9888537328381926, 'reg_lambda': 1.3530219405311807, 'reg_alpha': 1.2140952680578498, 'min_child_weight': 10}. Best is trial 120 with value: 0.5692307692307692.\n",
      "[I 2025-09-17 17:04:13,310] Trial 175 finished with value: 0.5038167938931297 and parameters: {'learning_rate': 0.051649682095363615, 'max_depth': 2, 'n_estimators': 201, 'subsample': 0.9738087947193027, 'colsample_bytree': 0.8311334816242478, 'reg_lambda': 0.3350648862136365, 'reg_alpha': 0.6455665603987022, 'min_child_weight': 6}. Best is trial 120 with value: 0.5692307692307692.\n",
      "[I 2025-09-17 17:04:14,219] Trial 176 finished with value: 0.5396825396825397 and parameters: {'learning_rate': 0.04775547359528886, 'max_depth': 3, 'n_estimators': 315, 'subsample': 0.7378448743205983, 'colsample_bytree': 0.7379787450644794, 'reg_lambda': 1.4493578909896716, 'reg_alpha': 0.426849945692, 'min_child_weight': 3}. Best is trial 120 with value: 0.5692307692307692.\n",
      "[I 2025-09-17 17:04:14,888] Trial 177 finished with value: 0.5511811023622047 and parameters: {'learning_rate': 0.060007517828573276, 'max_depth': 3, 'n_estimators': 212, 'subsample': 0.8033124601314043, 'colsample_bytree': 0.8057741647367376, 'reg_lambda': 0.08575342416672149, 'reg_alpha': 0.753572792801395, 'min_child_weight': 4}. Best is trial 120 with value: 0.5692307692307692.\n",
      "[I 2025-09-17 17:04:15,476] Trial 178 finished with value: 0.5441176470588235 and parameters: {'learning_rate': 0.07938182250495979, 'max_depth': 3, 'n_estimators': 160, 'subsample': 0.9381415014859148, 'colsample_bytree': 0.8688738381883483, 'reg_lambda': 0.519864288727379, 'reg_alpha': 1.0135602180121726, 'min_child_weight': 5}. Best is trial 120 with value: 0.5692307692307692.\n",
      "[I 2025-09-17 17:04:15,945] Trial 179 finished with value: 0.5671641791044776 and parameters: {'learning_rate': 0.07176653074845456, 'max_depth': 2, 'n_estimators': 183, 'subsample': 0.9857245956043504, 'colsample_bytree': 0.7911145252310435, 'reg_lambda': 1.1379967364402122, 'reg_alpha': 0.5226931937903413, 'min_child_weight': 7}. Best is trial 120 with value: 0.5692307692307692.\n",
      "[I 2025-09-17 17:04:16,339] Trial 180 finished with value: 0.5333333333333333 and parameters: {'learning_rate': 0.07260562646174733, 'max_depth': 2, 'n_estimators': 175, 'subsample': 0.9883721984614855, 'colsample_bytree': 0.7960911828885541, 'reg_lambda': 1.2408218225311072, 'reg_alpha': 0.5146114662843269, 'min_child_weight': 7}. Best is trial 120 with value: 0.5692307692307692.\n",
      "[I 2025-09-17 17:04:16,864] Trial 181 finished with value: 0.5401459854014599 and parameters: {'learning_rate': 0.06961691682462631, 'max_depth': 2, 'n_estimators': 185, 'subsample': 0.9818479481686826, 'colsample_bytree': 0.782960354847109, 'reg_lambda': 1.1171449335348567, 'reg_alpha': 0.4683320970324711, 'min_child_weight': 7}. Best is trial 120 with value: 0.5692307692307692.\n",
      "[I 2025-09-17 17:04:17,891] Trial 182 finished with value: 0.49612403100775193 and parameters: {'learning_rate': 0.08345297313230743, 'max_depth': 7, 'n_estimators': 194, 'subsample': 0.9649031887604432, 'colsample_bytree': 0.8414758906972784, 'reg_lambda': 1.154668245710716, 'reg_alpha': 0.5835910254261752, 'min_child_weight': 7}. Best is trial 120 with value: 0.5692307692307692.\n",
      "[I 2025-09-17 17:04:18,333] Trial 183 finished with value: 0.5038167938931297 and parameters: {'learning_rate': 0.07447063876348489, 'max_depth': 2, 'n_estimators': 206, 'subsample': 0.9575399890284727, 'colsample_bytree': 0.8135244823360727, 'reg_lambda': 1.2518527098681895, 'reg_alpha': 0.54962743805371, 'min_child_weight': 6}. Best is trial 120 with value: 0.5692307692307692.\n",
      "[I 2025-09-17 17:04:18,794] Trial 184 finished with value: 0.5373134328358209 and parameters: {'learning_rate': 0.09264127720047369, 'max_depth': 2, 'n_estimators': 167, 'subsample': 0.9984301642150937, 'colsample_bytree': 0.7567293533911568, 'reg_lambda': 1.1673931859552302, 'reg_alpha': 0.24365242026462614, 'min_child_weight': 9}. Best is trial 120 with value: 0.5692307692307692.\n",
      "[I 2025-09-17 17:04:19,692] Trial 185 finished with value: 0.515625 and parameters: {'learning_rate': 0.06286528004872284, 'max_depth': 3, 'n_estimators': 281, 'subsample': 0.9763845346625627, 'colsample_bytree': 0.7719479583925055, 'reg_lambda': 0.2580357196480652, 'reg_alpha': 0.5002521275647153, 'min_child_weight': 7}. Best is trial 120 with value: 0.5692307692307692.\n",
      "[I 2025-09-17 17:04:20,071] Trial 186 finished with value: 0.48175182481751827 and parameters: {'learning_rate': 0.015565614196533255, 'max_depth': 2, 'n_estimators': 185, 'subsample': 0.9689590784403331, 'colsample_bytree': 0.8588634001978351, 'reg_lambda': 0.2990812069950405, 'reg_alpha': 0.6272931027529433, 'min_child_weight': 8}. Best is trial 120 with value: 0.5692307692307692.\n",
      "[I 2025-09-17 17:04:20,721] Trial 187 finished with value: 0.5271317829457365 and parameters: {'learning_rate': 0.07877670652323232, 'max_depth': 3, 'n_estimators': 217, 'subsample': 0.9865087040968609, 'colsample_bytree': 0.7906552230012649, 'reg_lambda': 0.9810786471455034, 'reg_alpha': 0.4236654317620019, 'min_child_weight': 6}. Best is trial 120 with value: 0.5692307692307692.\n",
      "[I 2025-09-17 17:04:21,166] Trial 188 finished with value: 0.5263157894736842 and parameters: {'learning_rate': 0.06596714532872149, 'max_depth': 2, 'n_estimators': 198, 'subsample': 0.9438793935337385, 'colsample_bytree': 0.8756369611438625, 'reg_lambda': 0.475121532222414, 'reg_alpha': 0.6634346032437306, 'min_child_weight': 7}. Best is trial 120 with value: 0.5692307692307692.\n",
      "[I 2025-09-17 17:04:22,517] Trial 189 finished with value: 0.5039370078740157 and parameters: {'learning_rate': 0.09995360157940657, 'max_depth': 9, 'n_estimators': 154, 'subsample': 0.9230923934277907, 'colsample_bytree': 0.8264569786758982, 'reg_lambda': 0.37691510414136475, 'reg_alpha': 0.3810770333897166, 'min_child_weight': 4}. Best is trial 120 with value: 0.5692307692307692.\n",
      "[I 2025-09-17 17:04:23,341] Trial 190 finished with value: 0.5426356589147286 and parameters: {'learning_rate': 0.05647940692343902, 'max_depth': 3, 'n_estimators': 298, 'subsample': 0.9571671521836844, 'colsample_bytree': 0.7790126090065213, 'reg_lambda': 0.7667310130219942, 'reg_alpha': 0.00013384722362558277, 'min_child_weight': 6}. Best is trial 120 with value: 0.5692307692307692.\n",
      "[I 2025-09-17 17:04:23,996] Trial 191 finished with value: 0.5606060606060606 and parameters: {'learning_rate': 0.1117889837546324, 'max_depth': 2, 'n_estimators': 324, 'subsample': 0.8407439417633558, 'colsample_bytree': 0.800196499696819, 'reg_lambda': 0.1899310236136303, 'reg_alpha': 0.5122499814945456, 'min_child_weight': 4}. Best is trial 120 with value: 0.5692307692307692.\n",
      "[I 2025-09-17 17:04:24,631] Trial 192 finished with value: 0.5271317829457365 and parameters: {'learning_rate': 0.12168961739235869, 'max_depth': 2, 'n_estimators': 310, 'subsample': 0.8583545256612995, 'colsample_bytree': 0.8002220863616683, 'reg_lambda': 0.1887408811510459, 'reg_alpha': 0.5271631066413083, 'min_child_weight': 4}. Best is trial 120 with value: 0.5692307692307692.\n",
      "[I 2025-09-17 17:04:25,254] Trial 193 finished with value: 0.5303030303030303 and parameters: {'learning_rate': 0.08886912766590108, 'max_depth': 2, 'n_estimators': 326, 'subsample': 0.9483810030785919, 'colsample_bytree': 0.8132421597139609, 'reg_lambda': 0.10531462163865077, 'reg_alpha': 0.4669626065957037, 'min_child_weight': 7}. Best is trial 120 with value: 0.5692307692307692.\n",
      "[I 2025-09-17 17:04:25,997] Trial 194 finished with value: 0.5303030303030303 and parameters: {'learning_rate': 0.10996536280022305, 'max_depth': 3, 'n_estimators': 231, 'subsample': 0.8251699201597199, 'colsample_bytree': 0.7649668738190858, 'reg_lambda': 0.22592379832818915, 'reg_alpha': 0.5778650811011795, 'min_child_weight': 4}. Best is trial 120 with value: 0.5692307692307692.\n",
      "[I 2025-09-17 17:04:33,001] Trial 195 finished with value: 0.5038167938931297 and parameters: {'learning_rate': 0.11275376402494174, 'max_depth': 2, 'n_estimators': 355, 'subsample': 0.832364190482761, 'colsample_bytree': 0.6234881596384375, 'reg_lambda': 0.9257854064193249, 'reg_alpha': 0.7166345061135788, 'min_child_weight': 4}. Best is trial 120 with value: 0.5692307692307692.\n",
      "[I 2025-09-17 17:04:28,440] Trial 196 finished with value: 0.46511627906976744 and parameters: {'learning_rate': 0.06896579925513008, 'max_depth': 3, 'n_estimators': 318, 'subsample': 0.8718171341941565, 'colsample_bytree': 0.7876730560765206, 'reg_lambda': 0.8739508356839981, 'reg_alpha': 0.48224040931820605, 'min_child_weight': 4}. Best is trial 120 with value: 0.5692307692307692.\n",
      "[I 2025-09-17 17:04:29,159] Trial 197 finished with value: 0.5147058823529411 and parameters: {'learning_rate': 0.12597315256481711, 'max_depth': 2, 'n_estimators': 343, 'subsample': 0.962983174517571, 'colsample_bytree': 0.7985804228668929, 'reg_lambda': 0.14355728521230027, 'reg_alpha': 0.602837430341636, 'min_child_weight': 8}. Best is trial 120 with value: 0.5692307692307692.\n",
      "[I 2025-09-17 17:04:30,279] Trial 198 finished with value: 0.5303030303030303 and parameters: {'learning_rate': 0.10442033156222823, 'max_depth': 3, 'n_estimators': 288, 'subsample': 0.976068954572511, 'colsample_bytree': 0.8873336073153959, 'reg_lambda': 0.28074792715877983, 'reg_alpha': 0.9677567263323439, 'min_child_weight': 6}. Best is trial 120 with value: 0.5692307692307692.\n",
      "[I 2025-09-17 17:04:33,047] Trial 199 finished with value: 0.49612403100775193 and parameters: {'learning_rate': 0.09623321866278724, 'max_depth': 4, 'n_estimators': 302, 'subsample': 0.9693312489660803, 'colsample_bytree': 0.8369159514147015, 'reg_lambda': 0.4181477272650435, 'reg_alpha': 0.5442512096291419, 'min_child_weight': 7}. Best is trial 120 with value: 0.5692307692307692.\n"
     ]
    },
    {
     "name": "stdout",
     "output_type": "stream",
     "text": [
      "Optuna duró 213.37s en 200 trials\n"
     ]
    }
   ],
   "source": [
    "# Crear estudio y medir tiempo de Optuna\n",
    "t0 = time.perf_counter()\n",
    "\n",
    "set_seeds(SEED)\n",
    "study = optuna.create_study(\n",
    "    direction=\"maximize\",\n",
    "    sampler=optuna.samplers.TPESampler(seed=SEED)\n",
    ")\n",
    "study.optimize(objective, n_trials=200)\n",
    "opt_duration_sec = time.perf_counter() - t0\n",
    "n_trials_run = len(study.trials)\n",
    "\n",
    "print(f\"Optuna duró {opt_duration_sec:.2f}s en {n_trials_run} trials\")"
   ]
  },
  {
   "cell_type": "code",
   "execution_count": 9,
   "id": "bdc4a721",
   "metadata": {},
   "outputs": [
    {
     "data": {
      "application/vnd.plotly.v1+json": {
       "config": {
        "plotlyServerURL": "https://plot.ly"
       },
       "data": [
        {
         "mode": "markers",
         "name": "Objective Value",
         "type": "scatter",
         "x": [
          0,
          1,
          2,
          3,
          4,
          5,
          6,
          7,
          8,
          9,
          10,
          11,
          12,
          13,
          14,
          15,
          16,
          17,
          18,
          19,
          20,
          21,
          22,
          23,
          24,
          25,
          26,
          27,
          28,
          29,
          30,
          31,
          32,
          33,
          34,
          35,
          36,
          37,
          38,
          39,
          40,
          41,
          42,
          43,
          44,
          45,
          46,
          47,
          48,
          49,
          50,
          51,
          52,
          53,
          54,
          55,
          56,
          57,
          58,
          59,
          60,
          61,
          62,
          63,
          64,
          65,
          66,
          67,
          68,
          69,
          70,
          71,
          72,
          73,
          74,
          75,
          76,
          77,
          78,
          79,
          80,
          81,
          82,
          83,
          84,
          85,
          86,
          87,
          88,
          89,
          90,
          91,
          92,
          93,
          94,
          95,
          96,
          97,
          98,
          99,
          100,
          101,
          102,
          103,
          104,
          105,
          106,
          107,
          108,
          109,
          110,
          111,
          112,
          113,
          114,
          115,
          116,
          117,
          118,
          119,
          120,
          121,
          122,
          123,
          124,
          125,
          126,
          127,
          128,
          129,
          130,
          131,
          132,
          133,
          134,
          135,
          136,
          137,
          138,
          139,
          140,
          141,
          142,
          143,
          144,
          145,
          146,
          147,
          148,
          149,
          150,
          151,
          152,
          153,
          154,
          155,
          156,
          157,
          158,
          159,
          160,
          161,
          162,
          163,
          164,
          165,
          166,
          167,
          168,
          169,
          170,
          171,
          172,
          173,
          174,
          175,
          176,
          177,
          178,
          179,
          180,
          181,
          182,
          183,
          184,
          185,
          186,
          187,
          188,
          189,
          190,
          191,
          192,
          193,
          194,
          195,
          196,
          197,
          198,
          199
         ],
         "y": [
          0.46511627906976744,
          0.5147058823529411,
          0.556390977443609,
          0.47692307692307695,
          0.53125,
          0.43333333333333335,
          0.45528455284552843,
          0.5,
          0.47244094488188976,
          0.4628099173553719,
          0.46511627906976744,
          0.45528455284552843,
          0.47761194029850745,
          0.5223880597014925,
          0.4566929133858268,
          0.5271317829457365,
          0.4838709677419355,
          0.49635036496350365,
          0.43333333333333335,
          0.46511627906976744,
          0.464,
          0.484375,
          0.5384615384615384,
          0.46511627906976744,
          0.4732824427480916,
          0.49230769230769234,
          0.5112781954887218,
          0.5151515151515151,
          0.4881889763779528,
          0.464,
          0.4715447154471545,
          0.5,
          0.5441176470588235,
          0.5373134328358209,
          0.5151515151515151,
          0.4740740740740741,
          0.5671641791044776,
          0.48854961832061067,
          0.4375,
          0.48,
          0.5333333333333333,
          0.5454545454545454,
          0.5606060606060606,
          0.5230769230769231,
          0.45112781954887216,
          0.5606060606060606,
          0.5190839694656488,
          0.4806201550387597,
          0.5522388059701493,
          0.5426356589147286,
          0.48175182481751827,
          0.5074626865671642,
          0.5196850393700787,
          0.5151515151515151,
          0.45161290322580644,
          0.5343511450381679,
          0.48484848484848486,
          0.5074626865671642,
          0.47619047619047616,
          0.464,
          0.48,
          0.5230769230769231,
          0.5333333333333333,
          0.5263157894736842,
          0.453125,
          0.5481481481481482,
          0.5522388059701493,
          0.5294117647058824,
          0.5373134328358209,
          0.484375,
          0.4852941176470588,
          0.5343511450381679,
          0.5230769230769231,
          0.5343511450381679,
          0.48484848484848486,
          0.4696969696969697,
          0.5190839694656488,
          0.48,
          0.5303030303030303,
          0.5606060606060606,
          0.4732824427480916,
          0.5271317829457365,
          0.4603174603174603,
          0.48854961832061067,
          0.4888888888888889,
          0.49230769230769234,
          0.5343511450381679,
          0.49624060150375937,
          0.464,
          0.49624060150375937,
          0.5223880597014925,
          0.5037037037037037,
          0.5401459854014599,
          0.5190839694656488,
          0.5190839694656488,
          0.49230769230769234,
          0.5,
          0.556390977443609,
          0.5581395348837209,
          0.5538461538461539,
          0.5648854961832062,
          0.5606060606060606,
          0.4566929133858268,
          0.5522388059701493,
          0.528,
          0.49612403100775193,
          0.43548387096774194,
          0.5538461538461539,
          0.47619047619047616,
          0.512,
          0.5606060606060606,
          0.5671641791044776,
          0.5038167938931297,
          0.45161290322580644,
          0.47619047619047616,
          0.5,
          0.4132231404958678,
          0.5343511450381679,
          0.5354330708661418,
          0.43548387096774194,
          0.5692307692307692,
          0.5196850393700787,
          0.464,
          0.5271317829457365,
          0.5522388059701493,
          0.53125,
          0.5038167938931297,
          0.5454545454545454,
          0.5079365079365079,
          0.5263157894736842,
          0.5116279069767442,
          0.5692307692307692,
          0.5271317829457365,
          0.5116279069767442,
          0.5,
          0.5116279069767442,
          0.5230769230769231,
          0.5074626865671642,
          0.4444444444444444,
          0.5038167938931297,
          0.49612403100775193,
          0.5271317829457365,
          0.5396825396825397,
          0.5454545454545454,
          0.5263157894736842,
          0.49230769230769234,
          0.5413533834586466,
          0.5413533834586466,
          0.5238095238095238,
          0.49612403100775193,
          0.5223880597014925,
          0.5263157894736842,
          0.5,
          0.5263157894736842,
          0.5079365079365079,
          0.5343511450381679,
          0.5426356589147286,
          0.5223880597014925,
          0.5074626865671642,
          0.48175182481751827,
          0.5230769230769231,
          0.5671641791044776,
          0.549618320610687,
          0.5303030303030303,
          0.4715447154471545,
          0.5426356589147286,
          0.556390977443609,
          0.5396825396825397,
          0.46511627906976744,
          0.49612403100775193,
          0.49612403100775193,
          0.5373134328358209,
          0.5263157894736842,
          0.5223880597014925,
          0.4375,
          0.5038167938931297,
          0.5396825396825397,
          0.5511811023622047,
          0.5441176470588235,
          0.5671641791044776,
          0.5333333333333333,
          0.5401459854014599,
          0.49612403100775193,
          0.5038167938931297,
          0.5373134328358209,
          0.515625,
          0.48175182481751827,
          0.5271317829457365,
          0.5263157894736842,
          0.5039370078740157,
          0.5426356589147286,
          0.5606060606060606,
          0.5271317829457365,
          0.5303030303030303,
          0.5303030303030303,
          0.5038167938931297,
          0.46511627906976744,
          0.5147058823529411,
          0.5303030303030303,
          0.49612403100775193
         ]
        },
        {
         "mode": "lines",
         "name": "Best Value",
         "type": "scatter",
         "x": [
          0,
          1,
          2,
          3,
          4,
          5,
          6,
          7,
          8,
          9,
          10,
          11,
          12,
          13,
          14,
          15,
          16,
          17,
          18,
          19,
          20,
          21,
          22,
          23,
          24,
          25,
          26,
          27,
          28,
          29,
          30,
          31,
          32,
          33,
          34,
          35,
          36,
          37,
          38,
          39,
          40,
          41,
          42,
          43,
          44,
          45,
          46,
          47,
          48,
          49,
          50,
          51,
          52,
          53,
          54,
          55,
          56,
          57,
          58,
          59,
          60,
          61,
          62,
          63,
          64,
          65,
          66,
          67,
          68,
          69,
          70,
          71,
          72,
          73,
          74,
          75,
          76,
          77,
          78,
          79,
          80,
          81,
          82,
          83,
          84,
          85,
          86,
          87,
          88,
          89,
          90,
          91,
          92,
          93,
          94,
          95,
          96,
          97,
          98,
          99,
          100,
          101,
          102,
          103,
          104,
          105,
          106,
          107,
          108,
          109,
          110,
          111,
          112,
          113,
          114,
          115,
          116,
          117,
          118,
          119,
          120,
          121,
          122,
          123,
          124,
          125,
          126,
          127,
          128,
          129,
          130,
          131,
          132,
          133,
          134,
          135,
          136,
          137,
          138,
          139,
          140,
          141,
          142,
          143,
          144,
          145,
          146,
          147,
          148,
          149,
          150,
          151,
          152,
          153,
          154,
          155,
          156,
          157,
          158,
          159,
          160,
          161,
          162,
          163,
          164,
          165,
          166,
          167,
          168,
          169,
          170,
          171,
          172,
          173,
          174,
          175,
          176,
          177,
          178,
          179,
          180,
          181,
          182,
          183,
          184,
          185,
          186,
          187,
          188,
          189,
          190,
          191,
          192,
          193,
          194,
          195,
          196,
          197,
          198,
          199
         ],
         "y": [
          0.46511627906976744,
          0.5147058823529411,
          0.556390977443609,
          0.556390977443609,
          0.556390977443609,
          0.556390977443609,
          0.556390977443609,
          0.556390977443609,
          0.556390977443609,
          0.556390977443609,
          0.556390977443609,
          0.556390977443609,
          0.556390977443609,
          0.556390977443609,
          0.556390977443609,
          0.556390977443609,
          0.556390977443609,
          0.556390977443609,
          0.556390977443609,
          0.556390977443609,
          0.556390977443609,
          0.556390977443609,
          0.556390977443609,
          0.556390977443609,
          0.556390977443609,
          0.556390977443609,
          0.556390977443609,
          0.556390977443609,
          0.556390977443609,
          0.556390977443609,
          0.556390977443609,
          0.556390977443609,
          0.556390977443609,
          0.556390977443609,
          0.556390977443609,
          0.556390977443609,
          0.5671641791044776,
          0.5671641791044776,
          0.5671641791044776,
          0.5671641791044776,
          0.5671641791044776,
          0.5671641791044776,
          0.5671641791044776,
          0.5671641791044776,
          0.5671641791044776,
          0.5671641791044776,
          0.5671641791044776,
          0.5671641791044776,
          0.5671641791044776,
          0.5671641791044776,
          0.5671641791044776,
          0.5671641791044776,
          0.5671641791044776,
          0.5671641791044776,
          0.5671641791044776,
          0.5671641791044776,
          0.5671641791044776,
          0.5671641791044776,
          0.5671641791044776,
          0.5671641791044776,
          0.5671641791044776,
          0.5671641791044776,
          0.5671641791044776,
          0.5671641791044776,
          0.5671641791044776,
          0.5671641791044776,
          0.5671641791044776,
          0.5671641791044776,
          0.5671641791044776,
          0.5671641791044776,
          0.5671641791044776,
          0.5671641791044776,
          0.5671641791044776,
          0.5671641791044776,
          0.5671641791044776,
          0.5671641791044776,
          0.5671641791044776,
          0.5671641791044776,
          0.5671641791044776,
          0.5671641791044776,
          0.5671641791044776,
          0.5671641791044776,
          0.5671641791044776,
          0.5671641791044776,
          0.5671641791044776,
          0.5671641791044776,
          0.5671641791044776,
          0.5671641791044776,
          0.5671641791044776,
          0.5671641791044776,
          0.5671641791044776,
          0.5671641791044776,
          0.5671641791044776,
          0.5671641791044776,
          0.5671641791044776,
          0.5671641791044776,
          0.5671641791044776,
          0.5671641791044776,
          0.5671641791044776,
          0.5671641791044776,
          0.5671641791044776,
          0.5671641791044776,
          0.5671641791044776,
          0.5671641791044776,
          0.5671641791044776,
          0.5671641791044776,
          0.5671641791044776,
          0.5671641791044776,
          0.5671641791044776,
          0.5671641791044776,
          0.5671641791044776,
          0.5671641791044776,
          0.5671641791044776,
          0.5671641791044776,
          0.5671641791044776,
          0.5671641791044776,
          0.5671641791044776,
          0.5671641791044776,
          0.5671641791044776,
          0.5671641791044776,
          0.5692307692307692,
          0.5692307692307692,
          0.5692307692307692,
          0.5692307692307692,
          0.5692307692307692,
          0.5692307692307692,
          0.5692307692307692,
          0.5692307692307692,
          0.5692307692307692,
          0.5692307692307692,
          0.5692307692307692,
          0.5692307692307692,
          0.5692307692307692,
          0.5692307692307692,
          0.5692307692307692,
          0.5692307692307692,
          0.5692307692307692,
          0.5692307692307692,
          0.5692307692307692,
          0.5692307692307692,
          0.5692307692307692,
          0.5692307692307692,
          0.5692307692307692,
          0.5692307692307692,
          0.5692307692307692,
          0.5692307692307692,
          0.5692307692307692,
          0.5692307692307692,
          0.5692307692307692,
          0.5692307692307692,
          0.5692307692307692,
          0.5692307692307692,
          0.5692307692307692,
          0.5692307692307692,
          0.5692307692307692,
          0.5692307692307692,
          0.5692307692307692,
          0.5692307692307692,
          0.5692307692307692,
          0.5692307692307692,
          0.5692307692307692,
          0.5692307692307692,
          0.5692307692307692,
          0.5692307692307692,
          0.5692307692307692,
          0.5692307692307692,
          0.5692307692307692,
          0.5692307692307692,
          0.5692307692307692,
          0.5692307692307692,
          0.5692307692307692,
          0.5692307692307692,
          0.5692307692307692,
          0.5692307692307692,
          0.5692307692307692,
          0.5692307692307692,
          0.5692307692307692,
          0.5692307692307692,
          0.5692307692307692,
          0.5692307692307692,
          0.5692307692307692,
          0.5692307692307692,
          0.5692307692307692,
          0.5692307692307692,
          0.5692307692307692,
          0.5692307692307692,
          0.5692307692307692,
          0.5692307692307692,
          0.5692307692307692,
          0.5692307692307692,
          0.5692307692307692,
          0.5692307692307692,
          0.5692307692307692,
          0.5692307692307692,
          0.5692307692307692,
          0.5692307692307692,
          0.5692307692307692,
          0.5692307692307692,
          0.5692307692307692,
          0.5692307692307692
         ]
        },
        {
         "marker": {
          "color": "#cccccc"
         },
         "mode": "markers",
         "name": "Infeasible Trial",
         "showlegend": false,
         "type": "scatter",
         "x": [],
         "y": []
        }
       ],
       "layout": {
        "template": {
         "data": {
          "bar": [
           {
            "error_x": {
             "color": "#2a3f5f"
            },
            "error_y": {
             "color": "#2a3f5f"
            },
            "marker": {
             "line": {
              "color": "#E5ECF6",
              "width": 0.5
             },
             "pattern": {
              "fillmode": "overlay",
              "size": 10,
              "solidity": 0.2
             }
            },
            "type": "bar"
           }
          ],
          "barpolar": [
           {
            "marker": {
             "line": {
              "color": "#E5ECF6",
              "width": 0.5
             },
             "pattern": {
              "fillmode": "overlay",
              "size": 10,
              "solidity": 0.2
             }
            },
            "type": "barpolar"
           }
          ],
          "carpet": [
           {
            "aaxis": {
             "endlinecolor": "#2a3f5f",
             "gridcolor": "white",
             "linecolor": "white",
             "minorgridcolor": "white",
             "startlinecolor": "#2a3f5f"
            },
            "baxis": {
             "endlinecolor": "#2a3f5f",
             "gridcolor": "white",
             "linecolor": "white",
             "minorgridcolor": "white",
             "startlinecolor": "#2a3f5f"
            },
            "type": "carpet"
           }
          ],
          "choropleth": [
           {
            "colorbar": {
             "outlinewidth": 0,
             "ticks": ""
            },
            "type": "choropleth"
           }
          ],
          "contour": [
           {
            "colorbar": {
             "outlinewidth": 0,
             "ticks": ""
            },
            "colorscale": [
             [
              0,
              "#0d0887"
             ],
             [
              0.1111111111111111,
              "#46039f"
             ],
             [
              0.2222222222222222,
              "#7201a8"
             ],
             [
              0.3333333333333333,
              "#9c179e"
             ],
             [
              0.4444444444444444,
              "#bd3786"
             ],
             [
              0.5555555555555556,
              "#d8576b"
             ],
             [
              0.6666666666666666,
              "#ed7953"
             ],
             [
              0.7777777777777778,
              "#fb9f3a"
             ],
             [
              0.8888888888888888,
              "#fdca26"
             ],
             [
              1,
              "#f0f921"
             ]
            ],
            "type": "contour"
           }
          ],
          "contourcarpet": [
           {
            "colorbar": {
             "outlinewidth": 0,
             "ticks": ""
            },
            "type": "contourcarpet"
           }
          ],
          "heatmap": [
           {
            "colorbar": {
             "outlinewidth": 0,
             "ticks": ""
            },
            "colorscale": [
             [
              0,
              "#0d0887"
             ],
             [
              0.1111111111111111,
              "#46039f"
             ],
             [
              0.2222222222222222,
              "#7201a8"
             ],
             [
              0.3333333333333333,
              "#9c179e"
             ],
             [
              0.4444444444444444,
              "#bd3786"
             ],
             [
              0.5555555555555556,
              "#d8576b"
             ],
             [
              0.6666666666666666,
              "#ed7953"
             ],
             [
              0.7777777777777778,
              "#fb9f3a"
             ],
             [
              0.8888888888888888,
              "#fdca26"
             ],
             [
              1,
              "#f0f921"
             ]
            ],
            "type": "heatmap"
           }
          ],
          "histogram": [
           {
            "marker": {
             "pattern": {
              "fillmode": "overlay",
              "size": 10,
              "solidity": 0.2
             }
            },
            "type": "histogram"
           }
          ],
          "histogram2d": [
           {
            "colorbar": {
             "outlinewidth": 0,
             "ticks": ""
            },
            "colorscale": [
             [
              0,
              "#0d0887"
             ],
             [
              0.1111111111111111,
              "#46039f"
             ],
             [
              0.2222222222222222,
              "#7201a8"
             ],
             [
              0.3333333333333333,
              "#9c179e"
             ],
             [
              0.4444444444444444,
              "#bd3786"
             ],
             [
              0.5555555555555556,
              "#d8576b"
             ],
             [
              0.6666666666666666,
              "#ed7953"
             ],
             [
              0.7777777777777778,
              "#fb9f3a"
             ],
             [
              0.8888888888888888,
              "#fdca26"
             ],
             [
              1,
              "#f0f921"
             ]
            ],
            "type": "histogram2d"
           }
          ],
          "histogram2dcontour": [
           {
            "colorbar": {
             "outlinewidth": 0,
             "ticks": ""
            },
            "colorscale": [
             [
              0,
              "#0d0887"
             ],
             [
              0.1111111111111111,
              "#46039f"
             ],
             [
              0.2222222222222222,
              "#7201a8"
             ],
             [
              0.3333333333333333,
              "#9c179e"
             ],
             [
              0.4444444444444444,
              "#bd3786"
             ],
             [
              0.5555555555555556,
              "#d8576b"
             ],
             [
              0.6666666666666666,
              "#ed7953"
             ],
             [
              0.7777777777777778,
              "#fb9f3a"
             ],
             [
              0.8888888888888888,
              "#fdca26"
             ],
             [
              1,
              "#f0f921"
             ]
            ],
            "type": "histogram2dcontour"
           }
          ],
          "mesh3d": [
           {
            "colorbar": {
             "outlinewidth": 0,
             "ticks": ""
            },
            "type": "mesh3d"
           }
          ],
          "parcoords": [
           {
            "line": {
             "colorbar": {
              "outlinewidth": 0,
              "ticks": ""
             }
            },
            "type": "parcoords"
           }
          ],
          "pie": [
           {
            "automargin": true,
            "type": "pie"
           }
          ],
          "scatter": [
           {
            "fillpattern": {
             "fillmode": "overlay",
             "size": 10,
             "solidity": 0.2
            },
            "type": "scatter"
           }
          ],
          "scatter3d": [
           {
            "line": {
             "colorbar": {
              "outlinewidth": 0,
              "ticks": ""
             }
            },
            "marker": {
             "colorbar": {
              "outlinewidth": 0,
              "ticks": ""
             }
            },
            "type": "scatter3d"
           }
          ],
          "scattercarpet": [
           {
            "marker": {
             "colorbar": {
              "outlinewidth": 0,
              "ticks": ""
             }
            },
            "type": "scattercarpet"
           }
          ],
          "scattergeo": [
           {
            "marker": {
             "colorbar": {
              "outlinewidth": 0,
              "ticks": ""
             }
            },
            "type": "scattergeo"
           }
          ],
          "scattergl": [
           {
            "marker": {
             "colorbar": {
              "outlinewidth": 0,
              "ticks": ""
             }
            },
            "type": "scattergl"
           }
          ],
          "scattermap": [
           {
            "marker": {
             "colorbar": {
              "outlinewidth": 0,
              "ticks": ""
             }
            },
            "type": "scattermap"
           }
          ],
          "scattermapbox": [
           {
            "marker": {
             "colorbar": {
              "outlinewidth": 0,
              "ticks": ""
             }
            },
            "type": "scattermapbox"
           }
          ],
          "scatterpolar": [
           {
            "marker": {
             "colorbar": {
              "outlinewidth": 0,
              "ticks": ""
             }
            },
            "type": "scatterpolar"
           }
          ],
          "scatterpolargl": [
           {
            "marker": {
             "colorbar": {
              "outlinewidth": 0,
              "ticks": ""
             }
            },
            "type": "scatterpolargl"
           }
          ],
          "scatterternary": [
           {
            "marker": {
             "colorbar": {
              "outlinewidth": 0,
              "ticks": ""
             }
            },
            "type": "scatterternary"
           }
          ],
          "surface": [
           {
            "colorbar": {
             "outlinewidth": 0,
             "ticks": ""
            },
            "colorscale": [
             [
              0,
              "#0d0887"
             ],
             [
              0.1111111111111111,
              "#46039f"
             ],
             [
              0.2222222222222222,
              "#7201a8"
             ],
             [
              0.3333333333333333,
              "#9c179e"
             ],
             [
              0.4444444444444444,
              "#bd3786"
             ],
             [
              0.5555555555555556,
              "#d8576b"
             ],
             [
              0.6666666666666666,
              "#ed7953"
             ],
             [
              0.7777777777777778,
              "#fb9f3a"
             ],
             [
              0.8888888888888888,
              "#fdca26"
             ],
             [
              1,
              "#f0f921"
             ]
            ],
            "type": "surface"
           }
          ],
          "table": [
           {
            "cells": {
             "fill": {
              "color": "#EBF0F8"
             },
             "line": {
              "color": "white"
             }
            },
            "header": {
             "fill": {
              "color": "#C8D4E3"
             },
             "line": {
              "color": "white"
             }
            },
            "type": "table"
           }
          ]
         },
         "layout": {
          "annotationdefaults": {
           "arrowcolor": "#2a3f5f",
           "arrowhead": 0,
           "arrowwidth": 1
          },
          "autotypenumbers": "strict",
          "coloraxis": {
           "colorbar": {
            "outlinewidth": 0,
            "ticks": ""
           }
          },
          "colorscale": {
           "diverging": [
            [
             0,
             "#8e0152"
            ],
            [
             0.1,
             "#c51b7d"
            ],
            [
             0.2,
             "#de77ae"
            ],
            [
             0.3,
             "#f1b6da"
            ],
            [
             0.4,
             "#fde0ef"
            ],
            [
             0.5,
             "#f7f7f7"
            ],
            [
             0.6,
             "#e6f5d0"
            ],
            [
             0.7,
             "#b8e186"
            ],
            [
             0.8,
             "#7fbc41"
            ],
            [
             0.9,
             "#4d9221"
            ],
            [
             1,
             "#276419"
            ]
           ],
           "sequential": [
            [
             0,
             "#0d0887"
            ],
            [
             0.1111111111111111,
             "#46039f"
            ],
            [
             0.2222222222222222,
             "#7201a8"
            ],
            [
             0.3333333333333333,
             "#9c179e"
            ],
            [
             0.4444444444444444,
             "#bd3786"
            ],
            [
             0.5555555555555556,
             "#d8576b"
            ],
            [
             0.6666666666666666,
             "#ed7953"
            ],
            [
             0.7777777777777778,
             "#fb9f3a"
            ],
            [
             0.8888888888888888,
             "#fdca26"
            ],
            [
             1,
             "#f0f921"
            ]
           ],
           "sequentialminus": [
            [
             0,
             "#0d0887"
            ],
            [
             0.1111111111111111,
             "#46039f"
            ],
            [
             0.2222222222222222,
             "#7201a8"
            ],
            [
             0.3333333333333333,
             "#9c179e"
            ],
            [
             0.4444444444444444,
             "#bd3786"
            ],
            [
             0.5555555555555556,
             "#d8576b"
            ],
            [
             0.6666666666666666,
             "#ed7953"
            ],
            [
             0.7777777777777778,
             "#fb9f3a"
            ],
            [
             0.8888888888888888,
             "#fdca26"
            ],
            [
             1,
             "#f0f921"
            ]
           ]
          },
          "colorway": [
           "#636efa",
           "#EF553B",
           "#00cc96",
           "#ab63fa",
           "#FFA15A",
           "#19d3f3",
           "#FF6692",
           "#B6E880",
           "#FF97FF",
           "#FECB52"
          ],
          "font": {
           "color": "#2a3f5f"
          },
          "geo": {
           "bgcolor": "white",
           "lakecolor": "white",
           "landcolor": "#E5ECF6",
           "showlakes": true,
           "showland": true,
           "subunitcolor": "white"
          },
          "hoverlabel": {
           "align": "left"
          },
          "hovermode": "closest",
          "mapbox": {
           "style": "light"
          },
          "paper_bgcolor": "white",
          "plot_bgcolor": "#E5ECF6",
          "polar": {
           "angularaxis": {
            "gridcolor": "white",
            "linecolor": "white",
            "ticks": ""
           },
           "bgcolor": "#E5ECF6",
           "radialaxis": {
            "gridcolor": "white",
            "linecolor": "white",
            "ticks": ""
           }
          },
          "scene": {
           "xaxis": {
            "backgroundcolor": "#E5ECF6",
            "gridcolor": "white",
            "gridwidth": 2,
            "linecolor": "white",
            "showbackground": true,
            "ticks": "",
            "zerolinecolor": "white"
           },
           "yaxis": {
            "backgroundcolor": "#E5ECF6",
            "gridcolor": "white",
            "gridwidth": 2,
            "linecolor": "white",
            "showbackground": true,
            "ticks": "",
            "zerolinecolor": "white"
           },
           "zaxis": {
            "backgroundcolor": "#E5ECF6",
            "gridcolor": "white",
            "gridwidth": 2,
            "linecolor": "white",
            "showbackground": true,
            "ticks": "",
            "zerolinecolor": "white"
           }
          },
          "shapedefaults": {
           "line": {
            "color": "#2a3f5f"
           }
          },
          "ternary": {
           "aaxis": {
            "gridcolor": "white",
            "linecolor": "white",
            "ticks": ""
           },
           "baxis": {
            "gridcolor": "white",
            "linecolor": "white",
            "ticks": ""
           },
           "bgcolor": "#E5ECF6",
           "caxis": {
            "gridcolor": "white",
            "linecolor": "white",
            "ticks": ""
           }
          },
          "title": {
           "x": 0.05
          },
          "xaxis": {
           "automargin": true,
           "gridcolor": "white",
           "linecolor": "white",
           "ticks": "",
           "title": {
            "standoff": 15
           },
           "zerolinecolor": "white",
           "zerolinewidth": 2
          },
          "yaxis": {
           "automargin": true,
           "gridcolor": "white",
           "linecolor": "white",
           "ticks": "",
           "title": {
            "standoff": 15
           },
           "zerolinecolor": "white",
           "zerolinewidth": 2
          }
         }
        },
        "title": {
         "text": "Optimization History Plot"
        },
        "xaxis": {
         "title": {
          "text": "Trial"
         }
        },
        "yaxis": {
         "title": {
          "text": "Objective Value"
         }
        }
       }
      }
     },
     "metadata": {},
     "output_type": "display_data"
    }
   ],
   "source": [
    "# Visualizar el historial de optimización\n",
    "plot_optimization_history(study)"
   ]
  },
  {
   "cell_type": "code",
   "execution_count": 10,
   "id": "0765411c",
   "metadata": {},
   "outputs": [
    {
     "name": "stdout",
     "output_type": "stream",
     "text": [
      "Mejores hiperparámetros encontrados:\n",
      "{'learning_rate': 0.06995473347554425, 'max_depth': 4, 'n_estimators': 196, 'subsample': 0.998201463423508, 'colsample_bytree': 0.8357610386634241, 'reg_lambda': 0.7790830479987098, 'reg_alpha': 0.4593921006238936, 'min_child_weight': 6}\n",
      "Mejor score de f1-score: 0.5692\n"
     ]
    }
   ],
   "source": [
    "print(\"Mejores hiperparámetros encontrados:\")\n",
    "print(study.best_params)\n",
    "print(f\"Mejor score de {SCORE}: {study.best_value:.4f}\")"
   ]
  },
  {
   "cell_type": "code",
   "execution_count": 11,
   "id": "1420cf0c",
   "metadata": {},
   "outputs": [],
   "source": [
    "# Guardar los mejores hiperparámetros y su valor\n",
    "history = []\n",
    "if os.path.exists(\"best_hyperparams.json\"):\n",
    "    try:\n",
    "        with open(\"best_hyperparams.json\", \"r\") as f:\n",
    "            history = json.load(f)\n",
    "    except (json.JSONDecodeError, ValueError):\n",
    "        history = []\n",
    "\n",
    "# Guardar ambos en un solo diccionario\n",
    "history.append({\n",
    "    \"params\": study.best_params,\n",
    "    \"value\": study.best_value\n",
    "})\n",
    "\n",
    "with open(\"best_hyperparams.json\", \"w\") as f:\n",
    "    json.dump(history, f, indent=2)"
   ]
  },
  {
   "cell_type": "markdown",
   "id": "c82b869a",
   "metadata": {},
   "source": [
    "CARGAR HIPERPARAMETROS DESDE JSON"
   ]
  },
  {
   "cell_type": "code",
   "execution_count": 12,
   "id": "d724fe8c",
   "metadata": {},
   "outputs": [
    {
     "name": "stdout",
     "output_type": "stream",
     "text": [
      "Hiperparámetros #1: {'learning_rate': 0.06995473347554425, 'max_depth': 4, 'n_estimators': 196, 'subsample': 0.998201463423508, 'colsample_bytree': 0.8357610386634241, 'reg_lambda': 0.7790830479987098, 'reg_alpha': 0.4593921006238936, 'min_child_weight': 6}, Valor: 0.5692307692307692\n"
     ]
    }
   ],
   "source": [
    "# Cargar historial de hiperparámetros y valores\n",
    "with open(\"best_hyperparams.json\", \"r\") as f:\n",
    "    history = json.load(f)\n",
    "\n",
    "# Escoger el último (más reciente)\n",
    "best_params = history[-1][\"params\"]\n",
    "best_value = history[-1][\"value\"]\n",
    "\n",
    "# Para ver todos:\n",
    "for i, entry in enumerate(history):\n",
    "    print(f\"Hiperparámetros #{i+1}: {entry['params']}, Valor: {entry['value']}\")\n",
    "\n",
    "# Para escoger uno específico (por índice):\n",
    "# best_params = history[indice_que_quieras][\"params\"]\n",
    "# best_value = history[indice_que_quieras][\"value\"]"
   ]
  },
  {
   "cell_type": "code",
   "execution_count": 13,
   "id": "f3b464e7",
   "metadata": {},
   "outputs": [],
   "source": [
    "# Entrenar modelo final con los mejores hiperparámetros\n",
    "set_seeds(SEED)\n",
    "best_params = study.best_params\n",
    "final_model = XGBClassifier(\n",
    "    learning_rate=best_params[\"learning_rate\"],\n",
    "    max_depth=best_params[\"max_depth\"],\n",
    "    n_estimators=best_params[\"n_estimators\"],\n",
    "    subsample=best_params[\"subsample\"],\n",
    "    colsample_bytree=best_params[\"colsample_bytree\"],\n",
    "    reg_lambda=best_params[\"reg_lambda\"],\n",
    "    reg_alpha=best_params[\"reg_alpha\"],\n",
    "    min_child_weight=best_params[\"min_child_weight\"],\n",
    "    random_state=SEED,\n",
    "    eval_metric=\"mlogloss\"\n",
    ")\n",
    "final_model.fit(X_train, y_train_m)\n",
    "final_model.save_model(\"XGBClassifier.json\")\n"
   ]
  },
  {
   "cell_type": "code",
   "execution_count": 19,
   "id": "61d9ffcd",
   "metadata": {},
   "outputs": [
    {
     "name": "stdout",
     "output_type": "stream",
     "text": [
      "\n",
      "XGBClassifier trend_changes_score:\n",
      "               precision    recall  f1-score   support\n",
      "\n",
      "       False     0.8439    0.9132    0.8772       219\n",
      "        True     0.6607    0.5000    0.5692        74\n",
      "\n",
      "    accuracy                         0.8089       293\n",
      "   macro avg     0.7523    0.7066    0.7232       293\n",
      "weighted avg     0.7976    0.8089    0.7994       293\n",
      "\n"
     ]
    }
   ],
   "source": [
    "y_val_pred_m = final_model.predict(X_val)\n",
    "print(\"\\nXGBClassifier trend_changes_score:\\n\", trend_changes_score(y_val_m, y_val_pred_m))"
   ]
  },
  {
   "cell_type": "code",
   "execution_count": 20,
   "id": "7ee1ce54",
   "metadata": {},
   "outputs": [
    {
     "name": "stdout",
     "output_type": "stream",
     "text": [
      "XGBClassifier Report:\n",
      "               precision    recall  f1-score   support\n",
      "\n",
      "           0     0.7593    0.8913    0.8200        92\n",
      "           1     0.3333    0.1224    0.1791        49\n",
      "           2     0.8036    0.8824    0.8411       153\n",
      "\n",
      "    accuracy                         0.7585       294\n",
      "   macro avg     0.6321    0.6320    0.6134       294\n",
      "weighted avg     0.7113    0.7585    0.7242       294\n",
      "\n"
     ]
    }
   ],
   "source": [
    "# Reporte completo: precisión, recall y F1 por clase\n",
    "report = classification_report(y_val_m, y_val_pred_m, digits=4)\n",
    "print(\"XGBClassifier Report:\\n\", report)"
   ]
  },
  {
   "cell_type": "code",
   "execution_count": 21,
   "id": "961639ee",
   "metadata": {},
   "outputs": [],
   "source": [
    "# --- Exportar y Comparar Métricas de Modelos (Validación) ---\n",
    "\n",
    "# 1. Definir el nombre del modelo actual y el archivo de salida\n",
    "output_file = '../../../score_models/model_comparison_metrics.csv'\n",
    "\n",
    "# 2. Calcular el reporte de clasificación estándar\n",
    "# Usamos y_val_m y y_val_pred que están en la misma escala (0,1,2)\n",
    "report_dict = classification_report(y_val_m, y_val_pred_m, output_dict=True, zero_division=0)\n",
    "precision = report_dict['macro avg']['precision']\n",
    "recall = report_dict['macro avg']['recall']\n",
    "f1_score = report_dict['macro avg']['f1-score']\n",
    "\n",
    "\n",
    "# 3. Calcular el reporte de cambio de tendencia\n",
    "report = get_trend_changes_report_dict(y_val_m, y_val_pred_m)\n",
    "trend_change_precision = report['True']['precision']\n",
    "trend_change_recall = report['True']['recall']\n",
    "trend_change_f1_score = report['True']['f1-score']\n",
    "\n",
    "# 4. Organizar las nuevas métricas\n",
    "new_metrics = {\n",
    "    'precision': precision,\n",
    "    'recall': recall,\n",
    "    'f1_score': f1_score,\n",
    "    'trend_change_precision': trend_change_precision,\n",
    "    'trend_change_recall': trend_change_recall,\n",
    "    'trend_change_f1_score': trend_change_f1_score,\n",
    "    \"optuna_duration_sec\": opt_duration_sec,\n",
    "    \"n_trials\": n_trials_run\n",
    "}\n",
    "\n",
    "# 5. Cargar, actualizar y guardar el DataFrame de comparación\n",
    "try:\n",
    "    # Intentar cargar el archivo existente\n",
    "    comparison_df = pd.read_csv(output_file, index_col='model')\n",
    "    # Si existe, actualizar o añadir la fila para el modelo actual\n",
    "    comparison_df.loc[model_name] = new_metrics\n",
    "except FileNotFoundError:\n",
    "    # Si no existe, crear un DataFrame nuevo directamente con los datos actuales\n",
    "    comparison_df = pd.DataFrame([new_metrics], index=[model_name])\n",
    "\n",
    "# Guardar el DataFrame actualizado en el CSV\n",
    "comparison_df.to_csv(output_file, index_label='model')"
   ]
  }
 ],
 "metadata": {
  "kernelspec": {
   "display_name": "tf_venv2 (3.10.12)",
   "language": "python",
   "name": "python3"
  },
  "language_info": {
   "codemirror_mode": {
    "name": "ipython",
    "version": 3
   },
   "file_extension": ".py",
   "mimetype": "text/x-python",
   "name": "python",
   "nbconvert_exporter": "python",
   "pygments_lexer": "ipython3",
   "version": "3.10.12"
  }
 },
 "nbformat": 4,
 "nbformat_minor": 5
}
