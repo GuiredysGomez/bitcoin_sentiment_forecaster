{
 "cells": [
  {
   "cell_type": "code",
   "execution_count": 1,
   "id": "08624e4d",
   "metadata": {},
   "outputs": [
    {
     "name": "stderr",
     "output_type": "stream",
     "text": [
      "/home/toyotx22/bitcoin_sentiment_forecaster/tf_venv2/lib/python3.10/site-packages/tqdm/auto.py:21: TqdmWarning: IProgress not found. Please update jupyter and ipywidgets. See https://ipywidgets.readthedocs.io/en/stable/user_install.html\n",
      "  from .autonotebook import tqdm as notebook_tqdm\n"
     ]
    }
   ],
   "source": [
    "import numpy as np\n",
    "import random\n",
    "import optuna\n",
    "import pandas as pd\n",
    "from xgboost import XGBClassifier\n",
    "from sklearn.metrics import classification_report\n",
    "from optuna.visualization import plot_optimization_history\n",
    "import os\n",
    "import json"
   ]
  },
  {
   "cell_type": "code",
   "execution_count": 2,
   "id": "b039264d",
   "metadata": {},
   "outputs": [],
   "source": [
    "SEED = 1234\n",
    " # Se puede cambiar a \"precision\" o \"recall\" o \"f1-score\"\n",
    "SCORE = \"f1-score\""
   ]
  },
  {
   "cell_type": "code",
   "execution_count": 3,
   "id": "55c794de",
   "metadata": {},
   "outputs": [],
   "source": [
    "def set_seeds(seed):\n",
    "    random.seed(seed)\n",
    "    np.random.seed(seed)"
   ]
  },
  {
   "cell_type": "code",
   "execution_count": 4,
   "id": "89ba8174",
   "metadata": {},
   "outputs": [],
   "source": [
    "def get_trend_changes_report_dict(y_test: np.array, y_pred: np.array) -> float:\n",
    "    \"\"\"\n",
    "    Calculate the trend changes score based on the test and predicted values.\n",
    "    \n",
    "    Args:\n",
    "        y_test (np.array): True labels.\n",
    "        y_pred (np.array): Predicted labels.\n",
    "        \n",
    "    Returns:\n",
    "        float: The trend changes score.\n",
    "    \"\"\"\n",
    "    y_df = pd.DataFrame([y_test, y_pred]).T\n",
    "    y_df.columns = [\"y_test\", \"y_pred\"]\n",
    "    y_df[\"y_test_shifted\"] = y_df[\"y_test\"].shift(-1)\n",
    "    y_df[\"is_changed_trend_test\"] = y_df[\"y_test\"] != y_df[\"y_test_shifted\"]\n",
    "    y_df[\"y_predict_shifted\"] = y_df[\"y_pred\"].shift(-1)\n",
    "    y_df[\"is_changed_trend_predict\"] = y_df[\"y_pred\"] != y_df[\"y_predict_shifted\"]\n",
    "    return classification_report(\n",
    "        y_df[\"is_changed_trend_test\"][:-1], \n",
    "        y_df[\"is_changed_trend_predict\"][:-1], \n",
    "        digits=4,\n",
    "        output_dict=True,\n",
    "        zero_division=0\n",
    "    )\n",
    "\n",
    "def trend_changes_score(y_test: np.array, y_pred: np.array) -> float:\n",
    "    \"\"\"\n",
    "    Calculate the trend changes score based on the test and predicted values.\n",
    "    \"\"\"\n",
    "    y_df = pd.DataFrame([y_test, y_pred]).T\n",
    "    y_df.columns = [\"y_test\", \"y_pred\"]\n",
    "    y_df[\"y_test_shifted\"] = y_df[\"y_test\"].shift(-1)\n",
    "    y_df[\"is_changed_trend_test\"] = y_df[\"y_test\"] != y_df[\"y_test_shifted\"]\n",
    "    y_df[\"y_predict_shifted\"] = y_df[\"y_pred\"].shift(-1)\n",
    "    y_df[\"is_changed_trend_predict\"] = y_df[\"y_pred\"] != y_df[\"y_predict_shifted\"]\n",
    "    return classification_report(\n",
    "        y_df[\"is_changed_trend_test\"][:-1],\n",
    "        y_df[\"is_changed_trend_predict\"][:-1],\n",
    "        digits=4\n",
    "    )\n",
    "\n",
    "def trend_changes_true(y_test: np.array, y_pred: np.array) -> float:\n",
    "    \"\"\"\n",
    "    Calculate the trend changes score based on the test and predicted values.\n",
    "    Returns only the F1-score for trend change.\n",
    "    \"\"\"\n",
    "    y_df = pd.DataFrame([y_test, y_pred]).T\n",
    "    y_df.columns = [\"y_test\", \"y_pred\"]\n",
    "    y_df[\"y_test_shifted\"] = y_df[\"y_test\"].shift(-1)\n",
    "    y_df[\"is_changed_trend_test\"] = y_df[\"y_test\"] != y_df[\"y_test_shifted\"]\n",
    "    y_df[\"y_predict_shifted\"] = y_df[\"y_pred\"].shift(-1)\n",
    "    y_df[\"is_changed_trend_predict\"] = y_df[\"y_pred\"] != y_df[\"y_predict_shifted\"]\n",
    "    report = classification_report(\n",
    "        y_df[\"is_changed_trend_test\"][:-1],\n",
    "        y_df[\"is_changed_trend_predict\"][:-1],\n",
    "        output_dict=True,\n",
    "        zero_division=0\n",
    "    )\n",
    "    return report[\"True\"][SCORE]"
   ]
  },
  {
   "cell_type": "code",
   "execution_count": 5,
   "id": "2e13369e",
   "metadata": {},
   "outputs": [],
   "source": [
    "# Cargar datos\n",
    "train = pd.read_csv(\"../../../data/post_cleaning/training_set.csv\", parse_dates=[\"date\"])\n",
    "val = pd.read_csv(\"../../../data/post_cleaning/validation_set.csv\", parse_dates=[\"date\"])\n",
    "test_set = pd.read_csv(\"../../../data/post_cleaning/test_set.csv\", parse_dates=['date'])\n",
    "X_train = train.drop(columns=[\"date\", \"target_trend\"]).values\n",
    "y_train = train[\"target_trend\"].values\n",
    "X_val = val.drop(columns=[\"date\", \"target_trend\"]).values\n",
    "y_val = val[\"target_trend\"].values\n",
    "X_test = test_set.drop(columns=[\"date\", \"target_trend\"]).values\n",
    "y_test = test_set[\"target_trend\"].values"
   ]
  },
  {
   "cell_type": "markdown",
   "id": "a36bde32",
   "metadata": {},
   "source": [
    "IMPORTANTE: Hay que sumar a la columna de prediccion porque -1 no funciona en funcion de LOSS"
   ]
  },
  {
   "cell_type": "code",
   "execution_count": 6,
   "id": "711d0cfc",
   "metadata": {},
   "outputs": [],
   "source": [
    "y_train += 1\n",
    "y_val += 1"
   ]
  },
  {
   "cell_type": "code",
   "execution_count": 7,
   "id": "a8089887",
   "metadata": {},
   "outputs": [],
   "source": [
    "# Optuna para hiperparámetros\n",
    "def objective(trial):\n",
    "    set_seeds(SEED)\n",
    "    learning_rate = trial.suggest_float(\"learning_rate\", 0.01, 0.2, log=True)\n",
    "    max_depth = trial.suggest_int(\"max_depth\", 2, 16)\n",
    "    n_estimators = trial.suggest_int(\"n_estimators\", 100, 500)\n",
    "    subsample = trial.suggest_float(\"subsample\", 0.6, 1.0)\n",
    "    colsample_bytree = trial.suggest_float(\"colsample_bytree\", 0.5, 1.0)\n",
    "    reg_lambda = trial.suggest_float(\"reg_lambda\", 0.0, 2.0)\n",
    "    reg_alpha = trial.suggest_float(\"reg_alpha\", 0.0, 2.0)\n",
    "    min_child_weight = trial.suggest_int(\"min_child_weight\", 1, 10)\n",
    "\n",
    "    model = XGBClassifier(\n",
    "        learning_rate=learning_rate,\n",
    "        max_depth=max_depth,\n",
    "        n_estimators=n_estimators,\n",
    "        subsample=subsample,\n",
    "        colsample_bytree=colsample_bytree,\n",
    "        reg_lambda=reg_lambda,\n",
    "        reg_alpha=reg_alpha,\n",
    "        min_child_weight=min_child_weight,\n",
    "        random_state=SEED,\n",
    "        eval_metric=\"mlogloss\"\n",
    "    )\n",
    "    model.fit(X_train, y_train)\n",
    "    y_pred = model.predict(X_val)\n",
    "    score = trend_changes_true(y_val, y_pred)\n",
    "    return score"
   ]
  },
  {
   "cell_type": "code",
   "execution_count": 8,
   "id": "67610a71",
   "metadata": {},
   "outputs": [
    {
     "name": "stderr",
     "output_type": "stream",
     "text": [
      "[I 2025-08-24 15:54:53,676] A new study created in memory with name: no-name-e5022bd4-4d1a-431c-8c29-07260a3d052b\n"
     ]
    },
    {
     "name": "stderr",
     "output_type": "stream",
     "text": [
      "[I 2025-08-24 15:54:56,771] Trial 0 finished with value: 0.35294117647058826 and parameters: {'learning_rate': 0.01774894524799066, 'max_depth': 11, 'n_estimators': 275, 'subsample': 0.9141434334855076, 'colsample_bytree': 0.8899879040594018, 'reg_lambda': 0.5451852105652832, 'reg_alpha': 0.5529285102861934, 'min_child_weight': 9}. Best is trial 0 with value: 0.35294117647058826.\n",
      "[I 2025-08-24 15:54:58,260] Trial 1 finished with value: 0.38235294117647056 and parameters: {'learning_rate': 0.17642821458092559, 'max_depth': 15, 'n_estimators': 243, 'subsample': 0.8003980502093835, 'colsample_bytree': 0.8417314675860681, 'reg_lambda': 1.4254040539658004, 'reg_alpha': 0.7405015095807899, 'min_child_weight': 6}. Best is trial 1 with value: 0.38235294117647056.\n",
      "[I 2025-08-24 15:54:59,102] Trial 2 finished with value: 0.3076923076923077 and parameters: {'learning_rate': 0.045136334609244884, 'max_depth': 2, 'n_estimators': 409, 'subsample': 0.9530564762544467, 'colsample_bytree': 0.6824429919506861, 'reg_lambda': 1.2307923568669874, 'reg_alpha': 0.1507624832859531, 'min_child_weight': 4}. Best is trial 1 with value: 0.38235294117647056.\n",
      "[I 2025-08-24 15:55:00,182] Trial 3 finished with value: 0.3076923076923077 and parameters: {'learning_rate': 0.16369795832561723, 'max_depth': 11, 'n_estimators': 259, 'subsample': 0.9154920571762982, 'colsample_bytree': 0.6584180610844357, 'reg_lambda': 1.1361973052521384, 'reg_alpha': 1.7382547791224516, 'min_child_weight': 5}. Best is trial 1 with value: 0.38235294117647056.\n",
      "[I 2025-08-24 15:55:01,734] Trial 4 finished with value: 0.42857142857142855 and parameters: {'learning_rate': 0.1105651204296143, 'max_depth': 4, 'n_estimators': 382, 'subsample': 0.8818325232758291, 'colsample_bytree': 0.6093960528370443, 'reg_lambda': 1.84973525723113, 'reg_alpha': 0.8842815108083533, 'min_child_weight': 10}. Best is trial 4 with value: 0.42857142857142855.\n",
      "[I 2025-08-24 15:55:02,344] Trial 5 finished with value: 0.3384615384615385 and parameters: {'learning_rate': 0.01196226978573007, 'max_depth': 4, 'n_estimators': 118, 'subsample': 0.8699523774329321, 'colsample_bytree': 0.7973123899672244, 'reg_lambda': 1.0666203259975011, 'reg_alpha': 0.08664812538960698, 'min_child_weight': 6}. Best is trial 4 with value: 0.42857142857142855.\n",
      "[I 2025-08-24 15:55:03,052] Trial 6 finished with value: 0.34782608695652173 and parameters: {'learning_rate': 0.026847789642131727, 'max_depth': 9, 'n_estimators': 144, 'subsample': 0.8428774824873938, 'colsample_bytree': 0.7829723215252657, 'reg_lambda': 0.01352812398000558, 'reg_alpha': 1.234883417608594, 'min_child_weight': 10}. Best is trial 4 with value: 0.42857142857142855.\n",
      "[I 2025-08-24 15:55:05,335] Trial 7 finished with value: 0.28125 and parameters: {'learning_rate': 0.10678139971817296, 'max_depth': 16, 'n_estimators': 484, 'subsample': 0.9167856541166559, 'colsample_bytree': 0.6426254800122548, 'reg_lambda': 1.249833410611822, 'reg_alpha': 0.9561875913413491, 'min_child_weight': 2}. Best is trial 4 with value: 0.42857142857142855.\n",
      "[I 2025-08-24 15:55:05,736] Trial 8 finished with value: 0.2222222222222222 and parameters: {'learning_rate': 0.031434493930522854, 'max_depth': 2, 'n_estimators': 281, 'subsample': 0.9928018966087818, 'colsample_bytree': 0.5619713502434815, 'reg_lambda': 0.2387617958524968, 'reg_alpha': 1.4770461122866936, 'min_child_weight': 6}. Best is trial 4 with value: 0.42857142857142855.\n",
      "[I 2025-08-24 15:55:06,198] Trial 9 finished with value: 0.3076923076923077 and parameters: {'learning_rate': 0.04107788493789703, 'max_depth': 3, 'n_estimators': 191, 'subsample': 0.9599860779346702, 'colsample_bytree': 0.7083767689013466, 'reg_lambda': 1.0717033250632317, 'reg_alpha': 0.012417033174258796, 'min_child_weight': 4}. Best is trial 4 with value: 0.42857142857142855.\n",
      "[I 2025-08-24 15:55:07,307] Trial 10 finished with value: 0.37681159420289856 and parameters: {'learning_rate': 0.08084615658241578, 'max_depth': 6, 'n_estimators': 372, 'subsample': 0.689428298871198, 'colsample_bytree': 0.5046805124777953, 'reg_lambda': 1.8957945848547488, 'reg_alpha': 1.9979609333630595, 'min_child_weight': 8}. Best is trial 4 with value: 0.42857142857142855.\n",
      "[I 2025-08-24 15:55:08,143] Trial 11 finished with value: 0.4675324675324675 and parameters: {'learning_rate': 0.19048147685517758, 'max_depth': 16, 'n_estimators': 346, 'subsample': 0.7669240546107386, 'colsample_bytree': 0.9331405116473781, 'reg_lambda': 1.8681108584250006, 'reg_alpha': 0.7278001581273383, 'min_child_weight': 8}. Best is trial 11 with value: 0.4675324675324675.\n",
      "[I 2025-08-24 15:55:09,158] Trial 12 finished with value: 0.4411764705882353 and parameters: {'learning_rate': 0.0950849331893488, 'max_depth': 7, 'n_estimators': 364, 'subsample': 0.710095516315468, 'colsample_bytree': 0.9629271430441169, 'reg_lambda': 1.986224886229228, 'reg_alpha': 0.5349036965088345, 'min_child_weight': 8}. Best is trial 11 with value: 0.4675324675324675.\n",
      "[I 2025-08-24 15:55:10,251] Trial 13 finished with value: 0.4225352112676056 and parameters: {'learning_rate': 0.07155918088597471, 'max_depth': 8, 'n_estimators': 350, 'subsample': 0.6841696054944236, 'colsample_bytree': 0.9968221713683587, 'reg_lambda': 1.6175190319760222, 'reg_alpha': 0.5350388903779555, 'min_child_weight': 8}. Best is trial 11 with value: 0.4675324675324675.\n",
      "[I 2025-08-24 15:55:11,189] Trial 14 finished with value: 0.3611111111111111 and parameters: {'learning_rate': 0.1853423026228852, 'max_depth': 13, 'n_estimators': 455, 'subsample': 0.6236437367865982, 'colsample_bytree': 0.964177295514928, 'reg_lambda': 1.6358664113103607, 'reg_alpha': 0.4034815505770104, 'min_child_weight': 8}. Best is trial 11 with value: 0.4675324675324675.\n",
      "[I 2025-08-24 15:55:12,306] Trial 15 finished with value: 0.3880597014925373 and parameters: {'learning_rate': 0.11834258225527562, 'max_depth': 7, 'n_estimators': 328, 'subsample': 0.7401127176150036, 'colsample_bytree': 0.9150456108425902, 'reg_lambda': 1.9914714886751983, 'reg_alpha': 1.226570160088023, 'min_child_weight': 7}. Best is trial 11 with value: 0.4675324675324675.\n",
      "[I 2025-08-24 15:55:13,556] Trial 16 finished with value: 0.34285714285714286 and parameters: {'learning_rate': 0.06497764354248292, 'max_depth': 11, 'n_estimators': 434, 'subsample': 0.7521839718764783, 'colsample_bytree': 0.9177350621245781, 'reg_lambda': 0.7481471845397893, 'reg_alpha': 0.33660358209913616, 'min_child_weight': 9}. Best is trial 11 with value: 0.4675324675324675.\n",
      "[I 2025-08-24 15:55:15,178] Trial 17 finished with value: 0.3939393939393939 and parameters: {'learning_rate': 0.13400403042676398, 'max_depth': 14, 'n_estimators': 319, 'subsample': 0.7634604744119119, 'colsample_bytree': 0.8547713468922133, 'reg_lambda': 1.6552471961145938, 'reg_alpha': 0.7882737689877775, 'min_child_weight': 1}. Best is trial 11 with value: 0.4675324675324675.\n",
      "[I 2025-08-24 15:55:16,198] Trial 18 finished with value: 0.4057971014492754 and parameters: {'learning_rate': 0.08923050320276156, 'max_depth': 6, 'n_estimators': 403, 'subsample': 0.6070763970506783, 'colsample_bytree': 0.9563130492066234, 'reg_lambda': 1.4709573930437907, 'reg_alpha': 1.1651881901730983, 'min_child_weight': 7}. Best is trial 11 with value: 0.4675324675324675.\n",
      "[I 2025-08-24 15:55:16,872] Trial 19 finished with value: 0.4117647058823529 and parameters: {'learning_rate': 0.055963822495749244, 'max_depth': 9, 'n_estimators': 204, 'subsample': 0.6828882519646636, 'colsample_bytree': 0.9995616335598981, 'reg_lambda': 1.775874586741492, 'reg_alpha': 0.5791507128904083, 'min_child_weight': 9}. Best is trial 11 with value: 0.4675324675324675.\n",
      "[I 2025-08-24 15:55:17,667] Trial 20 finished with value: 0.39436619718309857 and parameters: {'learning_rate': 0.19919140114691847, 'max_depth': 13, 'n_estimators': 309, 'subsample': 0.8132867219575562, 'colsample_bytree': 0.7447678458476672, 'reg_lambda': 0.7384472498353554, 'reg_alpha': 0.2630304119392176, 'min_child_weight': 7}. Best is trial 11 with value: 0.4675324675324675.\n",
      "[I 2025-08-24 15:55:18,458] Trial 21 finished with value: 0.37142857142857144 and parameters: {'learning_rate': 0.12208542894107981, 'max_depth': 5, 'n_estimators': 380, 'subsample': 0.7180209736792614, 'colsample_bytree': 0.5612154272482587, 'reg_lambda': 1.8359494260839058, 'reg_alpha': 0.9120060072309781, 'min_child_weight': 10}. Best is trial 11 with value: 0.4675324675324675.\n",
      "[I 2025-08-24 15:55:19,258] Trial 22 finished with value: 0.4 and parameters: {'learning_rate': 0.09791436389434699, 'max_depth': 5, 'n_estimators': 354, 'subsample': 0.8519727181648645, 'colsample_bytree': 0.5899447453055466, 'reg_lambda': 1.4392413285830994, 'reg_alpha': 0.7265044936061685, 'min_child_weight': 10}. Best is trial 11 with value: 0.4675324675324675.\n",
      "[I 2025-08-24 15:55:20,369] Trial 23 finished with value: 0.4117647058823529 and parameters: {'learning_rate': 0.1366330319219461, 'max_depth': 4, 'n_estimators': 500, 'subsample': 0.7780689421808291, 'colsample_bytree': 0.8531007147502107, 'reg_lambda': 1.972356592199331, 'reg_alpha': 1.0099434087565782, 'min_child_weight': 9}. Best is trial 11 with value: 0.4675324675324675.\n",
      "[I 2025-08-24 15:55:21,230] Trial 24 finished with value: 0.4 and parameters: {'learning_rate': 0.15076732203126303, 'max_depth': 8, 'n_estimators': 406, 'subsample': 0.6461781616888105, 'colsample_bytree': 0.6139819852221696, 'reg_lambda': 1.7585783027785156, 'reg_alpha': 1.0823938978331527, 'min_child_weight': 8}. Best is trial 11 with value: 0.4675324675324675.\n",
      "[I 2025-08-24 15:55:22,475] Trial 25 finished with value: 0.4057971014492754 and parameters: {'learning_rate': 0.05809083643865715, 'max_depth': 10, 'n_estimators': 445, 'subsample': 0.7208081964925118, 'colsample_bytree': 0.9417767983793256, 'reg_lambda': 1.5502628017094293, 'reg_alpha': 1.4353274486503533, 'min_child_weight': 10}. Best is trial 11 with value: 0.4675324675324675.\n",
      "[I 2025-08-24 15:55:20,973] Trial 26 finished with value: 0.3333333333333333 and parameters: {'learning_rate': 0.09269086092802281, 'max_depth': 7, 'n_estimators': 337, 'subsample': 0.8299738238018031, 'colsample_bytree': 0.8127571089354646, 'reg_lambda': 1.7786371524145292, 'reg_alpha': 0.8330224967149027, 'min_child_weight': 9}. Best is trial 11 with value: 0.4675324675324675.\n",
      "[I 2025-08-24 15:55:21,666] Trial 27 finished with value: 0.38235294117647056 and parameters: {'learning_rate': 0.07683483208671486, 'max_depth': 4, 'n_estimators': 300, 'subsample': 0.7814989796889377, 'colsample_bytree': 0.7314800550236931, 'reg_lambda': 1.3506409868157663, 'reg_alpha': 0.6718155339042111, 'min_child_weight': 7}. Best is trial 11 with value: 0.4675324675324675.\n",
      "[I 2025-08-24 15:55:22,618] Trial 28 finished with value: 0.4117647058823529 and parameters: {'learning_rate': 0.15184793691579912, 'max_depth': 6, 'n_estimators': 380, 'subsample': 0.8889119244772752, 'colsample_bytree': 0.898253829904858, 'reg_lambda': 1.998850853435033, 'reg_alpha': 0.46663430094672986, 'min_child_weight': 5}. Best is trial 11 with value: 0.4675324675324675.\n",
      "[I 2025-08-24 15:55:23,453] Trial 29 finished with value: 0.4 and parameters: {'learning_rate': 0.10947805584206552, 'max_depth': 12, 'n_estimators': 279, 'subsample': 0.6567103757675912, 'colsample_bytree': 0.8821619015630303, 'reg_lambda': 0.9147256824035882, 'reg_alpha': 0.605232855872899, 'min_child_weight': 9}. Best is trial 11 with value: 0.4675324675324675.\n",
      "[I 2025-08-24 15:55:24,287] Trial 30 finished with value: 0.31746031746031744 and parameters: {'learning_rate': 0.020339141691820203, 'max_depth': 16, 'n_estimators': 238, 'subsample': 0.7267819677771491, 'colsample_bytree': 0.5222033655816669, 'reg_lambda': 1.7176986950479918, 'reg_alpha': 0.8640429553561528, 'min_child_weight': 8}. Best is trial 11 with value: 0.4675324675324675.\n",
      "[I 2025-08-24 15:55:25,241] Trial 31 finished with value: 0.35294117647058826 and parameters: {'learning_rate': 0.07246011740019677, 'max_depth': 8, 'n_estimators': 349, 'subsample': 0.694688961411415, 'colsample_bytree': 0.995179257615747, 'reg_lambda': 1.5801607456189393, 'reg_alpha': 0.4946358408659026, 'min_child_weight': 8}. Best is trial 11 with value: 0.4675324675324675.\n",
      "[I 2025-08-24 15:55:26,697] Trial 32 finished with value: 0.36619718309859156 and parameters: {'learning_rate': 0.048417045717822335, 'max_depth': 8, 'n_estimators': 358, 'subsample': 0.6680098551347532, 'colsample_bytree': 0.9630331514403272, 'reg_lambda': 1.8770529021187627, 'reg_alpha': 0.30042701268709937, 'min_child_weight': 7}. Best is trial 11 with value: 0.4675324675324675.\n",
      "[I 2025-08-24 15:55:28,251] Trial 33 finished with value: 0.4166666666666667 and parameters: {'learning_rate': 0.06706564147878104, 'max_depth': 10, 'n_estimators': 416, 'subsample': 0.7937559746014146, 'colsample_bytree': 0.939384476153298, 'reg_lambda': 1.8662784629731115, 'reg_alpha': 0.5820945594287599, 'min_child_weight': 10}. Best is trial 11 with value: 0.4675324675324675.\n",
      "[I 2025-08-24 15:55:29,827] Trial 34 finished with value: 0.3283582089552239 and parameters: {'learning_rate': 0.03698343177878441, 'max_depth': 7, 'n_estimators': 388, 'subsample': 0.816313654983619, 'colsample_bytree': 0.9819842981388935, 'reg_lambda': 1.6684054838610256, 'reg_alpha': 0.6651104250885815, 'min_child_weight': 9}. Best is trial 11 with value: 0.4675324675324675.\n",
      "[I 2025-08-24 15:55:30,612] Trial 35 finished with value: 0.36619718309859156 and parameters: {'learning_rate': 0.16779922596450256, 'max_depth': 9, 'n_estimators': 331, 'subsample': 0.7019373126691419, 'colsample_bytree': 0.8775695958284859, 'reg_lambda': 1.540062646473673, 'reg_alpha': 0.22543304815666032, 'min_child_weight': 6}. Best is trial 11 with value: 0.4675324675324675.\n",
      "[I 2025-08-24 15:55:31,582] Trial 36 finished with value: 0.463768115942029 and parameters: {'learning_rate': 0.08697319962903623, 'max_depth': 10, 'n_estimators': 291, 'subsample': 0.6364030802842104, 'colsample_bytree': 0.8198786447278156, 'reg_lambda': 1.3475787399635653, 'reg_alpha': 0.4276732248933729, 'min_child_weight': 8}. Best is trial 11 with value: 0.4675324675324675.\n",
      "[I 2025-08-24 15:55:32,304] Trial 37 finished with value: 0.4507042253521127 and parameters: {'learning_rate': 0.12573930230635638, 'max_depth': 15, 'n_estimators': 256, 'subsample': 0.6375379616076842, 'colsample_bytree': 0.6823350856725503, 'reg_lambda': 1.3018312345038128, 'reg_alpha': 0.424721609958718, 'min_child_weight': 5}. Best is trial 11 with value: 0.4675324675324675.\n",
      "[I 2025-08-24 15:55:33,107] Trial 38 finished with value: 0.36619718309859156 and parameters: {'learning_rate': 0.13602517934355568, 'max_depth': 15, 'n_estimators': 238, 'subsample': 0.6336589459864129, 'colsample_bytree': 0.6849223269865349, 'reg_lambda': 1.245916381257726, 'reg_alpha': 0.14786239047546723, 'min_child_weight': 4}. Best is trial 11 with value: 0.4675324675324675.\n",
      "[I 2025-08-24 15:55:33,988] Trial 39 finished with value: 0.39436619718309857 and parameters: {'learning_rate': 0.17377357947788982, 'max_depth': 15, 'n_estimators': 263, 'subsample': 0.6100770950695533, 'colsample_bytree': 0.7811633041772362, 'reg_lambda': 1.3470866377655077, 'reg_alpha': 0.38464539276895016, 'min_child_weight': 3}. Best is trial 11 with value: 0.4675324675324675.\n",
      "[I 2025-08-24 15:55:34,783] Trial 40 finished with value: 0.38235294117647056 and parameters: {'learning_rate': 0.08945260606320797, 'max_depth': 14, 'n_estimators': 216, 'subsample': 0.6421069480854306, 'colsample_bytree': 0.8175724323784858, 'reg_lambda': 0.8905589078432896, 'reg_alpha': 0.41853066158255325, 'min_child_weight': 5}. Best is trial 11 with value: 0.4675324675324675.\n",
      "[I 2025-08-24 15:55:35,659] Trial 41 finished with value: 0.4117647058823529 and parameters: {'learning_rate': 0.1098831761912032, 'max_depth': 16, 'n_estimators': 295, 'subsample': 0.664143543706856, 'colsample_bytree': 0.6459382865856359, 'reg_lambda': 1.157151360070837, 'reg_alpha': 0.7146575087555567, 'min_child_weight': 5}. Best is trial 11 with value: 0.4675324675324675.\n",
      "[I 2025-08-24 15:55:36,036] Trial 42 finished with value: 0.36363636363636365 and parameters: {'learning_rate': 0.12915761657240968, 'max_depth': 2, 'n_estimators': 266, 'subsample': 0.8957253816134095, 'colsample_bytree': 0.6668879142593904, 'reg_lambda': 1.3540268176284262, 'reg_alpha': 1.019576964865748, 'min_child_weight': 6}. Best is trial 11 with value: 0.4675324675324675.\n",
      "[I 2025-08-24 15:55:36,526] Trial 43 finished with value: 0.25 and parameters: {'learning_rate': 0.011261038585859223, 'max_depth': 3, 'n_estimators': 176, 'subsample': 0.9443084264230398, 'colsample_bytree': 0.6080490613207146, 'reg_lambda': 0.4029424160382886, 'reg_alpha': 0.1720759019280771, 'min_child_weight': 3}. Best is trial 11 with value: 0.4675324675324675.\n",
      "[I 2025-08-24 15:55:37,267] Trial 44 finished with value: 0.43478260869565216 and parameters: {'learning_rate': 0.1498146303108995, 'max_depth': 12, 'n_estimators': 310, 'subsample': 0.6212535845977707, 'colsample_bytree': 0.7156713515350366, 'reg_lambda': 1.9185141861788184, 'reg_alpha': 0.03972456274220665, 'min_child_weight': 6}. Best is trial 11 with value: 0.4675324675324675.\n",
      "[I 2025-08-24 15:55:38,000] Trial 45 finished with value: 0.3611111111111111 and parameters: {'learning_rate': 0.15970793952479134, 'max_depth': 12, 'n_estimators': 283, 'subsample': 0.6009684000268695, 'colsample_bytree': 0.710633974462965, 'reg_lambda': 1.9206395022829996, 'reg_alpha': 0.012631126918423052, 'min_child_weight': 6}. Best is trial 11 with value: 0.4675324675324675.\n",
      "[I 2025-08-24 15:55:38,998] Trial 46 finished with value: 0.4057971014492754 and parameters: {'learning_rate': 0.19501630541600562, 'max_depth': 14, 'n_estimators': 310, 'subsample': 0.6232917667904672, 'colsample_bytree': 0.7586871399914601, 'reg_lambda': 1.1485420570110643, 'reg_alpha': 0.49450935229283755, 'min_child_weight': 5}. Best is trial 11 with value: 0.4675324675324675.\n",
      "[I 2025-08-24 15:55:39,792] Trial 47 finished with value: 0.37142857142857144 and parameters: {'learning_rate': 0.10421062212154142, 'max_depth': 12, 'n_estimators': 258, 'subsample': 0.6697526095230548, 'colsample_bytree': 0.7113292917134479, 'reg_lambda': 1.5090550294419758, 'reg_alpha': 0.08933479197549932, 'min_child_weight': 7}. Best is trial 11 with value: 0.4675324675324675.\n",
      "[I 2025-08-24 15:55:40,811] Trial 48 finished with value: 0.37681159420289856 and parameters: {'learning_rate': 0.08394433662294118, 'max_depth': 15, 'n_estimators': 292, 'subsample': 0.7056794069214734, 'colsample_bytree': 0.7685724407970494, 'reg_lambda': 0.9786168934821874, 'reg_alpha': 0.3705108640234189, 'min_child_weight': 4}. Best is trial 11 with value: 0.4675324675324675.\n",
      "[I 2025-08-24 15:55:41,444] Trial 49 finished with value: 0.3611111111111111 and parameters: {'learning_rate': 0.15544750810430408, 'max_depth': 10, 'n_estimators': 217, 'subsample': 0.6240654253457771, 'colsample_bytree': 0.6859042453895432, 'reg_lambda': 1.7116749030077698, 'reg_alpha': 0.24296763965345727, 'min_child_weight': 6}. Best is trial 11 with value: 0.4675324675324675.\n",
      "[I 2025-08-24 15:55:42,374] Trial 50 finished with value: 0.4166666666666667 and parameters: {'learning_rate': 0.11763216048583815, 'max_depth': 11, 'n_estimators': 322, 'subsample': 0.7433087613551034, 'colsample_bytree': 0.8302811526824301, 'reg_lambda': 0.7063289967322088, 'reg_alpha': 0.8022867252203922, 'min_child_weight': 8}. Best is trial 11 with value: 0.4675324675324675.\n",
      "[I 2025-08-24 15:55:43,243] Trial 51 finished with value: 0.4166666666666667 and parameters: {'learning_rate': 0.13987368273087192, 'max_depth': 13, 'n_estimators': 361, 'subsample': 0.6480838418783196, 'colsample_bytree': 0.6186297779789613, 'reg_lambda': 1.8059211882759851, 'reg_alpha': 0.6318011851456844, 'min_child_weight': 8}. Best is trial 11 with value: 0.4675324675324675.\n",
      "[I 2025-08-24 15:55:44,323] Trial 52 finished with value: 0.37681159420289856 and parameters: {'learning_rate': 0.10333468648460194, 'max_depth': 16, 'n_estimators': 337, 'subsample': 0.9771151413371317, 'colsample_bytree': 0.728345382924037, 'reg_lambda': 1.8982147540986607, 'reg_alpha': 0.928319279297003, 'min_child_weight': 7}. Best is trial 11 with value: 0.4675324675324675.\n",
      "[I 2025-08-24 15:55:45,240] Trial 53 finished with value: 0.34375 and parameters: {'learning_rate': 0.17485269626340197, 'max_depth': 11, 'n_estimators': 368, 'subsample': 0.7593132996615783, 'colsample_bytree': 0.6579350557335824, 'reg_lambda': 1.9262917942602342, 'reg_alpha': 0.7496297964946783, 'min_child_weight': 4}. Best is trial 11 with value: 0.4675324675324675.\n",
      "[I 2025-08-24 15:55:46,139] Trial 54 finished with value: 0.39436619718309857 and parameters: {'learning_rate': 0.11557308916002815, 'max_depth': 14, 'n_estimators': 388, 'subsample': 0.6778343833212757, 'colsample_bytree': 0.9203071187589614, 'reg_lambda': 1.6673438956353426, 'reg_alpha': 0.5611913331399702, 'min_child_weight': 10}. Best is trial 11 with value: 0.4675324675324675.\n",
      "[I 2025-08-24 15:55:46,398] Trial 55 finished with value: 0.3384615384615385 and parameters: {'learning_rate': 0.060256827126609805, 'max_depth': 3, 'n_estimators': 109, 'subsample': 0.870237228502408, 'colsample_bytree': 0.5783090197826429, 'reg_lambda': 1.8050912779376203, 'reg_alpha': 1.9731330694128353, 'min_child_weight': 6}. Best is trial 11 with value: 0.4675324675324675.\n",
      "[I 2025-08-24 15:55:47,725] Trial 56 finished with value: 0.38235294117647056 and parameters: {'learning_rate': 0.01374897300444218, 'max_depth': 9, 'n_estimators': 316, 'subsample': 0.9384612157849052, 'colsample_bytree': 0.630114219707929, 'reg_lambda': 1.9913435591177735, 'reg_alpha': 1.3892372529069235, 'min_child_weight': 9}. Best is trial 11 with value: 0.4675324675324675.\n",
      "[I 2025-08-24 15:55:48,765] Trial 57 finished with value: 0.43478260869565216 and parameters: {'learning_rate': 0.08051733873406995, 'max_depth': 13, 'n_estimators': 421, 'subsample': 0.6189432926390264, 'colsample_bytree': 0.6768998118204812, 'reg_lambda': 1.4175585879048633, 'reg_alpha': 0.4337680832548716, 'min_child_weight': 8}. Best is trial 11 with value: 0.4675324675324675.\n",
      "[I 2025-08-24 15:55:50,170] Trial 58 finished with value: 0.3283582089552239 and parameters: {'learning_rate': 0.05049066605344152, 'max_depth': 13, 'n_estimators': 441, 'subsample': 0.6176166977618521, 'colsample_bytree': 0.6982190807424855, 'reg_lambda': 1.2977214348557091, 'reg_alpha': 0.44389106185319127, 'min_child_weight': 8}. Best is trial 11 with value: 0.4675324675324675.\n",
      "[I 2025-08-24 15:55:51,581] Trial 59 finished with value: 0.43478260869565216 and parameters: {'learning_rate': 0.0813002326667905, 'max_depth': 12, 'n_estimators': 466, 'subsample': 0.6330774262538661, 'colsample_bytree': 0.7951973223692103, 'reg_lambda': 1.4227758530956405, 'reg_alpha': 0.19267751557577262, 'min_child_weight': 7}. Best is trial 11 with value: 0.4675324675324675.\n",
      "[I 2025-08-24 15:55:52,696] Trial 60 finished with value: 0.417910447761194 and parameters: {'learning_rate': 0.0926223970167671, 'max_depth': 15, 'n_estimators': 247, 'subsample': 0.6442536692379243, 'colsample_bytree': 0.6722395429931972, 'reg_lambda': 1.2064672703081172, 'reg_alpha': 0.2952649231979925, 'min_child_weight': 8}. Best is trial 11 with value: 0.4675324675324675.\n",
      "[I 2025-08-24 15:55:51,382] Trial 61 finished with value: 0.45714285714285713 and parameters: {'learning_rate': 0.08130825144909883, 'max_depth': 12, 'n_estimators': 463, 'subsample': 0.6329479773925946, 'colsample_bytree': 0.788105417391624, 'reg_lambda': 1.4803416719988831, 'reg_alpha': 0.10560264811856078, 'min_child_weight': 7}. Best is trial 11 with value: 0.4675324675324675.\n",
      "[I 2025-08-24 15:55:52,948] Trial 62 finished with value: 0.4117647058823529 and parameters: {'learning_rate': 0.07311564360025835, 'max_depth': 13, 'n_estimators': 465, 'subsample': 0.6558360655718132, 'colsample_bytree': 0.7294563081134828, 'reg_lambda': 1.0744459146239, 'reg_alpha': 0.09520104931155104, 'min_child_weight': 7}. Best is trial 11 with value: 0.4675324675324675.\n",
      "[I 2025-08-24 15:55:54,208] Trial 63 finished with value: 0.40625 and parameters: {'learning_rate': 0.12426383849427292, 'max_depth': 14, 'n_estimators': 422, 'subsample': 0.6031458640335602, 'colsample_bytree': 0.8652177989171654, 'reg_lambda': 1.4016417912909414, 'reg_alpha': 0.04065730698722, 'min_child_weight': 7}. Best is trial 11 with value: 0.4675324675324675.\n",
      "[I 2025-08-24 15:55:56,042] Trial 64 finished with value: 0.4166666666666667 and parameters: {'learning_rate': 0.0956726477004545, 'max_depth': 11, 'n_estimators': 429, 'subsample': 0.6284831704792351, 'colsample_bytree': 0.7487139484290329, 'reg_lambda': 1.494203298622917, 'reg_alpha': 0.5095170446936388, 'min_child_weight': 8}. Best is trial 11 with value: 0.4675324675324675.\n",
      "[I 2025-08-24 15:55:58,480] Trial 65 finished with value: 0.4788732394366197 and parameters: {'learning_rate': 0.06413343242580133, 'max_depth': 10, 'n_estimators': 495, 'subsample': 0.6853505518311356, 'colsample_bytree': 0.9347229002436089, 'reg_lambda': 1.5849347309902484, 'reg_alpha': 0.3158439827665338, 'min_child_weight': 8}. Best is trial 65 with value: 0.4788732394366197.\n",
      "[I 2025-08-24 15:56:01,978] Trial 66 finished with value: 0.463768115942029 and parameters: {'learning_rate': 0.06437833473877695, 'max_depth': 10, 'n_estimators': 497, 'subsample': 0.7120950005165786, 'colsample_bytree': 0.9032480095427908, 'reg_lambda': 1.5896627478353926, 'reg_alpha': 0.3393292703858968, 'min_child_weight': 7}. Best is trial 65 with value: 0.4788732394366197.\n",
      "[I 2025-08-24 15:56:04,182] Trial 67 finished with value: 0.37681159420289856 and parameters: {'learning_rate': 0.0652930462750665, 'max_depth': 10, 'n_estimators': 491, 'subsample': 0.7125523724518603, 'colsample_bytree': 0.9435372859591155, 'reg_lambda': 1.6100735406061675, 'reg_alpha': 0.33319173922502, 'min_child_weight': 9}. Best is trial 65 with value: 0.4788732394366197.\n",
      "[I 2025-08-24 15:56:07,108] Trial 68 finished with value: 0.35294117647058826 and parameters: {'learning_rate': 0.04359717014157066, 'max_depth': 9, 'n_estimators': 471, 'subsample': 0.6963599119408557, 'colsample_bytree': 0.8979514633567409, 'reg_lambda': 1.7112716954635472, 'reg_alpha': 0.34258498060211817, 'min_child_weight': 7}. Best is trial 65 with value: 0.4788732394366197.\n",
      "[I 2025-08-24 15:56:10,091] Trial 69 finished with value: 0.3582089552238806 and parameters: {'learning_rate': 0.038266952914843895, 'max_depth': 10, 'n_estimators': 481, 'subsample': 0.726570050685854, 'colsample_bytree': 0.9255375192976448, 'reg_lambda': 1.2865614339791083, 'reg_alpha': 0.29647444137070084, 'min_child_weight': 9}. Best is trial 65 with value: 0.4788732394366197.\n",
      "[I 2025-08-24 15:56:11,901] Trial 70 finished with value: 0.42857142857142855 and parameters: {'learning_rate': 0.05840656739445494, 'max_depth': 8, 'n_estimators': 453, 'subsample': 0.6856335552274319, 'colsample_bytree': 0.9793937365991733, 'reg_lambda': 1.577694601113082, 'reg_alpha': 0.5505510133461126, 'min_child_weight': 8}. Best is trial 65 with value: 0.4788732394366197.\n",
      "[I 2025-08-24 15:56:14,929] Trial 71 finished with value: 0.3188405797101449 and parameters: {'learning_rate': 0.053042400858621594, 'max_depth': 11, 'n_estimators': 488, 'subsample': 0.7339087870216212, 'colsample_bytree': 0.8429374032520447, 'reg_lambda': 1.46793203351357, 'reg_alpha': 0.11815583581291236, 'min_child_weight': 6}. Best is trial 65 with value: 0.4788732394366197.\n",
      "[I 2025-08-24 15:56:16,910] Trial 72 finished with value: 0.4057971014492754 and parameters: {'learning_rate': 0.0671997808564673, 'max_depth': 10, 'n_estimators': 493, 'subsample': 0.7739896827218058, 'colsample_bytree': 0.9111031185886554, 'reg_lambda': 1.7452394833008111, 'reg_alpha': 0.20176108333268475, 'min_child_weight': 7}. Best is trial 65 with value: 0.4788732394366197.\n",
      "[I 2025-08-24 15:56:20,935] Trial 73 finished with value: 0.3835616438356164 and parameters: {'learning_rate': 0.08577329828343039, 'max_depth': 12, 'n_estimators': 500, 'subsample': 0.6747872608030409, 'colsample_bytree': 0.9758166335593199, 'reg_lambda': 1.8292325620301546, 'reg_alpha': 0.2727454358934523, 'min_child_weight': 5}. Best is trial 65 with value: 0.4788732394366197.\n",
      "[I 2025-08-24 15:56:22,640] Trial 74 finished with value: 0.39436619718309857 and parameters: {'learning_rate': 0.14649772564534982, 'max_depth': 9, 'n_estimators': 397, 'subsample': 0.6586722620591727, 'colsample_bytree': 0.9464453014730762, 'reg_lambda': 1.6345132825001563, 'reg_alpha': 0.3897680378537893, 'min_child_weight': 8}. Best is trial 65 with value: 0.4788732394366197.\n",
      "[I 2025-08-24 15:56:24,906] Trial 75 finished with value: 0.4225352112676056 and parameters: {'learning_rate': 0.09883824458243472, 'max_depth': 16, 'n_estimators': 480, 'subsample': 0.7481214338412279, 'colsample_bytree': 0.9306786180159387, 'reg_lambda': 1.9501708164227218, 'reg_alpha': 0.05923948513390043, 'min_child_weight': 7}. Best is trial 65 with value: 0.4788732394366197.\n",
      "[I 2025-08-24 15:56:26,452] Trial 76 finished with value: 0.4117647058823529 and parameters: {'learning_rate': 0.07373489062101633, 'max_depth': 7, 'n_estimators': 306, 'subsample': 0.6371279721779474, 'colsample_bytree': 0.8724253348542144, 'reg_lambda': 1.5375552487161401, 'reg_alpha': 0.147911474466215, 'min_child_weight': 6}. Best is trial 65 with value: 0.4788732394366197.\n",
      "[I 2025-08-24 15:56:28,155] Trial 77 finished with value: 0.37681159420289856 and parameters: {'learning_rate': 0.1859345204552234, 'max_depth': 9, 'n_estimators': 346, 'subsample': 0.7103541375559008, 'colsample_bytree': 0.907894597584114, 'reg_lambda': 1.854638697575614, 'reg_alpha': 0.22910884334495135, 'min_child_weight': 6}. Best is trial 65 with value: 0.4788732394366197.\n",
      "[I 2025-08-24 15:56:32,008] Trial 78 finished with value: 0.37681159420289856 and parameters: {'learning_rate': 0.06335062444643227, 'max_depth': 11, 'n_estimators': 272, 'subsample': 0.6899821161843045, 'colsample_bytree': 0.8051462293144911, 'reg_lambda': 1.3498500651160672, 'reg_alpha': 0.6323340038578049, 'min_child_weight': 1}. Best is trial 65 with value: 0.4788732394366197.\n",
      "[I 2025-08-24 15:56:33,105] Trial 79 finished with value: 0.4857142857142857 and parameters: {'learning_rate': 0.12950070116762033, 'max_depth': 8, 'n_estimators': 291, 'subsample': 0.6523469862903263, 'colsample_bytree': 0.959672695913344, 'reg_lambda': 1.6966705859180036, 'reg_alpha': 0.48587796619751694, 'min_child_weight': 7}. Best is trial 79 with value: 0.4857142857142857.\n",
      "[I 2025-08-24 15:56:34,268] Trial 80 finished with value: 0.3380281690140845 and parameters: {'learning_rate': 0.025183239983245547, 'max_depth': 8, 'n_estimators': 285, 'subsample': 0.6483444719119541, 'colsample_bytree': 0.9610289402604615, 'reg_lambda': 1.6831338647223615, 'reg_alpha': 0.4525556807336388, 'min_child_weight': 9}. Best is trial 79 with value: 0.4857142857142857.\n",
      "[I 2025-08-24 15:56:35,773] Trial 81 finished with value: 0.40540540540540543 and parameters: {'learning_rate': 0.12542476648871553, 'max_depth': 7, 'n_estimators': 296, 'subsample': 0.6582044177199721, 'colsample_bytree': 0.9532461702280384, 'reg_lambda': 1.7627386560095546, 'reg_alpha': 0.518825558575981, 'min_child_weight': 8}. Best is trial 79 with value: 0.4857142857142857.\n",
      "[I 2025-08-24 15:56:37,266] Trial 82 finished with value: 0.37142857142857144 and parameters: {'learning_rate': 0.1369108829946925, 'max_depth': 6, 'n_estimators': 245, 'subsample': 0.612660882178451, 'colsample_bytree': 0.9307582293168769, 'reg_lambda': 0.039587927211758966, 'reg_alpha': 0.374598251510465, 'min_child_weight': 7}. Best is trial 79 with value: 0.4857142857142857.\n",
      "[I 2025-08-24 15:56:39,523] Trial 83 finished with value: 0.4166666666666667 and parameters: {'learning_rate': 0.11046274403719307, 'max_depth': 8, 'n_estimators': 325, 'subsample': 0.6745562784101474, 'colsample_bytree': 0.8905061311050171, 'reg_lambda': 1.8768569362922631, 'reg_alpha': 0.7061273238225202, 'min_child_weight': 8}. Best is trial 79 with value: 0.4857142857142857.\n",
      "[I 2025-08-24 15:56:40,413] Trial 84 finished with value: 0.4 and parameters: {'learning_rate': 0.16323404137112996, 'max_depth': 10, 'n_estimators': 255, 'subsample': 0.6653076845067587, 'colsample_bytree': 0.9902130252229935, 'reg_lambda': 1.6121740998643972, 'reg_alpha': 0.4767419479102344, 'min_child_weight': 5}. Best is trial 79 with value: 0.4857142857142857.\n",
      "[I 2025-08-24 15:56:41,849] Trial 85 finished with value: 0.4225352112676056 and parameters: {'learning_rate': 0.1467945681255366, 'max_depth': 9, 'n_estimators': 455, 'subsample': 0.6995010459578774, 'colsample_bytree': 0.9695950446039561, 'reg_lambda': 1.5448716344387965, 'reg_alpha': 0.008549855537359062, 'min_child_weight': 7}. Best is trial 79 with value: 0.4857142857142857.\n",
      "[I 2025-08-24 15:56:42,777] Trial 86 finished with value: 0.463768115942029 and parameters: {'learning_rate': 0.07822723312296517, 'max_depth': 5, 'n_estimators': 342, 'subsample': 0.6330189434554826, 'colsample_bytree': 0.9029626236789029, 'reg_lambda': 1.792923578482568, 'reg_alpha': 0.3351615082651667, 'min_child_weight': 7}. Best is trial 79 with value: 0.4857142857142857.\n",
      "[I 2025-08-24 15:56:43,484] Trial 87 finished with value: 0.4057971014492754 and parameters: {'learning_rate': 0.07744953691863171, 'max_depth': 5, 'n_estimators': 272, 'subsample': 0.6376253613760507, 'colsample_bytree': 0.8226034765987862, 'reg_lambda': 1.4583435148177326, 'reg_alpha': 0.3223281516051402, 'min_child_weight': 8}. Best is trial 79 with value: 0.4857142857142857.\n",
      "[I 2025-08-24 15:56:44,390] Trial 88 finished with value: 0.38235294117647056 and parameters: {'learning_rate': 0.06997070973130498, 'max_depth': 6, 'n_estimators': 229, 'subsample': 0.8017600690436272, 'colsample_bytree': 0.855965835515318, 'reg_lambda': 1.7254472466883806, 'reg_alpha': 0.5825634003549738, 'min_child_weight': 7}. Best is trial 79 with value: 0.4857142857142857.\n",
      "[I 2025-08-24 15:56:45,712] Trial 89 finished with value: 0.4 and parameters: {'learning_rate': 0.1003789595615023, 'max_depth': 7, 'n_estimators': 344, 'subsample': 0.6505922050962714, 'colsample_bytree': 0.9029224709613753, 'reg_lambda': 1.785250895000172, 'reg_alpha': 0.4062388487080536, 'min_child_weight': 8}. Best is trial 79 with value: 0.4857142857142857.\n",
      "[I 2025-08-24 15:56:46,538] Trial 90 finished with value: 0.3888888888888889 and parameters: {'learning_rate': 0.08441028787566929, 'max_depth': 4, 'n_estimators': 337, 'subsample': 0.6809024781754407, 'colsample_bytree': 0.7744655425899732, 'reg_lambda': 1.20031524773285, 'reg_alpha': 0.6536601394265105, 'min_child_weight': 7}. Best is trial 79 with value: 0.4857142857142857.\n",
      "[I 2025-08-24 15:56:47,403] Trial 91 finished with value: 0.36619718309859156 and parameters: {'learning_rate': 0.0909429546254751, 'max_depth': 5, 'n_estimators': 305, 'subsample': 0.6286541240823003, 'colsample_bytree': 0.8882215401487171, 'reg_lambda': 1.9436482959425145, 'reg_alpha': 0.23977272599650898, 'min_child_weight': 6}. Best is trial 79 with value: 0.4857142857142857.\n",
      "[I 2025-08-24 15:56:48,938] Trial 92 finished with value: 0.4057971014492754 and parameters: {'learning_rate': 0.06184047103996961, 'max_depth': 16, 'n_estimators': 473, 'subsample': 0.6126015215218658, 'colsample_bytree': 0.9528607669403039, 'reg_lambda': 1.8368347029289058, 'reg_alpha': 0.35112941502057615, 'min_child_weight': 6}. Best is trial 79 with value: 0.4857142857142857.\n",
      "[I 2025-08-24 15:56:50,033] Trial 93 finished with value: 0.37333333333333335 and parameters: {'learning_rate': 0.18659040829053922, 'max_depth': 15, 'n_estimators': 316, 'subsample': 0.6401968518940896, 'colsample_bytree': 0.8397782690162839, 'reg_lambda': 1.8976449825400479, 'reg_alpha': 0.12969888664880003, 'min_child_weight': 7}. Best is trial 79 with value: 0.4857142857142857.\n",
      "[I 2025-08-24 15:56:50,911] Trial 94 finished with value: 0.4444444444444444 and parameters: {'learning_rate': 0.19992827966231438, 'max_depth': 10, 'n_estimators': 373, 'subsample': 0.6625403214452663, 'colsample_bytree': 0.7898386443435197, 'reg_lambda': 1.5874141338451997, 'reg_alpha': 0.17880476538633924, 'min_child_weight': 8}. Best is trial 79 with value: 0.4857142857142857.\n",
      "[I 2025-08-24 15:56:52,006] Trial 95 finished with value: 0.36923076923076925 and parameters: {'learning_rate': 0.05569946678926102, 'max_depth': 10, 'n_estimators': 369, 'subsample': 0.6685358851581571, 'colsample_bytree': 0.8014426869421646, 'reg_lambda': 1.593247872287354, 'reg_alpha': 0.2786233977774363, 'min_child_weight': 9}. Best is trial 79 with value: 0.4857142857142857.\n",
      "[I 2025-08-24 15:56:50,949] Trial 96 finished with value: 0.37333333333333335 and parameters: {'learning_rate': 0.11800846784222774, 'max_depth': 9, 'n_estimators': 361, 'subsample': 0.7192835527618026, 'colsample_bytree': 0.7840115354191453, 'reg_lambda': 1.3923985255650204, 'reg_alpha': 0.4192030957133852, 'min_child_weight': 8}. Best is trial 79 with value: 0.4857142857142857.\n",
      "[I 2025-08-24 15:56:52,446] Trial 97 finished with value: 0.42424242424242425 and parameters: {'learning_rate': 0.19979835063867157, 'max_depth': 11, 'n_estimators': 400, 'subsample': 0.6913080712622356, 'colsample_bytree': 0.7641804649425763, 'reg_lambda': 1.512760765899378, 'reg_alpha': 0.1794010906923299, 'min_child_weight': 8}. Best is trial 79 with value: 0.4857142857142857.\n",
      "[I 2025-08-24 15:56:53,495] Trial 98 finished with value: 0.4507042253521127 and parameters: {'learning_rate': 0.1711191590676917, 'max_depth': 8, 'n_estimators': 379, 'subsample': 0.7354789859824663, 'colsample_bytree': 0.9372610976032141, 'reg_lambda': 1.6795707190464582, 'reg_alpha': 0.4717480048307432, 'min_child_weight': 8}. Best is trial 79 with value: 0.4857142857142857.\n",
      "[I 2025-08-24 15:56:54,497] Trial 99 finished with value: 0.3888888888888889 and parameters: {'learning_rate': 0.17488262767121796, 'max_depth': 8, 'n_estimators': 389, 'subsample': 0.7615481881923877, 'colsample_bytree': 0.9179740905631493, 'reg_lambda': 1.6961404536394575, 'reg_alpha': 0.4709076146083614, 'min_child_weight': 9}. Best is trial 79 with value: 0.4857142857142857.\n",
      "[I 2025-08-24 15:56:55,806] Trial 100 finished with value: 0.4 and parameters: {'learning_rate': 0.1694190245873885, 'max_depth': 10, 'n_estimators': 353, 'subsample': 0.7411762532723475, 'colsample_bytree': 0.9363542155628033, 'reg_lambda': 1.6464505363914475, 'reg_alpha': 0.5350686906174108, 'min_child_weight': 8}. Best is trial 79 with value: 0.4857142857142857.\n",
      "[I 2025-08-24 15:56:57,095] Trial 101 finished with value: 0.34375 and parameters: {'learning_rate': 0.16005615583294702, 'max_depth': 8, 'n_estimators': 376, 'subsample': 0.7310067455073775, 'colsample_bytree': 0.965891191871765, 'reg_lambda': 1.5527147456333101, 'reg_alpha': 0.6035745249985601, 'min_child_weight': 7}. Best is trial 79 with value: 0.4857142857142857.\n",
      "[I 2025-08-24 15:56:58,736] Trial 102 finished with value: 0.43478260869565216 and parameters: {'learning_rate': 0.07791123133029991, 'max_depth': 7, 'n_estimators': 413, 'subsample': 0.7054952941303254, 'colsample_bytree': 0.9477244726147563, 'reg_lambda': 1.7528561247411125, 'reg_alpha': 0.31867726815805003, 'min_child_weight': 8}. Best is trial 79 with value: 0.4857142857142857.\n",
      "[I 2025-08-24 15:56:59,435] Trial 103 finished with value: 0.42857142857142855 and parameters: {'learning_rate': 0.17969805024793392, 'max_depth': 9, 'n_estimators': 289, 'subsample': 0.7724039593890182, 'colsample_bytree': 0.9263890333371005, 'reg_lambda': 1.669741862534722, 'reg_alpha': 0.3689177115885966, 'min_child_weight': 8}. Best is trial 79 with value: 0.4857142857142857.\n",
      "[I 2025-08-24 15:57:00,308] Trial 104 finished with value: 0.3888888888888889 and parameters: {'learning_rate': 0.10671990593398016, 'max_depth': 8, 'n_estimators': 332, 'subsample': 0.7148696617194865, 'colsample_bytree': 0.9917630340014668, 'reg_lambda': 1.8019923816677803, 'reg_alpha': 0.43405856237266294, 'min_child_weight': 8}. Best is trial 79 with value: 0.4857142857142857.\n",
      "[I 2025-08-24 15:57:01,511] Trial 105 finished with value: 0.37142857142857144 and parameters: {'learning_rate': 0.06878922112018213, 'max_depth': 10, 'n_estimators': 367, 'subsample': 0.7888000060084037, 'colsample_bytree': 0.7557468155768488, 'reg_lambda': 1.4689524139777292, 'reg_alpha': 0.2568548446083679, 'min_child_weight': 7}. Best is trial 79 with value: 0.4857142857142857.\n",
      "[I 2025-08-24 15:57:03,810] Trial 106 finished with value: 0.3611111111111111 and parameters: {'learning_rate': 0.13251438250459358, 'max_depth': 11, 'n_estimators': 458, 'subsample': 0.7558425812787929, 'colsample_bytree': 0.7901870011209116, 'reg_lambda': 1.6287017951709868, 'reg_alpha': 0.7772651258881822, 'min_child_weight': 9}. Best is trial 79 with value: 0.4857142857142857.\n",
      "[I 2025-08-24 15:57:06,367] Trial 107 finished with value: 0.43478260869565216 and parameters: {'learning_rate': 0.08614661484557815, 'max_depth': 9, 'n_estimators': 499, 'subsample': 0.6574238828899847, 'colsample_bytree': 0.7390267226733842, 'reg_lambda': 1.2809240280397667, 'reg_alpha': 0.18756026913360518, 'min_child_weight': 9}. Best is trial 79 with value: 0.4857142857142857.\n",
      "[I 2025-08-24 15:57:07,784] Trial 108 finished with value: 0.37681159420289856 and parameters: {'learning_rate': 0.1910173916153378, 'max_depth': 6, 'n_estimators': 380, 'subsample': 0.6819495689412263, 'colsample_bytree': 0.8965270218923449, 'reg_lambda': 1.3779375835595615, 'reg_alpha': 0.5136382004015247, 'min_child_weight': 8}. Best is trial 79 with value: 0.4857142857142857.\n",
      "[I 2025-08-24 15:57:09,370] Trial 109 finished with value: 0.4444444444444444 and parameters: {'learning_rate': 0.09628092532806025, 'max_depth': 16, 'n_estimators': 343, 'subsample': 0.6479154315388876, 'colsample_bytree': 0.9173555315250478, 'reg_lambda': 1.4397523487852695, 'reg_alpha': 0.21018072794942816, 'min_child_weight': 7}. Best is trial 79 with value: 0.4857142857142857.\n",
      "[I 2025-08-24 15:57:10,377] Trial 110 finished with value: 0.2857142857142857 and parameters: {'learning_rate': 0.048470428677577344, 'max_depth': 16, 'n_estimators': 177, 'subsample': 0.6323947772364322, 'colsample_bytree': 0.8774027163085041, 'reg_lambda': 1.446784670748389, 'reg_alpha': 0.2360493097191811, 'min_child_weight': 7}. Best is trial 79 with value: 0.4857142857142857.\n",
      "[I 2025-08-24 15:57:13,283] Trial 111 finished with value: 0.43478260869565216 and parameters: {'learning_rate': 0.09461621081732614, 'max_depth': 15, 'n_estimators': 345, 'subsample': 0.6431073424422613, 'colsample_bytree': 0.9127688595397601, 'reg_lambda': 1.3086982824751552, 'reg_alpha': 0.4026217685275537, 'min_child_weight': 7}. Best is trial 79 with value: 0.4857142857142857.\n",
      "[I 2025-08-24 15:57:14,629] Trial 112 finished with value: 0.42857142857142855 and parameters: {'learning_rate': 0.07617794318243232, 'max_depth': 16, 'n_estimators': 359, 'subsample': 0.6551291407939577, 'colsample_bytree': 0.9370018446899283, 'reg_lambda': 1.4995493487131824, 'reg_alpha': 0.07959959506724804, 'min_child_weight': 7}. Best is trial 79 with value: 0.4857142857142857.\n",
      "[I 2025-08-24 15:57:15,698] Trial 113 finished with value: 0.4225352112676056 and parameters: {'learning_rate': 0.09040630055384478, 'max_depth': 15, 'n_estimators': 339, 'subsample': 0.6672867820970833, 'colsample_bytree': 0.9727344984904711, 'reg_lambda': 1.5620218053316282, 'reg_alpha': 0.2873929802060656, 'min_child_weight': 8}. Best is trial 79 with value: 0.4857142857142857.\n",
      "[I 2025-08-24 15:57:16,863] Trial 114 finished with value: 0.3380281690140845 and parameters: {'learning_rate': 0.11173386512958525, 'max_depth': 16, 'n_estimators': 439, 'subsample': 0.6741790397785207, 'colsample_bytree': 0.9608489027750376, 'reg_lambda': 1.6026824545230771, 'reg_alpha': 1.628287046026398, 'min_child_weight': 8}. Best is trial 79 with value: 0.4857142857142857.\n",
      "[I 2025-08-24 15:57:17,869] Trial 115 finished with value: 0.4225352112676056 and parameters: {'learning_rate': 0.14226818638771577, 'max_depth': 15, 'n_estimators': 393, 'subsample': 0.6274384382525245, 'colsample_bytree': 0.8666819377990573, 'reg_lambda': 1.5084488641280456, 'reg_alpha': 0.34335419564988634, 'min_child_weight': 4}. Best is trial 79 with value: 0.4857142857142857.\n",
      "[I 2025-08-24 15:57:18,933] Trial 116 finished with value: 0.43478260869565216 and parameters: {'learning_rate': 0.08157399823728732, 'max_depth': 10, 'n_estimators': 328, 'subsample': 0.6487352796792061, 'colsample_bytree': 0.9203923750579397, 'reg_lambda': 1.9753066272145776, 'reg_alpha': 0.4691057091986639, 'min_child_weight': 7}. Best is trial 79 with value: 0.4857142857142857.\n",
      "[I 2025-08-24 15:57:20,099] Trial 117 finished with value: 0.34782608695652173 and parameters: {'learning_rate': 0.1259572446207505, 'max_depth': 7, 'n_estimators': 481, 'subsample': 0.7252448427716588, 'colsample_bytree': 0.9404496438579388, 'reg_lambda': 1.720675186103679, 'reg_alpha': 1.11381878594601, 'min_child_weight': 5}. Best is trial 79 with value: 0.4857142857142857.\n",
      "[I 2025-08-24 15:57:20,688] Trial 118 finished with value: 0.4383561643835616 and parameters: {'learning_rate': 0.09954104845223759, 'max_depth': 3, 'n_estimators': 354, 'subsample': 0.7363320575369167, 'colsample_bytree': 0.8110304773785302, 'reg_lambda': 1.3304576712899574, 'reg_alpha': 0.19792185215813968, 'min_child_weight': 8}. Best is trial 79 with value: 0.4857142857142857.\n",
      "[I 2025-08-24 15:57:21,358] Trial 119 finished with value: 0.3125 and parameters: {'learning_rate': 0.07095990068800824, 'max_depth': 9, 'n_estimators': 137, 'subsample': 0.6624621964945868, 'colsample_bytree': 0.9820706283337465, 'reg_lambda': 1.6719727944901484, 'reg_alpha': 0.13496387235094787, 'min_child_weight': 7}. Best is trial 79 with value: 0.4857142857142857.\n",
      "[I 2025-08-24 15:57:22,182] Trial 120 finished with value: 0.38235294117647056 and parameters: {'learning_rate': 0.1579335828668283, 'max_depth': 5, 'n_estimators': 371, 'subsample': 0.6206718661706997, 'colsample_bytree': 0.9513196124913141, 'reg_lambda': 1.4229654946917472, 'reg_alpha': 0.31220147971578927, 'min_child_weight': 8}. Best is trial 79 with value: 0.4857142857142857.\n",
      "[I 2025-08-24 15:57:20,159] Trial 121 finished with value: 0.42857142857142855 and parameters: {'learning_rate': 0.10458749097652206, 'max_depth': 2, 'n_estimators': 353, 'subsample': 0.7358285634783522, 'colsample_bytree': 0.8126241549507532, 'reg_lambda': 1.3228734300654539, 'reg_alpha': 0.11207166200805606, 'min_child_weight': 8}. Best is trial 79 with value: 0.4857142857142857.\n",
      "[I 2025-08-24 15:57:20,768] Trial 122 finished with value: 0.4166666666666667 and parameters: {'learning_rate': 0.09510776415547673, 'max_depth': 3, 'n_estimators': 322, 'subsample': 0.6994299971053536, 'colsample_bytree': 0.8242112280209193, 'reg_lambda': 1.3622305702843562, 'reg_alpha': 0.213938913002871, 'min_child_weight': 8}. Best is trial 79 with value: 0.4857142857142857.\n",
      "[I 2025-08-24 15:57:21,306] Trial 123 finished with value: 0.4057971014492754 and parameters: {'learning_rate': 0.098196207559266, 'max_depth': 3, 'n_estimators': 276, 'subsample': 0.7443291779266064, 'colsample_bytree': 0.8356078473577706, 'reg_lambda': 1.272123939253686, 'reg_alpha': 0.18530125918062088, 'min_child_weight': 8}. Best is trial 79 with value: 0.4857142857142857.\n",
      "[I 2025-08-24 15:57:21,853] Trial 124 finished with value: 0.38235294117647056 and parameters: {'learning_rate': 0.08722909135246304, 'max_depth': 2, 'n_estimators': 362, 'subsample': 0.7679548597402382, 'colsample_bytree': 0.8071545665447675, 'reg_lambda': 1.2223771942396837, 'reg_alpha': 0.555700818081488, 'min_child_weight': 7}. Best is trial 79 with value: 0.4857142857142857.\n",
      "[I 2025-08-24 15:57:22,843] Trial 125 finished with value: 0.4057971014492754 and parameters: {'learning_rate': 0.08029982829411204, 'max_depth': 16, 'n_estimators': 383, 'subsample': 0.7514994842675978, 'colsample_bytree': 0.8473829107287805, 'reg_lambda': 1.1126914277755835, 'reg_alpha': 0.35818204424019967, 'min_child_weight': 9}. Best is trial 79 with value: 0.4857142857142857.\n",
      "[I 2025-08-24 15:57:23,701] Trial 126 finished with value: 0.4507042253521127 and parameters: {'learning_rate': 0.1176486386896457, 'max_depth': 8, 'n_estimators': 405, 'subsample': 0.6882748337085817, 'colsample_bytree': 0.7739040225257103, 'reg_lambda': 1.8457083211776373, 'reg_alpha': 0.27230758766403407, 'min_child_weight': 8}. Best is trial 79 with value: 0.4857142857142857.\n",
      "[I 2025-08-24 15:57:24,755] Trial 127 finished with value: 0.4657534246575342 and parameters: {'learning_rate': 0.11998590208128088, 'max_depth': 8, 'n_estimators': 408, 'subsample': 0.7104860569482001, 'colsample_bytree': 0.792780078379141, 'reg_lambda': 1.858507976491231, 'reg_alpha': 0.25935907804530933, 'min_child_weight': 9}. Best is trial 79 with value: 0.4857142857142857.\n",
      "[I 2025-08-24 15:57:25,588] Trial 128 finished with value: 0.4411764705882353 and parameters: {'learning_rate': 0.12179061277330927, 'max_depth': 8, 'n_estimators': 406, 'subsample': 0.6910701092252783, 'colsample_bytree': 0.7820738238743884, 'reg_lambda': 1.8296243280881541, 'reg_alpha': 0.24535710425985974, 'min_child_weight': 9}. Best is trial 79 with value: 0.4857142857142857.\n",
      "[I 2025-08-24 15:57:26,505] Trial 129 finished with value: 0.39436619718309857 and parameters: {'learning_rate': 0.11545158422850542, 'max_depth': 8, 'n_estimators': 446, 'subsample': 0.6847831154133204, 'colsample_bytree': 0.7680277204942408, 'reg_lambda': 1.7751593637936147, 'reg_alpha': 0.16108486915918646, 'min_child_weight': 10}. Best is trial 79 with value: 0.4857142857142857.\n",
      "[I 2025-08-24 15:57:27,533] Trial 130 finished with value: 0.42857142857142855 and parameters: {'learning_rate': 0.12874399646205661, 'max_depth': 11, 'n_estimators': 427, 'subsample': 0.6357560377458429, 'colsample_bytree': 0.7899545686719884, 'reg_lambda': 1.8690984786978948, 'reg_alpha': 0.27261875220554654, 'min_child_weight': 6}. Best is trial 79 with value: 0.4857142857142857.\n",
      "[I 2025-08-24 15:57:28,342] Trial 131 finished with value: 0.45454545454545453 and parameters: {'learning_rate': 0.1377750674841082, 'max_depth': 7, 'n_estimators': 400, 'subsample': 0.7074353221866908, 'colsample_bytree': 0.7773749094527886, 'reg_lambda': 1.9104917600636409, 'reg_alpha': 0.399940179306215, 'min_child_weight': 8}. Best is trial 79 with value: 0.4857142857142857.\n",
      "[I 2025-08-24 15:57:29,194] Trial 132 finished with value: 0.35294117647058826 and parameters: {'learning_rate': 0.1414859048581467, 'max_depth': 8, 'n_estimators': 403, 'subsample': 0.7072529343214063, 'colsample_bytree': 0.7736526660796788, 'reg_lambda': 1.9222509537134935, 'reg_alpha': 0.3829743140424919, 'min_child_weight': 7}. Best is trial 79 with value: 0.4857142857142857.\n",
      "[I 2025-08-24 15:57:30,100] Trial 133 finished with value: 0.3783783783783784 and parameters: {'learning_rate': 0.1508720113356504, 'max_depth': 7, 'n_estimators': 419, 'subsample': 0.7209707748501346, 'colsample_bytree': 0.7449101913073125, 'reg_lambda': 1.8138903549684877, 'reg_alpha': 0.32431714951061386, 'min_child_weight': 9}. Best is trial 79 with value: 0.4857142857142857.\n",
      "[I 2025-08-24 15:57:30,913] Trial 134 finished with value: 0.4507042253521127 and parameters: {'learning_rate': 0.13526449731081627, 'max_depth': 9, 'n_estimators': 394, 'subsample': 0.6987267928420597, 'colsample_bytree': 0.7891125951716308, 'reg_lambda': 1.7554881507092084, 'reg_alpha': 0.44292107076289555, 'min_child_weight': 8}. Best is trial 79 with value: 0.4857142857142857.\n",
      "[I 2025-08-24 15:57:31,692] Trial 135 finished with value: 0.42857142857142855 and parameters: {'learning_rate': 0.1682958073033313, 'max_depth': 9, 'n_estimators': 409, 'subsample': 0.6956259843323902, 'colsample_bytree': 0.798609606665694, 'reg_lambda': 1.747750139148605, 'reg_alpha': 0.4142046061539899, 'min_child_weight': 8}. Best is trial 79 with value: 0.4857142857142857.\n",
      "[I 2025-08-24 15:57:32,470] Trial 136 finished with value: 0.37681159420289856 and parameters: {'learning_rate': 0.18597913327951257, 'max_depth': 9, 'n_estimators': 399, 'subsample': 0.7043336290536651, 'colsample_bytree': 0.779305385090647, 'reg_lambda': 1.6949044041877381, 'reg_alpha': 0.44776638130233326, 'min_child_weight': 8}. Best is trial 79 with value: 0.4857142857142857.\n",
      "[I 2025-08-24 15:57:33,520] Trial 137 finished with value: 0.4 and parameters: {'learning_rate': 0.15859459112709606, 'max_depth': 8, 'n_estimators': 383, 'subsample': 0.7113173946163454, 'colsample_bytree': 0.7560636304027469, 'reg_lambda': 1.8567819888076378, 'reg_alpha': 0.48325684200151814, 'min_child_weight': 9}. Best is trial 79 with value: 0.4857142857142857.\n",
      "[I 2025-08-24 15:57:34,334] Trial 138 finished with value: 0.4411764705882353 and parameters: {'learning_rate': 0.13237739102081225, 'max_depth': 10, 'n_estimators': 392, 'subsample': 0.6775399925393202, 'colsample_bytree': 0.7914762466079214, 'reg_lambda': 1.7866786630773723, 'reg_alpha': 0.37512252186215256, 'min_child_weight': 8}. Best is trial 79 with value: 0.4857142857142857.\n",
      "[I 2025-08-24 15:57:35,232] Trial 139 finished with value: 0.4307692307692308 and parameters: {'learning_rate': 0.14083387340524806, 'max_depth': 8, 'n_estimators': 473, 'subsample': 0.7188776929886307, 'colsample_bytree': 0.7228737476823515, 'reg_lambda': 1.6359255541637951, 'reg_alpha': 0.3106644308828288, 'min_child_weight': 8}. Best is trial 79 with value: 0.4857142857142857.\n",
      "[I 2025-08-24 15:57:36,353] Trial 140 finished with value: 0.42105263157894735 and parameters: {'learning_rate': 0.11761846081549117, 'max_depth': 10, 'n_estimators': 412, 'subsample': 0.6901315853029898, 'colsample_bytree': 0.7671685846317231, 'reg_lambda': 1.7216684660677755, 'reg_alpha': 0.5158768201448919, 'min_child_weight': 5}. Best is trial 79 with value: 0.4857142857142857.\n",
      "[I 2025-08-24 15:57:37,258] Trial 141 finished with value: 0.42857142857142855 and parameters: {'learning_rate': 0.10829109503619397, 'max_depth': 9, 'n_estimators': 372, 'subsample': 0.6513881063304405, 'colsample_bytree': 0.7970154036610475, 'reg_lambda': 1.8878413716255187, 'reg_alpha': 0.8628315636820671, 'min_child_weight': 7}. Best is trial 79 with value: 0.4857142857142857.\n",
      "[I 2025-08-24 15:57:38,146] Trial 142 finished with value: 0.4166666666666667 and parameters: {'learning_rate': 0.17813392945601997, 'max_depth': 7, 'n_estimators': 491, 'subsample': 0.6412761537095335, 'colsample_bytree': 0.8202917885443701, 'reg_lambda': 1.583304610810437, 'reg_alpha': 0.26562746077177546, 'min_child_weight': 8}. Best is trial 79 with value: 0.4857142857142857.\n",
      "[I 2025-08-24 15:57:39,107] Trial 143 finished with value: 0.4444444444444444 and parameters: {'learning_rate': 0.19865511426262744, 'max_depth': 9, 'n_estimators': 388, 'subsample': 0.6613167651455929, 'colsample_bytree': 0.9036199961351439, 'reg_lambda': 0.5125219203764714, 'reg_alpha': 0.4220066860623507, 'min_child_weight': 7}. Best is trial 79 with value: 0.4857142857142857.\n",
      "[I 2025-08-24 15:57:39,942] Trial 144 finished with value: 0.3880597014925373 and parameters: {'learning_rate': 0.1302271612995974, 'max_depth': 11, 'n_estimators': 301, 'subsample': 0.6700510615975194, 'colsample_bytree': 0.930168522849752, 'reg_lambda': 1.9428882210175324, 'reg_alpha': 0.3565941748714904, 'min_child_weight': 8}. Best is trial 79 with value: 0.4857142857142857.\n",
      "[I 2025-08-24 15:57:40,785] Trial 145 finished with value: 0.42105263157894735 and parameters: {'learning_rate': 0.15127257657768972, 'max_depth': 14, 'n_estimators': 434, 'subsample': 0.6090717814180542, 'colsample_bytree': 0.7009065830182736, 'reg_lambda': 1.6540299720825629, 'reg_alpha': 0.22241231972040013, 'min_child_weight': 7}. Best is trial 79 with value: 0.4857142857142857.\n",
      "[I 2025-08-24 15:57:41,498] Trial 146 finished with value: 0.37142857142857144 and parameters: {'learning_rate': 0.12144761556699625, 'max_depth': 10, 'n_estimators': 267, 'subsample': 0.6827324587170721, 'colsample_bytree': 0.7848059951305684, 'reg_lambda': 1.5446586378437488, 'reg_alpha': 0.289286359196891, 'min_child_weight': 10}. Best is trial 79 with value: 0.4857142857142857.\n",
      "[I 2025-08-24 15:57:42,399] Trial 147 finished with value: 0.30303030303030304 and parameters: {'learning_rate': 0.033279986563713, 'max_depth': 8, 'n_estimators': 252, 'subsample': 0.6170219141028112, 'colsample_bytree': 0.7588251291255864, 'reg_lambda': 1.8204564616526526, 'reg_alpha': 0.44466561327191795, 'min_child_weight': 6}. Best is trial 79 with value: 0.4857142857142857.\n",
      "[I 2025-08-24 15:57:43,513] Trial 148 finished with value: 0.3188405797101449 and parameters: {'learning_rate': 0.1387268066341089, 'max_depth': 6, 'n_estimators': 378, 'subsample': 0.7017942186132874, 'colsample_bytree': 0.8890599595022441, 'reg_lambda': 1.7479486737272902, 'reg_alpha': 0.9600840457046442, 'min_child_weight': 2}. Best is trial 79 with value: 0.4857142857142857.\n",
      "[I 2025-08-24 15:57:44,379] Trial 149 finished with value: 0.4444444444444444 and parameters: {'learning_rate': 0.11279526249963948, 'max_depth': 10, 'n_estimators': 314, 'subsample': 0.6463591568036409, 'colsample_bytree': 0.9127947029710923, 'reg_lambda': 1.4849883906502397, 'reg_alpha': 0.6875819943492099, 'min_child_weight': 9}. Best is trial 79 with value: 0.4857142857142857.\n",
      "[I 2025-08-24 15:57:45,152] Trial 150 finished with value: 0.44776119402985076 and parameters: {'learning_rate': 0.16839515442306452, 'max_depth': 8, 'n_estimators': 396, 'subsample': 0.7270219241284586, 'colsample_bytree': 0.8008788973836926, 'reg_lambda': 1.596120389079933, 'reg_alpha': 0.14336321212255967, 'min_child_weight': 7}. Best is trial 79 with value: 0.4857142857142857.\n",
      "[I 2025-08-24 15:57:45,910] Trial 151 finished with value: 0.45454545454545453 and parameters: {'learning_rate': 0.1652359711847024, 'max_depth': 8, 'n_estimators': 406, 'subsample': 0.7260055332817397, 'colsample_bytree': 0.800333339775404, 'reg_lambda': 1.601062035506042, 'reg_alpha': 0.10213131738797912, 'min_child_weight': 7}. Best is trial 79 with value: 0.4857142857142857.\n",
      "[I 2025-08-24 15:57:46,719] Trial 152 finished with value: 0.38235294117647056 and parameters: {'learning_rate': 0.16898593601457432, 'max_depth': 8, 'n_estimators': 397, 'subsample': 0.7304865705721612, 'colsample_bytree': 0.83076612971633, 'reg_lambda': 1.6139543555497027, 'reg_alpha': 0.06854089065941564, 'min_child_weight': 8}. Best is trial 79 with value: 0.4857142857142857.\n",
      "[I 2025-08-24 15:57:47,632] Trial 153 finished with value: 0.4 and parameters: {'learning_rate': 0.18017680622427645, 'max_depth': 7, 'n_estimators': 417, 'subsample': 0.7149753441252125, 'colsample_bytree': 0.8078575304582224, 'reg_lambda': 1.6719914478649236, 'reg_alpha': 0.1513501775813019, 'min_child_weight': 7}. Best is trial 79 with value: 0.4857142857142857.\n",
      "[I 2025-08-24 15:57:48,403] Trial 154 finished with value: 0.4 and parameters: {'learning_rate': 0.16317597197988712, 'max_depth': 8, 'n_estimators': 426, 'subsample': 0.7208224072927811, 'colsample_bytree': 0.7754856833673988, 'reg_lambda': 1.583986306820058, 'reg_alpha': 0.042862400830971696, 'min_child_weight': 7}. Best is trial 79 with value: 0.4857142857142857.\n",
      "[I 2025-08-24 15:57:49,179] Trial 155 finished with value: 0.42857142857142855 and parameters: {'learning_rate': 0.15344793496093592, 'max_depth': 9, 'n_estimators': 404, 'subsample': 0.7096491888718153, 'colsample_bytree': 0.7936667605678507, 'reg_lambda': 1.5305495341504882, 'reg_alpha': 0.09853827059954656, 'min_child_weight': 8}. Best is trial 79 with value: 0.4857142857142857.\n",
      "[I 2025-08-24 15:57:50,042] Trial 156 finished with value: 0.37142857142857144 and parameters: {'learning_rate': 0.1925004879863907, 'max_depth': 7, 'n_estimators': 412, 'subsample': 0.7299826015872781, 'colsample_bytree': 0.8029027472899227, 'reg_lambda': 1.7038032311049642, 'reg_alpha': 0.12997361952145176, 'min_child_weight': 7}. Best is trial 79 with value: 0.4857142857142857.\n",
      "[I 2025-08-24 15:57:50,838] Trial 157 finished with value: 0.47761194029850745 and parameters: {'learning_rate': 0.14563395393829115, 'max_depth': 8, 'n_estimators': 386, 'subsample': 0.6980187980319945, 'colsample_bytree': 0.7382546282689909, 'reg_lambda': 1.7780370753003167, 'reg_alpha': 0.3989283061970564, 'min_child_weight': 8}. Best is trial 79 with value: 0.4857142857142857.\n",
      "[I 2025-08-24 15:57:51,664] Trial 158 finished with value: 0.4 and parameters: {'learning_rate': 0.14745623205528385, 'max_depth': 8, 'n_estimators': 388, 'subsample': 0.7417989065786684, 'colsample_bytree': 0.6472539243052005, 'reg_lambda': 1.7817381163866945, 'reg_alpha': 0.4852088657544358, 'min_child_weight': 8}. Best is trial 79 with value: 0.4857142857142857.\n",
      "[I 2025-08-24 15:57:49,871] Trial 159 finished with value: 0.3939393939393939 and parameters: {'learning_rate': 0.13485726716245186, 'max_depth': 7, 'n_estimators': 282, 'subsample': 0.6969590356636943, 'colsample_bytree': 0.7497045185282604, 'reg_lambda': 1.8995947552153678, 'reg_alpha': 0.3936566173432243, 'min_child_weight': 7}. Best is trial 79 with value: 0.4857142857142857.\n",
      "[I 2025-08-24 15:57:51,008] Trial 160 finished with value: 0.3783783783783784 and parameters: {'learning_rate': 0.12712280462559902, 'max_depth': 8, 'n_estimators': 395, 'subsample': 0.7235544567894939, 'colsample_bytree': 0.8170272940259364, 'reg_lambda': 0.9980983762898216, 'reg_alpha': 0.600560673110589, 'min_child_weight': 6}. Best is trial 79 with value: 0.4857142857142857.\n",
      "[I 2025-08-24 15:57:51,774] Trial 161 finished with value: 0.4225352112676056 and parameters: {'learning_rate': 0.17109556208850493, 'max_depth': 8, 'n_estimators': 377, 'subsample': 0.7025855279923827, 'colsample_bytree': 0.7807426084069158, 'reg_lambda': 1.8498501797611597, 'reg_alpha': 0.33471657174065306, 'min_child_weight': 8}. Best is trial 79 with value: 0.4857142857142857.\n",
      "[I 2025-08-24 15:57:52,350] Trial 162 finished with value: 0.463768115942029 and parameters: {'learning_rate': 0.15978571932220245, 'max_depth': 9, 'n_estimators': 231, 'subsample': 0.7126137007439932, 'colsample_bytree': 0.7363705103633094, 'reg_lambda': 1.7502878661814352, 'reg_alpha': 0.4048633019235496, 'min_child_weight': 8}. Best is trial 79 with value: 0.4857142857142857.\n",
      "[I 2025-08-24 15:57:52,945] Trial 163 finished with value: 0.3582089552238806 and parameters: {'learning_rate': 0.14565813308234607, 'max_depth': 9, 'n_estimators': 221, 'subsample': 0.713816715891057, 'colsample_bytree': 0.7386618062215053, 'reg_lambda': 0.8079821432724249, 'reg_alpha': 0.40963785688130977, 'min_child_weight': 8}. Best is trial 79 with value: 0.4857142857142857.\n",
      "[I 2025-08-24 15:57:53,622] Trial 164 finished with value: 0.4 and parameters: {'learning_rate': 0.16058861779512448, 'max_depth': 9, 'n_estimators': 239, 'subsample': 0.7261920407910529, 'colsample_bytree': 0.7199078405493425, 'reg_lambda': 1.7649943702097217, 'reg_alpha': 0.45021336902591647, 'min_child_weight': 8}. Best is trial 79 with value: 0.4857142857142857.\n",
      "[I 2025-08-24 15:57:54,379] Trial 165 finished with value: 0.36363636363636365 and parameters: {'learning_rate': 0.05485264810890585, 'max_depth': 8, 'n_estimators': 226, 'subsample': 0.6961448495450419, 'colsample_bytree': 0.7345722319390993, 'reg_lambda': 1.7263848122397567, 'reg_alpha': 0.3772488503340068, 'min_child_weight': 7}. Best is trial 79 with value: 0.4857142857142857.\n",
      "[I 2025-08-24 15:57:55,051] Trial 166 finished with value: 0.37142857142857144 and parameters: {'learning_rate': 0.06419755191537294, 'max_depth': 7, 'n_estimators': 197, 'subsample': 0.7825308127571564, 'colsample_bytree': 0.6923999188279667, 'reg_lambda': 1.9995291018390482, 'reg_alpha': 0.5410591257794023, 'min_child_weight': 8}. Best is trial 79 with value: 0.4857142857142857.\n",
      "[I 2025-08-24 15:57:56,248] Trial 167 finished with value: 0.3684210526315789 and parameters: {'learning_rate': 0.13412138106312535, 'max_depth': 8, 'n_estimators': 404, 'subsample': 0.7083069826828321, 'colsample_bytree': 0.763858125558347, 'reg_lambda': 1.8132568421185016, 'reg_alpha': 0.0054946337417772495, 'min_child_weight': 9}. Best is trial 79 with value: 0.4857142857142857.\n",
      "[I 2025-08-24 15:57:57,481] Trial 168 finished with value: 0.37681159420289856 and parameters: {'learning_rate': 0.15433879183354704, 'max_depth': 9, 'n_estimators': 497, 'subsample': 0.6888932772241837, 'colsample_bytree': 0.7748058325408839, 'reg_lambda': 1.6514287047958913, 'reg_alpha': 0.4960033846838372, 'min_child_weight': 7}. Best is trial 79 with value: 0.4857142857142857.\n",
      "[I 2025-08-24 15:57:58,328] Trial 169 finished with value: 0.4057971014492754 and parameters: {'learning_rate': 0.14236802942150398, 'max_depth': 8, 'n_estimators': 465, 'subsample': 0.7161328255607332, 'colsample_bytree': 0.5372782778037641, 'reg_lambda': 1.6865962536540577, 'reg_alpha': 0.3030431164688352, 'min_child_weight': 8}. Best is trial 79 with value: 0.4857142857142857.\n",
      "[I 2025-08-24 15:58:00,767] Trial 170 finished with value: 0.34782608695652173 and parameters: {'learning_rate': 0.07486532773431441, 'max_depth': 9, 'n_estimators': 486, 'subsample': 0.7468506341843546, 'colsample_bytree': 0.753147966841626, 'reg_lambda': 1.8741191832494886, 'reg_alpha': 0.3465333521195743, 'min_child_weight': 5}. Best is trial 79 with value: 0.4857142857142857.\n",
      "[I 2025-08-24 15:58:03,665] Trial 171 finished with value: 0.37681159420289856 and parameters: {'learning_rate': 0.18355606564136456, 'max_depth': 10, 'n_estimators': 210, 'subsample': 0.6263863927960509, 'colsample_bytree': 0.7899165221554214, 'reg_lambda': 1.624936258460424, 'reg_alpha': 1.2542661481434938, 'min_child_weight': 8}. Best is trial 79 with value: 0.4857142857142857.\n",
      "[I 2025-08-24 15:58:04,593] Trial 172 finished with value: 0.4 and parameters: {'learning_rate': 0.17016181133441852, 'max_depth': 10, 'n_estimators': 381, 'subsample': 0.7354612654776607, 'colsample_bytree': 0.8022220891329512, 'reg_lambda': 1.5654890551796248, 'reg_alpha': 0.17338265072529715, 'min_child_weight': 8}. Best is trial 79 with value: 0.4857142857142857.\n",
      "[I 2025-08-24 15:58:05,895] Trial 173 finished with value: 0.410958904109589 and parameters: {'learning_rate': 0.16361684108009886, 'max_depth': 8, 'n_estimators': 393, 'subsample': 0.6807977250739988, 'colsample_bytree': 0.7856687495335031, 'reg_lambda': 1.7494723674974964, 'reg_alpha': 0.25668921066298284, 'min_child_weight': 8}. Best is trial 79 with value: 0.4857142857142857.\n",
      "[I 2025-08-24 15:58:07,592] Trial 174 finished with value: 0.4166666666666667 and parameters: {'learning_rate': 0.19916700621704497, 'max_depth': 9, 'n_estimators': 417, 'subsample': 0.6343523422188261, 'colsample_bytree': 0.7696918784067222, 'reg_lambda': 1.6043350752930654, 'reg_alpha': 0.4239115776341107, 'min_child_weight': 8}. Best is trial 79 with value: 0.4857142857142857.\n",
      "[I 2025-08-24 15:58:09,491] Trial 175 finished with value: 0.2727272727272727 and parameters: {'learning_rate': 0.013572094460829657, 'max_depth': 12, 'n_estimators': 369, 'subsample': 0.8119542708367451, 'colsample_bytree': 0.8151661758695485, 'reg_lambda': 1.7979766240580557, 'reg_alpha': 0.30994163285080245, 'min_child_weight': 8}. Best is trial 79 with value: 0.4857142857142857.\n",
      "[I 2025-08-24 15:58:10,576] Trial 176 finished with value: 0.3939393939393939 and parameters: {'learning_rate': 0.18047018007772006, 'max_depth': 11, 'n_estimators': 231, 'subsample': 0.692236893705228, 'colsample_bytree': 0.6633978688498307, 'reg_lambda': 1.7175633057211777, 'reg_alpha': 0.3810976064419877, 'min_child_weight': 7}. Best is trial 79 with value: 0.4857142857142857.\n",
      "[I 2025-08-24 15:58:11,815] Trial 177 finished with value: 0.4473684210526316 and parameters: {'learning_rate': 0.12640735173785322, 'max_depth': 7, 'n_estimators': 400, 'subsample': 0.7027619906180107, 'colsample_bytree': 0.9440336695762702, 'reg_lambda': 1.9221003936100576, 'reg_alpha': 0.24055421850597508, 'min_child_weight': 8}. Best is trial 79 with value: 0.4857142857142857.\n",
      "[I 2025-08-24 15:58:13,155] Trial 178 finished with value: 0.34782608695652173 and parameters: {'learning_rate': 0.12243733180153332, 'max_depth': 6, 'n_estimators': 408, 'subsample': 0.7015797350155476, 'colsample_bytree': 0.957241690974971, 'reg_lambda': 1.856623096113122, 'reg_alpha': 0.2416302303024229, 'min_child_weight': 9}. Best is trial 79 with value: 0.4857142857142857.\n",
      "[I 2025-08-24 15:58:14,251] Trial 179 finished with value: 0.3888888888888889 and parameters: {'learning_rate': 0.12781064053095578, 'max_depth': 7, 'n_estimators': 293, 'subsample': 0.7098586629776809, 'colsample_bytree': 0.9441347496257402, 'reg_lambda': 1.9415690032810784, 'reg_alpha': 0.4557510040409422, 'min_child_weight': 8}. Best is trial 79 with value: 0.4857142857142857.\n",
      "[I 2025-08-24 15:58:16,414] Trial 180 finished with value: 0.3880597014925373 and parameters: {'learning_rate': 0.06063460984921424, 'max_depth': 7, 'n_estimators': 447, 'subsample': 0.7177303147638694, 'colsample_bytree': 0.9336461443154751, 'reg_lambda': 1.9034415127363287, 'reg_alpha': 0.3452205128189707, 'min_child_weight': 7}. Best is trial 79 with value: 0.4857142857142857.\n",
      "[I 2025-08-24 15:58:17,360] Trial 181 finished with value: 0.36619718309859156 and parameters: {'learning_rate': 0.14843081702759864, 'max_depth': 9, 'n_estimators': 385, 'subsample': 0.702733994455144, 'colsample_bytree': 0.9437867262329044, 'reg_lambda': 1.8398431127968167, 'reg_alpha': 0.10687102128123196, 'min_child_weight': 8}. Best is trial 79 with value: 0.4857142857142857.\n",
      "[I 2025-08-24 15:58:18,907] Trial 182 finished with value: 0.3582089552238806 and parameters: {'learning_rate': 0.11796185165084742, 'max_depth': 8, 'n_estimators': 398, 'subsample': 0.8362762755930334, 'colsample_bytree': 0.707933518948667, 'reg_lambda': 1.9473889039137178, 'reg_alpha': 0.1631763472352384, 'min_child_weight': 8}. Best is trial 79 with value: 0.4857142857142857.\n",
      "[I 2025-08-24 15:58:20,176] Trial 183 finished with value: 0.42424242424242425 and parameters: {'learning_rate': 0.13504424412794522, 'max_depth': 10, 'n_estimators': 398, 'subsample': 0.6871238081932544, 'colsample_bytree': 0.7978325774944769, 'reg_lambda': 1.6595721204337157, 'reg_alpha': 0.27158083591334314, 'min_child_weight': 8}. Best is trial 79 with value: 0.4857142857142857.\n",
      "[I 2025-08-24 15:58:21,756] Trial 184 finished with value: 0.4 and parameters: {'learning_rate': 0.15813818762510193, 'max_depth': 5, 'n_estimators': 435, 'subsample': 0.7282529600395742, 'colsample_bytree': 0.9243157801053127, 'reg_lambda': 1.7902743781225907, 'reg_alpha': 0.3872383047344327, 'min_child_weight': 8}. Best is trial 79 with value: 0.4857142857142857.\n",
      "[I 2025-08-24 15:58:20,142] Trial 185 finished with value: 0.3835616438356164 and parameters: {'learning_rate': 0.1773944479294674, 'max_depth': 9, 'n_estimators': 387, 'subsample': 0.6770705713128531, 'colsample_bytree': 0.9651602525127447, 'reg_lambda': 1.5241881183045327, 'reg_alpha': 0.20777984546586326, 'min_child_weight': 9}. Best is trial 79 with value: 0.4857142857142857.\n",
      "[I 2025-08-24 15:58:21,181] Trial 186 finished with value: 0.42857142857142855 and parameters: {'learning_rate': 0.14231453060576235, 'max_depth': 8, 'n_estimators': 424, 'subsample': 0.6964233274819299, 'colsample_bytree': 0.8274885119811771, 'reg_lambda': 1.6863887975353615, 'reg_alpha': 0.2846496717221427, 'min_child_weight': 8}. Best is trial 79 with value: 0.4857142857142857.\n",
      "[I 2025-08-24 15:58:23,001] Trial 187 finished with value: 0.4057971014492754 and parameters: {'learning_rate': 0.10629069613567001, 'max_depth': 7, 'n_estimators': 375, 'subsample': 0.6693362404170675, 'colsample_bytree': 0.7791660574602194, 'reg_lambda': 1.5845725039692173, 'reg_alpha': 0.22296947064888936, 'min_child_weight': 7}. Best is trial 79 with value: 0.4857142857142857.\n",
      "[I 2025-08-24 15:58:24,427] Trial 188 finished with value: 0.44776119402985076 and parameters: {'learning_rate': 0.06849846900624625, 'max_depth': 8, 'n_estimators': 259, 'subsample': 0.638516508486317, 'colsample_bytree': 0.9529827270367387, 'reg_lambda': 1.9005239308066202, 'reg_alpha': 0.07730167417823801, 'min_child_weight': 7}. Best is trial 79 with value: 0.4857142857142857.\n",
      "[I 2025-08-24 15:58:25,808] Trial 189 finished with value: 0.463768115942029 and parameters: {'learning_rate': 0.06601931554041779, 'max_depth': 8, 'n_estimators': 274, 'subsample': 0.6286286786181476, 'colsample_bytree': 0.9527619177468858, 'reg_lambda': 1.8842144019159082, 'reg_alpha': 0.05708126017499849, 'min_child_weight': 7}. Best is trial 79 with value: 0.4857142857142857.\n",
      "[I 2025-08-24 15:58:27,581] Trial 190 finished with value: 0.36363636363636365 and parameters: {'learning_rate': 0.05746605001004329, 'max_depth': 8, 'n_estimators': 262, 'subsample': 0.6213909042503777, 'colsample_bytree': 0.9844965079524498, 'reg_lambda': 1.831370240625658, 'reg_alpha': 0.052987126705920984, 'min_child_weight': 7}. Best is trial 79 with value: 0.4857142857142857.\n",
      "[I 2025-08-24 15:58:29,553] Trial 191 finished with value: 0.417910447761194 and parameters: {'learning_rate': 0.06729502429044407, 'max_depth': 8, 'n_estimators': 266, 'subsample': 0.6380703887565219, 'colsample_bytree': 0.9616622147124996, 'reg_lambda': 1.9018636108408937, 'reg_alpha': 0.07957207213479554, 'min_child_weight': 7}. Best is trial 79 with value: 0.4857142857142857.\n",
      "[I 2025-08-24 15:58:31,639] Trial 192 finished with value: 0.417910447761194 and parameters: {'learning_rate': 0.06710222332104503, 'max_depth': 8, 'n_estimators': 290, 'subsample': 0.6245317078701926, 'colsample_bytree': 0.9366255807969193, 'reg_lambda': 1.8782789124005856, 'reg_alpha': 0.027066035978450774, 'min_child_weight': 7}. Best is trial 79 with value: 0.4857142857142857.\n",
      "[I 2025-08-24 15:58:33,057] Trial 193 finished with value: 0.4 and parameters: {'learning_rate': 0.07143913977135966, 'max_depth': 8, 'n_estimators': 276, 'subsample': 0.6149600619755493, 'colsample_bytree': 0.9556804653396734, 'reg_lambda': 1.9318526978013812, 'reg_alpha': 0.0015892377097907612, 'min_child_weight': 7}. Best is trial 79 with value: 0.4857142857142857.\n",
      "[I 2025-08-24 15:58:33,868] Trial 194 finished with value: 0.3880597014925373 and parameters: {'learning_rate': 0.060416297720026414, 'max_depth': 4, 'n_estimators': 256, 'subsample': 0.6293897361233878, 'colsample_bytree': 0.9749430277034106, 'reg_lambda': 1.7677843286265797, 'reg_alpha': 0.10893859757024285, 'min_child_weight': 7}. Best is trial 79 with value: 0.4857142857142857.\n",
      "[I 2025-08-24 15:58:35,001] Trial 195 finished with value: 0.45714285714285713 and parameters: {'learning_rate': 0.07880959295668054, 'max_depth': 8, 'n_estimators': 248, 'subsample': 0.6428895679866697, 'colsample_bytree': 0.9486403294423655, 'reg_lambda': 1.954218263525016, 'reg_alpha': 0.08683887854634312, 'min_child_weight': 6}. Best is trial 79 with value: 0.4857142857142857.\n",
      "[I 2025-08-24 15:58:36,093] Trial 196 finished with value: 0.45714285714285713 and parameters: {'learning_rate': 0.07706387106069058, 'max_depth': 8, 'n_estimators': 235, 'subsample': 0.6409942066055595, 'colsample_bytree': 0.9478914364737809, 'reg_lambda': 1.8441582910597507, 'reg_alpha': 0.050542273562647504, 'min_child_weight': 6}. Best is trial 79 with value: 0.4857142857142857.\n",
      "[I 2025-08-24 15:58:37,392] Trial 197 finished with value: 0.42424242424242425 and parameters: {'learning_rate': 0.07931465127062882, 'max_depth': 8, 'n_estimators': 245, 'subsample': 0.6545438307785398, 'colsample_bytree': 0.9292784683038736, 'reg_lambda': 1.967974705842053, 'reg_alpha': 0.05379297784619688, 'min_child_weight': 6}. Best is trial 79 with value: 0.4857142857142857.\n",
      "[I 2025-08-24 15:58:38,635] Trial 198 finished with value: 0.34782608695652173 and parameters: {'learning_rate': 0.08482448841095595, 'max_depth': 9, 'n_estimators': 299, 'subsample': 0.6429351467437905, 'colsample_bytree': 0.5982462272092882, 'reg_lambda': 1.829981415215519, 'reg_alpha': 0.12399290158502682, 'min_child_weight': 6}. Best is trial 79 with value: 0.4857142857142857.\n",
      "[I 2025-08-24 15:58:39,921] Trial 199 finished with value: 0.4225352112676056 and parameters: {'learning_rate': 0.07667135791155073, 'max_depth': 8, 'n_estimators': 248, 'subsample': 0.6002018006078546, 'colsample_bytree': 0.9225688660048363, 'reg_lambda': 1.7336534774654286, 'reg_alpha': 0.491536094851156, 'min_child_weight': 5}. Best is trial 79 with value: 0.4857142857142857.\n"
     ]
    }
   ],
   "source": [
    "set_seeds(SEED)\n",
    "study = optuna.create_study(\n",
    "    direction=\"maximize\",\n",
    "    sampler=optuna.samplers.TPESampler(seed=SEED)\n",
    ")\n",
    "study.optimize(objective, n_trials=200)"
   ]
  },
  {
   "cell_type": "code",
   "execution_count": 10,
   "id": "bdc4a721",
   "metadata": {},
   "outputs": [
    {
     "data": {
      "application/vnd.plotly.v1+json": {
       "config": {
        "plotlyServerURL": "https://plot.ly"
       },
       "data": [
        {
         "mode": "markers",
         "name": "Objective Value",
         "type": "scatter",
         "x": [
          0,
          1,
          2,
          3,
          4,
          5,
          6,
          7,
          8,
          9,
          10,
          11,
          12,
          13,
          14,
          15,
          16,
          17,
          18,
          19,
          20,
          21,
          22,
          23,
          24,
          25,
          26,
          27,
          28,
          29,
          30,
          31,
          32,
          33,
          34,
          35,
          36,
          37,
          38,
          39,
          40,
          41,
          42,
          43,
          44,
          45,
          46,
          47,
          48,
          49,
          50,
          51,
          52,
          53,
          54,
          55,
          56,
          57,
          58,
          59,
          60,
          61,
          62,
          63,
          64,
          65,
          66,
          67,
          68,
          69,
          70,
          71,
          72,
          73,
          74,
          75,
          76,
          77,
          78,
          79,
          80,
          81,
          82,
          83,
          84,
          85,
          86,
          87,
          88,
          89,
          90,
          91,
          92,
          93,
          94,
          95,
          96,
          97,
          98,
          99,
          100,
          101,
          102,
          103,
          104,
          105,
          106,
          107,
          108,
          109,
          110,
          111,
          112,
          113,
          114,
          115,
          116,
          117,
          118,
          119,
          120,
          121,
          122,
          123,
          124,
          125,
          126,
          127,
          128,
          129,
          130,
          131,
          132,
          133,
          134,
          135,
          136,
          137,
          138,
          139,
          140,
          141,
          142,
          143,
          144,
          145,
          146,
          147,
          148,
          149,
          150,
          151,
          152,
          153,
          154,
          155,
          156,
          157,
          158,
          159,
          160,
          161,
          162,
          163,
          164,
          165,
          166,
          167,
          168,
          169,
          170,
          171,
          172,
          173,
          174,
          175,
          176,
          177,
          178,
          179,
          180,
          181,
          182,
          183,
          184,
          185,
          186,
          187,
          188,
          189,
          190,
          191,
          192,
          193,
          194,
          195,
          196,
          197,
          198,
          199
         ],
         "y": [
          0.35294117647058826,
          0.38235294117647056,
          0.3076923076923077,
          0.3076923076923077,
          0.42857142857142855,
          0.3384615384615385,
          0.34782608695652173,
          0.28125,
          0.2222222222222222,
          0.3076923076923077,
          0.37681159420289856,
          0.4675324675324675,
          0.4411764705882353,
          0.4225352112676056,
          0.3611111111111111,
          0.3880597014925373,
          0.34285714285714286,
          0.3939393939393939,
          0.4057971014492754,
          0.4117647058823529,
          0.39436619718309857,
          0.37142857142857144,
          0.4,
          0.4117647058823529,
          0.4,
          0.4057971014492754,
          0.3333333333333333,
          0.38235294117647056,
          0.4117647058823529,
          0.4,
          0.31746031746031744,
          0.35294117647058826,
          0.36619718309859156,
          0.4166666666666667,
          0.3283582089552239,
          0.36619718309859156,
          0.463768115942029,
          0.4507042253521127,
          0.36619718309859156,
          0.39436619718309857,
          0.38235294117647056,
          0.4117647058823529,
          0.36363636363636365,
          0.25,
          0.43478260869565216,
          0.3611111111111111,
          0.4057971014492754,
          0.37142857142857144,
          0.37681159420289856,
          0.3611111111111111,
          0.4166666666666667,
          0.4166666666666667,
          0.37681159420289856,
          0.34375,
          0.39436619718309857,
          0.3384615384615385,
          0.38235294117647056,
          0.43478260869565216,
          0.3283582089552239,
          0.43478260869565216,
          0.417910447761194,
          0.45714285714285713,
          0.4117647058823529,
          0.40625,
          0.4166666666666667,
          0.4788732394366197,
          0.463768115942029,
          0.37681159420289856,
          0.35294117647058826,
          0.3582089552238806,
          0.42857142857142855,
          0.3188405797101449,
          0.4057971014492754,
          0.3835616438356164,
          0.39436619718309857,
          0.4225352112676056,
          0.4117647058823529,
          0.37681159420289856,
          0.37681159420289856,
          0.4857142857142857,
          0.3380281690140845,
          0.40540540540540543,
          0.37142857142857144,
          0.4166666666666667,
          0.4,
          0.4225352112676056,
          0.463768115942029,
          0.4057971014492754,
          0.38235294117647056,
          0.4,
          0.3888888888888889,
          0.36619718309859156,
          0.4057971014492754,
          0.37333333333333335,
          0.4444444444444444,
          0.36923076923076925,
          0.37333333333333335,
          0.42424242424242425,
          0.4507042253521127,
          0.3888888888888889,
          0.4,
          0.34375,
          0.43478260869565216,
          0.42857142857142855,
          0.3888888888888889,
          0.37142857142857144,
          0.3611111111111111,
          0.43478260869565216,
          0.37681159420289856,
          0.4444444444444444,
          0.2857142857142857,
          0.43478260869565216,
          0.42857142857142855,
          0.4225352112676056,
          0.3380281690140845,
          0.4225352112676056,
          0.43478260869565216,
          0.34782608695652173,
          0.4383561643835616,
          0.3125,
          0.38235294117647056,
          0.42857142857142855,
          0.4166666666666667,
          0.4057971014492754,
          0.38235294117647056,
          0.4057971014492754,
          0.4507042253521127,
          0.4657534246575342,
          0.4411764705882353,
          0.39436619718309857,
          0.42857142857142855,
          0.45454545454545453,
          0.35294117647058826,
          0.3783783783783784,
          0.4507042253521127,
          0.42857142857142855,
          0.37681159420289856,
          0.4,
          0.4411764705882353,
          0.4307692307692308,
          0.42105263157894735,
          0.42857142857142855,
          0.4166666666666667,
          0.4444444444444444,
          0.3880597014925373,
          0.42105263157894735,
          0.37142857142857144,
          0.30303030303030304,
          0.3188405797101449,
          0.4444444444444444,
          0.44776119402985076,
          0.45454545454545453,
          0.38235294117647056,
          0.4,
          0.4,
          0.42857142857142855,
          0.37142857142857144,
          0.47761194029850745,
          0.4,
          0.3939393939393939,
          0.3783783783783784,
          0.4225352112676056,
          0.463768115942029,
          0.3582089552238806,
          0.4,
          0.36363636363636365,
          0.37142857142857144,
          0.3684210526315789,
          0.37681159420289856,
          0.4057971014492754,
          0.34782608695652173,
          0.37681159420289856,
          0.4,
          0.410958904109589,
          0.4166666666666667,
          0.2727272727272727,
          0.3939393939393939,
          0.4473684210526316,
          0.34782608695652173,
          0.3888888888888889,
          0.3880597014925373,
          0.36619718309859156,
          0.3582089552238806,
          0.42424242424242425,
          0.4,
          0.3835616438356164,
          0.42857142857142855,
          0.4057971014492754,
          0.44776119402985076,
          0.463768115942029,
          0.36363636363636365,
          0.417910447761194,
          0.417910447761194,
          0.4,
          0.3880597014925373,
          0.45714285714285713,
          0.45714285714285713,
          0.42424242424242425,
          0.34782608695652173,
          0.4225352112676056
         ]
        },
        {
         "mode": "lines",
         "name": "Best Value",
         "type": "scatter",
         "x": [
          0,
          1,
          2,
          3,
          4,
          5,
          6,
          7,
          8,
          9,
          10,
          11,
          12,
          13,
          14,
          15,
          16,
          17,
          18,
          19,
          20,
          21,
          22,
          23,
          24,
          25,
          26,
          27,
          28,
          29,
          30,
          31,
          32,
          33,
          34,
          35,
          36,
          37,
          38,
          39,
          40,
          41,
          42,
          43,
          44,
          45,
          46,
          47,
          48,
          49,
          50,
          51,
          52,
          53,
          54,
          55,
          56,
          57,
          58,
          59,
          60,
          61,
          62,
          63,
          64,
          65,
          66,
          67,
          68,
          69,
          70,
          71,
          72,
          73,
          74,
          75,
          76,
          77,
          78,
          79,
          80,
          81,
          82,
          83,
          84,
          85,
          86,
          87,
          88,
          89,
          90,
          91,
          92,
          93,
          94,
          95,
          96,
          97,
          98,
          99,
          100,
          101,
          102,
          103,
          104,
          105,
          106,
          107,
          108,
          109,
          110,
          111,
          112,
          113,
          114,
          115,
          116,
          117,
          118,
          119,
          120,
          121,
          122,
          123,
          124,
          125,
          126,
          127,
          128,
          129,
          130,
          131,
          132,
          133,
          134,
          135,
          136,
          137,
          138,
          139,
          140,
          141,
          142,
          143,
          144,
          145,
          146,
          147,
          148,
          149,
          150,
          151,
          152,
          153,
          154,
          155,
          156,
          157,
          158,
          159,
          160,
          161,
          162,
          163,
          164,
          165,
          166,
          167,
          168,
          169,
          170,
          171,
          172,
          173,
          174,
          175,
          176,
          177,
          178,
          179,
          180,
          181,
          182,
          183,
          184,
          185,
          186,
          187,
          188,
          189,
          190,
          191,
          192,
          193,
          194,
          195,
          196,
          197,
          198,
          199
         ],
         "y": [
          0.35294117647058826,
          0.38235294117647056,
          0.38235294117647056,
          0.38235294117647056,
          0.42857142857142855,
          0.42857142857142855,
          0.42857142857142855,
          0.42857142857142855,
          0.42857142857142855,
          0.42857142857142855,
          0.42857142857142855,
          0.4675324675324675,
          0.4675324675324675,
          0.4675324675324675,
          0.4675324675324675,
          0.4675324675324675,
          0.4675324675324675,
          0.4675324675324675,
          0.4675324675324675,
          0.4675324675324675,
          0.4675324675324675,
          0.4675324675324675,
          0.4675324675324675,
          0.4675324675324675,
          0.4675324675324675,
          0.4675324675324675,
          0.4675324675324675,
          0.4675324675324675,
          0.4675324675324675,
          0.4675324675324675,
          0.4675324675324675,
          0.4675324675324675,
          0.4675324675324675,
          0.4675324675324675,
          0.4675324675324675,
          0.4675324675324675,
          0.4675324675324675,
          0.4675324675324675,
          0.4675324675324675,
          0.4675324675324675,
          0.4675324675324675,
          0.4675324675324675,
          0.4675324675324675,
          0.4675324675324675,
          0.4675324675324675,
          0.4675324675324675,
          0.4675324675324675,
          0.4675324675324675,
          0.4675324675324675,
          0.4675324675324675,
          0.4675324675324675,
          0.4675324675324675,
          0.4675324675324675,
          0.4675324675324675,
          0.4675324675324675,
          0.4675324675324675,
          0.4675324675324675,
          0.4675324675324675,
          0.4675324675324675,
          0.4675324675324675,
          0.4675324675324675,
          0.4675324675324675,
          0.4675324675324675,
          0.4675324675324675,
          0.4675324675324675,
          0.4788732394366197,
          0.4788732394366197,
          0.4788732394366197,
          0.4788732394366197,
          0.4788732394366197,
          0.4788732394366197,
          0.4788732394366197,
          0.4788732394366197,
          0.4788732394366197,
          0.4788732394366197,
          0.4788732394366197,
          0.4788732394366197,
          0.4788732394366197,
          0.4788732394366197,
          0.4857142857142857,
          0.4857142857142857,
          0.4857142857142857,
          0.4857142857142857,
          0.4857142857142857,
          0.4857142857142857,
          0.4857142857142857,
          0.4857142857142857,
          0.4857142857142857,
          0.4857142857142857,
          0.4857142857142857,
          0.4857142857142857,
          0.4857142857142857,
          0.4857142857142857,
          0.4857142857142857,
          0.4857142857142857,
          0.4857142857142857,
          0.4857142857142857,
          0.4857142857142857,
          0.4857142857142857,
          0.4857142857142857,
          0.4857142857142857,
          0.4857142857142857,
          0.4857142857142857,
          0.4857142857142857,
          0.4857142857142857,
          0.4857142857142857,
          0.4857142857142857,
          0.4857142857142857,
          0.4857142857142857,
          0.4857142857142857,
          0.4857142857142857,
          0.4857142857142857,
          0.4857142857142857,
          0.4857142857142857,
          0.4857142857142857,
          0.4857142857142857,
          0.4857142857142857,
          0.4857142857142857,
          0.4857142857142857,
          0.4857142857142857,
          0.4857142857142857,
          0.4857142857142857,
          0.4857142857142857,
          0.4857142857142857,
          0.4857142857142857,
          0.4857142857142857,
          0.4857142857142857,
          0.4857142857142857,
          0.4857142857142857,
          0.4857142857142857,
          0.4857142857142857,
          0.4857142857142857,
          0.4857142857142857,
          0.4857142857142857,
          0.4857142857142857,
          0.4857142857142857,
          0.4857142857142857,
          0.4857142857142857,
          0.4857142857142857,
          0.4857142857142857,
          0.4857142857142857,
          0.4857142857142857,
          0.4857142857142857,
          0.4857142857142857,
          0.4857142857142857,
          0.4857142857142857,
          0.4857142857142857,
          0.4857142857142857,
          0.4857142857142857,
          0.4857142857142857,
          0.4857142857142857,
          0.4857142857142857,
          0.4857142857142857,
          0.4857142857142857,
          0.4857142857142857,
          0.4857142857142857,
          0.4857142857142857,
          0.4857142857142857,
          0.4857142857142857,
          0.4857142857142857,
          0.4857142857142857,
          0.4857142857142857,
          0.4857142857142857,
          0.4857142857142857,
          0.4857142857142857,
          0.4857142857142857,
          0.4857142857142857,
          0.4857142857142857,
          0.4857142857142857,
          0.4857142857142857,
          0.4857142857142857,
          0.4857142857142857,
          0.4857142857142857,
          0.4857142857142857,
          0.4857142857142857,
          0.4857142857142857,
          0.4857142857142857,
          0.4857142857142857,
          0.4857142857142857,
          0.4857142857142857,
          0.4857142857142857,
          0.4857142857142857,
          0.4857142857142857,
          0.4857142857142857,
          0.4857142857142857,
          0.4857142857142857,
          0.4857142857142857,
          0.4857142857142857,
          0.4857142857142857,
          0.4857142857142857,
          0.4857142857142857,
          0.4857142857142857,
          0.4857142857142857,
          0.4857142857142857,
          0.4857142857142857,
          0.4857142857142857,
          0.4857142857142857,
          0.4857142857142857,
          0.4857142857142857,
          0.4857142857142857
         ]
        },
        {
         "marker": {
          "color": "#cccccc"
         },
         "mode": "markers",
         "name": "Infeasible Trial",
         "showlegend": false,
         "type": "scatter",
         "x": [],
         "y": []
        }
       ],
       "layout": {
        "template": {
         "data": {
          "bar": [
           {
            "error_x": {
             "color": "#2a3f5f"
            },
            "error_y": {
             "color": "#2a3f5f"
            },
            "marker": {
             "line": {
              "color": "#E5ECF6",
              "width": 0.5
             },
             "pattern": {
              "fillmode": "overlay",
              "size": 10,
              "solidity": 0.2
             }
            },
            "type": "bar"
           }
          ],
          "barpolar": [
           {
            "marker": {
             "line": {
              "color": "#E5ECF6",
              "width": 0.5
             },
             "pattern": {
              "fillmode": "overlay",
              "size": 10,
              "solidity": 0.2
             }
            },
            "type": "barpolar"
           }
          ],
          "carpet": [
           {
            "aaxis": {
             "endlinecolor": "#2a3f5f",
             "gridcolor": "white",
             "linecolor": "white",
             "minorgridcolor": "white",
             "startlinecolor": "#2a3f5f"
            },
            "baxis": {
             "endlinecolor": "#2a3f5f",
             "gridcolor": "white",
             "linecolor": "white",
             "minorgridcolor": "white",
             "startlinecolor": "#2a3f5f"
            },
            "type": "carpet"
           }
          ],
          "choropleth": [
           {
            "colorbar": {
             "outlinewidth": 0,
             "ticks": ""
            },
            "type": "choropleth"
           }
          ],
          "contour": [
           {
            "colorbar": {
             "outlinewidth": 0,
             "ticks": ""
            },
            "colorscale": [
             [
              0,
              "#0d0887"
             ],
             [
              0.1111111111111111,
              "#46039f"
             ],
             [
              0.2222222222222222,
              "#7201a8"
             ],
             [
              0.3333333333333333,
              "#9c179e"
             ],
             [
              0.4444444444444444,
              "#bd3786"
             ],
             [
              0.5555555555555556,
              "#d8576b"
             ],
             [
              0.6666666666666666,
              "#ed7953"
             ],
             [
              0.7777777777777778,
              "#fb9f3a"
             ],
             [
              0.8888888888888888,
              "#fdca26"
             ],
             [
              1,
              "#f0f921"
             ]
            ],
            "type": "contour"
           }
          ],
          "contourcarpet": [
           {
            "colorbar": {
             "outlinewidth": 0,
             "ticks": ""
            },
            "type": "contourcarpet"
           }
          ],
          "heatmap": [
           {
            "colorbar": {
             "outlinewidth": 0,
             "ticks": ""
            },
            "colorscale": [
             [
              0,
              "#0d0887"
             ],
             [
              0.1111111111111111,
              "#46039f"
             ],
             [
              0.2222222222222222,
              "#7201a8"
             ],
             [
              0.3333333333333333,
              "#9c179e"
             ],
             [
              0.4444444444444444,
              "#bd3786"
             ],
             [
              0.5555555555555556,
              "#d8576b"
             ],
             [
              0.6666666666666666,
              "#ed7953"
             ],
             [
              0.7777777777777778,
              "#fb9f3a"
             ],
             [
              0.8888888888888888,
              "#fdca26"
             ],
             [
              1,
              "#f0f921"
             ]
            ],
            "type": "heatmap"
           }
          ],
          "histogram": [
           {
            "marker": {
             "pattern": {
              "fillmode": "overlay",
              "size": 10,
              "solidity": 0.2
             }
            },
            "type": "histogram"
           }
          ],
          "histogram2d": [
           {
            "colorbar": {
             "outlinewidth": 0,
             "ticks": ""
            },
            "colorscale": [
             [
              0,
              "#0d0887"
             ],
             [
              0.1111111111111111,
              "#46039f"
             ],
             [
              0.2222222222222222,
              "#7201a8"
             ],
             [
              0.3333333333333333,
              "#9c179e"
             ],
             [
              0.4444444444444444,
              "#bd3786"
             ],
             [
              0.5555555555555556,
              "#d8576b"
             ],
             [
              0.6666666666666666,
              "#ed7953"
             ],
             [
              0.7777777777777778,
              "#fb9f3a"
             ],
             [
              0.8888888888888888,
              "#fdca26"
             ],
             [
              1,
              "#f0f921"
             ]
            ],
            "type": "histogram2d"
           }
          ],
          "histogram2dcontour": [
           {
            "colorbar": {
             "outlinewidth": 0,
             "ticks": ""
            },
            "colorscale": [
             [
              0,
              "#0d0887"
             ],
             [
              0.1111111111111111,
              "#46039f"
             ],
             [
              0.2222222222222222,
              "#7201a8"
             ],
             [
              0.3333333333333333,
              "#9c179e"
             ],
             [
              0.4444444444444444,
              "#bd3786"
             ],
             [
              0.5555555555555556,
              "#d8576b"
             ],
             [
              0.6666666666666666,
              "#ed7953"
             ],
             [
              0.7777777777777778,
              "#fb9f3a"
             ],
             [
              0.8888888888888888,
              "#fdca26"
             ],
             [
              1,
              "#f0f921"
             ]
            ],
            "type": "histogram2dcontour"
           }
          ],
          "mesh3d": [
           {
            "colorbar": {
             "outlinewidth": 0,
             "ticks": ""
            },
            "type": "mesh3d"
           }
          ],
          "parcoords": [
           {
            "line": {
             "colorbar": {
              "outlinewidth": 0,
              "ticks": ""
             }
            },
            "type": "parcoords"
           }
          ],
          "pie": [
           {
            "automargin": true,
            "type": "pie"
           }
          ],
          "scatter": [
           {
            "fillpattern": {
             "fillmode": "overlay",
             "size": 10,
             "solidity": 0.2
            },
            "type": "scatter"
           }
          ],
          "scatter3d": [
           {
            "line": {
             "colorbar": {
              "outlinewidth": 0,
              "ticks": ""
             }
            },
            "marker": {
             "colorbar": {
              "outlinewidth": 0,
              "ticks": ""
             }
            },
            "type": "scatter3d"
           }
          ],
          "scattercarpet": [
           {
            "marker": {
             "colorbar": {
              "outlinewidth": 0,
              "ticks": ""
             }
            },
            "type": "scattercarpet"
           }
          ],
          "scattergeo": [
           {
            "marker": {
             "colorbar": {
              "outlinewidth": 0,
              "ticks": ""
             }
            },
            "type": "scattergeo"
           }
          ],
          "scattergl": [
           {
            "marker": {
             "colorbar": {
              "outlinewidth": 0,
              "ticks": ""
             }
            },
            "type": "scattergl"
           }
          ],
          "scattermap": [
           {
            "marker": {
             "colorbar": {
              "outlinewidth": 0,
              "ticks": ""
             }
            },
            "type": "scattermap"
           }
          ],
          "scattermapbox": [
           {
            "marker": {
             "colorbar": {
              "outlinewidth": 0,
              "ticks": ""
             }
            },
            "type": "scattermapbox"
           }
          ],
          "scatterpolar": [
           {
            "marker": {
             "colorbar": {
              "outlinewidth": 0,
              "ticks": ""
             }
            },
            "type": "scatterpolar"
           }
          ],
          "scatterpolargl": [
           {
            "marker": {
             "colorbar": {
              "outlinewidth": 0,
              "ticks": ""
             }
            },
            "type": "scatterpolargl"
           }
          ],
          "scatterternary": [
           {
            "marker": {
             "colorbar": {
              "outlinewidth": 0,
              "ticks": ""
             }
            },
            "type": "scatterternary"
           }
          ],
          "surface": [
           {
            "colorbar": {
             "outlinewidth": 0,
             "ticks": ""
            },
            "colorscale": [
             [
              0,
              "#0d0887"
             ],
             [
              0.1111111111111111,
              "#46039f"
             ],
             [
              0.2222222222222222,
              "#7201a8"
             ],
             [
              0.3333333333333333,
              "#9c179e"
             ],
             [
              0.4444444444444444,
              "#bd3786"
             ],
             [
              0.5555555555555556,
              "#d8576b"
             ],
             [
              0.6666666666666666,
              "#ed7953"
             ],
             [
              0.7777777777777778,
              "#fb9f3a"
             ],
             [
              0.8888888888888888,
              "#fdca26"
             ],
             [
              1,
              "#f0f921"
             ]
            ],
            "type": "surface"
           }
          ],
          "table": [
           {
            "cells": {
             "fill": {
              "color": "#EBF0F8"
             },
             "line": {
              "color": "white"
             }
            },
            "header": {
             "fill": {
              "color": "#C8D4E3"
             },
             "line": {
              "color": "white"
             }
            },
            "type": "table"
           }
          ]
         },
         "layout": {
          "annotationdefaults": {
           "arrowcolor": "#2a3f5f",
           "arrowhead": 0,
           "arrowwidth": 1
          },
          "autotypenumbers": "strict",
          "coloraxis": {
           "colorbar": {
            "outlinewidth": 0,
            "ticks": ""
           }
          },
          "colorscale": {
           "diverging": [
            [
             0,
             "#8e0152"
            ],
            [
             0.1,
             "#c51b7d"
            ],
            [
             0.2,
             "#de77ae"
            ],
            [
             0.3,
             "#f1b6da"
            ],
            [
             0.4,
             "#fde0ef"
            ],
            [
             0.5,
             "#f7f7f7"
            ],
            [
             0.6,
             "#e6f5d0"
            ],
            [
             0.7,
             "#b8e186"
            ],
            [
             0.8,
             "#7fbc41"
            ],
            [
             0.9,
             "#4d9221"
            ],
            [
             1,
             "#276419"
            ]
           ],
           "sequential": [
            [
             0,
             "#0d0887"
            ],
            [
             0.1111111111111111,
             "#46039f"
            ],
            [
             0.2222222222222222,
             "#7201a8"
            ],
            [
             0.3333333333333333,
             "#9c179e"
            ],
            [
             0.4444444444444444,
             "#bd3786"
            ],
            [
             0.5555555555555556,
             "#d8576b"
            ],
            [
             0.6666666666666666,
             "#ed7953"
            ],
            [
             0.7777777777777778,
             "#fb9f3a"
            ],
            [
             0.8888888888888888,
             "#fdca26"
            ],
            [
             1,
             "#f0f921"
            ]
           ],
           "sequentialminus": [
            [
             0,
             "#0d0887"
            ],
            [
             0.1111111111111111,
             "#46039f"
            ],
            [
             0.2222222222222222,
             "#7201a8"
            ],
            [
             0.3333333333333333,
             "#9c179e"
            ],
            [
             0.4444444444444444,
             "#bd3786"
            ],
            [
             0.5555555555555556,
             "#d8576b"
            ],
            [
             0.6666666666666666,
             "#ed7953"
            ],
            [
             0.7777777777777778,
             "#fb9f3a"
            ],
            [
             0.8888888888888888,
             "#fdca26"
            ],
            [
             1,
             "#f0f921"
            ]
           ]
          },
          "colorway": [
           "#636efa",
           "#EF553B",
           "#00cc96",
           "#ab63fa",
           "#FFA15A",
           "#19d3f3",
           "#FF6692",
           "#B6E880",
           "#FF97FF",
           "#FECB52"
          ],
          "font": {
           "color": "#2a3f5f"
          },
          "geo": {
           "bgcolor": "white",
           "lakecolor": "white",
           "landcolor": "#E5ECF6",
           "showlakes": true,
           "showland": true,
           "subunitcolor": "white"
          },
          "hoverlabel": {
           "align": "left"
          },
          "hovermode": "closest",
          "mapbox": {
           "style": "light"
          },
          "paper_bgcolor": "white",
          "plot_bgcolor": "#E5ECF6",
          "polar": {
           "angularaxis": {
            "gridcolor": "white",
            "linecolor": "white",
            "ticks": ""
           },
           "bgcolor": "#E5ECF6",
           "radialaxis": {
            "gridcolor": "white",
            "linecolor": "white",
            "ticks": ""
           }
          },
          "scene": {
           "xaxis": {
            "backgroundcolor": "#E5ECF6",
            "gridcolor": "white",
            "gridwidth": 2,
            "linecolor": "white",
            "showbackground": true,
            "ticks": "",
            "zerolinecolor": "white"
           },
           "yaxis": {
            "backgroundcolor": "#E5ECF6",
            "gridcolor": "white",
            "gridwidth": 2,
            "linecolor": "white",
            "showbackground": true,
            "ticks": "",
            "zerolinecolor": "white"
           },
           "zaxis": {
            "backgroundcolor": "#E5ECF6",
            "gridcolor": "white",
            "gridwidth": 2,
            "linecolor": "white",
            "showbackground": true,
            "ticks": "",
            "zerolinecolor": "white"
           }
          },
          "shapedefaults": {
           "line": {
            "color": "#2a3f5f"
           }
          },
          "ternary": {
           "aaxis": {
            "gridcolor": "white",
            "linecolor": "white",
            "ticks": ""
           },
           "baxis": {
            "gridcolor": "white",
            "linecolor": "white",
            "ticks": ""
           },
           "bgcolor": "#E5ECF6",
           "caxis": {
            "gridcolor": "white",
            "linecolor": "white",
            "ticks": ""
           }
          },
          "title": {
           "x": 0.05
          },
          "xaxis": {
           "automargin": true,
           "gridcolor": "white",
           "linecolor": "white",
           "ticks": "",
           "title": {
            "standoff": 15
           },
           "zerolinecolor": "white",
           "zerolinewidth": 2
          },
          "yaxis": {
           "automargin": true,
           "gridcolor": "white",
           "linecolor": "white",
           "ticks": "",
           "title": {
            "standoff": 15
           },
           "zerolinecolor": "white",
           "zerolinewidth": 2
          }
         }
        },
        "title": {
         "text": "Optimization History Plot"
        },
        "xaxis": {
         "title": {
          "text": "Trial"
         }
        },
        "yaxis": {
         "title": {
          "text": "Objective Value"
         }
        }
       }
      }
     },
     "metadata": {},
     "output_type": "display_data"
    }
   ],
   "source": [
    "# Visualizar el historial de optimización\n",
    "plot_optimization_history(study)"
   ]
  },
  {
   "cell_type": "code",
   "execution_count": 11,
   "id": "0765411c",
   "metadata": {},
   "outputs": [
    {
     "name": "stdout",
     "output_type": "stream",
     "text": [
      "Mejores hiperparámetros encontrados:\n",
      "{'learning_rate': 0.12950070116762033, 'max_depth': 8, 'n_estimators': 291, 'subsample': 0.6523469862903263, 'colsample_bytree': 0.959672695913344, 'reg_lambda': 1.6966705859180036, 'reg_alpha': 0.48587796619751694, 'min_child_weight': 7}\n",
      "Mejor score de f1-score: 0.4857\n"
     ]
    }
   ],
   "source": [
    "print(\"Mejores hiperparámetros encontrados:\")\n",
    "print(study.best_params)\n",
    "print(f\"Mejor score de {SCORE}: {study.best_value:.4f}\")"
   ]
  },
  {
   "cell_type": "code",
   "execution_count": 12,
   "id": "1420cf0c",
   "metadata": {},
   "outputs": [],
   "source": [
    "# Guardar los mejores hiperparámetros y su valor\n",
    "history = []\n",
    "if os.path.exists(\"best_hyperparams.json\"):\n",
    "    try:\n",
    "        with open(\"best_hyperparams.json\", \"r\") as f:\n",
    "            history = json.load(f)\n",
    "    except (json.JSONDecodeError, ValueError):\n",
    "        history = []\n",
    "\n",
    "# Guardar ambos en un solo diccionario\n",
    "history.append({\n",
    "    \"params\": study.best_params,\n",
    "    \"value\": study.best_value\n",
    "})\n",
    "\n",
    "with open(\"best_hyperparams.json\", \"w\") as f:\n",
    "    json.dump(history, f, indent=2)"
   ]
  },
  {
   "cell_type": "markdown",
   "id": "c82b869a",
   "metadata": {},
   "source": [
    "CARGAR HIPERPARAMETROS DESDE JSON"
   ]
  },
  {
   "cell_type": "code",
   "execution_count": null,
   "id": "d724fe8c",
   "metadata": {},
   "outputs": [],
   "source": [
    "# # Cargar historial de hiperparámetros y valores\n",
    "# with open(\"best_hyperparams.json\", \"r\") as f:\n",
    "#     history = json.load(f)\n",
    "\n",
    "# # Escoger el último (más reciente)\n",
    "# best_params = history[-1][\"params\"]\n",
    "# best_value = history[-1][\"value\"]\n",
    "\n",
    "# # Si quieres ver todos:\n",
    "# for i, entry in enumerate(history):\n",
    "#     print(f\"Hiperparámetros #{i+1}: {entry['params']}, Valor: {entry['value']}\")\n",
    "\n",
    "# # Si quieres escoger uno específico (por índice):\n",
    "# # best_params = history[indice_que_quieras][\"params\"]\n",
    "# # best_value = history[indice_que_quieras][\"value\"]"
   ]
  },
  {
   "cell_type": "code",
   "execution_count": 13,
   "id": "f3b464e7",
   "metadata": {},
   "outputs": [
    {
     "name": "stdout",
     "output_type": "stream",
     "text": [
      "\n",
      "XGBClassifier trend_changes_score:\n",
      "               precision    recall  f1-score   support\n",
      "\n",
      "       False     0.9339    0.9266    0.9302       259\n",
      "        True     0.4722    0.5000    0.4857        34\n",
      "\n",
      "    accuracy                         0.8771       293\n",
      "   macro avg     0.7030    0.7133    0.7080       293\n",
      "weighted avg     0.8803    0.8771    0.8787       293\n",
      "\n"
     ]
    }
   ],
   "source": [
    "# Entrenar modelo final con los mejores hiperparámetros\n",
    "set_seeds(SEED)\n",
    "best_params = study.best_params\n",
    "final_model = XGBClassifier(\n",
    "    learning_rate=best_params[\"learning_rate\"],\n",
    "    max_depth=best_params[\"max_depth\"],\n",
    "    n_estimators=best_params[\"n_estimators\"],\n",
    "    subsample=best_params[\"subsample\"],\n",
    "    colsample_bytree=best_params[\"colsample_bytree\"],\n",
    "    reg_lambda=best_params[\"reg_lambda\"],\n",
    "    reg_alpha=best_params[\"reg_alpha\"],\n",
    "    min_child_weight=best_params[\"min_child_weight\"],\n",
    "    random_state=SEED,\n",
    "    eval_metric=\"mlogloss\"\n",
    ")\n",
    "final_model.fit(X_train, y_train)\n",
    "y_val_pred = final_model.predict(X_val)\n",
    "print(\"\\nXGBClassifier trend_changes_score:\\n\", trend_changes_score(y_val, y_val_pred))"
   ]
  },
  {
   "cell_type": "code",
   "execution_count": 14,
   "id": "5dbc5c9b",
   "metadata": {},
   "outputs": [
    {
     "name": "stdout",
     "output_type": "stream",
     "text": [
      "\n",
      "XGBClassifier trend_changes_score:\n",
      "               precision    recall  f1-score   support\n",
      "\n",
      "       False     0.9258    0.9011    0.9133       263\n",
      "        True     0.3158    0.3871    0.3478        31\n",
      "\n",
      "    accuracy                         0.8469       294\n",
      "   macro avg     0.6208    0.6441    0.6306       294\n",
      "weighted avg     0.8615    0.8469    0.8537       294\n",
      "\n"
     ]
    }
   ],
   "source": [
    "y_pred_test = final_model.predict(X_test)\n",
    "print(\"\\nXGBClassifier trend_changes_score:\\n\", trend_changes_score(y_test, y_pred_test))"
   ]
  },
  {
   "cell_type": "code",
   "execution_count": 15,
   "id": "7ee1ce54",
   "metadata": {},
   "outputs": [
    {
     "name": "stdout",
     "output_type": "stream",
     "text": [
      "XGBClassifier Report:\n",
      "               precision    recall  f1-score   support\n",
      "\n",
      "           0     0.8491    0.9574    0.9000        94\n",
      "           1     0.7647    0.3171    0.4483        41\n",
      "           2     0.9006    0.9686    0.9333       159\n",
      "\n",
      "    accuracy                         0.8741       294\n",
      "   macro avg     0.8381    0.7477    0.7605       294\n",
      "weighted avg     0.8652    0.8741    0.8550       294\n",
      "\n"
     ]
    }
   ],
   "source": [
    "# Reporte completo: precisión, recall y F1 por clase\n",
    "report = classification_report(y_val, y_val_pred, digits=4)\n",
    "print(\"XGBClassifier Report:\\n\", report)"
   ]
  },
  {
   "cell_type": "code",
   "execution_count": 16,
   "id": "961639ee",
   "metadata": {},
   "outputs": [],
   "source": [
    "# --- Exportar y Comparar Métricas de Modelos (Validación) ---\n",
    "\n",
    "# 1. Definir el nombre del modelo actual y el archivo de salida\n",
    "model_name = 'XGBClassifier'\n",
    "output_file = '../../../score_models/model_comparison_metrics.csv'\n",
    "\n",
    "# 2. Calcular el reporte de clasificación estándar\n",
    "# Usamos y_val_m y y_val_pred que están en la misma escala (0,1,2)\n",
    "report_dict = classification_report(y_val, y_val_pred, output_dict=True, zero_division=0)\n",
    "precision = report_dict['macro avg']['precision']\n",
    "recall = report_dict['macro avg']['recall']\n",
    "f1_score = report_dict['macro avg']['f1-score']\n",
    "\n",
    "\n",
    "# 3. Calcular el reporte de cambio de tendencia\n",
    "report = get_trend_changes_report_dict(y_val, y_val_pred)\n",
    "trend_change_precision = report['True']['precision']\n",
    "trend_change_recall = report['True']['recall']\n",
    "trend_change_f1_score = report['True']['f1-score']\n",
    "\n",
    "# 4. Organizar las nuevas métricas\n",
    "new_metrics = {\n",
    "    'precision': precision,\n",
    "    'recall': recall,\n",
    "    'f1_score': f1_score,\n",
    "    'trend_change_precision': trend_change_precision,\n",
    "    'trend_change_recall': trend_change_recall,\n",
    "    'trend_change_f1_score': trend_change_f1_score\n",
    "}\n",
    "\n",
    "# 5. Cargar, actualizar y guardar el DataFrame de comparación\n",
    "try:\n",
    "    # Intentar cargar el archivo existente\n",
    "    comparison_df = pd.read_csv(output_file, index_col='model')\n",
    "    # Si existe, actualizar o añadir la fila para el modelo actual\n",
    "    comparison_df.loc[model_name] = new_metrics\n",
    "except FileNotFoundError:\n",
    "    # Si no existe, crear un DataFrame nuevo directamente con los datos actuales\n",
    "    comparison_df = pd.DataFrame([new_metrics], index=[model_name])\n",
    "\n",
    "# Guardar el DataFrame actualizado en el CSV\n",
    "comparison_df.to_csv(output_file, index_label='model')"
   ]
  }
 ],
 "metadata": {
  "kernelspec": {
   "display_name": "tf_venv2 (3.10.12)",
   "language": "python",
   "name": "python3"
  },
  "language_info": {
   "codemirror_mode": {
    "name": "ipython",
    "version": 3
   },
   "file_extension": ".py",
   "mimetype": "text/x-python",
   "name": "python",
   "nbconvert_exporter": "python",
   "pygments_lexer": "ipython3",
   "version": "3.10.12"
  }
 },
 "nbformat": 4,
 "nbformat_minor": 5
}
