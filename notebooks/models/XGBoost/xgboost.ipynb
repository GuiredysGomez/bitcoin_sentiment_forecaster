{
 "cells": [
  {
   "cell_type": "code",
   "execution_count": 1,
   "id": "08624e4d",
   "metadata": {},
   "outputs": [
    {
     "name": "stderr",
     "output_type": "stream",
     "text": [
      "/home/toyotx22/bitcoin_sentiment_forecaster/tf_venv2/lib/python3.10/site-packages/tqdm/auto.py:21: TqdmWarning: IProgress not found. Please update jupyter and ipywidgets. See https://ipywidgets.readthedocs.io/en/stable/user_install.html\n",
      "  from .autonotebook import tqdm as notebook_tqdm\n"
     ]
    }
   ],
   "source": [
    "import numpy as np\n",
    "import random\n",
    "import optuna\n",
    "import pandas as pd\n",
    "from xgboost import XGBClassifier\n",
    "from sklearn.metrics import classification_report"
   ]
  },
  {
   "cell_type": "code",
   "execution_count": 2,
   "id": "b039264d",
   "metadata": {},
   "outputs": [],
   "source": [
    "SEED = 1234\n",
    " # Se puede cambiar a \"precision\" o \"recall\" o \"f1-score\"\n",
    "SCORE = \"f1-score\""
   ]
  },
  {
   "cell_type": "code",
   "execution_count": 3,
   "id": "55c794de",
   "metadata": {},
   "outputs": [],
   "source": [
    "def set_seeds(seed):\n",
    "    random.seed(seed)\n",
    "    np.random.seed(seed)"
   ]
  },
  {
   "cell_type": "code",
   "execution_count": 4,
   "id": "89ba8174",
   "metadata": {},
   "outputs": [],
   "source": [
    "def trend_changes_score(y_test: np.array, y_pred: np.array) -> float:\n",
    "    \"\"\"\n",
    "    Calculate the trend changes score based on the test and predicted values.\n",
    "    \"\"\"\n",
    "    y_df = pd.DataFrame([y_test, y_pred]).T\n",
    "    y_df.columns = [\"y_test\", \"y_pred\"]\n",
    "    y_df[\"y_test_shifted\"] = y_df[\"y_test\"].shift(-1)\n",
    "    y_df[\"is_changed_trend_test\"] = y_df[\"y_test\"] != y_df[\"y_test_shifted\"]\n",
    "    y_df[\"y_predict_shifted\"] = y_df[\"y_pred\"].shift(-1)\n",
    "    y_df[\"is_changed_trend_predict\"] = y_df[\"y_pred\"] != y_df[\"y_predict_shifted\"]\n",
    "    return classification_report(\n",
    "        y_df[\"is_changed_trend_test\"][:-1],\n",
    "        y_df[\"is_changed_trend_predict\"][:-1],\n",
    "        digits=4\n",
    "    )\n",
    "\n",
    "def trend_changes_true(y_test: np.array, y_pred: np.array) -> float:\n",
    "    \"\"\"\n",
    "    Calculate the trend changes score based on the test and predicted values.\n",
    "    Returns only the F1-score for trend change.\n",
    "    \"\"\"\n",
    "    y_df = pd.DataFrame([y_test, y_pred]).T\n",
    "    y_df.columns = [\"y_test\", \"y_pred\"]\n",
    "    y_df[\"y_test_shifted\"] = y_df[\"y_test\"].shift(-1)\n",
    "    y_df[\"is_changed_trend_test\"] = y_df[\"y_test\"] != y_df[\"y_test_shifted\"]\n",
    "    y_df[\"y_predict_shifted\"] = y_df[\"y_pred\"].shift(-1)\n",
    "    y_df[\"is_changed_trend_predict\"] = y_df[\"y_pred\"] != y_df[\"y_predict_shifted\"]\n",
    "    report = classification_report(\n",
    "        y_df[\"is_changed_trend_test\"][:-1],\n",
    "        y_df[\"is_changed_trend_predict\"][:-1],\n",
    "        output_dict=True,\n",
    "        zero_division=0\n",
    "    )\n",
    "    return report[\"True\"][SCORE]"
   ]
  },
  {
   "cell_type": "code",
   "execution_count": 5,
   "id": "2e13369e",
   "metadata": {},
   "outputs": [],
   "source": [
    "# Cargar datos\n",
    "train = pd.read_csv(\"../../../data/training_set.csv\", parse_dates=[\"date\"])\n",
    "val = pd.read_csv(\"../../../data/validation_set.csv\", parse_dates=[\"date\"])\n",
    "X_train = train.drop(columns=[\"date\", \"target_trend\"]).values\n",
    "y_train = train[\"target_trend\"].values\n",
    "X_val = val.drop(columns=[\"date\", \"target_trend\"]).values\n",
    "y_val = val[\"target_trend\"].values"
   ]
  },
  {
   "cell_type": "markdown",
   "id": "a36bde32",
   "metadata": {},
   "source": [
    "IMPORTANTE: Hay que sumar a la columna de prediccion porque -1 no funciona en funcion de LOSS"
   ]
  },
  {
   "cell_type": "code",
   "execution_count": 6,
   "id": "711d0cfc",
   "metadata": {},
   "outputs": [],
   "source": [
    "y_train += 1\n",
    "y_val += 1"
   ]
  },
  {
   "cell_type": "code",
   "execution_count": 8,
   "id": "a8089887",
   "metadata": {},
   "outputs": [],
   "source": [
    "# Optuna para hiperparámetros\n",
    "def objective(trial):\n",
    "    set_seeds(SEED)\n",
    "    learning_rate = trial.suggest_float(\"learning_rate\", 0.01, 0.2, log=True)\n",
    "    max_depth = trial.suggest_int(\"max_depth\", 2, 16)\n",
    "    n_estimators = trial.suggest_int(\"n_estimators\", 100, 500)\n",
    "    subsample = trial.suggest_float(\"subsample\", 0.6, 1.0)\n",
    "    colsample_bytree = trial.suggest_float(\"colsample_bytree\", 0.5, 1.0)\n",
    "    reg_lambda = trial.suggest_float(\"reg_lambda\", 0.0, 2.0)\n",
    "    reg_alpha = trial.suggest_float(\"reg_alpha\", 0.0, 2.0)\n",
    "    min_child_weight = trial.suggest_int(\"min_child_weight\", 1, 10)\n",
    "\n",
    "    model = XGBClassifier(\n",
    "        learning_rate=learning_rate,\n",
    "        max_depth=max_depth,\n",
    "        n_estimators=n_estimators,\n",
    "        subsample=subsample,\n",
    "        colsample_bytree=colsample_bytree,\n",
    "        reg_lambda=reg_lambda,\n",
    "        reg_alpha=reg_alpha,\n",
    "        min_child_weight=min_child_weight,\n",
    "        random_state=SEED,\n",
    "        eval_metric=\"mlogloss\"\n",
    "    )\n",
    "    model.fit(X_train, y_train)\n",
    "    y_pred = model.predict(X_val)\n",
    "    score = trend_changes_true(y_val, y_pred)\n",
    "    return score"
   ]
  },
  {
   "cell_type": "code",
   "execution_count": 9,
   "id": "67610a71",
   "metadata": {},
   "outputs": [
    {
     "name": "stderr",
     "output_type": "stream",
     "text": [
      "[I 2025-08-17 22:31:47,413] A new study created in memory with name: no-name-4cb1df61-87be-462c-9693-5ef0fd3469c5\n",
      "[I 2025-08-17 22:31:48,350] Trial 0 finished with value: 0.1 and parameters: {'learning_rate': 0.01774894524799066, 'max_depth': 11, 'n_estimators': 275, 'subsample': 0.9141434334855076, 'colsample_bytree': 0.8899879040594018, 'reg_lambda': 0.5451852105652832, 'reg_alpha': 0.5529285102861934, 'min_child_weight': 9}. Best is trial 0 with value: 0.1.\n",
      "[I 2025-08-17 22:31:48,830] Trial 1 finished with value: 0.23809523809523808 and parameters: {'learning_rate': 0.17642821458092559, 'max_depth': 15, 'n_estimators': 243, 'subsample': 0.8003980502093835, 'colsample_bytree': 0.8417314675860681, 'reg_lambda': 1.4254040539658004, 'reg_alpha': 0.7405015095807899, 'min_child_weight': 6}. Best is trial 1 with value: 0.23809523809523808.\n",
      "[I 2025-08-17 22:31:49,944] Trial 2 finished with value: 0.23809523809523808 and parameters: {'learning_rate': 0.045136334609244884, 'max_depth': 2, 'n_estimators': 409, 'subsample': 0.9530564762544467, 'colsample_bytree': 0.6824429919506861, 'reg_lambda': 1.2307923568669874, 'reg_alpha': 0.1507624832859531, 'min_child_weight': 4}. Best is trial 1 with value: 0.23809523809523808.\n",
      "[I 2025-08-17 22:31:50,516] Trial 3 finished with value: 0.27906976744186046 and parameters: {'learning_rate': 0.16369795832561723, 'max_depth': 11, 'n_estimators': 259, 'subsample': 0.9154920571762982, 'colsample_bytree': 0.6584180610844357, 'reg_lambda': 1.1361973052521384, 'reg_alpha': 1.7382547791224516, 'min_child_weight': 5}. Best is trial 3 with value: 0.27906976744186046.\n",
      "[I 2025-08-17 22:31:51,222] Trial 4 finished with value: 0.2926829268292683 and parameters: {'learning_rate': 0.1105651204296143, 'max_depth': 4, 'n_estimators': 382, 'subsample': 0.8818325232758291, 'colsample_bytree': 0.6093960528370443, 'reg_lambda': 1.84973525723113, 'reg_alpha': 0.8842815108083533, 'min_child_weight': 10}. Best is trial 4 with value: 0.2926829268292683.\n",
      "[I 2025-08-17 22:31:51,644] Trial 5 finished with value: 0.11764705882352941 and parameters: {'learning_rate': 0.01196226978573007, 'max_depth': 4, 'n_estimators': 118, 'subsample': 0.8699523774329321, 'colsample_bytree': 0.7973123899672244, 'reg_lambda': 1.0666203259975011, 'reg_alpha': 0.08664812538960698, 'min_child_weight': 6}. Best is trial 4 with value: 0.2926829268292683.\n",
      "[I 2025-08-17 22:31:52,033] Trial 6 finished with value: 0.1111111111111111 and parameters: {'learning_rate': 0.026847789642131727, 'max_depth': 9, 'n_estimators': 144, 'subsample': 0.8428774824873938, 'colsample_bytree': 0.7829723215252657, 'reg_lambda': 0.01352812398000558, 'reg_alpha': 1.234883417608594, 'min_child_weight': 10}. Best is trial 4 with value: 0.2926829268292683.\n",
      "[I 2025-08-17 22:31:53,279] Trial 7 finished with value: 0.1951219512195122 and parameters: {'learning_rate': 0.10678139971817296, 'max_depth': 16, 'n_estimators': 484, 'subsample': 0.9167856541166559, 'colsample_bytree': 0.6426254800122548, 'reg_lambda': 1.249833410611822, 'reg_alpha': 0.9561875913413491, 'min_child_weight': 2}. Best is trial 4 with value: 0.2926829268292683.\n",
      "[I 2025-08-17 22:31:53,663] Trial 8 finished with value: 0.16666666666666666 and parameters: {'learning_rate': 0.031434493930522854, 'max_depth': 2, 'n_estimators': 281, 'subsample': 0.9928018966087818, 'colsample_bytree': 0.5619713502434815, 'reg_lambda': 0.2387617958524968, 'reg_alpha': 1.4770461122866936, 'min_child_weight': 6}. Best is trial 4 with value: 0.2926829268292683.\n",
      "[I 2025-08-17 22:31:54,143] Trial 9 finished with value: 0.15789473684210525 and parameters: {'learning_rate': 0.04107788493789703, 'max_depth': 3, 'n_estimators': 191, 'subsample': 0.9599860779346702, 'colsample_bytree': 0.7083767689013466, 'reg_lambda': 1.0717033250632317, 'reg_alpha': 0.012417033174258796, 'min_child_weight': 4}. Best is trial 4 with value: 0.2926829268292683.\n",
      "[I 2025-08-17 22:31:54,996] Trial 10 finished with value: 0.21621621621621623 and parameters: {'learning_rate': 0.08084615658241578, 'max_depth': 6, 'n_estimators': 372, 'subsample': 0.689428298871198, 'colsample_bytree': 0.5046805124777953, 'reg_lambda': 1.8957945848547488, 'reg_alpha': 1.9979609333630595, 'min_child_weight': 8}. Best is trial 4 with value: 0.2926829268292683.\n",
      "[I 2025-08-17 22:31:56,124] Trial 11 finished with value: 0.24390243902439024 and parameters: {'learning_rate': 0.1896663861713234, 'max_depth': 11, 'n_estimators': 346, 'subsample': 0.7173730539674903, 'colsample_bytree': 0.6044124701372389, 'reg_lambda': 1.8374609508510744, 'reg_alpha': 1.7840339769851072, 'min_child_weight': 8}. Best is trial 4 with value: 0.2926829268292683.\n",
      "[I 2025-08-17 22:31:57,772] Trial 12 finished with value: 0.26666666666666666 and parameters: {'learning_rate': 0.0950849331893488, 'max_depth': 7, 'n_estimators': 462, 'subsample': 0.6158245266107072, 'colsample_bytree': 0.9664602365945647, 'reg_lambda': 0.6718926477890976, 'reg_alpha': 1.4078813519314568, 'min_child_weight': 1}. Best is trial 4 with value: 0.2926829268292683.\n",
      "[I 2025-08-17 22:31:58,918] Trial 13 finished with value: 0.24390243902439024 and parameters: {'learning_rate': 0.13188914222589765, 'max_depth': 13, 'n_estimators': 330, 'subsample': 0.8548900384145325, 'colsample_bytree': 0.5810774574168476, 'reg_lambda': 1.6035422639715557, 'reg_alpha': 0.5890071621641414, 'min_child_weight': 4}. Best is trial 4 with value: 0.2926829268292683.\n",
      "[I 2025-08-17 22:31:59,725] Trial 14 finished with value: 0.2 and parameters: {'learning_rate': 0.06700782257503247, 'max_depth': 8, 'n_estimators': 207, 'subsample': 0.7897216896573087, 'colsample_bytree': 0.6957098198748805, 'reg_lambda': 0.6532976133071253, 'reg_alpha': 1.1135875014225718, 'min_child_weight': 8}. Best is trial 4 with value: 0.2926829268292683.\n",
      "[I 2025-08-17 22:32:00,513] Trial 15 finished with value: 0.2926829268292683 and parameters: {'learning_rate': 0.05865301634280104, 'max_depth': 5, 'n_estimators': 418, 'subsample': 0.8995542288771977, 'colsample_bytree': 0.5204086734086446, 'reg_lambda': 1.6569928244904146, 'reg_alpha': 1.639929733553564, 'min_child_weight': 10}. Best is trial 4 with value: 0.2926829268292683.\n",
      "[I 2025-08-17 22:32:01,330] Trial 16 finished with value: 0.21052631578947367 and parameters: {'learning_rate': 0.056386918415238754, 'max_depth': 6, 'n_estimators': 416, 'subsample': 0.7935599403265389, 'colsample_bytree': 0.5161274002952145, 'reg_lambda': 1.6573905401920341, 'reg_alpha': 0.9375326989436705, 'min_child_weight': 10}. Best is trial 4 with value: 0.2926829268292683.\n",
      "[I 2025-08-17 22:32:02,073] Trial 17 finished with value: 0.2926829268292683 and parameters: {'learning_rate': 0.06733936937455468, 'max_depth': 5, 'n_estimators': 421, 'subsample': 0.8799912500466052, 'colsample_bytree': 0.5546879525614111, 'reg_lambda': 1.9443519990089293, 'reg_alpha': 0.3359631478777225, 'min_child_weight': 9}. Best is trial 4 with value: 0.2926829268292683.\n",
      "[I 2025-08-17 22:32:02,698] Trial 18 finished with value: 0.2926829268292683 and parameters: {'learning_rate': 0.11973521520295302, 'max_depth': 4, 'n_estimators': 373, 'subsample': 0.8297878393099748, 'colsample_bytree': 0.6128286875678401, 'reg_lambda': 1.582206644514932, 'reg_alpha': 1.415735579703072, 'min_child_weight': 10}. Best is trial 4 with value: 0.2926829268292683.\n",
      "[I 2025-08-17 22:32:03,871] Trial 19 finished with value: 0.21052631578947367 and parameters: {'learning_rate': 0.026295499231045814, 'max_depth': 9, 'n_estimators': 452, 'subsample': 0.7463250686227549, 'colsample_bytree': 0.7528620307452012, 'reg_lambda': 1.4151338811304748, 'reg_alpha': 1.7071377614131225, 'min_child_weight': 7}. Best is trial 4 with value: 0.2926829268292683.\n",
      "[I 2025-08-17 22:32:04,619] Trial 20 finished with value: 0.2631578947368421 and parameters: {'learning_rate': 0.04725898450817487, 'max_depth': 4, 'n_estimators': 327, 'subsample': 0.9849640655727642, 'colsample_bytree': 0.5250613810185064, 'reg_lambda': 1.76940333095574, 'reg_alpha': 0.8350035456235531, 'min_child_weight': 9}. Best is trial 4 with value: 0.2926829268292683.\n",
      "[I 2025-08-17 22:32:05,359] Trial 21 finished with value: 0.2926829268292683 and parameters: {'learning_rate': 0.07354298360674269, 'max_depth': 5, 'n_estimators': 424, 'subsample': 0.8953319200521327, 'colsample_bytree': 0.55901198923058, 'reg_lambda': 1.9381052145470845, 'reg_alpha': 0.42616343033410975, 'min_child_weight': 9}. Best is trial 4 with value: 0.2926829268292683.\n",
      "[I 2025-08-17 22:32:06,349] Trial 22 finished with value: 0.27906976744186046 and parameters: {'learning_rate': 0.06113838976847235, 'max_depth': 6, 'n_estimators': 497, 'subsample': 0.8825459133254915, 'colsample_bytree': 0.5530304936395444, 'reg_lambda': 1.7314618536369506, 'reg_alpha': 0.322258152914074, 'min_child_weight': 10}. Best is trial 4 with value: 0.2926829268292683.\n",
      "[I 2025-08-17 22:32:07,324] Trial 23 finished with value: 0.2 and parameters: {'learning_rate': 0.08777670408722442, 'max_depth': 5, 'n_estimators': 384, 'subsample': 0.9408746244255669, 'colsample_bytree': 0.62395154572448, 'reg_lambda': 1.9809912068036484, 'reg_alpha': 0.7128645631347179, 'min_child_weight': 9}. Best is trial 4 with value: 0.2926829268292683.\n",
      "[I 2025-08-17 22:32:07,904] Trial 24 finished with value: 0.20512820512820512 and parameters: {'learning_rate': 0.13838539616556522, 'max_depth': 8, 'n_estimators': 442, 'subsample': 0.8245904325115385, 'colsample_bytree': 0.5971399084013014, 'reg_lambda': 1.452964562674358, 'reg_alpha': 0.317488343250531, 'min_child_weight': 8}. Best is trial 4 with value: 0.2926829268292683.\n",
      "[I 2025-08-17 22:32:08,640] Trial 25 finished with value: 0.2 and parameters: {'learning_rate': 0.03441202081687559, 'max_depth': 3, 'n_estimators': 392, 'subsample': 0.8683211178050597, 'colsample_bytree': 0.5424102690925153, 'reg_lambda': 0.815678736467488, 'reg_alpha': 1.2282555337894792, 'min_child_weight': 7}. Best is trial 4 with value: 0.2926829268292683.\n",
      "[I 2025-08-17 22:32:09,325] Trial 26 finished with value: 0.2631578947368421 and parameters: {'learning_rate': 0.05419482636638725, 'max_depth': 5, 'n_estimators': 315, 'subsample': 0.7676856163620157, 'colsample_bytree': 0.5015237330258264, 'reg_lambda': 1.5110415419049195, 'reg_alpha': 1.1012191232889772, 'min_child_weight': 10}. Best is trial 4 with value: 0.2926829268292683.\n",
      "[I 2025-08-17 22:32:10,057] Trial 27 finished with value: 0.34146341463414637 and parameters: {'learning_rate': 0.10068445706066761, 'max_depth': 3, 'n_estimators': 350, 'subsample': 0.9007890427902547, 'colsample_bytree': 0.7314800550236931, 'reg_lambda': 1.9823224974072524, 'reg_alpha': 1.5821543506396027, 'min_child_weight': 9}. Best is trial 27 with value: 0.34146341463414637.\n",
      "[I 2025-08-17 22:32:10,704] Trial 28 finished with value: 0.27906976744186046 and parameters: {'learning_rate': 0.08934080193295489, 'max_depth': 3, 'n_estimators': 349, 'subsample': 0.9339351711583678, 'colsample_bytree': 0.728578353733234, 'reg_lambda': 1.7310851985647526, 'reg_alpha': 1.5851207843130295, 'min_child_weight': 7}. Best is trial 27 with value: 0.34146341463414637.\n",
      "[I 2025-08-17 22:32:11,082] Trial 29 finished with value: 0.27906976744186046 and parameters: {'learning_rate': 0.10947805584206552, 'max_depth': 2, 'n_estimators': 305, 'subsample': 0.9114064152782713, 'colsample_bytree': 0.9129071328262834, 'reg_lambda': 0.9147256824035882, 'reg_alpha': 1.9174715611958018, 'min_child_weight': 9}. Best is trial 27 with value: 0.34146341463414637.\n",
      "[I 2025-08-17 22:32:11,947] Trial 30 finished with value: 0.15789473684210525 and parameters: {'learning_rate': 0.020339141691820203, 'max_depth': 7, 'n_estimators': 358, 'subsample': 0.9051008480975254, 'colsample_bytree': 0.6644998947472425, 'reg_lambda': 1.2660427724151408, 'reg_alpha': 1.5562708304791053, 'min_child_weight': 10}. Best is trial 27 with value: 0.34146341463414637.\n",
      "[I 2025-08-17 22:32:09,801] Trial 31 finished with value: 0.23809523809523808 and parameters: {'learning_rate': 0.07144913501690243, 'max_depth': 4, 'n_estimators': 398, 'subsample': 0.8855015201707964, 'colsample_bytree': 0.5846902977163485, 'reg_lambda': 1.9861343631700377, 'reg_alpha': 0.5276710026405971, 'min_child_weight': 9}. Best is trial 27 with value: 0.34146341463414637.\n",
      "[I 2025-08-17 22:32:10,448] Trial 32 finished with value: 0.2727272727272727 and parameters: {'learning_rate': 0.10241230784357952, 'max_depth': 3, 'n_estimators': 430, 'subsample': 0.8162276018773675, 'colsample_bytree': 0.856673481802874, 'reg_lambda': 1.8248684372876753, 'reg_alpha': 1.8502353299960959, 'min_child_weight': 9}. Best is trial 27 with value: 0.34146341463414637.\n",
      "[I 2025-08-17 22:32:11,170] Trial 33 finished with value: 0.2926829268292683 and parameters: {'learning_rate': 0.14796891818438204, 'max_depth': 5, 'n_estimators': 471, 'subsample': 0.9674737787370989, 'colsample_bytree': 0.6339731767932716, 'reg_lambda': 1.8199886622266093, 'reg_alpha': 0.7144002782534445, 'min_child_weight': 8}. Best is trial 27 with value: 0.34146341463414637.\n",
      "[I 2025-08-17 22:32:11,645] Trial 34 finished with value: 0.2 and parameters: {'learning_rate': 0.05062762311774606, 'max_depth': 2, 'n_estimators': 405, 'subsample': 0.8496747164023514, 'colsample_bytree': 0.8087887593660846, 'reg_lambda': 1.6684054838610256, 'reg_alpha': 1.2867333039600335, 'min_child_weight': 10}. Best is trial 27 with value: 0.34146341463414637.\n",
      "[I 2025-08-17 22:32:12,764] Trial 35 finished with value: 0.25 and parameters: {'learning_rate': 0.06351552868355936, 'max_depth': 7, 'n_estimators': 290, 'subsample': 0.9325899245222976, 'colsample_bytree': 0.6722640717066789, 'reg_lambda': 1.362688907480217, 'reg_alpha': 0.2430843262262885, 'min_child_weight': 9}. Best is trial 27 with value: 0.34146341463414637.\n",
      "[I 2025-08-17 22:32:13,656] Trial 36 finished with value: 0.20512820512820512 and parameters: {'learning_rate': 0.03872303104275089, 'max_depth': 4, 'n_estimators': 439, 'subsample': 0.8689305171375854, 'colsample_bytree': 0.7528200388597457, 'reg_lambda': 1.8895400304854666, 'reg_alpha': 1.6494008689413397, 'min_child_weight': 7}. Best is trial 27 with value: 0.34146341463414637.\n",
      "[I 2025-08-17 22:32:14,198] Trial 37 finished with value: 0.3076923076923077 and parameters: {'learning_rate': 0.1618965092609792, 'max_depth': 10, 'n_estimators': 256, 'subsample': 0.9191951634196533, 'colsample_bytree': 0.5327714138427488, 'reg_lambda': 1.5322823855349967, 'reg_alpha': 1.082152054289844, 'min_child_weight': 5}. Best is trial 27 with value: 0.34146341463414637.\n",
      "[I 2025-08-17 22:32:14,653] Trial 38 finished with value: 0.21621621621621623 and parameters: {'learning_rate': 0.19776158620960985, 'max_depth': 13, 'n_estimators': 271, 'subsample': 0.9730073546171912, 'colsample_bytree': 0.5315543790542685, 'reg_lambda': 1.5373650392708393, 'reg_alpha': 1.0825928730417222, 'min_child_weight': 5}. Best is trial 27 with value: 0.34146341463414637.\n",
      "[I 2025-08-17 22:32:15,254] Trial 39 finished with value: 0.24390243902439024 and parameters: {'learning_rate': 0.15531923082279034, 'max_depth': 10, 'n_estimators': 235, 'subsample': 0.9204684705598203, 'colsample_bytree': 0.5720335524458025, 'reg_lambda': 1.328247692518365, 'reg_alpha': 1.3234603368841833, 'min_child_weight': 3}. Best is trial 27 with value: 0.34146341463414637.\n",
      "[I 2025-08-17 22:32:15,813] Trial 40 finished with value: 0.24390243902439024 and parameters: {'learning_rate': 0.12195162315950829, 'max_depth': 13, 'n_estimators': 241, 'subsample': 0.9343895821145263, 'colsample_bytree': 0.6528886923443928, 'reg_lambda': 0.38804148393625226, 'reg_alpha': 0.9076842921497399, 'min_child_weight': 6}. Best is trial 27 with value: 0.34146341463414637.\n",
      "[I 2025-08-17 22:32:16,449] Trial 41 finished with value: 0.23809523809523808 and parameters: {'learning_rate': 0.1660911735084044, 'max_depth': 10, 'n_estimators': 356, 'subsample': 0.8988480936911989, 'colsample_bytree': 0.5380267178296322, 'reg_lambda': 1.9993890723599375, 'reg_alpha': 0.6112902108037837, 'min_child_weight': 5}. Best is trial 27 with value: 0.34146341463414637.\n",
      "[I 2025-08-17 22:32:17,025] Trial 42 finished with value: 0.16666666666666666 and parameters: {'learning_rate': 0.07875097159506839, 'max_depth': 12, 'n_estimators': 207, 'subsample': 0.9564113114140858, 'colsample_bytree': 0.5005665627954246, 'reg_lambda': 1.690881406413891, 'reg_alpha': 1.5564000411272658, 'min_child_weight': 4}. Best is trial 27 with value: 0.34146341463414637.\n",
      "[I 2025-08-17 22:32:18,734] Trial 43 finished with value: 0.10810810810810811 and parameters: {'learning_rate': 0.011261038585859223, 'max_depth': 10, 'n_estimators': 378, 'subsample': 0.8779993511439469, 'colsample_bytree': 0.5668975072029007, 'reg_lambda': 1.8634168680641578, 'reg_alpha': 0.13258030280643407, 'min_child_weight': 3}. Best is trial 27 with value: 0.34146341463414637.\n",
      "[I 2025-08-17 22:32:19,167] Trial 44 finished with value: 0.2 and parameters: {'learning_rate': 0.11169102290014374, 'max_depth': 8, 'n_estimators': 156, 'subsample': 0.8535715691899125, 'colsample_bytree': 0.605051563904057, 'reg_lambda': 1.7970785834270289, 'reg_alpha': 0.8126396327256373, 'min_child_weight': 6}. Best is trial 27 with value: 0.34146341463414637.\n",
      "[I 2025-08-17 22:32:19,800] Trial 45 finished with value: 0.23809523809523808 and parameters: {'learning_rate': 0.0954700887028944, 'max_depth': 3, 'n_estimators': 334, 'subsample': 0.8370663312475304, 'colsample_bytree': 0.5443029767384803, 'reg_lambda': 1.9033817341863974, 'reg_alpha': 1.1875452591960365, 'min_child_weight': 10}. Best is trial 27 with value: 0.34146341463414637.\n",
      "[I 2025-08-17 22:32:21,026] Trial 46 finished with value: 0.15 and parameters: {'learning_rate': 0.013745315355098226, 'max_depth': 6, 'n_estimators': 411, 'subsample': 0.9114054344547415, 'colsample_bytree': 0.7200734585304959, 'reg_lambda': 1.1485420570110643, 'reg_alpha': 1.455655264518264, 'min_child_weight': 8}. Best is trial 27 with value: 0.34146341463414637.\n",
      "[I 2025-08-17 22:32:21,365] Trial 47 finished with value: 0.2926829268292683 and parameters: {'learning_rate': 0.13268913799830748, 'max_depth': 2, 'n_estimators': 255, 'subsample': 0.9495951087282268, 'colsample_bytree': 0.7842078316381053, 'reg_lambda': 1.6586479895073665, 'reg_alpha': 1.34671146995204, 'min_child_weight': 5}. Best is trial 27 with value: 0.34146341463414637.\n",
      "[I 2025-08-17 22:32:22,092] Trial 48 finished with value: 0.2564102564102564 and parameters: {'learning_rate': 0.17229963883627453, 'max_depth': 15, 'n_estimators': 468, 'subsample': 0.89171048254579, 'colsample_bytree': 0.6929925039654481, 'reg_lambda': 1.5987349558705004, 'reg_alpha': 1.7795121535387164, 'min_child_weight': 10}. Best is trial 27 with value: 0.34146341463414637.\n",
      "[I 2025-08-17 22:32:23,155] Trial 49 finished with value: 0.25 and parameters: {'learning_rate': 0.08169912122706356, 'max_depth': 4, 'n_estimators': 362, 'subsample': 0.8080225402750729, 'colsample_bytree': 0.5892611443153345, 'reg_lambda': 1.526810430437958, 'reg_alpha': 1.0110948238136557, 'min_child_weight': 8}. Best is trial 27 with value: 0.34146341463414637.\n",
      "[I 2025-08-17 22:32:24,679] Trial 50 finished with value: 0.1111111111111111 and parameters: {'learning_rate': 0.04064516566343292, 'max_depth': 7, 'n_estimators': 302, 'subsample': 0.9982741257827622, 'colsample_bytree': 0.5221007686328543, 'reg_lambda': 1.9012209911864046, 'reg_alpha': 0.006013940176962218, 'min_child_weight': 3}. Best is trial 27 with value: 0.34146341463414637.\n",
      "[I 2025-08-17 22:32:25,532] Trial 51 finished with value: 0.21621621621621623 and parameters: {'learning_rate': 0.11525093634905009, 'max_depth': 4, 'n_estimators': 375, 'subsample': 0.835029146799248, 'colsample_bytree': 0.6171787846287584, 'reg_lambda': 1.576852973245023, 'reg_alpha': 1.4320648426234772, 'min_child_weight': 10}. Best is trial 27 with value: 0.34146341463414637.\n",
      "[I 2025-08-17 22:32:26,705] Trial 52 finished with value: 0.2 and parameters: {'learning_rate': 0.13574855846956455, 'max_depth': 5, 'n_estimators': 398, 'subsample': 0.856723387828844, 'colsample_bytree': 0.6177611442288075, 'reg_lambda': 1.7529871358863263, 'reg_alpha': 1.6577645190278947, 'min_child_weight': 9}. Best is trial 27 with value: 0.34146341463414637.\n",
      "[I 2025-08-17 22:32:27,250] Trial 53 finished with value: 0.19047619047619047 and parameters: {'learning_rate': 0.09936755731901509, 'max_depth': 3, 'n_estimators': 334, 'subsample': 0.6292827474468304, 'colsample_bytree': 0.6436083397063527, 'reg_lambda': 1.4425897327543207, 'reg_alpha': 1.380866453854986, 'min_child_weight': 10}. Best is trial 27 with value: 0.34146341463414637.\n",
      "[I 2025-08-17 22:32:27,960] Trial 54 finished with value: 0.21052631578947367 and parameters: {'learning_rate': 0.12250851623239703, 'max_depth': 5, 'n_estimators': 369, 'subsample': 0.8680020534262173, 'colsample_bytree': 0.5660475562649276, 'reg_lambda': 1.629037044499306, 'reg_alpha': 1.5266406588739114, 'min_child_weight': 9}. Best is trial 27 with value: 0.34146341463414637.\n",
      "[I 2025-08-17 22:32:29,073] Trial 55 finished with value: 0.25 and parameters: {'learning_rate': 0.0574429955869227, 'max_depth': 6, 'n_estimators': 426, 'subsample': 0.921165634653039, 'colsample_bytree': 0.9868878817814299, 'reg_lambda': 1.7776629660831351, 'reg_alpha': 1.168689863161528, 'min_child_weight': 10}. Best is trial 27 with value: 0.34146341463414637.\n",
      "[I 2025-08-17 22:32:31,595] Trial 56 finished with value: 0.24390243902439024 and parameters: {'learning_rate': 0.06760183279799752, 'max_depth': 4, 'n_estimators': 386, 'subsample': 0.8297253229503666, 'colsample_bytree': 0.5157931389676871, 'reg_lambda': 1.94092209539866, 'reg_alpha': 1.6493363690303353, 'min_child_weight': 9}. Best is trial 27 with value: 0.34146341463414637.\n",
      "[I 2025-08-17 22:32:34,434] Trial 57 finished with value: 0.2564102564102564 and parameters: {'learning_rate': 0.08620266169242383, 'max_depth': 11, 'n_estimators': 448, 'subsample': 0.8900671721242563, 'colsample_bytree': 0.5547111556886031, 'reg_lambda': 1.708189033108878, 'reg_alpha': 0.9930388698275708, 'min_child_weight': 10}. Best is trial 27 with value: 0.34146341463414637.\n",
      "[I 2025-08-17 22:32:35,085] Trial 58 finished with value: 0.2857142857142857 and parameters: {'learning_rate': 0.17859010939063702, 'max_depth': 9, 'n_estimators': 315, 'subsample': 0.7841810273992357, 'colsample_bytree': 0.5957067234914348, 'reg_lambda': 0.15474940428902384, 'reg_alpha': 0.44389106185319127, 'min_child_weight': 9}. Best is trial 27 with value: 0.34146341463414637.\n",
      "[I 2025-08-17 22:32:35,621] Trial 59 finished with value: 0.27906976744186046 and parameters: {'learning_rate': 0.15102421936101484, 'max_depth': 6, 'n_estimators': 345, 'subsample': 0.8609662366471305, 'colsample_bytree': 0.826376836936938, 'reg_lambda': 1.1885809690253946, 'reg_alpha': 1.7245227310698235, 'min_child_weight': 10}. Best is trial 27 with value: 0.34146341463414637.\n",
      "[I 2025-08-17 22:32:37,593] Trial 60 finished with value: 0.14285714285714285 and parameters: {'learning_rate': 0.04607446427873241, 'max_depth': 3, 'n_estimators': 415, 'subsample': 0.8765941507453882, 'colsample_bytree': 0.8917986955850766, 'reg_lambda': 1.477524910189993, 'reg_alpha': 0.852392566469895, 'min_child_weight': 1}. Best is trial 27 with value: 0.34146341463414637.\n",
      "[I 2025-08-17 22:32:39,324] Trial 61 finished with value: 0.27906976744186046 and parameters: {'learning_rate': 0.07416914880704908, 'max_depth': 5, 'n_estimators': 435, 'subsample': 0.9023260874293747, 'colsample_bytree': 0.5529466561100713, 'reg_lambda': 1.9299954270204005, 'reg_alpha': 0.4637825624154229, 'min_child_weight': 9}. Best is trial 27 with value: 0.34146341463414637.\n",
      "[I 2025-08-17 22:32:41,012] Trial 62 finished with value: 0.27906976744186046 and parameters: {'learning_rate': 0.09254115915940375, 'max_depth': 4, 'n_estimators': 489, 'subsample': 0.9229049154065445, 'colsample_bytree': 0.5818831893742644, 'reg_lambda': 1.858109326987935, 'reg_alpha': 0.20634379512088058, 'min_child_weight': 8}. Best is trial 27 with value: 0.34146341463414637.\n",
      "[I 2025-08-17 22:32:41,794] Trial 63 finished with value: 0.27906976744186046 and parameters: {'learning_rate': 0.0755147461466545, 'max_depth': 5, 'n_estimators': 419, 'subsample': 0.8978489910619428, 'colsample_bytree': 0.5262297184825416, 'reg_lambda': 1.9632386108376878, 'reg_alpha': 0.3832371769873196, 'min_child_weight': 9}. Best is trial 27 with value: 0.34146341463414637.\n",
      "[I 2025-08-17 22:32:39,360] Trial 64 finished with value: 0.2 and parameters: {'learning_rate': 0.060293949284537116, 'max_depth': 2, 'n_estimators': 399, 'subsample': 0.948017486403745, 'colsample_bytree': 0.6145677648445113, 'reg_lambda': 1.803030762491155, 'reg_alpha': 1.8609823936570498, 'min_child_weight': 10}. Best is trial 27 with value: 0.34146341463414637.\n",
      "[I 2025-08-17 22:32:40,826] Trial 65 finished with value: 0.27906976744186046 and parameters: {'learning_rate': 0.051776633284208604, 'max_depth': 6, 'n_estimators': 456, 'subsample': 0.846507555505416, 'colsample_bytree': 0.571458752753184, 'reg_lambda': 1.0229104451007274, 'reg_alpha': 0.3017205041585043, 'min_child_weight': 9}. Best is trial 27 with value: 0.34146341463414637.\n",
      "[I 2025-08-17 22:32:41,645] Trial 66 finished with value: 0.15789473684210525 and parameters: {'learning_rate': 0.10540583448253939, 'max_depth': 5, 'n_estimators': 274, 'subsample': 0.81757772337979, 'colsample_bytree': 0.5438723045419992, 'reg_lambda': 1.7481468983179609, 'reg_alpha': 0.6311481391851479, 'min_child_weight': 4}. Best is trial 27 with value: 0.34146341463414637.\n",
      "[I 2025-08-17 22:32:42,383] Trial 67 finished with value: 0.24390243902439024 and parameters: {'learning_rate': 0.06834276444205013, 'max_depth': 3, 'n_estimators': 383, 'subsample': 0.8850896446706271, 'colsample_bytree': 0.6318571422076806, 'reg_lambda': 1.8711638313430945, 'reg_alpha': 1.274057079515826, 'min_child_weight': 8}. Best is trial 27 with value: 0.34146341463414637.\n",
      "[I 2025-08-17 22:32:42,731] Trial 68 finished with value: 0.15789473684210525 and parameters: {'learning_rate': 0.12253318527987361, 'max_depth': 8, 'n_estimators': 104, 'subsample': 0.9078696760808244, 'colsample_bytree': 0.7694693666880642, 'reg_lambda': 1.3859479371637102, 'reg_alpha': 1.4923111739843797, 'min_child_weight': 7}. Best is trial 27 with value: 0.34146341463414637.\n",
      "[I 2025-08-17 22:32:43,784] Trial 69 finished with value: 0.21621621621621623 and parameters: {'learning_rate': 0.14384405146988205, 'max_depth': 4, 'n_estimators': 480, 'subsample': 0.7587697029757855, 'colsample_bytree': 0.5183285688201642, 'reg_lambda': 1.3170303670887247, 'reg_alpha': 1.603947869647763, 'min_child_weight': 10}. Best is trial 27 with value: 0.34146341463414637.\n",
      "[I 2025-08-17 22:32:44,755] Trial 70 finished with value: 0.23809523809523808 and parameters: {'learning_rate': 0.08394651006652079, 'max_depth': 7, 'n_estimators': 422, 'subsample': 0.9804540721602983, 'colsample_bytree': 0.6815209484523425, 'reg_lambda': 1.5775812410144416, 'reg_alpha': 0.5176054446717427, 'min_child_weight': 9}. Best is trial 27 with value: 0.34146341463414637.\n",
      "[I 2025-08-17 22:32:45,499] Trial 71 finished with value: 0.27906976744186046 and parameters: {'learning_rate': 0.15902711088610785, 'max_depth': 5, 'n_estimators': 465, 'subsample': 0.9750547955591211, 'colsample_bytree': 0.6322748668235608, 'reg_lambda': 1.8398737710627737, 'reg_alpha': 0.7566520951098592, 'min_child_weight': 8}. Best is trial 27 with value: 0.34146341463414637.\n",
      "[I 2025-08-17 22:32:46,235] Trial 72 finished with value: 0.27906976744186046 and parameters: {'learning_rate': 0.14515863539547774, 'max_depth': 5, 'n_estimators': 474, 'subsample': 0.9646825664430392, 'colsample_bytree': 0.6561867229471773, 'reg_lambda': 1.9894070844836376, 'reg_alpha': 0.6365255357857122, 'min_child_weight': 10}. Best is trial 27 with value: 0.34146341463414637.\n",
      "[I 2025-08-17 22:32:47,042] Trial 73 finished with value: 0.24390243902439024 and parameters: {'learning_rate': 0.1807639962716533, 'max_depth': 4, 'n_estimators': 499, 'subsample': 0.9268578660157687, 'colsample_bytree': 0.6019944169225627, 'reg_lambda': 1.700017350086789, 'reg_alpha': 0.6847178306342135, 'min_child_weight': 8}. Best is trial 27 with value: 0.34146341463414637.\n",
      "[I 2025-08-17 22:32:48,002] Trial 74 finished with value: 0.32558139534883723 and parameters: {'learning_rate': 0.12380974420735368, 'max_depth': 6, 'n_estimators': 443, 'subsample': 0.9411453441015337, 'colsample_bytree': 0.575959121701768, 'reg_lambda': 1.80762149931218, 'reg_alpha': 0.9289516072444284, 'min_child_weight': 5}. Best is trial 27 with value: 0.34146341463414637.\n",
      "[I 2025-08-17 22:32:48,546] Trial 75 finished with value: 0.2631578947368421 and parameters: {'learning_rate': 0.10049430747319506, 'max_depth': 6, 'n_estimators': 228, 'subsample': 0.9413879344508198, 'colsample_bytree': 0.5577502919212711, 'reg_lambda': 1.9284261760154924, 'reg_alpha': 0.09797871186627094, 'min_child_weight': 5}. Best is trial 27 with value: 0.34146341463414637.\n",
      "[I 2025-08-17 22:32:49,378] Trial 76 finished with value: 0.20512820512820512 and parameters: {'learning_rate': 0.11678787314557279, 'max_depth': 3, 'n_estimators': 448, 'subsample': 0.874993153616698, 'colsample_bytree': 0.5374136696992833, 'reg_lambda': 1.804552381136577, 'reg_alpha': 0.9284964267624068, 'min_child_weight': 6}. Best is trial 27 with value: 0.34146341463414637.\n",
      "[I 2025-08-17 22:32:50,215] Trial 77 finished with value: 0.2 and parameters: {'learning_rate': 0.06303821707036414, 'max_depth': 4, 'n_estimators': 410, 'subsample': 0.911717573094483, 'colsample_bytree': 0.5810696471467682, 'reg_lambda': 1.6384729711997372, 'reg_alpha': 1.0427198185279247, 'min_child_weight': 5}. Best is trial 27 with value: 0.34146341463414637.\n",
      "[I 2025-08-17 22:32:51,003] Trial 78 finished with value: 0.2564102564102564 and parameters: {'learning_rate': 0.13028420305502428, 'max_depth': 9, 'n_estimators': 391, 'subsample': 0.8884179699703204, 'colsample_bytree': 0.509466355838402, 'reg_lambda': 0.7592622808884335, 'reg_alpha': 1.1115502769605319, 'min_child_weight': 4}. Best is trial 27 with value: 0.34146341463414637.\n",
      "[I 2025-08-17 22:32:51,427] Trial 79 finished with value: 0.32558139534883723 and parameters: {'learning_rate': 0.10638284979168744, 'max_depth': 2, 'n_estimators': 363, 'subsample': 0.9380216993223511, 'colsample_bytree': 0.575074186799886, 'reg_lambda': 1.7366602239145397, 'reg_alpha': 1.9730377089614621, 'min_child_weight': 6}. Best is trial 27 with value: 0.34146341463414637.\n",
      "[I 2025-08-17 22:32:52,082] Trial 80 finished with value: 0.25 and parameters: {'learning_rate': 0.10808144117987313, 'max_depth': 2, 'n_estimators': 363, 'subsample': 0.9385833125847314, 'colsample_bytree': 0.7376543921824325, 'reg_lambda': 1.5412439984226278, 'reg_alpha': 1.9269695971079395, 'min_child_weight': 6}. Best is trial 27 with value: 0.34146341463414637.\n",
      "[I 2025-08-17 22:32:52,574] Trial 81 finished with value: 0.34146341463414637 and parameters: {'learning_rate': 0.08981560369066484, 'max_depth': 2, 'n_estimators': 438, 'subsample': 0.9561324811990047, 'colsample_bytree': 0.5492573685835237, 'reg_lambda': 1.7154325230331173, 'reg_alpha': 1.9817993175892719, 'min_child_weight': 4}. Best is trial 27 with value: 0.34146341463414637.\n",
      "[I 2025-08-17 22:32:53,004] Trial 82 finished with value: 0.34146341463414637 and parameters: {'learning_rate': 0.09436212068612626, 'max_depth': 2, 'n_estimators': 349, 'subsample': 0.957764451189845, 'colsample_bytree': 0.5790100911113624, 'reg_lambda': 1.7237284357836138, 'reg_alpha': 1.924373379473214, 'min_child_weight': 5}. Best is trial 27 with value: 0.34146341463414637.\n",
      "[I 2025-08-17 22:32:53,438] Trial 83 finished with value: 0.2926829268292683 and parameters: {'learning_rate': 0.0946088813384535, 'max_depth': 2, 'n_estimators': 344, 'subsample': 0.9554465831499352, 'colsample_bytree': 0.5750557130572517, 'reg_lambda': 1.721461828590736, 'reg_alpha': 1.995403339964238, 'min_child_weight': 4}. Best is trial 27 with value: 0.34146341463414637.\n",
      "[I 2025-08-17 22:32:53,824] Trial 84 finished with value: 0.2 and parameters: {'learning_rate': 0.08896776849672686, 'max_depth': 2, 'n_estimators': 317, 'subsample': 0.9620994328659492, 'colsample_bytree': 0.5344012332547187, 'reg_lambda': 1.7715996687014803, 'reg_alpha': 1.8507335009674815, 'min_child_weight': 5}. Best is trial 27 with value: 0.34146341463414637.\n",
      "[I 2025-08-17 22:32:54,498] Trial 85 finished with value: 0.23809523809523808 and parameters: {'learning_rate': 0.0811598165400658, 'max_depth': 3, 'n_estimators': 290, 'subsample': 0.9848061165887438, 'colsample_bytree': 0.591367281912651, 'reg_lambda': 1.6616273244871627, 'reg_alpha': 1.987553705420323, 'min_child_weight': 5}. Best is trial 27 with value: 0.34146341463414637.\n",
      "[I 2025-08-17 22:32:55,033] Trial 86 finished with value: 0.2926829268292683 and parameters: {'learning_rate': 0.12716422936946128, 'max_depth': 2, 'n_estimators': 432, 'subsample': 0.9463881804608786, 'colsample_bytree': 0.5471487382861877, 'reg_lambda': 1.8483730178122237, 'reg_alpha': 1.9152217376860359, 'min_child_weight': 3}. Best is trial 27 with value: 0.34146341463414637.\n",
      "[I 2025-08-17 22:32:55,801] Trial 87 finished with value: 0.27906976744186046 and parameters: {'learning_rate': 0.10481889416187797, 'max_depth': 3, 'n_estimators': 407, 'subsample': 0.9289256196001613, 'colsample_bytree': 0.5633708994915929, 'reg_lambda': 1.8948505006307064, 'reg_alpha': 1.7935297436188042, 'min_child_weight': 5}. Best is trial 27 with value: 0.34146341463414637.\n",
      "[I 2025-08-17 22:32:56,554] Trial 88 finished with value: 0.15789473684210525 and parameters: {'learning_rate': 0.11428287960278871, 'max_depth': 12, 'n_estimators': 260, 'subsample': 0.9175445607483849, 'colsample_bytree': 0.5279738238518026, 'reg_lambda': 1.4916314653351577, 'reg_alpha': 1.9481265248397142, 'min_child_weight': 6}. Best is trial 27 with value: 0.34146341463414637.\n",
      "[I 2025-08-17 22:32:57,006] Trial 89 finished with value: 0.2857142857142857 and parameters: {'learning_rate': 0.07067959746817633, 'max_depth': 2, 'n_estimators': 350, 'subsample': 0.9332918652971343, 'colsample_bytree': 0.598926881798291, 'reg_lambda': 1.60701298427386, 'reg_alpha': 1.7859570968823342, 'min_child_weight': 4}. Best is trial 27 with value: 0.34146341463414637.\n",
      "[I 2025-08-17 22:32:57,967] Trial 90 finished with value: 0.23809523809523808 and parameters: {'learning_rate': 0.07695966590216038, 'max_depth': 3, 'n_estimators': 457, 'subsample': 0.9935528030535847, 'colsample_bytree': 0.5162837642201644, 'reg_lambda': 1.7392425951210762, 'reg_alpha': 1.851642618516569, 'min_child_weight': 4}. Best is trial 27 with value: 0.34146341463414637.\n",
      "[I 2025-08-17 22:32:58,406] Trial 91 finished with value: 0.32558139534883723 and parameters: {'learning_rate': 0.09877308335503175, 'max_depth': 2, 'n_estimators': 373, 'subsample': 0.9019566490779165, 'colsample_bytree': 0.6092387513583731, 'reg_lambda': 1.6939659770159188, 'reg_alpha': 1.679257022379192, 'min_child_weight': 5}. Best is trial 27 with value: 0.34146341463414637.\n",
      "[I 2025-08-17 22:32:58,903] Trial 92 finished with value: 0.34146341463414637 and parameters: {'learning_rate': 0.09258504624322511, 'max_depth': 2, 'n_estimators': 368, 'subsample': 0.9032969740966768, 'colsample_bytree': 0.5800410918232073, 'reg_lambda': 1.803561301341402, 'reg_alpha': 1.8941378405562572, 'min_child_weight': 5}. Best is trial 27 with value: 0.34146341463414637.\n",
      "[I 2025-08-17 22:32:59,365] Trial 93 finished with value: 0.34146341463414637 and parameters: {'learning_rate': 0.09751755801035474, 'max_depth': 2, 'n_estimators': 370, 'subsample': 0.9040629973321537, 'colsample_bytree': 0.6043635169628762, 'reg_lambda': 1.6780741269245125, 'reg_alpha': 1.7336047326498103, 'min_child_weight': 5}. Best is trial 27 with value: 0.34146341463414637.\n",
      "[I 2025-08-17 22:32:59,906] Trial 94 finished with value: 0.32558139534883723 and parameters: {'learning_rate': 0.09811327426719729, 'max_depth': 2, 'n_estimators': 335, 'subsample': 0.9544735810650563, 'colsample_bytree': 0.6437808846869659, 'reg_lambda': 1.6786215079843791, 'reg_alpha': 1.8992776080210918, 'min_child_weight': 5}. Best is trial 27 with value: 0.34146341463414637.\n",
      "[I 2025-08-17 22:33:00,484] Trial 95 finished with value: 0.32558139534883723 and parameters: {'learning_rate': 0.09947944023172131, 'max_depth': 2, 'n_estimators': 326, 'subsample': 0.9696414620228927, 'colsample_bytree': 0.606806078654921, 'reg_lambda': 1.691933353837722, 'reg_alpha': 1.7327475276977315, 'min_child_weight': 5}. Best is trial 27 with value: 0.34146341463414637.\n",
      "[I 2025-08-17 22:33:00,928] Trial 96 finished with value: 0.27906976744186046 and parameters: {'learning_rate': 0.09674229407539994, 'max_depth': 2, 'n_estimators': 321, 'subsample': 0.9689205261292241, 'colsample_bytree': 0.6420340744948261, 'reg_lambda': 1.678057758110365, 'reg_alpha': 1.754228033560624, 'min_child_weight': 5}. Best is trial 27 with value: 0.34146341463414637.\n",
      "[I 2025-08-17 22:33:01,293] Trial 97 finished with value: 0.25 and parameters: {'learning_rate': 0.09153146886843208, 'max_depth': 2, 'n_estimators': 332, 'subsample': 0.9543370597861028, 'colsample_bytree': 0.6264307436752453, 'reg_lambda': 1.7830981546834777, 'reg_alpha': 1.6861749387770022, 'min_child_weight': 5}. Best is trial 27 with value: 0.34146341463414637.\n",
      "[I 2025-08-17 22:33:01,680] Trial 98 finished with value: 0.23809523809523808 and parameters: {'learning_rate': 0.10143756279449581, 'max_depth': 2, 'n_estimators': 339, 'subsample': 0.9753248980639843, 'colsample_bytree': 0.6130556483831509, 'reg_lambda': 1.59660700215521, 'reg_alpha': 1.8776236172549707, 'min_child_weight': 6}. Best is trial 27 with value: 0.34146341463414637.\n",
      "[I 2025-08-17 22:33:02,232] Trial 99 finished with value: 0.25 and parameters: {'learning_rate': 0.08607909555965332, 'max_depth': 2, 'n_estimators': 356, 'subsample': 0.9859622385832151, 'colsample_bytree': 0.7048374843312859, 'reg_lambda': 1.7008578387571371, 'reg_alpha': 1.8261466267859296, 'min_child_weight': 5}. Best is trial 27 with value: 0.34146341463414637.\n"
     ]
    }
   ],
   "source": [
    "set_seeds(SEED)\n",
    "study = optuna.create_study(\n",
    "    direction=\"maximize\",\n",
    "    sampler=optuna.samplers.TPESampler(seed=SEED)\n",
    ")\n",
    "study.optimize(objective, n_trials=100)"
   ]
  },
  {
   "cell_type": "code",
   "execution_count": 10,
   "id": "0765411c",
   "metadata": {},
   "outputs": [
    {
     "name": "stdout",
     "output_type": "stream",
     "text": [
      "Mejores hiperparámetros encontrados:\n",
      "{'learning_rate': 0.10068445706066761, 'max_depth': 3, 'n_estimators': 350, 'subsample': 0.9007890427902547, 'colsample_bytree': 0.7314800550236931, 'reg_lambda': 1.9823224974072524, 'reg_alpha': 1.5821543506396027, 'min_child_weight': 9}\n",
      "Mejor score de f1-score: 0.3415\n"
     ]
    }
   ],
   "source": [
    "print(\"Mejores hiperparámetros encontrados:\")\n",
    "print(study.best_params)\n",
    "print(f\"Mejor score de {SCORE}: {study.best_value:.4f}\")"
   ]
  },
  {
   "cell_type": "code",
   "execution_count": 12,
   "id": "f3b464e7",
   "metadata": {},
   "outputs": [
    {
     "name": "stdout",
     "output_type": "stream",
     "text": [
      "\n",
      "XGBClassifier FINAL trend_changes_score:\n",
      "               precision    recall  f1-score   support\n",
      "\n",
      "       False     0.9048    0.8482    0.8756       112\n",
      "        True     0.2917    0.4118    0.3415        17\n",
      "\n",
      "    accuracy                         0.7907       129\n",
      "   macro avg     0.5982    0.6300    0.6085       129\n",
      "weighted avg     0.8240    0.7907    0.8052       129\n",
      "\n"
     ]
    }
   ],
   "source": [
    "# Entrenar modelo final con los mejores hiperparámetros\n",
    "set_seeds(SEED)\n",
    "best_params = study.best_params\n",
    "final_model = XGBClassifier(\n",
    "    learning_rate=best_params[\"learning_rate\"],\n",
    "    max_depth=best_params[\"max_depth\"],\n",
    "    n_estimators=best_params[\"n_estimators\"],\n",
    "    subsample=best_params[\"subsample\"],\n",
    "    colsample_bytree=best_params[\"colsample_bytree\"],\n",
    "    reg_lambda=best_params[\"reg_lambda\"],\n",
    "    reg_alpha=best_params[\"reg_alpha\"],\n",
    "    min_child_weight=best_params[\"min_child_weight\"],\n",
    "    random_state=SEED,\n",
    "    eval_metric=\"mlogloss\"\n",
    ")\n",
    "final_model.fit(X_train, y_train)\n",
    "y_pred_final = final_model.predict(X_val)\n",
    "print(\"\\nXGBClassifier FINAL trend_changes_score:\\n\", trend_changes_score(y_val, y_pred_final))"
   ]
  }
 ],
 "metadata": {
  "kernelspec": {
   "display_name": "tf_venv2 (3.10.12)",
   "language": "python",
   "name": "python3"
  },
  "language_info": {
   "codemirror_mode": {
    "name": "ipython",
    "version": 3
   },
   "file_extension": ".py",
   "mimetype": "text/x-python",
   "name": "python",
   "nbconvert_exporter": "python",
   "pygments_lexer": "ipython3",
   "version": "3.10.12"
  }
 },
 "nbformat": 4,
 "nbformat_minor": 5
}
