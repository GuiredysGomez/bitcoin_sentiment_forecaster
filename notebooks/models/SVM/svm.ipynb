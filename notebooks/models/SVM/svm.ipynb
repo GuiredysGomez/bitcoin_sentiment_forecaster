{
 "cells": [
  {
   "cell_type": "code",
   "execution_count": 1,
   "id": "7c34cf5c",
   "metadata": {},
   "outputs": [
    {
     "name": "stderr",
     "output_type": "stream",
     "text": [
      "/home/toyotx22/bitcoin_sentiment_forecaster/tf_venv2/lib/python3.10/site-packages/tqdm/auto.py:21: TqdmWarning: IProgress not found. Please update jupyter and ipywidgets. See https://ipywidgets.readthedocs.io/en/stable/user_install.html\n",
      "  from .autonotebook import tqdm as notebook_tqdm\n"
     ]
    }
   ],
   "source": [
    "import numpy as np\n",
    "import random\n",
    "import pandas as pd\n",
    "import optuna\n",
    "from sklearn.svm import SVC\n",
    "from sklearn.pipeline import Pipeline\n",
    "from sklearn.preprocessing import StandardScaler\n",
    "from sklearn.metrics import classification_report\n",
    "from sklearn.model_selection import train_test_split\n",
    "from optuna.visualization import plot_optimization_history\n",
    "import os\n",
    "import json\n",
    "import joblib\n",
    "import time\n"
   ]
  },
  {
   "cell_type": "code",
   "execution_count": 2,
   "id": "b06bed4c",
   "metadata": {},
   "outputs": [],
   "source": [
    "SEED = 1234\n",
    "SCORE = \"f1-score\"\n",
    "model_name = 'SVM'"
   ]
  },
  {
   "cell_type": "code",
   "execution_count": 3,
   "id": "d84c564c",
   "metadata": {},
   "outputs": [],
   "source": [
    "def set_seeds(seed):\n",
    "    random.seed(seed)\n",
    "    np.random.seed(seed)"
   ]
  },
  {
   "cell_type": "code",
   "execution_count": 4,
   "id": "cfc38304",
   "metadata": {},
   "outputs": [],
   "source": [
    "def get_trend_changes_report_dict(y_test: np.array, y_pred: np.array) -> float:\n",
    "    \"\"\"\n",
    "    Calculate the trend changes score based on the test and predicted values.\n",
    "    \n",
    "    Args:\n",
    "        y_test (np.array): True labels.\n",
    "        y_pred (np.array): Predicted labels.\n",
    "        \n",
    "    Returns:\n",
    "        float: The trend changes score.\n",
    "    \"\"\"\n",
    "    y_df = pd.DataFrame([y_test, y_pred]).T\n",
    "    y_df.columns = [\"y_test\", \"y_pred\"]\n",
    "    y_df[\"y_test_shifted\"] = y_df[\"y_test\"].shift(-1)\n",
    "    y_df[\"is_changed_trend_test\"] = y_df[\"y_test\"] != y_df[\"y_test_shifted\"]\n",
    "    y_df[\"y_predict_shifted\"] = y_df[\"y_pred\"].shift(-1)\n",
    "    y_df[\"is_changed_trend_predict\"] = y_df[\"y_pred\"] != y_df[\"y_predict_shifted\"]\n",
    "    return classification_report(\n",
    "        y_df[\"is_changed_trend_test\"][:-1], \n",
    "        y_df[\"is_changed_trend_predict\"][:-1], \n",
    "        digits=4,\n",
    "        output_dict=True,\n",
    "        zero_division=0\n",
    "    )\n",
    "\n",
    "def trend_changes_score(y_test: np.array, y_pred: np.array) -> float:\n",
    "    \"\"\"\n",
    "    Calculate the trend changes score based on the test and predicted values.\n",
    "    \n",
    "    Args:\n",
    "        y_test (np.array): True labels.\n",
    "        y_pred (np.array): Predicted labels.\n",
    "        \n",
    "    Returns:\n",
    "        float: The trend changes score.\n",
    "    \"\"\"\n",
    "    y_df = pd.DataFrame([y_test, y_pred]).T\n",
    "    y_df.columns = [\"y_test\", \"y_pred\"]\n",
    "    y_df[\"y_test_shifted\"] = y_df[\"y_test\"].shift(-1)\n",
    "    y_df[\"is_changed_trend_test\"] = y_df[\"y_test\"] != y_df[\"y_test_shifted\"]\n",
    "    y_df[\"y_predict_shifted\"] = y_df[\"y_pred\"].shift(-1)\n",
    "    y_df[\"is_changed_trend_predict\"] = y_df[\"y_pred\"] != y_df[\"y_predict_shifted\"]\n",
    "    return classification_report(y_df[\"is_changed_trend_test\"][:-1], y_df[\"is_changed_trend_predict\"][:-1], digits=4)\n",
    "\n",
    "def trend_changes_true(y_test: np.array, y_pred: np.array) -> float:\n",
    "    \"\"\"\n",
    "    Calculate the trend changes score based on the test and predicted values.\n",
    "    \n",
    "    Args:\n",
    "        y_test (np.array): True labels.\n",
    "        y_pred (np.array): Predicted labels.\n",
    "        \n",
    "    Returns:\n",
    "        float: The trend changes score.\n",
    "    \"\"\"\n",
    "    y_df = pd.DataFrame([y_test, y_pred]).T\n",
    "    y_df.columns = [\"y_test\", \"y_pred\"]\n",
    "    y_df[\"y_test_shifted\"] = y_df[\"y_test\"].shift(-1)\n",
    "    y_df[\"is_changed_trend_test\"] = y_df[\"y_test\"] != y_df[\"y_test_shifted\"]\n",
    "    y_df[\"y_predict_shifted\"] = y_df[\"y_pred\"].shift(-1)\n",
    "    y_df[\"is_changed_trend_predict\"] = y_df[\"y_pred\"] != y_df[\"y_predict_shifted\"]\n",
    "    report = classification_report(\n",
    "        y_df[\"is_changed_trend_test\"][:-1],\n",
    "        y_df[\"is_changed_trend_predict\"][:-1],\n",
    "        output_dict=True,\n",
    "        zero_division=0\n",
    "    )\n",
    "    return report[\"True\"][SCORE]"
   ]
  },
  {
   "cell_type": "code",
   "execution_count": 5,
   "id": "6c74510b",
   "metadata": {},
   "outputs": [],
   "source": [
    "# Cargar datos\n",
    "train = pd.read_csv(\"../../../data/post_cleaning/training_set.csv\", parse_dates=[\"date\"])\n",
    "val = pd.read_csv(\"../../../data/post_cleaning/validation_set.csv\", parse_dates=[\"date\"])\n",
    "X_train = train.drop(columns=[\"date\", \"target_trend\"]).values\n",
    "y_train = train[\"target_trend\"].values\n",
    "X_val = val.drop(columns=[\"date\", \"target_trend\"]).values\n",
    "y_val = val[\"target_trend\"].values\n"
   ]
  },
  {
   "cell_type": "code",
   "execution_count": 6,
   "id": "d013f656",
   "metadata": {},
   "outputs": [],
   "source": [
    "def objective(trial):\n",
    "    set_seeds(SEED)\n",
    "    C = trial.suggest_float(\"C\", 1e-3, 100, log=True)\n",
    "    kernel = trial.suggest_categorical(\"kernel\", [\"rbf\", \"linear\", \"poly\", \"sigmoid\"])\n",
    "    gamma = trial.suggest_categorical(\"gamma\", [\"scale\", \"auto\"])\n",
    "    degree = 3\n",
    "    if kernel == \"poly\":\n",
    "        degree = trial.suggest_int(\"degree\", 2, 5)\n",
    "    else:\n",
    "        degree = 3  # default\n",
    "\n",
    "    model = Pipeline([\n",
    "        (\"scaler\", StandardScaler()),\n",
    "        (\"svc\", SVC(\n",
    "            C=C,\n",
    "            kernel=kernel,\n",
    "            gamma=gamma,\n",
    "            degree=degree,\n",
    "            random_state=SEED,\n",
    "            decision_function_shape=\"ovr\"\n",
    "        ))\n",
    "    ])\n",
    "    model.fit(X_train, y_train)\n",
    "    y_pred = model.predict(X_val)\n",
    "    score = trend_changes_true(y_val, y_pred)\n",
    "    return score"
   ]
  },
  {
   "cell_type": "code",
   "execution_count": 16,
   "id": "ae8cf30a",
   "metadata": {},
   "outputs": [
    {
     "name": "stderr",
     "output_type": "stream",
     "text": [
      "[I 2025-09-17 16:36:30,720] A new study created in memory with name: no-name-30d1d4ca-1f02-480f-8a22-77f5628d055b\n",
      "[I 2025-09-17 16:36:30,903] Trial 0 finished with value: 0.05 and parameters: {'C': 0.009069790423538587, 'kernel': 'poly', 'gamma': 'auto', 'degree': 5}. Best is trial 0 with value: 0.05.\n",
      "[I 2025-09-17 16:36:31,093] Trial 1 finished with value: 0.3 and parameters: {'C': 61.75850414870778, 'kernel': 'rbf', 'gamma': 'scale'}. Best is trial 1 with value: 0.3.\n",
      "[I 2025-09-17 16:36:31,214] Trial 2 finished with value: 0.3364485981308411 and parameters: {'C': 0.6397067456356109, 'kernel': 'sigmoid', 'gamma': 'auto'}. Best is trial 2 with value: 0.3364485981308411.\n",
      "[I 2025-09-17 16:36:31,322] Trial 3 finished with value: 0.3684210526315789 and parameters: {'C': 0.002381805030702129, 'kernel': 'linear', 'gamma': 'scale'}. Best is trial 3 with value: 0.3684210526315789.\n",
      "[I 2025-09-17 16:36:31,474] Trial 4 finished with value: 0.40298507462686567 and parameters: {'C': 0.692617185326897, 'kernel': 'rbf', 'gamma': 'auto'}. Best is trial 4 with value: 0.40298507462686567.\n",
      "[I 2025-09-17 16:36:31,654] Trial 5 finished with value: 0.0 and parameters: {'C': 0.012415394629331972, 'kernel': 'rbf', 'gamma': 'scale'}. Best is trial 4 with value: 0.40298507462686567.\n",
      "[I 2025-09-17 16:36:31,784] Trial 6 finished with value: 0.35714285714285715 and parameters: {'C': 2.3681255196123407, 'kernel': 'rbf', 'gamma': 'auto'}. Best is trial 4 with value: 0.40298507462686567.\n",
      "[I 2025-09-17 16:36:31,981] Trial 7 finished with value: 0.0 and parameters: {'C': 0.0036263656129821224, 'kernel': 'sigmoid', 'gamma': 'scale'}. Best is trial 4 with value: 0.40298507462686567.\n",
      "[I 2025-09-17 16:36:32,160] Trial 8 finished with value: 0.3 and parameters: {'C': 91.28666284968567, 'kernel': 'rbf', 'gamma': 'scale'}. Best is trial 4 with value: 0.40298507462686567.\n",
      "[I 2025-09-17 16:36:32,306] Trial 9 finished with value: 0.16981132075471697 and parameters: {'C': 0.08158066857585633, 'kernel': 'poly', 'gamma': 'auto', 'degree': 4}. Best is trial 4 with value: 0.40298507462686567.\n",
      "[I 2025-09-17 16:36:34,505] Trial 10 finished with value: 0.527027027027027 and parameters: {'C': 8.015305413226868, 'kernel': 'linear', 'gamma': 'auto'}. Best is trial 10 with value: 0.527027027027027.\n",
      "[I 2025-09-17 16:36:35,991] Trial 11 finished with value: 0.5314685314685315 and parameters: {'C': 5.819330305759175, 'kernel': 'linear', 'gamma': 'auto'}. Best is trial 11 with value: 0.5314685314685315.\n",
      "[I 2025-09-17 16:36:37,837] Trial 12 finished with value: 0.54421768707483 and parameters: {'C': 9.024506012813761, 'kernel': 'linear', 'gamma': 'auto'}. Best is trial 12 with value: 0.54421768707483.\n",
      "[I 2025-09-17 16:36:35,286] Trial 13 finished with value: 0.547945205479452 and parameters: {'C': 11.433985486786153, 'kernel': 'linear', 'gamma': 'auto'}. Best is trial 13 with value: 0.547945205479452.\n",
      "[I 2025-09-17 16:36:40,717] Trial 14 finished with value: 0.5277777777777778 and parameters: {'C': 19.457861764689177, 'kernel': 'linear', 'gamma': 'auto'}. Best is trial 13 with value: 0.547945205479452.\n",
      "[I 2025-09-17 16:36:45,862] Trial 15 finished with value: 0.45255474452554745 and parameters: {'C': 0.14201640502100651, 'kernel': 'linear', 'gamma': 'auto'}. Best is trial 13 with value: 0.547945205479452.\n",
      "[I 2025-09-17 16:36:40,992] Trial 16 finished with value: 0.5109489051094891 and parameters: {'C': 1.9953536110841532, 'kernel': 'linear', 'gamma': 'auto'}. Best is trial 13 with value: 0.547945205479452.\n",
      "[I 2025-09-17 16:36:46,631] Trial 17 finished with value: 0.5211267605633803 and parameters: {'C': 20.918591431375734, 'kernel': 'linear', 'gamma': 'auto'}. Best is trial 13 with value: 0.547945205479452.\n",
      "[I 2025-09-17 16:36:57,617] Trial 18 finished with value: 0.5454545454545454 and parameters: {'C': 24.20471540699566, 'kernel': 'linear', 'gamma': 'auto'}. Best is trial 13 with value: 0.547945205479452.\n",
      "[I 2025-09-17 16:36:57,729] Trial 19 finished with value: 0.18487394957983194 and parameters: {'C': 34.669680014238324, 'kernel': 'sigmoid', 'gamma': 'auto'}. Best is trial 13 with value: 0.547945205479452.\n",
      "[I 2025-09-17 16:36:57,880] Trial 20 finished with value: 0.25 and parameters: {'C': 2.446249191644489, 'kernel': 'poly', 'gamma': 'auto', 'degree': 2}. Best is trial 13 with value: 0.547945205479452.\n",
      "[I 2025-09-17 16:37:00,053] Trial 21 finished with value: 0.5555555555555556 and parameters: {'C': 6.8875696377923425, 'kernel': 'linear', 'gamma': 'auto'}. Best is trial 21 with value: 0.5555555555555556.\n",
      "[I 2025-09-17 16:37:04,880] Trial 22 finished with value: 0.5277777777777778 and parameters: {'C': 18.300803295505336, 'kernel': 'linear', 'gamma': 'auto'}. Best is trial 21 with value: 0.5555555555555556.\n",
      "[I 2025-09-17 16:37:05,964] Trial 23 finished with value: 0.5314685314685315 and parameters: {'C': 5.368462384818639, 'kernel': 'linear', 'gamma': 'auto'}. Best is trial 21 with value: 0.5555555555555556.\n",
      "[I 2025-09-17 16:37:10,818] Trial 24 finished with value: 0.4647887323943662 and parameters: {'C': 45.692889666238784, 'kernel': 'linear', 'gamma': 'auto'}. Best is trial 21 with value: 0.5555555555555556.\n",
      "[I 2025-09-17 16:37:11,239] Trial 25 finished with value: 0.5037037037037037 and parameters: {'C': 1.2169066181725197, 'kernel': 'linear', 'gamma': 'auto'}. Best is trial 21 with value: 0.5555555555555556.\n",
      "[I 2025-09-17 16:37:11,360] Trial 26 finished with value: 0.45255474452554745 and parameters: {'C': 0.15910326703116168, 'kernel': 'linear', 'gamma': 'scale'}. Best is trial 21 with value: 0.5555555555555556.\n",
      "[I 2025-09-17 16:37:15,050] Trial 27 finished with value: 0.5540540540540541 and parameters: {'C': 12.540430706620201, 'kernel': 'linear', 'gamma': 'auto'}. Best is trial 21 with value: 0.5555555555555556.\n",
      "[I 2025-09-17 16:37:15,202] Trial 28 finished with value: 0.313953488372093 and parameters: {'C': 4.233074694228023, 'kernel': 'poly', 'gamma': 'auto', 'degree': 2}. Best is trial 21 with value: 0.5555555555555556.\n",
      "[I 2025-09-17 16:37:15,295] Trial 29 finished with value: 0.2857142857142857 and parameters: {'C': 10.658759353036762, 'kernel': 'sigmoid', 'gamma': 'auto'}. Best is trial 21 with value: 0.5555555555555556.\n",
      "[I 2025-09-17 16:37:15,460] Trial 30 finished with value: 0.1896551724137931 and parameters: {'C': 0.3673673846575173, 'kernel': 'poly', 'gamma': 'auto', 'degree': 5}. Best is trial 21 with value: 0.5555555555555556.\n",
      "[I 2025-09-17 16:37:27,730] Trial 31 finished with value: 0.49295774647887325 and parameters: {'C': 33.306837870486156, 'kernel': 'linear', 'gamma': 'auto'}. Best is trial 21 with value: 0.5555555555555556.\n",
      "[I 2025-09-17 16:37:41,740] Trial 32 finished with value: 0.5034965034965035 and parameters: {'C': 84.00804195706081, 'kernel': 'linear', 'gamma': 'auto'}. Best is trial 21 with value: 0.5555555555555556.\n",
      "[I 2025-09-17 16:37:46,304] Trial 33 finished with value: 0.5578231292517006 and parameters: {'C': 15.547744757750339, 'kernel': 'linear', 'gamma': 'auto'}. Best is trial 33 with value: 0.5578231292517006.\n",
      "[I 2025-09-17 16:37:49,880] Trial 34 finished with value: 0.5503355704697986 and parameters: {'C': 12.386797529981429, 'kernel': 'linear', 'gamma': 'scale'}. Best is trial 33 with value: 0.5578231292517006.\n",
      "[I 2025-09-17 16:37:50,275] Trial 35 finished with value: 0.4852941176470588 and parameters: {'C': 0.9309621050710054, 'kernel': 'linear', 'gamma': 'scale'}. Best is trial 33 with value: 0.5578231292517006.\n",
      "[I 2025-09-17 16:37:56,139] Trial 36 finished with value: 0.5531914893617021 and parameters: {'C': 3.4253636110706753, 'kernel': 'linear', 'gamma': 'scale'}. Best is trial 33 with value: 0.5578231292517006.\n",
      "[I 2025-09-17 16:37:56,247] Trial 37 finished with value: 0.18518518518518517 and parameters: {'C': 3.7705527167785156, 'kernel': 'sigmoid', 'gamma': 'scale'}. Best is trial 33 with value: 0.5578231292517006.\n",
      "[I 2025-09-17 16:37:56,415] Trial 38 finished with value: 0.3841059602649007 and parameters: {'C': 1.4167730678247992, 'kernel': 'rbf', 'gamma': 'scale'}. Best is trial 33 with value: 0.5578231292517006.\n",
      "[I 2025-09-17 16:37:56,579] Trial 39 finished with value: 0.47058823529411764 and parameters: {'C': 0.4430318067938977, 'kernel': 'linear', 'gamma': 'scale'}. Best is trial 33 with value: 0.5578231292517006.\n",
      "[I 2025-09-17 16:37:56,769] Trial 40 finished with value: 0.0 and parameters: {'C': 0.015242622987942942, 'kernel': 'rbf', 'gamma': 'scale'}. Best is trial 33 with value: 0.5578231292517006.\n",
      "[I 2025-09-17 16:38:00,309] Trial 41 finished with value: 0.5540540540540541 and parameters: {'C': 13.65184397957654, 'kernel': 'linear', 'gamma': 'scale'}. Best is trial 33 with value: 0.5578231292517006.\n",
      "[I 2025-09-17 16:38:04,604] Trial 42 finished with value: 0.4892086330935252 and parameters: {'C': 37.76059400145557, 'kernel': 'linear', 'gamma': 'scale'}. Best is trial 33 with value: 0.5578231292517006.\n",
      "[I 2025-09-17 16:38:05,733] Trial 43 finished with value: 0.5454545454545454 and parameters: {'C': 3.8783239106564658, 'kernel': 'linear', 'gamma': 'scale'}. Best is trial 33 with value: 0.5578231292517006.\n",
      "[I 2025-09-17 16:38:06,684] Trial 44 finished with value: 0.5179856115107914 and parameters: {'C': 2.691219089103389, 'kernel': 'linear', 'gamma': 'scale'}. Best is trial 33 with value: 0.5578231292517006.\n",
      "[I 2025-09-17 16:38:27,715] Trial 45 finished with value: 0.49295774647887325 and parameters: {'C': 67.03113515652679, 'kernel': 'linear', 'gamma': 'scale'}. Best is trial 33 with value: 0.5578231292517006.\n",
      "[I 2025-09-17 16:38:29,552] Trial 46 finished with value: 0.5594405594405595 and parameters: {'C': 6.592617944586995, 'kernel': 'linear', 'gamma': 'scale'}. Best is trial 46 with value: 0.5594405594405595.\n",
      "[I 2025-09-17 16:38:29,708] Trial 47 finished with value: 0.32727272727272727 and parameters: {'C': 5.455892208542038, 'kernel': 'rbf', 'gamma': 'scale'}. Best is trial 46 with value: 0.5594405594405595.\n",
      "[I 2025-09-17 16:38:29,895] Trial 48 finished with value: 0.16161616161616163 and parameters: {'C': 0.026142078696649276, 'kernel': 'sigmoid', 'gamma': 'scale'}. Best is trial 46 with value: 0.5594405594405595.\n",
      "[I 2025-09-17 16:38:30,056] Trial 49 finished with value: 0.3129251700680272 and parameters: {'C': 7.719130793954575, 'kernel': 'poly', 'gamma': 'auto', 'degree': 3}. Best is trial 46 with value: 0.5594405594405595.\n",
      "[I 2025-09-17 16:38:34,225] Trial 50 finished with value: 0.5578231292517006 and parameters: {'C': 15.065200361070312, 'kernel': 'linear', 'gamma': 'auto'}. Best is trial 46 with value: 0.5594405594405595.\n",
      "[I 2025-09-17 16:38:37,295] Trial 51 finished with value: 0.5540540540540541 and parameters: {'C': 14.102259317301227, 'kernel': 'linear', 'gamma': 'auto'}. Best is trial 46 with value: 0.5594405594405595.\n",
      "[I 2025-09-17 16:38:43,288] Trial 52 finished with value: 0.5555555555555556 and parameters: {'C': 24.754720081082734, 'kernel': 'linear', 'gamma': 'auto'}. Best is trial 46 with value: 0.5594405594405595.\n",
      "[I 2025-09-17 16:38:54,849] Trial 53 finished with value: 0.5285714285714286 and parameters: {'C': 26.205290918921254, 'kernel': 'linear', 'gamma': 'auto'}. Best is trial 46 with value: 0.5594405594405595.\n",
      "[I 2025-09-17 16:39:02,983] Trial 54 finished with value: 0.4755244755244755 and parameters: {'C': 56.49094532074512, 'kernel': 'linear', 'gamma': 'auto'}. Best is trial 46 with value: 0.5594405594405595.\n",
      "[I 2025-09-17 16:39:04,960] Trial 55 finished with value: 0.5342465753424658 and parameters: {'C': 8.535921049696057, 'kernel': 'linear', 'gamma': 'auto'}. Best is trial 46 with value: 0.5594405594405595.\n",
      "[I 2025-09-17 16:39:09,976] Trial 56 finished with value: 0.5277777777777778 and parameters: {'C': 17.48740225147722, 'kernel': 'linear', 'gamma': 'auto'}. Best is trial 46 with value: 0.5594405594405595.\n",
      "[I 2025-09-17 16:39:10,069] Trial 57 finished with value: 0.29411764705882354 and parameters: {'C': 0.0012049474864812954, 'kernel': 'linear', 'gamma': 'auto'}. Best is trial 46 with value: 0.5594405594405595.\n",
      "[I 2025-09-17 16:39:11,186] Trial 58 finished with value: 0.5594405594405595 and parameters: {'C': 6.664647831628963, 'kernel': 'linear', 'gamma': 'auto'}. Best is trial 46 with value: 0.5594405594405595.\n",
      "[I 2025-09-17 16:39:13,006] Trial 59 finished with value: 0.5594405594405595 and parameters: {'C': 6.6543864901219445, 'kernel': 'linear', 'gamma': 'auto'}. Best is trial 46 with value: 0.5594405594405595.\n",
      "[I 2025-09-17 16:39:13,144] Trial 60 finished with value: 0.389937106918239 and parameters: {'C': 1.8117360161436735, 'kernel': 'rbf', 'gamma': 'auto'}. Best is trial 46 with value: 0.5594405594405595.\n",
      "[I 2025-09-17 16:39:15,044] Trial 61 finished with value: 0.5594405594405595 and parameters: {'C': 6.712222903122213, 'kernel': 'linear', 'gamma': 'auto'}. Best is trial 46 with value: 0.5594405594405595.\n",
      "[I 2025-09-17 16:39:16,846] Trial 62 finished with value: 0.5594405594405595 and parameters: {'C': 6.479388418440443, 'kernel': 'linear', 'gamma': 'auto'}. Best is trial 46 with value: 0.5594405594405595.\n",
      "[I 2025-09-17 16:39:17,114] Trial 63 finished with value: 0.44776119402985076 and parameters: {'C': 0.6415039166556419, 'kernel': 'linear', 'gamma': 'auto'}. Best is trial 46 with value: 0.5594405594405595.\n",
      "[I 2025-09-17 16:39:18,297] Trial 64 finished with value: 0.5314685314685315 and parameters: {'C': 4.965932559626766, 'kernel': 'linear', 'gamma': 'auto'}. Best is trial 46 with value: 0.5594405594405595.\n",
      "[I 2025-09-17 16:39:20,393] Trial 65 finished with value: 0.527027027027027 and parameters: {'C': 7.762283336364956, 'kernel': 'linear', 'gamma': 'auto'}. Best is trial 46 with value: 0.5594405594405595.\n",
      "[I 2025-09-17 16:39:20,586] Trial 66 finished with value: 0.27586206896551724 and parameters: {'C': 2.8563462482249267, 'kernel': 'poly', 'gamma': 'auto', 'degree': 4}. Best is trial 46 with value: 0.5594405594405595.\n",
      "[I 2025-09-17 16:39:20,846] Trial 67 finished with value: 0.5109489051094891 and parameters: {'C': 1.8648355021987633, 'kernel': 'linear', 'gamma': 'auto'}. Best is trial 46 with value: 0.5594405594405595.\n",
      "[I 2025-09-17 16:39:21,022] Trial 68 finished with value: 0.2857142857142857 and parameters: {'C': 1.070824892542841, 'kernel': 'sigmoid', 'gamma': 'auto'}. Best is trial 46 with value: 0.5594405594405595.\n",
      "[I 2025-09-17 16:39:22,676] Trial 69 finished with value: 0.5454545454545454 and parameters: {'C': 6.159530674910674, 'kernel': 'linear', 'gamma': 'auto'}. Best is trial 46 with value: 0.5594405594405595.\n",
      "[I 2025-09-17 16:39:27,233] Trial 70 finished with value: 0.5277777777777778 and parameters: {'C': 17.780358676186307, 'kernel': 'linear', 'gamma': 'auto'}. Best is trial 46 with value: 0.5594405594405595.\n",
      "[I 2025-09-17 16:39:29,054] Trial 71 finished with value: 0.54421768707483 and parameters: {'C': 9.530814932417004, 'kernel': 'linear', 'gamma': 'auto'}. Best is trial 46 with value: 0.5594405594405595.\n",
      "[I 2025-09-17 16:39:31,157] Trial 72 finished with value: 0.5306122448979592 and parameters: {'C': 7.371909370104025, 'kernel': 'linear', 'gamma': 'auto'}. Best is trial 46 with value: 0.5594405594405595.\n",
      "[I 2025-09-17 16:39:36,731] Trial 73 finished with value: 0.524822695035461 and parameters: {'C': 30.740246587083295, 'kernel': 'linear', 'gamma': 'auto'}. Best is trial 46 with value: 0.5594405594405595.\n",
      "[I 2025-09-17 16:39:38,245] Trial 74 finished with value: 0.5314685314685315 and parameters: {'C': 5.633650356251216, 'kernel': 'linear', 'gamma': 'auto'}. Best is trial 46 with value: 0.5594405594405595.\n",
      "[I 2025-09-17 16:39:40,858] Trial 75 finished with value: 0.547945205479452 and parameters: {'C': 11.195068380200512, 'kernel': 'linear', 'gamma': 'auto'}. Best is trial 46 with value: 0.5594405594405595.\n",
      "[I 2025-09-17 16:39:56,302] Trial 76 finished with value: 0.4647887323943662 and parameters: {'C': 46.414949186616376, 'kernel': 'linear', 'gamma': 'auto'}. Best is trial 46 with value: 0.5594405594405595.\n",
      "[I 2025-09-17 16:39:57,425] Trial 77 finished with value: 0.5454545454545454 and parameters: {'C': 3.418062332791094, 'kernel': 'linear', 'gamma': 'auto'}. Best is trial 46 with value: 0.5594405594405595.\n",
      "[I 2025-09-17 16:39:57,577] Trial 78 finished with value: 0.2967741935483871 and parameters: {'C': 18.100700521632653, 'kernel': 'poly', 'gamma': 'auto', 'degree': 3}. Best is trial 46 with value: 0.5594405594405595.\n",
      "[I 2025-09-17 16:39:58,141] Trial 79 finished with value: 0.5037037037037037 and parameters: {'C': 1.4916386938149848, 'kernel': 'linear', 'gamma': 'auto'}. Best is trial 46 with value: 0.5594405594405595.\n",
      "[I 2025-09-17 16:39:58,233] Trial 80 finished with value: 0.23214285714285715 and parameters: {'C': 4.5037927000214975, 'kernel': 'sigmoid', 'gamma': 'auto'}. Best is trial 46 with value: 0.5594405594405595.\n",
      "[I 2025-09-17 16:40:05,018] Trial 81 finished with value: 0.5390070921985816 and parameters: {'C': 27.982259167802148, 'kernel': 'linear', 'gamma': 'auto'}. Best is trial 46 with value: 0.5594405594405595.\n",
      "[I 2025-09-17 16:40:11,032] Trial 82 finished with value: 0.5211267605633803 and parameters: {'C': 21.75915145672295, 'kernel': 'linear', 'gamma': 'auto'}. Best is trial 46 with value: 0.5594405594405595.\n",
      "[I 2025-09-17 16:40:07,511] Trial 83 finished with value: 0.5540540540540541 and parameters: {'C': 12.141249511311218, 'kernel': 'linear', 'gamma': 'auto'}. Best is trial 46 with value: 0.5594405594405595.\n",
      "[I 2025-09-17 16:40:11,462] Trial 84 finished with value: 0.5578231292517006 and parameters: {'C': 15.099599604316156, 'kernel': 'linear', 'gamma': 'auto'}. Best is trial 46 with value: 0.5594405594405595.\n",
      "[I 2025-09-17 16:40:15,676] Trial 85 finished with value: 0.5578231292517006 and parameters: {'C': 15.520926989494319, 'kernel': 'linear', 'gamma': 'auto'}. Best is trial 46 with value: 0.5594405594405595.\n",
      "[I 2025-09-17 16:40:19,489] Trial 86 finished with value: 0.5578231292517006 and parameters: {'C': 15.949876268099658, 'kernel': 'linear', 'gamma': 'auto'}. Best is trial 46 with value: 0.5594405594405595.\n",
      "[I 2025-09-17 16:40:19,689] Trial 87 finished with value: 0.3 and parameters: {'C': 97.73195667396803, 'kernel': 'rbf', 'gamma': 'auto'}. Best is trial 46 with value: 0.5594405594405595.\n",
      "[I 2025-09-17 16:40:20,992] Trial 88 finished with value: 0.5517241379310345 and parameters: {'C': 9.9164123537376, 'kernel': 'linear', 'gamma': 'auto'}. Best is trial 46 with value: 0.5594405594405595.\n",
      "[I 2025-09-17 16:40:21,629] Trial 89 finished with value: 0.5109489051094891 and parameters: {'C': 2.212581963824511, 'kernel': 'linear', 'gamma': 'auto'}. Best is trial 46 with value: 0.5594405594405595.\n",
      "[I 2025-09-17 16:40:29,996] Trial 90 finished with value: 0.48226950354609927 and parameters: {'C': 42.57621840188522, 'kernel': 'linear', 'gamma': 'auto'}. Best is trial 46 with value: 0.5594405594405595.\n",
      "[I 2025-09-17 16:40:34,501] Trial 91 finished with value: 0.5578231292517006 and parameters: {'C': 14.822042554698358, 'kernel': 'linear', 'gamma': 'auto'}. Best is trial 46 with value: 0.5594405594405595.\n",
      "[I 2025-09-17 16:40:38,832] Trial 92 finished with value: 0.5578231292517006 and parameters: {'C': 15.214712021475787, 'kernel': 'linear', 'gamma': 'auto'}. Best is trial 46 with value: 0.5594405594405595.\n",
      "[I 2025-09-17 16:40:40,534] Trial 93 finished with value: 0.5306122448979592 and parameters: {'C': 7.1405163381023105, 'kernel': 'linear', 'gamma': 'auto'}. Best is trial 46 with value: 0.5594405594405595.\n",
      "[I 2025-09-17 16:40:44,735] Trial 94 finished with value: 0.5211267605633803 and parameters: {'C': 22.74917739687847, 'kernel': 'linear', 'gamma': 'auto'}. Best is trial 46 with value: 0.5594405594405595.\n",
      "[I 2025-09-17 16:40:44,828] Trial 95 finished with value: 0.44776119402985076 and parameters: {'C': 0.07150123880293023, 'kernel': 'linear', 'gamma': 'auto'}. Best is trial 46 with value: 0.5594405594405595.\n",
      "[I 2025-09-17 16:40:46,591] Trial 96 finished with value: 0.5578231292517006 and parameters: {'C': 10.150162487496265, 'kernel': 'linear', 'gamma': 'auto'}. Best is trial 46 with value: 0.5594405594405595.\n",
      "[I 2025-09-17 16:41:04,507] Trial 97 finished with value: 0.49295774647887325 and parameters: {'C': 62.75864979395023, 'kernel': 'linear', 'gamma': 'scale'}. Best is trial 46 with value: 0.5594405594405595.\n",
      "[I 2025-09-17 16:41:05,644] Trial 98 finished with value: 0.5531914893617021 and parameters: {'C': 3.4055242279895475, 'kernel': 'linear', 'gamma': 'auto'}. Best is trial 46 with value: 0.5594405594405595.\n",
      "[I 2025-09-17 16:41:05,841] Trial 99 finished with value: 0.3103448275862069 and parameters: {'C': 6.658959179367576, 'kernel': 'poly', 'gamma': 'auto', 'degree': 2}. Best is trial 46 with value: 0.5594405594405595.\n",
      "[I 2025-09-17 16:41:17,771] Trial 100 finished with value: 0.5174825174825175 and parameters: {'C': 32.204696883327074, 'kernel': 'linear', 'gamma': 'auto'}. Best is trial 46 with value: 0.5594405594405595.\n",
      "[I 2025-09-17 16:41:21,865] Trial 101 finished with value: 0.5578231292517006 and parameters: {'C': 14.243648115802676, 'kernel': 'linear', 'gamma': 'auto'}. Best is trial 46 with value: 0.5594405594405595.\n",
      "[I 2025-09-17 16:41:25,735] Trial 102 finished with value: 0.5517241379310345 and parameters: {'C': 16.02870391029105, 'kernel': 'linear', 'gamma': 'auto'}. Best is trial 46 with value: 0.5594405594405595.\n",
      "[I 2025-09-17 16:41:20,043] Trial 103 finished with value: 0.5352112676056338 and parameters: {'C': 4.5117451569032605, 'kernel': 'linear', 'gamma': 'auto'}. Best is trial 46 with value: 0.5594405594405595.\n",
      "[I 2025-09-17 16:41:21,713] Trial 104 finished with value: 0.54421768707483 and parameters: {'C': 8.971226504114858, 'kernel': 'linear', 'gamma': 'auto'}. Best is trial 46 with value: 0.5594405594405595.\n",
      "[I 2025-09-17 16:41:21,844] Trial 105 finished with value: 0.19834710743801653 and parameters: {'C': 20.73458321357099, 'kernel': 'sigmoid', 'gamma': 'auto'}. Best is trial 46 with value: 0.5594405594405595.\n",
      "[I 2025-09-17 16:41:26,457] Trial 106 finished with value: 0.5405405405405406 and parameters: {'C': 12.92229146639652, 'kernel': 'linear', 'gamma': 'scale'}. Best is trial 46 with value: 0.5594405594405595.\n",
      "[I 2025-09-17 16:41:26,681] Trial 107 finished with value: 0.0 and parameters: {'C': 0.00513951147009122, 'kernel': 'rbf', 'gamma': 'auto'}. Best is trial 46 with value: 0.5594405594405595.\n",
      "[I 2025-09-17 16:41:28,397] Trial 108 finished with value: 0.5314685314685315 and parameters: {'C': 5.73801569388072, 'kernel': 'linear', 'gamma': 'auto'}. Best is trial 46 with value: 0.5594405594405595.\n",
      "[I 2025-09-17 16:41:31,069] Trial 109 finished with value: 0.547945205479452 and parameters: {'C': 10.977848134305427, 'kernel': 'linear', 'gamma': 'auto'}. Best is trial 46 with value: 0.5594405594405595.\n",
      "[I 2025-09-17 16:41:37,681] Trial 110 finished with value: 0.5352112676056338 and parameters: {'C': 25.95786341953015, 'kernel': 'linear', 'gamma': 'scale'}. Best is trial 46 with value: 0.5594405594405595.\n",
      "[I 2025-09-17 16:41:42,553] Trial 111 finished with value: 0.5578231292517006 and parameters: {'C': 15.210803926158048, 'kernel': 'linear', 'gamma': 'auto'}. Best is trial 46 with value: 0.5594405594405595.\n",
      "[I 2025-09-17 16:41:44,490] Trial 112 finished with value: 0.5342465753424658 and parameters: {'C': 8.291884050789852, 'kernel': 'linear', 'gamma': 'auto'}. Best is trial 46 with value: 0.5594405594405595.\n",
      "[I 2025-09-17 16:41:48,917] Trial 113 finished with value: 0.5416666666666666 and parameters: {'C': 16.17470598021688, 'kernel': 'linear', 'gamma': 'auto'}. Best is trial 46 with value: 0.5594405594405595.\n",
      "[I 2025-09-17 16:41:59,376] Trial 114 finished with value: 0.5035971223021583 and parameters: {'C': 39.714409365869855, 'kernel': 'linear', 'gamma': 'auto'}. Best is trial 46 with value: 0.5594405594405595.\n",
      "[I 2025-09-17 16:42:04,595] Trial 115 finished with value: 0.5277777777777778 and parameters: {'C': 18.770319404568056, 'kernel': 'linear', 'gamma': 'auto'}. Best is trial 46 with value: 0.5594405594405595.\n",
      "[I 2025-09-17 16:42:15,968] Trial 116 finished with value: 0.4861111111111111 and parameters: {'C': 50.45865741708562, 'kernel': 'linear', 'gamma': 'auto'}. Best is trial 46 with value: 0.5594405594405595.\n",
      "[I 2025-09-17 16:42:17,787] Trial 117 finished with value: 0.5594405594405595 and parameters: {'C': 6.442659629556481, 'kernel': 'linear', 'gamma': 'auto'}. Best is trial 46 with value: 0.5594405594405595.\n",
      "[I 2025-09-17 16:42:18,626] Trial 118 finished with value: 0.5142857142857142 and parameters: {'C': 2.8871798139619087, 'kernel': 'linear', 'gamma': 'auto'}. Best is trial 46 with value: 0.5594405594405595.\n",
      "[I 2025-09-17 16:42:20,116] Trial 119 finished with value: 0.5352112676056338 and parameters: {'C': 4.613499913988949, 'kernel': 'linear', 'gamma': 'auto'}. Best is trial 46 with value: 0.5594405594405595.\n",
      "[I 2025-09-17 16:42:20,284] Trial 120 finished with value: 0.24836601307189543 and parameters: {'C': 6.508470897549262, 'kernel': 'poly', 'gamma': 'auto', 'degree': 4}. Best is trial 46 with value: 0.5594405594405595.\n",
      "[I 2025-09-17 16:42:23,993] Trial 121 finished with value: 0.5540540540540541 and parameters: {'C': 12.561638372191652, 'kernel': 'linear', 'gamma': 'auto'}. Best is trial 46 with value: 0.5594405594405595.\n",
      "[I 2025-09-17 16:42:25,843] Trial 122 finished with value: 0.5342465753424658 and parameters: {'C': 8.816341456452736, 'kernel': 'linear', 'gamma': 'auto'}. Best is trial 46 with value: 0.5594405594405595.\n",
      "[I 2025-09-17 16:42:30,630] Trial 123 finished with value: 0.5211267605633803 and parameters: {'C': 22.64340052624116, 'kernel': 'linear', 'gamma': 'auto'}. Best is trial 46 with value: 0.5594405594405595.\n",
      "[I 2025-09-17 16:42:31,802] Trial 124 finished with value: 0.5454545454545454 and parameters: {'C': 6.005077390760566, 'kernel': 'linear', 'gamma': 'auto'}. Best is trial 46 with value: 0.5594405594405595.\n",
      "[I 2025-09-17 16:42:34,220] Trial 125 finished with value: 0.5503355704697986 and parameters: {'C': 10.463420108201449, 'kernel': 'linear', 'gamma': 'auto'}. Best is trial 46 with value: 0.5594405594405595.\n",
      "[I 2025-09-17 16:42:38,420] Trial 126 finished with value: 0.5578231292517006 and parameters: {'C': 15.441382058900189, 'kernel': 'linear', 'gamma': 'scale'}. Best is trial 46 with value: 0.5594405594405595.\n",
      "[I 2025-09-17 16:42:45,631] Trial 127 finished with value: 0.49645390070921985 and parameters: {'C': 32.78740045414969, 'kernel': 'linear', 'gamma': 'auto'}. Best is trial 46 with value: 0.5594405594405595.\n",
      "[I 2025-09-17 16:42:45,737] Trial 128 finished with value: 0.25925925925925924 and parameters: {'C': 3.88886630768946, 'kernel': 'sigmoid', 'gamma': 'auto'}. Best is trial 46 with value: 0.5594405594405595.\n",
      "[I 2025-09-17 16:42:45,906] Trial 129 finished with value: 0.3448275862068966 and parameters: {'C': 7.291799571739398, 'kernel': 'rbf', 'gamma': 'auto'}. Best is trial 46 with value: 0.5594405594405595.\n",
      "[I 2025-09-17 16:42:49,566] Trial 130 finished with value: 0.5540540540540541 and parameters: {'C': 12.466000009988086, 'kernel': 'linear', 'gamma': 'auto'}. Best is trial 46 with value: 0.5594405594405595.\n",
      "[I 2025-09-17 16:42:56,315] Trial 131 finished with value: 0.54421768707483 and parameters: {'C': 9.38790549564253, 'kernel': 'linear', 'gamma': 'auto'}. Best is trial 46 with value: 0.5594405594405595.\n",
      "[I 2025-09-17 16:42:51,956] Trial 132 finished with value: 0.5314685314685315 and parameters: {'C': 5.186871996842914, 'kernel': 'linear', 'gamma': 'auto'}. Best is trial 46 with value: 0.5594405594405595.\n",
      "[I 2025-09-17 16:42:54,046] Trial 133 finished with value: 0.5637583892617449 and parameters: {'C': 10.149354234509365, 'kernel': 'linear', 'gamma': 'auto'}. Best is trial 133 with value: 0.5637583892617449.\n",
      "[I 2025-09-17 16:42:58,405] Trial 134 finished with value: 0.5211267605633803 and parameters: {'C': 20.648727885471708, 'kernel': 'linear', 'gamma': 'auto'}. Best is trial 133 with value: 0.5637583892617449.\n",
      "[I 2025-09-17 16:43:00,346] Trial 135 finished with value: 0.527027027027027 and parameters: {'C': 7.719731020803863, 'kernel': 'linear', 'gamma': 'auto'}. Best is trial 133 with value: 0.5637583892617449.\n",
      "[I 2025-09-17 16:43:04,425] Trial 136 finished with value: 0.5578231292517006 and parameters: {'C': 14.262257095181372, 'kernel': 'linear', 'gamma': 'auto'}. Best is trial 133 with value: 0.5637583892617449.\n",
      "[I 2025-09-17 16:43:16,522] Trial 137 finished with value: 0.5390070921985816 and parameters: {'C': 27.125710147030954, 'kernel': 'linear', 'gamma': 'auto'}. Best is trial 133 with value: 0.5637583892617449.\n",
      "[I 2025-09-17 16:43:19,195] Trial 138 finished with value: 0.5503355704697986 and parameters: {'C': 10.75906489797714, 'kernel': 'linear', 'gamma': 'scale'}. Best is trial 133 with value: 0.5637583892617449.\n",
      "[I 2025-09-17 16:43:19,878] Trial 139 finished with value: 0.5142857142857142 and parameters: {'C': 3.0086131879388387, 'kernel': 'linear', 'gamma': 'auto'}. Best is trial 133 with value: 0.5637583892617449.\n",
      "[I 2025-09-17 16:43:24,418] Trial 140 finished with value: 0.5277777777777778 and parameters: {'C': 17.854845454272795, 'kernel': 'linear', 'gamma': 'auto'}. Best is trial 133 with value: 0.5637583892617449.\n",
      "[I 2025-09-17 16:43:27,421] Trial 141 finished with value: 0.547945205479452 and parameters: {'C': 10.93608334016541, 'kernel': 'linear', 'gamma': 'auto'}. Best is trial 133 with value: 0.5637583892617449.\n",
      "[I 2025-09-17 16:43:29,378] Trial 142 finished with value: 0.5342465753424658 and parameters: {'C': 8.233568887513261, 'kernel': 'linear', 'gamma': 'auto'}. Best is trial 133 with value: 0.5637583892617449.\n",
      "[I 2025-09-17 16:43:31,435] Trial 143 finished with value: 0.5454545454545454 and parameters: {'C': 6.05053377626865, 'kernel': 'linear', 'gamma': 'auto'}. Best is trial 133 with value: 0.5637583892617449.\n",
      "[I 2025-09-17 16:43:32,703] Trial 144 finished with value: 0.5352112676056338 and parameters: {'C': 4.18476748132226, 'kernel': 'linear', 'gamma': 'auto'}. Best is trial 133 with value: 0.5637583892617449.\n",
      "[I 2025-09-17 16:43:34,817] Trial 145 finished with value: 0.5517241379310345 and parameters: {'C': 9.831199387575506, 'kernel': 'linear', 'gamma': 'auto'}. Best is trial 133 with value: 0.5637583892617449.\n",
      "[I 2025-09-17 16:43:38,326] Trial 146 finished with value: 0.5540540540540541 and parameters: {'C': 13.677514911249492, 'kernel': 'linear', 'gamma': 'auto'}. Best is trial 133 with value: 0.5637583892617449.\n",
      "[I 2025-09-17 16:43:45,109] Trial 147 finished with value: 0.5211267605633803 and parameters: {'C': 20.294459438272344, 'kernel': 'linear', 'gamma': 'auto'}. Best is trial 133 with value: 0.5637583892617449.\n",
      "[I 2025-09-17 16:43:40,872] Trial 148 finished with value: 0.5277777777777778 and parameters: {'C': 17.279986758654225, 'kernel': 'linear', 'gamma': 'auto'}. Best is trial 133 with value: 0.5637583892617449.\n",
      "[I 2025-09-17 16:43:46,274] Trial 149 finished with value: 0.3129251700680272 and parameters: {'C': 7.815637548408441, 'kernel': 'poly', 'gamma': 'scale', 'degree': 3}. Best is trial 133 with value: 0.5637583892617449.\n",
      "[I 2025-09-17 16:43:42,013] Trial 150 finished with value: 0.5352112676056338 and parameters: {'C': 4.903226363596526, 'kernel': 'linear', 'gamma': 'auto'}. Best is trial 133 with value: 0.5637583892617449.\n",
      "[I 2025-09-17 16:43:46,096] Trial 151 finished with value: 0.5540540540540541 and parameters: {'C': 14.040836549883236, 'kernel': 'linear', 'gamma': 'auto'}. Best is trial 133 with value: 0.5637583892617449.\n",
      "[I 2025-09-17 16:43:46,212] Trial 152 finished with value: 0.45255474452554745 and parameters: {'C': 0.16275160491611232, 'kernel': 'linear', 'gamma': 'auto'}. Best is trial 133 with value: 0.5637583892617449.\n",
      "[I 2025-09-17 16:43:49,881] Trial 153 finished with value: 0.5503355704697986 and parameters: {'C': 11.979544351226851, 'kernel': 'linear', 'gamma': 'auto'}. Best is trial 133 with value: 0.5637583892617449.\n",
      "[I 2025-09-17 16:43:53,689] Trial 154 finished with value: 0.5454545454545454 and parameters: {'C': 23.899504055767938, 'kernel': 'linear', 'gamma': 'auto'}. Best is trial 133 with value: 0.5637583892617449.\n",
      "[I 2025-09-17 16:43:55,715] Trial 155 finished with value: 0.54421768707483 and parameters: {'C': 9.652642886247632, 'kernel': 'linear', 'gamma': 'auto'}. Best is trial 133 with value: 0.5637583892617449.\n",
      "[I 2025-09-17 16:44:01,309] Trial 156 finished with value: 0.27586206896551724 and parameters: {'C': 6.424951269695495, 'kernel': 'sigmoid', 'gamma': 'auto'}. Best is trial 133 with value: 0.5637583892617449.\n",
      "[I 2025-09-17 16:43:59,024] Trial 157 finished with value: 0.5578231292517006 and parameters: {'C': 16.011784386000976, 'kernel': 'linear', 'gamma': 'auto'}. Best is trial 133 with value: 0.5637583892617449.\n",
      "[I 2025-09-17 16:43:59,188] Trial 158 finished with value: 0.3 and parameters: {'C': 31.945345353010374, 'kernel': 'rbf', 'gamma': 'auto'}. Best is trial 133 with value: 0.5637583892617449.\n",
      "[I 2025-09-17 16:44:07,722] Trial 159 finished with value: 0.5503355704697986 and parameters: {'C': 12.113432962099564, 'kernel': 'linear', 'gamma': 'auto'}. Best is trial 133 with value: 0.5637583892617449.\n",
      "[I 2025-09-17 16:44:09,577] Trial 160 finished with value: 0.5342465753424658 and parameters: {'C': 8.896582966466104, 'kernel': 'linear', 'gamma': 'auto'}. Best is trial 133 with value: 0.5637583892617449.\n",
      "[I 2025-09-17 16:44:13,413] Trial 161 finished with value: 0.5540540540540541 and parameters: {'C': 13.91008868235586, 'kernel': 'linear', 'gamma': 'auto'}. Best is trial 133 with value: 0.5637583892617449.\n",
      "[I 2025-09-17 16:44:17,932] Trial 162 finished with value: 0.5277777777777778 and parameters: {'C': 17.581970013642582, 'kernel': 'linear', 'gamma': 'auto'}. Best is trial 133 with value: 0.5637583892617449.\n",
      "[I 2025-09-17 16:44:16,373] Trial 163 finished with value: 0.5578231292517006 and parameters: {'C': 15.156881537760924, 'kernel': 'linear', 'gamma': 'auto'}. Best is trial 133 with value: 0.5637583892617449.\n",
      "[I 2025-09-17 16:44:20,942] Trial 164 finished with value: 0.5211267605633803 and parameters: {'C': 21.921000663932922, 'kernel': 'linear', 'gamma': 'auto'}. Best is trial 133 with value: 0.5637583892617449.\n",
      "[I 2025-09-17 16:44:22,372] Trial 165 finished with value: 0.5454545454545454 and parameters: {'C': 6.0403774545152205, 'kernel': 'linear', 'gamma': 'auto'}. Best is trial 133 with value: 0.5637583892617449.\n",
      "[I 2025-09-17 16:44:25,143] Trial 166 finished with value: 0.547945205479452 and parameters: {'C': 10.974892195018372, 'kernel': 'linear', 'gamma': 'scale'}. Best is trial 133 with value: 0.5637583892617449.\n",
      "[I 2025-09-17 16:44:30,822] Trial 167 finished with value: 0.5390070921985816 and parameters: {'C': 26.968122871225546, 'kernel': 'linear', 'gamma': 'auto'}. Best is trial 133 with value: 0.5637583892617449.\n",
      "[I 2025-09-17 16:44:32,767] Trial 168 finished with value: 0.5342465753424658 and parameters: {'C': 8.305506132549295, 'kernel': 'linear', 'gamma': 'auto'}. Best is trial 133 with value: 0.5637583892617449.\n",
      "[I 2025-09-17 16:44:36,937] Trial 169 finished with value: 0.5578231292517006 and parameters: {'C': 15.0212998742932, 'kernel': 'linear', 'gamma': 'auto'}. Best is trial 133 with value: 0.5637583892617449.\n",
      "[I 2025-09-17 16:44:38,803] Trial 170 finished with value: 0.5555555555555556 and parameters: {'C': 6.90330110407741, 'kernel': 'linear', 'gamma': 'auto'}. Best is trial 133 with value: 0.5637583892617449.\n",
      "[I 2025-09-17 16:44:43,718] Trial 171 finished with value: 0.5578231292517006 and parameters: {'C': 15.065463336042653, 'kernel': 'linear', 'gamma': 'scale'}. Best is trial 133 with value: 0.5637583892617449.\n",
      "[I 2025-09-17 16:44:47,976] Trial 172 finished with value: 0.5211267605633803 and parameters: {'C': 19.301382282166767, 'kernel': 'linear', 'gamma': 'scale'}. Best is trial 133 with value: 0.5637583892617449.\n",
      "[I 2025-09-17 16:44:51,415] Trial 173 finished with value: 0.547945205479452 and parameters: {'C': 11.477812684353623, 'kernel': 'linear', 'gamma': 'scale'}. Best is trial 133 with value: 0.5637583892617449.\n",
      "[I 2025-09-17 16:44:53,853] Trial 174 finished with value: 0.5517241379310345 and parameters: {'C': 9.756947411577153, 'kernel': 'linear', 'gamma': 'scale'}. Best is trial 133 with value: 0.5637583892617449.\n",
      "[I 2025-09-17 16:44:57,300] Trial 175 finished with value: 0.56 and parameters: {'C': 14.182406499803006, 'kernel': 'linear', 'gamma': 'scale'}. Best is trial 133 with value: 0.5637583892617449.\n",
      "[I 2025-09-17 16:45:07,596] Trial 176 finished with value: 0.4892086330935252 and parameters: {'C': 38.6536368148099, 'kernel': 'linear', 'gamma': 'scale'}. Best is trial 133 with value: 0.5637583892617449.\n",
      "[I 2025-09-17 16:45:08,839] Trial 177 finished with value: 0.5314685314685315 and parameters: {'C': 5.24058047298439, 'kernel': 'linear', 'gamma': 'auto'}. Best is trial 133 with value: 0.5637583892617449.\n",
      "[I 2025-09-17 16:45:13,889] Trial 178 finished with value: 0.5314685314685315 and parameters: {'C': 23.73292644091647, 'kernel': 'linear', 'gamma': 'auto'}. Best is trial 133 with value: 0.5637583892617449.\n",
      "[I 2025-09-17 16:45:17,059] Trial 179 finished with value: 0.5540540540540541 and parameters: {'C': 12.497704078783299, 'kernel': 'linear', 'gamma': 'auto'}. Best is trial 133 with value: 0.5637583892617449.\n",
      "[I 2025-09-17 16:45:19,181] Trial 180 finished with value: 0.5205479452054794 and parameters: {'C': 7.428845574436149, 'kernel': 'linear', 'gamma': 'auto'}. Best is trial 133 with value: 0.5637583892617449.\n",
      "[I 2025-09-17 16:45:22,554] Trial 181 finished with value: 0.547945205479452 and parameters: {'C': 16.167048779027574, 'kernel': 'linear', 'gamma': 'scale'}. Best is trial 133 with value: 0.5637583892617449.\n",
      "[I 2025-09-17 16:45:27,887] Trial 182 finished with value: 0.5277777777777778 and parameters: {'C': 18.957063980148273, 'kernel': 'linear', 'gamma': 'scale'}. Best is trial 133 with value: 0.5637583892617449.\n",
      "[I 2025-09-17 16:45:29,851] Trial 183 finished with value: 0.54421768707483 and parameters: {'C': 9.450179335323316, 'kernel': 'linear', 'gamma': 'scale'}. Best is trial 133 with value: 0.5637583892617449.\n",
      "[I 2025-09-17 16:45:30,009] Trial 184 finished with value: 0.26229508196721313 and parameters: {'C': 13.54366762697276, 'kernel': 'poly', 'gamma': 'scale', 'degree': 5}. Best is trial 133 with value: 0.5637583892617449.\n",
      "[I 2025-09-17 16:45:32,342] Trial 185 finished with value: 0.5578231292517006 and parameters: {'C': 10.466611378791542, 'kernel': 'linear', 'gamma': 'scale'}. Best is trial 133 with value: 0.5637583892617449.\n",
      "[I 2025-09-17 16:45:39,379] Trial 186 finished with value: 0.5390070921985816 and parameters: {'C': 27.998230385345014, 'kernel': 'linear', 'gamma': 'auto'}. Best is trial 133 with value: 0.5637583892617449.\n",
      "[I 2025-09-17 16:45:44,558] Trial 187 finished with value: 0.5277777777777778 and parameters: {'C': 17.644812644002332, 'kernel': 'linear', 'gamma': 'scale'}. Best is trial 133 with value: 0.5637583892617449.\n",
      "[I 2025-09-17 16:45:44,659] Trial 188 finished with value: 0.23008849557522124 and parameters: {'C': 3.9197196202862625, 'kernel': 'sigmoid', 'gamma': 'auto'}. Best is trial 133 with value: 0.5637583892617449.\n",
      "[I 2025-09-17 16:45:51,997] Trial 189 finished with value: 0.5306122448979592 and parameters: {'C': 7.379061049194499, 'kernel': 'linear', 'gamma': 'auto'}. Best is trial 133 with value: 0.5637583892617449.\n",
      "[I 2025-09-17 16:45:55,889] Trial 190 finished with value: 0.5540540540540541 and parameters: {'C': 13.923028605577642, 'kernel': 'linear', 'gamma': 'auto'}. Best is trial 133 with value: 0.5637583892617449.\n",
      "[I 2025-09-17 16:45:59,451] Trial 191 finished with value: 0.5578231292517006 and parameters: {'C': 14.569645155753276, 'kernel': 'linear', 'gamma': 'auto'}. Best is trial 133 with value: 0.5637583892617449.\n",
      "[I 2025-09-17 16:46:04,223] Trial 192 finished with value: 0.5211267605633803 and parameters: {'C': 21.14120107804772, 'kernel': 'linear', 'gamma': 'auto'}. Best is trial 133 with value: 0.5637583892617449.\n",
      "[I 2025-09-17 16:46:01,869] Trial 193 finished with value: 0.5540540540540541 and parameters: {'C': 11.686197955338995, 'kernel': 'linear', 'gamma': 'auto'}. Best is trial 133 with value: 0.5637583892617449.\n",
      "[I 2025-09-17 16:46:02,052] Trial 194 finished with value: 0.3372093023255814 and parameters: {'C': 9.025481967379172, 'kernel': 'rbf', 'gamma': 'auto'}. Best is trial 133 with value: 0.5637583892617449.\n",
      "[I 2025-09-17 16:46:06,240] Trial 195 finished with value: 0.5578231292517006 and parameters: {'C': 15.201802780710128, 'kernel': 'linear', 'gamma': 'auto'}. Best is trial 133 with value: 0.5637583892617449.\n",
      "[I 2025-09-17 16:46:07,793] Trial 196 finished with value: 0.5314685314685315 and parameters: {'C': 5.206320291462067, 'kernel': 'linear', 'gamma': 'auto'}. Best is trial 133 with value: 0.5637583892617449.\n",
      "[I 2025-09-17 16:46:11,414] Trial 197 finished with value: 0.5540540540540541 and parameters: {'C': 11.817318730781524, 'kernel': 'linear', 'gamma': 'auto'}. Best is trial 133 with value: 0.5637583892617449.\n",
      "[I 2025-09-17 16:46:16,436] Trial 198 finished with value: 0.5211267605633803 and parameters: {'C': 22.35876710746196, 'kernel': 'linear', 'gamma': 'auto'}. Best is trial 133 with value: 0.5637583892617449.\n",
      "[I 2025-09-17 16:46:18,283] Trial 199 finished with value: 0.5594405594405595 and parameters: {'C': 6.737412108223611, 'kernel': 'linear', 'gamma': 'auto'}. Best is trial 133 with value: 0.5637583892617449.\n",
      "[I 2025-09-17 16:46:20,052] Trial 200 finished with value: 0.5594405594405595 and parameters: {'C': 6.5575393484911935, 'kernel': 'linear', 'gamma': 'scale'}. Best is trial 133 with value: 0.5637583892617449.\n",
      "[I 2025-09-17 16:46:26,616] Trial 201 finished with value: 0.5594405594405595 and parameters: {'C': 6.394002775342086, 'kernel': 'linear', 'gamma': 'scale'}. Best is trial 133 with value: 0.5637583892617449.\n",
      "[I 2025-09-17 16:46:22,781] Trial 202 finished with value: 0.5454545454545454 and parameters: {'C': 5.983437896926688, 'kernel': 'linear', 'gamma': 'scale'}. Best is trial 133 with value: 0.5637583892617449.\n",
      "[I 2025-09-17 16:46:24,951] Trial 203 finished with value: 0.5555555555555556 and parameters: {'C': 6.865673143616592, 'kernel': 'linear', 'gamma': 'scale'}. Best is trial 133 with value: 0.5637583892617449.\n",
      "[I 2025-09-17 16:46:26,207] Trial 204 finished with value: 0.5352112676056338 and parameters: {'C': 4.635060636101943, 'kernel': 'linear', 'gamma': 'scale'}. Best is trial 133 with value: 0.5637583892617449.\n",
      "[I 2025-09-17 16:46:27,705] Trial 205 finished with value: 0.527027027027027 and parameters: {'C': 7.6816450763131074, 'kernel': 'linear', 'gamma': 'scale'}. Best is trial 133 with value: 0.5637583892617449.\n",
      "[I 2025-09-17 16:46:28,951] Trial 206 finished with value: 0.5454545454545454 and parameters: {'C': 3.714734549725176, 'kernel': 'linear', 'gamma': 'auto'}. Best is trial 133 with value: 0.5637583892617449.\n",
      "[I 2025-09-17 16:46:29,046] Trial 207 finished with value: 0.4732824427480916 and parameters: {'C': 0.04044014183563268, 'kernel': 'linear', 'gamma': 'scale'}. Best is trial 133 with value: 0.5637583892617449.\n",
      "[I 2025-09-17 16:46:30,805] Trial 208 finished with value: 0.5314685314685315 and parameters: {'C': 5.795991534475174, 'kernel': 'linear', 'gamma': 'auto'}. Best is trial 133 with value: 0.5637583892617449.\n",
      "[I 2025-09-17 16:46:32,114] Trial 209 finished with value: 0.54421768707483 and parameters: {'C': 9.28014702090456, 'kernel': 'linear', 'gamma': 'auto'}. Best is trial 133 with value: 0.5637583892617449.\n",
      "[I 2025-09-17 16:46:32,260] Trial 210 finished with value: 0.48175182481751827 and parameters: {'C': 0.27861630638404405, 'kernel': 'linear', 'gamma': 'auto'}. Best is trial 133 with value: 0.5637583892617449.\n",
      "[I 2025-09-17 16:46:34,125] Trial 211 finished with value: 0.5342465753424658 and parameters: {'C': 8.390255583557217, 'kernel': 'linear', 'gamma': 'scale'}. Best is trial 133 with value: 0.5637583892617449.\n",
      "[I 2025-09-17 16:46:41,616] Trial 212 finished with value: 0.5405405405405406 and parameters: {'C': 10.691610075878598, 'kernel': 'linear', 'gamma': 'scale'}. Best is trial 133 with value: 0.5637583892617449.\n",
      "[I 2025-09-17 16:46:37,655] Trial 213 finished with value: 0.5594405594405595 and parameters: {'C': 6.497446500206551, 'kernel': 'linear', 'gamma': 'scale'}. Best is trial 133 with value: 0.5637583892617449.\n",
      "[I 2025-09-17 16:46:38,830] Trial 214 finished with value: 0.5314685314685315 and parameters: {'C': 5.06443303355885, 'kernel': 'linear', 'gamma': 'scale'}. Best is trial 133 with value: 0.5637583892617449.\n",
      "[I 2025-09-17 16:46:40,562] Trial 215 finished with value: 0.5594405594405595 and parameters: {'C': 6.492736539217896, 'kernel': 'linear', 'gamma': 'scale'}. Best is trial 133 with value: 0.5637583892617449.\n",
      "[I 2025-09-17 16:46:41,666] Trial 216 finished with value: 0.5594405594405595 and parameters: {'C': 6.6001086020926385, 'kernel': 'linear', 'gamma': 'scale'}. Best is trial 133 with value: 0.5637583892617449.\n",
      "[I 2025-09-17 16:46:43,400] Trial 217 finished with value: 0.5454545454545454 and parameters: {'C': 6.168457117042225, 'kernel': 'linear', 'gamma': 'scale'}. Best is trial 133 with value: 0.5637583892617449.\n",
      "[I 2025-09-17 16:46:44,394] Trial 218 finished with value: 0.524822695035461 and parameters: {'C': 3.32487113205645, 'kernel': 'linear', 'gamma': 'scale'}. Best is trial 133 with value: 0.5637583892617449.\n",
      "[I 2025-09-17 16:46:45,983] Trial 219 finished with value: 0.5594405594405595 and parameters: {'C': 6.478534970875762, 'kernel': 'linear', 'gamma': 'scale'}. Best is trial 133 with value: 0.5637583892617449.\n",
      "[I 2025-09-17 16:46:46,104] Trial 220 finished with value: 0.3357664233576642 and parameters: {'C': 4.179173463516265, 'kernel': 'poly', 'gamma': 'scale', 'degree': 3}. Best is trial 133 with value: 0.5637583892617449.\n",
      "[I 2025-09-17 16:46:47,163] Trial 221 finished with value: 0.5594405594405595 and parameters: {'C': 6.575305695120671, 'kernel': 'linear', 'gamma': 'scale'}. Best is trial 133 with value: 0.5637583892617449.\n",
      "[I 2025-09-17 16:46:48,265] Trial 222 finished with value: 0.5314685314685315 and parameters: {'C': 4.963803215598234, 'kernel': 'linear', 'gamma': 'scale'}. Best is trial 133 with value: 0.5637583892617449.\n",
      "[I 2025-09-17 16:46:50,147] Trial 223 finished with value: 0.5594405594405595 and parameters: {'C': 6.787055514084116, 'kernel': 'linear', 'gamma': 'scale'}. Best is trial 133 with value: 0.5637583892617449.\n",
      "[I 2025-09-17 16:46:51,152] Trial 224 finished with value: 0.5454545454545454 and parameters: {'C': 6.2515336756729525, 'kernel': 'linear', 'gamma': 'scale'}. Best is trial 133 with value: 0.5637583892617449.\n",
      "[I 2025-09-17 16:46:53,692] Trial 225 finished with value: 0.5205479452054794 and parameters: {'C': 7.53236998842824, 'kernel': 'linear', 'gamma': 'scale'}. Best is trial 133 with value: 0.5637583892617449.\n",
      "[I 2025-09-17 16:46:55,011] Trial 226 finished with value: 0.5352112676056338 and parameters: {'C': 4.252204395593795, 'kernel': 'linear', 'gamma': 'scale'}. Best is trial 133 with value: 0.5637583892617449.\n",
      "[I 2025-09-17 16:47:01,633] Trial 227 finished with value: 0.5454545454545454 and parameters: {'C': 6.132804694999763, 'kernel': 'linear', 'gamma': 'scale'}. Best is trial 133 with value: 0.5637583892617449.\n",
      "[I 2025-09-17 16:46:58,042] Trial 228 finished with value: 0.5306122448979592 and parameters: {'C': 7.1464474592959, 'kernel': 'linear', 'gamma': 'scale'}. Best is trial 133 with value: 0.5637583892617449.\n",
      "[I 2025-09-17 16:46:58,784] Trial 229 finished with value: 0.5035971223021583 and parameters: {'C': 2.5074309334095646, 'kernel': 'linear', 'gamma': 'scale'}. Best is trial 133 with value: 0.5637583892617449.\n",
      "[I 2025-09-17 16:46:58,878] Trial 230 finished with value: 0.2711864406779661 and parameters: {'C': 4.729449439356149, 'kernel': 'sigmoid', 'gamma': 'scale'}. Best is trial 133 with value: 0.5637583892617449.\n",
      "[I 2025-09-17 16:47:00,557] Trial 231 finished with value: 0.527027027027027 and parameters: {'C': 8.061850890382974, 'kernel': 'linear', 'gamma': 'scale'}. Best is trial 133 with value: 0.5637583892617449.\n",
      "[I 2025-09-17 16:47:01,748] Trial 232 finished with value: 0.5314685314685315 and parameters: {'C': 5.591734235769446, 'kernel': 'linear', 'gamma': 'scale'}. Best is trial 133 with value: 0.5637583892617449.\n",
      "[I 2025-09-17 16:47:03,700] Trial 233 finished with value: 0.5555555555555556 and parameters: {'C': 6.855736091829021, 'kernel': 'linear', 'gamma': 'scale'}. Best is trial 133 with value: 0.5637583892617449.\n",
      "[I 2025-09-17 16:47:05,707] Trial 234 finished with value: 0.5342465753424658 and parameters: {'C': 8.856646414550864, 'kernel': 'linear', 'gamma': 'scale'}. Best is trial 133 with value: 0.5637583892617449.\n",
      "[I 2025-09-17 16:47:06,516] Trial 235 finished with value: 0.5314685314685315 and parameters: {'C': 5.295226786341329, 'kernel': 'linear', 'gamma': 'scale'}. Best is trial 133 with value: 0.5637583892617449.\n",
      "[I 2025-09-17 16:47:07,579] Trial 236 finished with value: 0.5454545454545454 and parameters: {'C': 3.7026742676958637, 'kernel': 'linear', 'gamma': 'scale'}. Best is trial 133 with value: 0.5637583892617449.\n",
      "[I 2025-09-17 16:47:07,744] Trial 237 finished with value: 0.34523809523809523 and parameters: {'C': 6.876830972585035, 'kernel': 'rbf', 'gamma': 'scale'}. Best is trial 133 with value: 0.5637583892617449.\n",
      "[I 2025-09-17 16:47:09,681] Trial 238 finished with value: 0.54421768707483 and parameters: {'C': 9.623563067005882, 'kernel': 'linear', 'gamma': 'scale'}. Best is trial 133 with value: 0.5637583892617449.\n",
      "[I 2025-09-17 16:47:16,809] Trial 239 finished with value: 0.527027027027027 and parameters: {'C': 7.715395843350513, 'kernel': 'linear', 'gamma': 'scale'}. Best is trial 133 with value: 0.5637583892617449.\n",
      "[I 2025-09-17 16:47:17,837] Trial 240 finished with value: 0.5314685314685315 and parameters: {'C': 5.202179364666129, 'kernel': 'linear', 'gamma': 'scale'}. Best is trial 133 with value: 0.5637583892617449.\n",
      "[I 2025-09-17 16:47:20,523] Trial 241 finished with value: 0.5637583892617449 and parameters: {'C': 10.279710427374921, 'kernel': 'linear', 'gamma': 'scale'}. Best is trial 133 with value: 0.5637583892617449.\n",
      "[I 2025-09-17 16:47:23,521] Trial 242 finished with value: 0.547945205479452 and parameters: {'C': 11.105824440639465, 'kernel': 'linear', 'gamma': 'scale'}. Best is trial 133 with value: 0.5637583892617449.\n",
      "[I 2025-09-17 16:47:25,026] Trial 243 finished with value: 0.5342465753424658 and parameters: {'C': 8.925109269011815, 'kernel': 'linear', 'gamma': 'scale'}. Best is trial 133 with value: 0.5637583892617449.\n",
      "[I 2025-09-17 16:47:26,775] Trial 244 finished with value: 0.5594405594405595 and parameters: {'C': 6.556027850420126, 'kernel': 'linear', 'gamma': 'scale'}. Best is trial 133 with value: 0.5637583892617449.\n",
      "[I 2025-09-17 16:47:28,604] Trial 245 finished with value: 0.5314685314685315 and parameters: {'C': 5.777589477020034, 'kernel': 'linear', 'gamma': 'scale'}. Best is trial 133 with value: 0.5637583892617449.\n",
      "[I 2025-09-17 16:47:30,866] Trial 246 finished with value: 0.5555555555555556 and parameters: {'C': 6.834778932909302, 'kernel': 'linear', 'gamma': 'scale'}. Best is trial 133 with value: 0.5637583892617449.\n",
      "[I 2025-09-17 16:47:26,020] Trial 247 finished with value: 0.5306122448979592 and parameters: {'C': 7.4860991341700265, 'kernel': 'linear', 'gamma': 'scale'}. Best is trial 133 with value: 0.5637583892617449.\n",
      "[I 2025-09-17 16:47:32,675] Trial 248 finished with value: 0.5352112676056338 and parameters: {'C': 4.926476918591728, 'kernel': 'linear', 'gamma': 'scale'}. Best is trial 133 with value: 0.5637583892617449.\n",
      "[I 2025-09-17 16:47:33,834] Trial 249 finished with value: 0.5352112676056338 and parameters: {'C': 4.19040718924105, 'kernel': 'linear', 'gamma': 'scale'}. Best is trial 133 with value: 0.5637583892617449.\n"
     ]
    },
    {
     "name": "stdout",
     "output_type": "stream",
     "text": [
      "Optuna duró 727.58s en 250 trials\n"
     ]
    }
   ],
   "source": [
    "# Crear estudio y medir tiempo de Optuna\n",
    "t0 = time.perf_counter()\n",
    "\n",
    "set_seeds(SEED)\n",
    "study = optuna.create_study(\n",
    "    direction=\"maximize\",\n",
    "    sampler=optuna.samplers.TPESampler(seed=SEED)\n",
    ")\n",
    "study.optimize(objective, n_trials=250)\n",
    "\n",
    "opt_duration_sec = time.perf_counter() - t0\n",
    "n_trials_run = len(study.trials)\n",
    "print(f\"Optuna duró {opt_duration_sec:.2f}s en {n_trials_run} trials\")"
   ]
  },
  {
   "cell_type": "code",
   "execution_count": 17,
   "id": "ce6d810f",
   "metadata": {},
   "outputs": [
    {
     "data": {
      "application/vnd.plotly.v1+json": {
       "config": {
        "plotlyServerURL": "https://plot.ly"
       },
       "data": [
        {
         "mode": "markers",
         "name": "Objective Value",
         "type": "scatter",
         "x": [
          0,
          1,
          2,
          3,
          4,
          5,
          6,
          7,
          8,
          9,
          10,
          11,
          12,
          13,
          14,
          15,
          16,
          17,
          18,
          19,
          20,
          21,
          22,
          23,
          24,
          25,
          26,
          27,
          28,
          29,
          30,
          31,
          32,
          33,
          34,
          35,
          36,
          37,
          38,
          39,
          40,
          41,
          42,
          43,
          44,
          45,
          46,
          47,
          48,
          49,
          50,
          51,
          52,
          53,
          54,
          55,
          56,
          57,
          58,
          59,
          60,
          61,
          62,
          63,
          64,
          65,
          66,
          67,
          68,
          69,
          70,
          71,
          72,
          73,
          74,
          75,
          76,
          77,
          78,
          79,
          80,
          81,
          82,
          83,
          84,
          85,
          86,
          87,
          88,
          89,
          90,
          91,
          92,
          93,
          94,
          95,
          96,
          97,
          98,
          99,
          100,
          101,
          102,
          103,
          104,
          105,
          106,
          107,
          108,
          109,
          110,
          111,
          112,
          113,
          114,
          115,
          116,
          117,
          118,
          119,
          120,
          121,
          122,
          123,
          124,
          125,
          126,
          127,
          128,
          129,
          130,
          131,
          132,
          133,
          134,
          135,
          136,
          137,
          138,
          139,
          140,
          141,
          142,
          143,
          144,
          145,
          146,
          147,
          148,
          149,
          150,
          151,
          152,
          153,
          154,
          155,
          156,
          157,
          158,
          159,
          160,
          161,
          162,
          163,
          164,
          165,
          166,
          167,
          168,
          169,
          170,
          171,
          172,
          173,
          174,
          175,
          176,
          177,
          178,
          179,
          180,
          181,
          182,
          183,
          184,
          185,
          186,
          187,
          188,
          189,
          190,
          191,
          192,
          193,
          194,
          195,
          196,
          197,
          198,
          199,
          200,
          201,
          202,
          203,
          204,
          205,
          206,
          207,
          208,
          209,
          210,
          211,
          212,
          213,
          214,
          215,
          216,
          217,
          218,
          219,
          220,
          221,
          222,
          223,
          224,
          225,
          226,
          227,
          228,
          229,
          230,
          231,
          232,
          233,
          234,
          235,
          236,
          237,
          238,
          239,
          240,
          241,
          242,
          243,
          244,
          245,
          246,
          247,
          248,
          249
         ],
         "y": [
          0.05,
          0.3,
          0.3364485981308411,
          0.3684210526315789,
          0.40298507462686567,
          0,
          0.35714285714285715,
          0,
          0.3,
          0.16981132075471697,
          0.527027027027027,
          0.5314685314685315,
          0.54421768707483,
          0.547945205479452,
          0.5277777777777778,
          0.45255474452554745,
          0.5109489051094891,
          0.5211267605633803,
          0.5454545454545454,
          0.18487394957983194,
          0.25,
          0.5555555555555556,
          0.5277777777777778,
          0.5314685314685315,
          0.4647887323943662,
          0.5037037037037037,
          0.45255474452554745,
          0.5540540540540541,
          0.313953488372093,
          0.2857142857142857,
          0.1896551724137931,
          0.49295774647887325,
          0.5034965034965035,
          0.5578231292517006,
          0.5503355704697986,
          0.4852941176470588,
          0.5531914893617021,
          0.18518518518518517,
          0.3841059602649007,
          0.47058823529411764,
          0,
          0.5540540540540541,
          0.4892086330935252,
          0.5454545454545454,
          0.5179856115107914,
          0.49295774647887325,
          0.5594405594405595,
          0.32727272727272727,
          0.16161616161616163,
          0.3129251700680272,
          0.5578231292517006,
          0.5540540540540541,
          0.5555555555555556,
          0.5285714285714286,
          0.4755244755244755,
          0.5342465753424658,
          0.5277777777777778,
          0.29411764705882354,
          0.5594405594405595,
          0.5594405594405595,
          0.389937106918239,
          0.5594405594405595,
          0.5594405594405595,
          0.44776119402985076,
          0.5314685314685315,
          0.527027027027027,
          0.27586206896551724,
          0.5109489051094891,
          0.2857142857142857,
          0.5454545454545454,
          0.5277777777777778,
          0.54421768707483,
          0.5306122448979592,
          0.524822695035461,
          0.5314685314685315,
          0.547945205479452,
          0.4647887323943662,
          0.5454545454545454,
          0.2967741935483871,
          0.5037037037037037,
          0.23214285714285715,
          0.5390070921985816,
          0.5211267605633803,
          0.5540540540540541,
          0.5578231292517006,
          0.5578231292517006,
          0.5578231292517006,
          0.3,
          0.5517241379310345,
          0.5109489051094891,
          0.48226950354609927,
          0.5578231292517006,
          0.5578231292517006,
          0.5306122448979592,
          0.5211267605633803,
          0.44776119402985076,
          0.5578231292517006,
          0.49295774647887325,
          0.5531914893617021,
          0.3103448275862069,
          0.5174825174825175,
          0.5578231292517006,
          0.5517241379310345,
          0.5352112676056338,
          0.54421768707483,
          0.19834710743801653,
          0.5405405405405406,
          0,
          0.5314685314685315,
          0.547945205479452,
          0.5352112676056338,
          0.5578231292517006,
          0.5342465753424658,
          0.5416666666666666,
          0.5035971223021583,
          0.5277777777777778,
          0.4861111111111111,
          0.5594405594405595,
          0.5142857142857142,
          0.5352112676056338,
          0.24836601307189543,
          0.5540540540540541,
          0.5342465753424658,
          0.5211267605633803,
          0.5454545454545454,
          0.5503355704697986,
          0.5578231292517006,
          0.49645390070921985,
          0.25925925925925924,
          0.3448275862068966,
          0.5540540540540541,
          0.54421768707483,
          0.5314685314685315,
          0.5637583892617449,
          0.5211267605633803,
          0.527027027027027,
          0.5578231292517006,
          0.5390070921985816,
          0.5503355704697986,
          0.5142857142857142,
          0.5277777777777778,
          0.547945205479452,
          0.5342465753424658,
          0.5454545454545454,
          0.5352112676056338,
          0.5517241379310345,
          0.5540540540540541,
          0.5211267605633803,
          0.5277777777777778,
          0.3129251700680272,
          0.5352112676056338,
          0.5540540540540541,
          0.45255474452554745,
          0.5503355704697986,
          0.5454545454545454,
          0.54421768707483,
          0.27586206896551724,
          0.5578231292517006,
          0.3,
          0.5503355704697986,
          0.5342465753424658,
          0.5540540540540541,
          0.5277777777777778,
          0.5578231292517006,
          0.5211267605633803,
          0.5454545454545454,
          0.547945205479452,
          0.5390070921985816,
          0.5342465753424658,
          0.5578231292517006,
          0.5555555555555556,
          0.5578231292517006,
          0.5211267605633803,
          0.547945205479452,
          0.5517241379310345,
          0.56,
          0.4892086330935252,
          0.5314685314685315,
          0.5314685314685315,
          0.5540540540540541,
          0.5205479452054794,
          0.547945205479452,
          0.5277777777777778,
          0.54421768707483,
          0.26229508196721313,
          0.5578231292517006,
          0.5390070921985816,
          0.5277777777777778,
          0.23008849557522124,
          0.5306122448979592,
          0.5540540540540541,
          0.5578231292517006,
          0.5211267605633803,
          0.5540540540540541,
          0.3372093023255814,
          0.5578231292517006,
          0.5314685314685315,
          0.5540540540540541,
          0.5211267605633803,
          0.5594405594405595,
          0.5594405594405595,
          0.5594405594405595,
          0.5454545454545454,
          0.5555555555555556,
          0.5352112676056338,
          0.527027027027027,
          0.5454545454545454,
          0.4732824427480916,
          0.5314685314685315,
          0.54421768707483,
          0.48175182481751827,
          0.5342465753424658,
          0.5405405405405406,
          0.5594405594405595,
          0.5314685314685315,
          0.5594405594405595,
          0.5594405594405595,
          0.5454545454545454,
          0.524822695035461,
          0.5594405594405595,
          0.3357664233576642,
          0.5594405594405595,
          0.5314685314685315,
          0.5594405594405595,
          0.5454545454545454,
          0.5205479452054794,
          0.5352112676056338,
          0.5454545454545454,
          0.5306122448979592,
          0.5035971223021583,
          0.2711864406779661,
          0.527027027027027,
          0.5314685314685315,
          0.5555555555555556,
          0.5342465753424658,
          0.5314685314685315,
          0.5454545454545454,
          0.34523809523809523,
          0.54421768707483,
          0.527027027027027,
          0.5314685314685315,
          0.5637583892617449,
          0.547945205479452,
          0.5342465753424658,
          0.5594405594405595,
          0.5314685314685315,
          0.5555555555555556,
          0.5306122448979592,
          0.5352112676056338,
          0.5352112676056338
         ]
        },
        {
         "mode": "lines",
         "name": "Best Value",
         "type": "scatter",
         "x": [
          0,
          1,
          2,
          3,
          4,
          5,
          6,
          7,
          8,
          9,
          10,
          11,
          12,
          13,
          14,
          15,
          16,
          17,
          18,
          19,
          20,
          21,
          22,
          23,
          24,
          25,
          26,
          27,
          28,
          29,
          30,
          31,
          32,
          33,
          34,
          35,
          36,
          37,
          38,
          39,
          40,
          41,
          42,
          43,
          44,
          45,
          46,
          47,
          48,
          49,
          50,
          51,
          52,
          53,
          54,
          55,
          56,
          57,
          58,
          59,
          60,
          61,
          62,
          63,
          64,
          65,
          66,
          67,
          68,
          69,
          70,
          71,
          72,
          73,
          74,
          75,
          76,
          77,
          78,
          79,
          80,
          81,
          82,
          83,
          84,
          85,
          86,
          87,
          88,
          89,
          90,
          91,
          92,
          93,
          94,
          95,
          96,
          97,
          98,
          99,
          100,
          101,
          102,
          103,
          104,
          105,
          106,
          107,
          108,
          109,
          110,
          111,
          112,
          113,
          114,
          115,
          116,
          117,
          118,
          119,
          120,
          121,
          122,
          123,
          124,
          125,
          126,
          127,
          128,
          129,
          130,
          131,
          132,
          133,
          134,
          135,
          136,
          137,
          138,
          139,
          140,
          141,
          142,
          143,
          144,
          145,
          146,
          147,
          148,
          149,
          150,
          151,
          152,
          153,
          154,
          155,
          156,
          157,
          158,
          159,
          160,
          161,
          162,
          163,
          164,
          165,
          166,
          167,
          168,
          169,
          170,
          171,
          172,
          173,
          174,
          175,
          176,
          177,
          178,
          179,
          180,
          181,
          182,
          183,
          184,
          185,
          186,
          187,
          188,
          189,
          190,
          191,
          192,
          193,
          194,
          195,
          196,
          197,
          198,
          199,
          200,
          201,
          202,
          203,
          204,
          205,
          206,
          207,
          208,
          209,
          210,
          211,
          212,
          213,
          214,
          215,
          216,
          217,
          218,
          219,
          220,
          221,
          222,
          223,
          224,
          225,
          226,
          227,
          228,
          229,
          230,
          231,
          232,
          233,
          234,
          235,
          236,
          237,
          238,
          239,
          240,
          241,
          242,
          243,
          244,
          245,
          246,
          247,
          248,
          249
         ],
         "y": [
          0.05,
          0.3,
          0.3364485981308411,
          0.3684210526315789,
          0.40298507462686567,
          0.40298507462686567,
          0.40298507462686567,
          0.40298507462686567,
          0.40298507462686567,
          0.40298507462686567,
          0.527027027027027,
          0.5314685314685315,
          0.54421768707483,
          0.547945205479452,
          0.547945205479452,
          0.547945205479452,
          0.547945205479452,
          0.547945205479452,
          0.547945205479452,
          0.547945205479452,
          0.547945205479452,
          0.5555555555555556,
          0.5555555555555556,
          0.5555555555555556,
          0.5555555555555556,
          0.5555555555555556,
          0.5555555555555556,
          0.5555555555555556,
          0.5555555555555556,
          0.5555555555555556,
          0.5555555555555556,
          0.5555555555555556,
          0.5555555555555556,
          0.5578231292517006,
          0.5578231292517006,
          0.5578231292517006,
          0.5578231292517006,
          0.5578231292517006,
          0.5578231292517006,
          0.5578231292517006,
          0.5578231292517006,
          0.5578231292517006,
          0.5578231292517006,
          0.5578231292517006,
          0.5578231292517006,
          0.5578231292517006,
          0.5594405594405595,
          0.5594405594405595,
          0.5594405594405595,
          0.5594405594405595,
          0.5594405594405595,
          0.5594405594405595,
          0.5594405594405595,
          0.5594405594405595,
          0.5594405594405595,
          0.5594405594405595,
          0.5594405594405595,
          0.5594405594405595,
          0.5594405594405595,
          0.5594405594405595,
          0.5594405594405595,
          0.5594405594405595,
          0.5594405594405595,
          0.5594405594405595,
          0.5594405594405595,
          0.5594405594405595,
          0.5594405594405595,
          0.5594405594405595,
          0.5594405594405595,
          0.5594405594405595,
          0.5594405594405595,
          0.5594405594405595,
          0.5594405594405595,
          0.5594405594405595,
          0.5594405594405595,
          0.5594405594405595,
          0.5594405594405595,
          0.5594405594405595,
          0.5594405594405595,
          0.5594405594405595,
          0.5594405594405595,
          0.5594405594405595,
          0.5594405594405595,
          0.5594405594405595,
          0.5594405594405595,
          0.5594405594405595,
          0.5594405594405595,
          0.5594405594405595,
          0.5594405594405595,
          0.5594405594405595,
          0.5594405594405595,
          0.5594405594405595,
          0.5594405594405595,
          0.5594405594405595,
          0.5594405594405595,
          0.5594405594405595,
          0.5594405594405595,
          0.5594405594405595,
          0.5594405594405595,
          0.5594405594405595,
          0.5594405594405595,
          0.5594405594405595,
          0.5594405594405595,
          0.5594405594405595,
          0.5594405594405595,
          0.5594405594405595,
          0.5594405594405595,
          0.5594405594405595,
          0.5594405594405595,
          0.5594405594405595,
          0.5594405594405595,
          0.5594405594405595,
          0.5594405594405595,
          0.5594405594405595,
          0.5594405594405595,
          0.5594405594405595,
          0.5594405594405595,
          0.5594405594405595,
          0.5594405594405595,
          0.5594405594405595,
          0.5594405594405595,
          0.5594405594405595,
          0.5594405594405595,
          0.5594405594405595,
          0.5594405594405595,
          0.5594405594405595,
          0.5594405594405595,
          0.5594405594405595,
          0.5594405594405595,
          0.5594405594405595,
          0.5594405594405595,
          0.5594405594405595,
          0.5594405594405595,
          0.5637583892617449,
          0.5637583892617449,
          0.5637583892617449,
          0.5637583892617449,
          0.5637583892617449,
          0.5637583892617449,
          0.5637583892617449,
          0.5637583892617449,
          0.5637583892617449,
          0.5637583892617449,
          0.5637583892617449,
          0.5637583892617449,
          0.5637583892617449,
          0.5637583892617449,
          0.5637583892617449,
          0.5637583892617449,
          0.5637583892617449,
          0.5637583892617449,
          0.5637583892617449,
          0.5637583892617449,
          0.5637583892617449,
          0.5637583892617449,
          0.5637583892617449,
          0.5637583892617449,
          0.5637583892617449,
          0.5637583892617449,
          0.5637583892617449,
          0.5637583892617449,
          0.5637583892617449,
          0.5637583892617449,
          0.5637583892617449,
          0.5637583892617449,
          0.5637583892617449,
          0.5637583892617449,
          0.5637583892617449,
          0.5637583892617449,
          0.5637583892617449,
          0.5637583892617449,
          0.5637583892617449,
          0.5637583892617449,
          0.5637583892617449,
          0.5637583892617449,
          0.5637583892617449,
          0.5637583892617449,
          0.5637583892617449,
          0.5637583892617449,
          0.5637583892617449,
          0.5637583892617449,
          0.5637583892617449,
          0.5637583892617449,
          0.5637583892617449,
          0.5637583892617449,
          0.5637583892617449,
          0.5637583892617449,
          0.5637583892617449,
          0.5637583892617449,
          0.5637583892617449,
          0.5637583892617449,
          0.5637583892617449,
          0.5637583892617449,
          0.5637583892617449,
          0.5637583892617449,
          0.5637583892617449,
          0.5637583892617449,
          0.5637583892617449,
          0.5637583892617449,
          0.5637583892617449,
          0.5637583892617449,
          0.5637583892617449,
          0.5637583892617449,
          0.5637583892617449,
          0.5637583892617449,
          0.5637583892617449,
          0.5637583892617449,
          0.5637583892617449,
          0.5637583892617449,
          0.5637583892617449,
          0.5637583892617449,
          0.5637583892617449,
          0.5637583892617449,
          0.5637583892617449,
          0.5637583892617449,
          0.5637583892617449,
          0.5637583892617449,
          0.5637583892617449,
          0.5637583892617449,
          0.5637583892617449,
          0.5637583892617449,
          0.5637583892617449,
          0.5637583892617449,
          0.5637583892617449,
          0.5637583892617449,
          0.5637583892617449,
          0.5637583892617449,
          0.5637583892617449,
          0.5637583892617449,
          0.5637583892617449,
          0.5637583892617449,
          0.5637583892617449,
          0.5637583892617449,
          0.5637583892617449,
          0.5637583892617449,
          0.5637583892617449,
          0.5637583892617449,
          0.5637583892617449,
          0.5637583892617449,
          0.5637583892617449,
          0.5637583892617449,
          0.5637583892617449,
          0.5637583892617449,
          0.5637583892617449,
          0.5637583892617449,
          0.5637583892617449,
          0.5637583892617449,
          0.5637583892617449,
          0.5637583892617449,
          0.5637583892617449
         ]
        },
        {
         "marker": {
          "color": "#cccccc"
         },
         "mode": "markers",
         "name": "Infeasible Trial",
         "showlegend": false,
         "type": "scatter",
         "x": [],
         "y": []
        }
       ],
       "layout": {
        "template": {
         "data": {
          "bar": [
           {
            "error_x": {
             "color": "#2a3f5f"
            },
            "error_y": {
             "color": "#2a3f5f"
            },
            "marker": {
             "line": {
              "color": "#E5ECF6",
              "width": 0.5
             },
             "pattern": {
              "fillmode": "overlay",
              "size": 10,
              "solidity": 0.2
             }
            },
            "type": "bar"
           }
          ],
          "barpolar": [
           {
            "marker": {
             "line": {
              "color": "#E5ECF6",
              "width": 0.5
             },
             "pattern": {
              "fillmode": "overlay",
              "size": 10,
              "solidity": 0.2
             }
            },
            "type": "barpolar"
           }
          ],
          "carpet": [
           {
            "aaxis": {
             "endlinecolor": "#2a3f5f",
             "gridcolor": "white",
             "linecolor": "white",
             "minorgridcolor": "white",
             "startlinecolor": "#2a3f5f"
            },
            "baxis": {
             "endlinecolor": "#2a3f5f",
             "gridcolor": "white",
             "linecolor": "white",
             "minorgridcolor": "white",
             "startlinecolor": "#2a3f5f"
            },
            "type": "carpet"
           }
          ],
          "choropleth": [
           {
            "colorbar": {
             "outlinewidth": 0,
             "ticks": ""
            },
            "type": "choropleth"
           }
          ],
          "contour": [
           {
            "colorbar": {
             "outlinewidth": 0,
             "ticks": ""
            },
            "colorscale": [
             [
              0,
              "#0d0887"
             ],
             [
              0.1111111111111111,
              "#46039f"
             ],
             [
              0.2222222222222222,
              "#7201a8"
             ],
             [
              0.3333333333333333,
              "#9c179e"
             ],
             [
              0.4444444444444444,
              "#bd3786"
             ],
             [
              0.5555555555555556,
              "#d8576b"
             ],
             [
              0.6666666666666666,
              "#ed7953"
             ],
             [
              0.7777777777777778,
              "#fb9f3a"
             ],
             [
              0.8888888888888888,
              "#fdca26"
             ],
             [
              1,
              "#f0f921"
             ]
            ],
            "type": "contour"
           }
          ],
          "contourcarpet": [
           {
            "colorbar": {
             "outlinewidth": 0,
             "ticks": ""
            },
            "type": "contourcarpet"
           }
          ],
          "heatmap": [
           {
            "colorbar": {
             "outlinewidth": 0,
             "ticks": ""
            },
            "colorscale": [
             [
              0,
              "#0d0887"
             ],
             [
              0.1111111111111111,
              "#46039f"
             ],
             [
              0.2222222222222222,
              "#7201a8"
             ],
             [
              0.3333333333333333,
              "#9c179e"
             ],
             [
              0.4444444444444444,
              "#bd3786"
             ],
             [
              0.5555555555555556,
              "#d8576b"
             ],
             [
              0.6666666666666666,
              "#ed7953"
             ],
             [
              0.7777777777777778,
              "#fb9f3a"
             ],
             [
              0.8888888888888888,
              "#fdca26"
             ],
             [
              1,
              "#f0f921"
             ]
            ],
            "type": "heatmap"
           }
          ],
          "histogram": [
           {
            "marker": {
             "pattern": {
              "fillmode": "overlay",
              "size": 10,
              "solidity": 0.2
             }
            },
            "type": "histogram"
           }
          ],
          "histogram2d": [
           {
            "colorbar": {
             "outlinewidth": 0,
             "ticks": ""
            },
            "colorscale": [
             [
              0,
              "#0d0887"
             ],
             [
              0.1111111111111111,
              "#46039f"
             ],
             [
              0.2222222222222222,
              "#7201a8"
             ],
             [
              0.3333333333333333,
              "#9c179e"
             ],
             [
              0.4444444444444444,
              "#bd3786"
             ],
             [
              0.5555555555555556,
              "#d8576b"
             ],
             [
              0.6666666666666666,
              "#ed7953"
             ],
             [
              0.7777777777777778,
              "#fb9f3a"
             ],
             [
              0.8888888888888888,
              "#fdca26"
             ],
             [
              1,
              "#f0f921"
             ]
            ],
            "type": "histogram2d"
           }
          ],
          "histogram2dcontour": [
           {
            "colorbar": {
             "outlinewidth": 0,
             "ticks": ""
            },
            "colorscale": [
             [
              0,
              "#0d0887"
             ],
             [
              0.1111111111111111,
              "#46039f"
             ],
             [
              0.2222222222222222,
              "#7201a8"
             ],
             [
              0.3333333333333333,
              "#9c179e"
             ],
             [
              0.4444444444444444,
              "#bd3786"
             ],
             [
              0.5555555555555556,
              "#d8576b"
             ],
             [
              0.6666666666666666,
              "#ed7953"
             ],
             [
              0.7777777777777778,
              "#fb9f3a"
             ],
             [
              0.8888888888888888,
              "#fdca26"
             ],
             [
              1,
              "#f0f921"
             ]
            ],
            "type": "histogram2dcontour"
           }
          ],
          "mesh3d": [
           {
            "colorbar": {
             "outlinewidth": 0,
             "ticks": ""
            },
            "type": "mesh3d"
           }
          ],
          "parcoords": [
           {
            "line": {
             "colorbar": {
              "outlinewidth": 0,
              "ticks": ""
             }
            },
            "type": "parcoords"
           }
          ],
          "pie": [
           {
            "automargin": true,
            "type": "pie"
           }
          ],
          "scatter": [
           {
            "fillpattern": {
             "fillmode": "overlay",
             "size": 10,
             "solidity": 0.2
            },
            "type": "scatter"
           }
          ],
          "scatter3d": [
           {
            "line": {
             "colorbar": {
              "outlinewidth": 0,
              "ticks": ""
             }
            },
            "marker": {
             "colorbar": {
              "outlinewidth": 0,
              "ticks": ""
             }
            },
            "type": "scatter3d"
           }
          ],
          "scattercarpet": [
           {
            "marker": {
             "colorbar": {
              "outlinewidth": 0,
              "ticks": ""
             }
            },
            "type": "scattercarpet"
           }
          ],
          "scattergeo": [
           {
            "marker": {
             "colorbar": {
              "outlinewidth": 0,
              "ticks": ""
             }
            },
            "type": "scattergeo"
           }
          ],
          "scattergl": [
           {
            "marker": {
             "colorbar": {
              "outlinewidth": 0,
              "ticks": ""
             }
            },
            "type": "scattergl"
           }
          ],
          "scattermap": [
           {
            "marker": {
             "colorbar": {
              "outlinewidth": 0,
              "ticks": ""
             }
            },
            "type": "scattermap"
           }
          ],
          "scattermapbox": [
           {
            "marker": {
             "colorbar": {
              "outlinewidth": 0,
              "ticks": ""
             }
            },
            "type": "scattermapbox"
           }
          ],
          "scatterpolar": [
           {
            "marker": {
             "colorbar": {
              "outlinewidth": 0,
              "ticks": ""
             }
            },
            "type": "scatterpolar"
           }
          ],
          "scatterpolargl": [
           {
            "marker": {
             "colorbar": {
              "outlinewidth": 0,
              "ticks": ""
             }
            },
            "type": "scatterpolargl"
           }
          ],
          "scatterternary": [
           {
            "marker": {
             "colorbar": {
              "outlinewidth": 0,
              "ticks": ""
             }
            },
            "type": "scatterternary"
           }
          ],
          "surface": [
           {
            "colorbar": {
             "outlinewidth": 0,
             "ticks": ""
            },
            "colorscale": [
             [
              0,
              "#0d0887"
             ],
             [
              0.1111111111111111,
              "#46039f"
             ],
             [
              0.2222222222222222,
              "#7201a8"
             ],
             [
              0.3333333333333333,
              "#9c179e"
             ],
             [
              0.4444444444444444,
              "#bd3786"
             ],
             [
              0.5555555555555556,
              "#d8576b"
             ],
             [
              0.6666666666666666,
              "#ed7953"
             ],
             [
              0.7777777777777778,
              "#fb9f3a"
             ],
             [
              0.8888888888888888,
              "#fdca26"
             ],
             [
              1,
              "#f0f921"
             ]
            ],
            "type": "surface"
           }
          ],
          "table": [
           {
            "cells": {
             "fill": {
              "color": "#EBF0F8"
             },
             "line": {
              "color": "white"
             }
            },
            "header": {
             "fill": {
              "color": "#C8D4E3"
             },
             "line": {
              "color": "white"
             }
            },
            "type": "table"
           }
          ]
         },
         "layout": {
          "annotationdefaults": {
           "arrowcolor": "#2a3f5f",
           "arrowhead": 0,
           "arrowwidth": 1
          },
          "autotypenumbers": "strict",
          "coloraxis": {
           "colorbar": {
            "outlinewidth": 0,
            "ticks": ""
           }
          },
          "colorscale": {
           "diverging": [
            [
             0,
             "#8e0152"
            ],
            [
             0.1,
             "#c51b7d"
            ],
            [
             0.2,
             "#de77ae"
            ],
            [
             0.3,
             "#f1b6da"
            ],
            [
             0.4,
             "#fde0ef"
            ],
            [
             0.5,
             "#f7f7f7"
            ],
            [
             0.6,
             "#e6f5d0"
            ],
            [
             0.7,
             "#b8e186"
            ],
            [
             0.8,
             "#7fbc41"
            ],
            [
             0.9,
             "#4d9221"
            ],
            [
             1,
             "#276419"
            ]
           ],
           "sequential": [
            [
             0,
             "#0d0887"
            ],
            [
             0.1111111111111111,
             "#46039f"
            ],
            [
             0.2222222222222222,
             "#7201a8"
            ],
            [
             0.3333333333333333,
             "#9c179e"
            ],
            [
             0.4444444444444444,
             "#bd3786"
            ],
            [
             0.5555555555555556,
             "#d8576b"
            ],
            [
             0.6666666666666666,
             "#ed7953"
            ],
            [
             0.7777777777777778,
             "#fb9f3a"
            ],
            [
             0.8888888888888888,
             "#fdca26"
            ],
            [
             1,
             "#f0f921"
            ]
           ],
           "sequentialminus": [
            [
             0,
             "#0d0887"
            ],
            [
             0.1111111111111111,
             "#46039f"
            ],
            [
             0.2222222222222222,
             "#7201a8"
            ],
            [
             0.3333333333333333,
             "#9c179e"
            ],
            [
             0.4444444444444444,
             "#bd3786"
            ],
            [
             0.5555555555555556,
             "#d8576b"
            ],
            [
             0.6666666666666666,
             "#ed7953"
            ],
            [
             0.7777777777777778,
             "#fb9f3a"
            ],
            [
             0.8888888888888888,
             "#fdca26"
            ],
            [
             1,
             "#f0f921"
            ]
           ]
          },
          "colorway": [
           "#636efa",
           "#EF553B",
           "#00cc96",
           "#ab63fa",
           "#FFA15A",
           "#19d3f3",
           "#FF6692",
           "#B6E880",
           "#FF97FF",
           "#FECB52"
          ],
          "font": {
           "color": "#2a3f5f"
          },
          "geo": {
           "bgcolor": "white",
           "lakecolor": "white",
           "landcolor": "#E5ECF6",
           "showlakes": true,
           "showland": true,
           "subunitcolor": "white"
          },
          "hoverlabel": {
           "align": "left"
          },
          "hovermode": "closest",
          "mapbox": {
           "style": "light"
          },
          "paper_bgcolor": "white",
          "plot_bgcolor": "#E5ECF6",
          "polar": {
           "angularaxis": {
            "gridcolor": "white",
            "linecolor": "white",
            "ticks": ""
           },
           "bgcolor": "#E5ECF6",
           "radialaxis": {
            "gridcolor": "white",
            "linecolor": "white",
            "ticks": ""
           }
          },
          "scene": {
           "xaxis": {
            "backgroundcolor": "#E5ECF6",
            "gridcolor": "white",
            "gridwidth": 2,
            "linecolor": "white",
            "showbackground": true,
            "ticks": "",
            "zerolinecolor": "white"
           },
           "yaxis": {
            "backgroundcolor": "#E5ECF6",
            "gridcolor": "white",
            "gridwidth": 2,
            "linecolor": "white",
            "showbackground": true,
            "ticks": "",
            "zerolinecolor": "white"
           },
           "zaxis": {
            "backgroundcolor": "#E5ECF6",
            "gridcolor": "white",
            "gridwidth": 2,
            "linecolor": "white",
            "showbackground": true,
            "ticks": "",
            "zerolinecolor": "white"
           }
          },
          "shapedefaults": {
           "line": {
            "color": "#2a3f5f"
           }
          },
          "ternary": {
           "aaxis": {
            "gridcolor": "white",
            "linecolor": "white",
            "ticks": ""
           },
           "baxis": {
            "gridcolor": "white",
            "linecolor": "white",
            "ticks": ""
           },
           "bgcolor": "#E5ECF6",
           "caxis": {
            "gridcolor": "white",
            "linecolor": "white",
            "ticks": ""
           }
          },
          "title": {
           "x": 0.05
          },
          "xaxis": {
           "automargin": true,
           "gridcolor": "white",
           "linecolor": "white",
           "ticks": "",
           "title": {
            "standoff": 15
           },
           "zerolinecolor": "white",
           "zerolinewidth": 2
          },
          "yaxis": {
           "automargin": true,
           "gridcolor": "white",
           "linecolor": "white",
           "ticks": "",
           "title": {
            "standoff": 15
           },
           "zerolinecolor": "white",
           "zerolinewidth": 2
          }
         }
        },
        "title": {
         "text": "Optimization History Plot"
        },
        "xaxis": {
         "title": {
          "text": "Trial"
         }
        },
        "yaxis": {
         "title": {
          "text": "Objective Value"
         }
        }
       }
      }
     },
     "metadata": {},
     "output_type": "display_data"
    }
   ],
   "source": [
    "# Visualizar el historial de optimización\n",
    "plot_optimization_history(study)"
   ]
  },
  {
   "cell_type": "code",
   "execution_count": 9,
   "id": "23cccbef",
   "metadata": {},
   "outputs": [
    {
     "name": "stdout",
     "output_type": "stream",
     "text": [
      "Mejores hiperparámetros encontrados:\n",
      "{'C': 10.149354234509365, 'kernel': 'linear', 'gamma': 'auto'}\n",
      "Mejor score de f1-score: 0.5638\n"
     ]
    }
   ],
   "source": [
    "print(\"Mejores hiperparámetros encontrados:\")\n",
    "print(study.best_params)\n",
    "print(f\"Mejor score de {SCORE}: {study.best_value:.4f}\")"
   ]
  },
  {
   "cell_type": "code",
   "execution_count": 10,
   "id": "bd17aa41",
   "metadata": {},
   "outputs": [],
   "source": [
    "# Guardar los mejores hiperparámetros y su valor\n",
    "history = []\n",
    "if os.path.exists(\"best_hyperparams.json\"):\n",
    "    try:\n",
    "        with open(\"best_hyperparams.json\", \"r\") as f:\n",
    "            history = json.load(f)\n",
    "    except (json.JSONDecodeError, ValueError):\n",
    "        history = []\n",
    "\n",
    "# Guardar ambos en un solo diccionario\n",
    "history.append({\n",
    "    \"params\": study.best_params,\n",
    "    \"value\": study.best_value\n",
    "})\n",
    "\n",
    "with open(\"best_hyperparams.json\", \"w\") as f:\n",
    "    json.dump(history, f, indent=2)"
   ]
  },
  {
   "cell_type": "markdown",
   "id": "05a38878",
   "metadata": {},
   "source": [
    "CARGAR HIPERPARAMETROS DESDE JSON"
   ]
  },
  {
   "cell_type": "code",
   "execution_count": 11,
   "id": "ecbc0dd5",
   "metadata": {},
   "outputs": [
    {
     "name": "stdout",
     "output_type": "stream",
     "text": [
      "Hiperparámetros #1: {'C': 10.149354234509365, 'kernel': 'linear', 'gamma': 'auto'}, Valor: 0.5637583892617449\n"
     ]
    }
   ],
   "source": [
    "# Cargar historial de hiperparámetros y valores\n",
    "with open(\"best_hyperparams.json\", \"r\") as f:\n",
    "    history = json.load(f)\n",
    "\n",
    "# Escoger el último (más reciente)\n",
    "best_params = history[-1][\"params\"]\n",
    "best_value = history[-1][\"value\"]\n",
    "\n",
    "# Para ver todos:\n",
    "for i, entry in enumerate(history):\n",
    "    print(f\"Hiperparámetros #{i+1}: {entry['params']}, Valor: {entry['value']}\")\n",
    "\n",
    "# Para escoger uno específico (por índice):\n",
    "# best_params = history[indice_que_quieras][\"params\"]\n",
    "# best_value = history[indice_que_quieras][\"value\"]"
   ]
  },
  {
   "cell_type": "code",
   "execution_count": 12,
   "id": "3074106b",
   "metadata": {},
   "outputs": [
    {
     "data": {
      "text/plain": [
       "['SVM.joblib']"
      ]
     },
     "execution_count": 12,
     "metadata": {},
     "output_type": "execute_result"
    }
   ],
   "source": [
    "# Entrenar modelo final con los mejores hiperparámetros\n",
    "set_seeds(SEED)\n",
    "best_params = study.best_params\n",
    "final_model = Pipeline([\n",
    "    (\"scaler\", StandardScaler()),\n",
    "    (\"svc\", SVC(\n",
    "        C=best_params[\"C\"],\n",
    "        kernel=best_params[\"kernel\"],\n",
    "        gamma=best_params[\"gamma\"],\n",
    "        degree=best_params.get(\"degree\", 3),\n",
    "        random_state=SEED,\n",
    "        decision_function_shape=\"ovr\"\n",
    "    ))\n",
    "])\n",
    "final_model.fit(X_train, y_train)\n",
    "joblib.dump(final_model, \"SVM.joblib\")\n"
   ]
  },
  {
   "cell_type": "code",
   "execution_count": 13,
   "id": "41ba04bf",
   "metadata": {},
   "outputs": [
    {
     "name": "stdout",
     "output_type": "stream",
     "text": [
      "SVM FINAL trend_changes_score:\n",
      "               precision    recall  f1-score   support\n",
      "\n",
      "       False     0.8532    0.8493    0.8513       219\n",
      "        True     0.5600    0.5676    0.5638        74\n",
      "\n",
      "    accuracy                         0.7782       293\n",
      "   macro avg     0.7066    0.7084    0.7075       293\n",
      "weighted avg     0.7792    0.7782    0.7786       293\n",
      "\n"
     ]
    }
   ],
   "source": [
    "# Predicciones con el modelo final\n",
    "y_val_pred = final_model.predict(X_val)\n",
    "print(\"SVM FINAL trend_changes_score:\\n\", trend_changes_score(y_val, y_val_pred))"
   ]
  },
  {
   "cell_type": "code",
   "execution_count": 14,
   "id": "0b7d3033",
   "metadata": {},
   "outputs": [
    {
     "name": "stdout",
     "output_type": "stream",
     "text": [
      "SVM Report:\n",
      "               precision    recall  f1-score   support\n",
      "\n",
      "          -1     0.7706    0.9130    0.8358        92\n",
      "           0     0.3235    0.2245    0.2651        49\n",
      "           1     0.8411    0.8301    0.8355       153\n",
      "\n",
      "    accuracy                         0.7551       294\n",
      "   macro avg     0.6451    0.6559    0.6455       294\n",
      "weighted avg     0.7328    0.7551    0.7405       294\n",
      "\n"
     ]
    }
   ],
   "source": [
    "# Reporte completo: precisión, recall y F1 por clase\n",
    "report = classification_report(y_val, y_val_pred, digits=4)\n",
    "print(\"SVM Report:\\n\", report)"
   ]
  },
  {
   "cell_type": "code",
   "execution_count": 15,
   "id": "e7999601",
   "metadata": {},
   "outputs": [],
   "source": [
    "# --- Exportar y Comparar Métricas de Modelos (Validación) ---\n",
    "\n",
    "# 1. Definir el nombre del modelo actual y el archivo de salida\n",
    "output_file = '../../../score_models/model_comparison_metrics.csv'\n",
    "\n",
    "# 2. Calcular el reporte de clasificación estándar\n",
    "report_dict = classification_report(y_val, y_val_pred, output_dict=True, zero_division=0)\n",
    "precision = report_dict['macro avg']['precision']\n",
    "recall = report_dict['macro avg']['recall']\n",
    "f1_score = report_dict['macro avg']['f1-score']\n",
    "\n",
    "\n",
    "# 3. Calcular el reporte de cambio de tendencia\n",
    "report = get_trend_changes_report_dict(y_val, y_val_pred)\n",
    "trend_change_precision = report['True']['precision']\n",
    "trend_change_recall = report['True']['recall']\n",
    "trend_change_f1_score = report['True']['f1-score']\n",
    "\n",
    "# 4. Organizar las nuevas métricas\n",
    "new_metrics = {\n",
    "    'precision': precision,\n",
    "    'recall': recall,\n",
    "    'f1_score': f1_score,\n",
    "    'trend_change_precision': trend_change_precision,\n",
    "    'trend_change_recall': trend_change_recall,\n",
    "    'trend_change_f1_score': trend_change_f1_score,\n",
    "    \"optuna_duration_sec\": opt_duration_sec,\n",
    "    \"n_trials\": n_trials_run\n",
    "}\n",
    "\n",
    "# 5. Cargar, actualizar y guardar el DataFrame de comparación\n",
    "try:\n",
    "    # Intentar cargar el archivo existente\n",
    "    comparison_df = pd.read_csv(output_file, index_col='model')\n",
    "    # Si existe, actualizar o añadir la fila para el modelo actual\n",
    "    comparison_df.loc[model_name] = new_metrics\n",
    "except FileNotFoundError:\n",
    "    # Si no existe, crear un DataFrame nuevo directamente con los datos actuales\n",
    "    comparison_df = pd.DataFrame([new_metrics], index=[model_name])\n",
    "\n",
    "# Guardar el DataFrame actualizado en el CSV\n",
    "comparison_df.to_csv(output_file, index_label='model')"
   ]
  }
 ],
 "metadata": {
  "kernelspec": {
   "display_name": "tf_venv2 (3.10.12)",
   "language": "python",
   "name": "python3"
  },
  "language_info": {
   "codemirror_mode": {
    "name": "ipython",
    "version": 3
   },
   "file_extension": ".py",
   "mimetype": "text/x-python",
   "name": "python",
   "nbconvert_exporter": "python",
   "pygments_lexer": "ipython3",
   "version": "3.10.12"
  }
 },
 "nbformat": 4,
 "nbformat_minor": 5
}
