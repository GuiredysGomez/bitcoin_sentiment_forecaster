{
 "cells": [
  {
   "cell_type": "code",
   "execution_count": 20,
   "id": "7c34cf5c",
   "metadata": {},
   "outputs": [],
   "source": [
    "import numpy as np\n",
    "import random\n",
    "import pandas as pd\n",
    "import optuna\n",
    "from sklearn.svm import SVC\n",
    "from sklearn.pipeline import Pipeline\n",
    "from sklearn.preprocessing import StandardScaler\n",
    "from sklearn.metrics import classification_report\n",
    "from sklearn.model_selection import train_test_split\n",
    "from optuna.visualization import plot_optimization_history\n",
    "import os\n",
    "import json\n"
   ]
  },
  {
   "cell_type": "code",
   "execution_count": 9,
   "id": "b06bed4c",
   "metadata": {},
   "outputs": [],
   "source": [
    "SEED = 1234\n",
    "SCORE = \"f1-score\""
   ]
  },
  {
   "cell_type": "code",
   "execution_count": 10,
   "id": "d84c564c",
   "metadata": {},
   "outputs": [],
   "source": [
    "def set_seeds(seed):\n",
    "    random.seed(seed)\n",
    "    np.random.seed(seed)"
   ]
  },
  {
   "cell_type": "code",
   "execution_count": 11,
   "id": "cfc38304",
   "metadata": {},
   "outputs": [],
   "source": [
    "def get_trend_changes_report_dict(y_test: np.array, y_pred: np.array) -> float:\n",
    "    \"\"\"\n",
    "    Calculate the trend changes score based on the test and predicted values.\n",
    "    \n",
    "    Args:\n",
    "        y_test (np.array): True labels.\n",
    "        y_pred (np.array): Predicted labels.\n",
    "        \n",
    "    Returns:\n",
    "        float: The trend changes score.\n",
    "    \"\"\"\n",
    "    y_df = pd.DataFrame([y_test, y_pred]).T\n",
    "    y_df.columns = [\"y_test\", \"y_pred\"]\n",
    "    y_df[\"y_test_shifted\"] = y_df[\"y_test\"].shift(-1)\n",
    "    y_df[\"is_changed_trend_test\"] = y_df[\"y_test\"] != y_df[\"y_test_shifted\"]\n",
    "    y_df[\"y_predict_shifted\"] = y_df[\"y_pred\"].shift(-1)\n",
    "    y_df[\"is_changed_trend_predict\"] = y_df[\"y_pred\"] != y_df[\"y_predict_shifted\"]\n",
    "    return classification_report(\n",
    "        y_df[\"is_changed_trend_test\"][:-1], \n",
    "        y_df[\"is_changed_trend_predict\"][:-1], \n",
    "        digits=4,\n",
    "        output_dict=True,\n",
    "        zero_division=0\n",
    "    )\n",
    "\n",
    "def trend_changes_score(y_test: np.array, y_pred: np.array) -> float:\n",
    "    \"\"\"\n",
    "    Calculate the trend changes score based on the test and predicted values.\n",
    "    \n",
    "    Args:\n",
    "        y_test (np.array): True labels.\n",
    "        y_pred (np.array): Predicted labels.\n",
    "        \n",
    "    Returns:\n",
    "        float: The trend changes score.\n",
    "    \"\"\"\n",
    "    y_df = pd.DataFrame([y_test, y_pred]).T\n",
    "    y_df.columns = [\"y_test\", \"y_pred\"]\n",
    "    y_df[\"y_test_shifted\"] = y_df[\"y_test\"].shift(-1)\n",
    "    y_df[\"is_changed_trend_test\"] = y_df[\"y_test\"] != y_df[\"y_test_shifted\"]\n",
    "    y_df[\"y_predict_shifted\"] = y_df[\"y_pred\"].shift(-1)\n",
    "    y_df[\"is_changed_trend_predict\"] = y_df[\"y_pred\"] != y_df[\"y_predict_shifted\"]\n",
    "    return classification_report(y_df[\"is_changed_trend_test\"][:-1], y_df[\"is_changed_trend_predict\"][:-1], digits=4)\n",
    "\n",
    "def trend_changes_true(y_test: np.array, y_pred: np.array) -> float:\n",
    "    \"\"\"\n",
    "    Calculate the trend changes score based on the test and predicted values.\n",
    "    \n",
    "    Args:\n",
    "        y_test (np.array): True labels.\n",
    "        y_pred (np.array): Predicted labels.\n",
    "        \n",
    "    Returns:\n",
    "        float: The trend changes score.\n",
    "    \"\"\"\n",
    "    y_df = pd.DataFrame([y_test, y_pred]).T\n",
    "    y_df.columns = [\"y_test\", \"y_pred\"]\n",
    "    y_df[\"y_test_shifted\"] = y_df[\"y_test\"].shift(-1)\n",
    "    y_df[\"is_changed_trend_test\"] = y_df[\"y_test\"] != y_df[\"y_test_shifted\"]\n",
    "    y_df[\"y_predict_shifted\"] = y_df[\"y_pred\"].shift(-1)\n",
    "    y_df[\"is_changed_trend_predict\"] = y_df[\"y_pred\"] != y_df[\"y_predict_shifted\"]\n",
    "    report = classification_report(\n",
    "        y_df[\"is_changed_trend_test\"][:-1],\n",
    "        y_df[\"is_changed_trend_predict\"][:-1],\n",
    "        output_dict=True,\n",
    "        zero_division=0\n",
    "    )\n",
    "    return report[\"True\"][SCORE]"
   ]
  },
  {
   "cell_type": "code",
   "execution_count": 12,
   "id": "6c74510b",
   "metadata": {},
   "outputs": [],
   "source": [
    "# Cargar datos\n",
    "train = pd.read_csv(\"../../../data/post_cleaning/training_set.csv\", parse_dates=[\"date\"])\n",
    "val = pd.read_csv(\"../../../data/post_cleaning/validation_set.csv\", parse_dates=[\"date\"])\n",
    "test_set = pd.read_csv(\"../../../data/post_cleaning/test_set.csv\", parse_dates=['date'])\n",
    "X_train = train.drop(columns=[\"date\", \"target_trend\"]).values\n",
    "y_train = train[\"target_trend\"].values\n",
    "X_val = val.drop(columns=[\"date\", \"target_trend\"]).values\n",
    "y_val = val[\"target_trend\"].values\n",
    "X_test = test_set.drop(columns=[\"date\", \"target_trend\"]).values\n",
    "y_test = test_set[\"target_trend\"].values"
   ]
  },
  {
   "cell_type": "code",
   "execution_count": 13,
   "id": "d013f656",
   "metadata": {},
   "outputs": [],
   "source": [
    "def objective(trial):\n",
    "    set_seeds(SEED)\n",
    "    C = trial.suggest_float(\"C\", 1e-3, 100, log=True)\n",
    "    kernel = trial.suggest_categorical(\"kernel\", [\"rbf\", \"linear\", \"poly\", \"sigmoid\"])\n",
    "    gamma = trial.suggest_categorical(\"gamma\", [\"scale\", \"auto\"])\n",
    "    degree = 3\n",
    "    if kernel == \"poly\":\n",
    "        degree = trial.suggest_int(\"degree\", 2, 5)\n",
    "    else:\n",
    "        degree = 3  # default\n",
    "\n",
    "    model = Pipeline([\n",
    "        (\"scaler\", StandardScaler()),\n",
    "        (\"svc\", SVC(\n",
    "            C=C,\n",
    "            kernel=kernel,\n",
    "            gamma=gamma,\n",
    "            degree=degree,\n",
    "            random_state=SEED,\n",
    "            decision_function_shape=\"ovr\"\n",
    "        ))\n",
    "    ])\n",
    "    model.fit(X_train, y_train)\n",
    "    y_pred = model.predict(X_val)\n",
    "    score = trend_changes_true(y_val, y_pred)\n",
    "    return score"
   ]
  },
  {
   "cell_type": "code",
   "execution_count": 14,
   "id": "ae8cf30a",
   "metadata": {},
   "outputs": [
    {
     "name": "stderr",
     "output_type": "stream",
     "text": [
      "[I 2025-08-24 15:48:22,341] A new study created in memory with name: no-name-cc32f03b-7af9-41f9-808b-a6822552fe12\n"
     ]
    },
    {
     "name": "stderr",
     "output_type": "stream",
     "text": [
      "[I 2025-08-24 15:48:22,476] Trial 0 finished with value: 0.047619047619047616 and parameters: {'C': 0.009069790423538587, 'kernel': 'poly', 'gamma': 'auto', 'degree': 5}. Best is trial 0 with value: 0.047619047619047616.\n",
      "[I 2025-08-24 15:48:22,582] Trial 1 finished with value: 0.1651376146788991 and parameters: {'C': 61.75850414870778, 'kernel': 'rbf', 'gamma': 'scale'}. Best is trial 1 with value: 0.1651376146788991.\n",
      "[I 2025-08-24 15:48:22,668] Trial 2 finished with value: 0.16216216216216217 and parameters: {'C': 0.6397067456356109, 'kernel': 'sigmoid', 'gamma': 'auto'}. Best is trial 1 with value: 0.1651376146788991.\n",
      "[I 2025-08-24 15:48:22,736] Trial 3 finished with value: 0.18181818181818182 and parameters: {'C': 0.002381805030702129, 'kernel': 'linear', 'gamma': 'scale'}. Best is trial 3 with value: 0.18181818181818182.\n",
      "[I 2025-08-24 15:48:22,839] Trial 4 finished with value: 0.2033898305084746 and parameters: {'C': 0.692617185326897, 'kernel': 'rbf', 'gamma': 'auto'}. Best is trial 4 with value: 0.2033898305084746.\n",
      "[I 2025-08-24 15:48:23,000] Trial 5 finished with value: 0.0 and parameters: {'C': 0.012415394629331972, 'kernel': 'rbf', 'gamma': 'scale'}. Best is trial 4 with value: 0.2033898305084746.\n",
      "[I 2025-08-24 15:48:23,103] Trial 6 finished with value: 0.2465753424657534 and parameters: {'C': 2.3681255196123407, 'kernel': 'rbf', 'gamma': 'auto'}. Best is trial 6 with value: 0.2465753424657534.\n",
      "[I 2025-08-24 15:48:23,296] Trial 7 finished with value: 0.04878048780487805 and parameters: {'C': 0.0036263656129821224, 'kernel': 'sigmoid', 'gamma': 'scale'}. Best is trial 6 with value: 0.2465753424657534.\n",
      "[I 2025-08-24 15:48:23,402] Trial 8 finished with value: 0.1651376146788991 and parameters: {'C': 91.28666284968567, 'kernel': 'rbf', 'gamma': 'scale'}. Best is trial 6 with value: 0.2465753424657534.\n",
      "[I 2025-08-24 15:48:23,524] Trial 9 finished with value: 0.2222222222222222 and parameters: {'C': 0.08158066857585633, 'kernel': 'poly', 'gamma': 'auto', 'degree': 4}. Best is trial 6 with value: 0.2465753424657534.\n",
      "[I 2025-08-24 15:48:24,096] Trial 10 finished with value: 0.38461538461538464 and parameters: {'C': 5.9357829924051835, 'kernel': 'linear', 'gamma': 'auto'}. Best is trial 10 with value: 0.38461538461538464.\n",
      "[I 2025-08-24 15:48:24,817] Trial 11 finished with value: 0.375 and parameters: {'C': 7.4820209620921565, 'kernel': 'linear', 'gamma': 'auto'}. Best is trial 10 with value: 0.38461538461538464.\n",
      "[I 2025-08-24 15:48:25,628] Trial 12 finished with value: 0.375 and parameters: {'C': 7.457936480032665, 'kernel': 'linear', 'gamma': 'auto'}. Best is trial 10 with value: 0.38461538461538464.\n",
      "[I 2025-08-24 15:48:24,200] Trial 13 finished with value: 0.3953488372093023 and parameters: {'C': 10.337603131701117, 'kernel': 'linear', 'gamma': 'auto'}. Best is trial 13 with value: 0.3953488372093023.\n",
      "[I 2025-08-24 15:48:25,402] Trial 14 finished with value: 0.38202247191011235 and parameters: {'C': 12.881781508545998, 'kernel': 'linear', 'gamma': 'auto'}. Best is trial 13 with value: 0.3953488372093023.\n",
      "[I 2025-08-24 15:48:25,544] Trial 15 finished with value: 0.23529411764705882 and parameters: {'C': 0.13112552530097107, 'kernel': 'linear', 'gamma': 'auto'}. Best is trial 13 with value: 0.3953488372093023.\n",
      "[I 2025-08-24 15:48:27,511] Trial 16 finished with value: 0.35555555555555557 and parameters: {'C': 22.991185036771384, 'kernel': 'linear', 'gamma': 'auto'}. Best is trial 13 with value: 0.3953488372093023.\n",
      "[I 2025-08-24 15:48:27,844] Trial 17 finished with value: 0.35135135135135137 and parameters: {'C': 2.401267230627981, 'kernel': 'linear', 'gamma': 'auto'}. Best is trial 13 with value: 0.3953488372093023.\n",
      "[I 2025-08-24 15:48:28,179] Trial 18 finished with value: 0.35135135135135137 and parameters: {'C': 2.5731480476871385, 'kernel': 'linear', 'gamma': 'auto'}. Best is trial 13 with value: 0.3953488372093023.\n",
      "[I 2025-08-24 15:48:28,245] Trial 19 finished with value: 0.25 and parameters: {'C': 26.105803990928106, 'kernel': 'sigmoid', 'gamma': 'auto'}. Best is trial 13 with value: 0.3953488372093023.\n",
      "[I 2025-08-24 15:48:28,375] Trial 20 finished with value: 0.08571428571428572 and parameters: {'C': 0.1840756305415891, 'kernel': 'poly', 'gamma': 'auto', 'degree': 2}. Best is trial 13 with value: 0.3953488372093023.\n",
      "[I 2025-08-24 15:48:30,024] Trial 21 finished with value: 0.38202247191011235 and parameters: {'C': 12.595412130952493, 'kernel': 'linear', 'gamma': 'auto'}. Best is trial 13 with value: 0.3953488372093023.\n",
      "[I 2025-08-24 15:48:30,622] Trial 22 finished with value: 0.38461538461538464 and parameters: {'C': 5.644254318391027, 'kernel': 'linear', 'gamma': 'auto'}. Best is trial 13 with value: 0.3953488372093023.\n",
      "[I 2025-08-24 15:48:30,776] Trial 23 finished with value: 0.2898550724637681 and parameters: {'C': 0.8966511579971043, 'kernel': 'linear', 'gamma': 'auto'}. Best is trial 13 with value: 0.3953488372093023.\n",
      "[I 2025-08-24 15:48:31,455] Trial 24 finished with value: 0.38461538461538464 and parameters: {'C': 5.4388717988253585, 'kernel': 'linear', 'gamma': 'auto'}. Best is trial 13 with value: 0.3953488372093023.\n",
      "[I 2025-08-24 15:48:34,740] Trial 25 finished with value: 0.32558139534883723 and parameters: {'C': 43.501776768169066, 'kernel': 'linear', 'gamma': 'auto'}. Best is trial 13 with value: 0.3953488372093023.\n",
      "[I 2025-08-24 15:48:34,916] Trial 26 finished with value: 0.3013698630136986 and parameters: {'C': 1.480273770300136, 'kernel': 'linear', 'gamma': 'scale'}. Best is trial 13 with value: 0.3953488372093023.\n",
      "[I 2025-08-24 15:48:35,023] Trial 27 finished with value: 0.23529411764705882 and parameters: {'C': 0.05350325626569214, 'kernel': 'linear', 'gamma': 'auto'}. Best is trial 13 with value: 0.3953488372093023.\n",
      "[I 2025-08-24 15:48:35,130] Trial 28 finished with value: 0.18461538461538463 and parameters: {'C': 0.34588013631838466, 'kernel': 'sigmoid', 'gamma': 'auto'}. Best is trial 13 with value: 0.3953488372093023.\n",
      "[I 2025-08-24 15:48:35,267] Trial 29 finished with value: 0.13861386138613863 and parameters: {'C': 4.5183214360330926, 'kernel': 'poly', 'gamma': 'auto', 'degree': 2}. Best is trial 13 with value: 0.3953488372093023.\n",
      "[I 2025-08-24 15:48:35,367] Trial 30 finished with value: 0.13157894736842105 and parameters: {'C': 21.388477741062992, 'kernel': 'poly', 'gamma': 'auto', 'degree': 5}. Best is trial 13 with value: 0.3953488372093023.\n",
      "[I 2025-08-24 15:48:35,893] Trial 31 finished with value: 0.38461538461538464 and parameters: {'C': 5.65350322195909, 'kernel': 'linear', 'gamma': 'auto'}. Best is trial 13 with value: 0.3953488372093023.\n",
      "[I 2025-08-24 15:48:36,342] Trial 32 finished with value: 0.37333333333333335 and parameters: {'C': 4.562752660140253, 'kernel': 'linear', 'gamma': 'auto'}. Best is trial 13 with value: 0.3953488372093023.\n",
      "[I 2025-08-24 15:48:38,015] Trial 33 finished with value: 0.38202247191011235 and parameters: {'C': 12.44639515103, 'kernel': 'linear', 'gamma': 'auto'}. Best is trial 13 with value: 0.3953488372093023.\n",
      "[I 2025-08-24 15:48:42,468] Trial 34 finished with value: 0.32558139534883723 and parameters: {'C': 48.83552619413621, 'kernel': 'linear', 'gamma': 'scale'}. Best is trial 13 with value: 0.3953488372093023.\n",
      "[I 2025-08-24 15:48:42,609] Trial 35 finished with value: 0.3142857142857143 and parameters: {'C': 1.0418742649421358, 'kernel': 'linear', 'gamma': 'auto'}. Best is trial 13 with value: 0.3953488372093023.\n",
      "[I 2025-08-24 15:48:42,925] Trial 36 finished with value: 0.35135135135135137 and parameters: {'C': 3.160856455417132, 'kernel': 'linear', 'gamma': 'auto'}. Best is trial 13 with value: 0.3953488372093023.\n",
      "[I 2025-08-24 15:48:43,025] Trial 37 finished with value: 0.11940298507462686 and parameters: {'C': 0.413798011570459, 'kernel': 'sigmoid', 'gamma': 'scale'}. Best is trial 13 with value: 0.3953488372093023.\n",
      "[I 2025-08-24 15:48:43,133] Trial 38 finished with value: 0.2571428571428571 and parameters: {'C': 1.7801524544384697, 'kernel': 'rbf', 'gamma': 'auto'}. Best is trial 13 with value: 0.3953488372093023.\n",
      "[I 2025-08-24 15:48:43,203] Trial 39 finished with value: 0.26865671641791045 and parameters: {'C': 0.016589328358135917, 'kernel': 'linear', 'gamma': 'auto'}. Best is trial 13 with value: 0.3953488372093023.\n",
      "[I 2025-08-24 15:48:43,313] Trial 40 finished with value: 0.16822429906542055 and parameters: {'C': 34.95288587076331, 'kernel': 'rbf', 'gamma': 'scale'}. Best is trial 13 with value: 0.3953488372093023.\n",
      "[I 2025-08-24 15:48:44,042] Trial 41 finished with value: 0.375 and parameters: {'C': 7.204665924442481, 'kernel': 'linear', 'gamma': 'auto'}. Best is trial 13 with value: 0.3953488372093023.\n",
      "[I 2025-08-24 15:48:44,565] Trial 42 finished with value: 0.37333333333333335 and parameters: {'C': 4.959011715534944, 'kernel': 'linear', 'gamma': 'auto'}. Best is trial 13 with value: 0.3953488372093023.\n",
      "[I 2025-08-24 15:48:50,856] Trial 43 finished with value: 0.3333333333333333 and parameters: {'C': 78.04653715113015, 'kernel': 'linear', 'gamma': 'auto'}. Best is trial 13 with value: 0.3953488372093023.\n",
      "[I 2025-08-24 15:48:52,466] Trial 44 finished with value: 0.38202247191011235 and parameters: {'C': 14.961118433727817, 'kernel': 'linear', 'gamma': 'auto'}. Best is trial 13 with value: 0.3953488372093023.\n",
      "[I 2025-08-24 15:48:53,212] Trial 45 finished with value: 0.375 and parameters: {'C': 7.212329246036103, 'kernel': 'linear', 'gamma': 'auto'}. Best is trial 13 with value: 0.3953488372093023.\n",
      "[I 2025-08-24 15:48:53,401] Trial 46 finished with value: 0.3013698630136986 and parameters: {'C': 1.4556721274794355, 'kernel': 'linear', 'gamma': 'auto'}. Best is trial 13 with value: 0.3953488372093023.\n",
      "[I 2025-08-24 15:48:53,505] Trial 47 finished with value: 0.2033898305084746 and parameters: {'C': 0.5739204720307052, 'kernel': 'rbf', 'gamma': 'auto'}. Best is trial 13 with value: 0.3953488372093023.\n",
      "[I 2025-08-24 15:48:53,580] Trial 48 finished with value: 0.17142857142857143 and parameters: {'C': 3.5379279287608263, 'kernel': 'sigmoid', 'gamma': 'scale'}. Best is trial 13 with value: 0.3953488372093023.\n",
      "[I 2025-08-24 15:48:53,672] Trial 49 finished with value: 0.19148936170212766 and parameters: {'C': 9.925939051420944, 'kernel': 'poly', 'gamma': 'auto', 'degree': 3}. Best is trial 13 with value: 0.3953488372093023.\n",
      "[I 2025-08-24 15:48:55,802] Trial 50 finished with value: 0.35555555555555557 and parameters: {'C': 20.46820216808153, 'kernel': 'linear', 'gamma': 'auto'}. Best is trial 13 with value: 0.3953488372093023.\n",
      "[I 2025-08-24 15:48:54,023] Trial 51 finished with value: 0.38461538461538464 and parameters: {'C': 6.606979856355863, 'kernel': 'linear', 'gamma': 'auto'}. Best is trial 13 with value: 0.3953488372093023.\n",
      "[I 2025-08-24 15:48:54,741] Trial 52 finished with value: 0.38461538461538464 and parameters: {'C': 6.114862984552797, 'kernel': 'linear', 'gamma': 'auto'}. Best is trial 13 with value: 0.3953488372093023.\n",
      "[I 2025-08-24 15:48:55,558] Trial 53 finished with value: 0.3855421686746988 and parameters: {'C': 9.455985251124922, 'kernel': 'linear', 'gamma': 'auto'}. Best is trial 13 with value: 0.3953488372093023.\n",
      "[I 2025-08-24 15:48:55,885] Trial 54 finished with value: 0.35135135135135137 and parameters: {'C': 2.477078136168795, 'kernel': 'linear', 'gamma': 'auto'}. Best is trial 13 with value: 0.3953488372093023.\n",
      "[I 2025-08-24 15:48:58,227] Trial 55 finished with value: 0.38202247191011235 and parameters: {'C': 17.055734408322056, 'kernel': 'linear', 'gamma': 'auto'}. Best is trial 13 with value: 0.3953488372093023.\n",
      "[I 2025-08-24 15:49:01,821] Trial 56 finished with value: 0.3181818181818182 and parameters: {'C': 35.38620643763739, 'kernel': 'linear', 'gamma': 'auto'}. Best is trial 13 with value: 0.3953488372093023.\n",
      "[I 2025-08-24 15:49:01,903] Trial 57 finished with value: 0.10909090909090909 and parameters: {'C': 0.0012049474864812954, 'kernel': 'linear', 'gamma': 'auto'}. Best is trial 13 with value: 0.3953488372093023.\n",
      "[I 2025-08-24 15:49:02,872] Trial 58 finished with value: 0.3855421686746988 and parameters: {'C': 10.207279416800636, 'kernel': 'linear', 'gamma': 'auto'}. Best is trial 13 with value: 0.3953488372093023.\n",
      "[I 2025-08-24 15:49:02,943] Trial 59 finished with value: 0.22784810126582278 and parameters: {'C': 10.155385251149877, 'kernel': 'sigmoid', 'gamma': 'auto'}. Best is trial 13 with value: 0.3953488372093023.\n",
      "[I 2025-08-24 15:49:03,038] Trial 60 finished with value: 0.2222222222222222 and parameters: {'C': 26.575495776693938, 'kernel': 'poly', 'gamma': 'scale', 'degree': 3}. Best is trial 13 with value: 0.3953488372093023.\n",
      "[I 2025-08-24 15:49:03,578] Trial 61 finished with value: 0.34210526315789475 and parameters: {'C': 3.8536460852768104, 'kernel': 'linear', 'gamma': 'auto'}. Best is trial 13 with value: 0.3953488372093023.\n",
      "[I 2025-08-24 15:49:04,375] Trial 62 finished with value: 0.3855421686746988 and parameters: {'C': 9.702671417687323, 'kernel': 'linear', 'gamma': 'auto'}. Best is trial 13 with value: 0.3953488372093023.\n",
      "[I 2025-08-24 15:49:05,406] Trial 63 finished with value: 0.38636363636363635 and parameters: {'C': 11.190616118379214, 'kernel': 'linear', 'gamma': 'auto'}. Best is trial 13 with value: 0.3953488372093023.\n",
      "[I 2025-08-24 15:49:06,253] Trial 64 finished with value: 0.3855421686746988 and parameters: {'C': 9.801714945354716, 'kernel': 'linear', 'gamma': 'auto'}. Best is trial 13 with value: 0.3953488372093023.\n",
      "[I 2025-08-24 15:49:07,215] Trial 65 finished with value: 0.3855421686746988 and parameters: {'C': 9.91624870355716, 'kernel': 'linear', 'gamma': 'auto'}. Best is trial 13 with value: 0.3953488372093023.\n",
      "[I 2025-08-24 15:49:07,984] Trial 66 finished with value: 0.3855421686746988 and parameters: {'C': 9.415460645837118, 'kernel': 'linear', 'gamma': 'auto'}. Best is trial 13 with value: 0.3953488372093023.\n",
      "[I 2025-08-24 15:49:11,909] Trial 67 finished with value: 0.32558139534883723 and parameters: {'C': 54.57523360048341, 'kernel': 'linear', 'gamma': 'auto'}. Best is trial 13 with value: 0.3953488372093023.\n",
      "[I 2025-08-24 15:49:12,021] Trial 68 finished with value: 0.1834862385321101 and parameters: {'C': 30.01322345278028, 'kernel': 'rbf', 'gamma': 'auto'}. Best is trial 13 with value: 0.3953488372093023.\n",
      "[I 2025-08-24 15:49:13,528] Trial 69 finished with value: 0.38202247191011235 and parameters: {'C': 15.194773804478272, 'kernel': 'linear', 'gamma': 'auto'}. Best is trial 13 with value: 0.3953488372093023.\n",
      "[I 2025-08-24 15:49:18,768] Trial 70 finished with value: 0.33707865168539325 and parameters: {'C': 73.49399107736294, 'kernel': 'linear', 'gamma': 'auto'}. Best is trial 13 with value: 0.3953488372093023.\n",
      "[I 2025-08-24 15:49:19,885] Trial 71 finished with value: 0.3855421686746988 and parameters: {'C': 9.18656912400768, 'kernel': 'linear', 'gamma': 'auto'}. Best is trial 13 with value: 0.3953488372093023.\n",
      "[I 2025-08-24 15:49:21,028] Trial 72 finished with value: 0.38636363636363635 and parameters: {'C': 11.008513951763769, 'kernel': 'linear', 'gamma': 'auto'}. Best is trial 13 with value: 0.3953488372093023.\n",
      "[I 2025-08-24 15:49:23,475] Trial 73 finished with value: 0.37362637362637363 and parameters: {'C': 19.452923508179033, 'kernel': 'linear', 'gamma': 'auto'}. Best is trial 13 with value: 0.3953488372093023.\n",
      "[I 2025-08-24 15:49:24,375] Trial 74 finished with value: 0.3953488372093023 and parameters: {'C': 10.723325024708311, 'kernel': 'linear', 'gamma': 'auto'}. Best is trial 13 with value: 0.3953488372093023.\n",
      "[I 2025-08-24 15:49:25,746] Trial 75 finished with value: 0.38202247191011235 and parameters: {'C': 13.684673506344447, 'kernel': 'linear', 'gamma': 'auto'}. Best is trial 13 with value: 0.3953488372093023.\n",
      "[I 2025-08-24 15:49:25,991] Trial 76 finished with value: 0.3287671232876712 and parameters: {'C': 1.9058264343992701, 'kernel': 'linear', 'gamma': 'auto'}. Best is trial 13 with value: 0.3953488372093023.\n",
      "[I 2025-08-24 15:49:23,948] Trial 77 finished with value: 0.35135135135135137 and parameters: {'C': 3.6217040968537413, 'kernel': 'linear', 'gamma': 'auto'}. Best is trial 13 with value: 0.3953488372093023.\n",
      "[I 2025-08-24 15:49:25,381] Trial 78 finished with value: 0.38202247191011235 and parameters: {'C': 12.254816747884282, 'kernel': 'linear', 'gamma': 'scale'}. Best is trial 13 with value: 0.3953488372093023.\n",
      "[I 2025-08-24 15:49:25,531] Trial 79 finished with value: 0.20588235294117646 and parameters: {'C': 40.3016213598424, 'kernel': 'poly', 'gamma': 'auto', 'degree': 4}. Best is trial 13 with value: 0.3953488372093023.\n",
      "[I 2025-08-24 15:49:25,600] Trial 80 finished with value: 0.25 and parameters: {'C': 23.67644674533765, 'kernel': 'sigmoid', 'gamma': 'auto'}. Best is trial 13 with value: 0.3953488372093023.\n",
      "[I 2025-08-24 15:49:26,538] Trial 81 finished with value: 0.3953488372093023 and parameters: {'C': 10.650485051078105, 'kernel': 'linear', 'gamma': 'auto'}. Best is trial 13 with value: 0.3953488372093023.\n",
      "[I 2025-08-24 15:49:27,418] Trial 82 finished with value: 0.375 and parameters: {'C': 7.847062180333469, 'kernel': 'linear', 'gamma': 'auto'}. Best is trial 13 with value: 0.3953488372093023.\n",
      "[I 2025-08-24 15:49:27,493] Trial 83 finished with value: 0.23529411764705882 and parameters: {'C': 0.03323539226798514, 'kernel': 'linear', 'gamma': 'auto'}. Best is trial 13 with value: 0.3953488372093023.\n",
      "[I 2025-08-24 15:49:29,378] Trial 84 finished with value: 0.38202247191011235 and parameters: {'C': 16.044263132486112, 'kernel': 'linear', 'gamma': 'auto'}. Best is trial 13 with value: 0.3953488372093023.\n",
      "[I 2025-08-24 15:49:29,677] Trial 85 finished with value: 0.35135135135135137 and parameters: {'C': 2.8305145158584346, 'kernel': 'linear', 'gamma': 'auto'}. Best is trial 13 with value: 0.3953488372093023.\n",
      "[I 2025-08-24 15:49:30,837] Trial 86 finished with value: 0.38636363636363635 and parameters: {'C': 11.638703473741511, 'kernel': 'linear', 'gamma': 'auto'}. Best is trial 13 with value: 0.3953488372093023.\n",
      "[I 2025-08-24 15:49:30,946] Trial 87 finished with value: 0.18556701030927836 and parameters: {'C': 5.025821836403908, 'kernel': 'rbf', 'gamma': 'auto'}. Best is trial 13 with value: 0.3953488372093023.\n",
      "[I 2025-08-24 15:49:33,578] Trial 88 finished with value: 0.3448275862068966 and parameters: {'C': 27.314723727955947, 'kernel': 'linear', 'gamma': 'auto'}. Best is trial 13 with value: 0.3953488372093023.\n",
      "[I 2025-08-24 15:49:33,649] Trial 89 finished with value: 0.17543859649122806 and parameters: {'C': 0.00423551142263499, 'kernel': 'linear', 'gamma': 'auto'}. Best is trial 13 with value: 0.3953488372093023.\n",
      "[I 2025-08-24 15:49:34,864] Trial 90 finished with value: 0.38202247191011235 and parameters: {'C': 13.029367840813919, 'kernel': 'linear', 'gamma': 'scale'}. Best is trial 13 with value: 0.3953488372093023.\n",
      "[I 2025-08-24 15:49:36,643] Trial 91 finished with value: 0.37362637362637363 and parameters: {'C': 18.13828576902044, 'kernel': 'linear', 'gamma': 'auto'}. Best is trial 13 with value: 0.3953488372093023.\n",
      "[I 2025-08-24 15:49:37,321] Trial 92 finished with value: 0.375 and parameters: {'C': 7.904626507809038, 'kernel': 'linear', 'gamma': 'auto'}. Best is trial 13 with value: 0.3953488372093023.\n",
      "[I 2025-08-24 15:49:38,519] Trial 93 finished with value: 0.38202247191011235 and parameters: {'C': 12.177591493295454, 'kernel': 'linear', 'gamma': 'auto'}. Best is trial 13 with value: 0.3953488372093023.\n",
      "[I 2025-08-24 15:49:39,000] Trial 94 finished with value: 0.37333333333333335 and parameters: {'C': 4.619326099897939, 'kernel': 'linear', 'gamma': 'auto'}. Best is trial 13 with value: 0.3953488372093023.\n",
      "[I 2025-08-24 15:49:39,749] Trial 95 finished with value: 0.38461538461538464 and parameters: {'C': 6.3909699477954245, 'kernel': 'linear', 'gamma': 'auto'}. Best is trial 13 with value: 0.3953488372093023.\n",
      "[I 2025-08-24 15:49:42,092] Trial 96 finished with value: 0.35555555555555557 and parameters: {'C': 20.782179191348966, 'kernel': 'linear', 'gamma': 'auto'}. Best is trial 13 with value: 0.3953488372093023.\n",
      "[I 2025-08-24 15:49:43,071] Trial 97 finished with value: 0.3855421686746988 and parameters: {'C': 8.520959052784395, 'kernel': 'linear', 'gamma': 'auto'}. Best is trial 13 with value: 0.3953488372093023.\n",
      "[I 2025-08-24 15:49:44,042] Trial 98 finished with value: 0.38636363636363635 and parameters: {'C': 10.981909590356118, 'kernel': 'linear', 'gamma': 'auto'}. Best is trial 13 with value: 0.3953488372093023.\n",
      "[I 2025-08-24 15:49:44,288] Trial 99 finished with value: 0.1875 and parameters: {'C': 30.564931928526402, 'kernel': 'poly', 'gamma': 'auto', 'degree': 2}. Best is trial 13 with value: 0.3953488372093023.\n",
      "[I 2025-08-24 15:49:44,408] Trial 100 finished with value: 0.22950819672131148 and parameters: {'C': 0.15666106206695227, 'kernel': 'sigmoid', 'gamma': 'auto'}. Best is trial 13 with value: 0.3953488372093023.\n",
      "[I 2025-08-24 15:49:45,435] Trial 101 finished with value: 0.3953488372093023 and parameters: {'C': 10.447893661884224, 'kernel': 'linear', 'gamma': 'auto'}. Best is trial 13 with value: 0.3953488372093023.\n",
      "[I 2025-08-24 15:49:46,534] Trial 102 finished with value: 0.38636363636363635 and parameters: {'C': 11.450609443412029, 'kernel': 'linear', 'gamma': 'auto'}. Best is trial 13 with value: 0.3953488372093023.\n",
      "[I 2025-08-24 15:49:46,984] Trial 103 finished with value: 0.34210526315789475 and parameters: {'C': 4.092720006767494, 'kernel': 'linear', 'gamma': 'auto'}. Best is trial 13 with value: 0.3953488372093023.\n",
      "[I 2025-08-24 15:49:47,617] Trial 104 finished with value: 0.38461538461538464 and parameters: {'C': 6.020035306024914, 'kernel': 'linear', 'gamma': 'auto'}. Best is trial 13 with value: 0.3953488372093023.\n",
      "[I 2025-08-24 15:49:48,924] Trial 105 finished with value: 0.38202247191011235 and parameters: {'C': 12.390903761471108, 'kernel': 'linear', 'gamma': 'auto'}. Best is trial 13 with value: 0.3953488372093023.\n",
      "[I 2025-08-24 15:49:50,467] Trial 106 finished with value: 0.38202247191011235 and parameters: {'C': 16.767819245514993, 'kernel': 'linear', 'gamma': 'auto'}. Best is trial 13 with value: 0.3953488372093023.\n",
      "[I 2025-08-24 15:49:52,538] Trial 107 finished with value: 0.35555555555555557 and parameters: {'C': 23.008534664254313, 'kernel': 'linear', 'gamma': 'auto'}. Best is trial 13 with value: 0.3953488372093023.\n",
      "[I 2025-08-24 15:49:52,648] Trial 108 finished with value: 0.19230769230769232 and parameters: {'C': 11.08322169232426, 'kernel': 'rbf', 'gamma': 'auto'}. Best is trial 13 with value: 0.3953488372093023.\n",
      "[I 2025-08-24 15:49:53,354] Trial 109 finished with value: 0.375 and parameters: {'C': 7.51103039756298, 'kernel': 'linear', 'gamma': 'auto'}. Best is trial 13 with value: 0.3953488372093023.\n",
      "[I 2025-08-24 15:49:54,968] Trial 110 finished with value: 0.38202247191011235 and parameters: {'C': 15.707054954563226, 'kernel': 'linear', 'gamma': 'scale'}. Best is trial 13 with value: 0.3953488372093023.\n",
      "[I 2025-08-24 15:49:55,437] Trial 111 finished with value: 0.38461538461538464 and parameters: {'C': 5.604130910801931, 'kernel': 'linear', 'gamma': 'auto'}. Best is trial 13 with value: 0.3953488372093023.\n",
      "[I 2025-08-24 15:49:53,838] Trial 112 finished with value: 0.3953488372093023 and parameters: {'C': 10.547438933719036, 'kernel': 'linear', 'gamma': 'auto'}. Best is trial 13 with value: 0.3953488372093023.\n",
      "[I 2025-08-24 15:49:55,555] Trial 113 finished with value: 0.37362637362637363 and parameters: {'C': 18.874072816914815, 'kernel': 'linear', 'gamma': 'auto'}. Best is trial 13 with value: 0.3953488372093023.\n",
      "[I 2025-08-24 15:49:56,354] Trial 114 finished with value: 0.3855421686746988 and parameters: {'C': 8.18722732757793, 'kernel': 'linear', 'gamma': 'auto'}. Best is trial 13 with value: 0.3953488372093023.\n",
      "[I 2025-08-24 15:49:59,166] Trial 115 finished with value: 0.32941176470588235 and parameters: {'C': 39.656947521098566, 'kernel': 'linear', 'gamma': 'auto'}. Best is trial 13 with value: 0.3953488372093023.\n",
      "[I 2025-08-24 15:49:59,525] Trial 116 finished with value: 0.35135135135135137 and parameters: {'C': 2.9638351642894563, 'kernel': 'linear', 'gamma': 'auto'}. Best is trial 13 with value: 0.3953488372093023.\n",
      "[I 2025-08-24 15:50:00,530] Trial 117 finished with value: 0.3953488372093023 and parameters: {'C': 10.78149029093198, 'kernel': 'linear', 'gamma': 'auto'}. Best is trial 13 with value: 0.3953488372093023.\n",
      "[I 2025-08-24 15:50:02,058] Trial 118 finished with value: 0.38202247191011235 and parameters: {'C': 14.401992974190872, 'kernel': 'linear', 'gamma': 'auto'}. Best is trial 13 with value: 0.3953488372093023.\n",
      "[I 2025-08-24 15:50:03,971] Trial 119 finished with value: 0.3448275862068966 and parameters: {'C': 30.29536679610704, 'kernel': 'linear', 'gamma': 'auto'}. Best is trial 13 with value: 0.3953488372093023.\n",
      "[I 2025-08-24 15:50:04,683] Trial 120 finished with value: 0.38461538461538464 and parameters: {'C': 6.152568266153552, 'kernel': 'linear', 'gamma': 'auto'}. Best is trial 13 with value: 0.3953488372093023.\n",
      "[I 2025-08-24 15:50:05,782] Trial 121 finished with value: 0.38636363636363635 and parameters: {'C': 11.697247166721995, 'kernel': 'linear', 'gamma': 'auto'}. Best is trial 13 with value: 0.3953488372093023.\n",
      "[I 2025-08-24 15:50:06,570] Trial 122 finished with value: 0.375 and parameters: {'C': 7.312060342347764, 'kernel': 'linear', 'gamma': 'auto'}. Best is trial 13 with value: 0.3953488372093023.\n",
      "[I 2025-08-24 15:50:07,689] Trial 123 finished with value: 0.38636363636363635 and parameters: {'C': 11.04784294613209, 'kernel': 'linear', 'gamma': 'auto'}. Best is trial 13 with value: 0.3953488372093023.\n",
      "[I 2025-08-24 15:50:08,642] Trial 124 finished with value: 0.38636363636363635 and parameters: {'C': 11.272521751535955, 'kernel': 'linear', 'gamma': 'auto'}. Best is trial 13 with value: 0.3953488372093023.\n",
      "[I 2025-08-24 15:50:10,462] Trial 125 finished with value: 0.35555555555555557 and parameters: {'C': 21.651515529866856, 'kernel': 'linear', 'gamma': 'auto'}. Best is trial 13 with value: 0.3953488372093023.\n",
      "[I 2025-08-24 15:50:10,598] Trial 126 finished with value: 0.16666666666666666 and parameters: {'C': 4.866484164466669, 'kernel': 'poly', 'gamma': 'auto', 'degree': 4}. Best is trial 13 with value: 0.3953488372093023.\n",
      "[I 2025-08-24 15:50:12,335] Trial 127 finished with value: 0.38202247191011235 and parameters: {'C': 13.540954292586672, 'kernel': 'linear', 'gamma': 'auto'}. Best is trial 13 with value: 0.3953488372093023.\n",
      "[I 2025-08-24 15:50:12,402] Trial 128 finished with value: 0.25 and parameters: {'C': 52.345553075333896, 'kernel': 'sigmoid', 'gamma': 'auto'}. Best is trial 13 with value: 0.3953488372093023.\n",
      "[I 2025-08-24 15:50:14,221] Trial 129 finished with value: 0.38202247191011235 and parameters: {'C': 17.390127687013077, 'kernel': 'linear', 'gamma': 'auto'}. Best is trial 13 with value: 0.3953488372093023.\n",
      "[I 2025-08-24 15:50:15,275] Trial 130 finished with value: 0.38636363636363635 and parameters: {'C': 10.863225727242085, 'kernel': 'linear', 'gamma': 'scale'}. Best is trial 13 with value: 0.3953488372093023.\n",
      "[I 2025-08-24 15:50:16,291] Trial 131 finished with value: 0.38636363636363635 and parameters: {'C': 11.467046395662395, 'kernel': 'linear', 'gamma': 'auto'}. Best is trial 13 with value: 0.3953488372093023.\n",
      "[I 2025-08-24 15:50:17,148] Trial 132 finished with value: 0.3855421686746988 and parameters: {'C': 8.542271000453974, 'kernel': 'linear', 'gamma': 'auto'}. Best is trial 13 with value: 0.3953488372093023.\n",
      "[I 2025-08-24 15:50:19,097] Trial 133 finished with value: 0.38202247191011235 and parameters: {'C': 14.758110694852462, 'kernel': 'linear', 'gamma': 'auto'}. Best is trial 13 with value: 0.3953488372093023.\n",
      "[I 2025-08-24 15:50:20,184] Trial 134 finished with value: 0.38636363636363635 and parameters: {'C': 11.303795870122265, 'kernel': 'linear', 'gamma': 'auto'}. Best is trial 13 with value: 0.3953488372093023.\n",
      "[I 2025-08-24 15:50:20,819] Trial 135 finished with value: 0.38461538461538464 and parameters: {'C': 6.605086058397274, 'kernel': 'linear', 'gamma': 'auto'}. Best is trial 13 with value: 0.3953488372093023.\n",
      "[I 2025-08-24 15:50:20,930] Trial 136 finished with value: 0.18867924528301888 and parameters: {'C': 22.936804681959355, 'kernel': 'rbf', 'gamma': 'auto'}. Best is trial 13 with value: 0.3953488372093023.\n",
      "[I 2025-08-24 15:50:21,347] Trial 137 finished with value: 0.34210526315789475 and parameters: {'C': 3.957073824575764, 'kernel': 'linear', 'gamma': 'auto'}. Best is trial 13 with value: 0.3953488372093023.\n",
      "[I 2025-08-24 15:50:22,319] Trial 138 finished with value: 0.3855421686746988 and parameters: {'C': 8.959747630568737, 'kernel': 'linear', 'gamma': 'auto'}. Best is trial 13 with value: 0.3953488372093023.\n",
      "[I 2025-08-24 15:50:23,540] Trial 139 finished with value: 0.38202247191011235 and parameters: {'C': 13.029388587680216, 'kernel': 'linear', 'gamma': 'auto'}. Best is trial 13 with value: 0.3953488372093023.\n",
      "[I 2025-08-24 15:50:25,309] Trial 140 finished with value: 0.37362637362637363 and parameters: {'C': 18.95184698151975, 'kernel': 'linear', 'gamma': 'auto'}. Best is trial 13 with value: 0.3953488372093023.\n",
      "[I 2025-08-24 15:50:23,827] Trial 141 finished with value: 0.38636363636363635 and parameters: {'C': 11.24477386765636, 'kernel': 'linear', 'gamma': 'scale'}. Best is trial 13 with value: 0.3953488372093023.\n",
      "[I 2025-08-24 15:50:24,540] Trial 142 finished with value: 0.375 and parameters: {'C': 7.366977362636449, 'kernel': 'linear', 'gamma': 'scale'}. Best is trial 13 with value: 0.3953488372093023.\n",
      "[I 2025-08-24 15:50:25,646] Trial 143 finished with value: 0.3855421686746988 and parameters: {'C': 9.890175661698754, 'kernel': 'linear', 'gamma': 'scale'}. Best is trial 13 with value: 0.3953488372093023.\n",
      "[I 2025-08-24 15:50:25,779] Trial 144 finished with value: 0.23529411764705882 and parameters: {'C': 0.09307214706855367, 'kernel': 'linear', 'gamma': 'scale'}. Best is trial 13 with value: 0.3953488372093023.\n",
      "[I 2025-08-24 15:50:26,269] Trial 145 finished with value: 0.38461538461538464 and parameters: {'C': 5.7153002531949415, 'kernel': 'linear', 'gamma': 'scale'}. Best is trial 13 with value: 0.3953488372093023.\n",
      "[I 2025-08-24 15:50:28,431] Trial 146 finished with value: 0.3448275862068966 and parameters: {'C': 25.75672912444944, 'kernel': 'linear', 'gamma': 'scale'}. Best is trial 13 with value: 0.3953488372093023.\n",
      "[I 2025-08-24 15:50:30,030] Trial 147 finished with value: 0.38202247191011235 and parameters: {'C': 15.560971321031797, 'kernel': 'linear', 'gamma': 'auto'}. Best is trial 13 with value: 0.3953488372093023.\n",
      "[I 2025-08-24 15:50:31,121] Trial 148 finished with value: 0.38636363636363635 and parameters: {'C': 10.87779852674751, 'kernel': 'linear', 'gamma': 'auto'}. Best is trial 13 with value: 0.3953488372093023.\n",
      "[I 2025-08-24 15:50:32,331] Trial 149 finished with value: 0.3855421686746988 and parameters: {'C': 8.49916039218738, 'kernel': 'linear', 'gamma': 'auto'}. Best is trial 13 with value: 0.3953488372093023.\n"
     ]
    }
   ],
   "source": [
    "set_seeds(SEED)\n",
    "study = optuna.create_study(\n",
    "    direction=\"maximize\",\n",
    "    sampler=optuna.samplers.TPESampler(seed=SEED)\n",
    ")\n",
    "study.optimize(objective, n_trials=150)"
   ]
  },
  {
   "cell_type": "code",
   "execution_count": 15,
   "id": "ce6d810f",
   "metadata": {},
   "outputs": [
    {
     "data": {
      "application/vnd.plotly.v1+json": {
       "config": {
        "plotlyServerURL": "https://plot.ly"
       },
       "data": [
        {
         "mode": "markers",
         "name": "Objective Value",
         "type": "scatter",
         "x": [
          0,
          1,
          2,
          3,
          4,
          5,
          6,
          7,
          8,
          9,
          10,
          11,
          12,
          13,
          14,
          15,
          16,
          17,
          18,
          19,
          20,
          21,
          22,
          23,
          24,
          25,
          26,
          27,
          28,
          29,
          30,
          31,
          32,
          33,
          34,
          35,
          36,
          37,
          38,
          39,
          40,
          41,
          42,
          43,
          44,
          45,
          46,
          47,
          48,
          49,
          50,
          51,
          52,
          53,
          54,
          55,
          56,
          57,
          58,
          59,
          60,
          61,
          62,
          63,
          64,
          65,
          66,
          67,
          68,
          69,
          70,
          71,
          72,
          73,
          74,
          75,
          76,
          77,
          78,
          79,
          80,
          81,
          82,
          83,
          84,
          85,
          86,
          87,
          88,
          89,
          90,
          91,
          92,
          93,
          94,
          95,
          96,
          97,
          98,
          99,
          100,
          101,
          102,
          103,
          104,
          105,
          106,
          107,
          108,
          109,
          110,
          111,
          112,
          113,
          114,
          115,
          116,
          117,
          118,
          119,
          120,
          121,
          122,
          123,
          124,
          125,
          126,
          127,
          128,
          129,
          130,
          131,
          132,
          133,
          134,
          135,
          136,
          137,
          138,
          139,
          140,
          141,
          142,
          143,
          144,
          145,
          146,
          147,
          148,
          149
         ],
         "y": [
          0.047619047619047616,
          0.1651376146788991,
          0.16216216216216217,
          0.18181818181818182,
          0.2033898305084746,
          0,
          0.2465753424657534,
          0.04878048780487805,
          0.1651376146788991,
          0.2222222222222222,
          0.38461538461538464,
          0.375,
          0.375,
          0.3953488372093023,
          0.38202247191011235,
          0.23529411764705882,
          0.35555555555555557,
          0.35135135135135137,
          0.35135135135135137,
          0.25,
          0.08571428571428572,
          0.38202247191011235,
          0.38461538461538464,
          0.2898550724637681,
          0.38461538461538464,
          0.32558139534883723,
          0.3013698630136986,
          0.23529411764705882,
          0.18461538461538463,
          0.13861386138613863,
          0.13157894736842105,
          0.38461538461538464,
          0.37333333333333335,
          0.38202247191011235,
          0.32558139534883723,
          0.3142857142857143,
          0.35135135135135137,
          0.11940298507462686,
          0.2571428571428571,
          0.26865671641791045,
          0.16822429906542055,
          0.375,
          0.37333333333333335,
          0.3333333333333333,
          0.38202247191011235,
          0.375,
          0.3013698630136986,
          0.2033898305084746,
          0.17142857142857143,
          0.19148936170212766,
          0.35555555555555557,
          0.38461538461538464,
          0.38461538461538464,
          0.3855421686746988,
          0.35135135135135137,
          0.38202247191011235,
          0.3181818181818182,
          0.10909090909090909,
          0.3855421686746988,
          0.22784810126582278,
          0.2222222222222222,
          0.34210526315789475,
          0.3855421686746988,
          0.38636363636363635,
          0.3855421686746988,
          0.3855421686746988,
          0.3855421686746988,
          0.32558139534883723,
          0.1834862385321101,
          0.38202247191011235,
          0.33707865168539325,
          0.3855421686746988,
          0.38636363636363635,
          0.37362637362637363,
          0.3953488372093023,
          0.38202247191011235,
          0.3287671232876712,
          0.35135135135135137,
          0.38202247191011235,
          0.20588235294117646,
          0.25,
          0.3953488372093023,
          0.375,
          0.23529411764705882,
          0.38202247191011235,
          0.35135135135135137,
          0.38636363636363635,
          0.18556701030927836,
          0.3448275862068966,
          0.17543859649122806,
          0.38202247191011235,
          0.37362637362637363,
          0.375,
          0.38202247191011235,
          0.37333333333333335,
          0.38461538461538464,
          0.35555555555555557,
          0.3855421686746988,
          0.38636363636363635,
          0.1875,
          0.22950819672131148,
          0.3953488372093023,
          0.38636363636363635,
          0.34210526315789475,
          0.38461538461538464,
          0.38202247191011235,
          0.38202247191011235,
          0.35555555555555557,
          0.19230769230769232,
          0.375,
          0.38202247191011235,
          0.38461538461538464,
          0.3953488372093023,
          0.37362637362637363,
          0.3855421686746988,
          0.32941176470588235,
          0.35135135135135137,
          0.3953488372093023,
          0.38202247191011235,
          0.3448275862068966,
          0.38461538461538464,
          0.38636363636363635,
          0.375,
          0.38636363636363635,
          0.38636363636363635,
          0.35555555555555557,
          0.16666666666666666,
          0.38202247191011235,
          0.25,
          0.38202247191011235,
          0.38636363636363635,
          0.38636363636363635,
          0.3855421686746988,
          0.38202247191011235,
          0.38636363636363635,
          0.38461538461538464,
          0.18867924528301888,
          0.34210526315789475,
          0.3855421686746988,
          0.38202247191011235,
          0.37362637362637363,
          0.38636363636363635,
          0.375,
          0.3855421686746988,
          0.23529411764705882,
          0.38461538461538464,
          0.3448275862068966,
          0.38202247191011235,
          0.38636363636363635,
          0.3855421686746988
         ]
        },
        {
         "mode": "lines",
         "name": "Best Value",
         "type": "scatter",
         "x": [
          0,
          1,
          2,
          3,
          4,
          5,
          6,
          7,
          8,
          9,
          10,
          11,
          12,
          13,
          14,
          15,
          16,
          17,
          18,
          19,
          20,
          21,
          22,
          23,
          24,
          25,
          26,
          27,
          28,
          29,
          30,
          31,
          32,
          33,
          34,
          35,
          36,
          37,
          38,
          39,
          40,
          41,
          42,
          43,
          44,
          45,
          46,
          47,
          48,
          49,
          50,
          51,
          52,
          53,
          54,
          55,
          56,
          57,
          58,
          59,
          60,
          61,
          62,
          63,
          64,
          65,
          66,
          67,
          68,
          69,
          70,
          71,
          72,
          73,
          74,
          75,
          76,
          77,
          78,
          79,
          80,
          81,
          82,
          83,
          84,
          85,
          86,
          87,
          88,
          89,
          90,
          91,
          92,
          93,
          94,
          95,
          96,
          97,
          98,
          99,
          100,
          101,
          102,
          103,
          104,
          105,
          106,
          107,
          108,
          109,
          110,
          111,
          112,
          113,
          114,
          115,
          116,
          117,
          118,
          119,
          120,
          121,
          122,
          123,
          124,
          125,
          126,
          127,
          128,
          129,
          130,
          131,
          132,
          133,
          134,
          135,
          136,
          137,
          138,
          139,
          140,
          141,
          142,
          143,
          144,
          145,
          146,
          147,
          148,
          149
         ],
         "y": [
          0.047619047619047616,
          0.1651376146788991,
          0.1651376146788991,
          0.18181818181818182,
          0.2033898305084746,
          0.2033898305084746,
          0.2465753424657534,
          0.2465753424657534,
          0.2465753424657534,
          0.2465753424657534,
          0.38461538461538464,
          0.38461538461538464,
          0.38461538461538464,
          0.3953488372093023,
          0.3953488372093023,
          0.3953488372093023,
          0.3953488372093023,
          0.3953488372093023,
          0.3953488372093023,
          0.3953488372093023,
          0.3953488372093023,
          0.3953488372093023,
          0.3953488372093023,
          0.3953488372093023,
          0.3953488372093023,
          0.3953488372093023,
          0.3953488372093023,
          0.3953488372093023,
          0.3953488372093023,
          0.3953488372093023,
          0.3953488372093023,
          0.3953488372093023,
          0.3953488372093023,
          0.3953488372093023,
          0.3953488372093023,
          0.3953488372093023,
          0.3953488372093023,
          0.3953488372093023,
          0.3953488372093023,
          0.3953488372093023,
          0.3953488372093023,
          0.3953488372093023,
          0.3953488372093023,
          0.3953488372093023,
          0.3953488372093023,
          0.3953488372093023,
          0.3953488372093023,
          0.3953488372093023,
          0.3953488372093023,
          0.3953488372093023,
          0.3953488372093023,
          0.3953488372093023,
          0.3953488372093023,
          0.3953488372093023,
          0.3953488372093023,
          0.3953488372093023,
          0.3953488372093023,
          0.3953488372093023,
          0.3953488372093023,
          0.3953488372093023,
          0.3953488372093023,
          0.3953488372093023,
          0.3953488372093023,
          0.3953488372093023,
          0.3953488372093023,
          0.3953488372093023,
          0.3953488372093023,
          0.3953488372093023,
          0.3953488372093023,
          0.3953488372093023,
          0.3953488372093023,
          0.3953488372093023,
          0.3953488372093023,
          0.3953488372093023,
          0.3953488372093023,
          0.3953488372093023,
          0.3953488372093023,
          0.3953488372093023,
          0.3953488372093023,
          0.3953488372093023,
          0.3953488372093023,
          0.3953488372093023,
          0.3953488372093023,
          0.3953488372093023,
          0.3953488372093023,
          0.3953488372093023,
          0.3953488372093023,
          0.3953488372093023,
          0.3953488372093023,
          0.3953488372093023,
          0.3953488372093023,
          0.3953488372093023,
          0.3953488372093023,
          0.3953488372093023,
          0.3953488372093023,
          0.3953488372093023,
          0.3953488372093023,
          0.3953488372093023,
          0.3953488372093023,
          0.3953488372093023,
          0.3953488372093023,
          0.3953488372093023,
          0.3953488372093023,
          0.3953488372093023,
          0.3953488372093023,
          0.3953488372093023,
          0.3953488372093023,
          0.3953488372093023,
          0.3953488372093023,
          0.3953488372093023,
          0.3953488372093023,
          0.3953488372093023,
          0.3953488372093023,
          0.3953488372093023,
          0.3953488372093023,
          0.3953488372093023,
          0.3953488372093023,
          0.3953488372093023,
          0.3953488372093023,
          0.3953488372093023,
          0.3953488372093023,
          0.3953488372093023,
          0.3953488372093023,
          0.3953488372093023,
          0.3953488372093023,
          0.3953488372093023,
          0.3953488372093023,
          0.3953488372093023,
          0.3953488372093023,
          0.3953488372093023,
          0.3953488372093023,
          0.3953488372093023,
          0.3953488372093023,
          0.3953488372093023,
          0.3953488372093023,
          0.3953488372093023,
          0.3953488372093023,
          0.3953488372093023,
          0.3953488372093023,
          0.3953488372093023,
          0.3953488372093023,
          0.3953488372093023,
          0.3953488372093023,
          0.3953488372093023,
          0.3953488372093023,
          0.3953488372093023,
          0.3953488372093023,
          0.3953488372093023,
          0.3953488372093023,
          0.3953488372093023
         ]
        },
        {
         "marker": {
          "color": "#cccccc"
         },
         "mode": "markers",
         "name": "Infeasible Trial",
         "showlegend": false,
         "type": "scatter",
         "x": [],
         "y": []
        }
       ],
       "layout": {
        "template": {
         "data": {
          "bar": [
           {
            "error_x": {
             "color": "#2a3f5f"
            },
            "error_y": {
             "color": "#2a3f5f"
            },
            "marker": {
             "line": {
              "color": "#E5ECF6",
              "width": 0.5
             },
             "pattern": {
              "fillmode": "overlay",
              "size": 10,
              "solidity": 0.2
             }
            },
            "type": "bar"
           }
          ],
          "barpolar": [
           {
            "marker": {
             "line": {
              "color": "#E5ECF6",
              "width": 0.5
             },
             "pattern": {
              "fillmode": "overlay",
              "size": 10,
              "solidity": 0.2
             }
            },
            "type": "barpolar"
           }
          ],
          "carpet": [
           {
            "aaxis": {
             "endlinecolor": "#2a3f5f",
             "gridcolor": "white",
             "linecolor": "white",
             "minorgridcolor": "white",
             "startlinecolor": "#2a3f5f"
            },
            "baxis": {
             "endlinecolor": "#2a3f5f",
             "gridcolor": "white",
             "linecolor": "white",
             "minorgridcolor": "white",
             "startlinecolor": "#2a3f5f"
            },
            "type": "carpet"
           }
          ],
          "choropleth": [
           {
            "colorbar": {
             "outlinewidth": 0,
             "ticks": ""
            },
            "type": "choropleth"
           }
          ],
          "contour": [
           {
            "colorbar": {
             "outlinewidth": 0,
             "ticks": ""
            },
            "colorscale": [
             [
              0,
              "#0d0887"
             ],
             [
              0.1111111111111111,
              "#46039f"
             ],
             [
              0.2222222222222222,
              "#7201a8"
             ],
             [
              0.3333333333333333,
              "#9c179e"
             ],
             [
              0.4444444444444444,
              "#bd3786"
             ],
             [
              0.5555555555555556,
              "#d8576b"
             ],
             [
              0.6666666666666666,
              "#ed7953"
             ],
             [
              0.7777777777777778,
              "#fb9f3a"
             ],
             [
              0.8888888888888888,
              "#fdca26"
             ],
             [
              1,
              "#f0f921"
             ]
            ],
            "type": "contour"
           }
          ],
          "contourcarpet": [
           {
            "colorbar": {
             "outlinewidth": 0,
             "ticks": ""
            },
            "type": "contourcarpet"
           }
          ],
          "heatmap": [
           {
            "colorbar": {
             "outlinewidth": 0,
             "ticks": ""
            },
            "colorscale": [
             [
              0,
              "#0d0887"
             ],
             [
              0.1111111111111111,
              "#46039f"
             ],
             [
              0.2222222222222222,
              "#7201a8"
             ],
             [
              0.3333333333333333,
              "#9c179e"
             ],
             [
              0.4444444444444444,
              "#bd3786"
             ],
             [
              0.5555555555555556,
              "#d8576b"
             ],
             [
              0.6666666666666666,
              "#ed7953"
             ],
             [
              0.7777777777777778,
              "#fb9f3a"
             ],
             [
              0.8888888888888888,
              "#fdca26"
             ],
             [
              1,
              "#f0f921"
             ]
            ],
            "type": "heatmap"
           }
          ],
          "histogram": [
           {
            "marker": {
             "pattern": {
              "fillmode": "overlay",
              "size": 10,
              "solidity": 0.2
             }
            },
            "type": "histogram"
           }
          ],
          "histogram2d": [
           {
            "colorbar": {
             "outlinewidth": 0,
             "ticks": ""
            },
            "colorscale": [
             [
              0,
              "#0d0887"
             ],
             [
              0.1111111111111111,
              "#46039f"
             ],
             [
              0.2222222222222222,
              "#7201a8"
             ],
             [
              0.3333333333333333,
              "#9c179e"
             ],
             [
              0.4444444444444444,
              "#bd3786"
             ],
             [
              0.5555555555555556,
              "#d8576b"
             ],
             [
              0.6666666666666666,
              "#ed7953"
             ],
             [
              0.7777777777777778,
              "#fb9f3a"
             ],
             [
              0.8888888888888888,
              "#fdca26"
             ],
             [
              1,
              "#f0f921"
             ]
            ],
            "type": "histogram2d"
           }
          ],
          "histogram2dcontour": [
           {
            "colorbar": {
             "outlinewidth": 0,
             "ticks": ""
            },
            "colorscale": [
             [
              0,
              "#0d0887"
             ],
             [
              0.1111111111111111,
              "#46039f"
             ],
             [
              0.2222222222222222,
              "#7201a8"
             ],
             [
              0.3333333333333333,
              "#9c179e"
             ],
             [
              0.4444444444444444,
              "#bd3786"
             ],
             [
              0.5555555555555556,
              "#d8576b"
             ],
             [
              0.6666666666666666,
              "#ed7953"
             ],
             [
              0.7777777777777778,
              "#fb9f3a"
             ],
             [
              0.8888888888888888,
              "#fdca26"
             ],
             [
              1,
              "#f0f921"
             ]
            ],
            "type": "histogram2dcontour"
           }
          ],
          "mesh3d": [
           {
            "colorbar": {
             "outlinewidth": 0,
             "ticks": ""
            },
            "type": "mesh3d"
           }
          ],
          "parcoords": [
           {
            "line": {
             "colorbar": {
              "outlinewidth": 0,
              "ticks": ""
             }
            },
            "type": "parcoords"
           }
          ],
          "pie": [
           {
            "automargin": true,
            "type": "pie"
           }
          ],
          "scatter": [
           {
            "fillpattern": {
             "fillmode": "overlay",
             "size": 10,
             "solidity": 0.2
            },
            "type": "scatter"
           }
          ],
          "scatter3d": [
           {
            "line": {
             "colorbar": {
              "outlinewidth": 0,
              "ticks": ""
             }
            },
            "marker": {
             "colorbar": {
              "outlinewidth": 0,
              "ticks": ""
             }
            },
            "type": "scatter3d"
           }
          ],
          "scattercarpet": [
           {
            "marker": {
             "colorbar": {
              "outlinewidth": 0,
              "ticks": ""
             }
            },
            "type": "scattercarpet"
           }
          ],
          "scattergeo": [
           {
            "marker": {
             "colorbar": {
              "outlinewidth": 0,
              "ticks": ""
             }
            },
            "type": "scattergeo"
           }
          ],
          "scattergl": [
           {
            "marker": {
             "colorbar": {
              "outlinewidth": 0,
              "ticks": ""
             }
            },
            "type": "scattergl"
           }
          ],
          "scattermap": [
           {
            "marker": {
             "colorbar": {
              "outlinewidth": 0,
              "ticks": ""
             }
            },
            "type": "scattermap"
           }
          ],
          "scattermapbox": [
           {
            "marker": {
             "colorbar": {
              "outlinewidth": 0,
              "ticks": ""
             }
            },
            "type": "scattermapbox"
           }
          ],
          "scatterpolar": [
           {
            "marker": {
             "colorbar": {
              "outlinewidth": 0,
              "ticks": ""
             }
            },
            "type": "scatterpolar"
           }
          ],
          "scatterpolargl": [
           {
            "marker": {
             "colorbar": {
              "outlinewidth": 0,
              "ticks": ""
             }
            },
            "type": "scatterpolargl"
           }
          ],
          "scatterternary": [
           {
            "marker": {
             "colorbar": {
              "outlinewidth": 0,
              "ticks": ""
             }
            },
            "type": "scatterternary"
           }
          ],
          "surface": [
           {
            "colorbar": {
             "outlinewidth": 0,
             "ticks": ""
            },
            "colorscale": [
             [
              0,
              "#0d0887"
             ],
             [
              0.1111111111111111,
              "#46039f"
             ],
             [
              0.2222222222222222,
              "#7201a8"
             ],
             [
              0.3333333333333333,
              "#9c179e"
             ],
             [
              0.4444444444444444,
              "#bd3786"
             ],
             [
              0.5555555555555556,
              "#d8576b"
             ],
             [
              0.6666666666666666,
              "#ed7953"
             ],
             [
              0.7777777777777778,
              "#fb9f3a"
             ],
             [
              0.8888888888888888,
              "#fdca26"
             ],
             [
              1,
              "#f0f921"
             ]
            ],
            "type": "surface"
           }
          ],
          "table": [
           {
            "cells": {
             "fill": {
              "color": "#EBF0F8"
             },
             "line": {
              "color": "white"
             }
            },
            "header": {
             "fill": {
              "color": "#C8D4E3"
             },
             "line": {
              "color": "white"
             }
            },
            "type": "table"
           }
          ]
         },
         "layout": {
          "annotationdefaults": {
           "arrowcolor": "#2a3f5f",
           "arrowhead": 0,
           "arrowwidth": 1
          },
          "autotypenumbers": "strict",
          "coloraxis": {
           "colorbar": {
            "outlinewidth": 0,
            "ticks": ""
           }
          },
          "colorscale": {
           "diverging": [
            [
             0,
             "#8e0152"
            ],
            [
             0.1,
             "#c51b7d"
            ],
            [
             0.2,
             "#de77ae"
            ],
            [
             0.3,
             "#f1b6da"
            ],
            [
             0.4,
             "#fde0ef"
            ],
            [
             0.5,
             "#f7f7f7"
            ],
            [
             0.6,
             "#e6f5d0"
            ],
            [
             0.7,
             "#b8e186"
            ],
            [
             0.8,
             "#7fbc41"
            ],
            [
             0.9,
             "#4d9221"
            ],
            [
             1,
             "#276419"
            ]
           ],
           "sequential": [
            [
             0,
             "#0d0887"
            ],
            [
             0.1111111111111111,
             "#46039f"
            ],
            [
             0.2222222222222222,
             "#7201a8"
            ],
            [
             0.3333333333333333,
             "#9c179e"
            ],
            [
             0.4444444444444444,
             "#bd3786"
            ],
            [
             0.5555555555555556,
             "#d8576b"
            ],
            [
             0.6666666666666666,
             "#ed7953"
            ],
            [
             0.7777777777777778,
             "#fb9f3a"
            ],
            [
             0.8888888888888888,
             "#fdca26"
            ],
            [
             1,
             "#f0f921"
            ]
           ],
           "sequentialminus": [
            [
             0,
             "#0d0887"
            ],
            [
             0.1111111111111111,
             "#46039f"
            ],
            [
             0.2222222222222222,
             "#7201a8"
            ],
            [
             0.3333333333333333,
             "#9c179e"
            ],
            [
             0.4444444444444444,
             "#bd3786"
            ],
            [
             0.5555555555555556,
             "#d8576b"
            ],
            [
             0.6666666666666666,
             "#ed7953"
            ],
            [
             0.7777777777777778,
             "#fb9f3a"
            ],
            [
             0.8888888888888888,
             "#fdca26"
            ],
            [
             1,
             "#f0f921"
            ]
           ]
          },
          "colorway": [
           "#636efa",
           "#EF553B",
           "#00cc96",
           "#ab63fa",
           "#FFA15A",
           "#19d3f3",
           "#FF6692",
           "#B6E880",
           "#FF97FF",
           "#FECB52"
          ],
          "font": {
           "color": "#2a3f5f"
          },
          "geo": {
           "bgcolor": "white",
           "lakecolor": "white",
           "landcolor": "#E5ECF6",
           "showlakes": true,
           "showland": true,
           "subunitcolor": "white"
          },
          "hoverlabel": {
           "align": "left"
          },
          "hovermode": "closest",
          "mapbox": {
           "style": "light"
          },
          "paper_bgcolor": "white",
          "plot_bgcolor": "#E5ECF6",
          "polar": {
           "angularaxis": {
            "gridcolor": "white",
            "linecolor": "white",
            "ticks": ""
           },
           "bgcolor": "#E5ECF6",
           "radialaxis": {
            "gridcolor": "white",
            "linecolor": "white",
            "ticks": ""
           }
          },
          "scene": {
           "xaxis": {
            "backgroundcolor": "#E5ECF6",
            "gridcolor": "white",
            "gridwidth": 2,
            "linecolor": "white",
            "showbackground": true,
            "ticks": "",
            "zerolinecolor": "white"
           },
           "yaxis": {
            "backgroundcolor": "#E5ECF6",
            "gridcolor": "white",
            "gridwidth": 2,
            "linecolor": "white",
            "showbackground": true,
            "ticks": "",
            "zerolinecolor": "white"
           },
           "zaxis": {
            "backgroundcolor": "#E5ECF6",
            "gridcolor": "white",
            "gridwidth": 2,
            "linecolor": "white",
            "showbackground": true,
            "ticks": "",
            "zerolinecolor": "white"
           }
          },
          "shapedefaults": {
           "line": {
            "color": "#2a3f5f"
           }
          },
          "ternary": {
           "aaxis": {
            "gridcolor": "white",
            "linecolor": "white",
            "ticks": ""
           },
           "baxis": {
            "gridcolor": "white",
            "linecolor": "white",
            "ticks": ""
           },
           "bgcolor": "#E5ECF6",
           "caxis": {
            "gridcolor": "white",
            "linecolor": "white",
            "ticks": ""
           }
          },
          "title": {
           "x": 0.05
          },
          "xaxis": {
           "automargin": true,
           "gridcolor": "white",
           "linecolor": "white",
           "ticks": "",
           "title": {
            "standoff": 15
           },
           "zerolinecolor": "white",
           "zerolinewidth": 2
          },
          "yaxis": {
           "automargin": true,
           "gridcolor": "white",
           "linecolor": "white",
           "ticks": "",
           "title": {
            "standoff": 15
           },
           "zerolinecolor": "white",
           "zerolinewidth": 2
          }
         }
        },
        "title": {
         "text": "Optimization History Plot"
        },
        "xaxis": {
         "title": {
          "text": "Trial"
         }
        },
        "yaxis": {
         "title": {
          "text": "Objective Value"
         }
        }
       }
      }
     },
     "metadata": {},
     "output_type": "display_data"
    }
   ],
   "source": [
    "# Visualizar el historial de optimización\n",
    "plot_optimization_history(study)"
   ]
  },
  {
   "cell_type": "code",
   "execution_count": 16,
   "id": "23cccbef",
   "metadata": {},
   "outputs": [
    {
     "name": "stdout",
     "output_type": "stream",
     "text": [
      "Mejores hiperparámetros encontrados:\n",
      "{'C': 10.337603131701117, 'kernel': 'linear', 'gamma': 'auto'}\n",
      "Mejor score de f1-score: 0.3953\n"
     ]
    }
   ],
   "source": [
    "print(\"Mejores hiperparámetros encontrados:\")\n",
    "print(study.best_params)\n",
    "print(f\"Mejor score de {SCORE}: {study.best_value:.4f}\")"
   ]
  },
  {
   "cell_type": "code",
   "execution_count": 21,
   "id": "bd17aa41",
   "metadata": {},
   "outputs": [],
   "source": [
    "# Guardar los mejores hiperparámetros y su valor\n",
    "history = []\n",
    "if os.path.exists(\"best_hyperparams.json\"):\n",
    "    try:\n",
    "        with open(\"best_hyperparams.json\", \"r\") as f:\n",
    "            history = json.load(f)\n",
    "    except (json.JSONDecodeError, ValueError):\n",
    "        history = []\n",
    "\n",
    "# Guardar ambos en un solo diccionario\n",
    "history.append({\n",
    "    \"params\": study.best_params,\n",
    "    \"value\": study.best_value\n",
    "})\n",
    "\n",
    "with open(\"best_hyperparams.json\", \"w\") as f:\n",
    "    json.dump(history, f, indent=2)"
   ]
  },
  {
   "cell_type": "markdown",
   "id": "05a38878",
   "metadata": {},
   "source": [
    "CARGAR HIPERPARAMETROS DESDE JSON"
   ]
  },
  {
   "cell_type": "code",
   "execution_count": null,
   "id": "ecbc0dd5",
   "metadata": {},
   "outputs": [],
   "source": [
    "# # Cargar historial de hiperparámetros y valores\n",
    "# with open(\"best_hyperparams.json\", \"r\") as f:\n",
    "#     history = json.load(f)\n",
    "\n",
    "# # Escoger el último (más reciente)\n",
    "# best_params = history[-1][\"params\"]\n",
    "# best_value = history[-1][\"value\"]\n",
    "\n",
    "# # Si quieres ver todos:\n",
    "# for i, entry in enumerate(history):\n",
    "#     print(f\"Hiperparámetros #{i+1}: {entry['params']}, Valor: {entry['value']}\")\n",
    "\n",
    "# # Si quieres escoger uno específico (por índice):\n",
    "# # best_params = history[indice_que_quieras][\"params\"]\n",
    "# # best_value = history[indice_que_quieras][\"value\"]"
   ]
  },
  {
   "cell_type": "code",
   "execution_count": 22,
   "id": "3074106b",
   "metadata": {},
   "outputs": [
    {
     "name": "stdout",
     "output_type": "stream",
     "text": [
      "SVM FINAL trend_changes_score:\n",
      "               precision    recall  f1-score   support\n",
      "\n",
      "       False     0.9295    0.8649    0.8960       259\n",
      "        True     0.3269    0.5000    0.3953        34\n",
      "\n",
      "    accuracy                         0.8225       293\n",
      "   macro avg     0.6282    0.6824    0.6457       293\n",
      "weighted avg     0.8595    0.8225    0.8379       293\n",
      "\n"
     ]
    }
   ],
   "source": [
    "# Entrenar modelo final con los mejores hiperparámetros\n",
    "set_seeds(SEED)\n",
    "best_params = study.best_params\n",
    "final_model = Pipeline([\n",
    "    (\"scaler\", StandardScaler()),\n",
    "    (\"svc\", SVC(\n",
    "        C=best_params[\"C\"],\n",
    "        kernel=best_params[\"kernel\"],\n",
    "        gamma=best_params[\"gamma\"],\n",
    "        degree=best_params.get(\"degree\", 3),\n",
    "        random_state=SEED,\n",
    "        decision_function_shape=\"ovr\"\n",
    "    ))\n",
    "])\n",
    "final_model.fit(X_train, y_train)\n",
    "y_val_pred = final_model.predict(X_val)\n",
    "print(\"SVM FINAL trend_changes_score:\\n\", trend_changes_score(y_val, y_val_pred))"
   ]
  },
  {
   "cell_type": "code",
   "execution_count": 25,
   "id": "0b7d3033",
   "metadata": {},
   "outputs": [
    {
     "name": "stdout",
     "output_type": "stream",
     "text": [
      "SVM Report:\n",
      "               precision    recall  f1-score   support\n",
      "\n",
      "          -1     0.8257    0.9574    0.8867        94\n",
      "           0     0.7241    0.5122    0.6000        41\n",
      "           1     0.9423    0.9245    0.9333       159\n",
      "\n",
      "    accuracy                         0.8776       294\n",
      "   macro avg     0.8307    0.7981    0.8067       294\n",
      "weighted avg     0.8746    0.8776    0.8719       294\n",
      "\n"
     ]
    }
   ],
   "source": [
    "# Reporte completo: precisión, recall y F1 por clase\n",
    "report = classification_report(y_val, y_val_pred, digits=4)\n",
    "print(\"SVM Report:\\n\", report)"
   ]
  },
  {
   "cell_type": "code",
   "execution_count": 26,
   "id": "86342dfc",
   "metadata": {},
   "outputs": [
    {
     "name": "stdout",
     "output_type": "stream",
     "text": [
      "SVM FINAL trend_changes_score:\n",
      "               precision    recall  f1-score   support\n",
      "\n",
      "       False     0.9037    0.7490    0.8191       263\n",
      "        True     0.1316    0.3226    0.1869        31\n",
      "\n",
      "    accuracy                         0.7041       294\n",
      "   macro avg     0.5176    0.5358    0.5030       294\n",
      "weighted avg     0.8223    0.7041    0.7525       294\n",
      "\n"
     ]
    }
   ],
   "source": [
    "y_pred_test = final_model.predict(X_test)\n",
    "print(\"SVM FINAL trend_changes_score:\\n\", trend_changes_score(y_test, y_pred_test))"
   ]
  },
  {
   "cell_type": "code",
   "execution_count": 27,
   "id": "d11e8167",
   "metadata": {},
   "outputs": [
    {
     "name": "stdout",
     "output_type": "stream",
     "text": [
      "SVM FINAL trend_changes_score:\n",
      "               precision    recall  f1-score   support\n",
      "\n",
      "       False     0.1976    0.9202    0.3253       263\n",
      "        True     0.8581    0.1144    0.2019      1110\n",
      "\n",
      "    accuracy                         0.2688      1373\n",
      "   macro avg     0.5278    0.5173    0.2636      1373\n",
      "weighted avg     0.7316    0.2688    0.2255      1373\n",
      "\n"
     ]
    }
   ],
   "source": [
    "y_pred_train = final_model.predict(X_train)\n",
    "print(\"SVM FINAL trend_changes_score:\\n\", trend_changes_score(y_test, y_pred_train))"
   ]
  },
  {
   "cell_type": "code",
   "execution_count": 28,
   "id": "e7999601",
   "metadata": {},
   "outputs": [],
   "source": [
    "# --- Exportar y Comparar Métricas de Modelos (Validación) ---\n",
    "\n",
    "# 1. Definir el nombre del modelo actual y el archivo de salida\n",
    "model_name = 'SVM'\n",
    "output_file = '../../../score_models/model_comparison_metrics.csv'\n",
    "\n",
    "# 2. Calcular el reporte de clasificación estándar\n",
    "# Usamos y_val_m y y_val_pred que están en la misma escala (0,1,2)\n",
    "report_dict = classification_report(y_val, y_val_pred, output_dict=True, zero_division=0)\n",
    "precision = report_dict['macro avg']['precision']\n",
    "recall = report_dict['macro avg']['recall']\n",
    "f1_score = report_dict['macro avg']['f1-score']\n",
    "\n",
    "\n",
    "# 3. Calcular el reporte de cambio de tendencia\n",
    "report = get_trend_changes_report_dict(y_val, y_val_pred)\n",
    "trend_change_precision = report['True']['precision']\n",
    "trend_change_recall = report['True']['recall']\n",
    "trend_change_f1_score = report['True']['f1-score']\n",
    "\n",
    "# 4. Organizar las nuevas métricas\n",
    "new_metrics = {\n",
    "    'precision': precision,\n",
    "    'recall': recall,\n",
    "    'f1_score': f1_score,\n",
    "    'trend_change_precision': trend_change_precision,\n",
    "    'trend_change_recall': trend_change_recall,\n",
    "    'trend_change_f1_score': trend_change_f1_score\n",
    "}\n",
    "\n",
    "# 5. Cargar, actualizar y guardar el DataFrame de comparación\n",
    "try:\n",
    "    # Intentar cargar el archivo existente\n",
    "    comparison_df = pd.read_csv(output_file, index_col='model')\n",
    "    # Si existe, actualizar o añadir la fila para el modelo actual\n",
    "    comparison_df.loc[model_name] = new_metrics\n",
    "except FileNotFoundError:\n",
    "    # Si no existe, crear un DataFrame nuevo directamente con los datos actuales\n",
    "    comparison_df = pd.DataFrame([new_metrics], index=[model_name])\n",
    "\n",
    "# Guardar el DataFrame actualizado en el CSV\n",
    "comparison_df.to_csv(output_file, index_label='model')"
   ]
  }
 ],
 "metadata": {
  "kernelspec": {
   "display_name": "tf_venv2 (3.10.12)",
   "language": "python",
   "name": "python3"
  },
  "language_info": {
   "codemirror_mode": {
    "name": "ipython",
    "version": 3
   },
   "file_extension": ".py",
   "mimetype": "text/x-python",
   "name": "python",
   "nbconvert_exporter": "python",
   "pygments_lexer": "ipython3",
   "version": "3.10.12"
  }
 },
 "nbformat": 4,
 "nbformat_minor": 5
}
