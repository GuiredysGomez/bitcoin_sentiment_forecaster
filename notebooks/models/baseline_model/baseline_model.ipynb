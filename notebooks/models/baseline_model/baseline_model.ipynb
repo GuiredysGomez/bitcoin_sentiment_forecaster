{
 "cells": [
  {
   "cell_type": "code",
   "execution_count": 33,
   "id": "c3de6a88",
   "metadata": {},
   "outputs": [],
   "source": [
    "import os\n",
    "import random\n",
    "import numpy as np\n",
    "import pandas as pd\n",
    "import tensorflow as tf\n",
    "import matplotlib.pyplot as plt\n",
    "from sklearn.metrics import confusion_matrix, classification_report\n",
    "from sklearn.metrics import f1_score"
   ]
  },
  {
   "cell_type": "code",
   "execution_count": null,
   "id": "f80a27ab",
   "metadata": {},
   "outputs": [],
   "source": [
    "test_set = pd.read_csv(\"../../../data/test_set.csv\")\n",
    "# Convertir a numpy arrays\n",
    "x_test = test_set.drop(columns=['target_trend']).values\n",
    "y_test = test_set['target_trend'].values    \n",
    "y_pred = test_set['trend_d0'].values"
   ]
  },
  {
   "cell_type": "code",
   "execution_count": 35,
   "id": "8f6feb52",
   "metadata": {},
   "outputs": [
    {
     "name": "stdout",
     "output_type": "stream",
     "text": [
      "Test:\n",
      "[[50  3  0]\n",
      " [ 3  8  2]\n",
      " [ 0  2 63]]\n",
      "              precision    recall  f1-score   support\n",
      "\n",
      "          -1     0.9434    0.9434    0.9434        53\n",
      "           0     0.6154    0.6154    0.6154        13\n",
      "           1     0.9692    0.9692    0.9692        65\n",
      "\n",
      "    accuracy                         0.9237       131\n",
      "   macro avg     0.8427    0.8427    0.8427       131\n",
      "weighted avg     0.9237    0.9237    0.9237       131\n",
      "\n"
     ]
    }
   ],
   "source": [
    "# Reporte completo: precisión, recall y F1 por clase\n",
    "print(\"Test:\")\n",
    "print(confusion_matrix(y_test, y_pred))\n",
    "print(classification_report(y_test, y_pred, digits=4))"
   ]
  }
 ],
 "metadata": {
  "kernelspec": {
   "display_name": "tf_venv (3.10.12)",
   "language": "python",
   "name": "python3"
  },
  "language_info": {
   "codemirror_mode": {
    "name": "ipython",
    "version": 3
   },
   "file_extension": ".py",
   "mimetype": "text/x-python",
   "name": "python",
   "nbconvert_exporter": "python",
   "pygments_lexer": "ipython3",
   "version": "3.10.12"
  }
 },
 "nbformat": 4,
 "nbformat_minor": 5
}
