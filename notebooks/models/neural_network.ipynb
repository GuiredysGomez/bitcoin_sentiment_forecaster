{
 "cells": [
  {
   "cell_type": "code",
   "execution_count": null,
   "id": "e765f08a",
   "metadata": {},
   "outputs": [],
   "source": [
    "import numpy as np\n",
    "import pandas as pd\n",
    "import tensorflow as tf\n",
    "from tensorflow.keras.models import Sequential\n",
    "from tensorflow.keras.layers import Dense\n",
    "from tensorflow.keras.activations import linear, relu, sigmoid\n",
    "import matplotlib.pyplot as plt"
   ]
  },
  {
   "cell_type": "code",
   "execution_count": 212,
   "id": "5202354d",
   "metadata": {},
   "outputs": [],
   "source": [
    "from sklearn.metrics import classification_report\n"
   ]
  },
  {
   "cell_type": "markdown",
   "id": "42498147",
   "metadata": {},
   "source": [
    "GRAFICO DE LOSS Y ACCURACY"
   ]
  },
  {
   "cell_type": "code",
   "execution_count": 190,
   "id": "f34e99c5",
   "metadata": {},
   "outputs": [],
   "source": [
    "def plot_loss_tf(history):\n",
    "    epochs = range(1, len(history.history['loss']) + 1)\n",
    "\n",
    "    plt.figure(figsize=(10, 4))\n",
    "\n",
    "    # Loss\n",
    "    plt.subplot(1, 2, 1)\n",
    "    plt.plot(epochs, history.history['loss'], 'r-', label='Training Loss')\n",
    "    plt.title('Loss for epoch')\n",
    "    plt.xlabel('Epoch')\n",
    "    plt.ylabel('Loss')\n",
    "    plt.grid(True)\n",
    "    plt.legend()\n",
    "\n",
    "    # Accuracy\n",
    "    plt.subplot(1, 2, 2)\n",
    "    plt.plot(epochs, history.history['accuracy'], 'b-', label='Training Accuracy')\n",
    "    plt.title('Accuracy for epoch')\n",
    "    plt.xlabel('Epoch')\n",
    "    plt.ylabel('Accuracy')\n",
    "    plt.grid(True)\n",
    "    plt.legend()\n",
    "\n",
    "    plt.tight_layout()\n",
    "    plt.show()\n"
   ]
  },
  {
   "cell_type": "code",
   "execution_count": 191,
   "id": "e2779afd",
   "metadata": {},
   "outputs": [],
   "source": [
    "training_set = pd.read_csv(\"../../data/training_set.csv\")\n",
    "test_set = pd.read_csv(\"../../data/test_set.csv\")\n"
   ]
  },
  {
   "cell_type": "code",
   "execution_count": null,
   "id": "59e458de",
   "metadata": {},
   "outputs": [],
   "source": [
    "# Cuantos valores NaN hay\n",
    "training_set.isna().sum().sum()"
   ]
  },
  {
   "cell_type": "code",
   "execution_count": null,
   "id": "47790917",
   "metadata": {},
   "outputs": [],
   "source": [
    "# Cuales filas tienen NaN\n",
    "training_set[training_set.isna().any(axis=1)]\n"
   ]
  },
  {
   "cell_type": "code",
   "execution_count": 192,
   "id": "801d740d",
   "metadata": {},
   "outputs": [],
   "source": [
    "# Eliminar filas con valores NaN\n",
    "training_set.dropna(inplace=True)"
   ]
  },
  {
   "cell_type": "code",
   "execution_count": 193,
   "id": "78ef0fb0",
   "metadata": {},
   "outputs": [],
   "source": [
    "# Asignar las columnas de características (serie temporal)\n",
    "X_train = training_set.iloc[:, 1:51]\n",
    "X_test = test_set.iloc[:, 1:51]\n",
    "# Asignar la columna objetivo (última columna)\n",
    "Y_train = training_set.iloc[:, -1]\n",
    "Y_test = test_set.iloc[:, -1]\n"
   ]
  },
  {
   "cell_type": "markdown",
   "id": "5091b5c0",
   "metadata": {},
   "source": [
    "IMPORTANTE: Hay que sumar a la columna de prediccion porque -1 no funciona en funcion de LOSS"
   ]
  },
  {
   "cell_type": "code",
   "execution_count": null,
   "id": "8bf24a13",
   "metadata": {},
   "outputs": [],
   "source": [
    "Y_train = Y_train + 1\n",
    "Y_test = Y_test + 1\n"
   ]
  },
  {
   "cell_type": "code",
   "execution_count": null,
   "id": "3077c31d",
   "metadata": {},
   "outputs": [],
   "source": [
    "print(np.unique(Y_train))  # debería dar array([0, 1, 2])\n",
    "print(np.unique(Y_test))\n"
   ]
  },
  {
   "cell_type": "code",
   "execution_count": 209,
   "id": "a27e9b32",
   "metadata": {},
   "outputs": [
    {
     "name": "stdout",
     "output_type": "stream",
     "text": [
      "<class 'pandas.core.frame.DataFrame'>\n",
      "Index: 686 entries, 10 to 700\n",
      "Data columns (total 50 columns):\n",
      " #   Column                       Non-Null Count  Dtype  \n",
      "---  ------                       --------------  -----  \n",
      " 0   open_d-4                     686 non-null    float64\n",
      " 1   MA_d-4                       686 non-null    float64\n",
      " 2   RSI_d-4                      686 non-null    float64\n",
      " 3   MACD_d-4                     686 non-null    float64\n",
      " 4   trend_d-4                    686 non-null    float64\n",
      " 5   issue_news_d-4               686 non-null    float64\n",
      " 6   negative_sentiment_news_d-4  686 non-null    float64\n",
      " 7   neutral_sentiment_news_d-4   686 non-null    float64\n",
      " 8   positive_sentiment_news_d-4  686 non-null    float64\n",
      " 9   average_news_d-4             686 non-null    float64\n",
      " 10  open_d-3                     686 non-null    float64\n",
      " 11  MA_d-3                       686 non-null    float64\n",
      " 12  RSI_d-3                      686 non-null    float64\n",
      " 13  MACD_d-3                     686 non-null    float64\n",
      " 14  trend_d-3                    686 non-null    float64\n",
      " 15  issue_news_d-3               686 non-null    float64\n",
      " 16  negative_sentiment_news_d-3  686 non-null    float64\n",
      " 17  neutral_sentiment_news_d-3   686 non-null    float64\n",
      " 18  positive_sentiment_news_d-3  686 non-null    float64\n",
      " 19  average_news_d-3             686 non-null    float64\n",
      " 20  open_d-2                     686 non-null    float64\n",
      " 21  MA_d-2                       686 non-null    float64\n",
      " 22  RSI_d-2                      686 non-null    float64\n",
      " 23  MACD_d-2                     686 non-null    float64\n",
      " 24  trend_d-2                    686 non-null    float64\n",
      " 25  issue_news_d-2               686 non-null    float64\n",
      " 26  negative_sentiment_news_d-2  686 non-null    float64\n",
      " 27  neutral_sentiment_news_d-2   686 non-null    float64\n",
      " 28  positive_sentiment_news_d-2  686 non-null    float64\n",
      " 29  average_news_d-2             686 non-null    float64\n",
      " 30  open_d-1                     686 non-null    float64\n",
      " 31  MA_d-1                       686 non-null    float64\n",
      " 32  RSI_d-1                      686 non-null    float64\n",
      " 33  MACD_d-1                     686 non-null    float64\n",
      " 34  trend_d-1                    686 non-null    float64\n",
      " 35  issue_news_d-1               686 non-null    float64\n",
      " 36  negative_sentiment_news_d-1  686 non-null    float64\n",
      " 37  neutral_sentiment_news_d-1   686 non-null    float64\n",
      " 38  positive_sentiment_news_d-1  686 non-null    float64\n",
      " 39  average_news_d-1             686 non-null    float64\n",
      " 40  open_d0                      686 non-null    float64\n",
      " 41  MA_d0                        686 non-null    float64\n",
      " 42  RSI_d0                       686 non-null    float64\n",
      " 43  MACD_d0                      686 non-null    float64\n",
      " 44  trend_d0                     686 non-null    float64\n",
      " 45  issue_news_d0                686 non-null    float64\n",
      " 46  negative_sentiment_news_d0   686 non-null    float64\n",
      " 47  neutral_sentiment_news_d0    686 non-null    float64\n",
      " 48  positive_sentiment_news_d0   686 non-null    float64\n",
      " 49  average_news_d0              686 non-null    float64\n",
      "dtypes: float64(50)\n",
      "memory usage: 273.3 KB\n",
      "<class 'pandas.core.series.Series'>\n",
      "Index: 686 entries, 10 to 700\n",
      "Series name: target_trend\n",
      "Non-Null Count  Dtype\n",
      "--------------  -----\n",
      "686 non-null    int64\n",
      "dtypes: int64(1)\n",
      "memory usage: 10.7 KB\n"
     ]
    }
   ],
   "source": [
    "X_train.info()\n",
    "Y_train.info()"
   ]
  },
  {
   "cell_type": "markdown",
   "id": "0fa15b2a",
   "metadata": {},
   "source": [
    "Determinacion de la red neuronal"
   ]
  },
  {
   "cell_type": "code",
   "execution_count": 198,
   "id": "f2128f39",
   "metadata": {},
   "outputs": [],
   "source": [
    "tf.random.set_seed(1234) \n",
    "model = Sequential(\n",
    "    [               \n",
    "        tf.keras.Input(shape=(50,)),\n",
    "        Dense(30,activation='relu',name='L1'),\n",
    "        Dense(20,activation='relu',name='L2'),\n",
    "        Dense(10,activation='relu',name='L3'),\n",
    "        Dense(3,activation='linear',name='L4')\n",
    "        \n",
    "    ], name = \"softmax\" \n",
    ")"
   ]
  },
  {
   "cell_type": "code",
   "execution_count": null,
   "id": "c7caa400",
   "metadata": {},
   "outputs": [],
   "source": [
    "model.summary()"
   ]
  },
  {
   "cell_type": "markdown",
   "id": "d0d67ad8",
   "metadata": {},
   "source": [
    "Compilacion y entrenamiento de la red"
   ]
  },
  {
   "cell_type": "code",
   "execution_count": 199,
   "id": "7f72bb46",
   "metadata": {},
   "outputs": [
    {
     "name": "stdout",
     "output_type": "stream",
     "text": [
      "Epoch 1/40\n",
      "\u001b[1m22/22\u001b[0m \u001b[32m━━━━━━━━━━━━━━━━━━━━\u001b[0m\u001b[37m\u001b[0m \u001b[1m4s\u001b[0m 72ms/step - accuracy: 0.3776 - loss: 1983.9395\n",
      "Epoch 2/40\n",
      "\u001b[1m22/22\u001b[0m \u001b[32m━━━━━━━━━━━━━━━━━━━━\u001b[0m\u001b[37m\u001b[0m \u001b[1m0s\u001b[0m 7ms/step - accuracy: 0.5044 - loss: 269.2795\n",
      "Epoch 3/40\n",
      "\u001b[1m22/22\u001b[0m \u001b[32m━━━━━━━━━━━━━━━━━━━━\u001b[0m\u001b[37m\u001b[0m \u001b[1m0s\u001b[0m 7ms/step - accuracy: 0.6079 - loss: 95.6501 \n",
      "Epoch 4/40\n",
      "\u001b[1m22/22\u001b[0m \u001b[32m━━━━━━━━━━━━━━━━━━━━\u001b[0m\u001b[37m\u001b[0m \u001b[1m0s\u001b[0m 7ms/step - accuracy: 0.6458 - loss: 49.6557\n",
      "Epoch 5/40\n",
      "\u001b[1m22/22\u001b[0m \u001b[32m━━━━━━━━━━━━━━━━━━━━\u001b[0m\u001b[37m\u001b[0m \u001b[1m0s\u001b[0m 7ms/step - accuracy: 0.6050 - loss: 50.6202\n",
      "Epoch 6/40\n",
      "\u001b[1m22/22\u001b[0m \u001b[32m━━━━━━━━━━━━━━━━━━━━\u001b[0m\u001b[37m\u001b[0m \u001b[1m0s\u001b[0m 7ms/step - accuracy: 0.6181 - loss: 54.7678\n",
      "Epoch 7/40\n",
      "\u001b[1m22/22\u001b[0m \u001b[32m━━━━━━━━━━━━━━━━━━━━\u001b[0m\u001b[37m\u001b[0m \u001b[1m0s\u001b[0m 7ms/step - accuracy: 0.6224 - loss: 52.7795\n",
      "Epoch 8/40\n",
      "\u001b[1m22/22\u001b[0m \u001b[32m━━━━━━━━━━━━━━━━━━━━\u001b[0m\u001b[37m\u001b[0m \u001b[1m0s\u001b[0m 7ms/step - accuracy: 0.6079 - loss: 64.2586\n",
      "Epoch 9/40\n",
      "\u001b[1m22/22\u001b[0m \u001b[32m━━━━━━━━━━━━━━━━━━━━\u001b[0m\u001b[37m\u001b[0m \u001b[1m0s\u001b[0m 7ms/step - accuracy: 0.6297 - loss: 55.7976\n",
      "Epoch 10/40\n",
      "\u001b[1m22/22\u001b[0m \u001b[32m━━━━━━━━━━━━━━━━━━━━\u001b[0m\u001b[37m\u001b[0m \u001b[1m0s\u001b[0m 7ms/step - accuracy: 0.6429 - loss: 51.6777\n",
      "Epoch 11/40\n",
      "\u001b[1m22/22\u001b[0m \u001b[32m━━━━━━━━━━━━━━━━━━━━\u001b[0m\u001b[37m\u001b[0m \u001b[1m0s\u001b[0m 7ms/step - accuracy: 0.6443 - loss: 48.3854\n",
      "Epoch 12/40\n",
      "\u001b[1m22/22\u001b[0m \u001b[32m━━━━━━━━━━━━━━━━━━━━\u001b[0m\u001b[37m\u001b[0m \u001b[1m0s\u001b[0m 7ms/step - accuracy: 0.6370 - loss: 57.3539\n",
      "Epoch 13/40\n",
      "\u001b[1m22/22\u001b[0m \u001b[32m━━━━━━━━━━━━━━━━━━━━\u001b[0m\u001b[37m\u001b[0m \u001b[1m0s\u001b[0m 7ms/step - accuracy: 0.6239 - loss: 54.7986\n",
      "Epoch 14/40\n",
      "\u001b[1m22/22\u001b[0m \u001b[32m━━━━━━━━━━━━━━━━━━━━\u001b[0m\u001b[37m\u001b[0m \u001b[1m0s\u001b[0m 6ms/step - accuracy: 0.6370 - loss: 52.1366\n",
      "Epoch 15/40\n",
      "\u001b[1m22/22\u001b[0m \u001b[32m━━━━━━━━━━━━━━━━━━━━\u001b[0m\u001b[37m\u001b[0m \u001b[1m0s\u001b[0m 6ms/step - accuracy: 0.6399 - loss: 55.6936\n",
      "Epoch 16/40\n",
      "\u001b[1m22/22\u001b[0m \u001b[32m━━━━━━━━━━━━━━━━━━━━\u001b[0m\u001b[37m\u001b[0m \u001b[1m0s\u001b[0m 7ms/step - accuracy: 0.6370 - loss: 45.5394\n",
      "Epoch 17/40\n",
      "\u001b[1m22/22\u001b[0m \u001b[32m━━━━━━━━━━━━━━━━━━━━\u001b[0m\u001b[37m\u001b[0m \u001b[1m0s\u001b[0m 6ms/step - accuracy: 0.6414 - loss: 47.1236\n",
      "Epoch 18/40\n",
      "\u001b[1m22/22\u001b[0m \u001b[32m━━━━━━━━━━━━━━━━━━━━\u001b[0m\u001b[37m\u001b[0m \u001b[1m0s\u001b[0m 7ms/step - accuracy: 0.6443 - loss: 48.4006\n",
      "Epoch 19/40\n",
      "\u001b[1m22/22\u001b[0m \u001b[32m━━━━━━━━━━━━━━━━━━━━\u001b[0m\u001b[37m\u001b[0m \u001b[1m0s\u001b[0m 7ms/step - accuracy: 0.6356 - loss: 52.5205\n",
      "Epoch 20/40\n",
      "\u001b[1m22/22\u001b[0m \u001b[32m━━━━━━━━━━━━━━━━━━━━\u001b[0m\u001b[37m\u001b[0m \u001b[1m0s\u001b[0m 7ms/step - accuracy: 0.6531 - loss: 48.0972\n",
      "Epoch 21/40\n",
      "\u001b[1m22/22\u001b[0m \u001b[32m━━━━━━━━━━━━━━━━━━━━\u001b[0m\u001b[37m\u001b[0m \u001b[1m0s\u001b[0m 7ms/step - accuracy: 0.6122 - loss: 58.0476\n",
      "Epoch 22/40\n",
      "\u001b[1m22/22\u001b[0m \u001b[32m━━━━━━━━━━━━━━━━━━━━\u001b[0m\u001b[37m\u001b[0m \u001b[1m0s\u001b[0m 7ms/step - accuracy: 0.6589 - loss: 48.0282\n",
      "Epoch 23/40\n",
      "\u001b[1m22/22\u001b[0m \u001b[32m━━━━━━━━━━━━━━━━━━━━\u001b[0m\u001b[37m\u001b[0m \u001b[1m0s\u001b[0m 7ms/step - accuracy: 0.6341 - loss: 48.7715\n",
      "Epoch 24/40\n",
      "\u001b[1m22/22\u001b[0m \u001b[32m━━━━━━━━━━━━━━━━━━━━\u001b[0m\u001b[37m\u001b[0m \u001b[1m0s\u001b[0m 7ms/step - accuracy: 0.6254 - loss: 59.8366\n",
      "Epoch 25/40\n",
      "\u001b[1m22/22\u001b[0m \u001b[32m━━━━━━━━━━━━━━━━━━━━\u001b[0m\u001b[37m\u001b[0m \u001b[1m0s\u001b[0m 7ms/step - accuracy: 0.6560 - loss: 52.7352\n",
      "Epoch 26/40\n",
      "\u001b[1m22/22\u001b[0m \u001b[32m━━━━━━━━━━━━━━━━━━━━\u001b[0m\u001b[37m\u001b[0m \u001b[1m0s\u001b[0m 7ms/step - accuracy: 0.6414 - loss: 55.4204\n",
      "Epoch 27/40\n",
      "\u001b[1m22/22\u001b[0m \u001b[32m━━━━━━━━━━━━━━━━━━━━\u001b[0m\u001b[37m\u001b[0m \u001b[1m0s\u001b[0m 7ms/step - accuracy: 0.6385 - loss: 54.0231\n",
      "Epoch 28/40\n",
      "\u001b[1m22/22\u001b[0m \u001b[32m━━━━━━━━━━━━━━━━━━━━\u001b[0m\u001b[37m\u001b[0m \u001b[1m0s\u001b[0m 7ms/step - accuracy: 0.6458 - loss: 53.3801\n",
      "Epoch 29/40\n",
      "\u001b[1m22/22\u001b[0m \u001b[32m━━━━━━━━━━━━━━━━━━━━\u001b[0m\u001b[37m\u001b[0m \u001b[1m0s\u001b[0m 7ms/step - accuracy: 0.6356 - loss: 49.3648\n",
      "Epoch 30/40\n",
      "\u001b[1m22/22\u001b[0m \u001b[32m━━━━━━━━━━━━━━━━━━━━\u001b[0m\u001b[37m\u001b[0m \u001b[1m0s\u001b[0m 7ms/step - accuracy: 0.6560 - loss: 41.8792\n",
      "Epoch 31/40\n",
      "\u001b[1m22/22\u001b[0m \u001b[32m━━━━━━━━━━━━━━━━━━━━\u001b[0m\u001b[37m\u001b[0m \u001b[1m0s\u001b[0m 7ms/step - accuracy: 0.6662 - loss: 49.6033\n",
      "Epoch 32/40\n",
      "\u001b[1m22/22\u001b[0m \u001b[32m━━━━━━━━━━━━━━━━━━━━\u001b[0m\u001b[37m\u001b[0m \u001b[1m0s\u001b[0m 7ms/step - accuracy: 0.6472 - loss: 48.8897\n",
      "Epoch 33/40\n",
      "\u001b[1m22/22\u001b[0m \u001b[32m━━━━━━━━━━━━━━━━━━━━\u001b[0m\u001b[37m\u001b[0m \u001b[1m0s\u001b[0m 7ms/step - accuracy: 0.6472 - loss: 50.3140\n",
      "Epoch 34/40\n",
      "\u001b[1m22/22\u001b[0m \u001b[32m━━━━━━━━━━━━━━━━━━━━\u001b[0m\u001b[37m\u001b[0m \u001b[1m0s\u001b[0m 7ms/step - accuracy: 0.6618 - loss: 47.6985\n",
      "Epoch 35/40\n",
      "\u001b[1m22/22\u001b[0m \u001b[32m━━━━━━━━━━━━━━━━━━━━\u001b[0m\u001b[37m\u001b[0m \u001b[1m0s\u001b[0m 7ms/step - accuracy: 0.6341 - loss: 51.8404\n",
      "Epoch 36/40\n",
      "\u001b[1m22/22\u001b[0m \u001b[32m━━━━━━━━━━━━━━━━━━━━\u001b[0m\u001b[37m\u001b[0m \u001b[1m0s\u001b[0m 7ms/step - accuracy: 0.6399 - loss: 54.9253\n",
      "Epoch 37/40\n",
      "\u001b[1m22/22\u001b[0m \u001b[32m━━━━━━━━━━━━━━━━━━━━\u001b[0m\u001b[37m\u001b[0m \u001b[1m0s\u001b[0m 7ms/step - accuracy: 0.6764 - loss: 41.6518\n",
      "Epoch 38/40\n",
      "\u001b[1m22/22\u001b[0m \u001b[32m━━━━━━━━━━━━━━━━━━━━\u001b[0m\u001b[37m\u001b[0m \u001b[1m0s\u001b[0m 7ms/step - accuracy: 0.6778 - loss: 39.0030\n",
      "Epoch 39/40\n",
      "\u001b[1m22/22\u001b[0m \u001b[32m━━━━━━━━━━━━━━━━━━━━\u001b[0m\u001b[37m\u001b[0m \u001b[1m0s\u001b[0m 7ms/step - accuracy: 0.6691 - loss: 38.2308\n",
      "Epoch 40/40\n",
      "\u001b[1m22/22\u001b[0m \u001b[32m━━━━━━━━━━━━━━━━━━━━\u001b[0m\u001b[37m\u001b[0m \u001b[1m0s\u001b[0m 7ms/step - accuracy: 0.6341 - loss: 50.5020\n"
     ]
    }
   ],
   "source": [
    "model.compile(\n",
    "    loss=tf.keras.losses.SparseCategoricalCrossentropy(from_logits=True),\n",
    "    optimizer=tf.keras.optimizers.Adam(learning_rate=0.001), # Anterior valor 0.001\n",
    "    metrics=['accuracy']\n",
    ")\n",
    "\n",
    "history = model.fit(\n",
    "    X_train,Y_train,\n",
    "    epochs=40\n",
    ")"
   ]
  },
  {
   "cell_type": "markdown",
   "id": "ca8a3708",
   "metadata": {},
   "source": [
    "Grafica de loss y accuracy por epoch"
   ]
  },
  {
   "cell_type": "code",
   "execution_count": 200,
   "id": "5a60ea70",
   "metadata": {},
   "outputs": [
    {
     "data": {
      "image/png": "[encoded data removed]",
      "text/plain": [
       "<Figure size 1000x400 with 2 Axes>"
      ]
     },
     "metadata": {},
     "output_type": "display_data"
    }
   ],
   "source": [
    "plot_loss_tf(history)"
   ]
  },
  {
   "cell_type": "markdown",
   "id": "ab96b5d2",
   "metadata": {},
   "source": [
    "Evaluacion de Loss y Accuracy en la data_test"
   ]
  },
  {
   "cell_type": "code",
   "execution_count": 206,
   "id": "8dcd1c2f",
   "metadata": {},
   "outputs": [
    {
     "name": "stdout",
     "output_type": "stream",
     "text": [
      "\u001b[1m6/6\u001b[0m \u001b[32m━━━━━━━━━━━━━━━━━━━━\u001b[0m\u001b[37m\u001b[0m \u001b[1m0s\u001b[0m 10ms/step - accuracy: 0.8182 - loss: 50.8250\n",
      "Accuracy en test: 0.8182\n"
     ]
    }
   ],
   "source": [
    "loss, accuracy = model.evaluate(X_test, Y_test)\n",
    "print(f\"Accuracy en test: {accuracy:.4f}\")"
   ]
  },
  {
   "cell_type": "markdown",
   "id": "9152c76f",
   "metadata": {},
   "source": [
    "Visualizar clases: -1 0 1, que ahora es 0 1 2"
   ]
  },
  {
   "cell_type": "code",
   "execution_count": 210,
   "id": "ec07ea94",
   "metadata": {},
   "outputs": [
    {
     "data": {
      "image/png": "[encoded data removed]",
      "text/plain": [
       "<Figure size 640x480 with 1 Axes>"
      ]
     },
     "metadata": {},
     "output_type": "display_data"
    }
   ],
   "source": [
    "# Convertimos a DataFrame para facilitar la visualización\n",
    "train_distribution = pd.Series(Y_train).value_counts(normalize=True)\n",
    "test_distribution = pd.Series(Y_test).value_counts(normalize=True)\n",
    "\n",
    "# Comparar visualmente\n",
    "df = pd.DataFrame({\n",
    "    'Train': train_distribution,\n",
    "    'Test': test_distribution\n",
    "}).fillna(0)\n",
    "\n",
    "df.plot(kind='bar', title='Distribución de Clases')\n",
    "plt.xlabel('Clase')\n",
    "plt.ylabel('Proporción')\n",
    "plt.grid(True)\n",
    "plt.show()\n"
   ]
  },
  {
   "cell_type": "code",
   "execution_count": 236,
   "id": "26c32064",
   "metadata": {},
   "outputs": [
    {
     "data": {
      "text/plain": [
       "0     2\n",
       "1     2\n",
       "2     2\n",
       "3     2\n",
       "4     2\n",
       "5     2\n",
       "6     2\n",
       "7     2\n",
       "8     2\n",
       "9     2\n",
       "10    2\n",
       "11    2\n",
       "12    2\n",
       "13    1\n",
       "14    0\n",
       "15    0\n",
       "16    0\n",
       "17    0\n",
       "18    0\n",
       "19    0\n",
       "Name: target_trend, dtype: int64"
      ]
     },
     "execution_count": 236,
     "metadata": {},
     "output_type": "execute_result"
    }
   ],
   "source": [
    "Y_test.head(20)"
   ]
  },
  {
   "cell_type": "code",
   "execution_count": 237,
   "id": "7b3dbb4e",
   "metadata": {},
   "outputs": [
    {
     "data": {
      "text/plain": [
       "array([2, 2, 2, 2, 2, 0, 2, 2, 0, 2, 2, 2, 2, 0, 0, 0, 0, 0, 0, 0, 0, 0,\n",
       "       0, 0, 0, 0, 0, 0, 0, 2, 2, 2, 2, 2, 0, 0, 0, 0, 0, 0, 0, 2, 2, 2,\n",
       "       2, 2, 2, 2, 2, 2, 2, 2, 2, 0, 0, 2, 2, 0, 0, 0, 0, 0, 0, 0, 0, 0,\n",
       "       0, 0, 0, 0, 0, 0, 2, 0, 0, 0, 0, 2, 0, 0, 2, 0, 0, 0, 0, 0, 0, 0,\n",
       "       0, 0, 2, 1, 0, 0, 0, 0, 0, 0, 0, 0, 0, 0, 0, 1, 2, 2, 0, 2, 2, 2,\n",
       "       2, 2, 2, 2, 0, 0, 0, 0, 0, 0, 0, 0, 0, 0, 0, 0, 0, 0, 2, 0, 2, 2,\n",
       "       2, 2, 2, 2, 2, 2, 2, 2, 2, 2, 2, 2, 2, 2, 2, 2, 2, 2, 0, 2, 2, 2,\n",
       "       2, 2, 2, 2, 2, 2, 2, 2, 2, 2, 2, 2, 2, 2, 2, 2, 2, 2, 2, 2, 0, 0])"
      ]
     },
     "execution_count": 237,
     "metadata": {},
     "output_type": "execute_result"
    }
   ],
   "source": [
    "Y_pred"
   ]
  },
  {
   "cell_type": "markdown",
   "id": "f5ace32b",
   "metadata": {},
   "source": [
    "Prediccion de X_test "
   ]
  },
  {
   "cell_type": "code",
   "execution_count": 231,
   "id": "694c8770",
   "metadata": {},
   "outputs": [
    {
     "name": "stdout",
     "output_type": "stream",
     "text": [
      "\u001b[1m6/6\u001b[0m \u001b[32m━━━━━━━━━━━━━━━━━━━━\u001b[0m\u001b[37m\u001b[0m \u001b[1m0s\u001b[0m 9ms/step \n"
     ]
    }
   ],
   "source": [
    "Y_pred = model.predict(X_test)\n",
    "Y_pred = tf.nn.softmax(Y_pred).numpy()\n",
    "Y_pred = np.argmax(Y_pred, axis=1)\n"
   ]
  },
  {
   "cell_type": "markdown",
   "id": "5d8b83a1",
   "metadata": {},
   "source": [
    "Valores Precision recall f1-score"
   ]
  },
  {
   "cell_type": "code",
   "execution_count": 234,
   "id": "2c5e184e",
   "metadata": {},
   "outputs": [
    {
     "name": "stdout",
     "output_type": "stream",
     "text": [
      "              precision    recall  f1-score   support\n",
      "\n",
      "           0     0.7471    0.9286    0.8280        70\n",
      "           1     0.0000    0.0000    0.0000        17\n",
      "           2     0.9080    0.8876    0.8977        89\n",
      "\n",
      "    accuracy                         0.8182       176\n",
      "   macro avg     0.5517    0.6054    0.5753       176\n",
      "weighted avg     0.7563    0.8182    0.7833       176\n",
      "\n"
     ]
    }
   ],
   "source": [
    "# Reporte completo: precisión, recall y F1 por clase\n",
    "print(classification_report(Y_test, Y_pred, digits=4))\n"
   ]
  }
 ],
 "metadata": {
  "kernelspec": {
   "display_name": "venv (3.13.3)",
   "language": "python",
   "name": "python3"
  },
  "language_info": {
   "codemirror_mode": {
    "name": "ipython",
    "version": 3
   },
   "file_extension": ".py",
   "mimetype": "text/x-python",
   "name": "python",
   "nbconvert_exporter": "python",
   "pygments_lexer": "ipython3",
   "version": "3.13.3"
  }
 },
 "nbformat": 4,
 "nbformat_minor": 5
}
