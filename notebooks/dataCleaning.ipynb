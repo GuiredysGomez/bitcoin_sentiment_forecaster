{
 "cells": [
  {
   "cell_type": "code",
   "execution_count": 27,
   "id": "f0b86026",
   "metadata": {},
   "outputs": [],
   "source": [
    "import pandas as pd\n",
    "import talib\n",
    "import numpy as np\n",
    "import matplotlib.pyplot as plt\n",
    "from scipy.signal import savgol_filter\n",
    "from sklearn.model_selection import train_test_split\n"
   ]
  },
  {
   "cell_type": "code",
   "execution_count": 2,
   "id": "e48765eb",
   "metadata": {},
   "outputs": [],
   "source": [
    "WINDOW_MA = 10\n",
    "WINDOW_RSI = 10\n",
    "SLIDING_WINDOW = 5\n",
    "EPSILON_TOLERANCE = 0.15\n",
    "TRAINING_PCT = 0.8"
   ]
  },
  {
   "cell_type": "markdown",
   "id": "4bd6e3a7",
   "metadata": {},
   "source": [
    "Lectura de archivos"
   ]
  },
  {
   "cell_type": "code",
   "execution_count": 37,
   "id": "567e9954",
   "metadata": {},
   "outputs": [],
   "source": [
    "tweets_df = pd.read_csv(\"../data/tweets_with_sentiment_cryptobert.csv\")\n",
    "price_df = pd.read_csv(\"../data/data_binance.csv\")"
   ]
  },
  {
   "cell_type": "code",
   "execution_count": 38,
   "id": "8767d926",
   "metadata": {},
   "outputs": [
    {
     "data": {
      "text/html": [
       "<div>\n",
       "<style scoped>\n",
       "    .dataframe tbody tr th:only-of-type {\n",
       "        vertical-align: middle;\n",
       "    }\n",
       "\n",
       "    .dataframe tbody tr th {\n",
       "        vertical-align: top;\n",
       "    }\n",
       "\n",
       "    .dataframe thead th {\n",
       "        text-align: right;\n",
       "    }\n",
       "</style>\n",
       "<table border=\"1\" class=\"dataframe\">\n",
       "  <thead>\n",
       "    <tr style=\"text-align: right;\">\n",
       "      <th></th>\n",
       "      <th>Username</th>\n",
       "      <th>Text</th>\n",
       "      <th>Created At</th>\n",
       "      <th>Retweets</th>\n",
       "      <th>Likes</th>\n",
       "      <th>Sentiment</th>\n",
       "      <th>fecha</th>\n",
       "    </tr>\n",
       "  </thead>\n",
       "  <tbody>\n",
       "    <tr>\n",
       "      <th>0</th>\n",
       "      <td>Peter McCormack 🏴‍☠️🇬🇧🇮🇪</td>\n",
       "      <td>Happy New Year to you all.\\n\\nI hope you all h...</td>\n",
       "      <td>2023-01-01 01:49:27+00:00</td>\n",
       "      <td>8.0</td>\n",
       "      <td>450.0</td>\n",
       "      <td>1</td>\n",
       "      <td>2023-01-01</td>\n",
       "    </tr>\n",
       "    <tr>\n",
       "      <th>1</th>\n",
       "      <td>Mohamed A. El-Erian</td>\n",
       "      <td>The notion of an exciting football game means ...</td>\n",
       "      <td>2023-01-01 01:55:27+00:00</td>\n",
       "      <td>3.0</td>\n",
       "      <td>419.0</td>\n",
       "      <td>1</td>\n",
       "      <td>2023-01-01</td>\n",
       "    </tr>\n",
       "    <tr>\n",
       "      <th>2</th>\n",
       "      <td>Jimmy Song (송재준)</td>\n",
       "      <td>10 years ago, I:\\n\\n* Bought more Bitcoin\\n* S...</td>\n",
       "      <td>2023-01-01 06:48:00+00:00</td>\n",
       "      <td>21.0</td>\n",
       "      <td>531.0</td>\n",
       "      <td>1</td>\n",
       "      <td>2023-01-01</td>\n",
       "    </tr>\n",
       "    <tr>\n",
       "      <th>3</th>\n",
       "      <td>Jameson Lopp</td>\n",
       "      <td>Bitcoin average DAILY value change during:\\n20...</td>\n",
       "      <td>2023-01-01 12:50:57+00:00</td>\n",
       "      <td>35.0</td>\n",
       "      <td>231.0</td>\n",
       "      <td>0</td>\n",
       "      <td>2023-01-01</td>\n",
       "    </tr>\n",
       "    <tr>\n",
       "      <th>4</th>\n",
       "      <td>Jameson Lopp</td>\n",
       "      <td>Bitcoin average DAILY value change during:\\n20...</td>\n",
       "      <td>2023-01-01 12:50:57+00:00</td>\n",
       "      <td>35.0</td>\n",
       "      <td>231.0</td>\n",
       "      <td>0</td>\n",
       "      <td>2023-01-01</td>\n",
       "    </tr>\n",
       "  </tbody>\n",
       "</table>\n",
       "</div>"
      ],
      "text/plain": [
       "                   Username  \\\n",
       "0  Peter McCormack 🏴‍☠️🇬🇧🇮🇪   \n",
       "1       Mohamed A. El-Erian   \n",
       "2          Jimmy Song (송재준)   \n",
       "3              Jameson Lopp   \n",
       "4              Jameson Lopp   \n",
       "\n",
       "                                                Text  \\\n",
       "0  Happy New Year to you all.\\n\\nI hope you all h...   \n",
       "1  The notion of an exciting football game means ...   \n",
       "2  10 years ago, I:\\n\\n* Bought more Bitcoin\\n* S...   \n",
       "3  Bitcoin average DAILY value change during:\\n20...   \n",
       "4  Bitcoin average DAILY value change during:\\n20...   \n",
       "\n",
       "                  Created At  Retweets  Likes  Sentiment       fecha  \n",
       "0  2023-01-01 01:49:27+00:00       8.0  450.0          1  2023-01-01  \n",
       "1  2023-01-01 01:55:27+00:00       3.0  419.0          1  2023-01-01  \n",
       "2  2023-01-01 06:48:00+00:00      21.0  531.0          1  2023-01-01  \n",
       "3  2023-01-01 12:50:57+00:00      35.0  231.0          0  2023-01-01  \n",
       "4  2023-01-01 12:50:57+00:00      35.0  231.0          0  2023-01-01  "
      ]
     },
     "execution_count": 38,
     "metadata": {},
     "output_type": "execute_result"
    }
   ],
   "source": [
    "\n",
    "tweets_df['fecha'] = pd.to_datetime(tweets_df['Created At'], errors='coerce')\n",
    "\n",
    "# Asigna dia, mes y año a la nueva columna fecha quitando la hora\n",
    "tweets_df['fecha'] = tweets_df['fecha'].dt.date\n",
    "price_df['fecha'] = pd.to_datetime(price_df['fecha'], errors='coerce')\n",
    "tweets_df.head(5)\n"
   ]
  },
  {
   "cell_type": "code",
   "execution_count": 39,
   "id": "9bbbcb1f",
   "metadata": {},
   "outputs": [],
   "source": [
    "# We count by kind of feeling\n",
    "count_sentiment = tweets_df.groupby(['fecha', 'Sentiment']).size().unstack(fill_value=0)\n",
    "\n",
    "# We recalculate totals and average\n",
    "count_sentiment['numero_noticias'] = count_sentiment.sum(axis=1)\n",
    "count_sentiment['promedio_sentimiento'] = tweets_df.groupby('fecha')['Sentiment'].mean()"
   ]
  },
  {
   "cell_type": "markdown",
   "id": "d95c21c3",
   "metadata": {},
   "source": [
    "Transforma las columnas date en formato datetime.date"
   ]
  },
  {
   "cell_type": "code",
   "execution_count": 40,
   "id": "9d6007b5",
   "metadata": {},
   "outputs": [],
   "source": [
    "price_df['fecha'] = pd.to_datetime(price_df['fecha']).dt.date \n",
    "count_sentiment = count_sentiment.reset_index()  # si 'fecha' está en el índice\n",
    "count_sentiment['fecha'] = pd.to_datetime(count_sentiment['fecha']).dt.date\n",
    "count_sentiment.rename(\n",
    "    columns={\n",
    "        -1:'negative_sentiment_news',\n",
    "        0:'neutral_sentiment_news',\n",
    "        1:'positive_sentiment_news'\n",
    "    },\n",
    "    inplace=True\n",
    ")\n"
   ]
  },
  {
   "cell_type": "markdown",
   "id": "bc86daf6",
   "metadata": {},
   "source": [
    "Realiza la fusión de los dos DataFrames (price_df y conteo_sentimientos) usando la columna fecha como clave\n",
    "\n"
   ]
  },
  {
   "cell_type": "code",
   "execution_count": 41,
   "id": "2df2ff20",
   "metadata": {},
   "outputs": [],
   "source": [
    "# We join by date\n",
    "df_final = price_df.merge(count_sentiment, on='fecha', how='left')"
   ]
  },
  {
   "cell_type": "markdown",
   "id": "6c10434b",
   "metadata": {},
   "source": [
    "CALCULO MEDIA MOVIL CON DERIVADA Y TENDENCIA"
   ]
  },
  {
   "cell_type": "code",
   "execution_count": 42,
   "id": "4b9ec4fd",
   "metadata": {},
   "outputs": [],
   "source": [
    "\n",
    "# We added trend column\n",
    "df_final['media_movil_10d'] = df_final['precio_apertura'].rolling(WINDOW_MA).mean()\n",
    "\n",
    "# PROFE TIPS: la derivada hecha con la funcion diff no es la mejor opcion\n",
    "# revisar otras funciones de derivadas\n",
    "\n",
    "# LISTO CORREGIDO\n",
    "df_final['mm10_smooth'] = savgol_filter(df_final['media_movil_10d'], WINDOW_MA+1, polyorder=2)\n",
    "df_final['derivada_mm10'] = np.gradient(df_final['mm10_smooth'])\n",
    "\n"
   ]
  },
  {
   "cell_type": "code",
   "execution_count": 43,
   "id": "0674c845",
   "metadata": {},
   "outputs": [],
   "source": [
    "epsilon = df_final['derivada_mm10'].std() * EPSILON_TOLERANCE\n",
    "condition_list = [\n",
    "    df_final['derivada_mm10'].isna() | ((df_final['derivada_mm10'] > -epsilon) & (df_final['derivada_mm10'] < epsilon)),\n",
    "    df_final['derivada_mm10'] > 0,\n",
    "    df_final['derivada_mm10'] < 0,\n",
    "]\n",
    "returns_values_list = [0, 1, -1]\n",
    "df_final['tendencia_categorizada'] = np.select(condition_list, returns_values_list, 0)"
   ]
  },
  {
   "cell_type": "code",
   "execution_count": 47,
   "id": "dc26416b",
   "metadata": {},
   "outputs": [
    {
     "data": {
      "image/png": "[encoded data removed]",
      "text/plain": [
       "<Figure size 1200x600 with 1 Axes>"
      ]
     },
     "metadata": {},
     "output_type": "display_data"
    }
   ],
   "source": [
    "# Grafico precio apertura vs media movil 10d\n",
    "df_temp = df_final.copy()\n",
    "df_temp.set_index('fecha', inplace=True)\n",
    "df_temp[['precio_apertura', 'media_movil_10d']].plot(figsize=(12,6), title='Precio Apertura vs Media Móvil 10D', grid=True)\n",
    "plt.ylabel('Price')\n",
    "plt.xlabel('Date')\n",
    "plt.show()\n"
   ]
  },
  {
   "cell_type": "markdown",
   "id": "e05dca54",
   "metadata": {},
   "source": [
    "📈 Indicador RSI (Relative Strength Index)\n",
    "\n",
    "📊 RSI toma valores entre 0 y 100:\n",
    "\n",
    "- (<30) podría indicar sobreventa.\n",
    "- (>70) podría indicar sobrecompra."
   ]
  },
  {
   "cell_type": "code",
   "execution_count": null,
   "id": "dcbd7927",
   "metadata": {},
   "outputs": [],
   "source": [
    "# PROFE TIPS: trata de no usar funciones creadas por ti para los indicadores\n",
    "# LISTO CORREGIDO\n",
    "\n",
    "df_final['RSI_10'] = talib.RSI(df_final['precio_apertura'], WINDOW_RSI)"
   ]
  },
  {
   "cell_type": "markdown",
   "id": "ebcb300f",
   "metadata": {},
   "source": [
    "🔁 Indicador MACD (Moving Average Convergence Divergence)\n"
   ]
  },
  {
   "cell_type": "code",
   "execution_count": null,
   "id": "2751f8dd",
   "metadata": {},
   "outputs": [],
   "source": [
    "# EMA rápida y lenta\n",
    "ema_12 = df_final['precio_apertura'].ewm(span=12, adjust=False).mean()\n",
    "ema_26 = df_final['precio_apertura'].ewm(span=26, adjust=False).mean()\n",
    "\n",
    "# Línea MACD y señal\n",
    "df_final['MACD'] = ema_12 - ema_26\n",
    "df_final['MACD_signal'] = df_final['MACD'].ewm(span=9, adjust=False).mean()"
   ]
  },
  {
   "cell_type": "code",
   "execution_count": null,
   "id": "5681c063",
   "metadata": {},
   "outputs": [],
   "source": [
    "df_final"
   ]
  },
  {
   "cell_type": "markdown",
   "id": "81d94af2",
   "metadata": {},
   "source": [
    "Creación df con indicadores finales"
   ]
  },
  {
   "cell_type": "code",
   "execution_count": null,
   "id": "a18dcd1f",
   "metadata": {},
   "outputs": [],
   "source": [
    "# Selecting final columns\n",
    "df_csv = df_final[['fecha',\n",
    "                    'precio_apertura',\n",
    "                    'media_movil_10d', \n",
    "                    'RSI_10', \n",
    "                    'MACD_signal', \n",
    "                    'tendencia_categorizada', \n",
    "                    'numero_noticias', \n",
    "                    'negative_sentiment_news', \n",
    "                    'neutral_sentiment_news', \n",
    "                    'positive_sentiment_news', \n",
    "                    'promedio_sentimiento']]\n",
    "\n",
    "# We rename columns\n",
    "df_csv.columns = ['date', \n",
    "                  'open',\n",
    "                  'MA',\n",
    "                  'RSI',\n",
    "                  'MACD', \n",
    "                  'trend', \n",
    "                  'issue_news', \n",
    "                  'negative_sentiment_news', \n",
    "                  'neutral_sentiment_news', \n",
    "                  'positive_sentiment_news', \n",
    "                  'average_news']\n",
    "\n"
   ]
  },
  {
   "cell_type": "code",
   "execution_count": null,
   "id": "7ecea9d8",
   "metadata": {},
   "outputs": [],
   "source": [
    "df_final.head(5)"
   ]
  },
  {
   "cell_type": "code",
   "execution_count": null,
   "id": "1720ec7f",
   "metadata": {},
   "outputs": [],
   "source": [
    "df_csv.head(5)"
   ]
  },
  {
   "cell_type": "markdown",
   "id": "2afc8d74",
   "metadata": {},
   "source": [
    "Creación ventana deslizante"
   ]
  },
  {
   "cell_type": "code",
   "execution_count": null,
   "id": "0f9fb488",
   "metadata": {},
   "outputs": [],
   "source": [
    "# Features\n",
    "colums_windows = ['open','MA','RSI','MACD', 'trend', 'issue_news', \n",
    "                    'negative_sentiment_news', 'neutral_sentiment_news', 'positive_sentiment_news', 'average_news']\n",
    "\n",
    "# Lista para almacenar las wind\n",
    "wind = []\n",
    "\n",
    "# Recorremos desde el día 1 hasta len (cantidad de filas del df) - ventana \n",
    "for i in range(len(df_csv) - SLIDING_WINDOW):\n",
    "    # Extraemos las filas de la ventana anterior (días pasados)\n",
    "    segment = df_csv[colums_windows].iloc[i:i+SLIDING_WINDOW]\n",
    "    \n",
    "    # Aplanamos los datos de la ventana en una sola fila\n",
    "    row_wind = segment.values.flatten()\n",
    "\n",
    "    date = df_csv['date'].iloc[i-1 + SLIDING_WINDOW]\n",
    "    #Precio objetivo: el siguiente día después de la ventana\n",
    "    target_trend = df_csv['trend'].iloc[i + SLIDING_WINDOW]\n",
    "\n",
    "    # Se crea la fila con target_date, target_trend y la ventana\n",
    "    wind.append([date] + row_wind.tolist() + [target_trend])\n",
    "    \n",
    "columns_name = ['date']\n",
    "# Generacion de columnas \"open_d1, RS1_d1, open_d2, etc\" de la ventana deslizante\n",
    "\n",
    "\n",
    "x = (np.arange(SLIDING_WINDOW) * -1)[::-1]\n",
    "for i, day in enumerate(x) :\n",
    "    for col in colums_windows:\n",
    "        columns_name.append(f'{col}_d{day}')\n",
    "# Se crea la columna de target\n",
    "columns_name.append('target_trend')\n",
    "\n"
   ]
  },
  {
   "cell_type": "markdown",
   "id": "dfa6cc0b",
   "metadata": {},
   "source": [
    "Exportar csv"
   ]
  },
  {
   "cell_type": "code",
   "execution_count": null,
   "id": "dcb7c84e",
   "metadata": {},
   "outputs": [],
   "source": [
    "# DataFrame final\n",
    "df_sliding_window = pd.DataFrame(wind, columns=columns_name)"
   ]
  },
  {
   "cell_type": "code",
   "execution_count": null,
   "id": "df5342b8",
   "metadata": {},
   "outputs": [],
   "source": [
    "df_sliding_window.head(20)"
   ]
  },
  {
   "cell_type": "markdown",
   "id": "7966d65c",
   "metadata": {},
   "source": [
    "ELIMINAR PRIMERAS 10 FILAS DONDE HAY VALORES NaN POR DATOS INCOMPLETOS PARA LA VENTANA MOVIL DE 10 DIAS"
   ]
  },
  {
   "cell_type": "code",
   "execution_count": null,
   "id": "8972e568",
   "metadata": {},
   "outputs": [],
   "source": [
    "df_sliding_window = df_sliding_window.iloc[10:].reset_index(drop=True)"
   ]
  },
  {
   "cell_type": "markdown",
   "id": "abc18386",
   "metadata": {},
   "source": [
    "COMPROBACION VALORES NaN"
   ]
  },
  {
   "cell_type": "code",
   "execution_count": null,
   "id": "da15cf74",
   "metadata": {},
   "outputs": [],
   "source": [
    "# Cuantos valores NaN hay\n",
    "df_sliding_window.isna().sum().sum()"
   ]
  },
  {
   "cell_type": "code",
   "execution_count": null,
   "id": "d107c22b",
   "metadata": {},
   "outputs": [],
   "source": [
    "# Cuales filas tienen NaN\n",
    "df_sliding_window[df_sliding_window.isna().any(axis=1)]"
   ]
  },
  {
   "cell_type": "markdown",
   "id": "5b49fb2f",
   "metadata": {},
   "source": [
    "EXPORTAR A FINAL_DATA.CSV"
   ]
  },
  {
   "cell_type": "code",
   "execution_count": null,
   "id": "efdea582",
   "metadata": {},
   "outputs": [],
   "source": [
    "# Exportar a CSV\n",
    "df_sliding_window.to_csv('../data/final_data.csv', index=False)"
   ]
  },
  {
   "cell_type": "code",
   "execution_count": null,
   "id": "3429a086",
   "metadata": {},
   "outputs": [],
   "source": [
    "df_sliding_window.head(5)"
   ]
  },
  {
   "cell_type": "markdown",
   "id": "b61d4b4a",
   "metadata": {},
   "source": [
    "EXPORTAR training_set, validation_set y test_set\n"
   ]
  },
  {
   "cell_type": "code",
   "execution_count": null,
   "metadata": {},
   "outputs": [],
   "source": [
    "training_set, temp_set = train_test_split(df_sliding_window, test_size=0.30, shuffle=False)  \n",
    "# 30% para test y validation"
   ]
  },
  {
   "cell_type": "code",
   "execution_count": null,
   "id": "ed3524ce",
   "metadata": {},
   "outputs": [],
   "source": [
    "validation_set, test_set = train_test_split(temp_set, test_size=0.50, shuffle=False)  \n",
    "# 15% para test y 15% para validation"
   ]
  },
  {
   "cell_type": "code",
   "execution_count": null,
   "id": "7bfa057a",
   "metadata": {},
   "outputs": [],
   "source": [
    "df_sliding_window.shape"
   ]
  },
  {
   "cell_type": "code",
   "execution_count": null,
   "id": "0728e03e",
   "metadata": {},
   "outputs": [],
   "source": [
    "training_set.shape"
   ]
  },
  {
   "cell_type": "code",
   "execution_count": null,
   "id": "dc3d73e0",
   "metadata": {},
   "outputs": [],
   "source": [
    "validation_set.shape"
   ]
  },
  {
   "cell_type": "code",
   "execution_count": null,
   "id": "d2770274",
   "metadata": {},
   "outputs": [],
   "source": [
    "test_set.shape"
   ]
  },
  {
   "cell_type": "code",
   "execution_count": null,
   "id": "6cf12725",
   "metadata": {},
   "outputs": [],
   "source": [
    "training_set.to_csv('../data/training_set.csv', index=False)\n",
    "validation_set.to_csv('../data/validation_set.csv', index=False)\n",
    "test_set.to_csv('../data/test_set.csv', index=False)"
   ]
  },
  {
   "cell_type": "code",
   "execution_count": null,
   "id": "a7c7bf2e",
   "metadata": {},
   "outputs": [],
   "source": [
    "#training_set, test_set = df_sliding_window[: int(len(df_sliding_window) * TRAINING_PCT)], df_sliding_window[int(len(df_sliding_window) * TRAINING_PCT):]"
   ]
  }
 ],
 "metadata": {
  "kernelspec": {
   "display_name": "venv (3.13.3)",
   "language": "python",
   "name": "python3"
  },
  "language_info": {
   "codemirror_mode": {
    "name": "ipython",
    "version": 3
   },
   "file_extension": ".py",
   "mimetype": "text/x-python",
   "name": "python",
   "nbconvert_exporter": "python",
   "pygments_lexer": "ipython3",
   "version": "3.13.5"
  }
 },
 "nbformat": 4,
 "nbformat_minor": 5
}
