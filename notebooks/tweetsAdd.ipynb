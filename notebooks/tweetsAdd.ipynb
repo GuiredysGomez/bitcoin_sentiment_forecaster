{
 "cells": [
  {
   "cell_type": "code",
   "execution_count": 1,
   "id": "7ca2b960",
   "metadata": {},
   "outputs": [],
   "source": [
    "import pandas as pd\n",
    "import matplotlib.pyplot as plt"
   ]
  },
  {
   "cell_type": "code",
   "execution_count": 2,
   "id": "0d2fb23d",
   "metadata": {},
   "outputs": [],
   "source": [
    "# Cargar el CSV\n",
    "df1 = pd.read_csv(\"../data/pre_cleaning/tweets_with_sentiment_cryptobert.csv\")\n",
    "df2 = pd.read_csv(\"../data/pre_cleaning/tweets_news_with_sentiment_cryptobert.csv\")\n"
   ]
  },
  {
   "cell_type": "code",
   "execution_count": 3,
   "id": "adbabe6b",
   "metadata": {},
   "outputs": [],
   "source": [
    "combinado = pd.concat([df1, df2], ignore_index=True)"
   ]
  },
  {
   "cell_type": "code",
   "execution_count": 4,
   "id": "433eeda0",
   "metadata": {},
   "outputs": [
    {
     "name": "stdout",
     "output_type": "stream",
     "text": [
      "Created At\n",
      "2020    7450\n",
      "2021    8567\n",
      "2022    9064\n",
      "2023    6854\n",
      "2024    6849\n",
      "2025    5600\n",
      "Name: count, dtype: int64\n"
     ]
    }
   ],
   "source": [
    "df1['Created At'] = pd.to_datetime(df1['Created At'], errors='coerce')\n",
    "print(df1['Created At'].dt.year.value_counts().sort_index())"
   ]
  },
  {
   "cell_type": "code",
   "execution_count": 5,
   "id": "310ec76c",
   "metadata": {},
   "outputs": [
    {
     "name": "stdout",
     "output_type": "stream",
     "text": [
      "Created At\n",
      "2020    107\n",
      "2021    209\n",
      "2022    137\n",
      "Name: count, dtype: int64\n"
     ]
    }
   ],
   "source": [
    "df2['Created At'] = pd.to_datetime(df2['Created At'], errors='coerce')\n",
    "print(df2['Created At'].dt.year.value_counts().sort_index())"
   ]
  },
  {
   "cell_type": "code",
   "execution_count": 6,
   "id": "cb164a53",
   "metadata": {},
   "outputs": [
    {
     "name": "stdout",
     "output_type": "stream",
     "text": [
      "Created At\n",
      "2020    7557\n",
      "2021    8776\n",
      "2022    9201\n",
      "2023    6854\n",
      "2024    6849\n",
      "2025    5600\n",
      "Name: count, dtype: int64\n"
     ]
    }
   ],
   "source": [
    "combinado['Created At'] = pd.to_datetime(combinado['Created At'], errors='coerce')\n",
    "print(combinado['Created At'].dt.year.value_counts().sort_index())"
   ]
  },
  {
   "cell_type": "code",
   "execution_count": 7,
   "id": "8f68b2f6",
   "metadata": {},
   "outputs": [],
   "source": [
    "combinado.to_csv(\"../data/pre_cleaning/tweets_with_sentiment_cryptobert.csv\", index=False)"
   ]
  }
 ],
 "metadata": {
  "kernelspec": {
   "display_name": "tf_venv2 (3.10.12)",
   "language": "python",
   "name": "python3"
  },
  "language_info": {
   "codemirror_mode": {
    "name": "ipython",
    "version": 3
   },
   "file_extension": ".py",
   "mimetype": "text/x-python",
   "name": "python",
   "nbconvert_exporter": "python",
   "pygments_lexer": "ipython3",
   "version": "3.10.12"
  }
 },
 "nbformat": 4,
 "nbformat_minor": 5
}
