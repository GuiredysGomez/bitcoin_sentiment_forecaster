{
 "cells": [
  {
   "cell_type": "code",
   "execution_count": 1,
   "id": "7ca2b960",
   "metadata": {},
   "outputs": [],
   "source": [
    "import pandas as pd\n",
    "import matplotlib.pyplot as plt"
   ]
  },
  {
   "cell_type": "markdown",
   "id": "c5b119e9",
   "metadata": {},
   "source": [
    "Este notebook está diseñado para **combinar y unificar dos archivos de posts con sus sentimientos generados por el LLM** (`posts_with_sentiment_cryptobert.csv` y `posts_news_with_sentiment_cryptobert.csv`) en un solo dataset.  \n",
    "El flujo de trabajo es el siguiente:\n",
    "\n",
    "1. **Carga ambos archivos CSV** desde la carpeta `pre_cleaning`.\n",
    "2. **Concatena los DataFrames** en uno solo, unificando todos los posts.\n",
    "3. **Convierte la columna de fechas** (`Created At`) al formato de fecha y hora en ambos archivos y en el DataFrame combinado.\n",
    "4. **Muestra la cantidad de posts por año** en cada archivo y en el combinado para análisis exploratorio.\n",
    "5. **Guarda el DataFrame combinado** como un nuevo archivo CSV sobrescribiendo o creando `tweets_with_sentiment_cryptobert.csv`.\n",
    "\n",
    "Este proceso asegura que todos los posts con sentimiento estén **unificados, con fechas correctamente formateadas y listos para análisis posteriores**."
   ]
  },
  {
   "cell_type": "code",
   "execution_count": null,
   "id": "0d2fb23d",
   "metadata": {},
   "outputs": [],
   "source": [
    "# Cargar el CSV\n",
    "df1 = pd.read_csv(\"../data/pre_cleaning/posts_with_sentiment_cryptobert.csv\")\n",
    "df2 = pd.read_csv(\"../data/pre_cleaning/posts_news_with_sentiment_cryptobert.csv\")\n"
   ]
  },
  {
   "cell_type": "code",
   "execution_count": 3,
   "id": "adbabe6b",
   "metadata": {},
   "outputs": [],
   "source": [
    "combinado = pd.concat([df1, df2], ignore_index=True)"
   ]
  },
  {
   "cell_type": "code",
   "execution_count": 4,
   "id": "433eeda0",
   "metadata": {},
   "outputs": [
    {
     "name": "stdout",
     "output_type": "stream",
     "text": [
      "Created At\n",
      "2020    7557\n",
      "2021    8776\n",
      "2022    9201\n",
      "2023    6854\n",
      "2024    6849\n",
      "2025    5600\n",
      "Name: count, dtype: int64\n"
     ]
    }
   ],
   "source": [
    "df1['Created At'] = pd.to_datetime(df1['Created At'], errors='coerce')\n",
    "print(df1['Created At'].dt.year.value_counts().sort_index())"
   ]
  },
  {
   "cell_type": "code",
   "execution_count": 5,
   "id": "310ec76c",
   "metadata": {},
   "outputs": [
    {
     "name": "stdout",
     "output_type": "stream",
     "text": [
      "Created At\n",
      "2020    7557\n",
      "2021    8776\n",
      "2022    9201\n",
      "2023    6854\n",
      "2024    6849\n",
      "2025    5600\n",
      "Name: count, dtype: int64\n"
     ]
    }
   ],
   "source": [
    "df2['Created At'] = pd.to_datetime(df2['Created At'], errors='coerce')\n",
    "print(df2['Created At'].dt.year.value_counts().sort_index())"
   ]
  },
  {
   "cell_type": "code",
   "execution_count": 6,
   "id": "cb164a53",
   "metadata": {},
   "outputs": [
    {
     "name": "stdout",
     "output_type": "stream",
     "text": [
      "Created At\n",
      "2020    15114\n",
      "2021    17552\n",
      "2022    18402\n",
      "2023    13708\n",
      "2024    13698\n",
      "2025    11200\n",
      "Name: count, dtype: int64\n"
     ]
    }
   ],
   "source": [
    "combinado['Created At'] = pd.to_datetime(combinado['Created At'], errors='coerce')\n",
    "print(combinado['Created At'].dt.year.value_counts().sort_index())"
   ]
  },
  {
   "cell_type": "code",
   "execution_count": 7,
   "id": "8f68b2f6",
   "metadata": {},
   "outputs": [],
   "source": [
    "combinado.to_csv(\"../data/pre_cleaning/tweets_with_sentiment_cryptobert.csv\", index=False)"
   ]
  }
 ],
 "metadata": {
  "kernelspec": {
   "display_name": "tf_venv2 (3.10.12)",
   "language": "python",
   "name": "python3"
  },
  "language_info": {
   "codemirror_mode": {
    "name": "ipython",
    "version": 3
   },
   "file_extension": ".py",
   "mimetype": "text/x-python",
   "name": "python",
   "nbconvert_exporter": "python",
   "pygments_lexer": "ipython3",
   "version": "3.10.12"
  }
 },
 "nbformat": 4,
 "nbformat_minor": 5
}
