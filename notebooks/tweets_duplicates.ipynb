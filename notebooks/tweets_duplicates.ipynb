{
 "cells": [
  {
   "cell_type": "code",
   "execution_count": 13,
   "id": "8b2446a1",
   "metadata": {},
   "outputs": [],
   "source": [
    "import pandas as pd"
   ]
  },
  {
   "cell_type": "code",
   "execution_count": null,
   "id": "d38dbfbc",
   "metadata": {},
   "outputs": [],
   "source": [
    "# Cargar el archivo CSV\n",
    "df = pd.read_csv(\"../data_extractor/raw_tweets.csv\")\n",
    "# Limpiar nombres de columnas\n",
    "df.columns = df.columns.str.strip()"
   ]
  },
  {
   "cell_type": "code",
   "execution_count": 18,
   "id": "65f3e10d",
   "metadata": {},
   "outputs": [
    {
     "name": "stdout",
     "output_type": "stream",
     "text": [
      "Duplicados antes: 29\n"
     ]
    }
   ],
   "source": [
    "# Mostrar cuántos duplicados hay\n",
    "print(\"Duplicados antes:\", df.duplicated().sum())\n"
   ]
  },
  {
   "cell_type": "code",
   "execution_count": 19,
   "id": "593fec3f",
   "metadata": {},
   "outputs": [
    {
     "name": "stdout",
     "output_type": "stream",
     "text": [
      "Duplicados después: 0\n"
     ]
    }
   ],
   "source": [
    "# Eliminar duplicados\n",
    "df_sin_duplicados = df.drop_duplicates()\n",
    "\n",
    "# Ordenar por la columna 'Username'\n",
    "df_ordenado = df_sin_duplicados.sort_values(by=\"Username\", ascending=True)\n",
    "\n",
    "# Verificar si quedan duplicados\n",
    "print(\"Duplicados después:\", df_ordenado.duplicated().sum())\n"
   ]
  },
  {
   "cell_type": "code",
   "execution_count": null,
   "id": "8b4a2bd3",
   "metadata": {},
   "outputs": [],
   "source": [
    "# Guardar el DataFrame limpio y ordenado\n",
    "df_ordenado.to_csv(\"../data_extractor/raw_tweets.csv\", index=False)"
   ]
  }
 ],
 "metadata": {
  "kernelspec": {
   "display_name": "tf_venv2 (3.10.12)",
   "language": "python",
   "name": "python3"
  },
  "language_info": {
   "codemirror_mode": {
    "name": "ipython",
    "version": 3
   },
   "file_extension": ".py",
   "mimetype": "text/x-python",
   "name": "python",
   "nbconvert_exporter": "python",
   "pygments_lexer": "ipython3",
   "version": "3.10.12"
  }
 },
 "nbformat": 4,
 "nbformat_minor": 5
}
