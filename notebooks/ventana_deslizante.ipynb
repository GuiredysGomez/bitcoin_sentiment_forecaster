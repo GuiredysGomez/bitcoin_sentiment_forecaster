{
 "cells": [
  {
   "cell_type": "code",
   "execution_count": 1,
   "id": "f0b86026",
   "metadata": {},
   "outputs": [],
   "source": [
    "import pandas as pd\n",
    "import numpy as np"
   ]
  },
  {
   "cell_type": "markdown",
   "id": "4bd6e3a7",
   "metadata": {},
   "source": [
    "Lectura de archivos"
   ]
  },
  {
   "cell_type": "code",
   "execution_count": 2,
   "id": "8767d926",
   "metadata": {},
   "outputs": [],
   "source": [
    "df_final = pd.read_csv(\"../data/analisis_completo.csv\")\n",
    "df_final['DATE'] = pd.to_datetime(df_final['DATE'], errors='coerce')\n"
   ]
  },
  {
   "cell_type": "code",
   "execution_count": 3,
   "id": "9bbbcb1f",
   "metadata": {},
   "outputs": [],
   "source": [
    "columnas_ventana = ['OPEN','MA','RSI','MACD', 'TREND', 'NEWS ISSUE', 'NEGATIVE', 'NEUTRAL', 'POSITIVE', 'AVERAGE NEWS']\n",
    "ventana = 5\n",
    "\n",
    "# Lista para almacenar cada ventana\n",
    "ventanas = []\n",
    "\n",
    "# Recorremos las filas necesarias\n",
    "for i in range(len(df_final) - ventana + 1):\n",
    "    # Extraemos las filas de la ventana actual\n",
    "    segmento = df_final[columnas_ventana].iloc[i:i+ventana]\n",
    "    \n",
    "    # Aplanamos los valores para que queden en una sola fila\n",
    "    fila_ventana = segmento.values.flatten()\n",
    "    \n",
    "    # Puedes agregar la fecha del último día como referencia temporal\n",
    "    fecha_objetivo = df_final['DATE'].iloc[i + ventana - 1]\n",
    "    ventanas.append([fecha_objetivo] + fila_ventana.tolist())\n",
    "\n",
    "# Nombres de las columnas generadas\n",
    "nombres_columnas = ['TARGET_DATE']\n",
    "for dia in range(ventana):\n",
    "    for col in columnas_ventana:\n",
    "        nombres_columnas.append(f'{col}_d{dia+1}')\n",
    "\n",
    "# DataFrame final con ventanas\n",
    "df_ventana_deslizante = pd.DataFrame(ventanas, columns=nombres_columnas)\n",
    "\n",
    "df_ventana_deslizante.to_csv('../data/ventana_deslizante.csv', index=False)"
   ]
  },
  {
   "cell_type": "code",
   "execution_count": null,
   "id": "03834b71-f27e-415b-98fb-5ca9c4d8210a",
   "metadata": {},
   "outputs": [],
   "source": []
  }
 ],
 "metadata": {
  "kernelspec": {
   "display_name": "Python 3 (ipykernel)",
   "language": "python",
   "name": "python3"
  },
  "language_info": {
   "codemirror_mode": {
    "name": "ipython",
    "version": 3
   },
   "file_extension": ".py",
   "mimetype": "text/x-python",
   "name": "python",
   "nbconvert_exporter": "python",
   "pygments_lexer": "ipython3",
   "version": "3.13.3"
  }
 },
 "nbformat": 4,
 "nbformat_minor": 5
}
