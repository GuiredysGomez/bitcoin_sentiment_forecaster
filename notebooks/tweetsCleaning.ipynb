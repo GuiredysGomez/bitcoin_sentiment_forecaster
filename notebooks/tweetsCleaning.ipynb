{
 "cells": [
  {
   "cell_type": "markdown",
   "id": "e9c0d12c",
   "metadata": {},
   "source": [
    "Limpieza de datos"
   ]
  },
  {
   "cell_type": "code",
   "execution_count": 1,
   "id": "765451d1",
   "metadata": {},
   "outputs": [],
   "source": [
    "import pandas as pd\n",
    "import matplotlib.pyplot as plt"
   ]
  },
  {
   "cell_type": "code",
   "execution_count": 12,
   "id": "8dba3049",
   "metadata": {},
   "outputs": [],
   "source": [
    "# Cargar el CSV\n",
    "df = pd.read_csv(\"../data/pre_cleaning/tweets_news_with_sentiment_cryptobert.csv\")\n",
    "df['Created At'] = pd.to_datetime(df['Created At'], errors='coerce')\n"
   ]
  },
  {
   "cell_type": "code",
   "execution_count": 13,
   "id": "311fce16",
   "metadata": {},
   "outputs": [
    {
     "data": {
      "text/html": [
       "<div>\n",
       "<style scoped>\n",
       "    .dataframe tbody tr th:only-of-type {\n",
       "        vertical-align: middle;\n",
       "    }\n",
       "\n",
       "    .dataframe tbody tr th {\n",
       "        vertical-align: top;\n",
       "    }\n",
       "\n",
       "    .dataframe thead th {\n",
       "        text-align: right;\n",
       "    }\n",
       "</style>\n",
       "<table border=\"1\" class=\"dataframe\">\n",
       "  <thead>\n",
       "    <tr style=\"text-align: right;\">\n",
       "      <th></th>\n",
       "      <th>Username</th>\n",
       "      <th>Text</th>\n",
       "      <th>Created At</th>\n",
       "      <th>Retweets</th>\n",
       "      <th>Likes</th>\n",
       "      <th>Sentiment</th>\n",
       "    </tr>\n",
       "  </thead>\n",
       "  <tbody>\n",
       "    <tr>\n",
       "      <th>0</th>\n",
       "      <td>Peter McCormack 🏴‍☠️🇬🇧🇮🇪</td>\n",
       "      <td>@MultiBitcoiner @FriarHass @hodl_american @Whi...</td>\n",
       "      <td>2020-03-01 02:50:06+00:00</td>\n",
       "      <td>0</td>\n",
       "      <td>1</td>\n",
       "      <td>1</td>\n",
       "    </tr>\n",
       "    <tr>\n",
       "      <th>1</th>\n",
       "      <td>Peter McCormack 🏴‍☠️🇬🇧🇮🇪</td>\n",
       "      <td>@MultiBitcoiner @FriarHass @hodl_american @Whi...</td>\n",
       "      <td>2020-03-01 02:51:37+00:00</td>\n",
       "      <td>0</td>\n",
       "      <td>0</td>\n",
       "      <td>1</td>\n",
       "    </tr>\n",
       "    <tr>\n",
       "      <th>2</th>\n",
       "      <td>Peter McCormack 🏴‍☠️🇬🇧🇮🇪</td>\n",
       "      <td>@MultiBitcoiner @FriarHass @hodl_american @Whi...</td>\n",
       "      <td>2020-03-01 02:58:21+00:00</td>\n",
       "      <td>0</td>\n",
       "      <td>0</td>\n",
       "      <td>1</td>\n",
       "    </tr>\n",
       "    <tr>\n",
       "      <th>3</th>\n",
       "      <td>Peter McCormack 🏴‍☠️🇬🇧🇮🇪</td>\n",
       "      <td>@MultiBitcoiner @FriarHass @hodl_american @Whi...</td>\n",
       "      <td>2020-03-01 03:00:08+00:00</td>\n",
       "      <td>0</td>\n",
       "      <td>0</td>\n",
       "      <td>1</td>\n",
       "    </tr>\n",
       "    <tr>\n",
       "      <th>4</th>\n",
       "      <td>Peter McCormack 🏴‍☠️🇬🇧🇮🇪</td>\n",
       "      <td>@MultiBitcoiner @FriarHass @hodl_american @Whi...</td>\n",
       "      <td>2020-03-01 03:15:37+00:00</td>\n",
       "      <td>0</td>\n",
       "      <td>0</td>\n",
       "      <td>1</td>\n",
       "    </tr>\n",
       "    <tr>\n",
       "      <th>...</th>\n",
       "      <td>...</td>\n",
       "      <td>...</td>\n",
       "      <td>...</td>\n",
       "      <td>...</td>\n",
       "      <td>...</td>\n",
       "      <td>...</td>\n",
       "    </tr>\n",
       "    <tr>\n",
       "      <th>448</th>\n",
       "      <td>Anthony Pompliano 🌪</td>\n",
       "      <td>We live in a society that values clout over in...</td>\n",
       "      <td>2022-11-01 18:01:26+00:00</td>\n",
       "      <td>121</td>\n",
       "      <td>854</td>\n",
       "      <td>0</td>\n",
       "    </tr>\n",
       "    <tr>\n",
       "      <th>449</th>\n",
       "      <td>Elon Musk</td>\n",
       "      <td>This will also give Twitter a revenue stream t...</td>\n",
       "      <td>2022-11-01 18:03:55+00:00</td>\n",
       "      <td>8711</td>\n",
       "      <td>149173</td>\n",
       "      <td>0</td>\n",
       "    </tr>\n",
       "    <tr>\n",
       "      <th>450</th>\n",
       "      <td>Elon Musk</td>\n",
       "      <td>@Gfilche Absolutely essential. Creators need t...</td>\n",
       "      <td>2022-11-01 18:10:26+00:00</td>\n",
       "      <td>756</td>\n",
       "      <td>12301</td>\n",
       "      <td>0</td>\n",
       "    </tr>\n",
       "    <tr>\n",
       "      <th>451</th>\n",
       "      <td>Elon Musk</td>\n",
       "      <td>There will be a secondary tag below the name f...</td>\n",
       "      <td>2022-11-01 19:31:15+00:00</td>\n",
       "      <td>4628</td>\n",
       "      <td>87570</td>\n",
       "      <td>0</td>\n",
       "    </tr>\n",
       "    <tr>\n",
       "      <th>452</th>\n",
       "      <td>Michael Saylor</td>\n",
       "      <td>Please join the @MicroStrategy management team...</td>\n",
       "      <td>2022-11-01 20:05:43+00:00</td>\n",
       "      <td>168</td>\n",
       "      <td>1025</td>\n",
       "      <td>0</td>\n",
       "    </tr>\n",
       "  </tbody>\n",
       "</table>\n",
       "<p>453 rows × 6 columns</p>\n",
       "</div>"
      ],
      "text/plain": [
       "                     Username  \\\n",
       "0    Peter McCormack 🏴‍☠️🇬🇧🇮🇪   \n",
       "1    Peter McCormack 🏴‍☠️🇬🇧🇮🇪   \n",
       "2    Peter McCormack 🏴‍☠️🇬🇧🇮🇪   \n",
       "3    Peter McCormack 🏴‍☠️🇬🇧🇮🇪   \n",
       "4    Peter McCormack 🏴‍☠️🇬🇧🇮🇪   \n",
       "..                        ...   \n",
       "448       Anthony Pompliano 🌪   \n",
       "449                 Elon Musk   \n",
       "450                 Elon Musk   \n",
       "451                 Elon Musk   \n",
       "452            Michael Saylor   \n",
       "\n",
       "                                                  Text  \\\n",
       "0    @MultiBitcoiner @FriarHass @hodl_american @Whi...   \n",
       "1    @MultiBitcoiner @FriarHass @hodl_american @Whi...   \n",
       "2    @MultiBitcoiner @FriarHass @hodl_american @Whi...   \n",
       "3    @MultiBitcoiner @FriarHass @hodl_american @Whi...   \n",
       "4    @MultiBitcoiner @FriarHass @hodl_american @Whi...   \n",
       "..                                                 ...   \n",
       "448  We live in a society that values clout over in...   \n",
       "449  This will also give Twitter a revenue stream t...   \n",
       "450  @Gfilche Absolutely essential. Creators need t...   \n",
       "451  There will be a secondary tag below the name f...   \n",
       "452  Please join the @MicroStrategy management team...   \n",
       "\n",
       "                   Created At  Retweets   Likes  Sentiment  \n",
       "0   2020-03-01 02:50:06+00:00         0       1          1  \n",
       "1   2020-03-01 02:51:37+00:00         0       0          1  \n",
       "2   2020-03-01 02:58:21+00:00         0       0          1  \n",
       "3   2020-03-01 03:00:08+00:00         0       0          1  \n",
       "4   2020-03-01 03:15:37+00:00         0       0          1  \n",
       "..                        ...       ...     ...        ...  \n",
       "448 2022-11-01 18:01:26+00:00       121     854          0  \n",
       "449 2022-11-01 18:03:55+00:00      8711  149173          0  \n",
       "450 2022-11-01 18:10:26+00:00       756   12301          0  \n",
       "451 2022-11-01 19:31:15+00:00      4628   87570          0  \n",
       "452 2022-11-01 20:05:43+00:00       168    1025          0  \n",
       "\n",
       "[453 rows x 6 columns]"
      ]
     },
     "execution_count": 13,
     "metadata": {},
     "output_type": "execute_result"
    }
   ],
   "source": [
    "df"
   ]
  },
  {
   "cell_type": "markdown",
   "id": "2b86ba1e",
   "metadata": {},
   "source": [
    "Eliminar columna 0 (tweet counts)"
   ]
  },
  {
   "cell_type": "code",
   "execution_count": 5,
   "id": "d295e567",
   "metadata": {},
   "outputs": [],
   "source": [
    "df = df.drop(df.columns[0], axis=1)"
   ]
  },
  {
   "cell_type": "markdown",
   "id": "98d90613",
   "metadata": {},
   "source": [
    "Imprimir columnas"
   ]
  },
  {
   "cell_type": "code",
   "execution_count": 6,
   "id": "2cb238ab",
   "metadata": {},
   "outputs": [
    {
     "name": "stdout",
     "output_type": "stream",
     "text": [
      "Index(['Username', 'Text', 'Created At', 'Retweets', 'Likes', 'Sentiment'], dtype='object')\n"
     ]
    }
   ],
   "source": [
    "print(df.columns)"
   ]
  },
  {
   "cell_type": "markdown",
   "id": "f0f40f99",
   "metadata": {},
   "source": [
    "Contar tweets por año"
   ]
  },
  {
   "cell_type": "code",
   "execution_count": 7,
   "id": "7dab3ac3",
   "metadata": {},
   "outputs": [
    {
     "name": "stdout",
     "output_type": "stream",
     "text": [
      "Created At\n",
      "2020    107\n",
      "2021    209\n",
      "2022    137\n",
      "Name: count, dtype: int64\n"
     ]
    }
   ],
   "source": [
    "print(df['Created At'].dt.year.value_counts().sort_index())"
   ]
  },
  {
   "cell_type": "markdown",
   "id": "b10a499f",
   "metadata": {},
   "source": [
    "Eliminar fechas de años determinados"
   ]
  },
  {
   "cell_type": "code",
   "execution_count": null,
   "id": "b8474bcd",
   "metadata": {},
   "outputs": [],
   "source": [
    "# df = df[~df['Created At'].dt.year.isin([2023])]"
   ]
  },
  {
   "cell_type": "code",
   "execution_count": null,
   "id": "181db97d",
   "metadata": {},
   "outputs": [],
   "source": [
    "# Organizar por fecha ascendente\n",
    "df = df.sort_values(by='Created At', ascending=True)"
   ]
  },
  {
   "cell_type": "markdown",
   "id": "9e740ae4",
   "metadata": {},
   "source": [
    "Guardar el .csv"
   ]
  },
  {
   "cell_type": "code",
   "execution_count": 11,
   "id": "337d41fe",
   "metadata": {},
   "outputs": [],
   "source": [
    "df.to_csv(\"../data/pre_cleaning/tweets_news_with_sentiment_cryptobert.csv\", index=False)"
   ]
  }
 ],
 "metadata": {
  "kernelspec": {
   "display_name": "tf_venv2 (3.10.12)",
   "language": "python",
   "name": "python3"
  },
  "language_info": {
   "codemirror_mode": {
    "name": "ipython",
    "version": 3
   },
   "file_extension": ".py",
   "mimetype": "text/x-python",
   "name": "python",
   "nbconvert_exporter": "python",
   "pygments_lexer": "ipython3",
   "version": "3.10.12"
  }
 },
 "nbformat": 4,
 "nbformat_minor": 5
}
