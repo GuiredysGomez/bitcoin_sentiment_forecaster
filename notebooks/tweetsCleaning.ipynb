{
 "cells": [
  {
   "cell_type": "markdown",
   "id": "e9c0d12c",
   "metadata": {},
   "source": [
    "Limpieza de datos"
   ]
  },
  {
   "cell_type": "code",
   "execution_count": 15,
   "id": "765451d1",
   "metadata": {},
   "outputs": [],
   "source": [
    "import pandas as pd\n",
    "import matplotlib.pyplot as plt"
   ]
  },
  {
   "cell_type": "code",
   "execution_count": 16,
   "id": "8dba3049",
   "metadata": {},
   "outputs": [
    {
     "name": "stderr",
     "output_type": "stream",
     "text": [
      "/tmp/ipykernel_706745/2708209409.py:3: UserWarning: Could not infer format, so each element will be parsed individually, falling back to `dateutil`. To ensure parsing is consistent and as-expected, please specify a format.\n",
      "  df['Created At'] = pd.to_datetime(df['Created At'], errors='coerce')\n"
     ]
    }
   ],
   "source": [
    "# Cargar el CSV\n",
    "df = pd.read_csv(\"../data/pre_cleaning/tweets_news_with_sentiment_cryptobert.csv\")\n",
    "df['Created At'] = pd.to_datetime(df['Created At'], errors='coerce')\n"
   ]
  },
  {
   "cell_type": "code",
   "execution_count": 17,
   "id": "dbbb6126",
   "metadata": {},
   "outputs": [
    {
     "name": "stdout",
     "output_type": "stream",
     "text": [
      "datetime64[ns, UTC]\n"
     ]
    }
   ],
   "source": [
    "print(df['Created At'].dtypes)\n"
   ]
  },
  {
   "cell_type": "code",
   "execution_count": 18,
   "id": "311fce16",
   "metadata": {},
   "outputs": [
    {
     "data": {
      "text/html": [
       "<div>\n",
       "<style scoped>\n",
       "    .dataframe tbody tr th:only-of-type {\n",
       "        vertical-align: middle;\n",
       "    }\n",
       "\n",
       "    .dataframe tbody tr th {\n",
       "        vertical-align: top;\n",
       "    }\n",
       "\n",
       "    .dataframe thead th {\n",
       "        text-align: right;\n",
       "    }\n",
       "</style>\n",
       "<table border=\"1\" class=\"dataframe\">\n",
       "  <thead>\n",
       "    <tr style=\"text-align: right;\">\n",
       "      <th></th>\n",
       "      <th>Tweet_count</th>\n",
       "      <th>Username</th>\n",
       "      <th>Text</th>\n",
       "      <th>Created At</th>\n",
       "      <th>Retweets</th>\n",
       "      <th>Likes</th>\n",
       "      <th>Sentiment</th>\n",
       "    </tr>\n",
       "  </thead>\n",
       "  <tbody>\n",
       "    <tr>\n",
       "      <th>0</th>\n",
       "      <td>10</td>\n",
       "      <td>Adam Back</td>\n",
       "      <td>90% volatility is REALLY high, but #bitcoin's ...</td>\n",
       "      <td>2021-12-31 12:44:18+00:00</td>\n",
       "      <td>15</td>\n",
       "      <td>244</td>\n",
       "      <td>0</td>\n",
       "    </tr>\n",
       "    <tr>\n",
       "      <th>1</th>\n",
       "      <td>9</td>\n",
       "      <td>Adam Back</td>\n",
       "      <td>@noisevault @hernzzzzzz @maxkeiser he's suffer...</td>\n",
       "      <td>2021-12-31 15:47:46+00:00</td>\n",
       "      <td>0</td>\n",
       "      <td>30</td>\n",
       "      <td>0</td>\n",
       "    </tr>\n",
       "    <tr>\n",
       "      <th>2</th>\n",
       "      <td>2</td>\n",
       "      <td>Adam Back</td>\n",
       "      <td>@jmcorgan Capital efficiency would have been b...</td>\n",
       "      <td>2020-12-31 20:11:07+00:00</td>\n",
       "      <td>0</td>\n",
       "      <td>14</td>\n",
       "      <td>1</td>\n",
       "    </tr>\n",
       "    <tr>\n",
       "      <th>3</th>\n",
       "      <td>3</td>\n",
       "      <td>Adam Back</td>\n",
       "      <td>@jonrcrabtree @Veseli_Btc @JackMallers @starkn...</td>\n",
       "      <td>2020-12-31 18:23:09+00:00</td>\n",
       "      <td>0</td>\n",
       "      <td>4</td>\n",
       "      <td>1</td>\n",
       "    </tr>\n",
       "    <tr>\n",
       "      <th>4</th>\n",
       "      <td>4</td>\n",
       "      <td>Adam Back</td>\n",
       "      <td>Thread. ICOs and missold alts held back progre...</td>\n",
       "      <td>2020-12-31 20:00:29+00:00</td>\n",
       "      <td>16</td>\n",
       "      <td>165</td>\n",
       "      <td>1</td>\n",
       "    </tr>\n",
       "    <tr>\n",
       "      <th>...</th>\n",
       "      <td>...</td>\n",
       "      <td>...</td>\n",
       "      <td>...</td>\n",
       "      <td>...</td>\n",
       "      <td>...</td>\n",
       "      <td>...</td>\n",
       "      <td>...</td>\n",
       "    </tr>\n",
       "    <tr>\n",
       "      <th>152</th>\n",
       "      <td>3</td>\n",
       "      <td>nic carter</td>\n",
       "      <td>A short story, by bitcoin twitter. \\n\\n“The</td>\n",
       "      <td>2020-12-31 22:11:35+00:00</td>\n",
       "      <td>2</td>\n",
       "      <td>62</td>\n",
       "      <td>1</td>\n",
       "    </tr>\n",
       "    <tr>\n",
       "      <th>153</th>\n",
       "      <td>2</td>\n",
       "      <td>nic carter</td>\n",
       "      <td>if 2021 is anything like 2020, 2019, 2018, or ...</td>\n",
       "      <td>2020-12-31 17:36:54+00:00</td>\n",
       "      <td>4</td>\n",
       "      <td>140</td>\n",
       "      <td>0</td>\n",
       "    </tr>\n",
       "    <tr>\n",
       "      <th>154</th>\n",
       "      <td>1</td>\n",
       "      <td>nic carter</td>\n",
       "      <td>Bitcoin is a prosperity gospel that actually m...</td>\n",
       "      <td>2020-12-31 01:15:39+00:00</td>\n",
       "      <td>14</td>\n",
       "      <td>237</td>\n",
       "      <td>1</td>\n",
       "    </tr>\n",
       "    <tr>\n",
       "      <th>155</th>\n",
       "      <td>15</td>\n",
       "      <td>nic carter</td>\n",
       "      <td>@RussHarben @clarkmoody https://t.co/RCUYlXIMUh</td>\n",
       "      <td>2020-12-31 23:59:55+00:00</td>\n",
       "      <td>0</td>\n",
       "      <td>1</td>\n",
       "      <td>0</td>\n",
       "    </tr>\n",
       "    <tr>\n",
       "      <th>156</th>\n",
       "      <td>12</td>\n",
       "      <td>nic carter</td>\n",
       "      <td>@jasonklau Christmas is over. It’s bitcoin sea...</td>\n",
       "      <td>2020-12-31 19:40:35+00:00</td>\n",
       "      <td>0</td>\n",
       "      <td>2</td>\n",
       "      <td>1</td>\n",
       "    </tr>\n",
       "  </tbody>\n",
       "</table>\n",
       "<p>157 rows × 7 columns</p>\n",
       "</div>"
      ],
      "text/plain": [
       "     Tweet_count    Username  \\\n",
       "0             10   Adam Back   \n",
       "1              9   Adam Back   \n",
       "2              2   Adam Back   \n",
       "3              3   Adam Back   \n",
       "4              4   Adam Back   \n",
       "..           ...         ...   \n",
       "152            3  nic carter   \n",
       "153            2  nic carter   \n",
       "154            1  nic carter   \n",
       "155           15  nic carter   \n",
       "156           12  nic carter   \n",
       "\n",
       "                                                  Text  \\\n",
       "0    90% volatility is REALLY high, but #bitcoin's ...   \n",
       "1    @noisevault @hernzzzzzz @maxkeiser he's suffer...   \n",
       "2    @jmcorgan Capital efficiency would have been b...   \n",
       "3    @jonrcrabtree @Veseli_Btc @JackMallers @starkn...   \n",
       "4    Thread. ICOs and missold alts held back progre...   \n",
       "..                                                 ...   \n",
       "152        A short story, by bitcoin twitter. \\n\\n“The   \n",
       "153  if 2021 is anything like 2020, 2019, 2018, or ...   \n",
       "154  Bitcoin is a prosperity gospel that actually m...   \n",
       "155    @RussHarben @clarkmoody https://t.co/RCUYlXIMUh   \n",
       "156  @jasonklau Christmas is over. It’s bitcoin sea...   \n",
       "\n",
       "                   Created At  Retweets  Likes  Sentiment  \n",
       "0   2021-12-31 12:44:18+00:00        15    244          0  \n",
       "1   2021-12-31 15:47:46+00:00         0     30          0  \n",
       "2   2020-12-31 20:11:07+00:00         0     14          1  \n",
       "3   2020-12-31 18:23:09+00:00         0      4          1  \n",
       "4   2020-12-31 20:00:29+00:00        16    165          1  \n",
       "..                        ...       ...    ...        ...  \n",
       "152 2020-12-31 22:11:35+00:00         2     62          1  \n",
       "153 2020-12-31 17:36:54+00:00         4    140          0  \n",
       "154 2020-12-31 01:15:39+00:00        14    237          1  \n",
       "155 2020-12-31 23:59:55+00:00         0      1          0  \n",
       "156 2020-12-31 19:40:35+00:00         0      2          1  \n",
       "\n",
       "[157 rows x 7 columns]"
      ]
     },
     "execution_count": 18,
     "metadata": {},
     "output_type": "execute_result"
    }
   ],
   "source": [
    "df"
   ]
  },
  {
   "cell_type": "markdown",
   "id": "2b86ba1e",
   "metadata": {},
   "source": [
    "Eliminar columna 0"
   ]
  },
  {
   "cell_type": "code",
   "execution_count": 19,
   "id": "d295e567",
   "metadata": {},
   "outputs": [],
   "source": [
    "df = df.drop(df.columns[0], axis=1)"
   ]
  },
  {
   "cell_type": "markdown",
   "id": "98d90613",
   "metadata": {},
   "source": [
    "Imprimir columnas"
   ]
  },
  {
   "cell_type": "code",
   "execution_count": 7,
   "id": "2cb238ab",
   "metadata": {},
   "outputs": [
    {
     "name": "stdout",
     "output_type": "stream",
     "text": [
      "Index(['Username', 'Text', 'Created At', 'Retweets', 'Likes', 'Sentiment'], dtype='object')\n"
     ]
    }
   ],
   "source": [
    "print(df.columns)"
   ]
  },
  {
   "cell_type": "markdown",
   "id": "f0f40f99",
   "metadata": {},
   "source": [
    "Contar tweets por año"
   ]
  },
  {
   "cell_type": "code",
   "execution_count": 20,
   "id": "7dab3ac3",
   "metadata": {},
   "outputs": [
    {
     "name": "stdout",
     "output_type": "stream",
     "text": [
      "Created At\n",
      "2020    74\n",
      "2021    62\n",
      "2022    21\n",
      "Name: count, dtype: int64\n"
     ]
    }
   ],
   "source": [
    "print(df['Created At'].dt.year.value_counts().sort_index())"
   ]
  },
  {
   "cell_type": "markdown",
   "id": "b10a499f",
   "metadata": {},
   "source": [
    "Eliminar fechas de años determinados"
   ]
  },
  {
   "cell_type": "code",
   "execution_count": 9,
   "id": "b8474bcd",
   "metadata": {},
   "outputs": [],
   "source": [
    "df = df[~df['Created At'].dt.year.isin([2023])]"
   ]
  },
  {
   "cell_type": "code",
   "execution_count": 21,
   "id": "181db97d",
   "metadata": {},
   "outputs": [],
   "source": [
    "df = df.sort_values(by='Created At', ascending=True)"
   ]
  },
  {
   "cell_type": "markdown",
   "id": "9e740ae4",
   "metadata": {},
   "source": [
    "Guardar el .csv"
   ]
  },
  {
   "cell_type": "code",
   "execution_count": 22,
   "id": "337d41fe",
   "metadata": {},
   "outputs": [],
   "source": [
    "df.to_csv(\"../data/pre_cleaning/tweets_news_with_sentiment_cryptobert.csv\", index=False)"
   ]
  }
 ],
 "metadata": {
  "kernelspec": {
   "display_name": "tf_venv2 (3.10.12)",
   "language": "python",
   "name": "python3"
  },
  "language_info": {
   "codemirror_mode": {
    "name": "ipython",
    "version": 3
   },
   "file_extension": ".py",
   "mimetype": "text/x-python",
   "name": "python",
   "nbconvert_exporter": "python",
   "pygments_lexer": "ipython3",
   "version": "3.10.12"
  }
 },
 "nbformat": 4,
 "nbformat_minor": 5
}
