{
 "cells": [
  {
   "cell_type": "markdown",
   "id": "e9c0d12c",
   "metadata": {},
   "source": [
    "Limpieza de datos"
   ]
  },
  {
   "cell_type": "code",
   "execution_count": 27,
   "id": "765451d1",
   "metadata": {},
   "outputs": [],
   "source": [
    "import pandas as pd\n",
    "import matplotlib.pyplot as plt"
   ]
  },
  {
   "cell_type": "code",
   "execution_count": 28,
   "id": "8dba3049",
   "metadata": {},
   "outputs": [],
   "source": [
    "# Cargar el CSV\n",
    "df = pd.read_csv(\"../data/tweets_with_sentiment_cryptobert.csv\")\n",
    "df['Created At'] = pd.to_datetime(df['Created At'], errors='coerce')\n"
   ]
  },
  {
   "cell_type": "code",
   "execution_count": 3,
   "id": "dbbb6126",
   "metadata": {},
   "outputs": [
    {
     "name": "stdout",
     "output_type": "stream",
     "text": [
      "datetime64[ns, UTC]\n"
     ]
    }
   ],
   "source": [
    "print(df['Created At'].dtypes)\n"
   ]
  },
  {
   "cell_type": "markdown",
   "id": "2b86ba1e",
   "metadata": {},
   "source": [
    "Eliminar columna 0"
   ]
  },
  {
   "cell_type": "code",
   "execution_count": 23,
   "id": "d295e567",
   "metadata": {},
   "outputs": [],
   "source": [
    "df = df.drop(df.columns[0], axis=1)"
   ]
  },
  {
   "cell_type": "markdown",
   "id": "98d90613",
   "metadata": {},
   "source": [
    "Imprimir columnas"
   ]
  },
  {
   "cell_type": "code",
   "execution_count": 24,
   "id": "2cb238ab",
   "metadata": {},
   "outputs": [
    {
     "name": "stdout",
     "output_type": "stream",
     "text": [
      "Index(['Username', 'Text', 'Created At', 'Retweets', 'Likes', 'Sentiment'], dtype='object')\n"
     ]
    }
   ],
   "source": [
    "print(df.columns)"
   ]
  },
  {
   "cell_type": "markdown",
   "id": "f0f40f99",
   "metadata": {},
   "source": [
    "Contar tweets por año"
   ]
  },
  {
   "cell_type": "code",
   "execution_count": 29,
   "id": "7dab3ac3",
   "metadata": {},
   "outputs": [
    {
     "name": "stdout",
     "output_type": "stream",
     "text": [
      "Created At\n",
      "2023    6817\n",
      "2024    6849\n",
      "2025    5600\n",
      "Name: count, dtype: int64\n"
     ]
    }
   ],
   "source": [
    "print(df['Created At'].dt.year.value_counts().sort_index())"
   ]
  },
  {
   "cell_type": "markdown",
   "id": "b10a499f",
   "metadata": {},
   "source": [
    "Eliminar fechas anteriores a 2023"
   ]
  },
  {
   "cell_type": "code",
   "execution_count": 6,
   "id": "b8474bcd",
   "metadata": {},
   "outputs": [],
   "source": [
    "df = df[~df['Created At'].dt.year.isin([2018, 2019, 2020, 2021, 2022])]"
   ]
  },
  {
   "cell_type": "code",
   "execution_count": 30,
   "id": "181db97d",
   "metadata": {},
   "outputs": [],
   "source": [
    "df = df.sort_values(by='Created At', ascending=True)"
   ]
  },
  {
   "cell_type": "markdown",
   "id": "9e740ae4",
   "metadata": {},
   "source": [
    "Guardar el .csv"
   ]
  },
  {
   "cell_type": "code",
   "execution_count": 31,
   "id": "337d41fe",
   "metadata": {},
   "outputs": [],
   "source": [
    "df.to_csv(\"../data/tweets_with_sentiment_cryptobert.csv\", index=False)"
   ]
  }
 ],
 "metadata": {
  "kernelspec": {
   "display_name": "venv (3.13.3)",
   "language": "python",
   "name": "python3"
  },
  "language_info": {
   "codemirror_mode": {
    "name": "ipython",
    "version": 3
   },
   "file_extension": ".py",
   "mimetype": "text/x-python",
   "name": "python",
   "nbconvert_exporter": "python",
   "pygments_lexer": "ipython3",
   "version": "3.13.3"
  }
 },
 "nbformat": 4,
 "nbformat_minor": 5
}
